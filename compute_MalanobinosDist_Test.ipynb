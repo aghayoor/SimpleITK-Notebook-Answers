{
 "cells": [
  {
   "cell_type": "code",
   "execution_count": 2,
   "metadata": {
    "collapsed": false
   },
   "outputs": [
    {
     "name": "stdout",
     "output_type": "stream",
     "text": [
      "SimpleITK Version: 0.9.1\n",
      "Compiled: Sep 28 2015 10:07:41\n",
      "\n"
     ]
    }
   ],
   "source": [
    "## Boiler plate code common to many notebooks.  See the TestFilesCommonCode.ipynb for details\n",
    "from __future__ import print_function\n",
    "%run TestFilesCommonCode.ipynb"
   ]
  },
  {
   "cell_type": "code",
   "execution_count": 3,
   "metadata": {
    "collapsed": false
   },
   "outputs": [],
   "source": [
    "import numpy as np\n",
    "import pandas as pd\n",
    "from ggplot import *"
   ]
  },
  {
   "cell_type": "code",
   "execution_count": 9,
   "metadata": {
    "collapsed": false
   },
   "outputs": [
    {
     "name": "stdout",
     "output_type": "stream",
     "text": [
      "[0.125, 0.15, 0.2, 0.25, 0.3, 0.35, 0.4, 0.425] [0.125, 0.2, 0.1, 0.25, 0.15, 0.3, 0.2, 0.275]\n"
     ]
    },
    {
     "data": {
      "text/plain": [
       "array([[ 0.125,  0.125],\n",
       "       [ 0.15 ,  0.2  ],\n",
       "       [ 0.2  ,  0.1  ],\n",
       "       [ 0.25 ,  0.25 ],\n",
       "       [ 0.3  ,  0.15 ],\n",
       "       [ 0.35 ,  0.3  ],\n",
       "       [ 0.4  ,  0.2  ],\n",
       "       [ 0.425,  0.275]])"
      ]
     },
     "execution_count": 9,
     "metadata": {},
     "output_type": "execute_result"
    }
   ],
   "source": [
    "### TEST\n",
    "x=[0.125, 0.15, 0.2, 0.25, 0.3, 0.35, 0.4, 0.425]\n",
    "y=[0.125, 0.2, 0.1, 0.25, 0.15, 0.3, 0.2, 0.275]\n",
    "\n",
    "#x = [0.1, 0.15, 0.125, 0.1]\n",
    "#y = [0.1, 0.1, 0.15, 0.6]\n",
    "\n",
    "#x = [0.1, 0.15, 0.15, 0.2, 0.25, 0.1]\n",
    "#y = [0.1, 0.1, 0.15, 0.2, 0.25, 0.4]\n",
    "\n",
    "#a = 0.05\n",
    "#x = [a, a, 3*a, 3*a]\n",
    "#y = [a, 3*a, a, 3*a]\n",
    "\n",
    "#x=[0.1,0.1,0.1,0.1]\n",
    "#y=[0.1,0.12,0.15,0.8]\n",
    "\n",
    "print(x, y)\n",
    "xy = np.transpose([x, y])\n",
    "xy"
   ]
  },
  {
   "cell_type": "code",
   "execution_count": 10,
   "metadata": {
    "collapsed": false
   },
   "outputs": [
    {
     "data": {
      "text/html": [
       "<div>\n",
       "<table border=\"1\" class=\"dataframe\">\n",
       "  <thead>\n",
       "    <tr style=\"text-align: right;\">\n",
       "      <th></th>\n",
       "      <th>X</th>\n",
       "      <th>Y</th>\n",
       "    </tr>\n",
       "  </thead>\n",
       "  <tbody>\n",
       "    <tr>\n",
       "      <th>0</th>\n",
       "      <td>0.125</td>\n",
       "      <td>0.125</td>\n",
       "    </tr>\n",
       "    <tr>\n",
       "      <th>1</th>\n",
       "      <td>0.150</td>\n",
       "      <td>0.200</td>\n",
       "    </tr>\n",
       "    <tr>\n",
       "      <th>2</th>\n",
       "      <td>0.200</td>\n",
       "      <td>0.100</td>\n",
       "    </tr>\n",
       "    <tr>\n",
       "      <th>3</th>\n",
       "      <td>0.250</td>\n",
       "      <td>0.250</td>\n",
       "    </tr>\n",
       "    <tr>\n",
       "      <th>4</th>\n",
       "      <td>0.300</td>\n",
       "      <td>0.150</td>\n",
       "    </tr>\n",
       "    <tr>\n",
       "      <th>5</th>\n",
       "      <td>0.350</td>\n",
       "      <td>0.300</td>\n",
       "    </tr>\n",
       "    <tr>\n",
       "      <th>6</th>\n",
       "      <td>0.400</td>\n",
       "      <td>0.200</td>\n",
       "    </tr>\n",
       "    <tr>\n",
       "      <th>7</th>\n",
       "      <td>0.425</td>\n",
       "      <td>0.275</td>\n",
       "    </tr>\n",
       "  </tbody>\n",
       "</table>\n",
       "</div>"
      ],
      "text/plain": [
       "       X      Y\n",
       "0  0.125  0.125\n",
       "1  0.150  0.200\n",
       "2  0.200  0.100\n",
       "3  0.250  0.250\n",
       "4  0.300  0.150\n",
       "5  0.350  0.300\n",
       "6  0.400  0.200\n",
       "7  0.425  0.275"
      ]
     },
     "execution_count": 10,
     "metadata": {},
     "output_type": "execute_result"
    }
   ],
   "source": [
    "DF_xy = pd.DataFrame(xy)\n",
    "DF_xy.rename(columns = lambda x: str(x), inplace=True)\n",
    "DF_xy.rename(columns={\"0\": \"X\"}, inplace=True) # rename a dfcolumn   \n",
    "DF_xy.rename(columns={\"1\": \"Y\"}, inplace=True) # rename a dfcolumn \n",
    "DF_xy"
   ]
  },
  {
   "cell_type": "code",
   "execution_count": 11,
   "metadata": {
    "collapsed": false
   },
   "outputs": [
    {
     "data": {
      "text/plain": [
       "array([[ 0.275,  0.2  ]])"
      ]
     },
     "execution_count": 11,
     "metadata": {},
     "output_type": "execute_result"
    }
   ],
   "source": [
    "xy_mean = np.array([np.mean(x), np.mean(y)])\n",
    "xy_mean.shape = [1,2]\n",
    "xy_mean"
   ]
  },
  {
   "cell_type": "code",
   "execution_count": 12,
   "metadata": {
    "collapsed": false
   },
   "outputs": [
    {
     "data": {
      "text/html": [
       "<div>\n",
       "<table border=\"1\" class=\"dataframe\">\n",
       "  <thead>\n",
       "    <tr style=\"text-align: right;\">\n",
       "      <th></th>\n",
       "      <th>X</th>\n",
       "      <th>Y</th>\n",
       "    </tr>\n",
       "  </thead>\n",
       "  <tbody>\n",
       "    <tr>\n",
       "      <th>0</th>\n",
       "      <td>0.275</td>\n",
       "      <td>0.2</td>\n",
       "    </tr>\n",
       "  </tbody>\n",
       "</table>\n",
       "</div>"
      ],
      "text/plain": [
       "       X    Y\n",
       "0  0.275  0.2"
      ]
     },
     "execution_count": 12,
     "metadata": {},
     "output_type": "execute_result"
    }
   ],
   "source": [
    "DF_xy_mean = pd.DataFrame(xy_mean)\n",
    "DF_xy_mean.rename(columns = lambda x: str(x), inplace=True)\n",
    "DF_xy_mean.rename(columns={\"0\": \"X\"}, inplace=True) # rename a dfcolumn   \n",
    "DF_xy_mean.rename(columns={\"1\": \"Y\"}, inplace=True) # rename a dfcolumn \n",
    "DF_xy_mean"
   ]
  },
  {
   "cell_type": "code",
   "execution_count": 13,
   "metadata": {
    "collapsed": false
   },
   "outputs": [
    {
     "data": {
      "image/png": "[encoded data removed]",
      "text/plain": [
       "<matplotlib.figure.Figure at 0x12e4ba550>"
      ]
     },
     "metadata": {},
     "output_type": "display_data"
    },
    {
     "data": {
      "text/plain": [
       "<ggplot: (318693521)>"
      ]
     },
     "execution_count": 13,
     "metadata": {},
     "output_type": "execute_result"
    }
   ],
   "source": [
    "ggplot(DF_xy, aes(x = 'X', y ='Y')) + \\\n",
    "    geom_point(alpha=1, size=100, color='dodgerblue') + \\\n",
    "    labs(x='First Modality', y='Second Modality', title='Scatter of points') + \\\n",
    "    geom_point(data = DF_xy_mean ,alpha=1, size = 100, color='green') + \\\n",
    "    xlim(0,1) + \\\n",
    "    ylim(0,1)"
   ]
  },
  {
   "cell_type": "code",
   "execution_count": 14,
   "metadata": {
    "collapsed": false
   },
   "outputs": [],
   "source": [
    "def MahalanobisDist(x, y):\n",
    "    covariance_xy = np.cov(x,y, rowvar=0)\n",
    "    #print(covariance_xy) # <---\n",
    "    inv_covariance_xy = np.linalg.inv(covariance_xy)\n",
    "    #print(inv_covariance_xy) # <---\n",
    "    xy_mean = np.mean(x),np.mean(y)\n",
    "    #print(xy_mean) # <---\n",
    "    x_diff = np.array([x_i - xy_mean[0] for x_i in x])\n",
    "    y_diff = np.array([y_i - xy_mean[1] for y_i in y])\n",
    "    diff_xy = np.transpose([x_diff, y_diff])\n",
    "    \n",
    "    md = []\n",
    "    for i in range(len(diff_xy)):\n",
    "        md.append(np.sqrt(np.dot(np.dot(np.transpose(diff_xy[i]),inv_covariance_xy),diff_xy[i])))\n",
    "    return md"
   ]
  },
  {
   "cell_type": "code",
   "execution_count": 15,
   "metadata": {
    "collapsed": false
   },
   "outputs": [
    {
     "data": {
      "text/plain": [
       "[1.3612278194595455,\n",
       " 1.4107430944120809,\n",
       " 1.4107430944120805,\n",
       " 1.0801234497346432,\n",
       " 1.0801234497346432,\n",
       " 1.4107430944120802,\n",
       " 1.4107430944120807,\n",
       " 1.3612278194595451]"
      ]
     },
     "execution_count": 15,
     "metadata": {},
     "output_type": "execute_result"
    }
   ],
   "source": [
    "MahalanobisDist(x,y)"
   ]
  },
  {
   "cell_type": "code",
   "execution_count": 16,
   "metadata": {
    "collapsed": false
   },
   "outputs": [],
   "source": [
    "def RemoveOutliers(x, y):\n",
    "    MD = MahalanobisDist(x, y)\n",
    "    Dist = MD\n",
    "    threshold = np.mean(Dist) * 1.5 # adjust 1.5 accordingly\n",
    "    #threshold = 0.2\n",
    "    print(threshold)\n",
    "    nx, ny = [], []\n",
    "    outliers = np.array([])\n",
    "    for i in range(len(MD)):\n",
    "        if Dist[i] >= threshold:\n",
    "            nx.append(x[i])\n",
    "            ny.append(y[i])\n",
    "    outliers = np.transpose([nx, ny]) # position of removed pair\n",
    "    return outliers"
   ]
  },
  {
   "cell_type": "code",
   "execution_count": 17,
   "metadata": {
    "collapsed": false
   },
   "outputs": [
    {
     "name": "stdout",
     "output_type": "stream",
     "text": [
      "1.97356404676\n",
      "[]\n"
     ]
    }
   ],
   "source": [
    "#print('x:', x)\n",
    "#print('y:', y)\n",
    "out_arr = RemoveOutliers(x,y)\n",
    "print(out_arr)"
   ]
  },
  {
   "cell_type": "code",
   "execution_count": 18,
   "metadata": {
    "collapsed": false
   },
   "outputs": [
    {
     "data": {
      "text/html": [
       "<div>\n",
       "<table border=\"1\" class=\"dataframe\">\n",
       "  <thead>\n",
       "    <tr style=\"text-align: right;\">\n",
       "      <th></th>\n",
       "      <th>X</th>\n",
       "      <th>Y</th>\n",
       "    </tr>\n",
       "  </thead>\n",
       "  <tbody>\n",
       "  </tbody>\n",
       "</table>\n",
       "</div>"
      ],
      "text/plain": [
       "Empty DataFrame\n",
       "Columns: [X, Y]\n",
       "Index: []"
      ]
     },
     "execution_count": 18,
     "metadata": {},
     "output_type": "execute_result"
    }
   ],
   "source": [
    "DF_out = pd.DataFrame(out_arr)\n",
    "DF_out.rename(columns = lambda x: str(x), inplace=True)\n",
    "DF_out.rename(columns={\"0\": \"X\"}, inplace=True) # rename a dfcolumn   \n",
    "DF_out.rename(columns={\"1\": \"Y\"}, inplace=True) # rename a dfcolumn \n",
    "DF_out"
   ]
  },
  {
   "cell_type": "code",
   "execution_count": 19,
   "metadata": {
    "collapsed": false
   },
   "outputs": [
    {
     "data": {
      "image/png": "[encoded data removed]",
      "text/plain": [
       "<matplotlib.figure.Figure at 0x1313292d0>"
      ]
     },
     "metadata": {},
     "output_type": "display_data"
    },
    {
     "data": {
      "text/plain": [
       "<ggplot: (320057569)>"
      ]
     },
     "execution_count": 19,
     "metadata": {},
     "output_type": "execute_result"
    }
   ],
   "source": [
    "ggplot(DF_xy, aes(x = 'X', y ='Y')) + \\\n",
    "    labs(x='First Modality', y='Second Modality', title='Scatter of points') + \\\n",
    "    geom_point(alpha=1, size=100, color='dodgerblue') + \\\n",
    "    geom_point(data = DF_out, alpha=1, size = 100, color='red') + \\\n",
    "    geom_point(data = DF_xy_mean ,alpha=1, size = 100, color='green')+ \\\n",
    "    xlim(0,1) + \\\n",
    "    ylim(0,1)"
   ]
  },
  {
   "cell_type": "code",
   "execution_count": 20,
   "metadata": {
    "collapsed": false
   },
   "outputs": [
    {
     "name": "stdout",
     "output_type": "stream",
     "text": [
      "[[ 0.01267857  0.005     ]\n",
      " [ 0.005       0.00517857]]\n",
      "4.06568877551e-05\n"
     ]
    }
   ],
   "source": [
    "covariance_xy = np.cov(x,y, rowvar=0)\n",
    "print(covariance_xy)\n",
    "print(np.linalg.det(covariance_xy))"
   ]
  },
  {
   "cell_type": "code",
   "execution_count": null,
   "metadata": {
    "collapsed": true
   },
   "outputs": [],
   "source": []
  }
 ],
 "metadata": {
  "kernelspec": {
   "display_name": "Python 2",
   "language": "python",
   "name": "python2"
  },
  "language_info": {
   "codemirror_mode": {
    "name": "ipython",
    "version": 2
   },
   "file_extension": ".py",
   "mimetype": "text/x-python",
   "name": "python",
   "nbconvert_exporter": "python",
   "pygments_lexer": "ipython2",
   "version": "2.7.11"
  }
 },
 "nbformat": 4,
 "nbformat_minor": 0
}
