{
 "cells": [
  {
   "cell_type": "markdown",
   "metadata": {},
   "source": [
    "The input data spreadsheets:\n",
    "\n",
    "\"training_data.csv\":\n",
    "There are 6950 training subjects. We are interested in predicting INBGR from the 62 IQMs. We are going to test random forest regression.\n",
    "\n",
    "training_data.csv was generated from step1: Invicro_generate_training_dataset.ipynb"
   ]
  },
  {
   "cell_type": "code",
   "execution_count": 1,
   "metadata": {},
   "outputs": [],
   "source": [
    "import pandas as pd  \n",
    "import numpy as np\n",
    "import matplotlib.pyplot as plt  \n",
    "import seaborn as seabornInstance \n",
    "from sklearn.model_selection import train_test_split \n",
    "from sklearn.linear_model import LinearRegression\n",
    "from sklearn.linear_model import Lasso\n",
    "from sklearn.ensemble import RandomForestRegressor\n",
    "from sklearn import metrics\n",
    "%matplotlib inline"
   ]
  },
  {
   "cell_type": "code",
   "execution_count": 2,
   "metadata": {},
   "outputs": [
    {
     "data": {
      "text/plain": [
       "(6950, 76)"
      ]
     },
     "execution_count": 2,
     "metadata": {},
     "output_type": "execute_result"
    }
   ],
   "source": [
    "csv_fn='./training_data.csv'\n",
    "training_df = pd.read_csv(csv_fn)\n",
    "training_df.shape"
   ]
  },
  {
   "cell_type": "code",
   "execution_count": 3,
   "metadata": {},
   "outputs": [
    {
     "data": {
      "text/plain": [
       "Series               False\n",
       "SeriesDescription    False\n",
       "cjv                  False\n",
       "cnr                  False\n",
       "efc                  False\n",
       "                     ...  \n",
       "HEADCOVER            False\n",
       "INHOMOGEN            False\n",
       "IPMOTION             False\n",
       "MARKER               False\n",
       "PASS                 False\n",
       "Length: 76, dtype: bool"
      ]
     },
     "execution_count": 3,
     "metadata": {},
     "output_type": "execute_result"
    }
   ],
   "source": [
    "# check which columns contain NaN values\n",
    "training_df.isnull().any()"
   ]
  },
  {
   "cell_type": "code",
   "execution_count": 4,
   "metadata": {},
   "outputs": [],
   "source": [
    "# if any column shows True, you should remove columns with the nan value\n",
    "# training_df = training_df.fillna(method='ffill')"
   ]
  },
  {
   "cell_type": "code",
   "execution_count": 5,
   "metadata": {},
   "outputs": [
    {
     "data": {
      "text/html": [
       "<div>\n",
       "<style scoped>\n",
       "    .dataframe tbody tr th:only-of-type {\n",
       "        vertical-align: middle;\n",
       "    }\n",
       "\n",
       "    .dataframe tbody tr th {\n",
       "        vertical-align: top;\n",
       "    }\n",
       "\n",
       "    .dataframe thead th {\n",
       "        text-align: right;\n",
       "    }\n",
       "</style>\n",
       "<table border=\"1\" class=\"dataframe\">\n",
       "  <thead>\n",
       "    <tr style=\"text-align: right;\">\n",
       "      <th></th>\n",
       "      <th>cjv</th>\n",
       "      <th>cnr</th>\n",
       "      <th>efc</th>\n",
       "      <th>fber</th>\n",
       "      <th>fwhm_avg</th>\n",
       "      <th>fwhm_x</th>\n",
       "      <th>fwhm_y</th>\n",
       "      <th>fwhm_z</th>\n",
       "      <th>icvs_csf</th>\n",
       "      <th>icvs_gm</th>\n",
       "      <th>...</th>\n",
       "      <th>INFLOW</th>\n",
       "      <th>OUTFLOW</th>\n",
       "      <th>INOTHER</th>\n",
       "      <th>OUTOTHER</th>\n",
       "      <th>WRAP</th>\n",
       "      <th>HEADCOVER</th>\n",
       "      <th>INHOMOGEN</th>\n",
       "      <th>IPMOTION</th>\n",
       "      <th>MARKER</th>\n",
       "      <th>PASS</th>\n",
       "    </tr>\n",
       "  </thead>\n",
       "  <tbody>\n",
       "    <tr>\n",
       "      <th>count</th>\n",
       "      <td>6950.000000</td>\n",
       "      <td>6950.000000</td>\n",
       "      <td>6950.000000</td>\n",
       "      <td>6950.000000</td>\n",
       "      <td>6950.000000</td>\n",
       "      <td>6950.000000</td>\n",
       "      <td>6950.000000</td>\n",
       "      <td>6950.000000</td>\n",
       "      <td>6950.000000</td>\n",
       "      <td>6950.000000</td>\n",
       "      <td>...</td>\n",
       "      <td>6950.000000</td>\n",
       "      <td>6950.000000</td>\n",
       "      <td>6950.000000</td>\n",
       "      <td>6950.000000</td>\n",
       "      <td>6950.000000</td>\n",
       "      <td>6950.000000</td>\n",
       "      <td>6950.000000</td>\n",
       "      <td>6950.0</td>\n",
       "      <td>6950.000000</td>\n",
       "      <td>6950.000000</td>\n",
       "    </tr>\n",
       "    <tr>\n",
       "      <th>mean</th>\n",
       "      <td>0.506589</td>\n",
       "      <td>2.653509</td>\n",
       "      <td>0.608864</td>\n",
       "      <td>1302.935511</td>\n",
       "      <td>3.216637</td>\n",
       "      <td>3.000013</td>\n",
       "      <td>3.492141</td>\n",
       "      <td>3.157757</td>\n",
       "      <td>0.232655</td>\n",
       "      <td>0.386209</td>\n",
       "      <td>...</td>\n",
       "      <td>0.383597</td>\n",
       "      <td>0.770072</td>\n",
       "      <td>0.029928</td>\n",
       "      <td>0.060000</td>\n",
       "      <td>0.305324</td>\n",
       "      <td>-0.002302</td>\n",
       "      <td>0.914964</td>\n",
       "      <td>-4.0</td>\n",
       "      <td>0.227626</td>\n",
       "      <td>0.975683</td>\n",
       "    </tr>\n",
       "    <tr>\n",
       "      <th>std</th>\n",
       "      <td>0.090549</td>\n",
       "      <td>0.459222</td>\n",
       "      <td>0.039450</td>\n",
       "      <td>5188.942354</td>\n",
       "      <td>0.448948</td>\n",
       "      <td>0.216474</td>\n",
       "      <td>0.622949</td>\n",
       "      <td>0.558836</td>\n",
       "      <td>0.019313</td>\n",
       "      <td>0.021665</td>\n",
       "      <td>...</td>\n",
       "      <td>0.598281</td>\n",
       "      <td>0.625244</td>\n",
       "      <td>0.209768</td>\n",
       "      <td>0.314649</td>\n",
       "      <td>0.531373</td>\n",
       "      <td>0.095941</td>\n",
       "      <td>0.298879</td>\n",
       "      <td>0.0</td>\n",
       "      <td>0.632944</td>\n",
       "      <td>0.155898</td>\n",
       "    </tr>\n",
       "    <tr>\n",
       "      <th>min</th>\n",
       "      <td>0.310715</td>\n",
       "      <td>0.702550</td>\n",
       "      <td>0.466283</td>\n",
       "      <td>1.408616</td>\n",
       "      <td>1.851547</td>\n",
       "      <td>1.275178</td>\n",
       "      <td>2.263096</td>\n",
       "      <td>1.534011</td>\n",
       "      <td>0.172994</td>\n",
       "      <td>0.050104</td>\n",
       "      <td>...</td>\n",
       "      <td>-1.000000</td>\n",
       "      <td>-1.000000</td>\n",
       "      <td>-1.000000</td>\n",
       "      <td>-1.000000</td>\n",
       "      <td>-1.000000</td>\n",
       "      <td>-1.000000</td>\n",
       "      <td>-1.000000</td>\n",
       "      <td>-4.0</td>\n",
       "      <td>-1.000000</td>\n",
       "      <td>-1.000000</td>\n",
       "    </tr>\n",
       "    <tr>\n",
       "      <th>25%</th>\n",
       "      <td>0.442852</td>\n",
       "      <td>2.351951</td>\n",
       "      <td>0.581506</td>\n",
       "      <td>50.544709</td>\n",
       "      <td>2.789447</td>\n",
       "      <td>2.844753</td>\n",
       "      <td>2.860779</td>\n",
       "      <td>2.603452</td>\n",
       "      <td>0.220836</td>\n",
       "      <td>0.372907</td>\n",
       "      <td>...</td>\n",
       "      <td>0.000000</td>\n",
       "      <td>0.000000</td>\n",
       "      <td>0.000000</td>\n",
       "      <td>0.000000</td>\n",
       "      <td>0.000000</td>\n",
       "      <td>0.000000</td>\n",
       "      <td>1.000000</td>\n",
       "      <td>-4.0</td>\n",
       "      <td>0.000000</td>\n",
       "      <td>1.000000</td>\n",
       "    </tr>\n",
       "    <tr>\n",
       "      <th>50%</th>\n",
       "      <td>0.490205</td>\n",
       "      <td>2.660660</td>\n",
       "      <td>0.608856</td>\n",
       "      <td>89.864006</td>\n",
       "      <td>3.302929</td>\n",
       "      <td>3.002792</td>\n",
       "      <td>3.644010</td>\n",
       "      <td>3.265577</td>\n",
       "      <td>0.231513</td>\n",
       "      <td>0.386609</td>\n",
       "      <td>...</td>\n",
       "      <td>0.000000</td>\n",
       "      <td>1.000000</td>\n",
       "      <td>0.000000</td>\n",
       "      <td>0.000000</td>\n",
       "      <td>0.000000</td>\n",
       "      <td>0.000000</td>\n",
       "      <td>1.000000</td>\n",
       "      <td>-4.0</td>\n",
       "      <td>0.000000</td>\n",
       "      <td>1.000000</td>\n",
       "    </tr>\n",
       "    <tr>\n",
       "      <th>75%</th>\n",
       "      <td>0.549912</td>\n",
       "      <td>2.964434</td>\n",
       "      <td>0.635184</td>\n",
       "      <td>190.723816</td>\n",
       "      <td>3.589705</td>\n",
       "      <td>3.146459</td>\n",
       "      <td>4.014019</td>\n",
       "      <td>3.638243</td>\n",
       "      <td>0.243224</td>\n",
       "      <td>0.399810</td>\n",
       "      <td>...</td>\n",
       "      <td>1.000000</td>\n",
       "      <td>1.000000</td>\n",
       "      <td>0.000000</td>\n",
       "      <td>0.000000</td>\n",
       "      <td>1.000000</td>\n",
       "      <td>0.000000</td>\n",
       "      <td>1.000000</td>\n",
       "      <td>-4.0</td>\n",
       "      <td>0.000000</td>\n",
       "      <td>1.000000</td>\n",
       "    </tr>\n",
       "    <tr>\n",
       "      <th>max</th>\n",
       "      <td>1.056506</td>\n",
       "      <td>4.204148</td>\n",
       "      <td>0.845217</td>\n",
       "      <td>112390.585938</td>\n",
       "      <td>6.040375</td>\n",
       "      <td>4.048335</td>\n",
       "      <td>7.947968</td>\n",
       "      <td>6.124821</td>\n",
       "      <td>0.556633</td>\n",
       "      <td>0.487902</td>\n",
       "      <td>...</td>\n",
       "      <td>3.000000</td>\n",
       "      <td>3.000000</td>\n",
       "      <td>3.000000</td>\n",
       "      <td>3.000000</td>\n",
       "      <td>4.000000</td>\n",
       "      <td>2.000000</td>\n",
       "      <td>2.000000</td>\n",
       "      <td>-4.0</td>\n",
       "      <td>2.000000</td>\n",
       "      <td>1.000000</td>\n",
       "    </tr>\n",
       "  </tbody>\n",
       "</table>\n",
       "<p>8 rows × 74 columns</p>\n",
       "</div>"
      ],
      "text/plain": [
       "               cjv          cnr          efc           fber     fwhm_avg  \\\n",
       "count  6950.000000  6950.000000  6950.000000    6950.000000  6950.000000   \n",
       "mean      0.506589     2.653509     0.608864    1302.935511     3.216637   \n",
       "std       0.090549     0.459222     0.039450    5188.942354     0.448948   \n",
       "min       0.310715     0.702550     0.466283       1.408616     1.851547   \n",
       "25%       0.442852     2.351951     0.581506      50.544709     2.789447   \n",
       "50%       0.490205     2.660660     0.608856      89.864006     3.302929   \n",
       "75%       0.549912     2.964434     0.635184     190.723816     3.589705   \n",
       "max       1.056506     4.204148     0.845217  112390.585938     6.040375   \n",
       "\n",
       "            fwhm_x       fwhm_y       fwhm_z     icvs_csf      icvs_gm  ...  \\\n",
       "count  6950.000000  6950.000000  6950.000000  6950.000000  6950.000000  ...   \n",
       "mean      3.000013     3.492141     3.157757     0.232655     0.386209  ...   \n",
       "std       0.216474     0.622949     0.558836     0.019313     0.021665  ...   \n",
       "min       1.275178     2.263096     1.534011     0.172994     0.050104  ...   \n",
       "25%       2.844753     2.860779     2.603452     0.220836     0.372907  ...   \n",
       "50%       3.002792     3.644010     3.265577     0.231513     0.386609  ...   \n",
       "75%       3.146459     4.014019     3.638243     0.243224     0.399810  ...   \n",
       "max       4.048335     7.947968     6.124821     0.556633     0.487902  ...   \n",
       "\n",
       "            INFLOW      OUTFLOW      INOTHER     OUTOTHER         WRAP  \\\n",
       "count  6950.000000  6950.000000  6950.000000  6950.000000  6950.000000   \n",
       "mean      0.383597     0.770072     0.029928     0.060000     0.305324   \n",
       "std       0.598281     0.625244     0.209768     0.314649     0.531373   \n",
       "min      -1.000000    -1.000000    -1.000000    -1.000000    -1.000000   \n",
       "25%       0.000000     0.000000     0.000000     0.000000     0.000000   \n",
       "50%       0.000000     1.000000     0.000000     0.000000     0.000000   \n",
       "75%       1.000000     1.000000     0.000000     0.000000     1.000000   \n",
       "max       3.000000     3.000000     3.000000     3.000000     4.000000   \n",
       "\n",
       "         HEADCOVER    INHOMOGEN  IPMOTION       MARKER         PASS  \n",
       "count  6950.000000  6950.000000    6950.0  6950.000000  6950.000000  \n",
       "mean     -0.002302     0.914964      -4.0     0.227626     0.975683  \n",
       "std       0.095941     0.298879       0.0     0.632944     0.155898  \n",
       "min      -1.000000    -1.000000      -4.0    -1.000000    -1.000000  \n",
       "25%       0.000000     1.000000      -4.0     0.000000     1.000000  \n",
       "50%       0.000000     1.000000      -4.0     0.000000     1.000000  \n",
       "75%       0.000000     1.000000      -4.0     0.000000     1.000000  \n",
       "max       2.000000     2.000000      -4.0     2.000000     1.000000  \n",
       "\n",
       "[8 rows x 74 columns]"
      ]
     },
     "execution_count": 5,
     "metadata": {},
     "output_type": "execute_result"
    }
   ],
   "source": [
    "training_df.describe()"
   ]
  },
  {
   "cell_type": "code",
   "execution_count": 6,
   "metadata": {},
   "outputs": [
    {
     "data": {
      "text/plain": [
       "<matplotlib.axes._subplots.AxesSubplot at 0x108763050>"
      ]
     },
     "execution_count": 6,
     "metadata": {},
     "output_type": "execute_result"
    },
    {
     "data": {
      "image/png": "[encoded data removed]",
      "text/plain": [
       "<Figure size 1080x720 with 1 Axes>"
      ]
     },
     "metadata": {
      "needs_background": "light"
     },
     "output_type": "display_data"
    }
   ],
   "source": [
    "# check the disribution of INBGR\n",
    "inbgr_mean = np.mean(training_df['INBGR'].values)\n",
    "zeros = (training_df['INBGR'] == 0).astype(int).sum(axis=0)\n",
    "ones = (training_df['INBGR'] == 1).astype(int).sum(axis=0)\n",
    "twos = (training_df['INBGR'] == 2).astype(int).sum(axis=0)\n",
    "threes = (training_df['INBGR'] == 3).astype(int).sum(axis=0)\n",
    "total = zeros + ones + twos + threes\n",
    "\n",
    "plt.figure(figsize=(15,10))\n",
    "plt.tight_layout()\n",
    "plt.title('Average of INBGR: {:1.3f}'.format(inbgr_mean))\n",
    "plt.text(1,5,\"Zero:{}  One:{}  Two:{}   Three:{} ; TOTAL:{}\".format(zeros,ones,twos,threes,total), style='italic',\n",
    "        bbox={'facecolor': 'red', 'alpha': 0.5, 'pad': 10})\n",
    "\n",
    "## plot kde\n",
    "plt.ylabel('pdf')\n",
    "seabornInstance.distplot(training_df['INBGR'])\n",
    "\n",
    "## plot histogram\n",
    "#plt.ylabel('histogram')\n",
    "#seabornInstance.distplot(training_df['INBGR'], hist=True, kde=False)"
   ]
  },
  {
   "cell_type": "code",
   "execution_count": 7,
   "metadata": {},
   "outputs": [
    {
     "data": {
      "image/png": "[encoded data removed]",
      "text/plain": [
       "<Figure size 432x288 with 1 Axes>"
      ]
     },
     "metadata": {
      "needs_background": "light"
     },
     "output_type": "display_data"
    }
   ],
   "source": [
    "# Check how each mriqc measure is related to INBGR or eachother\n",
    "xlabel = 'qi_2'\n",
    "ylabel = 'INBGR'\n",
    "title = xlabel + ' vs ' + ylabel\n",
    "training_df.plot(x=xlabel, y=ylabel, style='o')  \n",
    "plt.title(title)\n",
    "plt.xlabel(xlabel)  \n",
    "plt.ylabel(ylabel)  \n",
    "plt.show()"
   ]
  },
  {
   "cell_type": "markdown",
   "metadata": {},
   "source": [
    "# Set test/training data"
   ]
  },
  {
   "cell_type": "code",
   "execution_count": 8,
   "metadata": {},
   "outputs": [
    {
     "name": "stdout",
     "output_type": "stream",
     "text": [
      "[[0, 'Series'], [1, 'SeriesDescription'], [2, 'cjv'], [3, 'cnr'], [4, 'efc'], [5, 'fber'], [6, 'fwhm_avg'], [7, 'fwhm_x'], [8, 'fwhm_y'], [9, 'fwhm_z'], [10, 'icvs_csf'], [11, 'icvs_gm'], [12, 'icvs_wm'], [13, 'inu_med'], [14, 'inu_range'], [15, 'qi_1'], [16, 'qi_2'], [17, 'rpve_csf'], [18, 'rpve_gm'], [19, 'rpve_wm'], [20, 'snr_csf'], [21, 'snr_gm'], [22, 'snr_total'], [23, 'snr_wm'], [24, 'snrd_csf'], [25, 'snrd_gm'], [26, 'snrd_total'], [27, 'snrd_wm'], [28, 'summary_bg_k'], [29, 'summary_bg_mad'], [30, 'summary_bg_mean'], [31, 'summary_bg_median'], [32, 'summary_bg_n'], [33, 'summary_bg_p05'], [34, 'summary_bg_p95'], [35, 'summary_bg_stdv'], [36, 'summary_csf_k'], [37, 'summary_csf_mad'], [38, 'summary_csf_mean'], [39, 'summary_csf_median'], [40, 'summary_csf_n'], [41, 'summary_csf_p05'], [42, 'summary_csf_p95'], [43, 'summary_csf_stdv'], [44, 'summary_gm_k'], [45, 'summary_gm_mad'], [46, 'summary_gm_mean'], [47, 'summary_gm_median'], [48, 'summary_gm_n'], [49, 'summary_gm_p05'], [50, 'summary_gm_p95'], [51, 'summary_gm_stdv'], [52, 'summary_wm_k'], [53, 'summary_wm_mad'], [54, 'summary_wm_mean'], [55, 'summary_wm_median'], [56, 'summary_wm_n'], [57, 'summary_wm_p05'], [58, 'summary_wm_p95'], [59, 'summary_wm_stdv'], [60, 'tpm_overlap_csf'], [61, 'tpm_overlap_gm'], [62, 'tpm_overlap_wm'], [63, 'wm2max'], [64, 'INBGR'], [65, 'OUTBGR'], [66, 'INFLOW'], [67, 'OUTFLOW'], [68, 'INOTHER'], [69, 'OUTOTHER'], [70, 'WRAP'], [71, 'HEADCOVER'], [72, 'INHOMOGEN'], [73, 'IPMOTION'], [74, 'MARKER'], [75, 'PASS']]\n"
     ]
    }
   ],
   "source": [
    "headerlist = training_df.columns.values.tolist()\n",
    "# print headers to find the index of the columns of interest\n",
    "print ([list((i, headerlist[i])) for i in range(len(headerlist))])"
   ]
  },
  {
   "cell_type": "code",
   "execution_count": 9,
   "metadata": {},
   "outputs": [],
   "source": [
    "predictors = headerlist[2:64]\n",
    "X = training_df[predictors].values\n",
    "y = training_df['INBGR'].values\n",
    "# split 80% of the data to the training set while 20% of the data to test set\n",
    "# Because data is imbalance use stratify in test_train_split\n",
    "X_train, X_test, y_train, y_test = train_test_split(X, y, stratify = y, test_size = 0.2, random_state = 0)"
   ]
  },
  {
   "cell_type": "code",
   "execution_count": 10,
   "metadata": {},
   "outputs": [
    {
     "name": "stdout",
     "output_type": "stream",
     "text": [
      "(5560, 62)\n",
      "(1390, 62)\n",
      "(5560,)\n",
      "(1390,)\n",
      "35\n"
     ]
    }
   ],
   "source": [
    "print(X_train.shape)\n",
    "print(X_test.shape)\n",
    "print(y_train.shape)\n",
    "print(y_test.shape)\n",
    "threes = (y_train == 3).astype(int).sum(axis=0)\n",
    "print(threes)"
   ]
  },
  {
   "cell_type": "markdown",
   "metadata": {},
   "source": [
    "# Multivariate Linear Regression"
   ]
  },
  {
   "cell_type": "code",
   "execution_count": 12,
   "metadata": {},
   "outputs": [
    {
     "data": {
      "text/html": [
       "<div>\n",
       "<style scoped>\n",
       "    .dataframe tbody tr th:only-of-type {\n",
       "        vertical-align: middle;\n",
       "    }\n",
       "\n",
       "    .dataframe tbody tr th {\n",
       "        vertical-align: top;\n",
       "    }\n",
       "\n",
       "    .dataframe thead th {\n",
       "        text-align: right;\n",
       "    }\n",
       "</style>\n",
       "<table border=\"1\" class=\"dataframe\">\n",
       "  <thead>\n",
       "    <tr style=\"text-align: right;\">\n",
       "      <th></th>\n",
       "      <th>Actual</th>\n",
       "      <th>Predicted</th>\n",
       "    </tr>\n",
       "  </thead>\n",
       "  <tbody>\n",
       "    <tr>\n",
       "      <th>0</th>\n",
       "      <td>0.0</td>\n",
       "      <td>0.514341</td>\n",
       "    </tr>\n",
       "    <tr>\n",
       "      <th>1</th>\n",
       "      <td>0.0</td>\n",
       "      <td>0.407907</td>\n",
       "    </tr>\n",
       "    <tr>\n",
       "      <th>2</th>\n",
       "      <td>0.0</td>\n",
       "      <td>0.321212</td>\n",
       "    </tr>\n",
       "    <tr>\n",
       "      <th>3</th>\n",
       "      <td>0.0</td>\n",
       "      <td>0.997424</td>\n",
       "    </tr>\n",
       "    <tr>\n",
       "      <th>4</th>\n",
       "      <td>0.0</td>\n",
       "      <td>0.113044</td>\n",
       "    </tr>\n",
       "    <tr>\n",
       "      <th>...</th>\n",
       "      <td>...</td>\n",
       "      <td>...</td>\n",
       "    </tr>\n",
       "    <tr>\n",
       "      <th>1385</th>\n",
       "      <td>2.0</td>\n",
       "      <td>0.738539</td>\n",
       "    </tr>\n",
       "    <tr>\n",
       "      <th>1386</th>\n",
       "      <td>1.0</td>\n",
       "      <td>0.206178</td>\n",
       "    </tr>\n",
       "    <tr>\n",
       "      <th>1387</th>\n",
       "      <td>1.0</td>\n",
       "      <td>0.353976</td>\n",
       "    </tr>\n",
       "    <tr>\n",
       "      <th>1388</th>\n",
       "      <td>1.0</td>\n",
       "      <td>1.112579</td>\n",
       "    </tr>\n",
       "    <tr>\n",
       "      <th>1389</th>\n",
       "      <td>2.0</td>\n",
       "      <td>0.858637</td>\n",
       "    </tr>\n",
       "  </tbody>\n",
       "</table>\n",
       "<p>1390 rows × 2 columns</p>\n",
       "</div>"
      ],
      "text/plain": [
       "      Actual  Predicted\n",
       "0        0.0   0.514341\n",
       "1        0.0   0.407907\n",
       "2        0.0   0.321212\n",
       "3        0.0   0.997424\n",
       "4        0.0   0.113044\n",
       "...      ...        ...\n",
       "1385     2.0   0.738539\n",
       "1386     1.0   0.206178\n",
       "1387     1.0   0.353976\n",
       "1388     1.0   1.112579\n",
       "1389     2.0   0.858637\n",
       "\n",
       "[1390 rows x 2 columns]"
      ]
     },
     "execution_count": 12,
     "metadata": {},
     "output_type": "execute_result"
    }
   ],
   "source": [
    "#training the algorithm\n",
    "lm_model = LinearRegression()  \n",
    "lm_model.fit(X_train, y_train)\n",
    "\n",
    "y_pred_lm = lm_model.predict(X_test)\n",
    "# Comparison between Actual and Predicted value\n",
    "df = pd.DataFrame({'Actual': y_test, 'Predicted': y_pred_lm})\n",
    "df"
   ]
  },
  {
   "cell_type": "code",
   "execution_count": 13,
   "metadata": {},
   "outputs": [
    {
     "data": {
      "image/png": "[encoded data removed]",
      "text/plain": [
       "<Figure size 720x576 with 1 Axes>"
      ]
     },
     "metadata": {
      "needs_background": "light"
     },
     "output_type": "display_data"
    }
   ],
   "source": [
    "# plot some actual vs predicted samples\n",
    "df1 = df.head(50)\n",
    "df1.plot(kind='bar',figsize=(10,8))\n",
    "plt.grid(which='major', linestyle='-', linewidth='0.5', color='green')\n",
    "plt.grid(which='minor', linestyle=':', linewidth='0.5', color='black')\n",
    "plt.show()"
   ]
  },
  {
   "cell_type": "code",
   "execution_count": 14,
   "metadata": {},
   "outputs": [
    {
     "data": {
      "text/html": [
       "<div>\n",
       "<style scoped>\n",
       "    .dataframe tbody tr th:only-of-type {\n",
       "        vertical-align: middle;\n",
       "    }\n",
       "\n",
       "    .dataframe tbody tr th {\n",
       "        vertical-align: top;\n",
       "    }\n",
       "\n",
       "    .dataframe thead th {\n",
       "        text-align: right;\n",
       "    }\n",
       "</style>\n",
       "<table border=\"1\" class=\"dataframe\">\n",
       "  <thead>\n",
       "    <tr style=\"text-align: right;\">\n",
       "      <th></th>\n",
       "      <th>Coefficient</th>\n",
       "    </tr>\n",
       "  </thead>\n",
       "  <tbody>\n",
       "    <tr>\n",
       "      <th>icvs_csf</th>\n",
       "      <td>7.203463e+00</td>\n",
       "    </tr>\n",
       "    <tr>\n",
       "      <th>qi_1</th>\n",
       "      <td>5.691316e+00</td>\n",
       "    </tr>\n",
       "    <tr>\n",
       "      <th>icvs_wm</th>\n",
       "      <td>-4.616723e+00</td>\n",
       "    </tr>\n",
       "    <tr>\n",
       "      <th>icvs_gm</th>\n",
       "      <td>-2.586739e+00</td>\n",
       "    </tr>\n",
       "    <tr>\n",
       "      <th>tpm_overlap_csf</th>\n",
       "      <td>2.395149e+00</td>\n",
       "    </tr>\n",
       "    <tr>\n",
       "      <th>...</th>\n",
       "      <td>...</td>\n",
       "    </tr>\n",
       "    <tr>\n",
       "      <th>summary_wm_n</th>\n",
       "      <td>-5.032199e-06</td>\n",
       "    </tr>\n",
       "    <tr>\n",
       "      <th>summary_bg_k</th>\n",
       "      <td>-1.748254e-06</td>\n",
       "    </tr>\n",
       "    <tr>\n",
       "      <th>summary_gm_n</th>\n",
       "      <td>7.729115e-07</td>\n",
       "    </tr>\n",
       "    <tr>\n",
       "      <th>fber</th>\n",
       "      <td>2.258298e-07</td>\n",
       "    </tr>\n",
       "    <tr>\n",
       "      <th>summary_bg_n</th>\n",
       "      <td>8.547486e-08</td>\n",
       "    </tr>\n",
       "  </tbody>\n",
       "</table>\n",
       "<p>62 rows × 1 columns</p>\n",
       "</div>"
      ],
      "text/plain": [
       "                  Coefficient\n",
       "icvs_csf         7.203463e+00\n",
       "qi_1             5.691316e+00\n",
       "icvs_wm         -4.616723e+00\n",
       "icvs_gm         -2.586739e+00\n",
       "tpm_overlap_csf  2.395149e+00\n",
       "...                       ...\n",
       "summary_wm_n    -5.032199e-06\n",
       "summary_bg_k    -1.748254e-06\n",
       "summary_gm_n     7.729115e-07\n",
       "fber             2.258298e-07\n",
       "summary_bg_n     8.547486e-08\n",
       "\n",
       "[62 rows x 1 columns]"
      ]
     },
     "execution_count": 14,
     "metadata": {},
     "output_type": "execute_result"
    }
   ],
   "source": [
    "# Find linear regression coefficient for each predictor\n",
    "coeff_df = pd.DataFrame(lm_model.coef_, training_df[predictors].columns, columns=['Coefficient'])\n",
    "\n",
    "#pd.set_option('display.max_rows', None)\n",
    "#display(coeff_df)\n",
    "\n",
    "# sort values based on coef\n",
    "#coeff_df.sort_values(by=['Coefficient'])\n",
    "\n",
    "# sort values based on absolute value of coef\n",
    "coeff_df_sorted = coeff_df.reindex(coeff_df.Coefficient.abs().sort_values(ascending=False).index)\n",
    "coeff_df_sorted"
   ]
  },
  {
   "cell_type": "code",
   "execution_count": 15,
   "metadata": {},
   "outputs": [
    {
     "name": "stderr",
     "output_type": "stream",
     "text": [
      "No handles with labels found to put in legend.\n"
     ]
    },
    {
     "data": {
      "image/png": "[encoded data removed]",
      "text/plain": [
       "<Figure size 432x288 with 1 Axes>"
      ]
     },
     "metadata": {
      "needs_background": "light"
     },
     "output_type": "display_data"
    }
   ],
   "source": [
    "coeffs = pd.Series(coeff_df_sorted['Coefficient'],index=coeff_df_sorted.index)\n",
    "coeffs1 = coeffs.head(15)\n",
    "# Creating a bar plot\n",
    "seabornInstance.barplot(x=coeffs1, y=coeffs1.index)\n",
    "# Add labels to your graph\n",
    "plt.xlabel('Coeficients')\n",
    "plt.ylabel('Features')\n",
    "plt.title(\"Visualizing Features with Large Coeficients for Linear Regression\")\n",
    "plt.legend()\n",
    "plt.show()"
   ]
  },
  {
   "cell_type": "code",
   "execution_count": 16,
   "metadata": {},
   "outputs": [
    {
     "name": "stdout",
     "output_type": "stream",
     "text": [
      "Mean Absolute Error: 0.42331165619337974\n",
      "Mean Squared Error: 0.3312467134487495\n",
      "Root Mean Squared Error: 0.5755403664807096\n"
     ]
    }
   ],
   "source": [
    "print('Mean Absolute Error:', metrics.mean_absolute_error(y_test, y_pred_lm))  \n",
    "print('Mean Squared Error:', metrics.mean_squared_error(y_test, y_pred_lm))\n",
    "print('Root Mean Squared Error:', np.sqrt(metrics.mean_squared_error(y_test, y_pred_lm)))"
   ]
  },
  {
   "cell_type": "code",
   "execution_count": 18,
   "metadata": {},
   "outputs": [
    {
     "name": "stdout",
     "output_type": "stream",
     "text": [
      "R-squared: 0.17282936156261297\n"
     ]
    }
   ],
   "source": [
    "r_squared_lm = metrics.r2_score(y_test, y_pred_lm)\n",
    "print('R-squared:', r_squared_lm)  "
   ]
  },
  {
   "cell_type": "code",
   "execution_count": 20,
   "metadata": {},
   "outputs": [
    {
     "data": {
      "image/png": "[encoded data removed]",
      "text/plain": [
       "<Figure size 432x288 with 1 Axes>"
      ]
     },
     "metadata": {
      "needs_background": "light"
     },
     "output_type": "display_data"
    }
   ],
   "source": [
    "plt.scatter(y_test, y_pred_lm)\n",
    "plt.xlabel('Actual values')\n",
    "plt.ylabel('Predicted values')\n",
    "plt.title('Multivariate Linear Regression | R-squared: {:1.3f}'.format(r_squared_lm))\n",
    "\n",
    "plt.plot(np.unique(y_test), np.poly1d(np.polyfit(y_test, y_pred_lm, 1))(np.unique(y_test)), color='red')\n",
    "\n",
    "plt.show()"
   ]
  },
  {
   "cell_type": "markdown",
   "metadata": {},
   "source": [
    "# GLM"
   ]
  },
  {
   "cell_type": "markdown",
   "metadata": {},
   "source": [
    "# Modeled with poison regression"
   ]
  },
  {
   "cell_type": "code",
   "execution_count": 21,
   "metadata": {},
   "outputs": [
    {
     "name": "stdout",
     "output_type": "stream",
     "text": [
      "                 Generalized Linear Model Regression Results                  \n",
      "==============================================================================\n",
      "Dep. Variable:                      y   No. Observations:                 5560\n",
      "Model:                            GLM   Df Residuals:                     5501\n",
      "Model Family:                 Poisson   Df Model:                           58\n",
      "Link Function:                    log   Scale:                          1.0000\n",
      "Method:                          IRLS   Log-Likelihood:                -3874.1\n",
      "Date:                Fri, 17 Jul 2020   Deviance:                       3642.8\n",
      "Time:                        17:34:48   Pearson chi2:                 3.89e+03\n",
      "No. Iterations:                     6                                         \n",
      "Covariance Type:            nonrobust                                         \n",
      "==============================================================================\n",
      "                 coef    std err          z      P>|z|      [0.025      0.975]\n",
      "------------------------------------------------------------------------------\n",
      "x1            -3.5816      1.346     -2.662      0.008      -6.219      -0.944\n",
      "x2             0.3430      0.277      1.237      0.216      -0.201       0.887\n",
      "x3             4.0542      1.272      3.188      0.001       1.562       6.546\n",
      "x4         -2.086e-05    1.7e-05     -1.224      0.221   -5.43e-05    1.25e-05\n",
      "x5             0.2062      0.050      4.137      0.000       0.109       0.304\n",
      "x6             0.1670      0.221      0.756      0.450      -0.266       0.600\n",
      "x7             0.0405      0.197      0.205      0.837      -0.347       0.428\n",
      "x8             0.3833      0.227      1.688      0.091      -0.062       0.828\n",
      "x9         -1678.4345   1140.432     -1.472      0.141   -3913.640     556.771\n",
      "x10        -1705.2362   1140.156     -1.496      0.135   -3939.900     529.428\n",
      "x11        -1697.4304   1140.340     -1.489      0.137   -3932.456     537.595\n",
      "x12            0.2152      0.144      1.493      0.135      -0.067       0.498\n",
      "x13           -1.4348      0.361     -3.977      0.000      -2.142      -0.728\n",
      "x14           19.6904     11.798      1.669      0.095      -3.432      42.813\n",
      "x15          -11.8591      4.017     -2.953      0.003     -19.731      -3.987\n",
      "x16            0.0704      0.021      3.282      0.001       0.028       0.112\n",
      "x17           -0.0629      0.043     -1.463      0.144      -0.147       0.021\n",
      "x18           -0.0510      0.024     -2.103      0.035      -0.099      -0.003\n",
      "x19            0.1541      0.085      1.812      0.070      -0.013       0.321\n",
      "x20           -0.2153      0.065     -3.300      0.001      -0.343      -0.087\n",
      "x21           -0.0646      0.027     -2.389      0.017      -0.118      -0.012\n",
      "x22           -0.1325      0.027     -4.834      0.000      -0.186      -0.079\n",
      "x23            0.0030      0.023      0.134      0.894      -0.041       0.047\n",
      "x24            0.0077      0.036      0.215      0.830      -0.062       0.078\n",
      "x25           -0.0013      0.003     -0.424      0.671      -0.007       0.005\n",
      "x26           -0.0147      0.021     -0.693      0.488      -0.056       0.027\n",
      "x27        -1.306e-05   5.34e-05     -0.244      0.807      -0.000    9.17e-05\n",
      "x28            0.0027      0.012      0.215      0.830      -0.022       0.027\n",
      "x29            0.0291      0.031      0.926      0.355      -0.033       0.091\n",
      "x30           -0.0396      0.021     -1.866      0.062      -0.081       0.002\n",
      "x31          1.63e-07   5.01e-08      3.255      0.001    6.48e-08    2.61e-07\n",
      "x32           -0.0012      0.010     -0.120      0.904      -0.021       0.019\n",
      "x33            0.0091      0.005      1.661      0.097      -0.002       0.020\n",
      "x34           -0.0091      0.005     -1.699      0.089      -0.020       0.001\n",
      "x35            0.0005      0.002      0.210      0.834      -0.004       0.005\n",
      "x36            0.0023      0.001      2.612      0.009       0.001       0.004\n",
      "x37           -0.0033      0.002     -1.904      0.057      -0.007    9.74e-05\n",
      "x38            0.0011      0.001      0.828      0.408      -0.001       0.004\n",
      "x39        -1.997e-05   4.16e-06     -4.795      0.000   -2.81e-05   -1.18e-05\n",
      "x40            0.0012      0.001      0.986      0.324      -0.001       0.003\n",
      "x41         7.175e-05      0.000      0.277      0.782      -0.000       0.001\n",
      "x42            0.0028      0.001      1.982      0.047    3.12e-05       0.006\n",
      "x43            0.2242      0.172      1.303      0.193      -0.113       0.562\n",
      "x44            0.0404      0.020      2.060      0.039       0.002       0.079\n",
      "x45            0.0093      0.032      0.295      0.768      -0.052       0.071\n",
      "x46            0.0165      0.020      0.809      0.419      -0.023       0.057\n",
      "x47         6.878e-06   7.35e-06      0.936      0.349   -7.53e-06    2.13e-05\n",
      "x48           -0.0089      0.012     -0.726      0.468      -0.033       0.015\n",
      "x49           -0.0053      0.012     -0.461      0.645      -0.028       0.017\n",
      "x50           -0.0632      0.047     -1.338      0.181      -0.156       0.029\n",
      "x51           -0.0566      0.025     -2.220      0.026      -0.106      -0.007\n",
      "x52            0.0165      0.009      1.746      0.081      -0.002       0.035\n",
      "x53            0.0487      0.031      1.546      0.122      -0.013       0.110\n",
      "x54            1.6434      1.142      1.439      0.150      -0.596       3.882\n",
      "x55        -7.145e-06   1.56e-06     -4.573      0.000   -1.02e-05   -4.08e-06\n",
      "x56            0.0031      0.011      0.285      0.776      -0.018       0.024\n",
      "x57           -0.0076      0.004     -1.801      0.072      -0.016       0.001\n",
      "x58            0.0064      0.017      0.385      0.700      -0.026       0.039\n",
      "x59            3.7844      2.954      1.281      0.200      -2.005       9.574\n",
      "x60            3.6806      2.194      1.678      0.093      -0.620       7.981\n",
      "x61           -1.6609      1.409     -1.179      0.238      -4.422       1.100\n",
      "x62            0.8060      0.576      1.399      0.162      -0.323       1.935\n",
      "==============================================================================\n"
     ]
    }
   ],
   "source": [
    "import statsmodels.api as sm\n",
    "glm_model = sm.GLM(y_train, X_train, family=sm.families.Poisson())\n",
    "glm_results = glm_model.fit()\n",
    "print(glm_results.summary())"
   ]
  },
  {
   "cell_type": "code",
   "execution_count": 22,
   "metadata": {},
   "outputs": [
    {
     "data": {
      "text/html": [
       "<div>\n",
       "<style scoped>\n",
       "    .dataframe tbody tr th:only-of-type {\n",
       "        vertical-align: middle;\n",
       "    }\n",
       "\n",
       "    .dataframe tbody tr th {\n",
       "        vertical-align: top;\n",
       "    }\n",
       "\n",
       "    .dataframe thead th {\n",
       "        text-align: right;\n",
       "    }\n",
       "</style>\n",
       "<table border=\"1\" class=\"dataframe\">\n",
       "  <thead>\n",
       "    <tr style=\"text-align: right;\">\n",
       "      <th></th>\n",
       "      <th>Actual</th>\n",
       "      <th>Predicted</th>\n",
       "    </tr>\n",
       "  </thead>\n",
       "  <tbody>\n",
       "    <tr>\n",
       "      <th>0</th>\n",
       "      <td>0.0</td>\n",
       "      <td>0.373294</td>\n",
       "    </tr>\n",
       "    <tr>\n",
       "      <th>1</th>\n",
       "      <td>0.0</td>\n",
       "      <td>0.304117</td>\n",
       "    </tr>\n",
       "    <tr>\n",
       "      <th>2</th>\n",
       "      <td>0.0</td>\n",
       "      <td>0.159757</td>\n",
       "    </tr>\n",
       "    <tr>\n",
       "      <th>3</th>\n",
       "      <td>0.0</td>\n",
       "      <td>0.559064</td>\n",
       "    </tr>\n",
       "    <tr>\n",
       "      <th>4</th>\n",
       "      <td>0.0</td>\n",
       "      <td>0.207675</td>\n",
       "    </tr>\n",
       "    <tr>\n",
       "      <th>...</th>\n",
       "      <td>...</td>\n",
       "      <td>...</td>\n",
       "    </tr>\n",
       "    <tr>\n",
       "      <th>1385</th>\n",
       "      <td>2.0</td>\n",
       "      <td>0.533766</td>\n",
       "    </tr>\n",
       "    <tr>\n",
       "      <th>1386</th>\n",
       "      <td>1.0</td>\n",
       "      <td>0.199771</td>\n",
       "    </tr>\n",
       "    <tr>\n",
       "      <th>1387</th>\n",
       "      <td>1.0</td>\n",
       "      <td>0.315041</td>\n",
       "    </tr>\n",
       "    <tr>\n",
       "      <th>1388</th>\n",
       "      <td>1.0</td>\n",
       "      <td>1.033427</td>\n",
       "    </tr>\n",
       "    <tr>\n",
       "      <th>1389</th>\n",
       "      <td>2.0</td>\n",
       "      <td>0.422294</td>\n",
       "    </tr>\n",
       "  </tbody>\n",
       "</table>\n",
       "<p>1390 rows × 2 columns</p>\n",
       "</div>"
      ],
      "text/plain": [
       "      Actual  Predicted\n",
       "0        0.0   0.373294\n",
       "1        0.0   0.304117\n",
       "2        0.0   0.159757\n",
       "3        0.0   0.559064\n",
       "4        0.0   0.207675\n",
       "...      ...        ...\n",
       "1385     2.0   0.533766\n",
       "1386     1.0   0.199771\n",
       "1387     1.0   0.315041\n",
       "1388     1.0   1.033427\n",
       "1389     2.0   0.422294\n",
       "\n",
       "[1390 rows x 2 columns]"
      ]
     },
     "execution_count": 22,
     "metadata": {},
     "output_type": "execute_result"
    }
   ],
   "source": [
    "y_pred_glm = glm_results.predict(X_test)\n",
    "# Comparison between Actual and Predicted value\n",
    "df = pd.DataFrame({'Actual': y_test, 'Predicted': y_pred_glm})\n",
    "df"
   ]
  },
  {
   "cell_type": "code",
   "execution_count": 23,
   "metadata": {},
   "outputs": [
    {
     "data": {
      "image/png": "[encoded data removed]",
      "text/plain": [
       "<Figure size 720x576 with 1 Axes>"
      ]
     },
     "metadata": {
      "needs_background": "light"
     },
     "output_type": "display_data"
    }
   ],
   "source": [
    "# plot some actual vs predicted samples\n",
    "df1 = df.head(50)\n",
    "df1.plot(kind='bar',figsize=(10,8))\n",
    "plt.grid(which='major', linestyle='-', linewidth='0.5', color='green')\n",
    "plt.grid(which='minor', linestyle=':', linewidth='0.5', color='black')\n",
    "plt.show()"
   ]
  },
  {
   "cell_type": "code",
   "execution_count": 24,
   "metadata": {},
   "outputs": [
    {
     "data": {
      "text/html": [
       "<div>\n",
       "<style scoped>\n",
       "    .dataframe tbody tr th:only-of-type {\n",
       "        vertical-align: middle;\n",
       "    }\n",
       "\n",
       "    .dataframe tbody tr th {\n",
       "        vertical-align: top;\n",
       "    }\n",
       "\n",
       "    .dataframe thead th {\n",
       "        text-align: right;\n",
       "    }\n",
       "</style>\n",
       "<table border=\"1\" class=\"dataframe\">\n",
       "  <thead>\n",
       "    <tr style=\"text-align: right;\">\n",
       "      <th></th>\n",
       "      <th>Coefficient</th>\n",
       "    </tr>\n",
       "  </thead>\n",
       "  <tbody>\n",
       "    <tr>\n",
       "      <th>icvs_gm</th>\n",
       "      <td>-1.705236e+03</td>\n",
       "    </tr>\n",
       "    <tr>\n",
       "      <th>icvs_wm</th>\n",
       "      <td>-1.697430e+03</td>\n",
       "    </tr>\n",
       "    <tr>\n",
       "      <th>icvs_csf</th>\n",
       "      <td>-1.678435e+03</td>\n",
       "    </tr>\n",
       "    <tr>\n",
       "      <th>qi_1</th>\n",
       "      <td>1.969044e+01</td>\n",
       "    </tr>\n",
       "    <tr>\n",
       "      <th>qi_2</th>\n",
       "      <td>-1.185905e+01</td>\n",
       "    </tr>\n",
       "    <tr>\n",
       "      <th>...</th>\n",
       "      <td>...</td>\n",
       "    </tr>\n",
       "    <tr>\n",
       "      <th>summary_csf_n</th>\n",
       "      <td>-1.996804e-05</td>\n",
       "    </tr>\n",
       "    <tr>\n",
       "      <th>summary_bg_k</th>\n",
       "      <td>-1.306199e-05</td>\n",
       "    </tr>\n",
       "    <tr>\n",
       "      <th>summary_wm_n</th>\n",
       "      <td>-7.144646e-06</td>\n",
       "    </tr>\n",
       "    <tr>\n",
       "      <th>summary_gm_n</th>\n",
       "      <td>6.877725e-06</td>\n",
       "    </tr>\n",
       "    <tr>\n",
       "      <th>summary_bg_n</th>\n",
       "      <td>1.629790e-07</td>\n",
       "    </tr>\n",
       "  </tbody>\n",
       "</table>\n",
       "<p>62 rows × 1 columns</p>\n",
       "</div>"
      ],
      "text/plain": [
       "                Coefficient\n",
       "icvs_gm       -1.705236e+03\n",
       "icvs_wm       -1.697430e+03\n",
       "icvs_csf      -1.678435e+03\n",
       "qi_1           1.969044e+01\n",
       "qi_2          -1.185905e+01\n",
       "...                     ...\n",
       "summary_csf_n -1.996804e-05\n",
       "summary_bg_k  -1.306199e-05\n",
       "summary_wm_n  -7.144646e-06\n",
       "summary_gm_n   6.877725e-06\n",
       "summary_bg_n   1.629790e-07\n",
       "\n",
       "[62 rows x 1 columns]"
      ]
     },
     "execution_count": 24,
     "metadata": {},
     "output_type": "execute_result"
    }
   ],
   "source": [
    "# Find linear regression coefficient for each predictor\n",
    "coeff_df = pd.DataFrame(glm_results.params, training_df[predictors].columns, columns=['Coefficient'])\n",
    "\n",
    "#pd.set_option('display.max_rows', None)\n",
    "#display(coeff_df)\n",
    "\n",
    "# sort values based on coef\n",
    "#coeff_df.sort_values(by=['Coefficient'])\n",
    "\n",
    "# sort values based on absolute value of coef\n",
    "coeff_df_sorted = coeff_df.reindex(coeff_df.Coefficient.abs().sort_values(ascending=False).index)\n",
    "coeff_df_sorted"
   ]
  },
  {
   "cell_type": "code",
   "execution_count": 58,
   "metadata": {},
   "outputs": [
    {
     "name": "stderr",
     "output_type": "stream",
     "text": [
      "No handles with labels found to put in legend.\n"
     ]
    },
    {
     "data": {
      "image/png": "[encoded data removed]",
      "text/plain": [
       "<Figure size 432x288 with 1 Axes>"
      ]
     },
     "metadata": {
      "needs_background": "light"
     },
     "output_type": "display_data"
    }
   ],
   "source": [
    "coeffs = pd.Series(coeff_df_sorted['Coefficient'],index=coeff_df_sorted.index)\n",
    "coeffs1 = coeffs.head(15)\n",
    "# Creating a bar plot\n",
    "seabornInstance.barplot(x=coeffs1, y=coeffs1.index)\n",
    "# Add labels to your graph\n",
    "plt.xlabel('Coeficients')\n",
    "plt.ylabel('Features')\n",
    "plt.title(\"Visualizing Features with Large Coeficients for GLM\")\n",
    "plt.legend()\n",
    "plt.show()"
   ]
  },
  {
   "cell_type": "code",
   "execution_count": 25,
   "metadata": {},
   "outputs": [
    {
     "name": "stdout",
     "output_type": "stream",
     "text": [
      "Mean Absolute Error: 0.4322633154055444\n",
      "Mean Squared Error: 0.4726314679145354\n",
      "Root Mean Squared Error: 0.6874819764288628\n"
     ]
    }
   ],
   "source": [
    "print('Mean Absolute Error:', metrics.mean_absolute_error(y_test, y_pred_glm))  \n",
    "print('Mean Squared Error:', metrics.mean_squared_error(y_test, y_pred_glm))  \n",
    "print('Root Mean Squared Error:', np.sqrt(metrics.mean_squared_error(y_test, y_pred_glm)))"
   ]
  },
  {
   "cell_type": "code",
   "execution_count": 26,
   "metadata": {},
   "outputs": [
    {
     "name": "stdout",
     "output_type": "stream",
     "text": [
      "R-squared: -0.18022868510951406\n"
     ]
    }
   ],
   "source": [
    "r_squared_glm = metrics.r2_score(y_test, y_pred_glm)\n",
    "print('R-squared:', r_squared_glm)"
   ]
  },
  {
   "cell_type": "code",
   "execution_count": 59,
   "metadata": {},
   "outputs": [
    {
     "data": {
      "image/png": "[encoded data removed]",
      "text/plain": [
       "<Figure size 432x288 with 1 Axes>"
      ]
     },
     "metadata": {
      "needs_background": "light"
     },
     "output_type": "display_data"
    }
   ],
   "source": [
    "plt.scatter(y_test, y_pred_glm)\n",
    "plt.xlabel('Actual values')\n",
    "plt.ylabel('Predicted values')\n",
    "plt.title('GLM Regression | R-squared: {:1.3f}'.format(r_squared_glm))\n",
    "\n",
    "plt.plot(np.unique(y_test), np.poly1d(np.polyfit(y_test, y_pred_glm, 1))(np.unique(y_test)), color='red')\n",
    "\n",
    "plt.show()"
   ]
  },
  {
   "cell_type": "markdown",
   "metadata": {},
   "source": [
    "# Random Forest Regression With Default Parameters"
   ]
  },
  {
   "cell_type": "code",
   "execution_count": 49,
   "metadata": {},
   "outputs": [
    {
     "data": {
      "text/plain": [
       "RandomForestRegressor(bootstrap=True, ccp_alpha=0.0, criterion='mse',\n",
       "                      max_depth=None, max_features='auto', max_leaf_nodes=None,\n",
       "                      max_samples=None, min_impurity_decrease=0.0,\n",
       "                      min_impurity_split=None, min_samples_leaf=1,\n",
       "                      min_samples_split=2, min_weight_fraction_leaf=0.0,\n",
       "                      n_estimators=100, n_jobs=None, oob_score=False,\n",
       "                      random_state=0, verbose=0, warm_start=False)"
      ]
     },
     "execution_count": 49,
     "metadata": {},
     "output_type": "execute_result"
    }
   ],
   "source": [
    "# Set the regressor\n",
    "# setting the random_state makes the results reproducible\n",
    "rfr = RandomForestRegressor(n_estimators=100, random_state=0)\n",
    "\n",
    "#Train the model using the training sets y_pred=clf.predict(X_test)\n",
    "rfr.fit(X_train,y_train)"
   ]
  },
  {
   "cell_type": "code",
   "execution_count": 50,
   "metadata": {},
   "outputs": [
    {
     "data": {
      "text/html": [
       "<div>\n",
       "<style scoped>\n",
       "    .dataframe tbody tr th:only-of-type {\n",
       "        vertical-align: middle;\n",
       "    }\n",
       "\n",
       "    .dataframe tbody tr th {\n",
       "        vertical-align: top;\n",
       "    }\n",
       "\n",
       "    .dataframe thead th {\n",
       "        text-align: right;\n",
       "    }\n",
       "</style>\n",
       "<table border=\"1\" class=\"dataframe\">\n",
       "  <thead>\n",
       "    <tr style=\"text-align: right;\">\n",
       "      <th></th>\n",
       "      <th>Actual</th>\n",
       "      <th>Predicted</th>\n",
       "    </tr>\n",
       "  </thead>\n",
       "  <tbody>\n",
       "    <tr>\n",
       "      <th>0</th>\n",
       "      <td>0.0</td>\n",
       "      <td>0.18</td>\n",
       "    </tr>\n",
       "    <tr>\n",
       "      <th>1</th>\n",
       "      <td>0.0</td>\n",
       "      <td>0.40</td>\n",
       "    </tr>\n",
       "    <tr>\n",
       "      <th>2</th>\n",
       "      <td>0.0</td>\n",
       "      <td>0.35</td>\n",
       "    </tr>\n",
       "    <tr>\n",
       "      <th>3</th>\n",
       "      <td>0.0</td>\n",
       "      <td>0.43</td>\n",
       "    </tr>\n",
       "    <tr>\n",
       "      <th>4</th>\n",
       "      <td>0.0</td>\n",
       "      <td>0.28</td>\n",
       "    </tr>\n",
       "    <tr>\n",
       "      <th>...</th>\n",
       "      <td>...</td>\n",
       "      <td>...</td>\n",
       "    </tr>\n",
       "    <tr>\n",
       "      <th>1385</th>\n",
       "      <td>2.0</td>\n",
       "      <td>1.38</td>\n",
       "    </tr>\n",
       "    <tr>\n",
       "      <th>1386</th>\n",
       "      <td>1.0</td>\n",
       "      <td>0.39</td>\n",
       "    </tr>\n",
       "    <tr>\n",
       "      <th>1387</th>\n",
       "      <td>1.0</td>\n",
       "      <td>0.16</td>\n",
       "    </tr>\n",
       "    <tr>\n",
       "      <th>1388</th>\n",
       "      <td>1.0</td>\n",
       "      <td>1.44</td>\n",
       "    </tr>\n",
       "    <tr>\n",
       "      <th>1389</th>\n",
       "      <td>2.0</td>\n",
       "      <td>0.70</td>\n",
       "    </tr>\n",
       "  </tbody>\n",
       "</table>\n",
       "<p>1390 rows × 2 columns</p>\n",
       "</div>"
      ],
      "text/plain": [
       "      Actual  Predicted\n",
       "0        0.0       0.18\n",
       "1        0.0       0.40\n",
       "2        0.0       0.35\n",
       "3        0.0       0.43\n",
       "4        0.0       0.28\n",
       "...      ...        ...\n",
       "1385     2.0       1.38\n",
       "1386     1.0       0.39\n",
       "1387     1.0       0.16\n",
       "1388     1.0       1.44\n",
       "1389     2.0       0.70\n",
       "\n",
       "[1390 rows x 2 columns]"
      ]
     },
     "execution_count": 50,
     "metadata": {},
     "output_type": "execute_result"
    }
   ],
   "source": [
    "y_pred_rf = rfr.predict(X_test)\n",
    "# Comparison between Actual and Predicted value\n",
    "df = pd.DataFrame({'Actual': y_test, 'RF Predicted': y_pred_rf})\n",
    "df"
   ]
  },
  {
   "cell_type": "code",
   "execution_count": 51,
   "metadata": {},
   "outputs": [
    {
     "data": {
      "image/png": "[encoded data removed]",
      "text/plain": [
       "<Figure size 720x576 with 1 Axes>"
      ]
     },
     "metadata": {
      "needs_background": "light"
     },
     "output_type": "display_data"
    }
   ],
   "source": [
    "df1 = df.head(50)\n",
    "df1.plot(kind='bar',figsize=(10,8))\n",
    "plt.grid(which='major', linestyle='-', linewidth='0.5', color='green')\n",
    "plt.grid(which='minor', linestyle=':', linewidth='0.5', color='black')\n",
    "plt.show()"
   ]
  },
  {
   "cell_type": "code",
   "execution_count": 55,
   "metadata": {},
   "outputs": [
    {
     "data": {
      "text/plain": [
       "summary_wm_p95     0.153584\n",
       "icvs_csf           0.102420\n",
       "qi_2               0.034706\n",
       "snrd_csf           0.027020\n",
       "summary_wm_k       0.026055\n",
       "                     ...   \n",
       "snr_wm             0.005352\n",
       "summary_bg_mean    0.004968\n",
       "summary_wm_stdv    0.004896\n",
       "snrd_wm            0.004835\n",
       "summary_bg_mad     0.004490\n",
       "Length: 62, dtype: float64"
      ]
     },
     "execution_count": 55,
     "metadata": {},
     "output_type": "execute_result"
    }
   ],
   "source": [
    "feature_imp = pd.Series(rfr.feature_importances_,index=training_df[predictors].columns).sort_values(ascending=False)\n",
    "feature_imp"
   ]
  },
  {
   "cell_type": "code",
   "execution_count": 57,
   "metadata": {},
   "outputs": [
    {
     "name": "stderr",
     "output_type": "stream",
     "text": [
      "No handles with labels found to put in legend.\n"
     ]
    },
    {
     "data": {
      "image/png": "[encoded data removed]",
      "text/plain": [
       "<Figure size 432x288 with 1 Axes>"
      ]
     },
     "metadata": {
      "needs_background": "light"
     },
     "output_type": "display_data"
    }
   ],
   "source": [
    "feature_imp1 = feature_imp.head(10)\n",
    "# Creating a bar plot\n",
    "seabornInstance.barplot(x=feature_imp1, y=feature_imp1.index)\n",
    "# Add labels to your graph\n",
    "plt.xlabel('Feature Importance Score')\n",
    "plt.ylabel('Features')\n",
    "plt.title(\"Visualizing Important Features for Random Forest Regressor\")\n",
    "plt.legend()\n",
    "plt.show()"
   ]
  },
  {
   "cell_type": "code",
   "execution_count": 52,
   "metadata": {},
   "outputs": [
    {
     "name": "stdout",
     "output_type": "stream",
     "text": [
      "Mean Absolute Error: 0.36543165467625893\n",
      "Mean Squared Error: 0.22019345323741008\n",
      "Root Mean Squared Error: 0.4692477525118368\n"
     ]
    }
   ],
   "source": [
    "print('Mean Absolute Error:', metrics.mean_absolute_error(y_test, y_pred_rf))  \n",
    "print('Mean Squared Error:', metrics.mean_squared_error(y_test, y_pred_rf))  \n",
    "print('Root Mean Squared Error:', np.sqrt(metrics.mean_squared_error(y_test, y_pred_rf)))"
   ]
  },
  {
   "cell_type": "code",
   "execution_count": 53,
   "metadata": {},
   "outputs": [
    {
     "data": {
      "text/plain": [
       "0.4501453089215277"
      ]
     },
     "execution_count": 53,
     "metadata": {},
     "output_type": "execute_result"
    }
   ],
   "source": [
    "# the score function returns r-squared\n",
    "rfr.score(X_test,y_test)"
   ]
  },
  {
   "cell_type": "code",
   "execution_count": 54,
   "metadata": {},
   "outputs": [
    {
     "name": "stdout",
     "output_type": "stream",
     "text": [
      "R-squared: 0.4501453089215277\n"
     ]
    }
   ],
   "source": [
    "# r-squared could be calculated by metrics as well\n",
    "r_squared_rf = metrics.r2_score(y_test, y_pred_rf)\n",
    "print('R-squared:', r_squared_rf)  "
   ]
  },
  {
   "cell_type": "code",
   "execution_count": 60,
   "metadata": {},
   "outputs": [
    {
     "data": {
      "image/png": "[encoded data removed]",
      "text/plain": [
       "<Figure size 432x288 with 1 Axes>"
      ]
     },
     "metadata": {
      "needs_background": "light"
     },
     "output_type": "display_data"
    }
   ],
   "source": [
    "plt.scatter(y_test, y_pred_rf)\n",
    "plt.xlabel('Actual values')\n",
    "plt.ylabel('Predicted values')\n",
    "plt.title('Random Forest Regression | R-squared: {:1.3f}'.format(r_squared_rf))\n",
    "\n",
    "plt.plot(np.unique(y_test), np.poly1d(np.polyfit(y_test, y_pred_rf, 1))(np.unique(y_test)), color='red')\n",
    "\n",
    "plt.show()"
   ]
  },
  {
   "cell_type": "code",
   "execution_count": 149,
   "metadata": {},
   "outputs": [
    {
     "data": {
      "text/plain": [
       "<matplotlib.axes._subplots.AxesSubplot at 0x1a200119d0>"
      ]
     },
     "execution_count": 149,
     "metadata": {},
     "output_type": "execute_result"
    },
    {
     "data": {
      "image/png": "[encoded data removed]",
      "text/plain": [
       "<Figure size 1080x720 with 1 Axes>"
      ]
     },
     "metadata": {
      "needs_background": "light"
     },
     "output_type": "display_data"
    }
   ],
   "source": [
    "y_pred_mean = np.mean(y_pred_rf)\n",
    "plt.figure(figsize=(15,10))\n",
    "plt.tight_layout()\n",
    "plt.title('Average of response: {:1.3f}'.format(y_pred_mean))\n",
    "\n",
    "## plot kde\n",
    "plt.ylabel('pdf')\n",
    "seabornInstance.distplot(y_pred_rf)\n",
    "\n",
    "## plot histogram\n",
    "#plt.ylabel('histogram')\n",
    "#seabornInstance.distplot(y_pred_rf, hist=True, kde=False)"
   ]
  },
  {
   "cell_type": "markdown",
   "metadata": {},
   "source": [
    "# Find the optimized parameters set for the Random Forest Regressor using the Random Search"
   ]
  },
  {
   "cell_type": "code",
   "execution_count": 61,
   "metadata": {},
   "outputs": [
    {
     "name": "stdout",
     "output_type": "stream",
     "text": [
      "Fitting 5 folds for each of 20 candidates, totalling 100 fits\n"
     ]
    },
    {
     "name": "stderr",
     "output_type": "stream",
     "text": [
      "[Parallel(n_jobs=-1)]: Using backend LokyBackend with 8 concurrent workers.\n",
      "[Parallel(n_jobs=-1)]: Done  34 tasks      | elapsed: 51.1min\n",
      "[Parallel(n_jobs=-1)]: Done 100 out of 100 | elapsed: 84.0min finished\n"
     ]
    },
    {
     "data": {
      "text/plain": [
       "RandomizedSearchCV(cv=5, error_score=nan,\n",
       "                   estimator=RandomForestRegressor(bootstrap=True,\n",
       "                                                   ccp_alpha=0.0,\n",
       "                                                   criterion='mse',\n",
       "                                                   max_depth=None,\n",
       "                                                   max_features='auto',\n",
       "                                                   max_leaf_nodes=None,\n",
       "                                                   max_samples=None,\n",
       "                                                   min_impurity_decrease=0.0,\n",
       "                                                   min_impurity_split=None,\n",
       "                                                   min_samples_leaf=1,\n",
       "                                                   min_samples_split=2,\n",
       "                                                   min_weight_fraction_leaf=0.0,\n",
       "                                                   n_estimators=100,\n",
       "                                                   n_jobs=None, oob_score=Fals...\n",
       "                                        'min_samples_leaf': [1, 2, 5],\n",
       "                                        'min_samples_split': [2, 5, 10],\n",
       "                                        'n_estimators': array([ 10,  13,  17,  21,  25,  29,  33,  37,  41,  44,  48,  52,  56,\n",
       "        60,  64,  68,  72,  75,  79,  83,  87,  91,  95,  99, 103, 106,\n",
       "       110, 114, 118, 122, 126, 130, 134, 137, 141, 145, 149, 153, 157,\n",
       "       161, 165, 168, 172, 176, 180, 184, 188, 192, 196, 200])},\n",
       "                   pre_dispatch='2*n_jobs', random_state=0, refit=True,\n",
       "                   return_train_score=False, scoring=None, verbose=1)"
      ]
     },
     "execution_count": 61,
     "metadata": {},
     "output_type": "execute_result"
    }
   ],
   "source": [
    "from sklearn.model_selection import RandomizedSearchCV\n",
    "\n",
    "# Hyperparameter grid\n",
    "param_grid = {\n",
    "    'n_estimators': np.linspace(10, 200).astype(int),\n",
    "    'criterion': ['mse', 'mae'],\n",
    "    'max_depth': [None] + list(np.linspace(3, 20).astype(int)),\n",
    "    'max_features': ['auto', 'sqrt', 'log2', None] + list(np.arange(0.5, 1, 0.1)),\n",
    "    'max_leaf_nodes': [None] + list(np.linspace(10, 50, 500).astype(int)),\n",
    "    'min_samples_split': [2, 5, 10],\n",
    "    'min_samples_leaf': [1, 2, 5],\n",
    "    'bootstrap': [True, False]\n",
    "}\n",
    "\n",
    "# Estimator for use in random search\n",
    "estimator = RandomForestRegressor(random_state = 0)\n",
    "\n",
    "# Create the random search model\n",
    "rs = RandomizedSearchCV(estimator, param_grid, n_jobs = -1, \n",
    "                        scoring = None, cv = 5, \n",
    "                        n_iter = 20, verbose = 1, random_state=0)\n",
    "\n",
    "# Fit \n",
    "rs.fit(X_train, y_train)"
   ]
  },
  {
   "cell_type": "code",
   "execution_count": 62,
   "metadata": {},
   "outputs": [
    {
     "data": {
      "text/plain": [
       "{'n_estimators': 41,\n",
       " 'min_samples_split': 2,\n",
       " 'min_samples_leaf': 1,\n",
       " 'max_leaf_nodes': 42,\n",
       " 'max_features': 0.7999999999999999,\n",
       " 'max_depth': 8,\n",
       " 'criterion': 'mse',\n",
       " 'bootstrap': True}"
      ]
     },
     "execution_count": 62,
     "metadata": {},
     "output_type": "execute_result"
    }
   ],
   "source": [
    "rs.best_params_"
   ]
  },
  {
   "cell_type": "code",
   "execution_count": 63,
   "metadata": {},
   "outputs": [],
   "source": [
    "rfr_opt = rs.best_estimator_"
   ]
  },
  {
   "cell_type": "code",
   "execution_count": 64,
   "metadata": {},
   "outputs": [
    {
     "data": {
      "text/html": [
       "<div>\n",
       "<style scoped>\n",
       "    .dataframe tbody tr th:only-of-type {\n",
       "        vertical-align: middle;\n",
       "    }\n",
       "\n",
       "    .dataframe tbody tr th {\n",
       "        vertical-align: top;\n",
       "    }\n",
       "\n",
       "    .dataframe thead th {\n",
       "        text-align: right;\n",
       "    }\n",
       "</style>\n",
       "<table border=\"1\" class=\"dataframe\">\n",
       "  <thead>\n",
       "    <tr style=\"text-align: right;\">\n",
       "      <th></th>\n",
       "      <th>Actual</th>\n",
       "      <th>RF Predicted</th>\n",
       "      <th>Opt RF Predicted</th>\n",
       "    </tr>\n",
       "  </thead>\n",
       "  <tbody>\n",
       "    <tr>\n",
       "      <th>0</th>\n",
       "      <td>0.0</td>\n",
       "      <td>0.18</td>\n",
       "      <td>0.427137</td>\n",
       "    </tr>\n",
       "    <tr>\n",
       "      <th>1</th>\n",
       "      <td>0.0</td>\n",
       "      <td>0.40</td>\n",
       "      <td>0.315693</td>\n",
       "    </tr>\n",
       "    <tr>\n",
       "      <th>2</th>\n",
       "      <td>0.0</td>\n",
       "      <td>0.35</td>\n",
       "      <td>0.230168</td>\n",
       "    </tr>\n",
       "    <tr>\n",
       "      <th>3</th>\n",
       "      <td>0.0</td>\n",
       "      <td>0.43</td>\n",
       "      <td>0.743517</td>\n",
       "    </tr>\n",
       "    <tr>\n",
       "      <th>4</th>\n",
       "      <td>0.0</td>\n",
       "      <td>0.28</td>\n",
       "      <td>0.227867</td>\n",
       "    </tr>\n",
       "    <tr>\n",
       "      <th>...</th>\n",
       "      <td>...</td>\n",
       "      <td>...</td>\n",
       "      <td>...</td>\n",
       "    </tr>\n",
       "    <tr>\n",
       "      <th>1385</th>\n",
       "      <td>2.0</td>\n",
       "      <td>1.38</td>\n",
       "      <td>1.323281</td>\n",
       "    </tr>\n",
       "    <tr>\n",
       "      <th>1386</th>\n",
       "      <td>1.0</td>\n",
       "      <td>0.39</td>\n",
       "      <td>0.216010</td>\n",
       "    </tr>\n",
       "    <tr>\n",
       "      <th>1387</th>\n",
       "      <td>1.0</td>\n",
       "      <td>0.16</td>\n",
       "      <td>0.188677</td>\n",
       "    </tr>\n",
       "    <tr>\n",
       "      <th>1388</th>\n",
       "      <td>1.0</td>\n",
       "      <td>1.44</td>\n",
       "      <td>1.106841</td>\n",
       "    </tr>\n",
       "    <tr>\n",
       "      <th>1389</th>\n",
       "      <td>2.0</td>\n",
       "      <td>0.70</td>\n",
       "      <td>0.387580</td>\n",
       "    </tr>\n",
       "  </tbody>\n",
       "</table>\n",
       "<p>1390 rows × 3 columns</p>\n",
       "</div>"
      ],
      "text/plain": [
       "      Actual  RF Predicted  Opt RF Predicted\n",
       "0        0.0          0.18          0.427137\n",
       "1        0.0          0.40          0.315693\n",
       "2        0.0          0.35          0.230168\n",
       "3        0.0          0.43          0.743517\n",
       "4        0.0          0.28          0.227867\n",
       "...      ...           ...               ...\n",
       "1385     2.0          1.38          1.323281\n",
       "1386     1.0          0.39          0.216010\n",
       "1387     1.0          0.16          0.188677\n",
       "1388     1.0          1.44          1.106841\n",
       "1389     2.0          0.70          0.387580\n",
       "\n",
       "[1390 rows x 3 columns]"
      ]
     },
     "execution_count": 64,
     "metadata": {},
     "output_type": "execute_result"
    }
   ],
   "source": [
    "y_pred_rf_opt = rfr_opt.predict(X_test)\n",
    "df = pd.DataFrame({'Actual': y_test, 'RF Predicted': y_pred_rf, 'Opt RF Predicted': y_pred_rf_opt})\n",
    "df"
   ]
  },
  {
   "cell_type": "code",
   "execution_count": 65,
   "metadata": {},
   "outputs": [
    {
     "data": {
      "image/png": "[encoded data removed]",
      "text/plain": [
       "<Figure size 720x576 with 1 Axes>"
      ]
     },
     "metadata": {
      "needs_background": "light"
     },
     "output_type": "display_data"
    }
   ],
   "source": [
    "df1 = df.head(50)\n",
    "df1.plot(kind='bar',figsize=(10,8))\n",
    "plt.grid(which='major', linestyle='-', linewidth='0.5', color='green')\n",
    "plt.grid(which='minor', linestyle=':', linewidth='0.5', color='black')\n",
    "plt.show()"
   ]
  },
  {
   "cell_type": "code",
   "execution_count": 66,
   "metadata": {},
   "outputs": [
    {
     "data": {
      "text/plain": [
       "summary_wm_p95    0.226502\n",
       "icvs_csf          0.157546\n",
       "qi_2              0.045222\n",
       "summary_wm_k      0.044464\n",
       "snrd_csf          0.037062\n",
       "                    ...   \n",
       "summary_gm_k      0.001903\n",
       "inu_med           0.001796\n",
       "snr_total         0.001772\n",
       "summary_wm_p05    0.001759\n",
       "cjv               0.001583\n",
       "Length: 62, dtype: float64"
      ]
     },
     "execution_count": 66,
     "metadata": {},
     "output_type": "execute_result"
    }
   ],
   "source": [
    "feature_imp = pd.Series(rfr_opt.feature_importances_,index=training_df[predictors].columns).sort_values(ascending=False)\n",
    "feature_imp"
   ]
  },
  {
   "cell_type": "code",
   "execution_count": 67,
   "metadata": {},
   "outputs": [
    {
     "name": "stderr",
     "output_type": "stream",
     "text": [
      "No handles with labels found to put in legend.\n"
     ]
    },
    {
     "data": {
      "image/png": "[encoded data removed]",
      "text/plain": [
       "<Figure size 432x288 with 1 Axes>"
      ]
     },
     "metadata": {
      "needs_background": "light"
     },
     "output_type": "display_data"
    }
   ],
   "source": [
    "feature_imp1 = feature_imp.head(10)\n",
    "# Creating a bar plot\n",
    "seabornInstance.barplot(x=feature_imp1, y=feature_imp1.index)\n",
    "# Add labels to your graph\n",
    "plt.xlabel('Feature Importance Score')\n",
    "plt.ylabel('Features')\n",
    "plt.title(\"Visualizing Important Features for the Optimized Random Forest Regressor\")\n",
    "plt.legend()\n",
    "plt.show()"
   ]
  },
  {
   "cell_type": "code",
   "execution_count": 69,
   "metadata": {},
   "outputs": [
    {
     "data": {
      "text/plain": [
       "0.36701638696326133"
      ]
     },
     "execution_count": 69,
     "metadata": {},
     "output_type": "execute_result"
    }
   ],
   "source": [
    "r_squared_rf_opt = rfr_opt.score(X_test,y_test)\n",
    "r_squared_rf_opt"
   ]
  },
  {
   "cell_type": "code",
   "execution_count": 70,
   "metadata": {},
   "outputs": [
    {
     "name": "stdout",
     "output_type": "stream",
     "text": [
      "Mean Absolute Error: 0.36543165467625893\n",
      "Mean Squared Error: 0.22019345323741008\n",
      "Root Mean Squared Error: 0.4692477525118368\n",
      "R-squared: 0.4501453089215277\n",
      "-------------------\n",
      "Mean Absolute Error: 0.4067745997729656\n",
      "Mean Squared Error: 0.2534830562668794\n",
      "Root Mean Squared Error: 0.5034710083677901\n",
      "R-squared: 0.36701638696326133\n"
     ]
    }
   ],
   "source": [
    "print('Mean Absolute Error:', metrics.mean_absolute_error(y_test, y_pred_rf))  \n",
    "print('Mean Squared Error:', metrics.mean_squared_error(y_test, y_pred_rf))  \n",
    "print('Root Mean Squared Error:', np.sqrt(metrics.mean_squared_error(y_test, y_pred_rf)))\n",
    "print('R-squared:', metrics.r2_score(y_test, y_pred_rf))  \n",
    "print('-------------------')\n",
    "print('Mean Absolute Error:', metrics.mean_absolute_error(y_test, y_pred_rf_opt))  \n",
    "print('Mean Squared Error:', metrics.mean_squared_error(y_test, y_pred_rf_opt))  \n",
    "print('Root Mean Squared Error:', np.sqrt(metrics.mean_squared_error(y_test, y_pred_rf_opt)))\n",
    "print('R-squared:', metrics.r2_score(y_test, y_pred_rf_opt))  "
   ]
  },
  {
   "cell_type": "code",
   "execution_count": 71,
   "metadata": {},
   "outputs": [
    {
     "data": {
      "image/png": "[encoded data removed]",
      "text/plain": [
       "<Figure size 432x288 with 1 Axes>"
      ]
     },
     "metadata": {
      "needs_background": "light"
     },
     "output_type": "display_data"
    }
   ],
   "source": [
    "plt.scatter(y_test, y_pred_rf_opt)\n",
    "plt.xlabel('Actual values')\n",
    "plt.ylabel('Predicted values')\n",
    "plt.title('Optimized Random Forest Regression | R-squared: {:1.3f}'.format(r_squared_rf_opt))\n",
    "\n",
    "plt.plot(np.unique(y_test), np.poly1d(np.polyfit(y_test, y_pred_rf_opt, 1))(np.unique(y_test)), color='red')\n",
    "\n",
    "plt.show()"
   ]
  },
  {
   "cell_type": "code",
   "execution_count": 150,
   "metadata": {},
   "outputs": [
    {
     "data": {
      "text/plain": [
       "<matplotlib.axes._subplots.AxesSubplot at 0x1a1ef158d0>"
      ]
     },
     "execution_count": 150,
     "metadata": {},
     "output_type": "execute_result"
    },
    {
     "data": {
      "image/png": "[encoded data removed]",
      "text/plain": [
       "<Figure size 1080x720 with 1 Axes>"
      ]
     },
     "metadata": {
      "needs_background": "light"
     },
     "output_type": "display_data"
    }
   ],
   "source": [
    "y_pred_opt_mean = np.mean(y_pred_rf_opt)\n",
    "plt.figure(figsize=(15,10))\n",
    "plt.tight_layout()\n",
    "plt.title('Average of response: {:1.3f}'.format(y_pred_opt_mean))\n",
    "\n",
    "## plot kde\n",
    "plt.ylabel('pdf')\n",
    "seabornInstance.distplot(y_pred_rf_opt)\n",
    "\n",
    "## plot histogram\n",
    "#plt.ylabel('histogram')\n",
    "#seabornInstance.distplot(y_pred_rf_opt, hist=True, kde=False)"
   ]
  },
  {
   "cell_type": "markdown",
   "metadata": {},
   "source": [
    "Check to see if results from default Random Forest and Original Random Forest are statistically different"
   ]
  },
  {
   "cell_type": "code",
   "execution_count": 151,
   "metadata": {},
   "outputs": [
    {
     "data": {
      "text/plain": [
       "KruskalResult(statistic=1.617904713136622, pvalue=0.20338419308677186)"
      ]
     },
     "execution_count": 151,
     "metadata": {},
     "output_type": "execute_result"
    }
   ],
   "source": [
    "from scipy import stats\n",
    "stats.kruskal(y_pred_rf, y_pred_rf_opt)"
   ]
  },
  {
   "cell_type": "code",
   "execution_count": 152,
   "metadata": {},
   "outputs": [
    {
     "data": {
      "text/plain": [
       "F_onewayResult(statistic=1.1537190176472862, pvalue=0.28286526671130524)"
      ]
     },
     "execution_count": 152,
     "metadata": {},
     "output_type": "execute_result"
    }
   ],
   "source": [
    "from scipy.stats import f_oneway\n",
    "f_oneway(y_pred_rf, y_pred_rf_opt)"
   ]
  },
  {
   "cell_type": "markdown",
   "metadata": {},
   "source": [
    "# Conclusion:\n",
    "The regressor with default parameters produced better results on test data. Perhaps because the model with optimal parameteres suffers from overfitting to the training data."
   ]
  },
  {
   "cell_type": "markdown",
   "metadata": {},
   "source": [
    "# Experiment: \n",
    "# Apply the Random Forest Regression (with default parameters) using only the first important feature"
   ]
  },
  {
   "cell_type": "code",
   "execution_count": 72,
   "metadata": {},
   "outputs": [
    {
     "name": "stdout",
     "output_type": "stream",
     "text": [
      "[[0, 'Series'], [1, 'SeriesDescription'], [2, 'cjv'], [3, 'cnr'], [4, 'efc'], [5, 'fber'], [6, 'fwhm_avg'], [7, 'fwhm_x'], [8, 'fwhm_y'], [9, 'fwhm_z'], [10, 'icvs_csf'], [11, 'icvs_gm'], [12, 'icvs_wm'], [13, 'inu_med'], [14, 'inu_range'], [15, 'qi_1'], [16, 'qi_2'], [17, 'rpve_csf'], [18, 'rpve_gm'], [19, 'rpve_wm'], [20, 'snr_csf'], [21, 'snr_gm'], [22, 'snr_total'], [23, 'snr_wm'], [24, 'snrd_csf'], [25, 'snrd_gm'], [26, 'snrd_total'], [27, 'snrd_wm'], [28, 'summary_bg_k'], [29, 'summary_bg_mad'], [30, 'summary_bg_mean'], [31, 'summary_bg_median'], [32, 'summary_bg_n'], [33, 'summary_bg_p05'], [34, 'summary_bg_p95'], [35, 'summary_bg_stdv'], [36, 'summary_csf_k'], [37, 'summary_csf_mad'], [38, 'summary_csf_mean'], [39, 'summary_csf_median'], [40, 'summary_csf_n'], [41, 'summary_csf_p05'], [42, 'summary_csf_p95'], [43, 'summary_csf_stdv'], [44, 'summary_gm_k'], [45, 'summary_gm_mad'], [46, 'summary_gm_mean'], [47, 'summary_gm_median'], [48, 'summary_gm_n'], [49, 'summary_gm_p05'], [50, 'summary_gm_p95'], [51, 'summary_gm_stdv'], [52, 'summary_wm_k'], [53, 'summary_wm_mad'], [54, 'summary_wm_mean'], [55, 'summary_wm_median'], [56, 'summary_wm_n'], [57, 'summary_wm_p05'], [58, 'summary_wm_p95'], [59, 'summary_wm_stdv'], [60, 'tpm_overlap_csf'], [61, 'tpm_overlap_gm'], [62, 'tpm_overlap_wm'], [63, 'wm2max'], [64, 'INBGR'], [65, 'OUTBGR'], [66, 'INFLOW'], [67, 'OUTFLOW'], [68, 'INOTHER'], [69, 'OUTOTHER'], [70, 'WRAP'], [71, 'HEADCOVER'], [72, 'INHOMOGEN'], [73, 'IPMOTION'], [74, 'MARKER'], [75, 'PASS']]\n"
     ]
    }
   ],
   "source": [
    "# print headers to find the index of the columns of interest\n",
    "print ([list((i, headerlist[i])) for i in range(len(headerlist))])"
   ]
  },
  {
   "cell_type": "code",
   "execution_count": 73,
   "metadata": {},
   "outputs": [],
   "source": [
    "predictors = headerlist[58]\n",
    "X = training_df[predictors].values.reshape(-1,1)\n",
    "y = training_df['INBGR']\n",
    "# split 80% of the data to the training set while 20% of the data to test set\n",
    "# Because data is imbalance use stratify in test_train_split\n",
    "X_train, X_test, y_train, y_test = train_test_split(X, y, stratify = y, test_size = 0.2, random_state = 0)"
   ]
  },
  {
   "cell_type": "code",
   "execution_count": 74,
   "metadata": {},
   "outputs": [
    {
     "name": "stdout",
     "output_type": "stream",
     "text": [
      "(5560, 1)\n",
      "(1390, 1)\n",
      "(5560,)\n",
      "(1390,)\n",
      "35\n"
     ]
    }
   ],
   "source": [
    "print(X_train.shape)\n",
    "print(X_test.shape)\n",
    "print(y_train.shape)\n",
    "print(y_test.shape)\n",
    "threes = (y_train == 3).astype(int).sum(axis=0)\n",
    "print(threes)"
   ]
  },
  {
   "cell_type": "code",
   "execution_count": 75,
   "metadata": {},
   "outputs": [
    {
     "data": {
      "text/plain": [
       "RandomForestRegressor(bootstrap=True, ccp_alpha=0.0, criterion='mse',\n",
       "                      max_depth=None, max_features='auto', max_leaf_nodes=None,\n",
       "                      max_samples=None, min_impurity_decrease=0.0,\n",
       "                      min_impurity_split=None, min_samples_leaf=1,\n",
       "                      min_samples_split=2, min_weight_fraction_leaf=0.0,\n",
       "                      n_estimators=100, n_jobs=None, oob_score=False,\n",
       "                      random_state=None, verbose=0, warm_start=False)"
      ]
     },
     "execution_count": 75,
     "metadata": {},
     "output_type": "execute_result"
    }
   ],
   "source": [
    "#Create a Gaussian Classifier\n",
    "rfr1p = RandomForestRegressor(n_estimators=100)\n",
    "\n",
    "#Train the model using the training sets y_pred=clf.predict(X_test)\n",
    "rfr1p.fit(X_train,y_train)"
   ]
  },
  {
   "cell_type": "code",
   "execution_count": 76,
   "metadata": {},
   "outputs": [
    {
     "data": {
      "text/html": [
       "<div>\n",
       "<style scoped>\n",
       "    .dataframe tbody tr th:only-of-type {\n",
       "        vertical-align: middle;\n",
       "    }\n",
       "\n",
       "    .dataframe tbody tr th {\n",
       "        vertical-align: top;\n",
       "    }\n",
       "\n",
       "    .dataframe thead th {\n",
       "        text-align: right;\n",
       "    }\n",
       "</style>\n",
       "<table border=\"1\" class=\"dataframe\">\n",
       "  <thead>\n",
       "    <tr style=\"text-align: right;\">\n",
       "      <th></th>\n",
       "      <th>Actual</th>\n",
       "      <th>Predicted</th>\n",
       "    </tr>\n",
       "  </thead>\n",
       "  <tbody>\n",
       "    <tr>\n",
       "      <th>2890</th>\n",
       "      <td>0.0</td>\n",
       "      <td>0.00</td>\n",
       "    </tr>\n",
       "    <tr>\n",
       "      <th>5988</th>\n",
       "      <td>0.0</td>\n",
       "      <td>0.39</td>\n",
       "    </tr>\n",
       "    <tr>\n",
       "      <th>6070</th>\n",
       "      <td>0.0</td>\n",
       "      <td>0.48</td>\n",
       "    </tr>\n",
       "    <tr>\n",
       "      <th>4116</th>\n",
       "      <td>0.0</td>\n",
       "      <td>0.16</td>\n",
       "    </tr>\n",
       "    <tr>\n",
       "      <th>4794</th>\n",
       "      <td>0.0</td>\n",
       "      <td>0.17</td>\n",
       "    </tr>\n",
       "    <tr>\n",
       "      <th>...</th>\n",
       "      <td>...</td>\n",
       "      <td>...</td>\n",
       "    </tr>\n",
       "    <tr>\n",
       "      <th>4229</th>\n",
       "      <td>2.0</td>\n",
       "      <td>0.93</td>\n",
       "    </tr>\n",
       "    <tr>\n",
       "      <th>3673</th>\n",
       "      <td>1.0</td>\n",
       "      <td>0.01</td>\n",
       "    </tr>\n",
       "    <tr>\n",
       "      <th>2642</th>\n",
       "      <td>1.0</td>\n",
       "      <td>0.05</td>\n",
       "    </tr>\n",
       "    <tr>\n",
       "      <th>5504</th>\n",
       "      <td>1.0</td>\n",
       "      <td>1.51</td>\n",
       "    </tr>\n",
       "    <tr>\n",
       "      <th>1403</th>\n",
       "      <td>2.0</td>\n",
       "      <td>0.91</td>\n",
       "    </tr>\n",
       "  </tbody>\n",
       "</table>\n",
       "<p>1390 rows × 2 columns</p>\n",
       "</div>"
      ],
      "text/plain": [
       "      Actual  Predicted\n",
       "2890     0.0       0.00\n",
       "5988     0.0       0.39\n",
       "6070     0.0       0.48\n",
       "4116     0.0       0.16\n",
       "4794     0.0       0.17\n",
       "...      ...        ...\n",
       "4229     2.0       0.93\n",
       "3673     1.0       0.01\n",
       "2642     1.0       0.05\n",
       "5504     1.0       1.51\n",
       "1403     2.0       0.91\n",
       "\n",
       "[1390 rows x 2 columns]"
      ]
     },
     "execution_count": 76,
     "metadata": {},
     "output_type": "execute_result"
    }
   ],
   "source": [
    "y_pred_rf1p = rfr1p.predict(X_test)\n",
    "# Comparison between Actual and Predicted value\n",
    "df = pd.DataFrame({'Actual': y_test, 'Predicted': y_pred_rf1p})\n",
    "df"
   ]
  },
  {
   "cell_type": "code",
   "execution_count": 77,
   "metadata": {},
   "outputs": [
    {
     "data": {
      "image/png": "[encoded data removed]",
      "text/plain": [
       "<Figure size 720x576 with 1 Axes>"
      ]
     },
     "metadata": {
      "needs_background": "light"
     },
     "output_type": "display_data"
    }
   ],
   "source": [
    "df1 = df.head(50)\n",
    "df1.plot(kind='bar',figsize=(10,8))\n",
    "plt.grid(which='major', linestyle='-', linewidth='0.5', color='green')\n",
    "plt.grid(which='minor', linestyle=':', linewidth='0.5', color='black')\n",
    "plt.show()"
   ]
  },
  {
   "cell_type": "code",
   "execution_count": 78,
   "metadata": {},
   "outputs": [
    {
     "data": {
      "text/plain": [
       "-0.2919043494909166"
      ]
     },
     "execution_count": 78,
     "metadata": {},
     "output_type": "execute_result"
    }
   ],
   "source": [
    "rfr1p.score(X_test,y_test)"
   ]
  },
  {
   "cell_type": "code",
   "execution_count": 79,
   "metadata": {},
   "outputs": [
    {
     "name": "stdout",
     "output_type": "stream",
     "text": [
      "Mean Absolute Error: 0.513878417266187\n",
      "Mean Squared Error: 0.5173528289972104\n",
      "Root Mean Squared Error: 0.7192724303052428\n"
     ]
    }
   ],
   "source": [
    "print('Mean Absolute Error:', metrics.mean_absolute_error(y_test, y_pred_rf1p))  \n",
    "print('Mean Squared Error:', metrics.mean_squared_error(y_test, y_pred_rf1p))  \n",
    "print('Root Mean Squared Error:', np.sqrt(metrics.mean_squared_error(y_test, y_pred_rf1p)))"
   ]
  },
  {
   "cell_type": "code",
   "execution_count": 81,
   "metadata": {},
   "outputs": [
    {
     "data": {
      "image/png": "[encoded data removed]",
      "text/plain": [
       "<Figure size 432x288 with 1 Axes>"
      ]
     },
     "metadata": {
      "needs_background": "light"
     },
     "output_type": "display_data"
    }
   ],
   "source": [
    "# plot linear regression line\n",
    "plt.scatter(X_test, y_test,  color='gray')\n",
    "plt.scatter(X_test, y_pred_rf1p, color='red', alpha=0.5)\n",
    "plt.show()"
   ]
  },
  {
   "cell_type": "code",
   "execution_count": 83,
   "metadata": {},
   "outputs": [
    {
     "data": {
      "image/png": "[encoded data removed]",
      "text/plain": [
       "<Figure size 432x288 with 1 Axes>"
      ]
     },
     "metadata": {
      "needs_background": "light"
     },
     "output_type": "display_data"
    }
   ],
   "source": [
    "r_squared_rf1p = metrics.r2_score(y_test, y_pred_rf1p)\n",
    "plt.scatter(y_test, y_pred_rf1p)\n",
    "plt.xlabel('Actual values')\n",
    "plt.ylabel('Predicted values')\n",
    "plt.title('Random Forest Regression with One Predictor | R-squared: {:1.3f}'.format(r_squared_rf1p))\n",
    "\n",
    "plt.plot(np.unique(y_test), np.poly1d(np.polyfit(y_test, y_pred_rf1p, 1))(np.unique(y_test)), color='red')\n",
    "\n",
    "plt.show()"
   ]
  },
  {
   "cell_type": "markdown",
   "metadata": {},
   "source": [
    "# Experiment: \n",
    "# Apply the Random Forest Regression (with default parameters) using the first TWO important features"
   ]
  },
  {
   "cell_type": "code",
   "execution_count": null,
   "metadata": {},
   "outputs": [],
   "source": [
    "# print headers to find the index of the columns of interest\n",
    "#print ([list((i, headerlist[i])) for i in range(len(headerlist))])"
   ]
  },
  {
   "cell_type": "code",
   "execution_count": 84,
   "metadata": {},
   "outputs": [],
   "source": [
    "predictors = [headerlist[10]] + [headerlist[58]]\n",
    "X = training_df[predictors].values\n",
    "\n",
    "y = training_df['INBGR']\n",
    "# split 80% of the data to the training set while 20% of the data to test set\n",
    "# Because data is imbalance use stratify in test_train_split\n",
    "X_train, X_test, y_train, y_test = train_test_split(X, y, stratify = y, test_size = 0.2, random_state = 0)"
   ]
  },
  {
   "cell_type": "code",
   "execution_count": 85,
   "metadata": {},
   "outputs": [
    {
     "name": "stdout",
     "output_type": "stream",
     "text": [
      "(5560, 2)\n",
      "(1390, 2)\n",
      "(5560,)\n",
      "(1390,)\n",
      "35\n"
     ]
    }
   ],
   "source": [
    "print(X_train.shape)\n",
    "print(X_test.shape)\n",
    "print(y_train.shape)\n",
    "print(y_test.shape)\n",
    "threes = (y_train == 3).astype(int).sum(axis=0)\n",
    "print(threes)"
   ]
  },
  {
   "cell_type": "code",
   "execution_count": 86,
   "metadata": {},
   "outputs": [
    {
     "data": {
      "text/plain": [
       "RandomForestRegressor(bootstrap=True, ccp_alpha=0.0, criterion='mse',\n",
       "                      max_depth=None, max_features='auto', max_leaf_nodes=None,\n",
       "                      max_samples=None, min_impurity_decrease=0.0,\n",
       "                      min_impurity_split=None, min_samples_leaf=1,\n",
       "                      min_samples_split=2, min_weight_fraction_leaf=0.0,\n",
       "                      n_estimators=100, n_jobs=None, oob_score=False,\n",
       "                      random_state=None, verbose=0, warm_start=False)"
      ]
     },
     "execution_count": 86,
     "metadata": {},
     "output_type": "execute_result"
    }
   ],
   "source": [
    "#Create a Gaussian Classifier\n",
    "rfr2p = RandomForestRegressor(n_estimators=100)\n",
    "\n",
    "#Train the model using the training sets y_pred=clf.predict(X_test)\n",
    "rfr2p.fit(X_train,y_train)"
   ]
  },
  {
   "cell_type": "code",
   "execution_count": 89,
   "metadata": {},
   "outputs": [
    {
     "data": {
      "text/html": [
       "<div>\n",
       "<style scoped>\n",
       "    .dataframe tbody tr th:only-of-type {\n",
       "        vertical-align: middle;\n",
       "    }\n",
       "\n",
       "    .dataframe tbody tr th {\n",
       "        vertical-align: top;\n",
       "    }\n",
       "\n",
       "    .dataframe thead th {\n",
       "        text-align: right;\n",
       "    }\n",
       "</style>\n",
       "<table border=\"1\" class=\"dataframe\">\n",
       "  <thead>\n",
       "    <tr style=\"text-align: right;\">\n",
       "      <th></th>\n",
       "      <th>Actual</th>\n",
       "      <th>RF Predicted with 1P</th>\n",
       "      <th>RF Predicted with 2P</th>\n",
       "    </tr>\n",
       "  </thead>\n",
       "  <tbody>\n",
       "    <tr>\n",
       "      <th>2890</th>\n",
       "      <td>0.0</td>\n",
       "      <td>0.00</td>\n",
       "      <td>0.34</td>\n",
       "    </tr>\n",
       "    <tr>\n",
       "      <th>5988</th>\n",
       "      <td>0.0</td>\n",
       "      <td>0.39</td>\n",
       "      <td>0.46</td>\n",
       "    </tr>\n",
       "    <tr>\n",
       "      <th>6070</th>\n",
       "      <td>0.0</td>\n",
       "      <td>0.48</td>\n",
       "      <td>0.13</td>\n",
       "    </tr>\n",
       "    <tr>\n",
       "      <th>4116</th>\n",
       "      <td>0.0</td>\n",
       "      <td>0.16</td>\n",
       "      <td>1.05</td>\n",
       "    </tr>\n",
       "    <tr>\n",
       "      <th>4794</th>\n",
       "      <td>0.0</td>\n",
       "      <td>0.17</td>\n",
       "      <td>0.05</td>\n",
       "    </tr>\n",
       "    <tr>\n",
       "      <th>...</th>\n",
       "      <td>...</td>\n",
       "      <td>...</td>\n",
       "      <td>...</td>\n",
       "    </tr>\n",
       "    <tr>\n",
       "      <th>4229</th>\n",
       "      <td>2.0</td>\n",
       "      <td>0.93</td>\n",
       "      <td>1.06</td>\n",
       "    </tr>\n",
       "    <tr>\n",
       "      <th>3673</th>\n",
       "      <td>1.0</td>\n",
       "      <td>0.01</td>\n",
       "      <td>0.10</td>\n",
       "    </tr>\n",
       "    <tr>\n",
       "      <th>2642</th>\n",
       "      <td>1.0</td>\n",
       "      <td>0.05</td>\n",
       "      <td>0.39</td>\n",
       "    </tr>\n",
       "    <tr>\n",
       "      <th>5504</th>\n",
       "      <td>1.0</td>\n",
       "      <td>1.51</td>\n",
       "      <td>0.38</td>\n",
       "    </tr>\n",
       "    <tr>\n",
       "      <th>1403</th>\n",
       "      <td>2.0</td>\n",
       "      <td>0.91</td>\n",
       "      <td>0.83</td>\n",
       "    </tr>\n",
       "  </tbody>\n",
       "</table>\n",
       "<p>1390 rows × 3 columns</p>\n",
       "</div>"
      ],
      "text/plain": [
       "      Actual  RF Predicted with 1P  RF Predicted with 2P\n",
       "2890     0.0                  0.00                  0.34\n",
       "5988     0.0                  0.39                  0.46\n",
       "6070     0.0                  0.48                  0.13\n",
       "4116     0.0                  0.16                  1.05\n",
       "4794     0.0                  0.17                  0.05\n",
       "...      ...                   ...                   ...\n",
       "4229     2.0                  0.93                  1.06\n",
       "3673     1.0                  0.01                  0.10\n",
       "2642     1.0                  0.05                  0.39\n",
       "5504     1.0                  1.51                  0.38\n",
       "1403     2.0                  0.91                  0.83\n",
       "\n",
       "[1390 rows x 3 columns]"
      ]
     },
     "execution_count": 89,
     "metadata": {},
     "output_type": "execute_result"
    }
   ],
   "source": [
    "y_pred_rf2p = rfr2p.predict(X_test)\n",
    "# Comparison between Actual and Predicted value\n",
    "df = pd.DataFrame({'Actual': y_test, 'RF Predicted with 1P': y_pred_rf1p, 'RF Predicted with 2P': y_pred_rf2p})\n",
    "df"
   ]
  },
  {
   "cell_type": "code",
   "execution_count": 90,
   "metadata": {},
   "outputs": [
    {
     "data": {
      "image/png": "[encoded data removed]",
      "text/plain": [
       "<Figure size 720x576 with 1 Axes>"
      ]
     },
     "metadata": {
      "needs_background": "light"
     },
     "output_type": "display_data"
    }
   ],
   "source": [
    "df1 = df.head(50)\n",
    "df1.plot(kind='bar',figsize=(10,8))\n",
    "plt.grid(which='major', linestyle='-', linewidth='0.5', color='green')\n",
    "plt.grid(which='minor', linestyle=':', linewidth='0.5', color='black')\n",
    "plt.show()"
   ]
  },
  {
   "cell_type": "code",
   "execution_count": 91,
   "metadata": {},
   "outputs": [
    {
     "data": {
      "text/plain": [
       "0.12524050695079914"
      ]
     },
     "execution_count": 91,
     "metadata": {},
     "output_type": "execute_result"
    }
   ],
   "source": [
    "rfr2p.score(X_test,y_test)"
   ]
  },
  {
   "cell_type": "code",
   "execution_count": 92,
   "metadata": {},
   "outputs": [
    {
     "name": "stdout",
     "output_type": "stream",
     "text": [
      "Mean Absolute Error: 0.513878417266187\n",
      "Mean Squared Error: 0.5173528289972104\n",
      "Root Mean Squared Error: 0.7192724303052428\n",
      "------------\n",
      "Mean Absolute Error: 0.44997122302158277\n",
      "Mean Squared Error: 0.3503040287769784\n",
      "Root Mean Squared Error: 0.5918648737482048\n"
     ]
    }
   ],
   "source": [
    "print('Mean Absolute Error:', metrics.mean_absolute_error(y_test, y_pred_rf1p))  \n",
    "print('Mean Squared Error:', metrics.mean_squared_error(y_test, y_pred_rf1p))  \n",
    "print('Root Mean Squared Error:', np.sqrt(metrics.mean_squared_error(y_test, y_pred_rf1p)))\n",
    "print('------------')\n",
    "print('Mean Absolute Error:', metrics.mean_absolute_error(y_test, y_pred_rf2p))  \n",
    "print('Mean Squared Error:', metrics.mean_squared_error(y_test, y_pred_rf2p))  \n",
    "print('Root Mean Squared Error:', np.sqrt(metrics.mean_squared_error(y_test, y_pred_rf2p)))"
   ]
  },
  {
   "cell_type": "code",
   "execution_count": 93,
   "metadata": {},
   "outputs": [
    {
     "data": {
      "text/plain": [
       "<mpl_toolkits.mplot3d.art3d.Path3DCollection at 0x1a28154090>"
      ]
     },
     "execution_count": 93,
     "metadata": {},
     "output_type": "execute_result"
    },
    {
     "data": {
      "image/png": "[encoded data removed]",
      "text/plain": [
       "<Figure size 432x288 with 1 Axes>"
      ]
     },
     "metadata": {
      "needs_background": "light"
     },
     "output_type": "display_data"
    }
   ],
   "source": [
    "import matplotlib.pyplot as plt\n",
    "from mpl_toolkits.mplot3d import Axes3D\n",
    "fig = plt.figure()\n",
    "ax = fig.add_subplot(111, projection='3d')\n",
    "ax.scatter(X_test[:,0], X_test[:,1], y_test, zdir='z')\n",
    "ax.scatter(X_test[:,0], X_test[:,1], y_pred_rf2p, zdir='z', c='red', alpha=0.5)"
   ]
  },
  {
   "cell_type": "code",
   "execution_count": 94,
   "metadata": {},
   "outputs": [
    {
     "data": {
      "image/png": "[encoded data removed]",
      "text/plain": [
       "<Figure size 432x288 with 1 Axes>"
      ]
     },
     "metadata": {
      "needs_background": "light"
     },
     "output_type": "display_data"
    }
   ],
   "source": [
    "r_squared_rf2p = metrics.r2_score(y_test, y_pred_rf2p)\n",
    "plt.scatter(y_test, y_pred_rf2p)\n",
    "plt.xlabel('Actual values')\n",
    "plt.ylabel('Predicted values')\n",
    "plt.title('Random Forest Regression with TWO Predictors | R-squared: {:1.3f}'.format(r_squared_rf2p))\n",
    "\n",
    "plt.plot(np.unique(y_test), np.poly1d(np.polyfit(y_test, y_pred_rf2p, 1))(np.unique(y_test)), color='red')\n",
    "\n",
    "plt.show()"
   ]
  },
  {
   "cell_type": "markdown",
   "metadata": {},
   "source": [
    "# SVM Regression"
   ]
  },
  {
   "cell_type": "markdown",
   "metadata": {},
   "source": [
    "Regression problems involve the task of approximating a mapping function from input variables to a continuous output variable. The approach of using SVMs to solve regression problems is called Support Vector Regression (SVR)."
   ]
  },
  {
   "cell_type": "code",
   "execution_count": 121,
   "metadata": {},
   "outputs": [],
   "source": [
    "import math\n",
    "from sklearn.utils import shuffle\n",
    "from sklearn.preprocessing import MinMaxScaler\n",
    "from sklearn.model_selection import GridSearchCV, cross_validate\n",
    "from sklearn.svm import SVR"
   ]
  },
  {
   "cell_type": "code",
   "execution_count": 122,
   "metadata": {},
   "outputs": [],
   "source": [
    "headerlist = training_df.columns.values.tolist()\n",
    "# print headers to find the index of the columns of interest\n",
    "#print ([list((i, headerlist[i])) for i in range(len(headerlist))])"
   ]
  },
  {
   "cell_type": "code",
   "execution_count": 123,
   "metadata": {},
   "outputs": [],
   "source": [
    "predictors = headerlist[2:64]\n",
    "X = training_df[predictors].values\n",
    "y = training_df['INBGR'].values\n",
    "# shuffle the data\n",
    "X, y = shuffle(X, y, random_state=42)\n",
    "# split 80% of the data to the training set while 20% of the data to test set\n",
    "# Because data is imbalance use stratify in test_train_split\n",
    "X_train, X_test, y_train, y_test = train_test_split(X, y, stratify = y, test_size = 0.2, random_state = 0)"
   ]
  },
  {
   "cell_type": "code",
   "execution_count": 124,
   "metadata": {},
   "outputs": [
    {
     "name": "stdout",
     "output_type": "stream",
     "text": [
      "(5560, 62)\n",
      "(1390, 62)\n",
      "(5560,)\n",
      "(1390,)\n",
      "35\n"
     ]
    }
   ],
   "source": [
    "print(X_train.shape)\n",
    "print(X_test.shape)\n",
    "print(y_train.shape)\n",
    "print(y_test.shape)\n",
    "threes = (y_train == 3).astype(int).sum(axis=0)\n",
    "print(threes)"
   ]
  },
  {
   "cell_type": "code",
   "execution_count": 125,
   "metadata": {},
   "outputs": [],
   "source": [
    "# normalize the data set\n",
    "scaler = MinMaxScaler(feature_range=(0, 1))\n",
    "X_train = scaler.fit_transform(X_train)\n",
    "X_test = scaler.fit_transform(X_test)"
   ]
  },
  {
   "cell_type": "code",
   "execution_count": 126,
   "metadata": {},
   "outputs": [
    {
     "data": {
      "text/plain": [
       "SVR(C=1.0, cache_size=200, coef0=0.0, degree=3, epsilon=0.1, gamma='scale',\n",
       "    kernel='rbf', max_iter=-1, shrinking=True, tol=0.001, verbose=False)"
      ]
     },
     "execution_count": 126,
     "metadata": {},
     "output_type": "execute_result"
    }
   ],
   "source": [
    "#Create a Gaussian Classifier\n",
    "svr = SVR(kernel='rbf')\n",
    "\n",
    "#Train the model using the training sets y_pred=clf.predict(X_test)\n",
    "svr.fit(X_train,y_train)"
   ]
  },
  {
   "cell_type": "code",
   "execution_count": 127,
   "metadata": {},
   "outputs": [
    {
     "data": {
      "text/html": [
       "<div>\n",
       "<style scoped>\n",
       "    .dataframe tbody tr th:only-of-type {\n",
       "        vertical-align: middle;\n",
       "    }\n",
       "\n",
       "    .dataframe tbody tr th {\n",
       "        vertical-align: top;\n",
       "    }\n",
       "\n",
       "    .dataframe thead th {\n",
       "        text-align: right;\n",
       "    }\n",
       "</style>\n",
       "<table border=\"1\" class=\"dataframe\">\n",
       "  <thead>\n",
       "    <tr style=\"text-align: right;\">\n",
       "      <th></th>\n",
       "      <th>Actual</th>\n",
       "      <th>SVR Predicted</th>\n",
       "    </tr>\n",
       "  </thead>\n",
       "  <tbody>\n",
       "    <tr>\n",
       "      <th>0</th>\n",
       "      <td>0.0</td>\n",
       "      <td>0.733039</td>\n",
       "    </tr>\n",
       "    <tr>\n",
       "      <th>1</th>\n",
       "      <td>0.0</td>\n",
       "      <td>0.477288</td>\n",
       "    </tr>\n",
       "    <tr>\n",
       "      <th>2</th>\n",
       "      <td>0.0</td>\n",
       "      <td>0.657728</td>\n",
       "    </tr>\n",
       "    <tr>\n",
       "      <th>3</th>\n",
       "      <td>0.0</td>\n",
       "      <td>0.831832</td>\n",
       "    </tr>\n",
       "    <tr>\n",
       "      <th>4</th>\n",
       "      <td>0.0</td>\n",
       "      <td>0.341145</td>\n",
       "    </tr>\n",
       "    <tr>\n",
       "      <th>...</th>\n",
       "      <td>...</td>\n",
       "      <td>...</td>\n",
       "    </tr>\n",
       "    <tr>\n",
       "      <th>1385</th>\n",
       "      <td>2.0</td>\n",
       "      <td>1.083579</td>\n",
       "    </tr>\n",
       "    <tr>\n",
       "      <th>1386</th>\n",
       "      <td>1.0</td>\n",
       "      <td>1.149728</td>\n",
       "    </tr>\n",
       "    <tr>\n",
       "      <th>1387</th>\n",
       "      <td>1.0</td>\n",
       "      <td>0.716338</td>\n",
       "    </tr>\n",
       "    <tr>\n",
       "      <th>1388</th>\n",
       "      <td>1.0</td>\n",
       "      <td>1.128393</td>\n",
       "    </tr>\n",
       "    <tr>\n",
       "      <th>1389</th>\n",
       "      <td>2.0</td>\n",
       "      <td>1.087681</td>\n",
       "    </tr>\n",
       "  </tbody>\n",
       "</table>\n",
       "<p>1390 rows × 2 columns</p>\n",
       "</div>"
      ],
      "text/plain": [
       "      Actual  SVR Predicted\n",
       "0        0.0       0.733039\n",
       "1        0.0       0.477288\n",
       "2        0.0       0.657728\n",
       "3        0.0       0.831832\n",
       "4        0.0       0.341145\n",
       "...      ...            ...\n",
       "1385     2.0       1.083579\n",
       "1386     1.0       1.149728\n",
       "1387     1.0       0.716338\n",
       "1388     1.0       1.128393\n",
       "1389     2.0       1.087681\n",
       "\n",
       "[1390 rows x 2 columns]"
      ]
     },
     "execution_count": 127,
     "metadata": {},
     "output_type": "execute_result"
    }
   ],
   "source": [
    "y_pred_svr = svr.predict(X_test)\n",
    "# Comparison between Actual and Predicted value\n",
    "df = pd.DataFrame({'Actual': y_test, 'SVR Predicted': y_pred_svr})\n",
    "df"
   ]
  },
  {
   "cell_type": "code",
   "execution_count": 128,
   "metadata": {},
   "outputs": [
    {
     "data": {
      "image/png": "[encoded data removed]",
      "text/plain": [
       "<Figure size 720x576 with 1 Axes>"
      ]
     },
     "metadata": {
      "needs_background": "light"
     },
     "output_type": "display_data"
    }
   ],
   "source": [
    "df1 = df.head(50)\n",
    "df1.plot(kind='bar',figsize=(10,8))\n",
    "plt.grid(which='major', linestyle='-', linewidth='0.5', color='green')\n",
    "plt.grid(which='minor', linestyle=':', linewidth='0.5', color='black')\n",
    "plt.show()"
   ]
  },
  {
   "cell_type": "code",
   "execution_count": 129,
   "metadata": {},
   "outputs": [
    {
     "data": {
      "text/plain": [
       "0.04937212990450679"
      ]
     },
     "execution_count": 129,
     "metadata": {},
     "output_type": "execute_result"
    }
   ],
   "source": [
    "svr.score(X_test,y_test)"
   ]
  },
  {
   "cell_type": "code",
   "execution_count": 130,
   "metadata": {},
   "outputs": [
    {
     "name": "stdout",
     "output_type": "stream",
     "text": [
      "Mean Absolute Error: 0.5084389288064193\n",
      "Mean Squared Error: 0.38068609190091895\n",
      "Root Mean Squared Error: 0.6169976433511873\n"
     ]
    }
   ],
   "source": [
    "print('Mean Absolute Error:', metrics.mean_absolute_error(y_test, y_pred_svr))  \n",
    "print('Mean Squared Error:', metrics.mean_squared_error(y_test, y_pred_svr))  \n",
    "print('Root Mean Squared Error:', np.sqrt(metrics.mean_squared_error(y_test, y_pred_svr)))"
   ]
  },
  {
   "cell_type": "code",
   "execution_count": 131,
   "metadata": {},
   "outputs": [
    {
     "data": {
      "image/png": "[encoded data removed]",
      "text/plain": [
       "<Figure size 432x288 with 1 Axes>"
      ]
     },
     "metadata": {
      "needs_background": "light"
     },
     "output_type": "display_data"
    }
   ],
   "source": [
    "r_squared_svr = metrics.r2_score(y_test, y_pred_svr)\n",
    "plt.scatter(y_test, y_pred_svr)\n",
    "plt.xlabel('Actual values')\n",
    "plt.ylabel('Predicted values')\n",
    "plt.title('Support Vector Regression | R-squared: {:1.3f}'.format(r_squared_svr))\n",
    "\n",
    "plt.plot(np.unique(y_test), np.poly1d(np.polyfit(y_test, y_pred_svr, 1))(np.unique(y_test)), color='red')\n",
    "\n",
    "plt.show()"
   ]
  },
  {
   "cell_type": "markdown",
   "metadata": {},
   "source": [
    "# Find the optimized parameters set for SVR using a grid search"
   ]
  },
  {
   "cell_type": "code",
   "execution_count": 132,
   "metadata": {},
   "outputs": [],
   "source": [
    "# def svr_model(X, y):\n",
    "#     gsc = GridSearchCV(\n",
    "#         estimator=SVR(kernel='rbf'),\n",
    "#         param_grid={\n",
    "#             'C': [0.1, 1, 100, 1000],\n",
    "#             'epsilon': [0.0001, 0.0005, 0.001, 0.005, 0.01, 0.05, 0.1, 0.5, 1, 5, 10],\n",
    "#             'gamma': [0.0001, 0.001, 0.005, 0.1, 1, 3, 5]\n",
    "#         },\n",
    "#         cv=5, scoring='neg_mean_squared_error', verbose=0, n_jobs=-1)\n",
    "\n",
    "#     grid_result = gsc.fit(X, y)\n",
    "#     best_params = grid_result.best_params_\n",
    "#     best_svr = SVR(kernel='rbf', C=best_params[\"C\"], epsilon=best_params[\"epsilon\"], gamma=best_params[\"gamma\"],\n",
    "#                    coef0=0.1, shrinking=True,\n",
    "#                    tol=0.001, cache_size=200, verbose=False, max_iter=-1)\n",
    "\n",
    "#     scoring = {\n",
    "#                'abs_error': 'neg_mean_absolute_error',\n",
    "#                'squared_error': 'neg_mean_squared_error'}\n",
    "\n",
    "#     scores = cross_validate(best_svr, X, y, cv=10, scoring=scoring, return_train_score=True)\n",
    "#     return \"MAE :\", abs(scores['test_abs_error'].mean()), \"| RMSE :\", math.sqrt(abs(scores['test_squared_error'].mean()))"
   ]
  },
  {
   "cell_type": "code",
   "execution_count": 133,
   "metadata": {},
   "outputs": [],
   "source": [
    "# # Run \n",
    "# print(svr_model(X,y))"
   ]
  },
  {
   "cell_type": "markdown",
   "metadata": {},
   "source": [
    "# Random Forest Regression (using default parameters) and normalized data"
   ]
  },
  {
   "cell_type": "code",
   "execution_count": 134,
   "metadata": {},
   "outputs": [
    {
     "data": {
      "text/plain": [
       "RandomForestRegressor(bootstrap=True, ccp_alpha=0.0, criterion='mse',\n",
       "                      max_depth=None, max_features='auto', max_leaf_nodes=None,\n",
       "                      max_samples=None, min_impurity_decrease=0.0,\n",
       "                      min_impurity_split=None, min_samples_leaf=1,\n",
       "                      min_samples_split=2, min_weight_fraction_leaf=0.0,\n",
       "                      n_estimators=100, n_jobs=None, oob_score=False,\n",
       "                      random_state=0, verbose=0, warm_start=False)"
      ]
     },
     "execution_count": 134,
     "metadata": {},
     "output_type": "execute_result"
    }
   ],
   "source": [
    "# Set the regressor\n",
    "# setting the random_state makes the results reproducible\n",
    "rfr_nor = RandomForestRegressor(n_estimators=100, random_state=0)\n",
    "\n",
    "#Train the model using the training sets y_pred=clf.predict(X_test)\n",
    "rfr_nor.fit(X_train,y_train)"
   ]
  },
  {
   "cell_type": "code",
   "execution_count": 135,
   "metadata": {},
   "outputs": [
    {
     "data": {
      "text/html": [
       "<div>\n",
       "<style scoped>\n",
       "    .dataframe tbody tr th:only-of-type {\n",
       "        vertical-align: middle;\n",
       "    }\n",
       "\n",
       "    .dataframe tbody tr th {\n",
       "        vertical-align: top;\n",
       "    }\n",
       "\n",
       "    .dataframe thead th {\n",
       "        text-align: right;\n",
       "    }\n",
       "</style>\n",
       "<table border=\"1\" class=\"dataframe\">\n",
       "  <thead>\n",
       "    <tr style=\"text-align: right;\">\n",
       "      <th></th>\n",
       "      <th>Actual</th>\n",
       "      <th>RF Predicted</th>\n",
       "      <th>RF Predicted (normalized data)</th>\n",
       "    </tr>\n",
       "  </thead>\n",
       "  <tbody>\n",
       "    <tr>\n",
       "      <th>0</th>\n",
       "      <td>0.0</td>\n",
       "      <td>0.18</td>\n",
       "      <td>0.64</td>\n",
       "    </tr>\n",
       "    <tr>\n",
       "      <th>1</th>\n",
       "      <td>0.0</td>\n",
       "      <td>0.40</td>\n",
       "      <td>0.87</td>\n",
       "    </tr>\n",
       "    <tr>\n",
       "      <th>2</th>\n",
       "      <td>0.0</td>\n",
       "      <td>0.35</td>\n",
       "      <td>0.57</td>\n",
       "    </tr>\n",
       "    <tr>\n",
       "      <th>3</th>\n",
       "      <td>0.0</td>\n",
       "      <td>0.43</td>\n",
       "      <td>0.85</td>\n",
       "    </tr>\n",
       "    <tr>\n",
       "      <th>4</th>\n",
       "      <td>0.0</td>\n",
       "      <td>0.28</td>\n",
       "      <td>0.81</td>\n",
       "    </tr>\n",
       "    <tr>\n",
       "      <th>...</th>\n",
       "      <td>...</td>\n",
       "      <td>...</td>\n",
       "      <td>...</td>\n",
       "    </tr>\n",
       "    <tr>\n",
       "      <th>1385</th>\n",
       "      <td>2.0</td>\n",
       "      <td>1.38</td>\n",
       "      <td>1.04</td>\n",
       "    </tr>\n",
       "    <tr>\n",
       "      <th>1386</th>\n",
       "      <td>1.0</td>\n",
       "      <td>0.39</td>\n",
       "      <td>1.29</td>\n",
       "    </tr>\n",
       "    <tr>\n",
       "      <th>1387</th>\n",
       "      <td>1.0</td>\n",
       "      <td>0.16</td>\n",
       "      <td>0.87</td>\n",
       "    </tr>\n",
       "    <tr>\n",
       "      <th>1388</th>\n",
       "      <td>1.0</td>\n",
       "      <td>1.44</td>\n",
       "      <td>1.11</td>\n",
       "    </tr>\n",
       "    <tr>\n",
       "      <th>1389</th>\n",
       "      <td>2.0</td>\n",
       "      <td>0.70</td>\n",
       "      <td>0.83</td>\n",
       "    </tr>\n",
       "  </tbody>\n",
       "</table>\n",
       "<p>1390 rows × 3 columns</p>\n",
       "</div>"
      ],
      "text/plain": [
       "      Actual  RF Predicted  RF Predicted (normalized data)\n",
       "0        0.0          0.18                            0.64\n",
       "1        0.0          0.40                            0.87\n",
       "2        0.0          0.35                            0.57\n",
       "3        0.0          0.43                            0.85\n",
       "4        0.0          0.28                            0.81\n",
       "...      ...           ...                             ...\n",
       "1385     2.0          1.38                            1.04\n",
       "1386     1.0          0.39                            1.29\n",
       "1387     1.0          0.16                            0.87\n",
       "1388     1.0          1.44                            1.11\n",
       "1389     2.0          0.70                            0.83\n",
       "\n",
       "[1390 rows x 3 columns]"
      ]
     },
     "execution_count": 135,
     "metadata": {},
     "output_type": "execute_result"
    }
   ],
   "source": [
    "y_pred_rf_nor = rfr_nor.predict(X_test)\n",
    "# Comparison between Actual and Predicted value\n",
    "df = pd.DataFrame({'Actual': y_test, 'RF Predicted': y_pred_rf, 'RF Predicted (normalized data)': y_pred_rf_nor})\n",
    "df"
   ]
  },
  {
   "cell_type": "code",
   "execution_count": 136,
   "metadata": {},
   "outputs": [
    {
     "data": {
      "image/png": "[encoded data removed]",
      "text/plain": [
       "<Figure size 720x576 with 1 Axes>"
      ]
     },
     "metadata": {
      "needs_background": "light"
     },
     "output_type": "display_data"
    }
   ],
   "source": [
    "df1 = df.head(50)\n",
    "df1.plot(kind='bar',figsize=(10,8))\n",
    "plt.grid(which='major', linestyle='-', linewidth='0.5', color='green')\n",
    "plt.grid(which='minor', linestyle=':', linewidth='0.5', color='black')\n",
    "plt.show()"
   ]
  },
  {
   "cell_type": "code",
   "execution_count": 137,
   "metadata": {},
   "outputs": [
    {
     "data": {
      "text/plain": [
       "summary_wm_p95     0.145889\n",
       "icvs_csf           0.112046\n",
       "qi_2               0.039161\n",
       "snrd_csf           0.029968\n",
       "icvs_gm            0.023393\n",
       "                     ...   \n",
       "summary_gm_mean    0.005962\n",
       "snr_wm             0.005828\n",
       "summary_bg_mad     0.005705\n",
       "summary_bg_mean    0.005230\n",
       "summary_wm_stdv    0.004950\n",
       "Length: 62, dtype: float64"
      ]
     },
     "execution_count": 137,
     "metadata": {},
     "output_type": "execute_result"
    }
   ],
   "source": [
    "feature_imp = pd.Series(rfr_nor.feature_importances_,index=training_df[predictors].columns).sort_values(ascending=False)\n",
    "feature_imp"
   ]
  },
  {
   "cell_type": "code",
   "execution_count": 138,
   "metadata": {},
   "outputs": [
    {
     "name": "stderr",
     "output_type": "stream",
     "text": [
      "No handles with labels found to put in legend.\n"
     ]
    },
    {
     "data": {
      "image/png": "[encoded data removed]",
      "text/plain": [
       "<Figure size 432x288 with 1 Axes>"
      ]
     },
     "metadata": {
      "needs_background": "light"
     },
     "output_type": "display_data"
    }
   ],
   "source": [
    "feature_imp1 = feature_imp.head(10)\n",
    "# Creating a bar plot\n",
    "seabornInstance.barplot(x=feature_imp1, y=feature_imp1.index)\n",
    "# Add labels to your graph\n",
    "plt.xlabel('Feature Importance Score')\n",
    "plt.ylabel('Features')\n",
    "plt.title(\"Visualizing Important Features for Random Forest Regressor\")\n",
    "plt.legend()\n",
    "plt.show()"
   ]
  },
  {
   "cell_type": "code",
   "execution_count": 139,
   "metadata": {},
   "outputs": [
    {
     "name": "stdout",
     "output_type": "stream",
     "text": [
      "Mean Absolute Error: 0.36543165467625893\n",
      "Mean Squared Error: 0.22019345323741008\n",
      "Root Mean Squared Error: 0.4692477525118368\n",
      "-------\n",
      "Mean Absolute Error: 0.7032230215827339\n",
      "Mean Squared Error: 0.6377612949640288\n",
      "Root Mean Squared Error: 0.7985995836237512\n"
     ]
    }
   ],
   "source": [
    "print('Mean Absolute Error:', metrics.mean_absolute_error(y_test, y_pred_rf))  \n",
    "print('Mean Squared Error:', metrics.mean_squared_error(y_test, y_pred_rf))  \n",
    "print('Root Mean Squared Error:', np.sqrt(metrics.mean_squared_error(y_test, y_pred_rf)))\n",
    "print('-------')\n",
    "print('Mean Absolute Error:', metrics.mean_absolute_error(y_test, y_pred_rf_nor))  \n",
    "print('Mean Squared Error:', metrics.mean_squared_error(y_test, y_pred_rf_nor))  \n",
    "print('Root Mean Squared Error:', np.sqrt(metrics.mean_squared_error(y_test, y_pred_rf_nor)))"
   ]
  },
  {
   "cell_type": "code",
   "execution_count": 140,
   "metadata": {},
   "outputs": [
    {
     "data": {
      "text/plain": [
       "-0.5925815898175575"
      ]
     },
     "execution_count": 140,
     "metadata": {},
     "output_type": "execute_result"
    }
   ],
   "source": [
    "# the score function returns r-squared\n",
    "rfr_nor.score(X_test,y_test)"
   ]
  },
  {
   "cell_type": "code",
   "execution_count": 142,
   "metadata": {},
   "outputs": [
    {
     "name": "stdout",
     "output_type": "stream",
     "text": [
      "R-squared: -0.5925815898175575\n"
     ]
    }
   ],
   "source": [
    "# r-squared could be calculated by metrics as well\n",
    "r_squared_rf_nor = metrics.r2_score(y_test, y_pred_rf_nor)\n",
    "print('R-squared:', r_squared_rf_nor)  "
   ]
  },
  {
   "cell_type": "code",
   "execution_count": 143,
   "metadata": {},
   "outputs": [
    {
     "data": {
      "image/png": "[encoded data removed]",
      "text/plain": [
       "<Figure size 432x288 with 1 Axes>"
      ]
     },
     "metadata": {
      "needs_background": "light"
     },
     "output_type": "display_data"
    }
   ],
   "source": [
    "plt.scatter(y_test, y_pred_rf_nor)\n",
    "plt.xlabel('Actual values')\n",
    "plt.ylabel('Predicted values')\n",
    "plt.title('Random Forest Regression on Normalized Data | R-squared: {:1.3f}'.format(r_squared_rf_nor))\n",
    "\n",
    "plt.plot(np.unique(y_test), np.poly1d(np.polyfit(y_test, y_pred_rf_nor, 1))(np.unique(y_test)), color='red')\n",
    "\n",
    "plt.show()"
   ]
  },
  {
   "cell_type": "code",
   "execution_count": null,
   "metadata": {},
   "outputs": [],
   "source": []
  }
 ],
 "metadata": {
  "kernelspec": {
   "display_name": "Python 3",
   "language": "python",
   "name": "python3"
  },
  "language_info": {
   "codemirror_mode": {
    "name": "ipython",
    "version": 3
   },
   "file_extension": ".py",
   "mimetype": "text/x-python",
   "name": "python",
   "nbconvert_exporter": "python",
   "pygments_lexer": "ipython3",
   "version": "3.7.6"
  }
 },
 "nbformat": 4,
 "nbformat_minor": 1
}
