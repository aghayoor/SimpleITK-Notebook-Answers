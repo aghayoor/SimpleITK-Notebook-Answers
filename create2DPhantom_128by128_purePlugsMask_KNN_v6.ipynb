{
 "cells": [
  {
   "cell_type": "code",
   "execution_count": 1,
   "metadata": {
    "collapsed": false
   },
   "outputs": [
    {
     "name": "stdout",
     "output_type": "stream",
     "text": [
      "SimpleITK Version: 0.9.1\n",
      "Compiled: Sep 28 2015 10:07:41\n",
      "\n"
     ]
    }
   ],
   "source": [
    "## Boiler plate code common to many notebooks.  See the TestFilesCommonCode.ipynb for details\n",
    "from __future__ import print_function\n",
    "%run TestFilesCommonCode.ipynb"
   ]
  },
  {
   "cell_type": "code",
   "execution_count": 2,
   "metadata": {
    "collapsed": true
   },
   "outputs": [],
   "source": [
    "import scipy.io\n",
    "import numpy as np\n",
    "from itertools import product\n",
    "from sklearn.neighbors import KNeighborsClassifier"
   ]
  },
  {
   "cell_type": "code",
   "execution_count": 3,
   "metadata": {
    "collapsed": true
   },
   "outputs": [],
   "source": [
    "OUT_DIR='/raid0/homes/aghayoor/Desktop/phantom'\n",
    "write_to_disk=False\n",
    "verbose=False"
   ]
  },
  {
   "cell_type": "code",
   "execution_count": 4,
   "metadata": {
    "collapsed": true
   },
   "outputs": [],
   "source": [
    "def CreateFirstModality(write):\n",
    "    t1=sitk.Image(128,128,sitk.sitkUInt8)\n",
    "    #\n",
    "    t1_arr=sitk.GetArrayFromImage(t1)\n",
    "    t1_arr[8:65,52:119]=50 # tissue A or c\n",
    "    t1_arr[65:80,87:119]=50 # tissue A or C\n",
    "    t1_arr[65:119,8:87]=250 # tissue B\n",
    "    t1_arr[100:127,65:127]=0\n",
    "    #\n",
    "    t1=sitk.GetImageFromArray(t1_arr)\n",
    "    if write:\n",
    "        sitk.WriteImage(t1,os.path.join(OUT_DIR,'t1.nii.gz'))\n",
    "        scipy.io.savemat(os.path.join(OUT_DIR,'t1.mat'), mdict={'t1': t1_arr})\n",
    "    return t1\n",
    "\n",
    "def CreatSecondModality(write):\n",
    "    t2=sitk.Image(128,128,sitk.sitkUInt8)\n",
    "    #\n",
    "    t2_arr=sitk.GetArrayFromImage(t2)\n",
    "    t2_arr[8:65,52:119]=200 # tissue A\n",
    "    t2_arr[65:119,8:87]=100 # tissue B\n",
    "    t2_arr[100:127,65:127]=0\n",
    "    t2_arr[31:80,87:119]=150 # tissue C\n",
    "    t2_arr[31:53,87:107]=200 # tissue A\n",
    "    #\n",
    "    t2=sitk.GetImageFromArray(t2_arr)\n",
    "    if write:\n",
    "        sitk.WriteImage(t2,os.path.join(OUT_DIR,'t2.nii.gz'))\n",
    "        scipy.io.savemat(os.path.join(OUT_DIR,'t2.mat'), mdict={'t2': t2_arr})\n",
    "    return t2\n",
    "\n",
    "def CreateWholeOneMask(size):\n",
    "    onemask = sitk.Image(size,sitk.sitkUInt8)\n",
    "    onemask_arr = sitk.GetArrayFromImage(onemask)\n",
    "    onemask_arr.fill(1)\n",
    "    onemask = sitk.GetImageFromArray(onemask_arr)\n",
    "    return onemask\n",
    "\n",
    "def DownsampleSecondModality(t2, factor, write):\n",
    "    t2_lr = sitk.Shrink(t2,[factor,factor])\n",
    "    if write:\n",
    "        sitk.WriteImage(t2_lr,os.path.join(OUT_DIR,'t2_lr.nii.gz'))\n",
    "        t2_lr_arr=sitk.GetArrayFromImage(t2_lr)\n",
    "        scipy.io.savemat(os.path.join(OUT_DIR,'t2_lr.mat'), mdict={'t2_lr': t2_lr_arr})\n",
    "    return t2_lr\n",
    "\n",
    "def CreatePurePlugsMask(t1,t2_lr,write):\n",
    "    #################\n",
    "    def isPurePlug(idx, t2_lr, t1):\n",
    "        hspc=np.array(t2_lr.GetSpacing())\n",
    "        lspc=np.array(t1.GetSpacing())\n",
    "        factor=hspc/lspc\n",
    "        stepSize=1/factor\n",
    "        hResSize = t1.GetSize()\n",
    "        # continues index\n",
    "        cidx=np.array([float(i) for i in idx])\n",
    "        #print('----------------------------')\n",
    "        #print(\"index: {0}\".format(cidx)) # <-----\n",
    "        p = t2_lr.TransformContinuousIndexToPhysicalPoint(cidx)\n",
    "        #print(p)\n",
    "        #\n",
    "        isInside = True\n",
    "        t1_sampleValues=[]\n",
    "        for iss in np.arange(cidx[0]-1.0/2+stepSize[0]/2,cidx[0]+1.0/2,stepSize[0]):\n",
    "            for jss in np.arange(cidx[1]-1.0/2+stepSize[1]/2,cidx[1]+1.0/2,stepSize[1]):\n",
    "                cssidx=[iss, jss]\n",
    "                #\n",
    "                #print(\"continus subsample: {0}\".format(cssidx)) # <-----\n",
    "                #\n",
    "                p = t2_lr.TransformContinuousIndexToPhysicalPoint(cssidx)\n",
    "                #\n",
    "                #print(\"point: {0}\".format(p)) # <-----\n",
    "                #\n",
    "                newidx = t1.TransformPhysicalPointToIndex(p)\n",
    "                #\n",
    "                #print(\"newidx: {0}\".format(newidx)) # <-----\n",
    "                #\n",
    "                if any( newidx[i] < 0 or newidx[i] >= hResSize[i] for i in range(len(newidx))):\n",
    "                    isInside = False\n",
    "                    #\n",
    "                    #print(\"is not inside\") # <-----\n",
    "                    #\n",
    "                    break\n",
    "                else:\n",
    "                    t1_value = t1[newidx]\n",
    "                    t1_sampleValues.append(t1_value)\n",
    "            else:\n",
    "                continue\n",
    "            break\n",
    "\n",
    "        ispure = False\n",
    "        if isInside:\n",
    "            #\n",
    "            #print(\"sample values: \") # <-----\n",
    "            #print(t1_sampleValues) # <-----\n",
    "            #\n",
    "            t1_arr = np.array(t1_sampleValues)\n",
    "            # check to see wether the variance is zero\n",
    "            # In this case, surely we have a pure plug\n",
    "            var_t1 = np.var(t1_arr)\n",
    "            #\n",
    "            #print(\"var: {0}\".format(var_t1)) # <-----\n",
    "            #\n",
    "            if var_t1 == 0: # it means that the std in at least one image is zero \n",
    "                ispure = True\n",
    "            else:\n",
    "                ispure = False\n",
    "        #\n",
    "        #print(\"Is pure: {0}\".format(ispure)) # <-----\n",
    "        #\n",
    "        return ispure\n",
    "    #################\n",
    "    purePlugsMask = sitk.Image(t2_lr.GetSize(),sitk.sitkUInt8)\n",
    "    purePlugsMask.CopyInformation(t2_lr)\n",
    "    t2_lr_size = t2_lr.GetSize()\n",
    "    for i in range(0,t2_lr_size[0]):\n",
    "          for j in range(0,t2_lr_size[1]):\n",
    "                idx=[i,j]\n",
    "                if( isPurePlug(idx,t2_lr,t1) ):\n",
    "                    purePlugsMask[idx] = 1\n",
    "                else:\n",
    "                    purePlugsMask[idx] = 0\n",
    "    if write:\n",
    "        sitk.WriteImage(purePlugsMask,os.path.join(OUT_DIR,'pureplugs_mask.nii.gz'))\n",
    "    return purePlugsMask"
   ]
  },
  {
   "cell_type": "code",
   "execution_count": 5,
   "metadata": {
    "collapsed": false
   },
   "outputs": [
    {
     "data": {
      "image/png": "[encoded data removed]",
      "text/plain": [
       "<matplotlib.figure.Figure at 0x1256dfbd0>"
      ]
     },
     "metadata": {},
     "output_type": "display_data"
    },
    {
     "data": {
      "image/png": "[encoded data removed]",
      "text/plain": [
       "<matplotlib.figure.Figure at 0x1256dfdd0>"
      ]
     },
     "metadata": {},
     "output_type": "display_data"
    },
    {
     "data": {
      "image/png": "[encoded data removed]",
      "text/plain": [
       "<matplotlib.figure.Figure at 0x1257ecb90>"
      ]
     },
     "metadata": {},
     "output_type": "display_data"
    }
   ],
   "source": [
    "t1 = CreateFirstModality(write_to_disk)\n",
    "t2 = CreatSecondModality(write_to_disk)\n",
    "myshow(sitk.LabelToRGB(t1))\n",
    "myshow(sitk.LabelToRGB(t2))\n",
    "#\n",
    "# segemntation baseline\n",
    "seg_mask=(t2==200)*1+(t2==150)*3+(t2==100)*2\n",
    "myshow(sitk.LabelToRGB(seg_mask))"
   ]
  },
  {
   "cell_type": "code",
   "execution_count": 6,
   "metadata": {
    "collapsed": true
   },
   "outputs": [],
   "source": [
    "#\n",
    "#\n",
    "# KNN\n",
    "#\n",
    "#"
   ]
  },
  {
   "cell_type": "code",
   "execution_count": 7,
   "metadata": {
    "collapsed": true
   },
   "outputs": [],
   "source": [
    "def CreateTrainingSamples(t1,t2_lr,mask,sample_num):\n",
    "    trainSampleSet=[]\n",
    "    trainLabels=[]\n",
    "    count_b=0; count_1=0; count_2=0; count_3=0\n",
    "    while( count_b < sample_num or count_1 < sample_num or count_2 < sample_num or count_3 < sample_num):\n",
    "        index = np.random.randint(t1.GetSize()[0],size=(1,2))\n",
    "        idx = [index[0,0].item(),index[0,1].item()]\n",
    "        t1_value = t1[idx]\n",
    "        p = t1.TransformIndexToPhysicalPoint(idx)\n",
    "        t2_lr_idx = t2_lr.TransformPhysicalPointToIndex(p)\n",
    "        if any( t2_lr_idx[i] < 0 or t2_lr_idx[i] >= t2_lr.GetSize()[i] for i in range(len(t2_lr_idx))):\n",
    "            continue\n",
    "        t2_lr_value = t2_lr[t2_lr_idx]\n",
    "        isPure = mask[t2_lr_idx]\n",
    "        if (not isPure):\n",
    "            continue\n",
    "        if (t2_lr_value == 0):\n",
    "            if count_b >= sample_num:\n",
    "                continue\n",
    "            label=0\n",
    "            count_b += 1\n",
    "        elif (t2_lr_value == 200):\n",
    "            if count_1 >= sample_num:\n",
    "                continue\n",
    "            label=1\n",
    "            count_1 += 1\n",
    "        elif (t2_lr_value == 100):\n",
    "            if count_2 >= sample_num:\n",
    "                continue\n",
    "            label=2\n",
    "            count_2 += 1\n",
    "        elif (t2_lr_value == 150):\n",
    "            if count_3 >= sample_num:\n",
    "                continue\n",
    "            label=3\n",
    "            count_3 += 1\n",
    "        else:\n",
    "            raise ValueError('ERROR!!! invalid lable {0}'.format(t2_lr_value))\n",
    "        trainSampleSet.append([t1_value,t2_lr_value])\n",
    "        trainLabels.append(label)\n",
    "    #print(count_b)\n",
    "    #print(count_1)\n",
    "    #print(count_2)\n",
    "    #print(count_3)\n",
    "    return trainSampleSet, trainLabels\n",
    "\n",
    "def RunKNN(t1,t2_lr,mask,sample_num):\n",
    "    n_neighbors=10\n",
    "    weights='distance'\n",
    "    algorithm='kd_tree'\n",
    "    neigh = KNeighborsClassifier(n_neighbors=n_neighbors, weights=weights, algorithm=algorithm)\n",
    "    #\n",
    "    trainSampleSet, trainLabels = CreateTrainingSamples(t1,t2_lr,mask,sample_num)\n",
    "    neigh.fit(trainSampleSet, trainLabels)\n",
    "    #\n",
    "    out_seg = sitk.Image(t1.GetSize(),sitk.sitkUInt8)\n",
    "    for i in range(0,t1.GetSize()[0]):\n",
    "        for j in range(0,t1.GetSize()[1]):\n",
    "            idx=[i,j]\n",
    "            t1_value=t1[idx]\n",
    "            p = t1.TransformIndexToPhysicalPoint(idx)\n",
    "            t2_lr_idx = t2_lr.TransformPhysicalPointToIndex(p)\n",
    "            if any( t2_lr_idx[i] < 0 or t2_lr_idx[i] >= t2_lr.GetSize()[i] for i in range(len(t2_lr_idx))):\n",
    "                out_seg[idx]=0\n",
    "                continue\n",
    "            t2_lr_value = t2_lr[t2_lr_idx]\n",
    "            testSample = [[t1_value,t2_lr_value]]\n",
    "            out_seg[idx] = neigh.predict(testSample).item()\n",
    "    return out_seg"
   ]
  },
  {
   "cell_type": "code",
   "execution_count": 8,
   "metadata": {
    "collapsed": false
   },
   "outputs": [
    {
     "name": "stdout",
     "output_type": "stream",
     "text": [
      "-----\n",
      "1\n",
      "0.0\n",
      "0.0\n",
      "-----\n",
      "2\n",
      "311.0\n",
      "216.0\n",
      "-----\n",
      "3\n",
      "388.0\n",
      "372.0\n",
      "-----\n",
      "4\n",
      "289.0\n",
      "289.0\n",
      "-----\n",
      "5\n",
      "658.0\n",
      "642.0\n",
      "-----\n",
      "6\n",
      "1013.0\n",
      "735.0\n",
      "-----\n",
      "7\n",
      "598.0\n",
      "514.0\n",
      "-----\n",
      "8\n",
      "581.0\n",
      "581.0\n",
      "-----\n",
      "9\n",
      "792.0\n",
      "728.0\n",
      "-----\n",
      "10\n",
      "1700.0\n",
      "1300.0\n"
     ]
    }
   ],
   "source": [
    "statsList=[]\n",
    "total=128*128\n",
    "for dfactor in xrange(1,11):\n",
    "    print('-----')\n",
    "    print(dfactor)\n",
    "    t2_lr = DownsampleSecondModality(t2, dfactor, write_to_disk)\n",
    "    if verbose:\n",
    "        myshow(sitk.LabelToRGB(t2_lr))\n",
    "    #\n",
    "    purePlugsMask = CreatePurePlugsMask(t1, t2_lr, write_to_disk)\n",
    "    if verbose:\n",
    "        myshow(purePlugsMask)\n",
    "    #\n",
    "    # First run without using pureplugsmask\n",
    "    onemask = CreateWholeOneMask(t2_lr.GetSize())\n",
    "    out_seg1 = RunKNN(t1,t2_lr,onemask,40)\n",
    "    if verbose:\n",
    "        myshow(sitk.LabelToRGB(out_seg1))\n",
    "    diff1=abs(seg_mask-out_seg1)>0\n",
    "    if verbose:\n",
    "        myshow(diff1)\n",
    "    stats1=sitk.StatisticsImageFilter()\n",
    "    stats1.Execute(diff1)\n",
    "    error_old=stats1.GetSum()\n",
    "    print(error_old)\n",
    "    # Now run using pureplugsmask\n",
    "    out_seg2 = RunKNN(t1,t2_lr,purePlugsMask,40)\n",
    "    if verbose:\n",
    "        myshow(sitk.LabelToRGB(out_seg2))\n",
    "    diff2=abs(seg_mask-out_seg2)>0\n",
    "    if verbose:\n",
    "        myshow(diff2)\n",
    "    stats2=sitk.StatisticsImageFilter()\n",
    "    stats2.Execute(diff2)\n",
    "    error_new=stats2.GetSum()\n",
    "    print(error_new)\n",
    "    statsList.append([dfactor,(error_old/total)*100,(error_new/total)*100])"
   ]
  },
  {
   "cell_type": "code",
   "execution_count": 9,
   "metadata": {
    "collapsed": true
   },
   "outputs": [],
   "source": [
    "def writeOutputFile(filename,dataList):\n",
    "    import csv\n",
    "    with open(filename, 'w') as lf:\n",
    "        #headerdata = [['#factor','old_method','new_method']]\n",
    "        wr = csv.writer(lf, delimiter=',')\n",
    "        #wr.writerows(headerdata)\n",
    "        wr.writerows(dataList)\n",
    "        \n",
    "csv_fn = os.path.join(OUT_DIR,'stats.csv')\n",
    "writeOutputFile(csv_fn,statsList)"
   ]
  },
  {
   "cell_type": "code",
   "execution_count": 10,
   "metadata": {
    "collapsed": true
   },
   "outputs": [],
   "source": [
    "# plot the output diagram\n",
    "import pandas as pd\n",
    "from ggplot import *"
   ]
  },
  {
   "cell_type": "code",
   "execution_count": 11,
   "metadata": {
    "collapsed": true
   },
   "outputs": [],
   "source": [
    "DataFrame = pd.read_csv(csv_fn)"
   ]
  },
  {
   "cell_type": "code",
   "execution_count": 12,
   "metadata": {
    "collapsed": false
   },
   "outputs": [
    {
     "name": "stdout",
     "output_type": "stream",
     "text": [
      "    1        0.0     0.0.1\n",
      "0   2   1.898193  1.318359\n",
      "1   3   2.368164  2.270508\n",
      "2   4   1.763916  1.763916\n",
      "3   5   4.016113  3.918457\n",
      "4   6   6.182861  4.486084\n",
      "5   7   3.649902  3.137207\n",
      "6   8   3.546143  3.546143\n",
      "7   9   4.833984  4.443359\n",
      "8  10  10.375977  7.934570\n"
     ]
    }
   ],
   "source": [
    "print(DataFrame)"
   ]
  },
  {
   "cell_type": "code",
   "execution_count": 13,
   "metadata": {
    "collapsed": false
   },
   "outputs": [],
   "source": [
    "# p1 = ggplot(aes('factor', 'old_method'), data=DataFrame ) \\\n",
    "# + geom_point(alpha=1,size=60) \\\n",
    "# + xlim(-1, 10) \\\n",
    "# + scale_x_continuous(breaks=(1,2,3,4,5,6,7,8,9,10)) \\\n",
    "# + ylim(0, 50) \\\n",
    "# + geom_line(size=1.5) \\\n",
    "# + labs(x='Downsampling factor', y='Segmentation Error (%)', title='Error') \\\n",
    "# + theme(axis_title=element_text(size=25),axis_text=element_text(size=18),title=element_text(size=25))\n",
    "# print(p1)"
   ]
  },
  {
   "cell_type": "code",
   "execution_count": 14,
   "metadata": {
    "collapsed": true
   },
   "outputs": [],
   "source": [
    "sitk.WriteImage(diff2,os.path.join(OUT_DIR,'diff2.nii.gz'))"
   ]
  },
  {
   "cell_type": "code",
   "execution_count": null,
   "metadata": {
    "collapsed": true
   },
   "outputs": [],
   "source": []
  }
 ],
 "metadata": {
  "kernelspec": {
   "display_name": "Python 2",
   "language": "python",
   "name": "python2"
  },
  "language_info": {
   "codemirror_mode": {
    "name": "ipython",
    "version": 2
   },
   "file_extension": ".py",
   "mimetype": "text/x-python",
   "name": "python",
   "nbconvert_exporter": "python",
   "pygments_lexer": "ipython2",
   "version": "2.7.11"
  }
 },
 "nbformat": 4,
 "nbformat_minor": 0
}
