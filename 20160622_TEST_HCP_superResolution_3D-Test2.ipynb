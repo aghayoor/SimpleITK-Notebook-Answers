{
 "cells": [
  {
   "cell_type": "code",
   "execution_count": 1,
   "metadata": {
    "collapsed": false
   },
   "outputs": [
    {
     "name": "stdout",
     "output_type": "stream",
     "text": [
      "SimpleITK Version: 0.9.1\n",
      "Compiled: Sep 28 2015 10:07:41\n",
      "\n"
     ]
    }
   ],
   "source": [
    "## Boiler plate code common to many notebooks.  See the TestFilesCommonCode.ipynb for details\n",
    "from __future__ import print_function\n",
    "%run TestFilesCommonCode.ipynb"
   ]
  },
  {
   "cell_type": "code",
   "execution_count": 2,
   "metadata": {
    "collapsed": true
   },
   "outputs": [],
   "source": [
    "input_hcp_dwi='/scratch/TESTS/IpythonNotebook/20160615_HCPWF/mainWF/Outputs/DWI_corrected_alignedSpace.nrrd'\n",
    "input_hcp_edgemap='/scratch/TESTS/IpythonNotebook/20160615_HCPWF/mainWF/Outputs/EdgeMap.nrrd'\n",
    "input_hcp_brainmask='/scratch/TESTS/IpythonNotebook/20160615_HCPWF/mainWF/Outputs/DWIBrainMask.nrrd'\n",
    "\n",
    "OutputDir='/scratch/TESTS/superResolution/HCP2/outImageFiles'\n",
    "MatlabFilesDir='/scratch/TESTS/superResolution/HCP2/matlabFiles'"
   ]
  },
  {
   "cell_type": "code",
   "execution_count": 3,
   "metadata": {
    "collapsed": true
   },
   "outputs": [],
   "source": [
    "import os\n",
    "import glob\n",
    "import sys\n",
    "\n",
    "#\\/\\/\\/\\/\\/\\/\\/\\/\\/\\/\\/\\/\\/\\/\\/\\/\\/\\/\\/\\/\\/\\/\\/\\/\\/\\/\\/\\/\\/\\/\\/\\/\\/\\/\\/\\/\\/\\/\\/\\/\\/\\/\\/\n",
    "#####################################################################################\n",
    "#     Prepend the shell environment search paths\n",
    "#PROGRAM_PATHS = '/scratch/NAMICExternalProjects/release_20150715/bin'\n",
    "PROGRAM_PATHS = '/scratch/BS/release-BSR/bin'\n",
    "PROGRAM_PATHS = PROGRAM_PATHS.split(':')\n",
    "PROGRAM_PATHS.extend(os.environ['PATH'].split(':'))\n",
    "os.environ['PATH'] = ':'.join(PROGRAM_PATHS)\n",
    "\n",
    "CUSTOM_ENVIRONMENT=dict()\n",
    "\n",
    "# Platform specific information\n",
    "#     Prepend the python search paths\n",
    "PYTHON_AUX_PATHS = '/scratch/BS/BRAINSTools/AutoWorkup'\n",
    "PYTHON_AUX_PATHS = PYTHON_AUX_PATHS.split(':')\n",
    "PYTHON_AUX_PATHS.extend(sys.path)\n",
    "sys.path = PYTHON_AUX_PATHS\n",
    "\n",
    "import SimpleITK as sitk\n",
    "import nipype\n",
    "from nipype.interfaces.base import CommandLine, CommandLineInputSpec, TraitedSpec, File, Directory\n",
    "from nipype.interfaces.base import traits, isdefined, BaseInterface\n",
    "from nipype.interfaces.utility import Merge, Split, Function, Rename, IdentityInterface\n",
    "import nipype.interfaces.io as nio   # Data i/oS\n",
    "import nipype.pipeline.engine as pe  # pypeline engine\n",
    "from nipype.interfaces.freesurfer import ReconAll\n",
    "from nipype.interfaces.ants import DenoiseImage\n",
    "from nipype.interfaces.semtools import *"
   ]
  },
  {
   "cell_type": "code",
   "execution_count": 4,
   "metadata": {
    "collapsed": true
   },
   "outputs": [],
   "source": [
    "# \n",
    "# READ input DWI scan using pynrrd\n",
    "#\n",
    "import nrrd\n",
    "\n",
    "class nrrdDWIHeader:\n",
    "    \"\"\"A helper class for manipulating header information\n",
    "    from a nrrd DWI data set into a nibabel compliant\n",
    "    format\"\"\"\n",
    "    def __init__(self,pynrrdDataModel):\n",
    "        self.modality=None                      #Matches NRRD File\n",
    "        self.global_BValue=None                 #Matches NRRD File\n",
    "        self.gradientUnormalizedVectors=[None]  #Matches NRRD File\n",
    "\n",
    "        self.gradientIndex=-1\n",
    "        self.gradientBValues=[None]             #Computed\n",
    "        self.gradientVectors=[None]             #Computed\n",
    "        self._ConvertNrrdToNibabelDWIDataModel(pynrrdDataModel)\n",
    "\n",
    "    def Print(self):\n",
    "        print(\"global_BValue {0}\".format(self.global_BValue) )\n",
    "        print(\"modality {0}\".format(self.modality) )\n",
    "        print(\"gradientBValues {0}\".format(self.gradientBValues) )\n",
    "        print(\"gradientDirections {0}\".format(self.gradientUnormalizedVectors) )\n",
    "\n",
    "    def _getGradientStorageIndex(self,pynrrdDataModel):\n",
    "        \"\"\"The 4D index that has separate gradients.\n",
    "        all other directions are the spatial dimensions.\"\"\"\n",
    "        gradient_index=-1;\n",
    "        centerings=pynrrdDataModel['centerings']\n",
    "        numdwidims=len(centerings)\n",
    "        for test_index in range(0,numdwidims):\n",
    "            if centerings[test_index] not in ['cell']:\n",
    "                gradient_index=test_index\n",
    "        self.gradientIndex = gradient_index\n",
    "\n",
    "    def _ExtractGlobalBValue(self, pyNrrdKVUnknownMetaData):\n",
    "        globalBValueString=pyNrrdKVUnknownMetaData.get(u'DWMRI_b-value','0').lstrip().rstrip()\n",
    "        self.global_BValue=float( globalBValueString )\n",
    "\n",
    "    def _ExtractUnormalizedBValues(self,pyNrrdKVUnknownMetaData,pynrrdDataModel):\n",
    "        \"\"\"Unnormalized data values from the nrrd files, where the\n",
    "        magnitude is reflective of the scale relative to the global_BValue\"\"\"\n",
    "        self._getGradientStorageIndex(pynrrdDataModel)\n",
    "        numGradients = pynrrdDataModel[u'sizes'][self.gradientIndex]\n",
    "        self.gradientUnormalizedVectors= np.array( [ [ None, None, None ] for x in range(0,numGradients) ] )\n",
    "        gvec_Fields=pyNrrdKVUnknownMetaData.copy() #Clone so we can remove items\n",
    "        for k,v in gvec_Fields.iteritems():\n",
    "            if k.startswith(\"DWMRI_gradient_\"):\n",
    "                index=int(k.split('_')[2])\n",
    "                self.gradientUnormalizedVectors[index,:]=np.array([ float(x) for x in v.rstrip().lstrip().split() ],\n",
    "                                                    copy=True, order='C', ndmin=1)\n",
    "                pyNrrdKVUnknownMetaData.pop(k)\n",
    "\n",
    "\n",
    "    def _ExtractDWIModality(self,pyNrrdKVUnknownMetaData):\n",
    "        self.modality=pyNrrdKVUnknownMetaData.get(\"modality\",\"UNKNOWN\").lstrip().rstrip()\n",
    "\n",
    "    def _ComputeNormalizedBvecBVals(self,pyNrrdKVUnknownMetaData,pynrrdDataModel):\n",
    "        self._ExtractGlobalBValue(pyNrrdKVUnknownMetaData)\n",
    "        self._ExtractUnormalizedBValues(pyNrrdKVUnknownMetaData,pynrrdDataModel)\n",
    "        self._ComputeNormalizedGradientsAndBValues()\n",
    "\n",
    "    def _ComputeNormalizedGradientsAndBValues(self):\n",
    "        \"\"\"Following conventions of NRRD format, expand\n",
    "        to normalized vectors and estimate BValues\n",
    "        :return: void\n",
    "        \"\"\"\n",
    "        numGradients=len( self.gradientUnormalizedVectors )\n",
    "\n",
    "        self.gradientVectors = np.array(self.gradientUnormalizedVectors)\n",
    "        self.gradientBValues = np.array( [ self.global_BValue ] * numGradients )\n",
    "        for index in range(0,numGradients):\n",
    "            gv = self.gradientUnormalizedVectors[index]\n",
    "            norm=np.linalg.norm(gv)\n",
    "            if norm < 1e-2:\n",
    "                self.gradientVectors[index] = gv * 0.0\n",
    "                self.gradientBValues[index] = 0.0\n",
    "            elif ( abs( 1.0-norm ) > 1e-4 ): # Avoid rescaling if norm is almost one\n",
    "                self.gradientVectors[index] = gv/norm\n",
    "                b_i = self.global_BValue * (norm**2) # norm = sqrt(b_i/b_max)\n",
    "                self.gradientBValues[index] = float(\"{0:.1f}\".format(b_i))\n",
    "\n",
    "    def _ConvertNrrdToNibabelDWIDataModel(self, pynrrdDataModel):\n",
    "        pyNrrdKVUnknownMetaData=pynrrdDataModel['keyvaluepairs']\n",
    "        self._ExtractDWIModality(pyNrrdKVUnknownMetaData)\n",
    "        self._ExtractGlobalBValue(pyNrrdKVUnknownMetaData)\n",
    "        self._ComputeNormalizedBvecBVals(pyNrrdKVUnknownMetaData,pynrrdDataModel)\n",
    "\n",
    "def ReadNAMICDWIFromNrrd(filename):\n",
    "    nrrd_dwi_data,nrrd_dwi_header=nrrd.read(filename)\n",
    "    nibabelDataModelDWI=nrrdDWIHeader(nrrd_dwi_header)\n",
    "    nrrd_dwi_bvec=nibabelDataModelDWI.gradientVectors\n",
    "    nrrd_dwi_bval=nibabelDataModelDWI.gradientBValues\n",
    "    gradient_index=nibabelDataModelDWI.gradientIndex\n",
    "    return (nrrd_dwi_data, nrrd_dwi_header, nrrd_dwi_bvec, nrrd_dwi_bval, gradient_index)"
   ]
  },
  {
   "cell_type": "markdown",
   "metadata": {},
   "source": [
    "# Create Mat file from edge map"
   ]
  },
  {
   "cell_type": "code",
   "execution_count": 6,
   "metadata": {
    "collapsed": false
   },
   "outputs": [],
   "source": [
    "edgemap = sitk.ReadImage(input_hcp_edgemap)\n",
    "edge_arr = sitk.GetArrayFromImage(edgemap)\n",
    "\n",
    "import scipy.io\n",
    "scipy.io.savemat(os.path.join(MatlabFilesDir,'edgemap.mat'), mdict={'edgemap': edge_arr})"
   ]
  },
  {
   "cell_type": "markdown",
   "metadata": {},
   "source": [
    "# Extract dwi_b0 image"
   ]
  },
  {
   "cell_type": "code",
   "execution_count": 7,
   "metadata": {
    "collapsed": true
   },
   "outputs": [],
   "source": [
    "dwi_data,dwi_header,bvecs,bvals,gradient_index = ReadNAMICDWIFromNrrd(input_hcp_dwi)"
   ]
  },
  {
   "cell_type": "code",
   "execution_count": 8,
   "metadata": {
    "collapsed": false
   },
   "outputs": [
    {
     "name": "stdout",
     "output_type": "stream",
     "text": [
      "0\n"
     ]
    }
   ],
   "source": [
    "print(gradient_index)"
   ]
  },
  {
   "cell_type": "code",
   "execution_count": 9,
   "metadata": {
    "collapsed": false
   },
   "outputs": [
    {
     "name": "stdout",
     "output_type": "stream",
     "text": [
      "(108, 145, 174, 145)\n",
      "108\n"
     ]
    }
   ],
   "source": [
    "print(dwi_data.shape)\n",
    "print(dwi_data.shape[gradient_index])"
   ]
  },
  {
   "cell_type": "markdown",
   "metadata": {},
   "source": [
    "Note that above data array is converted from Nifit format (itkVectorImage), so it is pixel interleaved (compared to volume interleaved), and the gradient index is the first index.\n",
    "\n",
    "However, if we had read the image directly from Nifti version using nibabel, the data shape would have volume interleaved format.\n",
    "\n",
    "img = nib.load(DWI_nifti_fn)\n",
    "\n",
    "data = img.get_data()\n",
    "\n",
    "print(data.shape)\n",
    "\n",
    "(145, 174, 145, 288)\n",
    "\n",
    "Since dipy needs the data array in volume interleaved format, we need to do permutaion on data array."
   ]
  },
  {
   "cell_type": "code",
   "execution_count": 10,
   "metadata": {
    "collapsed": false
   },
   "outputs": [
    {
     "name": "stdout",
     "output_type": "stream",
     "text": [
      "(145, 174, 145, 108)\n"
     ]
    }
   ],
   "source": [
    "dwi_data = np.transpose(dwi_data,(1, 2, 3, 0))\n",
    "print(dwi_data.shape)"
   ]
  },
  {
   "cell_type": "code",
   "execution_count": 11,
   "metadata": {
    "collapsed": false
   },
   "outputs": [
    {
     "name": "stdout",
     "output_type": "stream",
     "text": [
      "(145, 174, 145)\n"
     ]
    }
   ],
   "source": [
    "# Now extract b0 component of the 4D DWI array\n",
    "dwi_b0 = dwi_data[:,:,:,0]\n",
    "print(dwi_b0.shape)"
   ]
  },
  {
   "cell_type": "markdown",
   "metadata": {},
   "source": [
    "To convert the above numpy array to a b0 image, we need careful attention to the order of index and dimensions.\n",
    "\n",
    "ITK's Image class does not have a bracket operator. It has a GetPixel which takes an ITK Index object as an argument, which is an array ordered as (x,y,z). This is the convention that SimpleITK's Image class uses for the GetPixel method as well.\n",
    "\n",
    "While in numpy, an array is indexed in the opposite order (z,y,x)."
   ]
  },
  {
   "cell_type": "code",
   "execution_count": 12,
   "metadata": {
    "collapsed": true
   },
   "outputs": [],
   "source": [
    "dwi_b0 = np.transpose(dwi_b0,(2, 1, 0))"
   ]
  },
  {
   "cell_type": "code",
   "execution_count": 15,
   "metadata": {
    "collapsed": false
   },
   "outputs": [],
   "source": [
    "# Normalize array between zero and one\n",
    "def NormalizeBetweenZeroAndOne(arr):   \n",
    "    newMax = 1.0\n",
    "    newMin = 0.0\n",
    "    #\n",
    "    oldMax = float(np.amax(arr))\n",
    "    oldMin = float(np.amin(arr))\n",
    "    #\n",
    "    f=(newMax-newMin)/(oldMax-oldMin)\n",
    "    normalized_arr = (arr-oldMin)*f+newMin\n",
    "    return normalized_arr\n",
    "\n",
    "dwi_b0_normalized = NormalizeBetweenZeroAndOne(dwi_b0)"
   ]
  },
  {
   "cell_type": "code",
   "execution_count": 16,
   "metadata": {
    "collapsed": true
   },
   "outputs": [],
   "source": [
    "# Write the normalized array to a matlab file\n",
    "#\n",
    "scipy.io.savemat(os.path.join(MatlabFilesDir,'dwi_b0.mat'), mdict={'inputImage': dwi_b0_normalized})"
   ]
  },
  {
   "cell_type": "code",
   "execution_count": null,
   "metadata": {
    "collapsed": true
   },
   "outputs": [],
   "source": []
  }
 ],
 "metadata": {
  "kernelspec": {
   "display_name": "Python 2",
   "language": "python",
   "name": "python2"
  },
  "language_info": {
   "codemirror_mode": {
    "name": "ipython",
    "version": 2
   },
   "file_extension": ".py",
   "mimetype": "text/x-python",
   "name": "python",
   "nbconvert_exporter": "python",
   "pygments_lexer": "ipython2",
   "version": "2.7.11"
  }
 },
 "nbformat": 4,
 "nbformat_minor": 0
}
