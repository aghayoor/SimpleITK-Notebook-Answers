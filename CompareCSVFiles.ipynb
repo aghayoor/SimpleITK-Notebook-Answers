{
 "metadata": {
  "name": "",
  "signature": "sha256:0635823f011f0b2f88108271d96cbf91a16a243b663c79163567376e05e84243"
 },
 "nbformat": 3,
 "nbformat_minor": 0,
 "worksheets": [
  {
   "cells": [
    {
     "cell_type": "code",
     "collapsed": false,
     "input": [
      "## Boiler plate code common to many notebooks.  See the TestFilesCommonCode.ipynb for details\n",
      "from __future__ import print_function\n",
      "%run TestFilesCommonCode.ipynb"
     ],
     "language": "python",
     "metadata": {},
     "outputs": [
      {
       "output_type": "stream",
       "stream": "stdout",
       "text": [
        "SimpleITK Version: 0.9.0.dev2151-g2a716\n",
        "Compiled: Dec 23 2014 21:10:53\n",
        "\n"
       ]
      }
     ],
     "prompt_number": 27
    },
    {
     "cell_type": "code",
     "collapsed": false,
     "input": [
      "def csv_file_reader(filename):\n",
      "   import csv\n",
      "   dataList=[]\n",
      "   with open(filename) as lf:\n",
      "       reader = csv.reader(lf, delimiter=',')\n",
      "       for line in reader:\n",
      "           dataList.append(line)\n",
      "   return dataList"
     ],
     "language": "python",
     "metadata": {},
     "outputs": [],
     "prompt_number": 28
    },
    {
     "cell_type": "code",
     "collapsed": false,
     "input": [
      "dataList1 = csv_file_reader('/scratch/TESTS/IpythonNotebook/1_DWI_Nipype_workflow/tmp/metaDataTest_2.csv')"
     ],
     "language": "python",
     "metadata": {},
     "outputs": [],
     "prompt_number": 29
    },
    {
     "cell_type": "code",
     "collapsed": false,
     "input": [
      "print(dataList1)"
     ],
     "language": "python",
     "metadata": {},
     "outputs": [
      {
       "output_type": "stream",
       "stream": "stdout",
       "text": [
        "[['measurement frame', '1', '-5.80048e-18', '0', '-2.33103e-18', '1', '1.73472e-18', '0', '-1.73472e-18', '1'], ['DWMRI_gradient_0000', '0', '0', '0'], ['DWMRI_gradient_0001', '-0.997964', '-0.054209', '-0.0336168'], ['DWMRI_gradient_0002', '0.0483192', '-0.998582', '-0.0223494'], ['DWMRI_gradient_0003', '-0.205174', '0.16608', '-0.964574'], ['DWMRI_gradient_0004', '0.794721', '-0.273309', '-0.542015'], ['DWMRI_gradient_0005', '0.68003', '0.463965', '-0.567638'], ['DWMRI_gradient_0006', '-0.734173', '-0.502463', '-0.456641'], ['DWMRI_gradient_0007', '-0.914977', '0.0600179', '-0.399121'], ['DWMRI_gradient_0008', '-0.495059', '0.748015', '-0.442103'], ['DWMRI_gradient_0009', '-0.874896', '0.149406', '-0.460718'], ['DWMRI_gradient_0010', '-0.645583', '-0.737031', '-0.19999'], ['DWMRI_gradient_0011', '-0.176026', '-0.754559', '-0.63221'], ['DWMRI_gradient_0012', '0.100055', '-0.984218', '0.145988'], ['DWMRI_gradient_0013', '0.579744', '-0.806883', '-0.11374'], ['DWMRI_gradient_0014', '0.98626', '0.165258', '-0.00241384'], ['DWMRI_gradient_0015', '0.999685', '-0.0263041', '-0.00336692'], ['DWMRI_gradient_0016', '0.897026', '-0.434702', '-0.0795136'], ['DWMRI_gradient_0017', '0.284606', '-0.927718', '0.241307'], ['DWMRI_gradient_0018', '-0.0649378', '-0.994903', '-0.0776553'], ['DWMRI_gradient_0019', '-0.308471', '-0.870758', '0.382933'], ['DWMRI_gradient_0020', '-0.486652', '-0.870684', '0.071666']]\n"
       ]
      }
     ],
     "prompt_number": 30
    },
    {
     "cell_type": "code",
     "collapsed": false,
     "input": [
      "print(dataList1[0])"
     ],
     "language": "python",
     "metadata": {},
     "outputs": [
      {
       "output_type": "stream",
       "stream": "stdout",
       "text": [
        "['measurement frame', '1', '-5.80048e-18', '0', '-2.33103e-18', '1', '1.73472e-18', '0', '-1.73472e-18', '1']\n"
       ]
      }
     ],
     "prompt_number": 31
    },
    {
     "cell_type": "code",
     "collapsed": false,
     "input": [
      "print(len(dataList1[0]))\n",
      "print(len(dataList1[1]))\n",
      "print(len(dataList1))"
     ],
     "language": "python",
     "metadata": {},
     "outputs": [
      {
       "output_type": "stream",
       "stream": "stdout",
       "text": [
        "10\n",
        "4\n",
        "22\n"
       ]
      }
     ],
     "prompt_number": 32
    },
    {
     "cell_type": "code",
     "collapsed": false,
     "input": [
      "dataList2 = csv_file_reader('/scratch/TESTS/IpythonNotebook/1_DWI_Nipype_workflow/tmp/metaDataTest.csv')"
     ],
     "language": "python",
     "metadata": {},
     "outputs": [],
     "prompt_number": 33
    },
    {
     "cell_type": "code",
     "collapsed": false,
     "input": [
      "print(dataList2)"
     ],
     "language": "python",
     "metadata": {},
     "outputs": [
      {
       "output_type": "stream",
       "stream": "stdout",
       "text": [
        "[['DWMRI_gradient_0000', '0', '0', '0'], ['DWMRI_gradient_0001', '-0.997964', '-0.054209', '-0.0336168'], ['DWMRI_gradient_0002', '0.0483192', '-0.998582', '-0.0223494'], ['DWMRI_gradient_0003', '-0.205174', '0.16608', '-0.964574'], ['DWMRI_gradient_0004', '0.794721', '-0.273309', '-0.542015'], ['DWMRI_gradient_0005', '0.68003', '0.463965', '-0.567638'], ['DWMRI_gradient_0006', '-0.734173', '-0.502463', '-0.456641'], ['DWMRI_gradient_0007', '-0.914977', '0.0600179', '-0.399121'], ['DWMRI_gradient_0008', '-0.495059', '0.748015', '-0.442103'], ['DWMRI_gradient_0009', '-0.874896', '0.149406', '-0.460718'], ['DWMRI_gradient_0010', '-0.645583', '-0.737031', '-0.19999'], ['DWMRI_gradient_0011', '-0.176026', '-0.754559', '-0.63221'], ['DWMRI_gradient_0012', '0.100055', '-0.984218', '0.145988'], ['DWMRI_gradient_0013', '0.579744', '-0.806883', '-0.11374'], ['DWMRI_gradient_0014', '0.98626', '0.165258', '-0.00241384'], ['DWMRI_gradient_0015', '0.999685', '-0.0263041', '-0.00336692'], ['DWMRI_gradient_0016', '0.897026', '-0.434702', '-0.0795136'], ['DWMRI_gradient_0017', '0.284606', '-0.927718', '0.241307'], ['DWMRI_gradient_0018', '-0.0649378', '-0.994903', '-0.0776553'], ['DWMRI_gradient_0019', '-0.308471', '-0.870758', '0.382933'], ['DWMRI_gradient_0020', '-0.486652', '-0.870684', '0.071666']]\n"
       ]
      }
     ],
     "prompt_number": 34
    },
    {
     "cell_type": "code",
     "collapsed": false,
     "input": [
      "dataList1 != dataList1"
     ],
     "language": "python",
     "metadata": {},
     "outputs": [
      {
       "metadata": {},
       "output_type": "pyout",
       "prompt_number": 37,
       "text": [
        "False"
       ]
      }
     ],
     "prompt_number": 37
    },
    {
     "cell_type": "code",
     "collapsed": false,
     "input": [],
     "language": "python",
     "metadata": {},
     "outputs": []
    }
   ],
   "metadata": {}
  }
 ]
}