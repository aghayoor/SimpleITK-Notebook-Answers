{
 "cells": [
  {
   "cell_type": "code",
   "execution_count": 1,
   "metadata": {
    "collapsed": false
   },
   "outputs": [
    {
     "name": "stdout",
     "output_type": "stream",
     "text": [
      "SimpleITK Version: 0.9.1\n",
      "Compiled: Sep 28 2015 10:07:41\n",
      "\n"
     ]
    }
   ],
   "source": [
    "## Boiler plate code common to many notebooks.  See the TestFilesCommonCode.ipynb for details\n",
    "from __future__ import print_function\n",
    "%run TestFilesCommonCode.ipynb"
   ]
  },
  {
   "cell_type": "code",
   "execution_count": 1,
   "metadata": {
    "collapsed": true
   },
   "outputs": [],
   "source": [
    "import os\n",
    "import glob\n",
    "import sys\n",
    "\n",
    "#\\/\\/\\/\\/\\/\\/\\/\\/\\/\\/\\/\\/\\/\\/\\/\\/\\/\\/\\/\\/\\/\\/\\/\\/\\/\\/\\/\\/\\/\\/\\/\\/\\/\\/\\/\\/\\/\\/\\/\\/\\/\\/\\/\n",
    "#####################################################################################\n",
    "#     Prepend the shell environment search paths\n",
    "PROGRAM_PATHS = '/scratch/NAMICExternalProjects/release-20160523/bin'\n",
    "#PROGRAM_PATHS = '/scratch/BS/release-BSR/bin'\n",
    "PROGRAM_PATHS = PROGRAM_PATHS.split(':')\n",
    "PROGRAM_PATHS.extend(os.environ['PATH'].split(':'))\n",
    "os.environ['PATH'] = ':'.join(PROGRAM_PATHS)\n",
    "\n",
    "CUSTOM_ENVIRONMENT=dict()\n",
    "\n",
    "# Platform specific information\n",
    "#     Prepend the python search paths\n",
    "#PYTHON_AUX_PATHS = '/scratch/BS/BRAINSTools/AutoWorkup'\n",
    "PYTHON_AUX_PATHS = '/scratch/SuperResolution/BRAINSSuperResolution/HCPWorkflows/:/scratch/wmql/tract_querier/tract_querier/nipype/'\n",
    "PYTHON_AUX_PATHS = PYTHON_AUX_PATHS.split(':')\n",
    "PYTHON_AUX_PATHS.extend(sys.path)\n",
    "sys.path = PYTHON_AUX_PATHS\n",
    "\n",
    "import SimpleITK as sitk\n",
    "import nipype\n",
    "from nipype.interfaces.base import CommandLine, CommandLineInputSpec, TraitedSpec, File, Directory\n",
    "from nipype.interfaces.base import traits, isdefined, BaseInterface\n",
    "from nipype.interfaces.utility import Merge, Split, Function, Rename, IdentityInterface\n",
    "import nipype.interfaces.io as nio   # Data i/oS\n",
    "import nipype.pipeline.engine as pe  # pypeline engine\n",
    "from nipype.interfaces.freesurfer import ReconAll\n",
    "from nipype.interfaces.ants import DenoiseImage\n",
    "from nipype.interfaces.semtools import *"
   ]
  },
  {
   "cell_type": "code",
   "execution_count": 11,
   "metadata": {
    "collapsed": true
   },
   "outputs": [],
   "source": [
    "input_atlas = '/Shared/johnsonhj/HDNI/ReferenceData/HCP_DATA/test_UKF/100307/wmparc.nii.gz'\n",
    "input_tractography = '/Shared/johnsonhj/HDNI/ReferenceData/HCP_DATA/test_UKF/100307/2_Rs_0_025/ukfTracts.vtp'"
   ]
  },
  {
   "cell_type": "code",
   "execution_count": 4,
   "metadata": {
    "collapsed": false
   },
   "outputs": [],
   "source": [
    "# sr_file_name = os.path.basename(input_tractography)\n",
    "# print(sr_file_name)\n",
    "# sr_file_name_base = os.path.splitext(sr_file_name)[0]\n",
    "# print(sr_file_name_base)\n",
    "# sr_name = sr_file_name_base.split('_',1)[0]\n",
    "# print(sr_name)\n",
    "# out_prefix = sr_name + '_query'\n",
    "# print(out_prefix)\n",
    "# output_cst_L = out_prefix + '_' + 'cst.left.vtp'\n",
    "# output_cst_R = out_prefix + '_' + 'cst.right.vtp'\n",
    "# print(output_cst_L,output_cst_R)"
   ]
  },
  {
   "cell_type": "code",
   "execution_count": 12,
   "metadata": {
    "collapsed": false
   },
   "outputs": [
    {
     "name": "stdout",
     "output_type": "stream",
     "text": [
      "tract_querier -q freesurfer_queries.qry -a /Shared/johnsonhj/HDNI/ReferenceData/HCP_DATA/test_UKF/100307/wmparc.nii.gz -t /Shared/johnsonhj/HDNI/ReferenceData/HCP_DATA/test_UKF/100307/2_Rs_0_025/ukfTracts.vtp -o query --query_selection cst.left,cst.right\n"
     ]
    },
    {
     "data": {
      "text/plain": [
       "<nipype.interfaces.base.InterfaceResult at 0x11dc15190>"
      ]
     },
     "execution_count": 12,
     "metadata": {},
     "output_type": "execute_result"
    }
   ],
   "source": [
    "from wmql import TractQuerier\n",
    "tract_querier = TractQuerier()\n",
    "tract_querier.inputs.input_atlas = input_atlas\n",
    "tract_querier.inputs.input_tractography = input_tractography\n",
    "tract_querier.inputs.out_prefix = 'query'\n",
    "tract_querier.inputs.queries = ['cst.left' ,'cst.right']\n",
    "print(tract_querier.cmdline)\n",
    "tract_querier.run()"
   ]
  },
  {
   "cell_type": "code",
   "execution_count": 6,
   "metadata": {
    "collapsed": true
   },
   "outputs": [],
   "source": [
    "input_tractography = '/Volumes/scratch/TESTS/IpythonNotebook/20160615_HCPWF/mainWF/HCPWorkflow_CACHE_105115/TractographyWorkflow_CACHE_105115/UKFRunRecordStates/mapflow/_UKFRunRecordStates0/Baseline_ukfTracts.vtp'\n",
    "input_atlas = '/Shared/sinapse/CACHE/20160610_HCP_base_Results/HCP_DATA/105115/HCP_105115_01/JointFusion/JointFusion_HDAtlas20_2015_fs_standard_label.nii.gz'"
   ]
  },
  {
   "cell_type": "code",
   "execution_count": 9,
   "metadata": {
    "collapsed": true
   },
   "outputs": [],
   "source": [
    "def runWMQL(input_tractography, input_atlas):\n",
    "    import os\n",
    "    from wmql import TractQuerier\n",
    "    # prepare proper prefix\n",
    "    sr_file_name = os.path.basename(input_tractography)\n",
    "    sr_file_name_base = os.path.splitext(sr_file_name)[0]\n",
    "    sr_name = sr_file_name_base.split('_',1)[0]\n",
    "    out_prefix = sr_name + '_query'\n",
    "    # run WMQL\n",
    "    tract_querier = TractQuerier()\n",
    "    tract_querier.inputs.input_atlas = input_atlas\n",
    "    tract_querier.inputs.input_tractography = input_tractography\n",
    "    tract_querier.inputs.out_prefix = out_prefix\n",
    "    tract_querier.inputs.queries = ['cst.left' ,'cst.right']\n",
    "    print(tract_querier.cmdline)\n",
    "    tract_querier.run()\n",
    "    # check outputs\n",
    "    output_cst_left_name = out_prefix + '_' + 'cst.left.vtp'\n",
    "    output_cst_right_name = out_prefix + '_' + 'cst.right.vtp'\n",
    "    output_cst_left = os.path.join(os.getcwd(), output_cst_left_name)\n",
    "    output_cst_right = os.path.join(os.getcwd(), output_cst_right_name)\n",
    "    assert os.path.isfile(output_cst_left), \"Output cst tract file is not found: %s\" % output_cst_left\n",
    "    assert os.path.isfile(output_cst_right), \"Output cst tract file is not found: %s\" % output_cst_right\n",
    "    return [output_cst_left,output_cst_right]"
   ]
  },
  {
   "cell_type": "code",
   "execution_count": 10,
   "metadata": {
    "collapsed": false
   },
   "outputs": [
    {
     "name": "stdout",
     "output_type": "stream",
     "text": [
      "tract_querier -q freesurfer_queries.qry -a /Shared/sinapse/CACHE/20160610_HCP_base_Results/HCP_DATA/105115/HCP_105115_01/JointFusion/JointFusion_HDAtlas20_2015_fs_standard_label.nii.gz -t /Volumes/scratch/TESTS/IpythonNotebook/20160615_HCPWF/mainWF/HCPWorkflow_CACHE_105115/TractographyWorkflow_CACHE_105115/UKFRunRecordStates/mapflow/_UKFRunRecordStates0/Baseline_ukfTracts.vtp -o Baseline_query --query_selection cst.left,cst.right\n"
     ]
    },
    {
     "ename": "AssertionError",
     "evalue": "Output cst tract file is not found: /Volumes/scratch/Ipython_conda/SimpleITK-Notebook-Answers/Baseline_query_cst.left.vtp",
     "output_type": "error",
     "traceback": [
      "\u001b[0;31m---------------------------------------------------------------------------\u001b[0m",
      "\u001b[0;31mAssertionError\u001b[0m                            Traceback (most recent call last)",
      "\u001b[0;32m<ipython-input-10-c9225c1d5378>\u001b[0m in \u001b[0;36m<module>\u001b[0;34m()\u001b[0m\n\u001b[0;32m----> 1\u001b[0;31m \u001b[0;34m[\u001b[0m\u001b[0mfn1\u001b[0m\u001b[0;34m,\u001b[0m\u001b[0mfn2\u001b[0m\u001b[0;34m]\u001b[0m \u001b[0;34m=\u001b[0m \u001b[0mrunWMQL\u001b[0m\u001b[0;34m(\u001b[0m\u001b[0minput_tractography\u001b[0m\u001b[0;34m,\u001b[0m\u001b[0minput_atlas\u001b[0m\u001b[0;34m)\u001b[0m\u001b[0;34m\u001b[0m\u001b[0m\n\u001b[0m",
      "\u001b[0;32m<ipython-input-9-9d08e51113a5>\u001b[0m in \u001b[0;36mrunWMQL\u001b[0;34m(input_tractography, input_atlas)\u001b[0m\n\u001b[1;32m     20\u001b[0m     \u001b[0moutput_cst_left\u001b[0m \u001b[0;34m=\u001b[0m \u001b[0mos\u001b[0m\u001b[0;34m.\u001b[0m\u001b[0mpath\u001b[0m\u001b[0;34m.\u001b[0m\u001b[0mjoin\u001b[0m\u001b[0;34m(\u001b[0m\u001b[0mos\u001b[0m\u001b[0;34m.\u001b[0m\u001b[0mgetcwd\u001b[0m\u001b[0;34m(\u001b[0m\u001b[0;34m)\u001b[0m\u001b[0;34m,\u001b[0m \u001b[0moutput_cst_left_name\u001b[0m\u001b[0;34m)\u001b[0m\u001b[0;34m\u001b[0m\u001b[0m\n\u001b[1;32m     21\u001b[0m     \u001b[0moutput_cst_right\u001b[0m \u001b[0;34m=\u001b[0m \u001b[0mos\u001b[0m\u001b[0;34m.\u001b[0m\u001b[0mpath\u001b[0m\u001b[0;34m.\u001b[0m\u001b[0mjoin\u001b[0m\u001b[0;34m(\u001b[0m\u001b[0mos\u001b[0m\u001b[0;34m.\u001b[0m\u001b[0mgetcwd\u001b[0m\u001b[0;34m(\u001b[0m\u001b[0;34m)\u001b[0m\u001b[0;34m,\u001b[0m \u001b[0moutput_cst_right_name\u001b[0m\u001b[0;34m)\u001b[0m\u001b[0;34m\u001b[0m\u001b[0m\n\u001b[0;32m---> 22\u001b[0;31m     \u001b[0;32massert\u001b[0m \u001b[0mos\u001b[0m\u001b[0;34m.\u001b[0m\u001b[0mpath\u001b[0m\u001b[0;34m.\u001b[0m\u001b[0misfile\u001b[0m\u001b[0;34m(\u001b[0m\u001b[0moutput_cst_left\u001b[0m\u001b[0;34m)\u001b[0m\u001b[0;34m,\u001b[0m \u001b[0;34m\"Output cst tract file is not found: %s\"\u001b[0m \u001b[0;34m%\u001b[0m \u001b[0moutput_cst_left\u001b[0m\u001b[0;34m\u001b[0m\u001b[0m\n\u001b[0m\u001b[1;32m     23\u001b[0m     \u001b[0;32massert\u001b[0m \u001b[0mos\u001b[0m\u001b[0;34m.\u001b[0m\u001b[0mpath\u001b[0m\u001b[0;34m.\u001b[0m\u001b[0misfile\u001b[0m\u001b[0;34m(\u001b[0m\u001b[0moutput_cst_right\u001b[0m\u001b[0;34m)\u001b[0m\u001b[0;34m,\u001b[0m \u001b[0;34m\"Output cst tract file is not found: %s\"\u001b[0m \u001b[0;34m%\u001b[0m \u001b[0moutput_cst_right\u001b[0m\u001b[0;34m\u001b[0m\u001b[0m\n\u001b[1;32m     24\u001b[0m     \u001b[0;32mreturn\u001b[0m \u001b[0;34m[\u001b[0m\u001b[0moutput_cst_left\u001b[0m\u001b[0;34m,\u001b[0m\u001b[0moutput_cst_right\u001b[0m\u001b[0;34m]\u001b[0m\u001b[0;34m\u001b[0m\u001b[0m\n",
      "\u001b[0;31mAssertionError\u001b[0m: Output cst tract file is not found: /Volumes/scratch/Ipython_conda/SimpleITK-Notebook-Answers/Baseline_query_cst.left.vtp"
     ]
    }
   ],
   "source": [
    "[fn1,fn2] = runWMQL(input_tractography,input_atlas)"
   ]
  },
  {
   "cell_type": "code",
   "execution_count": null,
   "metadata": {
    "collapsed": true
   },
   "outputs": [],
   "source": []
  }
 ],
 "metadata": {
  "kernelspec": {
   "display_name": "Python 2",
   "language": "python",
   "name": "python2"
  },
  "language_info": {
   "codemirror_mode": {
    "name": "ipython",
    "version": 2
   },
   "file_extension": ".py",
   "mimetype": "text/x-python",
   "name": "python",
   "nbconvert_exporter": "python",
   "pygments_lexer": "ipython2",
   "version": "2.7.11"
  }
 },
 "nbformat": 4,
 "nbformat_minor": 0
}
