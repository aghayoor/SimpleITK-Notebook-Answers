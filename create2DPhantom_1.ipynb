{
 "cells": [
  {
   "cell_type": "code",
   "execution_count": 60,
   "metadata": {
    "collapsed": false
   },
   "outputs": [
    {
     "name": "stdout",
     "output_type": "stream",
     "text": [
      "SimpleITK Version: 0.9.1\n",
      "Compiled: Sep 28 2015 10:07:41\n",
      "\n"
     ]
    }
   ],
   "source": [
    "## Boiler plate code common to many notebooks.  See the TestFilesCommonCode.ipynb for details\n",
    "from __future__ import print_function\n",
    "%run TestFilesCommonCode.ipynb"
   ]
  },
  {
   "cell_type": "code",
   "execution_count": 67,
   "metadata": {
    "collapsed": true
   },
   "outputs": [],
   "source": [
    "import scipy.io"
   ]
  },
  {
   "cell_type": "code",
   "execution_count": 94,
   "metadata": {
    "collapsed": false
   },
   "outputs": [],
   "source": [
    "t1=sitk.Image(256,256,sitk.sitkUInt8)\n",
    "t2=sitk.Image(256,256,sitk.sitkUInt8)"
   ]
  },
  {
   "cell_type": "code",
   "execution_count": 95,
   "metadata": {
    "collapsed": false
   },
   "outputs": [
    {
     "data": {
      "image/png": "[encoded data removed]",
      "text/plain": [
       "<matplotlib.figure.Figure at 0x11e742f10>"
      ]
     },
     "metadata": {},
     "output_type": "display_data"
    }
   ],
   "source": [
    "# create t1\n",
    "#\n",
    "t1_arr=sitk.GetArrayFromImage(t1)\n",
    "t1_arr[0:127,97:255]=1\n",
    "t1_arr[97:127,97:127]=0\n",
    "t1_arr[43:85,171:215]=1\n",
    "t1_arr[127:255,0:171]=2\n",
    "t1_arr[214:255,125:255]=0\n",
    "#\n",
    "t1=sitk.GetImageFromArray(t1_arr)\n",
    "myshow(sitk.LabelToRGB(t1))"
   ]
  },
  {
   "cell_type": "code",
   "execution_count": 96,
   "metadata": {
    "collapsed": true
   },
   "outputs": [],
   "source": [
    "sitk.WriteImage(t1,os.path.join('/raid0/homes/aghayoor/Desktop/phantom','t1.nii.gz'))\n",
    "scipy.io.savemat(os.path.join('/raid0/homes/aghayoor/Desktop/phantom','t1.mat'), mdict={'t1': t1_arr})"
   ]
  },
  {
   "cell_type": "code",
   "execution_count": 97,
   "metadata": {
    "collapsed": false
   },
   "outputs": [
    {
     "data": {
      "image/png": "[encoded data removed]",
      "text/plain": [
       "<matplotlib.figure.Figure at 0x11deeb650>"
      ]
     },
     "metadata": {},
     "output_type": "display_data"
    }
   ],
   "source": [
    "# create t2\n",
    "#\n",
    "t2_arr=sitk.GetArrayFromImage(t2)\n",
    "t2_arr[0:127,97:255]=3\n",
    "t2_arr[97:127,97:127]=0\n",
    "t2_arr[43:127,171:255]=5\n",
    "t2_arr[43:85,171:215]=3\n",
    "t2_arr[127:255,0:171]=4\n",
    "t2_arr[214:255,125:255]=0\n",
    "#\n",
    "t2=sitk.GetImageFromArray(t2_arr)\n",
    "myshow(sitk.LabelToRGB(t2))"
   ]
  },
  {
   "cell_type": "code",
   "execution_count": 98,
   "metadata": {
    "collapsed": true
   },
   "outputs": [],
   "source": [
    "sitk.WriteImage(t2,os.path.join('/raid0/homes/aghayoor/Desktop/phantom','t2.nii.gz'))\n",
    "scipy.io.savemat(os.path.join('/raid0/homes/aghayoor/Desktop/phantom','t2.mat'), mdict={'t2': t2_arr})"
   ]
  },
  {
   "cell_type": "code",
   "execution_count": 99,
   "metadata": {
    "collapsed": false
   },
   "outputs": [
    {
     "data": {
      "image/png": "[encoded data removed]",
      "text/plain": [
       "<matplotlib.figure.Figure at 0x11e621e90>"
      ]
     },
     "metadata": {},
     "output_type": "display_data"
    }
   ],
   "source": [
    "t2_lr = sitk.Shrink(t2,[7,7])\n",
    "myshow(sitk.LabelToRGB(t2_lr))"
   ]
  },
  {
   "cell_type": "code",
   "execution_count": 100,
   "metadata": {
    "collapsed": true
   },
   "outputs": [],
   "source": [
    "t2_lr_arr=sitk.GetArrayFromImage(t2_lr)"
   ]
  },
  {
   "cell_type": "code",
   "execution_count": 101,
   "metadata": {
    "collapsed": true
   },
   "outputs": [],
   "source": [
    "scipy.io.savemat(os.path.join('/raid0/homes/aghayoor/Desktop/phantom','t2_lr.mat'), mdict={'t2_lr': t2_lr_arr})"
   ]
  },
  {
   "cell_type": "code",
   "execution_count": 102,
   "metadata": {
    "collapsed": false
   },
   "outputs": [
    {
     "name": "stdout",
     "output_type": "stream",
     "text": [
      "(36, 36)\n",
      "(7.0, 7.0)\n"
     ]
    }
   ],
   "source": [
    "print(t2_lr.GetSize())\n",
    "print(t2_lr.GetSpacing())"
   ]
  },
  {
   "cell_type": "code",
   "execution_count": 103,
   "metadata": {
    "collapsed": true
   },
   "outputs": [],
   "source": [
    "sitk.WriteImage(t2_lr,os.path.join('/raid0/homes/aghayoor/Desktop/phantom','t2_lr.nii.gz'))"
   ]
  },
  {
   "cell_type": "code",
   "execution_count": null,
   "metadata": {
    "collapsed": true
   },
   "outputs": [],
   "source": []
  }
 ],
 "metadata": {
  "kernelspec": {
   "display_name": "Python 2",
   "language": "python",
   "name": "python2"
  },
  "language_info": {
   "codemirror_mode": {
    "name": "ipython",
    "version": 2
   },
   "file_extension": ".py",
   "mimetype": "text/x-python",
   "name": "python",
   "nbconvert_exporter": "python",
   "pygments_lexer": "ipython2",
   "version": "2.7.11"
  }
 },
 "nbformat": 4,
 "nbformat_minor": 0
}
