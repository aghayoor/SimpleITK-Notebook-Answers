{
 "cells": [
  {
   "cell_type": "code",
   "execution_count": 20,
   "metadata": {
    "collapsed": false
   },
   "outputs": [
    {
     "name": "stdout",
     "output_type": "stream",
     "text": [
      "SimpleITK Version: 0.9.1\n",
      "Compiled: Sep 28 2015 10:07:41\n",
      "\n"
     ]
    }
   ],
   "source": [
    "## Boiler plate code common to many notebooks.  See the TestFilesCommonCode.ipynb for details\n",
    "from __future__ import print_function\n",
    "%run TestFilesCommonCode.ipynb"
   ]
  },
  {
   "cell_type": "code",
   "execution_count": 21,
   "metadata": {
    "collapsed": false
   },
   "outputs": [],
   "source": [
    "import os\n",
    "import glob\n",
    "import sys\n",
    "\n",
    "#\\/\\/\\/\\/\\/\\/\\/\\/\\/\\/\\/\\/\\/\\/\\/\\/\\/\\/\\/\\/\\/\\/\\/\\/\\/\\/\\/\\/\\/\\/\\/\\/\\/\\/\\/\\/\\/\\/\\/\\/\\/\\/\\/\n",
    "#####################################################################################\n",
    "#     Prepend the shell environment search paths\n",
    "PROGRAM_PATHS = '/scratch/NAMICExternalProjects/release-20160523/bin'\n",
    "#PROGRAM_PATHS = '/scratch/BS/release-BSR/bin'\n",
    "PROGRAM_PATHS = PROGRAM_PATHS.split(':')\n",
    "PROGRAM_PATHS.extend(os.environ['PATH'].split(':'))\n",
    "os.environ['PATH'] = ':'.join(PROGRAM_PATHS)\n",
    "\n",
    "CUSTOM_ENVIRONMENT=dict()\n",
    "\n",
    "# Platform specific information\n",
    "#     Prepend the python search paths\n",
    "#PYTHON_AUX_PATHS = '/scratch/BS/BRAINSTools/AutoWorkup'\n",
    "PYTHON_AUX_PATHS = '/scratch/SuperResolution/BRAINSSuperResolution/HCPWorkflows/'\n",
    "PYTHON_AUX_PATHS = PYTHON_AUX_PATHS.split(':')\n",
    "PYTHON_AUX_PATHS.extend(sys.path)\n",
    "sys.path = PYTHON_AUX_PATHS\n",
    "\n",
    "import SimpleITK as sitk\n",
    "import nipype\n",
    "from nipype.interfaces.base import CommandLine, CommandLineInputSpec, TraitedSpec, File, Directory\n",
    "from nipype.interfaces.base import traits, isdefined, BaseInterface\n",
    "from nipype.interfaces.utility import Merge, Split, Function, Rename, IdentityInterface\n",
    "import nipype.interfaces.io as nio   # Data i/oS\n",
    "import nipype.pipeline.engine as pe  # pypeline engine\n",
    "from nipype.interfaces.freesurfer import ReconAll\n",
    "from nipype.interfaces.ants import DenoiseImage\n",
    "from nipype.interfaces.semtools import *\n",
    "\n",
    "PYTHON_AUX_PATHS = '/scratch/wmql/tract_querier/tract_querier/:/scratch/wmql/tract_querier/tract_querier/nipype/'\n",
    "PYTHON_AUX_PATHS = PYTHON_AUX_PATHS.split(':')\n",
    "PYTHON_AUX_PATHS.extend(sys.path)\n",
    "sys.path = PYTHON_AUX_PATHS"
   ]
  },
  {
   "cell_type": "code",
   "execution_count": 22,
   "metadata": {
    "collapsed": true
   },
   "outputs": [],
   "source": [
    "from tractography import Tractography, tractography_to_file, tractography_from_files\n",
    "import numpy as np"
   ]
  },
  {
   "cell_type": "code",
   "execution_count": 29,
   "metadata": {
    "collapsed": true
   },
   "outputs": [],
   "source": [
    "# gs: gold standard\n",
    "# in: input\n",
    "gs_cst_left_fn = '/scratch/TESTS/IpythonNotebook/20160615_HCPWF/mainWF/Outputs/WMQL/Baseline_query_cst.left.vtp'\n",
    "gs_cst_right_fn = '/scratch/TESTS/IpythonNotebook/20160615_HCPWF/mainWF/Outputs/WMQL/Baseline_query_cst.right.vtp'\n",
    "\n",
    "sr_cst_left_fn = '/scratch/TESTS/IpythonNotebook/20160615_HCPWF/mainWF/Outputs/WMQL/NN_query_cst.left.vtp'\n",
    "sr_cst_right_fn = '/scratch/TESTS/IpythonNotebook/20160615_HCPWF/mainWF/Outputs/WMQL/NN_query_cst.right.vtp'"
   ]
  },
  {
   "cell_type": "markdown",
   "metadata": {},
   "source": [
    "# implementation two / histogram"
   ]
  },
  {
   "cell_type": "code",
   "execution_count": 30,
   "metadata": {
    "collapsed": false
   },
   "outputs": [],
   "source": [
    "def ComputeBhattacharyyaCoeficient(gs_bundle,sr_bundle):\n",
    "    from tractography import Tractography, tractography_to_file, tractography_from_files\n",
    "    import numpy as np\n",
    "    ## read in each fiber bundle\n",
    "    gs_tractography = tractography_from_files(gs_bundle)\n",
    "    gs_tracts = gs_tractography.tracts()\n",
    "    gs_pts = np.vstack(gs_tracts)\n",
    "    #\n",
    "    sr_tractography = tractography_from_files(sr_bundle)\n",
    "    sr_tracts = sr_tractography.tracts()\n",
    "    sr_pts = np.vstack(sr_tracts)\n",
    "    #\n",
    "    mn = np.minimum(gs_pts.min(0), sr_pts.min(0))\n",
    "    mx = np.maximum(gs_pts.max(0), sr_pts.max(0))\n",
    "    bins = np.ceil((mx - mn))\n",
    "    #\n",
    "    gs_hist = np.array([ np.histogram(gs_pts[:,i], bins=bins[i], density=True, range=(mn[i], mx[i]))[0] for i in xrange(3) ])\n",
    "    sr_hist = np.array([ np.histogram(sr_pts[:,i], bins=bins[i], density=True, range=(mn[i], mx[i]))[0] for i in xrange(3) ])\n",
    "    #\n",
    "    coefs = np.array([ np.sqrt( (gs_hist[i]*sr_hist[i])/(gs_hist[i].sum()*sr_hist[i].sum()) ).sum() for i in xrange(3) ])\n",
    "    print(coefs)\n",
    "    return coefs.mean()"
   ]
  },
  {
   "cell_type": "code",
   "execution_count": 31,
   "metadata": {
    "collapsed": false
   },
   "outputs": [
    {
     "name": "stdout",
     "output_type": "stream",
     "text": [
      "[ 0.99879787  0.99665498  0.9991733 ]\n",
      "0.998208716153\n"
     ]
    }
   ],
   "source": [
    "bc = ComputeBhattacharyyaCoeficient(gs_cst_left_fn,sr_cst_left_fn)\n",
    "print(bc)"
   ]
  },
  {
   "cell_type": "markdown",
   "metadata": {},
   "source": [
    "# partly results"
   ]
  },
  {
   "cell_type": "code",
   "execution_count": 32,
   "metadata": {
    "collapsed": true
   },
   "outputs": [],
   "source": [
    "def ComputeBhattacharyyaCoeficient(gs_bundle,sr_bundle):\n",
    "    from tractography import Tractography, tractography_to_file, tractography_from_files\n",
    "    import numpy as np\n",
    "    def returnBundlePoints(bundle):\n",
    "        tractography = tractography_from_files(bundle)\n",
    "        tracts = tractography.tracts()\n",
    "        ## sort all tracts from down to up in z direction\n",
    "        for i in xrange(len(tracts)):\n",
    "            last_idx = len(tracts[i])-1\n",
    "            if tracts[i][:,2][0] > tracts[i][:,2][last_idx]:\n",
    "                tracts[i] = tracts[i][::-1]\n",
    "        #\n",
    "        tracts_first_half = [tracts[i][:len(tracts[i])/2] for i in xrange(len(tracts))]\n",
    "        tracts_second_half = [tracts[i][len(tracts[i])/2:] for i in xrange(len(tracts))]\n",
    "        #\n",
    "        pts = np.vstack(tracts)\n",
    "        pts_down = np.vstack(tracts_first_half)\n",
    "        pts_up = np.vstack(tracts_second_half)\n",
    "        return pts, pts_down, pts_up\n",
    "    ###\n",
    "    def returnBhattCoef(gs_pts,sr_pts):\n",
    "        mn = np.minimum(gs_pts.min(0), sr_pts.min(0))\n",
    "        mx = np.maximum(gs_pts.max(0), sr_pts.max(0))\n",
    "        bins = np.ceil((mx - mn))\n",
    "        gs_hist = np.array([ np.histogram(gs_pts[:,i], bins=bins[i], density=True, range=(mn[i], mx[i]))[0] for i in xrange(3) ])\n",
    "        sr_hist = np.array([ np.histogram(sr_pts[:,i], bins=bins[i], density=True, range=(mn[i], mx[i]))[0] for i in xrange(3) ])\n",
    "        coefs = np.array([ np.sqrt( (gs_hist[i]*sr_hist[i])/(gs_hist[i].sum()*sr_hist[i].sum()) ).sum() for i in xrange(3) ])\n",
    "        print(coefs)\n",
    "        return coefs.mean()\n",
    "    ###\n",
    "    [gs_pts, gs_pts_down, gs_pts_up] = returnBundlePoints(gs_bundle)\n",
    "    [sr_pts, sr_pts_down, sr_pts_up] = returnBundlePoints(sr_bundle)\n",
    "    #\n",
    "    coef = returnBhattCoef(gs_pts,sr_pts)\n",
    "    print(coef)\n",
    "    coef_down = returnBhattCoef(gs_pts_down,sr_pts_down)\n",
    "    print(coef_down)\n",
    "    coef_up = returnBhattCoef(gs_pts_up,sr_pts_up)\n",
    "    print(coef_up)"
   ]
  },
  {
   "cell_type": "code",
   "execution_count": 35,
   "metadata": {
    "collapsed": false
   },
   "outputs": [
    {
     "name": "stdout",
     "output_type": "stream",
     "text": [
      "[ 0.99879787  0.99665498  0.9991733 ]\n",
      "0.998208716153\n",
      "[ 0.99762613  0.99290914  0.99815557]\n",
      "0.996230282269\n",
      "[ 0.99938502  0.99529663  0.99852849]\n",
      "0.997736714303\n"
     ]
    }
   ],
   "source": [
    "ComputeBhattacharyyaCoeficient(gs_cst_left_fn,sr_cst_left_fn)"
   ]
  },
  {
   "cell_type": "code",
   "execution_count": null,
   "metadata": {
    "collapsed": true
   },
   "outputs": [],
   "source": []
  },
  {
   "cell_type": "code",
   "execution_count": null,
   "metadata": {
    "collapsed": true
   },
   "outputs": [],
   "source": []
  },
  {
   "cell_type": "code",
   "execution_count": null,
   "metadata": {
    "collapsed": true
   },
   "outputs": [],
   "source": []
  },
  {
   "cell_type": "code",
   "execution_count": null,
   "metadata": {
    "collapsed": true
   },
   "outputs": [],
   "source": []
  },
  {
   "cell_type": "code",
   "execution_count": null,
   "metadata": {
    "collapsed": true
   },
   "outputs": [],
   "source": []
  },
  {
   "cell_type": "code",
   "execution_count": null,
   "metadata": {
    "collapsed": true
   },
   "outputs": [],
   "source": []
  },
  {
   "cell_type": "code",
   "execution_count": 15,
   "metadata": {
    "collapsed": false
   },
   "outputs": [],
   "source": [
    "def returnBundlePoints(bundle):\n",
    "    tractography = tractography_from_files(bundle)\n",
    "    tracts = tractography.tracts()\n",
    "    ## sort all tracts from down to up in z direction\n",
    "    for i in xrange(len(tracts)):\n",
    "        last_idx = len(tracts[i])-1\n",
    "        if tracts[i][:,2][0] > tracts[i][:,2][last_idx]:\n",
    "            tracts[i] = tracts[i][::-1]\n",
    "    #\n",
    "    tracts_first_half = [tracts[i][:len(tracts[i])/2] for i in xrange(len(tracts))]\n",
    "    tracts_second_half = [tracts[i][len(tracts[i])/2:] for i in xrange(len(tracts))]\n",
    "    #\n",
    "    pts = np.vstack(tracts)\n",
    "    pts_down = np.vstack(tracts_first_half)\n",
    "    pts_up = np.vstack(tracts_second_half)\n",
    "    return pts, pts_down, pts_up\n",
    "\n",
    "[gs_pts, gs_pts_down, gs_pts_up] = returnBundlePoints(sr_cst_left_fn)"
   ]
  },
  {
   "cell_type": "code",
   "execution_count": 16,
   "metadata": {
    "collapsed": true
   },
   "outputs": [],
   "source": [
    "import pandas as pd\n",
    "from ggplot import *"
   ]
  },
  {
   "cell_type": "code",
   "execution_count": 17,
   "metadata": {
    "collapsed": false
   },
   "outputs": [
    {
     "data": {
      "image/png": "[encoded data removed]",
      "text/plain": [
       "<matplotlib.figure.Figure at 0x12e445610>"
      ]
     },
     "metadata": {},
     "output_type": "display_data"
    },
    {
     "data": {
      "text/plain": [
       "<ggplot: (316944373)>"
      ]
     },
     "execution_count": 17,
     "metadata": {},
     "output_type": "execute_result"
    }
   ],
   "source": [
    "DF_gs_x = pd.DataFrame(np.transpose([gs_pts[:,0], gs_pts[:,2]]))\n",
    "DF_gs_x.rename(columns = lambda x: str(x), inplace=True)\n",
    "DF_gs_x.rename(columns={\"0\": \"X\"}, inplace=True) # rename a dfcolumn   \n",
    "DF_gs_x.rename(columns={\"1\": \"Y\"}, inplace=True) # rename a dfcolumn \n",
    "DF_gs_x\n",
    "\n",
    "ggplot(aes(x = 'X', y ='Y'),data=DF_gs_x) + \\\n",
    "    geom_point()"
   ]
  },
  {
   "cell_type": "code",
   "execution_count": 18,
   "metadata": {
    "collapsed": false
   },
   "outputs": [
    {
     "data": {
      "image/png": "[encoded data removed]",
      "text/plain": [
       "<matplotlib.figure.Figure at 0x12ee11fd0>"
      ]
     },
     "metadata": {},
     "output_type": "display_data"
    },
    {
     "data": {
      "text/plain": [
       "<ggplot: (328531589)>"
      ]
     },
     "execution_count": 18,
     "metadata": {},
     "output_type": "execute_result"
    }
   ],
   "source": [
    "DF_gs_x = pd.DataFrame(np.transpose([gs_pts_down[:,0], gs_pts_down[:,2]]))\n",
    "DF_gs_x.rename(columns = lambda x: str(x), inplace=True)\n",
    "DF_gs_x.rename(columns={\"0\": \"X\"}, inplace=True) # rename a dfcolumn   \n",
    "DF_gs_x.rename(columns={\"1\": \"Y\"}, inplace=True) # rename a dfcolumn \n",
    "DF_gs_x\n",
    "\n",
    "ggplot(aes(x = 'X', y ='Y'),data=DF_gs_x) + \\\n",
    "    geom_point()"
   ]
  },
  {
   "cell_type": "code",
   "execution_count": 19,
   "metadata": {
    "collapsed": false
   },
   "outputs": [
    {
     "data": {
      "image/png": "[encoded data removed]",
      "text/plain": [
       "<matplotlib.figure.Figure at 0x12e49a890>"
      ]
     },
     "metadata": {},
     "output_type": "display_data"
    },
    {
     "data": {
      "text/plain": [
       "<ggplot: (328647481)>"
      ]
     },
     "execution_count": 19,
     "metadata": {},
     "output_type": "execute_result"
    }
   ],
   "source": [
    "DF_gs_x = pd.DataFrame(np.transpose([gs_pts_up[:,0], gs_pts_up[:,2]]))\n",
    "DF_gs_x.rename(columns = lambda x: str(x), inplace=True)\n",
    "DF_gs_x.rename(columns={\"0\": \"X\"}, inplace=True) # rename a dfcolumn   \n",
    "DF_gs_x.rename(columns={\"1\": \"Y\"}, inplace=True) # rename a dfcolumn \n",
    "DF_gs_x\n",
    "\n",
    "ggplot(aes(x = 'X', y ='Y'),data=DF_gs_x) + \\\n",
    "    geom_point()"
   ]
  },
  {
   "cell_type": "code",
   "execution_count": null,
   "metadata": {
    "collapsed": true
   },
   "outputs": [],
   "source": []
  },
  {
   "cell_type": "code",
   "execution_count": null,
   "metadata": {
    "collapsed": true
   },
   "outputs": [],
   "source": []
  },
  {
   "cell_type": "code",
   "execution_count": null,
   "metadata": {
    "collapsed": true
   },
   "outputs": [],
   "source": []
  },
  {
   "cell_type": "code",
   "execution_count": null,
   "metadata": {
    "collapsed": true
   },
   "outputs": [],
   "source": []
  },
  {
   "cell_type": "code",
   "execution_count": null,
   "metadata": {
    "collapsed": true
   },
   "outputs": [],
   "source": []
  },
  {
   "cell_type": "code",
   "execution_count": null,
   "metadata": {
    "collapsed": true
   },
   "outputs": [],
   "source": []
  },
  {
   "cell_type": "code",
   "execution_count": null,
   "metadata": {
    "collapsed": true
   },
   "outputs": [],
   "source": []
  },
  {
   "cell_type": "code",
   "execution_count": null,
   "metadata": {
    "collapsed": true
   },
   "outputs": [],
   "source": [
    "gs_tractography = tractography_from_files(gs_cst_left_fn)\n",
    "gs_tracts = gs_tractography.tracts()"
   ]
  },
  {
   "cell_type": "code",
   "execution_count": null,
   "metadata": {
    "collapsed": false
   },
   "outputs": [],
   "source": [
    "print(gs_tracts[10][:,2])\n",
    "print(gs_tracts[10][:,2][0])\n",
    "print(gs_tracts[10][:,2][len(gs_tracts[10])-1])"
   ]
  },
  {
   "cell_type": "code",
   "execution_count": null,
   "metadata": {
    "collapsed": false
   },
   "outputs": [],
   "source": [
    "for i in xrange(len(gs_tracts)):\n",
    "    last_idx = len(gs_tracts[i])-1\n",
    "    if gs_tracts[i][:,2][0] > gs_tracts[i][:,2][last_idx]:\n",
    "        gs_tracts[i] = gs_tracts[i][::-1]"
   ]
  },
  {
   "cell_type": "code",
   "execution_count": null,
   "metadata": {
    "collapsed": false
   },
   "outputs": [],
   "source": [
    "print(gs_tracts[10][:,2])\n",
    "print(gs_tracts[10][:,2][0])\n",
    "print(gs_tracts[10][:,2][len(gs_tracts[10])-1])"
   ]
  },
  {
   "cell_type": "code",
   "execution_count": null,
   "metadata": {
    "collapsed": true
   },
   "outputs": [],
   "source": [
    "gs_pts = np.vstack(gs_tracts)"
   ]
  },
  {
   "cell_type": "code",
   "execution_count": null,
   "metadata": {
    "collapsed": true
   },
   "outputs": [],
   "source": [
    "import pandas as pd\n",
    "from ggplot import *"
   ]
  },
  {
   "cell_type": "code",
   "execution_count": null,
   "metadata": {
    "collapsed": false
   },
   "outputs": [],
   "source": [
    "DF_gs_x = pd.DataFrame(np.transpose([gs_pts[:,0], gs_pts[:,2]]))\n",
    "DF_gs_x.rename(columns = lambda x: str(x), inplace=True)\n",
    "DF_gs_x.rename(columns={\"0\": \"X\"}, inplace=True) # rename a dfcolumn   \n",
    "DF_gs_x.rename(columns={\"1\": \"Y\"}, inplace=True) # rename a dfcolumn \n",
    "DF_gs_x\n",
    "# DF_gs_x = pd.DataFrame(np.transpose([gs_pts[:,0], gs_pts[:,1], gs_pts[:,2]]))\n",
    "# DF_gs_x.rename(columns = lambda x: str(x), inplace=True)\n",
    "# DF_gs_x.rename(columns={\"0\": \"X\"}, inplace=True) # rename a dfcolumn   \n",
    "# DF_gs_x.rename(columns={\"1\": \"Y\"}, inplace=True) # rename a dfcolumn\n",
    "# DF_gs_x.rename(columns={\"2\": \"Z\"}, inplace=True)\n",
    "# DF_gs_x"
   ]
  },
  {
   "cell_type": "code",
   "execution_count": null,
   "metadata": {
    "collapsed": false
   },
   "outputs": [],
   "source": [
    "ggplot(aes(x = 'X', y ='Y'),data=DF_gs_x) + \\\n",
    "    geom_point()"
   ]
  },
  {
   "cell_type": "code",
   "execution_count": null,
   "metadata": {
    "collapsed": true
   },
   "outputs": [],
   "source": [
    "gs_tracts_second_half = [gs_tracts[i][(len(gs_tracts[i])/2):] for i in xrange(len(gs_tracts))]"
   ]
  },
  {
   "cell_type": "code",
   "execution_count": null,
   "metadata": {
    "collapsed": true
   },
   "outputs": [],
   "source": [
    "gs_pts = np.vstack(gs_tracts_second_half)"
   ]
  },
  {
   "cell_type": "code",
   "execution_count": null,
   "metadata": {
    "collapsed": false
   },
   "outputs": [],
   "source": [
    "DF_gs_x = pd.DataFrame(np.transpose([gs_pts[:,0], gs_pts[:,2]]))\n",
    "DF_gs_x.rename(columns = lambda x: str(x), inplace=True)\n",
    "DF_gs_x.rename(columns={\"0\": \"X\"}, inplace=True) # rename a dfcolumn   \n",
    "DF_gs_x.rename(columns={\"1\": \"Y\"}, inplace=True) # rename a dfcolumn \n",
    "DF_gs_x"
   ]
  },
  {
   "cell_type": "code",
   "execution_count": null,
   "metadata": {
    "collapsed": false,
    "scrolled": true
   },
   "outputs": [],
   "source": [
    "ggplot(aes(x = 'X', y ='Y'),data=DF_gs_x) + \\\n",
    "    geom_point()"
   ]
  },
  {
   "cell_type": "code",
   "execution_count": null,
   "metadata": {
    "collapsed": true
   },
   "outputs": [],
   "source": []
  },
  {
   "cell_type": "code",
   "execution_count": null,
   "metadata": {
    "collapsed": true
   },
   "outputs": [],
   "source": []
  },
  {
   "cell_type": "code",
   "execution_count": null,
   "metadata": {
    "collapsed": true
   },
   "outputs": [],
   "source": []
  },
  {
   "cell_type": "code",
   "execution_count": null,
   "metadata": {
    "collapsed": true
   },
   "outputs": [],
   "source": []
  },
  {
   "cell_type": "code",
   "execution_count": null,
   "metadata": {
    "collapsed": true
   },
   "outputs": [],
   "source": []
  },
  {
   "cell_type": "code",
   "execution_count": null,
   "metadata": {
    "collapsed": true
   },
   "outputs": [],
   "source": []
  },
  {
   "cell_type": "code",
   "execution_count": null,
   "metadata": {
    "collapsed": false
   },
   "outputs": [],
   "source": [
    "gs_pts = np.vstack(gs_tracts[10])"
   ]
  },
  {
   "cell_type": "code",
   "execution_count": null,
   "metadata": {
    "collapsed": false
   },
   "outputs": [],
   "source": [
    "DF_gs_x = pd.DataFrame(np.transpose([gs_pts[:,0], gs_pts[:,2]]))\n",
    "DF_gs_x.rename(columns = lambda x: str(x), inplace=True)\n",
    "DF_gs_x.rename(columns={\"0\": \"X\"}, inplace=True) # rename a dfcolumn   \n",
    "DF_gs_x.rename(columns={\"1\": \"Y\"}, inplace=True) # rename a dfcolumn\n",
    "DF_gs_x"
   ]
  },
  {
   "cell_type": "code",
   "execution_count": null,
   "metadata": {
    "collapsed": false
   },
   "outputs": [],
   "source": [
    "ggplot(aes(x = 'X', y ='Y'),data=DF_gs_x) + \\\n",
    "    geom_point()"
   ]
  },
  {
   "cell_type": "code",
   "execution_count": null,
   "metadata": {
    "collapsed": true
   },
   "outputs": [],
   "source": [
    "gs_pts = np.vstack(gs_tracts_second_half[10])"
   ]
  },
  {
   "cell_type": "code",
   "execution_count": null,
   "metadata": {
    "collapsed": true
   },
   "outputs": [],
   "source": [
    "DF_gs_x = pd.DataFrame(np.transpose([gs_pts[:,0], gs_pts[:,2]]))\n",
    "DF_gs_x.rename(columns = lambda x: str(x), inplace=True)\n",
    "DF_gs_x.rename(columns={\"0\": \"X\"}, inplace=True) # rename a dfcolumn   \n",
    "DF_gs_x.rename(columns={\"1\": \"Y\"}, inplace=True) # rename a dfcolumn "
   ]
  },
  {
   "cell_type": "code",
   "execution_count": null,
   "metadata": {
    "collapsed": false
   },
   "outputs": [],
   "source": [
    "ggplot(aes(x = 'X', y ='Y'),data=DF_gs_x) + \\\n",
    "    geom_point() \\\n",
    "    + xlim(-30, 10) \\\n",
    "    + ylim(-80, 80)"
   ]
  },
  {
   "cell_type": "code",
   "execution_count": null,
   "metadata": {
    "collapsed": false
   },
   "outputs": [],
   "source": [
    "gs_pts = np.vstack(gs_tracts[0])\n",
    "\n",
    "DF_gs_x = pd.DataFrame(np.transpose([gs_pts[:,0], gs_pts[:,2]]))\n",
    "DF_gs_x.rename(columns = lambda x: str(x), inplace=True)\n",
    "DF_gs_x.rename(columns={\"0\": \"X\"}, inplace=True) # rename a dfcolumn   \n",
    "DF_gs_x.rename(columns={\"1\": \"Y\"}, inplace=True) # rename a dfcolumn \n",
    "print(DF_gs_x)\n",
    "\n",
    "ggplot(aes(x = 'X', y ='Y'),data=DF_gs_x) + \\\n",
    "    geom_point()"
   ]
  },
  {
   "cell_type": "code",
   "execution_count": null,
   "metadata": {
    "collapsed": false
   },
   "outputs": [],
   "source": [
    "gs_pts = np.vstack(gs_tracts_second_half[0])\n",
    "\n",
    "DF_gs_x = pd.DataFrame(np.transpose([gs_pts[:,0], gs_pts[:,2]]))\n",
    "DF_gs_x.rename(columns = lambda x: str(x), inplace=True)\n",
    "DF_gs_x.rename(columns={\"0\": \"X\"}, inplace=True) # rename a dfcolumn   \n",
    "DF_gs_x.rename(columns={\"1\": \"Y\"}, inplace=True) # rename a dfcolumn \n",
    "\n",
    "ggplot(aes(x = 'X', y ='Y'),data=DF_gs_x) + \\\n",
    "    geom_point() \\\n",
    "    + xlim(-30, 5) \\\n",
    "    + ylim(-60, 60)"
   ]
  },
  {
   "cell_type": "code",
   "execution_count": null,
   "metadata": {
    "collapsed": true
   },
   "outputs": [],
   "source": []
  },
  {
   "cell_type": "code",
   "execution_count": null,
   "metadata": {
    "collapsed": true
   },
   "outputs": [],
   "source": []
  },
  {
   "cell_type": "code",
   "execution_count": null,
   "metadata": {
    "collapsed": true
   },
   "outputs": [],
   "source": []
  },
  {
   "cell_type": "code",
   "execution_count": null,
   "metadata": {
    "collapsed": true
   },
   "outputs": [],
   "source": []
  },
  {
   "cell_type": "code",
   "execution_count": null,
   "metadata": {
    "collapsed": true
   },
   "outputs": [],
   "source": []
  },
  {
   "cell_type": "code",
   "execution_count": null,
   "metadata": {
    "collapsed": true
   },
   "outputs": [],
   "source": []
  },
  {
   "cell_type": "code",
   "execution_count": null,
   "metadata": {
    "collapsed": true
   },
   "outputs": [],
   "source": []
  },
  {
   "cell_type": "code",
   "execution_count": null,
   "metadata": {
    "collapsed": true
   },
   "outputs": [],
   "source": []
  },
  {
   "cell_type": "code",
   "execution_count": null,
   "metadata": {
    "collapsed": true
   },
   "outputs": [],
   "source": []
  },
  {
   "cell_type": "code",
   "execution_count": null,
   "metadata": {
    "collapsed": true
   },
   "outputs": [],
   "source": []
  },
  {
   "cell_type": "code",
   "execution_count": null,
   "metadata": {
    "collapsed": true
   },
   "outputs": [],
   "source": []
  },
  {
   "cell_type": "code",
   "execution_count": null,
   "metadata": {
    "collapsed": true
   },
   "outputs": [],
   "source": []
  },
  {
   "cell_type": "code",
   "execution_count": null,
   "metadata": {
    "collapsed": true
   },
   "outputs": [],
   "source": []
  },
  {
   "cell_type": "code",
   "execution_count": null,
   "metadata": {
    "collapsed": true
   },
   "outputs": [],
   "source": []
  },
  {
   "cell_type": "code",
   "execution_count": null,
   "metadata": {
    "collapsed": true
   },
   "outputs": [],
   "source": []
  },
  {
   "cell_type": "code",
   "execution_count": null,
   "metadata": {
    "collapsed": true
   },
   "outputs": [],
   "source": []
  },
  {
   "cell_type": "code",
   "execution_count": null,
   "metadata": {
    "collapsed": true
   },
   "outputs": [],
   "source": []
  },
  {
   "cell_type": "code",
   "execution_count": null,
   "metadata": {
    "collapsed": true
   },
   "outputs": [],
   "source": []
  },
  {
   "cell_type": "code",
   "execution_count": null,
   "metadata": {
    "collapsed": true
   },
   "outputs": [],
   "source": []
  },
  {
   "cell_type": "code",
   "execution_count": null,
   "metadata": {
    "collapsed": true
   },
   "outputs": [],
   "source": []
  },
  {
   "cell_type": "code",
   "execution_count": null,
   "metadata": {
    "collapsed": true
   },
   "outputs": [],
   "source": []
  },
  {
   "cell_type": "code",
   "execution_count": null,
   "metadata": {
    "collapsed": true
   },
   "outputs": [],
   "source": []
  },
  {
   "cell_type": "code",
   "execution_count": null,
   "metadata": {
    "collapsed": true
   },
   "outputs": [],
   "source": []
  },
  {
   "cell_type": "code",
   "execution_count": null,
   "metadata": {
    "collapsed": true
   },
   "outputs": [],
   "source": []
  }
 ],
 "metadata": {
  "kernelspec": {
   "display_name": "Python 2",
   "language": "python",
   "name": "python2"
  },
  "language_info": {
   "codemirror_mode": {
    "name": "ipython",
    "version": 2
   },
   "file_extension": ".py",
   "mimetype": "text/x-python",
   "name": "python",
   "nbconvert_exporter": "python",
   "pygments_lexer": "ipython2",
   "version": "2.7.11"
  }
 },
 "nbformat": 4,
 "nbformat_minor": 0
}
