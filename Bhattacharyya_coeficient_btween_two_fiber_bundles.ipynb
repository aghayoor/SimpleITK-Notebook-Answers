{
 "cells": [
  {
   "cell_type": "code",
   "execution_count": 10,
   "metadata": {
    "collapsed": true
   },
   "outputs": [],
   "source": [
    "%matplotlib inline"
   ]
  },
  {
   "cell_type": "code",
   "execution_count": 11,
   "metadata": {
    "collapsed": true
   },
   "outputs": [],
   "source": [
    "import vtk\n",
    "import numpy as np\n",
    "from scipy import stats"
   ]
  },
  {
   "cell_type": "code",
   "execution_count": 12,
   "metadata": {
    "collapsed": true
   },
   "outputs": [],
   "source": [
    "# gs: gold standard\n",
    "# in: input\n",
    "gs_cst_left_fn = '/Shared/johnsonhj/HDNI/ReferenceData/HCP_DATA/test_UKF/100307/2_Rs_0_025/WMQL/wmqa_100307_cst.left.vtp'\n",
    "in_cst_left_fn = '/Shared/johnsonhj/HDNI/ReferenceData/HCP_DATA/test_UKF/100307/1_Rs_default_0_02/WMQL/wmqa_100307_cst.left.vtp'"
   ]
  },
  {
   "cell_type": "code",
   "execution_count": 13,
   "metadata": {
    "collapsed": false
   },
   "outputs": [],
   "source": [
    "# read gold standard (gs)\n",
    "file_reader1 = vtk.vtkXMLPolyDataReader()\n",
    "file_reader1.SetFileName(gs_cst_left_fn)\n",
    "file_reader1.Update()\n",
    "gs_cst_left = file_reader1.GetOutput()\n",
    "# read input\n",
    "file_reader2 = vtk.vtkXMLPolyDataReader()\n",
    "file_reader2.SetFileName(in_cst_left_fn)\n",
    "file_reader2.Update()\n",
    "in_cst_left = file_reader2.GetOutput()"
   ]
  },
  {
   "cell_type": "code",
   "execution_count": 14,
   "metadata": {
    "collapsed": false
   },
   "outputs": [],
   "source": [
    "#print(gs_cst_left)"
   ]
  },
  {
   "cell_type": "code",
   "execution_count": 15,
   "metadata": {
    "collapsed": true
   },
   "outputs": [],
   "source": [
    "gs_numPoints = gs_cst_left.GetNumberOfPoints()\n",
    "in_numPoints = in_cst_left.GetNumberOfPoints()\n",
    "\n",
    "gs_points = gs_cst_left.GetPoints()\n",
    "in_points = in_cst_left.GetPoints()"
   ]
  },
  {
   "cell_type": "code",
   "execution_count": 16,
   "metadata": {
    "collapsed": false
   },
   "outputs": [
    {
     "name": "stdout",
     "output_type": "stream",
     "text": [
      "28434\n",
      "28235\n",
      "---\n",
      "vtkPoints (0x10f27efc0)\n",
      "  Debug: Off\n",
      "  Modified Time: 1153\n",
      "  Reference Count: 2\n",
      "  Registered Events: (none)\n",
      "  Data: 0x10f27f150\n",
      "  Data Array Name: Points\n",
      "  Number Of Points: 28434\n",
      "  Bounds: \n",
      "    Xmin,Xmax: (-63.4563, 18.0108)\n",
      "    Ymin,Ymax: (-66.0334, 36.8692)\n",
      "    Zmin,Zmax: (-65.4002, 67.9039)\n",
      "\n",
      "\n",
      "---\n",
      "vtkPoints (0x10f287a60)\n",
      "  Debug: Off\n",
      "  Modified Time: 1616\n",
      "  Reference Count: 2\n",
      "  Registered Events: (none)\n",
      "  Data: 0x10f287bf0\n",
      "  Data Array Name: Points\n",
      "  Number Of Points: 28235\n",
      "  Bounds: \n",
      "    Xmin,Xmax: (-64.6071, 18.0307)\n",
      "    Ymin,Ymax: (-63.7205, 36.7826)\n",
      "    Zmin,Zmax: (-65.2869, 67.8829)\n",
      "\n",
      "\n"
     ]
    }
   ],
   "source": [
    "print(gs_numPoints)\n",
    "print(in_numPoints)\n",
    "print('---')\n",
    "print(gs_points)\n",
    "print('---')\n",
    "print(in_points)"
   ]
  },
  {
   "cell_type": "code",
   "execution_count": 16,
   "metadata": {
    "collapsed": false
   },
   "outputs": [],
   "source": [
    "#gs_points.GetPoint(0)[2]"
   ]
  },
  {
   "cell_type": "code",
   "execution_count": 17,
   "metadata": {
    "collapsed": false
   },
   "outputs": [],
   "source": [
    "gs_x_arr = np.array([gs_points.GetPoint(i)[0] for i in xrange(gs_numPoints)])\n",
    "in_x_arr = np.array([in_points.GetPoint(i)[0] for i in xrange(in_numPoints)])\n",
    "#---\n",
    "gs_y_arr = np.array([gs_points.GetPoint(i)[1] for i in xrange(gs_numPoints)])\n",
    "in_y_arr = np.array([in_points.GetPoint(i)[1] for i in xrange(in_numPoints)])\n",
    "#---\n",
    "gs_z_arr = np.array([gs_points.GetPoint(i)[2] for i in xrange(gs_numPoints)])\n",
    "in_z_arr = np.array([in_points.GetPoint(i)[2] for i in xrange(in_numPoints)])"
   ]
  },
  {
   "cell_type": "code",
   "execution_count": 18,
   "metadata": {
    "collapsed": false
   },
   "outputs": [
    {
     "name": "stdout",
     "output_type": "stream",
     "text": [
      "[-35.34571838 -34.61727524 -33.88975525 ...,  -3.74897957  -2.8997364\n",
      "  -2.00780916]\n",
      "[-1.77106464 -1.52919436 -1.33055592 ..., -7.61741209 -8.18560696\n",
      " -8.74658203]\n"
     ]
    }
   ],
   "source": [
    "print(gs_x_arr)\n",
    "print(in_x_arr)"
   ]
  },
  {
   "cell_type": "markdown",
   "metadata": {},
   "source": [
    "Use ksdensity to estimate probability density function for the sample data"
   ]
  },
  {
   "cell_type": "code",
   "execution_count": 19,
   "metadata": {
    "collapsed": false
   },
   "outputs": [],
   "source": [
    "data = gs_x_arr\n",
    "kde = stats.gaussian_kde(data)\n",
    "x = np.linspace(data.min(), data.max(), 100)\n",
    "p_gs_x = kde(x)\n",
    "#----\n",
    "data = gs_y_arr\n",
    "kde = stats.gaussian_kde(data)\n",
    "y = np.linspace(data.min(), data.max(), 100)\n",
    "p_gs_y = kde(y)\n",
    "#----\n",
    "data = gs_z_arr\n",
    "kde = stats.gaussian_kde(data)\n",
    "z = np.linspace(data.min(), data.max(), 100)\n",
    "p_gs_z = kde(z)"
   ]
  },
  {
   "cell_type": "code",
   "execution_count": 20,
   "metadata": {
    "collapsed": false
   },
   "outputs": [],
   "source": [
    "data = in_x_arr\n",
    "kde = stats.gaussian_kde(data)\n",
    "x = np.linspace(data.min(), data.max(), 100)\n",
    "p_in_x = kde(x)\n",
    "#----\n",
    "data = in_y_arr\n",
    "kde = stats.gaussian_kde(data)\n",
    "y = np.linspace(data.min(), data.max(), 100)\n",
    "p_in_y = kde(y)\n",
    "#----\n",
    "data = in_z_arr\n",
    "kde = stats.gaussian_kde(data)\n",
    "z = np.linspace(data.min(), data.max(), 100)\n",
    "p_in_z = kde(z)"
   ]
  },
  {
   "cell_type": "code",
   "execution_count": 21,
   "metadata": {
    "collapsed": true
   },
   "outputs": [],
   "source": [
    "import pandas as pd\n",
    "from ggplot import *"
   ]
  },
  {
   "cell_type": "code",
   "execution_count": 22,
   "metadata": {
    "collapsed": false
   },
   "outputs": [
    {
     "name": "stderr",
     "output_type": "stream",
     "text": [
      "/IPLlinux/raid0/homes/aghayoor/anaconda/lib/python2.7/site-packages/matplotlib/__init__.py:872: UserWarning: axes.color_cycle is deprecated and replaced with axes.prop_cycle; please use the latter.\n",
      "  warnings.warn(self.msg_depr % (key, alt_key))\n"
     ]
    },
    {
     "data": {
      "image/png": "[encoded data removed]",
      "text/plain": [
       "<matplotlib.figure.Figure at 0x12ca36f90>"
      ]
     },
     "metadata": {},
     "output_type": "display_data"
    },
    {
     "data": {
      "text/plain": [
       "<ggplot: (315242217)>"
      ]
     },
     "execution_count": 22,
     "metadata": {},
     "output_type": "execute_result"
    }
   ],
   "source": [
    "DF_gs_x = pd.DataFrame(np.transpose([x, p_gs_x]))\n",
    "DF_gs_x.rename(columns = lambda x: str(x), inplace=True)\n",
    "DF_gs_x.rename(columns={\"0\": \"X\"}, inplace=True) # rename a dfcolumn   \n",
    "DF_gs_x.rename(columns={\"1\": \"Y\"}, inplace=True) # rename a dfcolumn \n",
    "#DF_gs_x\n",
    "\n",
    "ggplot(aes(x = 'X', y ='Y'),data=DF_gs_x) + \\\n",
    "    geom_point()"
   ]
  },
  {
   "cell_type": "code",
   "execution_count": 23,
   "metadata": {
    "collapsed": false
   },
   "outputs": [
    {
     "data": {
      "image/png": "[encoded data removed]",
      "text/plain": [
       "<matplotlib.figure.Figure at 0x12ca4a710>"
      ]
     },
     "metadata": {},
     "output_type": "display_data"
    },
    {
     "data": {
      "text/plain": [
       "<ggplot: (315239409)>"
      ]
     },
     "execution_count": 23,
     "metadata": {},
     "output_type": "execute_result"
    }
   ],
   "source": [
    "DF_in_x = pd.DataFrame(np.transpose([x, p_in_x]))\n",
    "DF_in_x.rename(columns = lambda x: str(x), inplace=True)\n",
    "DF_in_x.rename(columns={\"0\": \"X\"}, inplace=True) # rename a dfcolumn   \n",
    "DF_in_x.rename(columns={\"1\": \"Y\"}, inplace=True) # rename a dfcolumn \n",
    "#DF_in_x\n",
    "\n",
    "ggplot(aes(x = 'X', y ='Y'),data=DF_in_x) + \\\n",
    "    geom_point()"
   ]
  },
  {
   "cell_type": "markdown",
   "metadata": {},
   "source": [
    "# Bhattacharyya Coefficient"
   ]
  },
  {
   "cell_type": "code",
   "execution_count": 24,
   "metadata": {
    "collapsed": false
   },
   "outputs": [
    {
     "name": "stdout",
     "output_type": "stream",
     "text": [
      "0.97080829719\n"
     ]
    }
   ],
   "source": [
    "Bc = (1.0/3.0)*( np.sum(np.sqrt(p_gs_x * p_in_x)) + np.sum(np.sqrt(p_gs_y * p_in_y)) + np.sum(np.sqrt(p_gs_z * p_in_z)) )\n",
    "print(Bc)"
   ]
  },
  {
   "cell_type": "code",
   "execution_count": null,
   "metadata": {
    "collapsed": true
   },
   "outputs": [],
   "source": []
  },
  {
   "cell_type": "code",
   "execution_count": null,
   "metadata": {
    "collapsed": true
   },
   "outputs": [],
   "source": []
  }
 ],
 "metadata": {
  "kernelspec": {
   "display_name": "Python 2",
   "language": "python",
   "name": "python2"
  },
  "language_info": {
   "codemirror_mode": {
    "name": "ipython",
    "version": 2
   },
   "file_extension": ".py",
   "mimetype": "text/x-python",
   "name": "python",
   "nbconvert_exporter": "python",
   "pygments_lexer": "ipython2",
   "version": "2.7.11"
  }
 },
 "nbformat": 4,
 "nbformat_minor": 0
}
