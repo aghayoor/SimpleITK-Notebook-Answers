{
 "cells": [
  {
   "cell_type": "code",
   "execution_count": 1,
   "metadata": {
    "collapsed": false
   },
   "outputs": [
    {
     "name": "stdout",
     "output_type": "stream",
     "text": [
      "SimpleITK Version: 0.9.1\n",
      "Compiled: Sep 28 2015 10:07:41\n",
      "\n"
     ]
    }
   ],
   "source": [
    "## Boiler plate code common to many notebooks.  See the TestFilesCommonCode.ipynb for details\n",
    "from __future__ import print_function\n",
    "%run TestFilesCommonCode.ipynb"
   ]
  },
  {
   "cell_type": "code",
   "execution_count": 2,
   "metadata": {
    "collapsed": true
   },
   "outputs": [],
   "source": [
    "import os\n",
    "import glob\n",
    "import sys\n",
    "\n",
    "#\\/\\/\\/\\/\\/\\/\\/\\/\\/\\/\\/\\/\\/\\/\\/\\/\\/\\/\\/\\/\\/\\/\\/\\/\\/\\/\\/\\/\\/\\/\\/\\/\\/\\/\\/\\/\\/\\/\\/\\/\\/\\/\\/\n",
    "#####################################################################################\n",
    "#     Prepend the shell environment search paths\n",
    "PROGRAM_PATHS = '/scratch/NAMICExternalProjects/release-20160523/bin'\n",
    "#PROGRAM_PATHS = '/scratch/BS/release-BSR/bin'\n",
    "PROGRAM_PATHS = PROGRAM_PATHS.split(':')\n",
    "PROGRAM_PATHS.extend(os.environ['PATH'].split(':'))\n",
    "os.environ['PATH'] = ':'.join(PROGRAM_PATHS)\n",
    "\n",
    "CUSTOM_ENVIRONMENT=dict()\n",
    "\n",
    "# Platform specific information\n",
    "#     Prepend the python search paths\n",
    "#PYTHON_AUX_PATHS = '/scratch/BS/BRAINSTools/AutoWorkup'\n",
    "PYTHON_AUX_PATHS = '/scratch/SuperResolution/BRAINSSuperResolution/HCPWorkflows/'\n",
    "PYTHON_AUX_PATHS = PYTHON_AUX_PATHS.split(':')\n",
    "PYTHON_AUX_PATHS.extend(sys.path)\n",
    "sys.path = PYTHON_AUX_PATHS\n",
    "\n",
    "import SimpleITK as sitk\n",
    "import nipype\n",
    "from nipype.interfaces.base import CommandLine, CommandLineInputSpec, TraitedSpec, File, Directory\n",
    "from nipype.interfaces.base import traits, isdefined, BaseInterface\n",
    "from nipype.interfaces.utility import Merge, Split, Function, Rename, IdentityInterface\n",
    "import nipype.interfaces.io as nio   # Data i/oS\n",
    "import nipype.pipeline.engine as pe  # pypeline engine\n",
    "from nipype.interfaces.freesurfer import ReconAll\n",
    "from nipype.interfaces.ants import DenoiseImage\n",
    "from nipype.interfaces.semtools import *"
   ]
  },
  {
   "cell_type": "code",
   "execution_count": 3,
   "metadata": {
    "collapsed": true
   },
   "outputs": [],
   "source": [
    "DWI_scan = '/scratch/TESTS/IpythonNotebook/20160615_HCPWF/mainWF/Outputs/DWI_corrected_alignedSpace.nrrd'\n",
    "EdgeMap_scan = '/scratch/TESTS/IpythonNotebook/20160615_HCPWF/mainWF/Outputs/EdgeMap.nrrd'"
   ]
  },
  {
   "cell_type": "code",
   "execution_count": 4,
   "metadata": {
    "collapsed": false
   },
   "outputs": [],
   "source": [
    "sessionID = 105115\n",
    "WFname = 'HCPWorkflow_SR_' + str(sessionID)"
   ]
  },
  {
   "cell_type": "code",
   "execution_count": 7,
   "metadata": {
    "collapsed": false
   },
   "outputs": [
    {
     "name": "stderr",
     "output_type": "stream",
     "text": [
      "/IPLlinux/raid0/homes/aghayoor/anaconda/lib/python2.7/site-packages/IPython/kernel/__init__.py:13: ShimWarning: The `IPython.kernel` package has been deprecated. You should import from ipykernel or jupyter_client instead.\n",
      "  \"You should import from ipykernel or jupyter_client instead.\", ShimWarning)\n"
     ]
    },
    {
     "data": {
      "text/plain": [
       "<networkx.classes.digraph.DiGraph at 0x1247a13d0>"
      ]
     },
     "execution_count": 7,
     "metadata": {},
     "output_type": "execute_result"
    }
   ],
   "source": [
    "if PYTHON_AUX_PATHS is not None:\n",
    "    Path_to_Matlab_Func = '/scratch/SuperResolution/BRAINSSuperResolution/HCPWorkflows/'\n",
    "    assert os.path.exists(Path_to_Matlab_Func), \"Path to SR matlab function is not found: %s\" % Path_to_Matlab_Func\n",
    "\n",
    "###### UTILITY FUNCTIONS #######\n",
    "#\\/\\/\\/\\/\\/\\/\\/\\/\\/\\/\\/\\/\\/\\/\\/#\n",
    "# Run Super resolution reconstruction by Matlab\n",
    "def runSRbyMatlab(inputDWI,inputEdgeMap,Path_to_Matlab_Func):\n",
    "    import os\n",
    "    import nipype.interfaces.matlab as matlab\n",
    "    script=\"runSR('\"+inputDWI+\"','\"+inputEdgeMap+\"','\"+os.getcwd()+\"')\"\n",
    "    mlab = matlab.MatlabCommand()\n",
    "    mlab.set_default_matlab_cmd(\"matlab\")\n",
    "    mlab.inputs.single_comp_thread = False\n",
    "    mlab.inputs.nodesktop = True\n",
    "    mlab.inputs.nosplash = True\n",
    "    mlab.inputs.paths = Path_to_Matlab_Func\n",
    "    mlab.inputs.script = script\n",
    "    mlab.run()\n",
    "    baseline_fn = os.path.join(os.getcwd(), 'DWI_Baseline.nrrd')\n",
    "    assert os.path.isfile(baseline_fn), \"DWI baseline file is not found: %s\" % baseline_fn\n",
    "    NN_fn = os.path.join(os.getcwd(), 'DWI_NN.nrrd')\n",
    "    assert os.path.isfile(NN_fn), \"DWI Nearest Neighbor file is not found: %s\" % NN_fn\n",
    "    IFFT_fn = os.path.join(os.getcwd(), 'DWI_IFFT.nrrd')\n",
    "    assert os.path.isfile(IFFT_fn), \"DWI IFFT file is not found: %s\" % IFFT_fn\n",
    "    TV_fn = os.path.join(os.getcwd(), 'DWI_TV.nrrd')\n",
    "    assert os.path.isfile(TV_fn), \"DWI TV file is not found: %s\" % TV_fn\n",
    "    WTV_fn = os.path.join(os.getcwd(), 'DWI_WTV.nrrd')\n",
    "    assert os.path.isfile(WTV_fn), \"DWI WTV file is not found: %s\" % WTV_fn   \n",
    "    return [baseline_fn,NN_fn,IFFT_fn,TV_fn,WTV_fn]\n",
    "\n",
    "#################################\n",
    "#\\/\\/\\/\\/\\/\\/\\/\\/\\/\\/\\/\\/\\/\\/\\/\\#\n",
    "\n",
    "SRWF = pe.Workflow(name=WFname)\n",
    "\n",
    "BASE_DIR = os.path.join('/scratch/TESTS/IpythonNotebook/20160615_HCPWF', '2_SRWF')\n",
    "SRWF.base_dir = BASE_DIR\n",
    "\n",
    "inputsSpec = pe.Node(interface=IdentityInterface(fields=['DWIVolume',\n",
    "                                                         'EdgeMap']),\n",
    "                     name='inputsSpec')\n",
    "\n",
    "inputsSpec.inputs.DWIVolume = DWI_scan\n",
    "inputsSpec.inputs.EdgeMap = EdgeMap_scan\n",
    "\n",
    "outputsSpec = pe.Node(interface=IdentityInterface(fields=['DWI_baseline',\n",
    "                                                          'DWI_NN',\n",
    "                                                          'DWI_IFFT',\n",
    "                                                          'DWI_TV',\n",
    "                                                          'DWI_WTV']),\n",
    "                      name='outputsSpec')\n",
    "\n",
    "runSR=pe.Node(interface=Function(function = runSRbyMatlab,\n",
    "                                 input_names=['inputDWI','inputEdgeMap','Path_to_Matlab_Func'],\n",
    "                                 output_names=['baseline_fn','NN_fn','IFFT_fn','TV_fn','WTV_fn']),\n",
    "              name=\"runSR\")\n",
    "runSR.inputs.Path_to_Matlab_Func = Path_to_Matlab_Func\n",
    "SRWF.connect([(inputsSpec,runSR,[('DWIVolume','inputDWI'),('EdgeMap','inputEdgeMap')])])\n",
    "\n",
    "SRWF.connect([(runSR,outputsSpec,[('baseline_fn','DWI_baseline'),\n",
    "                                  ('NN_fn','DWI_NN'),\n",
    "                                  ('IFFT_fn','DWI_IFFT'),\n",
    "                                  ('TV_fn','DWI_TV'),\n",
    "                                  ('WTV_fn','DWI_WTV')])])\n",
    "\n",
    "\n",
    "SRWF.write_graph()\n",
    "SRWF.run()"
   ]
  },
  {
   "cell_type": "code",
   "execution_count": null,
   "metadata": {
    "collapsed": true
   },
   "outputs": [],
   "source": []
  },
  {
   "cell_type": "code",
   "execution_count": null,
   "metadata": {
    "collapsed": true
   },
   "outputs": [],
   "source": []
  },
  {
   "cell_type": "code",
   "execution_count": null,
   "metadata": {
    "collapsed": true
   },
   "outputs": [],
   "source": []
  },
  {
   "cell_type": "code",
   "execution_count": null,
   "metadata": {
    "collapsed": true
   },
   "outputs": [],
   "source": []
  },
  {
   "cell_type": "code",
   "execution_count": null,
   "metadata": {
    "collapsed": true
   },
   "outputs": [],
   "source": []
  },
  {
   "cell_type": "code",
   "execution_count": null,
   "metadata": {
    "collapsed": true
   },
   "outputs": [],
   "source": []
  },
  {
   "cell_type": "code",
   "execution_count": null,
   "metadata": {
    "collapsed": true
   },
   "outputs": [],
   "source": []
  },
  {
   "cell_type": "code",
   "execution_count": null,
   "metadata": {
    "collapsed": true
   },
   "outputs": [],
   "source": []
  },
  {
   "cell_type": "code",
   "execution_count": null,
   "metadata": {
    "collapsed": true
   },
   "outputs": [],
   "source": []
  },
  {
   "cell_type": "code",
   "execution_count": null,
   "metadata": {
    "collapsed": false
   },
   "outputs": [],
   "source": [
    "'''\n",
    "###### UTILITY FUNCTIONS #######\n",
    "#\\/\\/\\/\\/\\/\\/\\/\\/\\/\\/\\/\\/\\/\\/\\/#\n",
    "# Normalize DWI scan components between zero and one\n",
    "def NormalizeDWIComponents(inputDWI):\n",
    "    import os\n",
    "    import numpy as np\n",
    "    from ReadWriteNrrdDWI import ReadNAMICDWIFromNrrd, WriteNAMICDWIToNrrd\n",
    "    # utility function\n",
    "    def _3DNormalizeBetweenZeroAndOne(arr):   \n",
    "        newMax = 1.0\n",
    "        newMin = 0.0\n",
    "        oldMax = float(np.amax(arr))\n",
    "        oldMin = float(np.amin(arr))\n",
    "        f=(newMax-newMin)/(oldMax-oldMin)\n",
    "        normalized_arr = (arr-oldMin)*f+newMin\n",
    "        return normalized_arr\n",
    "    #\n",
    "    assert os.path.exists(inputDWI), \"File not found: %s\" % inputDWI\n",
    "    dwi_data,dwi_header,bvecs,bvals,gradient_index = ReadNAMICDWIFromNrrd(inputDWI)\n",
    "    dwi_data = dwi_data.astype(np.float32)\n",
    "    numOfComponents = dwi_data.shape[gradient_index]\n",
    "    for idx in range(numOfComponents):\n",
    "        dwi_3d = dwi_data[idx,:,:,:]\n",
    "        dwi_3d_norm = _3DNormalizeBetweenZeroAndOne(dwi_3d)\n",
    "        dwi_data[idx,:,:,:] = dwi_3d_norm\n",
    "    outNormalizedDWIFilename = os.path.join(os.getcwd(), 'DWI_baseline.nrrd')\n",
    "    # write corrected nrrd file to disk\n",
    "    WriteNAMICDWIToNrrd(outNormalizedDWIFilename,dwi_data,bvecs,bvals,dwi_header)\n",
    "    assert os.path.isfile(outNormalizedDWIFilename), \"Normalized DWI file is not found: %s\" % outNormalizedDWIFilename\n",
    "    return outNormalizedDWIFilename\n",
    "        \n",
    "def CreateMatFiles(inputDWI,inputEdgemap):\n",
    "    import scipy.io\n",
    "    import SimpleITK as sitk\n",
    "    from ReadWriteNrrdDWI import ReadNAMICDWIFromNrrd\n",
    "    #\n",
    "    assert os.path.exists(inputDWI), \"File not found: %s\" % inputDWI\n",
    "    assert os.path.exists(inputEdgemap), \"File not found: %s\" % inputEdgemap\n",
    "    #\n",
    "    edgemap = sitk.ReadImage(inputEdgemap)\n",
    "    edge_arr = sitk.GetArrayFromImage(edgemap)\n",
    "    edgemap_mat_file = os.path.join(os.getcwd(),'edgemap.mat')\n",
    "    scipy.io.savemat(edgemap_mat_file, mdict={'edgemap': edge_arr})\n",
    "    #\n",
    "    dwi_data,dwi_header,bvecs,bvals,gradient_index = ReadNAMICDWIFromNrrd(inputDWI)\n",
    "    # ...\n",
    "    #\n",
    "    return [edgemap_mat_file, dwi_mat_file]\n",
    "#################################\n",
    "#\\/\\/\\/\\/\\/\\/\\/\\/\\/\\/\\/\\/\\/\\/\\/\\#\n",
    "\n",
    "SRWF = pe.Workflow(name=WFname)\n",
    "\n",
    "BASE_DIR = os.path.join('/scratch/TESTS/IpythonNotebook/20160615_HCPWF', '2_SRWF')\n",
    "SRWF.base_dir = BASE_DIR\n",
    "\n",
    "inputsSpec = pe.Node(interface=IdentityInterface(fields=['DWIVolume',\n",
    "                                                         'EdgeMap']),\n",
    "                     name='inputsSpec')\n",
    "\n",
    "inputsSpec.inputs.DWIVolume = DWI_scan\n",
    "inputsSpec.inputs.EdgeMap = EdgeMap_scan\n",
    "\n",
    "outputsSpec = pe.Node(interface=IdentityInterface(fields=['DWI_baseline'\n",
    "                                                          ,'DWI_NN'\n",
    "                                                          ,'DWI_IFFT'\n",
    "                                                          ,'DWI_TV'\n",
    "                                                          ,'DWI_WTV'\n",
    "                                                         ]),\n",
    "                      name='outputsSpec')\n",
    "\n",
    "##\n",
    "## STEP 1: Create DWI_baseline that is normalized version of input corrected aligned DWI volume\n",
    "##\n",
    "CreateDWIBaseline = pe.Node(interface=Function(function = NormalizeDWIComponents,\n",
    "                                                        input_names=['inputDWI'],\n",
    "                                                        output_names=['outNormalizedDWIFilename']),\n",
    "                                     name=\"CreateDWIBaseline\")\n",
    "SRWF.connect(inputsSpec, 'DWIVolume', CreateDWIBaseline, 'inputDWI')\n",
    "SRWF.connect(CreateDWIBaseline, 'outNormalizedDWIFilename', outputsSpec, 'DWI_baseline')\n",
    "\n",
    "\n",
    "##\n",
    "## STEP 2: Convert input images to matlab arrays\n",
    "##\n",
    "CreateMatFilesNode = pe.Node(interface=Function(function = CreateMatFiles,\n",
    "                                                      input_names=['inputDWI','inputEdgemap'],\n",
    "                                                      output_names=['edgemap_mat_file','dwi_mat_file']),\n",
    "                             name=\"CreateMatFiles\")\n",
    "SRWF.connect(inputsSpec, 'DWIVolume', CreateMatFilesNode, 'inputDWI')\n",
    "SRWF.connect(inputsSpec, 'EdgeMap', CreateMatFilesNode, 'inputEdgemap')\n",
    "#\n",
    "\n",
    "\n",
    "SRWF.write_graph()\n",
    "SRWF.run()\n",
    "'''"
   ]
  },
  {
   "cell_type": "code",
   "execution_count": null,
   "metadata": {
    "collapsed": true
   },
   "outputs": [],
   "source": []
  }
 ],
 "metadata": {
  "kernelspec": {
   "display_name": "Python 2",
   "language": "python",
   "name": "python2"
  },
  "language_info": {
   "codemirror_mode": {
    "name": "ipython",
    "version": 2
   },
   "file_extension": ".py",
   "mimetype": "text/x-python",
   "name": "python",
   "nbconvert_exporter": "python",
   "pygments_lexer": "ipython2",
   "version": "2.7.11"
  }
 },
 "nbformat": 4,
 "nbformat_minor": 0
}
