{
 "metadata": {
  "name": "",
  "signature": "sha256:72303fc3c4763835a3c009b69616fc7358c2f274f6a2e2d87a33ef2684adbdfe"
 },
 "nbformat": 3,
 "nbformat_minor": 0,
 "worksheets": [
  {
   "cells": [
    {
     "cell_type": "markdown",
     "metadata": {},
     "source": [
      "This page runs two experiments to find best resampling methods to be used in DWI processing pipelines:\n",
      "\n",
      "#1) Mask resampling to DWI space\n",
      "\n",
      "After DWI image is corrected and aligned to T2 image space, we need to resample the FreeSurfer_extended label map as a binary labelmap to DWI voxel space, since it is needed by further processings of compressed sesning and tractography. \n",
      "\n",
      "In this experiment we investigate the best binary resampling method to resample the FreeSurfer_extended label map from its original isotropic (1x1x1 mm^3) space to the voxel space of corrected aligned DWI image.\n",
      "\n",
      "* Validation Method:\n",
      "\n",
      "First, we find the volume covered by FreeSurfer_extended label map in its original isotropic space. This value will be our baseline measure.\n",
      "\n",
      "Then, we compute the covered volume again after the label map was resampled to DWI voxel space.\n",
      "Note that we choose a DWI test case that has no cropping and its field of view (FOV) completely covers the resampled label map.\n",
      "\n",
      "We choose a resampling method that creates close measured volumes before and after resampling.\n",
      "\n",
      "\n",
      "#2) RIS resampling to isotropic space (1x1x1 mm^3) of T2LabelMap\n",
      "\n",
      "In measurement workflow, we need to resample the computed rotationally invariant scalar images to the istropic voxel space of FreeSurfer_extended label map to compute each RIS statistics in different regions of brain. This experiment investigates the best resampling method for this purpose.\n",
      "\n",
      "* Validation Method:\n",
      "\n",
      "First we compute the statistics of FA in its original space using the label map created from experiment 1.\n",
      "\n",
      "Then, we compute the whole brain statistics of FA again after it is resampled to istropic voxel space of FreeSurfer_extended label map. \n",
      "\n",
      "We choose a resampling method that creates close statistics to our baseline measures."
     ]
    },
    {
     "cell_type": "code",
     "collapsed": false,
     "input": [
      "## Boiler plate code common to many notebooks.  See the TestFilesCommonCode.ipynb for details\n",
      "from __future__ import print_function\n",
      "%run TestFilesCommonCode.ipynb"
     ],
     "language": "python",
     "metadata": {},
     "outputs": [
      {
       "output_type": "stream",
       "stream": "stdout",
       "text": [
        "SimpleITK Version: 0.9.0.dev2151-g2a716\n",
        "Compiled: Dec 23 2014 21:10:53\n",
        "\n"
       ]
      }
     ],
     "prompt_number": 39
    },
    {
     "cell_type": "code",
     "collapsed": false,
     "input": [
      "import os\n",
      "import glob\n",
      "import sys\n",
      "\n",
      "#\\/\\/\\/\\/\\/\\/\\/\\/\\/\\/\\/\\/\\/\\/\\/\\/\\/\\/\\/\\/\\/\\/\\/\\/\\/\\/\\/\\/\\/\\/\\/\\/\\/\\/\\/\\/\\/\\/\\/\\/\\/\\/\\/\n",
      "#####################################################################################\n",
      "#     Prepend the shell environment search paths\n",
      "PROGRAM_PATHS = '/scratch/NAMICExternalProjects/release/bin'\n",
      "PROGRAM_PATHS = PROGRAM_PATHS.split(':')\n",
      "PROGRAM_PATHS.extend(os.environ['PATH'].split(':'))\n",
      "os.environ['PATH'] = ':'.join(PROGRAM_PATHS)\n",
      "\n",
      "CUSTOM_ENVIRONMENT=dict()\n",
      "\n",
      "# Platform specific information\n",
      "#     Prepend the python search paths\n",
      "PYTHON_AUX_PATHS = '/scratch/BS/BRAINSTools/AutoWorkup'\n",
      "PYTHON_AUX_PATHS = PYTHON_AUX_PATHS.split(':')\n",
      "PYTHON_AUX_PATHS.extend(sys.path)\n",
      "sys.path = PYTHON_AUX_PATHS\n",
      "\n",
      "import SimpleITK as sitk\n",
      "import nipype\n",
      "from nipype.interfaces.base import CommandLine, CommandLineInputSpec, TraitedSpec, File, Directory\n",
      "from nipype.interfaces.base import traits, isdefined, BaseInterface\n",
      "from nipype.interfaces.utility import Merge, Split, Function, Rename, IdentityInterface\n",
      "import nipype.interfaces.io as nio   # Data i/oS\n",
      "import nipype.pipeline.engine as pe  # pypeline engine\n",
      "import nipype.interfaces.matlab as matlab\n",
      "from SEMTools import *"
     ],
     "language": "python",
     "metadata": {},
     "outputs": [],
     "prompt_number": 40
    },
    {
     "cell_type": "code",
     "collapsed": false,
     "input": [
      "TestDIR='/scratch/TESTS/IpythonNotebook/5_TestForDifferentWaysOfMaskResampling'"
     ],
     "language": "python",
     "metadata": {},
     "outputs": [],
     "prompt_number": 41
    },
    {
     "cell_type": "markdown",
     "metadata": {},
     "source": [
      "# Inputs:\n",
      "\n",
      "In choosing the sample test cases, we need to notice that processed (corrected and aligned) DWI test case should have no cropping and its field of view (FOV) should completely cover the resampled label map."
     ]
    },
    {
     "cell_type": "code",
     "collapsed": false,
     "input": [
      "labels_filename = '/Shared/sinapse/CACHE/20141001_PREDICTHD_long_Results/PHD_120/0095/13195/TissueClassify/fswm_extended_neuro2012_20_merge_seg.nii.gz'\n",
      "neuroLabels = sitk.ReadImage(labels_filename)\n",
      "size=neuroLabels.GetSize()\n",
      "myshow(sitk.LabelToRGB(neuroLabels[size[0]//2,:,::-1]))\n",
      "print(neuroLabels.GetPixelIDTypeAsString())"
     ],
     "language": "python",
     "metadata": {},
     "outputs": [
      {
       "output_type": "stream",
       "stream": "stdout",
       "text": [
        "16-bit unsigned integer\n"
       ]
      },
      {
       "metadata": {},
       "output_type": "display_data",
       "png": "[encoded data removed]",
       "text": [
        "<matplotlib.figure.Figure at 0x124ae5310>"
       ]
      }
     ],
     "prompt_number": 42
    },
    {
     "cell_type": "code",
     "collapsed": false,
     "input": [
      "T2_filename = '/Shared/sinapse/CACHE/20141001_PREDICTHD_long_Results/PHD_120/0095/13195/TissueClassify/t2_average_BRAINSABC.nii.gz'\n",
      "T2 = sitk.ReadImage(T2_filename)\n",
      "size=T2.GetSize()\n",
      "myshow(T2[size[0]//2,:,::-1])\n",
      "print(T2.GetPixelIDTypeAsString())"
     ],
     "language": "python",
     "metadata": {},
     "outputs": [
      {
       "output_type": "stream",
       "stream": "stdout",
       "text": [
        "16-bit signed integer\n"
       ]
      },
      {
       "metadata": {},
       "output_type": "display_data",
       "png": "[encoded data removed]",
       "text": [
        "<matplotlib.figure.Figure at 0x12127e710>"
       ]
      }
     ],
     "prompt_number": 43
    },
    {
     "cell_type": "markdown",
     "metadata": {},
     "source": [
      "# Baseline value for experiment 1:\n",
      "\n",
      "We compute volume covered by FreeSurfer_extended label map in its original isotropic space. This measure will be our ground truth for the first experiment."
     ]
    },
    {
     "cell_type": "code",
     "collapsed": false,
     "input": [
      "whole_mask = neuroLabels>0\n",
      "labelID=1\n",
      "\n",
      "statFilter = sitk.LabelStatisticsImageFilter()\n",
      "statFilter.Execute(T2, whole_mask)\n",
      "print(statFilter.GetNumberOfLabels())\n",
      "print('Num of voxels:',statFilter.GetCount(labelID))\n",
      "voxelSize=T2.GetSpacing()[0]*T2.GetSpacing()[1]*T2.GetSpacing()[2]\n",
      "effective_volume=statFilter.GetCount(labelID) * voxelSize\n",
      "print('effective_volume:',effective_volume)"
     ],
     "language": "python",
     "metadata": {},
     "outputs": [
      {
       "output_type": "stream",
       "stream": "stdout",
       "text": [
        "2\n",
        "Num of voxels: 1188493\n",
        "effective_volume: 1188493.0\n"
       ]
      }
     ],
     "prompt_number": 44
    },
    {
     "cell_type": "heading",
     "level": 4,
     "metadata": {},
     "source": [
      "Therefore, our Baseline measure is: 1,188,493 (mm^3)"
     ]
    },
    {
     "cell_type": "code",
     "collapsed": false,
     "input": [
      "DWI_aligned_B0_fn = '/Shared/johnsonhj/HDNI/20150319_DWIProcessing/Results/PHD_120/0095/13195/DWIWorkflow_CACHE_13195/CorrectionWorkflow_CACHE_13195/gtractResampleDWIInPlace_TuneRigidTx/CorrectedDWI_in_T2Space_B0.nrrd'\n",
      "DWI_aligned_B0 = sitk.ReadImage(DWI_aligned_B0_fn)\n",
      "size=DWI_aligned_B0.GetSize()\n",
      "myshow(sitk.Expand(DWI_aligned_B0[size[0]//2,:,:],[4,4,4]))\n",
      "print(DWI_aligned_B0.GetPixelIDTypeAsString())"
     ],
     "language": "python",
     "metadata": {},
     "outputs": [
      {
       "output_type": "stream",
       "stream": "stdout",
       "text": [
        "16-bit signed integer\n"
       ]
      },
      {
       "metadata": {},
       "output_type": "display_data",
       "png": "[encoded data removed]",
       "text": [
        "<matplotlib.figure.Figure at 0x10f60c950>"
       ]
      }
     ],
     "prompt_number": 45
    },
    {
     "cell_type": "heading",
     "level": 6,
     "metadata": {},
     "source": [
      "Now we use the following methods to resample the FreeSurfer_extended label map to the voxel space of corrected aligned DWI image:"
     ]
    },
    {
     "cell_type": "markdown",
     "metadata": {},
     "source": [
      "1) Use BRAINSResample with interpolationMode = 'Linear' and output pixelType = 'binary'\n",
      "\n",
      "2) Use SimpleITK resampleImageFitler wiht NearestNeighbor interpolation\n",
      "\n",
      "3) Use SimpleITK resampleImageFitler wiht LabelGaussian interpolation\n",
      "\n",
      "4) Use SimpleITK resampleImageFitler wiht Linear interpolation + Thresholding at 0\n",
      "\n",
      "5) Use SimpleITK resampleImageFitler wiht Linear interpolation + Thresholding at 0<t<1\n",
      "\n"
     ]
    },
    {
     "cell_type": "code",
     "collapsed": false,
     "input": [
      "# 1- by BRIANSResample\n",
      "bResample = BRAINSResample()\n",
      "bResample.inputs.inputVolume = labels_filename\n",
      "bResample.inputs.interpolationMode = 'Linear'\n",
      "bResample.inputs.pixelType = 'binary'\n",
      "bResample.inputs.referenceVolume = DWI_aligned_B0_fn\n",
      "bResample.inputs.outputVolume = os.path.join(TestDIR, 'maskByBResample.nrrd')\n",
      "bResample.run()\n",
      "\n",
      "whole_mask = sitk.ReadImage(bResample.inputs.outputVolume)\n",
      "labelID=1\n",
      "statFilter = sitk.LabelStatisticsImageFilter()\n",
      "statFilter.Execute(DWI_aligned_B0, whole_mask)\n",
      "print(statFilter.GetNumberOfLabels())\n",
      "print('Num of voxels:',statFilter.GetCount(labelID))\n",
      "voxelSize=DWI_aligned_B0.GetSpacing()[0]*DWI_aligned_B0.GetSpacing()[1]*DWI_aligned_B0.GetSpacing()[2]\n",
      "effective_volume=statFilter.GetCount(labelID) * voxelSize\n",
      "print('effective_volume:',effective_volume)"
     ],
     "language": "python",
     "metadata": {},
     "outputs": [
      {
       "output_type": "stream",
       "stream": "stderr",
       "text": [
        "INFO:interface:stdout 2015-04-08T20:03:57.378476:WARNING: neither warpTransform nor deformationVolume are defined, so warpTransform is set as identity.\n"
       ]
      },
      {
       "output_type": "stream",
       "stream": "stderr",
       "text": [
        "INFO:interface:stdout 2015-04-08T20:03:57.378476:=====================================================\n"
       ]
      },
      {
       "output_type": "stream",
       "stream": "stderr",
       "text": [
        "INFO:interface:stdout 2015-04-08T20:03:57.378476:Input Volume:     /Shared/sinapse/CACHE/20141001_PREDICTHD_long_Results/PHD_120/0095/13195/TissueClassify/fswm_extended_neuro2012_20_merge_seg.nii.gz\n"
       ]
      },
      {
       "output_type": "stream",
       "stream": "stderr",
       "text": [
        "INFO:interface:stdout 2015-04-08T20:03:57.378476:Reference Volume: /Shared/johnsonhj/HDNI/20150319_DWIProcessing/Results/PHD_120/0095/13195/DWIWorkflow_CACHE_13195/CorrectionWorkflow_CACHE_13195/gtractResampleDWIInPlace_TuneRigidTx/CorrectedDWI_in_T2Space_B0.nrrd\n"
       ]
      },
      {
       "output_type": "stream",
       "stream": "stderr",
       "text": [
        "INFO:interface:stdout 2015-04-08T20:03:57.378476:Output Volume:    /scratch/TESTS/IpythonNotebook/5_TestForDifferentWaysOfMaskResampling/maskByBResample.nrrd\n"
       ]
      },
      {
       "output_type": "stream",
       "stream": "stderr",
       "text": [
        "INFO:interface:stdout 2015-04-08T20:03:57.378476:Pixel Type:       binary\n"
       ]
      },
      {
       "output_type": "stream",
       "stream": "stderr",
       "text": [
        "INFO:interface:stdout 2015-04-08T20:03:57.378476:Interpolation:    Linear\n"
       ]
      },
      {
       "output_type": "stream",
       "stream": "stderr",
       "text": [
        "INFO:interface:stdout 2015-04-08T20:03:57.378476:Background Value: 0\n"
       ]
      },
      {
       "output_type": "stream",
       "stream": "stderr",
       "text": [
        "INFO:interface:stdout 2015-04-08T20:03:57.378476:Warp By Transform: Identity\n"
       ]
      },
      {
       "output_type": "stream",
       "stream": "stderr",
       "text": [
        "INFO:interface:stdout 2015-04-08T20:03:57.378476:=====================================================\n"
       ]
      },
      {
       "output_type": "stream",
       "stream": "stdout",
       "text": [
        "2\n",
        "Num of voxels: 152504\n",
        "effective_volume: 1220032.0\n"
       ]
      }
     ],
     "prompt_number": 46
    },
    {
     "cell_type": "code",
     "collapsed": false,
     "input": [
      "# 2- sitk + NearestNeighbor \n",
      "\n",
      "# binary_mask\n",
      "binary_mask = neuroLabels>0\n",
      "# resample to DWI space\n",
      "resFilt = sitk.ResampleImageFilter()\n",
      "resFilt.SetReferenceImage(DWI_aligned_B0)\n",
      "resFilt.SetInterpolator(sitk.sitkNearestNeighbor)\n",
      "resampled_mask = resFilt.Execute(binary_mask)\n",
      "\n",
      "whole_mask = resampled_mask\n",
      "labelID=1\n",
      "statFilter = sitk.LabelStatisticsImageFilter()\n",
      "statFilter.Execute(DWI_aligned_B0, whole_mask)\n",
      "print(statFilter.GetNumberOfLabels())\n",
      "print('Num of voxels:',statFilter.GetCount(labelID))\n",
      "voxelSize=DWI_aligned_B0.GetSpacing()[0]*DWI_aligned_B0.GetSpacing()[1]*DWI_aligned_B0.GetSpacing()[2]\n",
      "effective_volume=statFilter.GetCount(labelID) * voxelSize\n",
      "print('effective_volume:',effective_volume)"
     ],
     "language": "python",
     "metadata": {},
     "outputs": [
      {
       "output_type": "stream",
       "stream": "stdout",
       "text": [
        "2\n",
        "Num of voxels: 148544\n",
        "effective_volume: 1188352.0\n"
       ]
      }
     ],
     "prompt_number": 47
    },
    {
     "cell_type": "code",
     "collapsed": false,
     "input": [
      "# 3- sitk + LabelGaussian  \n",
      "\n",
      "# binary_mask\n",
      "binary_mask = neuroLabels>0\n",
      "# resample to DWI space\n",
      "resFilt = sitk.ResampleImageFilter()\n",
      "resFilt.SetReferenceImage(DWI_aligned_B0)\n",
      "resFilt.SetInterpolator(sitk.sitkLabelGaussian)\n",
      "resampled_mask = resFilt.Execute(binary_mask)\n",
      "\n",
      "whole_mask = resampled_mask\n",
      "labelID=1\n",
      "statFilter = sitk.LabelStatisticsImageFilter()\n",
      "statFilter.Execute(DWI_aligned_B0, whole_mask)\n",
      "print(statFilter.GetNumberOfLabels())\n",
      "print('Num of voxels:',statFilter.GetCount(labelID))\n",
      "voxelSize=DWI_aligned_B0.GetSpacing()[0]*DWI_aligned_B0.GetSpacing()[1]*DWI_aligned_B0.GetSpacing()[2]\n",
      "effective_volume=statFilter.GetCount(labelID) * voxelSize\n",
      "print('effective_volume:',effective_volume)"
     ],
     "language": "python",
     "metadata": {},
     "outputs": [
      {
       "output_type": "stream",
       "stream": "stdout",
       "text": [
        "2\n",
        "Num of voxels: 148489\n",
        "effective_volume: 1187912.0\n"
       ]
      }
     ],
     "prompt_number": 48
    },
    {
     "cell_type": "code",
     "collapsed": false,
     "input": [
      "# 4- sitk + linear + threshold 0\n",
      "\n",
      "# binary_mask\n",
      "binary_mask = neuroLabels>0\n",
      "# resample to DWI space\n",
      "resFilt = sitk.ResampleImageFilter()\n",
      "resFilt.SetReferenceImage(DWI_aligned_B0)\n",
      "resFilt.SetOutputPixelType(sitk.sitkFloat32)\n",
      "resFilt.SetInterpolator(sitk.sitkLinear)\n",
      "resampled_mask = resFilt.Execute(binary_mask)\n",
      "# Thresholding by 0\n",
      "threshFilt = sitk.BinaryThresholdImageFilter()\n",
      "thresh_resampled_mask = threshFilt.Execute(resampled_mask,0.0001,1.0,1,0)\n",
      "sitk.WriteImage(thresh_resampled_mask,os.path.join(TestDIR, 'maskBySITK_zero.nrrd'))\n",
      "\n",
      "whole_mask = thresh_resampled_mask\n",
      "labelID=1\n",
      "statFilter = sitk.LabelStatisticsImageFilter()\n",
      "statFilter.Execute(DWI_aligned_B0, whole_mask)\n",
      "print(statFilter.GetNumberOfLabels())\n",
      "print('Num of voxels:',statFilter.GetCount(labelID))\n",
      "voxelSize=DWI_aligned_B0.GetSpacing()[0]*DWI_aligned_B0.GetSpacing()[1]*DWI_aligned_B0.GetSpacing()[2]\n",
      "effective_volume=statFilter.GetCount(labelID) * voxelSize\n",
      "print('effective_volume:',effective_volume)"
     ],
     "language": "python",
     "metadata": {},
     "outputs": [
      {
       "output_type": "stream",
       "stream": "stdout",
       "text": [
        "2\n",
        "Num of voxels: 154523\n",
        "effective_volume: 1236184.0\n"
       ]
      }
     ],
     "prompt_number": 49
    },
    {
     "cell_type": "code",
     "collapsed": false,
     "input": [
      "# 5- sitk + linear + threshold 0.49\n",
      "\n",
      "# binary_mask\n",
      "binary_mask = neuroLabels>0\n",
      "# resample to DWI space\n",
      "resFilt = sitk.ResampleImageFilter()\n",
      "resFilt.SetReferenceImage(DWI_aligned_B0)\n",
      "resFilt.SetOutputPixelType(sitk.sitkFloat32)\n",
      "resFilt.SetInterpolator(sitk.sitkLinear)\n",
      "resampled_mask = resFilt.Execute(binary_mask)\n",
      "# Thresholding by 0.5\n",
      "threshFilt = sitk.BinaryThresholdImageFilter()\n",
      "thresh_resampled_mask = threshFilt.Execute(resampled_mask,0.49,1.0,1,0)\n",
      "sitk.WriteImage(thresh_resampled_mask,os.path.join(TestDIR, 'maskBySITK_linear_0.5_thresh.nrrd'))\n",
      "\n",
      "whole_mask = thresh_resampled_mask\n",
      "labelID=1\n",
      "statFilter = sitk.LabelStatisticsImageFilter()\n",
      "statFilter.Execute(DWI_aligned_B0, whole_mask)\n",
      "print(statFilter.GetNumberOfLabels())\n",
      "print('Num of voxels:',statFilter.GetCount(labelID))\n",
      "voxelSize=DWI_aligned_B0.GetSpacing()[0]*DWI_aligned_B0.GetSpacing()[1]*DWI_aligned_B0.GetSpacing()[2]\n",
      "effective_volume=statFilter.GetCount(labelID) * voxelSize\n",
      "print('effective_volume:',effective_volume)"
     ],
     "language": "python",
     "metadata": {},
     "outputs": [
      {
       "output_type": "stream",
       "stream": "stdout",
       "text": [
        "2\n",
        "Num of voxels: 148599\n",
        "effective_volume: 1188792.0\n"
       ]
      }
     ],
     "prompt_number": 50
    },
    {
     "cell_type": "heading",
     "level": 5,
     "metadata": {},
     "source": [
      "Therefore, based on the above results, the optimal resampling method for Mask resampling is:"
     ]
    },
    {
     "cell_type": "heading",
     "level": 3,
     "metadata": {},
     "source": [
      "SimpleITK resampleImageFitler with 'Linear' interpolation + Thresholding at 0.49"
     ]
    },
    {
     "cell_type": "heading",
     "level": 1,
     "metadata": {},
     "source": [
      "----------------------------------------------------------------------------"
     ]
    },
    {
     "cell_type": "heading",
     "level": 1,
     "metadata": {},
     "source": [
      "Experiment 2) RIS resampling to isotropic space (1x1x1 mm^3) of FreeSurfer extended label map"
     ]
    },
    {
     "cell_type": "code",
     "collapsed": false,
     "input": [
      "FA_fn = '/Shared/johnsonhj/HDNI/20150319_DWIProcessing/Results/PHD_120/0095/13195/13195/Outputs/FA.nrrd'\n",
      "FA = sitk.ReadImage(FA_fn)\n",
      "size=FA.GetSize()\n",
      "myshow(sitk.Expand(FA[size[0]//2,:,:],[4,4,4]))\n",
      "print(FA.GetPixelIDTypeAsString())"
     ],
     "language": "python",
     "metadata": {},
     "outputs": [
      {
       "output_type": "stream",
       "stream": "stdout",
       "text": [
        "64-bit float\n"
       ]
      },
      {
       "metadata": {},
       "output_type": "display_data",
       "png": "[encoded data removed]",
       "text": [
        "<matplotlib.figure.Figure at 0x10f631ed0>"
       ]
      }
     ],
     "prompt_number": 51
    },
    {
     "cell_type": "heading",
     "level": 6,
     "metadata": {},
     "source": [
      "First we compute the statistics of FA in its original space using the label map created from experiment 1."
     ]
    },
    {
     "cell_type": "code",
     "collapsed": false,
     "input": [
      "print(whole_mask.GetPixelIDTypeAsString())\n",
      "\n",
      "statFilter = sitk.LabelStatisticsImageFilter()\n",
      "statFilter.Execute(FA, whole_mask)\n",
      "print(statFilter.GetNumberOfLabels())\n",
      "labelID=1\n",
      "\n",
      "print('mean:',statFilter.GetMean(labelID))\n",
      "print('std:',statFilter.GetSigma(labelID))\n",
      "print('max:',statFilter.GetMaximum(labelID))\n",
      "print('min:',statFilter.GetMinimum(labelID))\n",
      "print('median:',statFilter.GetMedian(labelID))\n",
      "print('Num of voxels:',statFilter.GetCount(labelID))\n",
      "\n",
      "voxelSize=FA.GetSpacing()[0]*FA.GetSpacing()[1]*FA.GetSpacing()[2]\n",
      "effective_volume=statFilter.GetCount(labelID) * voxelSize\n",
      "print('effective_volume:',effective_volume)"
     ],
     "language": "python",
     "metadata": {},
     "outputs": [
      {
       "output_type": "stream",
       "stream": "stdout",
       "text": [
        "8-bit unsigned integer\n",
        "2\n",
        "mean: 0.137543948377\n",
        "std: 0.147001117319\n",
        "max: 1.22474291654\n",
        "min: 0.0\n",
        "median: 0.0885068103671\n",
        "Num of voxels: 148599\n",
        "effective_volume: 1188792.0\n"
       ]
      }
     ],
     "prompt_number": 52
    },
    {
     "cell_type": "heading",
     "level": 6,
     "metadata": {},
     "source": [
      "Now we test the following resampling methods:"
     ]
    },
    {
     "cell_type": "heading",
     "level": 3,
     "metadata": {},
     "source": [
      "1) SimpleIKT + 'Linear' interpolation"
     ]
    },
    {
     "cell_type": "code",
     "collapsed": false,
     "input": [
      "# resample FA to label map space\n",
      "resFilt = sitk.ResampleImageFilter()\n",
      "resFilt.SetReferenceImage(neuroLabels)\n",
      "resFilt.SetOutputPixelType(FA.GetPixelIDValue())\n",
      "resFilt.SetInterpolator(sitk.sitkLinear)\n",
      "FA_res = resFilt.Execute(FA)\n",
      "\n",
      "size=FA_res.GetSize()\n",
      "myshow(FA_res[size[0]//2,:,::-1])\n",
      "####################### \n",
      "\n",
      "whole_brain_mask = neuroLabels>0\n",
      "labelID = 1\n",
      "\n",
      "statFilter = sitk.LabelStatisticsImageFilter()\n",
      "statFilter.Execute(FA_res, whole_brain_mask)\n",
      "print(statFilter.GetNumberOfLabels())\n",
      "print('mean:',statFilter.GetMean(labelID))\n",
      "print('std:',statFilter.GetSigma(labelID))\n",
      "print('max:',statFilter.GetMaximum(labelID))\n",
      "print('min:',statFilter.GetMinimum(labelID))\n",
      "print('median:',statFilter.GetMedian(labelID))\n",
      "print('Num of voxels:',statFilter.GetCount(labelID))\n",
      "voxelSize=FA_res.GetSpacing()[0]*FA_res.GetSpacing()[1]*FA_res.GetSpacing()[2]\n",
      "effective_volume=statFilter.GetCount(labelID) * voxelSize\n",
      "print('effective_volume:',effective_volume)"
     ],
     "language": "python",
     "metadata": {},
     "outputs": [
      {
       "output_type": "stream",
       "stream": "stdout",
       "text": [
        "2\n",
        "mean: 0.137381385455\n",
        "std: 0.134830367396\n",
        "max: 1.1836113099\n",
        "min: 0.0\n",
        "median: 0.0947813726962\n",
        "Num of voxels: 1188493\n",
        "effective_volume: 1188493.0\n"
       ]
      },
      {
       "metadata": {},
       "output_type": "display_data",
       "png": "[encoded data removed]",
       "text": [
        "<matplotlib.figure.Figure at 0x10f607790>"
       ]
      }
     ],
     "prompt_number": 53
    },
    {
     "cell_type": "heading",
     "level": 3,
     "metadata": {},
     "source": [
      "2) SimpleIKT + 'Gaussian' interpolation"
     ]
    },
    {
     "cell_type": "code",
     "collapsed": false,
     "input": [
      "# resample FA to label map space\n",
      "resFilt = sitk.ResampleImageFilter()\n",
      "resFilt.SetReferenceImage(neuroLabels)\n",
      "resFilt.SetOutputPixelType(FA.GetPixelIDValue())\n",
      "resFilt.SetInterpolator(sitk.sitkGaussian )\n",
      "FA_res = resFilt.Execute(FA)\n",
      "\n",
      "####################### \n",
      "\n",
      "whole_brain_mask = neuroLabels>0\n",
      "labelID = 1\n",
      "\n",
      "statFilter = sitk.LabelStatisticsImageFilter()\n",
      "statFilter.Execute(FA_res, whole_brain_mask)\n",
      "print(statFilter.GetNumberOfLabels())\n",
      "print('mean:',statFilter.GetMean(labelID))\n",
      "print('std:',statFilter.GetSigma(labelID))\n",
      "print('max:',statFilter.GetMaximum(labelID))\n",
      "print('min:',statFilter.GetMinimum(labelID))\n",
      "print('median:',statFilter.GetMedian(labelID))\n",
      "print('Num of voxels:',statFilter.GetCount(labelID))\n",
      "voxelSize=FA_res.GetSpacing()[0]*FA_res.GetSpacing()[1]*FA_res.GetSpacing()[2]\n",
      "effective_volume=statFilter.GetCount(labelID) * voxelSize\n",
      "print('effective_volume:',effective_volume)"
     ],
     "language": "python",
     "metadata": {},
     "outputs": [
      {
       "output_type": "stream",
       "stream": "stdout",
       "text": [
        "2\n",
        "mean: 0.136428272567\n",
        "std: 0.115981423932\n",
        "max: 0.774174185981\n",
        "min: 0.000332697352195\n",
        "median: 0.101307950914\n",
        "Num of voxels: 1188493\n",
        "effective_volume: 1188493.0\n"
       ]
      }
     ],
     "prompt_number": 54
    },
    {
     "cell_type": "heading",
     "level": 3,
     "metadata": {},
     "source": [
      "3) SimpleIKT + 'BSpline' interpolation"
     ]
    },
    {
     "cell_type": "markdown",
     "metadata": {},
     "source": [
      "A study by et al [1] introduces B-spline interpolation amongst the best performing interpolation methods for DWI data. Therefore, I tried to uses cubic B-spline interpolation method implemented based on [2,3,4] to resample FA image to isotropic 1x1x1 voxel lattice of label map.\n",
      "\n",
      "[1] Dyrby, Tim B., et al. \"Interpolation of diffusion weighted imaging datasets.\" NeuroImage 103 (2014): 202-213.\n",
      "\n",
      "[2] M. Unser, \"Splines: A Perfect Fit for Signal and Image Processing,\" IEEE Signal Processing Magazine, vol. 16, no. 6, pp. 22-38, November 1999. \n",
      "\n",
      "[3] M. Unser, A. Aldroubi and M. Eden, \"B-Spline Signal Processing: Part I--Theory,\" IEEE Transactions on Signal Processing, vol. 41, no. 2, pp. 821-832, February 1993. \n",
      "\n",
      "[4] M. Unser, A. Aldroubi and M. Eden, \"B-Spline Signal Processing: Part II--Efficient Design and Applications,\" IEEE Transactions on Signal Processing, vol. 41, no. 2, pp. 834-848, February 1993"
     ]
    },
    {
     "cell_type": "code",
     "collapsed": false,
     "input": [
      "# resample FA to label map space\n",
      "resFilt = sitk.ResampleImageFilter()\n",
      "resFilt.SetReferenceImage(neuroLabels)\n",
      "resFilt.SetOutputPixelType(FA.GetPixelIDValue())\n",
      "resFilt.SetInterpolator(sitk.sitkBSpline)\n",
      "FA_res = resFilt.Execute(FA)\n",
      "\n",
      "####################### \n",
      "\n",
      "whole_brain_mask = neuroLabels>0\n",
      "labelID = 1\n",
      "\n",
      "statFilter = sitk.LabelStatisticsImageFilter()\n",
      "statFilter.Execute(FA_res, whole_brain_mask)\n",
      "print(statFilter.GetNumberOfLabels())\n",
      "print('mean:',statFilter.GetMean(labelID))\n",
      "print('std:',statFilter.GetSigma(labelID))\n",
      "print('max:',statFilter.GetMaximum(labelID))\n",
      "print('min:',statFilter.GetMinimum(labelID))\n",
      "print('median:',statFilter.GetMedian(labelID))\n",
      "print('Num of voxels:',statFilter.GetCount(labelID))\n",
      "voxelSize=FA_res.GetSpacing()[0]*FA_res.GetSpacing()[1]*FA_res.GetSpacing()[2]\n",
      "effective_volume=statFilter.GetCount(labelID) * voxelSize\n",
      "print('effective_volume:',effective_volume)"
     ],
     "language": "python",
     "metadata": {},
     "outputs": [
      {
       "output_type": "stream",
       "stream": "stdout",
       "text": [
        "2\n",
        "mean: 0.137754135439\n",
        "std: 0.144926897095\n",
        "max: 1.35857912282\n",
        "min: -0.206806641226\n",
        "median: 0.092303086132\n",
        "Num of voxels: 1188493\n",
        "effective_volume: 1188493.0\n"
       ]
      }
     ],
     "prompt_number": 55
    },
    {
     "cell_type": "markdown",
     "metadata": {},
     "source": [
      "After cubic BSpline interpolation, the output resampled FA volume has a minimum value of -0.2.\n",
      "\n",
      "However, minimum value has no meaning in rotationally invarient scalars!!!\n",
      "\n",
      "Therefore, I use the following method to resample RISs to the voxel space of FreeSurfer_extended label map:\n",
      "\n",
      "1) Use SqrtImageFilter to compute the square root of each voxel\n",
      "\n",
      "2) Resample the squared image using cubic BSpline interpolator\n",
      "\n",
      "3) Use SquareImageFilter to compute the square of the resampled intensity values pixel-wise."
     ]
    },
    {
     "cell_type": "heading",
     "level": 3,
     "metadata": {},
     "source": [
      "4) 'sqrt voxel-wise + cubic BSpline + square voxel-wise'"
     ]
    },
    {
     "cell_type": "code",
     "collapsed": false,
     "input": [
      "# Now I use run cubic BSpline on sqrt values of image, and squars the output resample image!\n",
      "# 1-sqrt image\n",
      "sqrtFilt = sitk.SqrtImageFilter()\n",
      "FA_sqrt = sqrtFilt.Execute(FA)\n",
      "\n",
      "# 2-resample image\n",
      "resFilt = sitk.ResampleImageFilter()\n",
      "resFilt.SetReferenceImage(neuroLabels)\n",
      "resFilt.SetInterpolator(sitk.sitkBSpline)\n",
      "FA_sqrt_res = resFilt.Execute(FA_sqrt)\n",
      "\n",
      "# 3-square the image\n",
      "squarFilt = sitk.SquareImageFilter()\n",
      "FA_res = squarFilt.Execute(FA_sqrt_res)\n",
      "\n",
      "whole_brain_mask = neuroLabels>0\n",
      "labelID = 1\n",
      "\n",
      "statFilter = sitk.LabelStatisticsImageFilter()\n",
      "statFilter.Execute(FA_res, whole_brain_mask)\n",
      "print(statFilter.GetNumberOfLabels())\n",
      "\n",
      "print('mean:',statFilter.GetMean(labelID))\n",
      "print('std:',statFilter.GetSigma(labelID))\n",
      "print('max:',statFilter.GetMaximum(labelID))\n",
      "print('min:',statFilter.GetMinimum(labelID))\n",
      "print('median:',statFilter.GetMedian(labelID))\n",
      "print('Num of voxels:',statFilter.GetCount(labelID))\n",
      "\n",
      "voxelSize=FA_res.GetSpacing()[0]*FA_res.GetSpacing()[1]*FA_res.GetSpacing()[2]\n",
      "effective_volume=statFilter.GetCount(labelID) * voxelSize\n",
      "print('effective_volume:',effective_volume)"
     ],
     "language": "python",
     "metadata": {},
     "outputs": [
      {
       "output_type": "stream",
       "stream": "stdout",
       "text": [
        "2\n",
        "mean: 0.136969612331\n",
        "std: 0.144497893126\n",
        "max: 1.51703614345\n",
        "min: 1.02937407765e-16\n",
        "median: 0.0918518006802\n",
        "Num of voxels: 1188493\n",
        "effective_volume: 1188493.0\n"
       ]
      }
     ],
     "prompt_number": 56
    },
    {
     "cell_type": "markdown",
     "metadata": {},
     "source": [
      "As a conclusion:\n",
      "\n",
      "Although in my sample test case methods 1 (linear interpolation) and 4 (cubic BSpline of square roots) create close results, I choose method 4 for my DWI processing pipeline because cubic BSpline is scientifically proved to be a more accurate interpolation method.\n"
     ]
    },
    {
     "cell_type": "code",
     "collapsed": false,
     "input": [],
     "language": "python",
     "metadata": {},
     "outputs": []
    }
   ],
   "metadata": {}
  }
 ]
}