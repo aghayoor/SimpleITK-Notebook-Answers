{
 "cells": [
  {
   "cell_type": "code",
   "execution_count": 1,
   "metadata": {
    "collapsed": false
   },
   "outputs": [
    {
     "name": "stdout",
     "output_type": "stream",
     "text": [
      "SimpleITK Version: 0.9.1\n",
      "Compiled: Sep 28 2015 10:07:41\n",
      "\n"
     ]
    }
   ],
   "source": [
    "## Boiler plate code common to many notebooks.  See the TestFilesCommonCode.ipynb for details\n",
    "from __future__ import print_function\n",
    "%run TestFilesCommonCode.ipynb"
   ]
  },
  {
   "cell_type": "code",
   "execution_count": 2,
   "metadata": {
    "collapsed": true
   },
   "outputs": [],
   "source": [
    "import os\n",
    "import glob\n",
    "import sys\n",
    "\n",
    "#\\/\\/\\/\\/\\/\\/\\/\\/\\/\\/\\/\\/\\/\\/\\/\\/\\/\\/\\/\\/\\/\\/\\/\\/\\/\\/\\/\\/\\/\\/\\/\\/\\/\\/\\/\\/\\/\\/\\/\\/\\/\\/\\/\n",
    "#####################################################################################\n",
    "#     Prepend the shell environment search paths\n",
    "PROGRAM_PATHS = '/scratch/NAMICExternalProjects/release-20160523/bin'\n",
    "#PROGRAM_PATHS = '/scratch/BS/release-BSR/bin'\n",
    "PROGRAM_PATHS = PROGRAM_PATHS.split(':')\n",
    "PROGRAM_PATHS.extend(os.environ['PATH'].split(':'))\n",
    "os.environ['PATH'] = ':'.join(PROGRAM_PATHS)\n",
    "\n",
    "CUSTOM_ENVIRONMENT=dict()\n",
    "\n",
    "# Platform specific information\n",
    "#     Prepend the python search paths\n",
    "#PYTHON_AUX_PATHS = '/scratch/BS/BRAINSTools/AutoWorkup'\n",
    "PYTHON_AUX_PATHS = '/scratch/SuperResolution/BRAINSSuperResolution/HCPWorkflows/'\n",
    "PYTHON_AUX_PATHS = PYTHON_AUX_PATHS.split(':')\n",
    "PYTHON_AUX_PATHS.extend(sys.path)\n",
    "sys.path = PYTHON_AUX_PATHS\n",
    "\n",
    "import SimpleITK as sitk\n",
    "import nipype\n",
    "from nipype.interfaces.base import CommandLine, CommandLineInputSpec, TraitedSpec, File, Directory\n",
    "from nipype.interfaces.base import traits, isdefined, BaseInterface\n",
    "from nipype.interfaces.utility import Merge, Split, Function, Rename, IdentityInterface\n",
    "import nipype.interfaces.io as nio   # Data i/oS\n",
    "import nipype.pipeline.engine as pe  # pypeline engine\n",
    "from nipype.interfaces.freesurfer import ReconAll\n",
    "from nipype.interfaces.ants import DenoiseImage\n",
    "from nipype.interfaces.semtools import *"
   ]
  },
  {
   "cell_type": "code",
   "execution_count": 4,
   "metadata": {
    "collapsed": false
   },
   "outputs": [],
   "source": [
    "inputT1 = '/Shared/sinapse/CACHE/20160610_HCP_base_Results/HCP_DATA/105115/HCP_105115_01/TissueClassify/t1_average_BRAINSABC.nii.gz'\n",
    "inputT2 = '/Shared/sinapse/CACHE/20160610_HCP_base_Results/HCP_DATA/105115/HCP_105115_01/TissueClassify/t2_average_BRAINSABC.nii.gz'\n",
    "LobesLabelMapVolume = '/Shared/sinapse/CACHE/20160610_HCP_base_Results/HCP_DATA/105115/HCP_105115_01/JointFusion/JointFusion_HDAtlas20_2015_lobe_label.nii.gz'\n",
    "DWI_corrected_alignedSpace_masked = '/scratch/TESTS/IpythonNotebook/20160615_HCPWF/mainWF/Outputs_backup/DWI_corrected_alignedSpace_masked.nrrd'\n",
    "DWI_baseline = '/scratch/TESTS/IpythonNotebook/20160615_HCPWF/mainWF/Outputs_backup/SuperResolution/DWI_Baseline.nrrd'\n",
    "DWI_sr_nn = '/scratch/TESTS/IpythonNotebook/20160615_HCPWF/mainWF/Outputs_backup/SuperResolution/DWI_SR_NN.nrrd'\n",
    "DWI_sr_ifft = '/scratch/TESTS/IpythonNotebook/20160615_HCPWF/mainWF/Outputs_backup/SuperResolution/DWI_SR_IFFT.nrrd'\n",
    "DWI_sr_tv = '/scratch/TESTS/IpythonNotebook/20160615_HCPWF/mainWF/Outputs_backup/SuperResolution/DWI_SR_TV.nrrd'\n",
    "DWI_sr_wtv = '/scratch/TESTS/IpythonNotebook/20160615_HCPWF/mainWF/Outputs_backup/SuperResolution/DWI_SR_WTV.nrrd'\n",
    "DWI_brainMask = '/scratch/TESTS/IpythonNotebook/20160615_HCPWF/mainWF/Outputs_backup/DWIBrainMask.nrrd'"
   ]
  },
  {
   "cell_type": "code",
   "execution_count": 5,
   "metadata": {
    "collapsed": false
   },
   "outputs": [],
   "source": [
    "sessionID = 105115\n",
    "WFname = 'HCPWorkflow_Dist_' + str(sessionID)"
   ]
  },
  {
   "cell_type": "code",
   "execution_count": 7,
   "metadata": {
    "collapsed": false
   },
   "outputs": [
    {
     "ename": "RuntimeError",
     "evalue": "Workflow did not execute cleanly. Check log for details",
     "output_type": "error",
     "traceback": [
      "\u001b[0;31m---------------------------------------------------------------------------\u001b[0m",
      "\u001b[0;31mRuntimeError\u001b[0m                              Traceback (most recent call last)",
      "\u001b[0;32m<ipython-input-7-f267f74551cf>\u001b[0m in \u001b[0;36m<module>\u001b[0;34m()\u001b[0m\n\u001b[1;32m    524\u001b[0m \u001b[0;34m\u001b[0m\u001b[0m\n\u001b[1;32m    525\u001b[0m \u001b[0mDistWF\u001b[0m\u001b[0;34m.\u001b[0m\u001b[0mwrite_graph\u001b[0m\u001b[0;34m(\u001b[0m\u001b[0;34m)\u001b[0m\u001b[0;34m\u001b[0m\u001b[0m\n\u001b[0;32m--> 526\u001b[0;31m \u001b[0mDistWF\u001b[0m\u001b[0;34m.\u001b[0m\u001b[0mrun\u001b[0m\u001b[0;34m(\u001b[0m\u001b[0;34m)\u001b[0m\u001b[0;34m\u001b[0m\u001b[0m\n\u001b[0m",
      "\u001b[0;32m/IPLlinux/raid0/homes/aghayoor/anaconda/lib/python2.7/site-packages/nipype/pipeline/engine/workflows.pyc\u001b[0m in \u001b[0;36mrun\u001b[0;34m(self, plugin, plugin_args, updatehash)\u001b[0m\n\u001b[1;32m    593\u001b[0m         \u001b[0;32mif\u001b[0m \u001b[0mstr2bool\u001b[0m\u001b[0;34m(\u001b[0m\u001b[0mself\u001b[0m\u001b[0;34m.\u001b[0m\u001b[0mconfig\u001b[0m\u001b[0;34m[\u001b[0m\u001b[0;34m'execution'\u001b[0m\u001b[0;34m]\u001b[0m\u001b[0;34m[\u001b[0m\u001b[0;34m'create_report'\u001b[0m\u001b[0;34m]\u001b[0m\u001b[0;34m)\u001b[0m\u001b[0;34m:\u001b[0m\u001b[0;34m\u001b[0m\u001b[0m\n\u001b[1;32m    594\u001b[0m             \u001b[0mself\u001b[0m\u001b[0;34m.\u001b[0m\u001b[0m_write_report_info\u001b[0m\u001b[0;34m(\u001b[0m\u001b[0mself\u001b[0m\u001b[0;34m.\u001b[0m\u001b[0mbase_dir\u001b[0m\u001b[0;34m,\u001b[0m \u001b[0mself\u001b[0m\u001b[0;34m.\u001b[0m\u001b[0mname\u001b[0m\u001b[0;34m,\u001b[0m \u001b[0mexecgraph\u001b[0m\u001b[0;34m)\u001b[0m\u001b[0;34m\u001b[0m\u001b[0m\n\u001b[0;32m--> 595\u001b[0;31m         \u001b[0mrunner\u001b[0m\u001b[0;34m.\u001b[0m\u001b[0mrun\u001b[0m\u001b[0;34m(\u001b[0m\u001b[0mexecgraph\u001b[0m\u001b[0;34m,\u001b[0m \u001b[0mupdatehash\u001b[0m\u001b[0;34m=\u001b[0m\u001b[0mupdatehash\u001b[0m\u001b[0;34m,\u001b[0m \u001b[0mconfig\u001b[0m\u001b[0;34m=\u001b[0m\u001b[0mself\u001b[0m\u001b[0;34m.\u001b[0m\u001b[0mconfig\u001b[0m\u001b[0;34m)\u001b[0m\u001b[0;34m\u001b[0m\u001b[0m\n\u001b[0m\u001b[1;32m    596\u001b[0m         \u001b[0mdatestr\u001b[0m \u001b[0;34m=\u001b[0m \u001b[0mdatetime\u001b[0m\u001b[0;34m.\u001b[0m\u001b[0mutcnow\u001b[0m\u001b[0;34m(\u001b[0m\u001b[0;34m)\u001b[0m\u001b[0;34m.\u001b[0m\u001b[0mstrftime\u001b[0m\u001b[0;34m(\u001b[0m\u001b[0;34m'%Y%m%dT%H%M%S'\u001b[0m\u001b[0;34m)\u001b[0m\u001b[0;34m\u001b[0m\u001b[0m\n\u001b[1;32m    597\u001b[0m         \u001b[0;32mif\u001b[0m \u001b[0mstr2bool\u001b[0m\u001b[0;34m(\u001b[0m\u001b[0mself\u001b[0m\u001b[0;34m.\u001b[0m\u001b[0mconfig\u001b[0m\u001b[0;34m[\u001b[0m\u001b[0;34m'execution'\u001b[0m\u001b[0;34m]\u001b[0m\u001b[0;34m[\u001b[0m\u001b[0;34m'write_provenance'\u001b[0m\u001b[0;34m]\u001b[0m\u001b[0;34m)\u001b[0m\u001b[0;34m:\u001b[0m\u001b[0;34m\u001b[0m\u001b[0m\n",
      "\u001b[0;32m/IPLlinux/raid0/homes/aghayoor/anaconda/lib/python2.7/site-packages/nipype/pipeline/plugins/linear.pyc\u001b[0m in \u001b[0;36mrun\u001b[0;34m(self, graph, config, updatehash)\u001b[0m\n\u001b[1;32m     55\u001b[0m                 \u001b[0;32mif\u001b[0m \u001b[0mself\u001b[0m\u001b[0;34m.\u001b[0m\u001b[0m_status_callback\u001b[0m\u001b[0;34m:\u001b[0m\u001b[0;34m\u001b[0m\u001b[0m\n\u001b[1;32m     56\u001b[0m                     \u001b[0mself\u001b[0m\u001b[0;34m.\u001b[0m\u001b[0m_status_callback\u001b[0m\u001b[0;34m(\u001b[0m\u001b[0mnode\u001b[0m\u001b[0;34m,\u001b[0m \u001b[0;34m'exception'\u001b[0m\u001b[0;34m)\u001b[0m\u001b[0;34m\u001b[0m\u001b[0m\n\u001b[0;32m---> 57\u001b[0;31m         \u001b[0mreport_nodes_not_run\u001b[0m\u001b[0;34m(\u001b[0m\u001b[0mnotrun\u001b[0m\u001b[0;34m)\u001b[0m\u001b[0;34m\u001b[0m\u001b[0m\n\u001b[0m",
      "\u001b[0;32m/IPLlinux/raid0/homes/aghayoor/anaconda/lib/python2.7/site-packages/nipype/pipeline/plugins/base.pyc\u001b[0m in \u001b[0;36mreport_nodes_not_run\u001b[0;34m(notrun)\u001b[0m\n\u001b[1;32m     93\u001b[0m                 \u001b[0mlogger\u001b[0m\u001b[0;34m.\u001b[0m\u001b[0mdebug\u001b[0m\u001b[0;34m(\u001b[0m\u001b[0msubnode\u001b[0m\u001b[0;34m.\u001b[0m\u001b[0m_id\u001b[0m\u001b[0;34m)\u001b[0m\u001b[0;34m\u001b[0m\u001b[0m\n\u001b[1;32m     94\u001b[0m         \u001b[0mlogger\u001b[0m\u001b[0;34m.\u001b[0m\u001b[0minfo\u001b[0m\u001b[0;34m(\u001b[0m\u001b[0;34m\"***********************************\"\u001b[0m\u001b[0;34m)\u001b[0m\u001b[0;34m\u001b[0m\u001b[0m\n\u001b[0;32m---> 95\u001b[0;31m         raise RuntimeError(('Workflow did not execute cleanly. '\n\u001b[0m\u001b[1;32m     96\u001b[0m                             'Check log for details'))\n\u001b[1;32m     97\u001b[0m \u001b[0;34m\u001b[0m\u001b[0m\n",
      "\u001b[0;31mRuntimeError\u001b[0m: Workflow did not execute cleanly. Check log for details"
     ]
    }
   ],
   "source": [
    "###### UTILITY FUNCTIONS #######\n",
    "#\\/\\/\\/\\/\\/\\/\\/\\/\\/\\/\\/\\/\\/\\/\\/#\n",
    "# \n",
    "def ComputeDistanceImages(DWI_baseline,DWI_sr,DWI_brainMask):\n",
    "    import os\n",
    "    import numpy as np\n",
    "    from scipy.linalg import logm\n",
    "    from scipy.linalg import eigvalsh # eigvalsh(A,B) is joint eigenvalues of A and B\n",
    "    import SimpleITK as sitk\n",
    "    from ReadWriteNrrdDWI import ReadNAMICDWIFromNrrd, WriteNAMICDWIToNrrd\n",
    "    #########\n",
    "    ### distance functions ###\n",
    "    # Frobenius distance\n",
    "    def distance_euclid(tenfit_A, tenfit_B):\n",
    "        return np.linalg.norm(tenfit_A.quadratic_form - tenfit_B.quadratic_form, ord='fro')\n",
    "    # Log-Euclidian distance\n",
    "    def distance_logeuclid(tenfit_A, tenfit_B):\n",
    "        def fro_norm(A,B):\n",
    "            return np.linalg.norm(A-B, ord='fro')\n",
    "        return fro_norm(logm(tenfit_A.quadratic_form),logm(tenfit_B.quadratic_form))\n",
    "    # Reimannian distance\n",
    "    def distance_reimann(tenfit_A, tenfit_B):\n",
    "        return np.sqrt((np.log(eigvalsh(tenfit_A.quadratic_form,tenfit_B.quadratic_form))**2).sum())\n",
    "    # Kullback-Leibler distance\n",
    "    def distance_kullback(tenfit_A, tenfit_B):\n",
    "        A = tenfit_A.quadratic_form\n",
    "        B = tenfit_B.quadratic_form\n",
    "        dim = A.shape[0]\n",
    "        kl = np.sqrt( np.trace( np.dot(np.linalg.inv(A),B)+np.dot(np.linalg.inv(B),A) ) - 2*dim )\n",
    "        return 0.5*kl\n",
    "    ######### \n",
    "    assert os.path.exists(DWI_baseline), \"File not found: %s\" % DWI_baseline\n",
    "    assert os.path.exists(DWI_sr), \"File not found: %s\" % DWI_sr\n",
    "    assert os.path.exists(DWI_brainMask), \"File not found: %s\" % DWI_brainMask\n",
    "    mask = sitk.ReadImage(DWI_brainMask)\n",
    "    # read DWI nrrd files\n",
    "    data_base,nrrd_header_base,bvecs_base,bvals_base,grad_idx_base = ReadNAMICDWIFromNrrd(DWI_baseline)\n",
    "    data_sr,nrrd_header_sr,bvecs_sr,bvals_sr,grad_idx_sr = ReadNAMICDWIFromNrrd(DWI_sr)\n",
    "    # compute tensorfits\n",
    "    from dipy.core.gradients import gradient_table\n",
    "    from dipy.reconst.dti import TensorModel\n",
    "    # base tensorfit\n",
    "    gtab_base = gradient_table(bvals_base, bvecs_base)\n",
    "    ten_base = TensorModel(gtab_base)\n",
    "    #tenfit_base = ten_base.fit(data_base)\n",
    "    # super-res reconstructed tensorfit\n",
    "    gtab_sr = gradient_table(bvals_sr, bvecs_sr)\n",
    "    ten_sr = TensorModel(gtab_sr)\n",
    "    #tenfit_sr = ten_base.fit(data_sr)\n",
    "    # create empty distance images\n",
    "    size = [data_base.shape[0],data_base.shape[1],data_base.shape[2]] #data_base.shape[4] is gradient components\n",
    "    fa_distance_image = sitk.Image(size, sitk.sitkFloat32)\n",
    "    fa_distance_image.CopyInformation(mask)\n",
    "    #\n",
    "    md_distance_image = sitk.Image(size, sitk.sitkFloat32)\n",
    "    md_distance_image.CopyInformation(mask)\n",
    "    #\n",
    "    rd_distance_image = sitk.Image(size, sitk.sitkFloat32)\n",
    "    rd_distance_image.CopyInformation(mask)\n",
    "    #\n",
    "    ad_distance_image = sitk.Image(size, sitk.sitkFloat32)\n",
    "    ad_distance_image.CopyInformation(mask)\n",
    "    #\n",
    "    frobenius_distance_image = sitk.Image(size, sitk.sitkFloat32)\n",
    "    frobenius_distance_image.CopyInformation(mask)\n",
    "    #\n",
    "    logeuclid_distance_image = sitk.Image(size, sitk.sitkFloat32)\n",
    "    logeuclid_distance_image.CopyInformation(mask)\n",
    "    #\n",
    "    reimann_distance_image = sitk.Image(size, sitk.sitkFloat32)\n",
    "    reimann_distance_image.CopyInformation(mask)\n",
    "    #\n",
    "    kullback_distance_image = sitk.Image(size, sitk.sitkFloat32)\n",
    "    kullback_distance_image.CopyInformation(mask)\n",
    "    #\n",
    "    # for loop to fill the distance images\n",
    "    '''\n",
    "    for i in xrange(size[0]):\n",
    "        for j in xrange(size[1]):\n",
    "            for k in xrange(size[2]):\n",
    "                fa_distance_image[i,j,k] = abs(tenfit_base[i,j,k].fa - tenfit_sr[i,j,k].fa)\n",
    "                md_distance_image[i,j,k] = abs(tenfit_base[i,j,k].md - tenfit_sr[i,j,k].md)\n",
    "                rd_distance_image[i,j,k] = abs(tenfit_base[i,j,k].rd - tenfit_sr[i,j,k].rd)\n",
    "                ad_distance_image[i,j,k] = abs(tenfit_base[i,j,k].ad - tenfit_sr[i,j,k].ad)\n",
    "                frobenius_distance_image[i,j,k] = distance_euclid(tenfit_base[i,j,k], tenfit_sr[i,j,k])\n",
    "                logeuclid_distance_image[i,j,k] = distance_logeuclid(tenfit_base[i,j,k], tenfit_sr[i,j,k])\n",
    "                reimann_distance_image[i,j,k] = distance_reimann(tenfit_base[i,j,k], tenfit_sr[i,j,k])\n",
    "                kullback_distance_image[i,j,k] = distance_kullback(tenfit_base[i,j,k], tenfit_sr[i,j,k])\n",
    "    '''\n",
    "    #\n",
    "    maskf = sitk.Cast(mask, sitk.sitkFloat32)\n",
    "    #\n",
    "    ## create proper SR prefix for output file name\n",
    "    sr_file_name = os.path.basename(DWI_sr)\n",
    "    sr_file_name_base = os.path.splitext(sr_file_name)[0]\n",
    "    sr_name = sr_file_name_base.split('_',2)[2]\n",
    "    #\n",
    "    fa_distance_image_fn = os.path.realpath(sr_name + '_FA_distance.nrrd')\n",
    "    md_distance_image_fn = os.path.realpath(sr_name + '_MD_distance.nrrd')\n",
    "    rd_distance_image_fn = os.path.realpath(sr_name + '_RD_distance.nrrd')\n",
    "    ad_distance_image_fn = os.path.realpath(sr_name + '_AD_distance.nrrd')\n",
    "    frobenius_distance_image_fn = os.path.realpath(sr_name + '_Frobenius_distance.nrrd')\n",
    "    logeuclid_distance_image_fn = os.path.realpath(sr_name + '_Logeuclid_distance.nrrd')\n",
    "    reimann_distance_image_fn = os.path.realpath(sr_name + '_Reimann_distance.nrrd')\n",
    "    kullback_distance_image_fn = os.path.realpath(sr_name + '_Kullback_distance.nrrd')\n",
    "    #\n",
    "    ## mask out the background\n",
    "    fa_distance_image = sitk.Multiply(fa_distance_image,maskf)\n",
    "    md_distance_image = sitk.Multiply(md_distance_image,maskf)\n",
    "    rd_distance_image = sitk.Multiply(rd_distance_image,maskf)\n",
    "    ad_distance_image = sitk.Multiply(ad_distance_image,maskf)\n",
    "    frobenius_distance_image = sitk.Multiply(frobenius_distance_image,maskf)\n",
    "    logeuclid_distance_image = sitk.Multiply(logeuclid_distance_image,maskf)\n",
    "    reimann_distance_image = sitk.Multiply(reimann_distance_image,maskf)\n",
    "    kullback_distance_image = sitk.Multiply(kullback_distance_image,maskf)\n",
    "    #\n",
    "    ## clip outliers by computing 95 percentiles\n",
    "    p = 95.0\n",
    "    # FA\n",
    "    fa_distance_arr = sitk.GetArrayFromImage(fa_distance_image)\n",
    "    np.clip(fa_distance_arr, fa_distance_arr.min(), np.percentile(fa_distance_arr,p), fa_distance_arr)\n",
    "    fa_distance_image = sitk.GetImageFromArray(fa_distance_arr)\n",
    "    fa_distance_image.CopyInformation(mask)\n",
    "    # MD\n",
    "    md_distance_arr = sitk.GetArrayFromImage(md_distance_image)\n",
    "    np.clip(md_distance_arr, md_distance_arr.min(), np.percentile(md_distance_arr,p), md_distance_arr)\n",
    "    md_distance_image = sitk.GetImageFromArray(md_distance_arr)\n",
    "    md_distance_image.CopyInformation(mask)\n",
    "    # RD\n",
    "    rd_distance_arr = sitk.GetArrayFromImage(rd_distance_image)\n",
    "    np.clip(rd_distance_arr, rd_distance_arr.min(), np.percentile(rd_distance_arr,p), rd_distance_arr)\n",
    "    rd_distance_image = sitk.GetImageFromArray(rd_distance_arr)\n",
    "    rd_distance_image.CopyInformation(mask)\n",
    "    # AD\n",
    "    ad_distance_arr = sitk.GetArrayFromImage(ad_distance_image)\n",
    "    np.clip(ad_distance_arr, ad_distance_arr.min(), np.percentile(ad_distance_arr,p), ad_distance_arr)\n",
    "    ad_distance_image = sitk.GetImageFromArray(ad_distance_arr)\n",
    "    ad_distance_image.CopyInformation(mask)\n",
    "    # frobenius\n",
    "    frobenius_distance_arr = sitk.GetArrayFromImage(frobenius_distance_image)\n",
    "    np.clip(frobenius_distance_arr, frobenius_distance_arr.min(), np.percentile(frobenius_distance_arr,p), frobenius_distance_arr)\n",
    "    frobenius_distance_image = sitk.GetImageFromArray(frobenius_distance_arr)\n",
    "    frobenius_distance_image.CopyInformation(mask)\n",
    "    # logeuclid\n",
    "    logeuclid_distance_arr = sitk.GetArrayFromImage(logeuclid_distance_image)\n",
    "    np.clip(logeuclid_distance_arr, logeuclid_distance_arr.min(), np.percentile(logeuclid_distance_arr,p), logeuclid_distance_arr)\n",
    "    logeuclid_distance_image = sitk.GetImageFromArray(logeuclid_distance_arr)\n",
    "    logeuclid_distance_image.CopyInformation(mask)\n",
    "    # reimann\n",
    "    reimann_distance_arr = sitk.GetArrayFromImage(reimann_distance_image)\n",
    "    np.clip(reimann_distance_arr, reimann_distance_arr.min(), np.percentile(reimann_distance_arr,p), reimann_distance_arr)\n",
    "    reimann_distance_image = sitk.GetImageFromArray(reimann_distance_arr)\n",
    "    reimann_distance_image.CopyInformation(mask)\n",
    "    # kullback\n",
    "    kullback_distance_arr = sitk.GetArrayFromImage(kullback_distance_image)\n",
    "    np.clip(kullback_distance_arr, kullback_distance_arr.min(), np.percentile(kullback_distance_arr,p), kullback_distance_arr)\n",
    "    kullback_distance_image = sitk.GetImageFromArray(kullback_distance_arr)\n",
    "    kullback_distance_image.CopyInformation(mask)\n",
    "    #\n",
    "    ## Write out the distance images\n",
    "    sitk.WriteImage(fa_distance_image,fa_distance_image_fn)\n",
    "    sitk.WriteImage(md_distance_image,md_distance_image_fn)\n",
    "    sitk.WriteImage(rd_distance_image,rd_distance_image_fn)\n",
    "    sitk.WriteImage(ad_distance_image,ad_distance_image_fn)\n",
    "    sitk.WriteImage(frobenius_distance_image,frobenius_distance_image_fn)\n",
    "    sitk.WriteImage(logeuclid_distance_image,logeuclid_distance_image_fn)\n",
    "    sitk.WriteImage(reimann_distance_image,reimann_distance_image_fn)\n",
    "    sitk.WriteImage(kullback_distance_image,kullback_distance_image_fn)\n",
    "    #\n",
    "    return [fa_distance_image_fn,\n",
    "            md_distance_image_fn,\n",
    "            rd_distance_image_fn,\n",
    "            ad_distance_image_fn,\n",
    "            frobenius_distance_image_fn,\n",
    "            logeuclid_distance_image_fn,\n",
    "            reimann_distance_image_fn,\n",
    "            kullback_distance_image_fn]\n",
    "\n",
    "def MakeInputSRList(DWI_SR_NN, DWI_SR_IFFT, DWI_SR_TV, DWI_SR_WTV):\n",
    "    imagesList = [DWI_SR_NN, DWI_SR_IFFT, DWI_SR_TV, DWI_SR_WTV]\n",
    "    return imagesList\n",
    "\n",
    "def MakePurePlugsMaskInputList(inputT1, inputT2, inputIDWI):\n",
    "    imagesList = [inputT1, inputT2, inputIDWI]\n",
    "    return imagesList\n",
    "\n",
    "def CreateBrainPurePlugsMask(PurePlugsMask, DWI_brainMask):\n",
    "    import SimpleITK as sitk\n",
    "    import os\n",
    "    assert os.path.exists(PurePlugsMask), \"File not found: %s\" % PurePlugsMask\n",
    "    assert os.path.exists(DWI_brainMask), \"File not found: %s\" % DWI_brainMask\n",
    "    ppmask = sitk.ReadImage(PurePlugsMask)\n",
    "    brainmask = sitk.ReadImage(DWI_brainMask) \n",
    "    brainPurePlugs = ppmask * sitk.Cast(brainmask,sitk.sitkUInt8)\n",
    "    BrainPurePlugsMask = os.path.realpath('BrainPurePlugsMask.nrrd')\n",
    "    sitk.WriteImage(brainPurePlugs,BrainPurePlugsMask)\n",
    "    assert os.path.exists(BrainPurePlugsMask), \"Output BrainPurePlugsMask file not found: %s\" % BrainPurePlugsMask\n",
    "    return BrainPurePlugsMask\n",
    "\n",
    "def CreateWhiteMatterROIMask(LobesLabelMapVolume,BrainPurePlugsMask):\n",
    "    import os\n",
    "    import SimpleITK as sitk\n",
    "    ####\n",
    "    def ResampleMask(in_mask, ref_mask):\n",
    "        # use: (sitk.linear interpolation + thresholding at 0.49)\n",
    "        # Why? In a test I compared several methods, and it seems above method cause\n",
    "        # least changes between the mask volume before and after resampling\n",
    "        resampler = sitk.ResampleImageFilter()\n",
    "        resampler.SetReferenceImage(ref_mask)\n",
    "        resampler.SetOutputPixelType(sitk.sitkFloat32)\n",
    "        resampler.SetInterpolator(sitk.sitkLinear)\n",
    "        res_mask = resampler.Execute(in_mask)\n",
    "        res_thresh_mask = sitk.BinaryThreshold(res_mask,0.49,1.0,1,0)\n",
    "        return res_thresh_mask\n",
    "    ####\n",
    "    assert os.path.exists(LobesLabelMapVolume), \"File not found: %s\" % LobesLabelMapVolume\n",
    "    assert os.path.exists(BrainPurePlugsMask), \"File not found: %s\" % BrainPurePlugsMask\n",
    "    ## read in masks\n",
    "    lobeLabels = sitk.ReadImage(LobesLabelMapVolume)\n",
    "    ppmask = sitk.ReadImage(BrainPurePlugsMask)\n",
    "    ## define lobe labels\n",
    "    temporal_wm = ((lobeLabels == 9703) + (lobeLabels == 9803))\n",
    "    occipital_wm = ((lobeLabels == 9706) + (lobeLabels == 9806))\n",
    "    frontal_wm = ((lobeLabels == 9707) + (lobeLabels == 9807))\n",
    "    parietal_wm = ((lobeLabels == 9708) + (lobeLabels == 9808))\n",
    "    ## resample each lobe label to lattice space of DWI mask\n",
    "    temporal_wm = ResampleMask(temporal_wm, ppmask)\n",
    "    occipital_wm = ResampleMask(occipital_wm, ppmask)\n",
    "    frontal_wm = ResampleMask(frontal_wm, ppmask)\n",
    "    parietal_wm = ResampleMask(parietal_wm, ppmask)\n",
    "    ## define pure/ not pure labels\n",
    "    temporal_wm_pure = temporal_wm * ppmask\n",
    "    temporal_wm_NOTpure = temporal_wm * (1 - ppmask)\n",
    "    #\n",
    "    occipital_wm_pure = occipital_wm * ppmask\n",
    "    occipital_wm_NOTpure = occipital_wm * (1 - ppmask)\n",
    "    #\n",
    "    frontal_wm_pure = frontal_wm * ppmask\n",
    "    frontal_wm_NOTpure = frontal_wm * (1 - ppmask)\n",
    "    #\n",
    "    parietal_wm_pure = frontal_wm * ppmask\n",
    "    parietal_wm_NOTpure = frontal_wm * (1 - ppmask)\n",
    "    ## all above masks should have no overlap, so test it!\n",
    "    wholemask = (temporal_wm_pure + temporal_wm_NOTpure \n",
    "                 + occipital_wm_pure + occipital_wm_NOTpure\n",
    "                 + frontal_wm_pure + frontal_wm_NOTpure\n",
    "                 + parietal_wm_pure + parietal_wm_NOTpure)\n",
    "    statFilter = sitk.StatisticsImageFilter()\n",
    "    statFilter.Execute(wholemask)\n",
    "    wholemask_max = statFilter.GetMaximum()\n",
    "    if wholemask_max != 1:\n",
    "        raise ValueError('White matter region of interests must not overlap!')\n",
    "    ## Now create a label map that only has our white matter regions of interests, such that:\n",
    "    # frontal_wm_pure = 10\n",
    "    # frontal_wm_NOTpure = 11\n",
    "    # parietal_wm_pure = 20\n",
    "    # parietal_wm_NOTpure = 21\n",
    "    # occipital_wm_pure = 30\n",
    "    # occipital_wm_NOTpure = 31\n",
    "    # temporal_wm_pure = 40\n",
    "    # temporal_wm_NOTpure = 41\n",
    "    wm_roi_labels = ( (frontal_wm_pure*10) + (frontal_wm_NOTpure*11)\n",
    "                    + (parietal_wm_pure*20) + (parietal_wm_NOTpure*21)                \n",
    "                    + (occipital_wm_pure*30) + (occipital_wm_NOTpure*31)\n",
    "                    + (temporal_wm_pure*40) + (temporal_wm_NOTpure*41) ) \n",
    "    # write out all 8 ROIs to the disk\n",
    "    wm_roi_labels_fn = os.path.realpath('wm_roi_labelmap.nrrd')\n",
    "    sitk.WriteImage(wm_roi_labels, wm_roi_labels_fn)\n",
    "    assert os.path.exists(wm_roi_labels_fn), \"Output wm roi labelmap file not found: %s\" % wm_roi_labels_fn\n",
    "    return wm_roi_labels_fn    \n",
    "    \n",
    "def ComputeStatistics(wm_roi_labelmap,\n",
    "                      FA_distance,MD_distance,RD_distance,AD_distance,\n",
    "                      Frobenius_distance,Logeuclid_distance,\n",
    "                      Reimann_distance,Kullback_distance):\n",
    "    import os\n",
    "    import SimpleITK as sitk\n",
    "    ####\n",
    "    def ReturnErrorImageStatsList(distImage_fn, roiMask_fn):\n",
    "        distImage = sitk.ReadImage(distImage_fn) \n",
    "        roi = sitk.ReadImage(roiMask_fn)       \n",
    "        statFilter = sitk.LabelStatisticsImageFilter()\n",
    "        statFilter.Execute(distImage, roi)\n",
    "        #\n",
    "        frontal_pure_mean = statFilter.GetMean(10)\n",
    "        frontal_NOTpure_mean = statFilter.GetMean(11)\n",
    "        #\n",
    "        parietal_pure_mean = statFilter.GetMean(20)\n",
    "        parietal_NOTpure_mean = statFilter.GetMean(21)\n",
    "        #\n",
    "        occipital_pure_mean = statFilter.GetMean(30)\n",
    "        occipital_NOTpure_mean = statFilter.GetMean(31)\n",
    "        #\n",
    "        temporal_pure_mean = statFilter.GetMean(40)\n",
    "        temporal_NOTpure_mean = statFilter.GetMean(41)\n",
    "        # Now create statistics list\n",
    "        statsList = [format(frontal_pure_mean,'.4f'),\n",
    "                     format(parietal_pure_mean,'.4f'),\n",
    "                     format(occipital_pure_mean,'.4f'),\n",
    "                     format(temporal_pure_mean,'.4f'),\n",
    "                     format(frontal_NOTpure_mean,'.4f'),\n",
    "                     format(parietal_NOTpure_mean,'.4f'),\n",
    "                     format(occipital_NOTpure_mean,'.4f'),\n",
    "                     format(temporal_NOTpure_mean,'.4f')]\n",
    "        return statsList\n",
    "    ####\n",
    "    def writeLabelStatistics(filename,statisticsDictionary):\n",
    "        import csv\n",
    "        with open(filename, 'wb') as lf:\n",
    "            headerdata = [['#Label', 'frontal_pure_mean', 'parietal_pure_mean', 'occipital_pure_mean', 'temporal_pure_mean', \n",
    "                           'frontal_NOTpure_mean', 'parietal_NOTpure_mean', 'occipital_NOTpure_mean', 'temporal_NOTpure_mean']]\n",
    "            wr = csv.writer(lf, delimiter=',')\n",
    "            wr.writerows(headerdata)\n",
    "            for key, value in sorted(statisticsDictionary.items()):\n",
    "                wr.writerows([[key] + value])\n",
    "    ####\n",
    "    assert os.path.exists(wm_roi_labelmap), \"File not found: %s\" % wm_roi_labelmap\n",
    "    assert os.path.exists(FA_distance), \"File not found: %s\" % FA_distance\n",
    "    assert os.path.exists(MD_distance), \"File not found: %s\" % MD_distance\n",
    "    assert os.path.exists(RD_distance), \"File not found: %s\" % RD_distance\n",
    "    assert os.path.exists(AD_distance), \"File not found: %s\" % AD_distance\n",
    "    assert os.path.exists(Frobenius_distance), \"File not found: %s\" % Frobenius_distance\n",
    "    assert os.path.exists(Logeuclid_distance), \"File not found: %s\" % Logeuclid_distance\n",
    "    assert os.path.exists(Reimann_distance), \"File not found: %s\" % Reimann_distance\n",
    "    assert os.path.exists(Kullback_distance), \"File not found: %s\" % Kullback_distance\n",
    "    ## compute the stats\n",
    "    statisticsDictionary={}\n",
    "    statisticsDictionary['FA'] = ReturnErrorImageStatsList(FA_distance, wm_roi_labelmap)\n",
    "    statisticsDictionary['MD'] = ReturnErrorImageStatsList(MD_distance, wm_roi_labelmap)\n",
    "    statisticsDictionary['RD'] = ReturnErrorImageStatsList(RD_distance, wm_roi_labelmap)\n",
    "    statisticsDictionary['AD'] = ReturnErrorImageStatsList(AD_distance, wm_roi_labelmap)\n",
    "    statisticsDictionary['Frobenius'] = ReturnErrorImageStatsList(Frobenius_distance, wm_roi_labelmap)\n",
    "    statisticsDictionary['Logeuclid'] = ReturnErrorImageStatsList(Logeuclid_distance, wm_roi_labelmap)\n",
    "    statisticsDictionary['Reimann'] = ReturnErrorImageStatsList(Reimann_distance, wm_roi_labelmap)\n",
    "    statisticsDictionary['Kullback'] = ReturnErrorImageStatsList(Kullback_distance, wm_roi_labelmap)\n",
    "    ## create output filename\n",
    "    fa_dist_fn = os.path.basename(FA_distance) # in a format of {SR}_FA_distance.nrrd\n",
    "    base_name = os.path.splitext(fa_dist_fn)[0] # in a format of {SR}_FA_distance\n",
    "    sr_name = base_name.split('_',2)[0] # SR name = NN,IFFT,TV,WTV\n",
    "    statisticsFile = os.path.realpath(sr_name + '_errorImages_statistics.csv')\n",
    "    # write statistics to a csv file\n",
    "    writeLabelStatistics(statisticsFile,statisticsDictionary)\n",
    "    return statisticsFile\n",
    "    \n",
    "#################################\n",
    "#\\/\\/\\/\\/\\/\\/\\/\\/\\/\\/\\/\\/\\/\\/\\/\\#\n",
    "\n",
    "DistWF = pe.Workflow(name=WFname)\n",
    "\n",
    "BASE_DIR = os.path.join('/scratch/TESTS/IpythonNotebook/20160615_HCPWF', '3_DistImagesWF')\n",
    "DistWF.base_dir = BASE_DIR\n",
    "\n",
    "inputsSpec = pe.Node(interface=IdentityInterface(fields=['inputT1',\n",
    "                                                         'inputT2',\n",
    "                                                         'LobesLabelMapVolume',\n",
    "                                                         'DWI_brainMask',\n",
    "                                                         'DWI_corrected_alignedSpace_masked',\n",
    "                                                         'DWI_Baseline',\n",
    "                                                         'DWI_SR_NN',\n",
    "                                                         'DWI_SR_IFFT',\n",
    "                                                         'DWI_SR_TV',\n",
    "                                                         'DWI_SR_WTV'\n",
    "                                                        ]),\n",
    "                         name='inputsSpec')\n",
    "inputsSpec.inputs.inputT1 = inputT1\n",
    "inputsSpec.inputs.inputT2 = inputT2\n",
    "inputsSpec.inputs.LobesLabelMapVolume = LobesLabelMapVolume\n",
    "inputsSpec.inputs.DWI_corrected_alignedSpace_masked = DWI_corrected_alignedSpace_masked\n",
    "inputsSpec.inputs.DWI_brainMask = DWI_brainMask\n",
    "inputsSpec.inputs.DWI_Baseline = DWI_baseline\n",
    "inputsSpec.inputs.DWI_SR_NN = DWI_sr_nn\n",
    "inputsSpec.inputs.DWI_SR_IFFT = DWI_sr_ifft\n",
    "inputsSpec.inputs.DWI_SR_TV = DWI_sr_tv\n",
    "inputsSpec.inputs.DWI_SR_WTV = DWI_sr_wtv\n",
    "\n",
    "outputsSpec = pe.Node(interface=IdentityInterface(fields=['FA_distance',\n",
    "                                                          'MD_distance',\n",
    "                                                          'RD_distance',\n",
    "                                                          'AD_distance',\n",
    "                                                          'Frobenius_distance',\n",
    "                                                          'Logeuclid_distance',\n",
    "                                                          'Reimann_distance',\n",
    "                                                          'Kullback_distance',\n",
    "                                                          'idwi_image',\n",
    "                                                          'PurePlugsMask',\n",
    "                                                          'wm_roi_labelmap',\n",
    "                                                          'statisticsFile'\n",
    "                                                         ]),\n",
    "                      name='outputsSpec')\n",
    "\n",
    "\n",
    "##\n",
    "## Step 1: Create input list\n",
    "##\n",
    "MakeInputSRListNode = pe.Node(Function(function=MakeInputSRList,\n",
    "                                       input_names=['DWI_SR_NN','DWI_SR_IFFT','DWI_SR_TV','DWI_SR_WTV'],\n",
    "                                       output_names=['imagesList']),\n",
    "                                       name=\"MakeInputSRList\")\n",
    "DistWF.connect([(inputsSpec,MakeInputSRListNode,[('DWI_SR_NN','DWI_SR_NN'),\n",
    "                                                 ('DWI_SR_IFFT','DWI_SR_IFFT'),\n",
    "                                                 ('DWI_SR_TV','DWI_SR_TV'),\n",
    "                                                 ('DWI_SR_WTV','DWI_SR_WTV')\n",
    "                                                ])])\n",
    "##\n",
    "## Step 2: Create distance images\n",
    "##\n",
    "ComputeDistanceImages = pe.MapNode(interface=Function(function = ComputeDistanceImages,\n",
    "                                   input_names=['DWI_baseline','DWI_sr','DWI_brainMask'],\n",
    "                                   output_names=['fa_distance_image_fn','md_distance_image_fn',\n",
    "                                                 'rd_distance_image_fn','ad_distance_image_fn',\n",
    "                                                 'frobenius_distance_image_fn','logeuclid_distance_image_fn',\n",
    "                                                 'reimann_distance_image_fn','kullback_distance_image_fn'\n",
    "                                                ]),\n",
    "                                   name=\"ComputeDistanceImages\",\n",
    "                                   iterfield=['DWI_sr'])\n",
    "DistWF.connect(MakeInputSRListNode, 'imagesList', ComputeDistanceImages, 'DWI_sr')\n",
    "DistWF.connect([(inputsSpec,ComputeDistanceImages,[('DWI_Baseline','DWI_baseline'),\n",
    "                                                   ('DWI_brainMask','DWI_brainMask')])])\n",
    "DistWF.connect([(ComputeDistanceImages,outputsSpec,[('fa_distance_image_fn','FA_distance'),\n",
    "                                                    ('md_distance_image_fn','MD_distance'),\n",
    "                                                    ('rd_distance_image_fn','RD_distance'),\n",
    "                                                    ('ad_distance_image_fn','AD_distance'),\n",
    "                                                    ('frobenius_distance_image_fn','Frobenius_distance'),\n",
    "                                                    ('logeuclid_distance_image_fn','Logeuclid_distance'),\n",
    "                                                    ('reimann_distance_image_fn','Reimann_distance'),\n",
    "                                                    ('kullback_distance_image_fn','Kullback_distance')])])\n",
    "\n",
    "##\n",
    "## Step 3: Create IDWI image\n",
    "##\n",
    "DTIEstim = pe.Node(interface=dtiestim(), name=\"DTIEstim\")\n",
    "DTIEstim.inputs.method = 'wls'\n",
    "DTIEstim.inputs.threshold = 0\n",
    "#DTIEstim.inputs.correctionType = 'nearest'\n",
    "DTIEstim.inputs.tensor_output = 'DTI_Output.nrrd'\n",
    "DTIEstim.inputs.idwi = 'IDWI_Output.nrrd'\n",
    "DTIEstim.inputs.B0 = 'average_B0.nrrd'\n",
    "DistWF.connect(inputsSpec, 'DWI_corrected_alignedSpace_masked', DTIEstim, 'dwi_image')\n",
    "DistWF.connect(inputsSpec, 'DWI_brainMask', DTIEstim, 'brain_mask')\n",
    "DistWF.connect(DTIEstim, 'idwi', outputsSpec, 'idwi_image')\n",
    "\n",
    "##\n",
    "## Step 4: Generate Pure plugs mask\n",
    "##\n",
    "\n",
    "## Step 4_1: Make a list for input modality list\n",
    "MakePurePlugsMaskInputListNode = pe.Node(Function(function=MakePurePlugsMaskInputList,\n",
    "                                                  input_names=['inputT1','inputT2','inputIDWI'],\n",
    "                                                  output_names=['imagesList']),\n",
    "                                         name=\"MakePurePlugsMaskInputList\")\n",
    "DistWF.connect(inputsSpec, 'inputT1', MakePurePlugsMaskInputListNode, 'inputT1')\n",
    "DistWF.connect(inputsSpec, 'inputT2', MakePurePlugsMaskInputListNode, 'inputT2')\n",
    "DistWF.connect(DTIEstim, 'idwi', MakePurePlugsMaskInputListNode, 'inputIDWI')\n",
    "\n",
    "## Step 4_2: Create the mask\n",
    "PurePlugsMaskNode = pe.Node(interface=GeneratePurePlugMask(), name=\"PurePlugsMask\")\n",
    "PurePlugsMaskNode.inputs.threshold = 0.15\n",
    "PurePlugsMaskNode.inputs.outputMaskFile = 'PurePlugsMask.nrrd'\n",
    "DistWF.connect(MakePurePlugsMaskInputListNode, 'imagesList', PurePlugsMaskNode, 'inputImageModalities')\n",
    "\n",
    "## Step 4_3: \n",
    "CreateBrainPurePlugsMaskNode = pe.Node(Function(function=CreateBrainPurePlugsMask,\n",
    "                                                input_names=['PurePlugsMask', 'DWI_brainMask'],\n",
    "                                                output_names=['BrainPurePlugsMask']),\n",
    "                                       name=\"CreateBrainPurePlugsMask\")\n",
    "DistWF.connect(PurePlugsMaskNode, 'outputMaskFile', CreateBrainPurePlugsMaskNode, 'PurePlugsMask')\n",
    "DistWF.connect(inputsSpec, 'DWI_brainMask', CreateBrainPurePlugsMaskNode, 'DWI_brainMask')\n",
    "DistWF.connect(CreateBrainPurePlugsMaskNode, 'BrainPurePlugsMask', outputsSpec, 'PurePlugsMask')\n",
    "\n",
    "\n",
    "##\n",
    "## Step 5: Generate different WM ROIs\n",
    "##\n",
    "CreateWhiteMatterROIMaskNode = pe.Node(Function(function=CreateWhiteMatterROIMask,\n",
    "                                                input_names=['LobesLabelMapVolume','BrainPurePlugsMask'],\n",
    "                                                output_names=['wm_roi_labels_fn']),\n",
    "                                       name=\"CreateWhiteMatterROIMask\")\n",
    "DistWF.connect(inputsSpec, 'LobesLabelMapVolume', CreateWhiteMatterROIMaskNode, 'LobesLabelMapVolume')\n",
    "DistWF.connect(CreateBrainPurePlugsMaskNode, 'BrainPurePlugsMask', CreateWhiteMatterROIMaskNode, 'BrainPurePlugsMask')\n",
    "DistWF.connect(CreateWhiteMatterROIMaskNode, 'wm_roi_labels_fn', outputsSpec, 'wm_roi_labelmap')\n",
    "\n",
    "##\n",
    "## Step 6: Compute Statistics: compute average of each distance image in each of ROIs.\n",
    "##\n",
    "ComputeStats = pe.MapNode(interface=Function(function = ComputeStatistics,\n",
    "                                             input_names=['wm_roi_labelmap',\n",
    "                                                          'FA_distance','MD_distance','RD_distance','AD_distance',\n",
    "                                                          'Frobenius_distance','Logeuclid_distance',\n",
    "                                                          'Reimann_distance','Kullback_distance'],\n",
    "                                             output_names=['statisticsFile']),\n",
    "                                    name=\"ComputeStatistics\",\n",
    "                                    iterfield=['FA_distance','MD_distance','RD_distance','AD_distance',\n",
    "                                               'Frobenius_distance','Logeuclid_distance',\n",
    "                                               'Reimann_distance','Kullback_distance'])\n",
    "DistWF.connect(CreateWhiteMatterROIMaskNode, 'wm_roi_labels_fn', ComputeStats, 'wm_roi_labelmap')\n",
    "DistWF.connect([(ComputeDistanceImages,ComputeStats,[('fa_distance_image_fn','FA_distance'),\n",
    "                                                     ('md_distance_image_fn','MD_distance'),\n",
    "                                                     ('rd_distance_image_fn','RD_distance'),\n",
    "                                                     ('ad_distance_image_fn','AD_distance'),\n",
    "                                                     ('frobenius_distance_image_fn','Frobenius_distance'),\n",
    "                                                     ('logeuclid_distance_image_fn','Logeuclid_distance'),\n",
    "                                                     ('reimann_distance_image_fn','Reimann_distance'),\n",
    "                                                     ('kullback_distance_image_fn','Kullback_distance')])])\n",
    "DistWF.connect(ComputeStats, 'statisticsFile', outputsSpec, 'statisticsFile')\n",
    "\n",
    "\n",
    "#########\n",
    "DWIDataSink = pe.Node(interface=nio.DataSink(), name='DWIDataSink')\n",
    "DWIDataSink.overwrite = True\n",
    "DWIDataSink.inputs.base_directory = BASE_DIR\n",
    "DistWF.connect(outputsSpec, 'FA_distance', DWIDataSink, 'Outputs.@FA_distance')\n",
    "DistWF.connect(outputsSpec, 'MD_distance', DWIDataSink, 'Outputs.@MD_distance')\n",
    "DistWF.connect(outputsSpec, 'RD_distance', DWIDataSink, 'Outputs.@RD_distance')\n",
    "DistWF.connect(outputsSpec, 'AD_distance', DWIDataSink, 'Outputs.@AD_distance')\n",
    "DistWF.connect(outputsSpec, 'Frobenius_distance', DWIDataSink, 'Outputs.@Frobenius_distance')\n",
    "DistWF.connect(outputsSpec, 'Logeuclid_distance', DWIDataSink, 'Outputs.@Logeuclid_distance')\n",
    "DistWF.connect(outputsSpec, 'Reimann_distance', DWIDataSink, 'Outputs.@Reimann_distance')\n",
    "DistWF.connect(outputsSpec, 'Kullback_distance', DWIDataSink, 'Outputs.@Kullback_distance')\n",
    "DistWF.connect(outputsSpec, 'idwi_image', DWIDataSink, 'Outputs.@idwi_image')\n",
    "DistWF.connect(outputsSpec, 'PurePlugsMask', DWIDataSink, 'Outputs.@PurePlugsMask')\n",
    "DistWF.connect(outputsSpec, 'wm_roi_labelmap', DWIDataSink, 'Outputs.@wm_roi_labelmap')\n",
    "DistWF.connect(outputsSpec, 'statisticsFile', DWIDataSink, 'Outputs.@statisticsFile')\n",
    "\n",
    "\n",
    "DistWF.write_graph()\n",
    "DistWF.run()"
   ]
  },
  {
   "cell_type": "code",
   "execution_count": null,
   "metadata": {
    "collapsed": true
   },
   "outputs": [],
   "source": []
  },
  {
   "cell_type": "code",
   "execution_count": null,
   "metadata": {
    "collapsed": true
   },
   "outputs": [],
   "source": []
  },
  {
   "cell_type": "code",
   "execution_count": null,
   "metadata": {
    "collapsed": true
   },
   "outputs": [],
   "source": []
  },
  {
   "cell_type": "code",
   "execution_count": null,
   "metadata": {
    "collapsed": true
   },
   "outputs": [],
   "source": []
  },
  {
   "cell_type": "code",
   "execution_count": null,
   "metadata": {
    "collapsed": true
   },
   "outputs": [],
   "source": []
  },
  {
   "cell_type": "code",
   "execution_count": null,
   "metadata": {
    "collapsed": true
   },
   "outputs": [],
   "source": [
    "def ComputeStatistics(wm_roi_labelmap,\n",
    "                      FA_distance,MD_distance,RD_distance,AD_distance,\n",
    "                      Frobenius_distance,Logeuclid_distance,\n",
    "                      Reimann_distance,Kullback_distance):\n",
    "    import os\n",
    "    import SimpleITK as sitk\n",
    "    ####\n",
    "    def ReturnErrorImageStatsList(distImage_fn, roiMask_fn):\n",
    "        distImage = sitk.ReadImage(distImage_fn) \n",
    "        roi = sitk.ReadImage(roiMask_fn)       \n",
    "        statFilter = sitk.LabelStatisticsImageFilter()\n",
    "        statFilter.Execute(distImage, roi)\n",
    "        #\n",
    "        frontal_pure_mean = statFilter.GetMean(10)\n",
    "        frontal_NOTpure_mean = statFilter.GetMean(11)\n",
    "        #\n",
    "        parietal_pure_mean = statFilter.GetMean(20)\n",
    "        parietal_NOTpure_mean = statFilter.GetMean(21)\n",
    "        #\n",
    "        occipital_pure_mean = statFilter.GetMean(30)\n",
    "        occipital_NOTpure_mean = statFilter.GetMean(31)\n",
    "        #\n",
    "        temporal_pure_mean = statFilter.GetMean(40)\n",
    "        temporal_NOTpure_mean = statFilter.GetMean(41)\n",
    "        # Now create statistics list\n",
    "        statsList = [format(frontal_pure_mean,'.4f'),\n",
    "                     format(parietal_pure_mean,'.4f'),\n",
    "                     format(occipital_pure_mean,'.4f'),\n",
    "                     format(temporal_pure_mean,'.4f'),\n",
    "                     format(frontal_NOTpure_mean,'.4f'),\n",
    "                     format(parietal_NOTpure_mean,'.4f'),\n",
    "                     format(occipital_NOTpure_mean,'.4f'),\n",
    "                     format(temporal_NOTpure_mean,'.4f')]\n",
    "        return statsList\n",
    "    ####\n",
    "    def writeLabelStatistics(filename,statisticsDictionary):\n",
    "        import csv\n",
    "        with open(filename, 'wb') as lf:\n",
    "            headerdata = [['#Label', 'frontal_pure_mean', 'parietal_pure_mean', 'occipital_pure_mean', 'temporal_pure_mean', \n",
    "                           'frontal_NOTpure_mean', 'parietal_NOTpure_mean', 'occipital_NOTpure_mean', 'temporal_NOTpure_mean']]\n",
    "            wr = csv.writer(lf, delimiter=',')\n",
    "            wr.writerows(headerdata)\n",
    "            for key, value in sorted(statisticsDictionary.items()):\n",
    "                wr.writerows([[key] + value])\n",
    "    ####\n",
    "    assert os.path.exists(wm_roi_labelmap), \"File not found: %s\" % wm_roi_labelmap\n",
    "    assert os.path.exists(FA_distance), \"File not found: %s\" % FA_distance\n",
    "    assert os.path.exists(MD_distance), \"File not found: %s\" % MD_distance\n",
    "    assert os.path.exists(RD_distance), \"File not found: %s\" % RD_distance\n",
    "    assert os.path.exists(AD_distance), \"File not found: %s\" % AD_distance\n",
    "    assert os.path.exists(Frobenius_distance), \"File not found: %s\" % Frobenius_distance\n",
    "    assert os.path.exists(Logeuclid_distance), \"File not found: %s\" % Logeuclid_distance\n",
    "    assert os.path.exists(Reimann_distance), \"File not found: %s\" % Reimann_distance\n",
    "    assert os.path.exists(Kullback_distance), \"File not found: %s\" % Kullback_distance\n",
    "    ## compute the stats\n",
    "    statisticsDictionary={}\n",
    "    statisticsDictionary['FA'] = ReturnErrorImageStatsList(FA_distance, wm_roi_labelmap)\n",
    "    statisticsDictionary['MD'] = ReturnErrorImageStatsList(MD_distance, wm_roi_labelmap)\n",
    "    statisticsDictionary['RD'] = ReturnErrorImageStatsList(RD_distance, wm_roi_labelmap)\n",
    "    statisticsDictionary['AD'] = ReturnErrorImageStatsList(AD_distance, wm_roi_labelmap)\n",
    "    statisticsDictionary['Frobenius'] = ReturnErrorImageStatsList(Frobenius_distance, wm_roi_labelmap)\n",
    "    statisticsDictionary['Logeuclid'] = ReturnErrorImageStatsList(Logeuclid_distance, wm_roi_labelmap)\n",
    "    statisticsDictionary['Reimann'] = ReturnErrorImageStatsList(Reimann_distance, wm_roi_labelmap)\n",
    "    statisticsDictionary['Kullback'] = ReturnErrorImageStatsList(Kullback_distance, wm_roi_labelmap)\n",
    "    ## create output filename\n",
    "    fa_dist_fn = os.path.basename(FA_distance) # in a format of {SR}_FA_distance.nrrd\n",
    "    base_name = os.path.splitext(fa_dist_fn)[0] # in a format of {SR}_FA_distance\n",
    "    sr_name = base_name.split('_',2)[0] # SR name = NN,IFFT,TV,WTV\n",
    "    statisticsFile = os.path.realpath(sr_name + '_errorImages_statistics.csv')\n",
    "    # write statistics to a csv file\n",
    "    writeLabelStatistics(statisticsFile,statisticsDictionary)\n",
    "    return statisticsFile\n",
    "    "
   ]
  },
  {
   "cell_type": "code",
   "execution_count": null,
   "metadata": {
    "collapsed": true
   },
   "outputs": [],
   "source": []
  },
  {
   "cell_type": "code",
   "execution_count": null,
   "metadata": {
    "collapsed": true
   },
   "outputs": [],
   "source": []
  },
  {
   "cell_type": "code",
   "execution_count": null,
   "metadata": {
    "collapsed": true
   },
   "outputs": [],
   "source": []
  },
  {
   "cell_type": "code",
   "execution_count": 8,
   "metadata": {
    "collapsed": true
   },
   "outputs": [],
   "source": [
    "fa_dist_img = '/scratch/TESTS/IpythonNotebook/20160615_HCPWF/mainWF/HCPWorkflow_CACHE_105115/DistanceImagesWorkflow_CACHE_105115/ComputeDistanceImages/mapflow/_ComputeDistanceImages0/NN_FA_distance.nrrd'"
   ]
  },
  {
   "cell_type": "code",
   "execution_count": 9,
   "metadata": {
    "collapsed": false
   },
   "outputs": [
    {
     "name": "stdout",
     "output_type": "stream",
     "text": [
      "/scratch/TESTS/IpythonNotebook/20160615_HCPWF/mainWF/HCPWorkflow_CACHE_105115/DistanceImagesWorkflow_CACHE_105115/ComputeDistanceImages/mapflow/_ComputeDistanceImages0/NN_FA_distance.nrrd\n"
     ]
    }
   ],
   "source": [
    "print(fa_dist_img)"
   ]
  },
  {
   "cell_type": "code",
   "execution_count": 10,
   "metadata": {
    "collapsed": false
   },
   "outputs": [
    {
     "name": "stdout",
     "output_type": "stream",
     "text": [
      "NN_FA_distance.nrrd\n",
      "NN_FA_distance\n",
      "NN\n",
      "/Volumes/scratch/Ipython_conda/SimpleITK-Notebook-Answers/NN_errorImages_statistics.nrrd\n"
     ]
    }
   ],
   "source": [
    "dist_img_file_name = os.path.basename(fa_dist_img)\n",
    "print(dist_img_file_name)\n",
    "dist_img_base = os.path.splitext(dist_img_file_name)[0]\n",
    "print(dist_img_base)\n",
    "sr_name = dist_img_base.split('_',2)[0]\n",
    "print(sr_name)\n",
    "fa_distance_image_fn = os.path.realpath(sr_name + '_errorImages_statistics.nrrd')\n",
    "print(fa_distance_image_fn)"
   ]
  },
  {
   "cell_type": "code",
   "execution_count": null,
   "metadata": {
    "collapsed": true
   },
   "outputs": [],
   "source": []
  },
  {
   "cell_type": "code",
   "execution_count": null,
   "metadata": {
    "collapsed": true
   },
   "outputs": [],
   "source": [
    "DWI_sr = '/Volumes/scratch/TESTS/IpythonNotebook/20160615_HCPWF/mainWF/HCPWorkflow_CACHE_105115/SuperResolutionWorkflow_CACHE_105115/runSR/DWI_SR_IFFT.nrrd'"
   ]
  },
  {
   "cell_type": "code",
   "execution_count": null,
   "metadata": {
    "collapsed": false
   },
   "outputs": [],
   "source": [
    "print(DWI_sr)"
   ]
  },
  {
   "cell_type": "code",
   "execution_count": null,
   "metadata": {
    "collapsed": false
   },
   "outputs": [],
   "source": [
    "sr_file_name = os.path.basename(DWI_sr)\n",
    "print(sr_file_name)\n",
    "sr_file_name_base = os.path.splitext(sr_file_name)[0]\n",
    "print(sr_file_name_base)\n",
    "sr_name = sr_file_name_base.split('_',2)[2]\n",
    "print(sr_name)\n",
    "fa_distance_image_fn = os.path.realpath(sr_name + '_FA_distance.nrrd')\n",
    "print(fa_distance_image_fn)"
   ]
  },
  {
   "cell_type": "code",
   "execution_count": null,
   "metadata": {
    "collapsed": true
   },
   "outputs": [],
   "source": []
  },
  {
   "cell_type": "code",
   "execution_count": null,
   "metadata": {
    "collapsed": true
   },
   "outputs": [],
   "source": []
  },
  {
   "cell_type": "code",
   "execution_count": null,
   "metadata": {
    "collapsed": true
   },
   "outputs": [],
   "source": []
  },
  {
   "cell_type": "code",
   "execution_count": null,
   "metadata": {
    "collapsed": true
   },
   "outputs": [],
   "source": []
  },
  {
   "cell_type": "code",
   "execution_count": null,
   "metadata": {
    "collapsed": true
   },
   "outputs": [],
   "source": []
  },
  {
   "cell_type": "code",
   "execution_count": null,
   "metadata": {
    "collapsed": true
   },
   "outputs": [],
   "source": []
  },
  {
   "cell_type": "code",
   "execution_count": null,
   "metadata": {
    "collapsed": true
   },
   "outputs": [],
   "source": []
  },
  {
   "cell_type": "code",
   "execution_count": null,
   "metadata": {
    "collapsed": true
   },
   "outputs": [],
   "source": []
  },
  {
   "cell_type": "code",
   "execution_count": null,
   "metadata": {
    "collapsed": true
   },
   "outputs": [],
   "source": [
    "def ComputeDistanceImages(DWI_baseline,DWI_sr,DWI_brainMask):\n",
    "    import os\n",
    "    import numpy as np\n",
    "    from scipy.linalg import logm\n",
    "    from scipy.linalg import eigvalsh # eigvalsh(A,B) is joint eigenvalues of A and B\n",
    "    import SimpleITK as sitk\n",
    "    from ReadWriteNrrdDWI import ReadNAMICDWIFromNrrd, WriteNAMICDWIToNrrd\n",
    "    #########\n",
    "    ### distance functions ###\n",
    "    # Frobenius distance\n",
    "    def distance_euclid(tenfit_A, tenfit_B):\n",
    "        return np.linalg.norm(tenfit_A.quadratic_form - tenfit_B.quadratic_form, ord='fro')\n",
    "    # Log-Euclidian distance\n",
    "    def distance_logeuclid(tenfit_A, tenfit_B):\n",
    "        def fro_norm(A,B):\n",
    "            return np.linalg.norm(A-B, ord='fro')\n",
    "        return fro_norm(logm(tenfit_A.quadratic_form),logm(tenfit_B.quadratic_form))\n",
    "    # Reimannian distance\n",
    "    def distance_reimann(tenfit_A, tenfit_B):\n",
    "        return np.sqrt((np.log(eigvalsh(tenfit_A.quadratic_form,tenfit_B.quadratic_form))**2).sum())\n",
    "    # Kullback-Leibler distance\n",
    "    def distance_kullback(tenfit_A, tenfit_B):\n",
    "        A = tenfit_A.quadratic_form\n",
    "        B = tenfit_B.quadratic_form\n",
    "        dim = A.shape[0]\n",
    "        kl = np.sqrt( np.trace( np.dot(np.linalg.inv(A),B)+np.dot(np.linalg.inv(B),A) ) - 2*dim )\n",
    "        return 0.5*kl\n",
    "    ######### \n",
    "    assert os.path.exists(DWI_baseline), \"File not found: %s\" % DWI_baseline\n",
    "    assert os.path.exists(DWI_sr), \"File not found: %s\" % DWI_sr\n",
    "    assert os.path.exists(DWI_brainMask), \"File not found: %s\" % DWI_brainMask\n",
    "    mask = sitk.ReadImage(DWI_brainMask)\n",
    "    # read DWI nrrd files\n",
    "    data_base,nrrd_header_base,bvecs_base,bvals_base,grad_idx_base = ReadNAMICDWIFromNrrd(DWI_baseline)\n",
    "    data_sr,nrrd_header_sr,bvecs_sr,bvals_sr,grad_idx_sr = ReadNAMICDWIFromNrrd(DWI_sr)\n",
    "    # compute tensorfits\n",
    "    from dipy.core.gradients import gradient_table\n",
    "    from dipy.reconst.dti import TensorModel\n",
    "    # base tensorfit\n",
    "    gtab_base = gradient_table(bvals_base, bvecs_base)\n",
    "    ten_base = TensorModel(gtab_base)\n",
    "    tenfit_base = ten_base.fit(data_base)\n",
    "    # super-res reconstructed tensorfit\n",
    "    gtab_sr = gradient_table(bvals_sr, bvecs_sr)\n",
    "    ten_sr = TensorModel(gtab_sr)\n",
    "    tenfit_sr = ten_base.fit(data_sr)\n",
    "    # create empty distance images\n",
    "    size = [data_base.shape[0],data_base.shape[1],data_base.shape[2]] #data_base.shape[4] is gradient components\n",
    "    fa_distance_image = sitk.Image(size, sitk.sitkFloat32)\n",
    "    fa_distance_image.CopyInformation(mask)\n",
    "    #\n",
    "    md_distance_image = sitk.Image(size, sitk.sitkFloat32)\n",
    "    md_distance_image.CopyInformation(mask)\n",
    "    #\n",
    "    rd_distance_image = sitk.Image(size, sitk.sitkFloat32)\n",
    "    rd_distance_image.CopyInformation(mask)\n",
    "    #\n",
    "    ad_distance_image = sitk.Image(size, sitk.sitkFloat32)\n",
    "    ad_distance_image.CopyInformation(mask)\n",
    "    #\n",
    "    frobenius_distance_image = sitk.Image(size, sitk.sitkFloat32)\n",
    "    frobenius_distance_image.CopyInformation(mask)\n",
    "    #\n",
    "    logeuclid_distance_image = sitk.Image(size, sitk.sitkFloat32)\n",
    "    logeuclid_distance_image.CopyInformation(mask)\n",
    "    #\n",
    "    reimann_distance_image = sitk.Image(size, sitk.sitkFloat32)\n",
    "    reimann_distance_image.CopyInformation(mask)\n",
    "    #\n",
    "    kullback_distance_image = sitk.Image(size, sitk.sitkFloat32)\n",
    "    kullback_distance_image.CopyInformation(mask)\n",
    "    #\n",
    "    # for loop to fill the distance images\n",
    "    '''\n",
    "    for i in xrange(size[0]):\n",
    "        for j in xrange(size[1]):\n",
    "            for k in xrange(size[2]):\n",
    "                fa_distance_image[i,j,k] = abs(tenfit_base[i,j,k].fa - tenfit_sr[i,j,k].fa)\n",
    "                md_distance_image[i,j,k] = abs(tenfit_base[i,j,k].md - tenfit_sr[i,j,k].md)\n",
    "                rd_distance_image[i,j,k] = abs(tenfit_base[i,j,k].rd - tenfit_sr[i,j,k].rd)\n",
    "                ad_distance_image[i,j,k] = abs(tenfit_base[i,j,k].ad - tenfit_sr[i,j,k].ad)\n",
    "                frobenius_distance_image[i,j,k] = distance_euclid(tenfit_base[i,j,k], tenfit_sr[i,j,k])\n",
    "                logeuclid_distance_image[i,j,k] = distance_logeuclid(tenfit_base[i,j,k], tenfit_sr[i,j,k])\n",
    "                reimann_distance_image[i,j,k] = distance_reimann(tenfit_base[i,j,k], tenfit_sr[i,j,k])\n",
    "                kullback_distance_image[i,j,k] = distance_kullback(tenfit_base[i,j,k], tenfit_sr[i,j,k])\n",
    "    '''\n",
    "    #\n",
    "    outDir = '/scratch/TESTS/IpythonNotebook/20160615_HCPWF/3_DistImagesWF'\n",
    "    maskf = sitk.Cast(mask, sitk.sitkFloat32)\n",
    "    #\n",
    "    fa_distance_image = sitk.Multiply(fa_distance_image,maskf)\n",
    "    fa_distance_image_fn = os.path.join(outDir, 'FA_distance.nrrd')\n",
    "    sitk.WriteImage(fa_distance_image,fa_distance_image_fn)\n",
    "    #\n",
    "    md_distance_image = sitk.Multiply(md_distance_image,maskf)\n",
    "    md_distance_image_fn = os.path.join(outDir, 'MD_distance.nrrd')\n",
    "    sitk.WriteImage(md_distance_image,md_distance_image_fn)\n",
    "    #\n",
    "    rd_distance_image = sitk.Multiply(rd_distance_image,maskf)\n",
    "    rd_distance_image_fn = os.path.join(outDir, 'RD_distance.nrrd')\n",
    "    sitk.WriteImage(rd_distance_image,rd_distance_image_fn)\n",
    "    #\n",
    "    ad_distance_image = sitk.Multiply(ad_distance_image,maskf)\n",
    "    ad_distance_image_fn = os.path.join(outDir, 'AD_distance.nrrd')\n",
    "    sitk.WriteImage(ad_distance_image,ad_distance_image_fn)\n",
    "    #\n",
    "    frobenius_distance_image = sitk.Multiply(frobenius_distance_image,maskf)\n",
    "    frobenius_distance_image_fn = os.path.join(outDir, 'Frobenius_distance.nrrd')\n",
    "    sitk.WriteImage(frobenius_distance_image,frobenius_distance_image_fn)\n",
    "    #\n",
    "    logeuclid_distance_image = sitk.Multiply(logeuclid_distance_image,maskf)\n",
    "    logeuclid_distance_image_fn = os.path.join(outDir, 'Logeuclid_distance.nrrd')\n",
    "    sitk.WriteImage(logeuclid_distance_image,logeuclid_distance_image_fn)\n",
    "    #\n",
    "    reimann_distance_image = sitk.Multiply(reimann_distance_image,maskf)\n",
    "    reimann_distance_image_fn = os.path.join(outDir, 'Reimann_distance.nrrd')\n",
    "    sitk.WriteImage(reimann_distance_image,reimann_distance_image_fn)\n",
    "    #\n",
    "    kullback_distance_image = sitk.Multiply(kullback_distance_image,maskf)\n",
    "    kullback_distance_image_fn = os.path.join(outDir, 'Kullback_distance.nrrd')\n",
    "    sitk.WriteImage(kullback_distance_image,kullback_distance_image_fn)\n",
    "    #\n",
    "    return [fa_distance_image_fn,\n",
    "            md_distance_image_fn,\n",
    "            rd_distance_image_fn,\n",
    "            ad_distance_image_fn,\n",
    "            frobenius_distance_image_fn,\n",
    "            logeuclid_distance_image_fn,\n",
    "            reimann_distance_image_fn,\n",
    "            kullback_distance_image_fn]"
   ]
  },
  {
   "cell_type": "code",
   "execution_count": null,
   "metadata": {
    "collapsed": true
   },
   "outputs": [],
   "source": [
    "[fa,md,rd,ad,fro,log,rei,kull] = ComputeDistanceImages(DWI_baseline,DWI_sr_ifft,DWI_brainMask)"
   ]
  },
  {
   "cell_type": "code",
   "execution_count": null,
   "metadata": {
    "collapsed": false
   },
   "outputs": [],
   "source": [
    "print(fa)"
   ]
  },
  {
   "cell_type": "code",
   "execution_count": null,
   "metadata": {
    "collapsed": true
   },
   "outputs": [],
   "source": []
  },
  {
   "cell_type": "code",
   "execution_count": null,
   "metadata": {
    "collapsed": true
   },
   "outputs": [],
   "source": []
  },
  {
   "cell_type": "code",
   "execution_count": null,
   "metadata": {
    "collapsed": true
   },
   "outputs": [],
   "source": []
  },
  {
   "cell_type": "code",
   "execution_count": null,
   "metadata": {
    "collapsed": true
   },
   "outputs": [],
   "source": []
  },
  {
   "cell_type": "code",
   "execution_count": null,
   "metadata": {
    "collapsed": true
   },
   "outputs": [],
   "source": []
  },
  {
   "cell_type": "code",
   "execution_count": null,
   "metadata": {
    "collapsed": true
   },
   "outputs": [],
   "source": []
  },
  {
   "cell_type": "code",
   "execution_count": null,
   "metadata": {
    "collapsed": true
   },
   "outputs": [],
   "source": []
  },
  {
   "cell_type": "code",
   "execution_count": null,
   "metadata": {
    "collapsed": true
   },
   "outputs": [],
   "source": []
  },
  {
   "cell_type": "code",
   "execution_count": null,
   "metadata": {
    "collapsed": true
   },
   "outputs": [],
   "source": []
  },
  {
   "cell_type": "code",
   "execution_count": null,
   "metadata": {
    "collapsed": true
   },
   "outputs": [],
   "source": []
  },
  {
   "cell_type": "code",
   "execution_count": null,
   "metadata": {
    "collapsed": true
   },
   "outputs": [],
   "source": []
  },
  {
   "cell_type": "code",
   "execution_count": null,
   "metadata": {
    "collapsed": true
   },
   "outputs": [],
   "source": []
  },
  {
   "cell_type": "code",
   "execution_count": null,
   "metadata": {
    "collapsed": true
   },
   "outputs": [],
   "source": []
  },
  {
   "cell_type": "code",
   "execution_count": null,
   "metadata": {
    "collapsed": true
   },
   "outputs": [],
   "source": []
  },
  {
   "cell_type": "code",
   "execution_count": null,
   "metadata": {
    "collapsed": true
   },
   "outputs": [],
   "source": []
  },
  {
   "cell_type": "code",
   "execution_count": null,
   "metadata": {
    "collapsed": true
   },
   "outputs": [],
   "source": []
  },
  {
   "cell_type": "code",
   "execution_count": null,
   "metadata": {
    "collapsed": true
   },
   "outputs": [],
   "source": []
  },
  {
   "cell_type": "code",
   "execution_count": null,
   "metadata": {
    "collapsed": true
   },
   "outputs": [],
   "source": []
  },
  {
   "cell_type": "code",
   "execution_count": null,
   "metadata": {
    "collapsed": true
   },
   "outputs": [],
   "source": []
  },
  {
   "cell_type": "code",
   "execution_count": null,
   "metadata": {
    "collapsed": true
   },
   "outputs": [],
   "source": []
  },
  {
   "cell_type": "code",
   "execution_count": null,
   "metadata": {
    "collapsed": true
   },
   "outputs": [],
   "source": []
  },
  {
   "cell_type": "code",
   "execution_count": null,
   "metadata": {
    "collapsed": true
   },
   "outputs": [],
   "source": [
    "def ComputeDistanceImages(DWI_baseline,DWI_sr,DWI_brainMask):\n",
    "    import os\n",
    "    import numpy as np\n",
    "    from scipy.linalg import logm\n",
    "    from scipy.linalg import eigvalsh # eigvalsh(A,B) is joint eigenvalues of A and B\n",
    "    import SimpleITK as sitk\n",
    "    from ReadWriteNrrdDWI import ReadNAMICDWIFromNrrd, WriteNAMICDWIToNrrd\n",
    "    #########\n",
    "    ### distance functions ###\n",
    "    # Frobenius distance\n",
    "    def distance_euclid(tenfit_A, tenfit_B):\n",
    "        return np.linalg.norm(tenfit_A.quadratic_form - tenfit_B.quadratic_form, ord='fro')\n",
    "    # Log-Euclidian distance\n",
    "    def distance_logeuclid(tenfit_A, tenfit_B):\n",
    "        def fro_norm(A,B):\n",
    "            return np.linalg.norm(A-B, ord='fro')\n",
    "        return fro_norm(logm(tenfit_A.quadratic_form),logm(tenfit_B.quadratic_form))\n",
    "    # Reimannian distance\n",
    "    def distance_reimann(tenfit_A, tenfit_B):\n",
    "        return np.sqrt((np.log(eigvalsh(tenfit_A.quadratic_form,tenfit_B.quadratic_form))**2).sum())\n",
    "    # Kullback-Leibler distance\n",
    "    def distance_kullback(tenfit_A, tenfit_B):\n",
    "        A = tenfit_A.quadratic_form\n",
    "        B = tenfit_B.quadratic_form\n",
    "        dim = A.shape[0]\n",
    "        kl = np.sqrt( np.trace( np.dot(np.linalg.inv(A),B)+np.dot(np.linalg.inv(B),A) ) - 2*dim )\n",
    "        return 0.5*kl\n",
    "    ######### \n",
    "    assert os.path.exists(DWI_baseline), \"File not found: %s\" % DWI_baseline\n",
    "    assert os.path.exists(DWI_sr), \"File not found: %s\" % DWI_sr\n",
    "    assert os.path.exists(DWI_brainMask), \"File not found: %s\" % DWI_brainMask\n",
    "    mask = sitk.ReadImage(DWI_brainMask)\n",
    "    # read DWI nrrd files\n",
    "    data_base,nrrd_header_base,bvecs_base,bvals_base,grad_idx_base = ReadNAMICDWIFromNrrd(DWI_baseline)\n",
    "    data_sr,nrrd_header_sr,bvecs_sr,bvals_sr,grad_idx_sr = ReadNAMICDWIFromNrrd(DWI_sr)\n",
    "    # compute tensorfits\n",
    "    from dipy.core.gradients import gradient_table\n",
    "    from dipy.reconst.dti import TensorModel\n",
    "    # base tensorfit\n",
    "    gtab_base = gradient_table(bvals_base, bvecs_base)\n",
    "    ten_base = TensorModel(gtab_base)\n",
    "    tenfit_base = ten_base.fit(data_base)\n",
    "    # super-res reconstructed tensorfit\n",
    "    gtab_sr = gradient_table(bvals_sr, bvecs_sr)\n",
    "    ten_sr = TensorModel(gtab_sr)\n",
    "    tenfit_sr = ten_base.fit(data_sr)\n",
    "    # create empty distance images\n",
    "    size = [data_base.shape[0],data_base.shape[1],data_base.shape[2]] #data_base.shape[4] is gradient components\n",
    "    fa_distance_image = sitk.Image(size, sitk.sitkFloat32)\n",
    "    fa_distance_image.CopyInformation(mask)\n",
    "    #\n",
    "    # for loop to fill the distance images\n",
    "    for i in xrange(size[0]):\n",
    "        for j in xrange(size[1]):\n",
    "            for k in xrange(size[2]):\n",
    "                fa_distance_image[i,j,k] = abs(tenfit_base[i,j,k].fa - tenfit_sr[i,j,k].fa)\n",
    "                #md_distance_image[i,j,k] = abs(tenfit_base[i,j,k].md - tenfit_sr[i,j,k].md)\n",
    "                #rd_distance_image[i,j,k] = abs(tenfit_base[i,j,k].rd - tenfit_sr[i,j,k].rd)\n",
    "                #ad_distance_image[i,j,k] = abs(tenfit_base[i,j,k].ad - tenfit_sr[i,j,k].ad)\n",
    "                #frobenius_distance_image[i,j,k] = distance_euclid(tenfit_base[i,j,k], tenfit_sr[i,j,k])\n",
    "                #logeuclid_distance_image[i,j,k] = distance_logeuclid(tenfit_base[i,j,k], tenfit_sr[i,j,k])\n",
    "                #reimann_distance_image[i,j,k] = distance_reimann(tenfit_base[i,j,k], tenfit_sr[i,j,k])\n",
    "                #kullback_distance_image[i,j,k] = distance_kullback(tenfit_base[i,j,k], tenfit_sr[i,j,k])\n",
    "    #\n",
    "    BASE_DIR = os.path.join('/scratch/TESTS/IpythonNotebook/20160615_HCPWF', '3_DistImagesWF')\n",
    "    fa_distance_image_fn = os.path.join(BASE_DIR, 'FA_distance.nrrd')\n",
    "    sitk.WriteImage(fa_distance_image,fa_distance_image_fn)\n",
    "    #\n",
    "    return fa_distance_image_fn"
   ]
  },
  {
   "cell_type": "code",
   "execution_count": null,
   "metadata": {
    "collapsed": true
   },
   "outputs": [],
   "source": [
    "fn = ComputeDistanceImages(DWI_baseline,DWI_sr_ifft,DWI_brainMask)"
   ]
  },
  {
   "cell_type": "code",
   "execution_count": null,
   "metadata": {
    "collapsed": false
   },
   "outputs": [],
   "source": [
    "print(fn)"
   ]
  },
  {
   "cell_type": "code",
   "execution_count": null,
   "metadata": {
    "collapsed": true
   },
   "outputs": [],
   "source": []
  },
  {
   "cell_type": "code",
   "execution_count": null,
   "metadata": {
    "collapsed": true
   },
   "outputs": [],
   "source": []
  },
  {
   "cell_type": "code",
   "execution_count": null,
   "metadata": {
    "collapsed": true
   },
   "outputs": [],
   "source": []
  },
  {
   "cell_type": "code",
   "execution_count": null,
   "metadata": {
    "collapsed": true
   },
   "outputs": [],
   "source": []
  },
  {
   "cell_type": "code",
   "execution_count": null,
   "metadata": {
    "collapsed": false
   },
   "outputs": [],
   "source": [
    "from ReadWriteNrrdDWI import ReadNAMICDWIFromNrrd, WriteNAMICDWIToNrrd\n",
    "data_base,nrrd_header_base,bvecs_base,bvals_base,grad_idx_base = ReadNAMICDWIFromNrrd(DWI_baseline)"
   ]
  },
  {
   "cell_type": "code",
   "execution_count": null,
   "metadata": {
    "collapsed": false
   },
   "outputs": [],
   "source": [
    "data_base.shape"
   ]
  },
  {
   "cell_type": "code",
   "execution_count": null,
   "metadata": {
    "collapsed": true
   },
   "outputs": [],
   "source": [
    "mask = sitk.ReadImage(DWI_brainMask)\n",
    "size=[data_base.shape[0],data_base.shape[1],data_base.shape[2]]\n",
    "fa_distance_image = sitk.Image(size, sitk.sitkFloat32)\n",
    "fa_distance_image.CopyInformation(mask)"
   ]
  },
  {
   "cell_type": "code",
   "execution_count": null,
   "metadata": {
    "collapsed": false
   },
   "outputs": [],
   "source": [
    "myshow(fa_distance_image)"
   ]
  },
  {
   "cell_type": "code",
   "execution_count": null,
   "metadata": {
    "collapsed": false
   },
   "outputs": [],
   "source": [
    "print(size[0])"
   ]
  },
  {
   "cell_type": "code",
   "execution_count": null,
   "metadata": {
    "collapsed": true
   },
   "outputs": [],
   "source": [
    "# compute tensorfits\n",
    "from dipy.core.gradients import gradient_table\n",
    "from dipy.reconst.dti import TensorModel\n",
    "# base tensorfit\n",
    "gtab_base = gradient_table(bvals_base, bvecs_base)\n",
    "ten_base = TensorModel(gtab_base)\n",
    "tenfit_base = ten_base.fit(data_base)"
   ]
  },
  {
   "cell_type": "code",
   "execution_count": null,
   "metadata": {
    "collapsed": false
   },
   "outputs": [],
   "source": [
    "print(tenfit_base[70,80,70].fa)"
   ]
  },
  {
   "cell_type": "code",
   "execution_count": null,
   "metadata": {
    "collapsed": false
   },
   "outputs": [],
   "source": [
    "print(bvals_base)"
   ]
  },
  {
   "cell_type": "code",
   "execution_count": null,
   "metadata": {
    "collapsed": true
   },
   "outputs": [],
   "source": []
  }
 ],
 "metadata": {
  "kernelspec": {
   "display_name": "Python 2",
   "language": "python",
   "name": "python2"
  },
  "language_info": {
   "codemirror_mode": {
    "name": "ipython",
    "version": 2
   },
   "file_extension": ".py",
   "mimetype": "text/x-python",
   "name": "python",
   "nbconvert_exporter": "python",
   "pygments_lexer": "ipython2",
   "version": "2.7.11"
  }
 },
 "nbformat": 4,
 "nbformat_minor": 0
}
