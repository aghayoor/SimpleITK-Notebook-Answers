{
 "cells": [
  {
   "cell_type": "code",
   "execution_count": 24,
   "metadata": {
    "collapsed": false
   },
   "outputs": [
    {
     "name": "stdout",
     "output_type": "stream",
     "text": [
      "SimpleITK Version: 0.9.1\n",
      "Compiled: Sep 28 2015 10:07:41\n",
      "\n"
     ]
    }
   ],
   "source": [
    "## Boiler plate code common to many notebooks.  See the TestFilesCommonCode.ipynb for details\n",
    "from __future__ import print_function\n",
    "%run TestFilesCommonCode.ipynb"
   ]
  },
  {
   "cell_type": "code",
   "execution_count": 25,
   "metadata": {
    "collapsed": false
   },
   "outputs": [],
   "source": [
    "import os\n",
    "import glob\n",
    "import sys\n",
    "\n",
    "#\\/\\/\\/\\/\\/\\/\\/\\/\\/\\/\\/\\/\\/\\/\\/\\/\\/\\/\\/\\/\\/\\/\\/\\/\\/\\/\\/\\/\\/\\/\\/\\/\\/\\/\\/\\/\\/\\/\\/\\/\\/\\/\\/\n",
    "#####################################################################################\n",
    "#     Prepend the shell environment search paths\n",
    "PROGRAM_PATHS = '/scratch/NAMICExternalProjects/release-20160523/bin'\n",
    "#PROGRAM_PATHS = '/scratch/BS/release-BSR/bin'\n",
    "PROGRAM_PATHS = PROGRAM_PATHS.split(':')\n",
    "PROGRAM_PATHS.extend(os.environ['PATH'].split(':'))\n",
    "os.environ['PATH'] = ':'.join(PROGRAM_PATHS)\n",
    "\n",
    "CUSTOM_ENVIRONMENT=dict()\n",
    "\n",
    "# Platform specific information\n",
    "#     Prepend the python search paths\n",
    "#PYTHON_AUX_PATHS = '/scratch/BS/BRAINSTools/AutoWorkup'\n",
    "PYTHON_AUX_PATHS = '/scratch/SuperResolution/BRAINSSuperResolution/HCPWorkflows/:/scratch/wmql/tract_querier/tract_querier/nipype/'\n",
    "PYTHON_AUX_PATHS = PYTHON_AUX_PATHS.split(':')\n",
    "PYTHON_AUX_PATHS.extend(sys.path)\n",
    "sys.path = PYTHON_AUX_PATHS\n",
    "\n",
    "import SimpleITK as sitk\n",
    "import nipype\n",
    "from nipype.interfaces.base import CommandLine, CommandLineInputSpec, TraitedSpec, File, Directory\n",
    "from nipype.interfaces.base import traits, isdefined, BaseInterface\n",
    "from nipype.interfaces.utility import Merge, Split, Function, Rename, IdentityInterface\n",
    "import nipype.interfaces.io as nio   # Data i/oS\n",
    "import nipype.pipeline.engine as pe  # pypeline engine\n",
    "from nipype.interfaces import ants\n",
    "from nipype.interfaces.semtools import *"
   ]
  },
  {
   "cell_type": "code",
   "execution_count": 26,
   "metadata": {
    "collapsed": true
   },
   "outputs": [],
   "source": [
    "dwi_b0_fn='/raid0/homes/aghayoor/Desktop/invicro_eyeTrackingMR/dwi/dwiB0.nrrd'\n",
    "#dwib0=sitk.ReadImage('/raid0/homes/aghayoor/Desktop/invicro_eyeTrackingMR/dwi/dwiB0.mhd')\n",
    "#sitk.WriteImage(dwib0,dwi_b0_fn)"
   ]
  },
  {
   "cell_type": "code",
   "execution_count": 27,
   "metadata": {
    "collapsed": true
   },
   "outputs": [],
   "source": [
    "dwi_fn='/raid0/homes/aghayoor/Desktop/invicro_eyeTrackingMR/dwi/ANONM80FVB14I_DWI.nrrd'\n",
    "dwi_brain_mask='/raid0/homes/aghayoor/Desktop/invicro_eyeTrackingMR/dwi/dwiB0_brainMask.mhd'\n",
    "#t2_fn='/raid0/homes/aghayoor/Desktop/invicro_eyeTrackingMR/t1t2/ANONM80FVB14I_T2_aligned.mhd'\n",
    "#t2_fn='/raid0/homes/aghayoor/Desktop/invicro_eyeTrackingMR/t1t2/ANONM80FVB14I_FLAIR_aligned.mhd'\n",
    "t2_fn='/raid0/homes/aghayoor/Desktop/invicro_eyeTrackingMR/t1t2/ANONM80FVB14I_T13D_aligned.mhd'\n",
    "t2_mask_fn='/raid0/homes/aghayoor/Desktop/invicro_eyeTrackingMR/t1t2/T2_aligned_brainmask.mhd'"
   ]
  },
  {
   "cell_type": "code",
   "execution_count": 28,
   "metadata": {
    "collapsed": true
   },
   "outputs": [],
   "source": [
    "BASE_DIR='/raid0/homes/aghayoor/Desktop/invicro_eyeTrackingMR/workflow_output'"
   ]
  },
  {
   "cell_type": "code",
   "execution_count": 29,
   "metadata": {
    "collapsed": true
   },
   "outputs": [],
   "source": [
    "WFname = 'CorrectionWF'"
   ]
  },
  {
   "cell_type": "code",
   "execution_count": 30,
   "metadata": {
    "collapsed": false
   },
   "outputs": [
    {
     "data": {
      "text/plain": [
       "<networkx.classes.digraph.DiGraph at 0x124e57a50>"
      ]
     },
     "execution_count": 30,
     "metadata": {},
     "output_type": "execute_result"
    }
   ],
   "source": [
    "###### UTILITY FUNCTIONS #######\n",
    "#\\/\\/\\/\\/\\/\\/\\/\\/\\/\\/\\/\\/\\/\\/\\/#\n",
    "# \n",
    "def MakeResamplerInFileList(inputT2, inputLabelMap):\n",
    "    imagesList = [inputT2, inputLabelMap]\n",
    "    return imagesList\n",
    "\n",
    "# Create registration mask for ANTs from resampled label map image\n",
    "def CreateAntsRegistrationMask(brainMask):\n",
    "    import os\n",
    "    import SimpleITK as sitk\n",
    "    assert os.path.exists(brainMask), \"File not found: %s\" % brainMask\n",
    "    labelsMap = sitk.ReadImage(brainMask)\n",
    "    label_mask = labelsMap>0\n",
    "    # dilate the label mask\n",
    "    dilateFilter = sitk.BinaryDilateImageFilter()\n",
    "    dilateFilter.SetKernelRadius(12)\n",
    "    dilated_mask = dilateFilter.Execute( label_mask )\n",
    "    regMask = dilated_mask\n",
    "    registrationMask = os.path.realpath('registrationMask.nrrd')\n",
    "    sitk.WriteImage(regMask, registrationMask)\n",
    "    return registrationMask\n",
    "\n",
    "# This function helps to pick desirable output from the output list\n",
    "def pickFromList(inlist,item):\n",
    "    return inlist[item]\n",
    "\n",
    "# Save direction cosine for the input volume\n",
    "def SaveDirectionCosineToMatrix(inputVolume):\n",
    "    import os\n",
    "    import SimpleITK as sitk\n",
    "    assert os.path.exists(inputVolume), \"File not found: %s\" % inputVolume\n",
    "    t2 = sitk.ReadImage(inputVolume)\n",
    "    directionCosine = t2.GetDirection()\n",
    "    return directionCosine\n",
    "\n",
    "# Force DC to ID\n",
    "def ForceDCtoID(inputVolume):\n",
    "    import os\n",
    "    import SimpleITK as sitk\n",
    "    inImage = sitk.ReadImage(inputVolume)\n",
    "    inImage.SetDirection((1.0, 0.0, 0.0, 0.0, 1.0, 0.0, 0.0, 0.0, 1.0))\n",
    "    outputVolume = os.path.realpath('IDDC_'+ os.path.basename(inputVolume))\n",
    "    sitk.WriteImage(inImage, outputVolume)\n",
    "    return outputVolume\n",
    "\n",
    "def RestoreDCFromSavedMatrix(inputVolume, inputDirectionCosine):\n",
    "    import os\n",
    "    import SimpleITK as sitk\n",
    "    inImage = sitk.ReadImage(inputVolume)\n",
    "    inImage.SetDirection(inputDirectionCosine)\n",
    "    outputVolume = os.path.realpath('CorrectedDWI.nrrd')\n",
    "    sitk.WriteImage(inImage, outputVolume)\n",
    "    return outputVolume\n",
    "\n",
    "def GetRigidTransformInverse(inputTransform):\n",
    "    import os\n",
    "    import SimpleITK as sitk\n",
    "    inputTx = sitk.ReadTransform(inputTransform)\n",
    "    versorRigidTx = sitk.VersorRigid3DTransform()\n",
    "    versorRigidTx.SetFixedParameters(inputTx.GetFixedParameters())\n",
    "    versorRigidTx.SetParameters(inputTx.GetParameters())\n",
    "    invTx = versorRigidTx.GetInverse()\n",
    "    inverseTransform = os.path.realpath('Inverse_'+ os.path.basename(inputTransform))\n",
    "    sitk.WriteTransform(invTx, inverseTransform)\n",
    "    return inverseTransform\n",
    "\n",
    "def MakeForceDCFilesList(inputB0, inputT2, inputLabelMap):\n",
    "    import os\n",
    "    assert os.path.exists(inputB0), \"File not found: %s\" % inputB0\n",
    "    assert os.path.exists(inputT2), \"File not found: %s\" % inputT2\n",
    "    assert os.path.exists(inputLabelMap), \"File not found: %s\" % inputLabelMap\n",
    "    imagesList = [inputB0, inputT2, inputLabelMap]\n",
    "    return imagesList\n",
    "#################################\n",
    "#\\/\\/\\/\\/\\/\\/\\/\\/\\/\\/\\/\\/\\/\\/\\/\\#\n",
    "\n",
    "CorrectionWF = pe.Workflow(name=WFname)\n",
    "CorrectionWF.base_dir = BASE_DIR\n",
    "\n",
    "inputsSpec = pe.Node(interface=IdentityInterface(fields=['inputT2',\n",
    "                                                         'inputDWI',\n",
    "                                                         'inputDWIB0',\n",
    "                                                         'inputT2Mask'\n",
    "                                                        ]),\n",
    "                         name='inputsSpec')\n",
    "inputsSpec.inputs.inputT2 = t2_fn\n",
    "inputsSpec.inputs.inputDWI = dwi_fn\n",
    "inputsSpec.inputs.inputDWIB0 = dwi_b0_fn\n",
    "inputsSpec.inputs.inputT2Mask = t2_mask_fn\n",
    "\n",
    "outputsSpec = pe.Node(interface=IdentityInterface(fields=['CorrectedDWI_in_T2Space',\n",
    "                                                          'DWIBrainMask'\n",
    "                                                         ]),\n",
    "                      name='outputsSpec')\n",
    "\n",
    "\n",
    "# Step1: Register T2 to B0 space using BRAINSFit\n",
    "BFit_T2toB0 = pe.Node(interface=BRAINSFit(), name=\"BFit_T2toB0\")\n",
    "BFit_T2toB0.inputs.costMetric = \"MMI\"\n",
    "BFit_T2toB0.inputs.numberOfSamples = 100000\n",
    "BFit_T2toB0.inputs.numberOfIterations = [1500]\n",
    "BFit_T2toB0.inputs.numberOfHistogramBins = 50\n",
    "BFit_T2toB0.inputs.maximumStepLength = 0.2\n",
    "BFit_T2toB0.inputs.minimumStepLength = [0.00005]\n",
    "BFit_T2toB0.inputs.useRigid = True\n",
    "BFit_T2toB0.inputs.useAffine = True\n",
    "BFit_T2toB0.inputs.maskInferiorCutOffFromCenter = 65\n",
    "BFit_T2toB0.inputs.maskProcessingMode = \"ROIAUTO\"\n",
    "BFit_T2toB0.inputs.ROIAutoDilateSize = 13\n",
    "BFit_T2toB0.inputs.backgroundFillValue = 0.0\n",
    "BFit_T2toB0.inputs.initializeTransformMode = 'useCenterOfHeadAlign'\n",
    "BFit_T2toB0.inputs.strippedOutputTransform = \"T2ToB0_RigidTransform.h5\"\n",
    "BFit_T2toB0.inputs.writeOutputTransformInFloat = True\n",
    "CorrectionWF.connect(inputsSpec, 'inputDWIB0', BFit_T2toB0, 'fixedVolume')\n",
    "CorrectionWF.connect(inputsSpec, 'inputT2', BFit_T2toB0, 'movingVolume')\n",
    "\n",
    "# Step2: Use T_rigid to \"resample\" T2 and label map images to B0 image space\n",
    "MakeResamplerInFilesListNode = pe.Node(Function(function=MakeResamplerInFileList,\n",
    "                                                input_names=['inputT2','inputLabelMap'],\n",
    "                                                output_names=['imagesList']),\n",
    "                                       name=\"MakeResamplerInFilesListNode\")\n",
    "CorrectionWF.connect([(inputsSpec,MakeResamplerInFilesListNode,[('inputT2','inputT2')]),\n",
    "                      (inputsSpec,MakeResamplerInFilesListNode,[('inputT2Mask','inputLabelMap')])])\n",
    "\n",
    "ResampleToB0Space = pe.MapNode(interface=BRAINSResample(), name=\"ResampleToB0Space\",\n",
    "                               iterfield=['inputVolume', 'pixelType', 'outputVolume'])\n",
    "ResampleToB0Space.inputs.interpolationMode = 'Linear'\n",
    "ResampleToB0Space.inputs.outputVolume = ['T2toB0.nrrd','T2MaskToB0.nrrd']\n",
    "ResampleToB0Space.inputs.pixelType = ['ushort','binary']\n",
    "CorrectionWF.connect(BFit_T2toB0,'strippedOutputTransform',ResampleToB0Space,'warpTransform')\n",
    "CorrectionWF.connect(inputsSpec,'inputDWIB0',ResampleToB0Space,'referenceVolume')\n",
    "CorrectionWF.connect(MakeResamplerInFilesListNode,'imagesList',ResampleToB0Space,'inputVolume')\n",
    "\n",
    "# Step3: Create registration mask from resampled label map image\n",
    "CreateRegistrationMask = pe.Node(interface=Function(function = CreateAntsRegistrationMask,\n",
    "                                                    input_names=['brainMask'],\n",
    "                                                    output_names=['registrationMask']),\n",
    "                                 name=\"CreateAntsRegistrationMask\")\n",
    "CorrectionWF.connect(ResampleToB0Space, ('outputVolume', pickFromList, 1),\n",
    "                    CreateRegistrationMask, 'brainMask')\n",
    "\n",
    "# Step4: Save direction cosine for the resampled T2 image\n",
    "SaveDirectionCosineToMatrixNode = pe.Node(interface=Function(function = SaveDirectionCosineToMatrix,\n",
    "                                                             input_names=['inputVolume'],\n",
    "                                                             output_names=['directionCosine']),\n",
    "                                          name=\"SaveDirectionCosineToMatrix\")\n",
    "CorrectionWF.connect(ResampleToB0Space, ('outputVolume', pickFromList, 0),\n",
    "                     SaveDirectionCosineToMatrixNode, 'inputVolume')\n",
    "\n",
    "\n",
    "# Step5: Force DC to ID\n",
    "MakeForceDCFilesListNode = pe.Node(Function(function=MakeForceDCFilesList,\n",
    "                                            input_names=['inputB0','inputT2','inputLabelMap'],\n",
    "                                            output_names=['imagesList']),\n",
    "                                   name=\"MakeForceDCFilesListNode\")\n",
    "CorrectionWF.connect([(inputsSpec,MakeForceDCFilesListNode,[('inputDWIB0','inputB0')]),\n",
    "                      (ResampleToB0Space,MakeForceDCFilesListNode,[(('outputVolume', pickFromList, 0),'inputT2')]),\n",
    "                      (CreateRegistrationMask,MakeForceDCFilesListNode,[('registrationMask','inputLabelMap')])])\n",
    "\n",
    "ForceDCtoIDNode = pe.MapNode(interface=Function(function = ForceDCtoID,\n",
    "                                                input_names=['inputVolume'],\n",
    "                                                output_names=['outputVolume']),\n",
    "                             name=\"ForceDCtoID\",\n",
    "                             iterfield=['inputVolume'])\n",
    "CorrectionWF.connect(MakeForceDCFilesListNode, 'imagesList', ForceDCtoIDNode, 'inputVolume')\n",
    "\n",
    "# Step6: Run antsRegistration in one direction\n",
    "antsReg_B0ToTransformedT2 = pe.Node(interface=ants.Registration(), name=\"antsReg_B0ToTransformedT2\")\n",
    "antsReg_B0ToTransformedT2.inputs.interpolation = 'Linear'\n",
    "antsReg_B0ToTransformedT2.inputs.dimension = 3\n",
    "antsReg_B0ToTransformedT2.inputs.transforms = [\"SyN\"]\n",
    "antsReg_B0ToTransformedT2.inputs.transform_parameters = [(0.25, 3.0, 0.0)]\n",
    "antsReg_B0ToTransformedT2.inputs.metric = ['MI']\n",
    "antsReg_B0ToTransformedT2.inputs.sampling_strategy = [None]\n",
    "antsReg_B0ToTransformedT2.inputs.sampling_percentage = [1.0]\n",
    "antsReg_B0ToTransformedT2.inputs.metric_weight = [1.0]\n",
    "antsReg_B0ToTransformedT2.inputs.radius_or_number_of_bins = [32]\n",
    "antsReg_B0ToTransformedT2.inputs.number_of_iterations = [[70, 50, 40]]\n",
    "antsReg_B0ToTransformedT2.inputs.convergence_threshold = [1e-6]\n",
    "antsReg_B0ToTransformedT2.inputs.convergence_window_size = [10]\n",
    "antsReg_B0ToTransformedT2.inputs.use_histogram_matching = [True]\n",
    "antsReg_B0ToTransformedT2.inputs.shrink_factors = [[3, 2, 1]]\n",
    "antsReg_B0ToTransformedT2.inputs.smoothing_sigmas = [[2, 1, 0]]\n",
    "antsReg_B0ToTransformedT2.inputs.sigma_units = [\"vox\"]\n",
    "antsReg_B0ToTransformedT2.inputs.use_estimate_learning_rate_once = [False]\n",
    "antsReg_B0ToTransformedT2.inputs.write_composite_transform = True\n",
    "antsReg_B0ToTransformedT2.inputs.collapse_output_transforms = False\n",
    "antsReg_B0ToTransformedT2.inputs.initialize_transforms_per_stage = False\n",
    "antsReg_B0ToTransformedT2.inputs.output_transform_prefix = 'Tsyn'\n",
    "antsReg_B0ToTransformedT2.inputs.winsorize_lower_quantile = 0.01\n",
    "antsReg_B0ToTransformedT2.inputs.winsorize_upper_quantile = 0.99\n",
    "antsReg_B0ToTransformedT2.inputs.float = True\n",
    "antsReg_B0ToTransformedT2.inputs.num_threads = -1\n",
    "antsReg_B0ToTransformedT2.inputs.args = '--restrict-deformation 0x1x0'\n",
    "CorrectionWF.connect(ForceDCtoIDNode, ('outputVolume', pickFromList, 1), antsReg_B0ToTransformedT2, 'fixed_image')\n",
    "CorrectionWF.connect(ForceDCtoIDNode, ('outputVolume', pickFromList, 2), antsReg_B0ToTransformedT2, 'fixed_image_mask')\n",
    "CorrectionWF.connect(ForceDCtoIDNode, ('outputVolume', pickFromList, 0), antsReg_B0ToTransformedT2, 'moving_image')\n",
    "\n",
    "# Step7: Now, all necessary transforms are acquired. It's a time to\n",
    "#        transform input DWI image into T2 image space\n",
    "# {DWI} --> ForceDCtoID --> gtractResampleDWIInPlace(using SyN transfrom)\n",
    "# --> Restore DirectionCosine From Saved Matrix --> gtractResampleDWIInPlace(inverse of T_rigid from BFit)\n",
    "# --> {CorrectedDW_in_T2Space}\n",
    "DWI_ForceDCtoIDNode = pe.Node(interface=Function(function = ForceDCtoID,\n",
    "                                                 input_names=['inputVolume'],\n",
    "                                                 output_names=['outputVolume']),\n",
    "                              name='DWI_ForceDCtoIDNode')\n",
    "CorrectionWF.connect(inputsSpec,'inputDWI',DWI_ForceDCtoIDNode,'inputVolume')\n",
    "\n",
    "##\n",
    "gtractResampleDWI_SyN = pe.Node(interface=gtractResampleDWIInPlace(),\n",
    "                                name=\"gtractResampleDWI_SyN\")\n",
    "CorrectionWF.connect(DWI_ForceDCtoIDNode,'outputVolume',\n",
    "                     gtractResampleDWI_SyN,'inputVolume')\n",
    "CorrectionWF.connect(antsReg_B0ToTransformedT2,'composite_transform',\n",
    "                     gtractResampleDWI_SyN,'warpDWITransform')\n",
    "CorrectionWF.connect(ForceDCtoIDNode,('outputVolume', pickFromList, 1),\n",
    "                     gtractResampleDWI_SyN,'referenceVolume') # fixed image of antsRegistration\n",
    "gtractResampleDWI_SyN.inputs.outputVolume = 'IDDC_correctedDWI.nrrd'\n",
    "\n",
    "##\n",
    "RestoreDCFromSavedMatrixNode = pe.Node(interface=Function(function = RestoreDCFromSavedMatrix,\n",
    "                                                          input_names=['inputVolume','inputDirectionCosine'],\n",
    "                                                          output_names=['outputVolume']),\n",
    "                                       name='RestoreDCFromSavedMatrix')\n",
    "CorrectionWF.connect(gtractResampleDWI_SyN,'outputVolume',RestoreDCFromSavedMatrixNode,'inputVolume')\n",
    "CorrectionWF.connect(SaveDirectionCosineToMatrixNode,'directionCosine',RestoreDCFromSavedMatrixNode,'inputDirectionCosine')\n",
    "#CorrectionWF.connect(RestoreDCFromSavedMatrixNode,'outputVolume', outputsSpec, 'CorrectedDWI')\n",
    "\n",
    "##\n",
    "GetRigidTransformInverseNode = pe.Node(interface=Function(function = GetRigidTransformInverse,\n",
    "                                                          input_names=['inputTransform'],\n",
    "                                                          output_names=['inverseTransform']),\n",
    "                                       name='GetRigidTransformInverse')\n",
    "CorrectionWF.connect(BFit_T2toB0,'strippedOutputTransform',GetRigidTransformInverseNode,'inputTransform')\n",
    "\n",
    "##\n",
    "gtractResampleDWIInPlace_Trigid = pe.Node(interface=gtractResampleDWIInPlace(),\n",
    "                                          name=\"gtractResampleDWIInPlace_Trigid\")\n",
    "CorrectionWF.connect(RestoreDCFromSavedMatrixNode,'outputVolume',\n",
    "                     gtractResampleDWIInPlace_Trigid,'inputVolume')\n",
    "CorrectionWF.connect(GetRigidTransformInverseNode,'inverseTransform',\n",
    "                     gtractResampleDWIInPlace_Trigid,'inputTransform') #Inverse of rigid transform from BFit\n",
    "gtractResampleDWIInPlace_Trigid.inputs.outputVolume = 'CorrectedDWI_in_T2Space_estimate.nrrd'\n",
    "gtractResampleDWIInPlace_Trigid.inputs.outputResampledB0 = 'CorrectedDWI_in_T2Space_estimate_B0.nrrd'\n",
    "\n",
    "# Setp8: An extra registration step to tune the alignment between the CorrecetedDWI_in_T2Space image and T2 image.\n",
    "BFit_TuneRegistration = pe.Node(interface=BRAINSFit(), name=\"BFit_TuneRegistration\")\n",
    "BFit_TuneRegistration.inputs.costMetric = \"MMI\"\n",
    "BFit_TuneRegistration.inputs.numberOfSamples = 100000\n",
    "BFit_TuneRegistration.inputs.numberOfIterations = [1500]\n",
    "BFit_TuneRegistration.inputs.numberOfHistogramBins = 50\n",
    "BFit_TuneRegistration.inputs.maximumStepLength = 0.2\n",
    "BFit_TuneRegistration.inputs.minimumStepLength = [0.00005]\n",
    "BFit_TuneRegistration.inputs.useRigid = True\n",
    "BFit_TuneRegistration.inputs.useAffine = True\n",
    "BFit_TuneRegistration.inputs.maskInferiorCutOffFromCenter = 65\n",
    "BFit_TuneRegistration.inputs.maskProcessingMode = \"ROIAUTO\"\n",
    "BFit_TuneRegistration.inputs.ROIAutoDilateSize = 13\n",
    "BFit_TuneRegistration.inputs.backgroundFillValue = 0.0\n",
    "BFit_TuneRegistration.inputs.initializeTransformMode = 'useCenterOfHeadAlign'\n",
    "BFit_TuneRegistration.inputs.strippedOutputTransform = \"CorrectedB0inT2Space_to_T2_RigidTransform.h5\"\n",
    "BFit_TuneRegistration.inputs.writeOutputTransformInFloat = True\n",
    "CorrectionWF.connect(inputsSpec, 'inputT2', BFit_TuneRegistration, 'fixedVolume') #T2 brain volume\n",
    "CorrectionWF.connect(gtractResampleDWIInPlace_Trigid, 'outputResampledB0', BFit_TuneRegistration, 'movingVolume') # CorrectedB0_in_T2Space\n",
    "\n",
    "##\n",
    "gtractResampleDWIInPlace_TuneRigidTx = pe.Node(interface=gtractResampleDWIInPlace(),\n",
    "                                               name=\"gtractResampleDWIInPlace_TuneRigidTx\")\n",
    "CorrectionWF.connect(gtractResampleDWIInPlace_Trigid,'outputVolume',gtractResampleDWIInPlace_TuneRigidTx,'inputVolume')\n",
    "CorrectionWF.connect(BFit_TuneRegistration,'strippedOutputTransform',gtractResampleDWIInPlace_TuneRigidTx,'inputTransform')\n",
    "gtractResampleDWIInPlace_TuneRigidTx.inputs.outputVolume = 'CorrectedDWI_in_T2Space.nrrd'\n",
    "gtractResampleDWIInPlace_TuneRigidTx.inputs.outputResampledB0 = 'CorrectedDWI_in_T2Space_B0.nrrd'\n",
    "\n",
    "# Finally we pass the outputs of the gtractResampleDWIInPlace_TuneRigidTx to the outputsSpec\n",
    "CorrectionWF.connect(gtractResampleDWIInPlace_TuneRigidTx, 'outputVolume', outputsSpec, 'CorrectedDWI_in_T2Space')\n",
    "\n",
    "# Step9: Create brain mask from the input labelmap\n",
    "DWIBRAINMASK = pe.Node(interface=BRAINSResample(), name='DWIBRAINMASK')\n",
    "DWIBRAINMASK.inputs.interpolationMode = 'Linear'\n",
    "DWIBRAINMASK.inputs.outputVolume = 'BrainMaskForDWI.nrrd'\n",
    "DWIBRAINMASK.inputs.pixelType = 'binary'\n",
    "CorrectionWF.connect(gtractResampleDWIInPlace_TuneRigidTx,'outputResampledB0',DWIBRAINMASK,'referenceVolume')\n",
    "CorrectionWF.connect(inputsSpec,'inputT2Mask',DWIBRAINMASK,'inputVolume')\n",
    "CorrectionWF.connect(DWIBRAINMASK, 'outputVolume', outputsSpec, 'DWIBrainMask')\n",
    "\n",
    "#########\n",
    "DWIDataSink = pe.Node(interface=nio.DataSink(), name='DWIDataSink')\n",
    "DWIDataSink.overwrite = True\n",
    "DWIDataSink.inputs.base_directory = BASE_DIR\n",
    "CorrectionWF.connect(outputsSpec, 'CorrectedDWI_in_T2Space', DWIDataSink, 'Outputs.@CorrectedDWI_in_T2Space')\n",
    "CorrectionWF.connect(outputsSpec, 'DWIBrainMask', DWIDataSink, 'Outputs.@DWIBrainMask')\n",
    "\n",
    "\n",
    "CorrectionWF.write_graph()\n",
    "CorrectionWF.run()"
   ]
  },
  {
   "cell_type": "code",
   "execution_count": 31,
   "metadata": {
    "collapsed": false
   },
   "outputs": [],
   "source": [
    "# # Run UKF Processing\n",
    "# UKFNode = UKFTractography()\n",
    "# UKFNode.inputs.tracts = \"/raid0/homes/aghayoor/Desktop/invicro_eyeTrackingMR/workflow_output/Outputs/ukfTracts1.vtp\"\n",
    "# UKFNode.inputs.numTensor = '2'\n",
    "# UKFNode.inputs.freeWater = True ## default False\n",
    "# UKFNode.inputs.minFA = 0.15\n",
    "# UKFNode.inputs.minGA = 0.15\n",
    "# UKFNode.inputs.seedFALimit = 0.06\n",
    "# UKFNode.inputs.Ql = 70\n",
    "# UKFNode.inputs.recordLength = 2\n",
    "# UKFNode.inputs.recordTensors = True\n",
    "# UKFNode.inputs.recordFreeWater = True\n",
    "# UKFNode.inputs.recordFA = True\n",
    "# UKFNode.inputs.recordTrace = True\n",
    "# UKFNode.inputs.dwiFile = '/raid0/homes/aghayoor/Desktop/invicro_eyeTrackingMR/workflow_output/Outputs/CorrectedDWI_in_T2Space.nrrd'\n",
    "# UKFNode.inputs.maskFile = '/raid0/homes/aghayoor/Desktop/invicro_eyeTrackingMR/workflow_output/Outputs/CorrectedDWI_in_T2Space_Mask.nrrd'\n",
    "# UKFNode.inputs.seedsPerVoxel = 1\n",
    "# UKFNode.run()"
   ]
  },
  {
   "cell_type": "code",
   "execution_count": 32,
   "metadata": {
    "collapsed": false
   },
   "outputs": [],
   "source": [
    "# # Run UKF Processing\n",
    "# UKFNode = UKFTractography()\n",
    "# UKFNode.inputs.tracts = \"/raid0/homes/aghayoor/Desktop/invicro_eyeTrackingMR/workflow_output/Outputs/ukfTracts.vtp\"\n",
    "# UKFNode.inputs.numTensor = '2'\n",
    "# UKFNode.inputs.freeWater = True ## default False\n",
    "# UKFNode.inputs.minFA = 0.06\n",
    "# UKFNode.inputs.minGA = 0.06\n",
    "# UKFNode.inputs.seedFALimit = 0.06\n",
    "# UKFNode.inputs.Ql = 70 # Process noise for eigenvalues\n",
    "# UKFNode.inputs.recordLength = 1 # depends to the spacing\n",
    "# UKFNode.inputs.recordTensors = True\n",
    "# UKFNode.inputs.recordFreeWater = True\n",
    "# UKFNode.inputs.recordFA = True\n",
    "# UKFNode.inputs.recordTrace = True\n",
    "# UKFNode.inputs.dwiFile = '/raid0/homes/aghayoor/Desktop/invicro_eyeTrackingMR/workflow_output/Outputs/CorrectedDWI_in_T2Space.nrrd'\n",
    "# UKFNode.inputs.maskFile = '/raid0/homes/aghayoor/Desktop/invicro_eyeTrackingMR/workflow_output/Outputs/CorrectedDWI_in_T2Space_Mask.nrrd'\n",
    "# UKFNode.inputs.seedsPerVoxel = 2\n",
    "# UKFNode.inputs.maxHalfFiberLength = 150\n",
    "# UKFNode.inputs.Rs = 0.025 # Measures expected noise in signal\n",
    "# #UKFNode.inputs.Qm = 0.001 # Process noise for angles/direction\n",
    "# UKFNode.run()"
   ]
  },
  {
   "cell_type": "code",
   "execution_count": 33,
   "metadata": {
    "collapsed": false
   },
   "outputs": [],
   "source": [
    "##### WORKS\n",
    "# Run UKF Processing\n",
    "# UKFNode = UKFTractography()\n",
    "# UKFNode.inputs.tracts = \"/raid0/homes/aghayoor/Desktop/invicro_eyeTrackingMR/workflow_output/Outputs/ukfTracts.vtp\"\n",
    "# UKFNode.inputs.numTensor = '2'\n",
    "# UKFNode.inputs.freeWater = True ## default False\n",
    "# UKFNode.inputs.minFA = 0.15\n",
    "# UKFNode.inputs.minGA = 0.15\n",
    "# UKFNode.inputs.seedFALimit = 0.06\n",
    "# UKFNode.inputs.Ql = 70\n",
    "# UKFNode.inputs.recordLength = 2\n",
    "# UKFNode.inputs.recordTensors = True\n",
    "# UKFNode.inputs.recordFreeWater = True\n",
    "# UKFNode.inputs.recordFA = True\n",
    "# UKFNode.inputs.recordTrace = True\n",
    "# UKFNode.inputs.dwiFile = '/raid0/homes/aghayoor/Desktop/invicro_eyeTrackingMR/workflow_output/Outputs/CorrectedDWI_in_T2Space.nrrd'\n",
    "# UKFNode.inputs.maskFile = '/raid0/homes/aghayoor/Desktop/invicro_eyeTrackingMR/workflow_output/Outputs/CorrectedDWI_in_T2Space_Mask.nrrd'\n",
    "# UKFNode.inputs.seedsPerVoxel = 2\n",
    "# UKFNode.run()"
   ]
  },
  {
   "cell_type": "code",
   "execution_count": 34,
   "metadata": {
    "collapsed": false
   },
   "outputs": [
    {
     "data": {
      "text/plain": [
       "<nipype.interfaces.base.InterfaceResult at 0x1251357d0>"
      ]
     },
     "execution_count": 34,
     "metadata": {},
     "output_type": "execute_result"
    }
   ],
   "source": [
    "# Run UKF Processing\n",
    "UKFNode = UKFTractography()\n",
    "UKFNode.inputs.tracts = \"/raid0/homes/aghayoor/Desktop/invicro_eyeTrackingMR/workflow_output/Outputs/ukfTracts_brainStem.vtp\"\n",
    "UKFNode.inputs.numTensor = '2'\n",
    "UKFNode.inputs.freeWater = True ## default False\n",
    "UKFNode.inputs.minFA = 0.06\n",
    "UKFNode.inputs.minGA = 0.06\n",
    "UKFNode.inputs.seedFALimit = 0.06\n",
    "UKFNode.inputs.Ql = 70\n",
    "UKFNode.inputs.recordLength = 2\n",
    "UKFNode.inputs.recordTensors = True\n",
    "UKFNode.inputs.recordFreeWater = True\n",
    "UKFNode.inputs.recordFA = True\n",
    "UKFNode.inputs.recordTrace = True\n",
    "UKFNode.inputs.dwiFile = '/raid0/homes/aghayoor/Desktop/invicro_eyeTrackingMR/workflow_output/Outputs/CorrectedDWI_in_T2Space.nrrd'\n",
    "UKFNode.inputs.maskFile = '/raid0/homes/aghayoor/Desktop/invicro_eyeTrackingMR/brainStem_label.nrrd'\n",
    "UKFNode.inputs.seedsPerVoxel = 2\n",
    "UKFNode.run()"
   ]
  },
  {
   "cell_type": "code",
   "execution_count": null,
   "metadata": {
    "collapsed": true
   },
   "outputs": [],
   "source": []
  },
  {
   "cell_type": "code",
   "execution_count": 36,
   "metadata": {
    "collapsed": false
   },
   "outputs": [],
   "source": [
    "t13d = sitk.ReadImage('/raid0/homes/aghayoor/Desktop/invicro_eyeTrackingMR/ANON0FEFVB1Q0/structure_aligned/ANON0FEFVB1Q0_t13D_aligned.mhd')\n",
    "flair = sitk.ReadImage('/raid0/homes/aghayoor/Desktop/invicro_eyeTrackingMR/ANON0FEFVB1Q0/structure_aligned/ANON0FEFVB1Q0_flair_aligned.mhd')"
   ]
  },
  {
   "cell_type": "code",
   "execution_count": 37,
   "metadata": {
    "collapsed": true
   },
   "outputs": [],
   "source": [
    "t13d.SetOrigin(flair.GetOrigin())"
   ]
  },
  {
   "cell_type": "code",
   "execution_count": 38,
   "metadata": {
    "collapsed": true
   },
   "outputs": [],
   "source": [
    "sitk.WriteImage(t13d,'/raid0/homes/aghayoor/Desktop/invicro_eyeTrackingMR/ANON0FEFVB1Q0/structure_aligned/ANON0FEFVB1Q0_t13D_aligned.mhd')"
   ]
  },
  {
   "cell_type": "code",
   "execution_count": 39,
   "metadata": {
    "collapsed": true
   },
   "outputs": [],
   "source": [
    "template = sitk.ReadImage('/raid0/homes/aghayoor/Desktop/invicro_eyeTrackingMR/t1t2/ANONM80FVB14I_T13D_aligned.mhd')"
   ]
  },
  {
   "cell_type": "code",
   "execution_count": 40,
   "metadata": {
    "collapsed": true
   },
   "outputs": [],
   "source": [
    "template.SetOrigin(flair.GetOrigin())"
   ]
  },
  {
   "cell_type": "code",
   "execution_count": 41,
   "metadata": {
    "collapsed": true
   },
   "outputs": [],
   "source": [
    "sitk.WriteImage(template,'/raid0/homes/aghayoor/Desktop/invicro_eyeTrackingMR/ANON0FEFVB1Q0/structure_aligned/template.mhd')"
   ]
  },
  {
   "cell_type": "code",
   "execution_count": null,
   "metadata": {
    "collapsed": true
   },
   "outputs": [],
   "source": []
  },
  {
   "cell_type": "code",
   "execution_count": null,
   "metadata": {
    "collapsed": true
   },
   "outputs": [],
   "source": []
  },
  {
   "cell_type": "code",
   "execution_count": null,
   "metadata": {
    "collapsed": true
   },
   "outputs": [],
   "source": []
  },
  {
   "cell_type": "code",
   "execution_count": null,
   "metadata": {
    "collapsed": true
   },
   "outputs": [],
   "source": []
  }
 ],
 "metadata": {
  "kernelspec": {
   "display_name": "Python 2",
   "language": "python",
   "name": "python2"
  },
  "language_info": {
   "codemirror_mode": {
    "name": "ipython",
    "version": 2
   },
   "file_extension": ".py",
   "mimetype": "text/x-python",
   "name": "python",
   "nbconvert_exporter": "python",
   "pygments_lexer": "ipython2",
   "version": "2.7.11"
  }
 },
 "nbformat": 4,
 "nbformat_minor": 0
}
