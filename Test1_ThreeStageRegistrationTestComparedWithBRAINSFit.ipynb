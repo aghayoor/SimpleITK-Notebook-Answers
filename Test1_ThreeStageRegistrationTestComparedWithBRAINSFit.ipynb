{
 "metadata": {
  "name": ""
 },
 "nbformat": 3,
 "nbformat_minor": 0,
 "worksheets": [
  {
   "cells": [
    {
     "cell_type": "markdown",
     "metadata": {},
     "source": [
      "This test runs 3 registration stages in one full resolution level. Transforms used in each stage are as follows:\n",
      "\n",
      "Stage1: VersorRigid3DTransform\n",
      "\n",
      "Stage2: ScaleVersor3DTransform\n",
      "\n",
      "Stage3: AffineTransform\n",
      "\n",
      "We evaluate the results of the current registration process based on the results of BRIANSFit program that is run\n",
      "with a consistent command set.\n",
      "BRIANSFit is a 3D registration tool included in BRAINSTools.\n",
      "Get BRAINSTools from:  https://github.com/BRAINSia/BRAINSTools"
     ]
    },
    {
     "cell_type": "code",
     "collapsed": false,
     "input": [
      "## Boiler plate code common to many notebooks.  See the TestFilesCommonCode.ipynb for details\n",
      "from __future__ import print_function\n",
      "%run TestFilesCommonCode.ipynb"
     ],
     "language": "python",
     "metadata": {},
     "outputs": [],
     "prompt_number": null
    },
    {
     "cell_type": "code",
     "collapsed": false,
     "input": [
      "######## WARNING:\n",
      "# You will need to replace the following path with your local BRAINSFit path.\n",
      "BRIANSToolsPath=\"/Users/aghayoor/WorkSpace/BS/release/bin\"\n",
      "BRAINSFitPath=os.path.join(BRIANSToolsPath,\"BRAINSFit\")\n",
      "if not os.path.isfile(BRAINSFitPath):\n",
      "    print(\"ERROR: This script requires that BRAINSFit can be found\")\n",
      "    print(\"{0} does not exists\".format(BRAINSFitPath))"
     ],
     "language": "python",
     "metadata": {},
     "outputs": [],
     "prompt_number": null
    },
    {
     "cell_type": "code",
     "collapsed": false,
     "input": [
      "fixedImageFilename = fdata('BRAINSTools/test.nii.gz')\n",
      "movingImageFilename = fdata('BRAINSTools/rotation.rescale.rigid.nii.gz')\n",
      "fixed = sitk.ReadImage(fixedImageFilename,sitk.sitkFloat32)\n",
      "moving = sitk.ReadImage(movingImageFilename, sitk.sitkFloat32)\n",
      "\n",
      "myshow3d(fixed, xslices=[], yslices=[], zslices=[], title=\"fixed\")\n",
      "myshow3d(moving, xslices=[], yslices=[], zslices=[], title=\"moving\")"
     ],
     "language": "python",
     "metadata": {},
     "outputs": [],
     "prompt_number": null
    },
    {
     "cell_type": "code",
     "collapsed": false,
     "input": [
      "cshow3d(fixed,moving)"
     ],
     "language": "python",
     "metadata": {},
     "outputs": [],
     "prompt_number": null
    },
    {
     "cell_type": "code",
     "collapsed": false,
     "input": [
      "BFitOut=os.path.realpath('BFitOut.nii.gz')\n",
      "# RUN THE BRAINSFIT FIRST ######################\n",
      "!{BRAINSFitPath} \\\n",
      "--costMetric MMI \\\n",
      "--numberOfIterations 250,250,250 \\\n",
      "--numberOfHistogramBins 200 \\\n",
      "--samplingPercentage 0.5 \\\n",
      "--translationScale 250 \\\n",
      "--maximumStepLength 0.5 \\\n",
      "--minimumStepLength 0.01,0.003,0.001 \\\n",
      "--outputVolumePixelType float \\\n",
      "--initializeTransformMode useMomentsAlign \\\n",
      "--transformType Rigid,ScaleVersor3D,Affine \\\n",
      "--fixedVolume {fixedImageFilename} \\\n",
      "--movingVolume {movingImageFilename} \\\n",
      "--outputVolume {BFitOut}"
     ],
     "language": "python",
     "metadata": {},
     "outputs": [],
     "prompt_number": null
    },
    {
     "cell_type": "code",
     "collapsed": false,
     "input": [
      "outputBFit = sitk.ReadImage(BFitOut,sitk.sitkFloat32)\n",
      "myshow3d(outputBFit, xslices=[], yslices=[], zslices=[], title=\"OutputVolume of BRANSFit\")"
     ],
     "language": "python",
     "metadata": {},
     "outputs": [],
     "prompt_number": null
    },
    {
     "cell_type": "code",
     "collapsed": false,
     "input": [
      "# First transform is passed through an initializer\n",
      "tx1 = sitk.CenteredVersorTransformInitializer(fixed, moving, sitk.VersorRigid3DTransform())"
     ],
     "language": "python",
     "metadata": {},
     "outputs": [],
     "prompt_number": null
    },
    {
     "cell_type": "code",
     "collapsed": false,
     "input": [
      "ctx = sitk.Transform(tx1) # Set composite transform\n",
      "                          # This composite transform is update at each stage\n",
      "                          # and finally will be considered as the output of \n",
      "                          # the registration process since the InPlace is TRUE.\n",
      "ctx.SetFixedParameters(ctx.GetFixedParameters()) # hack to force deep copy, as registion is done in place..\n",
      "# Set the registration filter\n",
      "R = sitk.ImageRegistrationMethod()\n",
      "R.SetMetricAsMattesMutualInformation( 200 )\n",
      "R.SetOptimizerAsRegularStepGradientDescent(learningRate =0.5,\n",
      "                                           minStep=1e-2,\n",
      "                                           numberOfIterations=250,\n",
      "                                           gradientMagnitudeTolerance=1e-4,\n",
      "                                           estimateLearningRate=R.Never)\n",
      "R.SetOptimizerScales([1, 1, 1, 1.0/250, 1.0/250, 1.0/250])\n",
      "R.SetShrinkFactorsPerLevel([1])\n",
      "R.SetSmoothingSigmasPerLevel([0])\n",
      "R.SetInitialTransform(ctx)\n",
      "R.SetInterpolator(sitk.sitkLinear)\n",
      "R.SetMetricSamplingPercentage(0.5)\n",
      "R.SetMetricSamplingStrategy(R.RANDOM)"
     ],
     "language": "python",
     "metadata": {},
     "outputs": [],
     "prompt_number": null
    },
    {
     "cell_type": "code",
     "collapsed": false,
     "input": [
      "R.RemoveAllCommands()\n",
      "R.AddCommand( sitk.sitkIterationEvent, lambda: command_iteration(R) )\n",
      "outTx = R.Execute(sitk.Cast(fixed,sitk.sitkFloat32), sitk.Cast(moving,sitk.sitkFloat32))\n",
      "\n",
      "print(\"-------\")\n",
      "print(outTx)\n",
      "print(\"Optimizer stop condition: {0}\".format(R.GetOptimizerStopConditionDescription()))\n",
      "print(\" Iteration: {0}\".format(R.GetOptimizerIteration()))\n",
      "print(\" Metric value: {0}\".format(R.GetMetricValue()))"
     ],
     "language": "python",
     "metadata": {},
     "outputs": [],
     "prompt_number": null
    },
    {
     "cell_type": "code",
     "collapsed": false,
     "input": [
      "cshow3d(fixed,moving,ctx)"
     ],
     "language": "python",
     "metadata": {},
     "outputs": [],
     "prompt_number": null
    },
    {
     "cell_type": "code",
     "collapsed": false,
     "input": [
      "# Set the second stage transform\n",
      "tx2 = sitk.ScaleVersor3DTransform()\n",
      "# Fixed parameters of the next transform are taken from the last transform.\n",
      "tx2.SetFixedParameters(tx1.GetFixedParameters())"
     ],
     "language": "python",
     "metadata": {},
     "outputs": [],
     "prompt_number": null
    },
    {
     "cell_type": "code",
     "collapsed": false,
     "input": [
      "ctx.AddTransform(tx2) # Update the composite transform\n",
      "ctx.SetFixedParameters(ctx.GetFixedParameters())\n",
      "R.SetInitialTransform(ctx)\n",
      "R.SetOptimizerAsRegularStepGradientDescent(learningRate =0.5,\n",
      "                                           minStep=3e-3,\n",
      "                                           numberOfIterations=250,\n",
      "                                           gradientMagnitudeTolerance=1e-4,\n",
      "                                           estimateLearningRate=R.Never)\n",
      "R.SetOptimizerScales([1, 1, 1, 1.0/250, 1.0/250, 1.0/250, 1.0/25, 1.0/25, 1.0/25])\n",
      "\n",
      "scaleTxOut = R.Execute(fixed,moving)\n",
      "print(\"-------\")\n",
      "print(scaleTxOut)\n",
      "print(\"Optimizer stop condition: {0}\".format(R.GetOptimizerStopConditionDescription()))\n",
      "print(\" Iteration: {0}\".format(R.GetOptimizerIteration()))\n",
      "print(\" Metric value: {0}\".format(R.GetMetricValue()))"
     ],
     "language": "python",
     "metadata": {},
     "outputs": [],
     "prompt_number": null
    },
    {
     "cell_type": "code",
     "collapsed": false,
     "input": [
      "cshow3d(fixed,moving,ctx)"
     ],
     "language": "python",
     "metadata": {},
     "outputs": [],
     "prompt_number": null
    },
    {
     "cell_type": "code",
     "collapsed": false,
     "input": [
      "# Set the third stage\n",
      "tx3 = sitk.AffineTransform(fixed.GetDimension())\n",
      "tx3.SetFixedParameters(tx2.GetFixedParameters())"
     ],
     "language": "python",
     "metadata": {},
     "outputs": [],
     "prompt_number": null
    },
    {
     "cell_type": "code",
     "collapsed": false,
     "input": [
      "ctx.AddTransform(tx3) # Update the composite transform\n",
      "ctx.SetFixedParameters(ctx.GetFixedParameters())\n",
      "R.SetInitialTransform(ctx)\n",
      "# Set a new optimizer\n",
      "R.SetOptimizerAsConjugateGradientLineSearch(learningRate=1.0,\n",
      "                                            numberOfIterations=250,\n",
      "                                            convergenceMinimumValue=1e-6,\n",
      "                                            convergenceWindowSize=10,\n",
      "                                            lineSearchLowerLimit=0,\n",
      "                                            lineSearchUpperLimit=2,\n",
      "                                            lineSearchEpsilon=0.2,\n",
      "                                            lineSearchMaximumIterations=20,\n",
      "                                            estimateLearningRate=R.EachIteration,\n",
      "                                            maximumStepSizeInPhysicalUnits=1.0)\n",
      "R.SetOptimizerScalesFromPhysicalShift()\n",
      "affineOut = R.Execute(fixed,moving)\n",
      "print(\"-------\")\n",
      "print(affineOut)\n",
      "print(\"Optimizer stop condition: {0}\".format(R.GetOptimizerStopConditionDescription()))\n",
      "print(\" Iteration: {0}\".format(R.GetOptimizerIteration()))\n",
      "print(\" Metric value: {0}\".format(R.GetMetricValue()))"
     ],
     "language": "python",
     "metadata": {},
     "outputs": [],
     "prompt_number": null
    },
    {
     "cell_type": "code",
     "collapsed": false,
     "input": [
      "cshow3d(fixed,moving,ctx)"
     ],
     "language": "python",
     "metadata": {},
     "outputs": [],
     "prompt_number": null
    },
    {
     "cell_type": "code",
     "collapsed": false,
     "input": [
      "compare_with_baseline(fixed,moving,outputBFit,transform=ctx,numberOfPixelsTolerance=100,radiusTolerance=0,intensityTolerance=9)"
     ],
     "language": "python",
     "metadata": {},
     "outputs": [],
     "prompt_number": null
    }
   ],
   "metadata": {}
  }
 ]
}