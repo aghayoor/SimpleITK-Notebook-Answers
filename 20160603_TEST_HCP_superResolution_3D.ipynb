{
 "cells": [
  {
   "cell_type": "code",
   "execution_count": 28,
   "metadata": {
    "collapsed": false
   },
   "outputs": [
    {
     "name": "stdout",
     "output_type": "stream",
     "text": [
      "SimpleITK Version: 0.9.1\n",
      "Compiled: Sep 28 2015 10:07:41\n",
      "\n"
     ]
    }
   ],
   "source": [
    "## Boiler plate code common to many notebooks.  See the TestFilesCommonCode.ipynb for details\n",
    "from __future__ import print_function\n",
    "%run TestFilesCommonCode.ipynb"
   ]
  },
  {
   "cell_type": "code",
   "execution_count": 98,
   "metadata": {
    "collapsed": true
   },
   "outputs": [],
   "source": [
    "input_hcp_dwi='/scratch/TESTS/fix_HCP_dwi/input_sample/100307/nrrd/data_corrected.nrrd'\n",
    "input_hcp_t1='/scratch/TESTS/fix_HCP_dwi/input_sample/100307/T1w_acpc_dc_restore_1.25.nii.gz'\n",
    "input_hcp_brainmask='/scratch/TESTS/fix_HCP_dwi/input_sample/100307/nrrd/nodif_brain_mask.nrrd'\n",
    "\n",
    "OutputDir='/scratch/TESTS/superResolution/HCP/outImageFiles'\n",
    "MatlabFilesDir='/scratch/TESTS/superResolution/HCP/matlabFiles'"
   ]
  },
  {
   "cell_type": "code",
   "execution_count": 30,
   "metadata": {
    "collapsed": true
   },
   "outputs": [],
   "source": [
    "import os\n",
    "import glob\n",
    "import sys\n",
    "\n",
    "#\\/\\/\\/\\/\\/\\/\\/\\/\\/\\/\\/\\/\\/\\/\\/\\/\\/\\/\\/\\/\\/\\/\\/\\/\\/\\/\\/\\/\\/\\/\\/\\/\\/\\/\\/\\/\\/\\/\\/\\/\\/\\/\\/\n",
    "#####################################################################################\n",
    "#     Prepend the shell environment search paths\n",
    "#PROGRAM_PATHS = '/scratch/NAMICExternalProjects/release_20150715/bin'\n",
    "PROGRAM_PATHS = '/scratch/BS/release-BSR/bin'\n",
    "PROGRAM_PATHS = PROGRAM_PATHS.split(':')\n",
    "PROGRAM_PATHS.extend(os.environ['PATH'].split(':'))\n",
    "os.environ['PATH'] = ':'.join(PROGRAM_PATHS)\n",
    "\n",
    "CUSTOM_ENVIRONMENT=dict()\n",
    "\n",
    "# Platform specific information\n",
    "#     Prepend the python search paths\n",
    "PYTHON_AUX_PATHS = '/scratch/BS/BRAINSTools/AutoWorkup'\n",
    "PYTHON_AUX_PATHS = PYTHON_AUX_PATHS.split(':')\n",
    "PYTHON_AUX_PATHS.extend(sys.path)\n",
    "sys.path = PYTHON_AUX_PATHS\n",
    "\n",
    "import SimpleITK as sitk\n",
    "import nipype\n",
    "from nipype.interfaces.base import CommandLine, CommandLineInputSpec, TraitedSpec, File, Directory\n",
    "from nipype.interfaces.base import traits, isdefined, BaseInterface\n",
    "from nipype.interfaces.utility import Merge, Split, Function, Rename, IdentityInterface\n",
    "import nipype.interfaces.io as nio   # Data i/oS\n",
    "import nipype.pipeline.engine as pe  # pypeline engine\n",
    "from nipype.interfaces.freesurfer import ReconAll\n",
    "from nipype.interfaces.ants import DenoiseImage\n",
    "from nipype.interfaces.semtools import *"
   ]
  },
  {
   "cell_type": "code",
   "execution_count": 31,
   "metadata": {
    "collapsed": true
   },
   "outputs": [],
   "source": [
    "# \n",
    "# READ input DWI scan using pynrrd\n",
    "#\n",
    "import nrrd\n",
    "\n",
    "class nrrdDWIHeader:\n",
    "    \"\"\"A helper class for manipulating header information\n",
    "    from a nrrd DWI data set into a nibabel compliant\n",
    "    format\"\"\"\n",
    "    def __init__(self,pynrrdDataModel):\n",
    "        self.modality=None                      #Matches NRRD File\n",
    "        self.global_BValue=None                 #Matches NRRD File\n",
    "        self.gradientUnormalizedVectors=[None]  #Matches NRRD File\n",
    "\n",
    "        self.gradientIndex=-1\n",
    "        self.gradientBValues=[None]             #Computed\n",
    "        self.gradientVectors=[None]             #Computed\n",
    "        self._ConvertNrrdToNibabelDWIDataModel(pynrrdDataModel)\n",
    "\n",
    "    def Print(self):\n",
    "        print(\"global_BValue {0}\".format(self.global_BValue) )\n",
    "        print(\"modality {0}\".format(self.modality) )\n",
    "        print(\"gradientBValues {0}\".format(self.gradientBValues) )\n",
    "        print(\"gradientDirections {0}\".format(self.gradientUnormalizedVectors) )\n",
    "\n",
    "    def _getGradientStorageIndex(self,pynrrdDataModel):\n",
    "        \"\"\"The 4D index that has separate gradients.\n",
    "        all other directions are the spatial dimensions.\"\"\"\n",
    "        gradient_index=-1;\n",
    "        centerings=pynrrdDataModel['centerings']\n",
    "        numdwidims=len(centerings)\n",
    "        for test_index in range(0,numdwidims):\n",
    "            if centerings[test_index] not in ['cell']:\n",
    "                gradient_index=test_index\n",
    "        self.gradientIndex = gradient_index\n",
    "\n",
    "    def _ExtractGlobalBValue(self, pyNrrdKVUnknownMetaData):\n",
    "        globalBValueString=pyNrrdKVUnknownMetaData.get(u'DWMRI_b-value','0').lstrip().rstrip()\n",
    "        self.global_BValue=float( globalBValueString )\n",
    "\n",
    "    def _ExtractUnormalizedBValues(self,pyNrrdKVUnknownMetaData,pynrrdDataModel):\n",
    "        \"\"\"Unnormalized data values from the nrrd files, where the\n",
    "        magnitude is reflective of the scale relative to the global_BValue\"\"\"\n",
    "        self._getGradientStorageIndex(pynrrdDataModel)\n",
    "        numGradients = pynrrdDataModel[u'sizes'][self.gradientIndex]\n",
    "        self.gradientUnormalizedVectors= np.array( [ [ None, None, None ] for x in range(0,numGradients) ] )\n",
    "        gvec_Fields=pyNrrdKVUnknownMetaData.copy() #Clone so we can remove items\n",
    "        for k,v in gvec_Fields.iteritems():\n",
    "            if k.startswith(\"DWMRI_gradient_\"):\n",
    "                index=int(k.split('_')[2])\n",
    "                self.gradientUnormalizedVectors[index,:]=np.array([ float(x) for x in v.rstrip().lstrip().split() ],\n",
    "                                                    copy=True, order='C', ndmin=1)\n",
    "                pyNrrdKVUnknownMetaData.pop(k)\n",
    "\n",
    "\n",
    "    def _ExtractDWIModality(self,pyNrrdKVUnknownMetaData):\n",
    "        self.modality=pyNrrdKVUnknownMetaData.get(\"modality\",\"UNKNOWN\").lstrip().rstrip()\n",
    "\n",
    "    def _ComputeNormalizedBvecBVals(self,pyNrrdKVUnknownMetaData,pynrrdDataModel):\n",
    "        self._ExtractGlobalBValue(pyNrrdKVUnknownMetaData)\n",
    "        self._ExtractUnormalizedBValues(pyNrrdKVUnknownMetaData,pynrrdDataModel)\n",
    "        self._ComputeNormalizedGradientsAndBValues()\n",
    "\n",
    "    def _ComputeNormalizedGradientsAndBValues(self):\n",
    "        \"\"\"Following conventions of NRRD format, expand\n",
    "        to normalized vectors and estimate BValues\n",
    "        :return: void\n",
    "        \"\"\"\n",
    "        numGradients=len( self.gradientUnormalizedVectors )\n",
    "\n",
    "        self.gradientVectors = np.array(self.gradientUnormalizedVectors)\n",
    "        self.gradientBValues = np.array( [ self.global_BValue ] * numGradients )\n",
    "        for index in range(0,numGradients):\n",
    "            gv = self.gradientUnormalizedVectors[index]\n",
    "            norm=np.linalg.norm(gv)\n",
    "            if norm < 1e-2:\n",
    "                self.gradientVectors[index] = gv * 0.0\n",
    "                self.gradientBValues[index] = 0.0\n",
    "            elif ( abs( 1.0-norm ) > 1e-4 ): # Avoid rescaling if norm is almost one\n",
    "                self.gradientVectors[index] = gv/norm\n",
    "                b_i = self.global_BValue * (norm**2) # norm = sqrt(b_i/b_max)\n",
    "                self.gradientBValues[index] = float(\"{0:.1f}\".format(b_i))\n",
    "\n",
    "    def _ConvertNrrdToNibabelDWIDataModel(self, pynrrdDataModel):\n",
    "        pyNrrdKVUnknownMetaData=pynrrdDataModel['keyvaluepairs']\n",
    "        self._ExtractDWIModality(pyNrrdKVUnknownMetaData)\n",
    "        self._ExtractGlobalBValue(pyNrrdKVUnknownMetaData)\n",
    "        self._ComputeNormalizedBvecBVals(pyNrrdKVUnknownMetaData,pynrrdDataModel)\n",
    "\n",
    "def ReadNAMICDWIFromNrrd(filename):\n",
    "    nrrd_dwi_data,nrrd_dwi_header=nrrd.read(filename)\n",
    "    nibabelDataModelDWI=nrrdDWIHeader(nrrd_dwi_header)\n",
    "    nrrd_dwi_bvec=nibabelDataModelDWI.gradientVectors\n",
    "    nrrd_dwi_bval=nibabelDataModelDWI.gradientBValues\n",
    "    gradient_index=nibabelDataModelDWI.gradientIndex\n",
    "    return (nrrd_dwi_data, nrrd_dwi_header, nrrd_dwi_bvec, nrrd_dwi_bval, gradient_index)"
   ]
  },
  {
   "cell_type": "markdown",
   "metadata": {},
   "source": [
    "# Create edge map image from T1"
   ]
  },
  {
   "cell_type": "code",
   "execution_count": 35,
   "metadata": {
    "collapsed": false
   },
   "outputs": [
    {
     "data": {
      "image/png": "[encoded data removed]",
      "text/plain": [
       "<matplotlib.figure.Figure at 0x119624fd0>"
      ]
     },
     "metadata": {},
     "output_type": "display_data"
    },
    {
     "data": {
      "image/png": "[encoded data removed]",
      "text/plain": [
       "<matplotlib.figure.Figure at 0x1262f5850>"
      ]
     },
     "metadata": {},
     "output_type": "display_data"
    }
   ],
   "source": [
    "t1 = sitk.ReadImage(input_hcp_t1)\n",
    "myshow(t1)\n",
    "\n",
    "brainmask = sitk.ReadImage(input_hcp_brainmask)\n",
    "maskf = sitk.Cast(brainmask, sitk.sitkFloat32)\n",
    "\n",
    "t1_brain = sitk.Multiply(t1,maskf)\n",
    "myshow(t1_brain)\n",
    "sitk.WriteImage(t1_brain,os.path.join(OutputDir,'T1_brain.nrrd'))"
   ]
  },
  {
   "cell_type": "code",
   "execution_count": 36,
   "metadata": {
    "collapsed": false
   },
   "outputs": [
    {
     "name": "stdout",
     "output_type": "stream",
     "text": [
      "Reading image: /scratch/TESTS/superResolution/HCP/outImageFiles/T1_brain.nrrd\n",
      "Generating maximum gradient edgemap took 0.297486 s.\n",
      "Reading DWI image: \n",
      "ERROR:  Could not read image .\n"
     ]
    }
   ],
   "source": [
    "mgi_fn = os.path.join(OutputDir,'mgi.nrrd') # Maximum gradient image\n",
    "BRIANSToolsPath = \"/scratch/BS/release-BSR/bin\"\n",
    "\n",
    "!{BRIANSToolsPath}/BRAINSSuperResolution \\\n",
    "--inputMRVolumes {os.path.join(OutputDir,'T1_brain.nrrd')} \\\n",
    "--outputEdgeMap {mgi_fn}"
   ]
  },
  {
   "cell_type": "code",
   "execution_count": 44,
   "metadata": {
    "collapsed": false
   },
   "outputs": [
    {
     "name": "stdout",
     "output_type": "stream",
     "text": [
      "106.0\n",
      "1.0\n"
     ]
    },
    {
     "data": {
      "image/png": "[encoded data removed]",
      "text/plain": [
       "<matplotlib.figure.Figure at 0x12667dd50>"
      ]
     },
     "metadata": {},
     "output_type": "display_data"
    }
   ],
   "source": [
    "mgi = sitk.ReadImage(mgi_fn)\n",
    "\n",
    "totalStats = sitk.StatisticsImageFilter()\n",
    "totalStats.Execute(mgi)\n",
    "print(totalStats.GetMaximum())\n",
    "print(totalStats.GetMinimum())\n",
    "\n",
    "myshow(mgi)"
   ]
  },
  {
   "cell_type": "code",
   "execution_count": 45,
   "metadata": {
    "collapsed": false
   },
   "outputs": [
    {
     "name": "stdout",
     "output_type": "stream",
     "text": [
      "1.0\n",
      "0.00943396240473\n"
     ]
    },
    {
     "data": {
      "image/png": "[encoded data removed]",
      "text/plain": [
       "<matplotlib.figure.Figure at 0x1267a17d0>"
      ]
     },
     "metadata": {},
     "output_type": "display_data"
    }
   ],
   "source": [
    "# \"edgeMask\" is computed as 1/mgi\n",
    "#----------------------------------------------\n",
    "# compute 1/mgi\n",
    "mgi = sitk.Cast(mgi,sitk.sitkFloat32)\n",
    "\n",
    "div = sitk.DivideImageFilter()\n",
    "edgeMask = div.Execute(1.0,mgi)\n",
    "myshow(edgeMask)\n",
    "\n",
    "totalStats = sitk.StatisticsImageFilter()\n",
    "totalStats.Execute(edgeMask)\n",
    "print(totalStats.GetMaximum())\n",
    "print(totalStats.GetMinimum())\n",
    "\n",
    "sitk.WriteImage(edgeMask,os.path.join(OutputDir,'edgemask.nrrd'))"
   ]
  },
  {
   "cell_type": "code",
   "execution_count": 46,
   "metadata": {
    "collapsed": false
   },
   "outputs": [],
   "source": [
    "edge_arr = sitk.GetArrayFromImage(edgeMask)\n",
    "\n",
    "import scipy.io\n",
    "scipy.io.savemat(os.path.join(MatlabFilesDir,'edgemask.mat'), mdict={'edgemask': edge_arr})"
   ]
  },
  {
   "cell_type": "markdown",
   "metadata": {},
   "source": [
    "# Extract dwi_b0 image"
   ]
  },
  {
   "cell_type": "code",
   "execution_count": 99,
   "metadata": {
    "collapsed": true
   },
   "outputs": [],
   "source": [
    "dwi_data,dwi_header,bvecs,bvals,gradient_index1 = ReadNAMICDWIFromNrrd(input_hcp_dwi)"
   ]
  },
  {
   "cell_type": "code",
   "execution_count": 137,
   "metadata": {
    "collapsed": false
   },
   "outputs": [
    {
     "name": "stdout",
     "output_type": "stream",
     "text": [
      "0\n"
     ]
    }
   ],
   "source": [
    "print(gradient_index1)"
   ]
  },
  {
   "cell_type": "code",
   "execution_count": 138,
   "metadata": {
    "collapsed": false
   },
   "outputs": [
    {
     "name": "stdout",
     "output_type": "stream",
     "text": [
      "(145, 174, 145, 288)\n",
      "145\n"
     ]
    }
   ],
   "source": [
    "print(dwi_data.shape)\n",
    "print(dwi_data.shape[gradient_index1])"
   ]
  },
  {
   "cell_type": "markdown",
   "metadata": {},
   "source": [
    "Note that above data array is converted from Nifit format (itkVectorImage), so it is pixel interleaved (compared to volume interleaved), and the gradient index is the first index.\n",
    "\n",
    "However, if we had read the image directly from Nifti version using nibabel, the data shape would have volume interleaved format.\n",
    "\n",
    "img = nib.load(DWI_nifti_fn)\n",
    "\n",
    "data = img.get_data()\n",
    "\n",
    "print(data.shape)\n",
    "\n",
    "(145, 174, 145, 288)\n",
    "\n",
    "Since dipy needs the data array in volume interleaved format, we need to do permutaion on data array."
   ]
  },
  {
   "cell_type": "code",
   "execution_count": 101,
   "metadata": {
    "collapsed": false
   },
   "outputs": [
    {
     "name": "stdout",
     "output_type": "stream",
     "text": [
      "(145, 174, 145, 288)\n"
     ]
    }
   ],
   "source": [
    "dwi_data = np.transpose(dwi_data,(1, 2, 3, 0))\n",
    "print(dwi_data.shape)"
   ]
  },
  {
   "cell_type": "code",
   "execution_count": 127,
   "metadata": {
    "collapsed": false
   },
   "outputs": [
    {
     "name": "stdout",
     "output_type": "stream",
     "text": [
      "(145, 174, 145)\n"
     ]
    }
   ],
   "source": [
    "# Now extract b0 component of the 4D DWI array\n",
    "dwi_b0 = dwi_data[:,:,:,0]\n",
    "print(dwi_b0.shape)"
   ]
  },
  {
   "cell_type": "markdown",
   "metadata": {},
   "source": [
    "To convert the above numpy array to a b0 image, we need careful attention to the order of index and dimensions.\n",
    "\n",
    "ITK's Image class does not have a bracket operator. It has a GetPixel which takes an ITK Index object as an argument, which is an array ordered as (x,y,z). This is the convention that SimpleITK's Image class uses for the GetPixel method as well.\n",
    "\n",
    "While in numpy, an array is indexed in the opposite order (z,y,x)."
   ]
  },
  {
   "cell_type": "code",
   "execution_count": 128,
   "metadata": {
    "collapsed": true
   },
   "outputs": [],
   "source": [
    "dwi_b0 = np.transpose(dwi_b0,(2, 1, 0))"
   ]
  },
  {
   "cell_type": "code",
   "execution_count": 134,
   "metadata": {
    "collapsed": false
   },
   "outputs": [
    {
     "data": {
      "text/plain": [
       "'\\nprint(dwi_b0.dtype)\\nprint(dwi_b0.shape)\\nprint(np.amax(dwi_b0))\\nprint(np.amin(dwi_b0))\\nprint(np.mean(dwi_b0))\\n'"
      ]
     },
     "execution_count": 134,
     "metadata": {},
     "output_type": "execute_result"
    }
   ],
   "source": [
    "'''\n",
    "print(dwi_b0.dtype)\n",
    "print(dwi_b0.shape)\n",
    "print(np.amax(dwi_b0))\n",
    "print(np.amin(dwi_b0))\n",
    "print(np.mean(dwi_b0))\n",
    "'''"
   ]
  },
  {
   "cell_type": "code",
   "execution_count": 130,
   "metadata": {
    "collapsed": true
   },
   "outputs": [],
   "source": [
    "# Normalize array between zero and one\n",
    "def NormalizeBetweenZeroAndOne(arr):   \n",
    "    newMax = 1.0\n",
    "    newMin = 0.0\n",
    "    #\n",
    "    oldMax = float(np.amax(arr))\n",
    "    oldMin = float(np.amin(arr))\n",
    "    #\n",
    "    f=(newMax-newMin)/(oldMax-oldMin)\n",
    "    normalized_arr = (arr-oldMin)*f+newMin\n",
    "    return normalized_arr\n",
    "\n",
    "dwi_b0_normalized = NormalizeBetweenZeroAndOne(dwi_b0)"
   ]
  },
  {
   "cell_type": "code",
   "execution_count": 135,
   "metadata": {
    "collapsed": false
   },
   "outputs": [
    {
     "data": {
      "text/plain": [
       "'\\nprint(dwi_b0_normalized.dtype)\\nprint(dwi_b0_normalized.shape)\\nprint(np.amax(dwi_b0_normalized))\\nprint(np.amin(dwi_b0_normalized))\\nprint(np.mean(dwi_b0_normalized))\\n'"
      ]
     },
     "execution_count": 135,
     "metadata": {},
     "output_type": "execute_result"
    }
   ],
   "source": [
    "'''\n",
    "print(dwi_b0_normalized.dtype)\n",
    "print(dwi_b0_normalized.shape)\n",
    "print(np.amax(dwi_b0_normalized))\n",
    "print(np.amin(dwi_b0_normalized))\n",
    "print(np.mean(dwi_b0_normalized))\n",
    "'''"
   ]
  },
  {
   "cell_type": "code",
   "execution_count": 136,
   "metadata": {
    "collapsed": true
   },
   "outputs": [],
   "source": [
    "# Write the normalized array to a matlab file\n",
    "#\n",
    "scipy.io.savemat(os.path.join(MatlabFilesDir,'dwi_b0.mat'), mdict={'inputImage': dwi_b0_normalized})"
   ]
  },
  {
   "cell_type": "markdown",
   "metadata": {},
   "source": [
    "Note that if you want to write the extracted b0 image to disk, you need to get correct \"origin\", \"spacing\" and \"direction cosign\" from the input DWI data."
   ]
  },
  {
   "cell_type": "code",
   "execution_count": 118,
   "metadata": {
    "collapsed": false
   },
   "outputs": [
    {
     "data": {
      "text/plain": [
       "\"\\n# First read input DWI to get direction and origin\\nin_dwi = sitk.ReadImage(input_hcp_dwi)\\n\\ndwi_b0_img = sitk.GetImageFromArray(dwi_b0)\\ndwi_b0_img.SetOrigin(in_dwi.GetOrigin())\\ndwi_b0_img.SetDirection(in_dwi.GetDirection())\\ndwi_b0_img.SetSpacing(in_dwi.GetSpacing())\\n\\nprint(dwi_b0_img.GetSize())\\nmyshow(dwi_b0_img)\\nsitk.WriteImage(dwi_b0_img,os.path.join(OutputDir,'dwi_b0.nrrd'))\\n\""
      ]
     },
     "execution_count": 118,
     "metadata": {},
     "output_type": "execute_result"
    }
   ],
   "source": [
    "# Show b0 image\n",
    "'''\n",
    "# First read input DWI to get direction and origin\n",
    "in_dwi = sitk.ReadImage(input_hcp_dwi)\n",
    "\n",
    "dwi_b0_img = sitk.GetImageFromArray(dwi_b0)\n",
    "dwi_b0_img.SetOrigin(in_dwi.GetOrigin())\n",
    "dwi_b0_img.SetDirection(in_dwi.GetDirection())\n",
    "dwi_b0_img.SetSpacing(in_dwi.GetSpacing())\n",
    "\n",
    "print(dwi_b0_img.GetSize())\n",
    "myshow(dwi_b0_img)\n",
    "sitk.WriteImage(dwi_b0_img,os.path.join(OutputDir,'dwi_b0.nrrd'))\n",
    "'''"
   ]
  },
  {
   "cell_type": "markdown",
   "metadata": {},
   "source": [
    "Also, note that after permutation of dwi_data, now dipy can be used to create the correct tensor model for DWI data. Following runs a test and shows the FA image.\n",
    "\n",
    "This step is not needed for the purpose of this ticket; however, it will be needed when we are going to compute distance images from the HCP baseline data and the reconstructed images."
   ]
  },
  {
   "cell_type": "code",
   "execution_count": 119,
   "metadata": {
    "collapsed": false
   },
   "outputs": [
    {
     "data": {
      "text/plain": [
       "'\\nfrom dipy.core.gradients import gradient_table\\ngtab = gradient_table(bvals, bvecs)\\n\\nfrom dipy.reconst.dti import TensorModel\\nten = TensorModel(gtab)\\ntenfit = ten.fit(dwi_data)\\n'"
      ]
     },
     "execution_count": 119,
     "metadata": {},
     "output_type": "execute_result"
    }
   ],
   "source": [
    "# Compute tensorfit\n",
    "'''\n",
    "from dipy.core.gradients import gradient_table\n",
    "gtab = gradient_table(bvals, bvecs)\n",
    "\n",
    "from dipy.reconst.dti import TensorModel\n",
    "ten = TensorModel(gtab)\n",
    "tenfit = ten.fit(dwi_data)\n",
    "'''"
   ]
  },
  {
   "cell_type": "code",
   "execution_count": 120,
   "metadata": {
    "collapsed": false
   },
   "outputs": [
    {
     "data": {
      "text/plain": [
       "\"\\nfa = tenfit.fa\\nfa = np.transpose(fa,(2, 1, 0)) # the reason is inconsistency between index order in numpy and ITK\\n\\nFA = sitk.GetImageFromArray(fa)\\nFA.SetOrigin(in_dwi.GetOrigin())\\nFA.SetDirection(in_dwi.GetDirection())\\nFA.SetSpacing(in_dwi.GetSpacing())\\n\\nmaskf64 = sitk.Cast(brainmask, sitk.sitkFloat64)\\nFA = sitk.Multiply(FA,maskf64)\\n\\nmyshow(FA)\\nsitk.WriteImage(FA,os.path.join(OutputDir,'FA.nrrd'))\\n\""
      ]
     },
     "execution_count": 120,
     "metadata": {},
     "output_type": "execute_result"
    }
   ],
   "source": [
    "# Show FA image\n",
    "'''\n",
    "fa = tenfit.fa\n",
    "fa = np.transpose(fa,(2, 1, 0)) # the reason is inconsistency between index order in numpy and ITK\n",
    "\n",
    "FA = sitk.GetImageFromArray(fa)\n",
    "FA.SetOrigin(in_dwi.GetOrigin())\n",
    "FA.SetDirection(in_dwi.GetDirection())\n",
    "FA.SetSpacing(in_dwi.GetSpacing())\n",
    "\n",
    "maskf64 = sitk.Cast(brainmask, sitk.sitkFloat64)\n",
    "FA = sitk.Multiply(FA,maskf64)\n",
    "\n",
    "myshow(FA)\n",
    "sitk.WriteImage(FA,os.path.join(OutputDir,'FA.nrrd'))\n",
    "'''"
   ]
  },
  {
   "cell_type": "markdown",
   "metadata": {},
   "source": [
    "# Run 3D SuperResolution from Matlab on Each component"
   ]
  },
  {
   "cell_type": "code",
   "execution_count": null,
   "metadata": {
    "collapsed": true
   },
   "outputs": [],
   "source": []
  }
 ],
 "metadata": {
  "kernelspec": {
   "display_name": "Python 2",
   "language": "python",
   "name": "python2"
  },
  "language_info": {
   "codemirror_mode": {
    "name": "ipython",
    "version": 2
   },
   "file_extension": ".py",
   "mimetype": "text/x-python",
   "name": "python",
   "nbconvert_exporter": "python",
   "pygments_lexer": "ipython2",
   "version": "2.7.11"
  }
 },
 "nbformat": 4,
 "nbformat_minor": 0
}
