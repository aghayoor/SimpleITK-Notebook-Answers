{
 "cells": [
  {
   "cell_type": "code",
   "execution_count": 2,
   "metadata": {
    "collapsed": false
   },
   "outputs": [
    {
     "name": "stdout",
     "output_type": "stream",
     "text": [
      "SimpleITK Version: 0.9.1\n",
      "Compiled: Sep 28 2015 10:07:41\n",
      "\n"
     ]
    }
   ],
   "source": [
    "## Boiler plate code common to many notebooks.  See the TestFilesCommonCode.ipynb for details\n",
    "from __future__ import print_function\n",
    "%run TestFilesCommonCode.ipynb"
   ]
  },
  {
   "cell_type": "code",
   "execution_count": 140,
   "metadata": {
    "collapsed": true
   },
   "outputs": [],
   "source": [
    "import os\n",
    "import glob"
   ]
  },
  {
   "cell_type": "code",
   "execution_count": 141,
   "metadata": {
    "collapsed": true
   },
   "outputs": [],
   "source": [
    "#indir='/scratch/TESTS/Aim1/20151111_runBABC_on_sample3T/2_OldBABC_T1Only_UseKnn_NoPurePlugs__temp'\n",
    "indir='/scratch/TESTS/Aim1/20151111_runBABC_on_sample3T/NEWSHORTTESTS/2_OldBABC_T1Only_UseKnn_NoPurePlugs/3_like2_butMinNumSamples100'"
   ]
  },
  {
   "cell_type": "code",
   "execution_count": 154,
   "metadata": {
    "collapsed": false
   },
   "outputs": [],
   "source": [
    "level=102\n",
    "\n",
    "correctFN=\"CORRECTED_INDEX_T10_LEVEL_\"+str(level)+\".nii.gz\"\n",
    "t1 = sitk.ReadImage(os.path.join(indir,correctFN))\n",
    "\n",
    "allEM = glob.glob(indir+\"/POSTERIOR_EM_*_LEVEL_\"+str(level)+\".nii.gz\")\n",
    "allKNN = glob.glob(indir+\"/POSTERIOR_KNN_*_LEVEL_\"+str(level)+\".nii.gz\")\n",
    "allAVG = glob.glob(indir+\"/POSTERIOR_AVG_KNN_EM_*_LEVEL_\"+str(level)+\".nii.gz\")"
   ]
  },
  {
   "cell_type": "code",
   "execution_count": 155,
   "metadata": {
    "collapsed": false
   },
   "outputs": [
    {
     "name": "stdout",
     "output_type": "stream",
     "text": [
      "15\n"
     ]
    }
   ],
   "source": [
    "fg = [0,0,1,1,1,1,1,1,1,1,1,1,0,0,0]\n",
    "print(len(fg))"
   ]
  },
  {
   "cell_type": "code",
   "execution_count": 157,
   "metadata": {
    "collapsed": false
   },
   "outputs": [
    {
     "name": "stdout",
     "output_type": "stream",
     "text": [
      "1834.04833984\n"
     ]
    }
   ],
   "source": [
    "print(t1[87,148,110])"
   ]
  },
  {
   "cell_type": "code",
   "execution_count": 158,
   "metadata": {
    "collapsed": false
   },
   "outputs": [
    {
     "name": "stdout",
     "output_type": "stream",
     "text": [
      "POSTERIOR_EM_INDEX_0_AIR_LEVEL_102.nii.gz\n",
      "0.0\n",
      "POSTERIOR_EM_INDEX_10_NOTWM_LEVEL_102.nii.gz\n",
      "0.0\n",
      "POSTERIOR_EM_INDEX_11_SURFGM_LEVEL_102.nii.gz\n",
      "0.802667796612\n",
      "POSTERIOR_EM_INDEX_12_THALAMUS_LEVEL_102.nii.gz\n",
      "0.0\n",
      "POSTERIOR_EM_INDEX_13_VB_LEVEL_102.nii.gz\n",
      "0.180395677686\n",
      "POSTERIOR_EM_INDEX_14_WM_LEVEL_102.nii.gz\n",
      "0.0030459377449\n",
      "POSTERIOR_EM_INDEX_1_BASAL_LEVEL_102.nii.gz\n",
      "0.0\n",
      "POSTERIOR_EM_INDEX_2_CRBLGM_LEVEL_102.nii.gz\n",
      "0.0\n",
      "POSTERIOR_EM_INDEX_3_CRBLWM_LEVEL_102.nii.gz\n",
      "0.0\n",
      "POSTERIOR_EM_INDEX_4_CSF_LEVEL_102.nii.gz\n",
      "0.013890562579\n",
      "POSTERIOR_EM_INDEX_5_GLOBUS_LEVEL_102.nii.gz\n",
      "0.0\n",
      "POSTERIOR_EM_INDEX_6_HIPPOCAMPUS_LEVEL_102.nii.gz\n",
      "0.0\n",
      "POSTERIOR_EM_INDEX_7_NOTCSF_LEVEL_102.nii.gz\n",
      "0.0\n",
      "POSTERIOR_EM_INDEX_8_NOTGM_LEVEL_102.nii.gz\n",
      "0.0\n",
      "POSTERIOR_EM_INDEX_9_NOTVB_LEVEL_102.nii.gz\n",
      "0.0\n",
      "sum:  0.999999974621\n"
     ]
    }
   ],
   "source": [
    "sumVal=0\n",
    "emList=[]\n",
    "for fn in allEM:\n",
    "    print(os.path.basename(fn))\n",
    "    currnentP = sitk.ReadImage(fn)\n",
    "    val=currnentP[87,148,110]\n",
    "    emList.append(val)\n",
    "    print(val)\n",
    "    sumVal+=val\n",
    "print(\"sum: \",sumVal)\n",
    "#print(emList)"
   ]
  },
  {
   "cell_type": "code",
   "execution_count": 159,
   "metadata": {
    "collapsed": false
   },
   "outputs": [
    {
     "name": "stdout",
     "output_type": "stream",
     "text": [
      "POSTERIOR_KNN_INDEX_0_AIR_LEVEL_102.nii.gz\n",
      "0.0\n",
      "POSTERIOR_KNN_INDEX_10_NOTWM_LEVEL_102.nii.gz\n",
      "0.0\n",
      "POSTERIOR_KNN_INDEX_11_SURFGM_LEVEL_102.nii.gz\n",
      "0.00237151887268\n",
      "POSTERIOR_KNN_INDEX_12_THALAMUS_LEVEL_102.nii.gz\n",
      "0.0\n",
      "POSTERIOR_KNN_INDEX_13_VB_LEVEL_102.nii.gz\n",
      "0.997364938259\n",
      "POSTERIOR_KNN_INDEX_14_WM_LEVEL_102.nii.gz\n",
      "0.0\n",
      "POSTERIOR_KNN_INDEX_1_BASAL_LEVEL_102.nii.gz\n",
      "0.0\n",
      "POSTERIOR_KNN_INDEX_2_CRBLGM_LEVEL_102.nii.gz\n",
      "3.76124307877e-06\n",
      "POSTERIOR_KNN_INDEX_3_CRBLWM_LEVEL_102.nii.gz\n",
      "0.0\n",
      "POSTERIOR_KNN_INDEX_4_CSF_LEVEL_102.nii.gz\n",
      "0.000259761203779\n",
      "POSTERIOR_KNN_INDEX_5_GLOBUS_LEVEL_102.nii.gz\n",
      "0.0\n",
      "POSTERIOR_KNN_INDEX_6_HIPPOCAMPUS_LEVEL_102.nii.gz\n",
      "0.0\n",
      "POSTERIOR_KNN_INDEX_7_NOTCSF_LEVEL_102.nii.gz\n",
      "0.0\n",
      "POSTERIOR_KNN_INDEX_8_NOTGM_LEVEL_102.nii.gz\n",
      "0.0\n",
      "POSTERIOR_KNN_INDEX_9_NOTVB_LEVEL_102.nii.gz\n",
      "0.0\n",
      "sum:  0.999999979579\n"
     ]
    }
   ],
   "source": [
    "sumVal=0\n",
    "knnList=[]\n",
    "for fn in allKNN:\n",
    "    print(os.path.basename(fn))\n",
    "    currnentP = sitk.ReadImage(fn)\n",
    "    val=currnentP[87,148,110]\n",
    "    knnList.append(val)\n",
    "    print(val)\n",
    "    sumVal+=val\n",
    "print(\"sum: \",sumVal)"
   ]
  },
  {
   "cell_type": "code",
   "execution_count": 162,
   "metadata": {
    "collapsed": false
   },
   "outputs": [
    {
     "name": "stdout",
     "output_type": "stream",
     "text": [
      "[0.0, 0.0, 0.08038467393430418, 0.0, 0.10778319820196558, 0.0015183300040773871, 0.0, 1.8806144659104256e-06, 0.0, 0.006978721764967773, 0.0, 0.0, 0.0, 0.0, 0.0]\n",
      "sum:  0.19666680452\n"
     ]
    }
   ],
   "source": [
    "avgList = [(x + y)*(1-abs(x-y))/2 for x,y in zip(emList,knnList)]\n",
    "print(avgList)\n",
    "print(\"sum: \",sum(avgList))"
   ]
  },
  {
   "cell_type": "code",
   "execution_count": 132,
   "metadata": {
    "collapsed": false
   },
   "outputs": [
    {
     "name": "stdout",
     "output_type": "stream",
     "text": [
      "POSTERIOR_AVG_KNN_EM_INDEX_0_AIR_LEVEL_1.nii.gz\n",
      "0.0\n",
      "POSTERIOR_AVG_KNN_EM_INDEX_10_NOTWM_LEVEL_1.nii.gz\n",
      "0.0\n",
      "POSTERIOR_AVG_KNN_EM_INDEX_11_SURFGM_LEVEL_1.nii.gz\n",
      "0.994951307774\n",
      "POSTERIOR_AVG_KNN_EM_INDEX_12_THALAMUS_LEVEL_1.nii.gz\n",
      "0.0\n",
      "POSTERIOR_AVG_KNN_EM_INDEX_13_VB_LEVEL_1.nii.gz\n",
      "0.0050487187691\n",
      "POSTERIOR_AVG_KNN_EM_INDEX_14_WM_LEVEL_1.nii.gz\n",
      "0.0\n",
      "POSTERIOR_AVG_KNN_EM_INDEX_1_BASAL_LEVEL_1.nii.gz\n",
      "0.0\n",
      "POSTERIOR_AVG_KNN_EM_INDEX_2_CRBLGM_LEVEL_1.nii.gz\n",
      "0.0\n",
      "POSTERIOR_AVG_KNN_EM_INDEX_3_CRBLWM_LEVEL_1.nii.gz\n",
      "0.0\n",
      "POSTERIOR_AVG_KNN_EM_INDEX_4_CSF_LEVEL_1.nii.gz\n",
      "0.0\n",
      "POSTERIOR_AVG_KNN_EM_INDEX_5_GLOBUS_LEVEL_1.nii.gz\n",
      "0.0\n",
      "POSTERIOR_AVG_KNN_EM_INDEX_6_HIPPOCAMPUS_LEVEL_1.nii.gz\n",
      "0.0\n",
      "POSTERIOR_AVG_KNN_EM_INDEX_7_NOTCSF_LEVEL_1.nii.gz\n",
      "0.0\n",
      "POSTERIOR_AVG_KNN_EM_INDEX_8_NOTGM_LEVEL_1.nii.gz\n",
      "0.0\n",
      "POSTERIOR_AVG_KNN_EM_INDEX_9_NOTVB_LEVEL_1.nii.gz\n",
      "0.0\n",
      "sum:  1.00000002654\n"
     ]
    }
   ],
   "source": [
    "sumVal=0\n",
    "for fn in allAVG:\n",
    "    print(os.path.basename(fn))\n",
    "    currnentP = sitk.ReadImage(fn)\n",
    "    val=currnentP[87,148,110]\n",
    "    print(val)\n",
    "    sumVal+=val\n",
    "print(\"sum: \",sumVal)"
   ]
  },
  {
   "cell_type": "code",
   "execution_count": 10,
   "metadata": {
    "collapsed": false
   },
   "outputs": [],
   "source": [
    "vb_knn_fn=os.path.join(indir,'POSTERIOR_KNN_INDEX_13_VB_LEVEL_1.nii.gz')\n",
    "vb_em_fn=os.path.join(indir,'POSTERIOR_EM_INDEX_13_VB_LEVEL_1.nii.gz')\n",
    "vb_avg_fn=os.path.join(indir,'POSTERIOR_AVG_KNN_EM_INDEX_13_VB_LEVEL_1.nii.gz')"
   ]
  },
  {
   "cell_type": "code",
   "execution_count": 11,
   "metadata": {
    "collapsed": false
   },
   "outputs": [],
   "source": [
    "vb_knn=sitk.ReadImage(vb_knn_fn)\n",
    "vb_em=sitk.ReadImage(vb_em_fn)\n",
    "vb_avg=sitk.ReadImage(vb_avg_fn)"
   ]
  },
  {
   "cell_type": "code",
   "execution_count": 13,
   "metadata": {
    "collapsed": false
   },
   "outputs": [
    {
     "name": "stdout",
     "output_type": "stream",
     "text": [
      "0.269862920046\n",
      "0.0014153602533\n",
      "0.028289552778\n"
     ]
    }
   ],
   "source": [
    "print(vb_knn[26,72,94])\n",
    "print(vb_em[26,72,94])\n",
    "print(vb_avg[26,72,94])"
   ]
  },
  {
   "cell_type": "code",
   "execution_count": 14,
   "metadata": {
    "collapsed": true
   },
   "outputs": [],
   "source": [
    "multFilt = sitk.MultiplyImageFilter()\n",
    "multiimage = multFilt.Execute(vb_knn,vb_em)\n",
    "sqrtFilt = sitk.SqrtImageFilter()\n",
    "new_avg = sqrtFilt.Execute(multiimage)"
   ]
  },
  {
   "cell_type": "code",
   "execution_count": 15,
   "metadata": {
    "collapsed": false
   },
   "outputs": [
    {
     "name": "stdout",
     "output_type": "stream",
     "text": [
      "0.0195436235517\n"
     ]
    }
   ],
   "source": [
    "print(new_avg[26,72,94])"
   ]
  },
  {
   "cell_type": "code",
   "execution_count": 16,
   "metadata": {
    "collapsed": true
   },
   "outputs": [],
   "source": [
    "sitk.WriteImage(new_avg,'/raid0/homes/aghayoor/VB_AVG.nii.gz')"
   ]
  },
  {
   "cell_type": "code",
   "execution_count": null,
   "metadata": {
    "collapsed": true
   },
   "outputs": [],
   "source": []
  }
 ],
 "metadata": {
  "kernelspec": {
   "display_name": "Python 2",
   "language": "python",
   "name": "python2"
  },
  "language_info": {
   "codemirror_mode": {
    "name": "ipython",
    "version": 2
   },
   "file_extension": ".py",
   "mimetype": "text/x-python",
   "name": "python",
   "nbconvert_exporter": "python",
   "pygments_lexer": "ipython2",
   "version": "2.7.10"
  }
 },
 "nbformat": 4,
 "nbformat_minor": 0
}
