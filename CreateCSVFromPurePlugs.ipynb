{
 "metadata": {
  "name": "",
  "signature": "sha256:702fd422e33cc5426b9bef2cb3f8e9920aca1ba07cb89f97e5d1ccac5a9dc0a4"
 },
 "nbformat": 3,
 "nbformat_minor": 0,
 "worksheets": [
  {
   "cells": [
    {
     "cell_type": "code",
     "collapsed": false,
     "input": [
      "## Boiler plate code common to many notebooks.  See the TestFilesCommonCode.ipynb for details\n",
      "from __future__ import print_function\n",
      "%run TestFilesCommonCode.ipynb"
     ],
     "language": "python",
     "metadata": {},
     "outputs": [
      {
       "output_type": "stream",
       "stream": "stdout",
       "text": [
        "SimpleITK Version: 0.10.0.dev1-g52394\n",
        "Compiled: Jul  1 2015 18:02:46\n",
        "\n"
       ]
      }
     ],
     "prompt_number": 37
    },
    {
     "cell_type": "code",
     "collapsed": false,
     "input": [
      "INPUT_ROOT_DIR='/raid0/homes/aghayoor/Desktop/pure_plugs/inputs'\n",
      "OUTPUT_ROOT_DIR='/raid0/homes/aghayoor/Desktop/pure_plugs/outputs'\n",
      "\n",
      "T1fn = os.path.join(INPUT_ROOT_DIR,'t1_average_BRAINSABC.nii.gz')\n",
      "T2fn = os.path.join(INPUT_ROOT_DIR,'t2_average_BRAINSABC.nii.gz')\n",
      "DWIfn = os.path.join(INPUT_ROOT_DIR,'IDWI_Output.nrrd')\n",
      "DWI = sitk.ReadImage(DWIfn)\n",
      "brain_labels_fn = os.path.join(INPUT_ROOT_DIR,'complete_brainlabels_seg.nii.gz')\n",
      "pure_mask_fn = os.path.join(OUTPUT_ROOT_DIR,'pure_binary_mask_0.2_dist_ITK_444.nrrd')\n",
      "#pure_label_mask_fn = os.path.join(OUTPUT_ROOT_DIR,'pure_LABEL_mask_0.2_dist.nrrd')"
     ],
     "language": "python",
     "metadata": {},
     "outputs": [],
     "prompt_number": 38
    },
    {
     "cell_type": "code",
     "collapsed": false,
     "input": [
      "T1_raw = sitk.ReadImage(T1fn)\n",
      "T2_raw = sitk.ReadImage(T2fn)\n",
      "BRAINSLabels = sitk.ReadImage(brain_labels_fn)\n",
      "pureMask = sitk.ReadImage(pure_mask_fn)\n",
      "#pureLabelMask = sitk.ReadImage(pure_label_mask_fn)"
     ],
     "language": "python",
     "metadata": {},
     "outputs": [],
     "prompt_number": 39
    },
    {
     "cell_type": "code",
     "collapsed": false,
     "input": [
      "def NormalizeBetweenZeroAndOne(image):\n",
      "    image_double = sitk.Cast(image, sitk.sitkFloat32)\n",
      "    # new range\n",
      "    newMax=1.0\n",
      "    newMin=0\n",
      "    # Find old range\n",
      "    totalStats = sitk.StatisticsImageFilter()\n",
      "    totalStats.Execute(image_double)\n",
      "    oldMax=totalStats.GetMaximum()\n",
      "    oldMin=totalStats.GetMinimum()\n",
      "    f=(newMax-newMin)/(oldMax-oldMin)\n",
      "    Normalized_image = (image_double-oldMin)*f+newMin\n",
      "    return Normalized_image"
     ],
     "language": "python",
     "metadata": {},
     "outputs": [],
     "prompt_number": 40
    },
    {
     "cell_type": "code",
     "collapsed": false,
     "input": [
      "'''\n",
      "normFilt1 = sitk.NormalizeImageFilter()\n",
      "T13D = normFilt1.Execute(T1_raw)\n",
      "\n",
      "normFilt2 = sitk.NormalizeImageFilter()\n",
      "T23D = normFilt2.Execute(T2_raw)\n",
      "\n",
      "normFilt3 = sitk.NormalizeImageFilter()\n",
      "DWI3D = normFilt3.Execute(DWI)\n",
      "'''\n",
      "T13D = NormalizeBetweenZeroAndOne(T1_raw)\n",
      "T23D = NormalizeBetweenZeroAndOne(T2_raw)\n",
      "DWI3D = NormalizeBetweenZeroAndOne(DWI)"
     ],
     "language": "python",
     "metadata": {},
     "outputs": [],
     "prompt_number": 41
    },
    {
     "cell_type": "code",
     "collapsed": false,
     "input": [
      "t1_size = T13D.GetSize()\n",
      "print(t1_size)"
     ],
     "language": "python",
     "metadata": {},
     "outputs": [
      {
       "output_type": "stream",
       "stream": "stdout",
       "text": [
        "(176, 220, 188)\n"
       ]
      }
     ],
     "prompt_number": 42
    },
    {
     "cell_type": "code",
     "collapsed": false,
     "input": [
      "dataList=[]\n",
      "count = 0\n",
      "pureCount = 0\n",
      "for i in range(0,t1_size[0]):\n",
      "  for j in range(0,t1_size[1]):\n",
      "    for k in range(0,t1_size[2]):\n",
      "      idx=[i,j,k]\n",
      "      label_value = BRAINSLabels[idx]\n",
      "      if( label_value==1 or label_value==2):\n",
      "        count += 1\n",
      "        isWM = (label_value==1)\n",
      "        isGM = (label_value==2)\n",
      "        t1_value = T13D[idx]\n",
      "        t2_value = T23D[idx]\n",
      "        #\n",
      "        #isPure = (pureLabelMask[idx] > 0) # use the resampled map instead of original binary map\n",
      "        #\n",
      "        p = T13D.TransformIndexToPhysicalPoint(idx)\n",
      "        dwi_idx = DWI3D.TransformPhysicalPointToIndex(p)      \n",
      "        dwi_value = DWI3D[dwi_idx]\n",
      "        #\n",
      "        isPure = pureMask[dwi_idx] # use original mask\n",
      "        #\n",
      "        if(isPure):\n",
      "            pureCount += 1\n",
      "        dataList.append([p[0],p[1],p[2],t1_value,t2_value,dwi_value,int(isGM),int(isWM),int(isPure)])\n",
      "\n",
      "print(count)\n",
      "print(pureCount)"
     ],
     "language": "python",
     "metadata": {},
     "outputs": [
      {
       "output_type": "stream",
       "stream": "stdout",
       "text": [
        "933369\n",
        "301450\n"
       ]
      }
     ],
     "prompt_number": 43
    },
    {
     "cell_type": "code",
     "collapsed": false,
     "input": [
      "def writeOutputFile(filename,dataList):\n",
      "    import csv\n",
      "    with open(filename, 'w') as lf:\n",
      "        #headerdata = [['#x','y','z','T1_value','T2_value','DWI_value','GM','WM','PurePlug']]\n",
      "        wr = csv.writer(lf, delimiter=',')\n",
      "        #wr.writerows(headerdata)\n",
      "        wr.writerows(dataList)"
     ],
     "language": "python",
     "metadata": {},
     "outputs": [],
     "prompt_number": 44
    },
    {
     "cell_type": "code",
     "collapsed": false,
     "input": [
      "writeOutputFile('/raid0/homes/aghayoor/Desktop/pure_plugs/dataLists/dataList_0.2_dist_ITK_444.csv',dataList)"
     ],
     "language": "python",
     "metadata": {},
     "outputs": [],
     "prompt_number": 45
    },
    {
     "cell_type": "raw",
     "metadata": {},
     "source": [
      "For 0.001_cov\n",
      "933369\n",
      "231673"
     ]
    },
    {
     "cell_type": "raw",
     "metadata": {},
     "source": [
      "For 0.0025_cov\n",
      "933369\n",
      "374460"
     ]
    },
    {
     "cell_type": "raw",
     "metadata": {},
     "source": [
      "For 0.005_cov\n",
      "933369\n",
      "559125"
     ]
    },
    {
     "cell_type": "raw",
     "metadata": {},
     "source": [
      "For 0.1_dist\n",
      "933369\n",
      "236131"
     ]
    },
    {
     "cell_type": "raw",
     "metadata": {},
     "source": [
      "For 0.15_dist\n",
      "933369\n",
      "431314"
     ]
    },
    {
     "cell_type": "raw",
     "metadata": {},
     "source": [
      "For 0.2_dist\n",
      "933369\n",
      "620411"
     ]
    }
   ],
   "metadata": {}
  }
 ]
}