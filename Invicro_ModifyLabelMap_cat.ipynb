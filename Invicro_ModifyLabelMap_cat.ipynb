{
 "cells": [
  {
   "cell_type": "code",
   "execution_count": 2,
   "metadata": {
    "collapsed": false
   },
   "outputs": [
    {
     "name": "stdout",
     "output_type": "stream",
     "text": [
      "SimpleITK Version: 0.10.0 (ITK 4.10)\n",
      "Compiled: Jul 27 2016 12:05:49\n",
      "\n"
     ]
    },
    {
     "name": "stderr",
     "output_type": "stream",
     "text": [
      "/Volumes/G-RAID4/software/anaconda/envs/namicAnacondaEnv/lib/python2.7/site-packages/matplotlib/font_manager.py:280: UserWarning: Matplotlib is building the font cache using fc-list. This may take a moment.\n",
      "  'Matplotlib is building the font cache using fc-list. '\n",
      "/Volumes/G-RAID4/software/anaconda/envs/namicAnacondaEnv/lib/python2.7/site-packages/IPython/html.py:14: ShimWarning: The `IPython.html` package has been deprecated since IPython 4.0. You should import from `notebook` instead. `IPython.html.widgets` has moved to `ipywidgets`.\n",
      "  \"`IPython.html.widgets` has moved to `ipywidgets`.\", ShimWarning)\n"
     ]
    }
   ],
   "source": [
    "## Boiler plate code common to many notebooks.  See the TestFilesCommonCode.ipynb for details\n",
    "from __future__ import print_function\n",
    "%run TestFilesCommonCode.ipynb"
   ]
  },
  {
   "cell_type": "code",
   "execution_count": 5,
   "metadata": {
    "collapsed": false
   },
   "outputs": [
    {
     "data": {
      "image/png": "[encoded data removed]",
      "text/plain": [
       "<matplotlib.figure.Figure at 0x109f63590>"
      ]
     },
     "metadata": {},
     "output_type": "display_data"
    }
   ],
   "source": [
    "img_labels_filename = '/Volumes/G-RAID1/Ali/catptmr_fmri/input_atlas/felineAtlasFilledIncludeBoneRevised_HD_approved_01162017_bckforcotxmeasure.nii'\n",
    "img_labels = sitk.ReadImage(img_labels_filename)\n",
    "img_labels = sitk.Cast(img_labels,sitk.sitkInt16)\n",
    "myshow(sitk.LabelToRGB(img_labels))"
   ]
  },
  {
   "cell_type": "code",
   "execution_count": 6,
   "metadata": {
    "collapsed": false
   },
   "outputs": [
    {
     "data": {
      "image/png": "[encoded data removed]",
      "text/plain": [
       "<matplotlib.figure.Figure at 0x109f630d0>"
      ]
     },
     "metadata": {},
     "output_type": "display_data"
    }
   ],
   "source": [
    "exclusionLabels=((img_labels == 1) + \n",
    "                 (img_labels == 6) + \n",
    "                 (img_labels == 7) + \n",
    "                 (img_labels == 39) + \n",
    "                 (img_labels == 40) +\n",
    "                 (img_labels == 45) +\n",
    "                 (img_labels == 46) +\n",
    "                 (img_labels == 78) + \n",
    "                 (img_labels == 79) + \n",
    "                 (img_labels == 80))\n",
    "myshow(sitk.LabelToRGB(exclusionLabels))"
   ]
  },
  {
   "cell_type": "code",
   "execution_count": 10,
   "metadata": {
    "collapsed": false
   },
   "outputs": [
    {
     "data": {
      "image/png": "[encoded data removed]",
      "text/plain": [
       "<matplotlib.figure.Figure at 0x10940ed10>"
      ]
     },
     "metadata": {},
     "output_type": "display_data"
    }
   ],
   "source": [
    "important_labels=img_labels*(1-sitk.Cast(exclusionLabels,sitk.sitkInt16))\n",
    "size = important_labels.GetSize()\n",
    "#myshow(sitk.Expand(sitk.LabelToRGB(important_labels[size[0]//2,:,::-1]),[3,3,3]))\n",
    "myshow(sitk.LabelToRGB(important_labels))"
   ]
  },
  {
   "cell_type": "code",
   "execution_count": 11,
   "metadata": {
    "collapsed": true
   },
   "outputs": [],
   "source": [
    "sitk.WriteImage(important_labels,'/Volumes/G-RAID1/Ali/catptmr_fmri/input_atlas/felineAtlas_for_correlationSeed.nii')"
   ]
  },
  {
   "cell_type": "code",
   "execution_count": null,
   "metadata": {
    "collapsed": true
   },
   "outputs": [],
   "source": []
  }
 ],
 "metadata": {
  "anaconda-cloud": {},
  "kernelspec": {
   "display_name": "Python [conda env:namicAnacondaEnv]",
   "language": "python",
   "name": "conda-env-namicAnacondaEnv-py"
  },
  "language_info": {
   "codemirror_mode": {
    "name": "ipython",
    "version": 2
   },
   "file_extension": ".py",
   "mimetype": "text/x-python",
   "name": "python",
   "nbconvert_exporter": "python",
   "pygments_lexer": "ipython2",
   "version": "2.7.12"
  }
 },
 "nbformat": 4,
 "nbformat_minor": 1
}
