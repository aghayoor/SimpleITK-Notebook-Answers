{
 "cells": [
  {
   "cell_type": "code",
   "execution_count": 2,
   "metadata": {},
   "outputs": [
    {
     "ename": "ImportError",
     "evalue": "cannot import name 'ConvertAndWrite'",
     "output_type": "error",
     "traceback": [
      "\u001b[0;31m---------------------------------------------------------------------------\u001b[0m",
      "\u001b[0;31mImportError\u001b[0m                               Traceback (most recent call last)",
      "\u001b[0;32m<ipython-input-2-0358fa2b0fb2>\u001b[0m in \u001b[0;36m<module>\u001b[0;34m\u001b[0m\n\u001b[1;32m      1\u001b[0m \u001b[0;32mimport\u001b[0m \u001b[0mpandas\u001b[0m \u001b[0;32mas\u001b[0m \u001b[0mpd\u001b[0m\u001b[0;34m\u001b[0m\u001b[0m\n\u001b[1;32m      2\u001b[0m \u001b[0;32mimport\u001b[0m \u001b[0mplotting\u001b[0m \u001b[0;32mas\u001b[0m \u001b[0mplotting\u001b[0m\u001b[0;34m\u001b[0m\u001b[0m\n\u001b[0;32m----> 3\u001b[0;31m \u001b[0;32mfrom\u001b[0m \u001b[0mplotting\u001b[0m \u001b[0;32mimport\u001b[0m \u001b[0mConvertAndWrite\u001b[0m\u001b[0;34m\u001b[0m\u001b[0m\n\u001b[0m\u001b[1;32m      4\u001b[0m \u001b[0;32mfrom\u001b[0m \u001b[0mplotting\u001b[0m\u001b[0;34m.\u001b[0m\u001b[0mplotMaster\u001b[0m \u001b[0;32mimport\u001b[0m \u001b[0mplotMaster\u001b[0m\u001b[0;34m\u001b[0m\u001b[0m\n\u001b[1;32m      5\u001b[0m \u001b[0;32mimport\u001b[0m \u001b[0mnumpy\u001b[0m \u001b[0;32mas\u001b[0m \u001b[0mnpz\u001b[0m\u001b[0;34m\u001b[0m\u001b[0m\n",
      "\u001b[0;31mImportError\u001b[0m: cannot import name 'ConvertAndWrite'"
     ]
    }
   ],
   "source": [
    "import pandas as pd\n",
    "import plotting as plotting\n",
    "from plotting import ConvertAndWrite\n",
    "from plotting.plotMaster import plotMaster\n",
    "import numpy as npz\n",
    "from scipy.optimize import curve_fit\n",
    "%matplotlib inline"
   ]
  },
  {
   "cell_type": "code",
   "execution_count": null,
   "metadata": {},
   "outputs": [],
   "source": [
    "filename = '~/Desktop/water_phantom/LT_4802297_021920'\n",
    "#filename = 'LU_4802295_021920'\n",
    "odir = 'output'\n",
    "df = pd.read_csv('{}.csv'.format(filename))\n",
    "df_out = df.copy()"
   ]
  },
  {
   "cell_type": "code",
   "execution_count": null,
   "metadata": {},
   "outputs": [],
   "source": [
    "settings = {\n",
    "    'plotBoxOff': 1,\n",
    "    'useLogXAxis': 0,\n",
    "    'useLogYAxis': 0,\n",
    "    'doSvg': 1,\n",
    "    'textLocation': [0.008, 0.97],\n",
    "    'xlabel': 'Echo Time',\n",
    "    'ylim': [None, None],\n",
    "    'title': '',\n",
    "    'ylabel': 'Signal',\n",
    "    #'xticks': np.array([  4.,  24.,  48.,  96., 168.]),\n",
    "    #'xticklabels': ['4', '24', '48', '96', '168'],\n",
    "    'rotate': 0,\n",
    "    'alpha': [1, 1,1,1],\n",
    "    'linestyle': ['','','-','-'],\n",
    "    'marker': ['o','o','',''],\n",
    "    'text': '',\n",
    "    'basename': 'tmp'\n",
    "\n",
    "}\n",
    "legend = {'names': ['In Phase','Out Phase','In Fit','Out Fit'],\n",
    "         'location': 1,\n",
    "         'bb': (1, 1),\n",
    "         'columns': 1,\n",
    "         'fontsize': 16}"
   ]
  },
  {
   "cell_type": "code",
   "execution_count": null,
   "metadata": {},
   "outputs": [],
   "source": [
    "def oneExpC(t,a,b,c):\n",
    "    return a*np.exp(-(1/b)*t)+c\n",
    "def oneExp(t,a,b):\n",
    "    return a*np.exp(-(1/b)*t)"
   ]
  },
  {
   "cell_type": "code",
   "execution_count": null,
   "metadata": {},
   "outputs": [],
   "source": [
    "in_phase = np.array([(x[1]['Echo Time'],x[1]['Water Mean']) for x in df[df['Type'] == 'inphase'].iterrows()],dtype=[('Time','f4'),('Value','f4')])\n",
    "out_phase = np.array([(x[1]['Echo Time'],x[1]['Water Mean']) for x in df[df['Type'] == 'outphase'].iterrows()],dtype=[('Time','f4'),('Value','f4')])"
   ]
  },
  {
   "cell_type": "code",
   "execution_count": null,
   "metadata": {},
   "outputs": [],
   "source": [
    "in_fit = curve_fit(oneExpC,in_phase[\"Time\"],in_phase['Value'],bounds=([0,0,0],[np.inf,np.inf,np.inf]))\n",
    "out_fit = curve_fit(oneExpC,out_phase[\"Time\"],out_phase['Value'],bounds=([0,0,0],[np.inf,np.inf,np.inf]))\n",
    "in_fit = curve_fit(oneExp,in_phase[\"Time\"],in_phase['Value'],bounds=([0,0],[np.inf,np.inf]))\n",
    "out_fit = curve_fit(oneExp,out_phase[\"Time\"],out_phase['Value'],bounds=([0,0],[np.inf,np.inf]))"
   ]
  },
  {
   "cell_type": "code",
   "execution_count": null,
   "metadata": {},
   "outputs": [],
   "source": [
    "in_phaseI = np.linspace(in_phase['Time'][0],in_phase['Time'][-1])\n",
    "out_phaseI = np.linspace(out_phase['Time'][0],out_phase['Time'][-1])\n",
    "fin_phase = oneExp(in_phaseI,in_fit[0][0],in_fit[0][1])\n",
    "fout_phase = oneExp(out_phaseI,out_fit[0][0],out_fit[0][1])"
   ]
  },
  {
   "cell_type": "code",
   "execution_count": null,
   "metadata": {},
   "outputs": [],
   "source": [
    "fac = in_fit[0][0]/out_fit[0][0]\n",
    "fac = np.mean(oneExp(out_phase['Time'],*in_fit[0])/out_phase['Value'])\n",
    "idx = df_out['Type'] == 'outphase'\n",
    "for organ in ['Kidneys','Liver','Spleen','Water']:\n",
    "    df_out.loc[idx,'{} Mean'.format(organ)] = df_out.loc[idx,'{} Mean'.format(organ)].map(lambda x: x * fac)\n",
    "df_out.to_csv('{}/{}-corected.csv'.format(odir,filename))"
   ]
  },
  {
   "cell_type": "code",
   "execution_count": null,
   "metadata": {},
   "outputs": [],
   "source": [
    "settings['basename'] = '{}/{}-raw'.format(odir,filename)\n",
    "fig,ax,leg = plotMaster([in_phase['Time'],out_phase['Time'],in_phaseI,out_phaseI],\n",
    "                         [in_phase['Value'],out_phase['Value'],fin_phase,fout_phase],\n",
    "                       [],[],\n",
    "                       plot_settings=settings,\n",
    "                       plot_type='plot',\n",
    "                       legend=legend)\n",
    "ConvertAndWrite(settings,fig)"
   ]
  },
  {
   "cell_type": "code",
   "execution_count": null,
   "metadata": {},
   "outputs": [],
   "source": [
    "settings['basename'] = '{}/{}-corr'.format(odir,filename)\n",
    "fig,ax,leg = plotMaster([in_phase['Time'],out_phase['Time'],in_phaseI,out_phaseI],\n",
    "                         [in_phase['Value'],out_phase['Value']*fac,fin_phase,fout_phase*fac],\n",
    "                       [],[],\n",
    "                       plot_settings=settings,\n",
    "                       plot_type='plot',\n",
    "                       legend=legend)\n",
    "ConvertAndWrite(settings,fig)"
   ]
  },
  {
   "cell_type": "code",
   "execution_count": null,
   "metadata": {},
   "outputs": [],
   "source": [
    "fac"
   ]
  },
  {
   "cell_type": "code",
   "execution_count": null,
   "metadata": {},
   "outputs": [],
   "source": [
    "df"
   ]
  },
  {
   "cell_type": "code",
   "execution_count": null,
   "metadata": {},
   "outputs": [],
   "source": [
    "df_out"
   ]
  },
  {
   "cell_type": "code",
   "execution_count": null,
   "metadata": {},
   "outputs": [],
   "source": []
  },
  {
   "cell_type": "code",
   "execution_count": null,
   "metadata": {},
   "outputs": [],
   "source": [
    "758*1.06"
   ]
  },
  {
   "cell_type": "code",
   "execution_count": null,
   "metadata": {},
   "outputs": [],
   "source": []
  },
  {
   "cell_type": "code",
   "execution_count": null,
   "metadata": {},
   "outputs": [],
   "source": []
  }
 ],
 "metadata": {
  "kernelspec": {
   "display_name": "Python 3",
   "language": "python",
   "name": "python3"
  },
  "language_info": {
   "codemirror_mode": {
    "name": "ipython",
    "version": 3
   },
   "file_extension": ".py",
   "mimetype": "text/x-python",
   "name": "python",
   "nbconvert_exporter": "python",
   "pygments_lexer": "ipython3",
   "version": "3.6.6"
  }
 },
 "nbformat": 4,
 "nbformat_minor": 4
}
