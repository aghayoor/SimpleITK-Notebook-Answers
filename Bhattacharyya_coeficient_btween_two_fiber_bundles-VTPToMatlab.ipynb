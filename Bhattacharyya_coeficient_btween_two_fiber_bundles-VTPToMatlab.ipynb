{
 "cells": [
  {
   "cell_type": "code",
   "execution_count": 1,
   "metadata": {
    "collapsed": false
   },
   "outputs": [
    {
     "name": "stdout",
     "output_type": "stream",
     "text": [
      "SimpleITK Version: 0.9.1\n",
      "Compiled: Sep 28 2015 10:07:41\n",
      "\n"
     ]
    }
   ],
   "source": [
    "## Boiler plate code common to many notebooks.  See the TestFilesCommonCode.ipynb for details\n",
    "from __future__ import print_function\n",
    "%run TestFilesCommonCode.ipynb"
   ]
  },
  {
   "cell_type": "code",
   "execution_count": 2,
   "metadata": {
    "collapsed": false
   },
   "outputs": [],
   "source": [
    "import os\n",
    "import glob\n",
    "import sys\n",
    "\n",
    "#\\/\\/\\/\\/\\/\\/\\/\\/\\/\\/\\/\\/\\/\\/\\/\\/\\/\\/\\/\\/\\/\\/\\/\\/\\/\\/\\/\\/\\/\\/\\/\\/\\/\\/\\/\\/\\/\\/\\/\\/\\/\\/\\/\n",
    "#####################################################################################\n",
    "#     Prepend the shell environment search paths\n",
    "PROGRAM_PATHS = '/scratch/NAMICExternalProjects/release-20160523/bin'\n",
    "#PROGRAM_PATHS = '/scratch/BS/release-BSR/bin'\n",
    "PROGRAM_PATHS = PROGRAM_PATHS.split(':')\n",
    "PROGRAM_PATHS.extend(os.environ['PATH'].split(':'))\n",
    "os.environ['PATH'] = ':'.join(PROGRAM_PATHS)\n",
    "\n",
    "CUSTOM_ENVIRONMENT=dict()\n",
    "\n",
    "# Platform specific information\n",
    "#     Prepend the python search paths\n",
    "#PYTHON_AUX_PATHS = '/scratch/BS/BRAINSTools/AutoWorkup'\n",
    "PYTHON_AUX_PATHS = '/scratch/SuperResolution/BRAINSSuperResolution/HCPWorkflows/'\n",
    "PYTHON_AUX_PATHS = PYTHON_AUX_PATHS.split(':')\n",
    "PYTHON_AUX_PATHS.extend(sys.path)\n",
    "sys.path = PYTHON_AUX_PATHS\n",
    "\n",
    "import SimpleITK as sitk\n",
    "import nipype\n",
    "from nipype.interfaces.base import CommandLine, CommandLineInputSpec, TraitedSpec, File, Directory\n",
    "from nipype.interfaces.base import traits, isdefined, BaseInterface\n",
    "from nipype.interfaces.utility import Merge, Split, Function, Rename, IdentityInterface\n",
    "import nipype.interfaces.io as nio   # Data i/oS\n",
    "import nipype.pipeline.engine as pe  # pypeline engine\n",
    "from nipype.interfaces.freesurfer import ReconAll\n",
    "from nipype.interfaces.ants import DenoiseImage\n",
    "from nipype.interfaces.semtools import *\n",
    "\n",
    "PYTHON_AUX_PATHS = '/scratch/wmql/tract_querier/tract_querier/'\n",
    "PYTHON_AUX_PATHS = PYTHON_AUX_PATHS.split(':')\n",
    "PYTHON_AUX_PATHS.extend(sys.path)\n",
    "sys.path = PYTHON_AUX_PATHS"
   ]
  },
  {
   "cell_type": "code",
   "execution_count": 39,
   "metadata": {
    "collapsed": true
   },
   "outputs": [],
   "source": [
    "MatlabFilesDir = '/scratch/TESTS/IpythonNotebook/20160615_HCPWF/mainWF/test_wmql/VTPToMatlab'\n",
    "# gs: gold standard\n",
    "# in: input\n",
    "#input_vtp_fn = '/scratch/TESTS/IpythonNotebook/20160615_HCPWF/mainWF/test_wmql/July31/WTV_query_cst.left.vtp'\n",
    "input_vtp_fn = '/scratch/TESTS/IpythonNotebook/20160615_HCPWF/mainWF/Outputs/WMQL/NN_query_cst.right.vtp'\n",
    "output_fn = os.path.join(MatlabFilesDir,'NN_cst.mat')"
   ]
  },
  {
   "cell_type": "code",
   "execution_count": 40,
   "metadata": {
    "collapsed": true
   },
   "outputs": [],
   "source": [
    "from tract_querier import tract_math, tractography\n",
    "import numpy as np\n",
    "import scipy.io"
   ]
  },
  {
   "cell_type": "code",
   "execution_count": 41,
   "metadata": {
    "collapsed": false
   },
   "outputs": [],
   "source": [
    "in_tractography = tractography.tractography_from_files(input_vtp_fn)\n",
    "tracts = in_tractography.tracts()\n",
    "pts = np.vstack(tracts)"
   ]
  },
  {
   "cell_type": "code",
   "execution_count": 42,
   "metadata": {
    "collapsed": true
   },
   "outputs": [],
   "source": [
    "scipy.io.savemat(output_fn, mdict={'NN': pts})"
   ]
  },
  {
   "cell_type": "code",
   "execution_count": null,
   "metadata": {
    "collapsed": true
   },
   "outputs": [],
   "source": []
  },
  {
   "cell_type": "code",
   "execution_count": null,
   "metadata": {
    "collapsed": true
   },
   "outputs": [],
   "source": []
  },
  {
   "cell_type": "code",
   "execution_count": null,
   "metadata": {
    "collapsed": true
   },
   "outputs": [],
   "source": []
  },
  {
   "cell_type": "code",
   "execution_count": null,
   "metadata": {
    "collapsed": true
   },
   "outputs": [],
   "source": []
  },
  {
   "cell_type": "code",
   "execution_count": null,
   "metadata": {
    "collapsed": true
   },
   "outputs": [],
   "source": []
  },
  {
   "cell_type": "code",
   "execution_count": null,
   "metadata": {
    "collapsed": true
   },
   "outputs": [],
   "source": []
  },
  {
   "cell_type": "code",
   "execution_count": null,
   "metadata": {
    "collapsed": true
   },
   "outputs": [],
   "source": []
  },
  {
   "cell_type": "code",
   "execution_count": null,
   "metadata": {
    "collapsed": true
   },
   "outputs": [],
   "source": []
  },
  {
   "cell_type": "code",
   "execution_count": null,
   "metadata": {
    "collapsed": true
   },
   "outputs": [],
   "source": []
  },
  {
   "cell_type": "code",
   "execution_count": null,
   "metadata": {
    "collapsed": true
   },
   "outputs": [],
   "source": [
    "def ComputeBhattacharyyaCoeficient(gs_bundle,sr_bundle):\n",
    "    from tract_querier import tract_math, tractography\n",
    "    import numpy as np\n",
    "    #####\n",
    "    def AlignFiber(tract):\n",
    "        out_tract = tract\n",
    "        vecs = np.diff(tract, axis=0)\n",
    "        avg_vec = np.mean(vecs, axis=0)\n",
    "        dots = np.array([ np.dot(avg_vec,[1,0,0]), np.dot(avg_vec,[0,1,0]), np.dot(avg_vec,[0,0,1]) ])\n",
    "        idx = np.argmax(np.abs(dots))\n",
    "        if (dots[idx] < 0):\n",
    "            out_tract = tract[::-1]\n",
    "        return out_tract\n",
    "    #\n",
    "    def InterpolateFiber(tract):\n",
    "        new_tract = tract\n",
    "        # find point distances\n",
    "        d = np.diff(tract, axis=0)\n",
    "        pointdists = np.hypot(d[:,0], d[:,1], d[:,2])\n",
    "        dist_threshold = min(pointdists.sum()/len(pointdists),1)\n",
    "        offset = 0\n",
    "        for i in xrange(len(pointdists)):\n",
    "            if pointdists[i] > dist_threshold:\n",
    "                new_p = (tract[i+1]+tract[i])/2\n",
    "                new_tract = np.insert(new_tract,i+1+offset,new_p,axis=0)\n",
    "                offset += 1\n",
    "        return new_tract\n",
    "    #\n",
    "    def returnBundlePoints(bundle):\n",
    "        in_tractography = tractography.tractography_from_files(bundle)\n",
    "        tracts = in_tractography.tracts()\n",
    "        ## sort all tracts direction to positive coordinate of their dominant orientation\n",
    "        ## then interpolate tracts to make sure they are approximately equally placed\n",
    "        for i in xrange(len(tracts)):\n",
    "            tracts[i] = AlignFiber(tracts[i])\n",
    "            #tracts[i] = InterpolateFiber(tracts[i])\n",
    "        #\n",
    "        tracts_last_quarter = [tracts[i][4*len(tracts[i])/5:] for i in xrange(len(tracts))]\n",
    "        #\n",
    "        pts = np.vstack(tracts)\n",
    "        pts_last_quarter = np.vstack(tracts_last_quarter)\n",
    "        return pts, pts_last_quarter\n",
    "    #\n",
    "    def returnBhattCoef(gs_pts,sr_pts):\n",
    "        mn = np.minimum(gs_pts.min(0), sr_pts.min(0))\n",
    "        mx = np.maximum(gs_pts.max(0), sr_pts.max(0))\n",
    "        bins = np.ceil((mx - mn))\n",
    "        gs_hist = np.array([ np.histogram(gs_pts[:,i], bins=bins[i], density=True, range=(mn[i], mx[i]))[0] for i in xrange(3) ])\n",
    "        sr_hist = np.array([ np.histogram(sr_pts[:,i], bins=bins[i], density=True, range=(mn[i], mx[i]))[0] for i in xrange(3) ])\n",
    "        coefs = np.array([ np.sqrt( (gs_hist[i]*sr_hist[i])/(gs_hist[i].sum()*sr_hist[i].sum()) ).sum() for i in xrange(3) ])\n",
    "        #print(coefs)\n",
    "        return coefs.mean()\n",
    "    #####\n",
    "    [gs_pts, gs_pts_last_quarter] = returnBundlePoints(gs_bundle)\n",
    "    [sr_pts, sr_pts_last_quarter] = returnBundlePoints(sr_bundle)\n",
    "    #\n",
    "    coef = returnBhattCoef(gs_pts,sr_pts)\n",
    "    print(coef)\n",
    "    coef_last_quarter = returnBhattCoef(gs_pts_last_quarter,sr_pts_last_quarter)\n",
    "    print(coef_last_quarter)"
   ]
  },
  {
   "cell_type": "code",
   "execution_count": null,
   "metadata": {
    "collapsed": false
   },
   "outputs": [],
   "source": [
    "ComputeBhattacharyyaCoeficient(gs_cst_left_fn,sr_cst_left_fn)"
   ]
  },
  {
   "cell_type": "code",
   "execution_count": null,
   "metadata": {
    "collapsed": false
   },
   "outputs": [],
   "source": [
    "ComputeBhattacharyyaCoeficient(gs_cst_right_fn,sr_cst_right_fn)"
   ]
  },
  {
   "cell_type": "code",
   "execution_count": null,
   "metadata": {
    "collapsed": true
   },
   "outputs": [],
   "source": []
  },
  {
   "cell_type": "code",
   "execution_count": null,
   "metadata": {
    "collapsed": true
   },
   "outputs": [],
   "source": []
  },
  {
   "cell_type": "code",
   "execution_count": null,
   "metadata": {
    "collapsed": true
   },
   "outputs": [],
   "source": []
  },
  {
   "cell_type": "code",
   "execution_count": null,
   "metadata": {
    "collapsed": true
   },
   "outputs": [],
   "source": []
  },
  {
   "cell_type": "code",
   "execution_count": null,
   "metadata": {
    "collapsed": true
   },
   "outputs": [],
   "source": []
  },
  {
   "cell_type": "code",
   "execution_count": null,
   "metadata": {
    "collapsed": true
   },
   "outputs": [],
   "source": [
    "from tract_querier import tract_math, tractography\n",
    "import numpy as np"
   ]
  },
  {
   "cell_type": "code",
   "execution_count": null,
   "metadata": {
    "collapsed": true
   },
   "outputs": [],
   "source": [
    "def AlignFiber(tract):\n",
    "        out_tract = tract\n",
    "        vecs = np.diff(tract, axis=0)\n",
    "        avg_vec = np.mean(vecs, axis=0)\n",
    "        dots = np.array([ np.dot(avg_vec,[1,0,0]), np.dot(avg_vec,[0,1,0]), np.dot(avg_vec,[0,0,1]) ])\n",
    "        idx = np.argmax(np.abs(dots))\n",
    "        if (dots[idx] < 0):\n",
    "            out_tract = tract[::-1]\n",
    "        return out_tract\n",
    "#\n",
    "def InterpolateFiber(tract):\n",
    "    new_tract = tract\n",
    "    # find point distances\n",
    "    d = np.diff(tract, axis=0)\n",
    "    pointdists = np.hypot(d[:,0], d[:,1], d[:,2])\n",
    "    dist_threshold = min(pointdists.sum()/len(pointdists),1)\n",
    "    offset = 0\n",
    "    for i in xrange(len(pointdists)):\n",
    "        if pointdists[i] > dist_threshold:\n",
    "            new_p = (tract[i+1]+tract[i])/2\n",
    "            new_tract = np.insert(new_tract,i+1+offset,new_p,axis=0)\n",
    "            offset += 1\n",
    "    return new_tract\n",
    "#\n",
    "def returnBundlePoints(bundle):\n",
    "    in_tractography = tractography.tractography_from_files(bundle)\n",
    "    tracts = in_tractography.tracts()\n",
    "    ## sort all tracts direction to positive coordinate of their dominant orientation\n",
    "    ## then interpolate tracts to make sure they are approximately equally placed\n",
    "    for i in xrange(len(tracts)):\n",
    "        tracts[i] = AlignFiber(tracts[i])\n",
    "        tracts[i] = InterpolateFiber(tracts[i])\n",
    "    #\n",
    "    tracts_last_quarter = [tracts[i][4*len(tracts[i])/5:] for i in xrange(len(tracts))]\n",
    "    #\n",
    "    pts = np.vstack(tracts)\n",
    "    pts_last_quarter = np.vstack(tracts_last_quarter)\n",
    "    return pts, pts_last_quarter"
   ]
  },
  {
   "cell_type": "code",
   "execution_count": null,
   "metadata": {
    "collapsed": false
   },
   "outputs": [],
   "source": [
    "[pts, pts_last_quarter] = returnBundlePoints(gs_cst_left_fn)"
   ]
  },
  {
   "cell_type": "code",
   "execution_count": null,
   "metadata": {
    "collapsed": true
   },
   "outputs": [],
   "source": [
    "import pandas as pd\n",
    "from ggplot import *"
   ]
  },
  {
   "cell_type": "code",
   "execution_count": null,
   "metadata": {
    "collapsed": false
   },
   "outputs": [],
   "source": [
    "DF_gs_x = pd.DataFrame(np.transpose([pts[:,1], pts[:,2]]))\n",
    "DF_gs_x.rename(columns = lambda x: str(x), inplace=True)\n",
    "DF_gs_x.rename(columns={\"0\": \"X\"}, inplace=True) # rename a dfcolumn   \n",
    "DF_gs_x.rename(columns={\"1\": \"Y\"}, inplace=True) # rename a dfcolumn \n",
    "DF_gs_x\n",
    "\n",
    "ggplot(aes(x = 'X', y ='Y'),data=DF_gs_x) + \\\n",
    "    geom_point()"
   ]
  },
  {
   "cell_type": "code",
   "execution_count": null,
   "metadata": {
    "collapsed": false
   },
   "outputs": [],
   "source": [
    "pts = pts_last_quarter\n",
    "\n",
    "DF_gs_x = pd.DataFrame(np.transpose([pts[:,1], pts[:,2]]))\n",
    "DF_gs_x.rename(columns = lambda x: str(x), inplace=True)\n",
    "DF_gs_x.rename(columns={\"0\": \"X\"}, inplace=True) # rename a dfcolumn   \n",
    "DF_gs_x.rename(columns={\"1\": \"Y\"}, inplace=True) # rename a dfcolumn \n",
    "DF_gs_x\n",
    "\n",
    "ggplot(aes(x = 'X', y ='Y'),data=DF_gs_x) + \\\n",
    "    geom_point() \\\n",
    "    + xlim(-150, 100) \\\n",
    "    + ylim(-60, 80)"
   ]
  },
  {
   "cell_type": "code",
   "execution_count": null,
   "metadata": {
    "collapsed": true
   },
   "outputs": [],
   "source": []
  }
 ],
 "metadata": {
  "kernelspec": {
   "display_name": "Python 2",
   "language": "python",
   "name": "python2"
  },
  "language_info": {
   "codemirror_mode": {
    "name": "ipython",
    "version": 2
   },
   "file_extension": ".py",
   "mimetype": "text/x-python",
   "name": "python",
   "nbconvert_exporter": "python",
   "pygments_lexer": "ipython2",
   "version": "2.7.11"
  }
 },
 "nbformat": 4,
 "nbformat_minor": 0
}
