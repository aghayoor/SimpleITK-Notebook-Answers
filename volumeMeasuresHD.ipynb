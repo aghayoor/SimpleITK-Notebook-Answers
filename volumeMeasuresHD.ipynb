{
 "cells": [
  {
   "cell_type": "code",
   "execution_count": 1,
   "metadata": {
    "collapsed": false
   },
   "outputs": [
    {
     "name": "stdout",
     "output_type": "stream",
     "text": [
      "SimpleITK Version: 0.9.1\n",
      "Compiled: Sep 28 2015 10:07:41\n",
      "\n"
     ]
    }
   ],
   "source": [
    "## Boiler plate code common to many notebooks.  See the TestFilesCommonCode.ipynb for details\n",
    "from __future__ import print_function\n",
    "%run TestFilesCommonCode.ipynb"
   ]
  },
  {
   "cell_type": "code",
   "execution_count": 2,
   "metadata": {
    "collapsed": true
   },
   "outputs": [],
   "source": [
    "labelsConfigFile='/scratch/BS/BRAINSTools/AutoWorkup/DWIProcessingWorkflows/neuro2012_Labels_Config.csv'"
   ]
  },
  {
   "cell_type": "code",
   "execution_count": 3,
   "metadata": {
    "collapsed": true
   },
   "outputs": [],
   "source": [
    "def createLabelsDictionary(labelCodesFile):\n",
    "    import csv\n",
    "    labelsDictionary={}\n",
    "    with open(labelCodesFile) as lf:\n",
    "        reader = csv.reader(lf, delimiter=',')\n",
    "        for line in reader:\n",
    "            if line[0][0] == \"#\":\n",
    "                continue\n",
    "            else:\n",
    "                labelsDictionary[line[0]] = line[1]\n",
    "    return labelsDictionary"
   ]
  },
  {
   "cell_type": "code",
   "execution_count": 8,
   "metadata": {
    "collapsed": true
   },
   "outputs": [],
   "source": [
    "def createHeaderLine(labelsDictionary):\n",
    "    headerdata = ['#sessionID', 'subjectID', 'siteID']\n",
    "    for key in labelsDictionary:\n",
    "        headerdata.append(labelsDictionary[key])\n",
    "    return headerdata"
   ]
  },
  {
   "cell_type": "code",
   "execution_count": 9,
   "metadata": {
    "collapsed": true
   },
   "outputs": [],
   "source": [
    "labelsDict = createLabelsDictionary(labelsConfigFile)"
   ]
  },
  {
   "cell_type": "code",
   "execution_count": 10,
   "metadata": {
    "collapsed": true
   },
   "outputs": [],
   "source": [
    "header = createHeaderLine(labelsDict)"
   ]
  },
  {
   "cell_type": "code",
   "execution_count": 12,
   "metadata": {
    "collapsed": false
   },
   "outputs": [],
   "source": [
    "#print(header)"
   ]
  },
  {
   "cell_type": "code",
   "execution_count": 26,
   "metadata": {
    "collapsed": true
   },
   "outputs": [],
   "source": [
    "fileName='/Shared/paulsen/Experiments/20141001_PREDICTHD_long_Results/PHD_024/2263/32607/TissueClassify/neuro2012_20fusion_merge_seg.nii.gz'"
   ]
  },
  {
   "cell_type": "code",
   "execution_count": 27,
   "metadata": {
    "collapsed": false
   },
   "outputs": [],
   "source": [
    "labelsMapVolume = sitk.ReadImage(fileName)"
   ]
  },
  {
   "cell_type": "code",
   "execution_count": 28,
   "metadata": {
    "collapsed": false
   },
   "outputs": [],
   "source": [
    "import operator\n",
    "voxelVolume = reduce(operator.mul, labelsMapVolume.GetSpacing())"
   ]
  },
  {
   "cell_type": "code",
   "execution_count": 29,
   "metadata": {
    "collapsed": false
   },
   "outputs": [
    {
     "name": "stdout",
     "output_type": "stream",
     "text": [
      "2921.0\n"
     ]
    }
   ],
   "source": [
    "statFilter = sitk.LabelStatisticsImageFilter()\n",
    "statFilter.Execute(labelsMapVolume, labelsMapVolume)\n",
    "volume = statFilter.GetCount(205)*voxelVolume\n",
    "print(volume)"
   ]
  },
  {
   "cell_type": "code",
   "execution_count": null,
   "metadata": {
    "collapsed": true
   },
   "outputs": [],
   "source": []
  }
 ],
 "metadata": {
  "kernelspec": {
   "display_name": "Python 2",
   "language": "python",
   "name": "python2"
  },
  "language_info": {
   "codemirror_mode": {
    "name": "ipython",
    "version": 2
   },
   "file_extension": ".py",
   "mimetype": "text/x-python",
   "name": "python",
   "nbconvert_exporter": "python",
   "pygments_lexer": "ipython2",
   "version": "2.7.11"
  }
 },
 "nbformat": 4,
 "nbformat_minor": 0
}
