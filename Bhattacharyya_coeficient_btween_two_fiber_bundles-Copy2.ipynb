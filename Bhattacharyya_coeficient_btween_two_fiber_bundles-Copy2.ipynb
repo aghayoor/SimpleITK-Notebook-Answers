{
 "cells": [
  {
   "cell_type": "code",
   "execution_count": 1,
   "metadata": {
    "collapsed": false
   },
   "outputs": [
    {
     "name": "stdout",
     "output_type": "stream",
     "text": [
      "SimpleITK Version: 0.9.1\n",
      "Compiled: Sep 28 2015 10:07:41\n",
      "\n"
     ]
    }
   ],
   "source": [
    "## Boiler plate code common to many notebooks.  See the TestFilesCommonCode.ipynb for details\n",
    "from __future__ import print_function\n",
    "%run TestFilesCommonCode.ipynb"
   ]
  },
  {
   "cell_type": "code",
   "execution_count": 2,
   "metadata": {
    "collapsed": false
   },
   "outputs": [],
   "source": [
    "import os\n",
    "import glob\n",
    "import sys\n",
    "\n",
    "#\\/\\/\\/\\/\\/\\/\\/\\/\\/\\/\\/\\/\\/\\/\\/\\/\\/\\/\\/\\/\\/\\/\\/\\/\\/\\/\\/\\/\\/\\/\\/\\/\\/\\/\\/\\/\\/\\/\\/\\/\\/\\/\\/\n",
    "#####################################################################################\n",
    "#     Prepend the shell environment search paths\n",
    "PROGRAM_PATHS = '/scratch/NAMICExternalProjects/release-20160523/bin'\n",
    "#PROGRAM_PATHS = '/scratch/BS/release-BSR/bin'\n",
    "PROGRAM_PATHS = PROGRAM_PATHS.split(':')\n",
    "PROGRAM_PATHS.extend(os.environ['PATH'].split(':'))\n",
    "os.environ['PATH'] = ':'.join(PROGRAM_PATHS)\n",
    "\n",
    "CUSTOM_ENVIRONMENT=dict()\n",
    "\n",
    "# Platform specific information\n",
    "#     Prepend the python search paths\n",
    "#PYTHON_AUX_PATHS = '/scratch/BS/BRAINSTools/AutoWorkup'\n",
    "PYTHON_AUX_PATHS = '/scratch/SuperResolution/BRAINSSuperResolution/HCPWorkflows/:/scratch/wmql/tract_querier/tract_querier/nipype/'\n",
    "PYTHON_AUX_PATHS = PYTHON_AUX_PATHS.split(':')\n",
    "PYTHON_AUX_PATHS.extend(sys.path)\n",
    "sys.path = PYTHON_AUX_PATHS\n",
    "\n",
    "import SimpleITK as sitk\n",
    "import nipype\n",
    "from nipype.interfaces.base import CommandLine, CommandLineInputSpec, TraitedSpec, File, Directory\n",
    "from nipype.interfaces.base import traits, isdefined, BaseInterface\n",
    "from nipype.interfaces.utility import Merge, Split, Function, Rename, IdentityInterface\n",
    "import nipype.interfaces.io as nio   # Data i/oS\n",
    "import nipype.pipeline.engine as pe  # pypeline engine\n",
    "from nipype.interfaces.freesurfer import ReconAll\n",
    "from nipype.interfaces.ants import DenoiseImage\n",
    "from nipype.interfaces.semtools import *"
   ]
  },
  {
   "cell_type": "code",
   "execution_count": 3,
   "metadata": {
    "collapsed": true
   },
   "outputs": [],
   "source": [
    "import numpy as np"
   ]
  },
  {
   "cell_type": "code",
   "execution_count": 83,
   "metadata": {
    "collapsed": true
   },
   "outputs": [],
   "source": [
    "# gs: gold standard\n",
    "# in: input\n",
    "gs_cst_left_fn = '/scratch/TESTS/IpythonNotebook/20160615_HCPWF/mainWF/Outputs/WMQL/Baseline_query_cst.left.vtp'\n",
    "gs_cst_right_fn = '/scratch/TESTS/IpythonNotebook/20160615_HCPWF/mainWF/Outputs/WMQL/Baseline_query_cst.right.vtp'\n",
    "\n",
    "sr_cst_left_fn = '/scratch/TESTS/IpythonNotebook/20160615_HCPWF/mainWF/Outputs/WMQL/WTV_query_cst.left.vtp'\n",
    "sr_cst_right_fn = '/scratch/TESTS/IpythonNotebook/20160615_HCPWF/mainWF/Outputs/WMQL/WTV_query_cst.right.vtp'"
   ]
  },
  {
   "cell_type": "markdown",
   "metadata": {
    "collapsed": true
   },
   "source": [
    "# implementation one / kde"
   ]
  },
  {
   "cell_type": "code",
   "execution_count": 84,
   "metadata": {
    "collapsed": true
   },
   "outputs": [],
   "source": [
    "def ComputeBhattacharyyaCoeficient(gs_bundle,sr_bundle):\n",
    "    import vtk\n",
    "    import numpy as np\n",
    "    from scipy import stats\n",
    "    ## read in each fiber bundle\n",
    "    reader_gs = vtk.vtkXMLPolyDataReader()\n",
    "    reader_gs.SetFileName(gs_bundle)\n",
    "    reader_gs.Update()\n",
    "    gs_bundle = reader_gs.GetOutput()\n",
    "    #\n",
    "    reader_sr = vtk.vtkXMLPolyDataReader()\n",
    "    reader_sr.SetFileName(sr_bundle)\n",
    "    reader_sr.Update()\n",
    "    sr_bundle = reader_sr.GetOutput()\n",
    "    #\n",
    "    gs_pts = np.array([gs_bundle.GetPoint(i) for i in xrange(gs_bundle.GetNumberOfPoints())])\n",
    "    sr_pts = np.array([sr_bundle.GetPoint(i) for i in xrange(sr_bundle.GetNumberOfPoints())])\n",
    "    kde_gs = np.array([stats.gaussian_kde(gs_pts[:,i]) for i in xrange(3)])\n",
    "    kde_sr = np.array([stats.gaussian_kde(sr_pts[:,i]) for i in xrange(3)])\n",
    "    #\n",
    "    mn = np.minimum(gs_pts.min(0), sr_pts.min(0))\n",
    "    mx = np.maximum(gs_pts.max(0), sr_pts.max(0))\n",
    "    bins = np.ceil((mx - mn))\n",
    "    xyz = np.array([np.linspace(mn[i],mx[i],bins[i]) for i in xrange(3)])\n",
    "    #\n",
    "    p_gs = np.array([kde_gs[i].pdf(xyz[i]) for i in xrange(3)])\n",
    "    p_sr = np.array([kde_sr[i].pdf(xyz[i]) for i in xrange(3)])\n",
    "    coefs = np.array([np.sqrt(p_gs[i]*p_sr[i]).sum() for i in xrange(3)])\n",
    "    print(coefs)\n",
    "    return coefs.mean()"
   ]
  },
  {
   "cell_type": "code",
   "execution_count": 85,
   "metadata": {
    "collapsed": false
   },
   "outputs": [
    {
     "name": "stdout",
     "output_type": "stream",
     "text": [
      "[ 0.9922218   0.99242648  0.99815557]\n",
      "0.994267949673\n"
     ]
    }
   ],
   "source": [
    "bc = ComputeBhattacharyyaCoeficient(gs_cst_left_fn,sr_cst_left_fn)\n",
    "print(bc)"
   ]
  },
  {
   "cell_type": "markdown",
   "metadata": {},
   "source": [
    "# implementation two / histogram"
   ]
  },
  {
   "cell_type": "code",
   "execution_count": 86,
   "metadata": {
    "collapsed": true
   },
   "outputs": [],
   "source": [
    "def ComputeBhattacharyyaCoeficient(gs_bundle,sr_bundle):\n",
    "    import vtk\n",
    "    import numpy as np\n",
    "    from scipy import stats\n",
    "    ## read in each fiber bundle\n",
    "    reader_gs = vtk.vtkXMLPolyDataReader()\n",
    "    reader_gs.SetFileName(gs_bundle)\n",
    "    reader_gs.Update()\n",
    "    gs_bundle = reader_gs.GetOutput()\n",
    "    #\n",
    "    reader_sr = vtk.vtkXMLPolyDataReader()\n",
    "    reader_sr.SetFileName(sr_bundle)\n",
    "    reader_sr.Update()\n",
    "    sr_bundle = reader_sr.GetOutput()\n",
    "    #\n",
    "    gs_pts = np.array([gs_bundle.GetPoint(i) for i in xrange(gs_bundle.GetNumberOfPoints())])\n",
    "    sr_pts = np.array([sr_bundle.GetPoint(i) for i in xrange(sr_bundle.GetNumberOfPoints())])\n",
    "    #\n",
    "    mn = np.minimum(gs_pts.min(0), sr_pts.min(0))\n",
    "    mx = np.maximum(gs_pts.max(0), sr_pts.max(0))\n",
    "    bins = np.ceil((mx - mn))\n",
    "    #\n",
    "    gs_hist = np.array([ np.histogram(gs_pts[:,i], bins=bins[i], density=True, range=(mn[i], mx[i]))[0] for i in xrange(3) ])\n",
    "    sr_hist = np.array([ np.histogram(sr_pts[:,i], bins=bins[i], density=True, range=(mn[i], mx[i]))[0] for i in xrange(3) ])\n",
    "    #\n",
    "    coefs = np.array([ np.sqrt( (gs_hist[i]*sr_hist[i])/(gs_hist[i].sum()*sr_hist[i].sum()) ).sum() for i in xrange(3) ])\n",
    "    print(coefs)\n",
    "    return coefs.mean()"
   ]
  },
  {
   "cell_type": "code",
   "execution_count": 87,
   "metadata": {
    "collapsed": false
   },
   "outputs": [
    {
     "name": "stdout",
     "output_type": "stream",
     "text": [
      "[ 0.99936495  0.99884146  0.99933283]\n",
      "0.999179746642\n"
     ]
    }
   ],
   "source": [
    "bc = ComputeBhattacharyyaCoeficient(gs_cst_left_fn,sr_cst_left_fn)\n",
    "print(bc)"
   ]
  },
  {
   "cell_type": "code",
   "execution_count": null,
   "metadata": {
    "collapsed": true
   },
   "outputs": [],
   "source": []
  },
  {
   "cell_type": "code",
   "execution_count": null,
   "metadata": {
    "collapsed": true
   },
   "outputs": [],
   "source": []
  },
  {
   "cell_type": "code",
   "execution_count": null,
   "metadata": {
    "collapsed": true
   },
   "outputs": [],
   "source": []
  },
  {
   "cell_type": "code",
   "execution_count": null,
   "metadata": {
    "collapsed": true
   },
   "outputs": [],
   "source": []
  },
  {
   "cell_type": "code",
   "execution_count": null,
   "metadata": {
    "collapsed": true
   },
   "outputs": [],
   "source": []
  },
  {
   "cell_type": "code",
   "execution_count": null,
   "metadata": {
    "collapsed": true
   },
   "outputs": [],
   "source": []
  },
  {
   "cell_type": "code",
   "execution_count": null,
   "metadata": {
    "collapsed": false
   },
   "outputs": [],
   "source": [
    "import vtk\n",
    "import numpy as np\n",
    "reader_gs = vtk.vtkXMLPolyDataReader()\n",
    "reader_gs.SetFileName(gs_cst_left_fn)\n",
    "reader_gs.Update()\n",
    "gs_bundle = reader_gs.GetOutput()\n",
    "\n",
    "reader_sr = vtk.vtkXMLPolyDataReader()\n",
    "reader_sr.SetFileName(gs_cst_left_fn)\n",
    "reader_sr.Update()\n",
    "sr_bundle = reader_sr.GetOutput()"
   ]
  },
  {
   "cell_type": "code",
   "execution_count": null,
   "metadata": {
    "collapsed": false
   },
   "outputs": [],
   "source": [
    "gs_pts = np.array([gs_bundle.GetPoint(i) for i in xrange(gs_bundle.GetNumberOfPoints())])\n",
    "sr_pts = np.array([sr_bundle.GetPoint(i) for i in xrange(sr_bundle.GetNumberOfPoints())])"
   ]
  },
  {
   "cell_type": "code",
   "execution_count": null,
   "metadata": {
    "collapsed": false
   },
   "outputs": [],
   "source": [
    "print(gs_pts.shape)\n",
    "print(sr_pts.shape)"
   ]
  },
  {
   "cell_type": "code",
   "execution_count": null,
   "metadata": {
    "collapsed": false
   },
   "outputs": [],
   "source": [
    "print(gs_pts.min(0))\n",
    "print(sr_pts.min(0))"
   ]
  },
  {
   "cell_type": "code",
   "execution_count": null,
   "metadata": {
    "collapsed": false
   },
   "outputs": [],
   "source": [
    "mn = np.minimum(gs_pts.min(0), sr_pts.min(0))\n",
    "mx = np.maximum(gs_pts.max(0), sr_pts.max(0))\n",
    "print(mn)\n",
    "print(mx)"
   ]
  },
  {
   "cell_type": "code",
   "execution_count": null,
   "metadata": {
    "collapsed": false
   },
   "outputs": [],
   "source": [
    "bins = np.ceil((mx - mn))\n",
    "print(bins)"
   ]
  },
  {
   "cell_type": "code",
   "execution_count": null,
   "metadata": {
    "collapsed": false
   },
   "outputs": [],
   "source": [
    "xyz = np.array([np.linspace(mn[i],mx[i],bins[i]) for i in xrange(3)])\n",
    "#print(xyz)"
   ]
  },
  {
   "cell_type": "code",
   "execution_count": null,
   "metadata": {
    "collapsed": false
   },
   "outputs": [],
   "source": [
    "gs_hist = np.array([ np.histogram(gs_pts[:,i], bins=bins[i], density=True, range=(mn[i], mx[i]))[0] for i in xrange(3) ])\n",
    "sr_hist = np.array([ np.histogram(sr_pts[:,i], bins=bins[i], density=True, range=(mn[i], mx[i]))[0] for i in xrange(3) ])"
   ]
  },
  {
   "cell_type": "code",
   "execution_count": null,
   "metadata": {
    "collapsed": false
   },
   "outputs": [],
   "source": [
    "print(gs_hist.shape)"
   ]
  },
  {
   "cell_type": "code",
   "execution_count": null,
   "metadata": {
    "collapsed": false
   },
   "outputs": [],
   "source": [
    "coefs = np.array([ np.sqrt( (gs_hist[i]*sr_hist[i])/(gs_hist[i].sum()*sr_hist[i].sum()) ).sum() for i in xrange(3) ])"
   ]
  },
  {
   "cell_type": "code",
   "execution_count": null,
   "metadata": {
    "collapsed": false
   },
   "outputs": [],
   "source": [
    "print(coefs)"
   ]
  },
  {
   "cell_type": "code",
   "execution_count": null,
   "metadata": {
    "collapsed": false
   },
   "outputs": [],
   "source": [
    "coefs.mean()"
   ]
  },
  {
   "cell_type": "code",
   "execution_count": null,
   "metadata": {
    "collapsed": true
   },
   "outputs": [],
   "source": []
  },
  {
   "cell_type": "code",
   "execution_count": null,
   "metadata": {
    "collapsed": true
   },
   "outputs": [],
   "source": []
  },
  {
   "cell_type": "code",
   "execution_count": null,
   "metadata": {
    "collapsed": false
   },
   "outputs": [],
   "source": [
    "from scipy import stats\n",
    "kde_gs = np.array([stats.gaussian_kde(gs_pts[:,i]) for i in xrange(3)])\n",
    "kde_sr = np.array([stats.gaussian_kde(sr_pts[:,i]) for i in xrange(3)])"
   ]
  },
  {
   "cell_type": "code",
   "execution_count": null,
   "metadata": {
    "collapsed": false
   },
   "outputs": [],
   "source": [
    "print(kde_gs)"
   ]
  },
  {
   "cell_type": "code",
   "execution_count": null,
   "metadata": {
    "collapsed": false
   },
   "outputs": [],
   "source": [
    "print(kde_gs[0].integrate_box(mn[0]-5,mx[0]+5))"
   ]
  },
  {
   "cell_type": "code",
   "execution_count": null,
   "metadata": {
    "collapsed": false
   },
   "outputs": [],
   "source": [
    "p_gs = np.array([kde_gs[i].pdf(xyz[i]) for i in xrange(3)])\n",
    "p_sr = np.array([kde_sr[i].pdf(xyz[i]) for i in xrange(3)])"
   ]
  },
  {
   "cell_type": "code",
   "execution_count": null,
   "metadata": {
    "collapsed": false
   },
   "outputs": [],
   "source": [
    "print(p_gs[0].sum())"
   ]
  },
  {
   "cell_type": "code",
   "execution_count": null,
   "metadata": {
    "collapsed": false
   },
   "outputs": [],
   "source": [
    "coefs = np.array([ np.sqrt(p_gs[i]*p_sr[i]).sum() for i in xrange(3) ])\n",
    "print(coefs)\n",
    "print(coefs.mean())"
   ]
  },
  {
   "cell_type": "code",
   "execution_count": null,
   "metadata": {
    "collapsed": false
   },
   "outputs": [],
   "source": [
    "print(np.sqrt(p[2]).sum())"
   ]
  },
  {
   "cell_type": "code",
   "execution_count": null,
   "metadata": {
    "collapsed": true
   },
   "outputs": [],
   "source": []
  },
  {
   "cell_type": "code",
   "execution_count": null,
   "metadata": {
    "collapsed": true
   },
   "outputs": [],
   "source": []
  },
  {
   "cell_type": "code",
   "execution_count": null,
   "metadata": {
    "collapsed": true
   },
   "outputs": [],
   "source": []
  },
  {
   "cell_type": "code",
   "execution_count": null,
   "metadata": {
    "collapsed": true
   },
   "outputs": [],
   "source": []
  },
  {
   "cell_type": "code",
   "execution_count": null,
   "metadata": {
    "collapsed": true
   },
   "outputs": [],
   "source": []
  },
  {
   "cell_type": "code",
   "execution_count": null,
   "metadata": {
    "collapsed": true
   },
   "outputs": [],
   "source": []
  }
 ],
 "metadata": {
  "kernelspec": {
   "display_name": "Python 2",
   "language": "python",
   "name": "python2"
  },
  "language_info": {
   "codemirror_mode": {
    "name": "ipython",
    "version": 2
   },
   "file_extension": ".py",
   "mimetype": "text/x-python",
   "name": "python",
   "nbconvert_exporter": "python",
   "pygments_lexer": "ipython2",
   "version": "2.7.11"
  }
 },
 "nbformat": 4,
 "nbformat_minor": 0
}
