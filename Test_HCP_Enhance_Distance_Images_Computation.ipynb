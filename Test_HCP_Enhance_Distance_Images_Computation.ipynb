{
 "cells": [
  {
   "cell_type": "code",
   "execution_count": 78,
   "metadata": {
    "collapsed": false
   },
   "outputs": [
    {
     "name": "stdout",
     "output_type": "stream",
     "text": [
      "SimpleITK Version: 0.9.1\n",
      "Compiled: Sep 28 2015 10:07:41\n",
      "\n"
     ]
    }
   ],
   "source": [
    "## Boiler plate code common to many notebooks.  See the TestFilesCommonCode.ipynb for details\n",
    "from __future__ import print_function\n",
    "%run TestFilesCommonCode.ipynb"
   ]
  },
  {
   "cell_type": "code",
   "execution_count": 79,
   "metadata": {
    "collapsed": true
   },
   "outputs": [],
   "source": [
    "import os\n",
    "import glob\n",
    "import sys\n",
    "\n",
    "#\\/\\/\\/\\/\\/\\/\\/\\/\\/\\/\\/\\/\\/\\/\\/\\/\\/\\/\\/\\/\\/\\/\\/\\/\\/\\/\\/\\/\\/\\/\\/\\/\\/\\/\\/\\/\\/\\/\\/\\/\\/\\/\\/\n",
    "#####################################################################################\n",
    "#     Prepend the shell environment search paths\n",
    "PROGRAM_PATHS = '/scratch/NAMICExternalProjects/release-20160523/bin'\n",
    "#PROGRAM_PATHS = '/scratch/BS/release-BSR/bin'\n",
    "PROGRAM_PATHS = PROGRAM_PATHS.split(':')\n",
    "PROGRAM_PATHS.extend(os.environ['PATH'].split(':'))\n",
    "os.environ['PATH'] = ':'.join(PROGRAM_PATHS)\n",
    "\n",
    "CUSTOM_ENVIRONMENT=dict()\n",
    "\n",
    "# Platform specific information\n",
    "#     Prepend the python search paths\n",
    "#PYTHON_AUX_PATHS = '/scratch/BS/BRAINSTools/AutoWorkup'\n",
    "PYTHON_AUX_PATHS = '/scratch/SuperResolution/BRAINSSuperResolution/HCPWorkflows/'\n",
    "PYTHON_AUX_PATHS = PYTHON_AUX_PATHS.split(':')\n",
    "PYTHON_AUX_PATHS.extend(sys.path)\n",
    "sys.path = PYTHON_AUX_PATHS\n",
    "\n",
    "import SimpleITK as sitk\n",
    "import nipype\n",
    "from nipype.interfaces.base import CommandLine, CommandLineInputSpec, TraitedSpec, File, Directory\n",
    "from nipype.interfaces.base import traits, isdefined, BaseInterface\n",
    "from nipype.interfaces.utility import Merge, Split, Function, Rename, IdentityInterface\n",
    "import nipype.interfaces.io as nio   # Data i/oS\n",
    "import nipype.pipeline.engine as pe  # pypeline engine\n",
    "from nipype.interfaces.freesurfer import ReconAll\n",
    "from nipype.interfaces.ants import DenoiseImage\n",
    "from nipype.interfaces.semtools import *"
   ]
  },
  {
   "cell_type": "code",
   "execution_count": 80,
   "metadata": {
    "collapsed": false
   },
   "outputs": [],
   "source": [
    "DWI_baseline = '/scratch/TESTS/IpythonNotebook/20160615_HCPWF/mainWF/Outputs_backup/SuperResolution/DWI_Baseline.nrrd'\n",
    "DWI_sr_nn = '/scratch/TESTS/IpythonNotebook/20160615_HCPWF/mainWF/Outputs_backup/SuperResolution/DWI_SR_NN.nrrd'\n",
    "DWI_sr_ifft = '/scratch/TESTS/IpythonNotebook/20160615_HCPWF/mainWF/Outputs_backup/SuperResolution/DWI_SR_IFFT.nrrd'\n",
    "DWI_sr_tv = '/scratch/TESTS/IpythonNotebook/20160615_HCPWF/mainWF/Outputs_backup/SuperResolution/DWI_SR_TV.nrrd'\n",
    "DWI_sr_wtv = '/scratch/TESTS/IpythonNotebook/20160615_HCPWF/mainWF/Outputs_backup/SuperResolution/DWI_SR_WTV.nrrd'\n",
    "DWI_brainMask = '/scratch/TESTS/IpythonNotebook/20160615_HCPWF/mainWF/Outputs_backup/DWIBrainMask.nrrd'"
   ]
  },
  {
   "cell_type": "code",
   "execution_count": 81,
   "metadata": {
    "collapsed": true
   },
   "outputs": [],
   "source": [
    "output_dir = '/scratch/TESTS/IpythonNotebook/20160615_HCPWF/3_DistImagesWF/distImages_test'"
   ]
  },
  {
   "cell_type": "code",
   "execution_count": 84,
   "metadata": {
    "collapsed": false
   },
   "outputs": [],
   "source": [
    "def ComputeDistanceImages(DWI_baseline,DWI_sr,DWI_brainMask):\n",
    "    import os\n",
    "    import numpy as np\n",
    "    from itertools import product\n",
    "    import time\n",
    "    from scipy.linalg import logm\n",
    "    from scipy.linalg import eigvalsh # eigvalsh(A,B) is joint eigenvalues of A and B\n",
    "    import SimpleITK as sitk\n",
    "    from ReadWriteNrrdDWI import ReadNAMICDWIFromNrrd, WriteNAMICDWIToNrrd\n",
    "    #########\n",
    "    ### distance functions ###\n",
    "    # Frobenius distance\n",
    "    def distance_euclid(A, B):\n",
    "        return np.linalg.norm(A - B, ord='fro')\n",
    "    # Log-Euclidian distance\n",
    "    def distance_logeuclid(A, B):\n",
    "        return distance_euclid(logm(A),logm(B))\n",
    "    # Reimannian distance\n",
    "    def distance_reimann(A, B):\n",
    "        return np.sqrt((np.log(eigvalsh(A,B))**2).sum())\n",
    "    # Kullback-Leibler distance\n",
    "    def distance_kullback(A, B):\n",
    "        dim = A.shape[0]\n",
    "        kl = np.sqrt( np.trace( np.dot(np.linalg.inv(A),B)+np.dot(np.linalg.inv(B),A) ) - 2*dim )\n",
    "        return 0.5*kl\n",
    "    ######### \n",
    "    assert os.path.exists(DWI_baseline), \"File not found: %s\" % DWI_baseline\n",
    "    assert os.path.exists(DWI_sr), \"File not found: %s\" % DWI_sr\n",
    "    assert os.path.exists(DWI_brainMask), \"File not found: %s\" % DWI_brainMask\n",
    "    mask = sitk.ReadImage(DWI_brainMask)\n",
    "    mask_data = sitk.GetArrayFromImage(mask)\n",
    "    # read DWI nrrd files\n",
    "    print('read nrrd files')\n",
    "    data_base,nrrd_header_base,bvecs_base,bvals_base,grad_idx_base = ReadNAMICDWIFromNrrd(DWI_baseline)\n",
    "    data_sr,nrrd_header_sr,bvecs_sr,bvals_sr,grad_idx_sr = ReadNAMICDWIFromNrrd(DWI_sr)\n",
    "    # compute tensorfits\n",
    "    print('compute tensorfits')\n",
    "    from dipy.core.gradients import gradient_table\n",
    "    from dipy.reconst.dti import TensorModel\n",
    "    # base tensorfit\n",
    "    gtab_base = gradient_table(bvals_base, bvecs_base)\n",
    "    ten_base = TensorModel(gtab_base)\n",
    "    tenfit_base = ten_base.fit(data_base)\n",
    "    # super-res reconstructed tensorfit\n",
    "    gtab_sr = gradient_table(bvals_sr, bvecs_sr)\n",
    "    ten_sr = TensorModel(gtab_sr)\n",
    "    tenfit_sr = ten_base.fit(data_sr)\n",
    "    ## create RIS error arrays\n",
    "    fa_distance_arr = abs(tenfit_base.fa-tenfit_sr.fa)\n",
    "    md_distance_arr = abs(tenfit_base.md-tenfit_sr.md)\n",
    "    rd_distance_arr = abs(tenfit_base.rd-tenfit_sr.rd)\n",
    "    ad_distance_arr = abs(tenfit_base.ad-tenfit_sr.ad)\n",
    "    ## mask out the background\n",
    "    fa_distance_arr = np.transpose(fa_distance_arr,(2, 1, 0))\n",
    "    md_distance_arr = np.transpose(md_distance_arr,(2, 1, 0))\n",
    "    rd_distance_arr = np.transpose(rd_distance_arr,(2, 1, 0))\n",
    "    ad_distance_arr = np.transpose(ad_distance_arr,(2, 1, 0))\n",
    "    #\n",
    "    fa_distance_arr = fa_distance_arr*mask_data\n",
    "    md_distance_arr = md_distance_arr*mask_data\n",
    "    rd_distance_arr = rd_distance_arr*mask_data\n",
    "    ad_distance_arr = ad_distance_arr*mask_data\n",
    "    ## clip outliers by computing 'p' percentiles\n",
    "    p = 99.7\n",
    "    np.clip(fa_distance_arr, fa_distance_arr.min(), np.percentile(fa_distance_arr,p), fa_distance_arr)\n",
    "    np.clip(md_distance_arr, md_distance_arr.min(), np.percentile(md_distance_arr,p), md_distance_arr)\n",
    "    np.clip(rd_distance_arr, rd_distance_arr.min(), np.percentile(rd_distance_arr,p), rd_distance_arr)\n",
    "    np.clip(ad_distance_arr, ad_distance_arr.min(), np.percentile(ad_distance_arr,p), ad_distance_arr)\n",
    "    ## create RIS distance images\n",
    "    fa_distance_image = sitk.GetImageFromArray(fa_distance_arr)\n",
    "    fa_distance_image.CopyInformation(mask)\n",
    "    #\n",
    "    md_distance_image = sitk.GetImageFromArray(md_distance_arr)\n",
    "    md_distance_image.CopyInformation(mask)\n",
    "    #\n",
    "    rd_distance_image = sitk.GetImageFromArray(rd_distance_arr)\n",
    "    rd_distance_image.CopyInformation(mask)\n",
    "    #\n",
    "    ad_distance_image = sitk.GetImageFromArray(ad_distance_arr)\n",
    "    ad_distance_image.CopyInformation(mask)\n",
    "    #\n",
    "    size = [data_base.shape[0],data_base.shape[1],data_base.shape[2]] #data_base.shape[4] is gradient components\n",
    "    frobenius_distance_arr = np.empty(size, dtype=float)\n",
    "    logeuclid_distance_arr = np.empty(size, dtype=float)\n",
    "    reimann_distance_arr = np.empty(size, dtype=float)\n",
    "    kullback_distance_arr = np.empty(size, dtype=float)\n",
    "    #\n",
    "    tensors_base = tenfit_base.quadratic_form\n",
    "    tensors_sr = tenfit_sr.quadratic_form\n",
    "    # for loop to find other distance images\n",
    "    print('run for loop')\n",
    "    tstart = time.time()\n",
    "    for i, idx in enumerate(product(xrange(size[0]),xrange(size[1]),xrange(size[2]))):\n",
    "        frobenius_distance_arr[idx] = distance_euclid(tensors_base[idx], tensors_sr[idx])\n",
    "        ## HACK: log euclidian metric generates results the same as Reimannian metric,\n",
    "        ## but it takes way longer (about 70 times longer!!!)\n",
    "        #logeuclid_distance_arr[idx] = distance_logeuclid(tensors_base[idx], tensors_sr[idx])\n",
    "        reimann_distance_arr[idx] = distance_reimann(tensors_base[idx], tensors_sr[idx])\n",
    "        kullback_distance_arr[idx] = distance_kullback(tensors_base[idx], tensors_sr[idx])\n",
    "    elapsed = time.time() - tstart\n",
    "    print('for loop took: ', elapsed)\n",
    "    ## HACK: set values of logeuclid_distance_arr to zero\n",
    "    logeuclid_distance_arr.fill(0)\n",
    "    # mask out the background\n",
    "    frobenius_distance_arr = np.transpose(frobenius_distance_arr,(2, 1, 0))\n",
    "    logeuclid_distance_arr = np.transpose(logeuclid_distance_arr,(2, 1, 0))\n",
    "    reimann_distance_arr = np.transpose(reimann_distance_arr,(2, 1, 0))\n",
    "    kullback_distance_arr = np.transpose(kullback_distance_arr,(2, 1, 0))\n",
    "    #\n",
    "    frobenius_distance_arr = frobenius_distance_arr*mask_data\n",
    "    logeuclid_distance_arr = logeuclid_distance_arr*mask_data\n",
    "    reimann_distance_arr = reimann_distance_arr*mask_data\n",
    "    kullback_distance_arr = kullback_distance_arr*mask_data\n",
    "    ## clip outliers by computing 'p' percentiles\n",
    "    p = 99.7\n",
    "    np.clip(frobenius_distance_arr, frobenius_distance_arr.min(), np.percentile(frobenius_distance_arr,p), frobenius_distance_arr)\n",
    "    p = 99.6\n",
    "    np.clip(logeuclid_distance_arr, logeuclid_distance_arr.min(), np.percentile(logeuclid_distance_arr,p), logeuclid_distance_arr)\n",
    "    np.clip(reimann_distance_arr, reimann_distance_arr.min(), np.percentile(reimann_distance_arr,p), reimann_distance_arr)\n",
    "    np.clip(kullback_distance_arr, kullback_distance_arr.min(), np.percentile(kullback_distance_arr,p), kullback_distance_arr)\n",
    "    ## create RIS distance images\n",
    "    frobenius_distance_image = sitk.GetImageFromArray(frobenius_distance_arr)\n",
    "    frobenius_distance_image.CopyInformation(mask)\n",
    "    #\n",
    "    logeuclid_distance_image = sitk.GetImageFromArray(logeuclid_distance_arr)\n",
    "    logeuclid_distance_image.CopyInformation(mask)\n",
    "    #\n",
    "    reimann_distance_image = sitk.GetImageFromArray(reimann_distance_arr)\n",
    "    reimann_distance_image.CopyInformation(mask)\n",
    "    #\n",
    "    kullback_distance_image = sitk.GetImageFromArray(kullback_distance_arr)\n",
    "    kullback_distance_image.CopyInformation(mask)\n",
    "    ## create proper SR prefix for output file name\n",
    "    sr_file_name = os.path.basename(DWI_sr)\n",
    "    sr_file_name_base = os.path.splitext(sr_file_name)[0]\n",
    "    sr_name = sr_file_name_base.split('_',2)[2]\n",
    "    #\n",
    "    fa_distance_image_fn = os.path.join(output_dir,sr_name + '_FA_distance.nrrd')\n",
    "    md_distance_image_fn = os.path.join(output_dir,sr_name + '_MD_distance.nrrd')\n",
    "    rd_distance_image_fn = os.path.join(output_dir,sr_name + '_RD_distance.nrrd')\n",
    "    ad_distance_image_fn = os.path.join(output_dir,sr_name + '_AD_distance.nrrd')\n",
    "    frobenius_distance_image_fn = os.path.join(output_dir,sr_name + '_Frobenius_distance.nrrd')\n",
    "    logeuclid_distance_image_fn = os.path.join(output_dir,sr_name + '_Logeuclid_distance.nrrd')\n",
    "    reimann_distance_image_fn = os.path.join(output_dir,sr_name + '_Reimann_distance.nrrd')\n",
    "    kullback_distance_image_fn = os.path.join(output_dir,sr_name + '_Kullback_distance.nrrd')\n",
    "    ## Write out the distance images\n",
    "    sitk.WriteImage(fa_distance_image,fa_distance_image_fn)\n",
    "    sitk.WriteImage(md_distance_image,md_distance_image_fn)\n",
    "    sitk.WriteImage(rd_distance_image,rd_distance_image_fn)\n",
    "    sitk.WriteImage(ad_distance_image,ad_distance_image_fn)\n",
    "    sitk.WriteImage(frobenius_distance_image,frobenius_distance_image_fn)\n",
    "    sitk.WriteImage(logeuclid_distance_image,logeuclid_distance_image_fn)\n",
    "    sitk.WriteImage(reimann_distance_image,reimann_distance_image_fn)\n",
    "    sitk.WriteImage(kullback_distance_image,kullback_distance_image_fn)\n",
    "    #\n",
    "    return [fa_distance_image_fn,\n",
    "            md_distance_image_fn,\n",
    "            rd_distance_image_fn,\n",
    "            ad_distance_image_fn,\n",
    "            frobenius_distance_image_fn,\n",
    "            logeuclid_distance_image_fn,\n",
    "            reimann_distance_image_fn,\n",
    "            kullback_distance_image_fn]"
   ]
  },
  {
   "cell_type": "code",
   "execution_count": 85,
   "metadata": {
    "collapsed": false
   },
   "outputs": [
    {
     "name": "stdout",
     "output_type": "stream",
     "text": [
      "read nrrd files\n",
      "compute tensorfits\n",
      "run for loop\n",
      "for loop took:  784.437544823\n",
      "whole function took:  1694.38914704\n",
      "/scratch/TESTS/IpythonNotebook/20160615_HCPWF/3_DistImagesWF/distImages_test/NN_FA_distance.nrrd\n"
     ]
    }
   ],
   "source": [
    "import time\n",
    "tfuncstart = time.time()\n",
    "\n",
    "[fa,md,rd,ad,fro,log,rei,kull] = ComputeDistanceImages(DWI_baseline,DWI_sr_nn,DWI_brainMask)\n",
    "\n",
    "elapsedfunc = time.time() - tfuncstart\n",
    "print('whole function took: ', elapsedfunc)\n",
    "\n",
    "print(fa)"
   ]
  },
  {
   "cell_type": "code",
   "execution_count": null,
   "metadata": {
    "collapsed": true
   },
   "outputs": [],
   "source": []
  },
  {
   "cell_type": "code",
   "execution_count": null,
   "metadata": {
    "collapsed": true
   },
   "outputs": [],
   "source": []
  },
  {
   "cell_type": "code",
   "execution_count": null,
   "metadata": {
    "collapsed": true
   },
   "outputs": [],
   "source": []
  },
  {
   "cell_type": "code",
   "execution_count": null,
   "metadata": {
    "collapsed": true
   },
   "outputs": [],
   "source": []
  },
  {
   "cell_type": "code",
   "execution_count": null,
   "metadata": {
    "collapsed": true
   },
   "outputs": [],
   "source": [
    "# find best percentile for Reimann/Kullback dist images"
   ]
  },
  {
   "cell_type": "code",
   "execution_count": 73,
   "metadata": {
    "collapsed": true
   },
   "outputs": [],
   "source": [
    "rei_fn = '/scratch/TESTS/IpythonNotebook/20160615_HCPWF/3_DistImagesWF/distImages_test/NN_Reimann_distance.nrrd'\n",
    "kull_fn = '/scratch/TESTS/IpythonNotebook/20160615_HCPWF/3_DistImagesWF/distImages_test/NN_Kullback_distance.nrrd'\n",
    "fro_fn = '/scratch/TESTS/IpythonNotebook/20160615_HCPWF/3_DistImagesWF/distImages_test/NN_Frobenius_distance.nrrd'\n",
    "\n",
    "fro = sitk.ReadImage(fro_fn)\n",
    "rei = sitk.ReadImage(rei_fn)\n",
    "kull = sitk.ReadImage(kull_fn)\n",
    "\n",
    "frobenius_distance_arr = sitk.GetArrayFromImage(fro)\n",
    "reimann_distance_arr = sitk.GetArrayFromImage(rei)\n",
    "kullback_distance_arr = sitk.GetArrayFromImage(kull)"
   ]
  },
  {
   "cell_type": "code",
   "execution_count": 63,
   "metadata": {
    "collapsed": false
   },
   "outputs": [
    {
     "name": "stdout",
     "output_type": "stream",
     "text": [
      "0.0\n",
      "7.40247695441\n",
      "0.0880115014564\n",
      "2.60121282239\n"
     ]
    }
   ],
   "source": [
    "print(reimann_distance_arr.min())\n",
    "print(reimann_distance_arr.max())\n",
    "print(reimann_distance_arr.mean())\n",
    "#print(np.median(reimann_distance_arr))\n",
    "print(np.percentile(reimann_distance_arr,99.6))"
   ]
  },
  {
   "cell_type": "code",
   "execution_count": 72,
   "metadata": {
    "collapsed": false
   },
   "outputs": [
    {
     "name": "stdout",
     "output_type": "stream",
     "text": [
      "0.0\n",
      "8.10893536737\n",
      "0.0584255590451\n",
      "1.46756204569\n"
     ]
    }
   ],
   "source": [
    "print(kullback_distance_arr.min())\n",
    "print(kullback_distance_arr.max())\n",
    "print(kullback_distance_arr.mean())\n",
    "#print(np.median(kullback_distance_arr))\n",
    "print(np.percentile(kullback_distance_arr,99.6))"
   ]
  },
  {
   "cell_type": "code",
   "execution_count": 77,
   "metadata": {
    "collapsed": false
   },
   "outputs": [
    {
     "name": "stdout",
     "output_type": "stream",
     "text": [
      "0.0\n",
      "0.00105114968574\n",
      "4.60893588125e-05\n",
      "0.000918160157245\n"
     ]
    }
   ],
   "source": [
    "print(frobenius_distance_arr.min())\n",
    "print(frobenius_distance_arr.max())\n",
    "print(frobenius_distance_arr.mean())\n",
    "#print(np.median(frobenius_distance_arr))\n",
    "print(np.percentile(frobenius_distance_arr,99.6))"
   ]
  },
  {
   "cell_type": "code",
   "execution_count": null,
   "metadata": {
    "collapsed": true
   },
   "outputs": [],
   "source": []
  },
  {
   "cell_type": "code",
   "execution_count": null,
   "metadata": {
    "collapsed": true
   },
   "outputs": [],
   "source": []
  },
  {
   "cell_type": "code",
   "execution_count": null,
   "metadata": {
    "collapsed": true
   },
   "outputs": [],
   "source": []
  },
  {
   "cell_type": "code",
   "execution_count": null,
   "metadata": {
    "collapsed": true
   },
   "outputs": [],
   "source": []
  },
  {
   "cell_type": "code",
   "execution_count": 20,
   "metadata": {
    "collapsed": false
   },
   "outputs": [
    {
     "name": "stdout",
     "output_type": "stream",
     "text": [
      "-----Fro-------\n",
      "0.00105114968574\n",
      "0.0\n",
      "4.60893588125e-05\n",
      "-----LogEuc-------\n",
      "7.23208259506\n",
      "0.0\n",
      "0.0873063250486\n",
      "-----Reimann-------\n",
      "7.40247695441\n",
      "0.0\n",
      "0.0880115014564\n",
      "-----Kullback-------\n",
      "8.10893536737\n",
      "0.0\n",
      "0.0584255590451\n",
      "===================================\n",
      "-----Fro-------\n",
      "0.00105114968574\n",
      "0.0\n",
      "4.60893588125e-05\n",
      "-----LogEuc-------\n",
      "0.0\n",
      "0.0\n",
      "0.0\n",
      "-----Reimann-------\n",
      "7.40247695441\n",
      "0.0\n",
      "0.0880115014564\n",
      "-----Kullback-------\n",
      "8.10893536737\n",
      "0.0\n",
      "0.0584255590451\n"
     ]
    }
   ],
   "source": [
    "# # Do sum tests\n",
    "# fro_fn = '/scratch/TESTS/IpythonNotebook/20160615_HCPWF/3_DistImagesWF/distImages_test_backup/NN_Frobenius_distance.nrrd'\n",
    "# logeuc_fn = '/scratch/TESTS/IpythonNotebook/20160615_HCPWF/3_DistImagesWF/distImages_test_backup/NN_Logeuclid_distance.nrrd'\n",
    "# rei_fn = '/scratch/TESTS/IpythonNotebook/20160615_HCPWF/3_DistImagesWF/distImages_test_backup/NN_Reimann_distance.nrrd'\n",
    "# kull_fn = '/scratch/TESTS/IpythonNotebook/20160615_HCPWF/3_DistImagesWF/distImages_test_backup/NN_Kullback_distance.nrrd'\n",
    "# fa = sitk.ReadImage(fro_fn)\n",
    "# md = sitk.ReadImage(logeuc_fn)\n",
    "# rd = sitk.ReadImage(rei_fn)\n",
    "# ad = sitk.ReadImage(kull_fn)\n",
    "# statFilter = sitk.StatisticsImageFilter()\n",
    "# print('-----Fro-------')\n",
    "# statFilter.Execute(fa)\n",
    "# print(statFilter.GetMaximum())\n",
    "# print(statFilter.GetMinimum())\n",
    "# print(statFilter.GetMean())\n",
    "# print('-----LogEuc-------')\n",
    "# statFilter.Execute(md)\n",
    "# print(statFilter.GetMaximum())\n",
    "# print(statFilter.GetMinimum())\n",
    "# print(statFilter.GetMean())\n",
    "# print('-----Reimann-------')\n",
    "# statFilter.Execute(rd)\n",
    "# print(statFilter.GetMaximum())\n",
    "# print(statFilter.GetMinimum())\n",
    "# print(statFilter.GetMean())\n",
    "# print('-----Kullback-------')\n",
    "# statFilter.Execute(ad)\n",
    "# print(statFilter.GetMaximum())\n",
    "# print(statFilter.GetMinimum())\n",
    "# print(statFilter.GetMean())\n",
    "\n",
    "# ## NN_base images (using outlier of %95)\n",
    "# print('===================================')\n",
    "# fro_fn = '/scratch/TESTS/IpythonNotebook/20160615_HCPWF/3_DistImagesWF/distImages_test/NN_Frobenius_distance.nrrd'\n",
    "# logeuc_fn = '/scratch/TESTS/IpythonNotebook/20160615_HCPWF/3_DistImagesWF/distImages_test/NN_Logeuclid_distance.nrrd'\n",
    "# rei_fn = '/scratch/TESTS/IpythonNotebook/20160615_HCPWF/3_DistImagesWF/distImages_test/NN_Reimann_distance.nrrd'\n",
    "# kull_fn = '/scratch/TESTS/IpythonNotebook/20160615_HCPWF/3_DistImagesWF/distImages_test/NN_Kullback_distance.nrrd'\n",
    "# fa = sitk.ReadImage(fro_fn)\n",
    "# md = sitk.ReadImage(logeuc_fn)\n",
    "# rd = sitk.ReadImage(rei_fn)\n",
    "# ad = sitk.ReadImage(kull_fn)\n",
    "# print('-----Fro-------')\n",
    "# statFilter.Execute(fa)\n",
    "# print(statFilter.GetMaximum())\n",
    "# print(statFilter.GetMinimum())\n",
    "# print(statFilter.GetMean())\n",
    "# print('-----LogEuc-------')\n",
    "# statFilter.Execute(md)\n",
    "# print(statFilter.GetMaximum())\n",
    "# print(statFilter.GetMinimum())\n",
    "# print(statFilter.GetMean())\n",
    "# print('-----Reimann-------')\n",
    "# statFilter.Execute(rd)\n",
    "# print(statFilter.GetMaximum())\n",
    "# print(statFilter.GetMinimum())\n",
    "# print(statFilter.GetMean())\n",
    "# print('-----Kullback-------')\n",
    "# statFilter.Execute(ad)\n",
    "# print(statFilter.GetMaximum())\n",
    "# print(statFilter.GetMinimum())\n",
    "# print(statFilter.GetMean())"
   ]
  },
  {
   "cell_type": "code",
   "execution_count": null,
   "metadata": {
    "collapsed": true
   },
   "outputs": [],
   "source": []
  }
 ],
 "metadata": {
  "kernelspec": {
   "display_name": "Python 2",
   "language": "python",
   "name": "python2"
  },
  "language_info": {
   "codemirror_mode": {
    "name": "ipython",
    "version": 2
   },
   "file_extension": ".py",
   "mimetype": "text/x-python",
   "name": "python",
   "nbconvert_exporter": "python",
   "pygments_lexer": "ipython2",
   "version": "2.7.11"
  }
 },
 "nbformat": 4,
 "nbformat_minor": 0
}
