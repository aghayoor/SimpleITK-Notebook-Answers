{
 "metadata": {
  "name": "",
  "signature": "sha256:46a6b1674ac732e72ab6884befb70675573f891717e6faf93a5d49f3f60e48a7"
 },
 "nbformat": 3,
 "nbformat_minor": 0,
 "worksheets": [
  {
   "cells": [
    {
     "cell_type": "code",
     "collapsed": false,
     "input": [
      "## Boiler plate code common to many notebooks.  See the TestFilesCommonCode.ipynb for details\n",
      "from __future__ import print_function\n",
      "%run TestFilesCommonCode.ipynb"
     ],
     "language": "python",
     "metadata": {},
     "outputs": [
      {
       "output_type": "stream",
       "stream": "stdout",
       "text": [
        "SimpleITK Version: 0.10.0.dev1-g52394\n",
        "Compiled: Jul  1 2015 18:02:46\n",
        "\n"
       ]
      }
     ],
     "prompt_number": 148
    },
    {
     "cell_type": "code",
     "collapsed": false,
     "input": [
      "import numpy as np\n",
      "import pandas as pd\n",
      "from ggplot import *"
     ],
     "language": "python",
     "metadata": {},
     "outputs": [],
     "prompt_number": 149
    },
    {
     "cell_type": "code",
     "collapsed": false,
     "input": [
      "# pure\n",
      "#x = [0.7109375, 0.7041015625, 0.6923828125, 0.6728515625, 0.6796875, 0.68994140625, 0.6640625, 0.668701171875]\n",
      "#y = [0.2314453125, 0.23193359375, 0.229248046875, 0.228271484375, 0.2392578125, 0.226318359375, 0.23828125, 0.23046875]\n",
      "\n",
      "# pure!!!!\n",
      "#x = [0.0966796875, 0.34912109375, 0.204345703125, 0.381103515625, 0.12939453125, 0.26806640625, 0.47216796875, 0.0]\n",
      "#y = [0.670654296875, 0.711181640625, 0.433349609375, 0.19921875, 0.6162109375, 0.2470703125, 0.274169921875, 0.076904296875]\n",
      "\n",
      "#x = [0.4, 0.4, 0.7, 0.1, 0.7, 0.1, 0.1, 0.7, 0.4]\n",
      "#y = [0.3, 0.1, 0.3, 0.3, 0.1, 0.1, 0.2, 0.2, 0.5]\n",
      "\n",
      "#x = [0, 0, 3, -3, 3, -3, -3, 3, 0]\n",
      "#y = [1, -1, 1, 1, -1, -1, 0, 0, 3]\n",
      "\n",
      "#x = [0, 0, 4, -4]\n",
      "#y = [4, -4, 0, 0]\n",
      "\n",
      "# TEST\n",
      "x=[0.722900390625, 0.53369140625, 0.7216796875, 0.590087890625, 0.666015625, 0.572265625, 0.619384765625, 0.674072265625]\n",
      "y=[0.2001953125, 0.322509765625, 0.17431640625, 0.276123046875, 0.138427734375, 0.2822265625, 0.203125, 0.219970703125]\n",
      "\n",
      "print(x, y)\n",
      "xy = np.transpose([x, y])\n",
      "xy"
     ],
     "language": "python",
     "metadata": {},
     "outputs": [
      {
       "output_type": "stream",
       "stream": "stdout",
       "text": [
        "[0.722900390625, 0.53369140625, 0.7216796875, 0.590087890625, 0.666015625, 0.572265625, 0.619384765625, 0.674072265625] [0.2001953125, 0.322509765625, 0.17431640625, 0.276123046875, 0.138427734375, 0.2822265625, 0.203125, 0.219970703125]\n"
       ]
      },
      {
       "metadata": {},
       "output_type": "pyout",
       "prompt_number": 442,
       "text": [
        "array([[ 0.72290039,  0.20019531],\n",
        "       [ 0.53369141,  0.32250977],\n",
        "       [ 0.72167969,  0.17431641],\n",
        "       [ 0.59008789,  0.27612305],\n",
        "       [ 0.66601562,  0.13842773],\n",
        "       [ 0.57226562,  0.28222656],\n",
        "       [ 0.61938477,  0.203125  ],\n",
        "       [ 0.67407227,  0.2199707 ]])"
       ]
      }
     ],
     "prompt_number": 442
    },
    {
     "cell_type": "code",
     "collapsed": false,
     "input": [
      "DF_xy = pd.DataFrame(xy)\n",
      "DF_xy.rename(columns = lambda x: str(x), inplace=True)\n",
      "DF_xy.rename(columns={\"0\": \"X\"}, inplace=True) # rename a dfcolumn   \n",
      "DF_xy.rename(columns={\"1\": \"Y\"}, inplace=True) # rename a dfcolumn \n",
      "DF_xy"
     ],
     "language": "python",
     "metadata": {},
     "outputs": [
      {
       "html": [
        "<div style=\"max-width:1500px;overflow:auto;\">\n",
        "<table border=\"1\" class=\"dataframe\">\n",
        "  <thead>\n",
        "    <tr style=\"text-align: right;\">\n",
        "      <th></th>\n",
        "      <th>X</th>\n",
        "      <th>Y</th>\n",
        "    </tr>\n",
        "  </thead>\n",
        "  <tbody>\n",
        "    <tr>\n",
        "      <th>0</th>\n",
        "      <td>0.722900</td>\n",
        "      <td>0.200195</td>\n",
        "    </tr>\n",
        "    <tr>\n",
        "      <th>1</th>\n",
        "      <td>0.533691</td>\n",
        "      <td>0.322510</td>\n",
        "    </tr>\n",
        "    <tr>\n",
        "      <th>2</th>\n",
        "      <td>0.721680</td>\n",
        "      <td>0.174316</td>\n",
        "    </tr>\n",
        "    <tr>\n",
        "      <th>3</th>\n",
        "      <td>0.590088</td>\n",
        "      <td>0.276123</td>\n",
        "    </tr>\n",
        "    <tr>\n",
        "      <th>4</th>\n",
        "      <td>0.666016</td>\n",
        "      <td>0.138428</td>\n",
        "    </tr>\n",
        "    <tr>\n",
        "      <th>5</th>\n",
        "      <td>0.572266</td>\n",
        "      <td>0.282227</td>\n",
        "    </tr>\n",
        "    <tr>\n",
        "      <th>6</th>\n",
        "      <td>0.619385</td>\n",
        "      <td>0.203125</td>\n",
        "    </tr>\n",
        "    <tr>\n",
        "      <th>7</th>\n",
        "      <td>0.674072</td>\n",
        "      <td>0.219971</td>\n",
        "    </tr>\n",
        "  </tbody>\n",
        "</table>\n",
        "</div>"
       ],
       "metadata": {},
       "output_type": "pyout",
       "prompt_number": 443,
       "text": [
        "          X         Y\n",
        "0  0.722900  0.200195\n",
        "1  0.533691  0.322510\n",
        "2  0.721680  0.174316\n",
        "3  0.590088  0.276123\n",
        "4  0.666016  0.138428\n",
        "5  0.572266  0.282227\n",
        "6  0.619385  0.203125\n",
        "7  0.674072  0.219971"
       ]
      }
     ],
     "prompt_number": 443
    },
    {
     "cell_type": "code",
     "collapsed": false,
     "input": [
      "xy_mean = np.array([np.mean(x), np.mean(y)])\n",
      "xy_mean.shape = [1,2]\n",
      "xy_mean"
     ],
     "language": "python",
     "metadata": {},
     "outputs": [
      {
       "metadata": {},
       "output_type": "pyout",
       "prompt_number": 444,
       "text": [
        "array([[ 0.63751221,  0.22711182]])"
       ]
      }
     ],
     "prompt_number": 444
    },
    {
     "cell_type": "code",
     "collapsed": false,
     "input": [
      "DF_xy_mean = pd.DataFrame(xy_mean)\n",
      "DF_xy_mean.rename(columns = lambda x: str(x), inplace=True)\n",
      "DF_xy_mean.rename(columns={\"0\": \"X\"}, inplace=True) # rename a dfcolumn   \n",
      "DF_xy_mean.rename(columns={\"1\": \"Y\"}, inplace=True) # rename a dfcolumn \n",
      "DF_xy_mean"
     ],
     "language": "python",
     "metadata": {},
     "outputs": [
      {
       "html": [
        "<div style=\"max-width:1500px;overflow:auto;\">\n",
        "<table border=\"1\" class=\"dataframe\">\n",
        "  <thead>\n",
        "    <tr style=\"text-align: right;\">\n",
        "      <th></th>\n",
        "      <th>X</th>\n",
        "      <th>Y</th>\n",
        "    </tr>\n",
        "  </thead>\n",
        "  <tbody>\n",
        "    <tr>\n",
        "      <th>0</th>\n",
        "      <td>0.637512</td>\n",
        "      <td>0.227112</td>\n",
        "    </tr>\n",
        "  </tbody>\n",
        "</table>\n",
        "</div>"
       ],
       "metadata": {},
       "output_type": "pyout",
       "prompt_number": 445,
       "text": [
        "          X         Y\n",
        "0  0.637512  0.227112"
       ]
      }
     ],
     "prompt_number": 445
    },
    {
     "cell_type": "code",
     "collapsed": false,
     "input": [
      "ggplot(DF_xy, aes(x = 'X', y ='Y')) + \\\n",
      "    geom_point(alpha=1, size=100, color='dodgerblue') + \\\n",
      "    geom_point(data = DF_xy_mean ,alpha=1, size = 100, color='green')"
     ],
     "language": "python",
     "metadata": {},
     "outputs": [
      {
       "metadata": {},
       "output_type": "display_data",
       "png": "[encoded data removed]",
       "text": [
        "<matplotlib.figure.Figure at 0x116765b50>"
       ]
      },
      {
       "metadata": {},
       "output_type": "pyout",
       "prompt_number": 446,
       "text": [
        "<ggplot: (270236729)>"
       ]
      }
     ],
     "prompt_number": 446
    },
    {
     "cell_type": "code",
     "collapsed": false,
     "input": [
      "def MahalanobisDist(x, y):\n",
      "    covariance_xy = np.cov(x,y, rowvar=0)\n",
      "    #print(covariance_xy) # <---\n",
      "    inv_covariance_xy = np.linalg.inv(covariance_xy)\n",
      "    #print(inv_covariance_xy) # <---\n",
      "    xy_mean = np.mean(x),np.mean(y)\n",
      "    #print(xy_mean) # <---\n",
      "    x_diff = np.array([x_i - xy_mean[0] for x_i in x])\n",
      "    y_diff = np.array([y_i - xy_mean[1] for y_i in y])\n",
      "    diff_xy = np.transpose([x_diff, y_diff])\n",
      "    \n",
      "    md = []\n",
      "    for i in range(len(diff_xy)):\n",
      "        md.append(np.sqrt(np.dot(np.dot(np.transpose(diff_xy[i]),inv_covariance_xy),diff_xy[i])))\n",
      "    return md"
     ],
     "language": "python",
     "metadata": {},
     "outputs": [],
     "prompt_number": 447
    },
    {
     "cell_type": "code",
     "collapsed": false,
     "input": [
      "MahalanobisDist(x,y)"
     ],
     "language": "python",
     "metadata": {},
     "outputs": [
      {
       "metadata": {},
       "output_type": "pyout",
       "prompt_number": 448,
       "text": [
        "[1.5957548542664044,\n",
        " 1.5913733512339936,\n",
        " 1.2309678820592069,\n",
        " 0.79672464736805038,\n",
        " 2.0070573270278138,\n",
        " 0.95910314411667441,\n",
        " 1.1083895478697168,\n",
        " 0.77094738265660201]"
       ]
      }
     ],
     "prompt_number": 448
    },
    {
     "cell_type": "code",
     "collapsed": false,
     "input": [
      "MD = MahalanobisDist(x,y)\n",
      "MD/max(MD)"
     ],
     "language": "python",
     "metadata": {},
     "outputs": [
      {
       "metadata": {},
       "output_type": "pyout",
       "prompt_number": 449,
       "text": [
        "array([ 0.79507189,  0.79288884,  0.61331974,  0.39696158,  1.        ,\n",
        "        0.47786535,  0.55224608,  0.38411827])"
       ]
      }
     ],
     "prompt_number": 449
    },
    {
     "cell_type": "code",
     "collapsed": false,
     "input": [
      "def EuclideanDistanc(x,y):\n",
      "    xy_mean = np.mean(x),np.mean(y)\n",
      "    #print(xy_mean) # <---\n",
      "    x_diff = np.array([x_i - xy_mean[0] for x_i in x])\n",
      "    y_diff = np.array([y_i - xy_mean[1] for y_i in y])\n",
      "    diff_xy = np.transpose([x_diff, y_diff])\n",
      "    \n",
      "    ed = []\n",
      "    for i in range(len(diff_xy)):\n",
      "        ed.append(np.sqrt(np.dot(np.transpose(diff_xy[i]),diff_xy[i])))\n",
      "    return ed"
     ],
     "language": "python",
     "metadata": {},
     "outputs": [],
     "prompt_number": 450
    },
    {
     "cell_type": "code",
     "collapsed": false,
     "input": [
      "EuclideanDistanc(x,y)"
     ],
     "language": "python",
     "metadata": {},
     "outputs": [
      {
       "metadata": {},
       "output_type": "pyout",
       "prompt_number": 451,
       "text": [
        "[0.089530107114730556,\n",
        " 0.1409947778820308,\n",
        " 0.099355523762013745,\n",
        " 0.068199461131749725,\n",
        " 0.093152086619821564,\n",
        " 0.085409318600133829,\n",
        " 0.030066118692710756,\n",
        " 0.037250951441192455]"
       ]
      }
     ],
     "prompt_number": 451
    },
    {
     "cell_type": "code",
     "collapsed": false,
     "input": [
      "\n",
      "ED = EuclideanDistanc(x,y)\n",
      "MD_norm = MD/max(MD)\n",
      "ED*MD_norm"
     ],
     "language": "python",
     "metadata": {},
     "outputs": [
      {
       "metadata": {},
       "output_type": "pyout",
       "prompt_number": 452,
       "text": [
        "array([ 0.07118287,  0.11179319,  0.0609367 ,  0.02707257,  0.09315209,\n",
        "        0.04081415,  0.0166039 ,  0.01430877])"
       ]
      }
     ],
     "prompt_number": 452
    },
    {
     "cell_type": "code",
     "collapsed": false,
     "input": [],
     "language": "python",
     "metadata": {},
     "outputs": [],
     "prompt_number": 452
    },
    {
     "cell_type": "code",
     "collapsed": false,
     "input": [
      "def RemoveOutliers(x, y):\n",
      "    MD = MahalanobisDist(x, y)\n",
      "    MD_norm = MD/max(MD)\n",
      "    ED = EuclideanDistanc(x,y)\n",
      "    Dist = ED*MD_norm\n",
      "    threshold = np.mean(Dist) * 1.0 # adjust 1.5 accordingly\n",
      "    print(threshold)\n",
      "    threshold = 0.10\n",
      "    nx, ny = [], []\n",
      "    outliers = np.array([])\n",
      "    for i in range(len(MD)):\n",
      "        if Dist[i] >= threshold:\n",
      "            nx.append(x[i])\n",
      "            ny.append(y[i])\n",
      "    outliers = np.transpose([nx, ny]) # position of removed pair\n",
      "    return outliers"
     ],
     "language": "python",
     "metadata": {},
     "outputs": [],
     "prompt_number": 457
    },
    {
     "cell_type": "code",
     "collapsed": false,
     "input": [
      "#print('x:', x)\n",
      "#print('y:', y)\n",
      "out_arr = RemoveOutliers(x,y)\n",
      "print(out_arr)"
     ],
     "language": "python",
     "metadata": {},
     "outputs": [
      {
       "output_type": "stream",
       "stream": "stdout",
       "text": [
        "0.054483029266\n",
        "[[ 0.53369141  0.32250977]]\n"
       ]
      }
     ],
     "prompt_number": 458
    },
    {
     "cell_type": "code",
     "collapsed": false,
     "input": [
      "DF_out = pd.DataFrame(out_arr)\n",
      "DF_out.rename(columns = lambda x: str(x), inplace=True)\n",
      "DF_out.rename(columns={\"0\": \"X\"}, inplace=True) # rename a dfcolumn   \n",
      "DF_out.rename(columns={\"1\": \"Y\"}, inplace=True) # rename a dfcolumn \n",
      "DF_out"
     ],
     "language": "python",
     "metadata": {},
     "outputs": [
      {
       "html": [
        "<div style=\"max-width:1500px;overflow:auto;\">\n",
        "<table border=\"1\" class=\"dataframe\">\n",
        "  <thead>\n",
        "    <tr style=\"text-align: right;\">\n",
        "      <th></th>\n",
        "      <th>X</th>\n",
        "      <th>Y</th>\n",
        "    </tr>\n",
        "  </thead>\n",
        "  <tbody>\n",
        "    <tr>\n",
        "      <th>0</th>\n",
        "      <td>0.533691</td>\n",
        "      <td>0.32251</td>\n",
        "    </tr>\n",
        "  </tbody>\n",
        "</table>\n",
        "</div>"
       ],
       "metadata": {},
       "output_type": "pyout",
       "prompt_number": 459,
       "text": [
        "          X        Y\n",
        "0  0.533691  0.32251"
       ]
      }
     ],
     "prompt_number": 459
    },
    {
     "cell_type": "code",
     "collapsed": false,
     "input": [
      "ggplot(DF_xy, aes(x = 'X', y ='Y')) + \\\n",
      "    geom_point(alpha=1, size=100, color='dodgerblue') + \\\n",
      "    geom_point(data = DF_out, alpha=1, size = 100, color='red') + \\\n",
      "    geom_point(data = DF_xy_mean ,alpha=1, size = 100, color='green')"
     ],
     "language": "python",
     "metadata": {},
     "outputs": [
      {
       "metadata": {},
       "output_type": "display_data",
       "png": "[encoded data removed]",
       "text": [
        "<matplotlib.figure.Figure at 0x1169c0590>"
       ]
      },
      {
       "metadata": {},
       "output_type": "pyout",
       "prompt_number": 460,
       "text": [
        "<ggplot: (292143297)>"
       ]
      }
     ],
     "prompt_number": 460
    },
    {
     "cell_type": "code",
     "collapsed": false,
     "input": [
      "x=[0.5810546875, 0.584716796875, 0.556884765625, 0.53271484375, 0.353515625, 0.223388671875, 0.234130859375, 0.055419921875]\n",
      "y=[0.2861328125, 0.271728515625, 0.254150390625, 0.264404296875, 0.5361328125, 0.763671875, 0.76025390625, 0.85498046875]\n",
      "print(np.var(x))\n",
      "print(np.var(y))\n",
      "print(np.cov(x,y))\n",
      "print(np.linalg.det(np.cov(x,y)))\n",
      "print(np.linalg.inv(np.cov(x,y)))"
     ],
     "language": "python",
     "metadata": {},
     "outputs": [
      {
       "output_type": "stream",
       "stream": "stdout",
       "text": [
        "0.0359954526648\n",
        "0.0597946187481\n",
        "[[ 0.04113766 -0.05207745]\n",
        " [-0.05207745  0.06833671]]\n",
        "9.91510095756e-05\n",
        "[[ 689.21847022  525.23372519]\n",
        " [ 525.23372519  414.89905513]]\n"
       ]
      }
     ],
     "prompt_number": 422
    },
    {
     "cell_type": "code",
     "collapsed": false,
     "input": [
      "(7.0/8)*0.04113766"
     ],
     "language": "python",
     "metadata": {},
     "outputs": [
      {
       "metadata": {},
       "output_type": "pyout",
       "prompt_number": 420,
       "text": [
        "0.0359954525"
       ]
      }
     ],
     "prompt_number": 420
    },
    {
     "cell_type": "code",
     "collapsed": false,
     "input": [
      "np.sqrt(np.cov(x,y)[0][0])"
     ],
     "language": "python",
     "metadata": {},
     "outputs": [
      {
       "metadata": {},
       "output_type": "pyout",
       "prompt_number": 424,
       "text": [
        "0.20282421006461315"
       ]
      }
     ],
     "prompt_number": 424
    },
    {
     "cell_type": "code",
     "collapsed": false,
     "input": [
      "np.std(x)"
     ],
     "language": "python",
     "metadata": {},
     "outputs": [
      {
       "metadata": {},
       "output_type": "pyout",
       "prompt_number": 425,
       "text": [
        "0.18972467595121237"
       ]
      }
     ],
     "prompt_number": 425
    },
    {
     "cell_type": "code",
     "collapsed": false,
     "input": [
      "np.sqrt(np.var(x))"
     ],
     "language": "python",
     "metadata": {},
     "outputs": [
      {
       "metadata": {},
       "output_type": "pyout",
       "prompt_number": 426,
       "text": [
        "0.18972467595121237"
       ]
      }
     ],
     "prompt_number": 426
    },
    {
     "cell_type": "code",
     "collapsed": false,
     "input": [],
     "language": "python",
     "metadata": {},
     "outputs": []
    }
   ],
   "metadata": {}
  }
 ]
}