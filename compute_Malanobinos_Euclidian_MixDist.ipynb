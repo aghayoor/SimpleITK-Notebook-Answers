{
 "cells": [
  {
   "cell_type": "code",
   "execution_count": 1,
   "metadata": {
    "collapsed": false
   },
   "outputs": [
    {
     "name": "stdout",
     "output_type": "stream",
     "text": [
      "SimpleITK Version: 0.9.1\n",
      "Compiled: Sep 28 2015 10:07:41\n",
      "\n"
     ]
    }
   ],
   "source": [
    "## Boiler plate code common to many notebooks.  See the TestFilesCommonCode.ipynb for details\n",
    "from __future__ import print_function\n",
    "%run TestFilesCommonCode.ipynb"
   ]
  },
  {
   "cell_type": "code",
   "execution_count": 2,
   "metadata": {
    "collapsed": false
   },
   "outputs": [],
   "source": [
    "import numpy as np\n",
    "import pandas as pd\n",
    "from ggplot import *"
   ]
  },
  {
   "cell_type": "code",
   "execution_count": 157,
   "metadata": {
    "collapsed": false
   },
   "outputs": [
    {
     "name": "stdout",
     "output_type": "stream",
     "text": [
      "[0.3, 0.3, 0.8999999999999999, 0.8999999999999999] [0.3, 0.8999999999999999, 0.3, 0.8999999999999999]\n"
     ]
    },
    {
     "data": {
      "text/plain": [
       "array([[ 0.3,  0.3],\n",
       "       [ 0.3,  0.9],\n",
       "       [ 0.9,  0.3],\n",
       "       [ 0.9,  0.9]])"
      ]
     },
     "execution_count": 157,
     "metadata": {},
     "output_type": "execute_result"
    }
   ],
   "source": [
    "# pure\n",
    "#x = [0.7109375, 0.7041015625, 0.6923828125, 0.6728515625, 0.6796875, 0.68994140625, 0.6640625, 0.668701171875]\n",
    "#y = [0.2314453125, 0.23193359375, 0.229248046875, 0.228271484375, 0.2392578125, 0.226318359375, 0.23828125, 0.23046875]\n",
    "\n",
    "#x = [0.4, 0.4, 0.7, 0.1, 0.7, 0.1, 0.1, 0.7, 0.4]\n",
    "#y = [0.3, 0.1, 0.3, 0.3, 0.1, 0.1, 0.2, 0.2, 0.5]\n",
    "\n",
    "#x = [0, 0, 3, -3, 3, -3, -3, 3, 0]\n",
    "#y = [1, -1, 1, 1, -1, -1, 0, 0, 3]\n",
    "\n",
    "#x = [0, 0, 4, -4]\n",
    "#y = [4, -4, 0, 0]\n",
    "\n",
    "### TEST\n",
    "#x=[0.125, 0.15, 0.2, 0.25, 0.3, 0.35, 0.4, 0.425]\n",
    "#y=[0.125, 0.2, 0.1, 0.25, 0.15, 0.3, 0.2, 0.275]\n",
    "\n",
    "#x = [0.1, 0.15, 0.15, 0.3]\n",
    "#y = [0.1, 0.1, 0.15, 0.3]\n",
    "\n",
    "a = 0.3\n",
    "x = [a, a, 3*a, 3*a]\n",
    "y = [a, 3*a, a, 3*a]\n",
    "\n",
    "print(x, y)\n",
    "xy = np.transpose([x, y])\n",
    "xy"
   ]
  },
  {
   "cell_type": "code",
   "execution_count": 158,
   "metadata": {
    "collapsed": false
   },
   "outputs": [
    {
     "data": {
      "text/html": [
       "<div>\n",
       "<table border=\"1\" class=\"dataframe\">\n",
       "  <thead>\n",
       "    <tr style=\"text-align: right;\">\n",
       "      <th></th>\n",
       "      <th>X</th>\n",
       "      <th>Y</th>\n",
       "    </tr>\n",
       "  </thead>\n",
       "  <tbody>\n",
       "    <tr>\n",
       "      <th>0</th>\n",
       "      <td>0.3</td>\n",
       "      <td>0.3</td>\n",
       "    </tr>\n",
       "    <tr>\n",
       "      <th>1</th>\n",
       "      <td>0.3</td>\n",
       "      <td>0.9</td>\n",
       "    </tr>\n",
       "    <tr>\n",
       "      <th>2</th>\n",
       "      <td>0.9</td>\n",
       "      <td>0.3</td>\n",
       "    </tr>\n",
       "    <tr>\n",
       "      <th>3</th>\n",
       "      <td>0.9</td>\n",
       "      <td>0.9</td>\n",
       "    </tr>\n",
       "  </tbody>\n",
       "</table>\n",
       "</div>"
      ],
      "text/plain": [
       "     X    Y\n",
       "0  0.3  0.3\n",
       "1  0.3  0.9\n",
       "2  0.9  0.3\n",
       "3  0.9  0.9"
      ]
     },
     "execution_count": 158,
     "metadata": {},
     "output_type": "execute_result"
    }
   ],
   "source": [
    "DF_xy = pd.DataFrame(xy)\n",
    "DF_xy.rename(columns = lambda x: str(x), inplace=True)\n",
    "DF_xy.rename(columns={\"0\": \"X\"}, inplace=True) # rename a dfcolumn   \n",
    "DF_xy.rename(columns={\"1\": \"Y\"}, inplace=True) # rename a dfcolumn \n",
    "DF_xy"
   ]
  },
  {
   "cell_type": "code",
   "execution_count": 159,
   "metadata": {
    "collapsed": false
   },
   "outputs": [
    {
     "data": {
      "text/plain": [
       "array([[ 0.6,  0.6]])"
      ]
     },
     "execution_count": 159,
     "metadata": {},
     "output_type": "execute_result"
    }
   ],
   "source": [
    "xy_mean = np.array([np.mean(x), np.mean(y)])\n",
    "xy_mean.shape = [1,2]\n",
    "xy_mean"
   ]
  },
  {
   "cell_type": "code",
   "execution_count": 160,
   "metadata": {
    "collapsed": false
   },
   "outputs": [
    {
     "data": {
      "text/html": [
       "<div>\n",
       "<table border=\"1\" class=\"dataframe\">\n",
       "  <thead>\n",
       "    <tr style=\"text-align: right;\">\n",
       "      <th></th>\n",
       "      <th>X</th>\n",
       "      <th>Y</th>\n",
       "    </tr>\n",
       "  </thead>\n",
       "  <tbody>\n",
       "    <tr>\n",
       "      <th>0</th>\n",
       "      <td>0.6</td>\n",
       "      <td>0.6</td>\n",
       "    </tr>\n",
       "  </tbody>\n",
       "</table>\n",
       "</div>"
      ],
      "text/plain": [
       "     X    Y\n",
       "0  0.6  0.6"
      ]
     },
     "execution_count": 160,
     "metadata": {},
     "output_type": "execute_result"
    }
   ],
   "source": [
    "DF_xy_mean = pd.DataFrame(xy_mean)\n",
    "DF_xy_mean.rename(columns = lambda x: str(x), inplace=True)\n",
    "DF_xy_mean.rename(columns={\"0\": \"X\"}, inplace=True) # rename a dfcolumn   \n",
    "DF_xy_mean.rename(columns={\"1\": \"Y\"}, inplace=True) # rename a dfcolumn \n",
    "DF_xy_mean"
   ]
  },
  {
   "cell_type": "code",
   "execution_count": 161,
   "metadata": {
    "collapsed": false
   },
   "outputs": [
    {
     "data": {
      "image/png": "[encoded data removed]",
      "text/plain": [
       "<matplotlib.figure.Figure at 0x11a8c36d0>"
      ]
     },
     "metadata": {},
     "output_type": "display_data"
    },
    {
     "data": {
      "text/plain": [
       "<ggplot: (296187045)>"
      ]
     },
     "execution_count": 161,
     "metadata": {},
     "output_type": "execute_result"
    }
   ],
   "source": [
    "ggplot(DF_xy, aes(x = 'X', y ='Y')) + \\\n",
    "    geom_point(alpha=1, size=100, color='dodgerblue') + \\\n",
    "    labs(x='First Modality', y='Second Modality', title='Scatter of points') + \\\n",
    "    geom_point(data = DF_xy_mean ,alpha=1, size = 100, color='green') + \\\n",
    "    xlim(0,1) + \\\n",
    "    ylim(0,1)"
   ]
  },
  {
   "cell_type": "code",
   "execution_count": 162,
   "metadata": {
    "collapsed": false
   },
   "outputs": [],
   "source": [
    "def MahalanobisDist(x, y):\n",
    "    covariance_xy = np.cov(x,y, rowvar=0)\n",
    "    #print(covariance_xy) # <---\n",
    "    inv_covariance_xy = np.linalg.inv(covariance_xy)\n",
    "    #print(inv_covariance_xy) # <---\n",
    "    xy_mean = np.mean(x),np.mean(y)\n",
    "    #print(xy_mean) # <---\n",
    "    x_diff = np.array([x_i - xy_mean[0] for x_i in x])\n",
    "    y_diff = np.array([y_i - xy_mean[1] for y_i in y])\n",
    "    diff_xy = np.transpose([x_diff, y_diff])\n",
    "    \n",
    "    md = []\n",
    "    for i in range(len(diff_xy)):\n",
    "        md.append(np.sqrt(np.dot(np.dot(np.transpose(diff_xy[i]),inv_covariance_xy),diff_xy[i])))\n",
    "    return md"
   ]
  },
  {
   "cell_type": "code",
   "execution_count": 163,
   "metadata": {
    "collapsed": false
   },
   "outputs": [
    {
     "data": {
      "text/plain": [
       "[1.2247448713915889,\n",
       " 1.2247448713915889,\n",
       " 1.2247448713915889,\n",
       " 1.2247448713915889]"
      ]
     },
     "execution_count": 163,
     "metadata": {},
     "output_type": "execute_result"
    }
   ],
   "source": [
    "MahalanobisDist(x,y)"
   ]
  },
  {
   "cell_type": "code",
   "execution_count": 164,
   "metadata": {
    "collapsed": false
   },
   "outputs": [
    {
     "data": {
      "text/plain": [
       "array([ 1.,  1.,  1.,  1.])"
      ]
     },
     "execution_count": 164,
     "metadata": {},
     "output_type": "execute_result"
    }
   ],
   "source": [
    "MD = MahalanobisDist(x,y)\n",
    "MD/max(MD)"
   ]
  },
  {
   "cell_type": "code",
   "execution_count": 165,
   "metadata": {
    "collapsed": false
   },
   "outputs": [],
   "source": [
    "def EuclideanDistanc(x,y):\n",
    "    xy_mean = np.mean(x),np.mean(y)\n",
    "    #print(xy_mean) # <---\n",
    "    x_diff = np.array([x_i - xy_mean[0] for x_i in x])\n",
    "    y_diff = np.array([y_i - xy_mean[1] for y_i in y])\n",
    "    diff_xy = np.transpose([x_diff, y_diff])\n",
    "    \n",
    "    ed = []\n",
    "    for i in range(len(diff_xy)):\n",
    "        ed.append(np.sqrt(np.dot(np.transpose(diff_xy[i]),diff_xy[i])))\n",
    "    return ed"
   ]
  },
  {
   "cell_type": "code",
   "execution_count": 166,
   "metadata": {
    "collapsed": false
   },
   "outputs": [
    {
     "data": {
      "text/plain": [
       "[0.42426406871192851,\n",
       " 0.42426406871192845,\n",
       " 0.42426406871192845,\n",
       " 0.4242640687119284]"
      ]
     },
     "execution_count": 166,
     "metadata": {},
     "output_type": "execute_result"
    }
   ],
   "source": [
    "EuclideanDistanc(x,y)"
   ]
  },
  {
   "cell_type": "code",
   "execution_count": 167,
   "metadata": {
    "collapsed": false
   },
   "outputs": [
    {
     "data": {
      "text/plain": [
       "array([ 0.42426407,  0.42426407,  0.42426407,  0.42426407])"
      ]
     },
     "execution_count": 167,
     "metadata": {},
     "output_type": "execute_result"
    }
   ],
   "source": [
    "\n",
    "ED = EuclideanDistanc(x,y)\n",
    "MD_norm = MD/max(MD)\n",
    "ED*MD_norm"
   ]
  },
  {
   "cell_type": "code",
   "execution_count": 168,
   "metadata": {
    "collapsed": false
   },
   "outputs": [],
   "source": [
    "def RemoveOutliers(x, y):\n",
    "    MD = MahalanobisDist(x, y)\n",
    "    MD_norm = MD/max(MD)\n",
    "    ED = EuclideanDistanc(x,y)\n",
    "    Dist = ED*MD_norm\n",
    "    threshold = np.mean(Dist) * 1.0 # adjust 1.5 accordingly\n",
    "    print(threshold)\n",
    "    threshold = 0.10\n",
    "    nx, ny = [], []\n",
    "    outliers = np.array([])\n",
    "    for i in range(len(MD)):\n",
    "        if Dist[i] >= threshold:\n",
    "            nx.append(x[i])\n",
    "            ny.append(y[i])\n",
    "    outliers = np.transpose([nx, ny]) # position of removed pair\n",
    "    return outliers"
   ]
  },
  {
   "cell_type": "code",
   "execution_count": 169,
   "metadata": {
    "collapsed": false
   },
   "outputs": [
    {
     "name": "stdout",
     "output_type": "stream",
     "text": [
      "0.424264068712\n",
      "[[ 0.3  0.3]\n",
      " [ 0.3  0.9]\n",
      " [ 0.9  0.3]\n",
      " [ 0.9  0.9]]\n"
     ]
    }
   ],
   "source": [
    "#print('x:', x)\n",
    "#print('y:', y)\n",
    "out_arr = RemoveOutliers(x,y)\n",
    "print(out_arr)"
   ]
  },
  {
   "cell_type": "code",
   "execution_count": 170,
   "metadata": {
    "collapsed": false
   },
   "outputs": [
    {
     "data": {
      "text/html": [
       "<div>\n",
       "<table border=\"1\" class=\"dataframe\">\n",
       "  <thead>\n",
       "    <tr style=\"text-align: right;\">\n",
       "      <th></th>\n",
       "      <th>X</th>\n",
       "      <th>Y</th>\n",
       "    </tr>\n",
       "  </thead>\n",
       "  <tbody>\n",
       "    <tr>\n",
       "      <th>0</th>\n",
       "      <td>0.3</td>\n",
       "      <td>0.3</td>\n",
       "    </tr>\n",
       "    <tr>\n",
       "      <th>1</th>\n",
       "      <td>0.3</td>\n",
       "      <td>0.9</td>\n",
       "    </tr>\n",
       "    <tr>\n",
       "      <th>2</th>\n",
       "      <td>0.9</td>\n",
       "      <td>0.3</td>\n",
       "    </tr>\n",
       "    <tr>\n",
       "      <th>3</th>\n",
       "      <td>0.9</td>\n",
       "      <td>0.9</td>\n",
       "    </tr>\n",
       "  </tbody>\n",
       "</table>\n",
       "</div>"
      ],
      "text/plain": [
       "     X    Y\n",
       "0  0.3  0.3\n",
       "1  0.3  0.9\n",
       "2  0.9  0.3\n",
       "3  0.9  0.9"
      ]
     },
     "execution_count": 170,
     "metadata": {},
     "output_type": "execute_result"
    }
   ],
   "source": [
    "DF_out = pd.DataFrame(out_arr)\n",
    "DF_out.rename(columns = lambda x: str(x), inplace=True)\n",
    "DF_out.rename(columns={\"0\": \"X\"}, inplace=True) # rename a dfcolumn   \n",
    "DF_out.rename(columns={\"1\": \"Y\"}, inplace=True) # rename a dfcolumn \n",
    "DF_out"
   ]
  },
  {
   "cell_type": "code",
   "execution_count": 172,
   "metadata": {
    "collapsed": false
   },
   "outputs": [
    {
     "data": {
      "image/png": "[encoded data removed]",
      "text/plain": [
       "<matplotlib.figure.Figure at 0x11a70cbd0>"
      ]
     },
     "metadata": {},
     "output_type": "display_data"
    },
    {
     "data": {
      "text/plain": [
       "<ggplot: (296637753)>"
      ]
     },
     "execution_count": 172,
     "metadata": {},
     "output_type": "execute_result"
    }
   ],
   "source": [
    "ggplot(DF_xy, aes(x = 'X', y ='Y')) + \\\n",
    "    labs(x='First Modality', y='Second Modality', title='Scatter of points') + \\\n",
    "    geom_point(alpha=1, size=100, color='dodgerblue') + \\\n",
    "    geom_point(data = DF_out, alpha=1, size = 100, color='red') + \\\n",
    "    geom_point(data = DF_xy_mean ,alpha=1, size = 100, color='green') + \\\n",
    "    xlim(0,1) + \\\n",
    "    ylim(0,1)"
   ]
  },
  {
   "cell_type": "code",
   "execution_count": null,
   "metadata": {
    "collapsed": true
   },
   "outputs": [],
   "source": []
  }
 ],
 "metadata": {
  "kernelspec": {
   "display_name": "Python 2",
   "language": "python",
   "name": "python2"
  },
  "language_info": {
   "codemirror_mode": {
    "name": "ipython",
    "version": 2
   },
   "file_extension": ".py",
   "mimetype": "text/x-python",
   "name": "python",
   "nbconvert_exporter": "python",
   "pygments_lexer": "ipython2",
   "version": "2.7.11"
  }
 },
 "nbformat": 4,
 "nbformat_minor": 0
}
