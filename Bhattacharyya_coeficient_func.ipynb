{
 "cells": [
  {
   "cell_type": "code",
   "execution_count": 2,
   "metadata": {
    "collapsed": true
   },
   "outputs": [],
   "source": [
    "%matplotlib inline"
   ]
  },
  {
   "cell_type": "code",
   "execution_count": 3,
   "metadata": {
    "collapsed": true
   },
   "outputs": [],
   "source": [
    "# gs: gold standard\n",
    "# in: input\n",
    "gs_cst_left_fn = '/Shared/johnsonhj/HDNI/ReferenceData/HCP_DATA/test_UKF/100307/2_Rs_0_025/WMQL/wmqa_100307_cst.left.vtp'\n",
    "in_cst_left_fn = '/Shared/johnsonhj/HDNI/ReferenceData/HCP_DATA/test_UKF/100307/1_Rs_default_0_02/WMQL/wmqa_100307_cst.left.vtp'"
   ]
  },
  {
   "cell_type": "code",
   "execution_count": 4,
   "metadata": {
    "collapsed": true
   },
   "outputs": [],
   "source": [
    "def ComputeBhattacharyyaCoeficient(baseline_bundle, sr_bundle):\n",
    "    # read in each fiber bundle\n",
    "    # gs: gold standard, sr: super-resolution reconstructed\n",
    "    import vtk\n",
    "    import numpy as np\n",
    "    ##\n",
    "    def ReturnDistributionInEachCoordinate(bundle):\n",
    "        from scipy import stats\n",
    "        numPoints = bundle.GetNumberOfPoints()\n",
    "        points = bundle.GetPoints()\n",
    "        x_arr = np.array([points.GetPoint(i)[0] for i in xrange(numPoints)])\n",
    "        y_arr = np.array([points.GetPoint(i)[1] for i in xrange(numPoints)])\n",
    "        z_arr = np.array([points.GetPoint(i)[2] for i in xrange(numPoints)])\n",
    "        x = np.linspace(x_arr.min(), x_arr.max(), 100)\n",
    "        y = np.linspace(y_arr.min(), y_arr.max(), 100)\n",
    "        z = np.linspace(z_arr.min(), z_arr.max(), 100)\n",
    "        kde_x = stats.gaussian_kde(x_arr)\n",
    "        kde_y = stats.gaussian_kde(y_arr)\n",
    "        kde_z = stats.gaussian_kde(z_arr)\n",
    "        p_x = kde_x(x)\n",
    "        p_y = kde_y(y)\n",
    "        p_z = kde_z(z)\n",
    "        return p_x, p_y, p_z\n",
    "    ## read in each fiber bundle\n",
    "    reader_gs = vtk.vtkXMLPolyDataReader()\n",
    "    reader_gs.SetFileName(baseline_bundle)\n",
    "    reader_gs.Update()\n",
    "    gs = reader_gs.GetOutput()\n",
    "    #\n",
    "    reader_sr = vtk.vtkXMLPolyDataReader()\n",
    "    reader_sr.SetFileName(sr_bundle)\n",
    "    reader_sr.Update()\n",
    "    sr = reader_sr.GetOutput()\n",
    "    ## Use ksdensity to estimate probability density function for the sample data in each coordinate\n",
    "    [p_gs_x, p_gs_y, p_gs_z] = ReturnDistributionInEachCoordinate(gs)\n",
    "    [p_sr_x, p_sr_y, p_sr_z] = ReturnDistributionInEachCoordinate(sr)\n",
    "    #\n",
    "    BC = (1.0/3.0)*( np.sum(np.sqrt(p_gs_x * p_sr_x)) + np.sum(np.sqrt(p_gs_y * p_sr_y)) + np.sum(np.sqrt(p_gs_z * p_sr_z)) )\n",
    "    return BC"
   ]
  },
  {
   "cell_type": "code",
   "execution_count": 7,
   "metadata": {
    "collapsed": false
   },
   "outputs": [
    {
     "name": "stdout",
     "output_type": "stream",
     "text": [
      "0.97080829719\n"
     ]
    }
   ],
   "source": [
    "bc = ComputeBhattacharyyaCoeficient(gs_cst_left_fn,in_cst_left_fn)\n",
    "print(bc)"
   ]
  },
  {
   "cell_type": "code",
   "execution_count": null,
   "metadata": {
    "collapsed": true
   },
   "outputs": [],
   "source": []
  }
 ],
 "metadata": {
  "kernelspec": {
   "display_name": "Python 2",
   "language": "python",
   "name": "python2"
  },
  "language_info": {
   "codemirror_mode": {
    "name": "ipython",
    "version": 2
   },
   "file_extension": ".py",
   "mimetype": "text/x-python",
   "name": "python",
   "nbconvert_exporter": "python",
   "pygments_lexer": "ipython2",
   "version": "2.7.11"
  }
 },
 "nbformat": 4,
 "nbformat_minor": 0
}
