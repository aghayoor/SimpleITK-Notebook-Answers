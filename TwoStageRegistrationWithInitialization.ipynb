{
 "metadata": {
  "name": "",
  "signature": "sha256:3ff4ebc8b09f182654c02b6937499d753196b892452ca40b7eba725584618f6e"
 },
 "nbformat": 3,
 "nbformat_minor": 0,
 "worksheets": [
  {
   "cells": [
    {
     "cell_type": "code",
     "collapsed": false,
     "input": [
      "import SimpleITK as sitk\n",
      "print sitk.Version()\n",
      "\n",
      "# import convenient method for inline displaying from sitk to pylab \n",
      "from myshow import myshow3d\n",
      "from myshow import myshow\n",
      "\n",
      "import numpy as np\n",
      "\n",
      "import tempfile"
     ],
     "language": "python",
     "metadata": {},
     "outputs": [],
     "prompt_number": null
    },
    {
     "cell_type": "code",
     "collapsed": false,
     "input": [
      "# Run the common code file that includes common functions\n",
      "%run TestFilesCommonCode.ipynb"
     ],
     "language": "python",
     "metadata": {},
     "outputs": [],
     "prompt_number": null
    },
    {
     "cell_type": "code",
     "collapsed": false,
     "input": [
      "ITK_DATA_ROOT = \"/Users/aghayoor/WorkSpace/BS/release/BRAINSTools-build/ExternalData/TestData/\"\n",
      "fixed = sitk.ReadImage(ITK_DATA_ROOT+\"test.nii.gz\", sitk.sitkFloat32)\n",
      "moving = sitk.ReadImage(ITK_DATA_ROOT+\"rotation.test.nii.gz\", sitk.sitkFloat32)\n",
      "baseline = sitk.ReadImage(ITK_DATA_ROOT+\"BRAINSFitTest_AffineRotationMasks.result.nii.gz\", sitk.sitkFloat32)\n",
      "fixedMask = sitk.ReadImage(ITK_DATA_ROOT+\"test_mask.nii.gz\", sitk.sitkFloat32)\n",
      "movingMask = sitk.ReadImage(ITK_DATA_ROOT+\"rotation.test_mask.nii.gz\", sitk.sitkFloat32)\n",
      "myshow3d(fixed, xslices=[], yslices=[], zslices=[], title=\"fixed\")\n",
      "myshow3d(moving, xslices=[], yslices=[], zslices=[], title=\"moving\")\n",
      "myshow3d(baseline, xslices=[], yslices=[], zslices=[], title=\"baseline\")\n",
      "myshow3d(fixedMask, xslices=[], yslices=[], zslices=[], title=\"fixed mask\")\n",
      "myshow3d(movingMask, xslices=[], yslices=[], zslices=[], title=\"moving mask\")"
     ],
     "language": "python",
     "metadata": {},
     "outputs": [],
     "prompt_number": null
    },
    {
     "cell_type": "code",
     "collapsed": false,
     "input": [
      "cshow3d(fixed,moving)"
     ],
     "language": "python",
     "metadata": {},
     "outputs": [],
     "prompt_number": null
    },
    {
     "cell_type": "code",
     "collapsed": false,
     "input": [
      "# Read the initial transform\n",
      "initialMovingTx = sitk.ReadTransform(ITK_DATA_ROOT+\"Transforms_h5/\"+\"BRAINSFitTest_Initializer_RigidRotationNoMasks.h5\")\n",
      "print \"Initial moving transform: \"\n",
      "print initialMovingTx\n",
      "# Define a composite transform that includes the initial transform. \n",
      "# This composite tranform has the container role.\n",
      "ctx = sitk.Transform(initialMovingTx)"
     ],
     "language": "python",
     "metadata": {},
     "outputs": [],
     "prompt_number": null
    },
    {
     "cell_type": "code",
     "collapsed": false,
     "input": [
      "print ctx"
     ],
     "language": "python",
     "metadata": {},
     "outputs": [],
     "prompt_number": null
    },
    {
     "cell_type": "code",
     "collapsed": false,
     "input": [
      "# Stage 1\n",
      "# Set the registration filter\n",
      "R = sitk.ImageRegistrationMethod()\n",
      "# Transform of the first stage\n",
      "tx1 = sitk.VersorRigid3DTransform()\n",
      "tx1.SetFixedParameters(initialMovingTx.GetFixedParameters())\n",
      "R.SetInitialTransform(tx1,inPlace=False)\n",
      "# Set the initial transform of this stage\n",
      "R.SetMovingInitialTransform(ctx)\n",
      "# Set the other components of the registration filter\n",
      "R.SetMetricFixedMask(fixedMask)\n",
      "R.SetMetricMovingMask(movingMask)\n",
      "R.SetMetricAsMattesMutualInformation( 200 )\n",
      "R.SetOptimizerAsRegularStepGradientDescent(learningRate =0.2,\n",
      "                                           minStep=1e-3,\n",
      "                                           numberOfIterations=250,\n",
      "                                           gradientMagnitudeTolerance=1e-4,\n",
      "                                           estimateLearningRate=R.Never)\n",
      "R.SetOptimizerScales([1, 1, 1, 1.0/250, 1.0/250, 1.0/250])\n",
      "R.SetInterpolator(sitk.sitkLinear)\n",
      "R.SetMetricSamplingPercentage(0.5)\n",
      "R.SetMetricSamplingStrategy(R.RANDOM)\n",
      "R.SetShrinkFactorsPerLevel([1])\n",
      "R.SetSmoothingSigmasPerLevel([0])"
     ],
     "language": "python",
     "metadata": {},
     "outputs": [],
     "prompt_number": null
    },
    {
     "cell_type": "code",
     "collapsed": false,
     "input": [
      "R.RemoveAllCommands()\n",
      "R.AddCommand( sitk.sitkIterationEvent, lambda: command_iteration(R) )\n",
      "outTx = R.Execute(sitk.Cast(fixed,sitk.sitkFloat32), sitk.Cast(moving,sitk.sitkFloat32))\n",
      "\n",
      "print(\"-------\")\n",
      "print(outTx)\n",
      "print(\"Optimizer stop condition: {0}\".format(R.GetOptimizerStopConditionDescription()))\n",
      "print(\" Iteration: {0}\".format(R.GetOptimizerIteration()))\n",
      "print(\" Metric value: {0}\".format(R.GetMetricValue()))"
     ],
     "language": "python",
     "metadata": {},
     "outputs": [],
     "prompt_number": null
    },
    {
     "cell_type": "code",
     "collapsed": false,
     "input": [
      "# Update the composite transform with the output of the first stage\n",
      "ctx.AddTransform(outTx)\n",
      "cshow3d(fixed,moving,ctx)"
     ],
     "language": "python",
     "metadata": {},
     "outputs": [],
     "prompt_number": null
    },
    {
     "cell_type": "code",
     "collapsed": false,
     "input": [
      "print ctx"
     ],
     "language": "python",
     "metadata": {},
     "outputs": [],
     "prompt_number": null
    },
    {
     "cell_type": "code",
     "collapsed": false,
     "input": [
      "# Stage 2\n",
      "tx2 = sitk.AffineTransform(fixed.GetDimension())\n",
      "tx2.SetFixedParameters(tx1.GetFixedParameters())\n",
      "R.SetInitialTransform(tx2,inPlace=False)\n",
      "R.SetMovingInitialTransform(ctx)\n",
      "# Set a new optimizer\n",
      "R.SetOptimizerAsConjugateGradientLineSearch(learningRate=0.2,\n",
      "                                            numberOfIterations=250,\n",
      "                                            convergenceMinimumValue=1e-6,\n",
      "                                            convergenceWindowSize=10,\n",
      "                                            lineSearchLowerLimit=0,\n",
      "                                            lineSearchUpperLimit=2,\n",
      "                                            lineSearchEpsilon=0.2,\n",
      "                                            lineSearchMaximumIterations=40,\n",
      "                                            estimateLearningRate=R.EachIteration,\n",
      "                                            maximumStepSizeInPhysicalUnits=0.2)\n",
      "R.SetOptimizerScalesFromPhysicalShift()\n",
      "affineOut = R.Execute(fixed,moving)\n",
      "print(\"-------\")\n",
      "print(affineOut)\n",
      "print(\"Optimizer stop condition: {0}\".format(R.GetOptimizerStopConditionDescription()))\n",
      "print(\" Iteration: {0}\".format(R.GetOptimizerIteration()))\n",
      "print(\" Metric value: {0}\".format(R.GetMetricValue()))"
     ],
     "language": "python",
     "metadata": {},
     "outputs": [],
     "prompt_number": null
    },
    {
     "cell_type": "code",
     "collapsed": false,
     "input": [
      "# Update the composite transform with the output of the second stage\n",
      "ctx.AddTransform(affineOut)\n",
      "cshow3d(fixed,moving,ctx)"
     ],
     "language": "python",
     "metadata": {},
     "outputs": [],
     "prompt_number": null
    },
    {
     "cell_type": "code",
     "collapsed": false,
     "input": [
      "compare_with_baseline(fixed,moving,baseline,transform=ctx,numberOfPixelsTolerance=777,radiusTolerance=0,intensityTolerance=7)"
     ],
     "language": "python",
     "metadata": {},
     "outputs": [],
     "prompt_number": null
    },
    {
     "cell_type": "code",
     "collapsed": false,
     "input": [
      "print ctx"
     ],
     "language": "python",
     "metadata": {},
     "outputs": [],
     "prompt_number": null
    },
    {
     "cell_type": "code",
     "collapsed": false,
     "input": [],
     "language": "python",
     "metadata": {},
     "outputs": [],
     "prompt_number": null
    }
   ],
   "metadata": {}
  }
 ]
}