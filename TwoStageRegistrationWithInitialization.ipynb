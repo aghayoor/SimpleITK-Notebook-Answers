{
 "metadata": {
  "name": ""
 },
 "nbformat": 3,
 "nbformat_minor": 0,
 "worksheets": [
  {
   "cells": [
    {
     "cell_type": "code",
     "collapsed": false,
     "input": [
      "## Boiler plate code common to many notebooks.  See the TestFilesCommonCode.ipynb for details\n",
      "from __future__ import print_function\n",
      "%run TestFilesCommonCode.ipynb"
     ],
     "language": "python",
     "metadata": {},
     "outputs": [],
     "prompt_number": null
    },
    {
     "cell_type": "code",
     "collapsed": false,
     "input": [
      "\n",
      "fixedImageFilename = fdata('BRAINSTools/test.nii.gz')\n",
      "movingImageFilename = fdata('BRAINSTools/rotation.test.nii.gz')\n",
      "fixed = sitk.ReadImage(fixedImageFilename,sitk.sitkFloat32)\n",
      "moving = sitk.ReadImage(movingImageFilename, sitk.sitkFloat32)\n",
      "\n",
      "referenceBaselineImageFilename = fdata('BRAINSTools/BRAINSFitTest_AffineRotationMasks.result.nii.gz')\n",
      "baseline = sitk.ReadImage(referenceBaselineImageFilename, sitk.sitkFloat32)\n",
      "myshow3d(fixed, xslices=[], yslices=[], zslices=[], title=\"fixed\")\n",
      "myshow3d(moving, xslices=[], yslices=[], zslices=[], title=\"moving\")\n",
      "myshow3d(baseline, xslices=[], yslices=[], zslices=[], title=\"baseline\")\n",
      "\n",
      "\n",
      "fixedMaskFilename = fdata(\"BRAINSTools/test_mask.nii.gz\")\n",
      "movingMaskFilename = fdata(\"BRAINSTools/rotation.test_mask.nii.gz\")\n",
      "fixedMask = sitk.ReadImage(fixedMaskFilename, sitk.sitkFloat32)\n",
      "movingMask = sitk.ReadImage(movingMaskFilename, sitk.sitkFloat32)\n",
      "\n",
      "myshow3d(fixed, xslices=[], yslices=[], zslices=[], title=\"fixed\")\n",
      "myshow3d(moving, xslices=[], yslices=[], zslices=[], title=\"moving\")\n",
      "myshow3d(baseline, xslices=[], yslices=[], zslices=[], title=\"baseline\")\n",
      "myshow3d(fixedMask, xslices=[], yslices=[], zslices=[], title=\"fixed mask\")\n",
      "myshow3d(movingMask, xslices=[], yslices=[], zslices=[], title=\"moving mask\")"
     ],
     "language": "python",
     "metadata": {},
     "outputs": [],
     "prompt_number": null
    },
    {
     "cell_type": "code",
     "collapsed": false,
     "input": [
      "cshow3d(fixed,moving)"
     ],
     "language": "python",
     "metadata": {},
     "outputs": [],
     "prompt_number": null
    },
    {
     "cell_type": "code",
     "collapsed": false,
     "input": [
      "# Read the initial transform\n",
      "initialMovingTxFilename = fdata('BRAINSTools/BRAINSFitTest_Initializer_RigidRotationNoMasks.h5')\n",
      "initialMovingTx = sitk.ReadTransform(initialMovingTxFilename)\n",
      "print(\"Initial moving transform: \")\n",
      "print(initialMovingTx)\n",
      "# Define a composite transform that includes the initial transform. \n",
      "# This composite tranform has the container role.\n",
      "ctx = sitk.Transform(initialMovingTx)"
     ],
     "language": "python",
     "metadata": {},
     "outputs": [],
     "prompt_number": null
    },
    {
     "cell_type": "code",
     "collapsed": false,
     "input": [
      "print(ctx)"
     ],
     "language": "python",
     "metadata": {},
     "outputs": [],
     "prompt_number": null
    },
    {
     "cell_type": "code",
     "collapsed": false,
     "input": [
      "# Stage 1\n",
      "# Set the registration filter\n",
      "R = sitk.ImageRegistrationMethod()\n",
      "# Transform of the first stage\n",
      "tx1 = sitk.VersorRigid3DTransform()\n",
      "tx1.SetFixedParameters(initialMovingTx.GetFixedParameters())\n",
      "R.SetInitialTransform(tx1,inPlace=False)\n",
      "# Set the initial transform of this stage\n",
      "R.SetMovingInitialTransform(ctx)\n",
      "# Set the other components of the registration filter\n",
      "R.SetMetricFixedMask(fixedMask)\n",
      "R.SetMetricMovingMask(movingMask)\n",
      "R.SetMetricAsMattesMutualInformation( 200 )\n",
      "R.SetOptimizerAsRegularStepGradientDescent(learningRate =0.2,\n",
      "                                           minStep=1e-3,\n",
      "                                           numberOfIterations=250,\n",
      "                                           gradientMagnitudeTolerance=1e-4,\n",
      "                                           estimateLearningRate=R.Never)\n",
      "R.SetOptimizerScales([1, 1, 1, 1.0/250, 1.0/250, 1.0/250])\n",
      "R.SetInterpolator(sitk.sitkLinear)\n",
      "R.SetMetricSamplingPercentage(0.5)\n",
      "R.SetMetricSamplingStrategy(R.RANDOM)\n",
      "R.SetShrinkFactorsPerLevel([1])\n",
      "R.SetSmoothingSigmasPerLevel([0])"
     ],
     "language": "python",
     "metadata": {},
     "outputs": [],
     "prompt_number": null
    },
    {
     "cell_type": "code",
     "collapsed": false,
     "input": [
      "def command_iteration(method) :\n",
      "    print(\"{0} = {1} : {2}\".format(method.GetOptimizerIteration(),\n",
      "                                   method.GetMetricValue(),\n",
      "                                   method.GetOptimizerPosition()), end='\\n')\n",
      "    sys.stdout.flush()\n",
      "\n",
      "def command_save_start(method):\n",
      "        global cmd_values, cmd_positions\n",
      "        cmd_values = np.array([])\n",
      "        cmd_positions = np.ndarray(shape=(0,len(method.GetInitialTransform().GetParameters())))\n",
      "    \n",
      "def command_save_iteration(method):\n",
      "    global cmd_values, cmd_positions\n",
      "    cmd_values = np.concatenate((cmd_values,[method.GetMetricValue()]))\n",
      "    cmd_positions = np.concatenate((cmd_positions,[method.GetOptimizerPosition()]),axis=0)\n",
      "    \n",
      "\n",
      "def plot2DTranslation(values, positions, figtitle=\"\"):\n",
      "    from matplotlib.font_manager import FontProperties\n",
      "    \n",
      "    fig, (ax0, ax1) = plt.subplots(nrows=2)\n",
      "    \n",
      "    \n",
      "    if figtitle != \"\":\n",
      "        fig.text(0.5, 0.95, figtitle,\n",
      "               horizontalalignment='center',\n",
      "               fontproperties=FontProperties(size=16))\n",
      "    ax0.plot(range(len(values)),values)\n",
      "    ax0.set_title('Metric Value')\n",
      "    ax0.set_xlabel('value')\n",
      "    ax0.set_ylabel('iteration #')\n",
      "\n",
      "    ax1.plot(positions[:,-1],positions[:,-2])\n",
      "    ax1.set_title('Position')\n",
      "    ax1.set_xlabel('x translation')\n",
      "    ax1.set_ylabel('y translation')\n",
      "\n",
      "    plt.tight_layout()\n",
      "    plt.show()\n",
      "    "
     ],
     "language": "python",
     "metadata": {},
     "outputs": [],
     "prompt_number": null
    },
    {
     "cell_type": "code",
     "collapsed": false,
     "input": [
      "\n",
      "\n",
      "\n",
      "R.RemoveAllCommands()\n",
      "R.AddCommand( sitk.sitkIterationEvent, lambda: command_iteration(R) )\n",
      "outTx = R.Execute(sitk.Cast(fixed,sitk.sitkFloat32), sitk.Cast(moving,sitk.sitkFloat32))\n",
      "\n",
      "print(\"-------\")\n",
      "print(outTx)\n",
      "print(\"Optimizer stop condition: {0}\".format(R.GetOptimizerStopConditionDescription()))\n",
      "print(\" Iteration: {0}\".format(R.GetOptimizerIteration()))\n",
      "print(\" Metric value: {0}\".format(R.GetMetricValue()))"
     ],
     "language": "python",
     "metadata": {},
     "outputs": [],
     "prompt_number": null
    },
    {
     "cell_type": "code",
     "collapsed": false,
     "input": [
      "# Update the composite transform with the output of the first stage\n",
      "ctx.AddTransform(outTx)\n",
      "cshow3d(fixed,moving,ctx)"
     ],
     "language": "python",
     "metadata": {},
     "outputs": [],
     "prompt_number": null
    },
    {
     "cell_type": "code",
     "collapsed": false,
     "input": [
      "print(ctx)"
     ],
     "language": "python",
     "metadata": {},
     "outputs": [],
     "prompt_number": null
    },
    {
     "cell_type": "code",
     "collapsed": false,
     "input": [
      "# Stage 2\n",
      "tx2 = sitk.AffineTransform(fixed.GetDimension())\n",
      "tx2.SetFixedParameters(tx1.GetFixedParameters())\n",
      "R.SetInitialTransform(tx2,inPlace=False)\n",
      "R.SetMovingInitialTransform(ctx)\n",
      "# Set a new optimizer\n",
      "R.SetOptimizerAsConjugateGradientLineSearch(learningRate=0.2,\n",
      "                                            numberOfIterations=250,\n",
      "                                            convergenceMinimumValue=1e-6,\n",
      "                                            convergenceWindowSize=10,\n",
      "                                            lineSearchLowerLimit=0,\n",
      "                                            lineSearchUpperLimit=2,\n",
      "                                            lineSearchEpsilon=0.2,\n",
      "                                            lineSearchMaximumIterations=40,\n",
      "                                            estimateLearningRate=R.EachIteration,\n",
      "                                            maximumStepSizeInPhysicalUnits=0.2)\n",
      "R.SetOptimizerScalesFromPhysicalShift()\n",
      "affineOut = R.Execute(fixed,moving)\n",
      "print(\"-------\")\n",
      "print(affineOut)\n",
      "print(\"Optimizer stop condition: {0}\".format(R.GetOptimizerStopConditionDescription()))\n",
      "print(\" Iteration: {0}\".format(R.GetOptimizerIteration()))\n",
      "print(\" Metric value: {0}\".format(R.GetMetricValue()))"
     ],
     "language": "python",
     "metadata": {},
     "outputs": [],
     "prompt_number": null
    },
    {
     "cell_type": "code",
     "collapsed": false,
     "input": [
      "# Update the composite transform with the output of the second stage\n",
      "ctx.AddTransform(affineOut)\n",
      "cshow3d(fixed,moving,ctx)"
     ],
     "language": "python",
     "metadata": {},
     "outputs": [],
     "prompt_number": null
    },
    {
     "cell_type": "code",
     "collapsed": false,
     "input": [
      "compare_with_baseline(fixed,moving,baseline,transform=ctx,numberOfPixelsTolerance=777,radiusTolerance=0,intensityTolerance=7)"
     ],
     "language": "python",
     "metadata": {},
     "outputs": [],
     "prompt_number": null
    },
    {
     "cell_type": "code",
     "collapsed": false,
     "input": [
      "print(ctx)"
     ],
     "language": "python",
     "metadata": {},
     "outputs": [],
     "prompt_number": null
    },
    {
     "cell_type": "code",
     "collapsed": false,
     "input": [],
     "language": "python",
     "metadata": {},
     "outputs": [],
     "prompt_number": null
    }
   ],
   "metadata": {}
  }
 ]
}