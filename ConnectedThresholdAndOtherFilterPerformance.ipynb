{
 "cells": [
  {
   "cell_type": "code",
   "execution_count": 30,
   "metadata": {
    "collapsed": false
   },
   "outputs": [
    {
     "name": "stdout",
     "output_type": "stream",
     "text": [
      "SimpleITK Version: 0.9.0\n",
      "Compiled: May 14 2015 00:27:05\n",
      "\n"
     ]
    }
   ],
   "source": [
    "import matplotlib.pyplot as plt\n",
    "%matplotlib inline\n",
    "\n",
    "import SimpleITK as sitk\n",
    "print( sitk.Version() )\n",
    "\n",
    "# Download data to work on\n",
    "from downloaddata import fetch_midas_data as fdata\n",
    "\n",
    "from myshow import myshow\n",
    "\n",
    "from __future__ import print_function\n"
   ]
  },
  {
   "cell_type": "markdown",
   "metadata": {},
   "source": [
    "#Demonstrate Reporting of Progress With ConnectedThresholdImageFilter"
   ]
  },
  {
   "cell_type": "code",
   "execution_count": 7,
   "metadata": {
    "collapsed": false
   },
   "outputs": [],
   "source": [
    "img = sitk.Image(100,100, sitk.sitkUInt8)"
   ]
  },
  {
   "cell_type": "code",
   "execution_count": 23,
   "metadata": {
    "collapsed": false
   },
   "outputs": [
    {
     "data": {
      "text/plain": [
       "0"
      ]
     },
     "execution_count": 23,
     "metadata": {},
     "output_type": "execute_result"
    }
   ],
   "source": [
    "ctFilter = sitk.ConnectedThresholdImageFilter()\n",
    "ctFilter.SetSeed([0,0])\n",
    "ctFilter.SetUpper(1)\n",
    "ctFilter.SetLower(0)\n",
    "ctFilter.AddCommand(sitk.sitkProgressEvent, lambda: print(\"\\rProgress: {0:03.1f}%...\".format(100*ctFilter.GetProgress())))"
   ]
  },
  {
   "cell_type": "markdown",
   "metadata": {},
   "source": [
    "Demonstrate reporting of Progress"
   ]
  },
  {
   "cell_type": "code",
   "execution_count": 24,
   "metadata": {
    "collapsed": false,
    "scrolled": true
   },
   "outputs": [
    {
     "name": "stdout",
     "output_type": "stream",
     "text": [
      "\r",
      "Progress: 0.0%...\n",
      "\r",
      "Progress: 1.0%...\n",
      "\r",
      "Progress: 2.0%...\n",
      "\r",
      "Progress: 3.0%...\n",
      "\r",
      "Progress: 4.0%...\n",
      "\r",
      "Progress: 5.0%...\n",
      "\r",
      "Progress: 6.0%...\n",
      "\r",
      "Progress: 7.0%...\n",
      "\r",
      "Progress: 8.0%...\n",
      "\r",
      "Progress: 9.0%...\n",
      "\r",
      "Progress: 10.0%...\n",
      "\r",
      "Progress: 11.0%...\n",
      "\r",
      "Progress: 12.0%...\n",
      "\r",
      "Progress: 13.0%...\n",
      "\r",
      "Progress: 14.0%...\n",
      "\r",
      "Progress: 15.0%...\n",
      "\r",
      "Progress: 16.0%...\n",
      "\r",
      "Progress: 17.0%...\n",
      "\r",
      "Progress: 18.0%...\n",
      "\r",
      "Progress: 19.0%...\n",
      "\r",
      "Progress: 20.0%...\n",
      "\r",
      "Progress: 21.0%...\n",
      "\r",
      "Progress: 22.0%...\n",
      "\r",
      "Progress: 23.0%...\n",
      "\r",
      "Progress: 24.0%...\n",
      "\r",
      "Progress: 25.0%...\n",
      "\r",
      "Progress: 26.0%...\n",
      "\r",
      "Progress: 27.0%...\n",
      "\r",
      "Progress: 28.0%...\n",
      "\r",
      "Progress: 29.0%...\n",
      "\r",
      "Progress: 30.0%...\n",
      "\r",
      "Progress: 31.0%...\n",
      "\r",
      "Progress: 32.0%...\n",
      "\r",
      "Progress: 33.0%...\n",
      "\r",
      "Progress: 34.0%...\n",
      "\r",
      "Progress: 35.0%...\n",
      "\r",
      "Progress: 36.0%...\n",
      "\r",
      "Progress: 37.0%...\n",
      "\r",
      "Progress: 38.0%...\n",
      "\r",
      "Progress: 39.0%...\n",
      "\r",
      "Progress: 40.0%...\n",
      "\r",
      "Progress: 41.0%...\n",
      "\r",
      "Progress: 42.0%...\n",
      "\r",
      "Progress: 43.0%...\n",
      "\r",
      "Progress: 44.0%...\n",
      "\r",
      "Progress: 45.0%...\n",
      "\r",
      "Progress: 46.0%...\n",
      "\r",
      "Progress: 47.0%...\n",
      "\r",
      "Progress: 48.0%...\n",
      "\r",
      "Progress: 49.0%...\n",
      "\r",
      "Progress: 50.0%...\n",
      "\r",
      "Progress: 51.0%...\n",
      "\r",
      "Progress: 52.0%...\n",
      "\r",
      "Progress: 53.0%...\n",
      "\r",
      "Progress: 54.0%...\n",
      "\r",
      "Progress: 55.0%...\n",
      "\r",
      "Progress: 56.0%...\n",
      "\r",
      "Progress: 57.0%...\n",
      "\r",
      "Progress: 58.0%...\n",
      "\r",
      "Progress: 59.0%...\n",
      "\r",
      "Progress: 60.0%...\n",
      "\r",
      "Progress: 61.0%...\n",
      "\r",
      "Progress: 62.0%...\n",
      "\r",
      "Progress: 63.0%...\n",
      "\r",
      "Progress: 64.0%...\n",
      "\r",
      "Progress: 65.0%...\n",
      "\r",
      "Progress: 66.0%...\n",
      "\r",
      "Progress: 67.0%...\n",
      "\r",
      "Progress: 68.0%...\n",
      "\r",
      "Progress: 69.0%...\n",
      "\r",
      "Progress: 70.0%...\n",
      "\r",
      "Progress: 71.0%...\n",
      "\r",
      "Progress: 72.0%...\n",
      "\r",
      "Progress: 73.0%...\n",
      "\r",
      "Progress: 74.0%...\n",
      "\r",
      "Progress: 75.0%...\n",
      "\r",
      "Progress: 76.0%...\n",
      "\r",
      "Progress: 77.0%...\n",
      "\r",
      "Progress: 78.0%...\n",
      "\r",
      "Progress: 79.0%...\n",
      "\r",
      "Progress: 80.0%...\n",
      "\r",
      "Progress: 81.0%...\n",
      "\r",
      "Progress: 82.0%...\n",
      "\r",
      "Progress: 83.0%...\n",
      "\r",
      "Progress: 84.0%...\n",
      "\r",
      "Progress: 85.0%...\n",
      "\r",
      "Progress: 86.0%...\n",
      "\r",
      "Progress: 87.0%...\n",
      "\r",
      "Progress: 88.0%...\n",
      "\r",
      "Progress: 89.0%...\n",
      "\r",
      "Progress: 90.0%...\n",
      "\r",
      "Progress: 91.0%...\n",
      "\r",
      "Progress: 92.0%...\n",
      "\r",
      "Progress: 93.0%...\n",
      "\r",
      "Progress: 94.0%...\n",
      "\r",
      "Progress: 95.0%...\n",
      "\r",
      "Progress: 96.0%...\n",
      "\r",
      "Progress: 97.0%...\n",
      "\r",
      "Progress: 98.0%...\n",
      "\r",
      "Progress: 99.0%...\n",
      "\r",
      "Progress: 100.0%...\n",
      "\r",
      "Progress: 100.0%...\n"
     ]
    },
    {
     "data": {
      "text/plain": [
       "<SimpleITK.SimpleITK.Image; proxy of <Swig Object of type 'std::vector< itk::simple::Image >::value_type *' at 0x111dea840> >"
      ]
     },
     "execution_count": 24,
     "metadata": {},
     "output_type": "execute_result"
    }
   ],
   "source": [
    "ctFilter.Execute(img)"
   ]
  },
  {
   "cell_type": "markdown",
   "metadata": {},
   "source": [
    "# Performance comparison of Median and Rank image fitlers"
   ]
  },
  {
   "cell_type": "code",
   "execution_count": 38,
   "metadata": {
    "collapsed": false
   },
   "outputs": [
    {
     "data": {
      "image/png": "[encoded data removed]",
      "text/plain": [
       "<matplotlib.figure.Figure at 0x11e26c150>"
      ]
     },
     "metadata": {},
     "output_type": "display_data"
    }
   ],
   "source": [
    "img = sitk.Image(100,100,100,sitk.sitkFloat32)\n",
    "img = sitk.AdditiveGaussianNoise(img)\n",
    "myshow(img)\n",
    "\n",
    "radius = [3,3,3]"
   ]
  },
  {
   "cell_type": "code",
   "execution_count": 42,
   "metadata": {
    "collapsed": false
   },
   "outputs": [
    {
     "name": "stdout",
     "output_type": "stream",
     "text": [
      "1 loops, best of 3: 1.08 s per loop\n"
     ]
    }
   ],
   "source": [
    "%timeit -n 1 sitk.Median(img,radius=radius)"
   ]
  },
  {
   "cell_type": "code",
   "execution_count": 44,
   "metadata": {
    "collapsed": false
   },
   "outputs": [
    {
     "name": "stdout",
     "output_type": "stream",
     "text": [
      "1 loops, best of 3: 1.52 s per loop\n"
     ]
    }
   ],
   "source": [
    "%timeit -n 1 sitk.FastApproximateRank(img, rank=0.5, radius=radius)"
   ]
  },
  {
   "cell_type": "code",
   "execution_count": 45,
   "metadata": {
    "collapsed": false
   },
   "outputs": [
    {
     "name": "stdout",
     "output_type": "stream",
     "text": [
      "1 loops, best of 3: 4.3 s per loop\n"
     ]
    }
   ],
   "source": [
    "%timeit -n 1 sitk.Rank(img, rank=0.5, radius=radius)"
   ]
  },
  {
   "cell_type": "code",
   "execution_count": 46,
   "metadata": {
    "collapsed": false
   },
   "outputs": [
    {
     "name": "stdout",
     "output_type": "stream",
     "text": [
      "1 loops, best of 3: 576 ms per loop\n"
     ]
    }
   ],
   "source": [
    "%timeit -n 1 sitk.Mean(img,radius=radius)"
   ]
  },
  {
   "cell_type": "markdown",
   "metadata": {},
   "source": [
    "# Compare Binary and GrayScale Dilate"
   ]
  },
  {
   "cell_type": "code",
   "execution_count": null,
   "metadata": {
    "collapsed": true
   },
   "outputs": [],
   "source": [
    "img = sitk.ReadImage(fdata(\"cthead1.png\"))\n",
    "myshow(img)\n",
    "\n",
    "# First create a simple binary image (0 and 1s) for the common cthead1.png test data set\n",
    "bimg = img >100\n",
    "myshow(bimg)"
   ]
  },
  {
   "cell_type": "markdown",
   "metadata": {},
   "source": [
    "Visually show that for binary images the output will be the same."
   ]
  },
  {
   "cell_type": "code",
   "execution_count": 57,
   "metadata": {
    "collapsed": false
   },
   "outputs": [
    {
     "data": {
      "image/png": "[encoded data removed]",
      "text/plain": [
       "<matplotlib.figure.Figure at 0x111d89cd0>"
      ]
     },
     "metadata": {},
     "output_type": "display_data"
    },
    {
     "data": {
      "image/png": "[encoded data removed]",
      "text/plain": [
       "<matplotlib.figure.Figure at 0x11e8ef0d0>"
      ]
     },
     "metadata": {},
     "output_type": "display_data"
    }
   ],
   "source": [
    "myshow(sitk.BinaryDilate(bimg, radius, sitk.sitkBall), title=\"BinaryDilate\")\n",
    "myshow(sitk.GrayscaleDilate(bimg, radius, sitk.sitkBall), title=\"GrayscaleDilate\")"
   ]
  },
  {
   "cell_type": "markdown",
   "metadata": {},
   "source": [
    "Breifly show that there is a performance difference. These images are only 2D an small to it may not be very accurate, but the filters use different algoritms and the GrayscaleDilate changes which algorithm based on the structuring element."
   ]
  },
  {
   "cell_type": "code",
   "execution_count": 66,
   "metadata": {
    "collapsed": false
   },
   "outputs": [
    {
     "name": "stdout",
     "output_type": "stream",
     "text": [
      "100 loops, best of 3: 3.16 ms per loop\n",
      "100 loops, best of 3: 4.3 ms per loop\n"
     ]
    }
   ],
   "source": [
    "%timeit -n 100 sitk.BinaryDilate(bimg, 10, sitk.sitkBall)\n",
    "%timeit -n 100 sitk.GrayscaleDilate(bimg, 10, sitk.sitkBall)"
   ]
  },
  {
   "cell_type": "code",
   "execution_count": 65,
   "metadata": {
    "collapsed": false
   },
   "outputs": [
    {
     "name": "stdout",
     "output_type": "stream",
     "text": [
      "100 loops, best of 3: 3.29 ms per loop\n",
      "100 loops, best of 3: 2.44 ms per loop\n"
     ]
    }
   ],
   "source": [
    "%timeit -n 100 sitk.BinaryDilate(bimg, 10, sitk.sitkBox)\n",
    "%timeit -n 100 sitk.GrayscaleDilate(bimg, 10, sitk.sitkBox)"
   ]
  },
  {
   "cell_type": "code",
   "execution_count": null,
   "metadata": {
    "collapsed": true
   },
   "outputs": [],
   "source": []
  }
 ],
 "metadata": {
  "kernelspec": {
   "display_name": "Python 2",
   "language": "python",
   "name": "python2"
  },
  "language_info": {
   "codemirror_mode": {
    "name": "ipython",
    "version": 2
   },
   "file_extension": ".py",
   "mimetype": "text/x-python",
   "name": "python",
   "nbconvert_exporter": "python",
   "pygments_lexer": "ipython2",
   "version": "2.7.5"
  }
 },
 "nbformat": 4,
 "nbformat_minor": 0
}
