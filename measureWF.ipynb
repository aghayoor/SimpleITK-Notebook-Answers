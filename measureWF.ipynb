{
 "metadata": {
  "name": "",
  "signature": "sha256:cb5ef314198f3ebe01b357253265d28d7fc64b310d5ee1c0284a54071b1901f4"
 },
 "nbformat": 3,
 "nbformat_minor": 0,
 "worksheets": [
  {
   "cells": [
    {
     "cell_type": "code",
     "collapsed": false,
     "input": [
      "## Boiler plate code common to many notebooks.  See the TestFilesCommonCode.ipynb for details\n",
      "from __future__ import print_function\n",
      "%run TestFilesCommonCode.ipynb"
     ],
     "language": "python",
     "metadata": {},
     "outputs": [
      {
       "output_type": "stream",
       "stream": "stdout",
       "text": [
        "SimpleITK Version: 0.9.0.dev2151-g2a716\n",
        "Compiled: Dec 23 2014 21:10:53\n",
        "\n"
       ]
      }
     ],
     "prompt_number": 1
    },
    {
     "cell_type": "code",
     "collapsed": false,
     "input": [
      "import os\n",
      "import glob\n",
      "import sys\n",
      "\n",
      "#\\/\\/\\/\\/\\/\\/\\/\\/\\/\\/\\/\\/\\/\\/\\/\\/\\/\\/\\/\\/\\/\\/\\/\\/\\/\\/\\/\\/\\/\\/\\/\\/\\/\\/\\/\\/\\/\\/\\/\\/\\/\\/\\/\n",
      "#####################################################################################\n",
      "#     Prepend the shell environment search paths\n",
      "PROGRAM_PATHS = '/scratch/NAMICExternalProjects/release/bin'\n",
      "PROGRAM_PATHS = PROGRAM_PATHS.split(':')\n",
      "PROGRAM_PATHS.extend(os.environ['PATH'].split(':'))\n",
      "os.environ['PATH'] = ':'.join(PROGRAM_PATHS)\n",
      "\n",
      "CUSTOM_ENVIRONMENT=dict()\n",
      "\n",
      "# Platform specific information\n",
      "#     Prepend the python search paths\n",
      "PYTHON_AUX_PATHS = '/scratch/BS/BRAINSTools/AutoWorkup'\n",
      "PYTHON_AUX_PATHS = PYTHON_AUX_PATHS.split(':')\n",
      "PYTHON_AUX_PATHS.extend(sys.path)\n",
      "sys.path = PYTHON_AUX_PATHS\n",
      "\n",
      "import SimpleITK as sitk\n",
      "import nipype\n",
      "from nipype.interfaces.base import CommandLine, CommandLineInputSpec, TraitedSpec, File, Directory\n",
      "from nipype.interfaces.base import traits, isdefined, BaseInterface\n",
      "from nipype.interfaces.utility import Merge, Split, Function, Rename, IdentityInterface\n",
      "import nipype.interfaces.io as nio   # Data i/oS\n",
      "import nipype.pipeline.engine as pe  # pypeline engine\n",
      "import nipype.interfaces.matlab as matlab\n",
      "from SEMTools import *"
     ],
     "language": "python",
     "metadata": {},
     "outputs": [],
     "prompt_number": 55
    },
    {
     "cell_type": "code",
     "collapsed": false,
     "input": [
      "SRC_DIR='/scratch/TESTS/BS/DWIWorkflow_Nipype/7_repeatTest6InFloat/19568/Outputs'\n",
      "FA = os.path.join(SRC_DIR,'FA.nrrd')\n",
      "MD = os.path.join(SRC_DIR,'MD.nrrd')\n",
      "RD = os.path.join(SRC_DIR,'RD.nrrd')\n",
      "frob_norm = os.path.join(SRC_DIR,'frobenius_norm_output.nrrd')\n",
      "L1 = os.path.join(SRC_DIR,'lambda1_output.nrrd')\n",
      "L2 = os.path.join(SRC_DIR,'lambda2_output.nrrd')\n",
      "L3 = os.path.join(SRC_DIR,'lambda3_output.nrrd')\n",
      "DWIBrainMask = os.path.join(SRC_DIR,'BrainMaskForDWI.nrrd')\n",
      "T2LabelMap = '/Shared/sinapse/CACHE/20141001_PREDICTHD_long_Results/PHD_024/1155/19568/TissueClassify/fswm_extended_neuro2012_20_merge_seg.nii.gz'"
     ],
     "language": "python",
     "metadata": {},
     "outputs": [],
     "prompt_number": 56
    },
    {
     "cell_type": "code",
     "collapsed": false,
     "input": [
      "#\\/\\/\\/\\/\\/\\/\\/\\/\\/\\/\\/\\/\\/\\/\\/\\/\n",
      "###### UTILITY FUNCTIONS #######\n",
      "# This function returns a label map that only covers the FOV of the input DWI scan\n",
      "def CreateDWILabelMap(T2LabelMapVolume,DWIBrainMask):\n",
      "    import os\n",
      "    import SimpleITK as sitk\n",
      "    T2LabelMapVolume = sitk.ReadImage(T2LabelMapVolume,sitk.sitkUInt8)\n",
      "    DWIBrainMask = sitk.ReadImage(DWIBrainMask)\n",
      "    # 1- Dilate input DWI mask\n",
      "    dilateFilter = sitk.BinaryDilateImageFilter()\n",
      "    dilateFilter.SetKernelRadius(1)\n",
      "    dilated_mask = dilateFilter.Execute( DWIBrainMask )\n",
      "    # 2- Resample dilated mask to the space of T2LabelMap (1x1x1)\n",
      "    # Use Linear interpolation + thresholding\n",
      "    resFilt = sitk.ResampleImageFilter()\n",
      "    resFilt.SetReferenceImage(T2LabelMapVolume)\n",
      "    resFilt.SetOutputPixelType(sitk.sitkFloat32)\n",
      "    resFilt.SetInterpolator(sitk.sitkLinear)\n",
      "    resampled_dilated_mask = resFilt.Execute(dilated_mask)\n",
      "    # Thresholding by 0\n",
      "    threshFilt = sitk.BinaryThresholdImageFilter()\n",
      "    thresh_resampled_dilated_mask = threshFilt.Execute(resampled_dilated_mask,0.0001,1.0,1,0)\n",
      "    # 3- Multiply this binary mask to the T2 labelmap volume\n",
      "    DWILabelMapVolume = thresh_resampled_dilated_mask * T2LabelMapVolume\n",
      "    outputVolume = os.path.realpath('DWILabelMapVolume.nrrd')\n",
      "    sitk.WriteImage(DWILabelMapVolume, outputVolume)\n",
      "    return outputVolume\n",
      "\n",
      "def MakeResamplerInFileList(FAImage,MDImage,RDImage,FrobeniusNormImage,Lambda1Image,Lambda2Image,Lambda3Image):\n",
      "    RISsList = [FAImage,MDImage,RDImage,FrobeniusNormImage,Lambda1Image,Lambda2Image,Lambda3Image]\n",
      "    return RISsList\n",
      "\n",
      "# This functions computes statistics of each input RIS volume over input labels \n",
      "# and writes the results as a CSV file\n",
      "def ComputeStatistics(inputVolume,T2LabelMapVolume,DWILabelMapVolume,labelCodesFile): \n",
      "    import os\n",
      "    import SimpleITK as sitk\n",
      "    #### Util Funcs ####\n",
      "    def createLabelsDictionary(labelCodesFile):\n",
      "        import csv\n",
      "        labelsDictionary={}\n",
      "        with open(labelCodesFile) as lf:\n",
      "            reader = csv.reader(lf, delimiter=',')\n",
      "            for line in reader:\n",
      "              if line[0][0] == \"#\":\n",
      "                 continue\n",
      "              else:\n",
      "                 labelsDictionary[line[0]] = line[1]\n",
      "        return labelsDictionary\n",
      "    \n",
      "    def computeVoxelVolume(inputVolume):\n",
      "        import operator\n",
      "        return reduce(operator.mul, inputVolume.GetSpacing())\n",
      "    \n",
      "    def ReturnStatisticsList(labelID,voxelVolume,resampledRISVolume,DWILabelMap,T2LabelMap):\n",
      "        statFilter = sitk.LabelStatisticsImageFilter()\n",
      "        # RIS stats over input label ID\n",
      "        statFilter.Execute(resampledRISVolume, DWILabelMap)\n",
      "        mean = statFilter.GetMean(labelID)\n",
      "        std = statFilter.GetSigma(labelID)\n",
      "        maximum = statFilter.GetMaximum(labelID)\n",
      "        minimum = statFilter.GetMinimum(labelID)\n",
      "        median = statFilter.GetMedian(labelID)\n",
      "        effectiveVolume = statFilter.GetCount(labelID)*voxelVolume\n",
      "        # compute total volume of input label ID in the non-cropped labelmap (T2LabelMap)\n",
      "        statFilter.Execute(resampledRISVolume, T2LabelMap)\n",
      "        totalVolume = statFilter.GetCount(labelID)*voxelVolume\n",
      "        # if effectiveVolume is 0, the label is missed in dwi scan, or it doesn't exists in current labelmaps\n",
      "        # in both cases we need zero confidence coefficient for that.\n",
      "        if effectiveVolume == 0:\n",
      "            confidence_coeficient = 0\n",
      "            maximum = 0\n",
      "            minimum = 0\n",
      "        else:\n",
      "            confidence_coeficient=effectiveVolume/totalVolume\n",
      "        # Now create statistics list\n",
      "        statsList = [format(mean,'.4f'),\n",
      "                     format(std,'.4f'),\n",
      "                     format(maximum,'.4f'),\n",
      "                     format(minimum,'.4f'),\n",
      "                     format(median,'.4f'),\n",
      "                     effectiveVolume,\n",
      "                     totalVolume,\n",
      "                     format(confidence_coeficient,'.3f')]\n",
      "        return statsList\n",
      "    \n",
      "    def writeLabelStatistics(filename,statisticsDictionary):\n",
      "        import csv\n",
      "        with open(filename, 'wb') as lf:\n",
      "            headerdata = [['#Label', 'mean', 'std', 'max', 'min', 'median', 'effective_volume', 'total_volume', 'confidence_coeficient']]\n",
      "            wr = csv.writer(lf, delimiter=',')\n",
      "            wr.writerows(headerdata)\n",
      "            for key, value in sorted(statisticsDictionary.items()):\n",
      "                wr.writerows([[key] + value])\n",
      "    #### #### #### ####\n",
      "    resampledRISVolume = sitk.ReadImage(inputVolume)\n",
      "    T2LabelMap = sitk.ReadImage(T2LabelMapVolume)\n",
      "    DWILabelMap = sitk.ReadImage(DWILabelMapVolume)\n",
      "    labelsDictionary = createLabelsDictionary(labelCodesFile)\n",
      "    statisticsDictionary={}\n",
      "    voxelVolume=computeVoxelVolume(resampledRISVolume)\n",
      "    for key in labelsDictionary:\n",
      "        labelID = int(key)   \n",
      "        statisticsDictionary[labelsDictionary[key]] = ReturnStatisticsList(labelID,voxelVolume,resampledRISVolume,DWILabelMap,T2LabelMap)\n",
      "    inputBaseName = os.path.basename(inputVolume)\n",
      "    inputName = os.path.splitext(inputBaseName)[0]\n",
      "    RISName = inputName.split('_',1)[0]\n",
      "    CSVStatisticsFile = os.path.realpath(RISName + '_statistics.csv')\n",
      "    writeLabelStatistics(CSVStatisticsFile,statisticsDictionary)\n",
      "    return CSVStatisticsFile\n",
      "\n",
      "# This function helps to pick desirable output from the output list\n",
      "def pickFromList(inputlist,item):\n",
      "    return inputlist[item]\n",
      "#################################\n",
      "#\\/\\/\\/\\/\\/\\/\\/\\/\\/\\/\\/\\/\\/\\/\\/\\/"
     ],
     "language": "python",
     "metadata": {},
     "outputs": [],
     "prompt_number": 57
    },
    {
     "cell_type": "code",
     "collapsed": false,
     "input": [
      "BASE_DIR = '/scratch/TESTS/IpythonNotebook/4_measureWF'\n",
      "WFname = \"MeasurementWF\"\n",
      "\n",
      "MeasurementWF = pe.Workflow(name=WFname)\n",
      "MeasurementWF.base_dir = BASE_DIR\n",
      "\n",
      "inputsSpec = pe.Node(interface=IdentityInterface(fields=['T2LabelMapVolume','DWIBrainMask','inputLabelCodes',\n",
      "                                                         'FAImage','MDImage','RDImage','FrobeniusNormImage',\n",
      "                                                         'Lambda1Image','Lambda2Image','Lambda3Image']),\n",
      "                     name='inputsSpec')\n",
      "\n",
      "inputsSpec.inputs.inputLabelCodes = '/Shared/sinapse/scratch/aghayoor/NAMICExternalProjects/release/BRAINSTools/AutoWorkup/DWIProcessingWorkflows/FS_Extended_Labels_Config.csv'\n",
      "inputsSpec.inputs.T2LabelMapVolume = T2LabelMap\n",
      "inputsSpec.inputs.DWIBrainMask = DWIBrainMask\n",
      "inputsSpec.inputs.FAImage = FA\n",
      "inputsSpec.inputs.MDImage = MD\n",
      "inputsSpec.inputs.RDImage = RD\n",
      "inputsSpec.inputs.FrobeniusNormImage = frob_norm\n",
      "inputsSpec.inputs.Lambda1Image = L1\n",
      "inputsSpec.inputs.Lambda2Image = L2\n",
      "inputsSpec.inputs.Lambda3Image = L3\n",
      "\n",
      "outputsSpec = pe.Node(interface=IdentityInterface(fields=['FA_stats','MD_stats','RD_stats','FrobeniusNorm_stats',\n",
      "                                                          'Lambda1_stats','Lambda2_stats','Lambda3_stats']),\n",
      "                      name='outputsSpec')\n",
      "\n",
      "# Step1: Create the labelmap volume for DWI scan\n",
      "CreateDWILabelMapNode = pe.Node(interface=Function(function = CreateDWILabelMap,\n",
      "                                                   input_names=['T2LabelMapVolume','DWIBrainMask'],\n",
      "                                                   output_names=['DWILabelMapVolume']),\n",
      "                                name=\"CreateDWILabelMap\")\n",
      "MeasurementWF.connect(inputsSpec, 'T2LabelMapVolume', CreateDWILabelMapNode, 'T2LabelMapVolume')\n",
      "MeasurementWF.connect(inputsSpec, 'DWIBrainMask', CreateDWILabelMapNode, 'DWIBrainMask')\n",
      "\n",
      "# Now we have two labelmap volumes (both have 1x1x1 voxel lattice):\n",
      "# (1) T2LabelMap: Used to compute total_volume for each label\n",
      "# (2) DWILabelMap: It is probably cropped and missed some part of labels,\n",
      "#                  and is used to compute all stats like [mean,std,max,min,median,effective_volume].\n",
      "\n",
      "# Step2: Resample each RIS to T2LabelmapVolume voxel lattice \n",
      "MakeResamplerInFilesListNode = pe.Node(Function(function=MakeResamplerInFileList,\n",
      "                                                input_names=['FAImage','MDImage','RDImage','FrobeniusNormImage',\n",
      "                                                                 'Lambda1Image','Lambda2Image','Lambda3Image'],\n",
      "                                                output_names=['RISsList']),\n",
      "                                       name=\"MakeResamplerInFilesListNode\")\n",
      "MeasurementWF.connect([(inputsSpec, MakeResamplerInFilesListNode, [('FAImage','FAImage'),\n",
      "                                                                   ('MDImage','MDImage'),\n",
      "                                                                   ('RDImage','RDImage'),\n",
      "                                                                   ('FrobeniusNormImage','FrobeniusNormImage'),\n",
      "                                                                   ('Lambda1Image','Lambda1Image'),\n",
      "                                                                   ('Lambda2Image','Lambda2Image'),\n",
      "                                                                   ('Lambda3Image','Lambda3Image')])])\n",
      "\n",
      "ResampleRISsNode = pe.MapNode(interface=BRAINSResample(), name=\"ResampleRISs\",\n",
      "                              iterfield=['inputVolume', 'outputVolume'])\n",
      "ResampleRISsNode.inputs.interpolationMode = 'Linear'\n",
      "ResampleRISsNode.inputs.pixelType = 'float'\n",
      "ResampleRISsNode.inputs.outputVolume = ['FA_res.nrrd','MD_res.nrrd','RD_res.nrrd','FrobeniusNorm_res.nrrd',\n",
      "                                        'Lambda1_res.nrrd','Lambda2_res.nrrd','Lambda3_res.nrrd']\n",
      "MeasurementWF.connect(inputsSpec,'T2LabelMapVolume',ResampleRISsNode,'referenceVolume')\n",
      "MeasurementWF.connect(MakeResamplerInFilesListNode,'RISsList',ResampleRISsNode,'inputVolume')\n",
      "\n",
      "# Step3: Deal with labels\n",
      "ComputeStatisticsNode = pe.MapNode(interface=Function(function = ComputeStatistics,\n",
      "                                                   input_names=['inputVolume','T2LabelMapVolume','DWILabelMapVolume','labelCodesFile'],\n",
      "                                                   output_names=['CSVStatisticsFile']),\n",
      "                                name=\"ComputeStatistics\",\n",
      "                                iterfield=['inputVolume'])\n",
      "MeasurementWF.connect(ResampleRISsNode, 'outputVolume', ComputeStatisticsNode, 'inputVolume')\n",
      "MeasurementWF.connect(inputsSpec, 'T2LabelMapVolume', ComputeStatisticsNode, 'T2LabelMapVolume')\n",
      "MeasurementWF.connect(CreateDWILabelMapNode, 'DWILabelMapVolume', ComputeStatisticsNode, 'DWILabelMapVolume')\n",
      "MeasurementWF.connect(inputsSpec, 'inputLabelCodes', ComputeStatisticsNode, 'labelCodesFile')\n",
      "MeasurementWF.connect(ComputeStatisticsNode, ('CSVStatisticsFile', pickFromList, 0), outputsSpec, 'FA_stats')\n",
      "MeasurementWF.connect(ComputeStatisticsNode, ('CSVStatisticsFile', pickFromList, 1), outputsSpec, 'MD_stats')\n",
      "MeasurementWF.connect(ComputeStatisticsNode, ('CSVStatisticsFile', pickFromList, 2), outputsSpec, 'RD_stats')\n",
      "MeasurementWF.connect(ComputeStatisticsNode, ('CSVStatisticsFile', pickFromList, 3), outputsSpec, 'FrobeniusNorm_stats')\n",
      "MeasurementWF.connect(ComputeStatisticsNode, ('CSVStatisticsFile', pickFromList, 4), outputsSpec, 'Lambda1_stats')\n",
      "MeasurementWF.connect(ComputeStatisticsNode, ('CSVStatisticsFile', pickFromList, 5), outputsSpec, 'Lambda2_stats')\n",
      "MeasurementWF.connect(ComputeStatisticsNode, ('CSVStatisticsFile', pickFromList, 6), outputsSpec, 'Lambda3_stats')\n",
      "\n",
      "MeasurementWF.write_graph()\n",
      "MeasurementWF.run()\n"
     ],
     "language": "python",
     "metadata": {},
     "outputs": [
      {
       "output_type": "stream",
       "stream": "stderr",
       "text": [
        "INFO:workflow:Converting dotfile: /scratch/TESTS/IpythonNotebook/4_measureWF/MeasurementWF/graph.dot to png format\n"
       ]
      },
      {
       "output_type": "stream",
       "stream": "stderr",
       "text": [
        "INFO:workflow:['check', 'execution', 'logging']\n"
       ]
      },
      {
       "output_type": "stream",
       "stream": "stderr",
       "text": [
        "INFO:workflow:Running serially.\n"
       ]
      },
      {
       "output_type": "stream",
       "stream": "stderr",
       "text": [
        "INFO:workflow:Executing node CreateDWILabelMap in dir: /scratch/TESTS/IpythonNotebook/4_measureWF/MeasurementWF/CreateDWILabelMap\n"
       ]
      },
      {
       "output_type": "stream",
       "stream": "stderr",
       "text": [
        "INFO:workflow:Executing node MakeResamplerInFilesListNode in dir: /scratch/TESTS/IpythonNotebook/4_measureWF/MeasurementWF/MakeResamplerInFilesListNode\n"
       ]
      },
      {
       "output_type": "stream",
       "stream": "stderr",
       "text": [
        "INFO:workflow:Collecting precomputed outputs\n"
       ]
      },
      {
       "output_type": "stream",
       "stream": "stderr",
       "text": [
        "INFO:workflow:Executing node ResampleRISs in dir: /scratch/TESTS/IpythonNotebook/4_measureWF/MeasurementWF/ResampleRISs\n"
       ]
      },
      {
       "output_type": "stream",
       "stream": "stderr",
       "text": [
        "INFO:workflow:Executing node _ResampleRISs0 in dir: /scratch/TESTS/IpythonNotebook/4_measureWF/MeasurementWF/ResampleRISs/mapflow/_ResampleRISs0\n"
       ]
      },
      {
       "output_type": "stream",
       "stream": "stderr",
       "text": [
        "INFO:workflow:Running:  BRAINSResample  --inputVolume /scratch/TESTS/BS/DWIWorkflow_Nipype/7_repeatTest6InFloat/19568/Outputs/FA.nrrd --interpolationMode Linear --outputVolume FA_res.nrrd --pixelType float --referenceVolume /Shared/sinapse/CACHE/20141001_PREDICTHD_long_Results/PHD_024/1155/19568/TissueClassify/fswm_extended_neuro2012_20_merge_seg.nii.gz\n"
       ]
      },
      {
       "output_type": "stream",
       "stream": "stderr",
       "text": [
        "INFO:interface:stdout 2015-03-22T17:24:07.001221:WARNING: neither warpTransform nor deformationVolume are defined, so warpTransform is set as identity.\n"
       ]
      },
      {
       "output_type": "stream",
       "stream": "stderr",
       "text": [
        "INFO:interface:stdout 2015-03-22T17:24:07.001221:=====================================================\n"
       ]
      },
      {
       "output_type": "stream",
       "stream": "stderr",
       "text": [
        "INFO:interface:stdout 2015-03-22T17:24:07.001221:Input Volume:     /scratch/TESTS/BS/DWIWorkflow_Nipype/7_repeatTest6InFloat/19568/Outputs/FA.nrrd\n"
       ]
      },
      {
       "output_type": "stream",
       "stream": "stderr",
       "text": [
        "INFO:interface:stdout 2015-03-22T17:24:07.001221:Reference Volume: /Shared/sinapse/CACHE/20141001_PREDICTHD_long_Results/PHD_024/1155/19568/TissueClassify/fswm_extended_neuro2012_20_merge_seg.nii.gz\n"
       ]
      },
      {
       "output_type": "stream",
       "stream": "stderr",
       "text": [
        "INFO:interface:stdout 2015-03-22T17:24:07.001221:Output Volume:    FA_res.nrrd\n"
       ]
      },
      {
       "output_type": "stream",
       "stream": "stderr",
       "text": [
        "INFO:interface:stdout 2015-03-22T17:24:07.001221:Pixel Type:       float\n"
       ]
      },
      {
       "output_type": "stream",
       "stream": "stderr",
       "text": [
        "INFO:interface:stdout 2015-03-22T17:24:07.001221:Interpolation:    Linear\n"
       ]
      },
      {
       "output_type": "stream",
       "stream": "stderr",
       "text": [
        "INFO:interface:stdout 2015-03-22T17:24:07.001221:Background Value: 0\n"
       ]
      },
      {
       "output_type": "stream",
       "stream": "stderr",
       "text": [
        "INFO:interface:stdout 2015-03-22T17:24:07.001221:Warp By Transform: Identity\n"
       ]
      },
      {
       "output_type": "stream",
       "stream": "stderr",
       "text": [
        "INFO:interface:stdout 2015-03-22T17:24:07.001221:=====================================================\n"
       ]
      },
      {
       "output_type": "stream",
       "stream": "stderr",
       "text": [
        "INFO:workflow:Executing node _ResampleRISs1 in dir: /scratch/TESTS/IpythonNotebook/4_measureWF/MeasurementWF/ResampleRISs/mapflow/_ResampleRISs1\n"
       ]
      },
      {
       "output_type": "stream",
       "stream": "stderr",
       "text": [
        "INFO:workflow:Running:  BRAINSResample  --inputVolume /scratch/TESTS/BS/DWIWorkflow_Nipype/7_repeatTest6InFloat/19568/Outputs/MD.nrrd --interpolationMode Linear --outputVolume MD_res.nrrd --pixelType float --referenceVolume /Shared/sinapse/CACHE/20141001_PREDICTHD_long_Results/PHD_024/1155/19568/TissueClassify/fswm_extended_neuro2012_20_merge_seg.nii.gz\n"
       ]
      },
      {
       "output_type": "stream",
       "stream": "stderr",
       "text": [
        "INFO:interface:stdout 2015-03-22T17:24:07.782477:WARNING: neither warpTransform nor deformationVolume are defined, so warpTransform is set as identity.\n"
       ]
      },
      {
       "output_type": "stream",
       "stream": "stderr",
       "text": [
        "INFO:interface:stdout 2015-03-22T17:24:07.782477:=====================================================\n"
       ]
      },
      {
       "output_type": "stream",
       "stream": "stderr",
       "text": [
        "INFO:interface:stdout 2015-03-22T17:24:07.782477:Input Volume:     /scratch/TESTS/BS/DWIWorkflow_Nipype/7_repeatTest6InFloat/19568/Outputs/MD.nrrd\n"
       ]
      },
      {
       "output_type": "stream",
       "stream": "stderr",
       "text": [
        "INFO:interface:stdout 2015-03-22T17:24:07.782477:Reference Volume: /Shared/sinapse/CACHE/20141001_PREDICTHD_long_Results/PHD_024/1155/19568/TissueClassify/fswm_extended_neuro2012_20_merge_seg.nii.gz\n"
       ]
      },
      {
       "output_type": "stream",
       "stream": "stderr",
       "text": [
        "INFO:interface:stdout 2015-03-22T17:24:07.782477:Output Volume:    MD_res.nrrd\n"
       ]
      },
      {
       "output_type": "stream",
       "stream": "stderr",
       "text": [
        "INFO:interface:stdout 2015-03-22T17:24:07.782477:Pixel Type:       float\n"
       ]
      },
      {
       "output_type": "stream",
       "stream": "stderr",
       "text": [
        "INFO:interface:stdout 2015-03-22T17:24:07.782477:Interpolation:    Linear\n"
       ]
      },
      {
       "output_type": "stream",
       "stream": "stderr",
       "text": [
        "INFO:interface:stdout 2015-03-22T17:24:07.782477:Background Value: 0\n"
       ]
      },
      {
       "output_type": "stream",
       "stream": "stderr",
       "text": [
        "INFO:interface:stdout 2015-03-22T17:24:07.782477:Warp By Transform: Identity\n"
       ]
      },
      {
       "output_type": "stream",
       "stream": "stderr",
       "text": [
        "INFO:interface:stdout 2015-03-22T17:24:07.782477:=====================================================\n"
       ]
      },
      {
       "output_type": "stream",
       "stream": "stderr",
       "text": [
        "INFO:workflow:Executing node _ResampleRISs2 in dir: /scratch/TESTS/IpythonNotebook/4_measureWF/MeasurementWF/ResampleRISs/mapflow/_ResampleRISs2\n"
       ]
      },
      {
       "output_type": "stream",
       "stream": "stderr",
       "text": [
        "INFO:workflow:Running:  BRAINSResample  --inputVolume /scratch/TESTS/BS/DWIWorkflow_Nipype/7_repeatTest6InFloat/19568/Outputs/RD.nrrd --interpolationMode Linear --outputVolume RD_res.nrrd --pixelType float --referenceVolume /Shared/sinapse/CACHE/20141001_PREDICTHD_long_Results/PHD_024/1155/19568/TissueClassify/fswm_extended_neuro2012_20_merge_seg.nii.gz\n"
       ]
      },
      {
       "output_type": "stream",
       "stream": "stderr",
       "text": [
        "INFO:interface:stdout 2015-03-22T17:24:08.490293:WARNING: neither warpTransform nor deformationVolume are defined, so warpTransform is set as identity.\n"
       ]
      },
      {
       "output_type": "stream",
       "stream": "stderr",
       "text": [
        "INFO:interface:stdout 2015-03-22T17:24:08.490293:=====================================================\n"
       ]
      },
      {
       "output_type": "stream",
       "stream": "stderr",
       "text": [
        "INFO:interface:stdout 2015-03-22T17:24:08.490293:Input Volume:     /scratch/TESTS/BS/DWIWorkflow_Nipype/7_repeatTest6InFloat/19568/Outputs/RD.nrrd\n"
       ]
      },
      {
       "output_type": "stream",
       "stream": "stderr",
       "text": [
        "INFO:interface:stdout 2015-03-22T17:24:08.490293:Reference Volume: /Shared/sinapse/CACHE/20141001_PREDICTHD_long_Results/PHD_024/1155/19568/TissueClassify/fswm_extended_neuro2012_20_merge_seg.nii.gz\n"
       ]
      },
      {
       "output_type": "stream",
       "stream": "stderr",
       "text": [
        "INFO:interface:stdout 2015-03-22T17:24:08.490293:Output Volume:    RD_res.nrrd\n"
       ]
      },
      {
       "output_type": "stream",
       "stream": "stderr",
       "text": [
        "INFO:interface:stdout 2015-03-22T17:24:08.490293:Pixel Type:       float\n"
       ]
      },
      {
       "output_type": "stream",
       "stream": "stderr",
       "text": [
        "INFO:interface:stdout 2015-03-22T17:24:08.490293:Interpolation:    Linear\n"
       ]
      },
      {
       "output_type": "stream",
       "stream": "stderr",
       "text": [
        "INFO:interface:stdout 2015-03-22T17:24:08.490293:Background Value: 0\n"
       ]
      },
      {
       "output_type": "stream",
       "stream": "stderr",
       "text": [
        "INFO:interface:stdout 2015-03-22T17:24:08.490293:Warp By Transform: Identity\n"
       ]
      },
      {
       "output_type": "stream",
       "stream": "stderr",
       "text": [
        "INFO:interface:stdout 2015-03-22T17:24:08.490293:=====================================================\n"
       ]
      },
      {
       "output_type": "stream",
       "stream": "stderr",
       "text": [
        "INFO:workflow:Executing node _ResampleRISs3 in dir: /scratch/TESTS/IpythonNotebook/4_measureWF/MeasurementWF/ResampleRISs/mapflow/_ResampleRISs3\n"
       ]
      },
      {
       "output_type": "stream",
       "stream": "stderr",
       "text": [
        "INFO:workflow:Running:  BRAINSResample  --inputVolume /scratch/TESTS/BS/DWIWorkflow_Nipype/7_repeatTest6InFloat/19568/Outputs/frobenius_norm_output.nrrd --interpolationMode Linear --outputVolume FrobeniusNorm_res.nrrd --pixelType float --referenceVolume /Shared/sinapse/CACHE/20141001_PREDICTHD_long_Results/PHD_024/1155/19568/TissueClassify/fswm_extended_neuro2012_20_merge_seg.nii.gz\n"
       ]
      },
      {
       "output_type": "stream",
       "stream": "stderr",
       "text": [
        "INFO:interface:stdout 2015-03-22T17:24:09.391768:WARNING: neither warpTransform nor deformationVolume are defined, so warpTransform is set as identity.\n"
       ]
      },
      {
       "output_type": "stream",
       "stream": "stderr",
       "text": [
        "INFO:interface:stdout 2015-03-22T17:24:09.391768:=====================================================\n"
       ]
      },
      {
       "output_type": "stream",
       "stream": "stderr",
       "text": [
        "INFO:interface:stdout 2015-03-22T17:24:09.391768:Input Volume:     /scratch/TESTS/BS/DWIWorkflow_Nipype/7_repeatTest6InFloat/19568/Outputs/frobenius_norm_output.nrrd\n"
       ]
      },
      {
       "output_type": "stream",
       "stream": "stderr",
       "text": [
        "INFO:interface:stdout 2015-03-22T17:24:09.391768:Reference Volume: /Shared/sinapse/CACHE/20141001_PREDICTHD_long_Results/PHD_024/1155/19568/TissueClassify/fswm_extended_neuro2012_20_merge_seg.nii.gz\n"
       ]
      },
      {
       "output_type": "stream",
       "stream": "stderr",
       "text": [
        "INFO:interface:stdout 2015-03-22T17:24:09.391768:Output Volume:    FrobeniusNorm_res.nrrd\n"
       ]
      },
      {
       "output_type": "stream",
       "stream": "stderr",
       "text": [
        "INFO:interface:stdout 2015-03-22T17:24:09.391768:Pixel Type:       float\n"
       ]
      },
      {
       "output_type": "stream",
       "stream": "stderr",
       "text": [
        "INFO:interface:stdout 2015-03-22T17:24:09.391768:Interpolation:    Linear\n"
       ]
      },
      {
       "output_type": "stream",
       "stream": "stderr",
       "text": [
        "INFO:interface:stdout 2015-03-22T17:24:09.391768:Background Value: 0\n"
       ]
      },
      {
       "output_type": "stream",
       "stream": "stderr",
       "text": [
        "INFO:interface:stdout 2015-03-22T17:24:09.395214:Warp By Transform: Identity\n"
       ]
      },
      {
       "output_type": "stream",
       "stream": "stderr",
       "text": [
        "INFO:interface:stdout 2015-03-22T17:24:09.395214:=====================================================\n"
       ]
      },
      {
       "output_type": "stream",
       "stream": "stderr",
       "text": [
        "INFO:workflow:Executing node _ResampleRISs4 in dir: /scratch/TESTS/IpythonNotebook/4_measureWF/MeasurementWF/ResampleRISs/mapflow/_ResampleRISs4\n"
       ]
      },
      {
       "output_type": "stream",
       "stream": "stderr",
       "text": [
        "INFO:workflow:Running:  BRAINSResample  --inputVolume /scratch/TESTS/BS/DWIWorkflow_Nipype/7_repeatTest6InFloat/19568/Outputs/lambda1_output.nrrd --interpolationMode Linear --outputVolume Lambda1_res.nrrd --pixelType float --referenceVolume /Shared/sinapse/CACHE/20141001_PREDICTHD_long_Results/PHD_024/1155/19568/TissueClassify/fswm_extended_neuro2012_20_merge_seg.nii.gz\n"
       ]
      },
      {
       "output_type": "stream",
       "stream": "stderr",
       "text": [
        "INFO:interface:stdout 2015-03-22T17:24:10.091891:WARNING: neither warpTransform nor deformationVolume are defined, so warpTransform is set as identity.\n"
       ]
      },
      {
       "output_type": "stream",
       "stream": "stderr",
       "text": [
        "INFO:interface:stdout 2015-03-22T17:24:10.091891:=====================================================\n"
       ]
      },
      {
       "output_type": "stream",
       "stream": "stderr",
       "text": [
        "INFO:interface:stdout 2015-03-22T17:24:10.091891:Input Volume:     /scratch/TESTS/BS/DWIWorkflow_Nipype/7_repeatTest6InFloat/19568/Outputs/lambda1_output.nrrd\n"
       ]
      },
      {
       "output_type": "stream",
       "stream": "stderr",
       "text": [
        "INFO:interface:stdout 2015-03-22T17:24:10.091891:Reference Volume: /Shared/sinapse/CACHE/20141001_PREDICTHD_long_Results/PHD_024/1155/19568/TissueClassify/fswm_extended_neuro2012_20_merge_seg.nii.gz\n"
       ]
      },
      {
       "output_type": "stream",
       "stream": "stderr",
       "text": [
        "INFO:interface:stdout 2015-03-22T17:24:10.091891:Output Volume:    Lambda1_res.nrrd\n"
       ]
      },
      {
       "output_type": "stream",
       "stream": "stderr",
       "text": [
        "INFO:interface:stdout 2015-03-22T17:24:10.091891:Pixel Type:       float\n"
       ]
      },
      {
       "output_type": "stream",
       "stream": "stderr",
       "text": [
        "INFO:interface:stdout 2015-03-22T17:24:10.091891:Interpolation:    Linear\n"
       ]
      },
      {
       "output_type": "stream",
       "stream": "stderr",
       "text": [
        "INFO:interface:stdout 2015-03-22T17:24:10.091891:Background Value: 0\n"
       ]
      },
      {
       "output_type": "stream",
       "stream": "stderr",
       "text": [
        "INFO:interface:stdout 2015-03-22T17:24:10.091891:Warp By Transform: Identity\n"
       ]
      },
      {
       "output_type": "stream",
       "stream": "stderr",
       "text": [
        "INFO:interface:stdout 2015-03-22T17:24:10.091891:=====================================================\n"
       ]
      },
      {
       "output_type": "stream",
       "stream": "stderr",
       "text": [
        "INFO:workflow:Executing node _ResampleRISs5 in dir: /scratch/TESTS/IpythonNotebook/4_measureWF/MeasurementWF/ResampleRISs/mapflow/_ResampleRISs5\n"
       ]
      },
      {
       "output_type": "stream",
       "stream": "stderr",
       "text": [
        "INFO:workflow:Running:  BRAINSResample  --inputVolume /scratch/TESTS/BS/DWIWorkflow_Nipype/7_repeatTest6InFloat/19568/Outputs/lambda2_output.nrrd --interpolationMode Linear --outputVolume Lambda2_res.nrrd --pixelType float --referenceVolume /Shared/sinapse/CACHE/20141001_PREDICTHD_long_Results/PHD_024/1155/19568/TissueClassify/fswm_extended_neuro2012_20_merge_seg.nii.gz\n"
       ]
      },
      {
       "output_type": "stream",
       "stream": "stderr",
       "text": [
        "INFO:interface:stdout 2015-03-22T17:24:10.797074:WARNING: neither warpTransform nor deformationVolume are defined, so warpTransform is set as identity.\n"
       ]
      },
      {
       "output_type": "stream",
       "stream": "stderr",
       "text": [
        "INFO:interface:stdout 2015-03-22T17:24:10.797074:=====================================================\n"
       ]
      },
      {
       "output_type": "stream",
       "stream": "stderr",
       "text": [
        "INFO:interface:stdout 2015-03-22T17:24:10.797074:Input Volume:     /scratch/TESTS/BS/DWIWorkflow_Nipype/7_repeatTest6InFloat/19568/Outputs/lambda2_output.nrrd\n"
       ]
      },
      {
       "output_type": "stream",
       "stream": "stderr",
       "text": [
        "INFO:interface:stdout 2015-03-22T17:24:10.797074:Reference Volume: /Shared/sinapse/CACHE/20141001_PREDICTHD_long_Results/PHD_024/1155/19568/TissueClassify/fswm_extended_neuro2012_20_merge_seg.nii.gz\n"
       ]
      },
      {
       "output_type": "stream",
       "stream": "stderr",
       "text": [
        "INFO:interface:stdout 2015-03-22T17:24:10.797074:Output Volume:    Lambda2_res.nrrd\n"
       ]
      },
      {
       "output_type": "stream",
       "stream": "stderr",
       "text": [
        "INFO:interface:stdout 2015-03-22T17:24:10.797074:Pixel Type:       float\n"
       ]
      },
      {
       "output_type": "stream",
       "stream": "stderr",
       "text": [
        "INFO:interface:stdout 2015-03-22T17:24:10.797074:Interpolation:    Linear\n"
       ]
      },
      {
       "output_type": "stream",
       "stream": "stderr",
       "text": [
        "INFO:interface:stdout 2015-03-22T17:24:10.797074:Background Value: 0\n"
       ]
      },
      {
       "output_type": "stream",
       "stream": "stderr",
       "text": [
        "INFO:interface:stdout 2015-03-22T17:24:10.797074:Warp By Transform: Identity\n"
       ]
      },
      {
       "output_type": "stream",
       "stream": "stderr",
       "text": [
        "INFO:interface:stdout 2015-03-22T17:24:10.797074:=====================================================\n"
       ]
      },
      {
       "output_type": "stream",
       "stream": "stderr",
       "text": [
        "INFO:workflow:Executing node _ResampleRISs6 in dir: /scratch/TESTS/IpythonNotebook/4_measureWF/MeasurementWF/ResampleRISs/mapflow/_ResampleRISs6\n"
       ]
      },
      {
       "output_type": "stream",
       "stream": "stderr",
       "text": [
        "INFO:workflow:Running:  BRAINSResample  --inputVolume /scratch/TESTS/BS/DWIWorkflow_Nipype/7_repeatTest6InFloat/19568/Outputs/lambda3_output.nrrd --interpolationMode Linear --outputVolume Lambda3_res.nrrd --pixelType float --referenceVolume /Shared/sinapse/CACHE/20141001_PREDICTHD_long_Results/PHD_024/1155/19568/TissueClassify/fswm_extended_neuro2012_20_merge_seg.nii.gz\n"
       ]
      },
      {
       "output_type": "stream",
       "stream": "stderr",
       "text": [
        "INFO:interface:stdout 2015-03-22T17:24:11.577005:WARNING: neither warpTransform nor deformationVolume are defined, so warpTransform is set as identity.\n"
       ]
      },
      {
       "output_type": "stream",
       "stream": "stderr",
       "text": [
        "INFO:interface:stdout 2015-03-22T17:24:11.577005:=====================================================\n"
       ]
      },
      {
       "output_type": "stream",
       "stream": "stderr",
       "text": [
        "INFO:interface:stdout 2015-03-22T17:24:11.577005:Input Volume:     /scratch/TESTS/BS/DWIWorkflow_Nipype/7_repeatTest6InFloat/19568/Outputs/lambda3_output.nrrd\n"
       ]
      },
      {
       "output_type": "stream",
       "stream": "stderr",
       "text": [
        "INFO:interface:stdout 2015-03-22T17:24:11.577005:Reference Volume: /Shared/sinapse/CACHE/20141001_PREDICTHD_long_Results/PHD_024/1155/19568/TissueClassify/fswm_extended_neuro2012_20_merge_seg.nii.gz\n"
       ]
      },
      {
       "output_type": "stream",
       "stream": "stderr",
       "text": [
        "INFO:interface:stdout 2015-03-22T17:24:11.577005:Output Volume:    Lambda3_res.nrrd\n"
       ]
      },
      {
       "output_type": "stream",
       "stream": "stderr",
       "text": [
        "INFO:interface:stdout 2015-03-22T17:24:11.577005:Pixel Type:       float\n"
       ]
      },
      {
       "output_type": "stream",
       "stream": "stderr",
       "text": [
        "INFO:interface:stdout 2015-03-22T17:24:11.577005:Interpolation:    Linear\n"
       ]
      },
      {
       "output_type": "stream",
       "stream": "stderr",
       "text": [
        "INFO:interface:stdout 2015-03-22T17:24:11.577005:Background Value: 0\n"
       ]
      },
      {
       "output_type": "stream",
       "stream": "stderr",
       "text": [
        "INFO:interface:stdout 2015-03-22T17:24:11.577005:Warp By Transform: Identity\n"
       ]
      },
      {
       "output_type": "stream",
       "stream": "stderr",
       "text": [
        "INFO:interface:stdout 2015-03-22T17:24:11.577005:=====================================================\n"
       ]
      },
      {
       "output_type": "stream",
       "stream": "stderr",
       "text": [
        "INFO:workflow:Executing node ComputeStatistics in dir: /scratch/TESTS/IpythonNotebook/4_measureWF/MeasurementWF/ComputeStatistics\n"
       ]
      },
      {
       "output_type": "stream",
       "stream": "stderr",
       "text": [
        "INFO:workflow:Executing node _ComputeStatistics0 in dir: /scratch/TESTS/IpythonNotebook/4_measureWF/MeasurementWF/ComputeStatistics/mapflow/_ComputeStatistics0\n"
       ]
      },
      {
       "output_type": "stream",
       "stream": "stderr",
       "text": [
        "INFO:workflow:Executing node _ComputeStatistics1 in dir: /scratch/TESTS/IpythonNotebook/4_measureWF/MeasurementWF/ComputeStatistics/mapflow/_ComputeStatistics1\n"
       ]
      },
      {
       "output_type": "stream",
       "stream": "stderr",
       "text": [
        "INFO:workflow:Executing node _ComputeStatistics2 in dir: /scratch/TESTS/IpythonNotebook/4_measureWF/MeasurementWF/ComputeStatistics/mapflow/_ComputeStatistics2\n"
       ]
      },
      {
       "output_type": "stream",
       "stream": "stderr",
       "text": [
        "INFO:workflow:Executing node _ComputeStatistics3 in dir: /scratch/TESTS/IpythonNotebook/4_measureWF/MeasurementWF/ComputeStatistics/mapflow/_ComputeStatistics3\n"
       ]
      },
      {
       "output_type": "stream",
       "stream": "stderr",
       "text": [
        "INFO:workflow:Executing node _ComputeStatistics4 in dir: /scratch/TESTS/IpythonNotebook/4_measureWF/MeasurementWF/ComputeStatistics/mapflow/_ComputeStatistics4\n"
       ]
      },
      {
       "output_type": "stream",
       "stream": "stderr",
       "text": [
        "INFO:workflow:Executing node _ComputeStatistics5 in dir: /scratch/TESTS/IpythonNotebook/4_measureWF/MeasurementWF/ComputeStatistics/mapflow/_ComputeStatistics5\n"
       ]
      },
      {
       "output_type": "stream",
       "stream": "stderr",
       "text": [
        "INFO:workflow:Executing node _ComputeStatistics6 in dir: /scratch/TESTS/IpythonNotebook/4_measureWF/MeasurementWF/ComputeStatistics/mapflow/_ComputeStatistics6\n"
       ]
      },
      {
       "output_type": "stream",
       "stream": "stderr",
       "text": [
        "ERROR:workflow:['Node ComputeStatistics failed to run on host dendrite.psychiatry.uiowa.edu.']\n"
       ]
      },
      {
       "output_type": "stream",
       "stream": "stderr",
       "text": [
        "INFO:workflow:Saving crash info to /Volumes/scratch/Notebooks/SimpleITK-Notebook-Answers/crash-20150322-172417-aghayoor-ComputeStatistics.pklz\n"
       ]
      },
      {
       "output_type": "stream",
       "stream": "stderr",
       "text": [
        "INFO:workflow:Traceback (most recent call last):\n",
        "  File \"/Volumes/scratch/Notebooks/sitkpy/lib/python2.7/site-packages/nipype/pipeline/plugins/linear.py\", line 38, in run\n",
        "    node.run(updatehash=updatehash)\n",
        "  File \"/Volumes/scratch/Notebooks/sitkpy/lib/python2.7/site-packages/nipype/pipeline/engine.py\", line 1424, in run\n",
        "    self._run_interface()\n",
        "  File \"/Volumes/scratch/Notebooks/sitkpy/lib/python2.7/site-packages/nipype/pipeline/engine.py\", line 2329, in _run_interface\n",
        "    updatehash=updatehash))\n",
        "  File \"/Volumes/scratch/Notebooks/sitkpy/lib/python2.7/site-packages/nipype/pipeline/engine.py\", line 2234, in _collate_results\n",
        "    (self.name, '\\n'.join(msg)))\n",
        "Exception: Subnodes of node: ComputeStatistics failed:\n",
        "Subnode 0 failed\n",
        "Error:\n",
        "float division by zero\n",
        "Interface Function failed to run. \n",
        "Subnode 1 failed\n",
        "Error:\n",
        "float division by zero\n",
        "Interface Function failed to run. \n",
        "Subnode 2 failed\n",
        "Error:\n",
        "float division by zero\n",
        "Interface Function failed to run. \n",
        "Subnode 3 failed\n",
        "Error:\n",
        "float division by zero\n",
        "Interface Function failed to run. \n",
        "Subnode 4 failed\n",
        "Error:\n",
        "float division by zero\n",
        "Interface Function failed to run. \n",
        "Subnode 5 failed\n",
        "Error:\n",
        "float division by zero\n",
        "Interface Function failed to run. \n",
        "Subnode 6 failed\n",
        "Error:\n",
        "float division by zero\n",
        "Interface Function failed to run. \n",
        "\n"
       ]
      },
      {
       "output_type": "stream",
       "stream": "stderr",
       "text": [
        "INFO:workflow:***********************************\n"
       ]
      },
      {
       "output_type": "stream",
       "stream": "stderr",
       "text": [
        "ERROR:workflow:could not run node: MeasurementWF.ComputeStatistics\n"
       ]
      },
      {
       "output_type": "stream",
       "stream": "stderr",
       "text": [
        "INFO:workflow:crashfile: /Volumes/scratch/Notebooks/SimpleITK-Notebook-Answers/crash-20150322-172417-aghayoor-ComputeStatistics.pklz\n"
       ]
      },
      {
       "output_type": "stream",
       "stream": "stderr",
       "text": [
        "INFO:workflow:***********************************\n"
       ]
      },
      {
       "ename": "RuntimeError",
       "evalue": "Workflow did not execute cleanly. Check log for details",
       "output_type": "pyerr",
       "traceback": [
        "\u001b[0;31m---------------------------------------------------------------------------\u001b[0m\n\u001b[0;31mRuntimeError\u001b[0m                              Traceback (most recent call last)",
        "\u001b[0;32m<ipython-input-58-aed983f98518>\u001b[0m in \u001b[0;36m<module>\u001b[0;34m()\u001b[0m\n\u001b[1;32m     80\u001b[0m \u001b[0;34m\u001b[0m\u001b[0m\n\u001b[1;32m     81\u001b[0m \u001b[0mMeasurementWF\u001b[0m\u001b[0;34m.\u001b[0m\u001b[0mwrite_graph\u001b[0m\u001b[0;34m(\u001b[0m\u001b[0;34m)\u001b[0m\u001b[0;34m\u001b[0m\u001b[0m\n\u001b[0;32m---> 82\u001b[0;31m \u001b[0mMeasurementWF\u001b[0m\u001b[0;34m.\u001b[0m\u001b[0mrun\u001b[0m\u001b[0;34m(\u001b[0m\u001b[0;34m)\u001b[0m\u001b[0;34m\u001b[0m\u001b[0m\n\u001b[0m",
        "\u001b[0;32m/Volumes/scratch/Notebooks/sitkpy/lib/python2.7/site-packages/nipype/pipeline/engine.pyc\u001b[0m in \u001b[0;36mrun\u001b[0;34m(self, plugin, plugin_args, updatehash)\u001b[0m\n\u001b[1;32m    698\u001b[0m         \u001b[0;32mif\u001b[0m \u001b[0mstr2bool\u001b[0m\u001b[0;34m(\u001b[0m\u001b[0mself\u001b[0m\u001b[0;34m.\u001b[0m\u001b[0mconfig\u001b[0m\u001b[0;34m[\u001b[0m\u001b[0;34m'execution'\u001b[0m\u001b[0;34m]\u001b[0m\u001b[0;34m[\u001b[0m\u001b[0;34m'create_report'\u001b[0m\u001b[0;34m]\u001b[0m\u001b[0;34m)\u001b[0m\u001b[0;34m:\u001b[0m\u001b[0;34m\u001b[0m\u001b[0m\n\u001b[1;32m    699\u001b[0m             \u001b[0mself\u001b[0m\u001b[0;34m.\u001b[0m\u001b[0m_write_report_info\u001b[0m\u001b[0;34m(\u001b[0m\u001b[0mself\u001b[0m\u001b[0;34m.\u001b[0m\u001b[0mbase_dir\u001b[0m\u001b[0;34m,\u001b[0m \u001b[0mself\u001b[0m\u001b[0;34m.\u001b[0m\u001b[0mname\u001b[0m\u001b[0;34m,\u001b[0m \u001b[0mexecgraph\u001b[0m\u001b[0;34m)\u001b[0m\u001b[0;34m\u001b[0m\u001b[0m\n\u001b[0;32m--> 700\u001b[0;31m         \u001b[0mrunner\u001b[0m\u001b[0;34m.\u001b[0m\u001b[0mrun\u001b[0m\u001b[0;34m(\u001b[0m\u001b[0mexecgraph\u001b[0m\u001b[0;34m,\u001b[0m \u001b[0mupdatehash\u001b[0m\u001b[0;34m=\u001b[0m\u001b[0mupdatehash\u001b[0m\u001b[0;34m,\u001b[0m \u001b[0mconfig\u001b[0m\u001b[0;34m=\u001b[0m\u001b[0mself\u001b[0m\u001b[0;34m.\u001b[0m\u001b[0mconfig\u001b[0m\u001b[0;34m)\u001b[0m\u001b[0;34m\u001b[0m\u001b[0m\n\u001b[0m\u001b[1;32m    701\u001b[0m         \u001b[0mdatestr\u001b[0m \u001b[0;34m=\u001b[0m \u001b[0mdatetime\u001b[0m\u001b[0;34m.\u001b[0m\u001b[0mutcnow\u001b[0m\u001b[0;34m(\u001b[0m\u001b[0;34m)\u001b[0m\u001b[0;34m.\u001b[0m\u001b[0mstrftime\u001b[0m\u001b[0;34m(\u001b[0m\u001b[0;34m'%Y%m%dT%H%M%S'\u001b[0m\u001b[0;34m)\u001b[0m\u001b[0;34m\u001b[0m\u001b[0m\n\u001b[1;32m    702\u001b[0m         \u001b[0;32mif\u001b[0m \u001b[0mstr2bool\u001b[0m\u001b[0;34m(\u001b[0m\u001b[0mself\u001b[0m\u001b[0;34m.\u001b[0m\u001b[0mconfig\u001b[0m\u001b[0;34m[\u001b[0m\u001b[0;34m'execution'\u001b[0m\u001b[0;34m]\u001b[0m\u001b[0;34m[\u001b[0m\u001b[0;34m'write_provenance'\u001b[0m\u001b[0;34m]\u001b[0m\u001b[0;34m)\u001b[0m\u001b[0;34m:\u001b[0m\u001b[0;34m\u001b[0m\u001b[0m\n",
        "\u001b[0;32m/Volumes/scratch/Notebooks/sitkpy/lib/python2.7/site-packages/nipype/pipeline/plugins/linear.pyc\u001b[0m in \u001b[0;36mrun\u001b[0;34m(self, graph, config, updatehash)\u001b[0m\n\u001b[1;32m     54\u001b[0m                 \u001b[0;32mif\u001b[0m \u001b[0mself\u001b[0m\u001b[0;34m.\u001b[0m\u001b[0m_status_callback\u001b[0m\u001b[0;34m:\u001b[0m\u001b[0;34m\u001b[0m\u001b[0m\n\u001b[1;32m     55\u001b[0m                     \u001b[0mself\u001b[0m\u001b[0;34m.\u001b[0m\u001b[0m_status_callback\u001b[0m\u001b[0;34m(\u001b[0m\u001b[0mnode\u001b[0m\u001b[0;34m,\u001b[0m \u001b[0;34m'exception'\u001b[0m\u001b[0;34m)\u001b[0m\u001b[0;34m\u001b[0m\u001b[0m\n\u001b[0;32m---> 56\u001b[0;31m         \u001b[0mreport_nodes_not_run\u001b[0m\u001b[0;34m(\u001b[0m\u001b[0mnotrun\u001b[0m\u001b[0;34m)\u001b[0m\u001b[0;34m\u001b[0m\u001b[0m\n\u001b[0m\u001b[1;32m     57\u001b[0m \u001b[0;34m\u001b[0m\u001b[0m\n",
        "\u001b[0;32m/Volumes/scratch/Notebooks/sitkpy/lib/python2.7/site-packages/nipype/pipeline/plugins/base.pyc\u001b[0m in \u001b[0;36mreport_nodes_not_run\u001b[0;34m(notrun)\u001b[0m\n\u001b[1;32m     90\u001b[0m                 \u001b[0mlogger\u001b[0m\u001b[0;34m.\u001b[0m\u001b[0mdebug\u001b[0m\u001b[0;34m(\u001b[0m\u001b[0msubnode\u001b[0m\u001b[0;34m.\u001b[0m\u001b[0m_id\u001b[0m\u001b[0;34m)\u001b[0m\u001b[0;34m\u001b[0m\u001b[0m\n\u001b[1;32m     91\u001b[0m         \u001b[0mlogger\u001b[0m\u001b[0;34m.\u001b[0m\u001b[0minfo\u001b[0m\u001b[0;34m(\u001b[0m\u001b[0;34m\"***********************************\"\u001b[0m\u001b[0;34m)\u001b[0m\u001b[0;34m\u001b[0m\u001b[0m\n\u001b[0;32m---> 92\u001b[0;31m         raise RuntimeError(('Workflow did not execute cleanly. '\n\u001b[0m\u001b[1;32m     93\u001b[0m                             'Check log for details'))\n\u001b[1;32m     94\u001b[0m \u001b[0;34m\u001b[0m\u001b[0m\n",
        "\u001b[0;31mRuntimeError\u001b[0m: Workflow did not execute cleanly. Check log for details"
       ]
      }
     ],
     "prompt_number": 58
    },
    {
     "cell_type": "code",
     "collapsed": false,
     "input": [],
     "language": "python",
     "metadata": {},
     "outputs": []
    }
   ],
   "metadata": {}
  }
 ]
}