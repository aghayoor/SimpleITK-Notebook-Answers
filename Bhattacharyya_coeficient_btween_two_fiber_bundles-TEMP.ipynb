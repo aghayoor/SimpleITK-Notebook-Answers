{
 "cells": [
  {
   "cell_type": "code",
   "execution_count": 1,
   "metadata": {
    "collapsed": true
   },
   "outputs": [],
   "source": [
    "%matplotlib inline"
   ]
  },
  {
   "cell_type": "code",
   "execution_count": 2,
   "metadata": {
    "collapsed": true
   },
   "outputs": [],
   "source": [
    "import vtk\n",
    "import numpy as np\n",
    "from scipy import stats"
   ]
  },
  {
   "cell_type": "code",
   "execution_count": 3,
   "metadata": {
    "collapsed": true
   },
   "outputs": [],
   "source": [
    "# gs: gold standard\n",
    "# in: input\n",
    "gs_cst_left_fn = '/Shared/johnsonhj/HDNI/ReferenceData/HCP_DATA/test_UKF/100307/2_Rs_0_025/WMQL/wmqa_100307_cst.left.vtp'\n",
    "in_cst_left_fn = '/Shared/johnsonhj/HDNI/ReferenceData/HCP_DATA/test_UKF/100307/1_Rs_default_0_02/WMQL/wmqa_100307_cst.left.vtp'"
   ]
  },
  {
   "cell_type": "code",
   "execution_count": 4,
   "metadata": {
    "collapsed": false
   },
   "outputs": [],
   "source": [
    "# read gold standard (gs)\n",
    "file_reader1 = vtk.vtkXMLPolyDataReader()\n",
    "file_reader1.SetFileName(gs_cst_left_fn)\n",
    "file_reader1.Update()\n",
    "gs_cst_left = file_reader1.GetOutput()\n",
    "# read input\n",
    "file_reader2 = vtk.vtkXMLPolyDataReader()\n",
    "file_reader2.SetFileName(in_cst_left_fn)\n",
    "file_reader2.Update()\n",
    "in_cst_left = file_reader2.GetOutput()"
   ]
  },
  {
   "cell_type": "code",
   "execution_count": 19,
   "metadata": {
    "collapsed": false
   },
   "outputs": [
    {
     "name": "stdout",
     "output_type": "stream",
     "text": [
      "vtkPolyData (0x10a8c7300)\n",
      "  Debug: Off\n",
      "  Modified Time: 379\n",
      "  Reference Count: 2\n",
      "  Registered Events: (none)\n",
      "  Source: (none)\n",
      "  Information: 0x10a8c7090\n",
      "  Data Released: False\n",
      "  Global Release Data: Off\n",
      "  UpdateTime: 403\n",
      "  Release Data: Off\n",
      "  UpdateExtent: Not Initialized\n",
      "  Update Number Of Pieces: 1\n",
      "  Update Piece: 0\n",
      "  Update Ghost Level: 0\n",
      "  MaximumNumberOfPieces: 1\n",
      "  RequestExactExtent: Off\n",
      "   Field Data:\n",
      "    Debug: Off\n",
      "    Modified Time: 269\n",
      "    Reference Count: 1\n",
      "    Registered Events: (none)\n",
      "    Number Of Arrays: 0\n",
      "    Number Of Components: 0\n",
      "    Number Of Tuples: 0\n",
      "  Number Of Points: 28434\n",
      "  Number Of Cells: 259\n",
      "  Cell Data:\n",
      "    Debug: Off\n",
      "    Modified Time: 277\n",
      "    Reference Count: 1\n",
      "    Registered Events: (none)\n",
      "    Number Of Arrays: 0\n",
      "    Number Of Components: 0\n",
      "    Number Of Tuples: 0\n",
      "    Copy Tuple Flags: ( 1 1 1 1 1 0 1 1 )\n",
      "    Interpolate Flags: ( 1 1 1 1 1 0 0 1 )\n",
      "    Pass Through Flags: ( 1 1 1 1 1 1 1 1 )\n",
      "    Scalars: (none)\n",
      "    Vectors: (none)\n",
      "    Normals: (none)\n",
      "    TCoords: (none)\n",
      "    Tensors: (none)\n",
      "    GlobalIds: (none)\n",
      "    PedigreeIds: (none)\n",
      "    EdgeFlag: (none)\n",
      "  Point Data:\n",
      "    Debug: Off\n",
      "    Modified Time: 379\n",
      "    Reference Count: 1\n",
      "    Registered Events: (none)\n",
      "    Number Of Arrays: 8\n",
      "    Array 0 name = FA2\n",
      "    Array 1 name = FA1\n",
      "    Array 2 name = EstimatedUncertainty\n",
      "    Array 3 name = FreeWater\n",
      "    Array 4 name = tensor2\n",
      "    Array 5 name = trace2\n",
      "    Array 6 name = trace1\n",
      "    Array 7 name = tensor1\n",
      "    Number Of Components: 24\n",
      "    Number Of Tuples: 28434\n",
      "    Copy Tuple Flags: ( 1 1 1 1 1 0 1 1 )\n",
      "    Interpolate Flags: ( 1 1 1 1 1 0 0 1 )\n",
      "    Pass Through Flags: ( 1 1 1 1 1 1 1 1 )\n",
      "    Scalars: (none)\n",
      "    Vectors: (none)\n",
      "    Normals: (none)\n",
      "    TCoords: (none)\n",
      "    Tensors: (none)\n",
      "    GlobalIds: (none)\n",
      "    PedigreeIds: (none)\n",
      "    EdgeFlag: (none)\n",
      "  Bounds: \n",
      "    Xmin,Xmax: (-63.4563, 18.0108)\n",
      "    Ymin,Ymax: (-66.0334, 36.8692)\n",
      "    Zmin,Zmax: (-65.4002, 67.9039)\n",
      "  Compute Time: 829\n",
      "  Number Of Points: 28434\n",
      "  Point Coordinates: 0x1143dd070\n",
      "  Locator: 0\n",
      "  Number Of Vertices: 0\n",
      "  Number Of Lines: 259\n",
      "  Number Of Polygons: 0\n",
      "  Number Of Triangle Strips: 0\n",
      "  Number Of Pieces: 1\n",
      "  Piece: 0\n",
      "  Ghost Level: 0\n",
      "\n",
      "\n"
     ]
    }
   ],
   "source": [
    "print(gs_cst_left)"
   ]
  },
  {
   "cell_type": "code",
   "execution_count": 7,
   "metadata": {
    "collapsed": true
   },
   "outputs": [],
   "source": [
    "gs_numPoints = gs_cst_left.GetNumberOfPoints()\n",
    "in_numPoints = in_cst_left.GetNumberOfPoints()\n",
    "\n",
    "gs_points = gs_cst_left.GetPoints()\n",
    "in_points = in_cst_left.GetPoints()"
   ]
  },
  {
   "cell_type": "code",
   "execution_count": 16,
   "metadata": {
    "collapsed": false
   },
   "outputs": [
    {
     "name": "stdout",
     "output_type": "stream",
     "text": [
      "28434\n",
      "28235\n",
      "---\n",
      "vtkPoints (0x1143dd070)\n",
      "  Debug: Off\n",
      "  Modified Time: 325\n",
      "  Reference Count: 2\n",
      "  Registered Events: (none)\n",
      "  Data: 0x1143dd510\n",
      "  Data Array Name: Points\n",
      "  Number Of Points: 28434\n",
      "  Bounds: \n",
      "    Xmin,Xmax: (-63.4563, 18.0108)\n",
      "    Ymin,Ymax: (-66.0334, 36.8692)\n",
      "    Zmin,Zmax: (-65.4002, 67.9039)\n",
      "\n",
      "\n",
      "---\n",
      "vtkPoints (0x1143df940)\n",
      "  Debug: Off\n",
      "  Modified Time: 736\n",
      "  Reference Count: 2\n",
      "  Registered Events: (none)\n",
      "  Data: 0x1143dfa60\n",
      "  Data Array Name: Points\n",
      "  Number Of Points: 28235\n",
      "  Bounds: \n",
      "    Xmin,Xmax: (-64.6071, 18.0307)\n",
      "    Ymin,Ymax: (-63.7205, 36.7826)\n",
      "    Zmin,Zmax: (-65.2869, 67.8829)\n",
      "\n",
      "\n"
     ]
    }
   ],
   "source": [
    "print(gs_numPoints)\n",
    "print(in_numPoints)\n",
    "print('---')\n",
    "print(gs_points)\n",
    "print('---')\n",
    "print(in_points)"
   ]
  },
  {
   "cell_type": "code",
   "execution_count": 9,
   "metadata": {
    "collapsed": false
   },
   "outputs": [],
   "source": [
    "#gs_points.GetPoint(0)[2]"
   ]
  },
  {
   "cell_type": "code",
   "execution_count": 10,
   "metadata": {
    "collapsed": false
   },
   "outputs": [],
   "source": [
    "gs_x_arr = np.array([gs_points.GetPoint(i)[0] for i in xrange(gs_numPoints)])\n",
    "in_x_arr = np.array([in_points.GetPoint(i)[0] for i in xrange(in_numPoints)])\n",
    "#---\n",
    "gs_y_arr = np.array([gs_points.GetPoint(i)[1] for i in xrange(gs_numPoints)])\n",
    "in_y_arr = np.array([in_points.GetPoint(i)[1] for i in xrange(in_numPoints)])\n",
    "#---\n",
    "gs_z_arr = np.array([gs_points.GetPoint(i)[2] for i in xrange(gs_numPoints)])\n",
    "in_z_arr = np.array([in_points.GetPoint(i)[2] for i in xrange(in_numPoints)])"
   ]
  },
  {
   "cell_type": "code",
   "execution_count": 18,
   "metadata": {
    "collapsed": false
   },
   "outputs": [
    {
     "name": "stdout",
     "output_type": "stream",
     "text": [
      "-63.456325531\n",
      "18.0108203888\n"
     ]
    }
   ],
   "source": [
    "print min(gs_x_arr)\n",
    "print max(gs_x_arr)"
   ]
  },
  {
   "cell_type": "code",
   "execution_count": 11,
   "metadata": {
    "collapsed": true
   },
   "outputs": [],
   "source": [
    "import pandas as pd\n",
    "from ggplot import *"
   ]
  },
  {
   "cell_type": "code",
   "execution_count": 24,
   "metadata": {
    "collapsed": false
   },
   "outputs": [
    {
     "data": {
      "text/html": [
       "<div>\n",
       "<table border=\"1\" class=\"dataframe\">\n",
       "  <thead>\n",
       "    <tr style=\"text-align: right;\">\n",
       "      <th></th>\n",
       "      <th>X</th>\n",
       "      <th>Y</th>\n",
       "    </tr>\n",
       "  </thead>\n",
       "  <tbody>\n",
       "    <tr>\n",
       "      <th>0</th>\n",
       "      <td>-35.345718</td>\n",
       "      <td>56.836071</td>\n",
       "    </tr>\n",
       "    <tr>\n",
       "      <th>1</th>\n",
       "      <td>-34.617275</td>\n",
       "      <td>55.908226</td>\n",
       "    </tr>\n",
       "    <tr>\n",
       "      <th>2</th>\n",
       "      <td>-33.889755</td>\n",
       "      <td>54.973679</td>\n",
       "    </tr>\n",
       "    <tr>\n",
       "      <th>3</th>\n",
       "      <td>-33.181263</td>\n",
       "      <td>54.018185</td>\n",
       "    </tr>\n",
       "    <tr>\n",
       "      <th>4</th>\n",
       "      <td>-32.506466</td>\n",
       "      <td>53.038345</td>\n",
       "    </tr>\n",
       "    <tr>\n",
       "      <th>5</th>\n",
       "      <td>-31.844648</td>\n",
       "      <td>52.058994</td>\n",
       "    </tr>\n",
       "    <tr>\n",
       "      <th>6</th>\n",
       "      <td>-31.189528</td>\n",
       "      <td>51.087299</td>\n",
       "    </tr>\n",
       "    <tr>\n",
       "      <th>7</th>\n",
       "      <td>-30.536154</td>\n",
       "      <td>50.125664</td>\n",
       "    </tr>\n",
       "    <tr>\n",
       "      <th>8</th>\n",
       "      <td>-29.885801</td>\n",
       "      <td>49.170361</td>\n",
       "    </tr>\n",
       "    <tr>\n",
       "      <th>9</th>\n",
       "      <td>-29.253029</td>\n",
       "      <td>48.202427</td>\n",
       "    </tr>\n",
       "    <tr>\n",
       "      <th>10</th>\n",
       "      <td>-28.659977</td>\n",
       "      <td>47.202610</td>\n",
       "    </tr>\n",
       "    <tr>\n",
       "      <th>11</th>\n",
       "      <td>-28.113501</td>\n",
       "      <td>46.166012</td>\n",
       "    </tr>\n",
       "    <tr>\n",
       "      <th>12</th>\n",
       "      <td>-27.606960</td>\n",
       "      <td>45.100639</td>\n",
       "    </tr>\n",
       "    <tr>\n",
       "      <th>13</th>\n",
       "      <td>-27.140753</td>\n",
       "      <td>44.009098</td>\n",
       "    </tr>\n",
       "    <tr>\n",
       "      <th>14</th>\n",
       "      <td>-26.710705</td>\n",
       "      <td>42.895924</td>\n",
       "    </tr>\n",
       "    <tr>\n",
       "      <th>15</th>\n",
       "      <td>-26.311441</td>\n",
       "      <td>41.767509</td>\n",
       "    </tr>\n",
       "    <tr>\n",
       "      <th>16</th>\n",
       "      <td>-25.938927</td>\n",
       "      <td>40.627537</td>\n",
       "    </tr>\n",
       "    <tr>\n",
       "      <th>17</th>\n",
       "      <td>-25.599993</td>\n",
       "      <td>39.476498</td>\n",
       "    </tr>\n",
       "    <tr>\n",
       "      <th>18</th>\n",
       "      <td>-25.317459</td>\n",
       "      <td>38.310448</td>\n",
       "    </tr>\n",
       "    <tr>\n",
       "      <th>19</th>\n",
       "      <td>-25.101725</td>\n",
       "      <td>37.131729</td>\n",
       "    </tr>\n",
       "    <tr>\n",
       "      <th>20</th>\n",
       "      <td>-24.940836</td>\n",
       "      <td>35.953865</td>\n",
       "    </tr>\n",
       "    <tr>\n",
       "      <th>21</th>\n",
       "      <td>-24.809935</td>\n",
       "      <td>34.804985</td>\n",
       "    </tr>\n",
       "    <tr>\n",
       "      <th>22</th>\n",
       "      <td>-24.727690</td>\n",
       "      <td>33.743210</td>\n",
       "    </tr>\n",
       "    <tr>\n",
       "      <th>23</th>\n",
       "      <td>-24.738554</td>\n",
       "      <td>32.830997</td>\n",
       "    </tr>\n",
       "    <tr>\n",
       "      <th>24</th>\n",
       "      <td>-24.741812</td>\n",
       "      <td>31.956055</td>\n",
       "    </tr>\n",
       "    <tr>\n",
       "      <th>25</th>\n",
       "      <td>-24.485853</td>\n",
       "      <td>30.937962</td>\n",
       "    </tr>\n",
       "    <tr>\n",
       "      <th>26</th>\n",
       "      <td>-24.122766</td>\n",
       "      <td>29.837233</td>\n",
       "    </tr>\n",
       "    <tr>\n",
       "      <th>27</th>\n",
       "      <td>-23.745253</td>\n",
       "      <td>28.707529</td>\n",
       "    </tr>\n",
       "    <tr>\n",
       "      <th>28</th>\n",
       "      <td>-23.316216</td>\n",
       "      <td>27.587696</td>\n",
       "    </tr>\n",
       "    <tr>\n",
       "      <th>29</th>\n",
       "      <td>-22.820150</td>\n",
       "      <td>26.496599</td>\n",
       "    </tr>\n",
       "    <tr>\n",
       "      <th>...</th>\n",
       "      <td>...</td>\n",
       "      <td>...</td>\n",
       "    </tr>\n",
       "    <tr>\n",
       "      <th>28404</th>\n",
       "      <td>-16.893082</td>\n",
       "      <td>-0.204395</td>\n",
       "    </tr>\n",
       "    <tr>\n",
       "      <th>28405</th>\n",
       "      <td>-16.317892</td>\n",
       "      <td>-1.116195</td>\n",
       "    </tr>\n",
       "    <tr>\n",
       "      <th>28406</th>\n",
       "      <td>-15.799293</td>\n",
       "      <td>-2.075370</td>\n",
       "    </tr>\n",
       "    <tr>\n",
       "      <th>28407</th>\n",
       "      <td>-15.362910</td>\n",
       "      <td>-3.101785</td>\n",
       "    </tr>\n",
       "    <tr>\n",
       "      <th>28408</th>\n",
       "      <td>-14.967624</td>\n",
       "      <td>-4.168729</td>\n",
       "    </tr>\n",
       "    <tr>\n",
       "      <th>28409</th>\n",
       "      <td>-14.675753</td>\n",
       "      <td>-4.972232</td>\n",
       "    </tr>\n",
       "    <tr>\n",
       "      <th>28410</th>\n",
       "      <td>-14.388567</td>\n",
       "      <td>-5.775212</td>\n",
       "    </tr>\n",
       "    <tr>\n",
       "      <th>28411</th>\n",
       "      <td>-13.995487</td>\n",
       "      <td>-6.819393</td>\n",
       "    </tr>\n",
       "    <tr>\n",
       "      <th>28412</th>\n",
       "      <td>-13.388692</td>\n",
       "      <td>-7.604219</td>\n",
       "    </tr>\n",
       "    <tr>\n",
       "      <th>28413</th>\n",
       "      <td>-12.644765</td>\n",
       "      <td>-8.136480</td>\n",
       "    </tr>\n",
       "    <tr>\n",
       "      <th>28414</th>\n",
       "      <td>-11.860787</td>\n",
       "      <td>-8.554426</td>\n",
       "    </tr>\n",
       "    <tr>\n",
       "      <th>28415</th>\n",
       "      <td>-11.080118</td>\n",
       "      <td>-8.889222</td>\n",
       "    </tr>\n",
       "    <tr>\n",
       "      <th>28416</th>\n",
       "      <td>-10.414265</td>\n",
       "      <td>-9.170506</td>\n",
       "    </tr>\n",
       "    <tr>\n",
       "      <th>28417</th>\n",
       "      <td>-10.126286</td>\n",
       "      <td>-9.415049</td>\n",
       "    </tr>\n",
       "    <tr>\n",
       "      <th>28418</th>\n",
       "      <td>-10.139320</td>\n",
       "      <td>-9.536032</td>\n",
       "    </tr>\n",
       "    <tr>\n",
       "      <th>28419</th>\n",
       "      <td>-10.099949</td>\n",
       "      <td>-9.596687</td>\n",
       "    </tr>\n",
       "    <tr>\n",
       "      <th>28420</th>\n",
       "      <td>-9.955521</td>\n",
       "      <td>-9.699599</td>\n",
       "    </tr>\n",
       "    <tr>\n",
       "      <th>28421</th>\n",
       "      <td>-9.725540</td>\n",
       "      <td>-9.901909</td>\n",
       "    </tr>\n",
       "    <tr>\n",
       "      <th>28422</th>\n",
       "      <td>-9.388884</td>\n",
       "      <td>-10.223167</td>\n",
       "    </tr>\n",
       "    <tr>\n",
       "      <th>28423</th>\n",
       "      <td>-8.949400</td>\n",
       "      <td>-10.610845</td>\n",
       "    </tr>\n",
       "    <tr>\n",
       "      <th>28424</th>\n",
       "      <td>-8.443976</td>\n",
       "      <td>-11.025730</td>\n",
       "    </tr>\n",
       "    <tr>\n",
       "      <th>28425</th>\n",
       "      <td>-7.894954</td>\n",
       "      <td>-11.440763</td>\n",
       "    </tr>\n",
       "    <tr>\n",
       "      <th>28426</th>\n",
       "      <td>-7.319511</td>\n",
       "      <td>-11.798861</td>\n",
       "    </tr>\n",
       "    <tr>\n",
       "      <th>28427</th>\n",
       "      <td>-6.713662</td>\n",
       "      <td>-12.092253</td>\n",
       "    </tr>\n",
       "    <tr>\n",
       "      <th>28428</th>\n",
       "      <td>-6.045833</td>\n",
       "      <td>-12.365980</td>\n",
       "    </tr>\n",
       "    <tr>\n",
       "      <th>28429</th>\n",
       "      <td>-5.314128</td>\n",
       "      <td>-12.662740</td>\n",
       "    </tr>\n",
       "    <tr>\n",
       "      <th>28430</th>\n",
       "      <td>-4.547647</td>\n",
       "      <td>-12.990794</td>\n",
       "    </tr>\n",
       "    <tr>\n",
       "      <th>28431</th>\n",
       "      <td>-3.748980</td>\n",
       "      <td>-13.312935</td>\n",
       "    </tr>\n",
       "    <tr>\n",
       "      <th>28432</th>\n",
       "      <td>-2.899736</td>\n",
       "      <td>-13.604703</td>\n",
       "    </tr>\n",
       "    <tr>\n",
       "      <th>28433</th>\n",
       "      <td>-2.007809</td>\n",
       "      <td>-13.891743</td>\n",
       "    </tr>\n",
       "  </tbody>\n",
       "</table>\n",
       "<p>28434 rows × 2 columns</p>\n",
       "</div>"
      ],
      "text/plain": [
       "               X          Y\n",
       "0     -35.345718  56.836071\n",
       "1     -34.617275  55.908226\n",
       "2     -33.889755  54.973679\n",
       "3     -33.181263  54.018185\n",
       "4     -32.506466  53.038345\n",
       "5     -31.844648  52.058994\n",
       "6     -31.189528  51.087299\n",
       "7     -30.536154  50.125664\n",
       "8     -29.885801  49.170361\n",
       "9     -29.253029  48.202427\n",
       "10    -28.659977  47.202610\n",
       "11    -28.113501  46.166012\n",
       "12    -27.606960  45.100639\n",
       "13    -27.140753  44.009098\n",
       "14    -26.710705  42.895924\n",
       "15    -26.311441  41.767509\n",
       "16    -25.938927  40.627537\n",
       "17    -25.599993  39.476498\n",
       "18    -25.317459  38.310448\n",
       "19    -25.101725  37.131729\n",
       "20    -24.940836  35.953865\n",
       "21    -24.809935  34.804985\n",
       "22    -24.727690  33.743210\n",
       "23    -24.738554  32.830997\n",
       "24    -24.741812  31.956055\n",
       "25    -24.485853  30.937962\n",
       "26    -24.122766  29.837233\n",
       "27    -23.745253  28.707529\n",
       "28    -23.316216  27.587696\n",
       "29    -22.820150  26.496599\n",
       "...          ...        ...\n",
       "28404 -16.893082  -0.204395\n",
       "28405 -16.317892  -1.116195\n",
       "28406 -15.799293  -2.075370\n",
       "28407 -15.362910  -3.101785\n",
       "28408 -14.967624  -4.168729\n",
       "28409 -14.675753  -4.972232\n",
       "28410 -14.388567  -5.775212\n",
       "28411 -13.995487  -6.819393\n",
       "28412 -13.388692  -7.604219\n",
       "28413 -12.644765  -8.136480\n",
       "28414 -11.860787  -8.554426\n",
       "28415 -11.080118  -8.889222\n",
       "28416 -10.414265  -9.170506\n",
       "28417 -10.126286  -9.415049\n",
       "28418 -10.139320  -9.536032\n",
       "28419 -10.099949  -9.596687\n",
       "28420  -9.955521  -9.699599\n",
       "28421  -9.725540  -9.901909\n",
       "28422  -9.388884 -10.223167\n",
       "28423  -8.949400 -10.610845\n",
       "28424  -8.443976 -11.025730\n",
       "28425  -7.894954 -11.440763\n",
       "28426  -7.319511 -11.798861\n",
       "28427  -6.713662 -12.092253\n",
       "28428  -6.045833 -12.365980\n",
       "28429  -5.314128 -12.662740\n",
       "28430  -4.547647 -12.990794\n",
       "28431  -3.748980 -13.312935\n",
       "28432  -2.899736 -13.604703\n",
       "28433  -2.007809 -13.891743\n",
       "\n",
       "[28434 rows x 2 columns]"
      ]
     },
     "execution_count": 24,
     "metadata": {},
     "output_type": "execute_result"
    }
   ],
   "source": [
    "DF_gs_x = pd.DataFrame(np.transpose([gs_x_arr, gs_z_arr]))\n",
    "DF_gs_x.rename(columns = lambda x: str(x), inplace=True)\n",
    "DF_gs_x.rename(columns={\"0\": \"X\"}, inplace=True) # rename a dfcolumn   \n",
    "DF_gs_x.rename(columns={\"1\": \"Y\"}, inplace=True) # rename a dfcolumn \n",
    "DF_gs_x"
   ]
  },
  {
   "cell_type": "code",
   "execution_count": 25,
   "metadata": {
    "collapsed": false
   },
   "outputs": [
    {
     "data": {
      "image/png": "[encoded data removed]",
      "text/plain": [
       "<matplotlib.figure.Figure at 0x1242a4f90>"
      ]
     },
     "metadata": {},
     "output_type": "display_data"
    },
    {
     "data": {
      "text/plain": [
       "<ggplot: (306809841)>"
      ]
     },
     "execution_count": 25,
     "metadata": {},
     "output_type": "execute_result"
    }
   ],
   "source": [
    "ggplot(aes(x = 'X', y ='Y'),data=DF_gs_x) + \\\n",
    "    geom_point()"
   ]
  },
  {
   "cell_type": "code",
   "execution_count": null,
   "metadata": {
    "collapsed": true
   },
   "outputs": [],
   "source": []
  },
  {
   "cell_type": "code",
   "execution_count": null,
   "metadata": {
    "collapsed": true
   },
   "outputs": [],
   "source": []
  },
  {
   "cell_type": "code",
   "execution_count": 18,
   "metadata": {
    "collapsed": false
   },
   "outputs": [
    {
     "name": "stdout",
     "output_type": "stream",
     "text": [
      "[-35.34571838 -34.61727524 -33.88975525 ...,  -3.74897957  -2.8997364\n",
      "  -2.00780916]\n",
      "[-1.77106464 -1.52919436 -1.33055592 ..., -7.61741209 -8.18560696\n",
      " -8.74658203]\n"
     ]
    }
   ],
   "source": [
    "print(gs_x_arr)\n",
    "print(in_x_arr)"
   ]
  },
  {
   "cell_type": "markdown",
   "metadata": {},
   "source": [
    "Use ksdensity to estimate probability density function for the sample data"
   ]
  },
  {
   "cell_type": "code",
   "execution_count": 19,
   "metadata": {
    "collapsed": false
   },
   "outputs": [],
   "source": [
    "data = gs_x_arr\n",
    "kde = stats.gaussian_kde(data)\n",
    "x = np.linspace(data.min(), data.max(), 100)\n",
    "p_gs_x = kde(x)\n",
    "#----\n",
    "data = gs_y_arr\n",
    "kde = stats.gaussian_kde(data)\n",
    "y = np.linspace(data.min(), data.max(), 100)\n",
    "p_gs_y = kde(y)\n",
    "#----\n",
    "data = gs_z_arr\n",
    "kde = stats.gaussian_kde(data)\n",
    "z = np.linspace(data.min(), data.max(), 100)\n",
    "p_gs_z = kde(z)"
   ]
  },
  {
   "cell_type": "code",
   "execution_count": 20,
   "metadata": {
    "collapsed": false
   },
   "outputs": [],
   "source": [
    "data = in_x_arr\n",
    "kde = stats.gaussian_kde(data)\n",
    "x = np.linspace(data.min(), data.max(), 100)\n",
    "p_in_x = kde(x)\n",
    "#----\n",
    "data = in_y_arr\n",
    "kde = stats.gaussian_kde(data)\n",
    "y = np.linspace(data.min(), data.max(), 100)\n",
    "p_in_y = kde(y)\n",
    "#----\n",
    "data = in_z_arr\n",
    "kde = stats.gaussian_kde(data)\n",
    "z = np.linspace(data.min(), data.max(), 100)\n",
    "p_in_z = kde(z)"
   ]
  },
  {
   "cell_type": "code",
   "execution_count": 21,
   "metadata": {
    "collapsed": true
   },
   "outputs": [],
   "source": [
    "import pandas as pd\n",
    "from ggplot import *"
   ]
  },
  {
   "cell_type": "code",
   "execution_count": 22,
   "metadata": {
    "collapsed": false
   },
   "outputs": [
    {
     "name": "stderr",
     "output_type": "stream",
     "text": [
      "/IPLlinux/raid0/homes/aghayoor/anaconda/lib/python2.7/site-packages/matplotlib/__init__.py:872: UserWarning: axes.color_cycle is deprecated and replaced with axes.prop_cycle; please use the latter.\n",
      "  warnings.warn(self.msg_depr % (key, alt_key))\n"
     ]
    },
    {
     "data": {
      "image/png": "[encoded data removed]",
      "text/plain": [
       "<matplotlib.figure.Figure at 0x12ca36f90>"
      ]
     },
     "metadata": {},
     "output_type": "display_data"
    },
    {
     "data": {
      "text/plain": [
       "<ggplot: (315242217)>"
      ]
     },
     "execution_count": 22,
     "metadata": {},
     "output_type": "execute_result"
    }
   ],
   "source": [
    "DF_gs_x = pd.DataFrame(np.transpose([x, p_gs_x]))\n",
    "DF_gs_x.rename(columns = lambda x: str(x), inplace=True)\n",
    "DF_gs_x.rename(columns={\"0\": \"X\"}, inplace=True) # rename a dfcolumn   \n",
    "DF_gs_x.rename(columns={\"1\": \"Y\"}, inplace=True) # rename a dfcolumn \n",
    "#DF_gs_x\n",
    "\n",
    "ggplot(aes(x = 'X', y ='Y'),data=DF_gs_x) + \\\n",
    "    geom_point()"
   ]
  },
  {
   "cell_type": "code",
   "execution_count": 23,
   "metadata": {
    "collapsed": false
   },
   "outputs": [
    {
     "data": {
      "image/png": "[encoded data removed]",
      "text/plain": [
       "<matplotlib.figure.Figure at 0x12ca4a710>"
      ]
     },
     "metadata": {},
     "output_type": "display_data"
    },
    {
     "data": {
      "text/plain": [
       "<ggplot: (315239409)>"
      ]
     },
     "execution_count": 23,
     "metadata": {},
     "output_type": "execute_result"
    }
   ],
   "source": [
    "DF_in_x = pd.DataFrame(np.transpose([x, p_in_x]))\n",
    "DF_in_x.rename(columns = lambda x: str(x), inplace=True)\n",
    "DF_in_x.rename(columns={\"0\": \"X\"}, inplace=True) # rename a dfcolumn   \n",
    "DF_in_x.rename(columns={\"1\": \"Y\"}, inplace=True) # rename a dfcolumn \n",
    "#DF_in_x\n",
    "\n",
    "ggplot(aes(x = 'X', y ='Y'),data=DF_in_x) + \\\n",
    "    geom_point()"
   ]
  },
  {
   "cell_type": "markdown",
   "metadata": {},
   "source": [
    "# Bhattacharyya Coefficient"
   ]
  },
  {
   "cell_type": "code",
   "execution_count": 24,
   "metadata": {
    "collapsed": false
   },
   "outputs": [
    {
     "name": "stdout",
     "output_type": "stream",
     "text": [
      "0.97080829719\n"
     ]
    }
   ],
   "source": [
    "Bc = (1.0/3.0)*( np.sum(np.sqrt(p_gs_x * p_in_x)) + np.sum(np.sqrt(p_gs_y * p_in_y)) + np.sum(np.sqrt(p_gs_z * p_in_z)) )\n",
    "print(Bc)"
   ]
  },
  {
   "cell_type": "code",
   "execution_count": null,
   "metadata": {
    "collapsed": true
   },
   "outputs": [],
   "source": []
  },
  {
   "cell_type": "code",
   "execution_count": null,
   "metadata": {
    "collapsed": true
   },
   "outputs": [],
   "source": []
  }
 ],
 "metadata": {
  "kernelspec": {
   "display_name": "Python 2",
   "language": "python",
   "name": "python2"
  },
  "language_info": {
   "codemirror_mode": {
    "name": "ipython",
    "version": 2
   },
   "file_extension": ".py",
   "mimetype": "text/x-python",
   "name": "python",
   "nbconvert_exporter": "python",
   "pygments_lexer": "ipython2",
   "version": "2.7.11"
  }
 },
 "nbformat": 4,
 "nbformat_minor": 0
}
