{
 "cells": [
  {
   "cell_type": "code",
   "execution_count": 105,
   "metadata": {
    "collapsed": false
   },
   "outputs": [
    {
     "name": "stdout",
     "output_type": "stream",
     "text": [
      "SimpleITK Version: 0.9.1\n",
      "Compiled: Sep 28 2015 10:07:41\n",
      "\n"
     ]
    }
   ],
   "source": [
    "## Boiler plate code common to many notebooks.  See the TestFilesCommonCode.ipynb for details\n",
    "from __future__ import print_function\n",
    "%run TestFilesCommonCode.ipynb"
   ]
  },
  {
   "cell_type": "code",
   "execution_count": 106,
   "metadata": {
    "collapsed": true
   },
   "outputs": [],
   "source": [
    "import scipy.io"
   ]
  },
  {
   "cell_type": "code",
   "execution_count": 107,
   "metadata": {
    "collapsed": true
   },
   "outputs": [],
   "source": [
    "OUT_DIR='/raid0/homes/aghayoor/Desktop/phantom'"
   ]
  },
  {
   "cell_type": "code",
   "execution_count": 108,
   "metadata": {
    "collapsed": false
   },
   "outputs": [],
   "source": [
    "t1=sitk.Image(128,128,sitk.sitkUInt8)\n",
    "t2=sitk.Image(128,128,sitk.sitkUInt8)"
   ]
  },
  {
   "cell_type": "code",
   "execution_count": 109,
   "metadata": {
    "collapsed": false
   },
   "outputs": [
    {
     "data": {
      "image/png": "[encoded data removed]",
      "text/plain": [
       "<matplotlib.figure.Figure at 0x11a8fc7d0>"
      ]
     },
     "metadata": {},
     "output_type": "display_data"
    }
   ],
   "source": [
    "# create modality 1\n",
    "#\n",
    "t1_arr=sitk.GetArrayFromImage(t1)\n",
    "t1_arr[8:65,49:119]=50 # tissue A or c\n",
    "t1_arr[65:80,85:119]=50 # tissue A or C\n",
    "t1_arr[65:119,8:85]=250 # tissue B\n",
    "t1_arr[100:127,65:127]=0\n",
    "#\n",
    "t1=sitk.GetImageFromArray(t1_arr)\n",
    "myshow(sitk.LabelToRGB(t1))"
   ]
  },
  {
   "cell_type": "code",
   "execution_count": 110,
   "metadata": {
    "collapsed": true
   },
   "outputs": [],
   "source": [
    "sitk.WriteImage(t1,os.path.join(OUT_DIR,'t1.nii.gz'))\n",
    "scipy.io.savemat(os.path.join(OUT_DIR,'t1.mat'), mdict={'t1': t1_arr})"
   ]
  },
  {
   "cell_type": "code",
   "execution_count": 111,
   "metadata": {
    "collapsed": false
   },
   "outputs": [
    {
     "data": {
      "image/png": "[encoded data removed]",
      "text/plain": [
       "<matplotlib.figure.Figure at 0x124c33850>"
      ]
     },
     "metadata": {},
     "output_type": "display_data"
    }
   ],
   "source": [
    "# create modality 2\n",
    "#\n",
    "t2_arr=sitk.GetArrayFromImage(t2)\n",
    "t2_arr[8:65,49:119]=200 # tissue A\n",
    "t2_arr[65:119,8:85]=100 # tissue B\n",
    "t2_arr[100:127,65:127]=0\n",
    "t2_arr[31:80,85:119]=150 # tissue C\n",
    "t2_arr[31:53,85:107]=200 # tissue A\n",
    "#\n",
    "t2=sitk.GetImageFromArray(t2_arr)\n",
    "myshow(sitk.LabelToRGB(t2))"
   ]
  },
  {
   "cell_type": "code",
   "execution_count": 112,
   "metadata": {
    "collapsed": true
   },
   "outputs": [],
   "source": [
    "sitk.WriteImage(t2,os.path.join(OUT_DIR,'t2.nii.gz'))\n",
    "scipy.io.savemat(os.path.join(OUT_DIR,'t2.mat'), mdict={'t2': t2_arr})"
   ]
  },
  {
   "cell_type": "code",
   "execution_count": 113,
   "metadata": {
    "collapsed": false
   },
   "outputs": [
    {
     "name": "stdout",
     "output_type": "stream",
     "text": [
      "(12, 12)\n",
      "(10.0, 10.0)\n"
     ]
    },
    {
     "data": {
      "image/png": "[encoded data removed]",
      "text/plain": [
       "<matplotlib.figure.Figure at 0x11c061f50>"
      ]
     },
     "metadata": {},
     "output_type": "display_data"
    }
   ],
   "source": [
    "t2_lr = sitk.Shrink(t2,[10,10])\n",
    "myshow(sitk.LabelToRGB(t2_lr))\n",
    "\n",
    "print(t2_lr.GetSize())\n",
    "print(t2_lr.GetSpacing())"
   ]
  },
  {
   "cell_type": "code",
   "execution_count": 114,
   "metadata": {
    "collapsed": true
   },
   "outputs": [],
   "source": [
    "sitk.WriteImage(t2_lr,os.path.join(OUT_DIR,'t2_lr.nii.gz'))\n",
    "\n",
    "t2_lr_arr=sitk.GetArrayFromImage(t2_lr)\n",
    "scipy.io.savemat(os.path.join(OUT_DIR,'t2_lr.mat'), mdict={'t2_lr': t2_lr_arr})"
   ]
  },
  {
   "cell_type": "code",
   "execution_count": 115,
   "metadata": {
    "collapsed": true
   },
   "outputs": [],
   "source": [
    "# compute pure plugs mask\n",
    "#\n",
    "#\n",
    "#"
   ]
  },
  {
   "cell_type": "code",
   "execution_count": 116,
   "metadata": {
    "collapsed": true
   },
   "outputs": [],
   "source": [
    "#t2_lr=t2"
   ]
  },
  {
   "cell_type": "code",
   "execution_count": 117,
   "metadata": {
    "collapsed": false
   },
   "outputs": [],
   "source": [
    "purePlugsMask = sitk.Image(t2_lr.GetSize(),sitk.sitkUInt8)\n",
    "purePlugsMask.CopyInformation(t2_lr)\n",
    "#print(purePlugsMask)"
   ]
  },
  {
   "cell_type": "code",
   "execution_count": 118,
   "metadata": {
    "collapsed": false
   },
   "outputs": [],
   "source": [
    "def isPurePlug(idx, t2_lr, t1):\n",
    "    # high spacing (low resolution)\n",
    "    hspc=np.array(t2_lr.GetSpacing())\n",
    "    # low spacing (high resolution)\n",
    "    lspc=np.array(t1.GetSpacing())\n",
    "\n",
    "    factor=hspc/lspc\n",
    "    stepSize=1/factor\n",
    "\n",
    "    hResSize = t1.GetSize()\n",
    "    \n",
    "    # continues index\n",
    "    cidx=np.array([float(i) for i in idx])\n",
    "    #print('----------------------------')\n",
    "    #print(\"index: {0}\".format(cidx)) # <-----\n",
    "    p = t2_lr.TransformContinuousIndexToPhysicalPoint(cidx)\n",
    "    #print(p)\n",
    "    #\n",
    "    isInside = True\n",
    "    t1_sampleValues=[]\n",
    "    for iss in np.arange(cidx[0]-1.0/2+stepSize[0]/2,cidx[0]+1.0/2,stepSize[0]):\n",
    "        for jss in np.arange(cidx[1]-1.0/2+stepSize[1]/2,cidx[1]+1.0/2,stepSize[1]):\n",
    "            cssidx=[iss, jss]\n",
    "            #\n",
    "            #print(\"continus subsample: {0}\".format(cssidx)) # <-----\n",
    "            #\n",
    "            p = t2_lr.TransformContinuousIndexToPhysicalPoint(cssidx)\n",
    "            #\n",
    "            #print(\"point: {0}\".format(p)) # <-----\n",
    "            #\n",
    "            newidx = t1.TransformPhysicalPointToIndex(p)\n",
    "            #\n",
    "            #print(\"newidx: {0}\".format(newidx)) # <-----\n",
    "            #\n",
    "            if any( newidx[i] < 0 or newidx[i] >= hResSize[i] for i in range(len(newidx))):\n",
    "                isInside = False\n",
    "                #\n",
    "                #print(\"is not inside\") # <-----\n",
    "                #\n",
    "                break\n",
    "            else:\n",
    "                t1_value = t1[newidx]\n",
    "                t1_sampleValues.append(t1_value)\n",
    "        else:\n",
    "            continue\n",
    "        break\n",
    "\n",
    "    ispure = False\n",
    "    if isInside:\n",
    "        #\n",
    "        #print(\"sample values: \") # <-----\n",
    "        #print(t1_sampleValues) # <-----\n",
    "        #\n",
    "        t1_arr = np.array(t1_sampleValues)\n",
    "        # First check to see wether the variance is zero\n",
    "        # In this case, surely we have a pure plug\n",
    "        var_t1 = np.var(t1_arr)\n",
    "        #\n",
    "        #print(\"var: {0}\".format(var_t1)) # <-----\n",
    "        #\n",
    "        if var_t1 == 0: # it means that the std in at least one image is zero \n",
    "            ispure = True\n",
    "        else:\n",
    "            ispure = False\n",
    "    #\n",
    "    #print(\"Is pure: {0}\".format(ispure)) # <-----\n",
    "    #\n",
    "    return ispure"
   ]
  },
  {
   "cell_type": "code",
   "execution_count": 119,
   "metadata": {
    "collapsed": false
   },
   "outputs": [],
   "source": [
    "t2_lr_size = t2_lr.GetSize()\n",
    "\n",
    "for i in range(0,t2_lr_size[0]):\n",
    "  for j in range(0,t2_lr_size[1]):\n",
    "      idx=[i,j]\n",
    "      if( isPurePlug(idx,t2_lr,t1) ):\n",
    "        purePlugsMask[idx] = 1\n",
    "      else:\n",
    "        purePlugsMask[idx] = 0"
   ]
  },
  {
   "cell_type": "code",
   "execution_count": 120,
   "metadata": {
    "collapsed": false
   },
   "outputs": [
    {
     "data": {
      "image/png": "[encoded data removed]",
      "text/plain": [
       "<matplotlib.figure.Figure at 0x124c7ba90>"
      ]
     },
     "metadata": {},
     "output_type": "display_data"
    }
   ],
   "source": [
    "myshow(purePlugsMask)\n",
    "sitk.WriteImage(purePlugsMask,os.path.join(OUT_DIR,'pureplugs_mask.nii.gz'))"
   ]
  },
  {
   "cell_type": "code",
   "execution_count": null,
   "metadata": {
    "collapsed": true
   },
   "outputs": [],
   "source": []
  }
 ],
 "metadata": {
  "kernelspec": {
   "display_name": "Python 2",
   "language": "python",
   "name": "python2"
  },
  "language_info": {
   "codemirror_mode": {
    "name": "ipython",
    "version": 2
   },
   "file_extension": ".py",
   "mimetype": "text/x-python",
   "name": "python",
   "nbconvert_exporter": "python",
   "pygments_lexer": "ipython2",
   "version": "2.7.11"
  }
 },
 "nbformat": 4,
 "nbformat_minor": 0
}
