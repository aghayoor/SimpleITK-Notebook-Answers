{
 "cells": [
  {
   "cell_type": "code",
   "execution_count": 29,
   "metadata": {},
   "outputs": [
    {
     "name": "stdout",
     "output_type": "stream",
     "text": [
      "SimpleITK Version: 1.0.1 (ITK 4.11)\n",
      "Compiled: Aug  7 2017 12:11:31\n",
      "\n"
     ]
    }
   ],
   "source": [
    "## Boiler plate code common to many notebooks.  See the TestFilesCommonCode.ipynb for details\n",
    "from __future__ import print_function\n",
    "%run TestFilesCommonCode.ipynb"
   ]
  },
  {
   "cell_type": "code",
   "execution_count": 30,
   "metadata": {},
   "outputs": [
    {
     "name": "stdout",
     "output_type": "stream",
     "text": [
      "32-bit float\n",
      "32-bit unsigned integer\n"
     ]
    },
    {
     "data": {
      "image/png": "[encoded data removed]",
      "text/plain": [
       "<Figure size 134.4x268.8 with 1 Axes>"
      ]
     },
     "metadata": {},
     "output_type": "display_data"
    }
   ],
   "source": [
    "img_labels_filename = '/Volumes/G-RAID1/Ali/rat_rsfMRI_phMRI/data/atlas/invicroRatAtlas.nii'\n",
    "img_labels = sitk.ReadImage(img_labels_filename)\n",
    "print(img_labels.GetPixelIDTypeAsString())\n",
    "img_labels = sitk.Cast(img_labels,sitk.sitkUInt32)\n",
    "print(img_labels.GetPixelIDTypeAsString())\n",
    "myshow(sitk.LabelToRGB(img_labels))"
   ]
  },
  {
   "cell_type": "code",
   "execution_count": 31,
   "metadata": {},
   "outputs": [],
   "source": [
    "# inclusionLables = sitk.Image(img_labels.GetSize(), sitk.sitkUInt64)\n",
    "# inclusionLables.SetOrigin(img_labels.GetOrigin())\n",
    "# inclusionLables.SetSpacing(img_labels.GetSpacing())\n",
    "# print(inclusionLables.GetPixelIDTypeAsString())\n",
    "\n",
    "# minmax = sitk.MinimumMaximumImageFilter()\n",
    "# minmax.Execute(inclusionLables)\n",
    "# print(minmax.GetMaximum())\n",
    "# print(minmax.GetMinimum())"
   ]
  },
  {
   "cell_type": "code",
   "execution_count": 32,
   "metadata": {},
   "outputs": [
    {
     "name": "stdout",
     "output_type": "stream",
     "text": [
      "3203.0\n",
      "0.0\n"
     ]
    }
   ],
   "source": [
    "minmax = sitk.MinimumMaximumImageFilter()\n",
    "minmax.Execute(img_labels)\n",
    "print(minmax.GetMaximum())\n",
    "print(minmax.GetMinimum())"
   ]
  },
  {
   "cell_type": "code",
   "execution_count": 33,
   "metadata": {},
   "outputs": [],
   "source": [
    "Cingulate=(img_labels == 1034)+(img_labels == 1434)\n",
    "Retrosplenial=(img_labels == 1135)+(img_labels == 1535)\n",
    "LeftHippocampus=(img_labels == 1062)+(img_labels == 1063)+(img_labels == 1064)+(img_labels == 1065)+(img_labels == 1066)\n",
    "RightHippocampus=(img_labels == 1462)+(img_labels == 1463)+(img_labels == 1464)+(img_labels == 1465)+(img_labels == 1466)\n",
    "LeftPrimarySomatosensory=(img_labels == 1143)+(img_labels == 1144)+(img_labels == 1145)+(img_labels == 1146)+(img_labels == 1147)+(img_labels == 1148)+(img_labels == 1149)+(img_labels == 1150)+(img_labels == 1151)+(img_labels == 1152)\n",
    "RightPrimarySomatosensory=(img_labels == 1543)+(img_labels == 1544)+(img_labels == 1545)+(img_labels == 1546)+(img_labels == 1547)+(img_labels == 1548)+(img_labels == 1549)+(img_labels == 1550)+(img_labels == 1551)+(img_labels == 1552)\n",
    "LeftMotor=(img_labels == 1083)+(img_labels == 1084)\n",
    "RightMotor=(img_labels == 1483)+(img_labels == 1484)\n",
    "Caudate=(img_labels == 1157)\n",
    "Putamen=(img_labels == 1557)\n",
    "LeftAccumbens=(img_labels == 1053)+(img_labels == 1159)\n",
    "RightAccumbens=(img_labels == 1453)+(img_labels == 1559)"
   ]
  },
  {
   "cell_type": "code",
   "execution_count": 34,
   "metadata": {},
   "outputs": [],
   "source": [
    "Cingulate = sitk.Cast(Cingulate,sitk.sitkUInt32)\n",
    "Retrosplenial = sitk.Cast(Retrosplenial,sitk.sitkUInt32)\n",
    "LeftHippocampus = sitk.Cast(LeftHippocampus,sitk.sitkUInt32)\n",
    "RightHippocampus = sitk.Cast(RightHippocampus,sitk.sitkUInt32)\n",
    "LeftPrimarySomatosensory = sitk.Cast(LeftPrimarySomatosensory,sitk.sitkUInt32)\n",
    "RightPrimarySomatosensory = sitk.Cast(RightPrimarySomatosensory,sitk.sitkUInt32)\n",
    "LeftMotor = sitk.Cast(LeftMotor,sitk.sitkUInt32)\n",
    "RightMotor = sitk.Cast(RightMotor,sitk.sitkUInt32)\n",
    "Caudate = sitk.Cast(Caudate,sitk.sitkUInt32)\n",
    "Putamen = sitk.Cast(Putamen,sitk.sitkUInt32)\n",
    "LeftAccumbens = sitk.Cast(LeftAccumbens,sitk.sitkUInt32)\n",
    "RightAccumbens = sitk.Cast(RightAccumbens,sitk.sitkUInt32)"
   ]
  },
  {
   "cell_type": "code",
   "execution_count": 35,
   "metadata": {},
   "outputs": [
    {
     "name": "stdout",
     "output_type": "stream",
     "text": [
      "1.0\n",
      "0.0\n",
      "-----\n",
      "1.0\n",
      "0.0\n",
      "-----\n",
      "1.0\n",
      "0.0\n",
      "-----\n",
      "1.0\n",
      "0.0\n",
      "-----\n",
      "1.0\n",
      "0.0\n",
      "-----\n",
      "1.0\n",
      "0.0\n",
      "-----\n",
      "1.0\n",
      "0.0\n",
      "-----\n",
      "1.0\n",
      "0.0\n",
      "-----\n",
      "1.0\n",
      "0.0\n",
      "-----\n",
      "1.0\n",
      "0.0\n",
      "-----\n",
      "1.0\n",
      "0.0\n",
      "-----\n",
      "1.0\n",
      "0.0\n",
      "-----\n"
     ]
    }
   ],
   "source": [
    "minmax = sitk.MinimumMaximumImageFilter()\n",
    "minmax.Execute(Cingulate)\n",
    "print(minmax.GetMaximum())\n",
    "print(minmax.GetMinimum())\n",
    "print('-----')\n",
    "minmax = sitk.MinimumMaximumImageFilter()\n",
    "minmax.Execute(Retrosplenial)\n",
    "print(minmax.GetMaximum())\n",
    "print(minmax.GetMinimum())\n",
    "print('-----')\n",
    "minmax = sitk.MinimumMaximumImageFilter()\n",
    "minmax.Execute(LeftHippocampus)\n",
    "print(minmax.GetMaximum())\n",
    "print(minmax.GetMinimum())\n",
    "print('-----')\n",
    "minmax = sitk.MinimumMaximumImageFilter()\n",
    "minmax.Execute(RightHippocampus)\n",
    "print(minmax.GetMaximum())\n",
    "print(minmax.GetMinimum())\n",
    "print('-----')\n",
    "minmax = sitk.MinimumMaximumImageFilter()\n",
    "minmax.Execute(LeftPrimarySomatosensory)\n",
    "print(minmax.GetMaximum())\n",
    "print(minmax.GetMinimum())\n",
    "print('-----')\n",
    "minmax = sitk.MinimumMaximumImageFilter()\n",
    "minmax.Execute(RightPrimarySomatosensory)\n",
    "print(minmax.GetMaximum())\n",
    "print(minmax.GetMinimum())\n",
    "print('-----')\n",
    "minmax = sitk.MinimumMaximumImageFilter()\n",
    "minmax.Execute(LeftMotor)\n",
    "print(minmax.GetMaximum())\n",
    "print(minmax.GetMinimum())\n",
    "print('-----')\n",
    "minmax = sitk.MinimumMaximumImageFilter()\n",
    "minmax.Execute(RightMotor)\n",
    "print(minmax.GetMaximum())\n",
    "print(minmax.GetMinimum())\n",
    "print('-----')\n",
    "minmax = sitk.MinimumMaximumImageFilter()\n",
    "minmax.Execute(Caudate)\n",
    "print(minmax.GetMaximum())\n",
    "print(minmax.GetMinimum())\n",
    "print('-----')\n",
    "minmax = sitk.MinimumMaximumImageFilter()\n",
    "minmax.Execute(Putamen)\n",
    "print(minmax.GetMaximum())\n",
    "print(minmax.GetMinimum())\n",
    "print('-----')\n",
    "minmax = sitk.MinimumMaximumImageFilter()\n",
    "minmax.Execute(LeftAccumbens)\n",
    "print(minmax.GetMaximum())\n",
    "print(minmax.GetMinimum())\n",
    "print('-----')\n",
    "minmax = sitk.MinimumMaximumImageFilter()\n",
    "minmax.Execute(RightAccumbens)\n",
    "print(minmax.GetMaximum())\n",
    "print(minmax.GetMinimum())\n",
    "print('-----')"
   ]
  },
  {
   "cell_type": "code",
   "execution_count": 36,
   "metadata": {},
   "outputs": [
    {
     "name": "stdout",
     "output_type": "stream",
     "text": [
      "32-bit unsigned integer\n",
      "2543.0\n",
      "0.0\n"
     ]
    },
    {
     "data": {
      "image/png": "[encoded data removed]",
      "text/plain": [
       "<Figure size 134.4x268.8 with 1 Axes>"
      ]
     },
     "metadata": {},
     "output_type": "display_data"
    }
   ],
   "source": [
    "inclusionLables=(Cingulate*2034 + \n",
    "                 + Retrosplenial*2135\n",
    "                 + LeftHippocampus*2062\n",
    "                 + RightHippocampus*2462\n",
    "                 + LeftPrimarySomatosensory*2143\n",
    "                 + RightPrimarySomatosensory*2543\n",
    "                 + LeftMotor*2083\n",
    "                 + RightMotor*2483\n",
    "                 + Caudate*1157\n",
    "                 + Putamen*1557\n",
    "                 + LeftAccumbens*1205\n",
    "                 + RightAccumbens*1605)\n",
    "\n",
    "print(inclusionLables.GetPixelIDTypeAsString())\n",
    "\n",
    "minmax = sitk.MinimumMaximumImageFilter()\n",
    "minmax.Execute(inclusionLables)\n",
    "print(minmax.GetMaximum())\n",
    "print(minmax.GetMinimum())\n",
    "\n",
    "myshow(sitk.LabelToRGB(inclusionLables))"
   ]
  },
  {
   "cell_type": "code",
   "execution_count": 37,
   "metadata": {},
   "outputs": [],
   "source": [
    "sitk.WriteImage(inclusionLables,'/Volumes/G-RAID1/Ali/rat_rsfMRI_phMRI/data/atlas/invicroRatAtlas_for_seedbased_correlation.nii')"
   ]
  },
  {
   "cell_type": "code",
   "execution_count": null,
   "metadata": {},
   "outputs": [],
   "source": []
  }
 ],
 "metadata": {
  "anaconda-cloud": {},
  "kernelspec": {
   "display_name": "Python 2",
   "language": "python",
   "name": "python2"
  },
  "language_info": {
   "codemirror_mode": {
    "name": "ipython",
    "version": 2
   },
   "file_extension": ".py",
   "mimetype": "text/x-python",
   "name": "python",
   "nbconvert_exporter": "python",
   "pygments_lexer": "ipython2",
   "version": "2.7.14"
  }
 },
 "nbformat": 4,
 "nbformat_minor": 1
}
