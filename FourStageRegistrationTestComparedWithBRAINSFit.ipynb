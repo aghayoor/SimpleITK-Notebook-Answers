{
 "metadata": {
  "name": ""
 },
 "nbformat": 3,
 "nbformat_minor": 0,
 "worksheets": [
  {
   "cells": [
    {
     "cell_type": "markdown",
     "metadata": {},
     "source": [
      "In this example we run 4 registration stages in one full resolution level. Transforms used in each stage are as follows:\n",
      "\n",
      "Stage1: VersorRigid3DTransform\n",
      "Stage2: ScaleVersor3DTransform\n",
      "Stage3: AffineTransform\n",
      "Stage4: BSplineTransform"
     ]
    },
    {
     "cell_type": "code",
     "collapsed": false,
     "input": [
      "## Boiler plate code common to many notebooks.  See the TestFilesCommonCode.ipynb for details\n",
      "from __future__ import print_function\n",
      "%run TestFilesCommonCode.ipynb"
     ],
     "language": "python",
     "metadata": {},
     "outputs": [],
     "prompt_number": null
    },
    {
     "cell_type": "code",
     "collapsed": false,
     "input": [
      "fixedImageFilename = fdata('BRAINSTools/test.nii.gz')\n",
      "movingImageFilename = fdata('BRAINSTools/rotation.rescale.rigid.nii.gz')\n",
      "fixed = sitk.ReadImage(fixedImageFilename,sitk.sitkFloat32)\n",
      "moving = sitk.ReadImage(movingImageFilename, sitk.sitkFloat32)\n",
      "\n",
      "referenceBaselineImageFilename = fdata('BRAINSTools/BRAINSFitTest_BSplineAnteScaleRotationRescaleHeadMasks.result.nii.gz')\n",
      "baseline = sitk.ReadImage(referenceBaselineImageFilename, sitk.sitkFloat32)\n",
      "myshow3d(fixed, xslices=[], yslices=[], zslices=[], title=\"fixed\")\n",
      "myshow3d(moving, xslices=[], yslices=[], zslices=[], title=\"moving\")\n",
      "myshow3d(baseline, xslices=[], yslices=[], zslices=[], title=\"baseline\")"
     ],
     "language": "python",
     "metadata": {},
     "outputs": [],
     "prompt_number": null
    },
    {
     "cell_type": "code",
     "collapsed": false,
     "input": [
      "cshow3d(fixed,moving)\n",
      "cshow(fixed,moving)"
     ],
     "language": "python",
     "metadata": {},
     "outputs": [],
     "prompt_number": null
    },
    {
     "cell_type": "code",
     "collapsed": false,
     "input": [
      "BFIT_FIX=\"/Users/aghayoor/WorkSpace/BS/release/BRAINSTools-build/ExternalData/TestData/test.nii.gz\"\n",
      "BFIT_MOVING=\"/Users/aghayoor/WorkSpace/BS/release/BRAINSTools-build/ExternalData/TestData/rotation.rescale.rigid.nii.gz\"\n",
      "\n",
      "# RUN THE BRAINSFIT FIRST ######################\n",
      "!/Users/aghayoor/WorkSpace/BS/release/bin/BRAINSFit \\\n",
      "--costMetric MMI \\\n",
      "--numberOfIterations 2500,2500,2500,500 \\\n",
      "--numberOfHistogramBins 200 \\\n",
      "--splineGridSize 7,5,6 \\\n",
      "--samplingPercentage 0.5 \\\n",
      "--translationScale 250 \\\n",
      "--minimumStepLength 0.01,0.003,0.001,0.001 \\\n",
      "--outputVolumePixelType float \\\n",
      "--initializeTransformMode useMomentsAlign \\\n",
      "--transformType Rigid,ScaleVersor3D,Affine,BSpline \\\n",
      "--fixedVolume $BFIT_FIX \\\n",
      "--movingVolume $BFIT_MOVING \\\n",
      "--outputVolume BFitOut"
     ],
     "language": "python",
     "metadata": {},
     "outputs": []
    },
    {
     "cell_type": "code",
     "collapsed": false,
     "input": [
      "# First transform is passed through an initializer\n",
      "tx1 = sitk.CenteredVersorTransformInitializer(fixed, moving, sitk.VersorRigid3DTransform())\n",
      "print tx1"
     ],
     "language": "python",
     "metadata": {},
     "outputs": [],
     "prompt_number": null
    },
    {
     "cell_type": "code",
     "collapsed": false,
     "input": [
      "ctx = sitk.Transform(tx1) # Set composite transform\n",
      "                          # This composite transform is update at each stage\n",
      "                          # and finally will be considered as the output of \n",
      "                          # the registration process since the InPlace is TRUE.\n",
      "ctx.SetFixedParameters(ctx.GetFixedParameters()) # hack to force deep copy, as registion is done in place..\n",
      "# Set the registration filter\n",
      "R = sitk.ImageRegistrationMethod()\n",
      "R.SetMetricAsMattesMutualInformation( 200 )\n",
      "R.SetOptimizerAsRegularStepGradientDescent(learningRate =0.2,\n",
      "                                           minStep=1e-2,\n",
      "                                           numberOfIterations=250,\n",
      "                                           gradientMagnitudeTolerance=1e-4,\n",
      "                                           estimateLearningRate=R.Never)\n",
      "R.SetOptimizerScales([1, 1, 1, 1.0/250, 1.0/250, 1.0/250])\n",
      "R.SetShrinkFactorsPerLevel([1])\n",
      "R.SetSmoothingSigmasPerLevel([0])\n",
      "R.SetInitialTransform(ctx)\n",
      "R.SetInterpolator(sitk.sitkLinear)\n",
      "R.SetMetricSamplingPercentage(0.5)\n",
      "R.SetMetricSamplingStrategy(R.RANDOM)"
     ],
     "language": "python",
     "metadata": {},
     "outputs": [],
     "prompt_number": null
    },
    {
     "cell_type": "code",
     "collapsed": false,
     "input": [
      "R.RemoveAllCommands()\n",
      "R.AddCommand( sitk.sitkIterationEvent, lambda: command_iteration(R) )\n",
      "outTx = R.Execute(sitk.Cast(fixed,sitk.sitkFloat32), sitk.Cast(moving,sitk.sitkFloat32))\n",
      "\n",
      "print(\"-------\")\n",
      "print(outTx)\n",
      "print(\"Optimizer stop condition: {0}\".format(R.GetOptimizerStopConditionDescription()))\n",
      "print(\" Iteration: {0}\".format(R.GetOptimizerIteration()))\n",
      "print(\" Metric value: {0}\".format(R.GetMetricValue()))"
     ],
     "language": "python",
     "metadata": {},
     "outputs": [],
     "prompt_number": null
    },
    {
     "cell_type": "code",
     "collapsed": false,
     "input": [
      "cshow3d(fixed,moving,outTx)"
     ],
     "language": "python",
     "metadata": {},
     "outputs": [],
     "prompt_number": null
    },
    {
     "cell_type": "code",
     "collapsed": false,
     "input": [
      "# Set the second stage transform\n",
      "tx2 = sitk.ScaleVersor3DTransform()\n",
      "# Fixed parameters of the next transform are taken from the last transform.\n",
      "tx2.SetFixedParameters(tx1.GetFixedParameters())"
     ],
     "language": "python",
     "metadata": {},
     "outputs": [],
     "prompt_number": null
    },
    {
     "cell_type": "code",
     "collapsed": false,
     "input": [
      "ctx.AddTransform(tx2) # Update the composite transform\n",
      "ctx.SetFixedParameters(ctx.GetFixedParameters())\n",
      "R.SetInitialTransform(ctx)\n",
      "R.SetOptimizerAsRegularStepGradientDescent(learningRate =0.2,\n",
      "                                           minStep=3e-3,\n",
      "                                           numberOfIterations=250,\n",
      "                                           gradientMagnitudeTolerance=1e-4,\n",
      "                                           estimateLearningRate=R.Never)\n",
      "R.SetOptimizerScales([1, 1, 1, 1.0/250, 1.0/250, 1.0/250, 1.0/25, 1.0/25, 1.0/25])\n",
      "\n",
      "scaleTxOut = R.Execute(fixed,moving)\n",
      "print(\"-------\")\n",
      "print(scaleTxOut)\n",
      "print(\"Optimizer stop condition: {0}\".format(R.GetOptimizerStopConditionDescription()))\n",
      "print(\" Iteration: {0}\".format(R.GetOptimizerIteration()))\n",
      "print(\" Metric value: {0}\".format(R.GetMetricValue()))"
     ],
     "language": "python",
     "metadata": {},
     "outputs": [],
     "prompt_number": null
    },
    {
     "cell_type": "code",
     "collapsed": false,
     "input": [
      "cshow3d(fixed,moving,ctx)"
     ],
     "language": "python",
     "metadata": {},
     "outputs": [],
     "prompt_number": null
    },
    {
     "cell_type": "code",
     "collapsed": false,
     "input": [
      "# Set the third stage\n",
      "tx3 = sitk.AffineTransform(fixed.GetDimension())\n",
      "tx3.SetFixedParameters(tx2.GetFixedParameters())"
     ],
     "language": "python",
     "metadata": {},
     "outputs": [],
     "prompt_number": null
    },
    {
     "cell_type": "code",
     "collapsed": false,
     "input": [
      "ctx.AddTransform(tx3) # Update the composite transform\n",
      "ctx.SetFixedParameters(ctx.GetFixedParameters())\n",
      "R.SetInitialTransform(ctx)\n",
      "# Set a new optimizer\n",
      "R.SetOptimizerAsConjugateGradientLineSearch(learningRate=0.2,\n",
      "                                            numberOfIterations=250,\n",
      "                                            convergenceMinimumValue=1e-6,\n",
      "                                            convergenceWindowSize=10,\n",
      "                                            lineSearchLowerLimit=0,\n",
      "                                            lineSearchUpperLimit=2,\n",
      "                                            lineSearchEpsilon=0.2,\n",
      "                                            lineSearchMaximumIterations=40,\n",
      "                                            estimateLearningRate=R.EachIteration,\n",
      "                                            maximumStepSizeInPhysicalUnits=0.2)\n",
      "R.SetOptimizerScalesFromPhysicalShift()\n",
      "affineOut = R.Execute(fixed,moving)\n",
      "print(\"-------\")\n",
      "print(affineOut)\n",
      "print(\"Optimizer stop condition: {0}\".format(R.GetOptimizerStopConditionDescription()))\n",
      "print(\" Iteration: {0}\".format(R.GetOptimizerIteration()))\n",
      "print(\" Metric value: {0}\".format(R.GetMetricValue()))"
     ],
     "language": "python",
     "metadata": {},
     "outputs": [],
     "prompt_number": null
    },
    {
     "cell_type": "code",
     "collapsed": false,
     "input": [
      "cshow3d(fixed,moving,ctx)"
     ],
     "language": "python",
     "metadata": {},
     "outputs": [],
     "prompt_number": null
    },
    {
     "cell_type": "code",
     "collapsed": false,
     "input": [
      "compare_with_baseline(fixed,moving,baseline,transform=ctx,numberOfPixelsTolerance=330,radiusTolerance=1,intensityTolerance=9)"
     ],
     "language": "python",
     "metadata": {},
     "outputs": [],
     "prompt_number": null
    },
    {
     "cell_type": "code",
     "collapsed": false,
     "input": [
      "# Set the 4th stage\n",
      "BSplineOrder=3\n",
      "# Set fixed parameters of the BSpline transform using transform initializer\n",
      "transfromDomainMeshSize=[7-BSplineOrder, 5-BSplineOrder, 6-BSplineOrder]\n",
      "tx4 = sitk.BSplineTransformInitializer(fixed, transfromDomainMeshSize, BSplineOrder )"
     ],
     "language": "python",
     "metadata": {},
     "outputs": [],
     "prompt_number": null
    },
    {
     "cell_type": "code",
     "collapsed": false,
     "input": [
      "ctx.AddTransform(tx4)\n",
      "ctx.SetFixedParameters(ctx.GetFixedParameters())\n",
      "R.SetInitialTransform(ctx)\n",
      "R.SetOptimizerAsLBFGSB(gradientConvergenceTolerance=1e-5,\n",
      "                       maximumNumberOfIterations=1500,\n",
      "                       maximumNumberOfCorrections=12,\n",
      "                       maximumNumberOfFunctionEvaluations=1000,\n",
      "                       costFunctionConvergenceFactor=1e+9)\n",
      "R.RemoveAllCommands()\n",
      "R.AddCommand( sitk.sitkIterationEvent, lambda: command_iteration_BSpline(R) )\n",
      "BSplineOut = R.Execute(fixed,moving)\n",
      "print(\"-------\")\n",
      "print(BSplineOut)\n",
      "print(\"Optimizer stop condition: {0}\".format(R.GetOptimizerStopConditionDescription()))\n",
      "print(\" Iteration: {0}\".format(R.GetOptimizerIteration()))\n",
      "print(\" Metric value: {0}\".format(R.GetMetricValue()))"
     ],
     "language": "python",
     "metadata": {},
     "outputs": [],
     "prompt_number": null
    },
    {
     "cell_type": "code",
     "collapsed": false,
     "input": [
      "cshow3d(fixed,moving,ctx)"
     ],
     "language": "python",
     "metadata": {},
     "outputs": [],
     "prompt_number": null
    },
    {
     "cell_type": "code",
     "collapsed": false,
     "input": [
      "compare_with_baseline(fixed,moving,baseline,ctx,numberOfPixelsTolerance=400,radiusTolerance=1,intensityTolerance=9)"
     ],
     "language": "python",
     "metadata": {},
     "outputs": [],
     "prompt_number": null
    }
   ],
   "metadata": {}
  }
 ]
}