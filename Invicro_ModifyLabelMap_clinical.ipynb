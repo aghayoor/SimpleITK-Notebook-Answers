{
 "cells": [
  {
   "cell_type": "code",
   "execution_count": 4,
   "metadata": {},
   "outputs": [
    {
     "name": "stdout",
     "output_type": "stream",
     "text": [
      "SimpleITK Version: 1.1.0 (ITK 4.13)\n",
      "Compiled: Mar 22 2018 15:26:38\n",
      "\n"
     ]
    },
    {
     "ename": "SyntaxError",
     "evalue": "invalid syntax (downloaddata.py, line 33)",
     "output_type": "error",
     "traceback": [
      "Traceback \u001b[0;36m(most recent call last)\u001b[0m:\n",
      "  File \u001b[1;32m\"/Users/aghayoor/anaconda2/envs/aghayoorEnv/lib/python3.6/site-packages/IPython/core/interactiveshell.py\"\u001b[0m, line \u001b[1;32m3265\u001b[0m, in \u001b[1;35mrun_code\u001b[0m\n    exec(code_obj, self.user_global_ns, self.user_ns)\n",
      "\u001b[0;36m  File \u001b[0;32m\"<ipython-input-4-36c81b0736b4>\"\u001b[0;36m, line \u001b[0;32m22\u001b[0;36m, in \u001b[0;35m<module>\u001b[0;36m\u001b[0m\n\u001b[0;31m    from downloaddata import fetch_midas_data as fdata\u001b[0m\n",
      "\u001b[0;36m  File \u001b[0;32m\"/Users/aghayoor/src/ipython_conda/SimpleITK-Notebook-Answers/downloaddata.py\"\u001b[0;36m, line \u001b[0;32m33\u001b[0m\n\u001b[0;31m    except HTTPError, e:\u001b[0m\n\u001b[0m                    ^\u001b[0m\n\u001b[0;31mSyntaxError\u001b[0m\u001b[0;31m:\u001b[0m invalid syntax\n"
     ]
    }
   ],
   "source": [
    "## Boiler plate code common to many notebooks.  See the TestFilesCommonCode.ipynb for details\n",
    "from __future__ import print_function\n",
    "%run TestFilesCommonCode.ipynb"
   ]
  },
  {
   "cell_type": "code",
   "execution_count": 5,
   "metadata": {},
   "outputs": [
    {
     "name": "stdout",
     "output_type": "stream",
     "text": [
      "8-bit unsigned integer\n",
      "32-bit unsigned integer\n"
     ]
    },
    {
     "data": {
      "image/png": "[encoded data removed]",
      "text/plain": [
       "<Figure size 114.45x95.55 with 1 Axes>"
      ]
     },
     "metadata": {
      "needs_background": "light"
     },
     "output_type": "display_data"
    }
   ],
   "source": [
    "img_labels_filename = '/Volumes/Clinical_Data/ALK6019-201/src/data/HarvardOxford-cortl-maxprob-thr25-2mm.nii.gz'\n",
    "img_labels = sitk.ReadImage(img_labels_filename)\n",
    "print(img_labels.GetPixelIDTypeAsString())\n",
    "img_labels = sitk.Cast(img_labels,sitk.sitkUInt32)\n",
    "print(img_labels.GetPixelIDTypeAsString())\n",
    "myshow(sitk.LabelToRGB(img_labels))"
   ]
  },
  {
   "cell_type": "code",
   "execution_count": 7,
   "metadata": {},
   "outputs": [
    {
     "name": "stdout",
     "output_type": "stream",
     "text": [
      "96.0\n",
      "0.0\n"
     ]
    }
   ],
   "source": [
    "minmax = sitk.MinimumMaximumImageFilter()\n",
    "minmax.Execute(img_labels)\n",
    "print(minmax.GetMaximum())\n",
    "print(minmax.GetMinimum())"
   ]
  },
  {
   "cell_type": "code",
   "execution_count": 8,
   "metadata": {},
   "outputs": [],
   "source": [
    "Precuneous_Cortex=(img_labels == 61)+(img_labels == 62)\n",
    "Anterior_Cingulate=(img_labels == 57)+(img_labels == 58)\n",
    "Left_Insular_Cortex=(img_labels == 3)\n",
    "Right_Insular_Cortex=(img_labels == 4)\n",
    "Left_Angular_Gyrus=(img_labels == 41)\n",
    "Right_Angular_Gyrus=(img_labels == 42)\n",
    "Left_Middle_Temporal_Gyrus=(img_labels == 21)+(img_labels == 23)\n",
    "Right_Middle_Temporal_Gyrus=(img_labels == 22)+(img_labels == 24)\n",
    "Frontal_Medial_Cortex=(img_labels == 49)+(img_labels == 50)"
   ]
  },
  {
   "cell_type": "code",
   "execution_count": 9,
   "metadata": {},
   "outputs": [],
   "source": [
    "Precuneous_Cortex = sitk.Cast(Precuneous_Cortex,sitk.sitkUInt32)\n",
    "Anterior_Cingulate = sitk.Cast(Anterior_Cingulate,sitk.sitkUInt32)\n",
    "Left_Insular_Cortex = sitk.Cast(Left_Insular_Cortex,sitk.sitkUInt32)\n",
    "Right_Insular_Cortex = sitk.Cast(Right_Insular_Cortex,sitk.sitkUInt32)\n",
    "Left_Angular_Gyrus = sitk.Cast(Left_Angular_Gyrus,sitk.sitkUInt32)\n",
    "Right_Angular_Gyrus = sitk.Cast(Right_Angular_Gyrus,sitk.sitkUInt32)\n",
    "Left_Middle_Temporal_Gyrus = sitk.Cast(Left_Middle_Temporal_Gyrus,sitk.sitkUInt32)\n",
    "Right_Middle_Temporal_Gyrus = sitk.Cast(Right_Middle_Temporal_Gyrus,sitk.sitkUInt32)\n",
    "Frontal_Medial_Cortex = sitk.Cast(Frontal_Medial_Cortex,sitk.sitkUInt32)"
   ]
  },
  {
   "cell_type": "code",
   "execution_count": 10,
   "metadata": {},
   "outputs": [
    {
     "name": "stdout",
     "output_type": "stream",
     "text": [
      "1.0\n",
      "0.0\n",
      "-----\n",
      "1.0\n",
      "0.0\n",
      "-----\n",
      "1.0\n",
      "0.0\n",
      "-----\n",
      "1.0\n",
      "0.0\n",
      "-----\n",
      "1.0\n",
      "0.0\n",
      "-----\n",
      "1.0\n",
      "0.0\n",
      "-----\n",
      "1.0\n",
      "0.0\n",
      "-----\n",
      "1.0\n",
      "0.0\n",
      "-----\n",
      "1.0\n",
      "0.0\n",
      "-----\n"
     ]
    }
   ],
   "source": [
    "minmax = sitk.MinimumMaximumImageFilter()\n",
    "minmax.Execute(Precuneous_Cortex)\n",
    "print(minmax.GetMaximum())\n",
    "print(minmax.GetMinimum())\n",
    "print('-----')\n",
    "minmax = sitk.MinimumMaximumImageFilter()\n",
    "minmax.Execute(Anterior_Cingulate)\n",
    "print(minmax.GetMaximum())\n",
    "print(minmax.GetMinimum())\n",
    "print('-----')\n",
    "minmax = sitk.MinimumMaximumImageFilter()\n",
    "minmax.Execute(Left_Insular_Cortex)\n",
    "print(minmax.GetMaximum())\n",
    "print(minmax.GetMinimum())\n",
    "print('-----')\n",
    "minmax = sitk.MinimumMaximumImageFilter()\n",
    "minmax.Execute(Right_Insular_Cortex)\n",
    "print(minmax.GetMaximum())\n",
    "print(minmax.GetMinimum())\n",
    "print('-----')\n",
    "minmax = sitk.MinimumMaximumImageFilter()\n",
    "minmax.Execute(Left_Angular_Gyrus)\n",
    "print(minmax.GetMaximum())\n",
    "print(minmax.GetMinimum())\n",
    "print('-----')\n",
    "minmax = sitk.MinimumMaximumImageFilter()\n",
    "minmax.Execute(Right_Angular_Gyrus)\n",
    "print(minmax.GetMaximum())\n",
    "print(minmax.GetMinimum())\n",
    "print('-----')\n",
    "minmax = sitk.MinimumMaximumImageFilter()\n",
    "minmax.Execute(Left_Middle_Temporal_Gyrus)\n",
    "print(minmax.GetMaximum())\n",
    "print(minmax.GetMinimum())\n",
    "print('-----')\n",
    "minmax = sitk.MinimumMaximumImageFilter()\n",
    "minmax.Execute(Right_Middle_Temporal_Gyrus)\n",
    "print(minmax.GetMaximum())\n",
    "print(minmax.GetMinimum())\n",
    "print('-----')\n",
    "minmax = sitk.MinimumMaximumImageFilter()\n",
    "minmax.Execute(Frontal_Medial_Cortex)\n",
    "print(minmax.GetMaximum())\n",
    "print(minmax.GetMinimum())\n",
    "print('-----')"
   ]
  },
  {
   "cell_type": "code",
   "execution_count": 11,
   "metadata": {},
   "outputs": [
    {
     "name": "stdout",
     "output_type": "stream",
     "text": [
      "32-bit unsigned integer\n",
      "9.0\n",
      "0.0\n"
     ]
    },
    {
     "data": {
      "image/png": "[encoded data removed]",
      "text/plain": [
       "<Figure size 114.45x95.55 with 1 Axes>"
      ]
     },
     "metadata": {
      "needs_background": "light"
     },
     "output_type": "display_data"
    }
   ],
   "source": [
    "inclusionLables=(Precuneous_Cortex*1 + \n",
    "                 + Anterior_Cingulate*2\n",
    "                 + Left_Insular_Cortex*3\n",
    "                 + Right_Insular_Cortex*4\n",
    "                 + Left_Angular_Gyrus*5\n",
    "                 + Right_Angular_Gyrus*6\n",
    "                 + Left_Middle_Temporal_Gyrus*7\n",
    "                 + Right_Middle_Temporal_Gyrus*8\n",
    "                 + Frontal_Medial_Cortex*9)\n",
    "\n",
    "print(inclusionLables.GetPixelIDTypeAsString())\n",
    "\n",
    "minmax = sitk.MinimumMaximumImageFilter()\n",
    "minmax.Execute(inclusionLables)\n",
    "print(minmax.GetMaximum())\n",
    "print(minmax.GetMinimum())\n",
    "\n",
    "myshow(sitk.LabelToRGB(inclusionLables))"
   ]
  },
  {
   "cell_type": "code",
   "execution_count": 12,
   "metadata": {},
   "outputs": [],
   "source": [
    "sitk.WriteImage(inclusionLables,'/Volumes/Clinical_Data/ALK6019-201/src/data/HarvardOxford-cortl-maxprob-thr25-2mm_for_seedbased_correlation.nii')"
   ]
  },
  {
   "cell_type": "code",
   "execution_count": null,
   "metadata": {},
   "outputs": [],
   "source": []
  }
 ],
 "metadata": {
  "anaconda-cloud": {},
  "kernelspec": {
   "display_name": "Python 3",
   "language": "python",
   "name": "python3"
  },
  "language_info": {
   "codemirror_mode": {
    "name": "ipython",
    "version": 3
   },
   "file_extension": ".py",
   "mimetype": "text/x-python",
   "name": "python",
   "nbconvert_exporter": "python",
   "pygments_lexer": "ipython3",
   "version": "3.6.6"
  }
 },
 "nbformat": 4,
 "nbformat_minor": 1
}
