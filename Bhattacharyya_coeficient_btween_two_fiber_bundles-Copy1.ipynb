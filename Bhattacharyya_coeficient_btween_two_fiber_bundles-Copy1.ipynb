{
 "cells": [
  {
   "cell_type": "code",
   "execution_count": 1,
   "metadata": {
    "collapsed": false
   },
   "outputs": [
    {
     "name": "stdout",
     "output_type": "stream",
     "text": [
      "SimpleITK Version: 0.9.1\n",
      "Compiled: Sep 28 2015 10:07:41\n",
      "\n"
     ]
    }
   ],
   "source": [
    "## Boiler plate code common to many notebooks.  See the TestFilesCommonCode.ipynb for details\n",
    "from __future__ import print_function\n",
    "%run TestFilesCommonCode.ipynb"
   ]
  },
  {
   "cell_type": "code",
   "execution_count": 6,
   "metadata": {
    "collapsed": false
   },
   "outputs": [],
   "source": [
    "import os\n",
    "import glob\n",
    "import sys\n",
    "\n",
    "#\\/\\/\\/\\/\\/\\/\\/\\/\\/\\/\\/\\/\\/\\/\\/\\/\\/\\/\\/\\/\\/\\/\\/\\/\\/\\/\\/\\/\\/\\/\\/\\/\\/\\/\\/\\/\\/\\/\\/\\/\\/\\/\\/\n",
    "#####################################################################################\n",
    "#     Prepend the shell environment search paths\n",
    "PROGRAM_PATHS = '/scratch/NAMICExternalProjects/release-20160523/bin'\n",
    "#PROGRAM_PATHS = '/scratch/BS/release-BSR/bin'\n",
    "PROGRAM_PATHS = PROGRAM_PATHS.split(':')\n",
    "PROGRAM_PATHS.extend(os.environ['PATH'].split(':'))\n",
    "os.environ['PATH'] = ':'.join(PROGRAM_PATHS)\n",
    "\n",
    "CUSTOM_ENVIRONMENT=dict()\n",
    "\n",
    "# Platform specific information\n",
    "#     Prepend the python search paths\n",
    "#PYTHON_AUX_PATHS = '/scratch/BS/BRAINSTools/AutoWorkup'\n",
    "PYTHON_AUX_PATHS = '/scratch/SuperResolution/BRAINSSuperResolution/HCPWorkflows/'\n",
    "PYTHON_AUX_PATHS = PYTHON_AUX_PATHS.split(':')\n",
    "PYTHON_AUX_PATHS.extend(sys.path)\n",
    "sys.path = PYTHON_AUX_PATHS\n",
    "\n",
    "import SimpleITK as sitk\n",
    "import nipype\n",
    "from nipype.interfaces.base import CommandLine, CommandLineInputSpec, TraitedSpec, File, Directory\n",
    "from nipype.interfaces.base import traits, isdefined, BaseInterface\n",
    "from nipype.interfaces.utility import Merge, Split, Function, Rename, IdentityInterface\n",
    "import nipype.interfaces.io as nio   # Data i/oS\n",
    "import nipype.pipeline.engine as pe  # pypeline engine\n",
    "from nipype.interfaces.freesurfer import ReconAll\n",
    "from nipype.interfaces.ants import DenoiseImage\n",
    "from nipype.interfaces.semtools import *\n",
    "\n",
    "PYTHON_AUX_PATHS = '/scratch/wmql/tract_querier/tract_querier/:/scratch/wmql/tract_querier/tract_querier/nipype/'\n",
    "PYTHON_AUX_PATHS = PYTHON_AUX_PATHS.split(':')\n",
    "PYTHON_AUX_PATHS.extend(sys.path)\n",
    "sys.path = PYTHON_AUX_PATHS"
   ]
  },
  {
   "cell_type": "code",
   "execution_count": 7,
   "metadata": {
    "collapsed": true
   },
   "outputs": [],
   "source": [
    "import numpy as np"
   ]
  },
  {
   "cell_type": "code",
   "execution_count": 11,
   "metadata": {
    "collapsed": true
   },
   "outputs": [],
   "source": [
    "# gs: gold standard\n",
    "# in: input\n",
    "gs_cst_left_fn = '/scratch/TESTS/IpythonNotebook/20160615_HCPWF/mainWF/Outputs_backup/WMQL/Baseline_query_cst.left.vtp'\n",
    "gs_cst_right_fn = '/scratch/TESTS/IpythonNotebook/20160615_HCPWF/mainWF/Outputs_backup/WMQL/Baseline_query_cst.right.vtp'\n",
    "\n",
    "sr_cst_left_fn = '/scratch/TESTS/IpythonNotebook/20160615_HCPWF/mainWF/Outputs_backup/WMQL/Baseline_query_cst.left.vtp'\n",
    "sr_cst_right_fn = '/scratch/TESTS/IpythonNotebook/20160615_HCPWF/mainWF/Outputs_backup/WMQL/Baseline_query_cst.right.vtp'"
   ]
  },
  {
   "cell_type": "code",
   "execution_count": 12,
   "metadata": {
    "collapsed": false
   },
   "outputs": [],
   "source": [
    "from tractography import Tractography, tractography_to_file, tractography_from_files\n",
    "from wmql import TractQuerier"
   ]
  },
  {
   "cell_type": "code",
   "execution_count": 13,
   "metadata": {
    "collapsed": true
   },
   "outputs": [],
   "source": [
    "#tr_files = [gs_cst_left_fn, in_cst_left_fn]\n",
    "tractography = tractography_from_files(gs_cst_left_fn)"
   ]
  },
  {
   "cell_type": "code",
   "execution_count": 24,
   "metadata": {
    "collapsed": false
   },
   "outputs": [
    {
     "name": "stdout",
     "output_type": "stream",
     "text": [
      "<tractography.tractography.Tractography instance at 0x133b455f0>\n",
      "619\n",
      "[-62.87464905 -81.971138   -64.76567841]\n"
     ]
    }
   ],
   "source": [
    "print(tractography)\n",
    "tracts = tractography.tracts()\n",
    "print(len(tracts))\n",
    "tractography_points = np.vstack(tracts)\n",
    "print(tractography_points.min(0))"
   ]
  },
  {
   "cell_type": "code",
   "execution_count": 15,
   "metadata": {
    "collapsed": false
   },
   "outputs": [
    {
     "name": "stdout",
     "output_type": "stream",
     "text": [
      "[140, 88, 103, 110, 111, 132, 75, 112, 111, 132, 128, 96, 96, 215, 106, 112, 108, 109, 95, 114, 111, 98, 130, 96, 96, 104, 98, 104, 116, 133, 127, 132, 91, 109, 116, 106, 99, 105, 109, 104, 135, 97, 96, 113, 105, 107, 111, 152, 105, 92, 123, 121, 123, 99, 112, 101, 97, 107, 129, 118, 131, 119, 111, 109, 78, 99, 77, 121, 97, 87, 102, 66, 93, 107, 99, 142, 110, 135, 80, 123, 85, 103, 100, 101, 130, 104, 123, 137, 100, 118, 110, 99, 104, 125, 111, 58, 89, 69, 119, 113, 104, 110, 89, 133, 96, 103, 118, 65, 114, 131, 121, 99, 109, 111, 104, 106, 97, 107, 116, 131, 111, 104, 112, 87, 102, 115, 107, 119, 131, 142, 113, 109, 109, 86, 110, 101, 103, 103, 111, 94, 96, 104, 107, 110, 128, 105, 128, 97, 85, 108, 98, 94, 95, 97, 114, 109, 83, 113, 87, 95, 85, 100, 93, 107, 114, 96, 117, 114, 99, 102, 111, 103, 106, 124, 106, 106, 101, 64, 111, 126, 100, 120, 126, 104, 95, 98, 128, 95, 96, 115, 110, 102, 138, 83, 93, 135, 134, 79, 103, 108, 121, 111, 103, 111, 110, 107, 105, 108, 93, 104, 104, 110, 109, 101, 149, 108, 104, 110, 103, 97, 96, 101, 108, 112, 106, 100, 106, 97, 64, 124, 97, 115, 109, 99, 88, 106, 95, 103, 110, 169, 97, 94, 108, 100, 100, 111, 108, 131, 103, 101, 115, 95, 69, 107, 110, 109, 96, 144, 112, 100, 100, 103, 103, 127, 98, 81, 107, 108, 90, 82, 97, 111, 109, 106, 110, 93, 97, 106, 112, 114, 91, 118, 88, 93, 102, 109, 133, 77, 111, 101, 110, 100, 131, 103, 94, 154, 68, 97, 110, 83, 106, 83, 104, 107, 96, 115, 107, 120, 94, 113, 96, 102, 81, 96, 99, 83, 101, 101, 90, 97, 118, 89, 73, 99, 103, 100, 110, 114, 96, 86, 82, 143, 160, 102, 138, 137, 104, 136, 106, 102, 101, 78, 137, 110, 58, 111, 91, 116, 84, 100, 112, 127, 102, 123, 111, 106, 99, 93, 92, 107, 95, 127, 112, 98, 90, 94, 112, 118, 93, 117, 99, 162, 77, 94, 137, 81, 99, 85, 83, 134, 106, 99, 108, 100, 109, 132, 100, 98, 114, 110, 116, 97, 99, 102, 110, 104, 97, 71, 102, 104, 102, 100, 96, 120, 120, 114, 114, 102, 112, 102, 127, 108, 98, 95, 95, 118, 97, 107, 101, 105, 88, 94, 111, 115, 101, 111, 122, 108, 82, 121, 97, 96, 111, 135, 108, 109, 132, 120, 122, 113, 131, 63, 129, 85, 149, 96, 95, 79, 98, 113, 97, 108, 112, 69, 108, 113, 93, 118, 129, 138, 139, 109, 121, 120, 87, 102, 108, 75, 99, 93, 126, 109, 134, 83, 106, 102, 136, 118, 142, 96, 73, 101, 90, 114, 100, 106, 96, 111, 123, 110, 101, 105, 82, 108, 96, 109, 94, 75, 102, 133, 114, 88, 92, 134, 97, 103, 116, 128, 106, 111, 110, 97, 85, 137, 103, 109, 102, 132, 109, 87, 102, 108, 96, 115, 125, 101, 99, 80, 102, 93, 141, 116, 129, 110, 101, 110, 133, 99, 133, 105, 132, 129, 110, 112, 98, 107, 104, 85, 131, 102, 126, 111, 136, 103, 94, 110, 104, 93, 102, 100, 91, 101, 104, 108, 128, 112, 105, 102, 107, 130, 86, 100, 104, 100, 96, 84, 114, 99, 111, 110, 128, 84, 99, 111, 118, 99, 116, 85, 104, 87, 98, 64, 65, 113, 105, 128, 98, 100, 101, 106, 104, 100, 119, 104, 108, 110, 116, 98, 107, 145, 95, 106, 106, 112, 120, 107, 112, 96, 92]\n",
      "215\n"
     ]
    }
   ],
   "source": [
    "lengths = [len(tracts[i]) for i in xrange(len(tracts))]\n",
    "print(lengths)\n",
    "print(max(lengths))"
   ]
  },
  {
   "cell_type": "code",
   "execution_count": null,
   "metadata": {
    "collapsed": true
   },
   "outputs": [],
   "source": []
  },
  {
   "cell_type": "code",
   "execution_count": 16,
   "metadata": {
    "collapsed": true
   },
   "outputs": [],
   "source": [
    "def CSTOverlap(gs_cst_left, gs_cst_right, sr_cst_left, sr_cst_right):\n",
    "    # gs: gold standard, sr: super-resolution reconstructed\n",
    "    import os\n",
    "    #########\n",
    "    def ComputeBhattacharyyaCoeficient(baseline_bundle, sr_bundle):\n",
    "        from tractography import Tractography, tractography_to_file, tractography_from_files\n",
    "        import numpy as np\n",
    "        ##\n",
    "        def ReturnDistributionInEachCoordinate(tractography_points):\n",
    "            from scipy import stats\n",
    "            x_arr = tractography_points[:,0]\n",
    "            y_arr = tractography_points[:,1]\n",
    "            z_arr = tractography_points[:,2]\n",
    "            x = np.linspace(x_arr.min(), x_arr.max(), 100)\n",
    "            y = np.linspace(y_arr.min(), y_arr.max(), 100)\n",
    "            z = np.linspace(z_arr.min(), z_arr.max(), 100)\n",
    "            kde_x = stats.gaussian_kde(x_arr)\n",
    "            kde_y = stats.gaussian_kde(y_arr)\n",
    "            kde_z = stats.gaussian_kde(z_arr)\n",
    "            p_x = kde_x(x)\n",
    "            p_y = kde_y(y)\n",
    "            p_z = kde_z(z)\n",
    "            return p_x, p_y, p_z\n",
    "        ## read in each fiber bundle\n",
    "        tractography_gs = tractography_from_files(baseline_bundle)\n",
    "        tracts_gs = tractography_gs.tracts()\n",
    "        tractography_points_gs = np.vstack(tracts_gs)\n",
    "        #\n",
    "        tractography_sr = tractography_from_files(sr_bundle)\n",
    "        tracts_sr = tractography_sr.tracts()\n",
    "        tractography_points_sr = np.vstack(tracts_sr)\n",
    "        ## Use ksdensity to estimate probability density function for the sample data in each coordinate\n",
    "        [p_gs_x, p_gs_y, p_gs_z] = ReturnDistributionInEachCoordinate(tractography_points_gs)\n",
    "        [p_sr_x, p_sr_y, p_sr_z] = ReturnDistributionInEachCoordinate(tractography_points_sr)\n",
    "        BC = (1.0/3.0)*( np.sum(np.sqrt(p_gs_x * p_sr_x)) + np.sum(np.sqrt(p_gs_y * p_sr_y)) + np.sum(np.sqrt(p_gs_z * p_sr_z)) )\n",
    "        return BC\n",
    "        ##\n",
    "    def writeLabelStatistics(filename,statsList):\n",
    "        import csv\n",
    "        label = os.path.splitext(os.path.basename(filename))[0]\n",
    "        with open(filename, 'wb') as lf:\n",
    "            headerdata = [['#Label', 'BC_left.cst', 'BC_right.cst', 'BC_cst']]\n",
    "            wr = csv.writer(lf, delimiter=',')\n",
    "            wr.writerows(headerdata)\n",
    "            wr.writerows([[label] + statsList])\n",
    "    #########\n",
    "    # compute Bhattacharyya Coeficient for cst.left/right/total\n",
    "    bc_l = ComputeBhattacharyyaCoeficient(gs_cst_left,sr_cst_left)\n",
    "    if bc_l > 1: bc_l = 1\n",
    "    bc_r = ComputeBhattacharyyaCoeficient(gs_cst_right,sr_cst_right)\n",
    "    if bc_r > 1: bc_r = 1\n",
    "    bc_total = (bc_l + bc_r)/2.0\n",
    "    statsList = [format(bc_l,'.4f'), format(bc_r,'.4f'), format(bc_total,'.4f')]\n",
    "    # create output file name\n",
    "    srfn = os.path.basename(sr_cst_left)\n",
    "    srfnbase = os.path.splitext(srfn)[0]\n",
    "    srLabel = srfnbase.split('_',1)[0]\n",
    "    fn = srLabel + '_BhattacharyyaCoeficient.csv'\n",
    "    output_csv_file = os.path.join(os.getcwd(), fn)\n",
    "    # write the stats list\n",
    "    writeLabelStatistics(output_csv_file,statsList)\n",
    "    assert os.path.isfile(output_csv_file), \"Output Bhattacharyya coeficient file is not found: %s\" % output_csv_file\n",
    "    return output_csv_file"
   ]
  },
  {
   "cell_type": "code",
   "execution_count": 17,
   "metadata": {
    "collapsed": false
   },
   "outputs": [
    {
     "name": "stdout",
     "output_type": "stream",
     "text": [
      "/Volumes/scratch/Ipython_conda/SimpleITK-Notebook-Answers/Baseline_BhattacharyyaCoeficient.csv\n"
     ]
    }
   ],
   "source": [
    "fn = CSTOverlap(gs_cst_left_fn, gs_cst_right_fn, sr_cst_left_fn, sr_cst_right_fn)\n",
    "print(fn)"
   ]
  },
  {
   "cell_type": "code",
   "execution_count": null,
   "metadata": {
    "collapsed": true
   },
   "outputs": [],
   "source": []
  },
  {
   "cell_type": "code",
   "execution_count": null,
   "metadata": {
    "collapsed": true
   },
   "outputs": [],
   "source": []
  },
  {
   "cell_type": "code",
   "execution_count": null,
   "metadata": {
    "collapsed": true
   },
   "outputs": [],
   "source": [
    "import pandas as pd\n",
    "from ggplot import *"
   ]
  },
  {
   "cell_type": "code",
   "execution_count": null,
   "metadata": {
    "collapsed": false
   },
   "outputs": [],
   "source": [
    "DF_gs_x = pd.DataFrame(np.transpose([x, p_gs_x]))\n",
    "DF_gs_x.rename(columns = lambda x: str(x), inplace=True)\n",
    "DF_gs_x.rename(columns={\"0\": \"X\"}, inplace=True) # rename a dfcolumn   \n",
    "DF_gs_x.rename(columns={\"1\": \"Y\"}, inplace=True) # rename a dfcolumn \n",
    "#DF_gs_x\n",
    "\n",
    "ggplot(aes(x = 'X', y ='Y'),data=DF_gs_x) + \\\n",
    "    geom_point()"
   ]
  },
  {
   "cell_type": "code",
   "execution_count": null,
   "metadata": {
    "collapsed": false
   },
   "outputs": [],
   "source": [
    "DF_in_x = pd.DataFrame(np.transpose([x, p_in_x]))\n",
    "DF_in_x.rename(columns = lambda x: str(x), inplace=True)\n",
    "DF_in_x.rename(columns={\"0\": \"X\"}, inplace=True) # rename a dfcolumn   \n",
    "DF_in_x.rename(columns={\"1\": \"Y\"}, inplace=True) # rename a dfcolumn \n",
    "#DF_in_x\n",
    "\n",
    "ggplot(aes(x = 'X', y ='Y'),data=DF_in_x) + \\\n",
    "    geom_point()"
   ]
  },
  {
   "cell_type": "markdown",
   "metadata": {},
   "source": [
    "# Bhattacharyya Coefficient"
   ]
  },
  {
   "cell_type": "code",
   "execution_count": null,
   "metadata": {
    "collapsed": false
   },
   "outputs": [],
   "source": [
    "Bc = (1.0/3.0)*( np.sum(np.sqrt(p_gs_x * p_in_x)) + np.sum(np.sqrt(p_gs_y * p_in_y)) + np.sum(np.sqrt(p_gs_z * p_in_z)) )\n",
    "print(Bc)"
   ]
  },
  {
   "cell_type": "code",
   "execution_count": null,
   "metadata": {
    "collapsed": true
   },
   "outputs": [],
   "source": []
  },
  {
   "cell_type": "code",
   "execution_count": null,
   "metadata": {
    "collapsed": true
   },
   "outputs": [],
   "source": []
  },
  {
   "cell_type": "code",
   "execution_count": null,
   "metadata": {
    "collapsed": true
   },
   "outputs": [],
   "source": []
  },
  {
   "cell_type": "code",
   "execution_count": null,
   "metadata": {
    "collapsed": true
   },
   "outputs": [],
   "source": [
    "a = np.array([1,2,3])\n",
    "b = np.array([4,5,6])"
   ]
  },
  {
   "cell_type": "code",
   "execution_count": null,
   "metadata": {
    "collapsed": false
   },
   "outputs": [],
   "source": [
    "np.vstack((a,b))"
   ]
  },
  {
   "cell_type": "code",
   "execution_count": null,
   "metadata": {
    "collapsed": true
   },
   "outputs": [],
   "source": []
  }
 ],
 "metadata": {
  "kernelspec": {
   "display_name": "Python 2",
   "language": "python",
   "name": "python2"
  },
  "language_info": {
   "codemirror_mode": {
    "name": "ipython",
    "version": 2
   },
   "file_extension": ".py",
   "mimetype": "text/x-python",
   "name": "python",
   "nbconvert_exporter": "python",
   "pygments_lexer": "ipython2",
   "version": "2.7.11"
  }
 },
 "nbformat": 4,
 "nbformat_minor": 0
}
