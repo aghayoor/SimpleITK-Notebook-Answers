{
 "metadata": {
  "name": "",
  "signature": "sha256:28c797230672a5bcb300ca2d04c7fdc6b911f77cfb19871b1c314c9382601054"
 },
 "nbformat": 3,
 "nbformat_minor": 0,
 "worksheets": [
  {
   "cells": [
    {
     "cell_type": "code",
     "collapsed": false,
     "input": [
      "## Boiler plate code common to many notebooks.  See the TestFilesCommonCode.ipynb for details\n",
      "from __future__ import print_function\n",
      "%run TestFilesCommonCode.ipynb"
     ],
     "language": "python",
     "metadata": {},
     "outputs": [
      {
       "output_type": "stream",
       "stream": "stdout",
       "text": [
        "SimpleITK Version: 0.9.0.dev2151-g2a716\n",
        "Compiled: Dec 23 2014 21:10:53\n",
        "\n"
       ]
      }
     ],
     "prompt_number": 1
    },
    {
     "cell_type": "code",
     "collapsed": false,
     "input": [
      "import os\n",
      "import glob\n",
      "import sys\n",
      "\n",
      "#\\/\\/\\/\\/\\/\\/\\/\\/\\/\\/\\/\\/\\/\\/\\/\\/\\/\\/\\/\\/\\/\\/\\/\\/\\/\\/\\/\\/\\/\\/\\/\\/\\/\\/\\/\\/\\/\\/\\/\\/\\/\\/\\/\n",
      "#####################################################################################\n",
      "#     Prepend the shell environment search paths\n",
      "PROGRAM_PATHS = '/scratch/NAMICExternalProjects/release/bin'\n",
      "PROGRAM_PATHS = PROGRAM_PATHS.split(':')\n",
      "PROGRAM_PATHS.extend(os.environ['PATH'].split(':'))\n",
      "os.environ['PATH'] = ':'.join(PROGRAM_PATHS)\n",
      "\n",
      "CUSTOM_ENVIRONMENT=dict()\n",
      "\n",
      "# Platform specific information\n",
      "#     Prepend the python search paths\n",
      "PYTHON_AUX_PATHS = '/scratch/NAMICExternalProjects/release/BRAINSTools/AutoWorkup'\n",
      "PYTHON_AUX_PATHS = PYTHON_AUX_PATHS.split(':')\n",
      "PYTHON_AUX_PATHS.extend(sys.path)\n",
      "sys.path = PYTHON_AUX_PATHS\n",
      "\n",
      "import SimpleITK as sitk\n",
      "import nipype\n",
      "from nipype.interfaces import ants\n",
      "from nipype.interfaces.base import CommandLine, CommandLineInputSpec, TraitedSpec, File, Directory\n",
      "from nipype.interfaces.base import traits, isdefined, BaseInterface\n",
      "from nipype.interfaces.utility import Merge, Split, Function, Rename, IdentityInterface\n",
      "import nipype.interfaces.io as nio   # Data i/oS\n",
      "import nipype.pipeline.engine as pe  # pypeline engine\n",
      "from nipype.interfaces.freesurfer import ReconAll\n",
      "from SEMTools import *"
     ],
     "language": "python",
     "metadata": {},
     "outputs": [],
     "prompt_number": 2
    },
    {
     "cell_type": "code",
     "collapsed": false,
     "input": [
      "DWI_scan = '/scratch/BS/release/BRAINSTools-build/ExternalData/TestData/DWI_test1.nrrd'\n",
      "DWI=sitk.ReadImage(DWI_scan)\n",
      "\n",
      "base_dir= '/scratch/TESTS/IpythonNotebook/5RotationTestsFor_gtractResampleDWIInPlace'"
     ],
     "language": "python",
     "metadata": {},
     "outputs": [],
     "prompt_number": 8
    },
    {
     "cell_type": "code",
     "collapsed": false,
     "input": [
      "DTIEstim=dtiestim()\n",
      "DTIEstim.inputs.method = 'wls'\n",
      "DTIEstim.inputs.tensor_output = os.path.join(base_dir,'original_DTI.nrrd')\n",
      "DTIEstim.inputs.dwi_image = DWI_scan\n",
      "DTIEstim.run()"
     ],
     "language": "python",
     "metadata": {},
     "outputs": [
      {
       "metadata": {},
       "output_type": "pyout",
       "prompt_number": 4,
       "text": [
        "<nipype.interfaces.base.InterfaceResult at 0x10b286950>"
       ]
      }
     ],
     "prompt_number": 4
    },
    {
     "cell_type": "code",
     "collapsed": false,
     "input": [
      "transName=os.path.join(base_dir,'rigTx_45z.h5')\n",
      "rotatedDWI=os.path.join(base_dir,'rotatedDWI_45z.nrrd')\n",
      "tesorImage=os.path.join(base_dir,'rotatedDTI_45z.nrrd')"
     ],
     "language": "python",
     "metadata": {},
     "outputs": [],
     "prompt_number": 44
    },
    {
     "cell_type": "code",
     "collapsed": false,
     "input": [
      "rigTx = sitk.VersorRigid3DTransform()\n",
      "rigTx.SetRotation([0,0,1],0.785)\n",
      "sitk.WriteTransform(rigTx, transName)\n",
      "#print(rigTx)"
     ],
     "language": "python",
     "metadata": {},
     "outputs": [],
     "prompt_number": 45
    },
    {
     "cell_type": "code",
     "collapsed": false,
     "input": [
      "gtRIP=gtractResampleDWIInPlace()\n",
      "gtRIP.inputs.inputVolume = DWI_scan\n",
      "gtRIP.inputs.inputTransform = transName\n",
      "gtRIP.inputs.outputVolume = rotatedDWI\n",
      "gtRIP.run()"
     ],
     "language": "python",
     "metadata": {},
     "outputs": [
      {
       "output_type": "stream",
       "stream": "stderr",
       "text": [
        "INFO:interface:stdout 2015-01-09T13:57:45.739508:=====================================================\n"
       ]
      },
      {
       "output_type": "stream",
       "stream": "stderr",
       "text": [
        "INFO:interface:stdout 2015-01-09T13:57:45.739508:DWI Image: /scratch/BS/release/BRAINSTools-build/ExternalData/TestData/DWI_test1.nrrd\n"
       ]
      },
      {
       "output_type": "stream",
       "stream": "stderr",
       "text": [
        "INFO:interface:stdout 2015-01-09T13:57:45.739508:Input Transform: /scratch/TESTS/IpythonNotebook/5RotationTestsFor_gtractResampleDWIInPlace/rigTx_45z.h5\n"
       ]
      },
      {
       "output_type": "stream",
       "stream": "stderr",
       "text": [
        "INFO:interface:stdout 2015-01-09T13:57:45.739508:warpDWI Transform: \n"
       ]
      },
      {
       "output_type": "stream",
       "stream": "stderr",
       "text": [
        "INFO:interface:stdout 2015-01-09T13:57:45.739508:Output Image: /scratch/TESTS/IpythonNotebook/5RotationTestsFor_gtractResampleDWIInPlace/rotatedDWI_45z.nrrd\n"
       ]
      },
      {
       "output_type": "stream",
       "stream": "stderr",
       "text": [
        "INFO:interface:stdout 2015-01-09T13:57:45.739508:Debug Level: 0\n"
       ]
      },
      {
       "output_type": "stream",
       "stream": "stderr",
       "text": [
        "INFO:interface:stdout 2015-01-09T13:57:45.739508:Image Output Size: 0,0,0\n"
       ]
      },
      {
       "output_type": "stream",
       "stream": "stderr",
       "text": [
        "INFO:interface:stdout 2015-01-09T13:57:45.739508:=====================================================\n"
       ]
      },
      {
       "output_type": "stream",
       "stream": "stderr",
       "text": [
        "INFO:interface:stdout 2015-01-09T13:57:46.338678:Read Image\n"
       ]
      },
      {
       "output_type": "stream",
       "stream": "stderr",
       "text": [
        "INFO:interface:stdout 2015-01-09T13:57:46.339550:Read ITK transform from file: /scratch/TESTS/IpythonNotebook/5RotationTestsFor_gtractResampleDWIInPlace/rigTx_45z.h5\n"
       ]
      },
      {
       "output_type": "stream",
       "stream": "stderr",
       "text": [
        "INFO:interface:stdout 2015-01-09T13:57:46.346071:HACK: 0  VersorRigid3DTransform\n"
       ]
      },
      {
       "output_type": "stream",
       "stream": "stderr",
       "text": [
        "INFO:interface:stdout 2015-01-09T13:57:46.346539:Input DWI image measurement frame: 1 0 0\n"
       ]
      },
      {
       "output_type": "stream",
       "stream": "stderr",
       "text": [
        "INFO:interface:stdout 2015-01-09T13:57:46.346539:0 1 0\n"
       ]
      },
      {
       "output_type": "stream",
       "stream": "stderr",
       "text": [
        "INFO:interface:stdout 2015-01-09T13:57:46.346539:0 0 1\n"
       ]
      },
      {
       "output_type": "stream",
       "stream": "stderr",
       "text": [
        "INFO:interface:stdout 2015-01-09T13:57:46.346539:\n"
       ]
      },
      {
       "output_type": "stream",
       "stream": "stderr",
       "text": [
        "INFO:interface:stdout 2015-01-09T13:57:46.346539:Input DWI image vector length: 41\n"
       ]
      },
      {
       "output_type": "stream",
       "stream": "stderr",
       "text": [
        "INFO:interface:stdout 2015-01-09T13:57:46.380111:Rigid transform matrix: 0.707388 -0.706825 0\n"
       ]
      },
      {
       "output_type": "stream",
       "stream": "stderr",
       "text": [
        "INFO:interface:stdout 2015-01-09T13:57:46.380111:0.706825 0.707388 0\n"
       ]
      },
      {
       "output_type": "stream",
       "stream": "stderr",
       "text": [
        "INFO:interface:stdout 2015-01-09T13:57:46.380111:0 0 1\n"
       ]
      },
      {
       "output_type": "stream",
       "stream": "stderr",
       "text": [
        "INFO:interface:stdout 2015-01-09T13:57:46.380111:\n"
       ]
      },
      {
       "output_type": "stream",
       "stream": "stderr",
       "text": [
        "INFO:interface:stdout 2015-01-09T13:57:46.382148:Input DWI Image Origin: ( -158.401, 22.5643, -65 )\n"
       ]
      },
      {
       "output_type": "stream",
       "stream": "stderr",
       "text": [
        "INFO:interface:stdout 2015-01-09T13:57:46.382148:Input DWI Image Size: 128 96 65\n"
       ]
      },
      {
       "output_type": "stream",
       "stream": "stderr",
       "text": [
        "INFO:interface:stdout 2015-01-09T13:57:46.382148: \n"
       ]
      },
      {
       "output_type": "stream",
       "stream": "stderr",
       "text": [
        "INFO:interface:stdout 2015-01-09T13:57:46.382148:Output DWI Image Origin: ( -158.401, 22.5643, -65 )\n"
       ]
      },
      {
       "output_type": "stream",
       "stream": "stderr",
       "text": [
        "INFO:interface:stdout 2015-01-09T13:57:46.382148:Output DWI Image Size: 128 96 65\n"
       ]
      },
      {
       "metadata": {},
       "output_type": "pyout",
       "prompt_number": 46,
       "text": [
        "<nipype.interfaces.base.InterfaceResult at 0x11fb1a810>"
       ]
      }
     ],
     "prompt_number": 46
    },
    {
     "cell_type": "code",
     "collapsed": false,
     "input": [
      "DTIEstim2=dtiestim()\n",
      "DTIEstim2.inputs.method = 'wls'\n",
      "DTIEstim2.inputs.tensor_output = tesorImage\n",
      "DTIEstim2.inputs.dwi_image = gtRIP.inputs.outputVolume\n",
      "DTIEstim2.run()"
     ],
     "language": "python",
     "metadata": {},
     "outputs": [
      {
       "metadata": {},
       "output_type": "pyout",
       "prompt_number": 47,
       "text": [
        "<nipype.interfaces.base.InterfaceResult at 0x11fb1aa50>"
       ]
      }
     ],
     "prompt_number": 47
    },
    {
     "cell_type": "code",
     "collapsed": false,
     "input": [],
     "language": "python",
     "metadata": {},
     "outputs": []
    }
   ],
   "metadata": {}
  }
 ]
}