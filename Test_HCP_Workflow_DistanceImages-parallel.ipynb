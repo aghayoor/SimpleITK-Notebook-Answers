{
 "cells": [
  {
   "cell_type": "code",
   "execution_count": 1,
   "metadata": {
    "collapsed": false
   },
   "outputs": [
    {
     "name": "stdout",
     "output_type": "stream",
     "text": [
      "SimpleITK Version: 0.9.1\n",
      "Compiled: Sep 28 2015 10:07:41\n",
      "\n"
     ]
    }
   ],
   "source": [
    "## Boiler plate code common to many notebooks.  See the TestFilesCommonCode.ipynb for details\n",
    "from __future__ import print_function\n",
    "%run TestFilesCommonCode.ipynb"
   ]
  },
  {
   "cell_type": "code",
   "execution_count": 2,
   "metadata": {
    "collapsed": true
   },
   "outputs": [],
   "source": [
    "import os\n",
    "import glob\n",
    "import sys\n",
    "\n",
    "#\\/\\/\\/\\/\\/\\/\\/\\/\\/\\/\\/\\/\\/\\/\\/\\/\\/\\/\\/\\/\\/\\/\\/\\/\\/\\/\\/\\/\\/\\/\\/\\/\\/\\/\\/\\/\\/\\/\\/\\/\\/\\/\\/\n",
    "#####################################################################################\n",
    "#     Prepend the shell environment search paths\n",
    "PROGRAM_PATHS = '/scratch/NAMICExternalProjects/release-20160523/bin'\n",
    "#PROGRAM_PATHS = '/scratch/BS/release-BSR/bin'\n",
    "PROGRAM_PATHS = PROGRAM_PATHS.split(':')\n",
    "PROGRAM_PATHS.extend(os.environ['PATH'].split(':'))\n",
    "os.environ['PATH'] = ':'.join(PROGRAM_PATHS)\n",
    "\n",
    "CUSTOM_ENVIRONMENT=dict()\n",
    "\n",
    "# Platform specific information\n",
    "#     Prepend the python search paths\n",
    "#PYTHON_AUX_PATHS = '/scratch/BS/BRAINSTools/AutoWorkup'\n",
    "PYTHON_AUX_PATHS = '/scratch/SuperResolution/BRAINSSuperResolution/HCPWorkflows/'\n",
    "PYTHON_AUX_PATHS = PYTHON_AUX_PATHS.split(':')\n",
    "PYTHON_AUX_PATHS.extend(sys.path)\n",
    "sys.path = PYTHON_AUX_PATHS\n",
    "\n",
    "import SimpleITK as sitk\n",
    "import nipype\n",
    "from nipype.interfaces.base import CommandLine, CommandLineInputSpec, TraitedSpec, File, Directory\n",
    "from nipype.interfaces.base import traits, isdefined, BaseInterface\n",
    "from nipype.interfaces.utility import Merge, Split, Function, Rename, IdentityInterface\n",
    "import nipype.interfaces.io as nio   # Data i/oS\n",
    "import nipype.pipeline.engine as pe  # pypeline engine\n",
    "from nipype.interfaces.freesurfer import ReconAll\n",
    "from nipype.interfaces.ants import DenoiseImage\n",
    "from nipype.interfaces.semtools import *"
   ]
  },
  {
   "cell_type": "code",
   "execution_count": 3,
   "metadata": {
    "collapsed": true
   },
   "outputs": [],
   "source": [
    "DWI_baseline = '/scratch/TESTS/IpythonNotebook/20160615_HCPWF/mainWF/Outputs/DWI_Baseline.nrrd'\n",
    "DWI_sr_nn = '/scratch/TESTS/IpythonNotebook/20160615_HCPWF/mainWF/Outputs/DWI_SR_NN.nrrd'\n",
    "DWI_sr_ifft = '/scratch/TESTS/IpythonNotebook/20160615_HCPWF/mainWF/Outputs/DWI_SR_IFFT.nrrd'\n",
    "DWI_brainMask = '/scratch/TESTS/IpythonNotebook/20160615_HCPWF/mainWF/Outputs/DWIBrainMask.nrrd'"
   ]
  },
  {
   "cell_type": "code",
   "execution_count": 4,
   "metadata": {
    "collapsed": false
   },
   "outputs": [],
   "source": [
    "sessionID = 105115\n",
    "WFname = 'HCPWorkflow_Dist_' + str(sessionID)"
   ]
  },
  {
   "cell_type": "code",
   "execution_count": 5,
   "metadata": {
    "collapsed": false
   },
   "outputs": [
    {
     "ename": "RuntimeError",
     "evalue": "Workflow did not execute cleanly. Check log for details",
     "output_type": "error",
     "traceback": [
      "\u001b[0;31m---------------------------------------------------------------------------\u001b[0m",
      "\u001b[0;31mRuntimeError\u001b[0m                              Traceback (most recent call last)",
      "\u001b[0;32m<ipython-input-5-c760581f8092>\u001b[0m in \u001b[0;36m<module>\u001b[0;34m()\u001b[0m\n\u001b[1;32m    223\u001b[0m \u001b[0;34m\u001b[0m\u001b[0m\n\u001b[1;32m    224\u001b[0m \u001b[0mDistWF\u001b[0m\u001b[0;34m.\u001b[0m\u001b[0mwrite_graph\u001b[0m\u001b[0;34m(\u001b[0m\u001b[0;34m)\u001b[0m\u001b[0;34m\u001b[0m\u001b[0m\n\u001b[0;32m--> 225\u001b[0;31m \u001b[0mDistWF\u001b[0m\u001b[0;34m.\u001b[0m\u001b[0mrun\u001b[0m\u001b[0;34m(\u001b[0m\u001b[0;34m)\u001b[0m\u001b[0;34m\u001b[0m\u001b[0m\n\u001b[0m",
      "\u001b[0;32m/IPLlinux/raid0/homes/aghayoor/anaconda/lib/python2.7/site-packages/nipype/pipeline/engine/workflows.pyc\u001b[0m in \u001b[0;36mrun\u001b[0;34m(self, plugin, plugin_args, updatehash)\u001b[0m\n\u001b[1;32m    593\u001b[0m         \u001b[0;32mif\u001b[0m \u001b[0mstr2bool\u001b[0m\u001b[0;34m(\u001b[0m\u001b[0mself\u001b[0m\u001b[0;34m.\u001b[0m\u001b[0mconfig\u001b[0m\u001b[0;34m[\u001b[0m\u001b[0;34m'execution'\u001b[0m\u001b[0;34m]\u001b[0m\u001b[0;34m[\u001b[0m\u001b[0;34m'create_report'\u001b[0m\u001b[0;34m]\u001b[0m\u001b[0;34m)\u001b[0m\u001b[0;34m:\u001b[0m\u001b[0;34m\u001b[0m\u001b[0m\n\u001b[1;32m    594\u001b[0m             \u001b[0mself\u001b[0m\u001b[0;34m.\u001b[0m\u001b[0m_write_report_info\u001b[0m\u001b[0;34m(\u001b[0m\u001b[0mself\u001b[0m\u001b[0;34m.\u001b[0m\u001b[0mbase_dir\u001b[0m\u001b[0;34m,\u001b[0m \u001b[0mself\u001b[0m\u001b[0;34m.\u001b[0m\u001b[0mname\u001b[0m\u001b[0;34m,\u001b[0m \u001b[0mexecgraph\u001b[0m\u001b[0;34m)\u001b[0m\u001b[0;34m\u001b[0m\u001b[0m\n\u001b[0;32m--> 595\u001b[0;31m         \u001b[0mrunner\u001b[0m\u001b[0;34m.\u001b[0m\u001b[0mrun\u001b[0m\u001b[0;34m(\u001b[0m\u001b[0mexecgraph\u001b[0m\u001b[0;34m,\u001b[0m \u001b[0mupdatehash\u001b[0m\u001b[0;34m=\u001b[0m\u001b[0mupdatehash\u001b[0m\u001b[0;34m,\u001b[0m \u001b[0mconfig\u001b[0m\u001b[0;34m=\u001b[0m\u001b[0mself\u001b[0m\u001b[0;34m.\u001b[0m\u001b[0mconfig\u001b[0m\u001b[0;34m)\u001b[0m\u001b[0;34m\u001b[0m\u001b[0m\n\u001b[0m\u001b[1;32m    596\u001b[0m         \u001b[0mdatestr\u001b[0m \u001b[0;34m=\u001b[0m \u001b[0mdatetime\u001b[0m\u001b[0;34m.\u001b[0m\u001b[0mutcnow\u001b[0m\u001b[0;34m(\u001b[0m\u001b[0;34m)\u001b[0m\u001b[0;34m.\u001b[0m\u001b[0mstrftime\u001b[0m\u001b[0;34m(\u001b[0m\u001b[0;34m'%Y%m%dT%H%M%S'\u001b[0m\u001b[0;34m)\u001b[0m\u001b[0;34m\u001b[0m\u001b[0m\n\u001b[1;32m    597\u001b[0m         \u001b[0;32mif\u001b[0m \u001b[0mstr2bool\u001b[0m\u001b[0;34m(\u001b[0m\u001b[0mself\u001b[0m\u001b[0;34m.\u001b[0m\u001b[0mconfig\u001b[0m\u001b[0;34m[\u001b[0m\u001b[0;34m'execution'\u001b[0m\u001b[0;34m]\u001b[0m\u001b[0;34m[\u001b[0m\u001b[0;34m'write_provenance'\u001b[0m\u001b[0;34m]\u001b[0m\u001b[0;34m)\u001b[0m\u001b[0;34m:\u001b[0m\u001b[0;34m\u001b[0m\u001b[0m\n",
      "\u001b[0;32m/IPLlinux/raid0/homes/aghayoor/anaconda/lib/python2.7/site-packages/nipype/pipeline/plugins/linear.pyc\u001b[0m in \u001b[0;36mrun\u001b[0;34m(self, graph, config, updatehash)\u001b[0m\n\u001b[1;32m     55\u001b[0m                 \u001b[0;32mif\u001b[0m \u001b[0mself\u001b[0m\u001b[0;34m.\u001b[0m\u001b[0m_status_callback\u001b[0m\u001b[0;34m:\u001b[0m\u001b[0;34m\u001b[0m\u001b[0m\n\u001b[1;32m     56\u001b[0m                     \u001b[0mself\u001b[0m\u001b[0;34m.\u001b[0m\u001b[0m_status_callback\u001b[0m\u001b[0;34m(\u001b[0m\u001b[0mnode\u001b[0m\u001b[0;34m,\u001b[0m \u001b[0;34m'exception'\u001b[0m\u001b[0;34m)\u001b[0m\u001b[0;34m\u001b[0m\u001b[0m\n\u001b[0;32m---> 57\u001b[0;31m         \u001b[0mreport_nodes_not_run\u001b[0m\u001b[0;34m(\u001b[0m\u001b[0mnotrun\u001b[0m\u001b[0;34m)\u001b[0m\u001b[0;34m\u001b[0m\u001b[0m\n\u001b[0m",
      "\u001b[0;32m/IPLlinux/raid0/homes/aghayoor/anaconda/lib/python2.7/site-packages/nipype/pipeline/plugins/base.pyc\u001b[0m in \u001b[0;36mreport_nodes_not_run\u001b[0;34m(notrun)\u001b[0m\n\u001b[1;32m     93\u001b[0m                 \u001b[0mlogger\u001b[0m\u001b[0;34m.\u001b[0m\u001b[0mdebug\u001b[0m\u001b[0;34m(\u001b[0m\u001b[0msubnode\u001b[0m\u001b[0;34m.\u001b[0m\u001b[0m_id\u001b[0m\u001b[0;34m)\u001b[0m\u001b[0;34m\u001b[0m\u001b[0m\n\u001b[1;32m     94\u001b[0m         \u001b[0mlogger\u001b[0m\u001b[0;34m.\u001b[0m\u001b[0minfo\u001b[0m\u001b[0;34m(\u001b[0m\u001b[0;34m\"***********************************\"\u001b[0m\u001b[0;34m)\u001b[0m\u001b[0;34m\u001b[0m\u001b[0m\n\u001b[0;32m---> 95\u001b[0;31m         raise RuntimeError(('Workflow did not execute cleanly. '\n\u001b[0m\u001b[1;32m     96\u001b[0m                             'Check log for details'))\n\u001b[1;32m     97\u001b[0m \u001b[0;34m\u001b[0m\u001b[0m\n",
      "\u001b[0;31mRuntimeError\u001b[0m: Workflow did not execute cleanly. Check log for details"
     ]
    }
   ],
   "source": [
    "###### UTILITY FUNCTIONS #######\n",
    "#\\/\\/\\/\\/\\/\\/\\/\\/\\/\\/\\/\\/\\/\\/\\/#\n",
    "# \n",
    "def ComputeDistanceImages(DWI_baseline,DWI_sr,DWI_brainMask):\n",
    "    import os\n",
    "    import numpy as np\n",
    "    from scipy.linalg import logm\n",
    "    from scipy.linalg import eigvalsh # eigvalsh(A,B) is joint eigenvalues of A and B\n",
    "    import SimpleITK as sitk\n",
    "    from ReadWriteNrrdDWI import ReadNAMICDWIFromNrrd, WriteNAMICDWIToNrrd\n",
    "    #########\n",
    "    ### distance functions ###\n",
    "    # Frobenius distance\n",
    "    def distance_euclid(tenfit_A, tenfit_B):\n",
    "        return np.linalg.norm(tenfit_A.quadratic_form - tenfit_B.quadratic_form, ord='fro')\n",
    "    # Log-Euclidian distance\n",
    "    def distance_logeuclid(tenfit_A, tenfit_B):\n",
    "        def fro_norm(A,B):\n",
    "            return np.linalg.norm(A-B, ord='fro')\n",
    "        return fro_norm(logm(tenfit_A.quadratic_form),logm(tenfit_B.quadratic_form))\n",
    "    # Reimannian distance\n",
    "    def distance_reimann(tenfit_A, tenfit_B):\n",
    "        return np.sqrt((np.log(eigvalsh(tenfit_A.quadratic_form,tenfit_B.quadratic_form))**2).sum())\n",
    "    # Kullback-Leibler distance\n",
    "    def distance_kullback(tenfit_A, tenfit_B):\n",
    "        A = tenfit_A.quadratic_form\n",
    "        B = tenfit_B.quadratic_form\n",
    "        dim = A.shape[0]\n",
    "        kl = np.sqrt( np.trace( np.dot(np.linalg.inv(A),B)+np.dot(np.linalg.inv(B),A) ) - 2*dim )\n",
    "        return 0.5*kl\n",
    "    ######### \n",
    "    assert os.path.exists(DWI_baseline), \"File not found: %s\" % DWI_baseline\n",
    "    assert os.path.exists(DWI_sr), \"File not found: %s\" % DWI_sr\n",
    "    assert os.path.exists(DWI_brainMask), \"File not found: %s\" % DWI_brainMask\n",
    "    mask = sitk.ReadImage(DWI_brainMask)\n",
    "    # read DWI nrrd files\n",
    "    data_base,nrrd_header_base,bvecs_base,bvals_base,grad_idx_base = ReadNAMICDWIFromNrrd(DWI_baseline)\n",
    "    data_sr,nrrd_header_sr,bvecs_sr,bvals_sr,grad_idx_sr = ReadNAMICDWIFromNrrd(DWI_sr)\n",
    "    # compute tensorfits\n",
    "    from dipy.core.gradients import gradient_table\n",
    "    from dipy.reconst.dti import TensorModel\n",
    "    # base tensorfit\n",
    "    gtab_base = gradient_table(bvals_base, bvecs_base)\n",
    "    ten_base = TensorModel(gtab_base)\n",
    "    tenfit_base = ten_base.fit(data_base)\n",
    "    # super-res reconstructed tensorfit\n",
    "    gtab_sr = gradient_table(bvals_sr, bvecs_sr)\n",
    "    ten_sr = TensorModel(gtab_sr)\n",
    "    tenfit_sr = ten_base.fit(data_sr)\n",
    "    # create empty distance images\n",
    "    size = [data_base.shape[0],data_base.shape[1],data_base.shape[2]] #data_base.shape[4] is gradient components\n",
    "    fa_distance_image = sitk.Image(size, sitk.sitkFloat32)\n",
    "    fa_distance_image.CopyInformation(mask)\n",
    "    #\n",
    "    md_distance_image = sitk.Image(size, sitk.sitkFloat32)\n",
    "    md_distance_image.CopyInformation(mask)\n",
    "    #\n",
    "    rd_distance_image = sitk.Image(size, sitk.sitkFloat32)\n",
    "    rd_distance_image.CopyInformation(mask)\n",
    "    #\n",
    "    ad_distance_image = sitk.Image(size, sitk.sitkFloat32)\n",
    "    ad_distance_image.CopyInformation(mask)\n",
    "    #\n",
    "    frobenius_distance_image = sitk.Image(size, sitk.sitkFloat32)\n",
    "    frobenius_distance_image.CopyInformation(mask)\n",
    "    #\n",
    "    logeuclid_distance_image = sitk.Image(size, sitk.sitkFloat32)\n",
    "    logeuclid_distance_image.CopyInformation(mask)\n",
    "    #\n",
    "    reimann_distance_image = sitk.Image(size, sitk.sitkFloat32)\n",
    "    reimann_distance_image.CopyInformation(mask)\n",
    "    #\n",
    "    kullback_distance_image = sitk.Image(size, sitk.sitkFloat32)\n",
    "    kullback_distance_image.CopyInformation(mask)\n",
    "    #\n",
    "    # for loop to fill the distance images\n",
    "    '''\n",
    "    for i in xrange(size[0]):\n",
    "        for j in xrange(size[1]):\n",
    "            for k in xrange(size[2]):\n",
    "                fa_distance_image[i,j,k] = abs(tenfit_base[i,j,k].fa - tenfit_sr[i,j,k].fa)\n",
    "                md_distance_image[i,j,k] = abs(tenfit_base[i,j,k].md - tenfit_sr[i,j,k].md)\n",
    "                rd_distance_image[i,j,k] = abs(tenfit_base[i,j,k].rd - tenfit_sr[i,j,k].rd)\n",
    "                ad_distance_image[i,j,k] = abs(tenfit_base[i,j,k].ad - tenfit_sr[i,j,k].ad)\n",
    "                frobenius_distance_image[i,j,k] = distance_euclid(tenfit_base[i,j,k], tenfit_sr[i,j,k])\n",
    "                logeuclid_distance_image[i,j,k] = distance_logeuclid(tenfit_base[i,j,k], tenfit_sr[i,j,k])\n",
    "                reimann_distance_image[i,j,k] = distance_reimann(tenfit_base[i,j,k], tenfit_sr[i,j,k])\n",
    "                kullback_distance_image[i,j,k] = distance_kullback(tenfit_base[i,j,k], tenfit_sr[i,j,k])\n",
    "    '''\n",
    "    #\n",
    "    maskf = sitk.Cast(mask, sitk.sitkFloat32)\n",
    "    #\n",
    "    fa_distance_image = sitk.Multiply(fa_distance_image,maskf)\n",
    "    fa_distance_image_fn = os.path.join(os.getcwd(), 'FA_distance.nrrd')\n",
    "    sitk.WriteImage(fa_distance_image,fa_distance_image_fn)\n",
    "    #\n",
    "    md_distance_image = sitk.Multiply(md_distance_image,maskf)\n",
    "    md_distance_image_fn = os.path.join(os.getcwd(), 'MD_distance.nrrd')\n",
    "    sitk.WriteImage(md_distance_image,md_distance_image_fn)\n",
    "    #\n",
    "    rd_distance_image = sitk.Multiply(rd_distance_image,maskf)\n",
    "    rd_distance_image_fn = os.path.join(os.getcwd(), 'RD_distance.nrrd')\n",
    "    sitk.WriteImage(rd_distance_image,rd_distance_image_fn)\n",
    "    #\n",
    "    ad_distance_image = sitk.Multiply(ad_distance_image,maskf)\n",
    "    ad_distance_image_fn = os.path.join(os.getcwd(), 'AD_distance.nrrd')\n",
    "    sitk.WriteImage(ad_distance_image,ad_distance_image_fn)\n",
    "    #\n",
    "    frobenius_distance_image = sitk.Multiply(frobenius_distance_image,maskf)\n",
    "    frobenius_distance_image_fn = os.path.join(os.getcwd(), 'Frobenius_distance.nrrd')\n",
    "    sitk.WriteImage(frobenius_distance_image,frobenius_distance_image_fn)\n",
    "    #\n",
    "    logeuclid_distance_image = sitk.Multiply(logeuclid_distance_image,maskf)\n",
    "    logeuclid_distance_image_fn = os.path.join(os.getcwd(), 'Logeuclid_distance.nrrd')\n",
    "    sitk.WriteImage(logeuclid_distance_image,logeuclid_distance_image_fn)\n",
    "    #\n",
    "    reimann_distance_image = sitk.Multiply(reimann_distance_image,maskf)\n",
    "    reimann_distance_image_fn = os.path.join(os.getcwd(), 'Reimann_distance.nrrd')\n",
    "    sitk.WriteImage(reimann_distance_image,reimann_distance_image_fn)\n",
    "    #\n",
    "    kullback_distance_image = sitk.Multiply(kullback_distance_image,maskf)\n",
    "    kullback_distance_image_fn = os.path.join(os.getcwd(), 'Kullback_distance.nrrd')\n",
    "    sitk.WriteImage(kullback_distance_image,kullback_distance_image_fn)\n",
    "    #\n",
    "    return [fa_distance_image_fn,\n",
    "            md_distance_image_fn,\n",
    "            rd_distance_image_fn,\n",
    "            ad_distance_image_fn,\n",
    "            frobenius_distance_image_fn,\n",
    "            logeuclid_distance_image_fn,\n",
    "            reimann_distance_image_fn,\n",
    "            kullback_distance_image_fn]\n",
    "\n",
    "def MakeInputSRList(DWI_NN, DWI_IFFT): # TODO: expand this\n",
    "    imagesList = [DWI_NN, DWI_IFFT]\n",
    "    return imagesList\n",
    "#################################\n",
    "#\\/\\/\\/\\/\\/\\/\\/\\/\\/\\/\\/\\/\\/\\/\\/\\#\n",
    "\n",
    "DistWF = pe.Workflow(name=WFname)\n",
    "\n",
    "BASE_DIR = os.path.join('/scratch/TESTS/IpythonNotebook/20160615_HCPWF', '3_DistImagesWF')\n",
    "DistWF.base_dir = BASE_DIR\n",
    "\n",
    "inputsSpec = pe.Node(interface=IdentityInterface(fields=['DWI_brainMask'\n",
    "                                                         ,'DWI_Baseline'\n",
    "                                                         ,'DWI_NN'\n",
    "                                                         ,'DWI_IFFT'\n",
    "                                                         #,'DWI_TV'\n",
    "                                                         #,'DWI_WTV'\n",
    "                                                        ]),\n",
    "                     name='inputsSpec')\n",
    "inputsSpec.inputs.DWI_brainMask = DWI_brainMask\n",
    "inputsSpec.inputs.DWI_Baseline = DWI_baseline\n",
    "inputsSpec.inputs.DWI_NN = DWI_sr_nn\n",
    "inputsSpec.inputs.DWI_IFFT = DWI_sr_ifft\n",
    "\n",
    "outputsSpec = pe.Node(interface=IdentityInterface(fields=['FA_distance',\n",
    "                                                          'MD_distance',\n",
    "                                                          'RD_distance',\n",
    "                                                          'AD_distance',\n",
    "                                                          'Frobenius_distance',\n",
    "                                                          'Logeuclid_distance',\n",
    "                                                          'Reimann_distance',\n",
    "                                                          'Kullback_distance'\n",
    "                                                         ]),\n",
    "                      name='outputsSpec')\n",
    "\n",
    "## Step 1: Create input list\n",
    "# MakeInputSRListNode = pe.Node(Function(function=MakeInputSRList,\n",
    "#                                                 input_names=['DWI_NN','DWI_IFFT'],\n",
    "#                                                 output_names=['imagesList']),\n",
    "#                                        name=\"MakeInputSRList\")\n",
    "# DistWF.connect(inputsSpec, 'DWI_NN', MakeInputSRListNode, 'DWI_NN')\n",
    "# DistWF.connect(inputsSpec, 'DWI_IFFT', MakeInputSRListNode, 'DWI_IFFT')\n",
    "\n",
    "## Step 2: Create distance images\n",
    "'''\n",
    "ComputeDistanceImages = pe.MapNode(interface=Function(function = ComputeDistanceImages,\n",
    "                                   input_names=['DWI_baseline','DWI_sr','DWI_brainMask'],\n",
    "                                   output_names=['fa_distance_image_fn','md_distance_image_fn',\n",
    "                                                 'rd_distance_image_fn','ad_distance_image_fn',\n",
    "                                                 'frobenius_distance_image_fn','logeuclid_distance_image_fn',\n",
    "                                                 'reimann_distance_image_fn','kullback_distance_image_fn'\n",
    "                                                ]),\n",
    "                                   name=\"ComputeDistanceImages\",\n",
    "                                   iterfield=['DWI_sr'])\n",
    "DistWF.connect(MakeInputSRListNode, 'imagesList', ComputeDistanceImages, 'DWI_sr')\n",
    "'''\n",
    "\n",
    "ComputeDistanceImages = pe.Node(interface=Function(function = ComputeDistanceImages,\n",
    "                                input_names=['DWI_baseline','DWI_sr','DWI_brainMask'],\n",
    "                                output_names=['fa_distance_image_fn','md_distance_image_fn',\n",
    "                                              'rd_distance_image_fn','ad_distance_image_fn',\n",
    "                                              'frobenius_distance_image_fn','logeuclid_distance_image_fn',\n",
    "                                              'reimann_distance_image_fn','kullback_distance_image_fn'\n",
    "                                             ]),\n",
    "                                name=\"ComputeDistanceImages\")\n",
    "DistWF.connect(inputsSpec, 'DWI_IFFT', ComputeDistanceImages, 'DWI_sr')\n",
    "#\n",
    "DistWF.connect([(inputsSpec,ComputeDistanceImages,[('DWI_Baseline','DWI_baseline'),('DWI_brainMask','DWI_brainMask')])])\n",
    "DistWF.connect([(ComputeDistanceImages,outputsSpec,[('fa_distance_image_fn','FA_distance'),\n",
    "                                                    ('md_distance_image_fn','MD_distance'),\n",
    "                                                    ('rd_distance_image_fn','RD_distance'),\n",
    "                                                    ('ad_distance_image_fn','AD_distance'),\n",
    "                                                    ('frobenius_distance_image_fn','Frobenius_distance'),\n",
    "                                                    ('logeuclid_distance_image_fn','Logeuclid_distance'),\n",
    "                                                    ('reimann_distance_image_fn','Reimann_distance'),\n",
    "                                                    ('kullback_distance_image_fn','Kullback_distance')])])\n",
    "\n",
    "\n",
    "DWIDataSink = pe.Node(interface=nio.DataSink(), name='DWIDataSink')\n",
    "DWIDataSink.overwrite = True\n",
    "DWIDataSink.inputs.base_directory = BASE_DIR\n",
    "DistWF.connect(outputsSpec, 'FA_distance', DWIDataSink, 'Outputs.@FA_distance')\n",
    "DistWF.connect(outputsSpec, 'MD_distance', DWIDataSink, 'Outputs.@MD_distance')\n",
    "DistWF.connect(outputsSpec, 'RD_distance', DWIDataSink, 'Outputs.@RD_distance')\n",
    "DistWF.connect(outputsSpec, 'AD_distance', DWIDataSink, 'Outputs.@AD_distance')\n",
    "DistWF.connect(outputsSpec, 'Frobenius_distance', DWIDataSink, 'Outputs.@Frobenius_distance')\n",
    "DistWF.connect(outputsSpec, 'Logeuclid_distance', DWIDataSink, 'Outputs.@Logeuclid_distance')\n",
    "DistWF.connect(outputsSpec, 'Reimann_distance', DWIDataSink, 'Outputs.@Reimann_distance')\n",
    "DistWF.connect(outputsSpec, 'Kullback_distance', DWIDataSink, 'Outputs.@Kullback_distance')\n",
    "\n",
    "DistWF.write_graph()\n",
    "DistWF.run()"
   ]
  },
  {
   "cell_type": "code",
   "execution_count": null,
   "metadata": {
    "collapsed": true
   },
   "outputs": [],
   "source": []
  },
  {
   "cell_type": "code",
   "execution_count": null,
   "metadata": {
    "collapsed": true
   },
   "outputs": [],
   "source": []
  },
  {
   "cell_type": "code",
   "execution_count": null,
   "metadata": {
    "collapsed": true
   },
   "outputs": [],
   "source": []
  },
  {
   "cell_type": "code",
   "execution_count": null,
   "metadata": {
    "collapsed": true
   },
   "outputs": [],
   "source": []
  },
  {
   "cell_type": "code",
   "execution_count": null,
   "metadata": {
    "collapsed": true
   },
   "outputs": [],
   "source": []
  },
  {
   "cell_type": "code",
   "execution_count": null,
   "metadata": {
    "collapsed": true
   },
   "outputs": [],
   "source": []
  },
  {
   "cell_type": "code",
   "execution_count": null,
   "metadata": {
    "collapsed": true
   },
   "outputs": [],
   "source": []
  },
  {
   "cell_type": "code",
   "execution_count": null,
   "metadata": {
    "collapsed": true
   },
   "outputs": [],
   "source": []
  },
  {
   "cell_type": "code",
   "execution_count": 29,
   "metadata": {
    "collapsed": true
   },
   "outputs": [],
   "source": [
    "DWI_sr = '/Volumes/scratch/TESTS/IpythonNotebook/20160615_HCPWF/mainWF/HCPWorkflow_CACHE_105115/SuperResolutionWorkflow_CACHE_105115/runSR/DWI_SR_IFFT.nrrd'"
   ]
  },
  {
   "cell_type": "code",
   "execution_count": 30,
   "metadata": {
    "collapsed": false
   },
   "outputs": [
    {
     "name": "stdout",
     "output_type": "stream",
     "text": [
      "/Volumes/scratch/TESTS/IpythonNotebook/20160615_HCPWF/mainWF/HCPWorkflow_CACHE_105115/SuperResolutionWorkflow_CACHE_105115/runSR/DWI_SR_IFFT.nrrd\n"
     ]
    }
   ],
   "source": [
    "print(DWI_sr)"
   ]
  },
  {
   "cell_type": "code",
   "execution_count": 31,
   "metadata": {
    "collapsed": false
   },
   "outputs": [
    {
     "name": "stdout",
     "output_type": "stream",
     "text": [
      "DWI_SR_IFFT.nrrd\n",
      "DWI_SR_IFFT\n",
      "IFFT\n",
      "/Volumes/scratch/Ipython_conda/SimpleITK-Notebook-Answers/IFFT_FA_distance.nrrd\n"
     ]
    }
   ],
   "source": [
    "sr_file_name = os.path.basename(DWI_sr)\n",
    "print(sr_file_name)\n",
    "sr_file_name_base = os.path.splitext(sr_file_name)[0]\n",
    "print(sr_file_name_base)\n",
    "sr_name = sr_file_name_base.split('_',2)[2]\n",
    "print(sr_name)\n",
    "fa_distance_image_fn = os.path.realpath(sr_name + '_FA_distance.nrrd')\n",
    "print(fa_distance_image_fn)"
   ]
  },
  {
   "cell_type": "code",
   "execution_count": null,
   "metadata": {
    "collapsed": true
   },
   "outputs": [],
   "source": []
  },
  {
   "cell_type": "code",
   "execution_count": null,
   "metadata": {
    "collapsed": true
   },
   "outputs": [],
   "source": []
  },
  {
   "cell_type": "code",
   "execution_count": null,
   "metadata": {
    "collapsed": true
   },
   "outputs": [],
   "source": []
  },
  {
   "cell_type": "code",
   "execution_count": null,
   "metadata": {
    "collapsed": true
   },
   "outputs": [],
   "source": []
  },
  {
   "cell_type": "code",
   "execution_count": null,
   "metadata": {
    "collapsed": true
   },
   "outputs": [],
   "source": []
  },
  {
   "cell_type": "code",
   "execution_count": null,
   "metadata": {
    "collapsed": true
   },
   "outputs": [],
   "source": []
  },
  {
   "cell_type": "code",
   "execution_count": null,
   "metadata": {
    "collapsed": true
   },
   "outputs": [],
   "source": []
  },
  {
   "cell_type": "code",
   "execution_count": null,
   "metadata": {
    "collapsed": true
   },
   "outputs": [],
   "source": []
  },
  {
   "cell_type": "code",
   "execution_count": null,
   "metadata": {
    "collapsed": true
   },
   "outputs": [],
   "source": [
    "def ComputeDistanceImages(DWI_baseline,DWI_sr,DWI_brainMask):\n",
    "    import os\n",
    "    import numpy as np\n",
    "    from scipy.linalg import logm\n",
    "    from scipy.linalg import eigvalsh # eigvalsh(A,B) is joint eigenvalues of A and B\n",
    "    import SimpleITK as sitk\n",
    "    from ReadWriteNrrdDWI import ReadNAMICDWIFromNrrd, WriteNAMICDWIToNrrd\n",
    "    #########\n",
    "    ### distance functions ###\n",
    "    # Frobenius distance\n",
    "    def distance_euclid(tenfit_A, tenfit_B):\n",
    "        return np.linalg.norm(tenfit_A.quadratic_form - tenfit_B.quadratic_form, ord='fro')\n",
    "    # Log-Euclidian distance\n",
    "    def distance_logeuclid(tenfit_A, tenfit_B):\n",
    "        def fro_norm(A,B):\n",
    "            return np.linalg.norm(A-B, ord='fro')\n",
    "        return fro_norm(logm(tenfit_A.quadratic_form),logm(tenfit_B.quadratic_form))\n",
    "    # Reimannian distance\n",
    "    def distance_reimann(tenfit_A, tenfit_B):\n",
    "        return np.sqrt((np.log(eigvalsh(tenfit_A.quadratic_form,tenfit_B.quadratic_form))**2).sum())\n",
    "    # Kullback-Leibler distance\n",
    "    def distance_kullback(tenfit_A, tenfit_B):\n",
    "        A = tenfit_A.quadratic_form\n",
    "        B = tenfit_B.quadratic_form\n",
    "        dim = A.shape[0]\n",
    "        kl = np.sqrt( np.trace( np.dot(np.linalg.inv(A),B)+np.dot(np.linalg.inv(B),A) ) - 2*dim )\n",
    "        return 0.5*kl\n",
    "    ######### \n",
    "    assert os.path.exists(DWI_baseline), \"File not found: %s\" % DWI_baseline\n",
    "    assert os.path.exists(DWI_sr), \"File not found: %s\" % DWI_sr\n",
    "    assert os.path.exists(DWI_brainMask), \"File not found: %s\" % DWI_brainMask\n",
    "    mask = sitk.ReadImage(DWI_brainMask)\n",
    "    # read DWI nrrd files\n",
    "    data_base,nrrd_header_base,bvecs_base,bvals_base,grad_idx_base = ReadNAMICDWIFromNrrd(DWI_baseline)\n",
    "    data_sr,nrrd_header_sr,bvecs_sr,bvals_sr,grad_idx_sr = ReadNAMICDWIFromNrrd(DWI_sr)\n",
    "    # compute tensorfits\n",
    "    from dipy.core.gradients import gradient_table\n",
    "    from dipy.reconst.dti import TensorModel\n",
    "    # base tensorfit\n",
    "    gtab_base = gradient_table(bvals_base, bvecs_base)\n",
    "    ten_base = TensorModel(gtab_base)\n",
    "    tenfit_base = ten_base.fit(data_base)\n",
    "    # super-res reconstructed tensorfit\n",
    "    gtab_sr = gradient_table(bvals_sr, bvecs_sr)\n",
    "    ten_sr = TensorModel(gtab_sr)\n",
    "    tenfit_sr = ten_base.fit(data_sr)\n",
    "    # create empty distance images\n",
    "    size = [data_base.shape[0],data_base.shape[1],data_base.shape[2]] #data_base.shape[4] is gradient components\n",
    "    fa_distance_image = sitk.Image(size, sitk.sitkFloat32)\n",
    "    fa_distance_image.CopyInformation(mask)\n",
    "    #\n",
    "    md_distance_image = sitk.Image(size, sitk.sitkFloat32)\n",
    "    md_distance_image.CopyInformation(mask)\n",
    "    #\n",
    "    rd_distance_image = sitk.Image(size, sitk.sitkFloat32)\n",
    "    rd_distance_image.CopyInformation(mask)\n",
    "    #\n",
    "    ad_distance_image = sitk.Image(size, sitk.sitkFloat32)\n",
    "    ad_distance_image.CopyInformation(mask)\n",
    "    #\n",
    "    frobenius_distance_image = sitk.Image(size, sitk.sitkFloat32)\n",
    "    frobenius_distance_image.CopyInformation(mask)\n",
    "    #\n",
    "    logeuclid_distance_image = sitk.Image(size, sitk.sitkFloat32)\n",
    "    logeuclid_distance_image.CopyInformation(mask)\n",
    "    #\n",
    "    reimann_distance_image = sitk.Image(size, sitk.sitkFloat32)\n",
    "    reimann_distance_image.CopyInformation(mask)\n",
    "    #\n",
    "    kullback_distance_image = sitk.Image(size, sitk.sitkFloat32)\n",
    "    kullback_distance_image.CopyInformation(mask)\n",
    "    #\n",
    "    # for loop to fill the distance images\n",
    "    '''\n",
    "    for i in xrange(size[0]):\n",
    "        for j in xrange(size[1]):\n",
    "            for k in xrange(size[2]):\n",
    "                fa_distance_image[i,j,k] = abs(tenfit_base[i,j,k].fa - tenfit_sr[i,j,k].fa)\n",
    "                md_distance_image[i,j,k] = abs(tenfit_base[i,j,k].md - tenfit_sr[i,j,k].md)\n",
    "                rd_distance_image[i,j,k] = abs(tenfit_base[i,j,k].rd - tenfit_sr[i,j,k].rd)\n",
    "                ad_distance_image[i,j,k] = abs(tenfit_base[i,j,k].ad - tenfit_sr[i,j,k].ad)\n",
    "                frobenius_distance_image[i,j,k] = distance_euclid(tenfit_base[i,j,k], tenfit_sr[i,j,k])\n",
    "                logeuclid_distance_image[i,j,k] = distance_logeuclid(tenfit_base[i,j,k], tenfit_sr[i,j,k])\n",
    "                reimann_distance_image[i,j,k] = distance_reimann(tenfit_base[i,j,k], tenfit_sr[i,j,k])\n",
    "                kullback_distance_image[i,j,k] = distance_kullback(tenfit_base[i,j,k], tenfit_sr[i,j,k])\n",
    "    '''\n",
    "    #\n",
    "    outDir = '/scratch/TESTS/IpythonNotebook/20160615_HCPWF/3_DistImagesWF'\n",
    "    maskf = sitk.Cast(mask, sitk.sitkFloat32)\n",
    "    #\n",
    "    fa_distance_image = sitk.Multiply(fa_distance_image,maskf)\n",
    "    fa_distance_image_fn = os.path.join(outDir, 'FA_distance.nrrd')\n",
    "    sitk.WriteImage(fa_distance_image,fa_distance_image_fn)\n",
    "    #\n",
    "    md_distance_image = sitk.Multiply(md_distance_image,maskf)\n",
    "    md_distance_image_fn = os.path.join(outDir, 'MD_distance.nrrd')\n",
    "    sitk.WriteImage(md_distance_image,md_distance_image_fn)\n",
    "    #\n",
    "    rd_distance_image = sitk.Multiply(rd_distance_image,maskf)\n",
    "    rd_distance_image_fn = os.path.join(outDir, 'RD_distance.nrrd')\n",
    "    sitk.WriteImage(rd_distance_image,rd_distance_image_fn)\n",
    "    #\n",
    "    ad_distance_image = sitk.Multiply(ad_distance_image,maskf)\n",
    "    ad_distance_image_fn = os.path.join(outDir, 'AD_distance.nrrd')\n",
    "    sitk.WriteImage(ad_distance_image,ad_distance_image_fn)\n",
    "    #\n",
    "    frobenius_distance_image = sitk.Multiply(frobenius_distance_image,maskf)\n",
    "    frobenius_distance_image_fn = os.path.join(outDir, 'Frobenius_distance.nrrd')\n",
    "    sitk.WriteImage(frobenius_distance_image,frobenius_distance_image_fn)\n",
    "    #\n",
    "    logeuclid_distance_image = sitk.Multiply(logeuclid_distance_image,maskf)\n",
    "    logeuclid_distance_image_fn = os.path.join(outDir, 'Logeuclid_distance.nrrd')\n",
    "    sitk.WriteImage(logeuclid_distance_image,logeuclid_distance_image_fn)\n",
    "    #\n",
    "    reimann_distance_image = sitk.Multiply(reimann_distance_image,maskf)\n",
    "    reimann_distance_image_fn = os.path.join(outDir, 'Reimann_distance.nrrd')\n",
    "    sitk.WriteImage(reimann_distance_image,reimann_distance_image_fn)\n",
    "    #\n",
    "    kullback_distance_image = sitk.Multiply(kullback_distance_image,maskf)\n",
    "    kullback_distance_image_fn = os.path.join(outDir, 'Kullback_distance.nrrd')\n",
    "    sitk.WriteImage(kullback_distance_image,kullback_distance_image_fn)\n",
    "    #\n",
    "    return [fa_distance_image_fn,\n",
    "            md_distance_image_fn,\n",
    "            rd_distance_image_fn,\n",
    "            ad_distance_image_fn,\n",
    "            frobenius_distance_image_fn,\n",
    "            logeuclid_distance_image_fn,\n",
    "            reimann_distance_image_fn,\n",
    "            kullback_distance_image_fn]"
   ]
  },
  {
   "cell_type": "code",
   "execution_count": null,
   "metadata": {
    "collapsed": true
   },
   "outputs": [],
   "source": [
    "[fa,md,rd,ad,fro,log,rei,kull] = ComputeDistanceImages(DWI_baseline,DWI_sr_ifft,DWI_brainMask)"
   ]
  },
  {
   "cell_type": "code",
   "execution_count": null,
   "metadata": {
    "collapsed": false
   },
   "outputs": [],
   "source": [
    "print(fa)"
   ]
  },
  {
   "cell_type": "code",
   "execution_count": null,
   "metadata": {
    "collapsed": true
   },
   "outputs": [],
   "source": []
  },
  {
   "cell_type": "code",
   "execution_count": null,
   "metadata": {
    "collapsed": true
   },
   "outputs": [],
   "source": []
  },
  {
   "cell_type": "code",
   "execution_count": null,
   "metadata": {
    "collapsed": true
   },
   "outputs": [],
   "source": []
  },
  {
   "cell_type": "code",
   "execution_count": null,
   "metadata": {
    "collapsed": true
   },
   "outputs": [],
   "source": []
  },
  {
   "cell_type": "code",
   "execution_count": null,
   "metadata": {
    "collapsed": true
   },
   "outputs": [],
   "source": []
  },
  {
   "cell_type": "code",
   "execution_count": null,
   "metadata": {
    "collapsed": true
   },
   "outputs": [],
   "source": []
  },
  {
   "cell_type": "code",
   "execution_count": null,
   "metadata": {
    "collapsed": true
   },
   "outputs": [],
   "source": []
  },
  {
   "cell_type": "code",
   "execution_count": null,
   "metadata": {
    "collapsed": true
   },
   "outputs": [],
   "source": []
  },
  {
   "cell_type": "code",
   "execution_count": null,
   "metadata": {
    "collapsed": true
   },
   "outputs": [],
   "source": []
  },
  {
   "cell_type": "code",
   "execution_count": null,
   "metadata": {
    "collapsed": true
   },
   "outputs": [],
   "source": []
  },
  {
   "cell_type": "code",
   "execution_count": null,
   "metadata": {
    "collapsed": true
   },
   "outputs": [],
   "source": []
  },
  {
   "cell_type": "code",
   "execution_count": null,
   "metadata": {
    "collapsed": true
   },
   "outputs": [],
   "source": []
  },
  {
   "cell_type": "code",
   "execution_count": null,
   "metadata": {
    "collapsed": true
   },
   "outputs": [],
   "source": []
  },
  {
   "cell_type": "code",
   "execution_count": null,
   "metadata": {
    "collapsed": true
   },
   "outputs": [],
   "source": []
  },
  {
   "cell_type": "code",
   "execution_count": null,
   "metadata": {
    "collapsed": true
   },
   "outputs": [],
   "source": []
  },
  {
   "cell_type": "code",
   "execution_count": null,
   "metadata": {
    "collapsed": true
   },
   "outputs": [],
   "source": []
  },
  {
   "cell_type": "code",
   "execution_count": null,
   "metadata": {
    "collapsed": true
   },
   "outputs": [],
   "source": []
  },
  {
   "cell_type": "code",
   "execution_count": null,
   "metadata": {
    "collapsed": true
   },
   "outputs": [],
   "source": []
  },
  {
   "cell_type": "code",
   "execution_count": null,
   "metadata": {
    "collapsed": true
   },
   "outputs": [],
   "source": []
  },
  {
   "cell_type": "code",
   "execution_count": null,
   "metadata": {
    "collapsed": true
   },
   "outputs": [],
   "source": []
  },
  {
   "cell_type": "code",
   "execution_count": null,
   "metadata": {
    "collapsed": true
   },
   "outputs": [],
   "source": []
  },
  {
   "cell_type": "code",
   "execution_count": null,
   "metadata": {
    "collapsed": true
   },
   "outputs": [],
   "source": [
    "def ComputeDistanceImages(DWI_baseline,DWI_sr,DWI_brainMask):\n",
    "    import os\n",
    "    import numpy as np\n",
    "    from scipy.linalg import logm\n",
    "    from scipy.linalg import eigvalsh # eigvalsh(A,B) is joint eigenvalues of A and B\n",
    "    import SimpleITK as sitk\n",
    "    from ReadWriteNrrdDWI import ReadNAMICDWIFromNrrd, WriteNAMICDWIToNrrd\n",
    "    #########\n",
    "    ### distance functions ###\n",
    "    # Frobenius distance\n",
    "    def distance_euclid(tenfit_A, tenfit_B):\n",
    "        return np.linalg.norm(tenfit_A.quadratic_form - tenfit_B.quadratic_form, ord='fro')\n",
    "    # Log-Euclidian distance\n",
    "    def distance_logeuclid(tenfit_A, tenfit_B):\n",
    "        def fro_norm(A,B):\n",
    "            return np.linalg.norm(A-B, ord='fro')\n",
    "        return fro_norm(logm(tenfit_A.quadratic_form),logm(tenfit_B.quadratic_form))\n",
    "    # Reimannian distance\n",
    "    def distance_reimann(tenfit_A, tenfit_B):\n",
    "        return np.sqrt((np.log(eigvalsh(tenfit_A.quadratic_form,tenfit_B.quadratic_form))**2).sum())\n",
    "    # Kullback-Leibler distance\n",
    "    def distance_kullback(tenfit_A, tenfit_B):\n",
    "        A = tenfit_A.quadratic_form\n",
    "        B = tenfit_B.quadratic_form\n",
    "        dim = A.shape[0]\n",
    "        kl = np.sqrt( np.trace( np.dot(np.linalg.inv(A),B)+np.dot(np.linalg.inv(B),A) ) - 2*dim )\n",
    "        return 0.5*kl\n",
    "    ######### \n",
    "    assert os.path.exists(DWI_baseline), \"File not found: %s\" % DWI_baseline\n",
    "    assert os.path.exists(DWI_sr), \"File not found: %s\" % DWI_sr\n",
    "    assert os.path.exists(DWI_brainMask), \"File not found: %s\" % DWI_brainMask\n",
    "    mask = sitk.ReadImage(DWI_brainMask)\n",
    "    # read DWI nrrd files\n",
    "    data_base,nrrd_header_base,bvecs_base,bvals_base,grad_idx_base = ReadNAMICDWIFromNrrd(DWI_baseline)\n",
    "    data_sr,nrrd_header_sr,bvecs_sr,bvals_sr,grad_idx_sr = ReadNAMICDWIFromNrrd(DWI_sr)\n",
    "    # compute tensorfits\n",
    "    from dipy.core.gradients import gradient_table\n",
    "    from dipy.reconst.dti import TensorModel\n",
    "    # base tensorfit\n",
    "    gtab_base = gradient_table(bvals_base, bvecs_base)\n",
    "    ten_base = TensorModel(gtab_base)\n",
    "    tenfit_base = ten_base.fit(data_base)\n",
    "    # super-res reconstructed tensorfit\n",
    "    gtab_sr = gradient_table(bvals_sr, bvecs_sr)\n",
    "    ten_sr = TensorModel(gtab_sr)\n",
    "    tenfit_sr = ten_base.fit(data_sr)\n",
    "    # create empty distance images\n",
    "    size = [data_base.shape[0],data_base.shape[1],data_base.shape[2]] #data_base.shape[4] is gradient components\n",
    "    fa_distance_image = sitk.Image(size, sitk.sitkFloat32)\n",
    "    fa_distance_image.CopyInformation(mask)\n",
    "    #\n",
    "    # for loop to fill the distance images\n",
    "    for i in xrange(size[0]):\n",
    "        for j in xrange(size[1]):\n",
    "            for k in xrange(size[2]):\n",
    "                fa_distance_image[i,j,k] = abs(tenfit_base[i,j,k].fa - tenfit_sr[i,j,k].fa)\n",
    "                #md_distance_image[i,j,k] = abs(tenfit_base[i,j,k].md - tenfit_sr[i,j,k].md)\n",
    "                #rd_distance_image[i,j,k] = abs(tenfit_base[i,j,k].rd - tenfit_sr[i,j,k].rd)\n",
    "                #ad_distance_image[i,j,k] = abs(tenfit_base[i,j,k].ad - tenfit_sr[i,j,k].ad)\n",
    "                #frobenius_distance_image[i,j,k] = distance_euclid(tenfit_base[i,j,k], tenfit_sr[i,j,k])\n",
    "                #logeuclid_distance_image[i,j,k] = distance_logeuclid(tenfit_base[i,j,k], tenfit_sr[i,j,k])\n",
    "                #reimann_distance_image[i,j,k] = distance_reimann(tenfit_base[i,j,k], tenfit_sr[i,j,k])\n",
    "                #kullback_distance_image[i,j,k] = distance_kullback(tenfit_base[i,j,k], tenfit_sr[i,j,k])\n",
    "    #\n",
    "    BASE_DIR = os.path.join('/scratch/TESTS/IpythonNotebook/20160615_HCPWF', '3_DistImagesWF')\n",
    "    fa_distance_image_fn = os.path.join(BASE_DIR, 'FA_distance.nrrd')\n",
    "    sitk.WriteImage(fa_distance_image,fa_distance_image_fn)\n",
    "    #\n",
    "    return fa_distance_image_fn"
   ]
  },
  {
   "cell_type": "code",
   "execution_count": null,
   "metadata": {
    "collapsed": true
   },
   "outputs": [],
   "source": [
    "fn = ComputeDistanceImages(DWI_baseline,DWI_sr_ifft,DWI_brainMask)"
   ]
  },
  {
   "cell_type": "code",
   "execution_count": null,
   "metadata": {
    "collapsed": false
   },
   "outputs": [],
   "source": [
    "print(fn)"
   ]
  },
  {
   "cell_type": "code",
   "execution_count": null,
   "metadata": {
    "collapsed": true
   },
   "outputs": [],
   "source": []
  },
  {
   "cell_type": "code",
   "execution_count": null,
   "metadata": {
    "collapsed": true
   },
   "outputs": [],
   "source": []
  },
  {
   "cell_type": "code",
   "execution_count": null,
   "metadata": {
    "collapsed": true
   },
   "outputs": [],
   "source": []
  },
  {
   "cell_type": "code",
   "execution_count": null,
   "metadata": {
    "collapsed": true
   },
   "outputs": [],
   "source": []
  },
  {
   "cell_type": "code",
   "execution_count": null,
   "metadata": {
    "collapsed": false
   },
   "outputs": [],
   "source": [
    "from ReadWriteNrrdDWI import ReadNAMICDWIFromNrrd, WriteNAMICDWIToNrrd\n",
    "data_base,nrrd_header_base,bvecs_base,bvals_base,grad_idx_base = ReadNAMICDWIFromNrrd(DWI_baseline)"
   ]
  },
  {
   "cell_type": "code",
   "execution_count": null,
   "metadata": {
    "collapsed": false
   },
   "outputs": [],
   "source": [
    "data_base.shape"
   ]
  },
  {
   "cell_type": "code",
   "execution_count": null,
   "metadata": {
    "collapsed": true
   },
   "outputs": [],
   "source": [
    "mask = sitk.ReadImage(DWI_brainMask)\n",
    "size=[data_base.shape[0],data_base.shape[1],data_base.shape[2]]\n",
    "fa_distance_image = sitk.Image(size, sitk.sitkFloat32)\n",
    "fa_distance_image.CopyInformation(mask)"
   ]
  },
  {
   "cell_type": "code",
   "execution_count": null,
   "metadata": {
    "collapsed": false
   },
   "outputs": [],
   "source": [
    "myshow(fa_distance_image)"
   ]
  },
  {
   "cell_type": "code",
   "execution_count": null,
   "metadata": {
    "collapsed": false
   },
   "outputs": [],
   "source": [
    "print(size[0])"
   ]
  },
  {
   "cell_type": "code",
   "execution_count": null,
   "metadata": {
    "collapsed": true
   },
   "outputs": [],
   "source": [
    "# compute tensorfits\n",
    "from dipy.core.gradients import gradient_table\n",
    "from dipy.reconst.dti import TensorModel\n",
    "# base tensorfit\n",
    "gtab_base = gradient_table(bvals_base, bvecs_base)\n",
    "ten_base = TensorModel(gtab_base)\n",
    "tenfit_base = ten_base.fit(data_base)"
   ]
  },
  {
   "cell_type": "code",
   "execution_count": null,
   "metadata": {
    "collapsed": false
   },
   "outputs": [],
   "source": [
    "print(tenfit_base[70,80,70].fa)"
   ]
  },
  {
   "cell_type": "code",
   "execution_count": null,
   "metadata": {
    "collapsed": false
   },
   "outputs": [],
   "source": [
    "print(bvals_base)"
   ]
  },
  {
   "cell_type": "code",
   "execution_count": null,
   "metadata": {
    "collapsed": true
   },
   "outputs": [],
   "source": []
  }
 ],
 "metadata": {
  "kernelspec": {
   "display_name": "Python 2",
   "language": "python",
   "name": "python2"
  },
  "language_info": {
   "codemirror_mode": {
    "name": "ipython",
    "version": 2
   },
   "file_extension": ".py",
   "mimetype": "text/x-python",
   "name": "python",
   "nbconvert_exporter": "python",
   "pygments_lexer": "ipython2",
   "version": "2.7.11"
  }
 },
 "nbformat": 4,
 "nbformat_minor": 0
}
