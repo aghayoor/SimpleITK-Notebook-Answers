{
 "cells": [
  {
   "cell_type": "code",
   "execution_count": 1,
   "metadata": {},
   "outputs": [],
   "source": [
    "import os\n",
    "import numpy as np\n",
    "import glob\n",
    "import SimpleITK as sitk\n",
    "from myshow import myshow\n",
    "# import matplotlib.pyplot as plt\n",
    "# %matplotlib inline"
   ]
  },
  {
   "cell_type": "code",
   "execution_count": 2,
   "metadata": {},
   "outputs": [],
   "source": [
    "def print_stats(img):\n",
    "    statFilter = sitk.StatisticsImageFilter()\n",
    "    statFilter.Execute(img)\n",
    "    minimum = statFilter.GetMinimum()\n",
    "    maximum = statFilter.GetMaximum()\n",
    "    #print('mean:',statFilter.GetMean())\n",
    "    #print('std:',statFilter.GetSigma())\n",
    "    print('max:',maximum)\n",
    "    print('min:',minimum)\n",
    "    return [minimum, maximum]"
   ]
  },
  {
   "cell_type": "code",
   "execution_count": 3,
   "metadata": {},
   "outputs": [],
   "source": [
    "template_name = 'template_13-18'\n",
    "number_of_priors = 10"
   ]
  },
  {
   "cell_type": "code",
   "execution_count": 4,
   "metadata": {},
   "outputs": [],
   "source": [
    "# template_name = 'ADNI_Brain_Template'\n",
    "# number_of_priors = 6"
   ]
  },
  {
   "cell_type": "code",
   "execution_count": 5,
   "metadata": {},
   "outputs": [],
   "source": [
    "indir='/Users/aghayoor/Desktop/Alexander_disease_dev/templates/' + template_name + '/Priors_orig/'\n",
    "priors_fn_list = [os.path.join(indir, 'priors'+str(\"%.2d\" % i)+'.nii') for i in range(1, number_of_priors+1)]"
   ]
  },
  {
   "cell_type": "code",
   "execution_count": 6,
   "metadata": {},
   "outputs": [],
   "source": [
    "# indir='/Users/aghayoor/Desktop/Alexander_disease_dev/templates/' + template_name + '/nihpd_sym_all_nifti/'\n",
    "# priors_fn_list = glob.glob(indir+\"*.nii\") # this also lists other possible images than priors\n",
    "# priors_fn_list.sort()"
   ]
  },
  {
   "cell_type": "code",
   "execution_count": 7,
   "metadata": {},
   "outputs": [
    {
     "name": "stdout",
     "output_type": "stream",
     "text": [
      "['/Users/aghayoor/Desktop/Alexander_disease_dev/templates/template_13-18/Priors_orig/priors01.nii', '/Users/aghayoor/Desktop/Alexander_disease_dev/templates/template_13-18/Priors_orig/priors02.nii', '/Users/aghayoor/Desktop/Alexander_disease_dev/templates/template_13-18/Priors_orig/priors03.nii', '/Users/aghayoor/Desktop/Alexander_disease_dev/templates/template_13-18/Priors_orig/priors04.nii', '/Users/aghayoor/Desktop/Alexander_disease_dev/templates/template_13-18/Priors_orig/priors05.nii', '/Users/aghayoor/Desktop/Alexander_disease_dev/templates/template_13-18/Priors_orig/priors06.nii', '/Users/aghayoor/Desktop/Alexander_disease_dev/templates/template_13-18/Priors_orig/priors07.nii', '/Users/aghayoor/Desktop/Alexander_disease_dev/templates/template_13-18/Priors_orig/priors08.nii', '/Users/aghayoor/Desktop/Alexander_disease_dev/templates/template_13-18/Priors_orig/priors09.nii', '/Users/aghayoor/Desktop/Alexander_disease_dev/templates/template_13-18/Priors_orig/priors10.nii']\n"
     ]
    }
   ],
   "source": [
    "print(priors_fn_list)"
   ]
  },
  {
   "cell_type": "code",
   "execution_count": 8,
   "metadata": {},
   "outputs": [],
   "source": [
    "priors = [sitk.ReadImage(priors_fn_list[i]) for i in range(0, len(priors_fn_list))]"
   ]
  },
  {
   "cell_type": "code",
   "execution_count": 9,
   "metadata": {},
   "outputs": [
    {
     "data": {
      "text/plain": [
       "[9, 9, 9, 9, 9, 9, 8, 8, 9, 9]"
      ]
     },
     "execution_count": 9,
     "metadata": {},
     "output_type": "execute_result"
    }
   ],
   "source": [
    "[priors[i].GetPixelID() for i in range(0, len(priors))]"
   ]
  },
  {
   "cell_type": "code",
   "execution_count": 10,
   "metadata": {},
   "outputs": [],
   "source": [
    "# priors[2] = sitk.Cast(priors[2], priors[0].GetPixelID())\n",
    "priors[6] = sitk.Cast(priors[6], priors[0].GetPixelID())\n",
    "priors[7] = sitk.Cast(priors[7], priors[0].GetPixelID())"
   ]
  },
  {
   "cell_type": "code",
   "execution_count": 11,
   "metadata": {},
   "outputs": [
    {
     "data": {
      "text/plain": [
       "[9, 9, 9, 9, 9, 9, 9, 9, 9, 9]"
      ]
     },
     "execution_count": 11,
     "metadata": {},
     "output_type": "execute_result"
    }
   ],
   "source": [
    "[priors[i].GetPixelID() for i in range(0, len(priors))]"
   ]
  },
  {
   "cell_type": "code",
   "execution_count": 12,
   "metadata": {},
   "outputs": [
    {
     "name": "stdout",
     "output_type": "stream",
     "text": [
      "*** prior: 1\n",
      "max: 0.92841197872586\n",
      "min: 0.007948054145780502\n",
      "*** prior: 2\n",
      "max: 0.927892247816092\n",
      "min: 0.007948054145780502\n",
      "*** prior: 3\n",
      "max: 0.9981950258116191\n",
      "min: 0.016436053585020004\n",
      "*** prior: 4\n",
      "max: 0.9284401084915949\n",
      "min: 0.007948054145780502\n",
      "*** prior: 5\n",
      "max: 0.9257292697579791\n",
      "min: 0.007948054145780502\n",
      "*** prior: 6\n",
      "max: 0.9257292697579791\n",
      "min: 0.007948054145780502\n",
      "*** prior: 7\n",
      "max: 1.0000159740447998\n",
      "min: 0.0\n",
      "*** prior: 8\n",
      "max: 1.0000159740447998\n",
      "min: 0.0\n",
      "*** prior: 9\n",
      "max: 0.9364015019508886\n",
      "min: 0.0\n",
      "*** prior: 10\n",
      "max: 0.9364015019508886\n",
      "min: 0.0\n"
     ]
    }
   ],
   "source": [
    "for i in range(0,len(priors)):\n",
    "    print(\"*** prior: \"+str(i+1))\n",
    "    print_stats(priors[i])"
   ]
  },
  {
   "cell_type": "code",
   "execution_count": 13,
   "metadata": {},
   "outputs": [],
   "source": [
    "sumImage = sum(priors)\n",
    "out_fn = os.path.join(indir, 'sum_image.nii.gz')\n",
    "sitk.WriteImage(sumImage,out_fn)"
   ]
  },
  {
   "cell_type": "code",
   "execution_count": 14,
   "metadata": {},
   "outputs": [
    {
     "data": {
      "image/png": "[encoded data removed]",
      "text/plain": [
       "<Figure size 244.65x206.85 with 1 Axes>"
      ]
     },
     "metadata": {
      "needs_background": "light"
     },
     "output_type": "display_data"
    }
   ],
   "source": [
    "myshow(sumImage)"
   ]
  },
  {
   "cell_type": "code",
   "execution_count": 15,
   "metadata": {},
   "outputs": [
    {
     "name": "stdout",
     "output_type": "stream",
     "text": [
      "max: 1.0562053798474602\n",
      "min: 0.07315232319240152\n"
     ]
    }
   ],
   "source": [
    "[mini, maxi] = print_stats(sumImage)"
   ]
  },
  {
   "cell_type": "code",
   "execution_count": 16,
   "metadata": {},
   "outputs": [
    {
     "name": "stdout",
     "output_type": "stream",
     "text": [
      "max: 1.0\n",
      "min: 0.06925956313815251\n"
     ]
    }
   ],
   "source": [
    "if (maxi > 1):\n",
    "    new_priors = [priors[i]/maxi for i in range(0, len(priors))]\n",
    "    new_sumImage = sum(new_priors)\n",
    "    print_stats(new_sumImage)\n",
    "    odir='/Users/aghayoor/Desktop/Alexander_disease_dev/templates/' + template_name + '/Priors/'\n",
    "    if not os.path.isdir(odir):\n",
    "        os.makedirs(odir)\n",
    "    out_sum_fn = os.path.join(odir, 'sum_image.nii.gz')\n",
    "    sitk.WriteImage(new_sumImage,out_sum_fn)\n",
    "    new_priors_fn_list = [os.path.join(odir, 'priors'+str(\"%.2d\" % i)+'.nii') for i in range(1, number_of_priors+1)]\n",
    "    [sitk.WriteImage(new_priors[i],new_priors_fn_list[i]) for i in range(0, len(new_priors))]"
   ]
  },
  {
   "cell_type": "code",
   "execution_count": null,
   "metadata": {},
   "outputs": [],
   "source": []
  }
 ],
 "metadata": {
  "kernelspec": {
   "display_name": "Python 3",
   "language": "python",
   "name": "python3"
  },
  "language_info": {
   "codemirror_mode": {
    "name": "ipython",
    "version": 3
   },
   "file_extension": ".py",
   "mimetype": "text/x-python",
   "name": "python",
   "nbconvert_exporter": "python",
   "pygments_lexer": "ipython3",
   "version": "3.8.5"
  }
 },
 "nbformat": 4,
 "nbformat_minor": 4
}
