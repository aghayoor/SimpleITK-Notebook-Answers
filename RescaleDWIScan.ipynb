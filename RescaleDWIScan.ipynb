{
 "cells": [
  {
   "cell_type": "code",
   "execution_count": 4,
   "metadata": {
    "collapsed": false
   },
   "outputs": [
    {
     "name": "stdout",
     "output_type": "stream",
     "text": [
      "SimpleITK Version: 0.9.1\n",
      "Compiled: Sep 28 2015 10:07:41\n",
      "\n"
     ]
    }
   ],
   "source": [
    "## Boiler plate code common to many notebooks.  See the TestFilesCommonCode.ipynb for details\n",
    "from __future__ import print_function\n",
    "%run TestFilesCommonCode.ipynb"
   ]
  },
  {
   "cell_type": "code",
   "execution_count": 28,
   "metadata": {
    "collapsed": true
   },
   "outputs": [],
   "source": [
    "import os\n",
    "import glob\n",
    "import sys\n",
    "\n",
    "#\\/\\/\\/\\/\\/\\/\\/\\/\\/\\/\\/\\/\\/\\/\\/\\/\\/\\/\\/\\/\\/\\/\\/\\/\\/\\/\\/\\/\\/\\/\\/\\/\\/\\/\\/\\/\\/\\/\\/\\/\\/\\/\\/\n",
    "#####################################################################################\n",
    "#     Prepend the shell environment search paths\n",
    "PROGRAM_PATHS = '/scratch/NAMICExternalProjects/release-20160523/bin:\n",
    "/Shared/pinc/sharedopt/20141102/Slicer-4.4.0-macosx/Slicer.app/Contents/lib/Slicer-4.4/cli-modules'\n",
    "#PROGRAM_PATHS = '/scratch/BS/release-BSR/bin'\n",
    "PROGRAM_PATHS = PROGRAM_PATHS.split(':')\n",
    "PROGRAM_PATHS.extend(os.environ['PATH'].split(':'))\n",
    "os.environ['PATH'] = ':'.join(PROGRAM_PATHS)\n",
    "\n",
    "CUSTOM_ENVIRONMENT=dict()\n",
    "\n",
    "# Platform specific information\n",
    "#     Prepend the python search paths\n",
    "#PYTHON_AUX_PATHS = '/scratch/BS/BRAINSTools/AutoWorkup'\n",
    "PYTHON_AUX_PATHS = '/scratch/SuperResolution/BRAINSSuperResolution/HCPWorkflows/'\n",
    "PYTHON_AUX_PATHS = PYTHON_AUX_PATHS.split(':')\n",
    "PYTHON_AUX_PATHS.extend(sys.path)\n",
    "sys.path = PYTHON_AUX_PATHS\n",
    "\n",
    "import SimpleITK as sitk\n",
    "import nipype\n",
    "from nipype.interfaces.base import CommandLine, CommandLineInputSpec, TraitedSpec, File, Directory\n",
    "from nipype.interfaces.base import traits, isdefined, BaseInterface\n",
    "from nipype.interfaces.utility import Merge, Split, Function, Rename, IdentityInterface\n",
    "import nipype.interfaces.io as nio   # Data i/oS\n",
    "import nipype.pipeline.engine as pe  # pypeline engine\n",
    "from nipype.interfaces.freesurfer import ReconAll\n",
    "from nipype.interfaces.ants import DenoiseImage\n",
    "from nipype.interfaces.semtools import *"
   ]
  },
  {
   "cell_type": "code",
   "execution_count": 6,
   "metadata": {
    "collapsed": true
   },
   "outputs": [],
   "source": [
    "# # Normalize DWI scan components between zero and one\n",
    "# def RescaleDWIComponents(inputDWI):\n",
    "#     import os\n",
    "#     import numpy as np\n",
    "#     from ReadWriteNrrdDWI import ReadNAMICDWIFromNrrd, WriteNAMICDWIToNrrd\n",
    "#     # utility function\n",
    "#     def _3DRescale(arr):   \n",
    "#         newMax = 4096\n",
    "#         newMin = 0\n",
    "#         oldMax = float(np.amax(arr))\n",
    "#         oldMin = float(np.amin(arr))\n",
    "#         f=(newMax-newMin)/(oldMax-oldMin)\n",
    "#         rescaled_arr = (arr-oldMin)*f+newMin\n",
    "#         return rescaled_arr\n",
    "#     #\n",
    "#     assert os.path.exists(inputDWI), \"File not found: %s\" % inputDWI\n",
    "#     dwi_data,dwi_header,bvecs,bvals,gradient_index = ReadNAMICDWIFromNrrd(inputDWI)\n",
    "#     numOfComponents = dwi_data.shape[gradient_index]\n",
    "#     print(numOfComponents)\n",
    "#     for idx in range(numOfComponents):\n",
    "#         dwi_3d = dwi_data[:,:,:,idx]\n",
    "#         dwi_3d_scaled = _3DRescale(dwi_3d)\n",
    "#         dwi_data[:,:,:,idx] = dwi_3d_scaled\n",
    "#     #outNormalizedDWIFilename = os.path.join(os.getcwd(), 'DWI_recaled.nrrd')\n",
    "#     outdir='/Shared/johnsonhj/HDNI/20160804_HCP_Processing_Pipeline/Results/100307/newTractographyTest'\n",
    "#     outNormalizedDWIFilename = os.path.join(outdir, 'DWI_SR_WTV_recaled.nrrd')\n",
    "#     # write corrected nrrd file to disk\n",
    "#     WriteNAMICDWIToNrrd(outNormalizedDWIFilename,dwi_data,bvecs,bvals,dwi_header)\n",
    "#     assert os.path.isfile(outNormalizedDWIFilename), \"Normalized DWI file is not found: %s\" % outNormalizedDWIFilename\n",
    "#     return outNormalizedDWIFilename"
   ]
  },
  {
   "cell_type": "code",
   "execution_count": 7,
   "metadata": {
    "collapsed": true
   },
   "outputs": [],
   "source": [
    "# Normalize DWI scan components between zero and one\n",
    "def RescaleDWI(inputDWI):\n",
    "    import os\n",
    "    import numpy as np\n",
    "    from ReadWriteNrrdDWI import ReadNAMICDWIFromNrrd, WriteNAMICDWIToNrrd\n",
    "    #\n",
    "    assert os.path.exists(inputDWI), \"File not found: %s\" % inputDWI\n",
    "    dwi_data,dwi_header,bvecs,bvals,gradient_index = ReadNAMICDWIFromNrrd(inputDWI)\n",
    "    #\n",
    "    newMax = 4096\n",
    "    newMin = 0\n",
    "    oldMax = float(np.amax(dwi_data))\n",
    "    oldMin = float(np.amin(dwi_data))\n",
    "    f=(newMax-newMin)/(oldMax-oldMin)\n",
    "    rescaled_dwi_data = (dwi_data-oldMin)*f+newMin\n",
    "    rescaled_dwi_data = rescaled_dwi_data.astype(np.int16)\n",
    "    #outNormalizedDWIFilename = os.path.join(os.getcwd(), 'DWI_rescaled.nrrd')\n",
    "    outdir='/Shared/johnsonhj/HDNI/20160804_HCP_Processing_Pipeline/Results/100307/newTractographyTest'\n",
    "    outNormalizedDWIFilename = os.path.join(outdir, 'DWI_SR_WTV_rescaled.nrrd')\n",
    "    # write corrected nrrd file to disk\n",
    "    WriteNAMICDWIToNrrd(outNormalizedDWIFilename,rescaled_dwi_data,bvecs,bvals,dwi_header)\n",
    "    assert os.path.isfile(outNormalizedDWIFilename), \"Normalized DWI file is not found: %s\" % outNormalizedDWIFilename\n",
    "    return outNormalizedDWIFilename"
   ]
  },
  {
   "cell_type": "code",
   "execution_count": 8,
   "metadata": {
    "collapsed": true
   },
   "outputs": [],
   "source": [
    "inputDWI='/Shared/johnsonhj/HDNI/20160804_HCP_Processing_Pipeline/Results/100307/Outputs/SuperResolution/DWI_SR_WTV.nrrd'\n",
    "#inputDWI='/Shared/johnsonhj/HDNI/20160804_HCP_Processing_Pipeline/Results/100307/Outputs/SuperResolution/DWI_Baseline.nrrd'"
   ]
  },
  {
   "cell_type": "code",
   "execution_count": 9,
   "metadata": {
    "collapsed": false
   },
   "outputs": [
    {
     "name": "stdout",
     "output_type": "stream",
     "text": [
      "/Shared/johnsonhj/HDNI/20160804_HCP_Processing_Pipeline/Results/100307/newTractographyTest/DWI_SR_WTV_rescaled.nrrd\n"
     ]
    }
   ],
   "source": [
    "#a = RescaleDWI(inputDWI)\n",
    "#print(a)"
   ]
  },
  {
   "cell_type": "code",
   "execution_count": 22,
   "metadata": {
    "collapsed": false
   },
   "outputs": [],
   "source": [
    "from nipype.interfaces.slicer.diffusion import TractographyLabelMapSeeding"
   ]
  },
  {
   "cell_type": "code",
   "execution_count": 23,
   "metadata": {
    "collapsed": true
   },
   "outputs": [],
   "source": [
    "dwi_brain_mask='/Shared/johnsonhj/HDNI/20160804_HCP_Processing_Pipeline/Results/100307/Outputs/DWIBrainMask.nrrd'\n",
    "input_dti='/Shared/johnsonhj/HDNI/20160804_HCP_Processing_Pipeline/Results/100307/newTractographyTest/DTI_WTV.nrrd'\n",
    "fiber_output='/Shared/johnsonhj/HDNI/20160804_HCP_Processing_Pipeline/Results/100307/newTractographyTest/WTV_slicerTract_2.vtp'"
   ]
  },
  {
   "cell_type": "code",
   "execution_count": 31,
   "metadata": {
    "collapsed": false
   },
   "outputs": [
    {
     "data": {
      "text/plain": [
       "<nipype.interfaces.base.InterfaceResult at 0x1084ed210>"
      ]
     },
     "execution_count": 31,
     "metadata": {},
     "output_type": "execute_result"
    }
   ],
   "source": [
    "tract = TractographyLabelMapSeeding()\n",
    "tract.inputs.InputVolume = input_dti # input dti\n",
    "tract.inputs.inputroi = dwi_brain_mask\n",
    "tract.inputs.seedspacing = 1.25\n",
    "tract.inputs.clthreshold = 0.1 # Minimum Linear Measure for the seeding to start\n",
    "tract.inputs.minimumlength = 10\n",
    "tract.inputs.maximumlength = 250\n",
    "tract.inputs.stoppingmode = 'FractionalAnisotropy'\n",
    "tract.inputs.stoppingvalue = 0.15\n",
    "tract.inputs.stoppingcurvature = 0.7 # Tractography will stop if radius of curvature becomes smaller than this number units are degrees per mm\n",
    "tract.inputs.integrationsteplength = 0.5 # Distance between points on the same fiber in mm\n",
    "tract.inputs.label = 1\n",
    "tract.inputs.OutputFibers = fiber_output\n",
    "tract.run()"
   ]
  },
  {
   "cell_type": "code",
   "execution_count": 37,
   "metadata": {
    "collapsed": false
   },
   "outputs": [
    {
     "name": "stdout",
     "output_type": "stream",
     "text": [
      "DWI_Baseline_rescaled.nrrd\n"
     ]
    }
   ],
   "source": [
    "input_dwi='~/Desktop/DWI_Baseline.nrrd'\n",
    "#input_dwi='~/Desktop/DWI_SR_WTV.nrrd'\n",
    "\n",
    "sr_file_name = os.path.basename(input_dwi)\n",
    "sr_file_name_base = os.path.splitext(sr_file_name)[0]\n",
    "sr_name = sr_file_name_base + '_rescaled.nrrd'\n",
    "print(sr_name)"
   ]
  },
  {
   "cell_type": "code",
   "execution_count": null,
   "metadata": {
    "collapsed": true
   },
   "outputs": [],
   "source": []
  },
  {
   "cell_type": "code",
   "execution_count": null,
   "metadata": {
    "collapsed": true
   },
   "outputs": [],
   "source": []
  },
  {
   "cell_type": "code",
   "execution_count": null,
   "metadata": {
    "collapsed": true
   },
   "outputs": [],
   "source": []
  },
  {
   "cell_type": "code",
   "execution_count": null,
   "metadata": {
    "collapsed": true
   },
   "outputs": [],
   "source": []
  },
  {
   "cell_type": "code",
   "execution_count": null,
   "metadata": {
    "collapsed": true
   },
   "outputs": [],
   "source": []
  },
  {
   "cell_type": "code",
   "execution_count": null,
   "metadata": {
    "collapsed": true
   },
   "outputs": [],
   "source": []
  },
  {
   "cell_type": "code",
   "execution_count": null,
   "metadata": {
    "collapsed": true
   },
   "outputs": [],
   "source": []
  }
 ],
 "metadata": {
  "kernelspec": {
   "display_name": "Python 2",
   "language": "python",
   "name": "python2"
  },
  "language_info": {
   "codemirror_mode": {
    "name": "ipython",
    "version": 2
   },
   "file_extension": ".py",
   "mimetype": "text/x-python",
   "name": "python",
   "nbconvert_exporter": "python",
   "pygments_lexer": "ipython2",
   "version": "2.7.11"
  }
 },
 "nbformat": 4,
 "nbformat_minor": 0
}
