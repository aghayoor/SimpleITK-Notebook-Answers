{
 "metadata": {
  "name": "",
  "signature": "sha256:8405ea84f8ccb2392149951b05d6c4185fa4ee4e4c697f411f930c64f540f875"
 },
 "nbformat": 3,
 "nbformat_minor": 0,
 "worksheets": [
  {
   "cells": [
    {
     "cell_type": "markdown",
     "metadata": {},
     "source": [
      "Purpose\n",
      "=======\n",
      "\n",
      "The purpose of this pipeline is to complete all the pre-processing steps needed to turn diffusion-weighted images into FA images that will be used to build a template diffusion tensor atlas for fiber tracking.\n",
      "\n",
      "Inputs\n",
      "======\n",
      "The input to this pipeline is a list of subject IDs that is used to generate lists of the corresponding DWIs processed with automated quality control, T2s, and brain label images that are treated as brain masks.\n",
      " \n",
      "Pipeline Steps for CreateDWIWorkflow\n",
      "====================================\n",
      "{Fill this part later}"
     ]
    },
    {
     "cell_type": "code",
     "collapsed": false,
     "input": [
      "## Boiler plate code common to many notebooks.  See the TestFilesCommonCode.ipynb for details\n",
      "#from __future__ import print_function\n",
      "#%run TestFilesCommonCode.ipynb"
     ],
     "language": "python",
     "metadata": {},
     "outputs": [],
     "prompt_number": 36
    },
    {
     "cell_type": "code",
     "collapsed": false,
     "input": [
      "import os\n",
      "import glob\n",
      "import sys\n",
      "\n",
      "#\\/\\/\\/\\/\\/\\/\\/\\/\\/\\/\\/\\/\\/\\/\\/\\/\\/\\/\\/\\/\\/\\/\\/\\/\\/\\/\\/\\/\\/\\/\\/\\/\\/\\/\\/\\/\\/\\/\\/\\/\\/\\/\\/\n",
      "#####################################################################################\n",
      "#     Prepend the shell environment search paths\n",
      "PROGRAM_PATHS = '/scratch/NAMICExternalProjects/release/bin'\n",
      "PROGRAM_PATHS = PROGRAM_PATHS.split(':')\n",
      "PROGRAM_PATHS.extend(os.environ['PATH'].split(':'))\n",
      "os.environ['PATH'] = ':'.join(PROGRAM_PATHS)\n",
      "\n",
      "CUSTOM_ENVIRONMENT=dict()\n",
      "\n",
      "# Platform specific information\n",
      "#     Prepend the python search paths\n",
      "PYTHON_AUX_PATHS = '/scratch/NAMICExternalProjects/release/BRAINSTools/AutoWorkup'\n",
      "PYTHON_AUX_PATHS = PYTHON_AUX_PATHS.split(':')\n",
      "PYTHON_AUX_PATHS.extend(sys.path)\n",
      "sys.path = PYTHON_AUX_PATHS\n",
      "\n",
      "import SimpleITK as sitk\n",
      "import nipype\n",
      "from nipype.interfaces import ants\n",
      "from nipype.interfaces.base import CommandLine, CommandLineInputSpec, TraitedSpec, File, Directory\n",
      "from nipype.interfaces.base import traits, isdefined, BaseInterface\n",
      "from nipype.interfaces.utility import Merge, Split, Function, Rename, IdentityInterface\n",
      "import nipype.interfaces.io as nio   # Data i/oS\n",
      "import nipype.pipeline.engine as pe  # pypeline engine\n",
      "from nipype.interfaces.freesurfer import ReconAll\n",
      "from SEMTools import *"
     ],
     "language": "python",
     "metadata": {},
     "outputs": [],
     "prompt_number": 1
    },
    {
     "cell_type": "code",
     "collapsed": false,
     "input": [
      "######## Input scans #############################\n",
      "DWI_scan = '/Shared/johnsonhj/TrackOn/Experiments/20140203_DWIProcessing/VISUALLY_INSPECTED/HDNI_003/823955340/823955340_20080609_30/823955340_823955340_20080609_30_DWI_CONCAT_QCed_INSPECTED.nrrd'\n",
      "\n",
      "sessionID = os.path.basename(os.path.dirname(DWI_scan))\n",
      "subjectID = os.path.basename(os.path.dirname(os.path.dirname(DWI_scan)))\n",
      "siteID = os.path.basename(os.path.dirname(os.path.dirname(os.path.dirname(DWI_scan))))\n",
      "\n",
      "scalarsDIR = os.path.join('/Shared/sinapse/CACHE/20141124_TrackOn_base_Results/',\n",
      "                          siteID,\n",
      "                          subjectID,\n",
      "                          sessionID,\n",
      "                          'TissueClassify')\n",
      "\n",
      "T2_scan = os.path.join(scalarsDIR,'t2_average_BRAINSABC.nii.gz')\n",
      "labelMap_image = os.path.join(scalarsDIR,'complete_brainlabels_seg.nii.gz')\n",
      "#################################################\n",
      "\n",
      "####### Workflow ################################\n",
      "WFname = 'DWIWorkflow_' + sessionID\n",
      "DWIWorkflow = pe.Workflow(name=WFname)\n",
      "BASE_DIR = os.path.join('/scratch/TESTS/IpythonNotebook', '1_DWI_Nipype_workflow')\n",
      "DWIWorkflow.base_dir = BASE_DIR\n",
      "\n",
      "inputsSpec = pe.Node(interface=IdentityInterface(fields=['T2Volume', 'DWIVolume','LabelMapVolume']), \n",
      "                     name='inputspec')\n",
      "\n",
      "inputsSpec.inputs.DWIVolume = DWI_scan\n",
      "inputsSpec.inputs.T2Volume = T2_scan\n",
      "inputsSpec.inputs.LabelMapVolume = labelMap_image\n",
      "\n",
      "outputsSpec = pe.Node(interface=IdentityInterface(fields=['CorrectedDWI_in_T2Space','tensor_image',\n",
      "                                                          'FAImage','MDImage','RDImage','FrobeniusNormImage',\n",
      "                                                          'Lambda1Image','Lambda2Image','Lambda3Image']),\n",
      "                      name='outputsSpec')\n",
      "\n",
      "# Step0: remove the skull from the T2 volume\n",
      "def ExtractBRAINFromHead(RawScan, BrainLabels):\n",
      "    import os\n",
      "    import SimpleITK as sitk\n",
      "    # Remove skull from the head scan\n",
      "    assert os.path.exists(RawScan), \"File not found: %s\" % RawScan\n",
      "    assert os.path.exists(BrainLabels), \"File not found: %s\" % BrainLabels\n",
      "    headImage = sitk.ReadImage(RawScan)\n",
      "    labelsMap = sitk.ReadImage(BrainLabels)\n",
      "    label_mask = labelsMap>0\n",
      "    brainImage = sitk.Cast(headImage,sitk.sitkInt16) * sitk.Cast(label_mask,sitk.sitkInt16)\n",
      "    outputVolume = os.path.realpath('T2Stripped.nrrd')\n",
      "    sitk.WriteImage(brainImage, outputVolume)\n",
      "    return outputVolume\n",
      "\n",
      "ExtractBRAINFromHeadNode = pe.Node(interface=Function(function = ExtractBRAINFromHead, \n",
      "                                                      input_names=['RawScan','BrainLabels'],\n",
      "                                                      output_names=['outputVolume']), \n",
      "                                   name=\"ExtractBRAINFromHead\")\n",
      "\n",
      "DWIWorkflow.connect(inputsSpec, 'T2Volume', ExtractBRAINFromHeadNode, 'RawScan')\n",
      "DWIWorkflow.connect(inputsSpec, 'LabelMapVolume', ExtractBRAINFromHeadNode, 'BrainLabels')\n",
      "\n",
      "# Step1: extract B0 from DWI volume\n",
      "EXTRACT_B0 = pe.Node(interface=extractNrrdVectorIndex(),name=\"EXTRACT_B0\")\n",
      "EXTRACT_B0.inputs.vectorIndex = 0\n",
      "EXTRACT_B0.inputs.outputVolume = 'B0_Image.nrrd'\n",
      "DWIWorkflow.connect(inputsSpec,'DWIVolume',EXTRACT_B0,'inputVolume')\n",
      "\n",
      "# Step2: Register T2 to B0 space using BRAINSFit\n",
      "BFit_T2toB0 = pe.Node(interface=BRAINSFit(), name=\"BFit_T2toB0\")\n",
      "BFit_T2toB0.inputs.costMetric = \"MMI\"\n",
      "BFit_T2toB0.inputs.numberOfSamples = 100000\n",
      "BFit_T2toB0.inputs.numberOfIterations = [1500]\n",
      "BFit_T2toB0.inputs.numberOfHistogramBins = 50\n",
      "BFit_T2toB0.inputs.maximumStepLength = 0.2\n",
      "BFit_T2toB0.inputs.minimumStepLength = [0.00005]\n",
      "BFit_T2toB0.inputs.useRigid = True\n",
      "BFit_T2toB0.inputs.useAffine = True\n",
      "BFit_T2toB0.inputs.maskInferiorCutOffFromCenter = 65\n",
      "BFit_T2toB0.inputs.maskProcessingMode = \"ROIAUTO\"\n",
      "BFit_T2toB0.inputs.ROIAutoDilateSize = 13\n",
      "BFit_T2toB0.inputs.backgroundFillValue = 0.0\n",
      "BFit_T2toB0.inputs.initializeTransformMode = 'useCenterOfHeadAlign'\n",
      "BFit_T2toB0.inputs.strippedOutputTransform = \"T2ToB0_RigidTransform.h5\"\n",
      "#BFit_T2toB0.inputs.outputVolume = \"T2_in_B0Space_Output.nii.gz\"\n",
      "DWIWorkflow.connect(EXTRACT_B0, 'outputVolume', BFit_T2toB0, 'fixedVolume')\n",
      "DWIWorkflow.connect(ExtractBRAINFromHeadNode, 'outputVolume', BFit_T2toB0, 'movingVolume')\n",
      "\n",
      "# Step3: Use T_rigid to \"resample\" T2 and label map images to B0 image space\n",
      "#------------\n",
      "def MakeResamplerInFileList(inputT2, inputLabelMap):\n",
      "    imagesList = [inputT2, inputLabelMap]\n",
      "    return imagesList\n",
      "    \n",
      "MakeResamplerInFilesListNode = pe.Node(Function(function=MakeResamplerInFileList,\n",
      "                                               input_names=['inputT2','inputLabelMap'],\n",
      "                                               output_names=['imagesList']),\n",
      "                                      name=\"MakeResamplerInFilesListNode\")\n",
      "\n",
      "DWIWorkflow.connect([(ExtractBRAINFromHeadNode,MakeResamplerInFilesListNode,[('outputVolume','inputT2')]),\n",
      "                     (inputsSpec,MakeResamplerInFilesListNode,[('LabelMapVolume','inputLabelMap')])])\n",
      "\n",
      "ResampleToB0Space = pe.MapNode(interface=BRAINSResample(), name=\"ResampleToB0Space\",\n",
      "                               iterfield=['inputVolume', 'interpolationMode', 'pixelType', 'outputVolume'])\n",
      "ResampleToB0Space.inputs.interpolationMode = ['Linear','NearestNeighbor']\n",
      "ResampleToB0Space.inputs.outputVolume = ['T2toB0.nrrd','BRAINMaskToB0.nrrd']\n",
      "ResampleToB0Space.inputs.pixelType = ['ushort','binary']\n",
      "DWIWorkflow.connect(BFit_T2toB0,'strippedOutputTransform',ResampleToB0Space,'warpTransform')\n",
      "DWIWorkflow.connect(EXTRACT_B0,'outputVolume',ResampleToB0Space,'referenceVolume')\n",
      "DWIWorkflow.connect(MakeResamplerInFilesListNode,'imagesList',ResampleToB0Space,'inputVolume')\n",
      "\n",
      "# This function helps to pick desirable output from the outputVolume list\n",
      "def pickFromList(inlist,item):\n",
      "    return inlist[item]\n",
      "\n",
      "# Step4: Create registration mask from resampled label map image\n",
      "def CreateAntsRegistrationMask(brainMask):\n",
      "    import os\n",
      "    import SimpleITK as sitk\n",
      "    assert os.path.exists(brainMask), \"File not found: %s\" % brainMask\n",
      "    labelsMap = sitk.ReadImage(brainMask)\n",
      "    label_mask = labelsMap>0\n",
      "    # erode the label mask\n",
      "    erodeFilter = sitk.BinaryErodeImageFilter()\n",
      "    erodeFilter.SetKernelRadius(4)\n",
      "    eroded_mask = erodeFilter.Execute( label_mask )\n",
      "    # dilate the label mask\n",
      "    dilateFilter = sitk.BinaryDilateImageFilter()\n",
      "    dilateFilter.SetKernelRadius(4)\n",
      "    dilated_mask = dilateFilter.Execute( label_mask )\n",
      "    regMask = eroded_mask - dilated_mask\n",
      "    registrationMask = os.path.realpath('registrationMask.nrrd')\n",
      "    sitk.WriteImage(regMask, registrationMask)\n",
      "    return registrationMask\n",
      "    \n",
      "CreateRegistrationMask = pe.Node(interface=Function(function = CreateAntsRegistrationMask, \n",
      "                                                    input_names=['brainMask'],\n",
      "                                                    output_names=['registrationMask']),\n",
      "                                 name=\"CreateAntsRegistrationMask\")\n",
      "\n",
      "DWIWorkflow.connect(ResampleToB0Space, ('outputVolume', pickFromList, 1), \n",
      "                    CreateRegistrationMask, 'brainMask')\n",
      "\n",
      "# Step5: Save direction cosine for the resampled T2 image\n",
      "def SaveDirectionCosineToMatrix(inputVolume):\n",
      "    import os\n",
      "    import SimpleITK as sitk\n",
      "    assert os.path.exists(inputVolume), \"File not found: %s\" % inputVolume\n",
      "    t2 = sitk.ReadImage(inputVolume)\n",
      "    directionCosine = t2.GetDirection()\n",
      "    return directionCosine\n",
      "\n",
      "SaveDirectionCosineToMatrixNode = pe.Node(interface=Function(function = SaveDirectionCosineToMatrix, \n",
      "                                                             input_names=['inputVolume'],\n",
      "                                                             output_names=['directionCosine']),\n",
      "                                          name=\"SaveDirectionCosineToMatrix\")\n",
      "\n",
      "DWIWorkflow.connect(ResampleToB0Space, ('outputVolume', pickFromList, 0), \n",
      "                    SaveDirectionCosineToMatrixNode, 'inputVolume')\n",
      "\n",
      "# Step6: Force DC to ID\n",
      "def MakeForceDCFilesList(inputB0, inputT2, inputLabelMap):\n",
      "    import os\n",
      "    assert os.path.exists(inputB0), \"File not found: %s\" % inputB0\n",
      "    assert os.path.exists(inputT2), \"File not found: %s\" % inputT2\n",
      "    assert os.path.exists(inputLabelMap), \"File not found: %s\" % inputLabelMap\n",
      "    imagesList = [inputB0, inputT2, inputLabelMap]\n",
      "    return imagesList\n",
      "    \n",
      "MakeForceDCFilesListNode = pe.Node(Function(function=MakeForceDCFilesList,\n",
      "                                             input_names=['inputB0','inputT2','inputLabelMap'],\n",
      "                                             output_names=['imagesList']),\n",
      "                                    name=\"MakeForceDCFilesListNode\")\n",
      "\n",
      "\n",
      "DWIWorkflow.connect([(EXTRACT_B0,MakeForceDCFilesListNode,[('outputVolume','inputB0')]),\n",
      "                     (ResampleToB0Space,MakeForceDCFilesListNode,[(('outputVolume', pickFromList, 0),'inputT2')]),\n",
      "                     (CreateRegistrationMask,MakeForceDCFilesListNode,[('registrationMask','inputLabelMap')])])\n",
      "\n",
      "def ForceDCtoID(inputVolume):\n",
      "    import os\n",
      "    import SimpleITK as sitk\n",
      "    inImage = sitk.ReadImage(inputVolume)\n",
      "    inImage.SetDirection((1.0, 0.0, 0.0, 0.0, 1.0, 0.0, 0.0, 0.0, 1.0))\n",
      "    outputVolume = os.path.realpath('IDDC_'+ os.path.basename(inputVolume))\n",
      "    sitk.WriteImage(inImage, outputVolume)\n",
      "    return outputVolume\n",
      "\n",
      "ForceDCtoIDNode = pe.MapNode(interface=Function(function = ForceDCtoID, \n",
      "                                                input_names=['inputVolume'],\n",
      "                                                output_names=['outputVolume']), \n",
      "                             name=\"ForceDCtoID\",\n",
      "                             iterfield=['inputVolume'])\n",
      "\n",
      "DWIWorkflow.connect(MakeForceDCFilesListNode, 'imagesList', ForceDCtoIDNode, 'inputVolume')\n",
      "\n",
      "# Step7: Run antsRegistration in one direction\n",
      "antsReg_B0ToTransformedT2 = pe.Node(interface=ants.Registration(), name=\"antsReg_B0ToTransformedT2\")\n",
      "antsReg_B0ToTransformedT2.inputs.dimension = 3\n",
      "antsReg_B0ToTransformedT2.inputs.transforms = [\"SyN\"]\n",
      "antsReg_B0ToTransformedT2.inputs.transform_parameters = [(0.25, 3.0, 0.0)]\n",
      "antsReg_B0ToTransformedT2.inputs.metric = ['MI']\n",
      "antsReg_B0ToTransformedT2.inputs.sampling_strategy = [None]\n",
      "antsReg_B0ToTransformedT2.inputs.sampling_percentage = [1.0]\n",
      "antsReg_B0ToTransformedT2.inputs.metric_weight = [1.0]\n",
      "antsReg_B0ToTransformedT2.inputs.radius_or_number_of_bins = [32]\n",
      "antsReg_B0ToTransformedT2.inputs.number_of_iterations = [[70, 50, 40]]\n",
      "antsReg_B0ToTransformedT2.inputs.convergence_threshold = [1e-6]\n",
      "antsReg_B0ToTransformedT2.inputs.convergence_window_size = [10]\n",
      "antsReg_B0ToTransformedT2.inputs.use_histogram_matching = [True]\n",
      "antsReg_B0ToTransformedT2.inputs.shrink_factors = [[3, 2, 1]]\n",
      "antsReg_B0ToTransformedT2.inputs.smoothing_sigmas = [[2, 1, 0]]\n",
      "antsReg_B0ToTransformedT2.inputs.sigma_units = [\"vox\"]\n",
      "antsReg_B0ToTransformedT2.inputs.use_estimate_learning_rate_once = [False]\n",
      "antsReg_B0ToTransformedT2.inputs.write_composite_transform = True\n",
      "antsReg_B0ToTransformedT2.inputs.collapse_output_transforms = False\n",
      "antsReg_B0ToTransformedT2.inputs.initialize_transforms_per_stage = False\n",
      "antsReg_B0ToTransformedT2.inputs.output_transform_prefix = 'Tsyn'\n",
      "antsReg_B0ToTransformedT2.inputs.winsorize_lower_quantile = 0.01\n",
      "antsReg_B0ToTransformedT2.inputs.winsorize_upper_quantile = 0.99\n",
      "antsReg_B0ToTransformedT2.inputs.args = '--float 1 --restrict-deformation 0x1x0'\n",
      "\n",
      "DWIWorkflow.connect(ForceDCtoIDNode, ('outputVolume', pickFromList, 1), antsReg_B0ToTransformedT2, 'fixed_image')\n",
      "DWIWorkflow.connect(ForceDCtoIDNode, ('outputVolume', pickFromList, 2), antsReg_B0ToTransformedT2, 'fixed_image_mask')\n",
      "DWIWorkflow.connect(ForceDCtoIDNode, ('outputVolume', pickFromList, 0), antsReg_B0ToTransformedT2, 'moving_image')\n",
      "\n",
      "# Step8: Now, all necessary transforms are acquired. It's a time to \n",
      "#        transform input DWI image into T2 image space\n",
      "# {DWI} --> ForceDCtoID --> gtractResampleDWIInPlace(using SyN transfrom) \n",
      "# --> Restore DirectionCosine From Saved Matrix --> gtractResampleDWIInPlace(inverse of T_rigid from BFit)\n",
      "# --> {CorrectedDW_in_T2Space}\n",
      "\n",
      "DWI_ForceDCtoIDNode = pe.Node(interface=Function(function = ForceDCtoID, \n",
      "                                                 input_names=['inputVolume'],\n",
      "                                                 output_names=['outputVolume']), \n",
      "                              name='DWI_ForceDCtoIDNode')\n",
      "\n",
      "DWIWorkflow.connect(inputsSpec,'DWIVolume',DWI_ForceDCtoIDNode,'inputVolume')\n",
      "\n",
      "def pickCompositeTransfromFromList(composite_transform_as_list):\n",
      "    return composite_transform_as_list[0]\n",
      "\n",
      "gtractResampleDWI_SyN = pe.Node(interface=gtractResampleDWIInPlace(), \n",
      "                                       name=\"gtractResampleDWI_SyN\")\n",
      "\n",
      "DWIWorkflow.connect(DWI_ForceDCtoIDNode,'outputVolume',gtractResampleDWI_SyN,'inputVolume')\n",
      "DWIWorkflow.connect(antsReg_B0ToTransformedT2,('composite_transform',pickCompositeTransfromFromList),gtractResampleDWI_SyN,'warpDWITransform')\n",
      "DWIWorkflow.connect(ForceDCtoIDNode,('outputVolume', pickFromList, 1),gtractResampleDWI_SyN,'referenceVolume') # fixed image of antsRegistration\n",
      "gtractResampleDWI_SyN.inputs.outputVolume = 'IDDC_correctedDWI.nrrd'\n",
      "\n",
      "def RestoreDCFromSavedMatrix(inputVolume, inputDirectionCosine):\n",
      "    import os\n",
      "    import SimpleITK as sitk\n",
      "    inImage = sitk.ReadImage(inputVolume)\n",
      "    inImage.SetDirection(inputDirectionCosine)\n",
      "    outputVolume = os.path.realpath('correctedDWI.nrrd')\n",
      "    sitk.WriteImage(inImage, outputVolume)\n",
      "    return outputVolume\n",
      "\n",
      "RestoreDCFromSavedMatrixNode = pe.Node(interface=Function(function = RestoreDCFromSavedMatrix, \n",
      "                                                          input_names=['inputVolume','inputDirectionCosine'],\n",
      "                                                          output_names=['outputVolume']), \n",
      "                                       name='RestoreDCFromSavedMatrix')\n",
      "\n",
      "DWIWorkflow.connect(gtractResampleDWI_SyN,'outputVolume',RestoreDCFromSavedMatrixNode,'inputVolume')\n",
      "DWIWorkflow.connect(SaveDirectionCosineToMatrixNode,'directionCosine',RestoreDCFromSavedMatrixNode,'inputDirectionCosine')\n",
      "\n",
      "def GetRigidTransformInverse(inputTransform):\n",
      "    import os\n",
      "    import SimpleITK as sitk\n",
      "    inputTx = sitk.ReadTransform(inputTransform)\n",
      "    versorRigidTx = sitk.VersorRigid3DTransform()\n",
      "    versorRigidTx.SetFixedParameters(inputTx.GetFixedParameters())\n",
      "    versorRigidTx.SetParameters(inputTx.GetParameters())\n",
      "    invTx = versorRigidTx.GetInverse()\n",
      "    inverseTransform = os.path.realpath('Inverse_'+ os.path.basename(inputTransform))\n",
      "    sitk.WriteTransform(invTx, inverseTransform)\n",
      "    return inverseTransform\n",
      "\n",
      "GetRigidTransformInverseNode = pe.Node(interface=Function(function = GetRigidTransformInverse, \n",
      "                                                          input_names=['inputTransform'],\n",
      "                                                          output_names=['inverseTransform']), \n",
      "                                       name='GetRigidTransformInverse')\n",
      "\n",
      "DWIWorkflow.connect(BFit_T2toB0,'strippedOutputTransform',GetRigidTransformInverseNode,'inputTransform')\n",
      "\n",
      "gtractResampleDWIInPlace_Trigid = pe.Node(interface=gtractResampleDWIInPlace(), \n",
      "                                       name=\"gtractResampleDWIInPlace_Trigid\")\n",
      "\n",
      "DWIWorkflow.connect(RestoreDCFromSavedMatrixNode,'outputVolume',gtractResampleDWIInPlace_Trigid,'inputVolume')\n",
      "DWIWorkflow.connect(GetRigidTransformInverseNode,'inverseTransform',gtractResampleDWIInPlace_Trigid,'inputTransform') #Inverse of rigid transform from BFit\n",
      "gtractResampleDWIInPlace_Trigid.inputs.outputVolume = 'CorrectedDWI_in_T2Space.nrrd'\n",
      "gtractResampleDWIInPlace_Trigid.inputs.outputResampledB0 = 'CorrectedDWI_in_T2Space_B0.nrrd'\n",
      "\n",
      "# Finally we pass the outputs of the gtractResampleDWIInPlace_Trigid to the outputsSpec\n",
      "DWIWorkflow.connect(gtractResampleDWIInPlace_Trigid, 'outputVolume', outputsSpec, 'CorrectedDWI_in_T2Space')\n",
      "\n",
      "# Step9: Create brain mask from the input labelmap\n",
      "def CreateBrainMask(brainLabelsMap):\n",
      "    import os\n",
      "    import SimpleITK as sitk\n",
      "    assert os.path.exists(brainLabelsMap), \"File not found: %s\" % brainLabelsMap\n",
      "    labelsMap = sitk.ReadImage(brainLabelsMap)\n",
      "    brain_mask = labelsMap>0\n",
      "    outputVolume = os.path.realpath('BRAINMask.nrrd')\n",
      "    sitk.WriteImage(brain_mask, outputVolume)\n",
      "    return outputVolume\n",
      "\n",
      "BRAINMASK = pe.Node(interface=Function(function = CreateBrainMask, \n",
      "                                       input_names=['brainLabelsMap'],\n",
      "                                       output_names=['outputVolume']), \n",
      "                    name=\"BRAINMASK\")\n",
      "DWIWorkflow.connect(inputsSpec, 'LabelMapVolume', BRAINMASK, 'brainLabelsMap')\n",
      "\n",
      "# Step10: DTI estimation\n",
      "DTIEstim = pe.Node(interface=dtiestim(), name=\"DTIEstim\")\n",
      "DTIEstim.inputs.method = 'wls'\n",
      "DTIEstim.inputs.tensor_output = 'DTI_Output.nrrd'\n",
      "DWIWorkflow.connect(gtractResampleDWIInPlace_Trigid, 'outputVolume', DTIEstim, 'dwi_image')\n",
      "DWIWorkflow.connect(BRAINMASK, 'outputVolume', DTIEstim, 'brain_mask')\n",
      "DWIWorkflow.connect(DTIEstim, 'tensor_output', outputsSpec, 'tensor_image')\n",
      "\n",
      "# Step11: DTI process\n",
      "DTIProcess = pe.Node(interface=dtiprocess(), name='DTIProcess')\n",
      "DTIProcess.inputs.fa_output = 'FA.nrrd'\n",
      "DTIProcess.inputs.md_output = 'MD.nrrd'\n",
      "DTIProcess.inputs.RD_output = 'RD.nrrd'\n",
      "DTIProcess.inputs.frobenius_norm_output = 'frobenius_norm_output.nrrd'\n",
      "DTIProcess.inputs.lambda1_output = 'lambda1_output.nrrd'\n",
      "DTIProcess.inputs.lambda2_output = 'lambda2_output.nrrd'\n",
      "DTIProcess.inputs.lambda3_output = 'lambda3_output.nrrd'\n",
      "DTIProcess.inputs.scalar_float = True\n",
      "\n",
      "DWIWorkflow.connect(DTIEstim, 'tensor_output', DTIProcess, 'dti_image')\n",
      "DWIWorkflow.connect(DTIProcess, 'fa_output', outputsSpec, 'FAImage')\n",
      "DWIWorkflow.connect(DTIProcess, 'md_output', outputsSpec, 'MDImage')\n",
      "DWIWorkflow.connect(DTIProcess, 'RD_output', outputsSpec, 'RDImage')\n",
      "DWIWorkflow.connect(DTIProcess, 'frobenius_norm_output', outputsSpec, 'FrobeniusNormImage')\n",
      "DWIWorkflow.connect(DTIProcess, 'lambda1_output', outputsSpec, 'Lambda1Image')\n",
      "DWIWorkflow.connect(DTIProcess, 'lambda2_output', outputsSpec, 'Lambda2Image')\n",
      "DWIWorkflow.connect(DTIProcess, 'lambda3_output', outputsSpec, 'Lambda3Image')\n",
      "\n",
      "DWIDataSink = pe.Node(interface=nio.DataSink(), name='DWIDataSink')\n",
      "DWIDataSink.inputs.base_directory = os.path.join(BASE_DIR,'Results')\n",
      "DWIDataSink.container = sessionID\n",
      "\n",
      "DWIWorkflow.connect(outputsSpec, 'CorrectedDWI_in_T2Space', DWIDataSink, 'Output.@CorrectedDWI_in_T2Space')\n",
      "DWIWorkflow.connect(outputsSpec, 'tensor_image', DWIDataSink, 'Output.@tensor_image')\n",
      "DWIWorkflow.connect(outputsSpec, 'FAImage', DWIDataSink, 'Output.@FAImage')\n",
      "DWIWorkflow.connect(outputsSpec, 'MDImage', DWIDataSink, 'Output.@MDImage')\n",
      "DWIWorkflow.connect(outputsSpec, 'RDImage', DWIDataSink, 'Output.@RDImage')\n",
      "DWIWorkflow.connect(outputsSpec, 'FrobeniusNormImage', DWIDataSink, 'Output.@FrobeniusNormImage')\n",
      "DWIWorkflow.connect(outputsSpec, 'Lambda1Image', DWIDataSink, 'Output.@Lambda1Image')\n",
      "DWIWorkflow.connect(outputsSpec, 'Lambda2Image', DWIDataSink, 'Output.@Lambda2Image')\n",
      "DWIWorkflow.connect(outputsSpec, 'Lambda3Image', DWIDataSink, 'Output.@Lambda3Image')\n",
      "\n",
      "DWIWorkflow.write_graph()\n",
      "DWIWorkflow.run()"
     ],
     "language": "python",
     "metadata": {},
     "outputs": [
      {
       "output_type": "stream",
       "stream": "stderr",
       "text": [
        "INFO:workflow:Converting dotfile: /scratch/TESTS/IpythonNotebook/1_DWI_Nipype_workflow/DWIWorkflow_823955340_20080609_30/graph.dot to png format\n"
       ]
      },
      {
       "output_type": "stream",
       "stream": "stderr",
       "text": [
        "INFO:workflow:['check', 'execution', 'logging']\n"
       ]
      },
      {
       "output_type": "stream",
       "stream": "stderr",
       "text": [
        "INFO:workflow:Running serially.\n"
       ]
      },
      {
       "output_type": "stream",
       "stream": "stderr",
       "text": [
        "INFO:workflow:Executing node ExtractBRAINFromHead in dir: /scratch/TESTS/IpythonNotebook/1_DWI_Nipype_workflow/DWIWorkflow_823955340_20080609_30/ExtractBRAINFromHead\n"
       ]
      },
      {
       "output_type": "stream",
       "stream": "stderr",
       "text": [
        "INFO:workflow:Executing node MakeResamplerInFilesListNode in dir: /scratch/TESTS/IpythonNotebook/1_DWI_Nipype_workflow/DWIWorkflow_823955340_20080609_30/MakeResamplerInFilesListNode\n"
       ]
      },
      {
       "output_type": "stream",
       "stream": "stderr",
       "text": [
        "INFO:workflow:Executing node DWI_ForceDCtoIDNode in dir: /scratch/TESTS/IpythonNotebook/1_DWI_Nipype_workflow/DWIWorkflow_823955340_20080609_30/DWI_ForceDCtoIDNode\n"
       ]
      },
      {
       "output_type": "stream",
       "stream": "stderr",
       "text": [
        "INFO:workflow:Executing node BRAINMASK in dir: /scratch/TESTS/IpythonNotebook/1_DWI_Nipype_workflow/DWIWorkflow_823955340_20080609_30/BRAINMASK\n"
       ]
      },
      {
       "output_type": "stream",
       "stream": "stderr",
       "text": [
        "INFO:workflow:Executing node EXTRACT_B0 in dir: /scratch/TESTS/IpythonNotebook/1_DWI_Nipype_workflow/DWIWorkflow_823955340_20080609_30/EXTRACT_B0\n"
       ]
      },
      {
       "output_type": "stream",
       "stream": "stderr",
       "text": [
        "INFO:workflow:Running:  extractNrrdVectorIndex  --inputVolume /Shared/johnsonhj/TrackOn/Experiments/20140203_DWIProcessing/VISUALLY_INSPECTED/HDNI_003/823955340/823955340_20080609_30/823955340_823955340_20080609_30_DWI_CONCAT_QCed_INSPECTED.nrrd --outputVolume B0_Image.nrrd --vectorIndex 0\n"
       ]
      },
      {
       "output_type": "stream",
       "stream": "stderr",
       "text": [
        "INFO:interface:stdout 2015-01-11T18:46:34.230836:Input Image: /Shared/johnsonhj/TrackOn/Experiments/20140203_DWIProcessing/VISUALLY_INSPECTED/HDNI_003/823955340/823955340_20080609_30/823955340_823955340_20080609_30_DWI_CONCAT_QCed_INSPECTED.nrrd\n"
       ]
      },
      {
       "output_type": "stream",
       "stream": "stderr",
       "text": [
        "INFO:interface:stdout 2015-01-11T18:46:34.230836:Output Image: B0_Image.nrrd\n"
       ]
      },
      {
       "output_type": "stream",
       "stream": "stderr",
       "text": [
        "INFO:interface:stdout 2015-01-11T18:46:34.230836:Vector Index: 0\n"
       ]
      },
      {
       "output_type": "stream",
       "stream": "stderr",
       "text": [
        "INFO:interface:stdout 2015-01-11T18:46:34.230836:Set Image Orientation: AsAcquired\n"
       ]
      },
      {
       "output_type": "stream",
       "stream": "stderr",
       "text": [
        "INFO:interface:stdout 2015-01-11T18:46:34.230836:\n"
       ]
      },
      {
       "output_type": "stream",
       "stream": "stderr",
       "text": [
        "INFO:workflow:Executing node BFit_T2toB0 in dir: /scratch/TESTS/IpythonNotebook/1_DWI_Nipype_workflow/DWIWorkflow_823955340_20080609_30/BFit_T2toB0\n"
       ]
      },
      {
       "output_type": "stream",
       "stream": "stderr",
       "text": [
        "INFO:workflow:Running:  BRAINSFit  --ROIAutoDilateSize 13.000000 --backgroundFillValue 0.000000 --costMetric MMI --fixedVolume /Volumes/scratch/TESTS/IpythonNotebook/1_DWI_Nipype_workflow/DWIWorkflow_823955340_20080609_30/EXTRACT_B0/B0_Image.nrrd --initializeTransformMode useCenterOfHeadAlign --maskInferiorCutOffFromCenter 65.000000 --maskProcessingMode ROIAUTO --maximumStepLength 0.200000 --minimumStepLength 5e-05 --movingVolume /Volumes/scratch/TESTS/IpythonNotebook/1_DWI_Nipype_workflow/DWIWorkflow_823955340_20080609_30/ExtractBRAINFromHead/T2Stripped.nrrd --numberOfHistogramBins 50 --numberOfIterations 1500 --numberOfSamples 100000 --strippedOutputTransform T2ToB0_RigidTransform.h5 --useAffine  --useRigid \n"
       ]
      },
      {
       "output_type": "stream",
       "stream": "stderr",
       "text": [
        "INFO:interface:stdout 2015-01-11T18:46:35.177452:Original Fixed image origin[-109.009, -109.767, -56.6923, 0]\n"
       ]
      },
      {
       "output_type": "stream",
       "stream": "stderr",
       "text": [
        "INFO:interface:stdout 2015-01-11T18:46:35.325626:ListSample TotalFrequency is  802816\n"
       ]
      },
      {
       "output_type": "stream",
       "stream": "stderr",
       "text": [
        "INFO:interface:stdout 2015-01-11T18:46:35.402337:1057 ValidHistogramsEntries,  802816 TotalFrequency\n"
       ]
      },
      {
       "output_type": "stream",
       "stream": "stderr",
       "text": [
        "INFO:interface:stdout 2015-01-11T18:46:35.402337:0.01 ---> 0\n"
       ]
      },
      {
       "output_type": "stream",
       "stream": "stderr",
       "text": [
        "INFO:interface:stdout 2015-01-11T18:46:35.402337:0.99 ---> 401\n"
       ]
      },
      {
       "output_type": "stream",
       "stream": "stderr",
       "text": [
        "INFO:interface:stdout 2015-01-11T18:46:35.419115:LowHigh Thresholds: [106,2147483647]\n"
       ]
      },
      {
       "output_type": "stream",
       "stream": "stderr",
       "text": [
        "INFO:interface:stdout 2015-01-11T18:46:36.687794:ListSample TotalFrequency is  7990528\n"
       ]
      },
      {
       "output_type": "stream",
       "stream": "stderr",
       "text": [
        "INFO:interface:stdout 2015-01-11T18:46:37.367987:4072 ValidHistogramsEntries,  7990528 TotalFrequency\n"
       ]
      },
      {
       "output_type": "stream",
       "stream": "stderr",
       "text": [
        "INFO:interface:stdout 2015-01-11T18:46:37.367987:0.01 ---> 0\n"
       ]
      },
      {
       "output_type": "stream",
       "stream": "stderr",
       "text": [
        "INFO:interface:stdout 2015-01-11T18:46:37.367987:0.99 ---> 2448\n"
       ]
      },
      {
       "output_type": "stream",
       "stream": "stderr",
       "text": [
        "INFO:interface:stdout 2015-01-11T18:46:37.521069:LowHigh Thresholds: [752,2147483647]\n"
       ]
      },
      {
       "output_type": "stream",
       "stream": "stderr",
       "text": [
        "INFO:interface:stdout 2015-01-11T18:46:50.031146:WARNING --numberOfSamples is deprecated, please use --samplingPercentage instead \n"
       ]
      },
      {
       "output_type": "stream",
       "stream": "stderr",
       "text": [
        "INFO:interface:stdout 2015-01-11T18:46:50.032022:WARNING: Replacing command line --samplingPercentage 0.124562\n"
       ]
      },
      {
       "output_type": "stream",
       "stream": "stderr",
       "text": [
        "INFO:interface:stdout 2015-01-11T18:46:50.257409:TranformTypes: Rigid(1 of 2).\n"
       ]
      },
      {
       "output_type": "stream",
       "stream": "stderr",
       "text": [
        "INFO:interface:stdout 2015-01-11T18:46:50.257409:\n"
       ]
      },
      {
       "output_type": "stream",
       "stream": "stderr",
       "text": [
        "INFO:interface:stdout 2015-01-11T18:46:50.257409:TranformTypes: Affine(2 of 2).\n"
       ]
      },
      {
       "output_type": "stream",
       "stream": "stderr",
       "text": [
        "INFO:interface:stdout 2015-01-11T18:46:50.257409:\n"
       ]
      },
      {
       "output_type": "stream",
       "stream": "stderr",
       "text": [
        "INFO:interface:stdout 2015-01-11T18:46:50.257409:Initializing transform with useCenterOfHeadAlign\n"
       ]
      },
      {
       "output_type": "stream",
       "stream": "stderr",
       "text": [
        "INFO:interface:stdout 2015-01-11T18:46:50.309474:maxSIDirection = 105.5\n"
       ]
      },
      {
       "output_type": "stream",
       "stream": "stderr",
       "text": [
        "INFO:interface:stdout 2015-01-11T18:46:50.396163:Computing Sampled Distance Computations\n"
       ]
      },
      {
       "output_type": "stream",
       "stream": "stderr",
       "text": [
        "INFO:interface:stdout 2015-01-11T18:46:51.471889:maxSIDirection = 74.8159\n"
       ]
      },
      {
       "output_type": "stream",
       "stream": "stderr",
       "text": [
        "INFO:interface:stdout 2015-01-11T18:46:51.481941:Computing Sampled Distance Computations\n"
       ]
      },
      {
       "output_type": "stream",
       "stream": "stderr",
       "text": [
        "INFO:interface:stdout 2015-01-11T18:46:53.144787:Initializing transform with useCenterOfHeadAlign to \n"
       ]
      },
      {
       "output_type": "stream",
       "stream": "stderr",
       "text": [
        "INFO:interface:stdout 2015-01-11T18:46:53.145695:VersorRigid3DTransform (0x7ffb11c00a00)\n"
       ]
      },
      {
       "output_type": "stream",
       "stream": "stderr",
       "text": [
        "INFO:interface:stdout 2015-01-11T18:46:53.145695:  RTTI typeinfo:   itk::VersorRigid3DTransform<double>\n"
       ]
      },
      {
       "output_type": "stream",
       "stream": "stderr",
       "text": [
        "INFO:interface:stdout 2015-01-11T18:46:53.145695:  Reference Count: 2\n"
       ]
      },
      {
       "output_type": "stream",
       "stream": "stderr",
       "text": [
        "INFO:interface:stdout 2015-01-11T18:46:53.145695:  Modified Time: 403160\n"
       ]
      },
      {
       "output_type": "stream",
       "stream": "stderr",
       "text": [
        "INFO:interface:stdout 2015-01-11T18:46:53.145695:  Debug: Off\n"
       ]
      },
      {
       "output_type": "stream",
       "stream": "stderr",
       "text": [
        "INFO:interface:stdout 2015-01-11T18:46:53.145695:  Object Name: \n"
       ]
      },
      {
       "output_type": "stream",
       "stream": "stderr",
       "text": [
        "INFO:interface:stdout 2015-01-11T18:46:53.145695:  Observers: \n"
       ]
      },
      {
       "output_type": "stream",
       "stream": "stderr",
       "text": [
        "INFO:interface:stdout 2015-01-11T18:46:53.145695:    none\n"
       ]
      },
      {
       "output_type": "stream",
       "stream": "stderr",
       "text": [
        "INFO:interface:stdout 2015-01-11T18:46:53.145695:  Matrix: \n"
       ]
      },
      {
       "output_type": "stream",
       "stream": "stderr",
       "text": [
        "INFO:interface:stdout 2015-01-11T18:46:53.145695:    0.99863 0.0520493 -0.0054706 \n"
       ]
      },
      {
       "output_type": "stream",
       "stream": "stderr",
       "text": [
        "INFO:interface:stdout 2015-01-11T18:46:53.145695:    -0.052336 0.993159 -0.104385 \n"
       ]
      },
      {
       "output_type": "stream",
       "stream": "stderr",
       "text": [
        "INFO:interface:stdout 2015-01-11T18:46:53.145695:    4.33681e-19 0.104528 0.994522 \n"
       ]
      },
      {
       "output_type": "stream",
       "stream": "stderr",
       "text": [
        "INFO:interface:stdout 2015-01-11T18:46:53.145695:  Offset: [4.51482, 31.5197, 10.8616]\n"
       ]
      },
      {
       "output_type": "stream",
       "stream": "stderr",
       "text": [
        "INFO:interface:stdout 2015-01-11T18:46:53.145695:  Center: [-4.06168, -10.8725, 2.19632]\n"
       ]
      },
      {
       "output_type": "stream",
       "stream": "stderr",
       "text": [
        "INFO:interface:stdout 2015-01-11T18:46:53.145695:  Translation: [3.94247, 31.5774, 9.71312]\n"
       ]
      },
      {
       "output_type": "stream",
       "stream": "stderr",
       "text": [
        "INFO:interface:stdout 2015-01-11T18:46:53.145695:  Inverse: \n"
       ]
      },
      {
       "output_type": "stream",
       "stream": "stderr",
       "text": [
        "INFO:interface:stdout 2015-01-11T18:46:53.145695:    0.99863 -0.052336 4.33681e-19 \n"
       ]
      },
      {
       "output_type": "stream",
       "stream": "stderr",
       "text": [
        "INFO:interface:stdout 2015-01-11T18:46:53.145695:    0.0520493 0.993159 0.104528 \n"
       ]
      },
      {
       "output_type": "stream",
       "stream": "stderr",
       "text": [
        "INFO:interface:stdout 2015-01-11T18:46:53.145695:    -0.0054706 -0.104385 0.994522 \n"
       ]
      },
      {
       "output_type": "stream",
       "stream": "stderr",
       "text": [
        "INFO:interface:stdout 2015-01-11T18:46:53.145695:  Singular: 0\n"
       ]
      },
      {
       "output_type": "stream",
       "stream": "stderr",
       "text": [
        "INFO:interface:stdout 2015-01-11T18:46:53.145695:  Versor: [ 0.052318, -0.00137, -0.0261411, 0.998287 ]\n"
       ]
      },
      {
       "output_type": "stream",
       "stream": "stderr",
       "text": [
        "INFO:interface:stdout 2015-01-11T18:46:53.145695:\n"
       ]
      },
      {
       "output_type": "stream",
       "stream": "stderr",
       "text": [
        "INFO:interface:stdout 2015-01-11T18:46:53.145695:===============================================\n"
       ]
      },
      {
       "output_type": "stream",
       "stream": "stderr",
       "text": [
        "INFO:interface:stderr 2015-01-11T18:46:53.153820:maskInferiorCutOffFromCenter is 65\n"
       ]
      },
      {
       "output_type": "stream",
       "stream": "stderr",
       "text": [
        "INFO:interface:stdout 2015-01-11T18:46:53.240765:\n"
       ]
      },
      {
       "output_type": "stream",
       "stream": "stderr",
       "text": [
        "INFO:interface:stdout 2015-01-11T18:46:53.240765:\n"
       ]
      },
      {
       "output_type": "stream",
       "stream": "stderr",
       "text": [
        "INFO:interface:stdout 2015-01-11T18:46:53.240765:\n"
       ]
      },
      {
       "output_type": "stream",
       "stream": "stderr",
       "text": [
        "INFO:interface:stdout 2015-01-11T18:46:53.240765:=============================== ITKv4 Registration: Starting Transform Estimations for Rigid(1 of 2).===============================\n"
       ]
      },
      {
       "output_type": "stream",
       "stream": "stderr",
       "text": [
        "INFO:interface:stdout 2015-01-11T18:46:53.240765:\n"
       ]
      },
      {
       "output_type": "stream",
       "stream": "stderr",
       "text": [
        "INFO:interface:stdout 2015-01-11T18:46:54.011707:   0    -0.439435   [ 0.0508733 -0.00106022 -0.0257416 4.01597 31.4327 9.59626 ]\n"
       ]
      },
      {
       "output_type": "stream",
       "stream": "stderr",
       "text": [
        "INFO:interface:stdout 2015-01-11T18:46:54.057892:   1    -0.448909   [ 0.0494417 -0.000357934 -0.0247833 4.08746 31.2765 9.49398 ]\n"
       ]
      },
      {
       "output_type": "stream",
       "stream": "stderr",
       "text": [
        "INFO:interface:stdout 2015-01-11T18:46:54.110669:   2    -0.457452   [ 0.0492232 2.29808e-05 -0.0250755 4.16082 31.1363 9.37161 ]\n"
       ]
      },
      {
       "output_type": "stream",
       "stream": "stderr",
       "text": [
        "INFO:interface:stdout 2015-01-11T18:46:54.159077:   3    -0.464985   [ 0.0484579 0.000228583 -0.025098 4.23224 30.9821 9.26616 ]\n"
       ]
      },
      {
       "output_type": "stream",
       "stream": "stderr",
       "text": [
        "INFO:interface:stdout 2015-01-11T18:46:54.217508:   4     -0.47268   [ 0.0476428 0.000371498 -0.0251489 4.30943 30.8259 9.16808 ]\n"
       ]
      },
      {
       "output_type": "stream",
       "stream": "stderr",
       "text": [
        "INFO:interface:stdout 2015-01-11T18:46:54.266525:   5    -0.480397   [ 0.0478986 0.00128247 -0.0254786 4.36112 30.6749 9.04745 ]\n"
       ]
      },
      {
       "output_type": "stream",
       "stream": "stderr",
       "text": [
        "INFO:interface:stdout 2015-01-11T18:46:54.317209:   6     -0.48834   [ 0.0475471 0.00132303 -0.0256978 4.41344 30.5192 8.93344 ]\n"
       ]
      },
      {
       "output_type": "stream",
       "stream": "stderr",
       "text": [
        "INFO:interface:stdout 2015-01-11T18:46:54.369584:   7    -0.496838   [ 0.0467628 0.00157315 -0.0252815 4.46251 30.3637 8.81762 ]\n"
       ]
      },
      {
       "output_type": "stream",
       "stream": "stderr",
       "text": [
        "INFO:interface:stdout 2015-01-11T18:46:54.424343:   8    -0.505088   [ 0.0471806 0.00157388 -0.0247134 4.51588 30.2106 8.70053 ]\n"
       ]
      },
      {
       "output_type": "stream",
       "stream": "stderr",
       "text": [
        "INFO:interface:stdout 2015-01-11T18:46:54.475181:   9    -0.514542   [ 0.0475972 0.00114006 -0.0235796 4.56539 30.0513 8.59028 ]\n"
       ]
      },
      {
       "output_type": "stream",
       "stream": "stderr",
       "text": [
        "INFO:interface:stdout 2015-01-11T18:46:54.524950:  10    -0.524041   [ 0.0494215 0.00120261 -0.0231766 4.5967 29.8873 8.48018 ]\n"
       ]
      },
      {
       "output_type": "stream",
       "stream": "stderr",
       "text": [
        "INFO:interface:stdout 2015-01-11T18:46:54.571050:  11    -0.534711   [ 0.051289 0.000856722 -0.0233758 4.62538 29.729 8.36139 ]\n"
       ]
      },
      {
       "output_type": "stream",
       "stream": "stderr",
       "text": [
        "INFO:interface:stdout 2015-01-11T18:46:54.619490:  12     -0.54544   [ 0.0539987 0.000947526 -0.0227809 4.64422 29.5658 8.24748 ]\n"
       ]
      },
      {
       "output_type": "stream",
       "stream": "stderr",
       "text": [
        "INFO:interface:stdout 2015-01-11T18:46:54.669868:  13    -0.557574   [ 0.0556705 0.000819565 -0.0217665 4.6857 29.3992 8.14503 ]\n"
       ]
      },
      {
       "output_type": "stream",
       "stream": "stderr",
       "text": [
        "INFO:interface:stdout 2015-01-11T18:46:54.717534:  14    -0.568161   [ 0.057625 0.000589978 -0.0211673 4.71744 29.2318 8.04037 ]\n"
       ]
      },
      {
       "output_type": "stream",
       "stream": "stderr",
       "text": [
        "INFO:interface:stdout 2015-01-11T18:46:54.765671:  15    -0.580162   [ 0.0586478 0.000409497 -0.0208051 4.7559 29.0734 7.92446 ]\n"
       ]
      },
      {
       "output_type": "stream",
       "stream": "stderr",
       "text": [
        "INFO:interface:stdout 2015-01-11T18:46:54.815740:  16    -0.591798   [ 0.0600585 0.000159664 -0.0199699 4.78351 28.9134 7.80777 ]\n"
       ]
      },
      {
       "output_type": "stream",
       "stream": "stderr",
       "text": [
        "INFO:interface:stdout 2015-01-11T18:46:54.863204:  17    -0.604018   [ 0.0612617 0.000746002 -0.0192449 4.80859 28.7519 7.69257 ]\n"
       ]
      },
      {
       "output_type": "stream",
       "stream": "stderr",
       "text": [
        "INFO:interface:stdout 2015-01-11T18:46:54.920987:  18    -0.615831   [ 0.0621266 0.000951951 -0.0187691 4.83723 28.6 7.56562 ]\n"
       ]
      },
      {
       "output_type": "stream",
       "stream": "stderr",
       "text": [
        "INFO:interface:stdout 2015-01-11T18:46:54.978279:  19    -0.627458   [ 0.0631957 0.0012728 -0.018489 4.88108 28.4549 7.43519 ]\n"
       ]
      },
      {
       "output_type": "stream",
       "stream": "stderr",
       "text": [
        "INFO:interface:stdout 2015-01-11T18:46:55.028597:  20    -0.638437   [ 0.0636742 0.00124032 -0.0183392 4.91167 28.2991 7.31351 ]\n"
       ]
      },
      {
       "output_type": "stream",
       "stream": "stderr",
       "text": [
        "INFO:interface:stdout 2015-01-11T18:46:55.078951:  21    -0.648791   [ 0.0642567 0.00141509 -0.0184337 4.94754 28.1429 7.19393 ]\n"
       ]
      },
      {
       "output_type": "stream",
       "stream": "stderr",
       "text": [
        "INFO:interface:stdout 2015-01-11T18:46:55.132262:  22    -0.658725   [ 0.0651093 0.00178437 -0.0188978 4.97387 27.982 7.0781 ]\n"
       ]
      },
      {
       "output_type": "stream",
       "stream": "stderr",
       "text": [
        "INFO:interface:stdout 2015-01-11T18:46:55.183302:  23    -0.667935   [ 0.0651367 0.0016333 -0.0178135 4.98719 27.8224 6.95838 ]\n"
       ]
      },
      {
       "output_type": "stream",
       "stream": "stderr",
       "text": [
        "INFO:interface:stdout 2015-01-11T18:46:55.236919:  24    -0.676107   [ 0.0655291 0.00133792 -0.0174291 5.00377 27.6564 6.84804 ]\n"
       ]
      },
      {
       "output_type": "stream",
       "stream": "stderr",
       "text": [
        "INFO:interface:stdout 2015-01-11T18:46:55.287389:  25    -0.682678   [ 0.0652144 0.00108317 -0.0177742 4.99996 27.4934 6.73223 ]\n"
       ]
      },
      {
       "output_type": "stream",
       "stream": "stderr",
       "text": [
        "INFO:interface:stdout 2015-01-11T18:46:55.338549:  26    -0.688808   [ 0.0655751 0.000744922 -0.0177206 5.01193 27.3032 6.67135 ]\n"
       ]
      },
      {
       "output_type": "stream",
       "stream": "stderr",
       "text": [
        "INFO:interface:stdout 2015-01-11T18:46:55.394389:  27    -0.694138   [ 0.0666082 0.00039192 -0.0172063 5.01337 27.1149 6.60416 ]\n"
       ]
      },
      {
       "output_type": "stream",
       "stream": "stderr",
       "text": [
        "INFO:interface:stdout 2015-01-11T18:46:55.442899:  28    -0.698291   [ 0.0668353 -0.00022441 -0.0170751 5.09198 26.9654 6.497 ]\n"
       ]
      },
      {
       "output_type": "stream",
       "stream": "stderr",
       "text": [
        "INFO:interface:stdout 2015-01-11T18:46:55.496238:  29    -0.701299   [ 0.0686487 -0.000731089 -0.0196582 5.08272 26.7743 6.43921 ]\n"
       ]
      },
      {
       "output_type": "stream",
       "stream": "stderr",
       "text": [
        "INFO:interface:stdout 2015-01-11T18:46:55.544976:  30    -0.700015   [ 0.0576116 0.00195376 -0.00463238 4.90868 26.7841 6.34869 ]\n"
       ]
      },
      {
       "output_type": "stream",
       "stream": "stderr",
       "text": [
        "INFO:interface:stdout 2015-01-11T18:46:55.594807:  31    -0.648263   [ 0.0652421 0.000760816 -0.0167651 4.98692 26.7925 6.40327 ]\n"
       ]
      },
      {
       "output_type": "stream",
       "stream": "stderr",
       "text": [
        "INFO:interface:stdout 2015-01-11T18:46:55.647202:  32    -0.700456   [ 0.0787267 -0.000572539 -0.0183233 5.05083 26.7994 6.47483 ]\n"
       ]
      },
      {
       "output_type": "stream",
       "stream": "stderr",
       "text": [
        "INFO:interface:stdout 2015-01-11T18:46:55.695356:  33    -0.670361   [ 0.0711547 -3.29824e-05 -0.0176646 5.05385 26.7901 6.42824 ]\n"
       ]
      },
      {
       "output_type": "stream",
       "stream": "stderr",
       "text": [
        "INFO:interface:stdout 2015-01-11T18:46:55.741279:  34     -0.69848   [ 0.0650861 0.000284931 -0.0160215 5.05725 26.7927 6.38005 ]\n"
       ]
      },
      {
       "output_type": "stream",
       "stream": "stderr",
       "text": [
        "INFO:interface:stdout 2015-01-11T18:46:55.796031:  35    -0.700073   [ 0.067628 0.0001952 -0.0164739 5.06264 26.7875 6.40333 ]\n"
       ]
      },
      {
       "output_type": "stream",
       "stream": "stderr",
       "text": [
        "INFO:interface:stdout 2015-01-11T18:46:55.849341:  36     -0.70255   [ 0.0659794 -0.000672995 -0.0186056 5.0469 26.7822 6.42114 ]\n"
       ]
      },
      {
       "output_type": "stream",
       "stream": "stderr",
       "text": [
        "INFO:interface:stdout 2015-01-11T18:46:55.897559:  37      -0.7017   [ 0.0686269 -0.000314445 -0.0173489 5.04187 26.7888 6.44398 ]\n"
       ]
      },
      {
       "output_type": "stream",
       "stream": "stderr",
       "text": [
        "INFO:interface:stdout 2015-01-11T18:46:55.948076:  38     -0.70223   [ 0.0672313 -2.71479e-06 -0.0172534 5.04493 26.7955 6.43431 ]\n"
       ]
      },
      {
       "output_type": "stream",
       "stream": "stderr",
       "text": [
        "INFO:interface:stdout 2015-01-11T18:46:55.994895:  39     -0.70281   [ 0.0667495 -0.000132002 -0.0177427 5.04228 26.7915 6.43812 ]\n"
       ]
      },
      {
       "output_type": "stream",
       "stream": "stderr",
       "text": [
        "INFO:interface:stdout 2015-01-11T18:46:56.046438:  40    -0.702808   [ 0.0670388 -0.000210185 -0.0176536 5.04494 26.7927 6.43712 ]\n"
       ]
      },
      {
       "output_type": "stream",
       "stream": "stderr",
       "text": [
        "INFO:interface:stdout 2015-01-11T18:46:56.095089:  41    -0.702839   [ 0.0669031 -0.000200995 -0.0174186 5.0464 26.7953 6.43644 ]\n"
       ]
      },
      {
       "output_type": "stream",
       "stream": "stderr",
       "text": [
        "INFO:interface:stdout 2015-01-11T18:46:56.143668:  42     -0.70283   [ 0.0671032 -0.00017229 -0.0175681 5.04655 26.7955 6.4379 ]\n"
       ]
      },
      {
       "output_type": "stream",
       "stream": "stderr",
       "text": [
        "INFO:interface:stdout 2015-01-11T18:46:56.190531:  43    -0.702872   [ 0.0669336 -0.000156877 -0.0175272 5.04585 26.7963 6.439 ]\n"
       ]
      },
      {
       "output_type": "stream",
       "stream": "stderr",
       "text": [
        "INFO:interface:stdout 2015-01-11T18:46:56.245958:  44    -0.702865   [ 0.0671909 -0.000194551 -0.0175796 5.04674 26.7967 6.44007 ]\n"
       ]
      },
      {
       "output_type": "stream",
       "stream": "stderr",
       "text": [
        "INFO:interface:stdout 2015-01-11T18:46:56.297546:  45    -0.702866   [ 0.0669834 -0.000144524 -0.0175238 5.04614 26.7969 6.43984 ]\n"
       ]
      },
      {
       "output_type": "stream",
       "stream": "stderr",
       "text": [
        "INFO:interface:stdout 2015-01-11T18:46:56.345282:  46    -0.702857   [ 0.0670194 -0.000158357 -0.0175346 5.04617 26.797 6.44018 ]\n"
       ]
      },
      {
       "output_type": "stream",
       "stream": "stderr",
       "text": [
        "INFO:interface:stdout 2015-01-11T18:46:56.404161:  47    -0.702858   [ 0.0670208 -0.000165627 -0.0175374 5.04617 26.7972 6.44052 ]\n"
       ]
      },
      {
       "output_type": "stream",
       "stream": "stderr",
       "text": [
        "INFO:interface:stdout 2015-01-11T18:46:56.454561:  48    -0.702856   [ 0.0670193 -0.000171143 -0.0175384 5.04621 26.7974 6.44084 ]\n"
       ]
      },
      {
       "output_type": "stream",
       "stream": "stderr",
       "text": [
        "INFO:interface:stdout 2015-01-11T18:46:56.503173:  49    -0.702858   [ 0.0670177 -0.000175318 -0.0175385 5.04629 26.7977 6.44116 ]\n"
       ]
      },
      {
       "output_type": "stream",
       "stream": "stderr",
       "text": [
        "INFO:interface:stdout 2015-01-11T18:46:56.550509:  50    -0.702858   [ 0.0670166 -0.000178353 -0.0175383 5.0464 26.7979 6.44147 ]\n"
       ]
      },
      {
       "output_type": "stream",
       "stream": "stderr",
       "text": [
        "INFO:interface:stdout 2015-01-11T18:46:56.599603:  51    -0.702858   [ 0.0670159 -0.000180414 -0.0175377 5.04653 26.7981 6.44177 ]\n"
       ]
      },
      {
       "output_type": "stream",
       "stream": "stderr",
       "text": [
        "INFO:interface:stdout 2015-01-11T18:46:56.645341:  52    -0.702858   [ 0.0670155 -0.000181722 -0.0175369 5.04667 26.7983 6.44207 ]\n"
       ]
      },
      {
       "output_type": "stream",
       "stream": "stderr",
       "text": [
        "INFO:interface:stdout 2015-01-11T18:46:56.696598:  53    -0.702855   [ 0.0670153 -0.00018248 -0.0175359 5.04682 26.7985 6.44237 ]\n"
       ]
      },
      {
       "output_type": "stream",
       "stream": "stderr",
       "text": [
        "INFO:interface:stdout 2015-01-11T18:46:56.745307:  54    -0.702855   [ 0.0670153 -0.000182863 -0.0175348 5.04696 26.7987 6.44268 ]\n"
       ]
      },
      {
       "output_type": "stream",
       "stream": "stderr",
       "text": [
        "INFO:interface:stdout 2015-01-11T18:46:56.794231:  55    -0.702853   [ 0.0670154 -0.000183001 -0.0175336 5.04708 26.7989 6.44301 ]\n"
       ]
      },
      {
       "output_type": "stream",
       "stream": "stderr",
       "text": [
        "INFO:interface:stdout 2015-01-11T18:46:56.843001:  56    -0.702848   [ 0.0670153 -0.000182673 -0.0175321 5.04716 26.799 6.44335 ]\n"
       ]
      },
      {
       "output_type": "stream",
       "stream": "stderr",
       "text": [
        "INFO:interface:stdout 2015-01-11T18:46:56.892784:  57    -0.702848   [ 0.0670397 -0.000182583 -0.0175292 5.04696 26.799 6.44369 ]\n"
       ]
      },
      {
       "output_type": "stream",
       "stream": "stderr",
       "text": [
        "INFO:interface:stdout 2015-01-11T18:46:56.945320:  58     -0.70285   [ 0.0669589 -0.000170509 -0.0175255 5.04686 26.7993 6.4439 ]\n"
       ]
      },
      {
       "output_type": "stream",
       "stream": "stderr",
       "text": [
        "INFO:interface:stdout 2015-01-11T18:46:57.000698:  59    -0.702845   [ 0.0669931 -0.000174506 -0.01753 5.04695 26.7991 6.44381 ]\n"
       ]
      },
      {
       "output_type": "stream",
       "stream": "stderr",
       "text": [
        "INFO:interface:stdout 2015-01-11T18:46:57.056622:  60    -0.702847   [ 0.067023 -0.00018013 -0.0175318 5.04703 26.799 6.44368 ]\n"
       ]
      },
      {
       "output_type": "stream",
       "stream": "stderr",
       "text": [
        "INFO:interface:stdout 2015-01-11T18:46:57.107703:  61    -0.702845   [ 0.0670025 -0.000180194 -0.0175266 5.04701 26.7991 6.44365 ]\n"
       ]
      },
      {
       "output_type": "stream",
       "stream": "stderr",
       "text": [
        "INFO:interface:stdout 2015-01-11T18:46:57.158667:Stop condition from optimizer.RegularStepGradientDescentOptimizerv4: Step too small after 62 iterations. Current step (4.88281e-05) is less than minimum step (5e-05).\n"
       ]
      },
      {
       "output_type": "stream",
       "stream": "stderr",
       "text": [
        "INFO:interface:stdout 2015-01-11T18:46:57.159481:\n"
       ]
      },
      {
       "output_type": "stream",
       "stream": "stderr",
       "text": [
        "INFO:interface:stdout 2015-01-11T18:46:57.159481:\n"
       ]
      },
      {
       "output_type": "stream",
       "stream": "stderr",
       "text": [
        "INFO:interface:stdout 2015-01-11T18:46:57.159481:\n"
       ]
      },
      {
       "output_type": "stream",
       "stream": "stderr",
       "text": [
        "INFO:interface:stdout 2015-01-11T18:46:57.159481:=============================== ITKv4 Registration: Starting Transform Estimations for Affine(2 of 2).===============================\n"
       ]
      },
      {
       "output_type": "stream",
       "stream": "stderr",
       "text": [
        "INFO:interface:stdout 2015-01-11T18:46:57.159481:\n"
       ]
      },
      {
       "output_type": "stream",
       "stream": "stderr",
       "text": [
        "INFO:interface:stdout 2015-01-11T18:46:57.983211:   0    -0.702865   [ 0.999821 0.0355478 -0.00221994 -0.0343908 0.991639 -0.131948 -0.00177507 0.13427 0.989052 5.05076 26.7989 6.44495 ]\n"
       ]
      },
      {
       "output_type": "stream",
       "stream": "stderr",
       "text": [
        "INFO:interface:stdout 2015-01-11T18:46:58.115299:   1    -0.706365   [ 1.00041 0.0362793 -0.00127078 -0.0333617 0.993455 -0.129822 -0.00139196 0.135146 0.986828 5.1081 26.7755 6.4301 ]\n"
       ]
      },
      {
       "output_type": "stream",
       "stream": "stderr",
       "text": [
        "INFO:interface:stdout 2015-01-11T18:46:58.278493:   2    -0.709801   [ 1.00059 0.0362503 -0.000631169 -0.032306 0.994932 -0.127336 -0.00112531 0.136089 0.985474 4.8875 26.6693 6.32929 ]\n"
       ]
      },
      {
       "output_type": "stream",
       "stream": "stderr",
       "text": [
        "INFO:interface:stdout 2015-01-11T18:46:58.503905:   3    -0.712099   [ 1.00085 0.036433 0.000272573 -0.0311554 0.996455 -0.12469 -0.000727223 0.137008 0.984229 4.79617 26.5725 6.2822 ]\n"
       ]
      },
      {
       "output_type": "stream",
       "stream": "stderr",
       "text": [
        "INFO:interface:stdout 2015-01-11T18:46:58.660451:   4    -0.713441   [ 1.0015 0.0369792 0.00248616 -0.0284829 0.999911 -0.118976 0.000166481 0.139045 0.981601 4.78169 26.3878 6.2473 ]\n"
       ]
      },
      {
       "output_type": "stream",
       "stream": "stderr",
       "text": [
        "INFO:interface:stdout 2015-01-11T18:46:58.822726:   5    -0.715711   [ 1.00164 0.0372004 0.0031707 -0.0276923 1.00085 -0.117831 0.000372573 0.139424 0.981606 4.97906 26.3514 6.33069 ]\n"
       ]
      },
      {
       "output_type": "stream",
       "stream": "stderr",
       "text": [
        "INFO:interface:stdout 2015-01-11T18:46:58.953859:   6    -0.718091   [ 1.00157 0.0370395 0.00294097 -0.0273489 1.00135 -0.117876 0.000410008 0.13939 0.982221 4.96856 26.3505 6.36436 ]\n"
       ]
      },
      {
       "output_type": "stream",
       "stream": "stderr",
       "text": [
        "INFO:interface:stdout 2015-01-11T18:46:59.115569:   7    -0.718414   [ 1.00138 0.0367521 0.00213473 -0.0266309 1.00244 -0.117918 0.000552245 0.139371 0.983715 4.93216 26.3934 6.36835 ]\n"
       ]
      },
      {
       "output_type": "stream",
       "stream": "stderr",
       "text": [
        "INFO:interface:stdout 2015-01-11T18:46:59.305089:   8    -0.719063   [ 1.00136 0.0367742 0.00192088 -0.0263916 1.00264 -0.118083 0.000570166 0.139279 0.983845 4.98014 26.395 6.33271 ]\n"
       ]
      },
      {
       "output_type": "stream",
       "stream": "stderr",
       "text": [
        "INFO:interface:stdout 2015-01-11T18:46:59.475325:   9    -0.719339   [ 1.00128 0.0367455 0.00167906 -0.0260035 1.00287 -0.118402 0.000592235 0.139163 0.983977 4.9796 26.3944 6.31349 ]\n"
       ]
      },
      {
       "output_type": "stream",
       "stream": "stderr",
       "text": [
        "INFO:interface:stdout 2015-01-11T18:46:59.635507:  10    -0.719469   [ 1.00118 0.0366912 0.00152272 -0.0255297 1.0031 -0.118767 0.000632782 0.139071 0.984199 4.96493 26.4019 6.3239 ]\n"
       ]
      },
      {
       "output_type": "stream",
       "stream": "stderr",
       "text": [
        "INFO:interface:stdout 2015-01-11T18:46:59.801418:  11    -0.719497   [ 1.00113 0.0366412 0.00159046 -0.0252234 1.00315 -0.118894 0.000716238 0.139074 0.984214 4.97774 26.417 6.34456 ]\n"
       ]
      },
      {
       "output_type": "stream",
       "stream": "stderr",
       "text": [
        "INFO:interface:stdout 2015-01-11T18:46:59.964322:  12    -0.719555   [ 1.00107 0.0365814 0.0015982 -0.0248603 1.00314 -0.118914 0.000833301 0.139069 0.984069 4.98396 26.4399 6.34449 ]\n"
       ]
      },
      {
       "output_type": "stream",
       "stream": "stderr",
       "text": [
        "INFO:interface:stdout 2015-01-11T18:47:00.155773:  13    -0.719623   [ 1.00096 0.0364745 0.00155643 -0.0241807 1.00317 -0.118976 0.0010541 0.139033 0.983794 4.99265 26.4638 6.34757 ]\n"
       ]
      },
      {
       "output_type": "stream",
       "stream": "stderr",
       "text": [
        "INFO:interface:stdout 2015-01-11T18:47:00.333252:  14    -0.719626   [ 1.00095 0.036465 0.00144141 -0.0241285 1.00326 -0.119048 0.0010628 0.138995 0.983827 4.98383 26.4305 6.35223 ]\n"
       ]
      },
      {
       "output_type": "stream",
       "stream": "stderr",
       "text": [
        "INFO:interface:stdout 2015-01-11T18:47:00.500895:  15    -0.719675   [ 1.00092 0.0364275 0.001332 -0.0240705 1.00327 -0.118976 0.00110479 0.138974 0.983811 4.97925 26.4278 6.34383 ]\n"
       ]
      },
      {
       "output_type": "stream",
       "stream": "stderr",
       "text": [
        "INFO:interface:stdout 2015-01-11T18:47:00.662194:  16     -0.71974   [ 1.00087 0.0363494 0.00113404 -0.0239324 1.00329 -0.118794 0.00120784 0.138933 0.983795 4.98117 26.4314 6.3374 ]\n"
       ]
      },
      {
       "output_type": "stream",
       "stream": "stderr",
       "text": [
        "INFO:interface:stdout 2015-01-11T18:47:00.800325:  17    -0.719797   [ 1.0007 0.036111 0.000609207 -0.0234772 1.00334 -0.118302 0.00151965 0.138806 0.983878 4.99646 26.4382 6.35182 ]\n"
       ]
      },
      {
       "output_type": "stream",
       "stream": "stderr",
       "text": [
        "INFO:interface:stdout 2015-01-11T18:47:00.962581:  18    -0.719862   [ 1.00016 0.0353285 -0.000897161 -0.0220086 1.00356 -0.116804 0.00247536 0.138437 0.98436 5.00568 26.4291 6.38701 ]\n"
       ]
      },
      {
       "output_type": "stream",
       "stream": "stderr",
       "text": [
        "INFO:interface:stdout 2015-01-11T18:47:01.123143:  19     -0.71996   [ 0.999824 0.0347905 -0.00165775 -0.0209069 1.00378 -0.115857 0.003107 0.138211 0.984573 5.01603 26.3935 6.38487 ]\n"
       ]
      },
      {
       "output_type": "stream",
       "stream": "stderr",
       "text": [
        "INFO:interface:stdout 2015-01-11T18:47:01.284579:  20     -0.72016   [ 0.999762 0.0346848 -0.00155491 -0.0204925 1.0039 -0.115647 0.00326823 0.138203 0.984528 5.04809 26.3696 6.36062 ]\n"
       ]
      },
      {
       "output_type": "stream",
       "stream": "stderr",
       "text": [
        "INFO:interface:stdout 2015-01-11T18:47:01.420264:  21    -0.720292   [ 0.999858 0.0346813 -0.00111214 -0.0204636 1.00396 -0.115841 0.00319494 0.138291 0.984447 5.05345 26.3673 6.35355 ]\n"
       ]
      },
      {
       "output_type": "stream",
       "stream": "stderr",
       "text": [
        "INFO:interface:stdout 2015-01-11T18:47:01.576353:  22    -0.720303   [ 1.00003 0.0346476 -0.000429539 -0.0204289 1.00407 -0.11633 0.00303478 0.138435 0.984314 5.05404 26.3601 6.34769 ]\n"
       ]
      },
      {
       "output_type": "stream",
       "stream": "stderr",
       "text": [
        "INFO:interface:stdout 2015-01-11T18:47:01.734174:  23    -0.720363   [ 1.00007 0.034598 -0.000422033 -0.0204523 1.00408 -0.116432 0.00298082 0.138487 0.984388 5.0447 26.3706 6.35811 ]\n"
       ]
      },
      {
       "output_type": "stream",
       "stream": "stderr",
       "text": [
        "INFO:interface:stdout 2015-01-11T18:47:01.867970:  24    -0.720438   [ 1.00014 0.0345377 -0.000355251 -0.0204545 1.0041 -0.116657 0.0029039 0.138537 0.984377 5.04343 26.3791 6.35367 ]\n"
       ]
      },
      {
       "output_type": "stream",
       "stream": "stderr",
       "text": [
        "INFO:interface:stdout 2015-01-11T18:47:02.080782:  25    -0.720468   [ 1.00029 0.034428 -0.00024773 -0.020444 1.00417 -0.117091 0.00275179 0.138651 0.984374 5.04331 26.3977 6.35429 ]\n"
       ]
      },
      {
       "output_type": "stream",
       "stream": "stderr",
       "text": [
        "INFO:interface:stdout 2015-01-11T18:47:02.451396:  26    -0.720499   [ 1.00031 0.0344201 -0.000240638 -0.0204393 1.00418 -0.117119 0.00273801 0.138662 0.984374 5.04303 26.3983 6.35527 ]\n"
       ]
      },
      {
       "output_type": "stream",
       "stream": "stderr",
       "text": [
        "INFO:interface:stdout 2015-01-11T18:47:02.633411:  27      -0.7205   [ 1.00032 0.034418 -0.000238817 -0.0204356 1.00419 -0.117122 0.0027328 0.138666 0.984374 5.04274 26.398 6.3559 ]\n"
       ]
      },
      {
       "output_type": "stream",
       "stream": "stderr",
       "text": [
        "INFO:interface:stdout 2015-01-11T18:47:02.825517:  28    -0.720498   [ 1.00033 0.0344153 -0.000236567 -0.0204313 1.0042 -0.117126 0.00272661 0.138672 0.984374 5.04242 26.3977 6.35646 ]\n"
       ]
      },
      {
       "output_type": "stream",
       "stream": "stderr",
       "text": [
        "INFO:interface:stdout 2015-01-11T18:47:03.008688:  29    -0.720498   [ 1.00034 0.0344106 -0.000232617 -0.0204243 1.00421 -0.117132 0.00271618 0.138681 0.984372 5.04193 26.3975 6.35712 ]\n"
       ]
      },
      {
       "output_type": "stream",
       "stream": "stderr",
       "text": [
        "INFO:interface:stdout 2015-01-11T18:47:03.257651:  30    -0.720498   [ 1.00035 0.034408 -0.000230332 -0.0204206 1.00422 -0.117134 0.0027105 0.138685 0.984371 5.04169 26.3974 6.35729 ]\n"
       ]
      },
      {
       "output_type": "stream",
       "stream": "stderr",
       "text": [
        "INFO:interface:stdout 2015-01-11T18:47:03.462717:  31    -0.720502   [ 1.00035 0.0344062 -0.000228809 -0.0204183 1.00422 -0.117136 0.00270682 0.138688 0.984371 5.04155 26.3975 6.35736 ]\n"
       ]
      },
      {
       "output_type": "stream",
       "stream": "stderr",
       "text": [
        "INFO:interface:stdout 2015-01-11T18:47:03.601749:  32    -0.720501   [ 1.00036 0.0344033 -0.000226189 -0.0204144 1.00423 -0.117139 0.00270059 0.138693 0.98437 5.04133 26.3975 6.35746 ]\n"
       ]
      },
      {
       "output_type": "stream",
       "stream": "stderr",
       "text": [
        "INFO:interface:stdout 2015-01-11T18:47:03.736122:  33      -0.7205   [ 1.00038 0.0343983 -0.000221651 -0.0204079 1.00424 -0.117143 0.00269003 0.138701 0.984368 5.04097 26.3975 6.35755 ]\n"
       ]
      },
      {
       "output_type": "stream",
       "stream": "stderr",
       "text": [
        "INFO:interface:stdout 2015-01-11T18:47:03.786194:Stop condition from optimizer.ConjugateGradientLineSearchOptimizerv4Template: Convergence checker passed at iteration 34.\n"
       ]
      },
      {
       "output_type": "stream",
       "stream": "stderr",
       "text": [
        "INFO:workflow:Executing node ResampleToB0Space in dir: /scratch/TESTS/IpythonNotebook/1_DWI_Nipype_workflow/DWIWorkflow_823955340_20080609_30/ResampleToB0Space\n"
       ]
      },
      {
       "output_type": "stream",
       "stream": "stderr",
       "text": [
        "INFO:workflow:Executing node _ResampleToB0Space0 in dir: /scratch/TESTS/IpythonNotebook/1_DWI_Nipype_workflow/DWIWorkflow_823955340_20080609_30/ResampleToB0Space/mapflow/_ResampleToB0Space0\n"
       ]
      },
      {
       "output_type": "stream",
       "stream": "stderr",
       "text": [
        "INFO:workflow:Running:  BRAINSResample  --inputVolume /Volumes/scratch/TESTS/IpythonNotebook/1_DWI_Nipype_workflow/DWIWorkflow_823955340_20080609_30/ExtractBRAINFromHead/T2Stripped.nrrd --interpolationMode Linear --outputVolume T2toB0.nrrd --pixelType ushort --referenceVolume /Volumes/scratch/TESTS/IpythonNotebook/1_DWI_Nipype_workflow/DWIWorkflow_823955340_20080609_30/EXTRACT_B0/B0_Image.nrrd --warpTransform /Volumes/scratch/TESTS/IpythonNotebook/1_DWI_Nipype_workflow/DWIWorkflow_823955340_20080609_30/BFit_T2toB0/T2ToB0_RigidTransform.h5\n"
       ]
      },
      {
       "output_type": "stream",
       "stream": "stderr",
       "text": [
        "INFO:interface:stdout 2015-01-11T18:47:04.435365:=====================================================\n"
       ]
      },
      {
       "output_type": "stream",
       "stream": "stderr",
       "text": [
        "INFO:interface:stdout 2015-01-11T18:47:04.435365:Input Volume:     /Volumes/scratch/TESTS/IpythonNotebook/1_DWI_Nipype_workflow/DWIWorkflow_823955340_20080609_30/ExtractBRAINFromHead/T2Stripped.nrrd\n"
       ]
      },
      {
       "output_type": "stream",
       "stream": "stderr",
       "text": [
        "INFO:interface:stdout 2015-01-11T18:47:04.435365:Reference Volume: /Volumes/scratch/TESTS/IpythonNotebook/1_DWI_Nipype_workflow/DWIWorkflow_823955340_20080609_30/EXTRACT_B0/B0_Image.nrrd\n"
       ]
      },
      {
       "output_type": "stream",
       "stream": "stderr",
       "text": [
        "INFO:interface:stdout 2015-01-11T18:47:04.435365:Output Volume:    T2toB0.nrrd\n"
       ]
      },
      {
       "output_type": "stream",
       "stream": "stderr",
       "text": [
        "INFO:interface:stdout 2015-01-11T18:47:04.435365:Pixel Type:       ushort\n"
       ]
      },
      {
       "output_type": "stream",
       "stream": "stderr",
       "text": [
        "INFO:interface:stdout 2015-01-11T18:47:04.438504:Interpolation:    Linear\n"
       ]
      },
      {
       "output_type": "stream",
       "stream": "stderr",
       "text": [
        "INFO:interface:stdout 2015-01-11T18:47:04.438504:Background Value: 0\n"
       ]
      },
      {
       "output_type": "stream",
       "stream": "stderr",
       "text": [
        "INFO:interface:stdout 2015-01-11T18:47:04.438504:Warp By Transform: /Volumes/scratch/TESTS/IpythonNotebook/1_DWI_Nipype_workflow/DWIWorkflow_823955340_20080609_30/BFit_T2toB0/T2ToB0_RigidTransform.h5\n"
       ]
      },
      {
       "output_type": "stream",
       "stream": "stderr",
       "text": [
        "INFO:interface:stdout 2015-01-11T18:47:04.438504:=====================================================\n"
       ]
      },
      {
       "output_type": "stream",
       "stream": "stderr",
       "text": [
        "INFO:interface:stdout 2015-01-11T18:47:04.532866:Read ITK transform from file: /Volumes/scratch/TESTS/IpythonNotebook/1_DWI_Nipype_workflow/DWIWorkflow_823955340_20080609_30/BFit_T2toB0/T2ToB0_RigidTransform.h5\n"
       ]
      },
      {
       "output_type": "stream",
       "stream": "stderr",
       "text": [
        "INFO:interface:stdout 2015-01-11T18:47:04.625205:HACK: 0  VersorRigid3DTransform\n"
       ]
      },
      {
       "output_type": "stream",
       "stream": "stderr",
       "text": [
        "INFO:workflow:Executing node _ResampleToB0Space1 in dir: /scratch/TESTS/IpythonNotebook/1_DWI_Nipype_workflow/DWIWorkflow_823955340_20080609_30/ResampleToB0Space/mapflow/_ResampleToB0Space1\n"
       ]
      },
      {
       "output_type": "stream",
       "stream": "stderr",
       "text": [
        "INFO:workflow:Running:  BRAINSResample  --inputVolume /Shared/sinapse/CACHE/20141124_TrackOn_base_Results/HDNI_003/823955340/823955340_20080609_30/TissueClassify/complete_brainlabels_seg.nii.gz --interpolationMode NearestNeighbor --outputVolume BRAINMaskToB0.nrrd --pixelType binary --referenceVolume /Volumes/scratch/TESTS/IpythonNotebook/1_DWI_Nipype_workflow/DWIWorkflow_823955340_20080609_30/EXTRACT_B0/B0_Image.nrrd --warpTransform /Volumes/scratch/TESTS/IpythonNotebook/1_DWI_Nipype_workflow/DWIWorkflow_823955340_20080609_30/BFit_T2toB0/T2ToB0_RigidTransform.h5\n"
       ]
      },
      {
       "output_type": "stream",
       "stream": "stderr",
       "text": [
        "INFO:interface:stdout 2015-01-11T18:47:04.786936:=====================================================\n"
       ]
      },
      {
       "output_type": "stream",
       "stream": "stderr",
       "text": [
        "INFO:interface:stdout 2015-01-11T18:47:04.786936:Input Volume:     /Shared/sinapse/CACHE/20141124_TrackOn_base_Results/HDNI_003/823955340/823955340_20080609_30/TissueClassify/complete_brainlabels_seg.nii.gz\n"
       ]
      },
      {
       "output_type": "stream",
       "stream": "stderr",
       "text": [
        "INFO:interface:stdout 2015-01-11T18:47:04.786936:Reference Volume: /Volumes/scratch/TESTS/IpythonNotebook/1_DWI_Nipype_workflow/DWIWorkflow_823955340_20080609_30/EXTRACT_B0/B0_Image.nrrd\n"
       ]
      },
      {
       "output_type": "stream",
       "stream": "stderr",
       "text": [
        "INFO:interface:stdout 2015-01-11T18:47:04.786936:Output Volume:    BRAINMaskToB0.nrrd\n"
       ]
      },
      {
       "output_type": "stream",
       "stream": "stderr",
       "text": [
        "INFO:interface:stdout 2015-01-11T18:47:04.786936:Pixel Type:       binary\n"
       ]
      },
      {
       "output_type": "stream",
       "stream": "stderr",
       "text": [
        "INFO:interface:stdout 2015-01-11T18:47:04.786936:Interpolation:    NearestNeighbor\n"
       ]
      },
      {
       "output_type": "stream",
       "stream": "stderr",
       "text": [
        "INFO:interface:stdout 2015-01-11T18:47:04.790654:Background Value: 0\n"
       ]
      },
      {
       "output_type": "stream",
       "stream": "stderr",
       "text": [
        "INFO:interface:stdout 2015-01-11T18:47:04.790654:Warp By Transform: /Volumes/scratch/TESTS/IpythonNotebook/1_DWI_Nipype_workflow/DWIWorkflow_823955340_20080609_30/BFit_T2toB0/T2ToB0_RigidTransform.h5\n"
       ]
      },
      {
       "output_type": "stream",
       "stream": "stderr",
       "text": [
        "INFO:interface:stdout 2015-01-11T18:47:04.790654:=====================================================\n"
       ]
      },
      {
       "output_type": "stream",
       "stream": "stderr",
       "text": [
        "INFO:interface:stdout 2015-01-11T18:47:04.891800:Read ITK transform from file: /Volumes/scratch/TESTS/IpythonNotebook/1_DWI_Nipype_workflow/DWIWorkflow_823955340_20080609_30/BFit_T2toB0/T2ToB0_RigidTransform.h5\n"
       ]
      },
      {
       "output_type": "stream",
       "stream": "stderr",
       "text": [
        "INFO:interface:stdout 2015-01-11T18:47:04.898770:HACK: 0  VersorRigid3DTransform\n"
       ]
      },
      {
       "output_type": "stream",
       "stream": "stderr",
       "text": [
        "INFO:interface:stdout 2015-01-11T18:47:04.898770:WARNING:  Using NearestNeighbor and SignedDistance\n"
       ]
      },
      {
       "output_type": "stream",
       "stream": "stderr",
       "text": [
        "INFO:interface:stdout 2015-01-11T18:47:04.899738:          for binary images is an unlikely combination.\n"
       ]
      },
      {
       "output_type": "stream",
       "stream": "stderr",
       "text": [
        "INFO:interface:stdout 2015-01-11T18:47:04.899738:          you probably want Linear interpolationMode for\n"
       ]
      },
      {
       "output_type": "stream",
       "stream": "stderr",
       "text": [
        "INFO:interface:stdout 2015-01-11T18:47:04.899738:          the signed distance map implied by your choice\n"
       ]
      },
      {
       "output_type": "stream",
       "stream": "stderr",
       "text": [
        "INFO:interface:stdout 2015-01-11T18:47:04.899738:          of pixelType binary.\n"
       ]
      },
      {
       "output_type": "stream",
       "stream": "stderr",
       "text": [
        "INFO:workflow:Executing node SaveDirectionCosineToMatrix in dir: /scratch/TESTS/IpythonNotebook/1_DWI_Nipype_workflow/DWIWorkflow_823955340_20080609_30/SaveDirectionCosineToMatrix\n"
       ]
      },
      {
       "output_type": "stream",
       "stream": "stderr",
       "text": [
        "INFO:workflow:Executing node CreateAntsRegistrationMask in dir: /scratch/TESTS/IpythonNotebook/1_DWI_Nipype_workflow/DWIWorkflow_823955340_20080609_30/CreateAntsRegistrationMask\n"
       ]
      },
      {
       "output_type": "stream",
       "stream": "stderr",
       "text": [
        "INFO:workflow:Executing node MakeForceDCFilesListNode in dir: /scratch/TESTS/IpythonNotebook/1_DWI_Nipype_workflow/DWIWorkflow_823955340_20080609_30/MakeForceDCFilesListNode\n"
       ]
      },
      {
       "output_type": "stream",
       "stream": "stderr",
       "text": [
        "INFO:workflow:Executing node ForceDCtoID in dir: /scratch/TESTS/IpythonNotebook/1_DWI_Nipype_workflow/DWIWorkflow_823955340_20080609_30/ForceDCtoID\n"
       ]
      },
      {
       "output_type": "stream",
       "stream": "stderr",
       "text": [
        "INFO:workflow:Executing node _ForceDCtoID0 in dir: /scratch/TESTS/IpythonNotebook/1_DWI_Nipype_workflow/DWIWorkflow_823955340_20080609_30/ForceDCtoID/mapflow/_ForceDCtoID0\n"
       ]
      },
      {
       "output_type": "stream",
       "stream": "stderr",
       "text": [
        "INFO:workflow:Executing node _ForceDCtoID1 in dir: /scratch/TESTS/IpythonNotebook/1_DWI_Nipype_workflow/DWIWorkflow_823955340_20080609_30/ForceDCtoID/mapflow/_ForceDCtoID1\n"
       ]
      },
      {
       "output_type": "stream",
       "stream": "stderr",
       "text": [
        "INFO:workflow:Executing node _ForceDCtoID2 in dir: /scratch/TESTS/IpythonNotebook/1_DWI_Nipype_workflow/DWIWorkflow_823955340_20080609_30/ForceDCtoID/mapflow/_ForceDCtoID2\n"
       ]
      },
      {
       "output_type": "stream",
       "stream": "stderr",
       "text": [
        "INFO:workflow:Executing node antsReg_B0ToTransformedT2 in dir: /scratch/TESTS/IpythonNotebook/1_DWI_Nipype_workflow/DWIWorkflow_823955340_20080609_30/antsReg_B0ToTransformedT2\n"
       ]
      },
      {
       "output_type": "stream",
       "stream": "stderr",
       "text": [
        "INFO:workflow:Running: antsRegistration --float 1 --restrict-deformation 0x1x0 --collapse-output-transforms 0 --dimensionality 3 --masks /Volumes/scratch/TESTS/IpythonNotebook/1_DWI_Nipype_workflow/DWIWorkflow_823955340_20080609_30/ForceDCtoID/mapflow/_ForceDCtoID2/IDDC_registrationMask.nrrd --initialize-transforms-per-stage 0 --interpolation Linear --output Tsyn --transform SyN[ 0.25, 3.0, 0.0 ] --metric MI[ /Volumes/scratch/TESTS/IpythonNotebook/1_DWI_Nipype_workflow/DWIWorkflow_823955340_20080609_30/ForceDCtoID/mapflow/_ForceDCtoID1/IDDC_T2toB0.nrrd, /Volumes/scratch/TESTS/IpythonNotebook/1_DWI_Nipype_workflow/DWIWorkflow_823955340_20080609_30/ForceDCtoID/mapflow/_ForceDCtoID0/IDDC_B0_Image.nrrd, 1, 32, None, 1 ] --convergence [ 70x50x40, 1e-06, 10 ] --smoothing-sigmas 2.0x1.0x0.0vox --shrink-factors 3x2x1 --use-estimate-learning-rate-once 0 --use-histogram-matching 1 --winsorize-image-intensities [ 0.01, 0.99 ]  --write-composite-transform 1\n"
       ]
      },
      {
       "output_type": "stream",
       "stream": "stderr",
       "text": [
        "INFO:interface:stdout 2015-01-11T18:47:06.631339:All_Command_lines_OK\n"
       ]
      },
      {
       "output_type": "stream",
       "stream": "stderr",
       "text": [
        "INFO:interface:stdout 2015-01-11T18:47:06.631339:Using single precision for computations.\n"
       ]
      },
      {
       "output_type": "stream",
       "stream": "stderr",
       "text": [
        "INFO:interface:stdout 2015-01-11T18:47:06.722329:  number of levels = 3\n"
       ]
      },
      {
       "output_type": "stream",
       "stream": "stderr",
       "text": [
        "INFO:interface:stdout 2015-01-11T18:47:06.723074:  fixed image: /Volumes/scratch/TESTS/IpythonNotebook/1_DWI_Nipype_workflow/DWIWorkflow_823955340_20080609_30/ForceDCtoID/mapflow/_ForceDCtoID1/IDDC_T2toB0.nrrd\n"
       ]
      },
      {
       "output_type": "stream",
       "stream": "stderr",
       "text": [
        "INFO:interface:stdout 2015-01-11T18:47:06.723074:  moving image: /Volumes/scratch/TESTS/IpythonNotebook/1_DWI_Nipype_workflow/DWIWorkflow_823955340_20080609_30/ForceDCtoID/mapflow/_ForceDCtoID0/IDDC_B0_Image.nrrd\n"
       ]
      },
      {
       "output_type": "stream",
       "stream": "stderr",
       "text": [
        "INFO:interface:stdout 2015-01-11T18:47:06.740586:Dimension = 3\n"
       ]
      },
      {
       "output_type": "stream",
       "stream": "stderr",
       "text": [
        "INFO:interface:stdout 2015-01-11T18:47:06.740586:Number of stages = 1\n"
       ]
      },
      {
       "output_type": "stream",
       "stream": "stderr",
       "text": [
        "INFO:interface:stdout 2015-01-11T18:47:06.740586:Use Histogram Matching true\n"
       ]
      },
      {
       "output_type": "stream",
       "stream": "stderr",
       "text": [
        "INFO:interface:stdout 2015-01-11T18:47:06.740586:Winsorize image intensities false\n"
       ]
      },
      {
       "output_type": "stream",
       "stream": "stderr",
       "text": [
        "INFO:interface:stdout 2015-01-11T18:47:06.740586:Lower quantile = 0\n"
       ]
      },
      {
       "output_type": "stream",
       "stream": "stderr",
       "text": [
        "INFO:interface:stdout 2015-01-11T18:47:06.740586:Upper quantile = 1\n"
       ]
      },
      {
       "output_type": "stream",
       "stream": "stderr",
       "text": [
        "INFO:interface:stdout 2015-01-11T18:47:06.740586:Stage 1 State\n"
       ]
      },
      {
       "output_type": "stream",
       "stream": "stderr",
       "text": [
        "INFO:interface:stdout 2015-01-11T18:47:06.740586:   Image metric = Mattes\n"
       ]
      },
      {
       "output_type": "stream",
       "stream": "stderr",
       "text": [
        "INFO:interface:stdout 2015-01-11T18:47:06.744023:     Fixed image = Image (0x7f98ad047be0)\n"
       ]
      },
      {
       "output_type": "stream",
       "stream": "stderr",
       "text": [
        "INFO:interface:stdout 2015-01-11T18:47:06.744023:  RTTI typeinfo:   itk::Image<float, 3u>\n"
       ]
      },
      {
       "output_type": "stream",
       "stream": "stderr",
       "text": [
        "INFO:interface:stdout 2015-01-11T18:47:06.744023:  Reference Count: 2\n"
       ]
      },
      {
       "output_type": "stream",
       "stream": "stderr",
       "text": [
        "INFO:interface:stdout 2015-01-11T18:47:06.744023:  Modified Time: 979\n"
       ]
      },
      {
       "output_type": "stream",
       "stream": "stderr",
       "text": [
        "INFO:interface:stdout 2015-01-11T18:47:06.744023:  Debug: Off\n"
       ]
      },
      {
       "output_type": "stream",
       "stream": "stderr",
       "text": [
        "INFO:interface:stdout 2015-01-11T18:47:06.744023:  Object Name: \n"
       ]
      },
      {
       "output_type": "stream",
       "stream": "stderr",
       "text": [
        "INFO:interface:stdout 2015-01-11T18:47:06.744023:  Observers: \n"
       ]
      },
      {
       "output_type": "stream",
       "stream": "stderr",
       "text": [
        "INFO:interface:stdout 2015-01-11T18:47:06.744023:    none\n"
       ]
      },
      {
       "output_type": "stream",
       "stream": "stderr",
       "text": [
        "INFO:interface:stdout 2015-01-11T18:47:06.744023:  Source: (none)\n"
       ]
      },
      {
       "output_type": "stream",
       "stream": "stderr",
       "text": [
        "INFO:interface:stdout 2015-01-11T18:47:06.744023:  Source output name: (none)\n"
       ]
      },
      {
       "output_type": "stream",
       "stream": "stderr",
       "text": [
        "INFO:interface:stdout 2015-01-11T18:47:06.744023:  Release Data: Off\n"
       ]
      },
      {
       "output_type": "stream",
       "stream": "stderr",
       "text": [
        "INFO:interface:stdout 2015-01-11T18:47:06.744023:  Data Released: False\n"
       ]
      },
      {
       "output_type": "stream",
       "stream": "stderr",
       "text": [
        "INFO:interface:stdout 2015-01-11T18:47:06.744023:  Global Release Data: Off\n"
       ]
      },
      {
       "output_type": "stream",
       "stream": "stderr",
       "text": [
        "INFO:interface:stdout 2015-01-11T18:47:06.744023:  PipelineMTime: 0\n"
       ]
      },
      {
       "output_type": "stream",
       "stream": "stderr",
       "text": [
        "INFO:interface:stdout 2015-01-11T18:47:06.744023:  UpdateMTime: 796\n"
       ]
      },
      {
       "output_type": "stream",
       "stream": "stderr",
       "text": [
        "INFO:interface:stdout 2015-01-11T18:47:06.744023:  RealTimeStamp: 0 seconds \n"
       ]
      },
      {
       "output_type": "stream",
       "stream": "stderr",
       "text": [
        "INFO:interface:stdout 2015-01-11T18:47:06.744023:  LargestPossibleRegion: \n"
       ]
      },
      {
       "output_type": "stream",
       "stream": "stderr",
       "text": [
        "INFO:interface:stdout 2015-01-11T18:47:06.744023:    Dimension: 3\n"
       ]
      },
      {
       "output_type": "stream",
       "stream": "stderr",
       "text": [
        "INFO:interface:stdout 2015-01-11T18:47:06.744023:    Index: [0, 0, 0]\n"
       ]
      },
      {
       "output_type": "stream",
       "stream": "stderr",
       "text": [
        "INFO:interface:stdout 2015-01-11T18:47:06.744023:    Size: [112, 112, 64]\n"
       ]
      },
      {
       "output_type": "stream",
       "stream": "stderr",
       "text": [
        "INFO:interface:stdout 2015-01-11T18:47:06.744023:  BufferedRegion: \n"
       ]
      },
      {
       "output_type": "stream",
       "stream": "stderr",
       "text": [
        "INFO:interface:stdout 2015-01-11T18:47:06.744023:    Dimension: 3\n"
       ]
      },
      {
       "output_type": "stream",
       "stream": "stderr",
       "text": [
        "INFO:interface:stdout 2015-01-11T18:47:06.744023:    Index: [0, 0, 0]\n"
       ]
      },
      {
       "output_type": "stream",
       "stream": "stderr",
       "text": [
        "INFO:interface:stdout 2015-01-11T18:47:06.744023:    Size: [112, 112, 64]\n"
       ]
      },
      {
       "output_type": "stream",
       "stream": "stderr",
       "text": [
        "INFO:interface:stdout 2015-01-11T18:47:06.744023:  RequestedRegion: \n"
       ]
      },
      {
       "output_type": "stream",
       "stream": "stderr",
       "text": [
        "INFO:interface:stdout 2015-01-11T18:47:06.744023:    Dimension: 3\n"
       ]
      },
      {
       "output_type": "stream",
       "stream": "stderr",
       "text": [
        "INFO:interface:stdout 2015-01-11T18:47:06.744023:    Index: [0, 0, 0]\n"
       ]
      },
      {
       "output_type": "stream",
       "stream": "stderr",
       "text": [
        "INFO:interface:stdout 2015-01-11T18:47:06.744023:    Size: [112, 112, 64]\n"
       ]
      },
      {
       "output_type": "stream",
       "stream": "stderr",
       "text": [
        "INFO:interface:stdout 2015-01-11T18:47:06.744023:  Spacing: [1.96429, 1.96429, 2]\n"
       ]
      },
      {
       "output_type": "stream",
       "stream": "stderr",
       "text": [
        "INFO:interface:stdout 2015-01-11T18:47:06.744023:  Origin: [-109.009, -109.767, -56.6923]\n"
       ]
      },
      {
       "output_type": "stream",
       "stream": "stderr",
       "text": [
        "INFO:interface:stdout 2015-01-11T18:47:06.744023:  Direction: \n"
       ]
      },
      {
       "output_type": "stream",
       "stream": "stderr",
       "text": [
        "INFO:interface:stdout 2015-01-11T18:47:06.744023:1 0 0\n"
       ]
      },
      {
       "output_type": "stream",
       "stream": "stderr",
       "text": [
        "INFO:interface:stdout 2015-01-11T18:47:06.744023:0 1 0\n"
       ]
      },
      {
       "output_type": "stream",
       "stream": "stderr",
       "text": [
        "INFO:interface:stdout 2015-01-11T18:47:06.744023:0 0 1\n"
       ]
      },
      {
       "output_type": "stream",
       "stream": "stderr",
       "text": [
        "INFO:interface:stdout 2015-01-11T18:47:06.744023:\n"
       ]
      },
      {
       "output_type": "stream",
       "stream": "stderr",
       "text": [
        "INFO:interface:stdout 2015-01-11T18:47:06.744023:  IndexToPointMatrix: \n"
       ]
      },
      {
       "output_type": "stream",
       "stream": "stderr",
       "text": [
        "INFO:interface:stdout 2015-01-11T18:47:06.744023:1.96429 0 0\n"
       ]
      },
      {
       "output_type": "stream",
       "stream": "stderr",
       "text": [
        "INFO:interface:stdout 2015-01-11T18:47:06.744023:0 1.96429 0\n"
       ]
      },
      {
       "output_type": "stream",
       "stream": "stderr",
       "text": [
        "INFO:interface:stdout 2015-01-11T18:47:06.744023:0 0 2\n"
       ]
      },
      {
       "output_type": "stream",
       "stream": "stderr",
       "text": [
        "INFO:interface:stdout 2015-01-11T18:47:06.744023:\n"
       ]
      },
      {
       "output_type": "stream",
       "stream": "stderr",
       "text": [
        "INFO:interface:stdout 2015-01-11T18:47:06.744023:  PointToIndexMatrix: \n"
       ]
      },
      {
       "output_type": "stream",
       "stream": "stderr",
       "text": [
        "INFO:interface:stdout 2015-01-11T18:47:06.744023:0.509091 0 0\n"
       ]
      },
      {
       "output_type": "stream",
       "stream": "stderr",
       "text": [
        "INFO:interface:stdout 2015-01-11T18:47:06.744023:0 0.509091 0\n"
       ]
      },
      {
       "output_type": "stream",
       "stream": "stderr",
       "text": [
        "INFO:interface:stdout 2015-01-11T18:47:06.744023:0 0 0.5\n"
       ]
      },
      {
       "output_type": "stream",
       "stream": "stderr",
       "text": [
        "INFO:interface:stdout 2015-01-11T18:47:06.744023:\n"
       ]
      },
      {
       "output_type": "stream",
       "stream": "stderr",
       "text": [
        "INFO:interface:stdout 2015-01-11T18:47:06.744023:  Inverse Direction: \n"
       ]
      },
      {
       "output_type": "stream",
       "stream": "stderr",
       "text": [
        "INFO:interface:stdout 2015-01-11T18:47:06.744023:1 0 0\n"
       ]
      },
      {
       "output_type": "stream",
       "stream": "stderr",
       "text": [
        "INFO:interface:stdout 2015-01-11T18:47:06.744023:0 1 0\n"
       ]
      },
      {
       "output_type": "stream",
       "stream": "stderr",
       "text": [
        "INFO:interface:stdout 2015-01-11T18:47:06.744023:0 0 1\n"
       ]
      },
      {
       "output_type": "stream",
       "stream": "stderr",
       "text": [
        "INFO:interface:stdout 2015-01-11T18:47:06.744023:\n"
       ]
      },
      {
       "output_type": "stream",
       "stream": "stderr",
       "text": [
        "INFO:interface:stdout 2015-01-11T18:47:06.744023:  PixelContainer: \n"
       ]
      },
      {
       "output_type": "stream",
       "stream": "stderr",
       "text": [
        "INFO:interface:stdout 2015-01-11T18:47:06.744023:    ImportImageContainer (0x7f98ad047f00)\n"
       ]
      },
      {
       "output_type": "stream",
       "stream": "stderr",
       "text": [
        "INFO:interface:stdout 2015-01-11T18:47:06.744023:      RTTI typeinfo:   itk::ImportImageContainer<unsigned long, float>\n"
       ]
      },
      {
       "output_type": "stream",
       "stream": "stderr",
       "text": [
        "INFO:interface:stdout 2015-01-11T18:47:06.744023:      Reference Count: 1\n"
       ]
      },
      {
       "output_type": "stream",
       "stream": "stderr",
       "text": [
        "INFO:interface:stdout 2015-01-11T18:47:06.744023:      Modified Time: 793\n"
       ]
      },
      {
       "output_type": "stream",
       "stream": "stderr",
       "text": [
        "INFO:interface:stdout 2015-01-11T18:47:06.744023:      Debug: Off\n"
       ]
      },
      {
       "output_type": "stream",
       "stream": "stderr",
       "text": [
        "INFO:interface:stdout 2015-01-11T18:47:06.744023:      Object Name: \n"
       ]
      },
      {
       "output_type": "stream",
       "stream": "stderr",
       "text": [
        "INFO:interface:stdout 2015-01-11T18:47:06.744023:      Observers: \n"
       ]
      },
      {
       "output_type": "stream",
       "stream": "stderr",
       "text": [
        "INFO:interface:stdout 2015-01-11T18:47:06.744023:        none\n"
       ]
      },
      {
       "output_type": "stream",
       "stream": "stderr",
       "text": [
        "INFO:interface:stdout 2015-01-11T18:47:06.744023:      Pointer: 0x109ab1000\n"
       ]
      },
      {
       "output_type": "stream",
       "stream": "stderr",
       "text": [
        "INFO:interface:stdout 2015-01-11T18:47:06.744023:      Container manages memory: true\n"
       ]
      },
      {
       "output_type": "stream",
       "stream": "stderr",
       "text": [
        "INFO:interface:stdout 2015-01-11T18:47:06.744023:      Size: 802816\n"
       ]
      },
      {
       "output_type": "stream",
       "stream": "stderr",
       "text": [
        "INFO:interface:stdout 2015-01-11T18:47:06.744023:      Capacity: 802816\n"
       ]
      },
      {
       "output_type": "stream",
       "stream": "stderr",
       "text": [
        "INFO:interface:stdout 2015-01-11T18:47:06.744023:\n"
       ]
      },
      {
       "output_type": "stream",
       "stream": "stderr",
       "text": [
        "INFO:interface:stdout 2015-01-11T18:47:06.744023:     Moving image = Image (0x7f98ad048a00)\n"
       ]
      },
      {
       "output_type": "stream",
       "stream": "stderr",
       "text": [
        "INFO:interface:stdout 2015-01-11T18:47:06.744023:  RTTI typeinfo:   itk::Image<float, 3u>\n"
       ]
      },
      {
       "output_type": "stream",
       "stream": "stderr",
       "text": [
        "INFO:interface:stdout 2015-01-11T18:47:06.744023:  Reference Count: 2\n"
       ]
      },
      {
       "output_type": "stream",
       "stream": "stderr",
       "text": [
        "INFO:interface:stdout 2015-01-11T18:47:06.744023:  Modified Time: 980\n"
       ]
      },
      {
       "output_type": "stream",
       "stream": "stderr",
       "text": [
        "INFO:interface:stdout 2015-01-11T18:47:06.744023:  Debug: Off\n"
       ]
      },
      {
       "output_type": "stream",
       "stream": "stderr",
       "text": [
        "INFO:interface:stdout 2015-01-11T18:47:06.744023:  Object Name: \n"
       ]
      },
      {
       "output_type": "stream",
       "stream": "stderr",
       "text": [
        "INFO:interface:stdout 2015-01-11T18:47:06.744023:  Observers: \n"
       ]
      },
      {
       "output_type": "stream",
       "stream": "stderr",
       "text": [
        "INFO:interface:stdout 2015-01-11T18:47:06.744023:    none\n"
       ]
      },
      {
       "output_type": "stream",
       "stream": "stderr",
       "text": [
        "INFO:interface:stdout 2015-01-11T18:47:06.744023:  Source: (none)\n"
       ]
      },
      {
       "output_type": "stream",
       "stream": "stderr",
       "text": [
        "INFO:interface:stdout 2015-01-11T18:47:06.744023:  Source output name: (none)\n"
       ]
      },
      {
       "output_type": "stream",
       "stream": "stderr",
       "text": [
        "INFO:interface:stdout 2015-01-11T18:47:06.744023:  Release Data: Off\n"
       ]
      },
      {
       "output_type": "stream",
       "stream": "stderr",
       "text": [
        "INFO:interface:stdout 2015-01-11T18:47:06.744023:  Data Released: False\n"
       ]
      },
      {
       "output_type": "stream",
       "stream": "stderr",
       "text": [
        "INFO:interface:stdout 2015-01-11T18:47:06.744023:  Global Release Data: Off\n"
       ]
      },
      {
       "output_type": "stream",
       "stream": "stderr",
       "text": [
        "INFO:interface:stdout 2015-01-11T18:47:06.744023:  PipelineMTime: 0\n"
       ]
      },
      {
       "output_type": "stream",
       "stream": "stderr",
       "text": [
        "INFO:interface:stdout 2015-01-11T18:47:06.744023:  UpdateMTime: 977\n"
       ]
      },
      {
       "output_type": "stream",
       "stream": "stderr",
       "text": [
        "INFO:interface:stdout 2015-01-11T18:47:06.744023:  RealTimeStamp: 0 seconds \n"
       ]
      },
      {
       "output_type": "stream",
       "stream": "stderr",
       "text": [
        "INFO:interface:stdout 2015-01-11T18:47:06.744023:  LargestPossibleRegion: \n"
       ]
      },
      {
       "output_type": "stream",
       "stream": "stderr",
       "text": [
        "INFO:interface:stdout 2015-01-11T18:47:06.744023:    Dimension: 3\n"
       ]
      },
      {
       "output_type": "stream",
       "stream": "stderr",
       "text": [
        "INFO:interface:stdout 2015-01-11T18:47:06.744023:    Index: [0, 0, 0]\n"
       ]
      },
      {
       "output_type": "stream",
       "stream": "stderr",
       "text": [
        "INFO:interface:stdout 2015-01-11T18:47:06.744023:    Size: [112, 112, 64]\n"
       ]
      },
      {
       "output_type": "stream",
       "stream": "stderr",
       "text": [
        "INFO:interface:stdout 2015-01-11T18:47:06.744023:  BufferedRegion: \n"
       ]
      },
      {
       "output_type": "stream",
       "stream": "stderr",
       "text": [
        "INFO:interface:stdout 2015-01-11T18:47:06.744023:    Dimension: 3\n"
       ]
      },
      {
       "output_type": "stream",
       "stream": "stderr",
       "text": [
        "INFO:interface:stdout 2015-01-11T18:47:06.744023:    Index: [0, 0, 0]\n"
       ]
      },
      {
       "output_type": "stream",
       "stream": "stderr",
       "text": [
        "INFO:interface:stdout 2015-01-11T18:47:06.744023:    Size: [112, 112, 64]\n"
       ]
      },
      {
       "output_type": "stream",
       "stream": "stderr",
       "text": [
        "INFO:interface:stdout 2015-01-11T18:47:06.744023:  RequestedRegion: \n"
       ]
      },
      {
       "output_type": "stream",
       "stream": "stderr",
       "text": [
        "INFO:interface:stdout 2015-01-11T18:47:06.744023:    Dimension: 3\n"
       ]
      },
      {
       "output_type": "stream",
       "stream": "stderr",
       "text": [
        "INFO:interface:stdout 2015-01-11T18:47:06.744023:    Index: [0, 0, 0]\n"
       ]
      },
      {
       "output_type": "stream",
       "stream": "stderr",
       "text": [
        "INFO:interface:stdout 2015-01-11T18:47:06.744023:    Size: [112, 112, 64]\n"
       ]
      },
      {
       "output_type": "stream",
       "stream": "stderr",
       "text": [
        "INFO:interface:stdout 2015-01-11T18:47:06.744023:  Spacing: [1.96429, 1.96429, 2]\n"
       ]
      },
      {
       "output_type": "stream",
       "stream": "stderr",
       "text": [
        "INFO:interface:stdout 2015-01-11T18:47:06.744023:  Origin: [-109.009, -109.767, -56.6923]\n"
       ]
      },
      {
       "output_type": "stream",
       "stream": "stderr",
       "text": [
        "INFO:interface:stdout 2015-01-11T18:47:06.744023:  Direction: \n"
       ]
      },
      {
       "output_type": "stream",
       "stream": "stderr",
       "text": [
        "INFO:interface:stdout 2015-01-11T18:47:06.744023:1 0 0\n"
       ]
      },
      {
       "output_type": "stream",
       "stream": "stderr",
       "text": [
        "INFO:interface:stdout 2015-01-11T18:47:06.744023:0 1 0\n"
       ]
      },
      {
       "output_type": "stream",
       "stream": "stderr",
       "text": [
        "INFO:interface:stdout 2015-01-11T18:47:06.744023:0 0 1\n"
       ]
      },
      {
       "output_type": "stream",
       "stream": "stderr",
       "text": [
        "INFO:interface:stdout 2015-01-11T18:47:06.744023:\n"
       ]
      },
      {
       "output_type": "stream",
       "stream": "stderr",
       "text": [
        "INFO:interface:stdout 2015-01-11T18:47:06.744023:  IndexToPointMatrix: \n"
       ]
      },
      {
       "output_type": "stream",
       "stream": "stderr",
       "text": [
        "INFO:interface:stdout 2015-01-11T18:47:06.744023:1.96429 0 0\n"
       ]
      },
      {
       "output_type": "stream",
       "stream": "stderr",
       "text": [
        "INFO:interface:stdout 2015-01-11T18:47:06.744023:0 1.96429 0\n"
       ]
      },
      {
       "output_type": "stream",
       "stream": "stderr",
       "text": [
        "INFO:interface:stdout 2015-01-11T18:47:06.744023:0 0 2\n"
       ]
      },
      {
       "output_type": "stream",
       "stream": "stderr",
       "text": [
        "INFO:interface:stdout 2015-01-11T18:47:06.744023:\n"
       ]
      },
      {
       "output_type": "stream",
       "stream": "stderr",
       "text": [
        "INFO:interface:stdout 2015-01-11T18:47:06.744023:  PointToIndexMatrix: \n"
       ]
      },
      {
       "output_type": "stream",
       "stream": "stderr",
       "text": [
        "INFO:interface:stdout 2015-01-11T18:47:06.744023:0.509091 0 0\n"
       ]
      },
      {
       "output_type": "stream",
       "stream": "stderr",
       "text": [
        "INFO:interface:stdout 2015-01-11T18:47:06.744023:0 0.509091 0\n"
       ]
      },
      {
       "output_type": "stream",
       "stream": "stderr",
       "text": [
        "INFO:interface:stdout 2015-01-11T18:47:06.744023:0 0 0.5\n"
       ]
      },
      {
       "output_type": "stream",
       "stream": "stderr",
       "text": [
        "INFO:interface:stdout 2015-01-11T18:47:06.744023:\n"
       ]
      },
      {
       "output_type": "stream",
       "stream": "stderr",
       "text": [
        "INFO:interface:stdout 2015-01-11T18:47:06.744023:  Inverse Direction: \n"
       ]
      },
      {
       "output_type": "stream",
       "stream": "stderr",
       "text": [
        "INFO:interface:stdout 2015-01-11T18:47:06.744023:1 0 0\n"
       ]
      },
      {
       "output_type": "stream",
       "stream": "stderr",
       "text": [
        "INFO:interface:stdout 2015-01-11T18:47:06.744023:0 1 0\n"
       ]
      },
      {
       "output_type": "stream",
       "stream": "stderr",
       "text": [
        "INFO:interface:stdout 2015-01-11T18:47:06.744023:0 0 1\n"
       ]
      },
      {
       "output_type": "stream",
       "stream": "stderr",
       "text": [
        "INFO:interface:stdout 2015-01-11T18:47:06.744023:\n"
       ]
      },
      {
       "output_type": "stream",
       "stream": "stderr",
       "text": [
        "INFO:interface:stdout 2015-01-11T18:47:06.744023:  PixelContainer: \n"
       ]
      },
      {
       "output_type": "stream",
       "stream": "stderr",
       "text": [
        "INFO:interface:stdout 2015-01-11T18:47:06.744023:    ImportImageContainer (0x7f98ad048540)\n"
       ]
      },
      {
       "output_type": "stream",
       "stream": "stderr",
       "text": [
        "INFO:interface:stdout 2015-01-11T18:47:06.744023:      RTTI typeinfo:   itk::ImportImageContainer<unsigned long, float>\n"
       ]
      },
      {
       "output_type": "stream",
       "stream": "stderr",
       "text": [
        "INFO:interface:stdout 2015-01-11T18:47:06.744023:      Reference Count: 1\n"
       ]
      },
      {
       "output_type": "stream",
       "stream": "stderr",
       "text": [
        "INFO:interface:stdout 2015-01-11T18:47:06.744023:      Modified Time: 974\n"
       ]
      },
      {
       "output_type": "stream",
       "stream": "stderr",
       "text": [
        "INFO:interface:stdout 2015-01-11T18:47:06.744023:      Debug: Off\n"
       ]
      },
      {
       "output_type": "stream",
       "stream": "stderr",
       "text": [
        "INFO:interface:stdout 2015-01-11T18:47:06.744023:      Object Name: \n"
       ]
      },
      {
       "output_type": "stream",
       "stream": "stderr",
       "text": [
        "INFO:interface:stdout 2015-01-11T18:47:06.744023:      Observers: \n"
       ]
      },
      {
       "output_type": "stream",
       "stream": "stderr",
       "text": [
        "INFO:interface:stdout 2015-01-11T18:47:06.744023:        none\n"
       ]
      },
      {
       "output_type": "stream",
       "stream": "stderr",
       "text": [
        "INFO:interface:stdout 2015-01-11T18:47:06.744023:      Pointer: 0x109f49000\n"
       ]
      },
      {
       "output_type": "stream",
       "stream": "stderr",
       "text": [
        "INFO:interface:stdout 2015-01-11T18:47:06.744023:      Container manages memory: true\n"
       ]
      },
      {
       "output_type": "stream",
       "stream": "stderr",
       "text": [
        "INFO:interface:stdout 2015-01-11T18:47:06.744023:      Size: 802816\n"
       ]
      },
      {
       "output_type": "stream",
       "stream": "stderr",
       "text": [
        "INFO:interface:stdout 2015-01-11T18:47:06.744023:      Capacity: 802816\n"
       ]
      },
      {
       "output_type": "stream",
       "stream": "stderr",
       "text": [
        "INFO:interface:stdout 2015-01-11T18:47:06.744023:\n"
       ]
      },
      {
       "output_type": "stream",
       "stream": "stderr",
       "text": [
        "INFO:interface:stdout 2015-01-11T18:47:06.744023:     Weighting = 1\n"
       ]
      },
      {
       "output_type": "stream",
       "stream": "stderr",
       "text": [
        "INFO:interface:stdout 2015-01-11T18:47:06.744023:     Sampling strategy = none\n"
       ]
      },
      {
       "output_type": "stream",
       "stream": "stderr",
       "text": [
        "INFO:interface:stdout 2015-01-11T18:47:06.744023:     Number of bins = 32\n"
       ]
      },
      {
       "output_type": "stream",
       "stream": "stderr",
       "text": [
        "INFO:interface:stdout 2015-01-11T18:47:06.744023:     Radius = 4\n"
       ]
      },
      {
       "output_type": "stream",
       "stream": "stderr",
       "text": [
        "INFO:interface:stdout 2015-01-11T18:47:06.744023:     Sampling percentage  = 1\n"
       ]
      },
      {
       "output_type": "stream",
       "stream": "stderr",
       "text": [
        "INFO:interface:stdout 2015-01-11T18:47:06.744023:   Transform = SyN\n"
       ]
      },
      {
       "output_type": "stream",
       "stream": "stderr",
       "text": [
        "INFO:interface:stdout 2015-01-11T18:47:06.744023:     Gradient step = 0.25\n"
       ]
      },
      {
       "output_type": "stream",
       "stream": "stderr",
       "text": [
        "INFO:interface:stdout 2015-01-11T18:47:06.744023:     Update field sigma (voxel space) = 3\n"
       ]
      },
      {
       "output_type": "stream",
       "stream": "stderr",
       "text": [
        "INFO:interface:stdout 2015-01-11T18:47:06.744023:     Total field sigma (voxel space) = 0\n"
       ]
      },
      {
       "output_type": "stream",
       "stream": "stderr",
       "text": [
        "INFO:interface:stdout 2015-01-11T18:47:06.744023:     Update field time sigma = 0\n"
       ]
      },
      {
       "output_type": "stream",
       "stream": "stderr",
       "text": [
        "INFO:interface:stdout 2015-01-11T18:47:06.744023:     Total field time sigma  = 0\n"
       ]
      },
      {
       "output_type": "stream",
       "stream": "stderr",
       "text": [
        "INFO:interface:stdout 2015-01-11T18:47:06.744023:     Number of time indices = 0\n"
       ]
      },
      {
       "output_type": "stream",
       "stream": "stderr",
       "text": [
        "INFO:interface:stdout 2015-01-11T18:47:06.744023:     Number of time point samples = 0\n"
       ]
      },
      {
       "output_type": "stream",
       "stream": "stderr",
       "text": [
        "INFO:interface:stdout 2015-01-11T18:47:06.744023:Registration using 1 total stages.\n"
       ]
      },
      {
       "output_type": "stream",
       "stream": "stderr",
       "text": [
        "INFO:interface:stdout 2015-01-11T18:47:06.744023:\n"
       ]
      },
      {
       "output_type": "stream",
       "stream": "stderr",
       "text": [
        "INFO:interface:stdout 2015-01-11T18:47:06.744023:Stage 0\n"
       ]
      },
      {
       "output_type": "stream",
       "stream": "stderr",
       "text": [
        "INFO:interface:stdout 2015-01-11T18:47:06.744023:  iterations = 70x50x40\n"
       ]
      },
      {
       "output_type": "stream",
       "stream": "stderr",
       "text": [
        "INFO:interface:stdout 2015-01-11T18:47:06.744023:  convergence threshold = 1e-06\n"
       ]
      },
      {
       "output_type": "stream",
       "stream": "stderr",
       "text": [
        "INFO:interface:stdout 2015-01-11T18:47:06.744023:  convergence window size = 10\n"
       ]
      },
      {
       "output_type": "stream",
       "stream": "stderr",
       "text": [
        "INFO:interface:stdout 2015-01-11T18:47:06.744023:  number of levels = 3\n"
       ]
      },
      {
       "output_type": "stream",
       "stream": "stderr",
       "text": [
        "INFO:interface:stdout 2015-01-11T18:47:06.744023:  Shrink factors (level 1 out of 3): [3, 3, 3]\n"
       ]
      },
      {
       "output_type": "stream",
       "stream": "stderr",
       "text": [
        "INFO:interface:stdout 2015-01-11T18:47:06.744023:  Shrink factors (level 2 out of 3): [2, 2, 2]\n"
       ]
      },
      {
       "output_type": "stream",
       "stream": "stderr",
       "text": [
        "INFO:interface:stdout 2015-01-11T18:47:06.744023:  Shrink factors (level 3 out of 3): [1, 1, 1]\n"
       ]
      },
      {
       "output_type": "stream",
       "stream": "stderr",
       "text": [
        "INFO:interface:stdout 2015-01-11T18:47:06.744023:  smoothing sigmas per level: [2, 1, 0]\n"
       ]
      },
      {
       "output_type": "stream",
       "stream": "stderr",
       "text": [
        "INFO:interface:stdout 2015-01-11T18:47:06.798629:  using the Mattes MI metric (number of bins = 32, weight = 1)\n"
       ]
      },
      {
       "output_type": "stream",
       "stream": "stderr",
       "text": [
        "INFO:interface:stdout 2015-01-11T18:47:07.079677:  preprocessing:  histogram matching the images\n"
       ]
      },
      {
       "output_type": "stream",
       "stream": "stderr",
       "text": [
        "INFO:interface:stdout 2015-01-11T18:47:07.079677:  Using default NONE metricSamplingStrategy \n"
       ]
      },
      {
       "output_type": "stream",
       "stream": "stderr",
       "text": [
        "INFO:interface:stdout 2015-01-11T18:47:07.142190:\n"
       ]
      },
      {
       "output_type": "stream",
       "stream": "stderr",
       "text": [
        "INFO:interface:stdout 2015-01-11T18:47:07.142190:*** Running SyN registration (varianceForUpdateField = 3, varianceForTotalField = 0) ***\n"
       ]
      },
      {
       "output_type": "stream",
       "stream": "stderr",
       "text": [
        "INFO:interface:stdout 2015-01-11T18:47:07.142190:\n"
       ]
      },
      {
       "output_type": "stream",
       "stream": "stderr",
       "text": [
        "INFO:interface:stdout 2015-01-11T18:47:08.048131:XXDIAGNOSTIC,Iteration,metricValue,convergenceValue,ITERATION_TIME_INDEX,SINCE_LAST\n"
       ]
      },
      {
       "output_type": "stream",
       "stream": "stderr",
       "text": [
        "INFO:interface:stdout 2015-01-11T18:47:08.048131: 1DIAGNOSTIC,     1, -8.719685077667e-01, inf, 9.0598e-01, 9.0598e-01, \n"
       ]
      },
      {
       "output_type": "stream",
       "stream": "stderr",
       "text": [
        "INFO:interface:stdout 2015-01-11T18:47:08.306453: 1DIAGNOSTIC,     2, -1.004356145859e+00, inf, 1.1643e+00, 2.5830e-01, \n"
       ]
      },
      {
       "output_type": "stream",
       "stream": "stderr",
       "text": [
        "INFO:interface:stdout 2015-01-11T18:47:08.568766: 1DIAGNOSTIC,     3, -1.081509113312e+00, inf, 1.4265e+00, 2.6226e-01, \n"
       ]
      },
      {
       "output_type": "stream",
       "stream": "stderr",
       "text": [
        "INFO:interface:stdout 2015-01-11T18:47:08.813367: 1DIAGNOSTIC,     4, -1.121377944946e+00, inf, 1.6711e+00, 2.4454e-01, \n"
       ]
      },
      {
       "output_type": "stream",
       "stream": "stderr",
       "text": [
        "INFO:interface:stdout 2015-01-11T18:47:09.070668: 1DIAGNOSTIC,     5, -1.138371706009e+00, inf, 1.9283e+00, 2.5724e-01, \n"
       ]
      },
      {
       "output_type": "stream",
       "stream": "stderr",
       "text": [
        "INFO:interface:stdout 2015-01-11T18:47:09.320894: 1DIAGNOSTIC,     6, -1.133273124695e+00, inf, 2.1785e+00, 2.5017e-01, \n"
       ]
      },
      {
       "output_type": "stream",
       "stream": "stderr",
       "text": [
        "INFO:interface:stdout 2015-01-11T18:47:09.570576: 1DIAGNOSTIC,     7, -1.152546048164e+00, inf, 2.4281e+00, 2.4963e-01, \n"
       ]
      },
      {
       "output_type": "stream",
       "stream": "stderr",
       "text": [
        "INFO:interface:stdout 2015-01-11T18:47:09.814908: 1DIAGNOSTIC,     8, -1.139540553093e+00, inf, 2.6724e+00, 2.4427e-01, \n"
       ]
      },
      {
       "output_type": "stream",
       "stream": "stderr",
       "text": [
        "INFO:interface:stdout 2015-01-11T18:47:10.074001: 1DIAGNOSTIC,     9, -1.163411855698e+00, inf, 2.9314e+00, 2.5899e-01, \n"
       ]
      },
      {
       "output_type": "stream",
       "stream": "stderr",
       "text": [
        "INFO:interface:stdout 2015-01-11T18:47:10.320040: 1DIAGNOSTIC,    10, -1.137697577477e+00, 1.192355435342e-02, 3.1774e+00, 2.4602e-01, \n"
       ]
      },
      {
       "output_type": "stream",
       "stream": "stderr",
       "text": [
        "INFO:interface:stdout 2015-01-11T18:47:10.570327: 1DIAGNOSTIC,    11, -1.172210812569e+00, 5.868998821825e-03, 3.4277e+00, 2.5024e-01, \n"
       ]
      },
      {
       "output_type": "stream",
       "stream": "stderr",
       "text": [
        "INFO:interface:stdout 2015-01-11T18:47:10.820757: 1DIAGNOSTIC,    12, -1.142939329147e+00, 2.514105057344e-03, 3.6780e+00, 2.5034e-01, \n"
       ]
      },
      {
       "output_type": "stream",
       "stream": "stderr",
       "text": [
        "INFO:interface:stdout 2015-01-11T18:47:11.071757: 1DIAGNOSTIC,    13, -1.172595024109e+00, 1.567304483615e-03, 3.9289e+00, 2.5095e-01, \n"
       ]
      },
      {
       "output_type": "stream",
       "stream": "stderr",
       "text": [
        "INFO:interface:stdout 2015-01-11T18:47:11.322553: 1DIAGNOSTIC,    14, -1.160905122757e+00, 1.114503946155e-03, 4.1797e+00, 2.5077e-01, \n"
       ]
      },
      {
       "output_type": "stream",
       "stream": "stderr",
       "text": [
        "INFO:interface:stdout 2015-01-11T18:47:11.572777: 1DIAGNOSTIC,    15, -1.154727458954e+00, 8.169150096364e-04, 4.4299e+00, 2.5016e-01, \n"
       ]
      },
      {
       "output_type": "stream",
       "stream": "stderr",
       "text": [
        "INFO:interface:stdout 2015-01-11T18:47:11.823310: 1DIAGNOSTIC,    16, -1.164901018143e+00, 5.604526959360e-04, 4.6803e+00, 2.5048e-01, \n"
       ]
      },
      {
       "output_type": "stream",
       "stream": "stderr",
       "text": [
        "INFO:interface:stdout 2015-01-11T18:47:12.073730: 1DIAGNOSTIC,    17, -1.155601263046e+00, 4.317102720961e-04, 4.9307e+00, 2.5037e-01, \n"
       ]
      },
      {
       "output_type": "stream",
       "stream": "stderr",
       "text": [
        "INFO:interface:stdout 2015-01-11T18:47:12.325154: 1DIAGNOSTIC,    18, -1.164573550224e+00, 2.142367447959e-04, 5.1821e+00, 2.5136e-01, \n"
       ]
      },
      {
       "output_type": "stream",
       "stream": "stderr",
       "text": [
        "INFO:interface:stdout 2015-01-11T18:47:12.576353: 1DIAGNOSTIC,    19, -1.151983976364e+00, 1.583123812452e-04, 5.4332e+00, 2.5114e-01, \n"
       ]
      },
      {
       "output_type": "stream",
       "stream": "stderr",
       "text": [
        "INFO:interface:stdout 2015-01-11T18:47:12.827778: 1DIAGNOSTIC,    20, -1.164139747620e+00, -8.295920270029e-05, 5.6846e+00, 2.5135e-01, \n"
       ]
      },
      {
       "output_type": "stream",
       "stream": "stderr",
       "text": [
        "INFO:interface:stdout 2015-01-11T18:47:14.049308:XXDIAGNOSTIC,Iteration,metricValue,convergenceValue,ITERATION_TIME_INDEX,SINCE_LAST\n"
       ]
      },
      {
       "output_type": "stream",
       "stream": "stderr",
       "text": [
        "INFO:interface:stdout 2015-01-11T18:47:14.050112: 1DIAGNOSTIC,     1, -8.650652170181e-01, inf, 6.9061e+00, 1.2216e+00, \n"
       ]
      },
      {
       "output_type": "stream",
       "stream": "stderr",
       "text": [
        "INFO:interface:stdout 2015-01-11T18:47:14.795223: 1DIAGNOSTIC,     2, -9.001420736313e-01, inf, 7.6519e+00, 7.4581e-01, \n"
       ]
      },
      {
       "output_type": "stream",
       "stream": "stderr",
       "text": [
        "INFO:interface:stdout 2015-01-11T18:47:15.534583: 1DIAGNOSTIC,     3, -9.234234690666e-01, inf, 8.3912e+00, 7.3931e-01, \n"
       ]
      },
      {
       "output_type": "stream",
       "stream": "stderr",
       "text": [
        "INFO:interface:stdout 2015-01-11T18:47:16.256871: 1DIAGNOSTIC,     4, -9.318469762802e-01, inf, 9.1135e+00, 7.2223e-01, \n"
       ]
      },
      {
       "output_type": "stream",
       "stream": "stderr",
       "text": [
        "INFO:interface:stdout 2015-01-11T18:47:16.977814: 1DIAGNOSTIC,     5, -9.428677558899e-01, inf, 9.8344e+00, 7.2088e-01, \n"
       ]
      },
      {
       "output_type": "stream",
       "stream": "stderr",
       "text": [
        "INFO:interface:stdout 2015-01-11T18:47:17.701924: 1DIAGNOSTIC,     6, -9.441829323769e-01, inf, 1.0558e+01, 7.2406e-01, \n"
       ]
      },
      {
       "output_type": "stream",
       "stream": "stderr",
       "text": [
        "INFO:interface:stdout 2015-01-11T18:47:18.422883: 1DIAGNOSTIC,     7, -9.547498822212e-01, inf, 1.1279e+01, 7.2091e-01, \n"
       ]
      },
      {
       "output_type": "stream",
       "stream": "stderr",
       "text": [
        "INFO:interface:stdout 2015-01-11T18:47:19.144657: 1DIAGNOSTIC,     8, -9.501821994781e-01, inf, 1.2001e+01, 7.2169e-01, \n"
       ]
      },
      {
       "output_type": "stream",
       "stream": "stderr",
       "text": [
        "INFO:interface:stdout 2015-01-11T18:47:19.865689: 1DIAGNOSTIC,     9, -9.624840021133e-01, inf, 1.2722e+01, 7.2098e-01, \n"
       ]
      },
      {
       "output_type": "stream",
       "stream": "stderr",
       "text": [
        "INFO:interface:stdout 2015-01-11T18:47:20.608409: 1DIAGNOSTIC,    10, -9.526119232178e-01, 5.232116207480e-03, 1.3465e+01, 7.4267e-01, \n"
       ]
      },
      {
       "output_type": "stream",
       "stream": "stderr",
       "text": [
        "INFO:interface:stdout 2015-01-11T18:47:21.331327: 1DIAGNOSTIC,    11, -9.651345014572e-01, 3.235626732931e-03, 1.4188e+01, 7.2286e-01, \n"
       ]
      },
      {
       "output_type": "stream",
       "stream": "stderr",
       "text": [
        "INFO:interface:stdout 2015-01-11T18:47:22.076574: 1DIAGNOSTIC,    12, -9.589718580246e-01, 2.002236200497e-03, 1.4933e+01, 7.4519e-01, \n"
       ]
      },
      {
       "output_type": "stream",
       "stream": "stderr",
       "text": [
        "INFO:interface:stdout 2015-01-11T18:47:22.817815: 1DIAGNOSTIC,    13, -9.680565595627e-01, 1.535977004096e-03, 1.5674e+01, 7.4119e-01, \n"
       ]
      },
      {
       "output_type": "stream",
       "stream": "stderr",
       "text": [
        "INFO:interface:stdout 2015-01-11T18:47:23.561026: 1DIAGNOSTIC,    14, -9.604713916779e-01, 1.008765073493e-03, 1.6417e+01, 7.4314e-01, \n"
       ]
      },
      {
       "output_type": "stream",
       "stream": "stderr",
       "text": [
        "INFO:interface:stdout 2015-01-11T18:47:24.322260: 1DIAGNOSTIC,    15, -9.701867699623e-01, 8.837192435749e-04, 1.7178e+01, 7.6119e-01, \n"
       ]
      },
      {
       "output_type": "stream",
       "stream": "stderr",
       "text": [
        "INFO:interface:stdout 2015-01-11T18:47:25.044215: 1DIAGNOSTIC,    16, -9.602448344231e-01, 5.220782477409e-04, 1.7900e+01, 7.2188e-01, \n"
       ]
      },
      {
       "output_type": "stream",
       "stream": "stderr",
       "text": [
        "INFO:interface:stdout 2015-01-11T18:47:25.786492: 1DIAGNOSTIC,    17, -9.721772670746e-01, 5.605591577478e-04, 1.8642e+01, 7.4225e-01, \n"
       ]
      },
      {
       "output_type": "stream",
       "stream": "stderr",
       "text": [
        "INFO:interface:stdout 2015-01-11T18:47:26.551783: 1DIAGNOSTIC,    18, -9.623318910599e-01, 2.917453239206e-04, 1.9408e+01, 7.6523e-01, \n"
       ]
      },
      {
       "output_type": "stream",
       "stream": "stderr",
       "text": [
        "INFO:interface:stdout 2015-01-11T18:47:27.319890: 1DIAGNOSTIC,    19, -9.719188213348e-01, 3.802707360592e-04, 2.0176e+01, 7.6805e-01, \n"
       ]
      },
      {
       "output_type": "stream",
       "stream": "stderr",
       "text": [
        "INFO:interface:stdout 2015-01-11T18:47:28.063869: 1DIAGNOSTIC,    20, -9.563281536102e-01, 3.467345959507e-05, 2.0920e+01, 7.4392e-01, \n"
       ]
      },
      {
       "output_type": "stream",
       "stream": "stderr",
       "text": [
        "INFO:interface:stdout 2015-01-11T18:47:28.850678: 1DIAGNOSTIC,    21, -9.758018255234e-01, 1.844190119300e-04, 2.1706e+01, 7.8676e-01, \n"
       ]
      },
      {
       "output_type": "stream",
       "stream": "stderr",
       "text": [
        "INFO:interface:stdout 2015-01-11T18:47:29.593423: 1DIAGNOSTIC,    22, -9.633977413177e-01, 3.849839413306e-05, 2.2449e+01, 7.4267e-01, \n"
       ]
      },
      {
       "output_type": "stream",
       "stream": "stderr",
       "text": [
        "INFO:interface:stdout 2015-01-11T18:47:30.353975: 1DIAGNOSTIC,    23, -9.752842187881e-01, 1.819166354835e-04, 2.3209e+01, 7.6051e-01, \n"
       ]
      },
      {
       "output_type": "stream",
       "stream": "stderr",
       "text": [
        "INFO:interface:stdout 2015-01-11T18:47:31.115946: 1DIAGNOSTIC,    24, -9.601498842239e-01, 8.159258868545e-06, 2.3971e+01, 7.6191e-01, \n"
       ]
      },
      {
       "output_type": "stream",
       "stream": "stderr",
       "text": [
        "INFO:interface:stdout 2015-01-11T18:47:31.878834: 1DIAGNOSTIC,    25, -9.739451408386e-01, 1.377574953949e-04, 2.4734e+01, 7.6283e-01, \n"
       ]
      },
      {
       "output_type": "stream",
       "stream": "stderr",
       "text": [
        "INFO:interface:stdout 2015-01-11T18:47:32.642591: 1DIAGNOSTIC,    26, -9.603228569031e-01, -3.631840445451e-05, 2.5498e+01, 7.6360e-01, \n"
       ]
      },
      {
       "output_type": "stream",
       "stream": "stderr",
       "text": [
        "INFO:interface:stdout 2015-01-11T18:47:39.420796:XXDIAGNOSTIC,Iteration,metricValue,convergenceValue,ITERATION_TIME_INDEX,SINCE_LAST\n"
       ]
      },
      {
       "output_type": "stream",
       "stream": "stderr",
       "text": [
        "INFO:interface:stdout 2015-01-11T18:47:39.421603: 1DIAGNOSTIC,     1, -6.038790345192e-01, inf, 3.2276e+01, 6.7783e+00, \n"
       ]
      },
      {
       "output_type": "stream",
       "stream": "stderr",
       "text": [
        "INFO:interface:stdout 2015-01-11T18:47:44.788388: 1DIAGNOSTIC,     2, -6.181254982948e-01, inf, 3.7644e+01, 5.3675e+00, \n"
       ]
      },
      {
       "output_type": "stream",
       "stream": "stderr",
       "text": [
        "INFO:interface:stdout 2015-01-11T18:47:50.114392: 1DIAGNOSTIC,     3, -6.291028857231e-01, inf, 4.2970e+01, 5.3259e+00, \n"
       ]
      },
      {
       "output_type": "stream",
       "stream": "stderr",
       "text": [
        "INFO:interface:stdout 2015-01-11T18:47:55.296291: 1DIAGNOSTIC,     4, -6.372673511505e-01, inf, 4.8151e+01, 5.1818e+00, \n"
       ]
      },
      {
       "output_type": "stream",
       "stream": "stderr",
       "text": [
        "INFO:interface:stdout 2015-01-11T18:48:00.623242: 1DIAGNOSTIC,     5, -6.452088356018e-01, inf, 5.3478e+01, 5.3269e+00, \n"
       ]
      },
      {
       "output_type": "stream",
       "stream": "stderr",
       "text": [
        "INFO:interface:stdout 2015-01-11T18:48:05.943567: 1DIAGNOSTIC,     6, -6.521176099777e-01, inf, 5.8799e+01, 5.3202e+00, \n"
       ]
      },
      {
       "output_type": "stream",
       "stream": "stderr",
       "text": [
        "INFO:interface:stdout 2015-01-11T18:48:11.243962: 1DIAGNOSTIC,     7, -6.581385135651e-01, inf, 6.4099e+01, 5.3003e+00, \n"
       ]
      },
      {
       "output_type": "stream",
       "stream": "stderr",
       "text": [
        "INFO:interface:stdout 2015-01-11T18:48:16.559228: 1DIAGNOSTIC,     8, -6.634182929993e-01, inf, 6.9414e+01, 5.3152e+00, \n"
       ]
      },
      {
       "output_type": "stream",
       "stream": "stderr",
       "text": [
        "INFO:interface:stdout 2015-01-11T18:48:21.741337: 1DIAGNOSTIC,     9, -6.680727005005e-01, inf, 7.4596e+01, 5.1821e+00, \n"
       ]
      },
      {
       "output_type": "stream",
       "stream": "stderr",
       "text": [
        "INFO:interface:stdout 2015-01-11T18:48:26.880898: 1DIAGNOSTIC,    10, -6.720242500305e-01, 6.469656713307e-03, 7.9736e+01, 5.1395e+00, \n"
       ]
      },
      {
       "output_type": "stream",
       "stream": "stderr",
       "text": [
        "INFO:interface:stdout 2015-01-11T18:48:32.197824: 1DIAGNOSTIC,    11, -6.757570505142e-01, 5.037758033723e-03, 8.5053e+01, 5.3169e+00, \n"
       ]
      },
      {
       "output_type": "stream",
       "stream": "stderr",
       "text": [
        "INFO:interface:stdout 2015-01-11T18:48:37.380860: 1DIAGNOSTIC,    12, -6.796189546585e-01, 4.053940996528e-03, 9.0235e+01, 5.1829e+00, \n"
       ]
      },
      {
       "output_type": "stream",
       "stream": "stderr",
       "text": [
        "INFO:interface:stdout 2015-01-11T18:48:42.534110: 1DIAGNOSTIC,    13, -6.826827526093e-01, 3.327073529363e-03, 9.5389e+01, 5.1532e+00, \n"
       ]
      },
      {
       "output_type": "stream",
       "stream": "stderr",
       "text": [
        "INFO:interface:stdout 2015-01-11T18:48:47.753482: 1DIAGNOSTIC,    14, -6.854307651520e-01, 2.740410389379e-03, 1.0061e+02, 5.2193e+00, \n"
       ]
      },
      {
       "output_type": "stream",
       "stream": "stderr",
       "text": [
        "INFO:interface:stdout 2015-01-11T18:48:52.964197: 1DIAGNOSTIC,    15, -6.872392892838e-01, 2.263332251459e-03, 1.0582e+02, 5.2107e+00, \n"
       ]
      },
      {
       "output_type": "stream",
       "stream": "stderr",
       "text": [
        "INFO:interface:stdout 2015-01-11T18:48:58.134791: 1DIAGNOSTIC,    16, -6.887021064758e-01, 1.864331425168e-03, 1.1099e+02, 5.1705e+00, \n"
       ]
      },
      {
       "output_type": "stream",
       "stream": "stderr",
       "text": [
        "INFO:interface:stdout 2015-01-11T18:49:03.329718: 1DIAGNOSTIC,    17, -6.902647018433e-01, 1.532256486826e-03, 1.1618e+02, 5.1949e+00, \n"
       ]
      },
      {
       "output_type": "stream",
       "stream": "stderr",
       "text": [
        "INFO:interface:stdout 2015-01-11T18:49:08.506215: 1DIAGNOSTIC,    18, -6.913111805916e-01, 1.245710649528e-03, 1.2136e+02, 5.1764e+00, \n"
       ]
      },
      {
       "output_type": "stream",
       "stream": "stderr",
       "text": [
        "INFO:interface:stdout 2015-01-11T18:49:13.659756: 1DIAGNOSTIC,    19, -6.928014755249e-01, 1.012382563204e-03, 1.2651e+02, 5.1535e+00, \n"
       ]
      },
      {
       "output_type": "stream",
       "stream": "stderr",
       "text": [
        "INFO:interface:stdout 2015-01-11T18:49:18.819303: 1DIAGNOSTIC,    20, -6.931143999100e-01, 7.991860620677e-04, 1.3167e+02, 5.1595e+00, \n"
       ]
      },
      {
       "output_type": "stream",
       "stream": "stderr",
       "text": [
        "INFO:interface:stdout 2015-01-11T18:49:23.946777: 1DIAGNOSTIC,    21, -6.943250894547e-01, 6.322350236587e-04, 1.3680e+02, 5.1274e+00, \n"
       ]
      },
      {
       "output_type": "stream",
       "stream": "stderr",
       "text": [
        "INFO:interface:stdout 2015-01-11T18:49:29.090407: 1DIAGNOSTIC,    22, -6.946414113045e-01, 5.015959613957e-04, 1.4194e+02, 5.1435e+00, \n"
       ]
      },
      {
       "output_type": "stream",
       "stream": "stderr",
       "text": [
        "INFO:interface:stdout 2015-01-11T18:49:34.295639: 1DIAGNOSTIC,    23, -6.960928440094e-01, 4.182593256701e-04, 1.4715e+02, 5.2052e+00, \n"
       ]
      },
      {
       "output_type": "stream",
       "stream": "stderr",
       "text": [
        "INFO:interface:stdout 2015-01-11T18:49:39.467917: 1DIAGNOSTIC,    24, -6.967150568962e-01, 3.614945453592e-04, 1.5232e+02, 5.1722e+00, \n"
       ]
      },
      {
       "output_type": "stream",
       "stream": "stderr",
       "text": [
        "INFO:interface:stdout 2015-01-11T18:49:44.601722: 1DIAGNOSTIC,    25, -6.976453065872e-01, 3.216160403099e-04, 1.5746e+02, 5.1337e+00, \n"
       ]
      },
      {
       "output_type": "stream",
       "stream": "stderr",
       "text": [
        "INFO:interface:stdout 2015-01-11T18:49:49.746915: 1DIAGNOSTIC,    26, -6.983410120010e-01, 2.893660566770e-04, 1.6260e+02, 5.1452e+00, \n"
       ]
      },
      {
       "output_type": "stream",
       "stream": "stderr",
       "text": [
        "INFO:interface:stdout 2015-01-11T18:49:54.887485: 1DIAGNOSTIC,    27, -6.989824771881e-01, 2.664904168341e-04, 1.6774e+02, 5.1405e+00, \n"
       ]
      },
      {
       "output_type": "stream",
       "stream": "stderr",
       "text": [
        "INFO:interface:stdout 2015-01-11T18:50:00.106143: 1DIAGNOSTIC,    28, -7.000509500504e-01, 2.513931831345e-04, 1.7296e+02, 5.2186e+00, \n"
       ]
      },
      {
       "output_type": "stream",
       "stream": "stderr",
       "text": [
        "INFO:interface:stdout 2015-01-11T18:50:05.314956: 1DIAGNOSTIC,    29, -7.001282572746e-01, 2.361242950428e-04, 1.7817e+02, 5.2087e+00, \n"
       ]
      },
      {
       "output_type": "stream",
       "stream": "stderr",
       "text": [
        "INFO:interface:stdout 2015-01-11T18:50:10.465783: 1DIAGNOSTIC,    30, -7.011516094208e-01, 2.182336029364e-04, 1.8332e+02, 5.1508e+00, \n"
       ]
      },
      {
       "output_type": "stream",
       "stream": "stderr",
       "text": [
        "INFO:interface:stdout 2015-01-11T18:50:15.662040: 1DIAGNOSTIC,    31, -7.014988660812e-01, 2.018692612182e-04, 1.8852e+02, 5.1962e+00, \n"
       ]
      },
      {
       "output_type": "stream",
       "stream": "stderr",
       "text": [
        "INFO:interface:stdout 2015-01-11T18:50:20.846368: 1DIAGNOSTIC,    32, -7.020717859268e-01, 1.786833017832e-04, 1.9370e+02, 5.1843e+00, \n"
       ]
      },
      {
       "output_type": "stream",
       "stream": "stderr",
       "text": [
        "INFO:interface:stdout 2015-01-11T18:50:26.007965: 1DIAGNOSTIC,    33, -7.027387619019e-01, 1.667619071668e-04, 1.9886e+02, 5.1615e+00, \n"
       ]
      },
      {
       "output_type": "stream",
       "stream": "stderr",
       "text": [
        "INFO:interface:stdout 2015-01-11T18:50:31.201617: 1DIAGNOSTIC,    34, -7.028273344040e-01, 1.482160441810e-04, 2.0405e+02, 5.1936e+00, \n"
       ]
      },
      {
       "output_type": "stream",
       "stream": "stderr",
       "text": [
        "INFO:interface:stdout 2015-01-11T18:50:36.373973: 1DIAGNOSTIC,    35, -7.035020589828e-01, 1.358798181172e-04, 2.0923e+02, 5.1723e+00, \n"
       ]
      },
      {
       "output_type": "stream",
       "stream": "stderr",
       "text": [
        "INFO:interface:stdout 2015-01-11T18:50:41.537250: 1DIAGNOSTIC,    36, -7.034634351730e-01, 1.187004527310e-04, 2.1439e+02, 5.1632e+00, \n"
       ]
      },
      {
       "output_type": "stream",
       "stream": "stderr",
       "text": [
        "INFO:interface:stdout 2015-01-11T18:50:46.696736: 1DIAGNOSTIC,    37, -7.041597366333e-01, 1.061029033735e-04, 2.1955e+02, 5.1594e+00, \n"
       ]
      },
      {
       "output_type": "stream",
       "stream": "stderr",
       "text": [
        "INFO:interface:stdout 2015-01-11T18:50:51.866479: 1DIAGNOSTIC,    38, -7.042540311813e-01, 9.677375783212e-05, 2.2472e+02, 5.1697e+00, \n"
       ]
      },
      {
       "output_type": "stream",
       "stream": "stderr",
       "text": [
        "INFO:interface:stdout 2015-01-11T18:50:57.049292: 1DIAGNOSTIC,    39, -7.048178315163e-01, 8.539075497538e-05, 2.2990e+02, 5.1827e+00, \n"
       ]
      },
      {
       "output_type": "stream",
       "stream": "stderr",
       "text": [
        "INFO:interface:stdout 2015-01-11T18:51:02.192243: 1DIAGNOSTIC,    40, -7.048431038857e-01, 7.729676144663e-05, 2.3505e+02, 5.1429e+00, \n"
       ]
      },
      {
       "output_type": "stream",
       "stream": "stderr",
       "text": [
        "INFO:interface:stdout 2015-01-11T18:51:02.433691:  Elapsed time (stage 0): 2.3569e+02\n"
       ]
      },
      {
       "output_type": "stream",
       "stream": "stderr",
       "text": [
        "INFO:interface:stdout 2015-01-11T18:51:02.433691:\n"
       ]
      },
      {
       "output_type": "stream",
       "stream": "stderr",
       "text": [
        "INFO:interface:stdout 2015-01-11T18:51:02.463913:\n"
       ]
      },
      {
       "output_type": "stream",
       "stream": "stderr",
       "text": [
        "INFO:interface:stdout 2015-01-11T18:51:02.463913:Total elapsed time: 2.3572e+02\n"
       ]
      },
      {
       "output_type": "stream",
       "stream": "stderr",
       "text": [
        "INFO:workflow:Executing node gtractResampleDWI_SyN in dir: /scratch/TESTS/IpythonNotebook/1_DWI_Nipype_workflow/DWIWorkflow_823955340_20080609_30/gtractResampleDWI_SyN\n"
       ]
      },
      {
       "output_type": "stream",
       "stream": "stderr",
       "text": [
        "INFO:workflow:Running:  gtractResampleDWIInPlace  --inputVolume /Volumes/scratch/TESTS/IpythonNotebook/1_DWI_Nipype_workflow/DWIWorkflow_823955340_20080609_30/DWI_ForceDCtoIDNode/IDDC_823955340_823955340_20080609_30_DWI_CONCAT_QCed_INSPECTED.nrrd --outputVolume IDDC_correctedDWI.nrrd --referenceVolume /Volumes/scratch/TESTS/IpythonNotebook/1_DWI_Nipype_workflow/DWIWorkflow_823955340_20080609_30/ForceDCtoID/mapflow/_ForceDCtoID1/IDDC_T2toB0.nrrd --warpDWITransform /Volumes/scratch/TESTS/IpythonNotebook/1_DWI_Nipype_workflow/DWIWorkflow_823955340_20080609_30/antsReg_B0ToTransformedT2/TsynComposite.h5\n"
       ]
      },
      {
       "output_type": "stream",
       "stream": "stderr",
       "text": [
        "INFO:interface:stdout 2015-01-11T18:51:03.511770:=====================================================\n"
       ]
      },
      {
       "output_type": "stream",
       "stream": "stderr",
       "text": [
        "INFO:interface:stdout 2015-01-11T18:51:03.511770:DWI Image: /Volumes/scratch/TESTS/IpythonNotebook/1_DWI_Nipype_workflow/DWIWorkflow_823955340_20080609_30/DWI_ForceDCtoIDNode/IDDC_823955340_823955340_20080609_30_DWI_CONCAT_QCed_INSPECTED.nrrd\n"
       ]
      },
      {
       "output_type": "stream",
       "stream": "stderr",
       "text": [
        "INFO:interface:stdout 2015-01-11T18:51:03.511770:Input Transform: \n"
       ]
      },
      {
       "output_type": "stream",
       "stream": "stderr",
       "text": [
        "INFO:interface:stdout 2015-01-11T18:51:03.514235:warpDWI Transform: /Volumes/scratch/TESTS/IpythonNotebook/1_DWI_Nipype_workflow/DWIWorkflow_823955340_20080609_30/antsReg_B0ToTransformedT2/TsynComposite.h5\n"
       ]
      },
      {
       "output_type": "stream",
       "stream": "stderr",
       "text": [
        "INFO:interface:stdout 2015-01-11T18:51:03.514235:Output Image: IDDC_correctedDWI.nrrd\n"
       ]
      },
      {
       "output_type": "stream",
       "stream": "stderr",
       "text": [
        "INFO:interface:stdout 2015-01-11T18:51:03.514235:Debug Level: 0\n"
       ]
      },
      {
       "output_type": "stream",
       "stream": "stderr",
       "text": [
        "INFO:interface:stdout 2015-01-11T18:51:03.514235:Image Output Size: 0,0,0\n"
       ]
      },
      {
       "output_type": "stream",
       "stream": "stderr",
       "text": [
        "INFO:interface:stdout 2015-01-11T18:51:03.514235:=====================================================\n"
       ]
      },
      {
       "output_type": "stream",
       "stream": "stderr",
       "text": [
        "INFO:interface:stdout 2015-01-11T18:51:03.621477:Read Image\n"
       ]
      },
      {
       "output_type": "stream",
       "stream": "stderr",
       "text": [
        "INFO:interface:stdout 2015-01-11T18:51:03.622375:Read ITK transform from file: /Volumes/scratch/TESTS/IpythonNotebook/1_DWI_Nipype_workflow/DWIWorkflow_823955340_20080609_30/antsReg_B0ToTransformedT2/TsynComposite.h5\n"
       ]
      },
      {
       "output_type": "stream",
       "stream": "stderr",
       "text": [
        "INFO:interface:stdout 2015-01-11T18:51:03.785685:HACK: 0  CompositeTransform\n"
       ]
      },
      {
       "output_type": "stream",
       "stream": "stderr",
       "text": [
        "INFO:interface:stdout 2015-01-11T18:51:03.830481:Rigid transform matrix: 1 0 0\n"
       ]
      },
      {
       "output_type": "stream",
       "stream": "stderr",
       "text": [
        "INFO:interface:stdout 2015-01-11T18:51:03.830481:0 1 0\n"
       ]
      },
      {
       "output_type": "stream",
       "stream": "stderr",
       "text": [
        "INFO:interface:stdout 2015-01-11T18:51:03.830481:0 0 1\n"
       ]
      },
      {
       "output_type": "stream",
       "stream": "stderr",
       "text": [
        "INFO:interface:stdout 2015-01-11T18:51:03.830481:\n"
       ]
      },
      {
       "output_type": "stream",
       "stream": "stderr",
       "text": [
        "INFO:interface:stdout 2015-01-11T18:51:03.832091:Input DWI Image Origin: ( -109.009, -109.767, -56.6923 )\n"
       ]
      },
      {
       "output_type": "stream",
       "stream": "stderr",
       "text": [
        "INFO:interface:stdout 2015-01-11T18:51:03.832091:Input DWI Image Size: 112 112 64\n"
       ]
      },
      {
       "output_type": "stream",
       "stream": "stderr",
       "text": [
        "INFO:interface:stdout 2015-01-11T18:51:03.832091: \n"
       ]
      },
      {
       "output_type": "stream",
       "stream": "stderr",
       "text": [
        "INFO:interface:stdout 2015-01-11T18:51:03.832091:Output DWI Image Origin: ( -109.009, -109.767, -56.6923 )\n"
       ]
      },
      {
       "output_type": "stream",
       "stream": "stderr",
       "text": [
        "INFO:interface:stdout 2015-01-11T18:51:03.832091:Output DWI Image Size: 112 112 64\n"
       ]
      },
      {
       "output_type": "stream",
       "stream": "stderr",
       "text": [
        "INFO:workflow:Executing node RestoreDCFromSavedMatrix in dir: /scratch/TESTS/IpythonNotebook/1_DWI_Nipype_workflow/DWIWorkflow_823955340_20080609_30/RestoreDCFromSavedMatrix\n"
       ]
      },
      {
       "output_type": "stream",
       "stream": "stderr",
       "text": [
        "INFO:workflow:Executing node GetRigidTransformInverse in dir: /scratch/TESTS/IpythonNotebook/1_DWI_Nipype_workflow/DWIWorkflow_823955340_20080609_30/GetRigidTransformInverse\n"
       ]
      },
      {
       "output_type": "stream",
       "stream": "stderr",
       "text": [
        "INFO:workflow:Executing node gtractResampleDWIInPlace_Trigid in dir: /scratch/TESTS/IpythonNotebook/1_DWI_Nipype_workflow/DWIWorkflow_823955340_20080609_30/gtractResampleDWIInPlace_Trigid\n"
       ]
      },
      {
       "output_type": "stream",
       "stream": "stderr",
       "text": [
        "INFO:workflow:Running:  gtractResampleDWIInPlace  --inputTransform /Volumes/scratch/TESTS/IpythonNotebook/1_DWI_Nipype_workflow/DWIWorkflow_823955340_20080609_30/GetRigidTransformInverse/Inverse_T2ToB0_RigidTransform.h5 --inputVolume /Volumes/scratch/TESTS/IpythonNotebook/1_DWI_Nipype_workflow/DWIWorkflow_823955340_20080609_30/RestoreDCFromSavedMatrix/correctedDWI.nrrd --outputResampledB0 CorrectedDWI_in_T2Space_B0.nrrd --outputVolume CorrectedDWI_in_T2Space.nrrd\n"
       ]
      },
      {
       "output_type": "stream",
       "stream": "stderr",
       "text": [
        "INFO:interface:stdout 2015-01-11T18:51:07.957253:=====================================================\n"
       ]
      },
      {
       "output_type": "stream",
       "stream": "stderr",
       "text": [
        "INFO:interface:stdout 2015-01-11T18:51:07.957253:DWI Image: /Volumes/scratch/TESTS/IpythonNotebook/1_DWI_Nipype_workflow/DWIWorkflow_823955340_20080609_30/RestoreDCFromSavedMatrix/correctedDWI.nrrd\n"
       ]
      },
      {
       "output_type": "stream",
       "stream": "stderr",
       "text": [
        "INFO:interface:stdout 2015-01-11T18:51:07.957253:Input Transform: /Volumes/scratch/TESTS/IpythonNotebook/1_DWI_Nipype_workflow/DWIWorkflow_823955340_20080609_30/GetRigidTransformInverse/Inverse_T2ToB0_RigidTransform.h5\n"
       ]
      },
      {
       "output_type": "stream",
       "stream": "stderr",
       "text": [
        "INFO:interface:stdout 2015-01-11T18:51:07.957253:warpDWI Transform: \n"
       ]
      },
      {
       "output_type": "stream",
       "stream": "stderr",
       "text": [
        "INFO:interface:stdout 2015-01-11T18:51:07.960097:Output Image: CorrectedDWI_in_T2Space.nrrd\n"
       ]
      },
      {
       "output_type": "stream",
       "stream": "stderr",
       "text": [
        "INFO:interface:stdout 2015-01-11T18:51:07.960097:Debug Level: 0\n"
       ]
      },
      {
       "output_type": "stream",
       "stream": "stderr",
       "text": [
        "INFO:interface:stdout 2015-01-11T18:51:07.960097:Image Output Size: 0,0,0\n"
       ]
      },
      {
       "output_type": "stream",
       "stream": "stderr",
       "text": [
        "INFO:interface:stdout 2015-01-11T18:51:07.960097:=====================================================\n"
       ]
      },
      {
       "output_type": "stream",
       "stream": "stderr",
       "text": [
        "INFO:interface:stdout 2015-01-11T18:51:08.050622:Read Image\n"
       ]
      },
      {
       "output_type": "stream",
       "stream": "stderr",
       "text": [
        "INFO:interface:stdout 2015-01-11T18:51:08.051500:Read ITK transform from file: /Volumes/scratch/TESTS/IpythonNotebook/1_DWI_Nipype_workflow/DWIWorkflow_823955340_20080609_30/GetRigidTransformInverse/Inverse_T2ToB0_RigidTransform.h5\n"
       ]
      },
      {
       "output_type": "stream",
       "stream": "stderr",
       "text": [
        "INFO:interface:stdout 2015-01-11T18:51:08.057263:HACK: 0  VersorRigid3DTransform\n"
       ]
      },
      {
       "output_type": "stream",
       "stream": "stderr",
       "text": [
        "INFO:interface:stdout 2015-01-11T18:51:08.074229:Rigid transform matrix: 0.999632 -0.0271195 -0.000566646\n"
       ]
      },
      {
       "output_type": "stream",
       "stream": "stderr",
       "text": [
        "INFO:interface:stdout 2015-01-11T18:51:08.074229:0.0269703 0.991466 0.127543\n"
       ]
      },
      {
       "output_type": "stream",
       "stream": "stderr",
       "text": [
        "INFO:interface:stdout 2015-01-11T18:51:08.074229:-0.00289709 -0.127511 0.991833\n"
       ]
      },
      {
       "output_type": "stream",
       "stream": "stderr",
       "text": [
        "INFO:interface:stdout 2015-01-11T18:51:08.074229:\n"
       ]
      },
      {
       "output_type": "stream",
       "stream": "stderr",
       "text": [
        "INFO:interface:stdout 2015-01-11T18:51:08.076088:Input DWI Image Origin: ( -106.44, -72.1692, -62.4739 )\n"
       ]
      },
      {
       "output_type": "stream",
       "stream": "stderr",
       "text": [
        "INFO:interface:stdout 2015-01-11T18:51:08.076088:Input DWI Image Size: 112 112 64\n"
       ]
      },
      {
       "output_type": "stream",
       "stream": "stderr",
       "text": [
        "INFO:interface:stdout 2015-01-11T18:51:08.076088: \n"
       ]
      },
      {
       "output_type": "stream",
       "stream": "stderr",
       "text": [
        "INFO:interface:stdout 2015-01-11T18:51:08.076088:Output DWI Image Origin: ( -106.44, -72.1692, -62.4739 )\n"
       ]
      },
      {
       "output_type": "stream",
       "stream": "stderr",
       "text": [
        "INFO:interface:stdout 2015-01-11T18:51:08.076088:Output DWI Image Size: 112 112 64\n"
       ]
      },
      {
       "output_type": "stream",
       "stream": "stderr",
       "text": [
        "INFO:workflow:Executing node DTIEstim in dir: /scratch/TESTS/IpythonNotebook/1_DWI_Nipype_workflow/DWIWorkflow_823955340_20080609_30/DTIEstim\n"
       ]
      },
      {
       "output_type": "stream",
       "stream": "stderr",
       "text": [
        "INFO:workflow:Running:  dtiestim  --brain_mask /Volumes/scratch/TESTS/IpythonNotebook/1_DWI_Nipype_workflow/DWIWorkflow_823955340_20080609_30/BRAINMASK/BRAINMask.nrrd --dwi_image /Volumes/scratch/TESTS/IpythonNotebook/1_DWI_Nipype_workflow/DWIWorkflow_823955340_20080609_30/gtractResampleDWIInPlace_Trigid/CorrectedDWI_in_T2Space.nrrd --method wls --tensor_output DTI_Output.nrrd\n"
       ]
      },
      {
       "output_type": "stream",
       "stream": "stderr",
       "text": [
        "INFO:interface:stderr 2015-01-11T18:51:11.320096:\n"
       ]
      },
      {
       "output_type": "stream",
       "stream": "stderr",
       "text": [
        "INFO:interface:stderr 2015-01-11T18:51:11.320096:itk::ExceptionObject (0x7f9cd85027c8)\n"
       ]
      },
      {
       "output_type": "stream",
       "stream": "stderr",
       "text": [
        "INFO:interface:stderr 2015-01-11T18:51:11.320096:Location: \"unknown\" \n"
       ]
      },
      {
       "output_type": "stream",
       "stream": "stderr",
       "text": [
        "INFO:interface:stderr 2015-01-11T18:51:11.322435:File: /scratch/NAMICExternalProjects/release/ITKv4/Modules/Core/Common/include/itkImageToImageFilter.hxx\n"
       ]
      },
      {
       "output_type": "stream",
       "stream": "stderr",
       "text": [
        "INFO:interface:stderr 2015-01-11T18:51:11.322435:Line: 248\n"
       ]
      },
      {
       "output_type": "stream",
       "stream": "stderr",
       "text": [
        "INFO:interface:stderr 2015-01-11T18:51:11.322435:Description: itk::ERROR: BinaryFunctorImageFilter(0x7f9cd8501d90): Inputs do not occupy the same physical space! \n"
       ]
      },
      {
       "output_type": "stream",
       "stream": "stderr",
       "text": [
        "INFO:interface:stderr 2015-01-11T18:51:11.322435:InputImage Origin: [-1.0643987e+02, -7.2169205e+01, -6.2473891e+01], InputImage_1 Origin: [-9.0500000e+01, -9.7500000e+01, -8.9500000e+01]\n"
       ]
      },
      {
       "output_type": "stream",
       "stream": "stderr",
       "text": [
        "INFO:interface:stderr 2015-01-11T18:51:11.322435:\tTolerance: 1.9642857e-03\n"
       ]
      },
      {
       "output_type": "stream",
       "stream": "stderr",
       "text": [
        "INFO:interface:stderr 2015-01-11T18:51:11.322435:InputImage Spacing: [1.9642857e+00, 1.9642857e+00, 2.0000000e+00], InputImage_1 Spacing: [1.0000000e+00, 1.0000000e+00, 1.0000000e+00]\n"
       ]
      },
      {
       "output_type": "stream",
       "stream": "stderr",
       "text": [
        "INFO:interface:stderr 2015-01-11T18:51:11.322435:\tTolerance: 1.9642857e-03\n"
       ]
      },
      {
       "output_type": "stream",
       "stream": "stderr",
       "text": [
        "INFO:interface:stderr 2015-01-11T18:51:11.322435:InputImage Direction: 9.9980990e-01 2.5583088e-03 -1.9329228e-02\n"
       ]
      },
      {
       "output_type": "stream",
       "stream": "stderr",
       "text": [
        "INFO:interface:stderr 2015-01-11T18:51:11.322435:-5.1703585e-03 9.9065120e-01 -1.3632122e-01\n"
       ]
      },
      {
       "output_type": "stream",
       "stream": "stderr",
       "text": [
        "INFO:interface:stderr 2015-01-11T18:51:11.322435:1.8799771e-02 1.3639525e-01 9.9047610e-01\n"
       ]
      },
      {
       "output_type": "stream",
       "stream": "stderr",
       "text": [
        "INFO:interface:stderr 2015-01-11T18:51:11.322435:, InputImage_1 Direction: 1.0000000e+00 0.0000000e+00 0.0000000e+00\n"
       ]
      },
      {
       "output_type": "stream",
       "stream": "stderr",
       "text": [
        "INFO:interface:stderr 2015-01-11T18:51:11.322435:0.0000000e+00 1.0000000e+00 0.0000000e+00\n"
       ]
      },
      {
       "output_type": "stream",
       "stream": "stderr",
       "text": [
        "INFO:interface:stderr 2015-01-11T18:51:11.322435:0.0000000e+00 0.0000000e+00 1.0000000e+00\n"
       ]
      },
      {
       "output_type": "stream",
       "stream": "stderr",
       "text": [
        "INFO:interface:stderr 2015-01-11T18:51:11.322435:\n"
       ]
      },
      {
       "output_type": "stream",
       "stream": "stderr",
       "text": [
        "INFO:interface:stderr 2015-01-11T18:51:11.322435:\tTolerance: 1.0000000e-03\n"
       ]
      },
      {
       "output_type": "stream",
       "stream": "stderr",
       "text": [
        "INFO:interface:stderr 2015-01-11T18:51:11.322435:\n"
       ]
      },
      {
       "output_type": "stream",
       "stream": "stderr",
       "text": [
        "INFO:interface:stderr 2015-01-11T18:51:11.322435:\n"
       ]
      },
      {
       "output_type": "stream",
       "stream": "stderr",
       "text": [
        "INFO:interface:stderr 2015-01-11T18:51:11.322435:\n"
       ]
      },
      {
       "output_type": "stream",
       "stream": "stderr",
       "text": [
        "ERROR:workflow:['Node DTIEstim failed to run on host dendrite.psychiatry.uiowa.edu.']\n"
       ]
      },
      {
       "output_type": "stream",
       "stream": "stderr",
       "text": [
        "INFO:workflow:Saving crash info to /Volumes/scratch/Notebooks/SimpleITK-Notebook-Answers/crash-20150111-185111-aghayoor-DTIEstim.pklz\n"
       ]
      },
      {
       "output_type": "stream",
       "stream": "stderr",
       "text": [
        "INFO:workflow:Traceback (most recent call last):\n",
        "  File \"/Volumes/scratch/Notebooks/sitkpy/lib/python2.7/site-packages/nipype/pipeline/plugins/linear.py\", line 38, in run\n",
        "    node.run(updatehash=updatehash)\n",
        "  File \"/Volumes/scratch/Notebooks/sitkpy/lib/python2.7/site-packages/nipype/pipeline/engine.py\", line 1424, in run\n",
        "    self._run_interface()\n",
        "  File \"/Volumes/scratch/Notebooks/sitkpy/lib/python2.7/site-packages/nipype/pipeline/engine.py\", line 1534, in _run_interface\n",
        "    self._result = self._run_command(execute)\n",
        "  File \"/Volumes/scratch/Notebooks/sitkpy/lib/python2.7/site-packages/nipype/pipeline/engine.py\", line 1660, in _run_command\n",
        "    result = self._interface.run()\n",
        "  File \"/Volumes/scratch/Notebooks/sitkpy/lib/python2.7/site-packages/nipype/interfaces/base.py\", line 998, in run\n",
        "    runtime = self._run_interface(runtime)\n",
        "  File \"/Volumes/scratch/Notebooks/sitkpy/lib/python2.7/site-packages/nipype/interfaces/base.py\", line 1447, in _run_interface\n",
        "    self.raise_exception(runtime)\n",
        "  File \"/Volumes/scratch/Notebooks/sitkpy/lib/python2.7/site-packages/nipype/interfaces/base.py\", line 1376, in raise_exception\n",
        "    raise RuntimeError(message)\n",
        "RuntimeError: Command:\n",
        " dtiestim  --brain_mask /Volumes/scratch/TESTS/IpythonNotebook/1_DWI_Nipype_workflow/DWIWorkflow_823955340_20080609_30/BRAINMASK/BRAINMask.nrrd --dwi_image /Volumes/scratch/TESTS/IpythonNotebook/1_DWI_Nipype_workflow/DWIWorkflow_823955340_20080609_30/gtractResampleDWIInPlace_Trigid/CorrectedDWI_in_T2Space.nrrd --method wls --tensor_output DTI_Output.nrrd\n",
        "Standard output:\n",
        "\n",
        "Standard error:\n",
        "\n",
        "itk::ExceptionObject (0x7f9cd85027c8)\n",
        "Location: \"unknown\" \n",
        "File: /scratch/NAMICExternalProjects/release/ITKv4/Modules/Core/Common/include/itkImageToImageFilter.hxx\n",
        "Line: 248\n",
        "Description: itk::ERROR: BinaryFunctorImageFilter(0x7f9cd8501d90): Inputs do not occupy the same physical space! \n",
        "InputImage Origin: [-1.0643987e+02, -7.2169205e+01, -6.2473891e+01], InputImage_1 Origin: [-9.0500000e+01, -9.7500000e+01, -8.9500000e+01]\n",
        "\tTolerance: 1.9642857e-03\n",
        "InputImage Spacing: [1.9642857e+00, 1.9642857e+00, 2.0000000e+00], InputImage_1 Spacing: [1.0000000e+00, 1.0000000e+00, 1.0000000e+00]\n",
        "\tTolerance: 1.9642857e-03\n",
        "InputImage Direction: 9.9980990e-01 2.5583088e-03 -1.9329228e-02\n",
        "-5.1703585e-03 9.9065120e-01 -1.3632122e-01\n",
        "1.8799771e-02 1.3639525e-01 9.9047610e-01\n",
        ", InputImage_1 Direction: 1.0000000e+00 0.0000000e+00 0.0000000e+00\n",
        "0.0000000e+00 1.0000000e+00 0.0000000e+00\n",
        "0.0000000e+00 0.0000000e+00 1.0000000e+00\n",
        "\n",
        "\tTolerance: 1.0000000e-03\n",
        "\n",
        "\n",
        "\n",
        "Return code: 1\n",
        "Interface dtiestim failed to run. \n",
        "\n"
       ]
      },
      {
       "output_type": "stream",
       "stream": "stderr",
       "text": [
        "INFO:workflow:***********************************\n"
       ]
      },
      {
       "output_type": "stream",
       "stream": "stderr",
       "text": [
        "ERROR:workflow:could not run node: DWIWorkflow_823955340_20080609_30.DTIEstim\n"
       ]
      },
      {
       "output_type": "stream",
       "stream": "stderr",
       "text": [
        "INFO:workflow:crashfile: /Volumes/scratch/Notebooks/SimpleITK-Notebook-Answers/crash-20150111-185111-aghayoor-DTIEstim.pklz\n"
       ]
      },
      {
       "output_type": "stream",
       "stream": "stderr",
       "text": [
        "INFO:workflow:***********************************\n"
       ]
      },
      {
       "ename": "RuntimeError",
       "evalue": "Workflow did not execute cleanly. Check log for details",
       "output_type": "pyerr",
       "traceback": [
        "\u001b[0;31m---------------------------------------------------------------------------\u001b[0m\n\u001b[0;31mRuntimeError\u001b[0m                              Traceback (most recent call last)",
        "\u001b[0;32m<ipython-input-3-e4f3e1110f32>\u001b[0m in \u001b[0;36m<module>\u001b[0;34m()\u001b[0m\n\u001b[1;32m    352\u001b[0m \u001b[0;34m\u001b[0m\u001b[0m\n\u001b[1;32m    353\u001b[0m \u001b[0mDWIWorkflow\u001b[0m\u001b[0;34m.\u001b[0m\u001b[0mwrite_graph\u001b[0m\u001b[0;34m(\u001b[0m\u001b[0;34m)\u001b[0m\u001b[0;34m\u001b[0m\u001b[0m\n\u001b[0;32m--> 354\u001b[0;31m \u001b[0mDWIWorkflow\u001b[0m\u001b[0;34m.\u001b[0m\u001b[0mrun\u001b[0m\u001b[0;34m(\u001b[0m\u001b[0;34m)\u001b[0m\u001b[0;34m\u001b[0m\u001b[0m\n\u001b[0m",
        "\u001b[0;32m/Volumes/scratch/Notebooks/sitkpy/lib/python2.7/site-packages/nipype/pipeline/engine.pyc\u001b[0m in \u001b[0;36mrun\u001b[0;34m(self, plugin, plugin_args, updatehash)\u001b[0m\n\u001b[1;32m    698\u001b[0m         \u001b[0;32mif\u001b[0m \u001b[0mstr2bool\u001b[0m\u001b[0;34m(\u001b[0m\u001b[0mself\u001b[0m\u001b[0;34m.\u001b[0m\u001b[0mconfig\u001b[0m\u001b[0;34m[\u001b[0m\u001b[0;34m'execution'\u001b[0m\u001b[0;34m]\u001b[0m\u001b[0;34m[\u001b[0m\u001b[0;34m'create_report'\u001b[0m\u001b[0;34m]\u001b[0m\u001b[0;34m)\u001b[0m\u001b[0;34m:\u001b[0m\u001b[0;34m\u001b[0m\u001b[0m\n\u001b[1;32m    699\u001b[0m             \u001b[0mself\u001b[0m\u001b[0;34m.\u001b[0m\u001b[0m_write_report_info\u001b[0m\u001b[0;34m(\u001b[0m\u001b[0mself\u001b[0m\u001b[0;34m.\u001b[0m\u001b[0mbase_dir\u001b[0m\u001b[0;34m,\u001b[0m \u001b[0mself\u001b[0m\u001b[0;34m.\u001b[0m\u001b[0mname\u001b[0m\u001b[0;34m,\u001b[0m \u001b[0mexecgraph\u001b[0m\u001b[0;34m)\u001b[0m\u001b[0;34m\u001b[0m\u001b[0m\n\u001b[0;32m--> 700\u001b[0;31m         \u001b[0mrunner\u001b[0m\u001b[0;34m.\u001b[0m\u001b[0mrun\u001b[0m\u001b[0;34m(\u001b[0m\u001b[0mexecgraph\u001b[0m\u001b[0;34m,\u001b[0m \u001b[0mupdatehash\u001b[0m\u001b[0;34m=\u001b[0m\u001b[0mupdatehash\u001b[0m\u001b[0;34m,\u001b[0m \u001b[0mconfig\u001b[0m\u001b[0;34m=\u001b[0m\u001b[0mself\u001b[0m\u001b[0;34m.\u001b[0m\u001b[0mconfig\u001b[0m\u001b[0;34m)\u001b[0m\u001b[0;34m\u001b[0m\u001b[0m\n\u001b[0m\u001b[1;32m    701\u001b[0m         \u001b[0mdatestr\u001b[0m \u001b[0;34m=\u001b[0m \u001b[0mdatetime\u001b[0m\u001b[0;34m.\u001b[0m\u001b[0mutcnow\u001b[0m\u001b[0;34m(\u001b[0m\u001b[0;34m)\u001b[0m\u001b[0;34m.\u001b[0m\u001b[0mstrftime\u001b[0m\u001b[0;34m(\u001b[0m\u001b[0;34m'%Y%m%dT%H%M%S'\u001b[0m\u001b[0;34m)\u001b[0m\u001b[0;34m\u001b[0m\u001b[0m\n\u001b[1;32m    702\u001b[0m         \u001b[0;32mif\u001b[0m \u001b[0mstr2bool\u001b[0m\u001b[0;34m(\u001b[0m\u001b[0mself\u001b[0m\u001b[0;34m.\u001b[0m\u001b[0mconfig\u001b[0m\u001b[0;34m[\u001b[0m\u001b[0;34m'execution'\u001b[0m\u001b[0;34m]\u001b[0m\u001b[0;34m[\u001b[0m\u001b[0;34m'write_provenance'\u001b[0m\u001b[0;34m]\u001b[0m\u001b[0;34m)\u001b[0m\u001b[0;34m:\u001b[0m\u001b[0;34m\u001b[0m\u001b[0m\n",
        "\u001b[0;32m/Volumes/scratch/Notebooks/sitkpy/lib/python2.7/site-packages/nipype/pipeline/plugins/linear.pyc\u001b[0m in \u001b[0;36mrun\u001b[0;34m(self, graph, config, updatehash)\u001b[0m\n\u001b[1;32m     54\u001b[0m                 \u001b[0;32mif\u001b[0m \u001b[0mself\u001b[0m\u001b[0;34m.\u001b[0m\u001b[0m_status_callback\u001b[0m\u001b[0;34m:\u001b[0m\u001b[0;34m\u001b[0m\u001b[0m\n\u001b[1;32m     55\u001b[0m                     \u001b[0mself\u001b[0m\u001b[0;34m.\u001b[0m\u001b[0m_status_callback\u001b[0m\u001b[0;34m(\u001b[0m\u001b[0mnode\u001b[0m\u001b[0;34m,\u001b[0m \u001b[0;34m'exception'\u001b[0m\u001b[0;34m)\u001b[0m\u001b[0;34m\u001b[0m\u001b[0m\n\u001b[0;32m---> 56\u001b[0;31m         \u001b[0mreport_nodes_not_run\u001b[0m\u001b[0;34m(\u001b[0m\u001b[0mnotrun\u001b[0m\u001b[0;34m)\u001b[0m\u001b[0;34m\u001b[0m\u001b[0m\n\u001b[0m\u001b[1;32m     57\u001b[0m \u001b[0;34m\u001b[0m\u001b[0m\n",
        "\u001b[0;32m/Volumes/scratch/Notebooks/sitkpy/lib/python2.7/site-packages/nipype/pipeline/plugins/base.pyc\u001b[0m in \u001b[0;36mreport_nodes_not_run\u001b[0;34m(notrun)\u001b[0m\n\u001b[1;32m     90\u001b[0m                 \u001b[0mlogger\u001b[0m\u001b[0;34m.\u001b[0m\u001b[0mdebug\u001b[0m\u001b[0;34m(\u001b[0m\u001b[0msubnode\u001b[0m\u001b[0;34m.\u001b[0m\u001b[0m_id\u001b[0m\u001b[0;34m)\u001b[0m\u001b[0;34m\u001b[0m\u001b[0m\n\u001b[1;32m     91\u001b[0m         \u001b[0mlogger\u001b[0m\u001b[0;34m.\u001b[0m\u001b[0minfo\u001b[0m\u001b[0;34m(\u001b[0m\u001b[0;34m\"***********************************\"\u001b[0m\u001b[0;34m)\u001b[0m\u001b[0;34m\u001b[0m\u001b[0m\n\u001b[0;32m---> 92\u001b[0;31m         raise RuntimeError(('Workflow did not execute cleanly. '\n\u001b[0m\u001b[1;32m     93\u001b[0m                             'Check log for details'))\n\u001b[1;32m     94\u001b[0m \u001b[0;34m\u001b[0m\u001b[0m\n",
        "\u001b[0;31mRuntimeError\u001b[0m: Workflow did not execute cleanly. Check log for details"
       ]
      }
     ],
     "prompt_number": 3
    },
    {
     "cell_type": "code",
     "collapsed": false,
     "input": [],
     "language": "python",
     "metadata": {},
     "outputs": []
    },
    {
     "cell_type": "code",
     "collapsed": false,
     "input": [],
     "language": "python",
     "metadata": {},
     "outputs": []
    }
   ],
   "metadata": {}
  }
 ]
}