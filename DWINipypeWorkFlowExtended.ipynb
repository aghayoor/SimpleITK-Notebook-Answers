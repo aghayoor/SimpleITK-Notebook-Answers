{
 "metadata": {
  "name": "",
  "signature": "sha256:d4ce6dbc28b0346783738deeec94d0e9b051c5ef6290cc44b4adc68fde94734c"
 },
 "nbformat": 3,
 "nbformat_minor": 0,
 "worksheets": [
  {
   "cells": [
    {
     "cell_type": "markdown",
     "metadata": {},
     "source": [
      "Purpose\n",
      "=======\n",
      "\n",
      "The purpose of this pipeline is to complete all the pre-processing steps needed to turn diffusion-weighted images into FA images that will be used to build a template diffusion tensor atlas for fiber tracking.\n",
      "\n",
      "Inputs\n",
      "======\n",
      "The input to this pipeline is a list of subject IDs that is used to generate lists of the corresponding DWIs processed with automated quality control, T2s, and brain label images that are treated as brain masks.\n",
      " \n",
      "Pipeline Steps for CreateDWIWorkflow\n",
      "====================================\n",
      "{Fill this part later}"
     ]
    },
    {
     "cell_type": "code",
     "collapsed": false,
     "input": [
      "## Boiler plate code common to many notebooks.  See the TestFilesCommonCode.ipynb for details\n",
      "#from __future__ import print_function\n",
      "#%run TestFilesCommonCode.ipynb"
     ],
     "language": "python",
     "metadata": {},
     "outputs": [],
     "prompt_number": 36
    },
    {
     "cell_type": "code",
     "collapsed": false,
     "input": [
      "import os\n",
      "import glob\n",
      "import sys\n",
      "\n",
      "#\\/\\/\\/\\/\\/\\/\\/\\/\\/\\/\\/\\/\\/\\/\\/\\/\\/\\/\\/\\/\\/\\/\\/\\/\\/\\/\\/\\/\\/\\/\\/\\/\\/\\/\\/\\/\\/\\/\\/\\/\\/\\/\\/\n",
      "#####################################################################################\n",
      "#     Prepend the shell environment search paths\n",
      "PROGRAM_PATHS = '/scratch/NAMICExternalProjects/release/bin'\n",
      "PROGRAM_PATHS = PROGRAM_PATHS.split(':')\n",
      "PROGRAM_PATHS.extend(os.environ['PATH'].split(':'))\n",
      "os.environ['PATH'] = ':'.join(PROGRAM_PATHS)\n",
      "\n",
      "CUSTOM_ENVIRONMENT=dict()\n",
      "\n",
      "# Platform specific information\n",
      "#     Prepend the python search paths\n",
      "PYTHON_AUX_PATHS = '/scratch/NAMICExternalProjects/release/BRAINSTools/AutoWorkup'\n",
      "PYTHON_AUX_PATHS = PYTHON_AUX_PATHS.split(':')\n",
      "PYTHON_AUX_PATHS.extend(sys.path)\n",
      "sys.path = PYTHON_AUX_PATHS\n",
      "\n",
      "import SimpleITK as sitk\n",
      "import nipype\n",
      "from nipype.interfaces import ants\n",
      "from nipype.interfaces.base import CommandLine, CommandLineInputSpec, TraitedSpec, File, Directory\n",
      "from nipype.interfaces.base import traits, isdefined, BaseInterface\n",
      "from nipype.interfaces.utility import Merge, Split, Function, Rename, IdentityInterface\n",
      "import nipype.interfaces.io as nio   # Data i/oS\n",
      "import nipype.pipeline.engine as pe  # pypeline engine\n",
      "from nipype.interfaces.freesurfer import ReconAll\n",
      "from SEMTools import *"
     ],
     "language": "python",
     "metadata": {},
     "outputs": [],
     "prompt_number": 1
    },
    {
     "cell_type": "code",
     "collapsed": false,
     "input": [
      "######## Input scans #############################\n",
      "DWI_scan = '/Shared/johnsonhj/TrackOn/Experiments/20140203_DWIProcessing/VISUALLY_INSPECTED/HDNI_003/823955340/823955340_20080609_30/823955340_823955340_20080609_30_DWI_CONCAT_QCed_INSPECTED.nrrd'\n",
      "\n",
      "sessionID = os.path.basename(os.path.dirname(DWI_scan))\n",
      "subjectID = os.path.basename(os.path.dirname(os.path.dirname(DWI_scan)))\n",
      "siteID = os.path.basename(os.path.dirname(os.path.dirname(os.path.dirname(DWI_scan))))\n",
      "\n",
      "scalarsDIR = os.path.join('/Shared/sinapse/CACHE/20141124_TrackOn_base_Results/',\n",
      "                          siteID,\n",
      "                          subjectID,\n",
      "                          sessionID,\n",
      "                          'TissueClassify')\n",
      "\n",
      "T2_scan = os.path.join(scalarsDIR,'t2_average_BRAINSABC.nii.gz')\n",
      "labelMap_image = os.path.join(scalarsDIR,'complete_brainlabels_seg.nii.gz')\n",
      "#################################################\n",
      "\n",
      "####### Workflow ################################\n",
      "WFname = 'DWIWorkflow_' + sessionID\n",
      "DWIWorkflow = pe.Workflow(name=WFname)\n",
      "BASE_DIR = os.path.join('/scratch/TESTS/IpythonNotebook', '1_DWI_Nipype_workflow')\n",
      "DWIWorkflow.base_dir = BASE_DIR\n",
      "\n",
      "inputsSpec = pe.Node(interface=IdentityInterface(fields=['T2Volume', 'DWIVolume','LabelMapVolume']), \n",
      "                     name='inputspec')\n",
      "\n",
      "inputsSpec.inputs.DWIVolume = DWI_scan\n",
      "inputsSpec.inputs.T2Volume = T2_scan\n",
      "inputsSpec.inputs.LabelMapVolume = labelMap_image\n",
      "\n",
      "outputsSpec = pe.Node(interface=IdentityInterface(fields=['CorrectedDWI_in_T2Space','tensor_image','DWIBrainMask',\n",
      "                                                          'FAImage','MDImage','RDImage','FrobeniusNormImage',\n",
      "                                                          'Lambda1Image','Lambda2Image','Lambda3Image']),\n",
      "                      name='outputsSpec')\n",
      "\n",
      "# Step0: remove the skull from the T2 volume\n",
      "def ExtractBRAINFromHead(RawScan, BrainLabels):\n",
      "    import os\n",
      "    import SimpleITK as sitk\n",
      "    # Remove skull from the head scan\n",
      "    assert os.path.exists(RawScan), \"File not found: %s\" % RawScan\n",
      "    assert os.path.exists(BrainLabels), \"File not found: %s\" % BrainLabels\n",
      "    headImage = sitk.ReadImage(RawScan)\n",
      "    labelsMap = sitk.ReadImage(BrainLabels)\n",
      "    label_mask = labelsMap>0\n",
      "    brainImage = sitk.Cast(headImage,sitk.sitkInt16) * sitk.Cast(label_mask,sitk.sitkInt16)\n",
      "    outputVolume = os.path.realpath('T2Stripped.nrrd')\n",
      "    sitk.WriteImage(brainImage, outputVolume)\n",
      "    return outputVolume\n",
      "\n",
      "ExtractBRAINFromHeadNode = pe.Node(interface=Function(function = ExtractBRAINFromHead, \n",
      "                                                      input_names=['RawScan','BrainLabels'],\n",
      "                                                      output_names=['outputVolume']), \n",
      "                                   name=\"ExtractBRAINFromHead\")\n",
      "\n",
      "DWIWorkflow.connect(inputsSpec, 'T2Volume', ExtractBRAINFromHeadNode, 'RawScan')\n",
      "DWIWorkflow.connect(inputsSpec, 'LabelMapVolume', ExtractBRAINFromHeadNode, 'BrainLabels')\n",
      "\n",
      "# Step1: extract B0 from DWI volume\n",
      "EXTRACT_B0 = pe.Node(interface=extractNrrdVectorIndex(),name=\"EXTRACT_B0\")\n",
      "EXTRACT_B0.inputs.vectorIndex = 0\n",
      "EXTRACT_B0.inputs.outputVolume = 'B0_Image.nrrd'\n",
      "DWIWorkflow.connect(inputsSpec,'DWIVolume',EXTRACT_B0,'inputVolume')\n",
      "\n",
      "# Step2: Register T2 to B0 space using BRAINSFit\n",
      "BFit_T2toB0 = pe.Node(interface=BRAINSFit(), name=\"BFit_T2toB0\")\n",
      "BFit_T2toB0.inputs.costMetric = \"MMI\"\n",
      "BFit_T2toB0.inputs.numberOfSamples = 100000\n",
      "BFit_T2toB0.inputs.numberOfIterations = [1500]\n",
      "BFit_T2toB0.inputs.numberOfHistogramBins = 50\n",
      "BFit_T2toB0.inputs.maximumStepLength = 0.2\n",
      "BFit_T2toB0.inputs.minimumStepLength = [0.00005]\n",
      "BFit_T2toB0.inputs.useRigid = True\n",
      "BFit_T2toB0.inputs.useAffine = True\n",
      "BFit_T2toB0.inputs.maskInferiorCutOffFromCenter = 65\n",
      "BFit_T2toB0.inputs.maskProcessingMode = \"ROIAUTO\"\n",
      "BFit_T2toB0.inputs.ROIAutoDilateSize = 13\n",
      "BFit_T2toB0.inputs.backgroundFillValue = 0.0\n",
      "BFit_T2toB0.inputs.initializeTransformMode = 'useCenterOfHeadAlign'\n",
      "BFit_T2toB0.inputs.strippedOutputTransform = \"T2ToB0_RigidTransform.h5\"\n",
      "#BFit_T2toB0.inputs.outputVolume = \"T2_in_B0Space_Output.nii.gz\"\n",
      "DWIWorkflow.connect(EXTRACT_B0, 'outputVolume', BFit_T2toB0, 'fixedVolume')\n",
      "DWIWorkflow.connect(ExtractBRAINFromHeadNode, 'outputVolume', BFit_T2toB0, 'movingVolume')\n",
      "\n",
      "# Step3: Use T_rigid to \"resample\" T2 and label map images to B0 image space\n",
      "#------------\n",
      "def MakeResamplerInFileList(inputT2, inputLabelMap):\n",
      "    imagesList = [inputT2, inputLabelMap]\n",
      "    return imagesList\n",
      "    \n",
      "MakeResamplerInFilesListNode = pe.Node(Function(function=MakeResamplerInFileList,\n",
      "                                               input_names=['inputT2','inputLabelMap'],\n",
      "                                               output_names=['imagesList']),\n",
      "                                      name=\"MakeResamplerInFilesListNode\")\n",
      "\n",
      "DWIWorkflow.connect([(ExtractBRAINFromHeadNode,MakeResamplerInFilesListNode,[('outputVolume','inputT2')]),\n",
      "                     (inputsSpec,MakeResamplerInFilesListNode,[('LabelMapVolume','inputLabelMap')])])\n",
      "\n",
      "ResampleToB0Space = pe.MapNode(interface=BRAINSResample(), name=\"ResampleToB0Space\",\n",
      "                               iterfield=['inputVolume', 'pixelType', 'outputVolume'])\n",
      "ResampleToB0Space.inputs.interpolationMode = 'Linear'\n",
      "ResampleToB0Space.inputs.outputVolume = ['T2toB0.nrrd','BRAINMaskToB0.nrrd']\n",
      "ResampleToB0Space.inputs.pixelType = ['ushort','binary']\n",
      "DWIWorkflow.connect(BFit_T2toB0,'strippedOutputTransform',ResampleToB0Space,'warpTransform')\n",
      "DWIWorkflow.connect(EXTRACT_B0,'outputVolume',ResampleToB0Space,'referenceVolume')\n",
      "DWIWorkflow.connect(MakeResamplerInFilesListNode,'imagesList',ResampleToB0Space,'inputVolume')\n",
      "\n",
      "# This function helps to pick desirable output from the outputVolume list\n",
      "def pickFromList(inlist,item):\n",
      "    return inlist[item]\n",
      "\n",
      "# Step4: Create registration mask from resampled label map image\n",
      "def CreateAntsRegistrationMask(brainMask):\n",
      "    import os\n",
      "    import SimpleITK as sitk\n",
      "    assert os.path.exists(brainMask), \"File not found: %s\" % brainMask\n",
      "    labelsMap = sitk.ReadImage(brainMask)\n",
      "    label_mask = labelsMap>0\n",
      "    # erode the label mask\n",
      "    erodeFilter = sitk.BinaryErodeImageFilter()\n",
      "    erodeFilter.SetKernelRadius(4)\n",
      "    eroded_mask = erodeFilter.Execute( label_mask )\n",
      "    # dilate the label mask\n",
      "    dilateFilter = sitk.BinaryDilateImageFilter()\n",
      "    dilateFilter.SetKernelRadius(4)\n",
      "    dilated_mask = dilateFilter.Execute( label_mask )\n",
      "    regMask = eroded_mask - dilated_mask\n",
      "    registrationMask = os.path.realpath('registrationMask.nrrd')\n",
      "    sitk.WriteImage(regMask, registrationMask)\n",
      "    return registrationMask\n",
      "    \n",
      "CreateRegistrationMask = pe.Node(interface=Function(function = CreateAntsRegistrationMask, \n",
      "                                                    input_names=['brainMask'],\n",
      "                                                    output_names=['registrationMask']),\n",
      "                                 name=\"CreateAntsRegistrationMask\")\n",
      "\n",
      "DWIWorkflow.connect(ResampleToB0Space, ('outputVolume', pickFromList, 1), \n",
      "                    CreateRegistrationMask, 'brainMask')\n",
      "\n",
      "# Step5: Save direction cosine for the resampled T2 image\n",
      "def SaveDirectionCosineToMatrix(inputVolume):\n",
      "    import os\n",
      "    import SimpleITK as sitk\n",
      "    assert os.path.exists(inputVolume), \"File not found: %s\" % inputVolume\n",
      "    t2 = sitk.ReadImage(inputVolume)\n",
      "    directionCosine = t2.GetDirection()\n",
      "    return directionCosine\n",
      "\n",
      "SaveDirectionCosineToMatrixNode = pe.Node(interface=Function(function = SaveDirectionCosineToMatrix, \n",
      "                                                             input_names=['inputVolume'],\n",
      "                                                             output_names=['directionCosine']),\n",
      "                                          name=\"SaveDirectionCosineToMatrix\")\n",
      "\n",
      "DWIWorkflow.connect(ResampleToB0Space, ('outputVolume', pickFromList, 0), \n",
      "                    SaveDirectionCosineToMatrixNode, 'inputVolume')\n",
      "\n",
      "# Step6: Force DC to ID\n",
      "def MakeForceDCFilesList(inputB0, inputT2, inputLabelMap):\n",
      "    import os\n",
      "    assert os.path.exists(inputB0), \"File not found: %s\" % inputB0\n",
      "    assert os.path.exists(inputT2), \"File not found: %s\" % inputT2\n",
      "    assert os.path.exists(inputLabelMap), \"File not found: %s\" % inputLabelMap\n",
      "    imagesList = [inputB0, inputT2, inputLabelMap]\n",
      "    return imagesList\n",
      "    \n",
      "MakeForceDCFilesListNode = pe.Node(Function(function=MakeForceDCFilesList,\n",
      "                                             input_names=['inputB0','inputT2','inputLabelMap'],\n",
      "                                             output_names=['imagesList']),\n",
      "                                    name=\"MakeForceDCFilesListNode\")\n",
      "\n",
      "\n",
      "DWIWorkflow.connect([(EXTRACT_B0,MakeForceDCFilesListNode,[('outputVolume','inputB0')]),\n",
      "                     (ResampleToB0Space,MakeForceDCFilesListNode,[(('outputVolume', pickFromList, 0),'inputT2')]),\n",
      "                     (CreateRegistrationMask,MakeForceDCFilesListNode,[('registrationMask','inputLabelMap')])])\n",
      "\n",
      "def ForceDCtoID(inputVolume):\n",
      "    import os\n",
      "    import SimpleITK as sitk\n",
      "    inImage = sitk.ReadImage(inputVolume)\n",
      "    inImage.SetDirection((1.0, 0.0, 0.0, 0.0, 1.0, 0.0, 0.0, 0.0, 1.0))\n",
      "    outputVolume = os.path.realpath('IDDC_'+ os.path.basename(inputVolume))\n",
      "    sitk.WriteImage(inImage, outputVolume)\n",
      "    return outputVolume\n",
      "\n",
      "ForceDCtoIDNode = pe.MapNode(interface=Function(function = ForceDCtoID, \n",
      "                                                input_names=['inputVolume'],\n",
      "                                                output_names=['outputVolume']), \n",
      "                             name=\"ForceDCtoID\",\n",
      "                             iterfield=['inputVolume'])\n",
      "\n",
      "DWIWorkflow.connect(MakeForceDCFilesListNode, 'imagesList', ForceDCtoIDNode, 'inputVolume')\n",
      "\n",
      "# Step7: Run antsRegistration in one direction\n",
      "antsReg_B0ToTransformedT2 = pe.Node(interface=ants.Registration(), name=\"antsReg_B0ToTransformedT2\")\n",
      "antsReg_B0ToTransformedT2.inputs.dimension = 3\n",
      "antsReg_B0ToTransformedT2.inputs.transforms = [\"SyN\"]\n",
      "antsReg_B0ToTransformedT2.inputs.transform_parameters = [(0.25, 3.0, 0.0)]\n",
      "antsReg_B0ToTransformedT2.inputs.metric = ['MI']\n",
      "antsReg_B0ToTransformedT2.inputs.sampling_strategy = [None]\n",
      "antsReg_B0ToTransformedT2.inputs.sampling_percentage = [1.0]\n",
      "antsReg_B0ToTransformedT2.inputs.metric_weight = [1.0]\n",
      "antsReg_B0ToTransformedT2.inputs.radius_or_number_of_bins = [32]\n",
      "antsReg_B0ToTransformedT2.inputs.number_of_iterations = [[70, 50, 40]]\n",
      "antsReg_B0ToTransformedT2.inputs.convergence_threshold = [1e-6]\n",
      "antsReg_B0ToTransformedT2.inputs.convergence_window_size = [10]\n",
      "antsReg_B0ToTransformedT2.inputs.use_histogram_matching = [True]\n",
      "antsReg_B0ToTransformedT2.inputs.shrink_factors = [[3, 2, 1]]\n",
      "antsReg_B0ToTransformedT2.inputs.smoothing_sigmas = [[2, 1, 0]]\n",
      "antsReg_B0ToTransformedT2.inputs.sigma_units = [\"vox\"]\n",
      "antsReg_B0ToTransformedT2.inputs.use_estimate_learning_rate_once = [False]\n",
      "antsReg_B0ToTransformedT2.inputs.write_composite_transform = True\n",
      "antsReg_B0ToTransformedT2.inputs.collapse_output_transforms = False\n",
      "antsReg_B0ToTransformedT2.inputs.initialize_transforms_per_stage = False\n",
      "antsReg_B0ToTransformedT2.inputs.output_transform_prefix = 'Tsyn'\n",
      "antsReg_B0ToTransformedT2.inputs.winsorize_lower_quantile = 0.01\n",
      "antsReg_B0ToTransformedT2.inputs.winsorize_upper_quantile = 0.99\n",
      "antsReg_B0ToTransformedT2.inputs.args = '--float 1 --restrict-deformation 0x1x0'\n",
      "\n",
      "DWIWorkflow.connect(ForceDCtoIDNode, ('outputVolume', pickFromList, 1), antsReg_B0ToTransformedT2, 'fixed_image')\n",
      "DWIWorkflow.connect(ForceDCtoIDNode, ('outputVolume', pickFromList, 2), antsReg_B0ToTransformedT2, 'fixed_image_mask')\n",
      "DWIWorkflow.connect(ForceDCtoIDNode, ('outputVolume', pickFromList, 0), antsReg_B0ToTransformedT2, 'moving_image')\n",
      "\n",
      "# Step8: Now, all necessary transforms are acquired. It's a time to \n",
      "#        transform input DWI image into T2 image space\n",
      "# {DWI} --> ForceDCtoID --> gtractResampleDWIInPlace(using SyN transfrom) \n",
      "# --> Restore DirectionCosine From Saved Matrix --> gtractResampleDWIInPlace(inverse of T_rigid from BFit)\n",
      "# --> {CorrectedDW_in_T2Space}\n",
      "\n",
      "DWI_ForceDCtoIDNode = pe.Node(interface=Function(function = ForceDCtoID, \n",
      "                                                 input_names=['inputVolume'],\n",
      "                                                 output_names=['outputVolume']), \n",
      "                              name='DWI_ForceDCtoIDNode')\n",
      "\n",
      "DWIWorkflow.connect(inputsSpec,'DWIVolume',DWI_ForceDCtoIDNode,'inputVolume')\n",
      "\n",
      "def pickCompositeTransfromFromList(composite_transform_as_list):\n",
      "    return composite_transform_as_list[0]\n",
      "\n",
      "gtractResampleDWI_SyN = pe.Node(interface=gtractResampleDWIInPlace(), \n",
      "                                       name=\"gtractResampleDWI_SyN\")\n",
      "\n",
      "DWIWorkflow.connect(DWI_ForceDCtoIDNode,'outputVolume',gtractResampleDWI_SyN,'inputVolume')\n",
      "DWIWorkflow.connect(antsReg_B0ToTransformedT2,('composite_transform',pickCompositeTransfromFromList),gtractResampleDWI_SyN,'warpDWITransform')\n",
      "DWIWorkflow.connect(ForceDCtoIDNode,('outputVolume', pickFromList, 1),gtractResampleDWI_SyN,'referenceVolume') # fixed image of antsRegistration\n",
      "gtractResampleDWI_SyN.inputs.outputVolume = 'IDDC_correctedDWI.nrrd'\n",
      "\n",
      "def RestoreDCFromSavedMatrix(inputVolume, inputDirectionCosine):\n",
      "    import os\n",
      "    import SimpleITK as sitk\n",
      "    inImage = sitk.ReadImage(inputVolume)\n",
      "    inImage.SetDirection(inputDirectionCosine)\n",
      "    outputVolume = os.path.realpath('correctedDWI.nrrd')\n",
      "    sitk.WriteImage(inImage, outputVolume)\n",
      "    return outputVolume\n",
      "\n",
      "RestoreDCFromSavedMatrixNode = pe.Node(interface=Function(function = RestoreDCFromSavedMatrix, \n",
      "                                                          input_names=['inputVolume','inputDirectionCosine'],\n",
      "                                                          output_names=['outputVolume']), \n",
      "                                       name='RestoreDCFromSavedMatrix')\n",
      "\n",
      "DWIWorkflow.connect(gtractResampleDWI_SyN,'outputVolume',RestoreDCFromSavedMatrixNode,'inputVolume')\n",
      "DWIWorkflow.connect(SaveDirectionCosineToMatrixNode,'directionCosine',RestoreDCFromSavedMatrixNode,'inputDirectionCosine')\n",
      "\n",
      "def GetRigidTransformInverse(inputTransform):\n",
      "    import os\n",
      "    import SimpleITK as sitk\n",
      "    inputTx = sitk.ReadTransform(inputTransform)\n",
      "    versorRigidTx = sitk.VersorRigid3DTransform()\n",
      "    versorRigidTx.SetFixedParameters(inputTx.GetFixedParameters())\n",
      "    versorRigidTx.SetParameters(inputTx.GetParameters())\n",
      "    invTx = versorRigidTx.GetInverse()\n",
      "    inverseTransform = os.path.realpath('Inverse_'+ os.path.basename(inputTransform))\n",
      "    sitk.WriteTransform(invTx, inverseTransform)\n",
      "    return inverseTransform\n",
      "\n",
      "GetRigidTransformInverseNode = pe.Node(interface=Function(function = GetRigidTransformInverse, \n",
      "                                                          input_names=['inputTransform'],\n",
      "                                                          output_names=['inverseTransform']), \n",
      "                                       name='GetRigidTransformInverse')\n",
      "\n",
      "DWIWorkflow.connect(BFit_T2toB0,'strippedOutputTransform',GetRigidTransformInverseNode,'inputTransform')\n",
      "\n",
      "gtractResampleDWIInPlace_Trigid = pe.Node(interface=gtractResampleDWIInPlace(), \n",
      "                                       name=\"gtractResampleDWIInPlace_Trigid\")\n",
      "\n",
      "DWIWorkflow.connect(RestoreDCFromSavedMatrixNode,'outputVolume',gtractResampleDWIInPlace_Trigid,'inputVolume')\n",
      "DWIWorkflow.connect(GetRigidTransformInverseNode,'inverseTransform',gtractResampleDWIInPlace_Trigid,'inputTransform') #Inverse of rigid transform from BFit\n",
      "gtractResampleDWIInPlace_Trigid.inputs.outputVolume = 'CorrectedDWI_in_T2Space.nrrd'\n",
      "gtractResampleDWIInPlace_Trigid.inputs.outputResampledB0 = 'CorrectedDWI_in_T2Space_B0.nrrd'\n",
      "\n",
      "# Finally we pass the outputs of the gtractResampleDWIInPlace_Trigid to the outputsSpec\n",
      "DWIWorkflow.connect(gtractResampleDWIInPlace_Trigid, 'outputVolume', outputsSpec, 'CorrectedDWI_in_T2Space')\n",
      "\n",
      "# Step9: Create brain mask from the input labelmap\n",
      "DWIBRAINMASK = pe.Node(interface=BRAINSResample(), name='DWIBRAINMASK')\n",
      "DWIBRAINMASK.inputs.interpolationMode = 'Linear'\n",
      "DWIBRAINMASK.inputs.outputVolume = 'BrainMaskForDWI.nrrd'\n",
      "DWIBRAINMASK.inputs.pixelType = 'binary'\n",
      "DWIWorkflow.connect(gtractResampleDWIInPlace_Trigid,'outputResampledB0',DWIBRAINMASK,'referenceVolume')\n",
      "DWIWorkflow.connect(inputsSpec,'LabelMapVolume',DWIBRAINMASK,'inputVolume')\n",
      "DWIWorkflow.connect(DWIBRAINMASK, 'outputVolume', outputsSpec, 'DWIBrainMask')\n",
      "\n",
      "# Step10: DTI estimation\n",
      "DTIEstim = pe.Node(interface=dtiestim(), name=\"DTIEstim\")\n",
      "DTIEstim.inputs.method = 'wls'\n",
      "DTIEstim.inputs.tensor_output = 'DTI_Output.nrrd'\n",
      "DWIWorkflow.connect(gtractResampleDWIInPlace_Trigid, 'outputVolume', DTIEstim, 'dwi_image')\n",
      "DWIWorkflow.connect(DWIBRAINMASK, 'outputVolume', DTIEstim, 'brain_mask')\n",
      "DWIWorkflow.connect(DTIEstim, 'tensor_output', outputsSpec, 'tensor_image')\n",
      "\n",
      "# Step11: DTI process\n",
      "DTIProcess = pe.Node(interface=dtiprocess(), name='DTIProcess')\n",
      "DTIProcess.inputs.fa_output = 'FA.nrrd'\n",
      "DTIProcess.inputs.md_output = 'MD.nrrd'\n",
      "DTIProcess.inputs.RD_output = 'RD.nrrd'\n",
      "DTIProcess.inputs.frobenius_norm_output = 'frobenius_norm_output.nrrd'\n",
      "DTIProcess.inputs.lambda1_output = 'lambda1_output.nrrd'\n",
      "DTIProcess.inputs.lambda2_output = 'lambda2_output.nrrd'\n",
      "DTIProcess.inputs.lambda3_output = 'lambda3_output.nrrd'\n",
      "DTIProcess.inputs.scalar_float = True\n",
      "\n",
      "DWIWorkflow.connect(DTIEstim, 'tensor_output', DTIProcess, 'dti_image')\n",
      "DWIWorkflow.connect(DTIProcess, 'fa_output', outputsSpec, 'FAImage')\n",
      "DWIWorkflow.connect(DTIProcess, 'md_output', outputsSpec, 'MDImage')\n",
      "DWIWorkflow.connect(DTIProcess, 'RD_output', outputsSpec, 'RDImage')\n",
      "DWIWorkflow.connect(DTIProcess, 'frobenius_norm_output', outputsSpec, 'FrobeniusNormImage')\n",
      "DWIWorkflow.connect(DTIProcess, 'lambda1_output', outputsSpec, 'Lambda1Image')\n",
      "DWIWorkflow.connect(DTIProcess, 'lambda2_output', outputsSpec, 'Lambda2Image')\n",
      "DWIWorkflow.connect(DTIProcess, 'lambda3_output', outputsSpec, 'Lambda3Image')\n",
      "\n",
      "# Step12: Write outputs with DataSink \n",
      "DWIDataSink = pe.Node(interface=nio.DataSink(), name='DWIDataSink')\n",
      "DWIDataSink.inputs.base_directory = os.path.join(BASE_DIR,'Results')\n",
      "DWIDataSink.inputs.container = sessionID\n",
      "\n",
      "DWIWorkflow.connect(outputsSpec, 'CorrectedDWI_in_T2Space', DWIDataSink, 'Outputs.@CorrectedDWI_in_T2Space')\n",
      "DWIWorkflow.connect(outputsSpec, 'tensor_image', DWIDataSink, 'Outputs.@tensor_image')\n",
      "DWIWorkflow.connect(outputsSpec, 'DWIBrainMask', DWIDataSink, 'Outputs.@DWIBrainMask')\n",
      "DWIWorkflow.connect(outputsSpec, 'FAImage', DWIDataSink, 'Outputs.@FAImage')\n",
      "DWIWorkflow.connect(outputsSpec, 'MDImage', DWIDataSink, 'Outputs.@MDImage')\n",
      "DWIWorkflow.connect(outputsSpec, 'RDImage', DWIDataSink, 'Outputs.@RDImage')\n",
      "DWIWorkflow.connect(outputsSpec, 'FrobeniusNormImage', DWIDataSink, 'Outputs.@FrobeniusNormImage')\n",
      "DWIWorkflow.connect(outputsSpec, 'Lambda1Image', DWIDataSink, 'Outputs.@Lambda1Image')\n",
      "DWIWorkflow.connect(outputsSpec, 'Lambda2Image', DWIDataSink, 'Outputs.@Lambda2Image')\n",
      "DWIWorkflow.connect(outputsSpec, 'Lambda3Image', DWIDataSink, 'Outputs.@Lambda3Image')\n",
      "\n",
      "DWIWorkflow.write_graph()\n",
      "DWIWorkflow.run()"
     ],
     "language": "python",
     "metadata": {},
     "outputs": [
      {
       "output_type": "stream",
       "stream": "stderr",
       "text": [
        "INFO:workflow:Converting dotfile: /scratch/TESTS/IpythonNotebook/1_DWI_Nipype_workflow/DWIWorkflow_823955340_20080609_30/graph.dot to png format\n"
       ]
      },
      {
       "output_type": "stream",
       "stream": "stderr",
       "text": [
        "INFO:workflow:['check', 'execution', 'logging']\n"
       ]
      },
      {
       "output_type": "stream",
       "stream": "stderr",
       "text": [
        "INFO:workflow:Running serially.\n"
       ]
      },
      {
       "output_type": "stream",
       "stream": "stderr",
       "text": [
        "INFO:workflow:Executing node EXTRACT_B0 in dir: /scratch/TESTS/IpythonNotebook/1_DWI_Nipype_workflow/DWIWorkflow_823955340_20080609_30/EXTRACT_B0\n"
       ]
      },
      {
       "output_type": "stream",
       "stream": "stderr",
       "text": [
        "INFO:workflow:Running:  extractNrrdVectorIndex  --inputVolume /Shared/johnsonhj/TrackOn/Experiments/20140203_DWIProcessing/VISUALLY_INSPECTED/HDNI_003/823955340/823955340_20080609_30/823955340_823955340_20080609_30_DWI_CONCAT_QCed_INSPECTED.nrrd --outputVolume B0_Image.nrrd --vectorIndex 0\n"
       ]
      },
      {
       "output_type": "stream",
       "stream": "stderr",
       "text": [
        "INFO:interface:stdout 2015-01-11T20:53:03.515318:Input Image: /Shared/johnsonhj/TrackOn/Experiments/20140203_DWIProcessing/VISUALLY_INSPECTED/HDNI_003/823955340/823955340_20080609_30/823955340_823955340_20080609_30_DWI_CONCAT_QCed_INSPECTED.nrrd\n"
       ]
      },
      {
       "output_type": "stream",
       "stream": "stderr",
       "text": [
        "INFO:interface:stdout 2015-01-11T20:53:03.515318:Output Image: B0_Image.nrrd\n"
       ]
      },
      {
       "output_type": "stream",
       "stream": "stderr",
       "text": [
        "INFO:interface:stdout 2015-01-11T20:53:03.515318:Vector Index: 0\n"
       ]
      },
      {
       "output_type": "stream",
       "stream": "stderr",
       "text": [
        "INFO:interface:stdout 2015-01-11T20:53:03.515318:Set Image Orientation: AsAcquired\n"
       ]
      },
      {
       "output_type": "stream",
       "stream": "stderr",
       "text": [
        "INFO:interface:stdout 2015-01-11T20:53:03.515318:\n"
       ]
      },
      {
       "output_type": "stream",
       "stream": "stderr",
       "text": [
        "INFO:workflow:Executing node DWI_ForceDCtoIDNode in dir: /scratch/TESTS/IpythonNotebook/1_DWI_Nipype_workflow/DWIWorkflow_823955340_20080609_30/DWI_ForceDCtoIDNode\n"
       ]
      },
      {
       "output_type": "stream",
       "stream": "stderr",
       "text": [
        "INFO:workflow:Executing node ExtractBRAINFromHead in dir: /scratch/TESTS/IpythonNotebook/1_DWI_Nipype_workflow/DWIWorkflow_823955340_20080609_30/ExtractBRAINFromHead\n"
       ]
      },
      {
       "output_type": "stream",
       "stream": "stderr",
       "text": [
        "INFO:workflow:Executing node BFit_T2toB0 in dir: /scratch/TESTS/IpythonNotebook/1_DWI_Nipype_workflow/DWIWorkflow_823955340_20080609_30/BFit_T2toB0\n"
       ]
      },
      {
       "output_type": "stream",
       "stream": "stderr",
       "text": [
        "INFO:workflow:Running:  BRAINSFit  --ROIAutoDilateSize 13.000000 --backgroundFillValue 0.000000 --costMetric MMI --fixedVolume /Volumes/scratch/TESTS/IpythonNotebook/1_DWI_Nipype_workflow/DWIWorkflow_823955340_20080609_30/EXTRACT_B0/B0_Image.nrrd --initializeTransformMode useCenterOfHeadAlign --maskInferiorCutOffFromCenter 65.000000 --maskProcessingMode ROIAUTO --maximumStepLength 0.200000 --minimumStepLength 5e-05 --movingVolume /Volumes/scratch/TESTS/IpythonNotebook/1_DWI_Nipype_workflow/DWIWorkflow_823955340_20080609_30/ExtractBRAINFromHead/T2Stripped.nrrd --numberOfHistogramBins 50 --numberOfIterations 1500 --numberOfSamples 100000 --strippedOutputTransform T2ToB0_RigidTransform.h5 --useAffine  --useRigid \n"
       ]
      },
      {
       "output_type": "stream",
       "stream": "stderr",
       "text": [
        "INFO:interface:stdout 2015-01-11T20:53:05.102716:Original Fixed image origin[-109.009, -109.767, -56.6923, 0]\n"
       ]
      },
      {
       "output_type": "stream",
       "stream": "stderr",
       "text": [
        "INFO:interface:stdout 2015-01-11T20:53:05.245322:ListSample TotalFrequency is  802816\n"
       ]
      },
      {
       "output_type": "stream",
       "stream": "stderr",
       "text": [
        "INFO:interface:stdout 2015-01-11T20:53:05.320230:1057 ValidHistogramsEntries,  802816 TotalFrequency\n"
       ]
      },
      {
       "output_type": "stream",
       "stream": "stderr",
       "text": [
        "INFO:interface:stdout 2015-01-11T20:53:05.320230:0.01 ---> 0\n"
       ]
      },
      {
       "output_type": "stream",
       "stream": "stderr",
       "text": [
        "INFO:interface:stdout 2015-01-11T20:53:05.320230:0.99 ---> 401\n"
       ]
      },
      {
       "output_type": "stream",
       "stream": "stderr",
       "text": [
        "INFO:interface:stdout 2015-01-11T20:53:05.350435:LowHigh Thresholds: [106,2147483647]\n"
       ]
      },
      {
       "output_type": "stream",
       "stream": "stderr",
       "text": [
        "INFO:interface:stdout 2015-01-11T20:53:06.607667:ListSample TotalFrequency is  7990528\n"
       ]
      },
      {
       "output_type": "stream",
       "stream": "stderr",
       "text": [
        "INFO:interface:stdout 2015-01-11T20:53:07.296193:4072 ValidHistogramsEntries,  7990528 TotalFrequency\n"
       ]
      },
      {
       "output_type": "stream",
       "stream": "stderr",
       "text": [
        "INFO:interface:stdout 2015-01-11T20:53:07.296193:0.01 ---> 0\n"
       ]
      },
      {
       "output_type": "stream",
       "stream": "stderr",
       "text": [
        "INFO:interface:stdout 2015-01-11T20:53:07.296193:0.99 ---> 2448\n"
       ]
      },
      {
       "output_type": "stream",
       "stream": "stderr",
       "text": [
        "INFO:interface:stdout 2015-01-11T20:53:07.402275:LowHigh Thresholds: [752,2147483647]\n"
       ]
      },
      {
       "output_type": "stream",
       "stream": "stderr",
       "text": [
        "INFO:interface:stdout 2015-01-11T20:53:19.933025:WARNING --numberOfSamples is deprecated, please use --samplingPercentage instead \n"
       ]
      },
      {
       "output_type": "stream",
       "stream": "stderr",
       "text": [
        "INFO:interface:stdout 2015-01-11T20:53:19.933025:WARNING: Replacing command line --samplingPercentage 0.124562\n"
       ]
      },
      {
       "output_type": "stream",
       "stream": "stderr",
       "text": [
        "INFO:interface:stdout 2015-01-11T20:53:20.129343:TranformTypes: Rigid(1 of 2).\n"
       ]
      },
      {
       "output_type": "stream",
       "stream": "stderr",
       "text": [
        "INFO:interface:stdout 2015-01-11T20:53:20.129343:\n"
       ]
      },
      {
       "output_type": "stream",
       "stream": "stderr",
       "text": [
        "INFO:interface:stdout 2015-01-11T20:53:20.129343:TranformTypes: Affine(2 of 2).\n"
       ]
      },
      {
       "output_type": "stream",
       "stream": "stderr",
       "text": [
        "INFO:interface:stdout 2015-01-11T20:53:20.129343:\n"
       ]
      },
      {
       "output_type": "stream",
       "stream": "stderr",
       "text": [
        "INFO:interface:stdout 2015-01-11T20:53:20.129343:Initializing transform with useCenterOfHeadAlign\n"
       ]
      },
      {
       "output_type": "stream",
       "stream": "stderr",
       "text": [
        "INFO:interface:stdout 2015-01-11T20:53:20.181794:maxSIDirection = 105.5\n"
       ]
      },
      {
       "output_type": "stream",
       "stream": "stderr",
       "text": [
        "INFO:interface:stdout 2015-01-11T20:53:20.269115:Computing Sampled Distance Computations\n"
       ]
      },
      {
       "output_type": "stream",
       "stream": "stderr",
       "text": [
        "INFO:interface:stdout 2015-01-11T20:53:21.333091:maxSIDirection = 74.8159\n"
       ]
      },
      {
       "output_type": "stream",
       "stream": "stderr",
       "text": [
        "INFO:interface:stdout 2015-01-11T20:53:21.342797:Computing Sampled Distance Computations\n"
       ]
      },
      {
       "output_type": "stream",
       "stream": "stderr",
       "text": [
        "INFO:interface:stdout 2015-01-11T20:53:23.012370:Initializing transform with useCenterOfHeadAlign to \n"
       ]
      },
      {
       "output_type": "stream",
       "stream": "stderr",
       "text": [
        "INFO:interface:stdout 2015-01-11T20:53:23.012370:VersorRigid3DTransform (0x7fa371609050)\n"
       ]
      },
      {
       "output_type": "stream",
       "stream": "stderr",
       "text": [
        "INFO:interface:stdout 2015-01-11T20:53:23.012370:  RTTI typeinfo:   itk::VersorRigid3DTransform<double>\n"
       ]
      },
      {
       "output_type": "stream",
       "stream": "stderr",
       "text": [
        "INFO:interface:stdout 2015-01-11T20:53:23.014387:  Reference Count: 2\n"
       ]
      },
      {
       "output_type": "stream",
       "stream": "stderr",
       "text": [
        "INFO:interface:stdout 2015-01-11T20:53:23.014387:  Modified Time: 403160\n"
       ]
      },
      {
       "output_type": "stream",
       "stream": "stderr",
       "text": [
        "INFO:interface:stdout 2015-01-11T20:53:23.014387:  Debug: Off\n"
       ]
      },
      {
       "output_type": "stream",
       "stream": "stderr",
       "text": [
        "INFO:interface:stdout 2015-01-11T20:53:23.014387:  Object Name: \n"
       ]
      },
      {
       "output_type": "stream",
       "stream": "stderr",
       "text": [
        "INFO:interface:stdout 2015-01-11T20:53:23.014387:  Observers: \n"
       ]
      },
      {
       "output_type": "stream",
       "stream": "stderr",
       "text": [
        "INFO:interface:stdout 2015-01-11T20:53:23.014387:    none\n"
       ]
      },
      {
       "output_type": "stream",
       "stream": "stderr",
       "text": [
        "INFO:interface:stdout 2015-01-11T20:53:23.014387:  Matrix: \n"
       ]
      },
      {
       "output_type": "stream",
       "stream": "stderr",
       "text": [
        "INFO:interface:stdout 2015-01-11T20:53:23.014387:    0.99863 0.0520493 -0.0054706 \n"
       ]
      },
      {
       "output_type": "stream",
       "stream": "stderr",
       "text": [
        "INFO:interface:stdout 2015-01-11T20:53:23.014387:    -0.052336 0.993159 -0.104385 \n"
       ]
      },
      {
       "output_type": "stream",
       "stream": "stderr",
       "text": [
        "INFO:interface:stdout 2015-01-11T20:53:23.014387:    4.33681e-19 0.104528 0.994522 \n"
       ]
      },
      {
       "output_type": "stream",
       "stream": "stderr",
       "text": [
        "INFO:interface:stdout 2015-01-11T20:53:23.014387:  Offset: [4.51482, 31.5197, 10.8616]\n"
       ]
      },
      {
       "output_type": "stream",
       "stream": "stderr",
       "text": [
        "INFO:interface:stdout 2015-01-11T20:53:23.014387:  Center: [-4.06168, -10.8725, 2.19632]\n"
       ]
      },
      {
       "output_type": "stream",
       "stream": "stderr",
       "text": [
        "INFO:interface:stdout 2015-01-11T20:53:23.014387:  Translation: [3.94247, 31.5774, 9.71312]\n"
       ]
      },
      {
       "output_type": "stream",
       "stream": "stderr",
       "text": [
        "INFO:interface:stdout 2015-01-11T20:53:23.014387:  Inverse: \n"
       ]
      },
      {
       "output_type": "stream",
       "stream": "stderr",
       "text": [
        "INFO:interface:stdout 2015-01-11T20:53:23.014387:    0.99863 -0.052336 4.33681e-19 \n"
       ]
      },
      {
       "output_type": "stream",
       "stream": "stderr",
       "text": [
        "INFO:interface:stdout 2015-01-11T20:53:23.014387:    0.0520493 0.993159 0.104528 \n"
       ]
      },
      {
       "output_type": "stream",
       "stream": "stderr",
       "text": [
        "INFO:interface:stdout 2015-01-11T20:53:23.014387:    -0.0054706 -0.104385 0.994522 \n"
       ]
      },
      {
       "output_type": "stream",
       "stream": "stderr",
       "text": [
        "INFO:interface:stdout 2015-01-11T20:53:23.014387:  Singular: 0\n"
       ]
      },
      {
       "output_type": "stream",
       "stream": "stderr",
       "text": [
        "INFO:interface:stdout 2015-01-11T20:53:23.014387:  Versor: [ 0.052318, -0.00137, -0.0261411, 0.998287 ]\n"
       ]
      },
      {
       "output_type": "stream",
       "stream": "stderr",
       "text": [
        "INFO:interface:stdout 2015-01-11T20:53:23.014387:\n"
       ]
      },
      {
       "output_type": "stream",
       "stream": "stderr",
       "text": [
        "INFO:interface:stdout 2015-01-11T20:53:23.014387:===============================================\n"
       ]
      },
      {
       "output_type": "stream",
       "stream": "stderr",
       "text": [
        "INFO:interface:stderr 2015-01-11T20:53:23.022234:maskInferiorCutOffFromCenter is 65\n"
       ]
      },
      {
       "output_type": "stream",
       "stream": "stderr",
       "text": [
        "INFO:interface:stdout 2015-01-11T20:53:23.110909:\n"
       ]
      },
      {
       "output_type": "stream",
       "stream": "stderr",
       "text": [
        "INFO:interface:stdout 2015-01-11T20:53:23.110909:\n"
       ]
      },
      {
       "output_type": "stream",
       "stream": "stderr",
       "text": [
        "INFO:interface:stdout 2015-01-11T20:53:23.110909:\n"
       ]
      },
      {
       "output_type": "stream",
       "stream": "stderr",
       "text": [
        "INFO:interface:stdout 2015-01-11T20:53:23.110909:=============================== ITKv4 Registration: Starting Transform Estimations for Rigid(1 of 2).===============================\n"
       ]
      },
      {
       "output_type": "stream",
       "stream": "stderr",
       "text": [
        "INFO:interface:stdout 2015-01-11T20:53:23.110909:\n"
       ]
      },
      {
       "output_type": "stream",
       "stream": "stderr",
       "text": [
        "INFO:interface:stdout 2015-01-11T20:53:23.846204:   0    -0.439435   [ 0.0508733 -0.00106022 -0.0257416 4.01597 31.4327 9.59626 ]\n"
       ]
      },
      {
       "output_type": "stream",
       "stream": "stderr",
       "text": [
        "INFO:interface:stdout 2015-01-11T20:53:23.895101:   1    -0.448909   [ 0.0494417 -0.000357934 -0.0247833 4.08746 31.2765 9.49398 ]\n"
       ]
      },
      {
       "output_type": "stream",
       "stream": "stderr",
       "text": [
        "INFO:interface:stdout 2015-01-11T20:53:23.945701:   2    -0.457452   [ 0.0492232 2.29808e-05 -0.0250755 4.16082 31.1363 9.37161 ]\n"
       ]
      },
      {
       "output_type": "stream",
       "stream": "stderr",
       "text": [
        "INFO:interface:stdout 2015-01-11T20:53:23.991371:   3    -0.464985   [ 0.0484579 0.000228583 -0.025098 4.23224 30.9821 9.26616 ]\n"
       ]
      },
      {
       "output_type": "stream",
       "stream": "stderr",
       "text": [
        "INFO:interface:stdout 2015-01-11T20:53:24.037397:   4     -0.47268   [ 0.0476428 0.000371498 -0.0251489 4.30943 30.8259 9.16808 ]\n"
       ]
      },
      {
       "output_type": "stream",
       "stream": "stderr",
       "text": [
        "INFO:interface:stdout 2015-01-11T20:53:24.085609:   5    -0.480397   [ 0.0478986 0.00128247 -0.0254786 4.36112 30.6749 9.04745 ]\n"
       ]
      },
      {
       "output_type": "stream",
       "stream": "stderr",
       "text": [
        "INFO:interface:stdout 2015-01-11T20:53:24.128044:   6     -0.48834   [ 0.0475471 0.00132303 -0.0256978 4.41344 30.5192 8.93344 ]\n"
       ]
      },
      {
       "output_type": "stream",
       "stream": "stderr",
       "text": [
        "INFO:interface:stdout 2015-01-11T20:53:24.174878:   7    -0.496838   [ 0.0467628 0.00157315 -0.0252815 4.46251 30.3637 8.81762 ]\n"
       ]
      },
      {
       "output_type": "stream",
       "stream": "stderr",
       "text": [
        "INFO:interface:stdout 2015-01-11T20:53:24.219516:   8    -0.505088   [ 0.0471806 0.00157388 -0.0247134 4.51588 30.2106 8.70053 ]\n"
       ]
      },
      {
       "output_type": "stream",
       "stream": "stderr",
       "text": [
        "INFO:interface:stdout 2015-01-11T20:53:24.267554:   9    -0.514542   [ 0.0475972 0.00114006 -0.0235796 4.56539 30.0513 8.59028 ]\n"
       ]
      },
      {
       "output_type": "stream",
       "stream": "stderr",
       "text": [
        "INFO:interface:stdout 2015-01-11T20:53:24.311114:  10    -0.524041   [ 0.0494215 0.00120261 -0.0231766 4.5967 29.8873 8.48018 ]\n"
       ]
      },
      {
       "output_type": "stream",
       "stream": "stderr",
       "text": [
        "INFO:interface:stdout 2015-01-11T20:53:24.356751:  11    -0.534711   [ 0.051289 0.000856722 -0.0233758 4.62538 29.729 8.36139 ]\n"
       ]
      },
      {
       "output_type": "stream",
       "stream": "stderr",
       "text": [
        "INFO:interface:stdout 2015-01-11T20:53:24.401109:  12     -0.54544   [ 0.0539987 0.000947526 -0.0227809 4.64422 29.5658 8.24748 ]\n"
       ]
      },
      {
       "output_type": "stream",
       "stream": "stderr",
       "text": [
        "INFO:interface:stdout 2015-01-11T20:53:24.445574:  13    -0.557574   [ 0.0556705 0.000819565 -0.0217665 4.6857 29.3992 8.14503 ]\n"
       ]
      },
      {
       "output_type": "stream",
       "stream": "stderr",
       "text": [
        "INFO:interface:stdout 2015-01-11T20:53:24.491582:  14    -0.568161   [ 0.057625 0.000589978 -0.0211673 4.71744 29.2318 8.04037 ]\n"
       ]
      },
      {
       "output_type": "stream",
       "stream": "stderr",
       "text": [
        "INFO:interface:stdout 2015-01-11T20:53:24.532386:  15    -0.580162   [ 0.0586478 0.000409497 -0.0208051 4.7559 29.0734 7.92446 ]\n"
       ]
      },
      {
       "output_type": "stream",
       "stream": "stderr",
       "text": [
        "INFO:interface:stdout 2015-01-11T20:53:24.581966:  16    -0.591798   [ 0.0600585 0.000159664 -0.0199699 4.78351 28.9134 7.80777 ]\n"
       ]
      },
      {
       "output_type": "stream",
       "stream": "stderr",
       "text": [
        "INFO:interface:stdout 2015-01-11T20:53:24.628424:  17    -0.604018   [ 0.0612617 0.000746002 -0.0192449 4.80859 28.7519 7.69257 ]\n"
       ]
      },
      {
       "output_type": "stream",
       "stream": "stderr",
       "text": [
        "INFO:interface:stdout 2015-01-11T20:53:24.675538:  18    -0.615831   [ 0.0621266 0.000951951 -0.0187691 4.83723 28.6 7.56562 ]\n"
       ]
      },
      {
       "output_type": "stream",
       "stream": "stderr",
       "text": [
        "INFO:interface:stdout 2015-01-11T20:53:24.719915:  19    -0.627458   [ 0.0631957 0.0012728 -0.018489 4.88108 28.4549 7.43519 ]\n"
       ]
      },
      {
       "output_type": "stream",
       "stream": "stderr",
       "text": [
        "INFO:interface:stdout 2015-01-11T20:53:24.768422:  20    -0.638437   [ 0.0636742 0.00124032 -0.0183392 4.91167 28.2991 7.31351 ]\n"
       ]
      },
      {
       "output_type": "stream",
       "stream": "stderr",
       "text": [
        "INFO:interface:stdout 2015-01-11T20:53:24.814772:  21    -0.648791   [ 0.0642567 0.00141509 -0.0184337 4.94754 28.1429 7.19393 ]\n"
       ]
      },
      {
       "output_type": "stream",
       "stream": "stderr",
       "text": [
        "INFO:interface:stdout 2015-01-11T20:53:24.865116:  22    -0.658725   [ 0.0651093 0.00178437 -0.0188978 4.97387 27.982 7.0781 ]\n"
       ]
      },
      {
       "output_type": "stream",
       "stream": "stderr",
       "text": [
        "INFO:interface:stdout 2015-01-11T20:53:24.909997:  23    -0.667935   [ 0.0651367 0.0016333 -0.0178135 4.98719 27.8224 6.95838 ]\n"
       ]
      },
      {
       "output_type": "stream",
       "stream": "stderr",
       "text": [
        "INFO:interface:stdout 2015-01-11T20:53:24.954658:  24    -0.676107   [ 0.0655291 0.00133792 -0.0174291 5.00377 27.6564 6.84804 ]\n"
       ]
      },
      {
       "output_type": "stream",
       "stream": "stderr",
       "text": [
        "INFO:interface:stdout 2015-01-11T20:53:24.995341:  25    -0.682678   [ 0.0652144 0.00108317 -0.0177742 4.99996 27.4934 6.73223 ]\n"
       ]
      },
      {
       "output_type": "stream",
       "stream": "stderr",
       "text": [
        "INFO:interface:stdout 2015-01-11T20:53:25.046011:  26    -0.688808   [ 0.0655751 0.000744922 -0.0177206 5.01193 27.3032 6.67135 ]\n"
       ]
      },
      {
       "output_type": "stream",
       "stream": "stderr",
       "text": [
        "INFO:interface:stdout 2015-01-11T20:53:25.089820:  27    -0.694138   [ 0.0666082 0.000391921 -0.0172063 5.01337 27.1149 6.60416 ]\n"
       ]
      },
      {
       "output_type": "stream",
       "stream": "stderr",
       "text": [
        "INFO:interface:stdout 2015-01-11T20:53:25.134261:  28    -0.698291   [ 0.0668353 -0.000224412 -0.0170751 5.09198 26.9654 6.497 ]\n"
       ]
      },
      {
       "output_type": "stream",
       "stream": "stderr",
       "text": [
        "INFO:interface:stdout 2015-01-11T20:53:25.179103:  29    -0.701299   [ 0.0686487 -0.00073108 -0.0196582 5.08272 26.7743 6.43921 ]\n"
       ]
      },
      {
       "output_type": "stream",
       "stream": "stderr",
       "text": [
        "INFO:interface:stdout 2015-01-11T20:53:25.229337:  30    -0.700015   [ 0.0576117 0.0019537 -0.00463245 4.90868 26.7841 6.34869 ]\n"
       ]
      },
      {
       "output_type": "stream",
       "stream": "stderr",
       "text": [
        "INFO:interface:stdout 2015-01-11T20:53:25.270510:  31    -0.648263   [ 0.0652423 0.000760828 -0.0167654 4.98693 26.7925 6.40327 ]\n"
       ]
      },
      {
       "output_type": "stream",
       "stream": "stderr",
       "text": [
        "INFO:interface:stdout 2015-01-11T20:53:25.313482:  32    -0.700456   [ 0.0787297 -0.000573069 -0.0183235 5.05084 26.7994 6.47482 ]\n"
       ]
      },
      {
       "output_type": "stream",
       "stream": "stderr",
       "text": [
        "INFO:interface:stdout 2015-01-11T20:53:25.358010:  33    -0.670349   [ 0.0711578 -3.1516e-05 -0.0176644 5.05382 26.7901 6.42822 ]\n"
       ]
      },
      {
       "output_type": "stream",
       "stream": "stderr",
       "text": [
        "INFO:interface:stdout 2015-01-11T20:53:25.404862:  34     -0.69851   [ 0.0650857 0.000288178 -0.0160246 5.05714 26.7926 6.38003 ]\n"
       ]
      },
      {
       "output_type": "stream",
       "stream": "stderr",
       "text": [
        "INFO:interface:stdout 2015-01-11T20:53:25.450810:  35     -0.70007   [ 0.0676302 0.000194625 -0.0164723 5.06247 26.7874 6.40332 ]\n"
       ]
      },
      {
       "output_type": "stream",
       "stream": "stderr",
       "text": [
        "INFO:interface:stdout 2015-01-11T20:53:25.496009:  36    -0.702556   [ 0.0659553 -0.000676435 -0.0186313 5.04687 26.782 6.4212 ]\n"
       ]
      },
      {
       "output_type": "stream",
       "stream": "stderr",
       "text": [
        "INFO:interface:stdout 2015-01-11T20:53:25.541644:  37    -0.701655   [ 0.0685226 -0.000341945 -0.0174079 5.04133 26.7883 6.44406 ]\n"
       ]
      },
      {
       "output_type": "stream",
       "stream": "stderr",
       "text": [
        "INFO:interface:stdout 2015-01-11T20:53:25.588882:  38    -0.702323   [ 0.0672063 -3.36548e-05 -0.0173225 5.04476 26.7945 6.43413 ]\n"
       ]
      },
      {
       "output_type": "stream",
       "stream": "stderr",
       "text": [
        "INFO:interface:stdout 2015-01-11T20:53:25.631902:  39    -0.702877   [ 0.066804 -0.000110258 -0.0177571 5.04111 26.7925 6.43866 ]\n"
       ]
      },
      {
       "output_type": "stream",
       "stream": "stderr",
       "text": [
        "INFO:interface:stdout 2015-01-11T20:53:25.678779:  40    -0.702807   [ 0.0670833 -0.00020638 -0.0176434 5.04358 26.7937 6.43727 ]\n"
       ]
      },
      {
       "output_type": "stream",
       "stream": "stderr",
       "text": [
        "INFO:interface:stdout 2015-01-11T20:53:25.725963:  41    -0.702843   [ 0.066689 -0.000131465 -0.0173412 5.04525 26.7961 6.43703 ]\n"
       ]
      },
      {
       "output_type": "stream",
       "stream": "stderr",
       "text": [
        "INFO:interface:stdout 2015-01-11T20:53:25.772102:  42    -0.702745   [ 0.0670415 -0.000127767 -0.01751 5.04615 26.7961 6.43992 ]\n"
       ]
      },
      {
       "output_type": "stream",
       "stream": "stderr",
       "text": [
        "INFO:interface:stdout 2015-01-11T20:53:25.819253:  43    -0.702854   [ 0.0670135 -0.000189383 -0.0175706 5.04502 26.7977 6.44235 ]\n"
       ]
      },
      {
       "output_type": "stream",
       "stream": "stderr",
       "text": [
        "INFO:interface:stdout 2015-01-11T20:53:25.864591:  44    -0.702839   [ 0.0670139 -0.000184431 -0.0174978 5.04638 26.7983 6.44207 ]\n"
       ]
      },
      {
       "output_type": "stream",
       "stream": "stderr",
       "text": [
        "INFO:interface:stdout 2015-01-11T20:53:25.908997:  45    -0.702846   [ 0.0670507 -0.000150859 -0.0176268 5.04669 26.7987 6.44352 ]\n"
       ]
      },
      {
       "output_type": "stream",
       "stream": "stderr",
       "text": [
        "INFO:interface:stdout 2015-01-11T20:53:25.954907:  46    -0.702844   [ 0.0669904 -0.000186831 -0.0175188 5.04653 26.7989 6.44281 ]\n"
       ]
      },
      {
       "output_type": "stream",
       "stream": "stderr",
       "text": [
        "INFO:interface:stdout 2015-01-11T20:53:26.001393:  47    -0.702846   [ 0.0670492 -0.00018147 -0.0175465 5.04686 26.7987 6.44292 ]\n"
       ]
      },
      {
       "output_type": "stream",
       "stream": "stderr",
       "text": [
        "INFO:interface:stdout 2015-01-11T20:53:26.048256:  48    -0.702852   [ 0.0670134 -0.000179746 -0.0175339 5.04683 26.7989 6.44305 ]\n"
       ]
      },
      {
       "output_type": "stream",
       "stream": "stderr",
       "text": [
        "INFO:interface:stdout 2015-01-11T20:53:26.091415:  49    -0.702852   [ 0.0670229 -0.000183595 -0.0175312 5.04699 26.7989 6.44316 ]\n"
       ]
      },
      {
       "output_type": "stream",
       "stream": "stderr",
       "text": [
        "INFO:interface:stdout 2015-01-11T20:53:26.140827:  50    -0.702849   [ 0.0670049 -0.000179469 -0.0175326 5.04701 26.799 6.44332 ]\n"
       ]
      },
      {
       "output_type": "stream",
       "stream": "stderr",
       "text": [
        "INFO:interface:stdout 2015-01-11T20:53:26.185310:  51    -0.702847   [ 0.0670228 -0.00018281 -0.0175329 5.04707 26.799 6.44328 ]\n"
       ]
      },
      {
       "output_type": "stream",
       "stream": "stderr",
       "text": [
        "INFO:interface:stdout 2015-01-11T20:53:26.231964:Stop condition from optimizer.RegularStepGradientDescentOptimizerv4: Step too small after 52 iterations. Current step (4.88281e-05) is less than minimum step (5e-05).\n"
       ]
      },
      {
       "output_type": "stream",
       "stream": "stderr",
       "text": [
        "INFO:interface:stdout 2015-01-11T20:53:26.232768:\n"
       ]
      },
      {
       "output_type": "stream",
       "stream": "stderr",
       "text": [
        "INFO:interface:stdout 2015-01-11T20:53:26.232768:\n"
       ]
      },
      {
       "output_type": "stream",
       "stream": "stderr",
       "text": [
        "INFO:interface:stdout 2015-01-11T20:53:26.232768:\n"
       ]
      },
      {
       "output_type": "stream",
       "stream": "stderr",
       "text": [
        "INFO:interface:stdout 2015-01-11T20:53:26.232768:=============================== ITKv4 Registration: Starting Transform Estimations for Affine(2 of 2).===============================\n"
       ]
      },
      {
       "output_type": "stream",
       "stream": "stderr",
       "text": [
        "INFO:interface:stdout 2015-01-11T20:53:26.232768:\n"
       ]
      },
      {
       "output_type": "stream",
       "stream": "stderr",
       "text": [
        "INFO:interface:stdout 2015-01-11T20:53:27.043967:   0    -0.702807   [ 0.999791 0.0359233 -0.00225278 -0.034834 0.991604 -0.131779 -0.00189553 0.134052 0.989003 5.06475 26.8036 6.42539 ]\n"
       ]
      },
      {
       "output_type": "stream",
       "stream": "stderr",
       "text": [
        "INFO:interface:stdout 2015-01-11T20:53:27.216865:   1    -0.706264   [ 1.00134 0.0377896 -0.000865174 -0.0324745 0.99608 -0.126172 -0.000958112 0.13685 0.9815 5.13491 26.8114 6.40492 ]\n"
       ]
      },
      {
       "output_type": "stream",
       "stream": "stderr",
       "text": [
        "INFO:interface:stdout 2015-01-11T20:53:27.385400:   2     -0.71206   [ 1.00124 0.0374643 -0.00102225 -0.0320857 0.996296 -0.126026 -0.000981607 0.136904 0.981777 4.97927 26.693 6.44184 ]\n"
       ]
      },
      {
       "output_type": "stream",
       "stream": "stderr",
       "text": [
        "INFO:interface:stdout 2015-01-11T20:53:27.521869:   3    -0.714171   [ 1.00114 0.0373376 -0.000886938 -0.031404 0.996703 -0.124888 -0.000888575 0.136934 0.981713 5.00508 26.572 6.40613 ]\n"
       ]
      },
      {
       "output_type": "stream",
       "stream": "stderr",
       "text": [
        "INFO:interface:stdout 2015-01-11T20:53:27.660222:   4    -0.715148   [ 1.00102 0.0371517 -0.00038632 -0.0301627 0.997732 -0.123255 -0.000574102 0.136942 0.981411 5.01982 26.571 6.37684 ]\n"
       ]
      },
      {
       "output_type": "stream",
       "stream": "stderr",
       "text": [
        "INFO:interface:stdout 2015-01-11T20:53:27.827263:   5    -0.716083   [ 1.0009 0.0365815 0.000365988 -0.0289926 0.998843 -0.122051 -0.000215934 0.137071 0.982408 4.91811 26.3957 6.42315 ]\n"
       ]
      },
      {
       "output_type": "stream",
       "stream": "stderr",
       "text": [
        "INFO:interface:stdout 2015-01-11T20:53:28.054741:   6    -0.716769   [ 1.00111 0.0366067 0.000530867 -0.0285424 0.999452 -0.12132 -5.44128e-05 0.137063 0.982578 5.01947 26.4856 6.37738 ]\n"
       ]
      },
      {
       "output_type": "stream",
       "stream": "stderr",
       "text": [
        "INFO:interface:stdout 2015-01-11T20:53:28.196511:   7    -0.717475   [ 1.0013 0.0363345 0.00115994 -0.0275019 1.00074 -0.119861 0.00042117 0.137211 0.983282 5.034 26.5285 6.33642 ]\n"
       ]
      },
      {
       "output_type": "stream",
       "stream": "stderr",
       "text": [
        "INFO:interface:stdout 2015-01-11T20:53:28.363052:   8    -0.718164   [ 1.00145 0.0360091 0.00130349 -0.0258933 1.00236 -0.11833 0.00103463 0.137694 0.984134 4.98105 26.4814 6.39034 ]\n"
       ]
      },
      {
       "output_type": "stream",
       "stream": "stderr",
       "text": [
        "INFO:interface:stdout 2015-01-11T20:53:28.502717:   9    -0.718817   [ 1.00152 0.0361579 0.00116711 -0.0245352 1.00294 -0.117697 0.00164179 0.138203 0.984264 4.993 26.3892 6.34944 ]\n"
       ]
      },
      {
       "output_type": "stream",
       "stream": "stderr",
       "text": [
        "INFO:interface:stdout 2015-01-11T20:53:28.790708:  10    -0.719448   [ 1.00152 0.0361773 0.00110743 -0.0242289 1.00308 -0.117516 0.00178872 0.138369 0.984262 4.99369 26.383 6.34053 ]\n"
       ]
      },
      {
       "output_type": "stream",
       "stream": "stderr",
       "text": [
        "INFO:interface:stdout 2015-01-11T20:53:28.924109:  11    -0.719549   [ 1.00147 0.036157 0.000919475 -0.023851 1.00327 -0.117291 0.00194665 0.138634 0.98425 4.99591 26.3916 6.34781 ]\n"
       ]
      },
      {
       "output_type": "stream",
       "stream": "stderr",
       "text": [
        "INFO:interface:stdout 2015-01-11T20:53:29.118678:  12    -0.719657   [ 1.00144 0.0361216 0.00081409 -0.0238306 1.00329 -0.117307 0.00193104 0.13864 0.984258 4.99574 26.3901 6.353 ]\n"
       ]
      },
      {
       "output_type": "stream",
       "stream": "stderr",
       "text": [
        "INFO:interface:stdout 2015-01-11T20:53:29.284126:  13    -0.719674   [ 1.00142 0.0360896 0.000728222 -0.0238127 1.0033 -0.117304 0.00192065 0.138645 0.984245 4.99628 26.3896 6.35322 ]\n"
       ]
      },
      {
       "output_type": "stream",
       "stream": "stderr",
       "text": [
        "INFO:interface:stdout 2015-01-11T20:53:29.421349:  14    -0.719716   [ 1.00132 0.0359724 0.00042293 -0.0237462 1.00335 -0.11728 0.0018845 0.138662 0.984192 4.99944 26.3882 6.35125 ]\n"
       ]
      },
      {
       "output_type": "stream",
       "stream": "stderr",
       "text": [
        "INFO:interface:stdout 2015-01-11T20:53:29.565877:  15     -0.71978   [ 1.00088 0.0353833 -0.0010213 -0.0233972 1.00362 -0.117116 0.0017103 0.138739 0.984006 5.02117 26.376 6.33663 ]\n"
       ]
      },
      {
       "output_type": "stream",
       "stream": "stderr",
       "text": [
        "INFO:interface:stdout 2015-01-11T20:53:29.847158:  16    -0.720019   [ 1.00072 0.035163 -0.00153329 -0.0232548 1.00372 -0.117045 0.00164312 0.138773 0.983954 5.03006 26.369 6.33123 ]\n"
       ]
      },
      {
       "output_type": "stream",
       "stream": "stderr",
       "text": [
        "INFO:interface:stdout 2015-01-11T20:53:29.991372:  17    -0.720032   [ 1.00073 0.0351616 -0.00148728 -0.0232265 1.00373 -0.117029 0.0016377 0.138785 0.983971 5.03047 26.3654 6.33125 ]\n"
       ]
      },
      {
       "output_type": "stream",
       "stream": "stderr",
       "text": [
        "INFO:interface:stdout 2015-01-11T20:53:30.125397:  18    -0.720081   [ 1.00075 0.0351582 -0.00141331 -0.0231797 1.00374 -0.117004 0.00162885 0.138807 0.984 5.03066 26.3604 6.33118 ]\n"
       ]
      },
      {
       "output_type": "stream",
       "stream": "stderr",
       "text": [
        "INFO:interface:stdout 2015-01-11T20:53:30.290304:  19    -0.720108   [ 1.00078 0.0351508 -0.00131707 -0.0231168 1.00375 -0.116972 0.0016169 0.138837 0.984044 5.0306 26.356 6.33126 ]\n"
       ]
      },
      {
       "output_type": "stream",
       "stream": "stderr",
       "text": [
        "INFO:interface:stdout 2015-01-11T20:53:30.433481:  20    -0.720134   [ 1.00082 0.0351331 -0.00117295 -0.0230173 1.00375 -0.116929 0.00159783 0.138884 0.98412 5.03104 26.3524 6.33266 ]\n"
       ]
      },
      {
       "output_type": "stream",
       "stream": "stderr",
       "text": [
        "INFO:interface:stdout 2015-01-11T20:53:30.569889:  21    -0.720148   [ 1.00088 0.0350901 -0.000954414 -0.0228591 1.00374 -0.116873 0.00156936 0.138943 0.984269 5.03209 26.3492 6.33583 ]\n"
       ]
      },
      {
       "output_type": "stream",
       "stream": "stderr",
       "text": [
        "INFO:interface:stdout 2015-01-11T20:53:30.732995:  22    -0.720175   [ 1.00091 0.0350142 -0.000724674 -0.0226799 1.00371 -0.116808 0.00154464 0.138983 0.98449 5.03401 26.3458 6.33851 ]\n"
       ]
      },
      {
       "output_type": "stream",
       "stream": "stderr",
       "text": [
        "INFO:interface:stdout 2015-01-11T20:53:30.985826:  23      -0.7202   [ 1.00094 0.0349335 -0.000504897 -0.0224977 1.00367 -0.116735 0.00152005 0.139022 0.984684 5.03526 26.3435 6.33925 ]\n"
       ]
      },
      {
       "output_type": "stream",
       "stream": "stderr",
       "text": [
        "INFO:interface:stdout 2015-01-11T20:53:31.241353:  24    -0.720225   [ 1.00096 0.0348718 -0.000343245 -0.0223601 1.00365 -0.116677 0.0015014 0.139051 0.98482 5.0359 26.342 6.3392 ]\n"
       ]
      },
      {
       "output_type": "stream",
       "stream": "stderr",
       "text": [
        "INFO:interface:stdout 2015-01-11T20:53:31.432274:  25    -0.720228   [ 1.00096 0.0348612 -0.000318771 -0.0223368 1.00364 -0.116666 0.00149811 0.139055 0.984837 5.03582 26.3418 6.33886 ]\n"
       ]
      },
      {
       "output_type": "stream",
       "stream": "stderr",
       "text": [
        "INFO:interface:stdout 2015-01-11T20:53:31.569927:  26    -0.720228   [ 1.00096 0.0348594 -0.000319703 -0.0223334 1.00364 -0.116662 0.00149739 0.139055 0.984829 5.03552 26.3419 6.33831 ]\n"
       ]
      },
      {
       "output_type": "stream",
       "stream": "stderr",
       "text": [
        "INFO:interface:stdout 2015-01-11T20:53:31.741376:  27    -0.720234   [ 1.00096 0.0348578 -0.00032049 -0.0223304 1.00364 -0.116659 0.00149676 0.139055 0.984823 5.03527 26.3419 6.33786 ]\n"
       ]
      },
      {
       "output_type": "stream",
       "stream": "stderr",
       "text": [
        "INFO:interface:stdout 2015-01-11T20:53:31.912303:  28    -0.720237   [ 1.00096 0.0348562 -0.000321248 -0.0223273 1.00364 -0.116656 0.00149615 0.139055 0.984817 5.03502 26.342 6.33743 ]\n"
       ]
      },
      {
       "output_type": "stream",
       "stream": "stderr",
       "text": [
        "INFO:interface:stdout 2015-01-11T20:53:32.056781:  29    -0.720239   [ 1.00096 0.0348536 -0.000322484 -0.0223222 1.00364 -0.116651 0.00149511 0.139054 0.984807 5.03463 26.342 6.33677 ]\n"
       ]
      },
      {
       "output_type": "stream",
       "stream": "stderr",
       "text": [
        "INFO:interface:stdout 2015-01-11T20:53:32.196178:  30    -0.720242   [ 1.00096 0.0348492 -0.000324452 -0.0223135 1.00364 -0.116643 0.00149339 0.139054 0.98479 5.03401 26.342 6.33577 ]\n"
       ]
      },
      {
       "output_type": "stream",
       "stream": "stderr",
       "text": [
        "INFO:interface:stdout 2015-01-11T20:53:32.360069:  31    -0.720255   [ 1.00096 0.034845 -0.000326247 -0.0223048 1.00364 -0.116635 0.00149169 0.139053 0.984776 5.03347 26.3419 6.33497 ]\n"
       ]
      },
      {
       "output_type": "stream",
       "stream": "stderr",
       "text": [
        "INFO:interface:stdout 2015-01-11T20:53:32.498237:  32    -0.720263   [ 1.00096 0.0348382 -0.000329042 -0.02229 1.00364 -0.116624 0.00148883 0.139052 0.984753 5.03265 26.3416 6.33389 ]\n"
       ]
      },
      {
       "output_type": "stream",
       "stream": "stderr",
       "text": [
        "INFO:interface:stdout 2015-01-11T20:53:32.634354:  33     -0.72027   [ 1.00096 0.0348271 -0.000333173 -0.0222648 1.00363 -0.116607 0.00148394 0.139049 0.98472 5.03151 26.3409 6.33275 ]\n"
       ]
      },
      {
       "output_type": "stream",
       "stream": "stderr",
       "text": [
        "INFO:interface:stdout 2015-01-11T20:53:32.776778:  34    -0.720292   [ 1.00096 0.0348099 -0.000338761 -0.0222217 1.00362 -0.116582 0.00147571 0.139043 0.984675 5.03012 26.3393 6.3322 ]\n"
       ]
      },
      {
       "output_type": "stream",
       "stream": "stderr",
       "text": [
        "INFO:interface:stdout 2015-01-11T20:53:32.912606:  35    -0.720315   [ 1.00096 0.0347827 -0.000345639 -0.022144 1.00361 -0.116541 0.0014613 0.139031 0.984614 5.02872 26.3366 6.33319 ]\n"
       ]
      },
      {
       "output_type": "stream",
       "stream": "stderr",
       "text": [
        "INFO:interface:stdout 2015-01-11T20:53:33.080393:  36     -0.72035   [ 1.00097 0.0347613 -0.000348759 -0.0220703 1.00359 -0.1165 0.00144849 0.139016 0.984571 5.02848 26.3349 6.33508 ]\n"
       ]
      },
      {
       "output_type": "stream",
       "stream": "stderr",
       "text": [
        "INFO:interface:stdout 2015-01-11T20:53:33.217479:  37    -0.720383   [ 1.00098 0.0347304 -0.000353532 -0.0219501 1.00356 -0.116429 0.00142872 0.138989 0.984509 5.02818 26.3324 6.33718 ]\n"
       ]
      },
      {
       "output_type": "stream",
       "stream": "stderr",
       "text": [
        "INFO:interface:stdout 2015-01-11T20:53:33.358533:  38    -0.720412   [ 1.00101 0.0346918 -0.000361854 -0.0217668 1.0035 -0.116322 0.0014007 0.138942 0.984453 5.02767 26.3283 6.33854 ]\n"
       ]
      },
      {
       "output_type": "stream",
       "stream": "stderr",
       "text": [
        "INFO:interface:stdout 2015-01-11T20:53:33.521015:  39    -0.720455   [ 1.00106 0.0346352 -0.000369338 -0.0214684 1.00342 -0.116175 0.00135668 0.138869 0.984407 5.02613 26.3258 6.33869 ]\n"
       ]
      },
      {
       "output_type": "stream",
       "stream": "stderr",
       "text": [
        "INFO:interface:stdout 2015-01-11T20:53:33.749482:  40    -0.720513   [ 1.00109 0.0346275 -0.000363776 -0.0213845 1.0034 -0.116158 0.00134512 0.138854 0.984432 5.02608 26.3262 6.33823 ]\n"
       ]
      },
      {
       "output_type": "stream",
       "stream": "stderr",
       "text": [
        "INFO:interface:stdout 2015-01-11T20:53:34.396012:  41    -0.720516   [ 1.00109 0.0346275 -0.000363776 -0.0213845 1.0034 -0.116158 0.00134512 0.138854 0.984432 5.02608 26.3262 6.33823 ]\n"
       ]
      },
      {
       "output_type": "stream",
       "stream": "stderr",
       "text": [
        "INFO:interface:stdout 2015-01-11T20:53:34.687922:  42    -0.720516   [ 1.00109 0.0346275 -0.000363776 -0.0213845 1.0034 -0.116158 0.00134512 0.138854 0.984432 5.02608 26.3262 6.33823 ]\n"
       ]
      },
      {
       "output_type": "stream",
       "stream": "stderr",
       "text": [
        "INFO:interface:stdout 2015-01-11T20:53:34.916961:  43    -0.720516   [ 1.00109 0.0346275 -0.000363776 -0.0213845 1.0034 -0.116158 0.00134512 0.138854 0.984432 5.02608 26.3262 6.33823 ]\n"
       ]
      },
      {
       "output_type": "stream",
       "stream": "stderr",
       "text": [
        "INFO:interface:stdout 2015-01-11T20:53:35.172088:  44    -0.720516   [ 1.00109 0.0346275 -0.000363776 -0.0213845 1.0034 -0.116158 0.00134512 0.138854 0.984432 5.02608 26.3262 6.33823 ]\n"
       ]
      },
      {
       "output_type": "stream",
       "stream": "stderr",
       "text": [
        "INFO:interface:stdout 2015-01-11T20:53:35.369396:  45    -0.720516   [ 1.00109 0.0346275 -0.000363776 -0.0213845 1.0034 -0.116158 0.00134512 0.138854 0.984432 5.02608 26.3262 6.33823 ]\n"
       ]
      },
      {
       "output_type": "stream",
       "stream": "stderr",
       "text": [
        "INFO:interface:stdout 2015-01-11T20:53:35.541350:  46    -0.720516   [ 1.00109 0.0346275 -0.000363776 -0.0213845 1.0034 -0.116158 0.00134512 0.138854 0.984432 5.02608 26.3262 6.33823 ]\n"
       ]
      },
      {
       "output_type": "stream",
       "stream": "stderr",
       "text": [
        "INFO:interface:stdout 2015-01-11T20:53:35.715081:  47    -0.720516   [ 1.00109 0.0346275 -0.000363776 -0.0213845 1.0034 -0.116158 0.00134512 0.138854 0.984432 5.02608 26.3262 6.33823 ]\n"
       ]
      },
      {
       "output_type": "stream",
       "stream": "stderr",
       "text": [
        "INFO:interface:stdout 2015-01-11T20:53:35.764569:Stop condition from optimizer.ConjugateGradientLineSearchOptimizerv4Template: Convergence checker passed at iteration 48.\n"
       ]
      },
      {
       "output_type": "stream",
       "stream": "stderr",
       "text": [
        "INFO:workflow:Executing node GetRigidTransformInverse in dir: /scratch/TESTS/IpythonNotebook/1_DWI_Nipype_workflow/DWIWorkflow_823955340_20080609_30/GetRigidTransformInverse\n"
       ]
      },
      {
       "output_type": "stream",
       "stream": "stderr",
       "text": [
        "INFO:workflow:Executing node MakeResamplerInFilesListNode in dir: /scratch/TESTS/IpythonNotebook/1_DWI_Nipype_workflow/DWIWorkflow_823955340_20080609_30/MakeResamplerInFilesListNode\n"
       ]
      },
      {
       "output_type": "stream",
       "stream": "stderr",
       "text": [
        "INFO:workflow:Executing node ResampleToB0Space in dir: /scratch/TESTS/IpythonNotebook/1_DWI_Nipype_workflow/DWIWorkflow_823955340_20080609_30/ResampleToB0Space\n"
       ]
      },
      {
       "output_type": "stream",
       "stream": "stderr",
       "text": [
        "INFO:workflow:Executing node _ResampleToB0Space0 in dir: /scratch/TESTS/IpythonNotebook/1_DWI_Nipype_workflow/DWIWorkflow_823955340_20080609_30/ResampleToB0Space/mapflow/_ResampleToB0Space0\n"
       ]
      },
      {
       "output_type": "stream",
       "stream": "stderr",
       "text": [
        "INFO:workflow:Running:  BRAINSResample  --inputVolume /Volumes/scratch/TESTS/IpythonNotebook/1_DWI_Nipype_workflow/DWIWorkflow_823955340_20080609_30/ExtractBRAINFromHead/T2Stripped.nrrd --interpolationMode Linear --outputVolume T2toB0.nrrd --pixelType ushort --referenceVolume /Volumes/scratch/TESTS/IpythonNotebook/1_DWI_Nipype_workflow/DWIWorkflow_823955340_20080609_30/EXTRACT_B0/B0_Image.nrrd --warpTransform /Volumes/scratch/TESTS/IpythonNotebook/1_DWI_Nipype_workflow/DWIWorkflow_823955340_20080609_30/BFit_T2toB0/T2ToB0_RigidTransform.h5\n"
       ]
      },
      {
       "output_type": "stream",
       "stream": "stderr",
       "text": [
        "INFO:interface:stdout 2015-01-11T20:53:36.149247:=====================================================\n"
       ]
      },
      {
       "output_type": "stream",
       "stream": "stderr",
       "text": [
        "INFO:interface:stdout 2015-01-11T20:53:36.149247:Input Volume:     /Volumes/scratch/TESTS/IpythonNotebook/1_DWI_Nipype_workflow/DWIWorkflow_823955340_20080609_30/ExtractBRAINFromHead/T2Stripped.nrrd\n"
       ]
      },
      {
       "output_type": "stream",
       "stream": "stderr",
       "text": [
        "INFO:interface:stdout 2015-01-11T20:53:36.149247:Reference Volume: /Volumes/scratch/TESTS/IpythonNotebook/1_DWI_Nipype_workflow/DWIWorkflow_823955340_20080609_30/EXTRACT_B0/B0_Image.nrrd\n"
       ]
      },
      {
       "output_type": "stream",
       "stream": "stderr",
       "text": [
        "INFO:interface:stdout 2015-01-11T20:53:36.149247:Output Volume:    T2toB0.nrrd\n"
       ]
      },
      {
       "output_type": "stream",
       "stream": "stderr",
       "text": [
        "INFO:interface:stdout 2015-01-11T20:53:36.149247:Pixel Type:       ushort\n"
       ]
      },
      {
       "output_type": "stream",
       "stream": "stderr",
       "text": [
        "INFO:interface:stdout 2015-01-11T20:53:36.149247:Interpolation:    Linear\n"
       ]
      },
      {
       "output_type": "stream",
       "stream": "stderr",
       "text": [
        "INFO:interface:stdout 2015-01-11T20:53:36.153163:Background Value: 0\n"
       ]
      },
      {
       "output_type": "stream",
       "stream": "stderr",
       "text": [
        "INFO:interface:stdout 2015-01-11T20:53:36.153163:Warp By Transform: /Volumes/scratch/TESTS/IpythonNotebook/1_DWI_Nipype_workflow/DWIWorkflow_823955340_20080609_30/BFit_T2toB0/T2ToB0_RigidTransform.h5\n"
       ]
      },
      {
       "output_type": "stream",
       "stream": "stderr",
       "text": [
        "INFO:interface:stdout 2015-01-11T20:53:36.153163:=====================================================\n"
       ]
      },
      {
       "output_type": "stream",
       "stream": "stderr",
       "text": [
        "INFO:interface:stdout 2015-01-11T20:53:36.223863:Read ITK transform from file: /Volumes/scratch/TESTS/IpythonNotebook/1_DWI_Nipype_workflow/DWIWorkflow_823955340_20080609_30/BFit_T2toB0/T2ToB0_RigidTransform.h5\n"
       ]
      },
      {
       "output_type": "stream",
       "stream": "stderr",
       "text": [
        "INFO:interface:stdout 2015-01-11T20:53:36.231379:HACK: 0  VersorRigid3DTransform\n"
       ]
      },
      {
       "output_type": "stream",
       "stream": "stderr",
       "text": [
        "INFO:workflow:Executing node _ResampleToB0Space1 in dir: /scratch/TESTS/IpythonNotebook/1_DWI_Nipype_workflow/DWIWorkflow_823955340_20080609_30/ResampleToB0Space/mapflow/_ResampleToB0Space1\n"
       ]
      },
      {
       "output_type": "stream",
       "stream": "stderr",
       "text": [
        "INFO:workflow:Running:  BRAINSResample  --inputVolume /Shared/sinapse/CACHE/20141124_TrackOn_base_Results/HDNI_003/823955340/823955340_20080609_30/TissueClassify/complete_brainlabels_seg.nii.gz --interpolationMode Linear --outputVolume BRAINMaskToB0.nrrd --pixelType binary --referenceVolume /Volumes/scratch/TESTS/IpythonNotebook/1_DWI_Nipype_workflow/DWIWorkflow_823955340_20080609_30/EXTRACT_B0/B0_Image.nrrd --warpTransform /Volumes/scratch/TESTS/IpythonNotebook/1_DWI_Nipype_workflow/DWIWorkflow_823955340_20080609_30/BFit_T2toB0/T2ToB0_RigidTransform.h5\n"
       ]
      },
      {
       "output_type": "stream",
       "stream": "stderr",
       "text": [
        "INFO:interface:stdout 2015-01-11T20:53:36.400364:=====================================================\n"
       ]
      },
      {
       "output_type": "stream",
       "stream": "stderr",
       "text": [
        "INFO:interface:stdout 2015-01-11T20:53:36.400364:Input Volume:     /Shared/sinapse/CACHE/20141124_TrackOn_base_Results/HDNI_003/823955340/823955340_20080609_30/TissueClassify/complete_brainlabels_seg.nii.gz\n"
       ]
      },
      {
       "output_type": "stream",
       "stream": "stderr",
       "text": [
        "INFO:interface:stdout 2015-01-11T20:53:36.400364:Reference Volume: /Volumes/scratch/TESTS/IpythonNotebook/1_DWI_Nipype_workflow/DWIWorkflow_823955340_20080609_30/EXTRACT_B0/B0_Image.nrrd\n"
       ]
      },
      {
       "output_type": "stream",
       "stream": "stderr",
       "text": [
        "INFO:interface:stdout 2015-01-11T20:53:36.400364:Output Volume:    BRAINMaskToB0.nrrd\n"
       ]
      },
      {
       "output_type": "stream",
       "stream": "stderr",
       "text": [
        "INFO:interface:stdout 2015-01-11T20:53:36.400364:Pixel Type:       binary\n"
       ]
      },
      {
       "output_type": "stream",
       "stream": "stderr",
       "text": [
        "INFO:interface:stdout 2015-01-11T20:53:36.400364:Interpolation:    Linear\n"
       ]
      },
      {
       "output_type": "stream",
       "stream": "stderr",
       "text": [
        "INFO:interface:stdout 2015-01-11T20:53:36.400364:Background Value: 0\n"
       ]
      },
      {
       "output_type": "stream",
       "stream": "stderr",
       "text": [
        "INFO:interface:stdout 2015-01-11T20:53:36.400364:Warp By Transform: /Volumes/scratch/TESTS/IpythonNotebook/1_DWI_Nipype_workflow/DWIWorkflow_823955340_20080609_30/BFit_T2toB0/T2ToB0_RigidTransform.h5\n"
       ]
      },
      {
       "output_type": "stream",
       "stream": "stderr",
       "text": [
        "INFO:interface:stdout 2015-01-11T20:53:36.400364:=====================================================\n"
       ]
      },
      {
       "output_type": "stream",
       "stream": "stderr",
       "text": [
        "INFO:interface:stdout 2015-01-11T20:53:36.501606:Read ITK transform from file: /Volumes/scratch/TESTS/IpythonNotebook/1_DWI_Nipype_workflow/DWIWorkflow_823955340_20080609_30/BFit_T2toB0/T2ToB0_RigidTransform.h5\n"
       ]
      },
      {
       "output_type": "stream",
       "stream": "stderr",
       "text": [
        "INFO:interface:stdout 2015-01-11T20:53:36.508270:HACK: 0  VersorRigid3DTransform\n"
       ]
      },
      {
       "output_type": "stream",
       "stream": "stderr",
       "text": [
        "INFO:workflow:Executing node SaveDirectionCosineToMatrix in dir: /scratch/TESTS/IpythonNotebook/1_DWI_Nipype_workflow/DWIWorkflow_823955340_20080609_30/SaveDirectionCosineToMatrix\n"
       ]
      },
      {
       "output_type": "stream",
       "stream": "stderr",
       "text": [
        "INFO:workflow:Executing node CreateAntsRegistrationMask in dir: /scratch/TESTS/IpythonNotebook/1_DWI_Nipype_workflow/DWIWorkflow_823955340_20080609_30/CreateAntsRegistrationMask\n"
       ]
      },
      {
       "output_type": "stream",
       "stream": "stderr",
       "text": [
        "INFO:workflow:Executing node MakeForceDCFilesListNode in dir: /scratch/TESTS/IpythonNotebook/1_DWI_Nipype_workflow/DWIWorkflow_823955340_20080609_30/MakeForceDCFilesListNode\n"
       ]
      },
      {
       "output_type": "stream",
       "stream": "stderr",
       "text": [
        "INFO:workflow:Executing node ForceDCtoID in dir: /scratch/TESTS/IpythonNotebook/1_DWI_Nipype_workflow/DWIWorkflow_823955340_20080609_30/ForceDCtoID\n"
       ]
      },
      {
       "output_type": "stream",
       "stream": "stderr",
       "text": [
        "INFO:workflow:Executing node _ForceDCtoID0 in dir: /scratch/TESTS/IpythonNotebook/1_DWI_Nipype_workflow/DWIWorkflow_823955340_20080609_30/ForceDCtoID/mapflow/_ForceDCtoID0\n"
       ]
      },
      {
       "output_type": "stream",
       "stream": "stderr",
       "text": [
        "INFO:workflow:Executing node _ForceDCtoID1 in dir: /scratch/TESTS/IpythonNotebook/1_DWI_Nipype_workflow/DWIWorkflow_823955340_20080609_30/ForceDCtoID/mapflow/_ForceDCtoID1\n"
       ]
      },
      {
       "output_type": "stream",
       "stream": "stderr",
       "text": [
        "INFO:workflow:Executing node _ForceDCtoID2 in dir: /scratch/TESTS/IpythonNotebook/1_DWI_Nipype_workflow/DWIWorkflow_823955340_20080609_30/ForceDCtoID/mapflow/_ForceDCtoID2\n"
       ]
      },
      {
       "output_type": "stream",
       "stream": "stderr",
       "text": [
        "INFO:workflow:Executing node antsReg_B0ToTransformedT2 in dir: /scratch/TESTS/IpythonNotebook/1_DWI_Nipype_workflow/DWIWorkflow_823955340_20080609_30/antsReg_B0ToTransformedT2\n"
       ]
      },
      {
       "output_type": "stream",
       "stream": "stderr",
       "text": [
        "INFO:workflow:Running: antsRegistration --float 1 --restrict-deformation 0x1x0 --collapse-output-transforms 0 --dimensionality 3 --masks /Volumes/scratch/TESTS/IpythonNotebook/1_DWI_Nipype_workflow/DWIWorkflow_823955340_20080609_30/ForceDCtoID/mapflow/_ForceDCtoID2/IDDC_registrationMask.nrrd --initialize-transforms-per-stage 0 --interpolation Linear --output Tsyn --transform SyN[ 0.25, 3.0, 0.0 ] --metric MI[ /Volumes/scratch/TESTS/IpythonNotebook/1_DWI_Nipype_workflow/DWIWorkflow_823955340_20080609_30/ForceDCtoID/mapflow/_ForceDCtoID1/IDDC_T2toB0.nrrd, /Volumes/scratch/TESTS/IpythonNotebook/1_DWI_Nipype_workflow/DWIWorkflow_823955340_20080609_30/ForceDCtoID/mapflow/_ForceDCtoID0/IDDC_B0_Image.nrrd, 1, 32, None, 1 ] --convergence [ 70x50x40, 1e-06, 10 ] --smoothing-sigmas 2.0x1.0x0.0vox --shrink-factors 3x2x1 --use-estimate-learning-rate-once 0 --use-histogram-matching 1 --winsorize-image-intensities [ 0.01, 0.99 ]  --write-composite-transform 1\n"
       ]
      },
      {
       "output_type": "stream",
       "stream": "stderr",
       "text": [
        "INFO:interface:stdout 2015-01-11T20:53:37.790797:All_Command_lines_OK\n"
       ]
      },
      {
       "output_type": "stream",
       "stream": "stderr",
       "text": [
        "INFO:interface:stdout 2015-01-11T20:53:37.790797:Using single precision for computations.\n"
       ]
      },
      {
       "output_type": "stream",
       "stream": "stderr",
       "text": [
        "INFO:interface:stdout 2015-01-11T20:53:37.794590:  number of levels = 3\n"
       ]
      },
      {
       "output_type": "stream",
       "stream": "stderr",
       "text": [
        "INFO:interface:stdout 2015-01-11T20:53:37.795145:  fixed image: /Volumes/scratch/TESTS/IpythonNotebook/1_DWI_Nipype_workflow/DWIWorkflow_823955340_20080609_30/ForceDCtoID/mapflow/_ForceDCtoID1/IDDC_T2toB0.nrrd\n"
       ]
      },
      {
       "output_type": "stream",
       "stream": "stderr",
       "text": [
        "INFO:interface:stdout 2015-01-11T20:53:37.795145:  moving image: /Volumes/scratch/TESTS/IpythonNotebook/1_DWI_Nipype_workflow/DWIWorkflow_823955340_20080609_30/ForceDCtoID/mapflow/_ForceDCtoID0/IDDC_B0_Image.nrrd\n"
       ]
      },
      {
       "output_type": "stream",
       "stream": "stderr",
       "text": [
        "INFO:interface:stdout 2015-01-11T20:53:37.805504:Dimension = 3\n"
       ]
      },
      {
       "output_type": "stream",
       "stream": "stderr",
       "text": [
        "INFO:interface:stdout 2015-01-11T20:53:37.805504:Number of stages = 1\n"
       ]
      },
      {
       "output_type": "stream",
       "stream": "stderr",
       "text": [
        "INFO:interface:stdout 2015-01-11T20:53:37.805504:Use Histogram Matching true\n"
       ]
      },
      {
       "output_type": "stream",
       "stream": "stderr",
       "text": [
        "INFO:interface:stdout 2015-01-11T20:53:37.805504:Winsorize image intensities false\n"
       ]
      },
      {
       "output_type": "stream",
       "stream": "stderr",
       "text": [
        "INFO:interface:stdout 2015-01-11T20:53:37.807123:Lower quantile = 0\n"
       ]
      },
      {
       "output_type": "stream",
       "stream": "stderr",
       "text": [
        "INFO:interface:stdout 2015-01-11T20:53:37.807123:Upper quantile = 1\n"
       ]
      },
      {
       "output_type": "stream",
       "stream": "stderr",
       "text": [
        "INFO:interface:stdout 2015-01-11T20:53:37.807123:Stage 1 State\n"
       ]
      },
      {
       "output_type": "stream",
       "stream": "stderr",
       "text": [
        "INFO:interface:stdout 2015-01-11T20:53:37.807123:   Image metric = Mattes\n"
       ]
      },
      {
       "output_type": "stream",
       "stream": "stderr",
       "text": [
        "INFO:interface:stdout 2015-01-11T20:53:37.807123:     Fixed image = Image (0x7fd823f23790)\n"
       ]
      },
      {
       "output_type": "stream",
       "stream": "stderr",
       "text": [
        "INFO:interface:stdout 2015-01-11T20:53:37.807123:  RTTI typeinfo:   itk::Image<float, 3u>\n"
       ]
      },
      {
       "output_type": "stream",
       "stream": "stderr",
       "text": [
        "INFO:interface:stdout 2015-01-11T20:53:37.807123:  Reference Count: 2\n"
       ]
      },
      {
       "output_type": "stream",
       "stream": "stderr",
       "text": [
        "INFO:interface:stdout 2015-01-11T20:53:37.807123:  Modified Time: 979\n"
       ]
      },
      {
       "output_type": "stream",
       "stream": "stderr",
       "text": [
        "INFO:interface:stdout 2015-01-11T20:53:37.807123:  Debug: Off\n"
       ]
      },
      {
       "output_type": "stream",
       "stream": "stderr",
       "text": [
        "INFO:interface:stdout 2015-01-11T20:53:37.807123:  Object Name: \n"
       ]
      },
      {
       "output_type": "stream",
       "stream": "stderr",
       "text": [
        "INFO:interface:stdout 2015-01-11T20:53:37.807123:  Observers: \n"
       ]
      },
      {
       "output_type": "stream",
       "stream": "stderr",
       "text": [
        "INFO:interface:stdout 2015-01-11T20:53:37.807123:    none\n"
       ]
      },
      {
       "output_type": "stream",
       "stream": "stderr",
       "text": [
        "INFO:interface:stdout 2015-01-11T20:53:37.807123:  Source: (none)\n"
       ]
      },
      {
       "output_type": "stream",
       "stream": "stderr",
       "text": [
        "INFO:interface:stdout 2015-01-11T20:53:37.807123:  Source output name: (none)\n"
       ]
      },
      {
       "output_type": "stream",
       "stream": "stderr",
       "text": [
        "INFO:interface:stdout 2015-01-11T20:53:37.807123:  Release Data: Off\n"
       ]
      },
      {
       "output_type": "stream",
       "stream": "stderr",
       "text": [
        "INFO:interface:stdout 2015-01-11T20:53:37.807123:  Data Released: False\n"
       ]
      },
      {
       "output_type": "stream",
       "stream": "stderr",
       "text": [
        "INFO:interface:stdout 2015-01-11T20:53:37.807123:  Global Release Data: Off\n"
       ]
      },
      {
       "output_type": "stream",
       "stream": "stderr",
       "text": [
        "INFO:interface:stdout 2015-01-11T20:53:37.807123:  PipelineMTime: 0\n"
       ]
      },
      {
       "output_type": "stream",
       "stream": "stderr",
       "text": [
        "INFO:interface:stdout 2015-01-11T20:53:37.807123:  UpdateMTime: 796\n"
       ]
      },
      {
       "output_type": "stream",
       "stream": "stderr",
       "text": [
        "INFO:interface:stdout 2015-01-11T20:53:37.807123:  RealTimeStamp: 0 seconds \n"
       ]
      },
      {
       "output_type": "stream",
       "stream": "stderr",
       "text": [
        "INFO:interface:stdout 2015-01-11T20:53:37.807123:  LargestPossibleRegion: \n"
       ]
      },
      {
       "output_type": "stream",
       "stream": "stderr",
       "text": [
        "INFO:interface:stdout 2015-01-11T20:53:37.807123:    Dimension: 3\n"
       ]
      },
      {
       "output_type": "stream",
       "stream": "stderr",
       "text": [
        "INFO:interface:stdout 2015-01-11T20:53:37.807123:    Index: [0, 0, 0]\n"
       ]
      },
      {
       "output_type": "stream",
       "stream": "stderr",
       "text": [
        "INFO:interface:stdout 2015-01-11T20:53:37.807123:    Size: [112, 112, 64]\n"
       ]
      },
      {
       "output_type": "stream",
       "stream": "stderr",
       "text": [
        "INFO:interface:stdout 2015-01-11T20:53:37.807123:  BufferedRegion: \n"
       ]
      },
      {
       "output_type": "stream",
       "stream": "stderr",
       "text": [
        "INFO:interface:stdout 2015-01-11T20:53:37.807123:    Dimension: 3\n"
       ]
      },
      {
       "output_type": "stream",
       "stream": "stderr",
       "text": [
        "INFO:interface:stdout 2015-01-11T20:53:37.807123:    Index: [0, 0, 0]\n"
       ]
      },
      {
       "output_type": "stream",
       "stream": "stderr",
       "text": [
        "INFO:interface:stdout 2015-01-11T20:53:37.807123:    Size: [112, 112, 64]\n"
       ]
      },
      {
       "output_type": "stream",
       "stream": "stderr",
       "text": [
        "INFO:interface:stdout 2015-01-11T20:53:37.807123:  RequestedRegion: \n"
       ]
      },
      {
       "output_type": "stream",
       "stream": "stderr",
       "text": [
        "INFO:interface:stdout 2015-01-11T20:53:37.807123:    Dimension: 3\n"
       ]
      },
      {
       "output_type": "stream",
       "stream": "stderr",
       "text": [
        "INFO:interface:stdout 2015-01-11T20:53:37.807123:    Index: [0, 0, 0]\n"
       ]
      },
      {
       "output_type": "stream",
       "stream": "stderr",
       "text": [
        "INFO:interface:stdout 2015-01-11T20:53:37.807123:    Size: [112, 112, 64]\n"
       ]
      },
      {
       "output_type": "stream",
       "stream": "stderr",
       "text": [
        "INFO:interface:stdout 2015-01-11T20:53:37.807123:  Spacing: [1.96429, 1.96429, 2]\n"
       ]
      },
      {
       "output_type": "stream",
       "stream": "stderr",
       "text": [
        "INFO:interface:stdout 2015-01-11T20:53:37.807123:  Origin: [-109.009, -109.767, -56.6923]\n"
       ]
      },
      {
       "output_type": "stream",
       "stream": "stderr",
       "text": [
        "INFO:interface:stdout 2015-01-11T20:53:37.807123:  Direction: \n"
       ]
      },
      {
       "output_type": "stream",
       "stream": "stderr",
       "text": [
        "INFO:interface:stdout 2015-01-11T20:53:37.807123:1 0 0\n"
       ]
      },
      {
       "output_type": "stream",
       "stream": "stderr",
       "text": [
        "INFO:interface:stdout 2015-01-11T20:53:37.807123:0 1 0\n"
       ]
      },
      {
       "output_type": "stream",
       "stream": "stderr",
       "text": [
        "INFO:interface:stdout 2015-01-11T20:53:37.807123:0 0 1\n"
       ]
      },
      {
       "output_type": "stream",
       "stream": "stderr",
       "text": [
        "INFO:interface:stdout 2015-01-11T20:53:37.807123:\n"
       ]
      },
      {
       "output_type": "stream",
       "stream": "stderr",
       "text": [
        "INFO:interface:stdout 2015-01-11T20:53:37.807123:  IndexToPointMatrix: \n"
       ]
      },
      {
       "output_type": "stream",
       "stream": "stderr",
       "text": [
        "INFO:interface:stdout 2015-01-11T20:53:37.807123:1.96429 0 0\n"
       ]
      },
      {
       "output_type": "stream",
       "stream": "stderr",
       "text": [
        "INFO:interface:stdout 2015-01-11T20:53:37.807123:0 1.96429 0\n"
       ]
      },
      {
       "output_type": "stream",
       "stream": "stderr",
       "text": [
        "INFO:interface:stdout 2015-01-11T20:53:37.807123:0 0 2\n"
       ]
      },
      {
       "output_type": "stream",
       "stream": "stderr",
       "text": [
        "INFO:interface:stdout 2015-01-11T20:53:37.807123:\n"
       ]
      },
      {
       "output_type": "stream",
       "stream": "stderr",
       "text": [
        "INFO:interface:stdout 2015-01-11T20:53:37.807123:  PointToIndexMatrix: \n"
       ]
      },
      {
       "output_type": "stream",
       "stream": "stderr",
       "text": [
        "INFO:interface:stdout 2015-01-11T20:53:37.807123:0.509091 0 0\n"
       ]
      },
      {
       "output_type": "stream",
       "stream": "stderr",
       "text": [
        "INFO:interface:stdout 2015-01-11T20:53:37.807123:0 0.509091 0\n"
       ]
      },
      {
       "output_type": "stream",
       "stream": "stderr",
       "text": [
        "INFO:interface:stdout 2015-01-11T20:53:37.807123:0 0 0.5\n"
       ]
      },
      {
       "output_type": "stream",
       "stream": "stderr",
       "text": [
        "INFO:interface:stdout 2015-01-11T20:53:37.807123:\n"
       ]
      },
      {
       "output_type": "stream",
       "stream": "stderr",
       "text": [
        "INFO:interface:stdout 2015-01-11T20:53:37.807123:  Inverse Direction: \n"
       ]
      },
      {
       "output_type": "stream",
       "stream": "stderr",
       "text": [
        "INFO:interface:stdout 2015-01-11T20:53:37.807123:1 0 0\n"
       ]
      },
      {
       "output_type": "stream",
       "stream": "stderr",
       "text": [
        "INFO:interface:stdout 2015-01-11T20:53:37.807123:0 1 0\n"
       ]
      },
      {
       "output_type": "stream",
       "stream": "stderr",
       "text": [
        "INFO:interface:stdout 2015-01-11T20:53:37.807123:0 0 1\n"
       ]
      },
      {
       "output_type": "stream",
       "stream": "stderr",
       "text": [
        "INFO:interface:stdout 2015-01-11T20:53:37.807123:\n"
       ]
      },
      {
       "output_type": "stream",
       "stream": "stderr",
       "text": [
        "INFO:interface:stdout 2015-01-11T20:53:37.807123:  PixelContainer: \n"
       ]
      },
      {
       "output_type": "stream",
       "stream": "stderr",
       "text": [
        "INFO:interface:stdout 2015-01-11T20:53:37.807123:    ImportImageContainer (0x7fd823f22d10)\n"
       ]
      },
      {
       "output_type": "stream",
       "stream": "stderr",
       "text": [
        "INFO:interface:stdout 2015-01-11T20:53:37.807123:      RTTI typeinfo:   itk::ImportImageContainer<unsigned long, float>\n"
       ]
      },
      {
       "output_type": "stream",
       "stream": "stderr",
       "text": [
        "INFO:interface:stdout 2015-01-11T20:53:37.807123:      Reference Count: 1\n"
       ]
      },
      {
       "output_type": "stream",
       "stream": "stderr",
       "text": [
        "INFO:interface:stdout 2015-01-11T20:53:37.807123:      Modified Time: 793\n"
       ]
      },
      {
       "output_type": "stream",
       "stream": "stderr",
       "text": [
        "INFO:interface:stdout 2015-01-11T20:53:37.807123:      Debug: Off\n"
       ]
      },
      {
       "output_type": "stream",
       "stream": "stderr",
       "text": [
        "INFO:interface:stdout 2015-01-11T20:53:37.807123:      Object Name: \n"
       ]
      },
      {
       "output_type": "stream",
       "stream": "stderr",
       "text": [
        "INFO:interface:stdout 2015-01-11T20:53:37.807123:      Observers: \n"
       ]
      },
      {
       "output_type": "stream",
       "stream": "stderr",
       "text": [
        "INFO:interface:stdout 2015-01-11T20:53:37.807123:        none\n"
       ]
      },
      {
       "output_type": "stream",
       "stream": "stderr",
       "text": [
        "INFO:interface:stdout 2015-01-11T20:53:37.807123:      Pointer: 0x106959000\n"
       ]
      },
      {
       "output_type": "stream",
       "stream": "stderr",
       "text": [
        "INFO:interface:stdout 2015-01-11T20:53:37.807123:      Container manages memory: true\n"
       ]
      },
      {
       "output_type": "stream",
       "stream": "stderr",
       "text": [
        "INFO:interface:stdout 2015-01-11T20:53:37.807123:      Size: 802816\n"
       ]
      },
      {
       "output_type": "stream",
       "stream": "stderr",
       "text": [
        "INFO:interface:stdout 2015-01-11T20:53:37.807123:      Capacity: 802816\n"
       ]
      },
      {
       "output_type": "stream",
       "stream": "stderr",
       "text": [
        "INFO:interface:stdout 2015-01-11T20:53:37.807123:\n"
       ]
      },
      {
       "output_type": "stream",
       "stream": "stderr",
       "text": [
        "INFO:interface:stdout 2015-01-11T20:53:37.807123:     Moving image = Image (0x7fd823f279e0)\n"
       ]
      },
      {
       "output_type": "stream",
       "stream": "stderr",
       "text": [
        "INFO:interface:stdout 2015-01-11T20:53:37.807123:  RTTI typeinfo:   itk::Image<float, 3u>\n"
       ]
      },
      {
       "output_type": "stream",
       "stream": "stderr",
       "text": [
        "INFO:interface:stdout 2015-01-11T20:53:37.807123:  Reference Count: 2\n"
       ]
      },
      {
       "output_type": "stream",
       "stream": "stderr",
       "text": [
        "INFO:interface:stdout 2015-01-11T20:53:37.807123:  Modified Time: 980\n"
       ]
      },
      {
       "output_type": "stream",
       "stream": "stderr",
       "text": [
        "INFO:interface:stdout 2015-01-11T20:53:37.807123:  Debug: Off\n"
       ]
      },
      {
       "output_type": "stream",
       "stream": "stderr",
       "text": [
        "INFO:interface:stdout 2015-01-11T20:53:37.807123:  Object Name: \n"
       ]
      },
      {
       "output_type": "stream",
       "stream": "stderr",
       "text": [
        "INFO:interface:stdout 2015-01-11T20:53:37.807123:  Observers: \n"
       ]
      },
      {
       "output_type": "stream",
       "stream": "stderr",
       "text": [
        "INFO:interface:stdout 2015-01-11T20:53:37.807123:    none\n"
       ]
      },
      {
       "output_type": "stream",
       "stream": "stderr",
       "text": [
        "INFO:interface:stdout 2015-01-11T20:53:37.807123:  Source: (none)\n"
       ]
      },
      {
       "output_type": "stream",
       "stream": "stderr",
       "text": [
        "INFO:interface:stdout 2015-01-11T20:53:37.807123:  Source output name: (none)\n"
       ]
      },
      {
       "output_type": "stream",
       "stream": "stderr",
       "text": [
        "INFO:interface:stdout 2015-01-11T20:53:37.807123:  Release Data: Off\n"
       ]
      },
      {
       "output_type": "stream",
       "stream": "stderr",
       "text": [
        "INFO:interface:stdout 2015-01-11T20:53:37.807123:  Data Released: False\n"
       ]
      },
      {
       "output_type": "stream",
       "stream": "stderr",
       "text": [
        "INFO:interface:stdout 2015-01-11T20:53:37.807123:  Global Release Data: Off\n"
       ]
      },
      {
       "output_type": "stream",
       "stream": "stderr",
       "text": [
        "INFO:interface:stdout 2015-01-11T20:53:37.807123:  PipelineMTime: 0\n"
       ]
      },
      {
       "output_type": "stream",
       "stream": "stderr",
       "text": [
        "INFO:interface:stdout 2015-01-11T20:53:37.807123:  UpdateMTime: 977\n"
       ]
      },
      {
       "output_type": "stream",
       "stream": "stderr",
       "text": [
        "INFO:interface:stdout 2015-01-11T20:53:37.807123:  RealTimeStamp: 0 seconds \n"
       ]
      },
      {
       "output_type": "stream",
       "stream": "stderr",
       "text": [
        "INFO:interface:stdout 2015-01-11T20:53:37.807123:  LargestPossibleRegion: \n"
       ]
      },
      {
       "output_type": "stream",
       "stream": "stderr",
       "text": [
        "INFO:interface:stdout 2015-01-11T20:53:37.807123:    Dimension: 3\n"
       ]
      },
      {
       "output_type": "stream",
       "stream": "stderr",
       "text": [
        "INFO:interface:stdout 2015-01-11T20:53:37.807123:    Index: [0, 0, 0]\n"
       ]
      },
      {
       "output_type": "stream",
       "stream": "stderr",
       "text": [
        "INFO:interface:stdout 2015-01-11T20:53:37.807123:    Size: [112, 112, 64]\n"
       ]
      },
      {
       "output_type": "stream",
       "stream": "stderr",
       "text": [
        "INFO:interface:stdout 2015-01-11T20:53:37.807123:  BufferedRegion: \n"
       ]
      },
      {
       "output_type": "stream",
       "stream": "stderr",
       "text": [
        "INFO:interface:stdout 2015-01-11T20:53:37.807123:    Dimension: 3\n"
       ]
      },
      {
       "output_type": "stream",
       "stream": "stderr",
       "text": [
        "INFO:interface:stdout 2015-01-11T20:53:37.807123:    Index: [0, 0, 0]\n"
       ]
      },
      {
       "output_type": "stream",
       "stream": "stderr",
       "text": [
        "INFO:interface:stdout 2015-01-11T20:53:37.807123:    Size: [112, 112, 64]\n"
       ]
      },
      {
       "output_type": "stream",
       "stream": "stderr",
       "text": [
        "INFO:interface:stdout 2015-01-11T20:53:37.807123:  RequestedRegion: \n"
       ]
      },
      {
       "output_type": "stream",
       "stream": "stderr",
       "text": [
        "INFO:interface:stdout 2015-01-11T20:53:37.807123:    Dimension: 3\n"
       ]
      },
      {
       "output_type": "stream",
       "stream": "stderr",
       "text": [
        "INFO:interface:stdout 2015-01-11T20:53:37.807123:    Index: [0, 0, 0]\n"
       ]
      },
      {
       "output_type": "stream",
       "stream": "stderr",
       "text": [
        "INFO:interface:stdout 2015-01-11T20:53:37.807123:    Size: [112, 112, 64]\n"
       ]
      },
      {
       "output_type": "stream",
       "stream": "stderr",
       "text": [
        "INFO:interface:stdout 2015-01-11T20:53:37.807123:  Spacing: [1.96429, 1.96429, 2]\n"
       ]
      },
      {
       "output_type": "stream",
       "stream": "stderr",
       "text": [
        "INFO:interface:stdout 2015-01-11T20:53:37.807123:  Origin: [-109.009, -109.767, -56.6923]\n"
       ]
      },
      {
       "output_type": "stream",
       "stream": "stderr",
       "text": [
        "INFO:interface:stdout 2015-01-11T20:53:37.807123:  Direction: \n"
       ]
      },
      {
       "output_type": "stream",
       "stream": "stderr",
       "text": [
        "INFO:interface:stdout 2015-01-11T20:53:37.807123:1 0 0\n"
       ]
      },
      {
       "output_type": "stream",
       "stream": "stderr",
       "text": [
        "INFO:interface:stdout 2015-01-11T20:53:37.807123:0 1 0\n"
       ]
      },
      {
       "output_type": "stream",
       "stream": "stderr",
       "text": [
        "INFO:interface:stdout 2015-01-11T20:53:37.807123:0 0 1\n"
       ]
      },
      {
       "output_type": "stream",
       "stream": "stderr",
       "text": [
        "INFO:interface:stdout 2015-01-11T20:53:37.807123:\n"
       ]
      },
      {
       "output_type": "stream",
       "stream": "stderr",
       "text": [
        "INFO:interface:stdout 2015-01-11T20:53:37.807123:  IndexToPointMatrix: \n"
       ]
      },
      {
       "output_type": "stream",
       "stream": "stderr",
       "text": [
        "INFO:interface:stdout 2015-01-11T20:53:37.807123:1.96429 0 0\n"
       ]
      },
      {
       "output_type": "stream",
       "stream": "stderr",
       "text": [
        "INFO:interface:stdout 2015-01-11T20:53:37.807123:0 1.96429 0\n"
       ]
      },
      {
       "output_type": "stream",
       "stream": "stderr",
       "text": [
        "INFO:interface:stdout 2015-01-11T20:53:37.807123:0 0 2\n"
       ]
      },
      {
       "output_type": "stream",
       "stream": "stderr",
       "text": [
        "INFO:interface:stdout 2015-01-11T20:53:37.807123:\n"
       ]
      },
      {
       "output_type": "stream",
       "stream": "stderr",
       "text": [
        "INFO:interface:stdout 2015-01-11T20:53:37.807123:  PointToIndexMatrix: \n"
       ]
      },
      {
       "output_type": "stream",
       "stream": "stderr",
       "text": [
        "INFO:interface:stdout 2015-01-11T20:53:37.807123:0.509091 0 0\n"
       ]
      },
      {
       "output_type": "stream",
       "stream": "stderr",
       "text": [
        "INFO:interface:stdout 2015-01-11T20:53:37.807123:0 0.509091 0\n"
       ]
      },
      {
       "output_type": "stream",
       "stream": "stderr",
       "text": [
        "INFO:interface:stdout 2015-01-11T20:53:37.807123:0 0 0.5\n"
       ]
      },
      {
       "output_type": "stream",
       "stream": "stderr",
       "text": [
        "INFO:interface:stdout 2015-01-11T20:53:37.807123:\n"
       ]
      },
      {
       "output_type": "stream",
       "stream": "stderr",
       "text": [
        "INFO:interface:stdout 2015-01-11T20:53:37.807123:  Inverse Direction: \n"
       ]
      },
      {
       "output_type": "stream",
       "stream": "stderr",
       "text": [
        "INFO:interface:stdout 2015-01-11T20:53:37.807123:1 0 0\n"
       ]
      },
      {
       "output_type": "stream",
       "stream": "stderr",
       "text": [
        "INFO:interface:stdout 2015-01-11T20:53:37.807123:0 1 0\n"
       ]
      },
      {
       "output_type": "stream",
       "stream": "stderr",
       "text": [
        "INFO:interface:stdout 2015-01-11T20:53:37.807123:0 0 1\n"
       ]
      },
      {
       "output_type": "stream",
       "stream": "stderr",
       "text": [
        "INFO:interface:stdout 2015-01-11T20:53:37.807123:\n"
       ]
      },
      {
       "output_type": "stream",
       "stream": "stderr",
       "text": [
        "INFO:interface:stdout 2015-01-11T20:53:37.807123:  PixelContainer: \n"
       ]
      },
      {
       "output_type": "stream",
       "stream": "stderr",
       "text": [
        "INFO:interface:stdout 2015-01-11T20:53:37.807123:    ImportImageContainer (0x7fd823f278f0)\n"
       ]
      },
      {
       "output_type": "stream",
       "stream": "stderr",
       "text": [
        "INFO:interface:stdout 2015-01-11T20:53:37.807123:      RTTI typeinfo:   itk::ImportImageContainer<unsigned long, float>\n"
       ]
      },
      {
       "output_type": "stream",
       "stream": "stderr",
       "text": [
        "INFO:interface:stdout 2015-01-11T20:53:37.807123:      Reference Count: 1\n"
       ]
      },
      {
       "output_type": "stream",
       "stream": "stderr",
       "text": [
        "INFO:interface:stdout 2015-01-11T20:53:37.807123:      Modified Time: 974\n"
       ]
      },
      {
       "output_type": "stream",
       "stream": "stderr",
       "text": [
        "INFO:interface:stdout 2015-01-11T20:53:37.807123:      Debug: Off\n"
       ]
      },
      {
       "output_type": "stream",
       "stream": "stderr",
       "text": [
        "INFO:interface:stdout 2015-01-11T20:53:37.807123:      Object Name: \n"
       ]
      },
      {
       "output_type": "stream",
       "stream": "stderr",
       "text": [
        "INFO:interface:stdout 2015-01-11T20:53:37.807123:      Observers: \n"
       ]
      },
      {
       "output_type": "stream",
       "stream": "stderr",
       "text": [
        "INFO:interface:stdout 2015-01-11T20:53:37.807123:        none\n"
       ]
      },
      {
       "output_type": "stream",
       "stream": "stderr",
       "text": [
        "INFO:interface:stdout 2015-01-11T20:53:37.807123:      Pointer: 0x106df1000\n"
       ]
      },
      {
       "output_type": "stream",
       "stream": "stderr",
       "text": [
        "INFO:interface:stdout 2015-01-11T20:53:37.807123:      Container manages memory: true\n"
       ]
      },
      {
       "output_type": "stream",
       "stream": "stderr",
       "text": [
        "INFO:interface:stdout 2015-01-11T20:53:37.807123:      Size: 802816\n"
       ]
      },
      {
       "output_type": "stream",
       "stream": "stderr",
       "text": [
        "INFO:interface:stdout 2015-01-11T20:53:37.807123:      Capacity: 802816\n"
       ]
      },
      {
       "output_type": "stream",
       "stream": "stderr",
       "text": [
        "INFO:interface:stdout 2015-01-11T20:53:37.807123:\n"
       ]
      },
      {
       "output_type": "stream",
       "stream": "stderr",
       "text": [
        "INFO:interface:stdout 2015-01-11T20:53:37.807123:     Weighting = 1\n"
       ]
      },
      {
       "output_type": "stream",
       "stream": "stderr",
       "text": [
        "INFO:interface:stdout 2015-01-11T20:53:37.807123:     Sampling strategy = none\n"
       ]
      },
      {
       "output_type": "stream",
       "stream": "stderr",
       "text": [
        "INFO:interface:stdout 2015-01-11T20:53:37.807123:     Number of bins = 32\n"
       ]
      },
      {
       "output_type": "stream",
       "stream": "stderr",
       "text": [
        "INFO:interface:stdout 2015-01-11T20:53:37.807123:     Radius = 4\n"
       ]
      },
      {
       "output_type": "stream",
       "stream": "stderr",
       "text": [
        "INFO:interface:stdout 2015-01-11T20:53:37.807123:     Sampling percentage  = 1\n"
       ]
      },
      {
       "output_type": "stream",
       "stream": "stderr",
       "text": [
        "INFO:interface:stdout 2015-01-11T20:53:37.807123:   Transform = SyN\n"
       ]
      },
      {
       "output_type": "stream",
       "stream": "stderr",
       "text": [
        "INFO:interface:stdout 2015-01-11T20:53:37.807123:     Gradient step = 0.25\n"
       ]
      },
      {
       "output_type": "stream",
       "stream": "stderr",
       "text": [
        "INFO:interface:stdout 2015-01-11T20:53:37.807123:     Update field sigma (voxel space) = 3\n"
       ]
      },
      {
       "output_type": "stream",
       "stream": "stderr",
       "text": [
        "INFO:interface:stdout 2015-01-11T20:53:37.807123:     Total field sigma (voxel space) = 0\n"
       ]
      },
      {
       "output_type": "stream",
       "stream": "stderr",
       "text": [
        "INFO:interface:stdout 2015-01-11T20:53:37.807123:     Update field time sigma = 0\n"
       ]
      },
      {
       "output_type": "stream",
       "stream": "stderr",
       "text": [
        "INFO:interface:stdout 2015-01-11T20:53:37.807123:     Total field time sigma  = 0\n"
       ]
      },
      {
       "output_type": "stream",
       "stream": "stderr",
       "text": [
        "INFO:interface:stdout 2015-01-11T20:53:37.807123:     Number of time indices = 0\n"
       ]
      },
      {
       "output_type": "stream",
       "stream": "stderr",
       "text": [
        "INFO:interface:stdout 2015-01-11T20:53:37.807123:     Number of time point samples = 0\n"
       ]
      },
      {
       "output_type": "stream",
       "stream": "stderr",
       "text": [
        "INFO:interface:stdout 2015-01-11T20:53:37.807123:Registration using 1 total stages.\n"
       ]
      },
      {
       "output_type": "stream",
       "stream": "stderr",
       "text": [
        "INFO:interface:stdout 2015-01-11T20:53:37.807123:\n"
       ]
      },
      {
       "output_type": "stream",
       "stream": "stderr",
       "text": [
        "INFO:interface:stdout 2015-01-11T20:53:37.807123:Stage 0\n"
       ]
      },
      {
       "output_type": "stream",
       "stream": "stderr",
       "text": [
        "INFO:interface:stdout 2015-01-11T20:53:37.807123:  iterations = 70x50x40\n"
       ]
      },
      {
       "output_type": "stream",
       "stream": "stderr",
       "text": [
        "INFO:interface:stdout 2015-01-11T20:53:37.807123:  convergence threshold = 1e-06\n"
       ]
      },
      {
       "output_type": "stream",
       "stream": "stderr",
       "text": [
        "INFO:interface:stdout 2015-01-11T20:53:37.807123:  convergence window size = 10\n"
       ]
      },
      {
       "output_type": "stream",
       "stream": "stderr",
       "text": [
        "INFO:interface:stdout 2015-01-11T20:53:37.807123:  number of levels = 3\n"
       ]
      },
      {
       "output_type": "stream",
       "stream": "stderr",
       "text": [
        "INFO:interface:stdout 2015-01-11T20:53:37.807123:  Shrink factors (level 1 out of 3): [3, 3, 3]\n"
       ]
      },
      {
       "output_type": "stream",
       "stream": "stderr",
       "text": [
        "INFO:interface:stdout 2015-01-11T20:53:37.807123:  Shrink factors (level 2 out of 3): [2, 2, 2]\n"
       ]
      },
      {
       "output_type": "stream",
       "stream": "stderr",
       "text": [
        "INFO:interface:stdout 2015-01-11T20:53:37.807123:  Shrink factors (level 3 out of 3): [1, 1, 1]\n"
       ]
      },
      {
       "output_type": "stream",
       "stream": "stderr",
       "text": [
        "INFO:interface:stdout 2015-01-11T20:53:37.807123:  smoothing sigmas per level: [2, 1, 0]\n"
       ]
      },
      {
       "output_type": "stream",
       "stream": "stderr",
       "text": [
        "INFO:interface:stdout 2015-01-11T20:53:37.807123:  using the Mattes MI metric (number of bins = 32, weight = 1)\n"
       ]
      },
      {
       "output_type": "stream",
       "stream": "stderr",
       "text": [
        "INFO:interface:stdout 2015-01-11T20:53:38.104661:  preprocessing:  histogram matching the images\n"
       ]
      },
      {
       "output_type": "stream",
       "stream": "stderr",
       "text": [
        "INFO:interface:stdout 2015-01-11T20:53:38.105532:  Using default NONE metricSamplingStrategy \n"
       ]
      },
      {
       "output_type": "stream",
       "stream": "stderr",
       "text": [
        "INFO:interface:stdout 2015-01-11T20:53:38.152059:\n"
       ]
      },
      {
       "output_type": "stream",
       "stream": "stderr",
       "text": [
        "INFO:interface:stdout 2015-01-11T20:53:38.152059:*** Running SyN registration (varianceForUpdateField = 3, varianceForTotalField = 0) ***\n"
       ]
      },
      {
       "output_type": "stream",
       "stream": "stderr",
       "text": [
        "INFO:interface:stdout 2015-01-11T20:53:38.152059:\n"
       ]
      },
      {
       "output_type": "stream",
       "stream": "stderr",
       "text": [
        "INFO:interface:stdout 2015-01-11T20:53:39.035329:XXDIAGNOSTIC,Iteration,metricValue,convergenceValue,ITERATION_TIME_INDEX,SINCE_LAST\n"
       ]
      },
      {
       "output_type": "stream",
       "stream": "stderr",
       "text": [
        "INFO:interface:stdout 2015-01-11T20:53:39.035329: 1DIAGNOSTIC,     1, -8.531786203384e-01, inf, 8.8335e-01, 8.8335e-01, \n"
       ]
      },
      {
       "output_type": "stream",
       "stream": "stderr",
       "text": [
        "INFO:interface:stdout 2015-01-11T20:53:39.292323: 1DIAGNOSTIC,     2, -9.865465164185e-01, inf, 1.1402e+00, 2.5685e-01, \n"
       ]
      },
      {
       "output_type": "stream",
       "stream": "stderr",
       "text": [
        "INFO:interface:stdout 2015-01-11T20:53:39.548565: 1DIAGNOSTIC,     3, -1.063436031342e+00, inf, 1.3965e+00, 2.5628e-01, \n"
       ]
      },
      {
       "output_type": "stream",
       "stream": "stderr",
       "text": [
        "INFO:interface:stdout 2015-01-11T20:53:39.798244: 1DIAGNOSTIC,     4, -1.104176521301e+00, inf, 1.6461e+00, 2.4963e-01, \n"
       ]
      },
      {
       "output_type": "stream",
       "stream": "stderr",
       "text": [
        "INFO:interface:stdout 2015-01-11T20:53:40.054453: 1DIAGNOSTIC,     5, -1.118425130844e+00, inf, 1.9022e+00, 2.5613e-01, \n"
       ]
      },
      {
       "output_type": "stream",
       "stream": "stderr",
       "text": [
        "INFO:interface:stdout 2015-01-11T20:53:40.310583: 1DIAGNOSTIC,     6, -1.114225387573e+00, inf, 2.1583e+00, 2.5610e-01, \n"
       ]
      },
      {
       "output_type": "stream",
       "stream": "stderr",
       "text": [
        "INFO:interface:stdout 2015-01-11T20:53:40.561142: 1DIAGNOSTIC,     7, -1.129664182663e+00, inf, 2.4088e+00, 2.5050e-01, \n"
       ]
      },
      {
       "output_type": "stream",
       "stream": "stderr",
       "text": [
        "INFO:interface:stdout 2015-01-11T20:53:40.806630: 1DIAGNOSTIC,     8, -1.116496920586e+00, inf, 2.6543e+00, 2.4543e-01, \n"
       ]
      },
      {
       "output_type": "stream",
       "stream": "stderr",
       "text": [
        "INFO:interface:stdout 2015-01-11T20:53:41.057769: 1DIAGNOSTIC,     9, -1.142594337463e+00, inf, 2.9053e+00, 2.5107e-01, \n"
       ]
      },
      {
       "output_type": "stream",
       "stream": "stderr",
       "text": [
        "INFO:interface:stdout 2015-01-11T20:53:41.302153: 1DIAGNOSTIC,    10, -1.118289470673e+00, 1.189781166613e-02, 3.1497e+00, 2.4433e-01, \n"
       ]
      },
      {
       "output_type": "stream",
       "stream": "stderr",
       "text": [
        "INFO:interface:stdout 2015-01-11T20:53:41.547091: 1DIAGNOSTIC,    11, -1.150226116180e+00, 5.739097949117e-03, 3.3945e+00, 2.4487e-01, \n"
       ]
      },
      {
       "output_type": "stream",
       "stream": "stderr",
       "text": [
        "INFO:interface:stdout 2015-01-11T20:53:41.793457: 1DIAGNOSTIC,    12, -1.121968030930e+00, 2.395603107288e-03, 3.6408e+00, 2.4627e-01, \n"
       ]
      },
      {
       "output_type": "stream",
       "stream": "stderr",
       "text": [
        "INFO:interface:stdout 2015-01-11T20:53:42.037738: 1DIAGNOSTIC,    13, -1.154148817062e+00, 1.551490277052e-03, 3.8850e+00, 2.4419e-01, \n"
       ]
      },
      {
       "output_type": "stream",
       "stream": "stderr",
       "text": [
        "INFO:interface:stdout 2015-01-11T20:53:42.282108: 1DIAGNOSTIC,    14, -1.125879287720e+00, 9.039489668794e-04, 4.1294e+00, 2.4439e-01, \n"
       ]
      },
      {
       "output_type": "stream",
       "stream": "stderr",
       "text": [
        "INFO:interface:stdout 2015-01-11T20:53:42.533438: 1DIAGNOSTIC,    15, -1.152964353561e+00, 9.940863819793e-04, 4.3807e+00, 2.5128e-01, \n"
       ]
      },
      {
       "output_type": "stream",
       "stream": "stderr",
       "text": [
        "INFO:interface:stdout 2015-01-11T20:53:42.785275: 1DIAGNOSTIC,    16, -1.137013435364e+00, 6.389441550709e-04, 4.6325e+00, 2.5177e-01, \n"
       ]
      },
      {
       "output_type": "stream",
       "stream": "stderr",
       "text": [
        "INFO:interface:stdout 2015-01-11T20:53:43.036188: 1DIAGNOSTIC,    17, -1.136991500854e+00, 5.151944933459e-04, 4.8833e+00, 2.5088e-01, \n"
       ]
      },
      {
       "output_type": "stream",
       "stream": "stderr",
       "text": [
        "INFO:interface:stdout 2015-01-11T20:53:43.286633: 1DIAGNOSTIC,    18, -1.135893344879e+00, 1.454243320040e-04, 5.1337e+00, 2.5038e-01, \n"
       ]
      },
      {
       "output_type": "stream",
       "stream": "stderr",
       "text": [
        "INFO:interface:stdout 2015-01-11T20:53:43.537082: 1DIAGNOSTIC,    19, -1.129161596298e+00, 7.311074296013e-05, 5.3841e+00, 2.5039e-01, \n"
       ]
      },
      {
       "output_type": "stream",
       "stream": "stderr",
       "text": [
        "INFO:interface:stdout 2015-01-11T20:53:43.791417: 1DIAGNOSTIC,    20, -1.135489344597e+00, -2.403228863841e-04, 5.6384e+00, 2.5428e-01, \n"
       ]
      },
      {
       "output_type": "stream",
       "stream": "stderr",
       "text": [
        "INFO:interface:stdout 2015-01-11T20:53:45.016928:XXDIAGNOSTIC,Iteration,metricValue,convergenceValue,ITERATION_TIME_INDEX,SINCE_LAST\n"
       ]
      },
      {
       "output_type": "stream",
       "stream": "stderr",
       "text": [
        "INFO:interface:stdout 2015-01-11T20:53:45.017798: 1DIAGNOSTIC,     1, -8.463570475578e-01, inf, 6.8639e+00, 1.2255e+00, \n"
       ]
      },
      {
       "output_type": "stream",
       "stream": "stderr",
       "text": [
        "INFO:interface:stdout 2015-01-11T20:53:45.784198: 1DIAGNOSTIC,     2, -8.816982507706e-01, inf, 7.6311e+00, 7.6717e-01, \n"
       ]
      },
      {
       "output_type": "stream",
       "stream": "stderr",
       "text": [
        "INFO:interface:stdout 2015-01-11T20:53:46.507058: 1DIAGNOSTIC,     3, -9.057378172874e-01, inf, 8.3539e+00, 7.2280e-01, \n"
       ]
      },
      {
       "output_type": "stream",
       "stream": "stderr",
       "text": [
        "INFO:interface:stdout 2015-01-11T20:53:47.250537: 1DIAGNOSTIC,     4, -9.157642126083e-01, inf, 9.0973e+00, 7.4343e-01, \n"
       ]
      },
      {
       "output_type": "stream",
       "stream": "stderr",
       "text": [
        "INFO:interface:stdout 2015-01-11T20:53:47.974820: 1DIAGNOSTIC,     5, -9.223705530167e-01, inf, 9.8215e+00, 7.2423e-01, \n"
       ]
      },
      {
       "output_type": "stream",
       "stream": "stderr",
       "text": [
        "INFO:interface:stdout 2015-01-11T20:53:48.718012: 1DIAGNOSTIC,     6, -9.280017018318e-01, inf, 1.0565e+01, 7.4314e-01, \n"
       ]
      },
      {
       "output_type": "stream",
       "stream": "stderr",
       "text": [
        "INFO:interface:stdout 2015-01-11T20:53:49.441780: 1DIAGNOSTIC,     7, -9.301456212997e-01, inf, 1.1288e+01, 7.2370e-01, \n"
       ]
      },
      {
       "output_type": "stream",
       "stream": "stderr",
       "text": [
        "INFO:interface:stdout 2015-01-11T20:53:50.188036: 1DIAGNOSTIC,     8, -9.346554279327e-01, inf, 1.2035e+01, 7.4620e-01, \n"
       ]
      },
      {
       "output_type": "stream",
       "stream": "stderr",
       "text": [
        "INFO:interface:stdout 2015-01-11T20:53:50.907728: 1DIAGNOSTIC,     9, -9.353750944138e-01, inf, 1.2754e+01, 7.1964e-01, \n"
       ]
      },
      {
       "output_type": "stream",
       "stream": "stderr",
       "text": [
        "INFO:interface:stdout 2015-01-11T20:53:51.651569: 1DIAGNOSTIC,    10, -9.403536319733e-01, 5.250083748251e-03, 1.3498e+01, 7.4379e-01, \n"
       ]
      },
      {
       "output_type": "stream",
       "stream": "stderr",
       "text": [
        "INFO:interface:stdout 2015-01-11T20:53:52.379869: 1DIAGNOSTIC,    11, -9.373646974564e-01, 2.983058569953e-03, 1.4226e+01, 7.2823e-01, \n"
       ]
      },
      {
       "output_type": "stream",
       "stream": "stderr",
       "text": [
        "INFO:interface:stdout 2015-01-11T20:53:53.146379: 1DIAGNOSTIC,    12, -9.454202651978e-01, 1.943490118720e-03, 1.4993e+01, 7.6643e-01, \n"
       ]
      },
      {
       "output_type": "stream",
       "stream": "stderr",
       "text": [
        "INFO:interface:stdout 2015-01-11T20:53:53.870939: 1DIAGNOSTIC,    13, -9.401756525040e-01, 1.330763916485e-03, 1.5717e+01, 7.2452e-01, \n"
       ]
      },
      {
       "output_type": "stream",
       "stream": "stderr",
       "text": [
        "INFO:interface:stdout 2015-01-11T20:53:54.635947: 1DIAGNOSTIC,    14, -9.456480741501e-01, 1.029021805152e-03, 1.6482e+01, 7.6496e-01, \n"
       ]
      },
      {
       "output_type": "stream",
       "stream": "stderr",
       "text": [
        "INFO:interface:stdout 2015-01-11T20:53:55.356082: 1DIAGNOSTIC,    15, -9.406942129135e-01, 7.042224751785e-04, 1.7202e+01, 7.2008e-01, \n"
       ]
      },
      {
       "output_type": "stream",
       "stream": "stderr",
       "text": [
        "INFO:interface:stdout 2015-01-11T20:53:56.117761: 1DIAGNOSTIC,    16, -9.473447203636e-01, 5.944634322077e-04, 1.7964e+01, 7.6161e-01, \n"
       ]
      },
      {
       "output_type": "stream",
       "stream": "stderr",
       "text": [
        "INFO:interface:stdout 2015-01-11T20:53:56.837417: 1DIAGNOSTIC,    17, -9.411232471466e-01, 3.643117088359e-04, 1.8683e+01, 7.1959e-01, \n"
       ]
      },
      {
       "output_type": "stream",
       "stream": "stderr",
       "text": [
        "INFO:interface:stdout 2015-01-11T20:53:57.576473: 1DIAGNOSTIC,    18, -9.493960142136e-01, 3.476763085928e-04, 1.9422e+01, 7.3900e-01, \n"
       ]
      },
      {
       "output_type": "stream",
       "stream": "stderr",
       "text": [
        "INFO:interface:stdout 2015-01-11T20:53:58.296247: 1DIAGNOSTIC,    19, -9.432647824287e-01, 2.086274471367e-04, 2.0142e+01, 7.1971e-01, \n"
       ]
      },
      {
       "output_type": "stream",
       "stream": "stderr",
       "text": [
        "INFO:interface:stdout 2015-01-11T20:53:59.081112: 1DIAGNOSTIC,    20, -9.496507644653e-01, 2.428919106023e-04, 2.0927e+01, 7.8481e-01, \n"
       ]
      },
      {
       "output_type": "stream",
       "stream": "stderr",
       "text": [
        "INFO:interface:stdout 2015-01-11T20:53:59.804185: 1DIAGNOSTIC,    21, -9.397912025452e-01, 5.851319656358e-05, 2.1650e+01, 7.2300e-01, \n"
       ]
      },
      {
       "output_type": "stream",
       "stream": "stderr",
       "text": [
        "INFO:interface:stdout 2015-01-11T20:54:00.546823: 1DIAGNOSTIC,    22, -9.507157206535e-01, 1.553654583404e-04, 2.2393e+01, 7.4258e-01, \n"
       ]
      },
      {
       "output_type": "stream",
       "stream": "stderr",
       "text": [
        "INFO:interface:stdout 2015-01-11T20:54:01.292576: 1DIAGNOSTIC,    23, -9.429265260696e-01, 4.918837294099e-05, 2.3138e+01, 7.4569e-01, \n"
       ]
      },
      {
       "output_type": "stream",
       "stream": "stderr",
       "text": [
        "INFO:interface:stdout 2015-01-11T20:54:02.035446: 1DIAGNOSTIC,    24, -9.511576294899e-01, 1.261512225028e-04, 2.3881e+01, 7.4283e-01, \n"
       ]
      },
      {
       "output_type": "stream",
       "stream": "stderr",
       "text": [
        "INFO:interface:stdout 2015-01-11T20:54:02.779360: 1DIAGNOSTIC,    25, -9.420899152756e-01, 1.008098570310e-05, 2.4625e+01, 7.4384e-01, \n"
       ]
      },
      {
       "output_type": "stream",
       "stream": "stderr",
       "text": [
        "INFO:interface:stdout 2015-01-11T20:54:03.518143: 1DIAGNOSTIC,    26, -9.507145881653e-01, 8.709025860298e-05, 2.5364e+01, 7.3871e-01, \n"
       ]
      },
      {
       "output_type": "stream",
       "stream": "stderr",
       "text": [
        "INFO:interface:stdout 2015-01-11T20:54:04.266103: 1DIAGNOSTIC,    27, -9.417924880981e-01, -2.680440775293e-05, 2.6111e+01, 7.4789e-01, \n"
       ]
      },
      {
       "output_type": "stream",
       "stream": "stderr",
       "text": [
        "INFO:interface:stdout 2015-01-11T20:54:10.950552:XXDIAGNOSTIC,Iteration,metricValue,convergenceValue,ITERATION_TIME_INDEX,SINCE_LAST\n"
       ]
      },
      {
       "output_type": "stream",
       "stream": "stderr",
       "text": [
        "INFO:interface:stdout 2015-01-11T20:54:10.951345: 1DIAGNOSTIC,     1, -5.817502737045e-01, inf, 3.2796e+01, 6.6845e+00, \n"
       ]
      },
      {
       "output_type": "stream",
       "stream": "stderr",
       "text": [
        "INFO:interface:stdout 2015-01-11T20:54:16.103850: 1DIAGNOSTIC,     2, -5.967645645142e-01, inf, 3.7949e+01, 5.1532e+00, \n"
       ]
      },
      {
       "output_type": "stream",
       "stream": "stderr",
       "text": [
        "INFO:interface:stdout 2015-01-11T20:54:21.252640: 1DIAGNOSTIC,     3, -6.093314886093e-01, inf, 4.3098e+01, 5.1487e+00, \n"
       ]
      },
      {
       "output_type": "stream",
       "stream": "stderr",
       "text": [
        "INFO:interface:stdout 2015-01-11T20:54:26.431391: 1DIAGNOSTIC,     4, -6.181748509407e-01, inf, 4.8277e+01, 5.1787e+00, \n"
       ]
      },
      {
       "output_type": "stream",
       "stream": "stderr",
       "text": [
        "INFO:interface:stdout 2015-01-11T20:54:31.751862: 1DIAGNOSTIC,     5, -6.249397993088e-01, inf, 5.3597e+01, 5.3204e+00, \n"
       ]
      },
      {
       "output_type": "stream",
       "stream": "stderr",
       "text": [
        "INFO:interface:stdout 2015-01-11T20:54:36.784765: 1DIAGNOSTIC,     6, -6.310904026031e-01, inf, 5.8630e+01, 5.0328e+00, \n"
       ]
      },
      {
       "output_type": "stream",
       "stream": "stderr",
       "text": [
        "INFO:interface:stdout 2015-01-11T20:54:41.792496: 1DIAGNOSTIC,     7, -6.360121369362e-01, inf, 6.3637e+01, 5.0077e+00, \n"
       ]
      },
      {
       "output_type": "stream",
       "stream": "stderr",
       "text": [
        "INFO:interface:stdout 2015-01-11T20:54:47.147064: 1DIAGNOSTIC,     8, -6.408026814461e-01, inf, 6.8992e+01, 5.3545e+00, \n"
       ]
      },
      {
       "output_type": "stream",
       "stream": "stderr",
       "text": [
        "INFO:interface:stdout 2015-01-11T20:54:52.125477: 1DIAGNOSTIC,     9, -6.454957723618e-01, inf, 7.3970e+01, 4.9784e+00, \n"
       ]
      },
      {
       "output_type": "stream",
       "stream": "stderr",
       "text": [
        "INFO:interface:stdout 2015-01-11T20:54:57.280233: 1DIAGNOSTIC,    10, -6.494910717010e-01, 6.463024765253e-03, 7.9125e+01, 5.1547e+00, \n"
       ]
      },
      {
       "output_type": "stream",
       "stream": "stderr",
       "text": [
        "INFO:interface:stdout 2015-01-11T20:55:02.411753: 1DIAGNOSTIC,    11, -6.524431705475e-01, 4.877131432295e-03, 8.4256e+01, 5.1314e+00, \n"
       ]
      },
      {
       "output_type": "stream",
       "stream": "stderr",
       "text": [
        "INFO:interface:stdout 2015-01-11T20:55:07.571062: 1DIAGNOSTIC,    12, -6.555419564247e-01, 3.802730469033e-03, 8.9416e+01, 5.1592e+00, \n"
       ]
      },
      {
       "output_type": "stream",
       "stream": "stderr",
       "text": [
        "INFO:interface:stdout 2015-01-11T20:55:12.739075: 1DIAGNOSTIC,    13, -6.575245261192e-01, 3.055559704080e-03, 9.4584e+01, 5.1680e+00, \n"
       ]
      },
      {
       "output_type": "stream",
       "stream": "stderr",
       "text": [
        "INFO:interface:stdout 2015-01-11T20:55:17.866779: 1DIAGNOSTIC,    14, -6.600020527840e-01, 2.501294948161e-03, 9.9711e+01, 5.1276e+00, \n"
       ]
      },
      {
       "output_type": "stream",
       "stream": "stderr",
       "text": [
        "INFO:interface:stdout 2015-01-11T20:55:22.998526: 1DIAGNOSTIC,    15, -6.617799997330e-01, 2.046959474683e-03, 1.0484e+02, 5.1317e+00, \n"
       ]
      },
      {
       "output_type": "stream",
       "stream": "stderr",
       "text": [
        "INFO:interface:stdout 2015-01-11T20:55:28.129515: 1DIAGNOSTIC,    16, -6.634685993195e-01, 1.680998364463e-03, 1.0997e+02, 5.1309e+00, \n"
       ]
      },
      {
       "output_type": "stream",
       "stream": "stderr",
       "text": [
        "INFO:interface:stdout 2015-01-11T20:55:33.292906: 1DIAGNOSTIC,    17, -6.646314859390e-01, 1.362808281556e-03, 1.1514e+02, 5.1633e+00, \n"
       ]
      },
      {
       "output_type": "stream",
       "stream": "stderr",
       "text": [
        "INFO:interface:stdout 2015-01-11T20:55:38.442692: 1DIAGNOSTIC,    18, -6.662508249283e-01, 1.111941179261e-03, 1.2029e+02, 5.1497e+00, \n"
       ]
      },
      {
       "output_type": "stream",
       "stream": "stderr",
       "text": [
        "INFO:interface:stdout 2015-01-11T20:55:43.608225: 1DIAGNOSTIC,    19, -6.672157049179e-01, 9.155716397800e-04, 1.2545e+02, 5.1655e+00, \n"
       ]
      },
      {
       "output_type": "stream",
       "stream": "stderr",
       "text": [
        "INFO:interface:stdout 2015-01-11T20:55:48.789792: 1DIAGNOSTIC,    20, -6.683213710785e-01, 7.663625874557e-04, 1.3063e+02, 5.1815e+00, \n"
       ]
      },
      {
       "output_type": "stream",
       "stream": "stderr",
       "text": [
        "INFO:interface:stdout 2015-01-11T20:55:53.962166: 1DIAGNOSTIC,    21, -6.694201231003e-01, 6.445613107644e-04, 1.3581e+02, 5.1723e+00, \n"
       ]
      },
      {
       "output_type": "stream",
       "stream": "stderr",
       "text": [
        "INFO:interface:stdout 2015-01-11T20:55:59.081875: 1DIAGNOSTIC,    22, -6.704967021942e-01, 5.571331712417e-04, 1.4093e+02, 5.1196e+00, \n"
       ]
      },
      {
       "output_type": "stream",
       "stream": "stderr",
       "text": [
        "INFO:interface:stdout 2015-01-11T20:56:04.290413: 1DIAGNOSTIC,    23, -6.714399456978e-01, 4.804072377738e-04, 1.4613e+02, 5.2085e+00, \n"
       ]
      },
      {
       "output_type": "stream",
       "stream": "stderr",
       "text": [
        "INFO:interface:stdout 2015-01-11T20:56:09.435026: 1DIAGNOSTIC,    24, -6.720611453056e-01, 4.214210202917e-04, 1.5128e+02, 5.1446e+00, \n"
       ]
      },
      {
       "output_type": "stream",
       "stream": "stderr",
       "text": [
        "INFO:interface:stdout 2015-01-11T20:56:14.615961: 1DIAGNOSTIC,    25, -6.729665398598e-01, 3.744589921553e-04, 1.5646e+02, 5.1809e+00, \n"
       ]
      },
      {
       "output_type": "stream",
       "stream": "stderr",
       "text": [
        "INFO:interface:stdout 2015-01-11T20:56:19.753278: 1DIAGNOSTIC,    26, -6.733393669128e-01, 3.303197445348e-04, 1.6160e+02, 5.1372e+00, \n"
       ]
      },
      {
       "output_type": "stream",
       "stream": "stderr",
       "text": [
        "INFO:interface:stdout 2015-01-11T20:56:24.919665: 1DIAGNOSTIC,    27, -6.740683317184e-01, 2.886064467020e-04, 1.6676e+02, 5.1663e+00, \n"
       ]
      },
      {
       "output_type": "stream",
       "stream": "stderr",
       "text": [
        "INFO:interface:stdout 2015-01-11T20:56:30.061799: 1DIAGNOSTIC,    28, -6.746039986610e-01, 2.560804423410e-04, 1.7191e+02, 5.1421e+00, \n"
       ]
      },
      {
       "output_type": "stream",
       "stream": "stderr",
       "text": [
        "INFO:interface:stdout 2015-01-11T20:56:35.217062: 1DIAGNOSTIC,    29, -6.753660440445e-01, 2.274059661431e-04, 1.7706e+02, 5.1552e+00, \n"
       ]
      },
      {
       "output_type": "stream",
       "stream": "stderr",
       "text": [
        "INFO:interface:stdout 2015-01-11T20:56:40.361058: 1DIAGNOSTIC,    30, -6.757825613022e-01, 2.009644376813e-04, 1.8220e+02, 5.1439e+00, \n"
       ]
      },
      {
       "output_type": "stream",
       "stream": "stderr",
       "text": [
        "INFO:interface:stdout 2015-01-11T20:56:45.511991: 1DIAGNOSTIC,    31, -6.765398979187e-01, 1.831115951063e-04, 1.8736e+02, 5.1509e+00, \n"
       ]
      },
      {
       "output_type": "stream",
       "stream": "stderr",
       "text": [
        "INFO:interface:stdout 2015-01-11T20:56:50.640044: 1DIAGNOSTIC,    32, -6.768341660500e-01, 1.673657825449e-04, 1.9248e+02, 5.1280e+00, \n"
       ]
      },
      {
       "output_type": "stream",
       "stream": "stderr",
       "text": [
        "INFO:interface:stdout 2015-01-11T20:56:55.823393: 1DIAGNOSTIC,    33, -6.773373484612e-01, 1.556739443913e-04, 1.9767e+02, 5.1833e+00, \n"
       ]
      },
      {
       "output_type": "stream",
       "stream": "stderr",
       "text": [
        "INFO:interface:stdout 2015-01-11T20:57:00.976378: 1DIAGNOSTIC,    34, -6.777344942093e-01, 1.426095986972e-04, 2.0282e+02, 5.1529e+00, \n"
       ]
      },
      {
       "output_type": "stream",
       "stream": "stderr",
       "text": [
        "INFO:interface:stdout 2015-01-11T20:57:06.123194: 1DIAGNOSTIC,    35, -6.781870126724e-01, 1.335116103292e-04, 2.0797e+02, 5.1468e+00, \n"
       ]
      },
      {
       "output_type": "stream",
       "stream": "stderr",
       "text": [
        "INFO:interface:stdout 2015-01-11T20:57:11.302866: 1DIAGNOSTIC,    36, -6.785477399826e-01, 1.208671237691e-04, 2.1315e+02, 5.1796e+00, \n"
       ]
      },
      {
       "output_type": "stream",
       "stream": "stderr",
       "text": [
        "INFO:interface:stdout 2015-01-11T20:57:16.449379: 1DIAGNOSTIC,    37, -6.791374683380e-01, 1.127634386648e-04, 2.1829e+02, 5.1465e+00, \n"
       ]
      },
      {
       "output_type": "stream",
       "stream": "stderr",
       "text": [
        "INFO:interface:stdout 2015-01-11T20:57:21.648182: 1DIAGNOSTIC,    38, -6.792256832123e-01, 1.012351276586e-04, 2.2349e+02, 5.1987e+00, \n"
       ]
      },
      {
       "output_type": "stream",
       "stream": "stderr",
       "text": [
        "INFO:interface:stdout 2015-01-11T20:57:26.819291: 1DIAGNOSTIC,    39, -6.799381971359e-01, 9.702470561024e-05, 2.2866e+02, 5.1710e+00, \n"
       ]
      },
      {
       "output_type": "stream",
       "stream": "stderr",
       "text": [
        "INFO:interface:stdout 2015-01-11T20:57:31.985947: 1DIAGNOSTIC,    40, -6.802145838737e-01, 9.093873813981e-05, 2.3383e+02, 5.1666e+00, \n"
       ]
      },
      {
       "output_type": "stream",
       "stream": "stderr",
       "text": [
        "INFO:interface:stdout 2015-01-11T20:57:32.228703:  Elapsed time (stage 0): 2.3442e+02\n"
       ]
      },
      {
       "output_type": "stream",
       "stream": "stderr",
       "text": [
        "INFO:interface:stdout 2015-01-11T20:57:32.228703:\n"
       ]
      },
      {
       "output_type": "stream",
       "stream": "stderr",
       "text": [
        "INFO:interface:stdout 2015-01-11T20:57:32.256260:\n"
       ]
      },
      {
       "output_type": "stream",
       "stream": "stderr",
       "text": [
        "INFO:interface:stdout 2015-01-11T20:57:32.256260:Total elapsed time: 2.3445e+02\n"
       ]
      },
      {
       "output_type": "stream",
       "stream": "stderr",
       "text": [
        "INFO:workflow:Executing node gtractResampleDWI_SyN in dir: /scratch/TESTS/IpythonNotebook/1_DWI_Nipype_workflow/DWIWorkflow_823955340_20080609_30/gtractResampleDWI_SyN\n"
       ]
      },
      {
       "output_type": "stream",
       "stream": "stderr",
       "text": [
        "INFO:workflow:Running:  gtractResampleDWIInPlace  --inputVolume /Volumes/scratch/TESTS/IpythonNotebook/1_DWI_Nipype_workflow/DWIWorkflow_823955340_20080609_30/DWI_ForceDCtoIDNode/IDDC_823955340_823955340_20080609_30_DWI_CONCAT_QCed_INSPECTED.nrrd --outputVolume IDDC_correctedDWI.nrrd --referenceVolume /Volumes/scratch/TESTS/IpythonNotebook/1_DWI_Nipype_workflow/DWIWorkflow_823955340_20080609_30/ForceDCtoID/mapflow/_ForceDCtoID1/IDDC_T2toB0.nrrd --warpDWITransform /Volumes/scratch/TESTS/IpythonNotebook/1_DWI_Nipype_workflow/DWIWorkflow_823955340_20080609_30/antsReg_B0ToTransformedT2/TsynComposite.h5\n"
       ]
      },
      {
       "output_type": "stream",
       "stream": "stderr",
       "text": [
        "INFO:interface:stdout 2015-01-11T20:57:32.642664:=====================================================\n"
       ]
      },
      {
       "output_type": "stream",
       "stream": "stderr",
       "text": [
        "INFO:interface:stdout 2015-01-11T20:57:32.642664:DWI Image: /Volumes/scratch/TESTS/IpythonNotebook/1_DWI_Nipype_workflow/DWIWorkflow_823955340_20080609_30/DWI_ForceDCtoIDNode/IDDC_823955340_823955340_20080609_30_DWI_CONCAT_QCed_INSPECTED.nrrd\n"
       ]
      },
      {
       "output_type": "stream",
       "stream": "stderr",
       "text": [
        "INFO:interface:stdout 2015-01-11T20:57:32.642664:Input Transform: \n"
       ]
      },
      {
       "output_type": "stream",
       "stream": "stderr",
       "text": [
        "INFO:interface:stdout 2015-01-11T20:57:32.642664:warpDWI Transform: /Volumes/scratch/TESTS/IpythonNotebook/1_DWI_Nipype_workflow/DWIWorkflow_823955340_20080609_30/antsReg_B0ToTransformedT2/TsynComposite.h5\n"
       ]
      },
      {
       "output_type": "stream",
       "stream": "stderr",
       "text": [
        "INFO:interface:stdout 2015-01-11T20:57:32.642664:Output Image: IDDC_correctedDWI.nrrd\n"
       ]
      },
      {
       "output_type": "stream",
       "stream": "stderr",
       "text": [
        "INFO:interface:stdout 2015-01-11T20:57:32.642664:Debug Level: 0\n"
       ]
      },
      {
       "output_type": "stream",
       "stream": "stderr",
       "text": [
        "INFO:interface:stdout 2015-01-11T20:57:32.642664:Image Output Size: 0,0,0\n"
       ]
      },
      {
       "output_type": "stream",
       "stream": "stderr",
       "text": [
        "INFO:interface:stdout 2015-01-11T20:57:32.642664:=====================================================\n"
       ]
      },
      {
       "output_type": "stream",
       "stream": "stderr",
       "text": [
        "INFO:interface:stdout 2015-01-11T20:57:32.738760:Read Image\n"
       ]
      },
      {
       "output_type": "stream",
       "stream": "stderr",
       "text": [
        "INFO:interface:stdout 2015-01-11T20:57:32.739603:Read ITK transform from file: /Volumes/scratch/TESTS/IpythonNotebook/1_DWI_Nipype_workflow/DWIWorkflow_823955340_20080609_30/antsReg_B0ToTransformedT2/TsynComposite.h5\n"
       ]
      },
      {
       "output_type": "stream",
       "stream": "stderr",
       "text": [
        "INFO:interface:stdout 2015-01-11T20:57:32.825137:HACK: 0  CompositeTransform\n"
       ]
      },
      {
       "output_type": "stream",
       "stream": "stderr",
       "text": [
        "INFO:interface:stdout 2015-01-11T20:57:32.867959:Rigid transform matrix: 1 0 0\n"
       ]
      },
      {
       "output_type": "stream",
       "stream": "stderr",
       "text": [
        "INFO:interface:stdout 2015-01-11T20:57:32.867959:0 1 0\n"
       ]
      },
      {
       "output_type": "stream",
       "stream": "stderr",
       "text": [
        "INFO:interface:stdout 2015-01-11T20:57:32.867959:0 0 1\n"
       ]
      },
      {
       "output_type": "stream",
       "stream": "stderr",
       "text": [
        "INFO:interface:stdout 2015-01-11T20:57:32.867959:\n"
       ]
      },
      {
       "output_type": "stream",
       "stream": "stderr",
       "text": [
        "INFO:interface:stdout 2015-01-11T20:57:32.869753:Input DWI Image Origin: ( -109.009, -109.767, -56.6923 )\n"
       ]
      },
      {
       "output_type": "stream",
       "stream": "stderr",
       "text": [
        "INFO:interface:stdout 2015-01-11T20:57:32.869753:Input DWI Image Size: 112 112 64\n"
       ]
      },
      {
       "output_type": "stream",
       "stream": "stderr",
       "text": [
        "INFO:interface:stdout 2015-01-11T20:57:32.869753: \n"
       ]
      },
      {
       "output_type": "stream",
       "stream": "stderr",
       "text": [
        "INFO:interface:stdout 2015-01-11T20:57:32.869753:Output DWI Image Origin: ( -109.009, -109.767, -56.6923 )\n"
       ]
      },
      {
       "output_type": "stream",
       "stream": "stderr",
       "text": [
        "INFO:interface:stdout 2015-01-11T20:57:32.869753:Output DWI Image Size: 112 112 64\n"
       ]
      },
      {
       "output_type": "stream",
       "stream": "stderr",
       "text": [
        "INFO:workflow:Executing node RestoreDCFromSavedMatrix in dir: /scratch/TESTS/IpythonNotebook/1_DWI_Nipype_workflow/DWIWorkflow_823955340_20080609_30/RestoreDCFromSavedMatrix\n"
       ]
      },
      {
       "output_type": "stream",
       "stream": "stderr",
       "text": [
        "INFO:workflow:Executing node gtractResampleDWIInPlace_Trigid in dir: /scratch/TESTS/IpythonNotebook/1_DWI_Nipype_workflow/DWIWorkflow_823955340_20080609_30/gtractResampleDWIInPlace_Trigid\n"
       ]
      },
      {
       "output_type": "stream",
       "stream": "stderr",
       "text": [
        "INFO:workflow:Running:  gtractResampleDWIInPlace  --inputTransform /Volumes/scratch/TESTS/IpythonNotebook/1_DWI_Nipype_workflow/DWIWorkflow_823955340_20080609_30/GetRigidTransformInverse/Inverse_T2ToB0_RigidTransform.h5 --inputVolume /Volumes/scratch/TESTS/IpythonNotebook/1_DWI_Nipype_workflow/DWIWorkflow_823955340_20080609_30/RestoreDCFromSavedMatrix/correctedDWI.nrrd --outputResampledB0 CorrectedDWI_in_T2Space_B0.nrrd --outputVolume CorrectedDWI_in_T2Space.nrrd\n"
       ]
      },
      {
       "output_type": "stream",
       "stream": "stderr",
       "text": [
        "INFO:interface:stdout 2015-01-11T20:57:36.888615:=====================================================\n"
       ]
      },
      {
       "output_type": "stream",
       "stream": "stderr",
       "text": [
        "INFO:interface:stdout 2015-01-11T20:57:36.888615:DWI Image: /Volumes/scratch/TESTS/IpythonNotebook/1_DWI_Nipype_workflow/DWIWorkflow_823955340_20080609_30/RestoreDCFromSavedMatrix/correctedDWI.nrrd\n"
       ]
      },
      {
       "output_type": "stream",
       "stream": "stderr",
       "text": [
        "INFO:interface:stdout 2015-01-11T20:57:36.888615:Input Transform: /Volumes/scratch/TESTS/IpythonNotebook/1_DWI_Nipype_workflow/DWIWorkflow_823955340_20080609_30/GetRigidTransformInverse/Inverse_T2ToB0_RigidTransform.h5\n"
       ]
      },
      {
       "output_type": "stream",
       "stream": "stderr",
       "text": [
        "INFO:interface:stdout 2015-01-11T20:57:36.888615:warpDWI Transform: \n"
       ]
      },
      {
       "output_type": "stream",
       "stream": "stderr",
       "text": [
        "INFO:interface:stdout 2015-01-11T20:57:36.891329:Output Image: CorrectedDWI_in_T2Space.nrrd\n"
       ]
      },
      {
       "output_type": "stream",
       "stream": "stderr",
       "text": [
        "INFO:interface:stdout 2015-01-11T20:57:36.891329:Debug Level: 0\n"
       ]
      },
      {
       "output_type": "stream",
       "stream": "stderr",
       "text": [
        "INFO:interface:stdout 2015-01-11T20:57:36.891329:Image Output Size: 0,0,0\n"
       ]
      },
      {
       "output_type": "stream",
       "stream": "stderr",
       "text": [
        "INFO:interface:stdout 2015-01-11T20:57:36.891329:=====================================================\n"
       ]
      },
      {
       "output_type": "stream",
       "stream": "stderr",
       "text": [
        "INFO:interface:stdout 2015-01-11T20:57:36.986630:Read Image\n"
       ]
      },
      {
       "output_type": "stream",
       "stream": "stderr",
       "text": [
        "INFO:interface:stdout 2015-01-11T20:57:36.987253:Read ITK transform from file: /Volumes/scratch/TESTS/IpythonNotebook/1_DWI_Nipype_workflow/DWIWorkflow_823955340_20080609_30/GetRigidTransformInverse/Inverse_T2ToB0_RigidTransform.h5\n"
       ]
      },
      {
       "output_type": "stream",
       "stream": "stderr",
       "text": [
        "INFO:interface:stdout 2015-01-11T20:57:36.993286:HACK: 0  VersorRigid3DTransform\n"
       ]
      },
      {
       "output_type": "stream",
       "stream": "stderr",
       "text": [
        "INFO:interface:stdout 2015-01-11T20:57:37.010255:Rigid transform matrix: 0.999615 -0.0277164 -0.00117917\n"
       ]
      },
      {
       "output_type": "stream",
       "stream": "stderr",
       "text": [
        "INFO:interface:stdout 2015-01-11T20:57:37.010255:0.0276413 0.991493 0.127195\n"
       ]
      },
      {
       "output_type": "stream",
       "stream": "stderr",
       "text": [
        "INFO:interface:stdout 2015-01-11T20:57:37.010255:-0.00235624 -0.127178 0.991877\n"
       ]
      },
      {
       "output_type": "stream",
       "stream": "stderr",
       "text": [
        "INFO:interface:stdout 2015-01-11T20:57:37.010255:\n"
       ]
      },
      {
       "output_type": "stream",
       "stream": "stderr",
       "text": [
        "INFO:interface:stdout 2015-01-11T20:57:37.011828:Input DWI Image Origin: ( -106.552, -72.1999, -62.3967 )\n"
       ]
      },
      {
       "output_type": "stream",
       "stream": "stderr",
       "text": [
        "INFO:interface:stdout 2015-01-11T20:57:37.011828:Input DWI Image Size: 112 112 64\n"
       ]
      },
      {
       "output_type": "stream",
       "stream": "stderr",
       "text": [
        "INFO:interface:stdout 2015-01-11T20:57:37.011828: \n"
       ]
      },
      {
       "output_type": "stream",
       "stream": "stderr",
       "text": [
        "INFO:interface:stdout 2015-01-11T20:57:37.011828:Output DWI Image Origin: ( -106.552, -72.1999, -62.3967 )\n"
       ]
      },
      {
       "output_type": "stream",
       "stream": "stderr",
       "text": [
        "INFO:interface:stdout 2015-01-11T20:57:37.011828:Output DWI Image Size: 112 112 64\n"
       ]
      },
      {
       "output_type": "stream",
       "stream": "stderr",
       "text": [
        "INFO:workflow:Executing node DWIBRAINMASK in dir: /scratch/TESTS/IpythonNotebook/1_DWI_Nipype_workflow/DWIWorkflow_823955340_20080609_30/DWIBRAINMASK\n"
       ]
      },
      {
       "output_type": "stream",
       "stream": "stderr",
       "text": [
        "INFO:workflow:Running:  BRAINSResample  --inputVolume /Shared/sinapse/CACHE/20141124_TrackOn_base_Results/HDNI_003/823955340/823955340_20080609_30/TissueClassify/complete_brainlabels_seg.nii.gz --interpolationMode Linear --outputVolume BrainMaskForDWI.nrrd --pixelType binary --referenceVolume /Volumes/scratch/TESTS/IpythonNotebook/1_DWI_Nipype_workflow/DWIWorkflow_823955340_20080609_30/gtractResampleDWIInPlace_Trigid/CorrectedDWI_in_T2Space_B0.nrrd\n"
       ]
      },
      {
       "output_type": "stream",
       "stream": "stderr",
       "text": [
        "INFO:interface:stdout 2015-01-11T20:57:39.666314:=====================================================\n"
       ]
      },
      {
       "output_type": "stream",
       "stream": "stderr",
       "text": [
        "INFO:interface:stdout 2015-01-11T20:57:39.666314:Input Volume:     /Shared/sinapse/CACHE/20141124_TrackOn_base_Results/HDNI_003/823955340/823955340_20080609_30/TissueClassify/complete_brainlabels_seg.nii.gz\n"
       ]
      },
      {
       "output_type": "stream",
       "stream": "stderr",
       "text": [
        "INFO:interface:stdout 2015-01-11T20:57:39.668261:Reference Volume: /Volumes/scratch/TESTS/IpythonNotebook/1_DWI_Nipype_workflow/DWIWorkflow_823955340_20080609_30/gtractResampleDWIInPlace_Trigid/CorrectedDWI_in_T2Space_B0.nrrd\n"
       ]
      },
      {
       "output_type": "stream",
       "stream": "stderr",
       "text": [
        "INFO:interface:stdout 2015-01-11T20:57:39.668261:Output Volume:    BrainMaskForDWI.nrrd\n"
       ]
      },
      {
       "output_type": "stream",
       "stream": "stderr",
       "text": [
        "INFO:interface:stdout 2015-01-11T20:57:39.668261:Pixel Type:       binary\n"
       ]
      },
      {
       "output_type": "stream",
       "stream": "stderr",
       "text": [
        "INFO:interface:stdout 2015-01-11T20:57:39.668261:Interpolation:    Linear\n"
       ]
      },
      {
       "output_type": "stream",
       "stream": "stderr",
       "text": [
        "INFO:interface:stdout 2015-01-11T20:57:39.668261:Background Value: 0\n"
       ]
      },
      {
       "output_type": "stream",
       "stream": "stderr",
       "text": [
        "INFO:interface:stdout 2015-01-11T20:57:39.668261:Warp By Transform: Identity\n"
       ]
      },
      {
       "output_type": "stream",
       "stream": "stderr",
       "text": [
        "INFO:interface:stdout 2015-01-11T20:57:39.668261:=====================================================\n"
       ]
      },
      {
       "output_type": "stream",
       "stream": "stderr",
       "text": [
        "INFO:workflow:Executing node DTIEstim in dir: /scratch/TESTS/IpythonNotebook/1_DWI_Nipype_workflow/DWIWorkflow_823955340_20080609_30/DTIEstim\n"
       ]
      },
      {
       "output_type": "stream",
       "stream": "stderr",
       "text": [
        "INFO:workflow:Running:  dtiestim  --brain_mask /Volumes/scratch/TESTS/IpythonNotebook/1_DWI_Nipype_workflow/DWIWorkflow_823955340_20080609_30/DWIBRAINMASK/BrainMaskForDWI.nrrd --dwi_image /Volumes/scratch/TESTS/IpythonNotebook/1_DWI_Nipype_workflow/DWIWorkflow_823955340_20080609_30/gtractResampleDWIInPlace_Trigid/CorrectedDWI_in_T2Space.nrrd --method wls --tensor_output DTI_Output.nrrd\n"
       ]
      },
      {
       "output_type": "stream",
       "stream": "stderr",
       "text": [
        "INFO:interface:stdout 2015-01-11T20:57:40.922896:warning pixelsizes are off between mask and dwi, ignoring and masking nevertheless\n"
       ]
      },
      {
       "output_type": "stream",
       "stream": "stderr",
       "text": [
        "INFO:workflow:Executing node DTIProcess in dir: /scratch/TESTS/IpythonNotebook/1_DWI_Nipype_workflow/DWIWorkflow_823955340_20080609_30/DTIProcess\n"
       ]
      },
      {
       "output_type": "stream",
       "stream": "stderr",
       "text": [
        "INFO:workflow:Running:  dtiprocess  --RD_output RD.nrrd --dti_image /Volumes/scratch/TESTS/IpythonNotebook/1_DWI_Nipype_workflow/DWIWorkflow_823955340_20080609_30/DTIEstim/DTI_Output.nrrd --fa_output FA.nrrd --frobenius_norm_output frobenius_norm_output.nrrd --lambda1_output lambda1_output.nrrd --lambda2_output lambda2_output.nrrd --lambda3_output lambda3_output.nrrd --md_output MD.nrrd --scalar_float \n"
       ]
      },
      {
       "output_type": "stream",
       "stream": "stderr",
       "text": [
        "INFO:workflow:Executing node DWIDataSink in dir: /scratch/TESTS/IpythonNotebook/1_DWI_Nipype_workflow/DWIWorkflow_823955340_20080609_30/DWIDataSink\n"
       ]
      },
      {
       "metadata": {},
       "output_type": "pyout",
       "prompt_number": 11,
       "text": [
        "<networkx.classes.digraph.DiGraph at 0x11e2b4dd0>"
       ]
      }
     ],
     "prompt_number": 11
    },
    {
     "cell_type": "code",
     "collapsed": false,
     "input": [],
     "language": "python",
     "metadata": {},
     "outputs": []
    },
    {
     "cell_type": "code",
     "collapsed": false,
     "input": [],
     "language": "python",
     "metadata": {},
     "outputs": []
    }
   ],
   "metadata": {}
  }
 ]
}