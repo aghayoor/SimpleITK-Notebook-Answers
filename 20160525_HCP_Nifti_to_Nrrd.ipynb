{
 "cells": [
  {
   "cell_type": "code",
   "execution_count": 7,
   "metadata": {
    "collapsed": false
   },
   "outputs": [
    {
     "name": "stdout",
     "output_type": "stream",
     "text": [
      "SimpleITK Version: 0.9.1\n",
      "Compiled: Sep 28 2015 10:07:41\n",
      "\n"
     ]
    }
   ],
   "source": [
    "%matplotlib inline\n",
    "\n",
    "## Boiler plate code common to many notebooks.  See the TestFilesCommonCode.ipynb for details\n",
    "from __future__ import print_function\n",
    "%run TestFilesCommonCode.ipynb\n",
    "\n",
    "##\n",
    "# IMPORTS\n",
    "##\n",
    "import nibabel as nib\n",
    "import dipy.io\n",
    "#import scipy.io # for writing the .mat files\n",
    "import numpy as np"
   ]
  },
  {
   "cell_type": "code",
   "execution_count": 8,
   "metadata": {
    "collapsed": false
   },
   "outputs": [],
   "source": [
    "import os\n",
    "import glob\n",
    "import sys\n",
    "\n",
    "#\\/\\/\\/\\/\\/\\/\\/\\/\\/\\/\\/\\/\\/\\/\\/\\/\\/\\/\\/\\/\\/\\/\\/\\/\\/\\/\\/\\/\\/\\/\\/\\/\\/\\/\\/\\/\\/\\/\\/\\/\\/\\/\\/\n",
    "#####################################################################################\n",
    "#     Prepend the shell environment search paths\n",
    "PROGRAM_PATHS = '/scratch/NAMICExternalProjects/release-20160523/bin'\n",
    "PROGRAM_PATHS = PROGRAM_PATHS.split(':')\n",
    "PROGRAM_PATHS.extend(os.environ['PATH'].split(':'))\n",
    "os.environ['PATH'] = ':'.join(PROGRAM_PATHS)\n",
    "\n",
    "CUSTOM_ENVIRONMENT=dict()\n",
    "\n",
    "# Platform specific information\n",
    "#     Prepend the python search paths\n",
    "PYTHON_AUX_PATHS = '/scratch/BS/BRAINSTools/AutoWorkup'\n",
    "PYTHON_AUX_PATHS = PYTHON_AUX_PATHS.split(':')\n",
    "PYTHON_AUX_PATHS.extend(sys.path)\n",
    "sys.path = PYTHON_AUX_PATHS\n",
    "\n",
    "import SimpleITK as sitk\n",
    "import nipype\n",
    "from nipype.interfaces.base import CommandLine, CommandLineInputSpec, TraitedSpec, File, Directory\n",
    "from nipype.interfaces.base import traits, isdefined, BaseInterface\n",
    "from nipype.interfaces.utility import Merge, Split, Function, Rename, IdentityInterface\n",
    "import nipype.interfaces.io as nio   # Data i/oS\n",
    "import nipype.pipeline.engine as pe  # pypeline engine\n",
    "from nipype.interfaces.freesurfer import ReconAll\n",
    "from nipype.interfaces.ants import DenoiseImage\n",
    "from nipype.interfaces.semtools import *"
   ]
  },
  {
   "cell_type": "code",
   "execution_count": 9,
   "metadata": {
    "collapsed": false
   },
   "outputs": [],
   "source": [
    "root_dir='/scratch/TESTS/fix_HCP_dwi'\n",
    "\n",
    "DWI_nifti_fn = os.path.join(root_dir,'input_sample/100307/nifti/data.nii.gz')\n",
    "bvals_fn = os.path.join(root_dir,'input_sample/100307/nifti/bvals')\n",
    "bvecs_fn = os.path.join(root_dir,'input_sample/100307/nifti/bvecs')\n",
    "\n",
    "#input_nrrd_bvecs_fn = os.path.join(root_dir,'input_sample/100307/nrrd/bvecs')\n",
    "DWI_nrrd_fn = os.path.join(root_dir,'input_sample/100307/nrrd/data.nrrd')\n",
    "DWI_nrrd_corrected_fn = os.path.join(root_dir,'input_sample/100307/nrrd/data_corrected.nrrd')\n",
    "DWI_nrrd_corrected_sshell_fn = os.path.join(root_dir,'input_sample/100307/nrrd/data_corrected_sshell.nrrd')"
   ]
  },
  {
   "cell_type": "code",
   "execution_count": 3,
   "metadata": {
    "collapsed": false
   },
   "outputs": [
    {
     "data": {
      "text/plain": [
       "'\\n# NOTE\\n# dwiConvert reads the bvecs in a row-wise, but the gradient directions are saved column-wise,\\n# so this step is necessary to reorder the bvectors in a proper format for input of dwiconvert\\n#\\nfrom dipy.io import read_bvals_bvecs\\nbvals, bvecs = read_bvals_bvecs(bvals_fn, bvecs_fn)\\nnp.savetxt(input_nrrd_bvecs_fn,bvecs)\\n'"
      ]
     },
     "execution_count": 3,
     "metadata": {},
     "output_type": "execute_result"
    }
   ],
   "source": [
    "'''\n",
    "# NOTE\n",
    "# dwiConvert reads the bvecs in a row-wise, but the gradient directions are saved column-wise,\n",
    "# so this step is necessary to reorder the bvectors in a proper format for input of dwiconvert\n",
    "#\n",
    "from dipy.io import read_bvals_bvecs\n",
    "bvals, bvecs = read_bvals_bvecs(bvals_fn, bvecs_fn)\n",
    "np.savetxt(input_nrrd_bvecs_fn,bvecs)\n",
    "'''"
   ]
  },
  {
   "cell_type": "code",
   "execution_count": 4,
   "metadata": {
    "collapsed": false
   },
   "outputs": [
    {
     "name": "stderr",
     "output_type": "stream",
     "text": [
      "INFO:interface:stdout 2016-06-16T19:20:51.752108:Spacing :[1.25, 1.25, 1.25, 1]\n",
      "INFO:interface:stdout 2016-06-16T19:20:55.522311:Number of components in converted Nrrd volume: 288\n",
      "INFO:interface:Could not get resources used by process. Error: (pid=17254)\n"
     ]
    },
    {
     "name": "stdout",
     "output_type": "stream",
     "text": [
      " DWIConvert  --allowLossyConversion  --conversionMode FSLToNrrd --inputBValues /scratch/TESTS/fix_HCP_dwi/input_sample/100307/nifti/bvals --inputBVectors /scratch/TESTS/fix_HCP_dwi/input_sample/100307/nifti/bvecs --inputVolume /scratch/TESTS/fix_HCP_dwi/input_sample/100307/nifti/data.nii.gz --outputVolume /scratch/TESTS/fix_HCP_dwi/input_sample/100307/nrrd/data.nrrd --transposeInputBVectors \n"
     ]
    },
    {
     "data": {
      "text/plain": [
       "<nipype.interfaces.base.InterfaceResult at 0x102834850>"
      ]
     },
     "execution_count": 4,
     "metadata": {},
     "output_type": "execute_result"
    }
   ],
   "source": [
    "#run DWIConvert to convert nifti to nrrd\n",
    "dwiConvert = DWIConvert()\n",
    "dwiConvert.inputs.inputVolume = DWI_nifti_fn\n",
    "dwiConvert.inputs.conversionMode = 'FSLToNrrd'\n",
    "dwiConvert.inputs.inputBVectors = bvecs_fn\n",
    "dwiConvert.inputs.inputBValues = bvals_fn\n",
    "dwiConvert.inputs.allowLossyConversion = True # input data is float\n",
    "dwiConvert.inputs.transposeInputBVectors = True # bvecs are saved column-wise\n",
    "dwiConvert.inputs.outputVolume = DWI_nrrd_fn\n",
    "print(dwiConvert.cmdline)\n",
    "dwiConvert.run()"
   ]
  },
  {
   "cell_type": "code",
   "execution_count": 10,
   "metadata": {
    "collapsed": false
   },
   "outputs": [],
   "source": [
    "# \n",
    "# READ/WRITE DWI scan using pynrrd\n",
    "#\n",
    "import nrrd\n",
    "from math import sqrt\n",
    "from collections import OrderedDict\n",
    "\n",
    "class nrrdDWIHeader:\n",
    "    \"\"\"A helper class for manipulating header information\n",
    "    from a nrrd DWI data set into a nibabel compliant\n",
    "    format\"\"\"\n",
    "    def __init__(self,pynrrdDataModel):\n",
    "        self.modality=None                      #Matches NRRD File\n",
    "        self.global_BValue=None                 #Matches NRRD File\n",
    "        self.gradientUnormalizedVectors=[None]  #Matches NRRD File\n",
    "\n",
    "        self.gradientIndex=-1\n",
    "        self.gradientBValues=[None]             #Computed\n",
    "        self.gradientVectors=[None]             #Computed\n",
    "        self._ConvertNrrdToNibabelDWIDataModel(pynrrdDataModel)\n",
    "\n",
    "    def Print(self):\n",
    "        print(\"global_BValue {0}\".format(self.global_BValue) )\n",
    "        print(\"modality {0}\".format(self.modality) )\n",
    "        print(\"gradientBValues {0}\".format(self.gradientBValues) )\n",
    "        print(\"gradientDirections {0}\".format(self.gradientUnormalizedVectors) )\n",
    "\n",
    "    def _getGradientStorageIndex(self,pynrrdDataModel):\n",
    "        \"\"\"The 4D index that has separate gradients.\n",
    "        all other directions are the spatial dimensions.\"\"\"\n",
    "        gradient_index=-1;\n",
    "        centerings=pynrrdDataModel['centerings']\n",
    "        numdwidims=len(centerings)\n",
    "        for test_index in range(0,numdwidims):\n",
    "            if centerings[test_index] not in ['cell']:\n",
    "                gradient_index=test_index\n",
    "        self.gradientIndex = gradient_index\n",
    "\n",
    "    def _ExtractGlobalBValue(self, pyNrrdKVUnknownMetaData):\n",
    "        globalBValueString=pyNrrdKVUnknownMetaData.get(u'DWMRI_b-value','0').lstrip().rstrip()\n",
    "        self.global_BValue=float( globalBValueString )\n",
    "\n",
    "    def _ExtractUnormalizedBValues(self,pyNrrdKVUnknownMetaData,pynrrdDataModel):\n",
    "        \"\"\"Unnormalized data values from the nrrd files, where the\n",
    "        magnitude is reflective of the scale relative to the global_BValue\"\"\"\n",
    "        self._getGradientStorageIndex(pynrrdDataModel)\n",
    "        numGradients = pynrrdDataModel[u'sizes'][self.gradientIndex]\n",
    "        self.gradientUnormalizedVectors= np.array( [ [ None, None, None ] for x in range(0,numGradients) ] )\n",
    "        gvec_Fields=pyNrrdKVUnknownMetaData.copy() #Clone so we can remove items\n",
    "        for k,v in gvec_Fields.iteritems():\n",
    "            if k.startswith(\"DWMRI_gradient_\"):\n",
    "                index=int(k.split('_')[2])\n",
    "                self.gradientUnormalizedVectors[index,:]=np.array([ float(x) for x in v.rstrip().lstrip().split() ],\n",
    "                                                    copy=True, order='C', ndmin=1)\n",
    "                pyNrrdKVUnknownMetaData.pop(k)\n",
    "\n",
    "\n",
    "    def _ExtractDWIModality(self,pyNrrdKVUnknownMetaData):\n",
    "        self.modality=pyNrrdKVUnknownMetaData.get(\"modality\",\"UNKNOWN\").lstrip().rstrip()\n",
    "\n",
    "    def _ComputeNormalizedBvecBVals(self,pyNrrdKVUnknownMetaData,pynrrdDataModel):\n",
    "        self._ExtractGlobalBValue(pyNrrdKVUnknownMetaData)\n",
    "        self._ExtractUnormalizedBValues(pyNrrdKVUnknownMetaData,pynrrdDataModel)\n",
    "        self._ComputeNormalizedGradientsAndBValues()\n",
    "\n",
    "    def _ComputeNormalizedGradientsAndBValues(self):\n",
    "        \"\"\"Following conventions of NRRD format, expand\n",
    "        to normalized vectors and estimate BValues\n",
    "        :return: void\n",
    "        \"\"\"\n",
    "        numGradients=len( self.gradientUnormalizedVectors )\n",
    "\n",
    "        self.gradientVectors = np.array(self.gradientUnormalizedVectors)\n",
    "        self.gradientBValues = np.array( [ self.global_BValue ] * numGradients )\n",
    "        for index in range(0,numGradients):\n",
    "            gv = self.gradientUnormalizedVectors[index]\n",
    "            norm=np.linalg.norm(gv)\n",
    "            if norm < 1e-2:\n",
    "                self.gradientVectors[index] = gv * 0.0\n",
    "                self.gradientBValues[index] = 0.0\n",
    "            elif ( abs( 1.0-norm ) > 1e-4 ): # Avoid rescaling if norm is almost one\n",
    "                self.gradientVectors[index] = gv/norm\n",
    "                b_i = self.global_BValue * (norm**2) # norm = sqrt(b_i/b_max)\n",
    "                self.gradientBValues[index] = float(\"{0:.1f}\".format(b_i))  \n",
    "\n",
    "    def _ConvertNrrdToNibabelDWIDataModel(self, pynrrdDataModel):\n",
    "        pyNrrdKVUnknownMetaData=pynrrdDataModel['keyvaluepairs']\n",
    "        self._ExtractDWIModality(pyNrrdKVUnknownMetaData)\n",
    "        self._ExtractGlobalBValue(pyNrrdKVUnknownMetaData)\n",
    "        self._ComputeNormalizedBvecBVals(pyNrrdKVUnknownMetaData,pynrrdDataModel)\n",
    "\n",
    "def ReadNAMICDWIFromNrrd(filename):\n",
    "    nrrd_dwi_data,nrrd_dwi_header=nrrd.read(filename)\n",
    "    nibabelDataModelDWI=nrrdDWIHeader(nrrd_dwi_header)\n",
    "    nrrd_dwi_bvec=nibabelDataModelDWI.gradientVectors\n",
    "    nrrd_dwi_bval=nibabelDataModelDWI.gradientBValues\n",
    "    gradient_index=nibabelDataModelDWI.gradientIndex\n",
    "    return (nrrd_dwi_data, nrrd_dwi_header, nrrd_dwi_bvec, nrrd_dwi_bval, gradient_index)\n",
    "\n",
    "def WriteNAMICDWIToNrrd(filename, data, bvecs, bvals, options=None):\n",
    "    \"\"\"\n",
    "    :param filename: The filename to write to disk\n",
    "    :param data: The numpy 4d file to be written\n",
    "    :param bvecs: The bvecs values to be written\n",
    "    :param bvals: The bvals to be written\n",
    "    :param options: Optional parameters to be written to the nrrd header\n",
    "    :return:\n",
    "    \"\"\"\n",
    "    keyvaluePairDict=OrderedDict()\n",
    "    if options is not None:\n",
    "        keyvaluePairDict=OrderedDict( options.get( 'keyvaluepairs',OrderedDict() ))\n",
    "\n",
    "    ## First remove all existing bval/bvec fields from dictionary\n",
    "    keyvaluePairDict.pop('modality',None)\n",
    "\n",
    "    for k,v in keyvaluePairDict.iteritems():\n",
    "        if k.startswith('DWMRI_'):\n",
    "            keyvaluePairDict.pop(k, None)\n",
    "\n",
    "    keyvaluePairDict[u'modality']=u'DWMRI'\n",
    "    maxBvalue = max(bvals)\n",
    "    keybval=u'DWMRI_b-value'\n",
    "    keyvaluePairDict[keybval]=maxBvalue\n",
    "\n",
    "    numGradients = len(bvecs)\n",
    "    for index in range(0,numGradients):\n",
    "        this_scale = sqrt(bvals[index] / maxBvalue)\n",
    "        this_vec = [ x * this_scale for x in bvecs[index]]\n",
    "        #print(bvecs[index],this_vec)\n",
    "\n",
    "        keyvec=u'DWMRI_gradient_{:04d}'.format(index)\n",
    "        # convert gradient vector value to string (only for consistency with input)\n",
    "        vec_string= lambda this_vec: u''.join(nrrd._convert_to_reproducible_floatingpoint(x)+'  ' for x in this_vec).rstrip()\n",
    "        keyvaluePairDict[keyvec]=vec_string(this_vec)\n",
    "    options['keyvaluepairs']=keyvaluePairDict\n",
    "    options['encoding']='gzip' # Always use gzip compression for DWI data\n",
    "    nrrd.write(filename,data,options)"
   ]
  },
  {
   "cell_type": "code",
   "execution_count": 11,
   "metadata": {
    "collapsed": false
   },
   "outputs": [],
   "source": [
    "#\n",
    "nrrd_data,dwi_nrrd_header,nrrd_bvecs,nrrd_bvals,gradient_index = ReadNAMICDWIFromNrrd(DWI_nrrd_fn)\n",
    "#\n",
    "# Correct direction cosign so the output data is loaded with correct alignment in Slicer\n",
    "dwi_nrrd_header[u'space directions'][2][1] = str(-float(dwi_nrrd_header[u'space directions'][2][1]))\n",
    "#\n",
    "# Adjust gradient directions based on new correction_matrix\n",
    "correction_matrix = np.diag([1,-1,1])\n",
    "nrrd_bvecs = (np.asmatrix(nrrd_bvecs) * correction_matrix).view(type=np.ndarray)"
   ]
  },
  {
   "cell_type": "code",
   "execution_count": 12,
   "metadata": {
    "collapsed": false
   },
   "outputs": [],
   "source": [
    "#print(nrrd_bvals)"
   ]
  },
  {
   "cell_type": "code",
   "execution_count": 13,
   "metadata": {
    "collapsed": false
   },
   "outputs": [],
   "source": [
    "#print(type(nrrd_bvecs))\n",
    "#print(nrrd_bvecs)"
   ]
  },
  {
   "cell_type": "code",
   "execution_count": 14,
   "metadata": {
    "collapsed": true
   },
   "outputs": [],
   "source": [
    "# Change multi shell data to single shell\n",
    "useSingleShell = True\n",
    "\n",
    "def ExtractSingleShell(nrrd_data,nrrd_bvecs,nrrd_bvals,gradient_index):   \n",
    "    #mask = nrrd_bvals<1010 # corresponds to b=1000\n",
    "    mask = (nrrd_bvals==5) + (abs(nrrd_bvals/2000-1) < 1e-2) # corresponds to b=2000\n",
    "    #mask = (nrrd_bvals==5) + (abs(nrrd_bvals/3000-1) < 1e-2) # corresponds to b=3000\n",
    "    nrrd_bvals = nrrd_bvals[mask]\n",
    "    nrrd_bvecs = nrrd_bvecs[mask]\n",
    "    remove_indices = np.where(np.invert(mask))\n",
    "    nrrd_data = np.delete( nrrd_data, remove_indices, gradient_index)\n",
    "    return nrrd_data, nrrd_bvecs, nrrd_bvals\n",
    "\n",
    "if useSingleShell:\n",
    "    nrrd_data,nrrd_bvecs,nrrd_bvals = ExtractSingleShell(nrrd_data,nrrd_bvecs,nrrd_bvals,gradient_index)"
   ]
  },
  {
   "cell_type": "code",
   "execution_count": 15,
   "metadata": {
    "collapsed": false
   },
   "outputs": [
    {
     "name": "stdout",
     "output_type": "stream",
     "text": [
      "108\n"
     ]
    }
   ],
   "source": [
    "print(len(nrrd_bvals))"
   ]
  },
  {
   "cell_type": "code",
   "execution_count": 16,
   "metadata": {
    "collapsed": false
   },
   "outputs": [],
   "source": [
    "#print(nrrd_bvecs)"
   ]
  },
  {
   "cell_type": "code",
   "execution_count": 17,
   "metadata": {
    "collapsed": true
   },
   "outputs": [],
   "source": [
    "if useSingleShell:\n",
    "    dwi_file = DWI_nrrd_corrected_sshell_fn\n",
    "else:\n",
    "    dwi_file = DWI_nrrd_corrected_fn"
   ]
  },
  {
   "cell_type": "code",
   "execution_count": 18,
   "metadata": {
    "collapsed": true
   },
   "outputs": [],
   "source": [
    "# Write output the output DWI nrrd file\n",
    "WriteNAMICDWIToNrrd(dwi_file,nrrd_data,nrrd_bvecs,nrrd_bvals,dwi_nrrd_header)"
   ]
  },
  {
   "cell_type": "code",
   "execution_count": null,
   "metadata": {
    "collapsed": false
   },
   "outputs": [],
   "source": [
    "'''\n",
    "#\n",
    "# I tried to fix the \"space direction\" using a correction matrix\n",
    "#\n",
    "print(dwi_nrrd_header[u'space directions'])\n",
    "dwi_nrrd_header[u'space directions'].remove(u'none')\n",
    "space_direction = np.array([float(x) for x in np.array(dwi_nrrd_header[u'space directions']).ravel()]).reshape(3,3)\n",
    "correction_matrix = np.diag([1,-1,1])\n",
    "space_direction = space_direction*correction_matrix\n",
    "sd_list = str(space_direction.tolist())\n",
    "dwi_nrrd_header[u'space directions'] = [u'none',sd_list]\n",
    "print(dwi_nrrd_header[u'space directions'])\n",
    "'''"
   ]
  },
  {
   "cell_type": "code",
   "execution_count": null,
   "metadata": {
    "collapsed": false
   },
   "outputs": [],
   "source": [
    "'''\n",
    "# Test\n",
    "# Create DTI images from input image and aligned image to check whether the gradient directions are correct in\n",
    "# the estimated DTI of the aligned image\n",
    "#\n",
    "dti_fn = os.path.join(root_dir,'input_sample/100307/nrrd/dti.nrrd')\n",
    "dti_aligned_fn = os.path.join(root_dir,'input_sample/100307/nrrd/dti_corrected.nrrd')\n",
    "\n",
    "DTIEstim=dtiestim()\n",
    "DTIEstim.inputs.method = 'wls'\n",
    "DTIEstim.inputs.threshold = 0\n",
    "#DTIEstim.inputs.correctionType = 'nearest'\n",
    "DTIEstim.inputs.tensor_output = dti_fn\n",
    "DTIEstim.inputs.dwi_image = DWI_nrrd_fn\n",
    "print(DTIEstim.cmdline)\n",
    "DTIEstim.run()\n",
    "\n",
    "DTIEstim=dtiestim()\n",
    "DTIEstim.inputs.method = 'wls'\n",
    "DTIEstim.inputs.threshold = 0\n",
    "#DTIEstim.inputs.correctionType = 'nearest'\n",
    "DTIEstim.inputs.tensor_output = dti_aligned_fn\n",
    "DTIEstim.inputs.dwi_image = DWI_nrrd_aligned_fn\n",
    "print(DTIEstim.cmdline)\n",
    "DTIEstim.run()\n",
    "\n",
    "#\n",
    "# I verified that gradient directions in the output DTI images are biologically correct.\n",
    "#\n",
    "'''"
   ]
  },
  {
   "cell_type": "code",
   "execution_count": null,
   "metadata": {
    "collapsed": true
   },
   "outputs": [],
   "source": [
    "if useSingleShell:\n",
    "    ukfTracks = os.path.join(root_dir,'input_sample/100307/nrrd/ukfTracts_sshell.vtp')\n",
    "else:\n",
    "    ukfTracks = os.path.join(root_dir,'input_sample/100307/nrrd/ukfTracts_mshell.vtp')"
   ]
  },
  {
   "cell_type": "code",
   "execution_count": null,
   "metadata": {
    "collapsed": false
   },
   "outputs": [],
   "source": [
    "# This section has two purposes:\n",
    "# 1) UKFTractography only reads nrrd files (nifti should be converted to nrrd)\n",
    "# 2) UKF implementation only accepts masks of type 'signed char', 'unsigned char', 'short', and 'unsigned short';\n",
    "#    therefore, input mask needs to be cast to sitkUInt16 from sitkFloat32\n",
    "#\n",
    "brainMask_nifti_fn = os.path.join(root_dir,'input_sample/100307/nifti/nodif_brain_mask.nii.gz')\n",
    "brainMask_nrrd_fn = os.path.join(root_dir,'input_sample/100307/nrrd/nodif_brain_mask.nrrd')\n",
    "\n",
    "bmask = sitk.ReadImage(brainMask_nifti_fn)\n",
    "bmask2 = sitk.Cast(bmask, sitk.sitkUInt16)\n",
    "sitk.WriteImage(bmask2,brainMask_nrrd_fn)"
   ]
  },
  {
   "cell_type": "code",
   "execution_count": null,
   "metadata": {
    "collapsed": false
   },
   "outputs": [],
   "source": [
    "# Now run UKFTractorgraphy\n",
    "'''\n",
    "UKF = UKFTractography()\n",
    "UKF.inputs.tracts = ukfTracks\n",
    "UKF.inputs.numTensor = '2'\n",
    "UKF.inputs.freeWater = True ## default False\n",
    "UKF.inputs.minFA = 0.06\n",
    "UKF.inputs.minGA = 0.06\n",
    "UKF.inputs.seedFALimit = 0.06\n",
    "UKF.inputs.Ql = 70\n",
    "UKF.inputs.recordLength = 2\n",
    "UKF.inputs.recordTensors = True\n",
    "UKF.inputs.recordFreeWater = True\n",
    "UKF.inputs.recordFA = True\n",
    "UKF.inputs.recordTrace = True\n",
    "UKF.inputs.dwiFile = dwi_file\n",
    "UKF.inputs.maskFile = brainMask_nrrd_fn\n",
    "UKF.inputs.seedsPerVoxel = 2 #int(round((1.25**3)*10/8))\n",
    "UKF.run()\n",
    "'''\n",
    "# light parameters set\n",
    "UKF = UKFTractography()\n",
    "UKF.inputs.tracts = ukfTracks\n",
    "UKF.inputs.numTensor = '2'\n",
    "UKF.inputs.freeWater = True ## default False\n",
    "UKF.inputs.minFA = 0.15\n",
    "UKF.inputs.minGA = 0.1\n",
    "UKF.inputs.seedFALimit = 0.06\n",
    "UKF.inputs.Ql = 70\n",
    "UKF.inputs.recordLength = 2\n",
    "UKF.inputs.recordTensors = False\n",
    "UKF.inputs.recordFreeWater = False\n",
    "UKF.inputs.recordFA = False\n",
    "UKF.inputs.recordTrace = False\n",
    "UKF.inputs.dwiFile = dwi_file\n",
    "UKF.inputs.maskFile = brainMask_nrrd_fn\n",
    "UKF.inputs.seedsPerVoxel = 1\n",
    "print(UKF.cmdline)\n",
    "#UKF.run()"
   ]
  },
  {
   "cell_type": "code",
   "execution_count": null,
   "metadata": {
    "collapsed": true
   },
   "outputs": [],
   "source": []
  },
  {
   "cell_type": "code",
   "execution_count": null,
   "metadata": {
    "collapsed": true
   },
   "outputs": [],
   "source": []
  },
  {
   "cell_type": "code",
   "execution_count": null,
   "metadata": {
    "collapsed": true
   },
   "outputs": [],
   "source": []
  },
  {
   "cell_type": "code",
   "execution_count": null,
   "metadata": {
    "collapsed": true
   },
   "outputs": [],
   "source": []
  },
  {
   "cell_type": "code",
   "execution_count": null,
   "metadata": {
    "collapsed": true
   },
   "outputs": [],
   "source": []
  },
  {
   "cell_type": "code",
   "execution_count": null,
   "metadata": {
    "collapsed": true
   },
   "outputs": [],
   "source": []
  },
  {
   "cell_type": "code",
   "execution_count": null,
   "metadata": {
    "collapsed": true
   },
   "outputs": [],
   "source": []
  },
  {
   "cell_type": "code",
   "execution_count": null,
   "metadata": {
    "collapsed": true
   },
   "outputs": [],
   "source": []
  },
  {
   "cell_type": "code",
   "execution_count": null,
   "metadata": {
    "collapsed": true
   },
   "outputs": [],
   "source": []
  },
  {
   "cell_type": "code",
   "execution_count": null,
   "metadata": {
    "collapsed": true
   },
   "outputs": [],
   "source": []
  },
  {
   "cell_type": "code",
   "execution_count": null,
   "metadata": {
    "collapsed": true
   },
   "outputs": [],
   "source": []
  },
  {
   "cell_type": "code",
   "execution_count": null,
   "metadata": {
    "collapsed": true
   },
   "outputs": [],
   "source": []
  },
  {
   "cell_type": "code",
   "execution_count": null,
   "metadata": {
    "collapsed": true
   },
   "outputs": [],
   "source": []
  },
  {
   "cell_type": "code",
   "execution_count": null,
   "metadata": {
    "collapsed": true
   },
   "outputs": [],
   "source": []
  },
  {
   "cell_type": "code",
   "execution_count": null,
   "metadata": {
    "collapsed": true
   },
   "outputs": [],
   "source": []
  },
  {
   "cell_type": "code",
   "execution_count": null,
   "metadata": {
    "collapsed": false
   },
   "outputs": [],
   "source": [
    "g0 = np.array([0.0361091986208199,  -0.048164634882149,  0.0367616389697319])\n",
    "print(np.linalg.norm(g0))"
   ]
  },
  {
   "cell_type": "code",
   "execution_count": null,
   "metadata": {
    "collapsed": false
   },
   "outputs": [],
   "source": [
    "g0 = np.array([0.020864963687692,  -0.0278309515644456,  0.0212419630315818])\n",
    "print(np.linalg.norm(g0))"
   ]
  },
  {
   "cell_type": "code",
   "execution_count": null,
   "metadata": {
    "collapsed": true
   },
   "outputs": [],
   "source": []
  },
  {
   "cell_type": "code",
   "execution_count": null,
   "metadata": {
    "collapsed": false
   },
   "outputs": [],
   "source": [
    "gv_nifti = np.array([5.44720000e-02,  -3.93730000e-01,   9.17611000e-01])\n",
    "print(np.linalg.norm(gv_nifti))"
   ]
  },
  {
   "cell_type": "code",
   "execution_count": null,
   "metadata": {
    "collapsed": false
   },
   "outputs": [],
   "source": [
    "b_max = 3010.0\n",
    "b = 3005.0\n",
    "gv_nrrd = np.array([sqrt(b/b_max)*x for x in gv_nifti])\n",
    "print(gv_nrrd)\n",
    "print(np.linalg.norm(gv_nrrd))"
   ]
  },
  {
   "cell_type": "code",
   "execution_count": null,
   "metadata": {
    "collapsed": false
   },
   "outputs": [],
   "source": [
    "gv_nrrd = np.array([0.054427, -0.393403, 0.916849])\n",
    "print(1-np.linalg.norm(gv_nrrd))"
   ]
  },
  {
   "cell_type": "code",
   "execution_count": null,
   "metadata": {
    "collapsed": false
   },
   "outputs": [],
   "source": [
    "np.linalg.norm(gv_nrrd)**2 * b_max"
   ]
  },
  {
   "cell_type": "code",
   "execution_count": null,
   "metadata": {
    "collapsed": false
   },
   "outputs": [],
   "source": [
    "gv_nifti_recovered = np.array([x/np.linalg.norm(gv_nrrd) for x in gv_nrrd])\n",
    "print(gv_nifti_recovered)"
   ]
  },
  {
   "cell_type": "code",
   "execution_count": null,
   "metadata": {
    "collapsed": false
   },
   "outputs": [],
   "source": [
    "0.054427 -0.393403 0.916849"
   ]
  },
  {
   "cell_type": "code",
   "execution_count": null,
   "metadata": {
    "collapsed": false
   },
   "outputs": [],
   "source": [
    "bool(1-(3005.0/3010)>1e-3)"
   ]
  },
  {
   "cell_type": "code",
   "execution_count": null,
   "metadata": {
    "collapsed": true
   },
   "outputs": [],
   "source": []
  }
 ],
 "metadata": {
  "kernelspec": {
   "display_name": "Python 2",
   "language": "python",
   "name": "python2"
  },
  "language_info": {
   "codemirror_mode": {
    "name": "ipython",
    "version": 2
   },
   "file_extension": ".py",
   "mimetype": "text/x-python",
   "name": "python",
   "nbconvert_exporter": "python",
   "pygments_lexer": "ipython2",
   "version": "2.7.11"
  }
 },
 "nbformat": 4,
 "nbformat_minor": 0
}
