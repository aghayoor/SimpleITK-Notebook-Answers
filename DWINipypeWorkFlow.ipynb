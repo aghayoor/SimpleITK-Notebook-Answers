{
 "metadata": {
  "name": "",
  "signature": "sha256:a4f6178d0d64200544fb1070c63e2a3040fd88554985c917d683127ea4328f56"
 },
 "nbformat": 3,
 "nbformat_minor": 0,
 "worksheets": [
  {
   "cells": [
    {
     "cell_type": "markdown",
     "metadata": {},
     "source": [
      "Purpose\n",
      "=======\n",
      "\n",
      "The purpose of this pipeline is to complete all the pre-processing steps needed to turn diffusion-weighted images into FA images that will be used to build a template diffusion tensor atlas for fiber tracking.\n",
      "\n",
      "Inputs\n",
      "======\n",
      "The input to this pipeline is a list of subject IDs that is used to generate lists of the corresponding DWIs processed with automated quality control, T2s, and brain label images that are treated as brain masks.\n",
      " \n",
      "Pipeline Steps for CreateDWIWorkflow\n",
      "====================================\n",
      "{Fill this part later}"
     ]
    },
    {
     "cell_type": "code",
     "collapsed": false,
     "input": [
      "## Boiler plate code common to many notebooks.  See the TestFilesCommonCode.ipynb for details\n",
      "#from __future__ import print_function\n",
      "#%run TestFilesCommonCode.ipynb"
     ],
     "language": "python",
     "metadata": {},
     "outputs": [],
     "prompt_number": 36
    },
    {
     "cell_type": "code",
     "collapsed": false,
     "input": [
      "import os\n",
      "import glob\n",
      "import sys\n",
      "\n",
      "#\\/\\/\\/\\/\\/\\/\\/\\/\\/\\/\\/\\/\\/\\/\\/\\/\\/\\/\\/\\/\\/\\/\\/\\/\\/\\/\\/\\/\\/\\/\\/\\/\\/\\/\\/\\/\\/\\/\\/\\/\\/\\/\\/\n",
      "#####################################################################################\n",
      "#     Prepend the shell environment search paths\n",
      "PROGRAM_PATHS = '/scratch/NAMICExternalProjects/release/bin'\n",
      "PROGRAM_PATHS = PROGRAM_PATHS.split(':')\n",
      "PROGRAM_PATHS.extend(os.environ['PATH'].split(':'))\n",
      "os.environ['PATH'] = ':'.join(PROGRAM_PATHS)\n",
      "\n",
      "CUSTOM_ENVIRONMENT=dict()\n",
      "\n",
      "# Platform specific information\n",
      "#     Prepend the python search paths\n",
      "PYTHON_AUX_PATHS = '/scratch/NAMICExternalProjects/release/BRAINSTools/AutoWorkup'\n",
      "PYTHON_AUX_PATHS = PYTHON_AUX_PATHS.split(':')\n",
      "PYTHON_AUX_PATHS.extend(sys.path)\n",
      "sys.path = PYTHON_AUX_PATHS\n",
      "\n",
      "import SimpleITK as sitk\n",
      "import nipype\n",
      "from nipype.interfaces import ants\n",
      "from nipype.interfaces.base import CommandLine, CommandLineInputSpec, TraitedSpec, File, Directory\n",
      "from nipype.interfaces.base import traits, isdefined, BaseInterface\n",
      "from nipype.interfaces.utility import Merge, Split, Function, Rename, IdentityInterface\n",
      "import nipype.interfaces.io as nio   # Data i/oS\n",
      "import nipype.pipeline.engine as pe  # pypeline engine\n",
      "from nipype.interfaces.freesurfer import ReconAll\n",
      "from SEMTools import *"
     ],
     "language": "python",
     "metadata": {},
     "outputs": [],
     "prompt_number": 3
    },
    {
     "cell_type": "code",
     "collapsed": false,
     "input": [
      "######## Input scans #############################\n",
      "DWI_scan = '/Shared/johnsonhj/TrackOn/Experiments/20140203_DWIProcessing/VISUALLY_INSPECTED/HDNI_003/823955340/823955340_20080609_30/823955340_823955340_20080609_30_DWI_CONCAT_QCed_INSPECTED.nrrd'\n",
      "\n",
      "sessionID = os.path.basename(os.path.dirname(DWI_scan))\n",
      "subjectID = os.path.basename(os.path.dirname(os.path.dirname(DWI_scan)))\n",
      "siteID = os.path.basename(os.path.dirname(os.path.dirname(os.path.dirname(DWI_scan))))\n",
      "\n",
      "scalarsDIR = os.path.join('/Shared/sinapse/CACHE/20141124_TrackOn_base_Results/',\n",
      "                          siteID,\n",
      "                          subjectID,\n",
      "                          sessionID,\n",
      "                          'TissueClassify')\n",
      "\n",
      "T2_scan = os.path.join(scalarsDIR,'t2_average_BRAINSABC.nii.gz')\n",
      "labelMap_image = os.path.join(scalarsDIR,'complete_brainlabels_seg.nii.gz')\n",
      "#################################################\n",
      "\n",
      "####### Workflow ################################\n",
      "WFname = 'DWIWorkflow_' + sessionID\n",
      "DWIWorkflow = pe.Workflow(name=WFname)\n",
      "BASE_DIR = os.path.join('/scratch/TESTS/IpythonNotebook', '1_DWI_Nipype_workflow')\n",
      "DWIWorkflow.base_dir = BASE_DIR\n",
      "\n",
      "inputsSpec = pe.Node(interface=IdentityInterface(fields=['T2Volume', 'DWIVolume','LabelMapVolume']), \n",
      "                     name='inputspec')\n",
      "\n",
      "#inputsSpec.inputs.DWIVolume = '/Shared/johnsonhj/TrackOn/Experiments/20140203_DWIProcessing/VISUALLY_INSPECTED/HDNI_001/249903245/249903245_20110719_30/249903245_249903245_20110719_30_DWI_CONCAT_QCed_INSPECTED.nrrd'\n",
      "#inputsSpec.inputs.T2Volume = '/Shared/sinapse/CACHE/20141124_TrackOn_base_Results/HDNI_001/249903245/249903245_20110719_30/TissueClassify/t2_average_BRAINSABC.nii.gz'\n",
      "#inputsSpec.inputs.LabelMapVolume = '/Shared/sinapse/CACHE/20141124_TrackOn_base_Results/HDNI_001/249903245/249903245_20110719_30/TissueClassify/complete_brainlabels_seg.nii.gz'\n",
      "\n",
      "inputsSpec.inputs.DWIVolume = DWI_scan\n",
      "inputsSpec.inputs.T2Volume = T2_scan\n",
      "inputsSpec.inputs.LabelMapVolume = labelMap_image\n",
      "\n",
      "outputsSpec = pe.Node(interface=IdentityInterface(fields=['CorrectedDW_in_T2Space','CorrectedDW_in_T2Space_B0']),\n",
      "                      name='outputsSpec')\n",
      "\n",
      "# Step0: remove the skull from the T2 volume\n",
      "def ExtractBRAINFromHead(RawScan, BrainLabels):\n",
      "    import os\n",
      "    import SimpleITK as sitk\n",
      "    # Remove skull from the head scan\n",
      "    assert os.path.exists(RawScan), \"File not found: %s\" % RawScan\n",
      "    assert os.path.exists(BrainLabels), \"File not found: %s\" % BrainLabels\n",
      "    headImage = sitk.ReadImage(RawScan)\n",
      "    labelsMap = sitk.ReadImage(BrainLabels)\n",
      "    label_mask = labelsMap>0\n",
      "    brainImage = sitk.Cast(headImage,sitk.sitkInt16) * sitk.Cast(label_mask,sitk.sitkInt16)\n",
      "    outputVolume = os.path.realpath('T2Stripped.nrrd')\n",
      "    sitk.WriteImage(brainImage, outputVolume)\n",
      "    return outputVolume\n",
      "\n",
      "ExtractBRAINFromHeadNode = pe.Node(interface=Function(function = ExtractBRAINFromHead, \n",
      "                                                      input_names=['RawScan','BrainLabels'],\n",
      "                                                      output_names=['outputVolume']), \n",
      "                                   name=\"ExtractBRAINFromHead\")\n",
      "\n",
      "DWIWorkflow.connect(inputsSpec, 'T2Volume', ExtractBRAINFromHeadNode, 'RawScan')\n",
      "DWIWorkflow.connect(inputsSpec, 'LabelMapVolume', ExtractBRAINFromHeadNode, 'BrainLabels')\n",
      "\n",
      "# Step1: extract B0 from DWI volume\n",
      "EXTRACT_B0 = pe.Node(interface=extractNrrdVectorIndex(),name=\"EXTRACT_B0\")\n",
      "EXTRACT_B0.inputs.vectorIndex = 0\n",
      "EXTRACT_B0.inputs.outputVolume = 'B0_Image.nrrd'\n",
      "DWIWorkflow.connect(inputsSpec,'DWIVolume',EXTRACT_B0,'inputVolume')\n",
      "\n",
      "# Step2: Register T2 to B0 space using BRAINSFit\n",
      "BFit_T2toB0 = pe.Node(interface=BRAINSFit(), name=\"BFit_T2toB0\")\n",
      "BFit_T2toB0.inputs.costMetric = \"MMI\"\n",
      "BFit_T2toB0.inputs.numberOfSamples = 100000\n",
      "BFit_T2toB0.inputs.numberOfIterations = [1500]\n",
      "BFit_T2toB0.inputs.numberOfHistogramBins = 50\n",
      "BFit_T2toB0.inputs.maximumStepLength = 0.2\n",
      "BFit_T2toB0.inputs.minimumStepLength = [0.00005]\n",
      "BFit_T2toB0.inputs.useRigid = True\n",
      "BFit_T2toB0.inputs.useAffine = True\n",
      "BFit_T2toB0.inputs.maskInferiorCutOffFromCenter = 65\n",
      "BFit_T2toB0.inputs.maskProcessingMode = \"ROIAUTO\"\n",
      "BFit_T2toB0.inputs.ROIAutoDilateSize = 13\n",
      "BFit_T2toB0.inputs.backgroundFillValue = 0.0\n",
      "BFit_T2toB0.inputs.initializeTransformMode = 'useCenterOfHeadAlign'\n",
      "BFit_T2toB0.inputs.strippedOutputTransform = \"T2ToB0_RigidTransform.h5\"\n",
      "#BFit_T2toB0.inputs.outputVolume = \"T2_in_B0Space_Output.nii.gz\"\n",
      "DWIWorkflow.connect(EXTRACT_B0, 'outputVolume', BFit_T2toB0, 'fixedVolume')\n",
      "DWIWorkflow.connect(ExtractBRAINFromHeadNode, 'outputVolume', BFit_T2toB0, 'movingVolume')\n",
      "#DWIWorkflow.connect(BFit_T2toB0, 'outputVolume', outputsSpec, 'T2_in_B0Space_Output')\n",
      "\n",
      "# Step3: Use T_rigid to \"resample\" T2 and label map images to B0 image space\n",
      "#------------\n",
      "def MakeResamplerInFileList(inputT2, inputLabelMap):\n",
      "    imagesList = [inputT2, inputLabelMap]\n",
      "    return imagesList\n",
      "    \n",
      "MakeResamplerInFilesListNode = pe.Node(Function(function=MakeResamplerInFileList,\n",
      "                                               input_names=['inputT2','inputLabelMap'],\n",
      "                                               output_names=['imagesList']),\n",
      "                                      name=\"MakeResamplerInFilesListNode\")\n",
      "\n",
      "DWIWorkflow.connect([(ExtractBRAINFromHeadNode,MakeResamplerInFilesListNode,[('outputVolume','inputT2')]),\n",
      "                     (inputsSpec,MakeResamplerInFilesListNode,[('LabelMapVolume','inputLabelMap')])])\n",
      "\n",
      "ResampleToB0Space = pe.MapNode(interface=BRAINSResample(), name=\"ResampleToB0Space\",\n",
      "                               iterfield=['inputVolume', 'interpolationMode', 'pixelType', 'outputVolume'])\n",
      "ResampleToB0Space.inputs.interpolationMode = ['Linear','NearestNeighbor']\n",
      "ResampleToB0Space.inputs.outputVolume = ['T2toB0.nrrd','BRAINMaskToB0.nrrd']\n",
      "ResampleToB0Space.inputs.pixelType = ['ushort','binary']\n",
      "DWIWorkflow.connect(BFit_T2toB0,'strippedOutputTransform',ResampleToB0Space,'warpTransform')\n",
      "DWIWorkflow.connect(EXTRACT_B0,'outputVolume',ResampleToB0Space,'referenceVolume')\n",
      "DWIWorkflow.connect(MakeResamplerInFilesListNode,'imagesList',ResampleToB0Space,'inputVolume')\n",
      "\n",
      "# This function helps to pick desirable output from the outputVolume list\n",
      "def pickFromList(inlist,item):\n",
      "    return inlist[item]\n",
      "\n",
      "# Step4: Create registration mask from resampled label map image\n",
      "def CreateAntsRegistrationMask(brainMask):\n",
      "    import os\n",
      "    import SimpleITK as sitk\n",
      "    assert os.path.exists(brainMask), \"File not found: %s\" % brainMask\n",
      "    labelsMap = sitk.ReadImage(brainMask)\n",
      "    label_mask = labelsMap>0\n",
      "    # erode the label mask\n",
      "    erodeFilter = sitk.BinaryErodeImageFilter()\n",
      "    erodeFilter.SetKernelRadius(4)\n",
      "    eroded_mask = erodeFilter.Execute( label_mask )\n",
      "    # dilate the label mask\n",
      "    dilateFilter = sitk.BinaryDilateImageFilter()\n",
      "    dilateFilter.SetKernelRadius(4)\n",
      "    dilated_mask = dilateFilter.Execute( label_mask )\n",
      "    regMask = eroded_mask - dilated_mask\n",
      "    registrationMask = os.path.realpath('registrationMask.nrrd')\n",
      "    sitk.WriteImage(regMask, registrationMask)\n",
      "    return registrationMask\n",
      "    \n",
      "CreateRegistrationMask = pe.Node(interface=Function(function = CreateAntsRegistrationMask, \n",
      "                                                    input_names=['brainMask'],\n",
      "                                                    output_names=['registrationMask']),\n",
      "                                 name=\"CreateAntsRegistrationMask\")\n",
      "\n",
      "DWIWorkflow.connect(ResampleToB0Space, ('outputVolume', pickFromList, 1), \n",
      "                    CreateRegistrationMask, 'brainMask')\n",
      "\n",
      "# Step5: Save direction cosine for the resampled T2 image\n",
      "def SaveDirectionCosineToMatrix(inputVolume):\n",
      "    import os\n",
      "    import SimpleITK as sitk\n",
      "    assert os.path.exists(inputVolume), \"File not found: %s\" % inputVolume\n",
      "    t2 = sitk.ReadImage(inputVolume)\n",
      "    directionCosine = t2.GetDirection()\n",
      "    return directionCosine\n",
      "\n",
      "SaveDirectionCosineToMatrixNode = pe.Node(interface=Function(function = SaveDirectionCosineToMatrix, \n",
      "                                                             input_names=['inputVolume'],\n",
      "                                                             output_names=['directionCosine']),\n",
      "                                          name=\"SaveDirectionCosineToMatrix\")\n",
      "\n",
      "DWIWorkflow.connect(ResampleToB0Space, ('outputVolume', pickFromList, 0), \n",
      "                    SaveDirectionCosineToMatrixNode, 'inputVolume')\n",
      "\n",
      "# Step6: Force DC to ID\n",
      "def MakeForceDCFilesList(inputB0, inputT2, inputLabelMap):\n",
      "    import os\n",
      "    assert os.path.exists(inputB0), \"File not found: %s\" % inputB0\n",
      "    assert os.path.exists(inputT2), \"File not found: %s\" % inputT2\n",
      "    assert os.path.exists(inputLabelMap), \"File not found: %s\" % inputLabelMap\n",
      "    imagesList = [inputB0, inputT2, inputLabelMap]\n",
      "    return imagesList\n",
      "    \n",
      "MakeForceDCFilesListNode = pe.Node(Function(function=MakeForceDCFilesList,\n",
      "                                             input_names=['inputB0','inputT2','inputLabelMap'],\n",
      "                                             output_names=['imagesList']),\n",
      "                                    name=\"MakeForceDCFilesListNode\")\n",
      "\n",
      "\n",
      "DWIWorkflow.connect([(EXTRACT_B0,MakeForceDCFilesListNode,[('outputVolume','inputB0')]),\n",
      "                     (ResampleToB0Space,MakeForceDCFilesListNode,[(('outputVolume', pickFromList, 0),'inputT2')]),\n",
      "                     (CreateRegistrationMask,MakeForceDCFilesListNode,[('registrationMask','inputLabelMap')])])\n",
      "\n",
      "def ForceDCtoID(inputVolume):\n",
      "    import os\n",
      "    import SimpleITK as sitk\n",
      "    inImage = sitk.ReadImage(inputVolume)\n",
      "    inImage.SetDirection((1.0, 0.0, 0.0, 0.0, 1.0, 0.0, 0.0, 0.0, 1.0))\n",
      "    outputVolume = os.path.realpath('IDDC_'+ os.path.basename(inputVolume))\n",
      "    sitk.WriteImage(inImage, outputVolume)\n",
      "    return outputVolume\n",
      "\n",
      "ForceDCtoIDNode = pe.MapNode(interface=Function(function = ForceDCtoID, \n",
      "                                                input_names=['inputVolume'],\n",
      "                                                output_names=['outputVolume']), \n",
      "                             name=\"ForceDCtoID\",\n",
      "                             iterfield=['inputVolume'])\n",
      "\n",
      "DWIWorkflow.connect(MakeForceDCFilesListNode, 'imagesList', ForceDCtoIDNode, 'inputVolume')\n",
      "\n",
      "# Step7: Run antsRegistration in one direction\n",
      "antsReg_B0ToTransformedT2 = pe.Node(interface=ants.Registration(), name=\"antsReg_B0ToTransformedT2\")\n",
      "antsReg_B0ToTransformedT2.inputs.dimension = 3\n",
      "antsReg_B0ToTransformedT2.inputs.transforms = [\"SyN\"]\n",
      "antsReg_B0ToTransformedT2.inputs.transform_parameters = [(0.25, 3.0, 0.0)]\n",
      "antsReg_B0ToTransformedT2.inputs.metric = ['MI']\n",
      "antsReg_B0ToTransformedT2.inputs.sampling_strategy = [None]\n",
      "antsReg_B0ToTransformedT2.inputs.sampling_percentage = [1.0]\n",
      "antsReg_B0ToTransformedT2.inputs.metric_weight = [1.0]\n",
      "antsReg_B0ToTransformedT2.inputs.radius_or_number_of_bins = [32]\n",
      "antsReg_B0ToTransformedT2.inputs.number_of_iterations = [[70, 50, 40]]\n",
      "antsReg_B0ToTransformedT2.inputs.convergence_threshold = [1e-6]\n",
      "antsReg_B0ToTransformedT2.inputs.convergence_window_size = [10]\n",
      "antsReg_B0ToTransformedT2.inputs.use_histogram_matching = [True]\n",
      "antsReg_B0ToTransformedT2.inputs.shrink_factors = [[3, 2, 1]]\n",
      "antsReg_B0ToTransformedT2.inputs.smoothing_sigmas = [[2, 1, 0]]\n",
      "antsReg_B0ToTransformedT2.inputs.sigma_units = [\"vox\"]\n",
      "antsReg_B0ToTransformedT2.inputs.use_estimate_learning_rate_once = [False]\n",
      "antsReg_B0ToTransformedT2.inputs.write_composite_transform = True\n",
      "antsReg_B0ToTransformedT2.inputs.collapse_output_transforms = False\n",
      "antsReg_B0ToTransformedT2.inputs.initialize_transforms_per_stage = False\n",
      "antsReg_B0ToTransformedT2.inputs.output_transform_prefix = 'Tsyn'\n",
      "antsReg_B0ToTransformedT2.inputs.winsorize_lower_quantile = 0.01\n",
      "antsReg_B0ToTransformedT2.inputs.winsorize_upper_quantile = 0.99\n",
      "antsReg_B0ToTransformedT2.inputs.args = '--float 1 --restrict-deformation 0x1x0'\n",
      "\n",
      "DWIWorkflow.connect(ForceDCtoIDNode, ('outputVolume', pickFromList, 1), antsReg_B0ToTransformedT2, 'fixed_image')\n",
      "DWIWorkflow.connect(ForceDCtoIDNode, ('outputVolume', pickFromList, 2), antsReg_B0ToTransformedT2, 'fixed_image_mask')\n",
      "DWIWorkflow.connect(ForceDCtoIDNode, ('outputVolume', pickFromList, 0), antsReg_B0ToTransformedT2, 'moving_image')\n",
      "\n",
      "# Step8: Now, all necessary transforms are acquired. It's a time to \n",
      "#        transform input DWI image into T2 image space\n",
      "# {DWI} --> ForceDCtoID --> gtractResampleDWIInPlace(using SyN transfrom) \n",
      "# --> Restore DirectionCosine From Saved Matrix --> gtractResampleDWIInPlace(inverse of T_rigid from BFit)\n",
      "# --> {CorrectedDW_in_T2Space}\n",
      "\n",
      "DWI_ForceDCtoIDNode = pe.Node(interface=Function(function = ForceDCtoID, \n",
      "                                                 input_names=['inputVolume'],\n",
      "                                                 output_names=['outputVolume']), \n",
      "                              name='DWI_ForceDCtoIDNode')\n",
      "\n",
      "DWIWorkflow.connect(inputsSpec,'DWIVolume',DWI_ForceDCtoIDNode,'inputVolume')\n",
      "\n",
      "def pickCompositeTransfromFromList(composite_transform_as_list):\n",
      "    return composite_transform_as_list[0]\n",
      "\n",
      "gtractResampleDWI_SyN = pe.Node(interface=gtractResampleDWIInPlace(), \n",
      "                                       name=\"gtractResampleDWI_SyN\")\n",
      "\n",
      "DWIWorkflow.connect(DWI_ForceDCtoIDNode,'outputVolume',gtractResampleDWI_SyN,'inputVolume')\n",
      "DWIWorkflow.connect(antsReg_B0ToTransformedT2,('composite_transform',pickCompositeTransfromFromList),gtractResampleDWI_SyN,'warpDWITransform')\n",
      "DWIWorkflow.connect(ForceDCtoIDNode,('outputVolume', pickFromList, 1),gtractResampleDWI_SyN,'referenceVolume') # fixed image of antsRegistration\n",
      "gtractResampleDWI_SyN.inputs.outputVolume = 'IDDC_correctedDWI.nrrd'\n",
      "\n",
      "def RestoreDCFromSavedMatrix(inputVolume, inputDirectionCosine):\n",
      "    import os\n",
      "    import SimpleITK as sitk\n",
      "    inImage = sitk.ReadImage(inputVolume)\n",
      "    inImage.SetDirection(inputDirectionCosine)\n",
      "    outputVolume = os.path.realpath('correctedDWI.nrrd')\n",
      "    sitk.WriteImage(inImage, outputVolume)\n",
      "    return outputVolume\n",
      "\n",
      "RestoreDCFromSavedMatrixNode = pe.Node(interface=Function(function = RestoreDCFromSavedMatrix, \n",
      "                                                          input_names=['inputVolume','inputDirectionCosine'],\n",
      "                                                          output_names=['outputVolume']), \n",
      "                                       name='RestoreDCFromSavedMatrix')\n",
      "\n",
      "DWIWorkflow.connect(gtractResampleDWI_SyN,'outputVolume',RestoreDCFromSavedMatrixNode,'inputVolume')\n",
      "DWIWorkflow.connect(SaveDirectionCosineToMatrixNode,'directionCosine',RestoreDCFromSavedMatrixNode,'inputDirectionCosine')\n",
      "\n",
      "def GetRigidTransformInverse(inputTransform):\n",
      "    import os\n",
      "    import SimpleITK as sitk\n",
      "    inputTx = sitk.ReadTransform(inputTransform)\n",
      "    versorRigidTx = sitk.VersorRigid3DTransform()\n",
      "    versorRigidTx.SetFixedParameters(inputTx.GetFixedParameters())\n",
      "    versorRigidTx.SetParameters(inputTx.GetParameters())\n",
      "    invTx = versorRigidTx.GetInverse()\n",
      "    inverseTransform = os.path.realpath('Inverse_'+ os.path.basename(inputTransform))\n",
      "    sitk.WriteTransform(invTx, inverseTransform)\n",
      "    return inverseTransform\n",
      "\n",
      "GetRigidTransformInverseNode = pe.Node(interface=Function(function = GetRigidTransformInverse, \n",
      "                                                          input_names=['inputTransform'],\n",
      "                                                          output_names=['inverseTransform']), \n",
      "                                       name='GetRigidTransformInverse')\n",
      "\n",
      "DWIWorkflow.connect(BFit_T2toB0,'strippedOutputTransform',GetRigidTransformInverseNode,'inputTransform')\n",
      "\n",
      "gtractResampleDWIInPlace_Trigid = pe.Node(interface=gtractResampleDWIInPlace(), \n",
      "                                       name=\"gtractResampleDWIInPlace_Trigid\")\n",
      "\n",
      "DWIWorkflow.connect(RestoreDCFromSavedMatrixNode,'outputVolume',gtractResampleDWIInPlace_Trigid,'inputVolume')\n",
      "DWIWorkflow.connect(GetRigidTransformInverseNode,'inverseTransform',gtractResampleDWIInPlace_Trigid,'inputTransform') #Inverse of rigid transform from BFit\n",
      "gtractResampleDWIInPlace_Trigid.inputs.outputVolume = 'CorrectedDW_in_T2Space.nrrd'\n",
      "gtractResampleDWIInPlace_Trigid.inputs.outputResampledB0 = 'CorrectedDW_in_T2Space_B0.nrrd'\n",
      "\n",
      "# Finally we pass the outputs of the gtractResampleDWIInPlace_Trigid to the outputsSpec\n",
      "DWIWorkflow.connect(gtractResampleDWIInPlace_Trigid, 'outputVolume', outputsSpec, 'CorrectedDW_in_T2Space')\n",
      "DWIWorkflow.connect(gtractResampleDWIInPlace_Trigid, 'outputResampledB0', outputsSpec, 'CorrectedDW_in_T2Space_B0')\n",
      "\n",
      "DWIWorkflow.write_graph()\n",
      "DWIWorkflow.run()"
     ],
     "language": "python",
     "metadata": {},
     "outputs": [
      {
       "output_type": "stream",
       "stream": "stderr",
       "text": [
        "INFO:workflow:Converting dotfile: /scratch/TESTS/IpythonNotebook/1_DWI_Nipype_workflow/DWIWorkflow_823955340_20080609_30/graph.dot to png format\n"
       ]
      },
      {
       "output_type": "stream",
       "stream": "stderr",
       "text": [
        "INFO:workflow:['check', 'execution', 'logging']\n"
       ]
      },
      {
       "output_type": "stream",
       "stream": "stderr",
       "text": [
        "INFO:workflow:Running serially.\n"
       ]
      },
      {
       "output_type": "stream",
       "stream": "stderr",
       "text": [
        "INFO:workflow:Executing node EXTRACT_B0 in dir: /scratch/TESTS/IpythonNotebook/1_DWI_Nipype_workflow/DWIWorkflow_823955340_20080609_30/EXTRACT_B0\n"
       ]
      },
      {
       "output_type": "stream",
       "stream": "stderr",
       "text": [
        "INFO:workflow:Running:  extractNrrdVectorIndex  --inputVolume /Shared/johnsonhj/TrackOn/Experiments/20140203_DWIProcessing/VISUALLY_INSPECTED/HDNI_003/823955340/823955340_20080609_30/823955340_823955340_20080609_30_DWI_CONCAT_QCed_INSPECTED.nrrd --outputVolume B0_Image.nrrd --vectorIndex 0\n"
       ]
      },
      {
       "output_type": "stream",
       "stream": "stderr",
       "text": [
        "INFO:interface:stdout 2015-01-08T11:21:45.766354:Input Image: /Shared/johnsonhj/TrackOn/Experiments/20140203_DWIProcessing/VISUALLY_INSPECTED/HDNI_003/823955340/823955340_20080609_30/823955340_823955340_20080609_30_DWI_CONCAT_QCed_INSPECTED.nrrd\n"
       ]
      },
      {
       "output_type": "stream",
       "stream": "stderr",
       "text": [
        "INFO:interface:stdout 2015-01-08T11:21:45.766354:Output Image: B0_Image.nrrd\n"
       ]
      },
      {
       "output_type": "stream",
       "stream": "stderr",
       "text": [
        "INFO:interface:stdout 2015-01-08T11:21:45.766354:Vector Index: 0\n"
       ]
      },
      {
       "output_type": "stream",
       "stream": "stderr",
       "text": [
        "INFO:interface:stdout 2015-01-08T11:21:45.766354:Set Image Orientation: AsAcquired\n"
       ]
      },
      {
       "output_type": "stream",
       "stream": "stderr",
       "text": [
        "INFO:interface:stdout 2015-01-08T11:21:45.766354:\n"
       ]
      },
      {
       "output_type": "stream",
       "stream": "stderr",
       "text": [
        "INFO:workflow:Executing node DWI_ForceDCtoIDNode in dir: /scratch/TESTS/IpythonNotebook/1_DWI_Nipype_workflow/DWIWorkflow_823955340_20080609_30/DWI_ForceDCtoIDNode\n"
       ]
      },
      {
       "output_type": "stream",
       "stream": "stderr",
       "text": [
        "INFO:workflow:Executing node ExtractBRAINFromHead in dir: /scratch/TESTS/IpythonNotebook/1_DWI_Nipype_workflow/DWIWorkflow_823955340_20080609_30/ExtractBRAINFromHead\n"
       ]
      },
      {
       "output_type": "stream",
       "stream": "stderr",
       "text": [
        "INFO:workflow:Executing node MakeResamplerInFilesListNode in dir: /scratch/TESTS/IpythonNotebook/1_DWI_Nipype_workflow/DWIWorkflow_823955340_20080609_30/MakeResamplerInFilesListNode\n"
       ]
      },
      {
       "output_type": "stream",
       "stream": "stderr",
       "text": [
        "INFO:workflow:Executing node BFit_T2toB0 in dir: /scratch/TESTS/IpythonNotebook/1_DWI_Nipype_workflow/DWIWorkflow_823955340_20080609_30/BFit_T2toB0\n"
       ]
      },
      {
       "output_type": "stream",
       "stream": "stderr",
       "text": [
        "INFO:workflow:Running:  BRAINSFit  --ROIAutoDilateSize 13.000000 --backgroundFillValue 0.000000 --costMetric MMI --fixedVolume /Volumes/scratch/TESTS/IpythonNotebook/1_DWI_Nipype_workflow/DWIWorkflow_823955340_20080609_30/EXTRACT_B0/B0_Image.nrrd --initializeTransformMode useCenterOfHeadAlign --maskInferiorCutOffFromCenter 65.000000 --maskProcessingMode ROIAUTO --maximumStepLength 0.200000 --minimumStepLength 5e-05 --movingVolume /Volumes/scratch/TESTS/IpythonNotebook/1_DWI_Nipype_workflow/DWIWorkflow_823955340_20080609_30/ExtractBRAINFromHead/T2Stripped.nrrd --numberOfHistogramBins 50 --numberOfIterations 1500 --numberOfSamples 100000 --strippedOutputTransform T2ToB0_RigidTransform.h5 --useAffine  --useRigid \n"
       ]
      },
      {
       "output_type": "stream",
       "stream": "stderr",
       "text": [
        "INFO:interface:stdout 2015-01-08T11:21:48.179685:Original Fixed image origin[-109.009, -109.767, -56.6923, 0]\n"
       ]
      },
      {
       "output_type": "stream",
       "stream": "stderr",
       "text": [
        "INFO:interface:stdout 2015-01-08T11:21:48.323332:ListSample TotalFrequency is  802816\n"
       ]
      },
      {
       "output_type": "stream",
       "stream": "stderr",
       "text": [
        "INFO:interface:stdout 2015-01-08T11:21:48.400003:1057 ValidHistogramsEntries,  802816 TotalFrequency\n"
       ]
      },
      {
       "output_type": "stream",
       "stream": "stderr",
       "text": [
        "INFO:interface:stdout 2015-01-08T11:21:48.400003:0.01 ---> 0\n"
       ]
      },
      {
       "output_type": "stream",
       "stream": "stderr",
       "text": [
        "INFO:interface:stdout 2015-01-08T11:21:48.400003:0.99 ---> 401\n"
       ]
      },
      {
       "output_type": "stream",
       "stream": "stderr",
       "text": [
        "INFO:interface:stdout 2015-01-08T11:21:48.419483:LowHigh Thresholds: [106,2147483647]\n"
       ]
      },
      {
       "output_type": "stream",
       "stream": "stderr",
       "text": [
        "INFO:interface:stdout 2015-01-08T11:21:49.678923:ListSample TotalFrequency is  7990528\n"
       ]
      },
      {
       "output_type": "stream",
       "stream": "stderr",
       "text": [
        "INFO:interface:stdout 2015-01-08T11:21:50.366469:4072 ValidHistogramsEntries,  7990528 TotalFrequency\n"
       ]
      },
      {
       "output_type": "stream",
       "stream": "stderr",
       "text": [
        "INFO:interface:stdout 2015-01-08T11:21:50.366469:0.01 ---> 0\n"
       ]
      },
      {
       "output_type": "stream",
       "stream": "stderr",
       "text": [
        "INFO:interface:stdout 2015-01-08T11:21:50.366469:0.99 ---> 2448\n"
       ]
      },
      {
       "output_type": "stream",
       "stream": "stderr",
       "text": [
        "INFO:interface:stdout 2015-01-08T11:21:50.539565:LowHigh Thresholds: [752,2147483647]\n"
       ]
      },
      {
       "output_type": "stream",
       "stream": "stderr",
       "text": [
        "INFO:interface:stdout 2015-01-08T11:22:03.749509:WARNING --numberOfSamples is deprecated, please use --samplingPercentage instead \n"
       ]
      },
      {
       "output_type": "stream",
       "stream": "stderr",
       "text": [
        "INFO:interface:stdout 2015-01-08T11:22:03.749509:WARNING: Replacing command line --samplingPercentage 0.124562\n"
       ]
      },
      {
       "output_type": "stream",
       "stream": "stderr",
       "text": [
        "INFO:interface:stdout 2015-01-08T11:22:03.977189:TranformTypes: Rigid(1 of 2).\n"
       ]
      },
      {
       "output_type": "stream",
       "stream": "stderr",
       "text": [
        "INFO:interface:stdout 2015-01-08T11:22:03.977189:\n"
       ]
      },
      {
       "output_type": "stream",
       "stream": "stderr",
       "text": [
        "INFO:interface:stdout 2015-01-08T11:22:03.977189:TranformTypes: Affine(2 of 2).\n"
       ]
      },
      {
       "output_type": "stream",
       "stream": "stderr",
       "text": [
        "INFO:interface:stdout 2015-01-08T11:22:03.977189:\n"
       ]
      },
      {
       "output_type": "stream",
       "stream": "stderr",
       "text": [
        "INFO:interface:stdout 2015-01-08T11:22:03.977189:Initializing transform with useCenterOfHeadAlign\n"
       ]
      },
      {
       "output_type": "stream",
       "stream": "stderr",
       "text": [
        "INFO:interface:stdout 2015-01-08T11:22:04.029358:maxSIDirection = 105.5\n"
       ]
      },
      {
       "output_type": "stream",
       "stream": "stderr",
       "text": [
        "INFO:interface:stdout 2015-01-08T11:22:04.116555:Computing Sampled Distance Computations\n"
       ]
      },
      {
       "output_type": "stream",
       "stream": "stderr",
       "text": [
        "INFO:interface:stdout 2015-01-08T11:22:05.173409:maxSIDirection = 74.8159\n"
       ]
      },
      {
       "output_type": "stream",
       "stream": "stderr",
       "text": [
        "INFO:interface:stdout 2015-01-08T11:22:05.183337:Computing Sampled Distance Computations\n"
       ]
      },
      {
       "output_type": "stream",
       "stream": "stderr",
       "text": [
        "INFO:interface:stdout 2015-01-08T11:22:06.952528:Initializing transform with useCenterOfHeadAlign to \n"
       ]
      },
      {
       "output_type": "stream",
       "stream": "stderr",
       "text": [
        "INFO:interface:stdout 2015-01-08T11:22:06.953317:VersorRigid3DTransform (0x7ff5e1207970)\n"
       ]
      },
      {
       "output_type": "stream",
       "stream": "stderr",
       "text": [
        "INFO:interface:stdout 2015-01-08T11:22:06.953317:  RTTI typeinfo:   itk::VersorRigid3DTransform<double>\n"
       ]
      },
      {
       "output_type": "stream",
       "stream": "stderr",
       "text": [
        "INFO:interface:stdout 2015-01-08T11:22:06.953317:  Reference Count: 2\n"
       ]
      },
      {
       "output_type": "stream",
       "stream": "stderr",
       "text": [
        "INFO:interface:stdout 2015-01-08T11:22:06.953317:  Modified Time: 403160\n"
       ]
      },
      {
       "output_type": "stream",
       "stream": "stderr",
       "text": [
        "INFO:interface:stdout 2015-01-08T11:22:06.953317:  Debug: Off\n"
       ]
      },
      {
       "output_type": "stream",
       "stream": "stderr",
       "text": [
        "INFO:interface:stdout 2015-01-08T11:22:06.953317:  Object Name: \n"
       ]
      },
      {
       "output_type": "stream",
       "stream": "stderr",
       "text": [
        "INFO:interface:stdout 2015-01-08T11:22:06.953317:  Observers: \n"
       ]
      },
      {
       "output_type": "stream",
       "stream": "stderr",
       "text": [
        "INFO:interface:stdout 2015-01-08T11:22:06.953317:    none\n"
       ]
      },
      {
       "output_type": "stream",
       "stream": "stderr",
       "text": [
        "INFO:interface:stdout 2015-01-08T11:22:06.953317:  Matrix: \n"
       ]
      },
      {
       "output_type": "stream",
       "stream": "stderr",
       "text": [
        "INFO:interface:stdout 2015-01-08T11:22:06.953317:    0.99863 0.0520493 -0.0054706 \n"
       ]
      },
      {
       "output_type": "stream",
       "stream": "stderr",
       "text": [
        "INFO:interface:stdout 2015-01-08T11:22:06.953317:    -0.052336 0.993159 -0.104385 \n"
       ]
      },
      {
       "output_type": "stream",
       "stream": "stderr",
       "text": [
        "INFO:interface:stdout 2015-01-08T11:22:06.953317:    4.33681e-19 0.104528 0.994522 \n"
       ]
      },
      {
       "output_type": "stream",
       "stream": "stderr",
       "text": [
        "INFO:interface:stdout 2015-01-08T11:22:06.953317:  Offset: [4.51482, 31.5197, 10.8616]\n"
       ]
      },
      {
       "output_type": "stream",
       "stream": "stderr",
       "text": [
        "INFO:interface:stdout 2015-01-08T11:22:06.953317:  Center: [-4.06168, -10.8725, 2.19632]\n"
       ]
      },
      {
       "output_type": "stream",
       "stream": "stderr",
       "text": [
        "INFO:interface:stdout 2015-01-08T11:22:06.953317:  Translation: [3.94247, 31.5774, 9.71312]\n"
       ]
      },
      {
       "output_type": "stream",
       "stream": "stderr",
       "text": [
        "INFO:interface:stdout 2015-01-08T11:22:06.953317:  Inverse: \n"
       ]
      },
      {
       "output_type": "stream",
       "stream": "stderr",
       "text": [
        "INFO:interface:stdout 2015-01-08T11:22:06.953317:    0.99863 -0.052336 4.33681e-19 \n"
       ]
      },
      {
       "output_type": "stream",
       "stream": "stderr",
       "text": [
        "INFO:interface:stdout 2015-01-08T11:22:06.953317:    0.0520493 0.993159 0.104528 \n"
       ]
      },
      {
       "output_type": "stream",
       "stream": "stderr",
       "text": [
        "INFO:interface:stdout 2015-01-08T11:22:06.953317:    -0.0054706 -0.104385 0.994522 \n"
       ]
      },
      {
       "output_type": "stream",
       "stream": "stderr",
       "text": [
        "INFO:interface:stdout 2015-01-08T11:22:06.953317:  Singular: 0\n"
       ]
      },
      {
       "output_type": "stream",
       "stream": "stderr",
       "text": [
        "INFO:interface:stdout 2015-01-08T11:22:06.953317:  Versor: [ 0.052318, -0.00137, -0.0261411, 0.998287 ]\n"
       ]
      },
      {
       "output_type": "stream",
       "stream": "stderr",
       "text": [
        "INFO:interface:stdout 2015-01-08T11:22:06.953317:\n"
       ]
      },
      {
       "output_type": "stream",
       "stream": "stderr",
       "text": [
        "INFO:interface:stdout 2015-01-08T11:22:06.953317:===============================================\n"
       ]
      },
      {
       "output_type": "stream",
       "stream": "stderr",
       "text": [
        "INFO:interface:stderr 2015-01-08T11:22:06.961651:maskInferiorCutOffFromCenter is 65\n"
       ]
      },
      {
       "output_type": "stream",
       "stream": "stderr",
       "text": [
        "INFO:interface:stdout 2015-01-08T11:22:07.045586:\n"
       ]
      },
      {
       "output_type": "stream",
       "stream": "stderr",
       "text": [
        "INFO:interface:stdout 2015-01-08T11:22:07.045586:\n"
       ]
      },
      {
       "output_type": "stream",
       "stream": "stderr",
       "text": [
        "INFO:interface:stdout 2015-01-08T11:22:07.045586:\n"
       ]
      },
      {
       "output_type": "stream",
       "stream": "stderr",
       "text": [
        "INFO:interface:stdout 2015-01-08T11:22:07.045586:=============================== ITKv4 Registration: Starting Transform Estimations for Rigid(1 of 2).===============================\n"
       ]
      },
      {
       "output_type": "stream",
       "stream": "stderr",
       "text": [
        "INFO:interface:stdout 2015-01-08T11:22:07.045586:\n"
       ]
      },
      {
       "output_type": "stream",
       "stream": "stderr",
       "text": [
        "INFO:interface:stdout 2015-01-08T11:22:07.797301:   0    -0.439435   [ 0.0508733 -0.00106022 -0.0257416 4.01597 31.4327 9.59626 ]\n"
       ]
      },
      {
       "output_type": "stream",
       "stream": "stderr",
       "text": [
        "INFO:interface:stdout 2015-01-08T11:22:07.848574:   1    -0.448909   [ 0.0494417 -0.000357934 -0.0247833 4.08746 31.2765 9.49398 ]\n"
       ]
      },
      {
       "output_type": "stream",
       "stream": "stderr",
       "text": [
        "INFO:interface:stdout 2015-01-08T11:22:07.903517:   2    -0.457452   [ 0.0492232 2.29808e-05 -0.0250755 4.16082 31.1363 9.37161 ]\n"
       ]
      },
      {
       "output_type": "stream",
       "stream": "stderr",
       "text": [
        "INFO:interface:stdout 2015-01-08T11:22:07.958080:   3    -0.464985   [ 0.0484579 0.000228583 -0.025098 4.23224 30.9821 9.26616 ]\n"
       ]
      },
      {
       "output_type": "stream",
       "stream": "stderr",
       "text": [
        "INFO:interface:stdout 2015-01-08T11:22:08.007414:   4     -0.47268   [ 0.0476428 0.000371498 -0.0251489 4.30943 30.8259 9.16808 ]\n"
       ]
      },
      {
       "output_type": "stream",
       "stream": "stderr",
       "text": [
        "INFO:interface:stdout 2015-01-08T11:22:08.057403:   5    -0.480397   [ 0.0478986 0.00128247 -0.0254786 4.36112 30.6749 9.04745 ]\n"
       ]
      },
      {
       "output_type": "stream",
       "stream": "stderr",
       "text": [
        "INFO:interface:stdout 2015-01-08T11:22:08.104429:   6     -0.48834   [ 0.0475471 0.00132303 -0.0256978 4.41344 30.5192 8.93344 ]\n"
       ]
      },
      {
       "output_type": "stream",
       "stream": "stderr",
       "text": [
        "INFO:interface:stdout 2015-01-08T11:22:08.154002:   7    -0.496838   [ 0.0467628 0.00157315 -0.0252815 4.46251 30.3637 8.81762 ]\n"
       ]
      },
      {
       "output_type": "stream",
       "stream": "stderr",
       "text": [
        "INFO:interface:stdout 2015-01-08T11:22:08.205486:   8    -0.505088   [ 0.0471806 0.00157388 -0.0247134 4.51588 30.2106 8.70053 ]\n"
       ]
      },
      {
       "output_type": "stream",
       "stream": "stderr",
       "text": [
        "INFO:interface:stdout 2015-01-08T11:22:08.259053:   9    -0.514542   [ 0.0475972 0.00114006 -0.0235796 4.56539 30.0513 8.59028 ]\n"
       ]
      },
      {
       "output_type": "stream",
       "stream": "stderr",
       "text": [
        "INFO:interface:stdout 2015-01-08T11:22:08.312131:  10    -0.524041   [ 0.0494215 0.00120261 -0.0231766 4.5967 29.8873 8.48018 ]\n"
       ]
      },
      {
       "output_type": "stream",
       "stream": "stderr",
       "text": [
        "INFO:interface:stdout 2015-01-08T11:22:08.363785:  11    -0.534711   [ 0.051289 0.000856722 -0.0233758 4.62538 29.729 8.36139 ]\n"
       ]
      },
      {
       "output_type": "stream",
       "stream": "stderr",
       "text": [
        "INFO:interface:stdout 2015-01-08T11:22:08.415364:  12     -0.54544   [ 0.0539987 0.000947526 -0.0227809 4.64422 29.5658 8.24748 ]\n"
       ]
      },
      {
       "output_type": "stream",
       "stream": "stderr",
       "text": [
        "INFO:interface:stdout 2015-01-08T11:22:08.466115:  13    -0.557574   [ 0.0556705 0.000819565 -0.0217665 4.6857 29.3992 8.14503 ]\n"
       ]
      },
      {
       "output_type": "stream",
       "stream": "stderr",
       "text": [
        "INFO:interface:stdout 2015-01-08T11:22:08.511712:  14    -0.568161   [ 0.057625 0.000589978 -0.0211673 4.71744 29.2318 8.04037 ]\n"
       ]
      },
      {
       "output_type": "stream",
       "stream": "stderr",
       "text": [
        "INFO:interface:stdout 2015-01-08T11:22:08.566517:  15    -0.580162   [ 0.0586478 0.000409497 -0.0208051 4.7559 29.0734 7.92446 ]\n"
       ]
      },
      {
       "output_type": "stream",
       "stream": "stderr",
       "text": [
        "INFO:interface:stdout 2015-01-08T11:22:08.619558:  16    -0.591798   [ 0.0600585 0.000159664 -0.0199699 4.78351 28.9134 7.80777 ]\n"
       ]
      },
      {
       "output_type": "stream",
       "stream": "stderr",
       "text": [
        "INFO:interface:stdout 2015-01-08T11:22:08.672009:  17    -0.604018   [ 0.0612617 0.000746002 -0.0192449 4.80859 28.7519 7.69257 ]\n"
       ]
      },
      {
       "output_type": "stream",
       "stream": "stderr",
       "text": [
        "INFO:interface:stdout 2015-01-08T11:22:08.719295:  18    -0.615831   [ 0.0621266 0.000951951 -0.0187691 4.83723 28.6 7.56562 ]\n"
       ]
      },
      {
       "output_type": "stream",
       "stream": "stderr",
       "text": [
        "INFO:interface:stdout 2015-01-08T11:22:08.769652:  19    -0.627458   [ 0.0631957 0.0012728 -0.018489 4.88108 28.4549 7.43519 ]\n"
       ]
      },
      {
       "output_type": "stream",
       "stream": "stderr",
       "text": [
        "INFO:interface:stdout 2015-01-08T11:22:08.825174:  20    -0.638437   [ 0.0636742 0.00124032 -0.0183392 4.91167 28.2991 7.31351 ]\n"
       ]
      },
      {
       "output_type": "stream",
       "stream": "stderr",
       "text": [
        "INFO:interface:stdout 2015-01-08T11:22:08.874533:  21    -0.648791   [ 0.0642567 0.00141509 -0.0184337 4.94754 28.1429 7.19393 ]\n"
       ]
      },
      {
       "output_type": "stream",
       "stream": "stderr",
       "text": [
        "INFO:interface:stdout 2015-01-08T11:22:08.921829:  22    -0.658725   [ 0.0651093 0.00178437 -0.0188978 4.97387 27.982 7.0781 ]\n"
       ]
      },
      {
       "output_type": "stream",
       "stream": "stderr",
       "text": [
        "INFO:interface:stdout 2015-01-08T11:22:08.972964:  23    -0.667935   [ 0.0651367 0.0016333 -0.0178135 4.98719 27.8224 6.95838 ]\n"
       ]
      },
      {
       "output_type": "stream",
       "stream": "stderr",
       "text": [
        "INFO:interface:stdout 2015-01-08T11:22:09.024123:  24    -0.676107   [ 0.0655291 0.00133792 -0.0174291 5.00377 27.6564 6.84804 ]\n"
       ]
      },
      {
       "output_type": "stream",
       "stream": "stderr",
       "text": [
        "INFO:interface:stdout 2015-01-08T11:22:09.073807:  25    -0.682678   [ 0.0652144 0.00108317 -0.0177742 4.99996 27.4934 6.73223 ]\n"
       ]
      },
      {
       "output_type": "stream",
       "stream": "stderr",
       "text": [
        "INFO:interface:stdout 2015-01-08T11:22:09.125692:  26    -0.688808   [ 0.0655751 0.000744922 -0.0177206 5.01193 27.3032 6.67135 ]\n"
       ]
      },
      {
       "output_type": "stream",
       "stream": "stderr",
       "text": [
        "INFO:interface:stdout 2015-01-08T11:22:09.176113:  27    -0.694138   [ 0.0666082 0.00039192 -0.0172063 5.01337 27.1149 6.60416 ]\n"
       ]
      },
      {
       "output_type": "stream",
       "stream": "stderr",
       "text": [
        "INFO:interface:stdout 2015-01-08T11:22:09.227407:  28    -0.698291   [ 0.0668352 -0.00022441 -0.0170751 5.09198 26.9654 6.497 ]\n"
       ]
      },
      {
       "output_type": "stream",
       "stream": "stderr",
       "text": [
        "INFO:interface:stdout 2015-01-08T11:22:09.280629:  29    -0.701299   [ 0.0686489 -0.000731078 -0.0196583 5.08272 26.7743 6.43921 ]\n"
       ]
      },
      {
       "output_type": "stream",
       "stream": "stderr",
       "text": [
        "INFO:interface:stdout 2015-01-08T11:22:09.331273:  30    -0.700015   [ 0.0576123 0.00195293 -0.00463291 4.90868 26.7841 6.34869 ]\n"
       ]
      },
      {
       "output_type": "stream",
       "stream": "stderr",
       "text": [
        "INFO:interface:stdout 2015-01-08T11:22:09.386599:  31    -0.648267   [ 0.0652445 0.000760758 -0.0167687 4.98693 26.7925 6.40327 ]\n"
       ]
      },
      {
       "output_type": "stream",
       "stream": "stderr",
       "text": [
        "INFO:interface:stdout 2015-01-08T11:22:09.437638:  32     -0.70046   [ 0.0787724 -0.000579708 -0.0183298 5.05098 26.7997 6.47463 ]\n"
       ]
      },
      {
       "output_type": "stream",
       "stream": "stderr",
       "text": [
        "INFO:interface:stdout 2015-01-08T11:22:09.489358:  33    -0.670153   [ 0.0711805 -1.03963e-05 -0.0176554 5.05333 26.7905 6.428 ]\n"
       ]
      },
      {
       "output_type": "stream",
       "stream": "stderr",
       "text": [
        "INFO:interface:stdout 2015-01-08T11:22:09.539076:  34    -0.698493   [ 0.065092 0.000322084 -0.0160522 5.05635 26.7925 6.37976 ]\n"
       ]
      },
      {
       "output_type": "stream",
       "stream": "stderr",
       "text": [
        "INFO:interface:stdout 2015-01-08T11:22:09.592040:  35    -0.700076   [ 0.0676399 0.000193405 -0.0164708 5.06085 26.7872 6.40321 ]\n"
       ]
      },
      {
       "output_type": "stream",
       "stream": "stderr",
       "text": [
        "INFO:interface:stdout 2015-01-08T11:22:09.645101:  36     -0.70256   [ 0.0658396 -0.000676262 -0.0187707 5.04658 26.7807 6.42169 ]\n"
       ]
      },
      {
       "output_type": "stream",
       "stream": "stderr",
       "text": [
        "INFO:interface:stdout 2015-01-08T11:22:09.694526:  37    -0.701377   [ 0.068203 -0.000425816 -0.0176154 5.03922 26.7861 6.44436 ]\n"
       ]
      },
      {
       "output_type": "stream",
       "stream": "stderr",
       "text": [
        "INFO:interface:stdout 2015-01-08T11:22:09.745613:  38    -0.702531   [ 0.0670838 -6.61615e-05 -0.0174229 5.04426 26.7945 6.43695 ]\n"
       ]
      },
      {
       "output_type": "stream",
       "stream": "stderr",
       "text": [
        "INFO:interface:stdout 2015-01-08T11:22:09.796259:  39    -0.702866   [ 0.0670239 -0.000155868 -0.0177052 5.04197 26.7962 6.44246 ]\n"
       ]
      },
      {
       "output_type": "stream",
       "stream": "stderr",
       "text": [
        "INFO:interface:stdout 2015-01-08T11:22:09.853143:  40    -0.702833   [ 0.0670039 -0.000212029 -0.0174652 5.04334 26.7971 6.43982 ]\n"
       ]
      },
      {
       "output_type": "stream",
       "stream": "stderr",
       "text": [
        "INFO:interface:stdout 2015-01-08T11:22:09.903792:  41    -0.702836   [ 0.0670448 -0.000163132 -0.0175557 5.04435 26.7974 6.44093 ]\n"
       ]
      },
      {
       "output_type": "stream",
       "stream": "stderr",
       "text": [
        "INFO:interface:stdout 2015-01-08T11:22:09.960553:  42    -0.702847   [ 0.0669758 -0.000171356 -0.0175072 5.04524 26.7983 6.44191 ]\n"
       ]
      },
      {
       "output_type": "stream",
       "stream": "stderr",
       "text": [
        "INFO:interface:stdout 2015-01-08T11:22:10.011092:  43    -0.702847   [ 0.0671739 -0.000173479 -0.0175934 5.04646 26.7981 6.44277 ]\n"
       ]
      },
      {
       "output_type": "stream",
       "stream": "stderr",
       "text": [
        "INFO:interface:stdout 2015-01-08T11:22:10.061547:  44    -0.702862   [ 0.0670043 -0.00015018 -0.0175335 5.04595 26.7982 6.44231 ]\n"
       ]
      },
      {
       "output_type": "stream",
       "stream": "stderr",
       "text": [
        "INFO:interface:stdout 2015-01-08T11:22:10.113380:  45    -0.702853   [ 0.0670465 -0.000179362 -0.0175303 5.04614 26.7984 6.44261 ]\n"
       ]
      },
      {
       "output_type": "stream",
       "stream": "stderr",
       "text": [
        "INFO:interface:stdout 2015-01-08T11:22:10.165560:  46    -0.702846   [ 0.0670094 -0.000173641 -0.0175294 5.04623 26.7986 6.44291 ]\n"
       ]
      },
      {
       "output_type": "stream",
       "stream": "stderr",
       "text": [
        "INFO:interface:stdout 2015-01-08T11:22:10.219961:  47    -0.702855   [ 0.0670337 -0.000179599 -0.0175342 5.04656 26.7987 6.44307 ]\n"
       ]
      },
      {
       "output_type": "stream",
       "stream": "stderr",
       "text": [
        "INFO:interface:stdout 2015-01-08T11:22:10.269883:  48    -0.702854   [ 0.0669913 -0.000176152 -0.0175264 5.04667 26.7989 6.44334 ]\n"
       ]
      },
      {
       "output_type": "stream",
       "stream": "stderr",
       "text": [
        "INFO:interface:stdout 2015-01-08T11:22:10.320886:  49    -0.702847   [ 0.0670277 -0.000180374 -0.0175336 5.04682 26.7989 6.44329 ]\n"
       ]
      },
      {
       "output_type": "stream",
       "stream": "stderr",
       "text": [
        "INFO:interface:stdout 2015-01-08T11:22:10.378249:  50     -0.70285   [ 0.067015 -0.000179655 -0.0175309 5.04684 26.7989 6.44335 ]\n"
       ]
      },
      {
       "output_type": "stream",
       "stream": "stderr",
       "text": [
        "INFO:interface:stdout 2015-01-08T11:22:10.427587:  51     -0.70285   [ 0.0670191 -0.000180922 -0.0175315 5.04693 26.799 6.44338 ]\n"
       ]
      },
      {
       "output_type": "stream",
       "stream": "stderr",
       "text": [
        "INFO:interface:stdout 2015-01-08T11:22:10.479385:  52    -0.702848   [ 0.0670121 -0.000180625 -0.0175306 5.04699 26.799 6.44343 ]\n"
       ]
      },
      {
       "output_type": "stream",
       "stream": "stderr",
       "text": [
        "INFO:interface:stdout 2015-01-08T11:22:10.532073:  53     -0.70285   [ 0.067026 -0.000182633 -0.017533 5.04707 26.799 6.44341 ]\n"
       ]
      },
      {
       "output_type": "stream",
       "stream": "stderr",
       "text": [
        "INFO:interface:stdout 2015-01-08T11:22:10.583059:Stop condition from optimizer.RegularStepGradientDescentOptimizerv4: Step too small after 54 iterations. Current step (4.88281e-05) is less than minimum step (5e-05).\n"
       ]
      },
      {
       "output_type": "stream",
       "stream": "stderr",
       "text": [
        "INFO:interface:stdout 2015-01-08T11:22:10.583936:\n"
       ]
      },
      {
       "output_type": "stream",
       "stream": "stderr",
       "text": [
        "INFO:interface:stdout 2015-01-08T11:22:10.583936:\n"
       ]
      },
      {
       "output_type": "stream",
       "stream": "stderr",
       "text": [
        "INFO:interface:stdout 2015-01-08T11:22:10.583936:\n"
       ]
      },
      {
       "output_type": "stream",
       "stream": "stderr",
       "text": [
        "INFO:interface:stdout 2015-01-08T11:22:10.583936:=============================== ITKv4 Registration: Starting Transform Estimations for Affine(2 of 2).===============================\n"
       ]
      },
      {
       "output_type": "stream",
       "stream": "stderr",
       "text": [
        "INFO:interface:stdout 2015-01-08T11:22:10.583936:\n"
       ]
      },
      {
       "output_type": "stream",
       "stream": "stderr",
       "text": [
        "INFO:interface:stdout 2015-01-08T11:22:11.403827:   0    -0.702833   [ 0.999765 0.0358203 -0.0023092 -0.0347172 0.991549 -0.132069 -0.00183374 0.134361 0.989066 5.04897 26.8005 6.42902 ]\n"
       ]
      },
      {
       "output_type": "stream",
       "stream": "stderr",
       "text": [
        "INFO:interface:stdout 2015-01-08T11:22:11.536771:   1     -0.70624   [ 1.0003 0.036457 -0.00136955 -0.0337256 0.993373 -0.130164 -0.00145427 0.135127 0.987006 5.10027 26.748 6.45307 ]\n"
       ]
      },
      {
       "output_type": "stream",
       "stream": "stderr",
       "text": [
        "INFO:interface:stdout 2015-01-08T11:22:11.695062:   2    -0.709333   [ 1.00034 0.0364208 -0.00097633 -0.0330726 0.994154 -0.128204 -0.00131251 0.135779 0.98554 4.98346 26.752 6.31067 ]\n"
       ]
      },
      {
       "output_type": "stream",
       "stream": "stderr",
       "text": [
        "INFO:interface:stdout 2015-01-08T11:22:11.857200:   3    -0.711327   [ 1.00059 0.0365712 0.000126618 -0.0315253 0.99587 -0.124247 -0.000783108 0.13712 0.982868 4.86575 26.6876 6.23277 ]\n"
       ]
      },
      {
       "output_type": "stream",
       "stream": "stderr",
       "text": [
        "INFO:interface:stdout 2015-01-08T11:22:12.039093:   4    -0.713381   [ 1.00081 0.0367598 0.000685695 -0.0312296 0.996201 -0.12405 -0.000633237 0.137286 0.98342 5.01215 26.5935 6.36928 ]\n"
       ]
      },
      {
       "output_type": "stream",
       "stream": "stderr",
       "text": [
        "INFO:interface:stdout 2015-01-08T11:22:12.169382:   5     -0.71544   [ 1.00081 0.0368685 0.00088403 -0.0306508 0.99681 -0.123385 -0.00042737 0.137431 0.983358 5.0076 26.6079 6.38834 ]\n"
       ]
      },
      {
       "output_type": "stream",
       "stream": "stderr",
       "text": [
        "INFO:interface:stdout 2015-01-08T11:22:12.323242:   6    -0.715975   [ 1.00075 0.0370552 0.00143718 -0.0291561 0.998333 -0.121493 0.000137142 0.137877 0.98351 4.95489 26.6291 6.44068 ]\n"
       ]
      },
      {
       "output_type": "stream",
       "stream": "stderr",
       "text": [
        "INFO:interface:stdout 2015-01-08T11:22:12.495896:   7    -0.716802   [ 1.00077 0.0370943 0.00142899 -0.0289365 0.998464 -0.121283 0.000230457 0.137866 0.983428 4.98946 26.5857 6.36832 ]\n"
       ]
      },
      {
       "output_type": "stream",
       "stream": "stderr",
       "text": [
        "INFO:interface:stdout 2015-01-08T11:22:12.625709:   8    -0.717274   [ 1.00075 0.0371438 0.00123177 -0.0282515 0.999094 -0.120952 0.000451805 0.137977 0.983673 4.98273 26.4404 6.33786 ]\n"
       ]
      },
      {
       "output_type": "stream",
       "stream": "stderr",
       "text": [
        "INFO:interface:stdout 2015-01-08T11:22:12.780596:   9    -0.717875   [ 1.00067 0.0370572 0.00157409 -0.0276183 0.999755 -0.120189 0.000769443 0.138057 0.984021 4.94937 26.4163 6.39389 ]\n"
       ]
      },
      {
       "output_type": "stream",
       "stream": "stderr",
       "text": [
        "INFO:interface:stdout 2015-01-08T11:22:12.965174:  10    -0.718354   [ 1.00065 0.0369808 0.00181369 -0.0270514 1.00044 -0.119585 0.00105216 0.138105 0.984339 4.94783 26.4259 6.41493 ]\n"
       ]
      },
      {
       "output_type": "stream",
       "stream": "stderr",
       "text": [
        "INFO:interface:stdout 2015-01-08T11:22:13.094129:  11    -0.718522   [ 1.00064 0.0368158 0.00208117 -0.025451 1.00246 -0.118064 0.00182166 0.138176 0.984758 4.97269 26.4817 6.36219 ]\n"
       ]
      },
      {
       "output_type": "stream",
       "stream": "stderr",
       "text": [
        "INFO:interface:stdout 2015-01-08T11:22:13.256346:  12    -0.719087   [ 1.00069 0.0367123 0.0019821 -0.0246951 1.00331 -0.117549 0.00212479 0.138196 0.984749 4.98211 26.4488 6.33385 ]\n"
       ]
      },
      {
       "output_type": "stream",
       "stream": "stderr",
       "text": [
        "INFO:interface:stdout 2015-01-08T11:22:13.419295:  13    -0.719486   [ 1.00071 0.0366776 0.00183477 -0.0244535 1.00348 -0.117583 0.00217971 0.138236 0.984685 4.97465 26.4234 6.35017 ]\n"
       ]
      },
      {
       "output_type": "stream",
       "stream": "stderr",
       "text": [
        "INFO:interface:stdout 2015-01-08T11:22:13.556626:  14    -0.719464   [ 1.00068 0.0366404 0.00169029 -0.0243742 1.00341 -0.117706 0.00216568 0.138294 0.984442 4.96541 26.4253 6.35354 ]\n"
       ]
      },
      {
       "output_type": "stream",
       "stream": "stderr",
       "text": [
        "INFO:interface:stdout 2015-01-08T11:22:13.683828:  15    -0.719618   [ 1.0006 0.0365309 0.00131264 -0.024199 1.00328 -0.117949 0.00211527 0.138416 0.984072 4.95081 26.434 6.34664 ]\n"
       ]
      },
      {
       "output_type": "stream",
       "stream": "stderr",
       "text": [
        "INFO:interface:stdout 2015-01-08T11:22:13.868496:  16      -0.7198   [ 1.0006 0.0364948 0.00126841 -0.0241357 1.00327 -0.117999 0.00209607 0.138435 0.98423 4.96483 26.4297 6.35751 ]\n"
       ]
      },
      {
       "output_type": "stream",
       "stream": "stderr",
       "text": [
        "INFO:interface:stdout 2015-01-08T11:22:14.164788:  17    -0.719831   [ 1.0006 0.0364904 0.00126175 -0.0241269 1.00326 -0.118002 0.00209444 0.138438 0.98424 4.96566 26.4299 6.35737 ]\n"
       ]
      },
      {
       "output_type": "stream",
       "stream": "stderr",
       "text": [
        "INFO:interface:stdout 2015-01-08T11:22:14.348715:  18    -0.719834   [ 1.0006 0.0364892 0.00125943 -0.024124 1.00326 -0.118003 0.00209417 0.138439 0.98424 4.96563 26.4301 6.35694 ]\n"
       ]
      },
      {
       "output_type": "stream",
       "stream": "stderr",
       "text": [
        "INFO:interface:stdout 2015-01-08T11:22:14.484763:  19    -0.719833   [ 1.00059 0.0364872 0.00125563 -0.0241194 1.00326 -0.118003 0.00209372 0.13844 0.984241 4.96559 26.4304 6.35626 ]\n"
       ]
      },
      {
       "output_type": "stream",
       "stream": "stderr",
       "text": [
        "INFO:interface:stdout 2015-01-08T11:22:14.643107:  20    -0.719834   [ 1.00059 0.0364855 0.00125236 -0.0241153 1.00326 -0.118004 0.00209331 0.138442 0.984241 4.96556 26.4306 6.35573 ]\n"
       ]
      },
      {
       "output_type": "stream",
       "stream": "stderr",
       "text": [
        "INFO:interface:stdout 2015-01-08T11:22:14.783906:  21    -0.719836   [ 1.00059 0.0364826 0.0012469 -0.0241083 1.00326 -0.118006 0.0020926 0.138444 0.984242 4.96555 26.431 6.35493 ]\n"
       ]
      },
      {
       "output_type": "stream",
       "stream": "stderr",
       "text": [
        "INFO:interface:stdout 2015-01-08T11:22:14.943363:  22    -0.719843   [ 1.00059 0.0364792 0.00124054 -0.0241 1.00326 -0.118008 0.00209173 0.138447 0.984244 4.96557 26.4314 6.35415 ]\n"
       ]
      },
      {
       "output_type": "stream",
       "stream": "stderr",
       "text": [
        "INFO:interface:stdout 2015-01-08T11:22:15.072159:  23    -0.719845   [ 1.00058 0.0364734 0.00122997 -0.024086 1.00326 -0.118013 0.00209022 0.138451 0.984249 4.96566 26.4319 6.35309 ]\n"
       ]
      },
      {
       "output_type": "stream",
       "stream": "stderr",
       "text": [
        "INFO:interface:stdout 2015-01-08T11:22:15.256008:  24    -0.719851   [ 1.00058 0.0364709 0.00122526 -0.0240796 1.00325 -0.118015 0.00208953 0.138453 0.984252 4.96574 26.4321 6.35277 ]\n"
       ]
      },
      {
       "output_type": "stream",
       "stream": "stderr",
       "text": [
        "INFO:interface:stdout 2015-01-08T11:22:15.384084:  25    -0.719854   [ 1.00058 0.0364667 0.00121735 -0.0240689 1.00325 -0.118019 0.00208836 0.138457 0.984256 4.96588 26.4323 6.3523 ]\n"
       ]
      },
      {
       "output_type": "stream",
       "stream": "stderr",
       "text": [
        "INFO:interface:stdout 2015-01-08T11:22:15.541713:  26    -0.719854   [ 1.00057 0.0364607 0.00120617 -0.0240535 1.00325 -0.118025 0.00208674 0.138461 0.984262 4.9661 26.4325 6.35178 ]\n"
       ]
      },
      {
       "output_type": "stream",
       "stream": "stderr",
       "text": [
        "INFO:interface:stdout 2015-01-08T11:22:15.695808:  27    -0.719858   [ 1.00057 0.0364568 0.00119904 -0.0240437 1.00325 -0.118029 0.00208573 0.138464 0.984266 4.96626 26.4326 6.35154 ]\n"
       ]
      },
      {
       "output_type": "stream",
       "stream": "stderr",
       "text": [
        "INFO:interface:stdout 2015-01-08T11:22:15.856091:  28    -0.719859   [ 1.00057 0.0364535 0.00119282 -0.024035 1.00325 -0.118033 0.00208488 0.138467 0.984269 4.9664 26.4327 6.35136 ]\n"
       ]
      },
      {
       "output_type": "stream",
       "stream": "stderr",
       "text": [
        "INFO:interface:stdout 2015-01-08T11:22:15.901284:Stop condition from optimizer.ConjugateGradientLineSearchOptimizerv4Template: Convergence checker passed at iteration 29.\n"
       ]
      },
      {
       "output_type": "stream",
       "stream": "stderr",
       "text": [
        "INFO:workflow:Executing node GetRigidTransformInverse in dir: /scratch/TESTS/IpythonNotebook/1_DWI_Nipype_workflow/DWIWorkflow_823955340_20080609_30/GetRigidTransformInverse\n"
       ]
      },
      {
       "output_type": "stream",
       "stream": "stderr",
       "text": [
        "INFO:workflow:Executing node ResampleToB0Space in dir: /scratch/TESTS/IpythonNotebook/1_DWI_Nipype_workflow/DWIWorkflow_823955340_20080609_30/ResampleToB0Space\n"
       ]
      },
      {
       "output_type": "stream",
       "stream": "stderr",
       "text": [
        "INFO:workflow:Executing node _ResampleToB0Space0 in dir: /scratch/TESTS/IpythonNotebook/1_DWI_Nipype_workflow/DWIWorkflow_823955340_20080609_30/ResampleToB0Space/mapflow/_ResampleToB0Space0\n"
       ]
      },
      {
       "output_type": "stream",
       "stream": "stderr",
       "text": [
        "INFO:workflow:Running:  BRAINSResample  --inputVolume /Volumes/scratch/TESTS/IpythonNotebook/1_DWI_Nipype_workflow/DWIWorkflow_823955340_20080609_30/ExtractBRAINFromHead/T2Stripped.nrrd --interpolationMode Linear --outputVolume T2toB0.nrrd --pixelType ushort --referenceVolume /Volumes/scratch/TESTS/IpythonNotebook/1_DWI_Nipype_workflow/DWIWorkflow_823955340_20080609_30/EXTRACT_B0/B0_Image.nrrd --warpTransform /Volumes/scratch/TESTS/IpythonNotebook/1_DWI_Nipype_workflow/DWIWorkflow_823955340_20080609_30/BFit_T2toB0/T2ToB0_RigidTransform.h5\n"
       ]
      },
      {
       "output_type": "stream",
       "stream": "stderr",
       "text": [
        "INFO:interface:stdout 2015-01-08T11:22:16.712640:=====================================================\n"
       ]
      },
      {
       "output_type": "stream",
       "stream": "stderr",
       "text": [
        "INFO:interface:stdout 2015-01-08T11:22:16.712640:Input Volume:     /Volumes/scratch/TESTS/IpythonNotebook/1_DWI_Nipype_workflow/DWIWorkflow_823955340_20080609_30/ExtractBRAINFromHead/T2Stripped.nrrd\n"
       ]
      },
      {
       "output_type": "stream",
       "stream": "stderr",
       "text": [
        "INFO:interface:stdout 2015-01-08T11:22:16.712640:Reference Volume: /Volumes/scratch/TESTS/IpythonNotebook/1_DWI_Nipype_workflow/DWIWorkflow_823955340_20080609_30/EXTRACT_B0/B0_Image.nrrd\n"
       ]
      },
      {
       "output_type": "stream",
       "stream": "stderr",
       "text": [
        "INFO:interface:stdout 2015-01-08T11:22:16.712640:Output Volume:    T2toB0.nrrd\n"
       ]
      },
      {
       "output_type": "stream",
       "stream": "stderr",
       "text": [
        "INFO:interface:stdout 2015-01-08T11:22:16.712640:Pixel Type:       ushort\n"
       ]
      },
      {
       "output_type": "stream",
       "stream": "stderr",
       "text": [
        "INFO:interface:stdout 2015-01-08T11:22:16.712640:Interpolation:    Linear\n"
       ]
      },
      {
       "output_type": "stream",
       "stream": "stderr",
       "text": [
        "INFO:interface:stdout 2015-01-08T11:22:16.712640:Background Value: 0\n"
       ]
      },
      {
       "output_type": "stream",
       "stream": "stderr",
       "text": [
        "INFO:interface:stdout 2015-01-08T11:22:16.716454:Warp By Transform: /Volumes/scratch/TESTS/IpythonNotebook/1_DWI_Nipype_workflow/DWIWorkflow_823955340_20080609_30/BFit_T2toB0/T2ToB0_RigidTransform.h5\n"
       ]
      },
      {
       "output_type": "stream",
       "stream": "stderr",
       "text": [
        "INFO:interface:stdout 2015-01-08T11:22:16.716454:=====================================================\n"
       ]
      },
      {
       "output_type": "stream",
       "stream": "stderr",
       "text": [
        "INFO:interface:stdout 2015-01-08T11:22:16.801840:Read ITK transform from file: /Volumes/scratch/TESTS/IpythonNotebook/1_DWI_Nipype_workflow/DWIWorkflow_823955340_20080609_30/BFit_T2toB0/T2ToB0_RigidTransform.h5\n"
       ]
      },
      {
       "output_type": "stream",
       "stream": "stderr",
       "text": [
        "INFO:interface:stdout 2015-01-08T11:22:16.893695:HACK: 0  VersorRigid3DTransform\n"
       ]
      },
      {
       "output_type": "stream",
       "stream": "stderr",
       "text": [
        "INFO:workflow:Executing node _ResampleToB0Space1 in dir: /scratch/TESTS/IpythonNotebook/1_DWI_Nipype_workflow/DWIWorkflow_823955340_20080609_30/ResampleToB0Space/mapflow/_ResampleToB0Space1\n"
       ]
      },
      {
       "output_type": "stream",
       "stream": "stderr",
       "text": [
        "INFO:workflow:Running:  BRAINSResample  --inputVolume /Shared/sinapse/CACHE/20141124_TrackOn_base_Results/HDNI_003/823955340/823955340_20080609_30/TissueClassify/complete_brainlabels_seg.nii.gz --interpolationMode NearestNeighbor --outputVolume BRAINMaskToB0.nrrd --pixelType binary --referenceVolume /Volumes/scratch/TESTS/IpythonNotebook/1_DWI_Nipype_workflow/DWIWorkflow_823955340_20080609_30/EXTRACT_B0/B0_Image.nrrd --warpTransform /Volumes/scratch/TESTS/IpythonNotebook/1_DWI_Nipype_workflow/DWIWorkflow_823955340_20080609_30/BFit_T2toB0/T2ToB0_RigidTransform.h5\n"
       ]
      },
      {
       "output_type": "stream",
       "stream": "stderr",
       "text": [
        "INFO:interface:stdout 2015-01-08T11:22:17.060336:=====================================================\n"
       ]
      },
      {
       "output_type": "stream",
       "stream": "stderr",
       "text": [
        "INFO:interface:stdout 2015-01-08T11:22:17.060336:Input Volume:     /Shared/sinapse/CACHE/20141124_TrackOn_base_Results/HDNI_003/823955340/823955340_20080609_30/TissueClassify/complete_brainlabels_seg.nii.gz\n"
       ]
      },
      {
       "output_type": "stream",
       "stream": "stderr",
       "text": [
        "INFO:interface:stdout 2015-01-08T11:22:17.060336:Reference Volume: /Volumes/scratch/TESTS/IpythonNotebook/1_DWI_Nipype_workflow/DWIWorkflow_823955340_20080609_30/EXTRACT_B0/B0_Image.nrrd\n"
       ]
      },
      {
       "output_type": "stream",
       "stream": "stderr",
       "text": [
        "INFO:interface:stdout 2015-01-08T11:22:17.060336:Output Volume:    BRAINMaskToB0.nrrd\n"
       ]
      },
      {
       "output_type": "stream",
       "stream": "stderr",
       "text": [
        "INFO:interface:stdout 2015-01-08T11:22:17.060336:Pixel Type:       binary\n"
       ]
      },
      {
       "output_type": "stream",
       "stream": "stderr",
       "text": [
        "INFO:interface:stdout 2015-01-08T11:22:17.060336:Interpolation:    NearestNeighbor\n"
       ]
      },
      {
       "output_type": "stream",
       "stream": "stderr",
       "text": [
        "INFO:interface:stdout 2015-01-08T11:22:17.060336:Background Value: 0\n"
       ]
      },
      {
       "output_type": "stream",
       "stream": "stderr",
       "text": [
        "INFO:interface:stdout 2015-01-08T11:22:17.064445:Warp By Transform: /Volumes/scratch/TESTS/IpythonNotebook/1_DWI_Nipype_workflow/DWIWorkflow_823955340_20080609_30/BFit_T2toB0/T2ToB0_RigidTransform.h5\n"
       ]
      },
      {
       "output_type": "stream",
       "stream": "stderr",
       "text": [
        "INFO:interface:stdout 2015-01-08T11:22:17.064445:=====================================================\n"
       ]
      },
      {
       "output_type": "stream",
       "stream": "stderr",
       "text": [
        "INFO:interface:stdout 2015-01-08T11:22:17.161891:Read ITK transform from file: /Volumes/scratch/TESTS/IpythonNotebook/1_DWI_Nipype_workflow/DWIWorkflow_823955340_20080609_30/BFit_T2toB0/T2ToB0_RigidTransform.h5\n"
       ]
      },
      {
       "output_type": "stream",
       "stream": "stderr",
       "text": [
        "INFO:interface:stdout 2015-01-08T11:22:17.168436:HACK: 0  VersorRigid3DTransform\n"
       ]
      },
      {
       "output_type": "stream",
       "stream": "stderr",
       "text": [
        "INFO:interface:stdout 2015-01-08T11:22:17.168436:WARNING:  Using NearestNeighbor and SignedDistance\n"
       ]
      },
      {
       "output_type": "stream",
       "stream": "stderr",
       "text": [
        "INFO:interface:stdout 2015-01-08T11:22:17.168436:          for binary images is an unlikely combination.\n"
       ]
      },
      {
       "output_type": "stream",
       "stream": "stderr",
       "text": [
        "INFO:interface:stdout 2015-01-08T11:22:17.169915:          you probably want Linear interpolationMode for\n"
       ]
      },
      {
       "output_type": "stream",
       "stream": "stderr",
       "text": [
        "INFO:interface:stdout 2015-01-08T11:22:17.169915:          the signed distance map implied by your choice\n"
       ]
      },
      {
       "output_type": "stream",
       "stream": "stderr",
       "text": [
        "INFO:interface:stdout 2015-01-08T11:22:17.169915:          of pixelType binary.\n"
       ]
      },
      {
       "output_type": "stream",
       "stream": "stderr",
       "text": [
        "INFO:workflow:Executing node CreateAntsRegistrationMask in dir: /scratch/TESTS/IpythonNotebook/1_DWI_Nipype_workflow/DWIWorkflow_823955340_20080609_30/CreateAntsRegistrationMask\n"
       ]
      },
      {
       "output_type": "stream",
       "stream": "stderr",
       "text": [
        "INFO:workflow:Executing node SaveDirectionCosineToMatrix in dir: /scratch/TESTS/IpythonNotebook/1_DWI_Nipype_workflow/DWIWorkflow_823955340_20080609_30/SaveDirectionCosineToMatrix\n"
       ]
      },
      {
       "output_type": "stream",
       "stream": "stderr",
       "text": [
        "INFO:workflow:Executing node MakeForceDCFilesListNode in dir: /scratch/TESTS/IpythonNotebook/1_DWI_Nipype_workflow/DWIWorkflow_823955340_20080609_30/MakeForceDCFilesListNode\n"
       ]
      },
      {
       "output_type": "stream",
       "stream": "stderr",
       "text": [
        "INFO:workflow:Executing node ForceDCtoID in dir: /scratch/TESTS/IpythonNotebook/1_DWI_Nipype_workflow/DWIWorkflow_823955340_20080609_30/ForceDCtoID\n"
       ]
      },
      {
       "output_type": "stream",
       "stream": "stderr",
       "text": [
        "INFO:workflow:Executing node _ForceDCtoID0 in dir: /scratch/TESTS/IpythonNotebook/1_DWI_Nipype_workflow/DWIWorkflow_823955340_20080609_30/ForceDCtoID/mapflow/_ForceDCtoID0\n"
       ]
      },
      {
       "output_type": "stream",
       "stream": "stderr",
       "text": [
        "INFO:workflow:Executing node _ForceDCtoID1 in dir: /scratch/TESTS/IpythonNotebook/1_DWI_Nipype_workflow/DWIWorkflow_823955340_20080609_30/ForceDCtoID/mapflow/_ForceDCtoID1\n"
       ]
      },
      {
       "output_type": "stream",
       "stream": "stderr",
       "text": [
        "INFO:workflow:Executing node _ForceDCtoID2 in dir: /scratch/TESTS/IpythonNotebook/1_DWI_Nipype_workflow/DWIWorkflow_823955340_20080609_30/ForceDCtoID/mapflow/_ForceDCtoID2\n"
       ]
      },
      {
       "output_type": "stream",
       "stream": "stderr",
       "text": [
        "INFO:workflow:Executing node antsReg_B0ToTransformedT2 in dir: /scratch/TESTS/IpythonNotebook/1_DWI_Nipype_workflow/DWIWorkflow_823955340_20080609_30/antsReg_B0ToTransformedT2\n"
       ]
      },
      {
       "output_type": "stream",
       "stream": "stderr",
       "text": [
        "INFO:workflow:Running: antsRegistration --float 1 --restrict-deformation 0x1x0 --collapse-output-transforms 0 --dimensionality 3 --masks /Volumes/scratch/TESTS/IpythonNotebook/1_DWI_Nipype_workflow/DWIWorkflow_823955340_20080609_30/ForceDCtoID/mapflow/_ForceDCtoID2/IDDC_registrationMask.nrrd --initialize-transforms-per-stage 0 --interpolation Linear --output Tsyn --transform SyN[ 0.25, 3.0, 0.0 ] --metric MI[ /Volumes/scratch/TESTS/IpythonNotebook/1_DWI_Nipype_workflow/DWIWorkflow_823955340_20080609_30/ForceDCtoID/mapflow/_ForceDCtoID1/IDDC_T2toB0.nrrd, /Volumes/scratch/TESTS/IpythonNotebook/1_DWI_Nipype_workflow/DWIWorkflow_823955340_20080609_30/ForceDCtoID/mapflow/_ForceDCtoID0/IDDC_B0_Image.nrrd, 1, 32, None, 1 ] --convergence [ 70x50x40, 1e-06, 10 ] --smoothing-sigmas 2.0x1.0x0.0vox --shrink-factors 3x2x1 --use-estimate-learning-rate-once 0 --use-histogram-matching 1 --winsorize-image-intensities [ 0.01, 0.99 ]  --write-composite-transform 1\n"
       ]
      },
      {
       "output_type": "stream",
       "stream": "stderr",
       "text": [
        "INFO:interface:stdout 2015-01-08T11:22:18.850508:All_Command_lines_OK\n"
       ]
      },
      {
       "output_type": "stream",
       "stream": "stderr",
       "text": [
        "INFO:interface:stdout 2015-01-08T11:22:18.850508:Using single precision for computations.\n"
       ]
      },
      {
       "output_type": "stream",
       "stream": "stderr",
       "text": [
        "INFO:interface:stdout 2015-01-08T11:22:18.941127:  number of levels = 3\n"
       ]
      },
      {
       "output_type": "stream",
       "stream": "stderr",
       "text": [
        "INFO:interface:stdout 2015-01-08T11:22:18.942039:  fixed image: /Volumes/scratch/TESTS/IpythonNotebook/1_DWI_Nipype_workflow/DWIWorkflow_823955340_20080609_30/ForceDCtoID/mapflow/_ForceDCtoID1/IDDC_T2toB0.nrrd\n"
       ]
      },
      {
       "output_type": "stream",
       "stream": "stderr",
       "text": [
        "INFO:interface:stdout 2015-01-08T11:22:18.942039:  moving image: /Volumes/scratch/TESTS/IpythonNotebook/1_DWI_Nipype_workflow/DWIWorkflow_823955340_20080609_30/ForceDCtoID/mapflow/_ForceDCtoID0/IDDC_B0_Image.nrrd\n"
       ]
      },
      {
       "output_type": "stream",
       "stream": "stderr",
       "text": [
        "INFO:interface:stdout 2015-01-08T11:22:18.958669:Dimension = 3\n"
       ]
      },
      {
       "output_type": "stream",
       "stream": "stderr",
       "text": [
        "INFO:interface:stdout 2015-01-08T11:22:18.958669:Number of stages = 1\n"
       ]
      },
      {
       "output_type": "stream",
       "stream": "stderr",
       "text": [
        "INFO:interface:stdout 2015-01-08T11:22:18.958669:Use Histogram Matching true\n"
       ]
      },
      {
       "output_type": "stream",
       "stream": "stderr",
       "text": [
        "INFO:interface:stdout 2015-01-08T11:22:18.958669:Winsorize image intensities false\n"
       ]
      },
      {
       "output_type": "stream",
       "stream": "stderr",
       "text": [
        "INFO:interface:stdout 2015-01-08T11:22:18.960236:Lower quantile = 0\n"
       ]
      },
      {
       "output_type": "stream",
       "stream": "stderr",
       "text": [
        "INFO:interface:stdout 2015-01-08T11:22:18.960236:Upper quantile = 1\n"
       ]
      },
      {
       "output_type": "stream",
       "stream": "stderr",
       "text": [
        "INFO:interface:stdout 2015-01-08T11:22:18.960236:Stage 1 State\n"
       ]
      },
      {
       "output_type": "stream",
       "stream": "stderr",
       "text": [
        "INFO:interface:stdout 2015-01-08T11:22:18.960236:   Image metric = Mattes\n"
       ]
      },
      {
       "output_type": "stream",
       "stream": "stderr",
       "text": [
        "INFO:interface:stdout 2015-01-08T11:22:18.960236:     Fixed image = Image (0x7fa0a2fdf460)\n"
       ]
      },
      {
       "output_type": "stream",
       "stream": "stderr",
       "text": [
        "INFO:interface:stdout 2015-01-08T11:22:18.960236:  RTTI typeinfo:   itk::Image<float, 3u>\n"
       ]
      },
      {
       "output_type": "stream",
       "stream": "stderr",
       "text": [
        "INFO:interface:stdout 2015-01-08T11:22:18.960236:  Reference Count: 2\n"
       ]
      },
      {
       "output_type": "stream",
       "stream": "stderr",
       "text": [
        "INFO:interface:stdout 2015-01-08T11:22:18.960236:  Modified Time: 979\n"
       ]
      },
      {
       "output_type": "stream",
       "stream": "stderr",
       "text": [
        "INFO:interface:stdout 2015-01-08T11:22:18.960236:  Debug: Off\n"
       ]
      },
      {
       "output_type": "stream",
       "stream": "stderr",
       "text": [
        "INFO:interface:stdout 2015-01-08T11:22:18.960236:  Object Name: \n"
       ]
      },
      {
       "output_type": "stream",
       "stream": "stderr",
       "text": [
        "INFO:interface:stdout 2015-01-08T11:22:18.960236:  Observers: \n"
       ]
      },
      {
       "output_type": "stream",
       "stream": "stderr",
       "text": [
        "INFO:interface:stdout 2015-01-08T11:22:18.960236:    none\n"
       ]
      },
      {
       "output_type": "stream",
       "stream": "stderr",
       "text": [
        "INFO:interface:stdout 2015-01-08T11:22:18.960236:  Source: (none)\n"
       ]
      },
      {
       "output_type": "stream",
       "stream": "stderr",
       "text": [
        "INFO:interface:stdout 2015-01-08T11:22:18.960236:  Source output name: (none)\n"
       ]
      },
      {
       "output_type": "stream",
       "stream": "stderr",
       "text": [
        "INFO:interface:stdout 2015-01-08T11:22:18.960236:  Release Data: Off\n"
       ]
      },
      {
       "output_type": "stream",
       "stream": "stderr",
       "text": [
        "INFO:interface:stdout 2015-01-08T11:22:18.960236:  Data Released: False\n"
       ]
      },
      {
       "output_type": "stream",
       "stream": "stderr",
       "text": [
        "INFO:interface:stdout 2015-01-08T11:22:18.960236:  Global Release Data: Off\n"
       ]
      },
      {
       "output_type": "stream",
       "stream": "stderr",
       "text": [
        "INFO:interface:stdout 2015-01-08T11:22:18.960236:  PipelineMTime: 0\n"
       ]
      },
      {
       "output_type": "stream",
       "stream": "stderr",
       "text": [
        "INFO:interface:stdout 2015-01-08T11:22:18.960236:  UpdateMTime: 796\n"
       ]
      },
      {
       "output_type": "stream",
       "stream": "stderr",
       "text": [
        "INFO:interface:stdout 2015-01-08T11:22:18.960236:  RealTimeStamp: 0 seconds \n"
       ]
      },
      {
       "output_type": "stream",
       "stream": "stderr",
       "text": [
        "INFO:interface:stdout 2015-01-08T11:22:18.960236:  LargestPossibleRegion: \n"
       ]
      },
      {
       "output_type": "stream",
       "stream": "stderr",
       "text": [
        "INFO:interface:stdout 2015-01-08T11:22:18.960236:    Dimension: 3\n"
       ]
      },
      {
       "output_type": "stream",
       "stream": "stderr",
       "text": [
        "INFO:interface:stdout 2015-01-08T11:22:18.960236:    Index: [0, 0, 0]\n"
       ]
      },
      {
       "output_type": "stream",
       "stream": "stderr",
       "text": [
        "INFO:interface:stdout 2015-01-08T11:22:18.960236:    Size: [112, 112, 64]\n"
       ]
      },
      {
       "output_type": "stream",
       "stream": "stderr",
       "text": [
        "INFO:interface:stdout 2015-01-08T11:22:18.960236:  BufferedRegion: \n"
       ]
      },
      {
       "output_type": "stream",
       "stream": "stderr",
       "text": [
        "INFO:interface:stdout 2015-01-08T11:22:18.960236:    Dimension: 3\n"
       ]
      },
      {
       "output_type": "stream",
       "stream": "stderr",
       "text": [
        "INFO:interface:stdout 2015-01-08T11:22:18.960236:    Index: [0, 0, 0]\n"
       ]
      },
      {
       "output_type": "stream",
       "stream": "stderr",
       "text": [
        "INFO:interface:stdout 2015-01-08T11:22:18.960236:    Size: [112, 112, 64]\n"
       ]
      },
      {
       "output_type": "stream",
       "stream": "stderr",
       "text": [
        "INFO:interface:stdout 2015-01-08T11:22:18.960236:  RequestedRegion: \n"
       ]
      },
      {
       "output_type": "stream",
       "stream": "stderr",
       "text": [
        "INFO:interface:stdout 2015-01-08T11:22:18.960236:    Dimension: 3\n"
       ]
      },
      {
       "output_type": "stream",
       "stream": "stderr",
       "text": [
        "INFO:interface:stdout 2015-01-08T11:22:18.960236:    Index: [0, 0, 0]\n"
       ]
      },
      {
       "output_type": "stream",
       "stream": "stderr",
       "text": [
        "INFO:interface:stdout 2015-01-08T11:22:18.960236:    Size: [112, 112, 64]\n"
       ]
      },
      {
       "output_type": "stream",
       "stream": "stderr",
       "text": [
        "INFO:interface:stdout 2015-01-08T11:22:18.960236:  Spacing: [1.96429, 1.96429, 2]\n"
       ]
      },
      {
       "output_type": "stream",
       "stream": "stderr",
       "text": [
        "INFO:interface:stdout 2015-01-08T11:22:18.960236:  Origin: [-109.009, -109.767, -56.6923]\n"
       ]
      },
      {
       "output_type": "stream",
       "stream": "stderr",
       "text": [
        "INFO:interface:stdout 2015-01-08T11:22:18.960236:  Direction: \n"
       ]
      },
      {
       "output_type": "stream",
       "stream": "stderr",
       "text": [
        "INFO:interface:stdout 2015-01-08T11:22:18.960236:1 0 0\n"
       ]
      },
      {
       "output_type": "stream",
       "stream": "stderr",
       "text": [
        "INFO:interface:stdout 2015-01-08T11:22:18.960236:0 1 0\n"
       ]
      },
      {
       "output_type": "stream",
       "stream": "stderr",
       "text": [
        "INFO:interface:stdout 2015-01-08T11:22:18.960236:0 0 1\n"
       ]
      },
      {
       "output_type": "stream",
       "stream": "stderr",
       "text": [
        "INFO:interface:stdout 2015-01-08T11:22:18.960236:\n"
       ]
      },
      {
       "output_type": "stream",
       "stream": "stderr",
       "text": [
        "INFO:interface:stdout 2015-01-08T11:22:18.960236:  IndexToPointMatrix: \n"
       ]
      },
      {
       "output_type": "stream",
       "stream": "stderr",
       "text": [
        "INFO:interface:stdout 2015-01-08T11:22:18.960236:1.96429 0 0\n"
       ]
      },
      {
       "output_type": "stream",
       "stream": "stderr",
       "text": [
        "INFO:interface:stdout 2015-01-08T11:22:18.960236:0 1.96429 0\n"
       ]
      },
      {
       "output_type": "stream",
       "stream": "stderr",
       "text": [
        "INFO:interface:stdout 2015-01-08T11:22:18.960236:0 0 2\n"
       ]
      },
      {
       "output_type": "stream",
       "stream": "stderr",
       "text": [
        "INFO:interface:stdout 2015-01-08T11:22:18.960236:\n"
       ]
      },
      {
       "output_type": "stream",
       "stream": "stderr",
       "text": [
        "INFO:interface:stdout 2015-01-08T11:22:18.960236:  PointToIndexMatrix: \n"
       ]
      },
      {
       "output_type": "stream",
       "stream": "stderr",
       "text": [
        "INFO:interface:stdout 2015-01-08T11:22:18.960236:0.509091 0 0\n"
       ]
      },
      {
       "output_type": "stream",
       "stream": "stderr",
       "text": [
        "INFO:interface:stdout 2015-01-08T11:22:18.960236:0 0.509091 0\n"
       ]
      },
      {
       "output_type": "stream",
       "stream": "stderr",
       "text": [
        "INFO:interface:stdout 2015-01-08T11:22:18.960236:0 0 0.5\n"
       ]
      },
      {
       "output_type": "stream",
       "stream": "stderr",
       "text": [
        "INFO:interface:stdout 2015-01-08T11:22:18.960236:\n"
       ]
      },
      {
       "output_type": "stream",
       "stream": "stderr",
       "text": [
        "INFO:interface:stdout 2015-01-08T11:22:18.960236:  Inverse Direction: \n"
       ]
      },
      {
       "output_type": "stream",
       "stream": "stderr",
       "text": [
        "INFO:interface:stdout 2015-01-08T11:22:18.960236:1 0 0\n"
       ]
      },
      {
       "output_type": "stream",
       "stream": "stderr",
       "text": [
        "INFO:interface:stdout 2015-01-08T11:22:18.960236:0 1 0\n"
       ]
      },
      {
       "output_type": "stream",
       "stream": "stderr",
       "text": [
        "INFO:interface:stdout 2015-01-08T11:22:18.960236:0 0 1\n"
       ]
      },
      {
       "output_type": "stream",
       "stream": "stderr",
       "text": [
        "INFO:interface:stdout 2015-01-08T11:22:18.960236:\n"
       ]
      },
      {
       "output_type": "stream",
       "stream": "stderr",
       "text": [
        "INFO:interface:stdout 2015-01-08T11:22:18.960236:  PixelContainer: \n"
       ]
      },
      {
       "output_type": "stream",
       "stream": "stderr",
       "text": [
        "INFO:interface:stdout 2015-01-08T11:22:18.960236:    ImportImageContainer (0x7fa0a2fdf2a0)\n"
       ]
      },
      {
       "output_type": "stream",
       "stream": "stderr",
       "text": [
        "INFO:interface:stdout 2015-01-08T11:22:18.960236:      RTTI typeinfo:   itk::ImportImageContainer<unsigned long, float>\n"
       ]
      },
      {
       "output_type": "stream",
       "stream": "stderr",
       "text": [
        "INFO:interface:stdout 2015-01-08T11:22:18.960236:      Reference Count: 1\n"
       ]
      },
      {
       "output_type": "stream",
       "stream": "stderr",
       "text": [
        "INFO:interface:stdout 2015-01-08T11:22:18.960236:      Modified Time: 793\n"
       ]
      },
      {
       "output_type": "stream",
       "stream": "stderr",
       "text": [
        "INFO:interface:stdout 2015-01-08T11:22:18.960236:      Debug: Off\n"
       ]
      },
      {
       "output_type": "stream",
       "stream": "stderr",
       "text": [
        "INFO:interface:stdout 2015-01-08T11:22:18.960236:      Object Name: \n"
       ]
      },
      {
       "output_type": "stream",
       "stream": "stderr",
       "text": [
        "INFO:interface:stdout 2015-01-08T11:22:18.960236:      Observers: \n"
       ]
      },
      {
       "output_type": "stream",
       "stream": "stderr",
       "text": [
        "INFO:interface:stdout 2015-01-08T11:22:18.960236:        none\n"
       ]
      },
      {
       "output_type": "stream",
       "stream": "stderr",
       "text": [
        "INFO:interface:stdout 2015-01-08T11:22:18.960236:      Pointer: 0x1061a2000\n"
       ]
      },
      {
       "output_type": "stream",
       "stream": "stderr",
       "text": [
        "INFO:interface:stdout 2015-01-08T11:22:18.960236:      Container manages memory: true\n"
       ]
      },
      {
       "output_type": "stream",
       "stream": "stderr",
       "text": [
        "INFO:interface:stdout 2015-01-08T11:22:18.960236:      Size: 802816\n"
       ]
      },
      {
       "output_type": "stream",
       "stream": "stderr",
       "text": [
        "INFO:interface:stdout 2015-01-08T11:22:18.960236:      Capacity: 802816\n"
       ]
      },
      {
       "output_type": "stream",
       "stream": "stderr",
       "text": [
        "INFO:interface:stdout 2015-01-08T11:22:18.960236:\n"
       ]
      },
      {
       "output_type": "stream",
       "stream": "stderr",
       "text": [
        "INFO:interface:stdout 2015-01-08T11:22:18.960236:     Moving image = Image (0x7fa0a2fdbaa0)\n"
       ]
      },
      {
       "output_type": "stream",
       "stream": "stderr",
       "text": [
        "INFO:interface:stdout 2015-01-08T11:22:18.960236:  RTTI typeinfo:   itk::Image<float, 3u>\n"
       ]
      },
      {
       "output_type": "stream",
       "stream": "stderr",
       "text": [
        "INFO:interface:stdout 2015-01-08T11:22:18.960236:  Reference Count: 2\n"
       ]
      },
      {
       "output_type": "stream",
       "stream": "stderr",
       "text": [
        "INFO:interface:stdout 2015-01-08T11:22:18.960236:  Modified Time: 980\n"
       ]
      },
      {
       "output_type": "stream",
       "stream": "stderr",
       "text": [
        "INFO:interface:stdout 2015-01-08T11:22:18.960236:  Debug: Off\n"
       ]
      },
      {
       "output_type": "stream",
       "stream": "stderr",
       "text": [
        "INFO:interface:stdout 2015-01-08T11:22:18.960236:  Object Name: \n"
       ]
      },
      {
       "output_type": "stream",
       "stream": "stderr",
       "text": [
        "INFO:interface:stdout 2015-01-08T11:22:18.960236:  Observers: \n"
       ]
      },
      {
       "output_type": "stream",
       "stream": "stderr",
       "text": [
        "INFO:interface:stdout 2015-01-08T11:22:18.960236:    none\n"
       ]
      },
      {
       "output_type": "stream",
       "stream": "stderr",
       "text": [
        "INFO:interface:stdout 2015-01-08T11:22:18.960236:  Source: (none)\n"
       ]
      },
      {
       "output_type": "stream",
       "stream": "stderr",
       "text": [
        "INFO:interface:stdout 2015-01-08T11:22:18.960236:  Source output name: (none)\n"
       ]
      },
      {
       "output_type": "stream",
       "stream": "stderr",
       "text": [
        "INFO:interface:stdout 2015-01-08T11:22:18.960236:  Release Data: Off\n"
       ]
      },
      {
       "output_type": "stream",
       "stream": "stderr",
       "text": [
        "INFO:interface:stdout 2015-01-08T11:22:18.960236:  Data Released: False\n"
       ]
      },
      {
       "output_type": "stream",
       "stream": "stderr",
       "text": [
        "INFO:interface:stdout 2015-01-08T11:22:18.960236:  Global Release Data: Off\n"
       ]
      },
      {
       "output_type": "stream",
       "stream": "stderr",
       "text": [
        "INFO:interface:stdout 2015-01-08T11:22:18.960236:  PipelineMTime: 0\n"
       ]
      },
      {
       "output_type": "stream",
       "stream": "stderr",
       "text": [
        "INFO:interface:stdout 2015-01-08T11:22:18.960236:  UpdateMTime: 977\n"
       ]
      },
      {
       "output_type": "stream",
       "stream": "stderr",
       "text": [
        "INFO:interface:stdout 2015-01-08T11:22:18.960236:  RealTimeStamp: 0 seconds \n"
       ]
      },
      {
       "output_type": "stream",
       "stream": "stderr",
       "text": [
        "INFO:interface:stdout 2015-01-08T11:22:18.960236:  LargestPossibleRegion: \n"
       ]
      },
      {
       "output_type": "stream",
       "stream": "stderr",
       "text": [
        "INFO:interface:stdout 2015-01-08T11:22:18.960236:    Dimension: 3\n"
       ]
      },
      {
       "output_type": "stream",
       "stream": "stderr",
       "text": [
        "INFO:interface:stdout 2015-01-08T11:22:18.960236:    Index: [0, 0, 0]\n"
       ]
      },
      {
       "output_type": "stream",
       "stream": "stderr",
       "text": [
        "INFO:interface:stdout 2015-01-08T11:22:18.960236:    Size: [112, 112, 64]\n"
       ]
      },
      {
       "output_type": "stream",
       "stream": "stderr",
       "text": [
        "INFO:interface:stdout 2015-01-08T11:22:18.960236:  BufferedRegion: \n"
       ]
      },
      {
       "output_type": "stream",
       "stream": "stderr",
       "text": [
        "INFO:interface:stdout 2015-01-08T11:22:18.960236:    Dimension: 3\n"
       ]
      },
      {
       "output_type": "stream",
       "stream": "stderr",
       "text": [
        "INFO:interface:stdout 2015-01-08T11:22:18.960236:    Index: [0, 0, 0]\n"
       ]
      },
      {
       "output_type": "stream",
       "stream": "stderr",
       "text": [
        "INFO:interface:stdout 2015-01-08T11:22:18.960236:    Size: [112, 112, 64]\n"
       ]
      },
      {
       "output_type": "stream",
       "stream": "stderr",
       "text": [
        "INFO:interface:stdout 2015-01-08T11:22:18.960236:  RequestedRegion: \n"
       ]
      },
      {
       "output_type": "stream",
       "stream": "stderr",
       "text": [
        "INFO:interface:stdout 2015-01-08T11:22:18.960236:    Dimension: 3\n"
       ]
      },
      {
       "output_type": "stream",
       "stream": "stderr",
       "text": [
        "INFO:interface:stdout 2015-01-08T11:22:18.960236:    Index: [0, 0, 0]\n"
       ]
      },
      {
       "output_type": "stream",
       "stream": "stderr",
       "text": [
        "INFO:interface:stdout 2015-01-08T11:22:18.960236:    Size: [112, 112, 64]\n"
       ]
      },
      {
       "output_type": "stream",
       "stream": "stderr",
       "text": [
        "INFO:interface:stdout 2015-01-08T11:22:18.960236:  Spacing: [1.96429, 1.96429, 2]\n"
       ]
      },
      {
       "output_type": "stream",
       "stream": "stderr",
       "text": [
        "INFO:interface:stdout 2015-01-08T11:22:18.960236:  Origin: [-109.009, -109.767, -56.6923]\n"
       ]
      },
      {
       "output_type": "stream",
       "stream": "stderr",
       "text": [
        "INFO:interface:stdout 2015-01-08T11:22:18.960236:  Direction: \n"
       ]
      },
      {
       "output_type": "stream",
       "stream": "stderr",
       "text": [
        "INFO:interface:stdout 2015-01-08T11:22:18.960236:1 0 0\n"
       ]
      },
      {
       "output_type": "stream",
       "stream": "stderr",
       "text": [
        "INFO:interface:stdout 2015-01-08T11:22:18.960236:0 1 0\n"
       ]
      },
      {
       "output_type": "stream",
       "stream": "stderr",
       "text": [
        "INFO:interface:stdout 2015-01-08T11:22:18.960236:0 0 1\n"
       ]
      },
      {
       "output_type": "stream",
       "stream": "stderr",
       "text": [
        "INFO:interface:stdout 2015-01-08T11:22:18.960236:\n"
       ]
      },
      {
       "output_type": "stream",
       "stream": "stderr",
       "text": [
        "INFO:interface:stdout 2015-01-08T11:22:18.960236:  IndexToPointMatrix: \n"
       ]
      },
      {
       "output_type": "stream",
       "stream": "stderr",
       "text": [
        "INFO:interface:stdout 2015-01-08T11:22:18.960236:1.96429 0 0\n"
       ]
      },
      {
       "output_type": "stream",
       "stream": "stderr",
       "text": [
        "INFO:interface:stdout 2015-01-08T11:22:18.960236:0 1.96429 0\n"
       ]
      },
      {
       "output_type": "stream",
       "stream": "stderr",
       "text": [
        "INFO:interface:stdout 2015-01-08T11:22:18.960236:0 0 2\n"
       ]
      },
      {
       "output_type": "stream",
       "stream": "stderr",
       "text": [
        "INFO:interface:stdout 2015-01-08T11:22:18.960236:\n"
       ]
      },
      {
       "output_type": "stream",
       "stream": "stderr",
       "text": [
        "INFO:interface:stdout 2015-01-08T11:22:18.960236:  PointToIndexMatrix: \n"
       ]
      },
      {
       "output_type": "stream",
       "stream": "stderr",
       "text": [
        "INFO:interface:stdout 2015-01-08T11:22:18.960236:0.509091 0 0\n"
       ]
      },
      {
       "output_type": "stream",
       "stream": "stderr",
       "text": [
        "INFO:interface:stdout 2015-01-08T11:22:18.960236:0 0.509091 0\n"
       ]
      },
      {
       "output_type": "stream",
       "stream": "stderr",
       "text": [
        "INFO:interface:stdout 2015-01-08T11:22:18.960236:0 0 0.5\n"
       ]
      },
      {
       "output_type": "stream",
       "stream": "stderr",
       "text": [
        "INFO:interface:stdout 2015-01-08T11:22:18.960236:\n"
       ]
      },
      {
       "output_type": "stream",
       "stream": "stderr",
       "text": [
        "INFO:interface:stdout 2015-01-08T11:22:18.960236:  Inverse Direction: \n"
       ]
      },
      {
       "output_type": "stream",
       "stream": "stderr",
       "text": [
        "INFO:interface:stdout 2015-01-08T11:22:18.960236:1 0 0\n"
       ]
      },
      {
       "output_type": "stream",
       "stream": "stderr",
       "text": [
        "INFO:interface:stdout 2015-01-08T11:22:18.960236:0 1 0\n"
       ]
      },
      {
       "output_type": "stream",
       "stream": "stderr",
       "text": [
        "INFO:interface:stdout 2015-01-08T11:22:18.960236:0 0 1\n"
       ]
      },
      {
       "output_type": "stream",
       "stream": "stderr",
       "text": [
        "INFO:interface:stdout 2015-01-08T11:22:18.960236:\n"
       ]
      },
      {
       "output_type": "stream",
       "stream": "stderr",
       "text": [
        "INFO:interface:stdout 2015-01-08T11:22:18.960236:  PixelContainer: \n"
       ]
      },
      {
       "output_type": "stream",
       "stream": "stderr",
       "text": [
        "INFO:interface:stdout 2015-01-08T11:22:18.960236:    ImportImageContainer (0x7fa0a2fe2a60)\n"
       ]
      },
      {
       "output_type": "stream",
       "stream": "stderr",
       "text": [
        "INFO:interface:stdout 2015-01-08T11:22:18.960236:      RTTI typeinfo:   itk::ImportImageContainer<unsigned long, float>\n"
       ]
      },
      {
       "output_type": "stream",
       "stream": "stderr",
       "text": [
        "INFO:interface:stdout 2015-01-08T11:22:18.960236:      Reference Count: 1\n"
       ]
      },
      {
       "output_type": "stream",
       "stream": "stderr",
       "text": [
        "INFO:interface:stdout 2015-01-08T11:22:18.960236:      Modified Time: 974\n"
       ]
      },
      {
       "output_type": "stream",
       "stream": "stderr",
       "text": [
        "INFO:interface:stdout 2015-01-08T11:22:18.960236:      Debug: Off\n"
       ]
      },
      {
       "output_type": "stream",
       "stream": "stderr",
       "text": [
        "INFO:interface:stdout 2015-01-08T11:22:18.960236:      Object Name: \n"
       ]
      },
      {
       "output_type": "stream",
       "stream": "stderr",
       "text": [
        "INFO:interface:stdout 2015-01-08T11:22:18.960236:      Observers: \n"
       ]
      },
      {
       "output_type": "stream",
       "stream": "stderr",
       "text": [
        "INFO:interface:stdout 2015-01-08T11:22:18.960236:        none\n"
       ]
      },
      {
       "output_type": "stream",
       "stream": "stderr",
       "text": [
        "INFO:interface:stdout 2015-01-08T11:22:18.960236:      Pointer: 0x10663a000\n"
       ]
      },
      {
       "output_type": "stream",
       "stream": "stderr",
       "text": [
        "INFO:interface:stdout 2015-01-08T11:22:18.960236:      Container manages memory: true\n"
       ]
      },
      {
       "output_type": "stream",
       "stream": "stderr",
       "text": [
        "INFO:interface:stdout 2015-01-08T11:22:18.960236:      Size: 802816\n"
       ]
      },
      {
       "output_type": "stream",
       "stream": "stderr",
       "text": [
        "INFO:interface:stdout 2015-01-08T11:22:18.960236:      Capacity: 802816\n"
       ]
      },
      {
       "output_type": "stream",
       "stream": "stderr",
       "text": [
        "INFO:interface:stdout 2015-01-08T11:22:18.960236:\n"
       ]
      },
      {
       "output_type": "stream",
       "stream": "stderr",
       "text": [
        "INFO:interface:stdout 2015-01-08T11:22:18.960236:     Weighting = 1\n"
       ]
      },
      {
       "output_type": "stream",
       "stream": "stderr",
       "text": [
        "INFO:interface:stdout 2015-01-08T11:22:18.960236:     Sampling strategy = none\n"
       ]
      },
      {
       "output_type": "stream",
       "stream": "stderr",
       "text": [
        "INFO:interface:stdout 2015-01-08T11:22:18.960236:     Number of bins = 32\n"
       ]
      },
      {
       "output_type": "stream",
       "stream": "stderr",
       "text": [
        "INFO:interface:stdout 2015-01-08T11:22:18.960236:     Radius = 4\n"
       ]
      },
      {
       "output_type": "stream",
       "stream": "stderr",
       "text": [
        "INFO:interface:stdout 2015-01-08T11:22:18.960236:     Sampling percentage  = 1\n"
       ]
      },
      {
       "output_type": "stream",
       "stream": "stderr",
       "text": [
        "INFO:interface:stdout 2015-01-08T11:22:18.960236:   Transform = SyN\n"
       ]
      },
      {
       "output_type": "stream",
       "stream": "stderr",
       "text": [
        "INFO:interface:stdout 2015-01-08T11:22:18.960236:     Gradient step = 0.25\n"
       ]
      },
      {
       "output_type": "stream",
       "stream": "stderr",
       "text": [
        "INFO:interface:stdout 2015-01-08T11:22:18.960236:     Update field sigma (voxel space) = 3\n"
       ]
      },
      {
       "output_type": "stream",
       "stream": "stderr",
       "text": [
        "INFO:interface:stdout 2015-01-08T11:22:18.960236:     Total field sigma (voxel space) = 0\n"
       ]
      },
      {
       "output_type": "stream",
       "stream": "stderr",
       "text": [
        "INFO:interface:stdout 2015-01-08T11:22:18.960236:     Update field time sigma = 0\n"
       ]
      },
      {
       "output_type": "stream",
       "stream": "stderr",
       "text": [
        "INFO:interface:stdout 2015-01-08T11:22:18.960236:     Total field time sigma  = 0\n"
       ]
      },
      {
       "output_type": "stream",
       "stream": "stderr",
       "text": [
        "INFO:interface:stdout 2015-01-08T11:22:18.960236:     Number of time indices = 0\n"
       ]
      },
      {
       "output_type": "stream",
       "stream": "stderr",
       "text": [
        "INFO:interface:stdout 2015-01-08T11:22:18.960236:     Number of time point samples = 0\n"
       ]
      },
      {
       "output_type": "stream",
       "stream": "stderr",
       "text": [
        "INFO:interface:stdout 2015-01-08T11:22:18.960236:Registration using 1 total stages.\n"
       ]
      },
      {
       "output_type": "stream",
       "stream": "stderr",
       "text": [
        "INFO:interface:stdout 2015-01-08T11:22:18.960236:\n"
       ]
      },
      {
       "output_type": "stream",
       "stream": "stderr",
       "text": [
        "INFO:interface:stdout 2015-01-08T11:22:18.960236:Stage 0\n"
       ]
      },
      {
       "output_type": "stream",
       "stream": "stderr",
       "text": [
        "INFO:interface:stdout 2015-01-08T11:22:18.960236:  iterations = 70x50x40\n"
       ]
      },
      {
       "output_type": "stream",
       "stream": "stderr",
       "text": [
        "INFO:interface:stdout 2015-01-08T11:22:18.960236:  convergence threshold = 1e-06\n"
       ]
      },
      {
       "output_type": "stream",
       "stream": "stderr",
       "text": [
        "INFO:interface:stdout 2015-01-08T11:22:18.960236:  convergence window size = 10\n"
       ]
      },
      {
       "output_type": "stream",
       "stream": "stderr",
       "text": [
        "INFO:interface:stdout 2015-01-08T11:22:18.960236:  number of levels = 3\n"
       ]
      },
      {
       "output_type": "stream",
       "stream": "stderr",
       "text": [
        "INFO:interface:stdout 2015-01-08T11:22:18.960236:  Shrink factors (level 1 out of 3): [3, 3, 3]\n"
       ]
      },
      {
       "output_type": "stream",
       "stream": "stderr",
       "text": [
        "INFO:interface:stdout 2015-01-08T11:22:18.960236:  Shrink factors (level 2 out of 3): [2, 2, 2]\n"
       ]
      },
      {
       "output_type": "stream",
       "stream": "stderr",
       "text": [
        "INFO:interface:stdout 2015-01-08T11:22:18.960236:  Shrink factors (level 3 out of 3): [1, 1, 1]\n"
       ]
      },
      {
       "output_type": "stream",
       "stream": "stderr",
       "text": [
        "INFO:interface:stdout 2015-01-08T11:22:18.960236:  smoothing sigmas per level: [2, 1, 0]\n"
       ]
      },
      {
       "output_type": "stream",
       "stream": "stderr",
       "text": [
        "INFO:interface:stdout 2015-01-08T11:22:19.015740:  using the Mattes MI metric (number of bins = 32, weight = 1)\n"
       ]
      },
      {
       "output_type": "stream",
       "stream": "stderr",
       "text": [
        "INFO:interface:stdout 2015-01-08T11:22:19.288951:  preprocessing:  histogram matching the images\n"
       ]
      },
      {
       "output_type": "stream",
       "stream": "stderr",
       "text": [
        "INFO:interface:stdout 2015-01-08T11:22:19.288951:  Using default NONE metricSamplingStrategy \n"
       ]
      },
      {
       "output_type": "stream",
       "stream": "stderr",
       "text": [
        "INFO:interface:stdout 2015-01-08T11:22:19.345576:\n"
       ]
      },
      {
       "output_type": "stream",
       "stream": "stderr",
       "text": [
        "INFO:interface:stdout 2015-01-08T11:22:19.346167:*** Running SyN registration (varianceForUpdateField = 3, varianceForTotalField = 0) ***\n"
       ]
      },
      {
       "output_type": "stream",
       "stream": "stderr",
       "text": [
        "INFO:interface:stdout 2015-01-08T11:22:19.346167:\n"
       ]
      },
      {
       "output_type": "stream",
       "stream": "stderr",
       "text": [
        "INFO:interface:stdout 2015-01-08T11:22:20.304909:XXDIAGNOSTIC,Iteration,metricValue,convergenceValue,ITERATION_TIME_INDEX,SINCE_LAST\n"
       ]
      },
      {
       "output_type": "stream",
       "stream": "stderr",
       "text": [
        "INFO:interface:stdout 2015-01-08T11:22:20.304909: 1DIAGNOSTIC,     1, -8.777630329132e-01, inf, 9.5932e-01, 9.5932e-01, \n"
       ]
      },
      {
       "output_type": "stream",
       "stream": "stderr",
       "text": [
        "INFO:interface:stdout 2015-01-08T11:22:20.563241: 1DIAGNOSTIC,     2, -1.012881159782e+00, inf, 1.2176e+00, 2.5824e-01, \n"
       ]
      },
      {
       "output_type": "stream",
       "stream": "stderr",
       "text": [
        "INFO:interface:stdout 2015-01-08T11:22:20.819140: 1DIAGNOSTIC,     3, -1.086813688278e+00, inf, 1.4734e+00, 2.5585e-01, \n"
       ]
      },
      {
       "output_type": "stream",
       "stream": "stderr",
       "text": [
        "INFO:interface:stdout 2015-01-08T11:22:21.064753: 1DIAGNOSTIC,     4, -1.124342918396e+00, inf, 1.7190e+00, 2.4560e-01, \n"
       ]
      },
      {
       "output_type": "stream",
       "stream": "stderr",
       "text": [
        "INFO:interface:stdout 2015-01-08T11:22:21.323203: 1DIAGNOSTIC,     5, -1.139673233032e+00, inf, 1.9774e+00, 2.5839e-01, \n"
       ]
      },
      {
       "output_type": "stream",
       "stream": "stderr",
       "text": [
        "INFO:interface:stdout 2015-01-08T11:22:21.573747: 1DIAGNOSTIC,     6, -1.134448289871e+00, inf, 2.2279e+00, 2.5050e-01, \n"
       ]
      },
      {
       "output_type": "stream",
       "stream": "stderr",
       "text": [
        "INFO:interface:stdout 2015-01-08T11:22:21.823657: 1DIAGNOSTIC,     7, -1.152124643326e+00, inf, 2.4778e+00, 2.4985e-01, \n"
       ]
      },
      {
       "output_type": "stream",
       "stream": "stderr",
       "text": [
        "INFO:interface:stdout 2015-01-08T11:22:22.073558: 1DIAGNOSTIC,     8, -1.140252113342e+00, inf, 2.7276e+00, 2.4985e-01, \n"
       ]
      },
      {
       "output_type": "stream",
       "stream": "stderr",
       "text": [
        "INFO:interface:stdout 2015-01-08T11:22:22.326764: 1DIAGNOSTIC,     9, -1.160123467445e+00, inf, 2.9807e+00, 2.5308e-01, \n"
       ]
      },
      {
       "output_type": "stream",
       "stream": "stderr",
       "text": [
        "INFO:interface:stdout 2015-01-08T11:22:22.584299: 1DIAGNOSTIC,    10, -1.140039920807e+00, 1.141511090100e-02, 3.2382e+00, 2.5755e-01, \n"
       ]
      },
      {
       "output_type": "stream",
       "stream": "stderr",
       "text": [
        "INFO:interface:stdout 2015-01-08T11:22:22.837181: 1DIAGNOSTIC,    11, -1.167338609695e+00, 5.369720980525e-03, 3.4910e+00, 2.5282e-01, \n"
       ]
      },
      {
       "output_type": "stream",
       "stream": "stderr",
       "text": [
        "INFO:interface:stdout 2015-01-08T11:22:23.091646: 1DIAGNOSTIC,    12, -1.140795707703e+00, 2.179887611419e-03, 3.7454e+00, 2.5436e-01, \n"
       ]
      },
      {
       "output_type": "stream",
       "stream": "stderr",
       "text": [
        "INFO:interface:stdout 2015-01-08T11:22:23.342093: 1DIAGNOSTIC,    13, -1.167216539383e+00, 1.271408633329e-03, 3.9958e+00, 2.5044e-01, \n"
       ]
      },
      {
       "output_type": "stream",
       "stream": "stderr",
       "text": [
        "INFO:interface:stdout 2015-01-08T11:22:23.593552: 1DIAGNOSTIC,    14, -1.158426046371e+00, 8.881310932338e-04, 4.2473e+00, 2.5140e-01, \n"
       ]
      },
      {
       "output_type": "stream",
       "stream": "stderr",
       "text": [
        "INFO:interface:stdout 2015-01-08T11:22:23.845393: 1DIAGNOSTIC,    15, -1.154904842377e+00, 6.853240192868e-04, 4.4990e+00, 2.5179e-01, \n"
       ]
      },
      {
       "output_type": "stream",
       "stream": "stderr",
       "text": [
        "INFO:interface:stdout 2015-01-08T11:22:24.096473: 1DIAGNOSTIC,    16, -1.161264061928e+00, 4.608787421603e-04, 4.7501e+00, 2.5104e-01, \n"
       ]
      },
      {
       "output_type": "stream",
       "stream": "stderr",
       "text": [
        "INFO:interface:stdout 2015-01-08T11:22:24.347559: 1DIAGNOSTIC,    17, -1.154826998711e+00, 3.909287333954e-04, 5.0011e+00, 2.5101e-01, \n"
       ]
      },
      {
       "output_type": "stream",
       "stream": "stderr",
       "text": [
        "INFO:interface:stdout 2015-01-08T11:22:24.600052: 1DIAGNOSTIC,    18, -1.159680604935e+00, 1.875857269624e-04, 5.2535e+00, 2.5239e-01, \n"
       ]
      },
      {
       "output_type": "stream",
       "stream": "stderr",
       "text": [
        "INFO:interface:stdout 2015-01-08T11:22:24.853041: 1DIAGNOSTIC,    19, -1.151939392090e+00, 1.557641517138e-04, 5.5064e+00, 2.5297e-01, \n"
       ]
      },
      {
       "output_type": "stream",
       "stream": "stderr",
       "text": [
        "INFO:interface:stdout 2015-01-08T11:22:25.103076: 1DIAGNOSTIC,    20, -1.163871049881e+00, 4.552801328828e-06, 5.7564e+00, 2.4999e-01, \n"
       ]
      },
      {
       "output_type": "stream",
       "stream": "stderr",
       "text": [
        "INFO:interface:stdout 2015-01-08T11:22:25.353870: 1DIAGNOSTIC,    21, -1.153736472130e+00, 7.965530676302e-05, 6.0072e+00, 2.5073e-01, \n"
       ]
      },
      {
       "output_type": "stream",
       "stream": "stderr",
       "text": [
        "INFO:interface:stdout 2015-01-08T11:22:25.605822: 1DIAGNOSTIC,    22, -1.164827346802e+00, -4.254051236785e-05, 6.2591e+00, 2.5190e-01, \n"
       ]
      },
      {
       "output_type": "stream",
       "stream": "stderr",
       "text": [
        "INFO:interface:stdout 2015-01-08T11:22:26.821249:XXDIAGNOSTIC,Iteration,metricValue,convergenceValue,ITERATION_TIME_INDEX,SINCE_LAST\n"
       ]
      },
      {
       "output_type": "stream",
       "stream": "stderr",
       "text": [
        "INFO:interface:stdout 2015-01-08T11:22:26.822060: 1DIAGNOSTIC,     1, -8.671547174454e-01, inf, 7.4745e+00, 1.2154e+00, \n"
       ]
      },
      {
       "output_type": "stream",
       "stream": "stderr",
       "text": [
        "INFO:interface:stdout 2015-01-08T11:22:27.541265: 1DIAGNOSTIC,     2, -9.030832052231e-01, inf, 8.1944e+00, 7.1992e-01, \n"
       ]
      },
      {
       "output_type": "stream",
       "stream": "stderr",
       "text": [
        "INFO:interface:stdout 2015-01-08T11:22:28.264388: 1DIAGNOSTIC,     3, -9.277727603912e-01, inf, 8.9175e+00, 7.2307e-01, \n"
       ]
      },
      {
       "output_type": "stream",
       "stream": "stderr",
       "text": [
        "INFO:interface:stdout 2015-01-08T11:22:29.005476: 1DIAGNOSTIC,     4, -9.357857704163e-01, inf, 9.6585e+00, 7.4102e-01, \n"
       ]
      },
      {
       "output_type": "stream",
       "stream": "stderr",
       "text": [
        "INFO:interface:stdout 2015-01-08T11:22:29.726151: 1DIAGNOSTIC,     5, -9.451790452003e-01, inf, 1.0379e+01, 7.2059e-01, \n"
       ]
      },
      {
       "output_type": "stream",
       "stream": "stderr",
       "text": [
        "INFO:interface:stdout 2015-01-08T11:22:30.445454: 1DIAGNOSTIC,     6, -9.471846818924e-01, inf, 1.1098e+01, 7.1926e-01, \n"
       ]
      },
      {
       "output_type": "stream",
       "stream": "stderr",
       "text": [
        "INFO:interface:stdout 2015-01-08T11:22:31.168631: 1DIAGNOSTIC,     7, -9.561262726784e-01, inf, 1.1821e+01, 7.2312e-01, \n"
       ]
      },
      {
       "output_type": "stream",
       "stream": "stderr",
       "text": [
        "INFO:interface:stdout 2015-01-08T11:22:31.889991: 1DIAGNOSTIC,     8, -9.548265933990e-01, inf, 1.2543e+01, 7.2132e-01, \n"
       ]
      },
      {
       "output_type": "stream",
       "stream": "stderr",
       "text": [
        "INFO:interface:stdout 2015-01-08T11:22:32.610464: 1DIAGNOSTIC,     9, -9.631298780441e-01, inf, 1.3263e+01, 7.2039e-01, \n"
       ]
      },
      {
       "output_type": "stream",
       "stream": "stderr",
       "text": [
        "INFO:interface:stdout 2015-01-08T11:22:33.330385: 1DIAGNOSTIC,    10, -9.556114077568e-01, 5.156468134373e-03, 1.3983e+01, 7.1987e-01, \n"
       ]
      },
      {
       "output_type": "stream",
       "stream": "stderr",
       "text": [
        "INFO:interface:stdout 2015-01-08T11:22:34.074078: 1DIAGNOSTIC,    11, -9.696680307388e-01, 3.195633878931e-03, 1.4727e+01, 7.4364e-01, \n"
       ]
      },
      {
       "output_type": "stream",
       "stream": "stderr",
       "text": [
        "INFO:interface:stdout 2015-01-08T11:22:34.816645: 1DIAGNOSTIC,    12, -9.570316076279e-01, 1.849496504292e-03, 1.5469e+01, 7.4251e-01, \n"
       ]
      },
      {
       "output_type": "stream",
       "stream": "stderr",
       "text": [
        "INFO:interface:stdout 2015-01-08T11:22:35.562606: 1DIAGNOSTIC,    13, -9.735885262489e-01, 1.509420922957e-03, 1.6215e+01, 7.4591e-01, \n"
       ]
      },
      {
       "output_type": "stream",
       "stream": "stderr",
       "text": [
        "INFO:interface:stdout 2015-01-08T11:22:36.313138: 1DIAGNOSTIC,    14, -9.677327871323e-01, 1.116511411965e-03, 1.6966e+01, 7.5047e-01, \n"
       ]
      },
      {
       "output_type": "stream",
       "stream": "stderr",
       "text": [
        "INFO:interface:stdout 2015-01-08T11:22:37.055369: 1DIAGNOSTIC,    15, -9.700556993484e-01, 9.146052179858e-04, 1.7708e+01, 7.4218e-01, \n"
       ]
      },
      {
       "output_type": "stream",
       "stream": "stderr",
       "text": [
        "INFO:interface:stdout 2015-01-08T11:22:37.818812: 1DIAGNOSTIC,    16, -9.651647210121e-01, 5.978381959721e-04, 1.8471e+01, 7.6338e-01, \n"
       ]
      },
      {
       "output_type": "stream",
       "stream": "stderr",
       "text": [
        "INFO:interface:stdout 2015-01-08T11:22:38.543196: 1DIAGNOSTIC,    17, -9.694715738297e-01, 5.006940336898e-04, 1.9195e+01, 7.2432e-01, \n"
       ]
      },
      {
       "output_type": "stream",
       "stream": "stderr",
       "text": [
        "INFO:interface:stdout 2015-01-08T11:22:39.283515: 1DIAGNOSTIC,    18, -9.678214788437e-01, 3.118457389064e-04, 1.9936e+01, 7.4026e-01, \n"
       ]
      },
      {
       "output_type": "stream",
       "stream": "stderr",
       "text": [
        "INFO:interface:stdout 2015-01-08T11:22:40.002404: 1DIAGNOSTIC,    19, -9.664103984833e-01, 2.263992355438e-04, 2.0655e+01, 7.1883e-01, \n"
       ]
      },
      {
       "output_type": "stream",
       "stream": "stderr",
       "text": [
        "INFO:interface:stdout 2015-01-08T11:22:40.744804: 1DIAGNOSTIC,    20, -9.703241586685e-01, 7.188821473392e-05, 2.1397e+01, 7.4234e-01, \n"
       ]
      },
      {
       "output_type": "stream",
       "stream": "stderr",
       "text": [
        "INFO:interface:stdout 2015-01-08T11:22:41.470438: 1DIAGNOSTIC,    21, -9.667879343033e-01, 8.041159162531e-05, 2.2122e+01, 7.2558e-01, \n"
       ]
      },
      {
       "output_type": "stream",
       "stream": "stderr",
       "text": [
        "INFO:interface:stdout 2015-01-08T11:22:42.215311: 1DIAGNOSTIC,    22, -9.740675687790e-01, 2.219669568149e-06, 2.2867e+01, 7.4483e-01, \n"
       ]
      },
      {
       "output_type": "stream",
       "stream": "stderr",
       "text": [
        "INFO:interface:stdout 2015-01-08T11:22:42.940538: 1DIAGNOSTIC,    23, -9.670256972313e-01, 5.330303611117e-05, 2.3592e+01, 7.2516e-01, \n"
       ]
      },
      {
       "output_type": "stream",
       "stream": "stderr",
       "text": [
        "INFO:interface:stdout 2015-01-08T11:22:43.708010: 1DIAGNOSTIC,    24, -9.766124486923e-01, 1.437051396351e-04, 2.4360e+01, 7.6737e-01, \n"
       ]
      },
      {
       "output_type": "stream",
       "stream": "stderr",
       "text": [
        "INFO:interface:stdout 2015-01-08T11:22:44.437290: 1DIAGNOSTIC,    25, -9.692037701607e-01, 1.513409224572e-04, 2.5089e+01, 7.2927e-01, \n"
       ]
      },
      {
       "output_type": "stream",
       "stream": "stderr",
       "text": [
        "INFO:interface:stdout 2015-01-08T11:22:45.220490: 1DIAGNOSTIC,    26, -9.761655330658e-01, 1.685346214799e-04, 2.5872e+01, 7.8315e-01, \n"
       ]
      },
      {
       "output_type": "stream",
       "stream": "stderr",
       "text": [
        "INFO:interface:stdout 2015-01-08T11:22:45.965841: 1DIAGNOSTIC,    27, -9.676719903946e-01, 1.212361021317e-04, 2.6618e+01, 7.4528e-01, \n"
       ]
      },
      {
       "output_type": "stream",
       "stream": "stderr",
       "text": [
        "INFO:interface:stdout 2015-01-08T11:22:46.727082: 1DIAGNOSTIC,    28, -9.782883524895e-01, 1.640589180170e-04, 2.7379e+01, 7.6117e-01, \n"
       ]
      },
      {
       "output_type": "stream",
       "stream": "stderr",
       "text": [
        "INFO:interface:stdout 2015-01-08T11:22:47.468637: 1DIAGNOSTIC,    29, -9.676523208618e-01, 6.073563781683e-05, 2.8120e+01, 7.4152e-01, \n"
       ]
      },
      {
       "output_type": "stream",
       "stream": "stderr",
       "text": [
        "INFO:interface:stdout 2015-01-08T11:22:48.239222: 1DIAGNOSTIC,    30, -9.774128198624e-01, 9.807793685468e-05, 2.8891e+01, 7.7052e-01, \n"
       ]
      },
      {
       "output_type": "stream",
       "stream": "stderr",
       "text": [
        "INFO:interface:stdout 2015-01-08T11:22:48.977308: 1DIAGNOSTIC,    31, -9.658073186874e-01, -2.516264976293e-05, 2.9629e+01, 7.3803e-01, \n"
       ]
      },
      {
       "output_type": "stream",
       "stream": "stderr",
       "text": [
        "INFO:interface:stdout 2015-01-08T11:22:55.670041:XXDIAGNOSTIC,Iteration,metricValue,convergenceValue,ITERATION_TIME_INDEX,SINCE_LAST\n"
       ]
      },
      {
       "output_type": "stream",
       "stream": "stderr",
       "text": [
        "INFO:interface:stdout 2015-01-08T11:22:55.670855: 1DIAGNOSTIC,     1, -6.054585576057e-01, inf, 3.6322e+01, 6.6927e+00, \n"
       ]
      },
      {
       "output_type": "stream",
       "stream": "stderr",
       "text": [
        "INFO:interface:stdout 2015-01-08T11:23:00.848009: 1DIAGNOSTIC,     2, -6.212685704231e-01, inf, 4.1499e+01, 5.1779e+00, \n"
       ]
      },
      {
       "output_type": "stream",
       "stream": "stderr",
       "text": [
        "INFO:interface:stdout 2015-01-08T11:23:06.182394: 1DIAGNOSTIC,     3, -6.338510513306e-01, inf, 4.6834e+01, 5.3343e+00, \n"
       ]
      },
      {
       "output_type": "stream",
       "stream": "stderr",
       "text": [
        "INFO:interface:stdout 2015-01-08T11:23:11.328156: 1DIAGNOSTIC,     4, -6.433441638947e-01, inf, 5.1979e+01, 5.1457e+00, \n"
       ]
      },
      {
       "output_type": "stream",
       "stream": "stderr",
       "text": [
        "INFO:interface:stdout 2015-01-08T11:23:16.291936: 1DIAGNOSTIC,     5, -6.507551670074e-01, inf, 5.6943e+01, 4.9637e+00, \n"
       ]
      },
      {
       "output_type": "stream",
       "stream": "stderr",
       "text": [
        "INFO:interface:stdout 2015-01-08T11:23:21.446691: 1DIAGNOSTIC,     6, -6.570122241974e-01, inf, 6.2098e+01, 5.1547e+00, \n"
       ]
      },
      {
       "output_type": "stream",
       "stream": "stderr",
       "text": [
        "INFO:interface:stdout 2015-01-08T11:23:26.781550: 1DIAGNOSTIC,     7, -6.633121967316e-01, inf, 6.7433e+01, 5.3348e+00, \n"
       ]
      },
      {
       "output_type": "stream",
       "stream": "stderr",
       "text": [
        "INFO:interface:stdout 2015-01-08T11:23:31.920550: 1DIAGNOSTIC,     8, -6.692892313004e-01, inf, 7.2572e+01, 5.1389e+00, \n"
       ]
      },
      {
       "output_type": "stream",
       "stream": "stderr",
       "text": [
        "INFO:interface:stdout 2015-01-08T11:23:37.052885: 1DIAGNOSTIC,     9, -6.737348437309e-01, inf, 7.7704e+01, 5.1323e+00, \n"
       ]
      },
      {
       "output_type": "stream",
       "stream": "stderr",
       "text": [
        "INFO:interface:stdout 2015-01-08T11:23:42.204933: 1DIAGNOSTIC,    10, -6.774196624756e-01, 6.696353200823e-03, 8.2856e+01, 5.1520e+00, \n"
       ]
      },
      {
       "output_type": "stream",
       "stream": "stderr",
       "text": [
        "INFO:interface:stdout 2015-01-08T11:23:47.374786: 1DIAGNOSTIC,    11, -6.808036565781e-01, 5.094530526549e-03, 8.8026e+01, 5.1698e+00, \n"
       ]
      },
      {
       "output_type": "stream",
       "stream": "stderr",
       "text": [
        "INFO:interface:stdout 2015-01-08T11:23:52.501129: 1DIAGNOSTIC,    12, -6.839365959167e-01, 3.989492077380e-03, 9.3152e+01, 5.1263e+00, \n"
       ]
      },
      {
       "output_type": "stream",
       "stream": "stderr",
       "text": [
        "INFO:interface:stdout 2015-01-08T11:23:57.638427: 1DIAGNOSTIC,    13, -6.866605281830e-01, 3.203514963388e-03, 9.8289e+01, 5.1372e+00, \n"
       ]
      },
      {
       "output_type": "stream",
       "stream": "stderr",
       "text": [
        "INFO:interface:stdout 2015-01-08T11:24:02.771824: 1DIAGNOSTIC,    14, -6.896225214005e-01, 2.622924977913e-03, 1.0342e+02, 5.1333e+00, \n"
       ]
      },
      {
       "output_type": "stream",
       "stream": "stderr",
       "text": [
        "INFO:interface:stdout 2015-01-08T11:24:07.946263: 1DIAGNOSTIC,    15, -6.916420459747e-01, 2.151061780751e-03, 1.0860e+02, 5.1744e+00, \n"
       ]
      },
      {
       "output_type": "stream",
       "stream": "stderr",
       "text": [
        "INFO:interface:stdout 2015-01-08T11:24:13.103483: 1DIAGNOSTIC,    16, -6.935019493103e-01, 1.758322003298e-03, 1.1375e+02, 5.1572e+00, \n"
       ]
      },
      {
       "output_type": "stream",
       "stream": "stderr",
       "text": [
        "INFO:interface:stdout 2015-01-08T11:24:18.253231: 1DIAGNOSTIC,    17, -6.947815418243e-01, 1.439650543034e-03, 1.1890e+02, 5.1497e+00, \n"
       ]
      },
      {
       "output_type": "stream",
       "stream": "stderr",
       "text": [
        "INFO:interface:stdout 2015-01-08T11:24:23.418746: 1DIAGNOSTIC,    18, -6.962116956711e-01, 1.198475598358e-03, 1.2407e+02, 5.1654e+00, \n"
       ]
      },
      {
       "output_type": "stream",
       "stream": "stderr",
       "text": [
        "INFO:interface:stdout 2015-01-08T11:24:28.558206: 1DIAGNOSTIC,    19, -6.977577209473e-01, 1.005091937259e-03, 1.2921e+02, 5.1394e+00, \n"
       ]
      },
      {
       "output_type": "stream",
       "stream": "stderr",
       "text": [
        "INFO:interface:stdout 2015-01-08T11:24:33.702059: 1DIAGNOSTIC,    20, -6.985586881638e-01, 8.321415516548e-04, 1.3435e+02, 5.1438e+00, \n"
       ]
      },
      {
       "output_type": "stream",
       "stream": "stderr",
       "text": [
        "INFO:interface:stdout 2015-01-08T11:24:38.863803: 1DIAGNOSTIC,    21, -6.998882293701e-01, 6.931925890967e-04, 1.3951e+02, 5.1617e+00, \n"
       ]
      },
      {
       "output_type": "stream",
       "stream": "stderr",
       "text": [
        "INFO:interface:stdout 2015-01-08T11:24:43.998286: 1DIAGNOSTIC,    22, -7.004812359810e-01, 5.733860889450e-04, 1.4465e+02, 5.1344e+00, \n"
       ]
      },
      {
       "output_type": "stream",
       "stream": "stderr",
       "text": [
        "INFO:interface:stdout 2015-01-08T11:24:49.171290: 1DIAGNOSTIC,    23, -7.017868757248e-01, 4.836960870307e-04, 1.4982e+02, 5.1729e+00, \n"
       ]
      },
      {
       "output_type": "stream",
       "stream": "stderr",
       "text": [
        "INFO:interface:stdout 2015-01-08T11:24:54.313463: 1DIAGNOSTIC,    24, -7.020034790039e-01, 4.112265014555e-04, 1.5496e+02, 5.1421e+00, \n"
       ]
      },
      {
       "output_type": "stream",
       "stream": "stderr",
       "text": [
        "INFO:interface:stdout 2015-01-08T11:24:59.450855: 1DIAGNOSTIC,    25, -7.032400369644e-01, 3.605851088651e-04, 1.6010e+02, 5.1374e+00, \n"
       ]
      },
      {
       "output_type": "stream",
       "stream": "stderr",
       "text": [
        "INFO:interface:stdout 2015-01-08T11:25:04.640980: 1DIAGNOSTIC,    26, -7.032835483551e-01, 3.103011404164e-04, 1.6529e+02, 5.1901e+00, \n"
       ]
      },
      {
       "output_type": "stream",
       "stream": "stderr",
       "text": [
        "INFO:interface:stdout 2015-01-08T11:25:09.915226: 1DIAGNOSTIC,    27, -7.043522596359e-01, 2.709274413064e-04, 1.7057e+02, 5.2742e+00, \n"
       ]
      },
      {
       "output_type": "stream",
       "stream": "stderr",
       "text": [
        "INFO:interface:stdout 2015-01-08T11:25:15.219721: 1DIAGNOSTIC,    28, -7.045092582703e-01, 2.319500636077e-04, 1.7587e+02, 5.3044e+00, \n"
       ]
      },
      {
       "output_type": "stream",
       "stream": "stderr",
       "text": [
        "INFO:interface:stdout 2015-01-08T11:25:20.392470: 1DIAGNOSTIC,    29, -7.050060033798e-01, 2.032877673628e-04, 1.8104e+02, 5.1727e+00, \n"
       ]
      },
      {
       "output_type": "stream",
       "stream": "stderr",
       "text": [
        "INFO:interface:stdout 2015-01-08T11:25:25.586807: 1DIAGNOSTIC,    30, -7.052663564682e-01, 1.718058338156e-04, 1.8624e+02, 5.1943e+00, \n"
       ]
      },
      {
       "output_type": "stream",
       "stream": "stderr",
       "text": [
        "INFO:interface:stdout 2015-01-08T11:25:30.781734: 1DIAGNOSTIC,    31, -7.057212591171e-01, 1.500934304204e-04, 1.9143e+02, 5.1949e+00, \n"
       ]
      },
      {
       "output_type": "stream",
       "stream": "stderr",
       "text": [
        "INFO:interface:stdout 2015-01-08T11:25:35.916530: 1DIAGNOSTIC,    32, -7.060402035713e-01, 1.269903004868e-04, 1.9657e+02, 5.1347e+00, \n"
       ]
      },
      {
       "output_type": "stream",
       "stream": "stderr",
       "text": [
        "INFO:interface:stdout 2015-01-08T11:25:41.100956: 1DIAGNOSTIC,    33, -7.063359022141e-01, 1.135061829700e-04, 2.0175e+02, 5.1844e+00, \n"
       ]
      },
      {
       "output_type": "stream",
       "stream": "stderr",
       "text": [
        "INFO:interface:stdout 2015-01-08T11:25:46.281791: 1DIAGNOSTIC,    34, -7.067934274673e-01, 9.801950363908e-05, 2.0693e+02, 5.1807e+00, \n"
       ]
      },
      {
       "output_type": "stream",
       "stream": "stderr",
       "text": [
        "INFO:interface:stdout 2015-01-08T11:25:51.498421: 1DIAGNOSTIC,    35, -7.070120573044e-01, 9.142736234935e-05, 2.1215e+02, 5.2166e+00, \n"
       ]
      },
      {
       "output_type": "stream",
       "stream": "stderr",
       "text": [
        "INFO:interface:stdout 2015-01-08T11:25:56.701549: 1DIAGNOSTIC,    36, -7.073268294334e-01, 8.035785867833e-05, 2.1735e+02, 5.2031e+00, \n"
       ]
      },
      {
       "output_type": "stream",
       "stream": "stderr",
       "text": [
        "INFO:interface:stdout 2015-01-08T11:26:01.884114: 1DIAGNOSTIC,    37, -7.075804471970e-01, 7.706279575359e-05, 2.2253e+02, 5.1825e+00, \n"
       ]
      },
      {
       "output_type": "stream",
       "stream": "stderr",
       "text": [
        "INFO:interface:stdout 2015-01-08T11:26:07.076993: 1DIAGNOSTIC,    38, -7.077786922455e-01, 7.036670285743e-05, 2.2773e+02, 5.1928e+00, \n"
       ]
      },
      {
       "output_type": "stream",
       "stream": "stderr",
       "text": [
        "INFO:interface:stdout 2015-01-08T11:26:12.247751: 1DIAGNOSTIC,    39, -7.077566385269e-01, 6.232540908968e-05, 2.3290e+02, 5.1707e+00, \n"
       ]
      },
      {
       "output_type": "stream",
       "stream": "stderr",
       "text": [
        "INFO:interface:stdout 2015-01-08T11:26:17.639071: 1DIAGNOSTIC,    40, -7.084819078445e-01, 5.891019827686e-05, 2.3829e+02, 5.3913e+00, \n"
       ]
      },
      {
       "output_type": "stream",
       "stream": "stderr",
       "text": [
        "INFO:interface:stdout 2015-01-08T11:26:17.887554:  Elapsed time (stage 0): 2.3893e+02\n"
       ]
      },
      {
       "output_type": "stream",
       "stream": "stderr",
       "text": [
        "INFO:interface:stdout 2015-01-08T11:26:17.887554:\n"
       ]
      },
      {
       "output_type": "stream",
       "stream": "stderr",
       "text": [
        "INFO:interface:stdout 2015-01-08T11:26:17.917924:\n"
       ]
      },
      {
       "output_type": "stream",
       "stream": "stderr",
       "text": [
        "INFO:interface:stdout 2015-01-08T11:26:17.918461:Total elapsed time: 2.3896e+02\n"
       ]
      },
      {
       "output_type": "stream",
       "stream": "stderr",
       "text": [
        "INFO:workflow:Executing node gtractResampleDWI_SyN in dir: /scratch/TESTS/IpythonNotebook/1_DWI_Nipype_workflow/DWIWorkflow_823955340_20080609_30/gtractResampleDWI_SyN\n"
       ]
      },
      {
       "output_type": "stream",
       "stream": "stderr",
       "text": [
        "INFO:workflow:Running:  gtractResampleDWIInPlace  --inputVolume /Volumes/scratch/TESTS/IpythonNotebook/1_DWI_Nipype_workflow/DWIWorkflow_823955340_20080609_30/DWI_ForceDCtoIDNode/IDDC_823955340_823955340_20080609_30_DWI_CONCAT_QCed_INSPECTED.nrrd --outputVolume IDDC_correctedDWI.nrrd --referenceVolume /Volumes/scratch/TESTS/IpythonNotebook/1_DWI_Nipype_workflow/DWIWorkflow_823955340_20080609_30/ForceDCtoID/mapflow/_ForceDCtoID1/IDDC_T2toB0.nrrd --warpDWITransform /Volumes/scratch/TESTS/IpythonNotebook/1_DWI_Nipype_workflow/DWIWorkflow_823955340_20080609_30/antsReg_B0ToTransformedT2/TsynComposite.h5\n"
       ]
      },
      {
       "output_type": "stream",
       "stream": "stderr",
       "text": [
        "INFO:interface:stdout 2015-01-08T11:26:18.906423:=====================================================\n"
       ]
      },
      {
       "output_type": "stream",
       "stream": "stderr",
       "text": [
        "INFO:interface:stdout 2015-01-08T11:26:18.906423:DWI Image: /Volumes/scratch/TESTS/IpythonNotebook/1_DWI_Nipype_workflow/DWIWorkflow_823955340_20080609_30/DWI_ForceDCtoIDNode/IDDC_823955340_823955340_20080609_30_DWI_CONCAT_QCed_INSPECTED.nrrd\n"
       ]
      },
      {
       "output_type": "stream",
       "stream": "stderr",
       "text": [
        "INFO:interface:stdout 2015-01-08T11:26:18.906423:Input Transform: \n"
       ]
      },
      {
       "output_type": "stream",
       "stream": "stderr",
       "text": [
        "INFO:interface:stdout 2015-01-08T11:26:18.906423:warpDWI Transform: /Volumes/scratch/TESTS/IpythonNotebook/1_DWI_Nipype_workflow/DWIWorkflow_823955340_20080609_30/antsReg_B0ToTransformedT2/TsynComposite.h5\n"
       ]
      },
      {
       "output_type": "stream",
       "stream": "stderr",
       "text": [
        "INFO:interface:stdout 2015-01-08T11:26:18.906423:Output Image: IDDC_correctedDWI.nrrd\n"
       ]
      },
      {
       "output_type": "stream",
       "stream": "stderr",
       "text": [
        "INFO:interface:stdout 2015-01-08T11:26:18.906423:Debug Level: 0\n"
       ]
      },
      {
       "output_type": "stream",
       "stream": "stderr",
       "text": [
        "INFO:interface:stdout 2015-01-08T11:26:18.910075:Image Output Size: 0,0,0\n"
       ]
      },
      {
       "output_type": "stream",
       "stream": "stderr",
       "text": [
        "INFO:interface:stdout 2015-01-08T11:26:18.910075:=====================================================\n"
       ]
      },
      {
       "output_type": "stream",
       "stream": "stderr",
       "text": [
        "INFO:interface:stdout 2015-01-08T11:26:19.025007:Read Image\n"
       ]
      },
      {
       "output_type": "stream",
       "stream": "stderr",
       "text": [
        "INFO:interface:stdout 2015-01-08T11:26:19.025908:Read ITK transform from file: /Volumes/scratch/TESTS/IpythonNotebook/1_DWI_Nipype_workflow/DWIWorkflow_823955340_20080609_30/antsReg_B0ToTransformedT2/TsynComposite.h5\n"
       ]
      },
      {
       "output_type": "stream",
       "stream": "stderr",
       "text": [
        "INFO:interface:stdout 2015-01-08T11:26:19.217998:HACK: 0  CompositeTransform\n"
       ]
      },
      {
       "output_type": "stream",
       "stream": "stderr",
       "text": [
        "INFO:interface:stdout 2015-01-08T11:26:19.218876:Input DWI image measurement frame: 0.999572 0.0242367 0.016409\n"
       ]
      },
      {
       "output_type": "stream",
       "stream": "stderr",
       "text": [
        "INFO:interface:stdout 2015-01-08T11:26:19.218876:-0.0243859 0.999663 0.00895487\n"
       ]
      },
      {
       "output_type": "stream",
       "stream": "stderr",
       "text": [
        "INFO:interface:stdout 2015-01-08T11:26:19.218876:-0.0161864 -0.00935118 0.999825\n"
       ]
      },
      {
       "output_type": "stream",
       "stream": "stderr",
       "text": [
        "INFO:interface:stdout 2015-01-08T11:26:19.218876:\n"
       ]
      },
      {
       "output_type": "stream",
       "stream": "stderr",
       "text": [
        "INFO:interface:stdout 2015-01-08T11:26:19.218876:Input DWI image vector length: 21\n"
       ]
      },
      {
       "output_type": "stream",
       "stream": "stderr",
       "text": [
        "INFO:interface:stdout 2015-01-08T11:26:19.261255:Rigid transform matrix: 1 0 0\n"
       ]
      },
      {
       "output_type": "stream",
       "stream": "stderr",
       "text": [
        "INFO:interface:stdout 2015-01-08T11:26:19.261255:0 1 0\n"
       ]
      },
      {
       "output_type": "stream",
       "stream": "stderr",
       "text": [
        "INFO:interface:stdout 2015-01-08T11:26:19.261255:0 0 1\n"
       ]
      },
      {
       "output_type": "stream",
       "stream": "stderr",
       "text": [
        "INFO:interface:stdout 2015-01-08T11:26:19.261255:\n"
       ]
      },
      {
       "output_type": "stream",
       "stream": "stderr",
       "text": [
        "INFO:interface:stdout 2015-01-08T11:26:19.264152:Input DWI Image Origin: ( -109.009, -109.767, -56.6923 )\n"
       ]
      },
      {
       "output_type": "stream",
       "stream": "stderr",
       "text": [
        "INFO:interface:stdout 2015-01-08T11:26:19.264152:Input DWI Image Size: 112 112 64\n"
       ]
      },
      {
       "output_type": "stream",
       "stream": "stderr",
       "text": [
        "INFO:interface:stdout 2015-01-08T11:26:19.264152: \n"
       ]
      },
      {
       "output_type": "stream",
       "stream": "stderr",
       "text": [
        "INFO:interface:stdout 2015-01-08T11:26:19.264152:Output DWI Image Origin: ( -109.009, -109.767, -56.6923 )\n"
       ]
      },
      {
       "output_type": "stream",
       "stream": "stderr",
       "text": [
        "INFO:interface:stdout 2015-01-08T11:26:19.264152:Output DWI Image Size: 112 112 64\n"
       ]
      },
      {
       "output_type": "stream",
       "stream": "stderr",
       "text": [
        "INFO:workflow:Executing node RestoreDCFromSavedMatrix in dir: /scratch/TESTS/IpythonNotebook/1_DWI_Nipype_workflow/DWIWorkflow_823955340_20080609_30/RestoreDCFromSavedMatrix\n"
       ]
      },
      {
       "output_type": "stream",
       "stream": "stderr",
       "text": [
        "INFO:workflow:Executing node gtractResampleDWIInPlace_Trigid in dir: /scratch/TESTS/IpythonNotebook/1_DWI_Nipype_workflow/DWIWorkflow_823955340_20080609_30/gtractResampleDWIInPlace_Trigid\n"
       ]
      },
      {
       "output_type": "stream",
       "stream": "stderr",
       "text": [
        "INFO:workflow:Running:  gtractResampleDWIInPlace  --inputTransform /Volumes/scratch/TESTS/IpythonNotebook/1_DWI_Nipype_workflow/DWIWorkflow_823955340_20080609_30/GetRigidTransformInverse/Inverse_T2ToB0_RigidTransform.h5 --inputVolume /Volumes/scratch/TESTS/IpythonNotebook/1_DWI_Nipype_workflow/DWIWorkflow_823955340_20080609_30/RestoreDCFromSavedMatrix/correctedDWI.nrrd --outputResampledB0 CorrectedDW_in_T2Space_B0.nrrd --outputVolume CorrectedDW_in_T2Space.nrrd\n"
       ]
      },
      {
       "output_type": "stream",
       "stream": "stderr",
       "text": [
        "INFO:interface:stdout 2015-01-08T11:26:23.677201:=====================================================\n"
       ]
      },
      {
       "output_type": "stream",
       "stream": "stderr",
       "text": [
        "INFO:interface:stdout 2015-01-08T11:26:23.677201:DWI Image: /Volumes/scratch/TESTS/IpythonNotebook/1_DWI_Nipype_workflow/DWIWorkflow_823955340_20080609_30/RestoreDCFromSavedMatrix/correctedDWI.nrrd\n"
       ]
      },
      {
       "output_type": "stream",
       "stream": "stderr",
       "text": [
        "INFO:interface:stdout 2015-01-08T11:26:23.677201:Input Transform: /Volumes/scratch/TESTS/IpythonNotebook/1_DWI_Nipype_workflow/DWIWorkflow_823955340_20080609_30/GetRigidTransformInverse/Inverse_T2ToB0_RigidTransform.h5\n"
       ]
      },
      {
       "output_type": "stream",
       "stream": "stderr",
       "text": [
        "INFO:interface:stdout 2015-01-08T11:26:23.677201:warpDWI Transform: \n"
       ]
      },
      {
       "output_type": "stream",
       "stream": "stderr",
       "text": [
        "INFO:interface:stdout 2015-01-08T11:26:23.677201:Output Image: CorrectedDW_in_T2Space.nrrd\n"
       ]
      },
      {
       "output_type": "stream",
       "stream": "stderr",
       "text": [
        "INFO:interface:stdout 2015-01-08T11:26:23.677201:Debug Level: 0\n"
       ]
      },
      {
       "output_type": "stream",
       "stream": "stderr",
       "text": [
        "INFO:interface:stdout 2015-01-08T11:26:23.677201:Image Output Size: 0,0,0\n"
       ]
      },
      {
       "output_type": "stream",
       "stream": "stderr",
       "text": [
        "INFO:interface:stdout 2015-01-08T11:26:23.677201:=====================================================\n"
       ]
      },
      {
       "output_type": "stream",
       "stream": "stderr",
       "text": [
        "INFO:interface:stdout 2015-01-08T11:26:23.781583:Read Image\n"
       ]
      },
      {
       "output_type": "stream",
       "stream": "stderr",
       "text": [
        "INFO:interface:stdout 2015-01-08T11:26:23.782424:Read ITK transform from file: /Volumes/scratch/TESTS/IpythonNotebook/1_DWI_Nipype_workflow/DWIWorkflow_823955340_20080609_30/GetRigidTransformInverse/Inverse_T2ToB0_RigidTransform.h5\n"
       ]
      },
      {
       "output_type": "stream",
       "stream": "stderr",
       "text": [
        "INFO:interface:stdout 2015-01-08T11:26:23.788246:HACK: 0  VersorRigid3DTransform\n"
       ]
      },
      {
       "output_type": "stream",
       "stream": "stderr",
       "text": [
        "INFO:interface:stdout 2015-01-08T11:26:23.788679:Input DWI image measurement frame: 1 -5.80048e-18 0\n"
       ]
      },
      {
       "output_type": "stream",
       "stream": "stderr",
       "text": [
        "INFO:interface:stdout 2015-01-08T11:26:23.788679:-2.33103e-18 1 1.73472e-18\n"
       ]
      },
      {
       "output_type": "stream",
       "stream": "stderr",
       "text": [
        "INFO:interface:stdout 2015-01-08T11:26:23.788679:0 -1.73472e-18 1\n"
       ]
      },
      {
       "output_type": "stream",
       "stream": "stderr",
       "text": [
        "INFO:interface:stdout 2015-01-08T11:26:23.788679:\n"
       ]
      },
      {
       "output_type": "stream",
       "stream": "stderr",
       "text": [
        "INFO:interface:stdout 2015-01-08T11:26:23.788679:Input DWI image vector length: 21\n"
       ]
      },
      {
       "output_type": "stream",
       "stream": "stderr",
       "text": [
        "INFO:interface:stdout 2015-01-08T11:26:23.806419:Rigid transform matrix: 0.999553 -0.0298358 -0.00171567\n"
       ]
      },
      {
       "output_type": "stream",
       "stream": "stderr",
       "text": [
        "INFO:interface:stdout 2015-01-08T11:26:23.806419:0.0298101 0.991337 0.127915\n"
       ]
      },
      {
       "output_type": "stream",
       "stream": "stderr",
       "text": [
        "INFO:interface:stdout 2015-01-08T11:26:23.806419:-0.00211562 -0.127909 0.991784\n"
       ]
      },
      {
       "output_type": "stream",
       "stream": "stderr",
       "text": [
        "INFO:interface:stdout 2015-01-08T11:26:23.806419:\n"
       ]
      },
      {
       "output_type": "stream",
       "stream": "stderr",
       "text": [
        "INFO:interface:stdout 2015-01-08T11:26:23.808467:Input DWI Image Origin: ( -106.835, -71.8123, -62.3933 )\n"
       ]
      },
      {
       "output_type": "stream",
       "stream": "stderr",
       "text": [
        "INFO:interface:stdout 2015-01-08T11:26:23.808467:Input DWI Image Size: 112 112 64\n"
       ]
      },
      {
       "output_type": "stream",
       "stream": "stderr",
       "text": [
        "INFO:interface:stdout 2015-01-08T11:26:23.808467: \n"
       ]
      },
      {
       "output_type": "stream",
       "stream": "stderr",
       "text": [
        "INFO:interface:stdout 2015-01-08T11:26:23.808467:Output DWI Image Origin: ( -106.835, -71.8123, -62.3933 )\n"
       ]
      },
      {
       "output_type": "stream",
       "stream": "stderr",
       "text": [
        "INFO:interface:stdout 2015-01-08T11:26:23.808467:Output DWI Image Size: 112 112 64\n"
       ]
      },
      {
       "metadata": {},
       "output_type": "pyout",
       "prompt_number": 4,
       "text": [
        "<networkx.classes.digraph.DiGraph at 0x1185a3b10>"
       ]
      }
     ],
     "prompt_number": 4
    },
    {
     "cell_type": "code",
     "collapsed": false,
     "input": [],
     "language": "python",
     "metadata": {},
     "outputs": []
    },
    {
     "cell_type": "code",
     "collapsed": false,
     "input": [],
     "language": "python",
     "metadata": {},
     "outputs": []
    }
   ],
   "metadata": {}
  }
 ]
}