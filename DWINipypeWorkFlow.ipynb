{
 "metadata": {
  "name": "",
  "signature": "sha256:6957d28117746c946e4f3109decd9e8f4d938623b6815bb7559e225ef6902ec3"
 },
 "nbformat": 3,
 "nbformat_minor": 0,
 "worksheets": [
  {
   "cells": [
    {
     "cell_type": "markdown",
     "metadata": {},
     "source": [
      "Purpose\n",
      "=======\n",
      "\n",
      "The purpose of this pipeline is to complete all the pre-processing steps needed to turn diffusion-weighted images into FA images that will be used to build a template diffusion tensor atlas for fiber tracking.\n",
      "\n",
      "Inputs\n",
      "======\n",
      "The input to this pipeline is a list of subject IDs that is used to generate lists of the corresponding DWIs processed with automated quality control, T2s, and brain label images that are treated as brain masks.\n",
      " \n",
      "Pipeline Steps for CreateDWIWorkflow\n",
      "====================================\n",
      "{Fill this part later}"
     ]
    },
    {
     "cell_type": "code",
     "collapsed": false,
     "input": [
      "## Boiler plate code common to many notebooks.  See the TestFilesCommonCode.ipynb for details\n",
      "from __future__ import print_function\n",
      "%run TestFilesCommonCode.ipynb"
     ],
     "language": "python",
     "metadata": {},
     "outputs": [
      {
       "output_type": "stream",
       "stream": "stdout",
       "text": [
        "SimpleITK Version: 0.9.0.dev2151-g2a716\n",
        "Compiled: Dec 23 2014 21:10:53\n",
        "\n"
       ]
      }
     ],
     "prompt_number": 16
    },
    {
     "cell_type": "code",
     "collapsed": false,
     "input": [
      "# erode the label mask\n",
      "erodeFilter = sitk.BinaryErodeImageFilter()\n",
      "erodeFilter.SetKernelRadius(8)\n",
      "eroded_mask = erodeFilter.Execute( label_mask )\n",
      "\n",
      "# dilate the label mask\n",
      "dilateFilter = sitk.BinaryDilateImageFilter()\n",
      "dilateFilter.SetKernelRadius(8)\n",
      "dilated_mask = dilateFilter.Execute( label_mask )\n",
      "\n",
      "registrationMask = eroded_mask - dilated_mask\n",
      "myshow(registrationMask)"
     ],
     "language": "python",
     "metadata": {},
     "outputs": [
      {
       "ename": "NameError",
       "evalue": "name 'label_mask' is not defined",
       "output_type": "pyerr",
       "traceback": [
        "\u001b[0;31m---------------------------------------------------------------------------\u001b[0m\n\u001b[0;31mNameError\u001b[0m                                 Traceback (most recent call last)",
        "\u001b[0;32m<ipython-input-17-9c2b283820f7>\u001b[0m in \u001b[0;36m<module>\u001b[0;34m()\u001b[0m\n\u001b[1;32m      2\u001b[0m \u001b[0merodeFilter\u001b[0m \u001b[0;34m=\u001b[0m \u001b[0msitk\u001b[0m\u001b[0;34m.\u001b[0m\u001b[0mBinaryErodeImageFilter\u001b[0m\u001b[0;34m(\u001b[0m\u001b[0;34m)\u001b[0m\u001b[0;34m\u001b[0m\u001b[0m\n\u001b[1;32m      3\u001b[0m \u001b[0merodeFilter\u001b[0m\u001b[0;34m.\u001b[0m\u001b[0mSetKernelRadius\u001b[0m\u001b[0;34m(\u001b[0m\u001b[0;36m8\u001b[0m\u001b[0;34m)\u001b[0m\u001b[0;34m\u001b[0m\u001b[0m\n\u001b[0;32m----> 4\u001b[0;31m \u001b[0meroded_mask\u001b[0m \u001b[0;34m=\u001b[0m \u001b[0merodeFilter\u001b[0m\u001b[0;34m.\u001b[0m\u001b[0mExecute\u001b[0m\u001b[0;34m(\u001b[0m \u001b[0mlabel_mask\u001b[0m \u001b[0;34m)\u001b[0m\u001b[0;34m\u001b[0m\u001b[0m\n\u001b[0m\u001b[1;32m      5\u001b[0m \u001b[0;34m\u001b[0m\u001b[0m\n\u001b[1;32m      6\u001b[0m \u001b[0;31m# dilate the label mask\u001b[0m\u001b[0;34m\u001b[0m\u001b[0;34m\u001b[0m\u001b[0m\n",
        "\u001b[0;31mNameError\u001b[0m: name 'label_mask' is not defined"
       ]
      }
     ],
     "prompt_number": 17
    },
    {
     "cell_type": "code",
     "collapsed": false,
     "input": [
      "import os\n",
      "import glob\n",
      "import sys\n",
      "\n",
      "#\\/\\/\\/\\/\\/\\/\\/\\/\\/\\/\\/\\/\\/\\/\\/\\/\\/\\/\\/\\/\\/\\/\\/\\/\\/\\/\\/\\/\\/\\/\\/\\/\\/\\/\\/\\/\\/\\/\\/\\/\\/\\/\\/\n",
      "#####################################################################################\n",
      "#     Prepend the shell environment search paths\n",
      "PROGRAM_PATHS = '/scratch/BS/release/bin'\n",
      "PROGRAM_PATHS = PROGRAM_PATHS.split(':')\n",
      "PROGRAM_PATHS.extend(os.environ['PATH'].split(':'))\n",
      "os.environ['PATH'] = ':'.join(PROGRAM_PATHS)\n",
      "\n",
      "CUSTOM_ENVIRONMENT=dict()\n",
      "\n",
      "# Platform specific information\n",
      "#     Prepend the python search paths\n",
      "PYTHON_AUX_PATHS = '/scratch/BS/BRAINSTools/AutoWorkup:/raid0/homes/johnsonhj/src/BSA-clang31/NIPYPE'\n",
      "PYTHON_AUX_PATHS = PYTHON_AUX_PATHS.split(':')\n",
      "PYTHON_AUX_PATHS.extend(sys.path)\n",
      "sys.path = PYTHON_AUX_PATHS\n",
      "\n",
      "import SimpleITK as sitk\n",
      "import nipype\n",
      "from nipype.interfaces import ants\n",
      "from nipype.interfaces.base import CommandLine, CommandLineInputSpec, TraitedSpec, File, Directory\n",
      "from nipype.interfaces.base import traits, isdefined, BaseInterface\n",
      "from nipype.interfaces.utility import Merge, Split, Function, Rename, IdentityInterface\n",
      "import nipype.interfaces.io as nio   # Data i/oS\n",
      "import nipype.pipeline.engine as pe  # pypeline engine\n",
      "from nipype.interfaces.freesurfer import ReconAll\n",
      "from SEMTools import *"
     ],
     "language": "python",
     "metadata": {},
     "outputs": [],
     "prompt_number": 76
    },
    {
     "cell_type": "code",
     "collapsed": false,
     "input": [
      "WFname=\"DWIPrototype_1Subject\"\n",
      "DWIWorkflow = pe.Workflow(name=WFname)\n",
      "\n",
      "inputsSpec = pe.Node(interface=IdentityInterface(fields=['T2Volume', 'DWIVolume','LabelMapVolume']), \n",
      "                                                  name='inputspec')\n",
      "\n",
      "inputsSpec.inputs.DWIVolume = '/Shared/johnsonhj/TrackOn/Experiments/20140203_DWIProcessing/VISUALLY_INSPECTED/HDNI_001/249903245/249903245_20110719_30/249903245_249903245_20110719_30_DWI_CONCAT_QCed_INSPECTED.nrrd'\n",
      "inputsSpec.inputs.T2Volume = '/Shared/sinapse/CACHE/20141124_TrackOn_base_Results/HDNI_001/249903245/249903245_20110719_30/TissueClassify/t2_average_BRAINSABC.nii.gz'\n",
      "inputsSpec.inputs.LabelMapVolume = '/Shared/sinapse/CACHE/20141124_TrackOn_base_Results/HDNI_001/249903245/249903245_20110719_30/TissueClassify/complete_brainlabels_seg.nii.gz'\n",
      "\n",
      "def ExtractBRAINFromHead(RawScan, BrainLabels):\n",
      "    # Remove skull from the head scan\n",
      "    headImage = sitk.ReadImage(RawScan)\n",
      "    labelsMap = sitk.ReadImage(BrainLabels)\n",
      "    label_mask = labelsMap>0\n",
      "    outputVolume = sitk.Cast(headImage,sitk.sitkInt16) * sitk.Cast(label_mask,sitk.sitkInt16)\n",
      "    return outputVolume\n",
      "\n",
      "ExtractBRAINFromHeadNode = pe.Node(interface=Function(function = ExtractBRAINFromHead, \n",
      "                                                      input_names=['RawScan','BrainLabels'],\n",
      "                                                      output_names=['outputVolume']),\n",
      "                                                      run_without_submitting=True, \n",
      "                                                      name=\"ExtractBRAINFromHeadNode\")\n",
      "\n",
      "DWIWorkflow.connect(inputsSpec, 'T2Volume', ExtractBRAINFromHeadNode, 'RawScan')\n",
      "DWIWorkflow.connect(inputsSpec, 'LabelMapVolume', ExtractBRAINFromHeadNode, 'BrainLabels')\n",
      "\n",
      "EXTRACT_B0 = pe.Node(interface=extractNrrdVectorIndex(),name=\"EXTRACT_B0\")\n",
      "EXTRACT_B0.inputs.vectorIndex = 0\n",
      "EXTRACT_B0.inputs.outputVolume = 'B0_Image.nrrd'\n",
      "DWIWorkflow.connect(inputsSpec,'DWIVolume',EXTRACT_B0,'inputVolume')\n",
      "\n",
      "# Register T2 to B0 space\n",
      "BFit_T2toB0 = pe.Node(interface=BRAINSFit(), name=\"BFit_T2toB0\")\n",
      "BFit_T2toB0.inputs.costMetric = \"MMI\"\n",
      "BFit_T2toB0.inputs.numberOfSamples = 100000\n",
      "BFit_T2toB0.inputs.numberOfIterations = [1500]\n",
      "BFit_T2toB0.inputs.numberOfHistogramBins = 50\n",
      "BFit_T2toB0.inputs.maximumStepLength = 0.2\n",
      "BFit_T2toB0.inputs.minimumStepLength = [0.00005]\n",
      "BFit_T2toB0.inputs.useRigid = True\n",
      "BFit_T2toB0.inputs.useAffine = True\n",
      "BFit_T2toB0.inputs.maskInferiorCutOffFromCenter = 65\n",
      "BFit_T2toB0.inputs.maskProcessingMode = \"ROIAUTO\"\n",
      "BFit_T2toB0.inputs.ROIAutoDilateSize = 13\n",
      "BFit_T2toB0.inputs.backgroundFillValue = 0.0\n",
      "BFit_T2toB0.inputs.initializeTransformMode = 'useCenterOfHeadAlign'\n",
      "\n",
      "BFit_T2toB0.inputs.strippedOutputTransform = \"T2ToB0_RigidTransform.h5\"\n",
      "BFit_T2toB0.inputs.outputVolume = \"T2_in_B0Space_Output.nii.gz\"\n",
      "\n",
      "DWIWorkflow.connect(EXTRACT_B0, 'outputVolume', BFit_T2toB0, 'fixedVolume')\n",
      "DWIWorkflow.connect(ExtractBRAINFromHeadNode, 'outputVolume', BFit_T2toB0, 'movingVolume')\n",
      "\n",
      "# Now we should remove the the direction cosine from B0 and T2inB0Sapce images.\n",
      "#def ExtractDCasTransform(inputVolume):\n",
      "#    Tx = sitk.AffineTransform(3)\n",
      "#    Tx.SetMatrix(inputVolume.GetDirection())\n",
      "#    inputVolume.SetDirection([1.0,0.0,0.0,0.0,1.0,0.0,0.0,0.0,1.0])\n",
      "#    return Tx\n",
      "    \n",
      "# for now we skip the direction cosine forcement\n",
      "\n",
      "# Run antsRegistration\n",
      "antsReg_B0ToTransformedT2 = pe.Node(interface=ants.Registration(), name=\"antsReg_B0ToTransformedT2\")\n",
      "antsReg_B0ToTransformedT2.inputs.dimension = 3\n",
      "antsReg_B0ToTransformedT2.inputs.transforms = [\"SyN\"]\n",
      "antsReg_B0ToTransformedT2.inputs.transform_parameters = [[0.25, 3, 0]]\n",
      "antsReg_B0ToTransformedT2.inputs.metric = ['MI']\n",
      "antsReg_B0ToTransformedT2.inputs.sampling_strategy = [None]\n",
      "antsReg_B0ToTransformedT2.inputs.sampling_percentage = [1.0]\n",
      "antsReg_B0ToTransformedT2.inputs.metric_weight = [1.0]\n",
      "antsReg_B0ToTransformedT2.inputs.radius_or_number_of_bins = [32]\n",
      "antsReg_B0ToTransformedT2.inputs.number_of_iterations = [[70,50,40]]\n",
      "antsReg_B0ToTransformedT2.inputs.convergence_threshold = [1e-6]\n",
      "antsReg_B0ToTransformedT2.inputs.convergence_window_size = [10]\n",
      "antsReg_B0ToTransformedT2.inputs.use_histogram_matching = [True]\n",
      "antsReg_B0ToTransformedT2.inputs.shrink_factors = [[3,2,1]]\n",
      "antsReg_B0ToTransformedT2.inputs.smoothing_sigmas = [[2,1,0]]\n",
      "antsReg_B0ToTransformedT2.inputs.sigma_units = [\"vox\"]\n",
      "antsReg_B0ToTransformedT2.inputs.use_estimate_learning_rate_once = [False]\n",
      "antsReg_B0ToTransformedT2.inputs.write_composite_transform = False\n",
      "antsReg_B0ToTransformedT2.inputs.collapse_output_transforms = False\n",
      "#antsReg_B0ToTransformedT2.inputs.initialize_transforms_per_stage = False\n",
      "antsReg_B0ToTransformedT2.inputs.output_transform_prefix = 'Tsyn'\n",
      "antsReg_B0ToTransformedT2.inputs.winsorize_lower_quantile = 0.01\n",
      "antsReg_B0ToTransformedT2.inputs.winsorize_upper_quantile = 0.99\n",
      "antsReg_B0ToTransformedT2.inputs.restrict-deformation = [[0.1,1.0,0.1]]\n",
      "\n",
      "DWIWorkflow.connect(BFit_T2toB0, 'outputVolume', antsReg_B0ToTransformedT2, 'fixed_image')\n",
      "DWIWorkflow.connect(EXTRACT_B0, 'outputVolume', antsReg_B0ToTransformedT2, 'moving_image')\n"
     ],
     "language": "python",
     "metadata": {},
     "outputs": [
      {
       "ename": "SyntaxError",
       "evalue": "can't assign to operator (<ipython-input-89-e7f37508dc85>, line 88)",
       "output_type": "pyerr",
       "traceback": [
        "\u001b[0;36m  File \u001b[0;32m\"<ipython-input-89-e7f37508dc85>\"\u001b[0;36m, line \u001b[0;32m88\u001b[0m\n\u001b[0;31m    antsReg_B0ToTransformedT2.inputs.restrict-deformation = [[0.1,1.0,0.1]]\u001b[0m\n\u001b[0;31mSyntaxError\u001b[0m\u001b[0;31m:\u001b[0m can't assign to operator\n"
       ]
      }
     ],
     "prompt_number": 89
    },
    {
     "cell_type": "code",
     "collapsed": false,
     "input": [],
     "language": "python",
     "metadata": {},
     "outputs": []
    }
   ],
   "metadata": {}
  }
 ]
}