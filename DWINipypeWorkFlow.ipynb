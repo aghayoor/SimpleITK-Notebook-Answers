{
 "metadata": {
  "name": "",
  "signature": "sha256:0d64596f53cae8fcbde577459d0c9a4d2f5afc3a80b4324e76e6cd6e87e0f959"
 },
 "nbformat": 3,
 "nbformat_minor": 0,
 "worksheets": [
  {
   "cells": [
    {
     "cell_type": "markdown",
     "metadata": {},
     "source": [
      "Purpose\n",
      "=======\n",
      "\n",
      "The purpose of this pipeline is to complete all the pre-processing steps needed to turn diffusion-weighted images into FA images that will be used to build a template diffusion tensor atlas for fiber tracking.\n",
      "\n",
      "Inputs\n",
      "======\n",
      "The input to this pipeline is a list of subject IDs that is used to generate lists of the corresponding DWIs processed with automated quality control, T2s, and brain label images that are treated as brain masks.\n",
      " \n",
      "Pipeline Steps for CreateDWIWorkflow\n",
      "====================================\n",
      "{Fill this part later}"
     ]
    },
    {
     "cell_type": "code",
     "collapsed": false,
     "input": [
      "## Boiler plate code common to many notebooks.  See the TestFilesCommonCode.ipynb for details\n",
      "#from __future__ import print_function\n",
      "#%run TestFilesCommonCode.ipynb"
     ],
     "language": "python",
     "metadata": {},
     "outputs": [],
     "prompt_number": 36
    },
    {
     "cell_type": "code",
     "collapsed": false,
     "input": [
      "import os\n",
      "import glob\n",
      "import sys\n",
      "\n",
      "#\\/\\/\\/\\/\\/\\/\\/\\/\\/\\/\\/\\/\\/\\/\\/\\/\\/\\/\\/\\/\\/\\/\\/\\/\\/\\/\\/\\/\\/\\/\\/\\/\\/\\/\\/\\/\\/\\/\\/\\/\\/\\/\\/\n",
      "#####################################################################################\n",
      "#     Prepend the shell environment search paths\n",
      "PROGRAM_PATHS = '/scratch/NAMICExternalProjects/release/bin'\n",
      "PROGRAM_PATHS = PROGRAM_PATHS.split(':')\n",
      "PROGRAM_PATHS.extend(os.environ['PATH'].split(':'))\n",
      "os.environ['PATH'] = ':'.join(PROGRAM_PATHS)\n",
      "\n",
      "CUSTOM_ENVIRONMENT=dict()\n",
      "\n",
      "# Platform specific information\n",
      "#     Prepend the python search paths\n",
      "PYTHON_AUX_PATHS = '/scratch/NAMICExternalProjects/release/BRAINSTools/AutoWorkup'\n",
      "PYTHON_AUX_PATHS = PYTHON_AUX_PATHS.split(':')\n",
      "PYTHON_AUX_PATHS.extend(sys.path)\n",
      "sys.path = PYTHON_AUX_PATHS\n",
      "\n",
      "import SimpleITK as sitk\n",
      "import nipype\n",
      "from nipype.interfaces import ants\n",
      "from nipype.interfaces.base import CommandLine, CommandLineInputSpec, TraitedSpec, File, Directory\n",
      "from nipype.interfaces.base import traits, isdefined, BaseInterface\n",
      "from nipype.interfaces.utility import Merge, Split, Function, Rename, IdentityInterface\n",
      "import nipype.interfaces.io as nio   # Data i/oS\n",
      "import nipype.pipeline.engine as pe  # pypeline engine\n",
      "from nipype.interfaces.freesurfer import ReconAll\n",
      "from SEMTools import *"
     ],
     "language": "python",
     "metadata": {},
     "outputs": [],
     "prompt_number": 37
    },
    {
     "cell_type": "code",
     "collapsed": false,
     "input": [
      "WFname=\"DWIPrototype_only1Subject\"\n",
      "DWIWorkflow = pe.Workflow(name=WFname)\n",
      "BASE_DIR = os.path.join('/scratch/TESTS/IpythonNotebook', '1_DWI_Nipype_workflow')\n",
      "DWIWorkflow.base_dir = BASE_DIR\n",
      "\n",
      "inputsSpec = pe.Node(interface=IdentityInterface(fields=['T2Volume', 'DWIVolume','LabelMapVolume']), \n",
      "                     name='inputspec')\n",
      "\n",
      "inputsSpec.inputs.DWIVolume = '/Shared/johnsonhj/TrackOn/Experiments/20140203_DWIProcessing/VISUALLY_INSPECTED/HDNI_001/249903245/249903245_20110719_30/249903245_249903245_20110719_30_DWI_CONCAT_QCed_INSPECTED.nrrd'\n",
      "inputsSpec.inputs.T2Volume = '/Shared/sinapse/CACHE/20141124_TrackOn_base_Results/HDNI_001/249903245/249903245_20110719_30/TissueClassify/t2_average_BRAINSABC.nii.gz'\n",
      "inputsSpec.inputs.LabelMapVolume = '/Shared/sinapse/CACHE/20141124_TrackOn_base_Results/HDNI_001/249903245/249903245_20110719_30/TissueClassify/complete_brainlabels_seg.nii.gz'\n",
      "\n",
      "outputsSpec = pe.Node(interface=IdentityInterface(fields=['CorrectedDW_in_T2Space','CorrectedDW_in_T2Space_B0']),\n",
      "                      name='outputsSpec')\n",
      "\n",
      "# Step0: remove the skull from the T2 volume\n",
      "def ExtractBRAINFromHead(RawScan, BrainLabels):\n",
      "    import os\n",
      "    import SimpleITK as sitk\n",
      "    # Remove skull from the head scan\n",
      "    assert os.path.exists(RawScan), \"File not found: %s\" % RawScan\n",
      "    assert os.path.exists(BrainLabels), \"File not found: %s\" % BrainLabels\n",
      "    headImage = sitk.ReadImage(RawScan)\n",
      "    labelsMap = sitk.ReadImage(BrainLabels)\n",
      "    label_mask = labelsMap>0\n",
      "    brainImage = sitk.Cast(headImage,sitk.sitkInt16) * sitk.Cast(label_mask,sitk.sitkInt16)\n",
      "    outputVolume = os.path.realpath('T2Stripped.nrrd')\n",
      "    sitk.WriteImage(brainImage, outputVolume)\n",
      "    return outputVolume\n",
      "\n",
      "ExtractBRAINFromHeadNode = pe.Node(interface=Function(function = ExtractBRAINFromHead, \n",
      "                                                      input_names=['RawScan','BrainLabels'],\n",
      "                                                      output_names=['outputVolume']), \n",
      "                                   name=\"ExtractBRAINFromHead\")\n",
      "\n",
      "DWIWorkflow.connect(inputsSpec, 'T2Volume', ExtractBRAINFromHeadNode, 'RawScan')\n",
      "DWIWorkflow.connect(inputsSpec, 'LabelMapVolume', ExtractBRAINFromHeadNode, 'BrainLabels')\n",
      "\n",
      "# Step1: extract B0 from DWI volume\n",
      "EXTRACT_B0 = pe.Node(interface=extractNrrdVectorIndex(),name=\"EXTRACT_B0\")\n",
      "EXTRACT_B0.inputs.vectorIndex = 0\n",
      "EXTRACT_B0.inputs.outputVolume = 'B0_Image.nrrd'\n",
      "DWIWorkflow.connect(inputsSpec,'DWIVolume',EXTRACT_B0,'inputVolume')\n",
      "\n",
      "# Step2: Register T2 to B0 space using BRAINSFit\n",
      "BFit_T2toB0 = pe.Node(interface=BRAINSFit(), name=\"BFit_T2toB0\")\n",
      "BFit_T2toB0.inputs.costMetric = \"MMI\"\n",
      "BFit_T2toB0.inputs.numberOfSamples = 100000\n",
      "BFit_T2toB0.inputs.numberOfIterations = [1500]\n",
      "BFit_T2toB0.inputs.numberOfHistogramBins = 50\n",
      "BFit_T2toB0.inputs.maximumStepLength = 0.2\n",
      "BFit_T2toB0.inputs.minimumStepLength = [0.00005]\n",
      "BFit_T2toB0.inputs.useRigid = True\n",
      "BFit_T2toB0.inputs.useAffine = True\n",
      "BFit_T2toB0.inputs.maskInferiorCutOffFromCenter = 65\n",
      "BFit_T2toB0.inputs.maskProcessingMode = \"ROIAUTO\"\n",
      "BFit_T2toB0.inputs.ROIAutoDilateSize = 13\n",
      "BFit_T2toB0.inputs.backgroundFillValue = 0.0\n",
      "BFit_T2toB0.inputs.initializeTransformMode = 'useCenterOfHeadAlign'\n",
      "BFit_T2toB0.inputs.strippedOutputTransform = \"T2ToB0_RigidTransform.h5\"\n",
      "#BFit_T2toB0.inputs.outputVolume = \"T2_in_B0Space_Output.nii.gz\"\n",
      "DWIWorkflow.connect(EXTRACT_B0, 'outputVolume', BFit_T2toB0, 'fixedVolume')\n",
      "DWIWorkflow.connect(ExtractBRAINFromHeadNode, 'outputVolume', BFit_T2toB0, 'movingVolume')\n",
      "#DWIWorkflow.connect(BFit_T2toB0, 'outputVolume', outputsSpec, 'T2_in_B0Space_Output')\n",
      "\n",
      "# Step3: Use T_rigid to \"resample\" T2 and label map images to B0 image space\n",
      "#------------\n",
      "def MakeResamplerInFileList(inputT2, inputLabelMap):\n",
      "    imagesList = [inputT2, inputLabelMap]\n",
      "    return imagesList\n",
      "    \n",
      "MakeResamplerInFilesListNode = pe.Node(Function(function=MakeResamplerInFileList,\n",
      "                                               input_names=['inputT2','inputLabelMap'],\n",
      "                                               output_names=['imagesList']),\n",
      "                                      name=\"MakeResamplerInFilesListNode\")\n",
      "\n",
      "DWIWorkflow.connect([(ExtractBRAINFromHeadNode,MakeResamplerInFilesListNode,[('outputVolume','inputT2')]),\n",
      "                     (inputsSpec,MakeResamplerInFilesListNode,[('LabelMapVolume','inputLabelMap')])])\n",
      "\n",
      "ResampleToB0Space = pe.MapNode(interface=BRAINSResample(), name=\"ResampleToB0Space\",\n",
      "                               iterfield=['inputVolume', 'interpolationMode', 'pixelType', 'outputVolume'])\n",
      "ResampleToB0Space.inputs.interpolationMode = ['Linear','NearestNeighbor']\n",
      "ResampleToB0Space.inputs.outputVolume = ['T2toB0.nrrd','BRAINMaskToB0.nrrd']\n",
      "ResampleToB0Space.inputs.pixelType = ['ushort','binary']\n",
      "DWIWorkflow.connect(BFit_T2toB0,'strippedOutputTransform',ResampleToB0Space,'warpTransform')\n",
      "DWIWorkflow.connect(EXTRACT_B0,'outputVolume',ResampleToB0Space,'referenceVolume')\n",
      "DWIWorkflow.connect(MakeResamplerInFilesListNode,'imagesList',ResampleToB0Space,'inputVolume')\n",
      "\n",
      "# This function helps to pick desirable output from the outputVolume list\n",
      "def pickFromList(inlist,item):\n",
      "    return inlist[item]\n",
      "\n",
      "# Step4: Create registration mask from resampled label map image\n",
      "def CreateAntsRegistrationMask(brainMask):\n",
      "    import os\n",
      "    import SimpleITK as sitk\n",
      "    assert os.path.exists(brainMask), \"File not found: %s\" % brainMask\n",
      "    labelsMap = sitk.ReadImage(brainMask)\n",
      "    label_mask = labelsMap>0\n",
      "    # erode the label mask\n",
      "    erodeFilter = sitk.BinaryErodeImageFilter()\n",
      "    erodeFilter.SetKernelRadius(4)\n",
      "    eroded_mask = erodeFilter.Execute( label_mask )\n",
      "    # dilate the label mask\n",
      "    dilateFilter = sitk.BinaryDilateImageFilter()\n",
      "    dilateFilter.SetKernelRadius(4)\n",
      "    dilated_mask = dilateFilter.Execute( label_mask )\n",
      "    regMask = eroded_mask - dilated_mask\n",
      "    registrationMask = os.path.realpath('registrationMask.nrrd')\n",
      "    sitk.WriteImage(regMask, registrationMask)\n",
      "    return registrationMask\n",
      "    \n",
      "CreateRegistrationMask = pe.Node(interface=Function(function = CreateAntsRegistrationMask, \n",
      "                                                    input_names=['brainMask'],\n",
      "                                                    output_names=['registrationMask']),\n",
      "                                 name=\"CreateAntsRegistrationMask\")\n",
      "\n",
      "DWIWorkflow.connect(ResampleToB0Space, ('outputVolume', pickFromList, 1), \n",
      "                    CreateRegistrationMask, 'brainMask')\n",
      "\n",
      "# Step5: Save direction cosine for the resampled T2 image\n",
      "def Save_T2inB0_DC(inputVolume):\n",
      "    import os\n",
      "    import SimpleITK as sitk\n",
      "    assert os.path.exists(inputVolume), \"File not found: %s\" % inputVolume\n",
      "    t2 = sitk.ReadImage(inputVolume)\n",
      "    dc = t2.GetDirection()\n",
      "    return dc\n",
      "\n",
      "SaveT2inB0DC = pe.Node(interface=Function(function = Save_T2inB0_DC, \n",
      "                                         input_names=['inputVolume'],\n",
      "                                         output_names=['directionCosine']),\n",
      "                      name=\"Save_T2inB0_DC\")\n",
      "\n",
      "DWIWorkflow.connect(ResampleToB0Space, ('outputVolume', pickFromList, 0), \n",
      "                    SaveT2inB0DC, 'inputVolume')\n",
      "\n",
      "# Step6: Force DC to ID\n",
      "def MakeForceDCFilesList(inputB0, inputT2, inputLabelMap):\n",
      "    import os\n",
      "    assert os.path.exists(inputB0), \"File not found: %s\" % inputB0\n",
      "    assert os.path.exists(inputT2), \"File not found: %s\" % inputT2\n",
      "    assert os.path.exists(inputLabelMap), \"File not found: %s\" % inputLabelMap\n",
      "    imagesList = [inputB0, inputT2, inputLabelMap]\n",
      "    return imagesList\n",
      "    \n",
      "MakeForceDCFilesListNode = pe.Node(Function(function=MakeForceDCFilesList,\n",
      "                                             input_names=['inputB0','inputT2','inputLabelMap'],\n",
      "                                             output_names=['imagesList']),\n",
      "                                    name=\"MakeForceDCFilesListNode\")\n",
      "\n",
      "\n",
      "DWIWorkflow.connect([(EXTRACT_B0,MakeForceDCFilesListNode,[('outputVolume','inputB0')]),\n",
      "                     (ResampleToB0Space,MakeForceDCFilesListNode,[(('outputVolume', pickFromList, 0),'inputT2')]),\n",
      "                     (CreateRegistrationMask,MakeForceDCFilesListNode,[('registrationMask','inputLabelMap')])])\n",
      "\n",
      "def ForceDCtoID(inputVolume):\n",
      "    import os\n",
      "    import SimpleITK as sitk\n",
      "    inImage = sitk.ReadImage(inputVolume)\n",
      "    inImage.SetDirection((1.0, 0.0, 0.0, 0.0, 1.0, 0.0, 0.0, 0.0, 1.0))\n",
      "    outputVolume = os.path.realpath('IDDC_'+ os.path.basename(inputVolume))\n",
      "    sitk.WriteImage(inImage, outputVolume)\n",
      "    return outputVolume\n",
      "\n",
      "ForceDCtoIDNode = pe.MapNode(interface=Function(function = ForceDCtoID, \n",
      "                                                input_names=['inputVolume'],\n",
      "                                                output_names=['outputVolume']), \n",
      "                             name=\"ForceDCtoID\",\n",
      "                             iterfield=['inputVolume'])\n",
      "\n",
      "DWIWorkflow.connect(MakeForceDCFilesListNode, 'imagesList', ForceDCtoIDNode, 'inputVolume')\n",
      "\n",
      "# Step7: Run antsRegistration in one direction\n",
      "antsReg_B0ToTransformedT2 = pe.Node(interface=ants.Registration(), name=\"antsReg_B0ToTransformedT2\")\n",
      "antsReg_B0ToTransformedT2.inputs.dimension = 3\n",
      "antsReg_B0ToTransformedT2.inputs.transforms = [\"SyN\"]\n",
      "antsReg_B0ToTransformedT2.inputs.transform_parameters = [(0.25, 3.0, 0.0)]\n",
      "antsReg_B0ToTransformedT2.inputs.metric = ['MI']\n",
      "antsReg_B0ToTransformedT2.inputs.sampling_strategy = [None]\n",
      "antsReg_B0ToTransformedT2.inputs.sampling_percentage = [1.0]\n",
      "antsReg_B0ToTransformedT2.inputs.metric_weight = [1.0]\n",
      "antsReg_B0ToTransformedT2.inputs.radius_or_number_of_bins = [32]\n",
      "antsReg_B0ToTransformedT2.inputs.number_of_iterations = [[70, 50, 40]]\n",
      "antsReg_B0ToTransformedT2.inputs.convergence_threshold = [1e-6]\n",
      "antsReg_B0ToTransformedT2.inputs.convergence_window_size = [10]\n",
      "antsReg_B0ToTransformedT2.inputs.use_histogram_matching = [True]\n",
      "antsReg_B0ToTransformedT2.inputs.shrink_factors = [[3, 2, 1]]\n",
      "antsReg_B0ToTransformedT2.inputs.smoothing_sigmas = [[2, 1, 0]]\n",
      "antsReg_B0ToTransformedT2.inputs.sigma_units = [\"vox\"]\n",
      "antsReg_B0ToTransformedT2.inputs.use_estimate_learning_rate_once = [False]\n",
      "antsReg_B0ToTransformedT2.inputs.write_composite_transform = True\n",
      "antsReg_B0ToTransformedT2.inputs.collapse_output_transforms = False\n",
      "antsReg_B0ToTransformedT2.inputs.initialize_transforms_per_stage = False\n",
      "antsReg_B0ToTransformedT2.inputs.output_transform_prefix = 'Tsyn'\n",
      "antsReg_B0ToTransformedT2.inputs.winsorize_lower_quantile = 0.01\n",
      "antsReg_B0ToTransformedT2.inputs.winsorize_upper_quantile = 0.99\n",
      "antsReg_B0ToTransformedT2.inputs.args = '--float 1 --restrict-deformation 0x1x0'\n",
      "\n",
      "DWIWorkflow.connect(ForceDCtoIDNode, ('outputVolume', pickFromList, 1), antsReg_B0ToTransformedT2, 'fixed_image')\n",
      "DWIWorkflow.connect(ForceDCtoIDNode, ('outputVolume', pickFromList, 2), antsReg_B0ToTransformedT2, 'fixed_image_mask')\n",
      "DWIWorkflow.connect(ForceDCtoIDNode, ('outputVolume', pickFromList, 0), antsReg_B0ToTransformedT2, 'moving_image')\n",
      "\n",
      "# Step8: Now, all necessary transforms are acquired. It's a time to \n",
      "#        transform input DWI image into T2 image space\n",
      "# {DWI} --> ForceDCtoID --> gtractResampleDWIInPlace(using SyN transfrom) \n",
      "# --> Force DC to the saved T2 DC --> gtractResampleDWIInPlace(inverse of T_rigid from BFit)\n",
      "# --> {CorrectedDW_in_T2Space}\n",
      "\n",
      "DWI_ForceDCtoIDNode = pe.Node(interface=Function(function = ForceDCtoID, \n",
      "                                                 input_names=['inputVolume'],\n",
      "                                                 output_names=['outputVolume']), \n",
      "                              name='DWI_ForceDCtoIDNode')\n",
      "\n",
      "DWIWorkflow.connect(inputsSpec,'DWIVolume',DWI_ForceDCtoIDNode,'inputVolume')\n",
      "\n",
      "\n",
      "gtractResampleDWIInPlace_SyN = pe.Node(interface=gtractResampleDWIInPlace(), \n",
      "                                       name=\"gtractResampleDWIInPlace_SyN\")\n",
      "\n",
      "DWIWorkflow.connect(DWI_ForceDCtoIDNode,'outputVolume',gtractResampleDWIInPlace_SyN,'inputVolume')\n",
      "DWIWorkflow.connect(antsReg_B0ToTransformedT2,'composite_transform',gtractResampleDWIInPlace_SyN,'warpDWITransform')\n",
      "DWIWorkflow.connect(ForceDCtoIDNode,('outputVolume', pickFromList, 1),gtractResampleDWIInPlace_SyN,'referenceVolume') # fixed image of antsRegistration\n",
      "\n",
      "def ForceDCtoSavedMatrix(inputVolume, inputDirectionCosine):\n",
      "    import os\n",
      "    import SimpleITK as sitk\n",
      "    inImage = sitk.ReadImage(inputVolume)\n",
      "    inImage.SetDirection(dc)\n",
      "    outputVolume = os.path.realpath('RestoredDC_'+ os.path.basename(inputVolume))\n",
      "    sitk.WriteImage(inImage, outputVolume)\n",
      "    return outputVolume\n",
      "\n",
      "ForceDCtoSavedMatrixNode = pe.Node(interface=Function(function = ForceDCtoSavedMatrix, \n",
      "                                                      input_names=['inputVolume','inputDirectionCosine'],\n",
      "                                                      output_names=['outputVolume']), \n",
      "                                    name='ForceDCtoSavedMatrix')\n",
      "\n",
      "DWIWorkflow.connect(gtractResampleDWIInPlace_SyN,'outputVolume',ForceDCtoSavedMatrixNode,'inputVolume')\n",
      "DWIWorkflow.connect(SaveT2inB0DC,'directionCosine',ForceDCtoSavedMatrixNode,'inputDirectionCosine')\n",
      "\n",
      "def GetTransfromInverse(inputTransfrom):\n",
      "    import SimpleITK as sitk\n",
      "    print(sitk.Version())\n",
      "    inverseTransfrom = sitk.Transform(inputTransfrom)\n",
      "    inverseTransfrom.SetInverse()\n",
      "    return inverseTransfrom\n",
      "\n",
      "GetTransfromInverseNode = pe.Node(interface=Function(function = GetTransfromInverse, \n",
      "                                                     input_names=['inputTransfrom'],\n",
      "                                                     output_names=['inverseTransfrom']), \n",
      "                                  name='GetTransfromInverse')\n",
      "\n",
      "DWIWorkflow.connect(BFit_T2toB0,'strippedOutputTransform',GetTransfromInverseNode,'inputTransfrom')\n",
      "\n",
      "gtractResampleDWIInPlace_Trigid = pe.Node(interface=gtractResampleDWIInPlace(), \n",
      "                                       name=\"gtractResampleDWIInPlace_Trigid\")\n",
      "\n",
      "DWIWorkflow.connect(ForceDCtoSavedMatrixNode,'outputVolume',gtractResampleDWIInPlace_Trigid,'inputVolume')\n",
      "DWIWorkflow.connect(GetTransfromInverseNode,'inverseTransfrom',gtractResampleDWIInPlace_Trigid,'warpDWITransform') #Inverse of rigid transform from BFit\n",
      "DWIWorkflow.connect(ExtractBRAINFromHeadNode,'outputVolume',gtractResampleDWIInPlace_Trigid,'referenceVolume') #moving volume of BFit\n",
      "\n",
      "# Finally we pass the outputs of the gtractResampleDWIInPlace_Trigid to the outputsSpec\n",
      "DWIWorkflow.connect(gtractResampleDWIInPlace_Trigid, 'outputVolume', outputsSpec, 'CorrectedDW_in_T2Space')\n",
      "DWIWorkflow.connect(gtractResampleDWIInPlace_Trigid, 'outputResampledB0', outputsSpec, 'CorrectedDW_in_T2Space_B0')\n",
      "\n",
      "DWIWorkflow.write_graph()\n",
      "DWIWorkflow.run()"
     ],
     "language": "python",
     "metadata": {},
     "outputs": [
      {
       "output_type": "stream",
       "stream": "stderr",
       "text": [
        "INFO:workflow:Converting dotfile: /scratch/TESTS/IpythonNotebook/1_DWI_Nipype_workflow/DWIPrototype_only1Subject/graph.dot to png format\n"
       ]
      },
      {
       "output_type": "stream",
       "stream": "stderr",
       "text": [
        "INFO:workflow:['check', 'execution', 'logging']\n"
       ]
      },
      {
       "output_type": "stream",
       "stream": "stderr",
       "text": [
        "INFO:workflow:Running serially.\n"
       ]
      },
      {
       "output_type": "stream",
       "stream": "stderr",
       "text": [
        "INFO:workflow:Executing node ExtractBRAINFromHead in dir: /scratch/TESTS/IpythonNotebook/1_DWI_Nipype_workflow/DWIPrototype_only1Subject/ExtractBRAINFromHead\n"
       ]
      },
      {
       "output_type": "stream",
       "stream": "stderr",
       "text": [
        "INFO:workflow:Collecting precomputed outputs\n"
       ]
      },
      {
       "output_type": "stream",
       "stream": "stderr",
       "text": [
        "INFO:workflow:Executing node MakeResamplerInFilesListNode in dir: /scratch/TESTS/IpythonNotebook/1_DWI_Nipype_workflow/DWIPrototype_only1Subject/MakeResamplerInFilesListNode\n"
       ]
      },
      {
       "output_type": "stream",
       "stream": "stderr",
       "text": [
        "INFO:workflow:Collecting precomputed outputs\n"
       ]
      },
      {
       "output_type": "stream",
       "stream": "stderr",
       "text": [
        "INFO:workflow:Executing node DWI_ForceDCtoIDNode in dir: /scratch/TESTS/IpythonNotebook/1_DWI_Nipype_workflow/DWIPrototype_only1Subject/DWI_ForceDCtoIDNode\n"
       ]
      },
      {
       "output_type": "stream",
       "stream": "stderr",
       "text": [
        "INFO:workflow:Collecting precomputed outputs\n"
       ]
      },
      {
       "output_type": "stream",
       "stream": "stderr",
       "text": [
        "INFO:workflow:Executing node EXTRACT_B0 in dir: /scratch/TESTS/IpythonNotebook/1_DWI_Nipype_workflow/DWIPrototype_only1Subject/EXTRACT_B0\n"
       ]
      },
      {
       "output_type": "stream",
       "stream": "stderr",
       "text": [
        "INFO:workflow:Running:  extractNrrdVectorIndex  --inputVolume /Shared/johnsonhj/TrackOn/Experiments/20140203_DWIProcessing/VISUALLY_INSPECTED/HDNI_001/249903245/249903245_20110719_30/249903245_249903245_20110719_30_DWI_CONCAT_QCed_INSPECTED.nrrd --outputVolume B0_Image.nrrd --vectorIndex 0\n"
       ]
      },
      {
       "output_type": "stream",
       "stream": "stderr",
       "text": [
        "INFO:interface:stdout 2014-12-31T18:09:31.547208:Input Image: /Shared/johnsonhj/TrackOn/Experiments/20140203_DWIProcessing/VISUALLY_INSPECTED/HDNI_001/249903245/249903245_20110719_30/249903245_249903245_20110719_30_DWI_CONCAT_QCed_INSPECTED.nrrd\n"
       ]
      },
      {
       "output_type": "stream",
       "stream": "stderr",
       "text": [
        "INFO:interface:stdout 2014-12-31T18:09:31.547208:Output Image: B0_Image.nrrd\n"
       ]
      },
      {
       "output_type": "stream",
       "stream": "stderr",
       "text": [
        "INFO:interface:stdout 2014-12-31T18:09:31.547208:Vector Index: 0\n"
       ]
      },
      {
       "output_type": "stream",
       "stream": "stderr",
       "text": [
        "INFO:interface:stdout 2014-12-31T18:09:31.547208:Set Image Orientation: AsAcquired\n"
       ]
      },
      {
       "output_type": "stream",
       "stream": "stderr",
       "text": [
        "INFO:interface:stdout 2014-12-31T18:09:31.547208:\n"
       ]
      },
      {
       "output_type": "stream",
       "stream": "stderr",
       "text": [
        "INFO:workflow:Executing node BFit_T2toB0 in dir: /scratch/TESTS/IpythonNotebook/1_DWI_Nipype_workflow/DWIPrototype_only1Subject/BFit_T2toB0\n"
       ]
      },
      {
       "output_type": "stream",
       "stream": "stderr",
       "text": [
        "INFO:workflow:Running:  BRAINSFit  --ROIAutoDilateSize 13.000000 --backgroundFillValue 0.000000 --costMetric MMI --fixedVolume /Volumes/scratch/TESTS/IpythonNotebook/1_DWI_Nipype_workflow/DWIPrototype_only1Subject/EXTRACT_B0/B0_Image.nrrd --initializeTransformMode useCenterOfHeadAlign --maskInferiorCutOffFromCenter 65.000000 --maskProcessingMode ROIAUTO --maximumStepLength 0.200000 --minimumStepLength 5e-05 --movingVolume /Volumes/scratch/TESTS/IpythonNotebook/1_DWI_Nipype_workflow/DWIPrototype_only1Subject/ExtractBRAINFromHead/T2Stripped.nrrd --numberOfHistogramBins 50 --numberOfIterations 1500 --numberOfSamples 100000 --strippedOutputTransform T2ToB0_RigidTransform.h5 --useAffine  --useRigid \n"
       ]
      },
      {
       "output_type": "stream",
       "stream": "stderr",
       "text": [
        "INFO:interface:stdout 2014-12-31T18:09:32.500266:Original Fixed image origin[-128, -96, -65, 0]\n"
       ]
      },
      {
       "output_type": "stream",
       "stream": "stderr",
       "text": [
        "INFO:interface:stdout 2014-12-31T18:09:32.643867:ListSample TotalFrequency is  798720\n"
       ]
      },
      {
       "output_type": "stream",
       "stream": "stderr",
       "text": [
        "INFO:interface:stdout 2014-12-31T18:09:32.731051:1290 ValidHistogramsEntries,  798720 TotalFrequency\n"
       ]
      },
      {
       "output_type": "stream",
       "stream": "stderr",
       "text": [
        "INFO:interface:stdout 2014-12-31T18:09:32.731051:0.01 ---> 3\n"
       ]
      },
      {
       "output_type": "stream",
       "stream": "stderr",
       "text": [
        "INFO:interface:stdout 2014-12-31T18:09:32.731051:0.99 ---> 648\n"
       ]
      },
      {
       "output_type": "stream",
       "stream": "stderr",
       "text": [
        "INFO:interface:stdout 2014-12-31T18:09:32.744619:LowHigh Thresholds: [165,2147483647]\n"
       ]
      },
      {
       "output_type": "stream",
       "stream": "stderr",
       "text": [
        "INFO:interface:stdout 2014-12-31T18:09:34.114413:ListSample TotalFrequency is  8492544\n"
       ]
      },
      {
       "output_type": "stream",
       "stream": "stderr",
       "text": [
        "INFO:interface:stdout 2014-12-31T18:09:34.825107:4077 ValidHistogramsEntries,  8492544 TotalFrequency\n"
       ]
      },
      {
       "output_type": "stream",
       "stream": "stderr",
       "text": [
        "INFO:interface:stdout 2014-12-31T18:09:34.825107:0.01 ---> 0\n"
       ]
      },
      {
       "output_type": "stream",
       "stream": "stderr",
       "text": [
        "INFO:interface:stdout 2014-12-31T18:09:34.825107:0.99 ---> 2713\n"
       ]
      },
      {
       "output_type": "stream",
       "stream": "stderr",
       "text": [
        "INFO:interface:stdout 2014-12-31T18:09:34.937632:LowHigh Thresholds: [720,2147483647]\n"
       ]
      }
     ]
    },
    {
     "cell_type": "code",
     "collapsed": false,
     "input": [],
     "language": "python",
     "metadata": {},
     "outputs": []
    },
    {
     "cell_type": "code",
     "collapsed": false,
     "input": [],
     "language": "python",
     "metadata": {},
     "outputs": []
    }
   ],
   "metadata": {}
  }
 ]
}