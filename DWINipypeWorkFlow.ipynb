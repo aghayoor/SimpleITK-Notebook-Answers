{
 "metadata": {
  "name": "",
  "signature": "sha256:955a4c348c2ee3daed91112d7b38899c42b27d113cfebe62dd43ea2aec58926f"
 },
 "nbformat": 3,
 "nbformat_minor": 0,
 "worksheets": [
  {
   "cells": [
    {
     "cell_type": "markdown",
     "metadata": {},
     "source": [
      "Purpose\n",
      "=======\n",
      "\n",
      "The purpose of this pipeline is to complete all the pre-processing steps needed to turn diffusion-weighted images into FA images that will be used to build a template diffusion tensor atlas for fiber tracking.\n",
      "\n",
      "Inputs\n",
      "======\n",
      "The input to this pipeline is a list of subject IDs that is used to generate lists of the corresponding DWIs processed with automated quality control, T2s, and brain label images that are treated as brain masks.\n",
      " \n",
      "Pipeline Steps for CreateDWIWorkflow\n",
      "====================================\n",
      "{Fill this part later}"
     ]
    },
    {
     "cell_type": "code",
     "collapsed": false,
     "input": [
      "## Boiler plate code common to many notebooks.  See the TestFilesCommonCode.ipynb for details\n",
      "#from __future__ import print_function\n",
      "#%run TestFilesCommonCode.ipynb"
     ],
     "language": "python",
     "metadata": {},
     "outputs": [],
     "prompt_number": 1
    },
    {
     "cell_type": "code",
     "collapsed": false,
     "input": [
      "import os\n",
      "import glob\n",
      "import sys\n",
      "\n",
      "#\\/\\/\\/\\/\\/\\/\\/\\/\\/\\/\\/\\/\\/\\/\\/\\/\\/\\/\\/\\/\\/\\/\\/\\/\\/\\/\\/\\/\\/\\/\\/\\/\\/\\/\\/\\/\\/\\/\\/\\/\\/\\/\\/\n",
      "#####################################################################################\n",
      "#     Prepend the shell environment search paths\n",
      "PROGRAM_PATHS = '/scratch/NAMICExternalProjects/release/bin'\n",
      "PROGRAM_PATHS = PROGRAM_PATHS.split(':')\n",
      "PROGRAM_PATHS.extend(os.environ['PATH'].split(':'))\n",
      "os.environ['PATH'] = ':'.join(PROGRAM_PATHS)\n",
      "\n",
      "CUSTOM_ENVIRONMENT=dict()\n",
      "\n",
      "# Platform specific information\n",
      "#     Prepend the python search paths\n",
      "PYTHON_AUX_PATHS = '/scratch/NAMICExternalProjects/release/BRAINSTools/AutoWorkup'\n",
      "PYTHON_AUX_PATHS = PYTHON_AUX_PATHS.split(':')\n",
      "PYTHON_AUX_PATHS.extend(sys.path)\n",
      "sys.path = PYTHON_AUX_PATHS\n",
      "\n",
      "import SimpleITK as sitk\n",
      "import nipype\n",
      "from nipype.interfaces import ants\n",
      "from nipype.interfaces.base import CommandLine, CommandLineInputSpec, TraitedSpec, File, Directory\n",
      "from nipype.interfaces.base import traits, isdefined, BaseInterface\n",
      "from nipype.interfaces.utility import Merge, Split, Function, Rename, IdentityInterface\n",
      "import nipype.interfaces.io as nio   # Data i/oS\n",
      "import nipype.pipeline.engine as pe  # pypeline engine\n",
      "from nipype.interfaces.freesurfer import ReconAll\n",
      "from SEMTools import *"
     ],
     "language": "python",
     "metadata": {},
     "outputs": [],
     "prompt_number": 22
    },
    {
     "cell_type": "code",
     "collapsed": false,
     "input": [
      "WFname=\"DWIPrototype_only1Subject\"\n",
      "DWIWorkflow = pe.Workflow(name=WFname)\n",
      "BASE_DIR = os.path.join('/scratch/TESTS/IpythonNotebook', '1_DWI_Nipype_workflow')\n",
      "DWIWorkflow.base_dir = BASE_DIR\n",
      "\n",
      "inputsSpec = pe.Node(interface=IdentityInterface(fields=['T2Volume', 'DWIVolume','LabelMapVolume']), \n",
      "                     name='inputspec')\n",
      "\n",
      "inputsSpec.inputs.DWIVolume = '/Shared/johnsonhj/TrackOn/Experiments/20140203_DWIProcessing/VISUALLY_INSPECTED/HDNI_001/249903245/249903245_20110719_30/249903245_249903245_20110719_30_DWI_CONCAT_QCed_INSPECTED.nrrd'\n",
      "inputsSpec.inputs.T2Volume = '/Shared/sinapse/CACHE/20141124_TrackOn_base_Results/HDNI_001/249903245/249903245_20110719_30/TissueClassify/t2_average_BRAINSABC.nii.gz'\n",
      "inputsSpec.inputs.LabelMapVolume = '/Shared/sinapse/CACHE/20141124_TrackOn_base_Results/HDNI_001/249903245/249903245_20110719_30/TissueClassify/complete_brainlabels_seg.nii.gz'\n",
      "\n",
      "#outputsSpec = pe.Node(interface=IdentityInterface(fields=['']),\n",
      "#                      name='outputsSpec')\n",
      "\n",
      "# Step0: remove the skull from the T2 volume\n",
      "def ExtractBRAINFromHead(RawScan, BrainLabels):\n",
      "    import os\n",
      "    import SimpleITK as sitk\n",
      "    # Remove skull from the head scan\n",
      "    assert os.path.exists(RawScan), \"File not found: %s\" % RawScan\n",
      "    assert os.path.exists(BrainLabels), \"File not found: %s\" % BrainLabels\n",
      "    headImage = sitk.ReadImage(RawScan)\n",
      "    labelsMap = sitk.ReadImage(BrainLabels)\n",
      "    label_mask = labelsMap>0\n",
      "    brainImage = sitk.Cast(headImage,sitk.sitkInt16) * sitk.Cast(label_mask,sitk.sitkInt16)\n",
      "    outputVolume = os.path.realpath('T2Stripped.nrrd')\n",
      "    sitk.WriteImage(brainImage, outputVolume)\n",
      "    return outputVolume\n",
      "\n",
      "ExtractBRAINFromHeadNode = pe.Node(interface=Function(function = ExtractBRAINFromHead, \n",
      "                                                      input_names=['RawScan','BrainLabels'],\n",
      "                                                      output_names=['outputVolume']), \n",
      "                                   name=\"ExtractBRAINFromHead\")\n",
      "\n",
      "DWIWorkflow.connect(inputsSpec, 'T2Volume', ExtractBRAINFromHeadNode, 'RawScan')\n",
      "DWIWorkflow.connect(inputsSpec, 'LabelMapVolume', ExtractBRAINFromHeadNode, 'BrainLabels')\n",
      "\n",
      "# Step1: extract B0 from DWI volume\n",
      "EXTRACT_B0 = pe.Node(interface=extractNrrdVectorIndex(),name=\"EXTRACT_B0\")\n",
      "EXTRACT_B0.inputs.vectorIndex = 0\n",
      "EXTRACT_B0.inputs.outputVolume = 'B0_Image.nrrd'\n",
      "DWIWorkflow.connect(inputsSpec,'DWIVolume',EXTRACT_B0,'inputVolume')\n",
      "\n",
      "# Step2: Register T2 to B0 space using BRAINSFit\n",
      "BFit_T2toB0 = pe.Node(interface=BRAINSFit(), name=\"BFit_T2toB0\")\n",
      "BFit_T2toB0.inputs.costMetric = \"MMI\"\n",
      "BFit_T2toB0.inputs.numberOfSamples = 100000\n",
      "BFit_T2toB0.inputs.numberOfIterations = [1500]\n",
      "BFit_T2toB0.inputs.numberOfHistogramBins = 50\n",
      "BFit_T2toB0.inputs.maximumStepLength = 0.2\n",
      "BFit_T2toB0.inputs.minimumStepLength = [0.00005]\n",
      "BFit_T2toB0.inputs.useRigid = True\n",
      "BFit_T2toB0.inputs.useAffine = True\n",
      "BFit_T2toB0.inputs.maskInferiorCutOffFromCenter = 65\n",
      "BFit_T2toB0.inputs.maskProcessingMode = \"ROIAUTO\"\n",
      "BFit_T2toB0.inputs.ROIAutoDilateSize = 13\n",
      "BFit_T2toB0.inputs.backgroundFillValue = 0.0\n",
      "BFit_T2toB0.inputs.initializeTransformMode = 'useCenterOfHeadAlign'\n",
      "BFit_T2toB0.inputs.strippedOutputTransform = \"T2ToB0_RigidTransform.h5\"\n",
      "#BFit_T2toB0.inputs.outputVolume = \"T2_in_B0Space_Output.nii.gz\"\n",
      "DWIWorkflow.connect(EXTRACT_B0, 'outputVolume', BFit_T2toB0, 'fixedVolume')\n",
      "DWIWorkflow.connect(ExtractBRAINFromHeadNode, 'outputVolume', BFit_T2toB0, 'movingVolume')\n",
      "#DWIWorkflow.connect(BFit_T2toB0, 'outputVolume', outputsSpec, 'T2_in_B0Space_Output')\n",
      "\n",
      "# Step3: Use T_rigid to \"resample\" T2 and label map images to B0 image space\n",
      "#------------\n",
      "def MakeResamplerInFileList(inputT2, inputLabelMap):\n",
      "    imagesList = [inputT2, inputLabelMap]\n",
      "    return imagesList\n",
      "    \n",
      "MakeResamplerInFilesListNode = pe.Node(Function(function=MakeResamplerInFileList,\n",
      "                                               input_names=['inputT2','inputLabelMap'],\n",
      "                                               output_names=['imagesList']),\n",
      "                                      name=\"MakeResamplerInFilesListNode\")\n",
      "\n",
      "DWIWorkflow.connect([(ExtractBRAINFromHeadNode,MakeResamplerInFilesListNode,[('outputVolume','inputT2')]),\n",
      "                     (inputsSpec,MakeResamplerInFilesListNode,[('LabelMapVolume','inputLabelMap')])])\n",
      "\n",
      "ResampleToB0Space = pe.MapNode(interface=BRAINSResample(), name=\"ResampleToB0Space\",\n",
      "                               iterfield=['inputVolume', 'interpolationMode', 'pixelType', 'outputVolume'])\n",
      "ResampleToB0Space.inputs.interpolationMode = ['Linear','NearestNeighbor']\n",
      "ResampleToB0Space.inputs.outputVolume = ['T2toB0.nrrd','BRAINMaskToB0.nrrd']\n",
      "ResampleToB0Space.inputs.pixelType = ['ushort','binary']\n",
      "DWIWorkflow.connect(BFit_T2toB0,'strippedOutputTransform',ResampleToB0Space,'warpTransform')\n",
      "DWIWorkflow.connect(EXTRACT_B0,'outputVolume',ResampleToB0Space,'referenceVolume')\n",
      "DWIWorkflow.connect(MakeResamplerInFilesListNode,'imagesList',ResampleToB0Space,'inputVolume')\n",
      "\n",
      "# This function helps to pick desirable output from the outputVolume list\n",
      "def pickFromList(inlist,item):\n",
      "    return inlist[item]\n",
      "\n",
      "# Step4: Create registration mask from resampled label map image\n",
      "def CreateAntsRegistrationMask(brainMask):\n",
      "    import os\n",
      "    import SimpleITK as sitk\n",
      "    assert os.path.exists(brainMask), \"File not found: %s\" % brainMask\n",
      "    labelsMap = sitk.ReadImage(brainMask)\n",
      "    label_mask = labelsMap>0\n",
      "    # erode the label mask\n",
      "    erodeFilter = sitk.BinaryErodeImageFilter()\n",
      "    erodeFilter.SetKernelRadius(4)\n",
      "    eroded_mask = erodeFilter.Execute( label_mask )\n",
      "    # dilate the label mask\n",
      "    dilateFilter = sitk.BinaryDilateImageFilter()\n",
      "    dilateFilter.SetKernelRadius(4)\n",
      "    dilated_mask = dilateFilter.Execute( label_mask )\n",
      "    regMask = eroded_mask - dilated_mask\n",
      "    registrationMask = os.path.realpath('registrationMask.nrrd')\n",
      "    sitk.WriteImage(regMask, registrationMask)\n",
      "    return registrationMask\n",
      "    \n",
      "CreateRegistrationMask = pe.Node(interface=Function(function = CreateAntsRegistrationMask, \n",
      "                                                    input_names=['brainMask'],\n",
      "                                                    output_names=['registrationMask']),\n",
      "                                 name=\"CreateAntsRegistrationMask\")\n",
      "\n",
      "DWIWorkflow.connect(ResampleToB0Space, ('outputVolume', pickFromList, 1), \n",
      "                    CreateRegistrationMask, 'brainMask')\n",
      "\n",
      "# Step5: Save direction cosine for the resampled T2 image\n",
      "def Save_T2inB0_DC(inputVolume):\n",
      "    import os\n",
      "    import SimpleITK as sitk\n",
      "    assert os.path.exists(inputVolume), \"File not found: %s\" % inputVolume\n",
      "    t2 = sitk.ReadImage(inputVolume)\n",
      "    dc = t2.GetDirection()\n",
      "    return dc\n",
      "\n",
      "SaveT2inB0DC = pe.Node(interface=Function(function = Save_T2inB0_DC, \n",
      "                                         input_names=['inputVolume'],\n",
      "                                         output_names=['directionCosine']),\n",
      "                      name=\"Save_T2inB0_DC\")\n",
      "\n",
      "DWIWorkflow.connect(ResampleToB0Space, ('outputVolume', pickFromList, 0), \n",
      "                    SaveT2inB0DC, 'inputVolume')\n",
      "\n",
      "# Step6: Force DC to ID\n",
      "def MakeForceDCFilesList(inputB0, inputT2, inputLabelMap):\n",
      "    import os\n",
      "    assert os.path.exists(inputB0), \"File not found: %s\" % inputB0\n",
      "    assert os.path.exists(inputT2), \"File not found: %s\" % inputT2\n",
      "    assert os.path.exists(inputLabelMap), \"File not found: %s\" % inputLabelMap\n",
      "    imagesList = [inputB0, inputT2, inputLabelMap]\n",
      "    return imagesList\n",
      "    \n",
      "MakeForceDCFilesListNode = pe.Node(Function(function=MakeForceDCFilesList,\n",
      "                                             input_names=['inputB0','inputT2','inputLabelMap'],\n",
      "                                             output_names=['imagesList']),\n",
      "                                    name=\"MakeForceDCFilesListNode\")\n",
      "\n",
      "\n",
      "DWIWorkflow.connect([(EXTRACT_B0,MakeForceDCFilesListNode,[('outputVolume','inputB0')]),\n",
      "                     (ResampleToB0Space,MakeForceDCFilesListNode,[(('outputVolume', pickFromList, 0),'inputT2')]),\n",
      "                     (CreateRegistrationMask,MakeForceDCFilesListNode,[('registrationMask','inputLabelMap')])])\n",
      "\n",
      "def ForceDCtoID(inputVolume):\n",
      "    import os\n",
      "    import SimpleITK as sitk\n",
      "    inImage = sitk.ReadImage(inputVolume)\n",
      "    inImage.SetDirection((1.0, 0.0, 0.0, 0.0, 1.0, 0.0, 0.0, 0.0, 1.0))\n",
      "    outputVolume = os.path.realpath('IDDC_'+ os.path.basename(inputVolume))\n",
      "    sitk.WriteImage(inImage, outputVolume)\n",
      "    return outputVolume\n",
      "\n",
      "ForceDCtoIDNode = pe.MapNode(interface=Function(function = ForceDCtoID, \n",
      "                                                input_names=['inputVolume'],\n",
      "                                                output_names=['outputVolume']), \n",
      "                             name=\"ForceDCtoID\",\n",
      "                             iterfield=['inputVolume'])\n",
      "\n",
      "DWIWorkflow.connect(MakeForceDCFilesListNode, 'imagesList', ForceDCtoIDNode, 'inputVolume')\n",
      "\n",
      "# Step7: Run antsRegistration in one direction\n",
      "antsReg_B0ToTransformedT2 = pe.Node(interface=ants.Registration(), name=\"antsReg_B0ToTransformedT2\")\n",
      "antsReg_B0ToTransformedT2.inputs.dimension = 3\n",
      "antsReg_B0ToTransformedT2.inputs.transforms = [\"SyN\"]\n",
      "antsReg_B0ToTransformedT2.inputs.transform_parameters = [(0.25, 3.0, 0.0)]\n",
      "antsReg_B0ToTransformedT2.inputs.metric = ['MI']\n",
      "antsReg_B0ToTransformedT2.inputs.sampling_strategy = [None]\n",
      "antsReg_B0ToTransformedT2.inputs.sampling_percentage = [1.0]\n",
      "antsReg_B0ToTransformedT2.inputs.metric_weight = [1.0]\n",
      "antsReg_B0ToTransformedT2.inputs.radius_or_number_of_bins = [32]\n",
      "antsReg_B0ToTransformedT2.inputs.number_of_iterations = [[70, 50, 40]]\n",
      "antsReg_B0ToTransformedT2.inputs.convergence_threshold = [1e-6]\n",
      "antsReg_B0ToTransformedT2.inputs.convergence_window_size = [10]\n",
      "antsReg_B0ToTransformedT2.inputs.use_histogram_matching = [True]\n",
      "antsReg_B0ToTransformedT2.inputs.shrink_factors = [[3, 2, 1]]\n",
      "antsReg_B0ToTransformedT2.inputs.smoothing_sigmas = [[2, 1, 0]]\n",
      "antsReg_B0ToTransformedT2.inputs.sigma_units = [\"vox\"]\n",
      "antsReg_B0ToTransformedT2.inputs.use_estimate_learning_rate_once = [False]\n",
      "antsReg_B0ToTransformedT2.inputs.write_composite_transform = False\n",
      "antsReg_B0ToTransformedT2.inputs.collapse_output_transforms = False\n",
      "antsReg_B0ToTransformedT2.inputs.initialize_transforms_per_stage = False\n",
      "antsReg_B0ToTransformedT2.inputs.output_transform_prefix = 'Tsyn'\n",
      "antsReg_B0ToTransformedT2.inputs.winsorize_lower_quantile = 0.01\n",
      "antsReg_B0ToTransformedT2.inputs.winsorize_upper_quantile = 0.99\n",
      "antsReg_B0ToTransformedT2.inputs.args = '--float 1 --restrict-deformation 0x1x0'\n",
      "\n",
      "DWIWorkflow.connect(ForceDCtoIDNode, ('outputVolume', pickFromList, 1), antsReg_B0ToTransformedT2, 'fixed_image')\n",
      "DWIWorkflow.connect(ForceDCtoIDNode, ('outputVolume', pickFromList, 2), antsReg_B0ToTransformedT2, 'fixed_image_mask')\n",
      "DWIWorkflow.connect(ForceDCtoIDNode, ('outputVolume', pickFromList, 0), antsReg_B0ToTransformedT2, 'moving_image')\n",
      "\n",
      "DWIWorkflow.write_graph()\n",
      "DWIWorkflow.run()"
     ],
     "language": "python",
     "metadata": {},
     "outputs": [
      {
       "output_type": "stream",
       "stream": "stderr",
       "text": [
        "INFO:workflow:Converting dotfile: /scratch/TESTS/IpythonNotebook/1_DWI_Nipype_workflow/DWIPrototype_only1Subject/graph.dot to png format\n"
       ]
      },
      {
       "output_type": "stream",
       "stream": "stderr",
       "text": [
        "INFO:workflow:['check', 'execution', 'logging']\n"
       ]
      },
      {
       "output_type": "stream",
       "stream": "stderr",
       "text": [
        "INFO:workflow:Running serially.\n"
       ]
      },
      {
       "output_type": "stream",
       "stream": "stderr",
       "text": [
        "INFO:workflow:Executing node ExtractBRAINFromHead in dir: /scratch/TESTS/IpythonNotebook/1_DWI_Nipype_workflow/DWIPrototype_only1Subject/ExtractBRAINFromHead\n"
       ]
      },
      {
       "output_type": "stream",
       "stream": "stderr",
       "text": [
        "INFO:workflow:Executing node MakeResamplerInFilesListNode in dir: /scratch/TESTS/IpythonNotebook/1_DWI_Nipype_workflow/DWIPrototype_only1Subject/MakeResamplerInFilesListNode\n"
       ]
      },
      {
       "output_type": "stream",
       "stream": "stderr",
       "text": [
        "INFO:workflow:Executing node EXTRACT_B0 in dir: /scratch/TESTS/IpythonNotebook/1_DWI_Nipype_workflow/DWIPrototype_only1Subject/EXTRACT_B0\n"
       ]
      },
      {
       "output_type": "stream",
       "stream": "stderr",
       "text": [
        "INFO:workflow:Running:  extractNrrdVectorIndex  --inputVolume /Shared/johnsonhj/TrackOn/Experiments/20140203_DWIProcessing/VISUALLY_INSPECTED/HDNI_001/249903245/249903245_20110719_30/249903245_249903245_20110719_30_DWI_CONCAT_QCed_INSPECTED.nrrd --outputVolume B0_Image.nrrd --vectorIndex 0\n"
       ]
      },
      {
       "output_type": "stream",
       "stream": "stderr",
       "text": [
        "INFO:interface:stdout 2014-12-31T15:29:13.678683:Input Image: /Shared/johnsonhj/TrackOn/Experiments/20140203_DWIProcessing/VISUALLY_INSPECTED/HDNI_001/249903245/249903245_20110719_30/249903245_249903245_20110719_30_DWI_CONCAT_QCed_INSPECTED.nrrd\n"
       ]
      },
      {
       "output_type": "stream",
       "stream": "stderr",
       "text": [
        "INFO:interface:stdout 2014-12-31T15:29:13.678683:Output Image: B0_Image.nrrd\n"
       ]
      },
      {
       "output_type": "stream",
       "stream": "stderr",
       "text": [
        "INFO:interface:stdout 2014-12-31T15:29:13.678683:Vector Index: 0\n"
       ]
      },
      {
       "output_type": "stream",
       "stream": "stderr",
       "text": [
        "INFO:interface:stdout 2014-12-31T15:29:13.678683:Set Image Orientation: AsAcquired\n"
       ]
      },
      {
       "output_type": "stream",
       "stream": "stderr",
       "text": [
        "INFO:interface:stdout 2014-12-31T15:29:13.678683:\n"
       ]
      },
      {
       "output_type": "stream",
       "stream": "stderr",
       "text": [
        "INFO:workflow:Executing node BFit_T2toB0 in dir: /scratch/TESTS/IpythonNotebook/1_DWI_Nipype_workflow/DWIPrototype_only1Subject/BFit_T2toB0\n"
       ]
      },
      {
       "output_type": "stream",
       "stream": "stderr",
       "text": [
        "INFO:workflow:Running:  BRAINSFit  --ROIAutoDilateSize 13.000000 --backgroundFillValue 0.000000 --costMetric MMI --fixedVolume /Volumes/scratch/TESTS/IpythonNotebook/1_DWI_Nipype_workflow/DWIPrototype_only1Subject/EXTRACT_B0/B0_Image.nrrd --initializeTransformMode useCenterOfHeadAlign --maskInferiorCutOffFromCenter 65.000000 --maskProcessingMode ROIAUTO --maximumStepLength 0.200000 --minimumStepLength 5e-05 --movingVolume /Volumes/scratch/TESTS/IpythonNotebook/1_DWI_Nipype_workflow/DWIPrototype_only1Subject/ExtractBRAINFromHead/T2Stripped.nrrd --numberOfHistogramBins 50 --numberOfIterations 1500 --numberOfSamples 100000 --strippedOutputTransform T2ToB0_RigidTransform.h5 --useAffine  --useRigid \n"
       ]
      },
      {
       "output_type": "stream",
       "stream": "stderr",
       "text": [
        "INFO:interface:stdout 2014-12-31T15:29:14.648172:Original Fixed image origin[-128, -96, -65, 0]\n"
       ]
      },
      {
       "output_type": "stream",
       "stream": "stderr",
       "text": [
        "INFO:interface:stdout 2014-12-31T15:29:14.789827:ListSample TotalFrequency is  798720\n"
       ]
      },
      {
       "output_type": "stream",
       "stream": "stderr",
       "text": [
        "INFO:interface:stdout 2014-12-31T15:29:14.877409:1290 ValidHistogramsEntries,  798720 TotalFrequency\n"
       ]
      },
      {
       "output_type": "stream",
       "stream": "stderr",
       "text": [
        "INFO:interface:stdout 2014-12-31T15:29:14.877409:0.01 ---> 3\n"
       ]
      },
      {
       "output_type": "stream",
       "stream": "stderr",
       "text": [
        "INFO:interface:stdout 2014-12-31T15:29:14.877409:0.99 ---> 648\n"
       ]
      },
      {
       "output_type": "stream",
       "stream": "stderr",
       "text": [
        "INFO:interface:stdout 2014-12-31T15:29:14.892425:LowHigh Thresholds: [165,2147483647]\n"
       ]
      },
      {
       "output_type": "stream",
       "stream": "stderr",
       "text": [
        "INFO:interface:stdout 2014-12-31T15:29:16.294541:ListSample TotalFrequency is  8492544\n"
       ]
      },
      {
       "output_type": "stream",
       "stream": "stderr",
       "text": [
        "INFO:interface:stdout 2014-12-31T15:29:17.007365:4077 ValidHistogramsEntries,  8492544 TotalFrequency\n"
       ]
      },
      {
       "output_type": "stream",
       "stream": "stderr",
       "text": [
        "INFO:interface:stdout 2014-12-31T15:29:17.007365:0.01 ---> 0\n"
       ]
      },
      {
       "output_type": "stream",
       "stream": "stderr",
       "text": [
        "INFO:interface:stdout 2014-12-31T15:29:17.007365:0.99 ---> 2713\n"
       ]
      },
      {
       "output_type": "stream",
       "stream": "stderr",
       "text": [
        "INFO:interface:stdout 2014-12-31T15:29:17.147016:LowHigh Thresholds: [720,2147483647]\n"
       ]
      },
      {
       "output_type": "stream",
       "stream": "stderr",
       "text": [
        "INFO:interface:stdout 2014-12-31T15:29:30.774734:WARNING --numberOfSamples is deprecated, please use --samplingPercentage instead \n"
       ]
      },
      {
       "output_type": "stream",
       "stream": "stderr",
       "text": [
        "INFO:interface:stdout 2014-12-31T15:29:30.774734:WARNING: Replacing command line --samplingPercentage 0.1252\n"
       ]
      },
      {
       "output_type": "stream",
       "stream": "stderr",
       "text": [
        "INFO:interface:stdout 2014-12-31T15:29:30.966400:TranformTypes: Rigid(1 of 2).\n"
       ]
      },
      {
       "output_type": "stream",
       "stream": "stderr",
       "text": [
        "INFO:interface:stdout 2014-12-31T15:29:30.966400:\n"
       ]
      },
      {
       "output_type": "stream",
       "stream": "stderr",
       "text": [
        "INFO:interface:stdout 2014-12-31T15:29:30.966400:TranformTypes: Affine(2 of 2).\n"
       ]
      },
      {
       "output_type": "stream",
       "stream": "stderr",
       "text": [
        "INFO:interface:stdout 2014-12-31T15:29:30.966400:\n"
       ]
      },
      {
       "output_type": "stream",
       "stream": "stderr",
       "text": [
        "INFO:interface:stdout 2014-12-31T15:29:30.966400:Initializing transform with useCenterOfHeadAlign\n"
       ]
      },
      {
       "output_type": "stream",
       "stream": "stderr",
       "text": [
        "INFO:interface:stdout 2014-12-31T15:29:31.023278:maxSIDirection = 103.5\n"
       ]
      },
      {
       "output_type": "stream",
       "stream": "stderr",
       "text": [
        "INFO:interface:stdout 2014-12-31T15:29:31.110268:Computing Sampled Distance Computations\n"
       ]
      },
      {
       "output_type": "stream",
       "stream": "stderr",
       "text": [
        "INFO:interface:stdout 2014-12-31T15:29:32.267862:maxSIDirection = 63\n"
       ]
      },
      {
       "output_type": "stream",
       "stream": "stderr",
       "text": [
        "INFO:interface:stdout 2014-12-31T15:29:32.276956:Computing Sampled Distance Computations\n"
       ]
      },
      {
       "output_type": "stream",
       "stream": "stderr",
       "text": [
        "INFO:interface:stdout 2014-12-31T15:29:34.359524:Initializing transform with useCenterOfHeadAlign to \n"
       ]
      },
      {
       "output_type": "stream",
       "stream": "stderr",
       "text": [
        "INFO:interface:stdout 2014-12-31T15:29:34.360464:VersorRigid3DTransform (0x7ff992409400)\n"
       ]
      },
      {
       "output_type": "stream",
       "stream": "stderr",
       "text": [
        "INFO:interface:stdout 2014-12-31T15:29:34.360464:  RTTI typeinfo:   itk::VersorRigid3DTransform<double>\n"
       ]
      },
      {
       "output_type": "stream",
       "stream": "stderr",
       "text": [
        "INFO:interface:stdout 2014-12-31T15:29:34.360464:  Reference Count: 2\n"
       ]
      },
      {
       "output_type": "stream",
       "stream": "stderr",
       "text": [
        "INFO:interface:stdout 2014-12-31T15:29:34.360464:  Modified Time: 403140\n"
       ]
      },
      {
       "output_type": "stream",
       "stream": "stderr",
       "text": [
        "INFO:interface:stdout 2014-12-31T15:29:34.360464:  Debug: Off\n"
       ]
      },
      {
       "output_type": "stream",
       "stream": "stderr",
       "text": [
        "INFO:interface:stdout 2014-12-31T15:29:34.360464:  Object Name: \n"
       ]
      },
      {
       "output_type": "stream",
       "stream": "stderr",
       "text": [
        "INFO:interface:stdout 2014-12-31T15:29:34.360464:  Observers: \n"
       ]
      },
      {
       "output_type": "stream",
       "stream": "stderr",
       "text": [
        "INFO:interface:stdout 2014-12-31T15:29:34.360464:    none\n"
       ]
      },
      {
       "output_type": "stream",
       "stream": "stderr",
       "text": [
        "INFO:interface:stdout 2014-12-31T15:29:34.360464:  Matrix: \n"
       ]
      },
      {
       "output_type": "stream",
       "stream": "stderr",
       "text": [
        "INFO:interface:stdout 2014-12-31T15:29:34.360464:    0.99863 0.0511923 -0.0108813 \n"
       ]
      },
      {
       "output_type": "stream",
       "stream": "stderr",
       "text": [
        "INFO:interface:stdout 2014-12-31T15:29:34.360464:    -0.052336 0.976807 -0.207627 \n"
       ]
      },
      {
       "output_type": "stream",
       "stream": "stderr",
       "text": [
        "INFO:interface:stdout 2014-12-31T15:29:34.360464:    8.67362e-19 0.207912 0.978148 \n"
       ]
      },
      {
       "output_type": "stream",
       "stream": "stderr",
       "text": [
        "INFO:interface:stdout 2014-12-31T15:29:34.360464:  Offset: [0.927226, 18.8944, 15.047]\n"
       ]
      },
      {
       "output_type": "stream",
       "stream": "stderr",
       "text": [
        "INFO:interface:stdout 2014-12-31T15:29:34.360464:  Center: [0.225655, -0.861665, -4.82692]\n"
       ]
      },
      {
       "output_type": "stream",
       "stream": "stderr",
       "text": [
        "INFO:interface:stdout 2014-12-31T15:29:34.360464:  Translation: [0.935329, 19.9047, 14.9733]\n"
       ]
      },
      {
       "output_type": "stream",
       "stream": "stderr",
       "text": [
        "INFO:interface:stdout 2014-12-31T15:29:34.360464:  Inverse: \n"
       ]
      },
      {
       "output_type": "stream",
       "stream": "stderr",
       "text": [
        "INFO:interface:stdout 2014-12-31T15:29:34.360464:    0.99863 -0.052336 8.67362e-19 \n"
       ]
      },
      {
       "output_type": "stream",
       "stream": "stderr",
       "text": [
        "INFO:interface:stdout 2014-12-31T15:29:34.360464:    0.0511923 0.976807 0.207912 \n"
       ]
      },
      {
       "output_type": "stream",
       "stream": "stderr",
       "text": [
        "INFO:interface:stdout 2014-12-31T15:29:34.360464:    -0.0108813 -0.207627 0.978148 \n"
       ]
      },
      {
       "output_type": "stream",
       "stream": "stderr",
       "text": [
        "INFO:interface:stdout 2014-12-31T15:29:34.360464:  Singular: 0\n"
       ]
      },
      {
       "output_type": "stream",
       "stream": "stderr",
       "text": [
        "INFO:interface:stdout 2014-12-31T15:29:34.360464:  Versor: [ 0.104493, -0.00273624, -0.0260335, 0.994181 ]\n"
       ]
      },
      {
       "output_type": "stream",
       "stream": "stderr",
       "text": [
        "INFO:interface:stdout 2014-12-31T15:29:34.360464:\n"
       ]
      },
      {
       "output_type": "stream",
       "stream": "stderr",
       "text": [
        "INFO:interface:stdout 2014-12-31T15:29:34.360464:===============================================\n"
       ]
      },
      {
       "output_type": "stream",
       "stream": "stderr",
       "text": [
        "INFO:interface:stderr 2014-12-31T15:29:34.369448:maskInferiorCutOffFromCenter is 65\n"
       ]
      },
      {
       "output_type": "stream",
       "stream": "stderr",
       "text": [
        "INFO:interface:stdout 2014-12-31T15:29:34.467012:\n"
       ]
      },
      {
       "output_type": "stream",
       "stream": "stderr",
       "text": [
        "INFO:interface:stdout 2014-12-31T15:29:34.467012:\n"
       ]
      },
      {
       "output_type": "stream",
       "stream": "stderr",
       "text": [
        "INFO:interface:stdout 2014-12-31T15:29:34.467012:\n"
       ]
      },
      {
       "output_type": "stream",
       "stream": "stderr",
       "text": [
        "INFO:interface:stdout 2014-12-31T15:29:34.467012:=============================== ITKv4 Registration: Starting Transform Estimations for Rigid(1 of 2).===============================\n"
       ]
      },
      {
       "output_type": "stream",
       "stream": "stderr",
       "text": [
        "INFO:interface:stdout 2014-12-31T15:29:34.467012:\n"
       ]
      },
      {
       "output_type": "stream",
       "stream": "stderr",
       "text": [
        "INFO:interface:stdout 2014-12-31T15:29:35.259998:   0    -0.343343   [ 0.11943 -0.00142882 -0.0241128 0.889513 20.0857 14.9082 ]\n"
       ]
      },
      {
       "output_type": "stream",
       "stream": "stderr",
       "text": [
        "INFO:interface:stdout 2014-12-31T15:29:35.305596:   1    -0.362196   [ 0.133215 0.00121367 -0.0237237 0.860104 20.2683 14.8375 ]\n"
       ]
      },
      {
       "output_type": "stream",
       "stream": "stderr",
       "text": [
        "INFO:interface:stdout 2014-12-31T15:29:35.357580:   2     -0.38088   [ 0.148832 0.00297415 -0.0204841 0.879239 20.3672 14.6678 ]\n"
       ]
      },
      {
       "output_type": "stream",
       "stream": "stderr",
       "text": [
        "INFO:interface:stdout 2014-12-31T15:29:35.408385:   3    -0.403915   [ 0.176485 0.0117708 -0.0186418 0.924649 20.5157 14.5564 ]\n"
       ]
      },
      {
       "output_type": "stream",
       "stream": "stderr",
       "text": [
        "INFO:interface:stdout 2014-12-31T15:29:35.461197:   4    -0.447367   [ 0.190851 0.0144131 -0.0163329 0.991687 20.5 14.3711 ]\n"
       ]
      },
      {
       "output_type": "stream",
       "stream": "stderr",
       "text": [
        "INFO:interface:stdout 2014-12-31T15:29:35.516361:   5    -0.471844   [ 0.210428 0.0166325 -0.0146662 1.04955 20.4389 14.1942 ]\n"
       ]
      },
      {
       "output_type": "stream",
       "stream": "stderr",
       "text": [
        "INFO:interface:stdout 2014-12-31T15:29:35.562015:   6    -0.505858   [ 0.2251 0.0179132 -0.013288 1.05597 20.2492 14.1389 ]\n"
       ]
      },
      {
       "output_type": "stream",
       "stream": "stderr",
       "text": [
        "INFO:interface:stdout 2014-12-31T15:29:35.616578:   7       -0.536   [ 0.236056 0.0202475 -0.0117239 1.05745 20.0549 14.1798 ]\n"
       ]
      },
      {
       "output_type": "stream",
       "stream": "stderr",
       "text": [
        "INFO:interface:stdout 2014-12-31T15:29:35.662514:   8    -0.569369   [ 0.243284 0.0208644 -0.0111086 1.03098 19.8771 14.2663 ]\n"
       ]
      },
      {
       "output_type": "stream",
       "stream": "stderr",
       "text": [
        "INFO:interface:stdout 2014-12-31T15:29:35.715956:   9    -0.599087   [ 0.249329 0.0214827 -0.0107919 1.01594 19.6964 14.3496 ]\n"
       ]
      },
      {
       "output_type": "stream",
       "stream": "stderr",
       "text": [
        "INFO:interface:stdout 2014-12-31T15:29:35.772918:  10    -0.635369   [ 0.255459 0.022528 -0.0108991 1.00892 19.5123 14.4264 ]\n"
       ]
      },
      {
       "output_type": "stream",
       "stream": "stderr",
       "text": [
        "INFO:interface:stdout 2014-12-31T15:29:35.830724:  11    -0.679533   [ 0.260715 0.0230279 -0.0113266 1.01232 19.3282 14.5037 ]\n"
       ]
      },
      {
       "output_type": "stream",
       "stream": "stderr",
       "text": [
        "INFO:interface:stdout 2014-12-31T15:29:35.884421:  12     -0.72312   [ 0.264783 0.023768 -0.0122344 1.00732 19.1375 14.5633 ]\n"
       ]
      },
      {
       "output_type": "stream",
       "stream": "stderr",
       "text": [
        "INFO:interface:stdout 2014-12-31T15:29:35.935286:  13    -0.752931   [ 0.265594 0.0242591 -0.0128556 0.995949 18.9436 14.6107 ]\n"
       ]
      },
      {
       "output_type": "stream",
       "stream": "stderr",
       "text": [
        "INFO:interface:stdout 2014-12-31T15:29:35.989690:  14    -0.769248   [ 0.264846 0.0241806 -0.0131714 0.994265 18.7446 14.6307 ]\n"
       ]
      },
      {
       "output_type": "stream",
       "stream": "stderr",
       "text": [
        "INFO:interface:stdout 2014-12-31T15:29:36.042263:  15    -0.781724   [ 0.264865 0.0236986 -0.0132026 0.997229 18.5454 14.6481 ]\n"
       ]
      },
      {
       "output_type": "stream",
       "stream": "stderr",
       "text": [
        "INFO:interface:stdout 2014-12-31T15:29:36.093654:  16    -0.791392   [ 0.262436 0.0243085 -0.0129274 1.00055 18.3465 14.6279 ]\n"
       ]
      },
      {
       "output_type": "stream",
       "stream": "stderr",
       "text": [
        "INFO:interface:stdout 2014-12-31T15:29:36.143793:  17    -0.798136   [ 0.266815 0.0231057 -0.0161538 0.973892 18.1617 14.5571 ]\n"
       ]
      },
      {
       "output_type": "stream",
       "stream": "stderr",
       "text": [
        "INFO:interface:stdout 2014-12-31T15:29:36.194232:  18    -0.788483   [ 0.254545 0.0264396 -0.00663593 0.944111 18.2107 14.4819 ]\n"
       ]
      },
      {
       "output_type": "stream",
       "stream": "stderr",
       "text": [
        "INFO:interface:stdout 2014-12-31T15:29:36.244847:  19    -0.743782   [ 0.259981 0.0254595 -0.0111867 0.944116 18.1669 14.501 ]\n"
       ]
      },
      {
       "output_type": "stream",
       "stream": "stderr",
       "text": [
        "INFO:interface:stdout 2014-12-31T15:29:36.295049:  20     -0.79289   [ 0.264297 0.0241893 -0.0154165 0.943105 18.121 14.5164 ]\n"
       ]
      },
      {
       "output_type": "stream",
       "stream": "stderr",
       "text": [
        "INFO:interface:stdout 2014-12-31T15:29:36.354146:  21    -0.798196   [ 0.258661 0.0240188 -0.00999732 0.950822 18.1176 14.4991 ]\n"
       ]
      },
      {
       "output_type": "stream",
       "stream": "stderr",
       "text": [
        "INFO:interface:stdout 2014-12-31T15:29:36.404944:  22    -0.786187   [ 0.26152 0.0242127 -0.0119977 0.955477 18.0948 14.5049 ]\n"
       ]
      },
      {
       "output_type": "stream",
       "stream": "stderr",
       "text": [
        "INFO:interface:stdout 2014-12-31T15:29:36.453327:  23    -0.800009   [ 0.265438 0.0246916 -0.0185796 0.952553 18.0755 14.504 ]\n"
       ]
      },
      {
       "output_type": "stream",
       "stream": "stderr",
       "text": [
        "INFO:interface:stdout 2014-12-31T15:29:36.505211:  24    -0.786088   [ 0.264663 0.0242548 -0.0168387 0.945296 18.0845 14.5016 ]\n"
       ]
      },
      {
       "output_type": "stream",
       "stream": "stderr",
       "text": [
        "INFO:interface:stdout 2014-12-31T15:29:36.558365:  25    -0.794024   [ 0.26356 0.0239924 -0.014887 0.940551 18.0947 14.4984 ]\n"
       ]
      },
      {
       "output_type": "stream",
       "stream": "stderr",
       "text": [
        "INFO:interface:stdout 2014-12-31T15:29:36.609391:  26    -0.799866   [ 0.262886 0.0239252 -0.0140926 0.945933 18.097 14.4978 ]\n"
       ]
      },
      {
       "output_type": "stream",
       "stream": "stderr",
       "text": [
        "INFO:interface:stdout 2014-12-31T15:29:36.657758:  27    -0.800913   [ 0.262402 0.024025 -0.0136455 0.951573 18.0979 14.4957 ]\n"
       ]
      },
      {
       "output_type": "stream",
       "stream": "stderr",
       "text": [
        "INFO:interface:stdout 2014-12-31T15:29:36.710659:  28    -0.801196   [ 0.26232 0.0241834 -0.0137409 0.954253 18.0969 14.5012 ]\n"
       ]
      },
      {
       "output_type": "stream",
       "stream": "stderr",
       "text": [
        "INFO:interface:stdout 2014-12-31T15:29:36.764032:  29    -0.801222   [ 0.262293 0.0238277 -0.0136718 0.952121 18.0965 14.5071 ]\n"
       ]
      },
      {
       "output_type": "stream",
       "stream": "stderr",
       "text": [
        "INFO:interface:stdout 2014-12-31T15:29:36.812359:  30    -0.801147   [ 0.262459 0.024461 -0.0135651 0.954903 18.0969 14.5067 ]\n"
       ]
      },
      {
       "output_type": "stream",
       "stream": "stderr",
       "text": [
        "INFO:interface:stdout 2014-12-31T15:29:36.865864:  31    -0.801098   [ 0.262377 0.0243606 -0.0136179 0.953396 18.0969 14.507 ]\n"
       ]
      },
      {
       "output_type": "stream",
       "stream": "stderr",
       "text": [
        "INFO:interface:stdout 2014-12-31T15:29:36.919977:  32    -0.801159   [ 0.262297 0.0242435 -0.0136673 0.951996 18.0968 14.5076 ]\n"
       ]
      },
      {
       "output_type": "stream",
       "stream": "stderr",
       "text": [
        "INFO:interface:stdout 2014-12-31T15:29:36.970260:  33    -0.801228   [ 0.262283 0.0241192 -0.0137073 0.950973 18.097 14.5087 ]\n"
       ]
      },
      {
       "output_type": "stream",
       "stream": "stderr",
       "text": [
        "INFO:interface:stdout 2014-12-31T15:29:37.020250:  34    -0.801225   [ 0.262364 0.0241133 -0.0136995 0.951932 18.098 14.5095 ]\n"
       ]
      },
      {
       "output_type": "stream",
       "stream": "stderr",
       "text": [
        "INFO:interface:stdout 2014-12-31T15:29:37.072801:  35    -0.801211   [ 0.262244 0.0240858 -0.0137101 0.952791 18.0992 14.5091 ]\n"
       ]
      },
      {
       "output_type": "stream",
       "stream": "stderr",
       "text": [
        "INFO:interface:stdout 2014-12-31T15:29:37.125920:  36    -0.801223   [ 0.262361 0.0241172 -0.0137109 0.953092 18.099 14.5098 ]\n"
       ]
      },
      {
       "output_type": "stream",
       "stream": "stderr",
       "text": [
        "INFO:interface:stdout 2014-12-31T15:29:37.182700:  37    -0.801213   [ 0.262316 0.0240978 -0.0137109 0.953247 18.0994 14.5097 ]\n"
       ]
      },
      {
       "output_type": "stream",
       "stream": "stderr",
       "text": [
        "INFO:interface:stdout 2014-12-31T15:29:37.233500:  38     -0.80122   [ 0.262318 0.0241001 -0.0137104 0.953513 18.0996 14.5098 ]\n"
       ]
      },
      {
       "output_type": "stream",
       "stream": "stderr",
       "text": [
        "INFO:interface:stdout 2014-12-31T15:29:37.284988:  39    -0.801221   [ 0.262315 0.0240982 -0.0137124 0.953744 18.0999 14.51 ]\n"
       ]
      },
      {
       "output_type": "stream",
       "stream": "stderr",
       "text": [
        "INFO:interface:stdout 2014-12-31T15:29:37.336907:  40    -0.801223   [ 0.262321 0.0240984 -0.0137121 0.953983 18.1001 14.5102 ]\n"
       ]
      },
      {
       "output_type": "stream",
       "stream": "stderr",
       "text": [
        "INFO:interface:stdout 2014-12-31T15:29:37.388717:  41    -0.801221   [ 0.262298 0.0240916 -0.0137152 0.954185 18.1004 14.5102 ]\n"
       ]
      },
      {
       "output_type": "stream",
       "stream": "stderr",
       "text": [
        "INFO:interface:stdout 2014-12-31T15:29:37.439196:  42    -0.801221   [ 0.262326 0.0241002 -0.0137138 0.954204 18.1003 14.5104 ]\n"
       ]
      },
      {
       "output_type": "stream",
       "stream": "stderr",
       "text": [
        "INFO:interface:stdout 2014-12-31T15:29:37.498708:  43     -0.80122   [ 0.262311 0.0240939 -0.0137135 0.954207 18.1004 14.5103 ]\n"
       ]
      },
      {
       "output_type": "stream",
       "stream": "stderr",
       "text": [
        "INFO:interface:stdout 2014-12-31T15:29:37.552233:Stop condition from optimizer.RegularStepGradientDescentOptimizerv4: Step too small after 44 iterations. Current step (4.88281e-05) is less than minimum step (5e-05).\n"
       ]
      },
      {
       "output_type": "stream",
       "stream": "stderr",
       "text": [
        "INFO:interface:stdout 2014-12-31T15:29:37.553410:\n"
       ]
      },
      {
       "output_type": "stream",
       "stream": "stderr",
       "text": [
        "INFO:interface:stdout 2014-12-31T15:29:37.553410:\n"
       ]
      },
      {
       "output_type": "stream",
       "stream": "stderr",
       "text": [
        "INFO:interface:stdout 2014-12-31T15:29:37.553410:\n"
       ]
      },
      {
       "output_type": "stream",
       "stream": "stderr",
       "text": [
        "INFO:interface:stdout 2014-12-31T15:29:37.553410:=============================== ITKv4 Registration: Starting Transform Estimations for Affine(2 of 2).===============================\n"
       ]
      },
      {
       "output_type": "stream",
       "stream": "stderr",
       "text": [
        "INFO:interface:stdout 2014-12-31T15:29:37.553410:\n"
       ]
      },
      {
       "output_type": "stream",
       "stream": "stderr",
       "text": [
        "INFO:interface:stdout 2014-12-31T15:29:38.466267:   0    -0.801225   [ 0.997584 0.0389341 0.0385709 -0.0137263 0.862205 -0.508802 -0.0538517 0.50381 0.85931 0.954486 18.1004 14.5117 ]\n"
       ]
      },
      {
       "output_type": "stream",
       "stream": "stderr",
       "text": [
        "INFO:interface:stdout 2014-12-31T15:29:38.623111:   1    -0.807449   [ 0.996295 0.0388485 0.0380158 -0.0136193 0.862445 -0.511617 -0.0539726 0.502367 0.856782 1.0046 18.1663 14.5721 ]\n"
       ]
      },
      {
       "output_type": "stream",
       "stream": "stderr",
       "text": [
        "INFO:interface:stdout 2014-12-31T15:29:38.835711:   2     -0.81302   [ 0.992633 0.0381774 0.0365139 -0.0133181 0.862609 -0.519148 -0.0543936 0.498228 0.849233 0.987993 18.3578 14.7107 ]\n"
       ]
      },
      {
       "output_type": "stream",
       "stream": "stderr",
       "text": [
        "INFO:interface:stdout 2014-12-31T15:29:39.151656:   3    -0.822219   [ 0.991838 0.038027 0.036247 -0.0132533 0.862259 -0.520537 -0.0544835 0.497303 0.8478 0.991089 18.3781 14.7332 ]\n"
       ]
      },
      {
       "output_type": "stream",
       "stream": "stderr",
       "text": [
        "INFO:interface:stdout 2014-12-31T15:29:39.309410:   4    -0.822531   [ 0.991853 0.0380674 0.0362644 -0.0132045 0.861651 -0.52034 -0.054487 0.497239 0.847929 0.998122 18.36 14.7374 ]\n"
       ]
      },
      {
       "output_type": "stream",
       "stream": "stderr",
       "text": [
        "INFO:interface:stdout 2014-12-31T15:29:39.469395:   5    -0.823153   [ 0.991884 0.0381228 0.0362417 -0.0130951 0.860876 -0.520078 -0.0544874 0.497132 0.848085 0.990072 18.345 14.7328 ]\n"
       ]
      },
      {
       "output_type": "stream",
       "stream": "stderr",
       "text": [
        "INFO:interface:stdout 2014-12-31T15:29:39.639306:   6    -0.823795   [ 0.992008 0.0383521 0.0362963 -0.0126524 0.858232 -0.51919 -0.0544872 0.496707 0.848721 1.00105 18.3079 14.7252 ]\n"
       ]
      },
      {
       "output_type": "stream",
       "stream": "stderr",
       "text": [
        "INFO:interface:stdout 2014-12-31T15:29:39.869261:   7    -0.824684   [ 0.992033 0.0382646 0.0365041 -0.0126521 0.858234 -0.519166 -0.0544487 0.496537 0.848973 0.983323 18.3111 14.6968 ]\n"
       ]
      },
      {
       "output_type": "stream",
       "stream": "stderr",
       "text": [
        "INFO:interface:stdout 2014-12-31T15:29:40.153612:   8    -0.824887   [ 0.992037 0.038234 0.0366085 -0.0126471 0.858235 -0.519165 -0.054425 0.496475 0.849113 0.981893 18.3133 14.6927 ]\n"
       ]
      },
      {
       "output_type": "stream",
       "stream": "stderr",
       "text": [
        "INFO:interface:stdout 2014-12-31T15:29:40.323383:   9    -0.824894   [ 0.992033 0.0382106 0.0367312 -0.0126319 0.85823 -0.519191 -0.0543872 0.496418 0.849288 0.988396 18.3178 14.7017 ]\n"
       ]
      },
      {
       "output_type": "stream",
       "stream": "stderr",
       "text": [
        "INFO:interface:stdout 2014-12-31T15:29:40.533161:  10     -0.82492   [ 0.992033 0.0382185 0.0367337 -0.0126163 0.858212 -0.51921 -0.0543689 0.496414 0.849345 0.989046 18.3215 14.7116 ]\n"
       ]
      },
      {
       "output_type": "stream",
       "stream": "stderr",
       "text": [
        "INFO:interface:stdout 2014-12-31T15:29:40.709274:  11    -0.824929   [ 0.992033 0.0382222 0.0367416 -0.0125952 0.858172 -0.519218 -0.0543478 0.496378 0.849475 0.98745 18.3242 14.7119 ]\n"
       ]
      },
      {
       "output_type": "stream",
       "stream": "stderr",
       "text": [
        "INFO:interface:stdout 2014-12-31T15:29:40.919126:  12    -0.824944   [ 0.99203 0.0382272 0.036749 -0.0125555 0.858092 -0.519246 -0.0543108 0.496314 0.849681 0.986915 18.3297 14.7147 ]\n"
       ]
      },
      {
       "output_type": "stream",
       "stream": "stderr",
       "text": [
        "INFO:interface:stdout 2014-12-31T15:29:41.081088:  13    -0.824937   [ 0.992016 0.0382209 0.0367187 -0.0125236 0.858002 -0.51929 -0.0542903 0.496263 0.849669 0.987699 18.3348 14.7136 ]\n"
       ]
      },
      {
       "output_type": "stream",
       "stream": "stderr",
       "text": [
        "INFO:interface:stdout 2014-12-31T15:29:41.387009:  14    -0.824958   [ 0.992016 0.0382203 0.036717 -0.0125207 0.85799 -0.519299 -0.0542897 0.496261 0.849671 0.987407 18.3344 14.7148 ]\n"
       ]
      },
      {
       "output_type": "stream",
       "stream": "stderr",
       "text": [
        "INFO:interface:stdout 2014-12-31T15:29:41.592450:  15     -0.82496   [ 0.992016 0.0382199 0.0367161 -0.0125189 0.857982 -0.519304 -0.0542893 0.496258 0.84967 0.987275 18.3344 14.7152 ]\n"
       ]
      },
      {
       "output_type": "stream",
       "stream": "stderr",
       "text": [
        "INFO:interface:stdout 2014-12-31T15:29:41.796947:  16     -0.82496   [ 0.992015 0.0382193 0.0367149 -0.0125164 0.857971 -0.51931 -0.0542888 0.496254 0.84967 0.987136 18.3344 14.7155 ]\n"
       ]
      },
      {
       "output_type": "stream",
       "stream": "stderr",
       "text": [
        "INFO:interface:stdout 2014-12-31T15:29:41.963932:  17    -0.824959   [ 0.992014 0.0382185 0.0367131 -0.0125122 0.857953 -0.519318 -0.054288 0.496248 0.849668 0.986997 18.3347 14.7159 ]\n"
       ]
      },
      {
       "output_type": "stream",
       "stream": "stderr",
       "text": [
        "INFO:interface:stdout 2014-12-31T15:29:42.134649:  18    -0.824962   [ 0.992013 0.0382169 0.0367096 -0.0125036 0.857914 -0.519334 -0.0542864 0.496233 0.849665 0.986877 18.3356 14.7165 ]\n"
       ]
      },
      {
       "output_type": "stream",
       "stream": "stderr",
       "text": [
        "INFO:interface:stdout 2014-12-31T15:29:42.308228:  19    -0.824975   [ 0.992008 0.0382136 0.0367008 -0.0124792 0.857798 -0.519378 -0.0542823 0.496186 0.849659 0.986877 18.3392 14.7183 ]\n"
       ]
      },
      {
       "output_type": "stream",
       "stream": "stderr",
       "text": [
        "INFO:interface:stdout 2014-12-31T15:29:42.469648:  20    -0.824999   [ 0.991986 0.0381985 0.0366469 -0.0123261 0.857035 -0.519661 -0.0542576 0.495863 0.849629 0.98747 18.3675 14.7334 ]\n"
       ]
      },
      {
       "output_type": "stream",
       "stream": "stderr",
       "text": [
        "INFO:interface:stdout 2014-12-31T15:29:42.755366:  21    -0.825188   [ 0.991985 0.0382079 0.0366157 -0.0123197 0.856983 -0.519736 -0.0542411 0.495784 0.849578 0.987974 18.3742 14.7461 ]\n"
       ]
      },
      {
       "output_type": "stream",
       "stream": "stderr",
       "text": [
        "INFO:interface:stdout 2014-12-31T15:29:42.913519:  22    -0.825214   [ 0.99197 0.0382173 0.0365776 -0.0123114 0.856905 -0.519827 -0.0542056 0.495614 0.849446 0.986535 18.3788 14.7555 ]\n"
       ]
      },
      {
       "output_type": "stream",
       "stream": "stderr",
       "text": [
        "INFO:interface:stdout 2014-12-31T15:29:43.085316:  23     -0.82522   [ 0.991933 0.0382109 0.0365305 -0.0123021 0.856771 -0.519916 -0.0541226 0.495241 0.849183 0.994496 18.3766 14.7657 ]\n"
       ]
      },
      {
       "output_type": "stream",
       "stream": "stderr",
       "text": [
        "INFO:interface:stdout 2014-12-31T15:29:43.256693:  24    -0.825296   [ 0.991925 0.0381364 0.036492 -0.0123079 0.856667 -0.519938 -0.0539745 0.494632 0.848845 0.994432 18.3723 14.7677 ]\n"
       ]
      },
      {
       "output_type": "stream",
       "stream": "stderr",
       "text": [
        "INFO:interface:stdout 2014-12-31T15:29:43.507803:  25    -0.825425   [ 0.991934 0.0381125 0.0365829 -0.0123041 0.856685 -0.519972 -0.0539262 0.49457 0.848879 1.00446 18.372 14.7533 ]\n"
       ]
      },
      {
       "output_type": "stream",
       "stream": "stderr",
       "text": [
        "INFO:interface:stdout 2014-12-31T15:29:44.367835:  26    -0.825458   [ 0.991934 0.0381125 0.0365829 -0.0123041 0.856685 -0.519972 -0.0539262 0.494569 0.848879 1.00446 18.372 14.7533 ]\n"
       ]
      },
      {
       "output_type": "stream",
       "stream": "stderr",
       "text": [
        "INFO:interface:stdout 2014-12-31T15:29:44.539618:  27    -0.825458   [ 0.991934 0.0381125 0.0365829 -0.0123041 0.856685 -0.519972 -0.0539262 0.494569 0.848879 1.00446 18.372 14.7533 ]\n"
       ]
      },
      {
       "output_type": "stream",
       "stream": "stderr",
       "text": [
        "INFO:interface:stdout 2014-12-31T15:29:44.709732:  28    -0.825458   [ 0.991934 0.0381125 0.0365829 -0.0123041 0.856685 -0.519972 -0.0539262 0.494569 0.848879 1.00446 18.372 14.7533 ]\n"
       ]
      },
      {
       "output_type": "stream",
       "stream": "stderr",
       "text": [
        "INFO:interface:stdout 2014-12-31T15:29:44.878715:  29    -0.825458   [ 0.991934 0.0381125 0.0365829 -0.0123041 0.856685 -0.519972 -0.0539262 0.494569 0.848879 1.00445 18.372 14.7533 ]\n"
       ]
      },
      {
       "output_type": "stream",
       "stream": "stderr",
       "text": [
        "INFO:interface:stdout 2014-12-31T15:29:45.050486:  30    -0.825458   [ 0.991934 0.0381125 0.0365829 -0.012304 0.856685 -0.519972 -0.0539262 0.494569 0.848879 1.00445 18.372 14.7533 ]\n"
       ]
      },
      {
       "output_type": "stream",
       "stream": "stderr",
       "text": [
        "INFO:interface:stdout 2014-12-31T15:29:45.213381:  31    -0.825458   [ 0.991934 0.0381125 0.0365829 -0.012304 0.856685 -0.519972 -0.0539261 0.494569 0.848879 1.00444 18.372 14.7533 ]\n"
       ]
      },
      {
       "output_type": "stream",
       "stream": "stderr",
       "text": [
        "INFO:interface:stdout 2014-12-31T15:29:45.389217:  32    -0.825458   [ 0.991934 0.0381125 0.0365829 -0.012304 0.856685 -0.519972 -0.0539261 0.494569 0.848879 1.00443 18.372 14.7533 ]\n"
       ]
      },
      {
       "output_type": "stream",
       "stream": "stderr",
       "text": [
        "INFO:interface:stdout 2014-12-31T15:29:45.559580:  33    -0.825458   [ 0.991934 0.0381125 0.036583 -0.012304 0.856685 -0.519972 -0.053926 0.494569 0.848879 1.0044 18.3719 14.7533 ]\n"
       ]
      },
      {
       "output_type": "stream",
       "stream": "stderr",
       "text": [
        "INFO:interface:stdout 2014-12-31T15:29:45.620171:Stop condition from optimizer.ConjugateGradientLineSearchOptimizerv4Template: Convergence checker passed at iteration 34.\n"
       ]
      },
      {
       "output_type": "stream",
       "stream": "stderr",
       "text": [
        "INFO:workflow:Executing node ResampleToB0Space in dir: /scratch/TESTS/IpythonNotebook/1_DWI_Nipype_workflow/DWIPrototype_only1Subject/ResampleToB0Space\n"
       ]
      },
      {
       "output_type": "stream",
       "stream": "stderr",
       "text": [
        "INFO:workflow:Executing node _ResampleToB0Space0 in dir: /scratch/TESTS/IpythonNotebook/1_DWI_Nipype_workflow/DWIPrototype_only1Subject/ResampleToB0Space/mapflow/_ResampleToB0Space0\n"
       ]
      },
      {
       "output_type": "stream",
       "stream": "stderr",
       "text": [
        "INFO:workflow:Running:  BRAINSResample  --inputVolume /Volumes/scratch/TESTS/IpythonNotebook/1_DWI_Nipype_workflow/DWIPrototype_only1Subject/ExtractBRAINFromHead/T2Stripped.nrrd --interpolationMode Linear --outputVolume T2toB0.nrrd --pixelType ushort --referenceVolume /Volumes/scratch/TESTS/IpythonNotebook/1_DWI_Nipype_workflow/DWIPrototype_only1Subject/EXTRACT_B0/B0_Image.nrrd --warpTransform /Volumes/scratch/TESTS/IpythonNotebook/1_DWI_Nipype_workflow/DWIPrototype_only1Subject/BFit_T2toB0/T2ToB0_RigidTransform.h5\n"
       ]
      },
      {
       "output_type": "stream",
       "stream": "stderr",
       "text": [
        "INFO:interface:stdout 2014-12-31T15:29:45.906439:=====================================================\n"
       ]
      },
      {
       "output_type": "stream",
       "stream": "stderr",
       "text": [
        "INFO:interface:stdout 2014-12-31T15:29:45.906439:Input Volume:     /Volumes/scratch/TESTS/IpythonNotebook/1_DWI_Nipype_workflow/DWIPrototype_only1Subject/ExtractBRAINFromHead/T2Stripped.nrrd\n"
       ]
      },
      {
       "output_type": "stream",
       "stream": "stderr",
       "text": [
        "INFO:interface:stdout 2014-12-31T15:29:45.906439:Reference Volume: /Volumes/scratch/TESTS/IpythonNotebook/1_DWI_Nipype_workflow/DWIPrototype_only1Subject/EXTRACT_B0/B0_Image.nrrd\n"
       ]
      },
      {
       "output_type": "stream",
       "stream": "stderr",
       "text": [
        "INFO:interface:stdout 2014-12-31T15:29:45.906439:Output Volume:    T2toB0.nrrd\n"
       ]
      },
      {
       "output_type": "stream",
       "stream": "stderr",
       "text": [
        "INFO:interface:stdout 2014-12-31T15:29:45.906439:Pixel Type:       ushort\n"
       ]
      },
      {
       "output_type": "stream",
       "stream": "stderr",
       "text": [
        "INFO:interface:stdout 2014-12-31T15:29:45.906439:Interpolation:    Linear\n"
       ]
      },
      {
       "output_type": "stream",
       "stream": "stderr",
       "text": [
        "INFO:interface:stdout 2014-12-31T15:29:45.906439:Background Value: 0\n"
       ]
      },
      {
       "output_type": "stream",
       "stream": "stderr",
       "text": [
        "INFO:interface:stdout 2014-12-31T15:29:45.906439:Warp By Transform: /Volumes/scratch/TESTS/IpythonNotebook/1_DWI_Nipype_workflow/DWIPrototype_only1Subject/BFit_T2toB0/T2ToB0_RigidTransform.h5\n"
       ]
      },
      {
       "output_type": "stream",
       "stream": "stderr",
       "text": [
        "INFO:interface:stdout 2014-12-31T15:29:45.906439:=====================================================\n"
       ]
      },
      {
       "output_type": "stream",
       "stream": "stderr",
       "text": [
        "INFO:interface:stdout 2014-12-31T15:29:45.989060:Read ITK transform from file: /Volumes/scratch/TESTS/IpythonNotebook/1_DWI_Nipype_workflow/DWIPrototype_only1Subject/BFit_T2toB0/T2ToB0_RigidTransform.h5\n"
       ]
      },
      {
       "output_type": "stream",
       "stream": "stderr",
       "text": [
        "INFO:interface:stdout 2014-12-31T15:29:45.995551:HACK: 0  VersorRigid3DTransform\n"
       ]
      },
      {
       "output_type": "stream",
       "stream": "stderr",
       "text": [
        "INFO:workflow:Executing node _ResampleToB0Space1 in dir: /scratch/TESTS/IpythonNotebook/1_DWI_Nipype_workflow/DWIPrototype_only1Subject/ResampleToB0Space/mapflow/_ResampleToB0Space1\n"
       ]
      },
      {
       "output_type": "stream",
       "stream": "stderr",
       "text": [
        "INFO:workflow:Running:  BRAINSResample  --inputVolume /Shared/sinapse/CACHE/20141124_TrackOn_base_Results/HDNI_001/249903245/249903245_20110719_30/TissueClassify/complete_brainlabels_seg.nii.gz --interpolationMode NearestNeighbor --outputVolume BRAINMaskToB0.nrrd --pixelType binary --referenceVolume /Volumes/scratch/TESTS/IpythonNotebook/1_DWI_Nipype_workflow/DWIPrototype_only1Subject/EXTRACT_B0/B0_Image.nrrd --warpTransform /Volumes/scratch/TESTS/IpythonNotebook/1_DWI_Nipype_workflow/DWIPrototype_only1Subject/BFit_T2toB0/T2ToB0_RigidTransform.h5\n"
       ]
      },
      {
       "output_type": "stream",
       "stream": "stderr",
       "text": [
        "INFO:interface:stdout 2014-12-31T15:29:46.165103:=====================================================\n"
       ]
      },
      {
       "output_type": "stream",
       "stream": "stderr",
       "text": [
        "INFO:interface:stdout 2014-12-31T15:29:46.165103:Input Volume:     /Shared/sinapse/CACHE/20141124_TrackOn_base_Results/HDNI_001/249903245/249903245_20110719_30/TissueClassify/complete_brainlabels_seg.nii.gz\n"
       ]
      },
      {
       "output_type": "stream",
       "stream": "stderr",
       "text": [
        "INFO:interface:stdout 2014-12-31T15:29:46.165103:Reference Volume: /Volumes/scratch/TESTS/IpythonNotebook/1_DWI_Nipype_workflow/DWIPrototype_only1Subject/EXTRACT_B0/B0_Image.nrrd\n"
       ]
      },
      {
       "output_type": "stream",
       "stream": "stderr",
       "text": [
        "INFO:interface:stdout 2014-12-31T15:29:46.167497:Output Volume:    BRAINMaskToB0.nrrd\n"
       ]
      },
      {
       "output_type": "stream",
       "stream": "stderr",
       "text": [
        "INFO:interface:stdout 2014-12-31T15:29:46.167497:Pixel Type:       binary\n"
       ]
      },
      {
       "output_type": "stream",
       "stream": "stderr",
       "text": [
        "INFO:interface:stdout 2014-12-31T15:29:46.167497:Interpolation:    NearestNeighbor\n"
       ]
      },
      {
       "output_type": "stream",
       "stream": "stderr",
       "text": [
        "INFO:interface:stdout 2014-12-31T15:29:46.167497:Background Value: 0\n"
       ]
      },
      {
       "output_type": "stream",
       "stream": "stderr",
       "text": [
        "INFO:interface:stdout 2014-12-31T15:29:46.167497:Warp By Transform: /Volumes/scratch/TESTS/IpythonNotebook/1_DWI_Nipype_workflow/DWIPrototype_only1Subject/BFit_T2toB0/T2ToB0_RigidTransform.h5\n"
       ]
      },
      {
       "output_type": "stream",
       "stream": "stderr",
       "text": [
        "INFO:interface:stdout 2014-12-31T15:29:46.167497:=====================================================\n"
       ]
      },
      {
       "output_type": "stream",
       "stream": "stderr",
       "text": [
        "INFO:interface:stdout 2014-12-31T15:29:46.275055:Read ITK transform from file: /Volumes/scratch/TESTS/IpythonNotebook/1_DWI_Nipype_workflow/DWIPrototype_only1Subject/BFit_T2toB0/T2ToB0_RigidTransform.h5\n"
       ]
      },
      {
       "output_type": "stream",
       "stream": "stderr",
       "text": [
        "INFO:interface:stdout 2014-12-31T15:29:46.281540:HACK: 0  VersorRigid3DTransform\n"
       ]
      },
      {
       "output_type": "stream",
       "stream": "stderr",
       "text": [
        "INFO:interface:stdout 2014-12-31T15:29:46.281540:WARNING:  Using NearestNeighbor and SignedDistance\n"
       ]
      },
      {
       "output_type": "stream",
       "stream": "stderr",
       "text": [
        "INFO:interface:stdout 2014-12-31T15:29:46.281540:          for binary images is an unlikely combination.\n"
       ]
      },
      {
       "output_type": "stream",
       "stream": "stderr",
       "text": [
        "INFO:interface:stdout 2014-12-31T15:29:46.282928:          you probably want Linear interpolationMode for\n"
       ]
      },
      {
       "output_type": "stream",
       "stream": "stderr",
       "text": [
        "INFO:interface:stdout 2014-12-31T15:29:46.282928:          the signed distance map implied by your choice\n"
       ]
      },
      {
       "output_type": "stream",
       "stream": "stderr",
       "text": [
        "INFO:interface:stdout 2014-12-31T15:29:46.282928:          of pixelType binary.\n"
       ]
      },
      {
       "output_type": "stream",
       "stream": "stderr",
       "text": [
        "INFO:workflow:Executing node Save_T2inB0_DC in dir: /scratch/TESTS/IpythonNotebook/1_DWI_Nipype_workflow/DWIPrototype_only1Subject/Save_T2inB0_DC\n"
       ]
      },
      {
       "output_type": "stream",
       "stream": "stderr",
       "text": [
        "INFO:workflow:Executing node CreateAntsRegistrationMask in dir: /scratch/TESTS/IpythonNotebook/1_DWI_Nipype_workflow/DWIPrototype_only1Subject/CreateAntsRegistrationMask\n"
       ]
      },
      {
       "output_type": "stream",
       "stream": "stderr",
       "text": [
        "INFO:workflow:Executing node MakeForceDCFilesListNode in dir: /scratch/TESTS/IpythonNotebook/1_DWI_Nipype_workflow/DWIPrototype_only1Subject/MakeForceDCFilesListNode\n"
       ]
      },
      {
       "output_type": "stream",
       "stream": "stderr",
       "text": [
        "INFO:workflow:Executing node ForceDCtoID in dir: /scratch/TESTS/IpythonNotebook/1_DWI_Nipype_workflow/DWIPrototype_only1Subject/ForceDCtoID\n"
       ]
      },
      {
       "output_type": "stream",
       "stream": "stderr",
       "text": [
        "INFO:workflow:Executing node _ForceDCtoID0 in dir: /scratch/TESTS/IpythonNotebook/1_DWI_Nipype_workflow/DWIPrototype_only1Subject/ForceDCtoID/mapflow/_ForceDCtoID0\n"
       ]
      },
      {
       "output_type": "stream",
       "stream": "stderr",
       "text": [
        "INFO:workflow:Executing node _ForceDCtoID1 in dir: /scratch/TESTS/IpythonNotebook/1_DWI_Nipype_workflow/DWIPrototype_only1Subject/ForceDCtoID/mapflow/_ForceDCtoID1\n"
       ]
      },
      {
       "output_type": "stream",
       "stream": "stderr",
       "text": [
        "INFO:workflow:Executing node _ForceDCtoID2 in dir: /scratch/TESTS/IpythonNotebook/1_DWI_Nipype_workflow/DWIPrototype_only1Subject/ForceDCtoID/mapflow/_ForceDCtoID2\n"
       ]
      },
      {
       "output_type": "stream",
       "stream": "stderr",
       "text": [
        "INFO:workflow:Executing node antsReg_B0ToTransformedT2 in dir: /scratch/TESTS/IpythonNotebook/1_DWI_Nipype_workflow/DWIPrototype_only1Subject/antsReg_B0ToTransformedT2\n"
       ]
      },
      {
       "output_type": "stream",
       "stream": "stderr",
       "text": [
        "INFO:workflow:Running: antsRegistration --float 1 --restrict-deformation 0x1x0 --collapse-output-transforms 0 --dimensionality 3 --masks /Volumes/scratch/TESTS/IpythonNotebook/1_DWI_Nipype_workflow/DWIPrototype_only1Subject/ForceDCtoID/mapflow/_ForceDCtoID2/IDDC_registrationMask.nrrd --initialize-transforms-per-stage 0 --interpolation Linear --output Tsyn --transform SyN[ 0.25, 3.0, 0.0 ] --metric MI[ /Volumes/scratch/TESTS/IpythonNotebook/1_DWI_Nipype_workflow/DWIPrototype_only1Subject/ForceDCtoID/mapflow/_ForceDCtoID1/IDDC_T2toB0.nrrd, /Volumes/scratch/TESTS/IpythonNotebook/1_DWI_Nipype_workflow/DWIPrototype_only1Subject/ForceDCtoID/mapflow/_ForceDCtoID0/IDDC_B0_Image.nrrd, 1, 32, None, 1 ] --convergence [ 70x50x40, 1e-06, 10 ] --smoothing-sigmas 2.0x1.0x0.0vox --shrink-factors 3x2x1 --use-estimate-learning-rate-once 0 --use-histogram-matching 1 --winsorize-image-intensities [ 0.01, 0.99 ]  --write-composite-transform 0\n"
       ]
      },
      {
       "output_type": "stream",
       "stream": "stderr",
       "text": [
        "INFO:interface:stdout 2014-12-31T15:29:47.599470:All_Command_lines_OK\n"
       ]
      },
      {
       "output_type": "stream",
       "stream": "stderr",
       "text": [
        "INFO:interface:stdout 2014-12-31T15:29:47.599470:Using single precision for computations.\n"
       ]
      },
      {
       "output_type": "stream",
       "stream": "stderr",
       "text": [
        "INFO:interface:stdout 2014-12-31T15:29:47.603442:  number of levels = 3\n"
       ]
      },
      {
       "output_type": "stream",
       "stream": "stderr",
       "text": [
        "INFO:interface:stdout 2014-12-31T15:29:47.603911:  fixed image: /Volumes/scratch/TESTS/IpythonNotebook/1_DWI_Nipype_workflow/DWIPrototype_only1Subject/ForceDCtoID/mapflow/_ForceDCtoID1/IDDC_T2toB0.nrrd\n"
       ]
      },
      {
       "output_type": "stream",
       "stream": "stderr",
       "text": [
        "INFO:interface:stdout 2014-12-31T15:29:47.603911:  moving image: /Volumes/scratch/TESTS/IpythonNotebook/1_DWI_Nipype_workflow/DWIPrototype_only1Subject/ForceDCtoID/mapflow/_ForceDCtoID0/IDDC_B0_Image.nrrd\n"
       ]
      },
      {
       "output_type": "stream",
       "stream": "stderr",
       "text": [
        "INFO:interface:stdout 2014-12-31T15:29:47.614694:Dimension = 3\n"
       ]
      },
      {
       "output_type": "stream",
       "stream": "stderr",
       "text": [
        "INFO:interface:stdout 2014-12-31T15:29:47.614694:Number of stages = 1\n"
       ]
      },
      {
       "output_type": "stream",
       "stream": "stderr",
       "text": [
        "INFO:interface:stdout 2014-12-31T15:29:47.614694:Use Histogram Matching true\n"
       ]
      },
      {
       "output_type": "stream",
       "stream": "stderr",
       "text": [
        "INFO:interface:stdout 2014-12-31T15:29:47.614694:Winsorize image intensities false\n"
       ]
      },
      {
       "output_type": "stream",
       "stream": "stderr",
       "text": [
        "INFO:interface:stdout 2014-12-31T15:29:47.616161:Lower quantile = 0\n"
       ]
      },
      {
       "output_type": "stream",
       "stream": "stderr",
       "text": [
        "INFO:interface:stdout 2014-12-31T15:29:47.616161:Upper quantile = 1\n"
       ]
      },
      {
       "output_type": "stream",
       "stream": "stderr",
       "text": [
        "INFO:interface:stdout 2014-12-31T15:29:47.616161:Stage 1 State\n"
       ]
      },
      {
       "output_type": "stream",
       "stream": "stderr",
       "text": [
        "INFO:interface:stdout 2014-12-31T15:29:47.616161:   Image metric = Mattes\n"
       ]
      },
      {
       "output_type": "stream",
       "stream": "stderr",
       "text": [
        "INFO:interface:stdout 2014-12-31T15:29:47.616161:     Fixed image = Image (0x7fbf3a726ed0)\n"
       ]
      },
      {
       "output_type": "stream",
       "stream": "stderr",
       "text": [
        "INFO:interface:stdout 2014-12-31T15:29:47.616161:  RTTI typeinfo:   itk::Image<float, 3u>\n"
       ]
      },
      {
       "output_type": "stream",
       "stream": "stderr",
       "text": [
        "INFO:interface:stdout 2014-12-31T15:29:47.616161:  Reference Count: 2\n"
       ]
      },
      {
       "output_type": "stream",
       "stream": "stderr",
       "text": [
        "INFO:interface:stdout 2014-12-31T15:29:47.616161:  Modified Time: 979\n"
       ]
      },
      {
       "output_type": "stream",
       "stream": "stderr",
       "text": [
        "INFO:interface:stdout 2014-12-31T15:29:47.616161:  Debug: Off\n"
       ]
      },
      {
       "output_type": "stream",
       "stream": "stderr",
       "text": [
        "INFO:interface:stdout 2014-12-31T15:29:47.616161:  Object Name: \n"
       ]
      },
      {
       "output_type": "stream",
       "stream": "stderr",
       "text": [
        "INFO:interface:stdout 2014-12-31T15:29:47.616161:  Observers: \n"
       ]
      },
      {
       "output_type": "stream",
       "stream": "stderr",
       "text": [
        "INFO:interface:stdout 2014-12-31T15:29:47.616161:    none\n"
       ]
      },
      {
       "output_type": "stream",
       "stream": "stderr",
       "text": [
        "INFO:interface:stdout 2014-12-31T15:29:47.616161:  Source: (none)\n"
       ]
      },
      {
       "output_type": "stream",
       "stream": "stderr",
       "text": [
        "INFO:interface:stdout 2014-12-31T15:29:47.616161:  Source output name: (none)\n"
       ]
      },
      {
       "output_type": "stream",
       "stream": "stderr",
       "text": [
        "INFO:interface:stdout 2014-12-31T15:29:47.616161:  Release Data: Off\n"
       ]
      },
      {
       "output_type": "stream",
       "stream": "stderr",
       "text": [
        "INFO:interface:stdout 2014-12-31T15:29:47.616161:  Data Released: False\n"
       ]
      },
      {
       "output_type": "stream",
       "stream": "stderr",
       "text": [
        "INFO:interface:stdout 2014-12-31T15:29:47.616161:  Global Release Data: Off\n"
       ]
      },
      {
       "output_type": "stream",
       "stream": "stderr",
       "text": [
        "INFO:interface:stdout 2014-12-31T15:29:47.616161:  PipelineMTime: 0\n"
       ]
      },
      {
       "output_type": "stream",
       "stream": "stderr",
       "text": [
        "INFO:interface:stdout 2014-12-31T15:29:47.616161:  UpdateMTime: 796\n"
       ]
      },
      {
       "output_type": "stream",
       "stream": "stderr",
       "text": [
        "INFO:interface:stdout 2014-12-31T15:29:47.616161:  RealTimeStamp: 0 seconds \n"
       ]
      },
      {
       "output_type": "stream",
       "stream": "stderr",
       "text": [
        "INFO:interface:stdout 2014-12-31T15:29:47.616161:  LargestPossibleRegion: \n"
       ]
      },
      {
       "output_type": "stream",
       "stream": "stderr",
       "text": [
        "INFO:interface:stdout 2014-12-31T15:29:47.616161:    Dimension: 3\n"
       ]
      },
      {
       "output_type": "stream",
       "stream": "stderr",
       "text": [
        "INFO:interface:stdout 2014-12-31T15:29:47.616161:    Index: [0, 0, 0]\n"
       ]
      },
      {
       "output_type": "stream",
       "stream": "stderr",
       "text": [
        "INFO:interface:stdout 2014-12-31T15:29:47.616161:    Size: [128, 96, 65]\n"
       ]
      },
      {
       "output_type": "stream",
       "stream": "stderr",
       "text": [
        "INFO:interface:stdout 2014-12-31T15:29:47.616161:  BufferedRegion: \n"
       ]
      },
      {
       "output_type": "stream",
       "stream": "stderr",
       "text": [
        "INFO:interface:stdout 2014-12-31T15:29:47.616161:    Dimension: 3\n"
       ]
      },
      {
       "output_type": "stream",
       "stream": "stderr",
       "text": [
        "INFO:interface:stdout 2014-12-31T15:29:47.616161:    Index: [0, 0, 0]\n"
       ]
      },
      {
       "output_type": "stream",
       "stream": "stderr",
       "text": [
        "INFO:interface:stdout 2014-12-31T15:29:47.616161:    Size: [128, 96, 65]\n"
       ]
      },
      {
       "output_type": "stream",
       "stream": "stderr",
       "text": [
        "INFO:interface:stdout 2014-12-31T15:29:47.616161:  RequestedRegion: \n"
       ]
      },
      {
       "output_type": "stream",
       "stream": "stderr",
       "text": [
        "INFO:interface:stdout 2014-12-31T15:29:47.616161:    Dimension: 3\n"
       ]
      },
      {
       "output_type": "stream",
       "stream": "stderr",
       "text": [
        "INFO:interface:stdout 2014-12-31T15:29:47.616161:    Index: [0, 0, 0]\n"
       ]
      },
      {
       "output_type": "stream",
       "stream": "stderr",
       "text": [
        "INFO:interface:stdout 2014-12-31T15:29:47.616161:    Size: [128, 96, 65]\n"
       ]
      },
      {
       "output_type": "stream",
       "stream": "stderr",
       "text": [
        "INFO:interface:stdout 2014-12-31T15:29:47.616161:  Spacing: [2, 2, 2]\n"
       ]
      },
      {
       "output_type": "stream",
       "stream": "stderr",
       "text": [
        "INFO:interface:stdout 2014-12-31T15:29:47.616161:  Origin: [-128, -96, -65]\n"
       ]
      },
      {
       "output_type": "stream",
       "stream": "stderr",
       "text": [
        "INFO:interface:stdout 2014-12-31T15:29:47.616161:  Direction: \n"
       ]
      },
      {
       "output_type": "stream",
       "stream": "stderr",
       "text": [
        "INFO:interface:stdout 2014-12-31T15:29:47.616161:1 0 0\n"
       ]
      },
      {
       "output_type": "stream",
       "stream": "stderr",
       "text": [
        "INFO:interface:stdout 2014-12-31T15:29:47.616161:0 1 0\n"
       ]
      },
      {
       "output_type": "stream",
       "stream": "stderr",
       "text": [
        "INFO:interface:stdout 2014-12-31T15:29:47.616161:0 0 1\n"
       ]
      },
      {
       "output_type": "stream",
       "stream": "stderr",
       "text": [
        "INFO:interface:stdout 2014-12-31T15:29:47.616161:\n"
       ]
      },
      {
       "output_type": "stream",
       "stream": "stderr",
       "text": [
        "INFO:interface:stdout 2014-12-31T15:29:47.616161:  IndexToPointMatrix: \n"
       ]
      },
      {
       "output_type": "stream",
       "stream": "stderr",
       "text": [
        "INFO:interface:stdout 2014-12-31T15:29:47.616161:2 0 0\n"
       ]
      },
      {
       "output_type": "stream",
       "stream": "stderr",
       "text": [
        "INFO:interface:stdout 2014-12-31T15:29:47.616161:0 2 0\n"
       ]
      },
      {
       "output_type": "stream",
       "stream": "stderr",
       "text": [
        "INFO:interface:stdout 2014-12-31T15:29:47.616161:0 0 2\n"
       ]
      },
      {
       "output_type": "stream",
       "stream": "stderr",
       "text": [
        "INFO:interface:stdout 2014-12-31T15:29:47.616161:\n"
       ]
      },
      {
       "output_type": "stream",
       "stream": "stderr",
       "text": [
        "INFO:interface:stdout 2014-12-31T15:29:47.616161:  PointToIndexMatrix: \n"
       ]
      },
      {
       "output_type": "stream",
       "stream": "stderr",
       "text": [
        "INFO:interface:stdout 2014-12-31T15:29:47.616161:0.5 0 0\n"
       ]
      },
      {
       "output_type": "stream",
       "stream": "stderr",
       "text": [
        "INFO:interface:stdout 2014-12-31T15:29:47.616161:0 0.5 0\n"
       ]
      },
      {
       "output_type": "stream",
       "stream": "stderr",
       "text": [
        "INFO:interface:stdout 2014-12-31T15:29:47.616161:0 0 0.5\n"
       ]
      },
      {
       "output_type": "stream",
       "stream": "stderr",
       "text": [
        "INFO:interface:stdout 2014-12-31T15:29:47.616161:\n"
       ]
      },
      {
       "output_type": "stream",
       "stream": "stderr",
       "text": [
        "INFO:interface:stdout 2014-12-31T15:29:47.616161:  Inverse Direction: \n"
       ]
      },
      {
       "output_type": "stream",
       "stream": "stderr",
       "text": [
        "INFO:interface:stdout 2014-12-31T15:29:47.616161:1 0 0\n"
       ]
      },
      {
       "output_type": "stream",
       "stream": "stderr",
       "text": [
        "INFO:interface:stdout 2014-12-31T15:29:47.616161:0 1 0\n"
       ]
      },
      {
       "output_type": "stream",
       "stream": "stderr",
       "text": [
        "INFO:interface:stdout 2014-12-31T15:29:47.616161:0 0 1\n"
       ]
      },
      {
       "output_type": "stream",
       "stream": "stderr",
       "text": [
        "INFO:interface:stdout 2014-12-31T15:29:47.616161:\n"
       ]
      },
      {
       "output_type": "stream",
       "stream": "stderr",
       "text": [
        "INFO:interface:stdout 2014-12-31T15:29:47.616161:  PixelContainer: \n"
       ]
      },
      {
       "output_type": "stream",
       "stream": "stderr",
       "text": [
        "INFO:interface:stdout 2014-12-31T15:29:47.616161:    ImportImageContainer (0x7fbf3a726a00)\n"
       ]
      },
      {
       "output_type": "stream",
       "stream": "stderr",
       "text": [
        "INFO:interface:stdout 2014-12-31T15:29:47.616161:      RTTI typeinfo:   itk::ImportImageContainer<unsigned long, float>\n"
       ]
      },
      {
       "output_type": "stream",
       "stream": "stderr",
       "text": [
        "INFO:interface:stdout 2014-12-31T15:29:47.616161:      Reference Count: 1\n"
       ]
      },
      {
       "output_type": "stream",
       "stream": "stderr",
       "text": [
        "INFO:interface:stdout 2014-12-31T15:29:47.616161:      Modified Time: 793\n"
       ]
      },
      {
       "output_type": "stream",
       "stream": "stderr",
       "text": [
        "INFO:interface:stdout 2014-12-31T15:29:47.616161:      Debug: Off\n"
       ]
      },
      {
       "output_type": "stream",
       "stream": "stderr",
       "text": [
        "INFO:interface:stdout 2014-12-31T15:29:47.616161:      Object Name: \n"
       ]
      },
      {
       "output_type": "stream",
       "stream": "stderr",
       "text": [
        "INFO:interface:stdout 2014-12-31T15:29:47.616161:      Observers: \n"
       ]
      },
      {
       "output_type": "stream",
       "stream": "stderr",
       "text": [
        "INFO:interface:stdout 2014-12-31T15:29:47.616161:        none\n"
       ]
      },
      {
       "output_type": "stream",
       "stream": "stderr",
       "text": [
        "INFO:interface:stdout 2014-12-31T15:29:47.616161:      Pointer: 0x10eaea000\n"
       ]
      },
      {
       "output_type": "stream",
       "stream": "stderr",
       "text": [
        "INFO:interface:stdout 2014-12-31T15:29:47.616161:      Container manages memory: true\n"
       ]
      },
      {
       "output_type": "stream",
       "stream": "stderr",
       "text": [
        "INFO:interface:stdout 2014-12-31T15:29:47.616161:      Size: 798720\n"
       ]
      },
      {
       "output_type": "stream",
       "stream": "stderr",
       "text": [
        "INFO:interface:stdout 2014-12-31T15:29:47.616161:      Capacity: 798720\n"
       ]
      },
      {
       "output_type": "stream",
       "stream": "stderr",
       "text": [
        "INFO:interface:stdout 2014-12-31T15:29:47.616161:\n"
       ]
      },
      {
       "output_type": "stream",
       "stream": "stderr",
       "text": [
        "INFO:interface:stdout 2014-12-31T15:29:47.616161:     Moving image = Image (0x7fbf3a727440)\n"
       ]
      },
      {
       "output_type": "stream",
       "stream": "stderr",
       "text": [
        "INFO:interface:stdout 2014-12-31T15:29:47.616161:  RTTI typeinfo:   itk::Image<float, 3u>\n"
       ]
      },
      {
       "output_type": "stream",
       "stream": "stderr",
       "text": [
        "INFO:interface:stdout 2014-12-31T15:29:47.616161:  Reference Count: 2\n"
       ]
      },
      {
       "output_type": "stream",
       "stream": "stderr",
       "text": [
        "INFO:interface:stdout 2014-12-31T15:29:47.616161:  Modified Time: 980\n"
       ]
      },
      {
       "output_type": "stream",
       "stream": "stderr",
       "text": [
        "INFO:interface:stdout 2014-12-31T15:29:47.616161:  Debug: Off\n"
       ]
      },
      {
       "output_type": "stream",
       "stream": "stderr",
       "text": [
        "INFO:interface:stdout 2014-12-31T15:29:47.616161:  Object Name: \n"
       ]
      },
      {
       "output_type": "stream",
       "stream": "stderr",
       "text": [
        "INFO:interface:stdout 2014-12-31T15:29:47.616161:  Observers: \n"
       ]
      },
      {
       "output_type": "stream",
       "stream": "stderr",
       "text": [
        "INFO:interface:stdout 2014-12-31T15:29:47.616161:    none\n"
       ]
      },
      {
       "output_type": "stream",
       "stream": "stderr",
       "text": [
        "INFO:interface:stdout 2014-12-31T15:29:47.616161:  Source: (none)\n"
       ]
      },
      {
       "output_type": "stream",
       "stream": "stderr",
       "text": [
        "INFO:interface:stdout 2014-12-31T15:29:47.616161:  Source output name: (none)\n"
       ]
      },
      {
       "output_type": "stream",
       "stream": "stderr",
       "text": [
        "INFO:interface:stdout 2014-12-31T15:29:47.616161:  Release Data: Off\n"
       ]
      },
      {
       "output_type": "stream",
       "stream": "stderr",
       "text": [
        "INFO:interface:stdout 2014-12-31T15:29:47.616161:  Data Released: False\n"
       ]
      },
      {
       "output_type": "stream",
       "stream": "stderr",
       "text": [
        "INFO:interface:stdout 2014-12-31T15:29:47.616161:  Global Release Data: Off\n"
       ]
      },
      {
       "output_type": "stream",
       "stream": "stderr",
       "text": [
        "INFO:interface:stdout 2014-12-31T15:29:47.616161:  PipelineMTime: 0\n"
       ]
      },
      {
       "output_type": "stream",
       "stream": "stderr",
       "text": [
        "INFO:interface:stdout 2014-12-31T15:29:47.616161:  UpdateMTime: 977\n"
       ]
      },
      {
       "output_type": "stream",
       "stream": "stderr",
       "text": [
        "INFO:interface:stdout 2014-12-31T15:29:47.616161:  RealTimeStamp: 0 seconds \n"
       ]
      },
      {
       "output_type": "stream",
       "stream": "stderr",
       "text": [
        "INFO:interface:stdout 2014-12-31T15:29:47.616161:  LargestPossibleRegion: \n"
       ]
      },
      {
       "output_type": "stream",
       "stream": "stderr",
       "text": [
        "INFO:interface:stdout 2014-12-31T15:29:47.616161:    Dimension: 3\n"
       ]
      },
      {
       "output_type": "stream",
       "stream": "stderr",
       "text": [
        "INFO:interface:stdout 2014-12-31T15:29:47.616161:    Index: [0, 0, 0]\n"
       ]
      },
      {
       "output_type": "stream",
       "stream": "stderr",
       "text": [
        "INFO:interface:stdout 2014-12-31T15:29:47.616161:    Size: [128, 96, 65]\n"
       ]
      },
      {
       "output_type": "stream",
       "stream": "stderr",
       "text": [
        "INFO:interface:stdout 2014-12-31T15:29:47.616161:  BufferedRegion: \n"
       ]
      },
      {
       "output_type": "stream",
       "stream": "stderr",
       "text": [
        "INFO:interface:stdout 2014-12-31T15:29:47.616161:    Dimension: 3\n"
       ]
      },
      {
       "output_type": "stream",
       "stream": "stderr",
       "text": [
        "INFO:interface:stdout 2014-12-31T15:29:47.616161:    Index: [0, 0, 0]\n"
       ]
      },
      {
       "output_type": "stream",
       "stream": "stderr",
       "text": [
        "INFO:interface:stdout 2014-12-31T15:29:47.616161:    Size: [128, 96, 65]\n"
       ]
      },
      {
       "output_type": "stream",
       "stream": "stderr",
       "text": [
        "INFO:interface:stdout 2014-12-31T15:29:47.616161:  RequestedRegion: \n"
       ]
      },
      {
       "output_type": "stream",
       "stream": "stderr",
       "text": [
        "INFO:interface:stdout 2014-12-31T15:29:47.616161:    Dimension: 3\n"
       ]
      },
      {
       "output_type": "stream",
       "stream": "stderr",
       "text": [
        "INFO:interface:stdout 2014-12-31T15:29:47.616161:    Index: [0, 0, 0]\n"
       ]
      },
      {
       "output_type": "stream",
       "stream": "stderr",
       "text": [
        "INFO:interface:stdout 2014-12-31T15:29:47.616161:    Size: [128, 96, 65]\n"
       ]
      },
      {
       "output_type": "stream",
       "stream": "stderr",
       "text": [
        "INFO:interface:stdout 2014-12-31T15:29:47.616161:  Spacing: [2, 2, 2]\n"
       ]
      },
      {
       "output_type": "stream",
       "stream": "stderr",
       "text": [
        "INFO:interface:stdout 2014-12-31T15:29:47.616161:  Origin: [-128, -96, -65]\n"
       ]
      },
      {
       "output_type": "stream",
       "stream": "stderr",
       "text": [
        "INFO:interface:stdout 2014-12-31T15:29:47.616161:  Direction: \n"
       ]
      },
      {
       "output_type": "stream",
       "stream": "stderr",
       "text": [
        "INFO:interface:stdout 2014-12-31T15:29:47.616161:1 0 0\n"
       ]
      },
      {
       "output_type": "stream",
       "stream": "stderr",
       "text": [
        "INFO:interface:stdout 2014-12-31T15:29:47.616161:0 1 0\n"
       ]
      },
      {
       "output_type": "stream",
       "stream": "stderr",
       "text": [
        "INFO:interface:stdout 2014-12-31T15:29:47.616161:0 0 1\n"
       ]
      },
      {
       "output_type": "stream",
       "stream": "stderr",
       "text": [
        "INFO:interface:stdout 2014-12-31T15:29:47.616161:\n"
       ]
      },
      {
       "output_type": "stream",
       "stream": "stderr",
       "text": [
        "INFO:interface:stdout 2014-12-31T15:29:47.616161:  IndexToPointMatrix: \n"
       ]
      },
      {
       "output_type": "stream",
       "stream": "stderr",
       "text": [
        "INFO:interface:stdout 2014-12-31T15:29:47.616161:2 0 0\n"
       ]
      },
      {
       "output_type": "stream",
       "stream": "stderr",
       "text": [
        "INFO:interface:stdout 2014-12-31T15:29:47.616161:0 2 0\n"
       ]
      },
      {
       "output_type": "stream",
       "stream": "stderr",
       "text": [
        "INFO:interface:stdout 2014-12-31T15:29:47.616161:0 0 2\n"
       ]
      },
      {
       "output_type": "stream",
       "stream": "stderr",
       "text": [
        "INFO:interface:stdout 2014-12-31T15:29:47.616161:\n"
       ]
      },
      {
       "output_type": "stream",
       "stream": "stderr",
       "text": [
        "INFO:interface:stdout 2014-12-31T15:29:47.616161:  PointToIndexMatrix: \n"
       ]
      },
      {
       "output_type": "stream",
       "stream": "stderr",
       "text": [
        "INFO:interface:stdout 2014-12-31T15:29:47.616161:0.5 0 0\n"
       ]
      },
      {
       "output_type": "stream",
       "stream": "stderr",
       "text": [
        "INFO:interface:stdout 2014-12-31T15:29:47.616161:0 0.5 0\n"
       ]
      },
      {
       "output_type": "stream",
       "stream": "stderr",
       "text": [
        "INFO:interface:stdout 2014-12-31T15:29:47.616161:0 0 0.5\n"
       ]
      },
      {
       "output_type": "stream",
       "stream": "stderr",
       "text": [
        "INFO:interface:stdout 2014-12-31T15:29:47.616161:\n"
       ]
      },
      {
       "output_type": "stream",
       "stream": "stderr",
       "text": [
        "INFO:interface:stdout 2014-12-31T15:29:47.616161:  Inverse Direction: \n"
       ]
      },
      {
       "output_type": "stream",
       "stream": "stderr",
       "text": [
        "INFO:interface:stdout 2014-12-31T15:29:47.616161:1 0 0\n"
       ]
      },
      {
       "output_type": "stream",
       "stream": "stderr",
       "text": [
        "INFO:interface:stdout 2014-12-31T15:29:47.616161:0 1 0\n"
       ]
      },
      {
       "output_type": "stream",
       "stream": "stderr",
       "text": [
        "INFO:interface:stdout 2014-12-31T15:29:47.616161:0 0 1\n"
       ]
      },
      {
       "output_type": "stream",
       "stream": "stderr",
       "text": [
        "INFO:interface:stdout 2014-12-31T15:29:47.616161:\n"
       ]
      },
      {
       "output_type": "stream",
       "stream": "stderr",
       "text": [
        "INFO:interface:stdout 2014-12-31T15:29:47.616161:  PixelContainer: \n"
       ]
      },
      {
       "output_type": "stream",
       "stream": "stderr",
       "text": [
        "INFO:interface:stdout 2014-12-31T15:29:47.616161:    ImportImageContainer (0x7fbf3a723400)\n"
       ]
      },
      {
       "output_type": "stream",
       "stream": "stderr",
       "text": [
        "INFO:interface:stdout 2014-12-31T15:29:47.616161:      RTTI typeinfo:   itk::ImportImageContainer<unsigned long, float>\n"
       ]
      },
      {
       "output_type": "stream",
       "stream": "stderr",
       "text": [
        "INFO:interface:stdout 2014-12-31T15:29:47.616161:      Reference Count: 1\n"
       ]
      },
      {
       "output_type": "stream",
       "stream": "stderr",
       "text": [
        "INFO:interface:stdout 2014-12-31T15:29:47.616161:      Modified Time: 974\n"
       ]
      },
      {
       "output_type": "stream",
       "stream": "stderr",
       "text": [
        "INFO:interface:stdout 2014-12-31T15:29:47.616161:      Debug: Off\n"
       ]
      },
      {
       "output_type": "stream",
       "stream": "stderr",
       "text": [
        "INFO:interface:stdout 2014-12-31T15:29:47.616161:      Object Name: \n"
       ]
      },
      {
       "output_type": "stream",
       "stream": "stderr",
       "text": [
        "INFO:interface:stdout 2014-12-31T15:29:47.616161:      Observers: \n"
       ]
      },
      {
       "output_type": "stream",
       "stream": "stderr",
       "text": [
        "INFO:interface:stdout 2014-12-31T15:29:47.616161:        none\n"
       ]
      },
      {
       "output_type": "stream",
       "stream": "stderr",
       "text": [
        "INFO:interface:stdout 2014-12-31T15:29:47.616161:      Pointer: 0x10ef7c000\n"
       ]
      },
      {
       "output_type": "stream",
       "stream": "stderr",
       "text": [
        "INFO:interface:stdout 2014-12-31T15:29:47.616161:      Container manages memory: true\n"
       ]
      },
      {
       "output_type": "stream",
       "stream": "stderr",
       "text": [
        "INFO:interface:stdout 2014-12-31T15:29:47.616161:      Size: 798720\n"
       ]
      },
      {
       "output_type": "stream",
       "stream": "stderr",
       "text": [
        "INFO:interface:stdout 2014-12-31T15:29:47.616161:      Capacity: 798720\n"
       ]
      },
      {
       "output_type": "stream",
       "stream": "stderr",
       "text": [
        "INFO:interface:stdout 2014-12-31T15:29:47.616161:\n"
       ]
      },
      {
       "output_type": "stream",
       "stream": "stderr",
       "text": [
        "INFO:interface:stdout 2014-12-31T15:29:47.616161:     Weighting = 1\n"
       ]
      },
      {
       "output_type": "stream",
       "stream": "stderr",
       "text": [
        "INFO:interface:stdout 2014-12-31T15:29:47.616161:     Sampling strategy = none\n"
       ]
      },
      {
       "output_type": "stream",
       "stream": "stderr",
       "text": [
        "INFO:interface:stdout 2014-12-31T15:29:47.616161:     Number of bins = 32\n"
       ]
      },
      {
       "output_type": "stream",
       "stream": "stderr",
       "text": [
        "INFO:interface:stdout 2014-12-31T15:29:47.616161:     Radius = 4\n"
       ]
      },
      {
       "output_type": "stream",
       "stream": "stderr",
       "text": [
        "INFO:interface:stdout 2014-12-31T15:29:47.616161:     Sampling percentage  = 1\n"
       ]
      },
      {
       "output_type": "stream",
       "stream": "stderr",
       "text": [
        "INFO:interface:stdout 2014-12-31T15:29:47.616161:   Transform = SyN\n"
       ]
      },
      {
       "output_type": "stream",
       "stream": "stderr",
       "text": [
        "INFO:interface:stdout 2014-12-31T15:29:47.616161:     Gradient step = 0.25\n"
       ]
      },
      {
       "output_type": "stream",
       "stream": "stderr",
       "text": [
        "INFO:interface:stdout 2014-12-31T15:29:47.616161:     Update field sigma (voxel space) = 3\n"
       ]
      },
      {
       "output_type": "stream",
       "stream": "stderr",
       "text": [
        "INFO:interface:stdout 2014-12-31T15:29:47.616161:     Total field sigma (voxel space) = 0\n"
       ]
      },
      {
       "output_type": "stream",
       "stream": "stderr",
       "text": [
        "INFO:interface:stdout 2014-12-31T15:29:47.616161:     Update field time sigma = 0\n"
       ]
      },
      {
       "output_type": "stream",
       "stream": "stderr",
       "text": [
        "INFO:interface:stdout 2014-12-31T15:29:47.616161:     Total field time sigma  = 0\n"
       ]
      },
      {
       "output_type": "stream",
       "stream": "stderr",
       "text": [
        "INFO:interface:stdout 2014-12-31T15:29:47.616161:     Number of time indices = 0\n"
       ]
      },
      {
       "output_type": "stream",
       "stream": "stderr",
       "text": [
        "INFO:interface:stdout 2014-12-31T15:29:47.616161:     Number of time point samples = 0\n"
       ]
      },
      {
       "output_type": "stream",
       "stream": "stderr",
       "text": [
        "INFO:interface:stdout 2014-12-31T15:29:47.616161:Registration using 1 total stages.\n"
       ]
      },
      {
       "output_type": "stream",
       "stream": "stderr",
       "text": [
        "INFO:interface:stdout 2014-12-31T15:29:47.616161:\n"
       ]
      },
      {
       "output_type": "stream",
       "stream": "stderr",
       "text": [
        "INFO:interface:stdout 2014-12-31T15:29:47.616161:Stage 0\n"
       ]
      },
      {
       "output_type": "stream",
       "stream": "stderr",
       "text": [
        "INFO:interface:stdout 2014-12-31T15:29:47.616161:  iterations = 70x50x40\n"
       ]
      },
      {
       "output_type": "stream",
       "stream": "stderr",
       "text": [
        "INFO:interface:stdout 2014-12-31T15:29:47.616161:  convergence threshold = 1e-06\n"
       ]
      },
      {
       "output_type": "stream",
       "stream": "stderr",
       "text": [
        "INFO:interface:stdout 2014-12-31T15:29:47.616161:  convergence window size = 10\n"
       ]
      },
      {
       "output_type": "stream",
       "stream": "stderr",
       "text": [
        "INFO:interface:stdout 2014-12-31T15:29:47.616161:  number of levels = 3\n"
       ]
      },
      {
       "output_type": "stream",
       "stream": "stderr",
       "text": [
        "INFO:interface:stdout 2014-12-31T15:29:47.616161:  Shrink factors (level 1 out of 3): [3, 3, 3]\n"
       ]
      },
      {
       "output_type": "stream",
       "stream": "stderr",
       "text": [
        "INFO:interface:stdout 2014-12-31T15:29:47.616161:  Shrink factors (level 2 out of 3): [2, 2, 2]\n"
       ]
      },
      {
       "output_type": "stream",
       "stream": "stderr",
       "text": [
        "INFO:interface:stdout 2014-12-31T15:29:47.616161:  Shrink factors (level 3 out of 3): [1, 1, 1]\n"
       ]
      },
      {
       "output_type": "stream",
       "stream": "stderr",
       "text": [
        "INFO:interface:stdout 2014-12-31T15:29:47.616161:  smoothing sigmas per level: [2, 1, 0]\n"
       ]
      },
      {
       "output_type": "stream",
       "stream": "stderr",
       "text": [
        "INFO:interface:stdout 2014-12-31T15:29:47.616161:  using the Mattes MI metric (number of bins = 32, weight = 1)\n"
       ]
      },
      {
       "output_type": "stream",
       "stream": "stderr",
       "text": [
        "INFO:interface:stdout 2014-12-31T15:29:47.900712:  preprocessing:  histogram matching the images\n"
       ]
      },
      {
       "output_type": "stream",
       "stream": "stderr",
       "text": [
        "INFO:interface:stdout 2014-12-31T15:29:47.900712:  Using default NONE metricSamplingStrategy \n"
       ]
      },
      {
       "output_type": "stream",
       "stream": "stderr",
       "text": [
        "INFO:interface:stdout 2014-12-31T15:29:47.946185:\n"
       ]
      },
      {
       "output_type": "stream",
       "stream": "stderr",
       "text": [
        "INFO:interface:stdout 2014-12-31T15:29:47.946939:*** Running SyN registration (varianceForUpdateField = 3, varianceForTotalField = 0) ***\n"
       ]
      },
      {
       "output_type": "stream",
       "stream": "stderr",
       "text": [
        "INFO:interface:stdout 2014-12-31T15:29:47.946939:\n"
       ]
      },
      {
       "output_type": "stream",
       "stream": "stderr",
       "text": [
        "INFO:interface:stdout 2014-12-31T15:29:48.821025:XXDIAGNOSTIC,Iteration,metricValue,convergenceValue,ITERATION_TIME_INDEX,SINCE_LAST\n"
       ]
      },
      {
       "output_type": "stream",
       "stream": "stderr",
       "text": [
        "INFO:interface:stdout 2014-12-31T15:29:48.821025: 1DIAGNOSTIC,     1, -9.491555690765e-01, inf, 8.7481e-01, 8.7481e-01, \n"
       ]
      },
      {
       "output_type": "stream",
       "stream": "stderr",
       "text": [
        "INFO:interface:stdout 2014-12-31T15:29:49.053424: 1DIAGNOSTIC,     2, -1.077860593796e+00, inf, 1.1072e+00, 2.3235e-01, \n"
       ]
      },
      {
       "output_type": "stream",
       "stream": "stderr",
       "text": [
        "INFO:interface:stdout 2014-12-31T15:29:49.275824: 1DIAGNOSTIC,     3, -1.168785095215e+00, inf, 1.3295e+00, 2.2233e-01, \n"
       ]
      },
      {
       "output_type": "stream",
       "stream": "stderr",
       "text": [
        "INFO:interface:stdout 2014-12-31T15:29:49.502830: 1DIAGNOSTIC,     4, -1.217689514160e+00, inf, 1.5564e+00, 2.2695e-01, \n"
       ]
      },
      {
       "output_type": "stream",
       "stream": "stderr",
       "text": [
        "INFO:interface:stdout 2014-12-31T15:29:49.730413: 1DIAGNOSTIC,     5, -1.229548454285e+00, inf, 1.7840e+00, 2.2753e-01, \n"
       ]
      },
      {
       "output_type": "stream",
       "stream": "stderr",
       "text": [
        "INFO:interface:stdout 2014-12-31T15:29:49.956409: 1DIAGNOSTIC,     6, -1.255386829376e+00, inf, 2.0099e+00, 2.2594e-01, \n"
       ]
      },
      {
       "output_type": "stream",
       "stream": "stderr",
       "text": [
        "INFO:interface:stdout 2014-12-31T15:29:50.182972: 1DIAGNOSTIC,     7, -1.242653846741e+00, inf, 2.2364e+00, 2.2651e-01, \n"
       ]
      },
      {
       "output_type": "stream",
       "stream": "stderr",
       "text": [
        "INFO:interface:stdout 2014-12-31T15:29:50.414187: 1DIAGNOSTIC,     8, -1.273671269417e+00, inf, 2.4675e+00, 2.3112e-01, \n"
       ]
      },
      {
       "output_type": "stream",
       "stream": "stderr",
       "text": [
        "INFO:interface:stdout 2014-12-31T15:29:50.640837: 1DIAGNOSTIC,     9, -1.255198001862e+00, inf, 2.6940e+00, 2.2645e-01, \n"
       ]
      },
      {
       "output_type": "stream",
       "stream": "stderr",
       "text": [
        "INFO:interface:stdout 2014-12-31T15:29:50.869000: 1DIAGNOSTIC,    10, -1.289472699165e+00, 1.389805506915e-02, 2.9223e+00, 2.2829e-01, \n"
       ]
      },
      {
       "output_type": "stream",
       "stream": "stderr",
       "text": [
        "INFO:interface:stdout 2014-12-31T15:29:51.097459: 1DIAGNOSTIC,    11, -1.267409324646e+00, 7.301751989871e-03, 3.1507e+00, 2.2840e-01, \n"
       ]
      },
      {
       "output_type": "stream",
       "stream": "stderr",
       "text": [
        "INFO:interface:stdout 2014-12-31T15:29:51.324584: 1DIAGNOSTIC,    12, -1.298952817917e+00, 4.318979103118e-03, 3.3778e+00, 2.2708e-01, \n"
       ]
      },
      {
       "output_type": "stream",
       "stream": "stderr",
       "text": [
        "INFO:interface:stdout 2014-12-31T15:29:51.552677: 1DIAGNOSTIC,    13, -1.270988702774e+00, 2.540064509958e-03, 3.6058e+00, 2.2802e-01, \n"
       ]
      },
      {
       "output_type": "stream",
       "stream": "stderr",
       "text": [
        "INFO:interface:stdout 2014-12-31T15:29:51.780155: 1DIAGNOSTIC,    14, -1.298267126083e+00, 2.072296338156e-03, 3.8332e+00, 2.2742e-01, \n"
       ]
      },
      {
       "output_type": "stream",
       "stream": "stderr",
       "text": [
        "INFO:interface:stdout 2014-12-31T15:29:52.008217: 1DIAGNOSTIC,    15, -1.269005060196e+00, 1.193261588924e-03, 4.0612e+00, 2.2801e-01, \n"
       ]
      },
      {
       "output_type": "stream",
       "stream": "stderr",
       "text": [
        "INFO:interface:stdout 2014-12-31T15:29:52.235022: 1DIAGNOSTIC,    16, -1.296072721481e+00, 1.101511297747e-03, 4.2880e+00, 2.2675e-01, \n"
       ]
      },
      {
       "output_type": "stream",
       "stream": "stderr",
       "text": [
        "INFO:interface:stdout 2014-12-31T15:29:52.461627: 1DIAGNOSTIC,    17, -1.266285419464e+00, 3.224067622796e-04, 4.5145e+00, 2.2654e-01, \n"
       ]
      },
      {
       "output_type": "stream",
       "stream": "stderr",
       "text": [
        "INFO:interface:stdout 2014-12-31T15:29:52.682701: 1DIAGNOSTIC,    18, -1.293064475060e+00, 3.619073831942e-04, 4.7355e+00, 2.2095e-01, \n"
       ]
      },
      {
       "output_type": "stream",
       "stream": "stderr",
       "text": [
        "INFO:interface:stdout 2014-12-31T15:29:52.909330: 1DIAGNOSTIC,    19, -1.265018820763e+00, -2.190544182668e-04, 4.9621e+00, 2.2664e-01, \n"
       ]
      },
      {
       "output_type": "stream",
       "stream": "stderr",
       "text": [
        "INFO:interface:stdout 2014-12-31T15:29:54.126441:XXDIAGNOSTIC,Iteration,metricValue,convergenceValue,ITERATION_TIME_INDEX,SINCE_LAST\n"
       ]
      },
      {
       "output_type": "stream",
       "stream": "stderr",
       "text": [
        "INFO:interface:stdout 2014-12-31T15:29:54.126441: 1DIAGNOSTIC,     1, -9.618397355080e-01, inf, 6.1792e+00, 1.2171e+00, \n"
       ]
      },
      {
       "output_type": "stream",
       "stream": "stderr",
       "text": [
        "INFO:interface:stdout 2014-12-31T15:29:54.807104: 1DIAGNOSTIC,     2, -1.002311587334e+00, inf, 6.8598e+00, 6.8062e-01, \n"
       ]
      },
      {
       "output_type": "stream",
       "stream": "stderr",
       "text": [
        "INFO:interface:stdout 2014-12-31T15:29:55.488198: 1DIAGNOSTIC,     3, -1.017868280411e+00, inf, 7.5408e+00, 6.8099e-01, \n"
       ]
      },
      {
       "output_type": "stream",
       "stream": "stderr",
       "text": [
        "INFO:interface:stdout 2014-12-31T15:29:56.169399: 1DIAGNOSTIC,     4, -1.027585864067e+00, inf, 8.2220e+00, 6.8119e-01, \n"
       ]
      },
      {
       "output_type": "stream",
       "stream": "stderr",
       "text": [
        "INFO:interface:stdout 2014-12-31T15:29:56.832494: 1DIAGNOSTIC,     5, -1.036137580872e+00, inf, 8.8850e+00, 6.6304e-01, \n"
       ]
      },
      {
       "output_type": "stream",
       "stream": "stderr",
       "text": [
        "INFO:interface:stdout 2014-12-31T15:29:57.496381: 1DIAGNOSTIC,     6, -1.040032625198e+00, inf, 9.5488e+00, 6.6384e-01, \n"
       ]
      },
      {
       "output_type": "stream",
       "stream": "stderr",
       "text": [
        "INFO:interface:stdout 2014-12-31T15:29:58.159053: 1DIAGNOSTIC,     7, -1.046741962433e+00, inf, 1.0211e+01, 6.6261e-01, \n"
       ]
      },
      {
       "output_type": "stream",
       "stream": "stderr",
       "text": [
        "INFO:interface:stdout 2014-12-31T15:29:58.823298: 1DIAGNOSTIC,     8, -1.047164678574e+00, inf, 1.0876e+01, 6.6419e-01, \n"
       ]
      },
      {
       "output_type": "stream",
       "stream": "stderr",
       "text": [
        "INFO:interface:stdout 2014-12-31T15:29:59.489635: 1DIAGNOSTIC,     9, -1.053145051003e+00, inf, 1.1542e+01, 6.6628e-01, \n"
       ]
      },
      {
       "output_type": "stream",
       "stream": "stderr",
       "text": [
        "INFO:interface:stdout 2014-12-31T15:30:00.154035: 1DIAGNOSTIC,    10, -1.051629662514e+00, 4.542239475995e-03, 1.2206e+01, 6.6433e-01, \n"
       ]
      },
      {
       "output_type": "stream",
       "stream": "stderr",
       "text": [
        "INFO:interface:stdout 2014-12-31T15:30:00.840074: 1DIAGNOSTIC,    11, -1.058305978775e+00, 2.748821163550e-03, 1.2892e+01, 6.8598e-01, \n"
       ]
      },
      {
       "output_type": "stream",
       "stream": "stderr",
       "text": [
        "INFO:interface:stdout 2014-12-31T15:30:01.505603: 1DIAGNOSTIC,    12, -1.055531501770e+00, 1.870104693808e-03, 1.3558e+01, 6.6548e-01, \n"
       ]
      },
      {
       "output_type": "stream",
       "stream": "stderr",
       "text": [
        "INFO:interface:stdout 2014-12-31T15:30:02.186499: 1DIAGNOSTIC,    13, -1.062403202057e+00, 1.433124416508e-03, 1.4239e+01, 6.8083e-01, \n"
       ]
      },
      {
       "output_type": "stream",
       "stream": "stderr",
       "text": [
        "INFO:interface:stdout 2014-12-31T15:30:02.848559: 1DIAGNOSTIC,    14, -1.057709693909e+00, 1.022817450576e-03, 1.4901e+01, 6.6200e-01, \n"
       ]
      },
      {
       "output_type": "stream",
       "stream": "stderr",
       "text": [
        "INFO:interface:stdout 2014-12-31T15:30:03.530722: 1DIAGNOSTIC,    15, -1.065717220306e+00, 8.790074498393e-04, 1.5583e+01, 6.8210e-01, \n"
       ]
      },
      {
       "output_type": "stream",
       "stream": "stderr",
       "text": [
        "INFO:interface:stdout 2014-12-31T15:30:04.192946: 1DIAGNOSTIC,    16, -1.059725403786e+00, 6.314408965409e-04, 1.6245e+01, 6.6216e-01, \n"
       ]
      },
      {
       "output_type": "stream",
       "stream": "stderr",
       "text": [
        "INFO:interface:stdout 2014-12-31T15:30:04.872384: 1DIAGNOSTIC,    17, -1.068199157715e+00, 6.025047041476e-04, 1.6924e+01, 6.7937e-01, \n"
       ]
      },
      {
       "output_type": "stream",
       "stream": "stderr",
       "text": [
        "INFO:interface:stdout 2014-12-31T15:30:05.538840: 1DIAGNOSTIC,    18, -1.060293078423e+00, 4.028748662677e-04, 1.7591e+01, 6.6641e-01, \n"
       ]
      },
      {
       "output_type": "stream",
       "stream": "stderr",
       "text": [
        "INFO:interface:stdout 2014-12-31T15:30:06.203209: 1DIAGNOSTIC,    19, -1.069241166115e+00, 4.058301856276e-04, 1.8255e+01, 6.6431e-01, \n"
       ]
      },
      {
       "output_type": "stream",
       "stream": "stderr",
       "text": [
        "INFO:interface:stdout 2014-12-31T15:30:06.868870: 1DIAGNOSTIC,    20, -1.062032222748e+00, 2.466178266332e-04, 1.8920e+01, 6.6561e-01, \n"
       ]
      },
      {
       "output_type": "stream",
       "stream": "stderr",
       "text": [
        "INFO:interface:stdout 2014-12-31T15:30:07.530833: 1DIAGNOSTIC,    21, -1.070004224777e+00, 2.733140136115e-04, 1.9582e+01, 6.6191e-01, \n"
       ]
      },
      {
       "output_type": "stream",
       "stream": "stderr",
       "text": [
        "INFO:interface:stdout 2014-12-31T15:30:08.195232: 1DIAGNOSTIC,    22, -1.064150094986e+00, 1.609489117982e-04, 2.0247e+01, 6.6433e-01, \n"
       ]
      },
      {
       "output_type": "stream",
       "stream": "stderr",
       "text": [
        "INFO:interface:stdout 2014-12-31T15:30:08.859045: 1DIAGNOSTIC,    23, -1.071583509445e+00, 2.161928277928e-04, 2.0910e+01, 6.6376e-01, \n"
       ]
      },
      {
       "output_type": "stream",
       "stream": "stderr",
       "text": [
        "INFO:interface:stdout 2014-12-31T15:30:09.523706: 1DIAGNOSTIC,    24, -1.062894344330e+00, 9.084569319384e-05, 2.1575e+01, 6.6460e-01, \n"
       ]
      },
      {
       "output_type": "stream",
       "stream": "stderr",
       "text": [
        "INFO:interface:stdout 2014-12-31T15:30:10.205585: 1DIAGNOSTIC,    25, -1.072611331940e+00, 1.639308466110e-04, 2.2257e+01, 6.8176e-01, \n"
       ]
      },
      {
       "output_type": "stream",
       "stream": "stderr",
       "text": [
        "INFO:interface:stdout 2014-12-31T15:30:10.870581: 1DIAGNOSTIC,    26, -1.062118530273e+00, 3.877967537846e-05, 2.2922e+01, 6.6499e-01, \n"
       ]
      },
      {
       "output_type": "stream",
       "stream": "stderr",
       "text": [
        "INFO:interface:stdout 2014-12-31T15:30:11.569999: 1DIAGNOSTIC,    27, -1.072326302528e+00, 1.118301006500e-04, 2.3621e+01, 6.9937e-01, \n"
       ]
      },
      {
       "output_type": "stream",
       "stream": "stderr",
       "text": [
        "INFO:interface:stdout 2014-12-31T15:30:12.236008: 1DIAGNOSTIC,    28, -1.059176683426e+00, -3.942972762161e-05, 2.4287e+01, 6.6595e-01, \n"
       ]
      },
      {
       "output_type": "stream",
       "stream": "stderr",
       "text": [
        "INFO:interface:stdout 2014-12-31T15:30:18.299846:XXDIAGNOSTIC,Iteration,metricValue,convergenceValue,ITERATION_TIME_INDEX,SINCE_LAST\n"
       ]
      },
      {
       "output_type": "stream",
       "stream": "stderr",
       "text": [
        "INFO:interface:stdout 2014-12-31T15:30:18.300650: 1DIAGNOSTIC,     1, -6.726378798485e-01, inf, 3.0351e+01, 6.0638e+00, \n"
       ]
      },
      {
       "output_type": "stream",
       "stream": "stderr",
       "text": [
        "INFO:interface:stdout 2014-12-31T15:30:23.169426: 1DIAGNOSTIC,     2, -6.854556202888e-01, inf, 3.5220e+01, 4.8695e+00, \n"
       ]
      },
      {
       "output_type": "stream",
       "stream": "stderr",
       "text": [
        "INFO:interface:stdout 2014-12-31T15:30:28.063253: 1DIAGNOSTIC,     3, -6.964429020882e-01, inf, 4.0114e+01, 4.8938e+00, \n"
       ]
      },
      {
       "output_type": "stream",
       "stream": "stderr",
       "text": [
        "INFO:interface:stdout 2014-12-31T15:30:33.104442: 1DIAGNOSTIC,     4, -7.059193849564e-01, inf, 4.5155e+01, 5.0411e+00, \n"
       ]
      },
      {
       "output_type": "stream",
       "stream": "stderr",
       "text": [
        "INFO:interface:stdout 2014-12-31T15:30:38.133130: 1DIAGNOSTIC,     5, -7.140818834305e-01, inf, 5.0184e+01, 5.0286e+00, \n"
       ]
      },
      {
       "output_type": "stream",
       "stream": "stderr",
       "text": [
        "INFO:interface:stdout 2014-12-31T15:30:43.056320: 1DIAGNOSTIC,     6, -7.215970754623e-01, inf, 5.5107e+01, 4.9231e+00, \n"
       ]
      },
      {
       "output_type": "stream",
       "stream": "stderr",
       "text": [
        "INFO:interface:stdout 2014-12-31T15:30:48.113730: 1DIAGNOSTIC,     7, -7.280253171921e-01, inf, 6.0164e+01, 5.0573e+00, \n"
       ]
      },
      {
       "output_type": "stream",
       "stream": "stderr",
       "text": [
        "INFO:interface:stdout 2014-12-31T15:30:52.992655: 1DIAGNOSTIC,     8, -7.345920801163e-01, inf, 6.5043e+01, 4.8789e+00, \n"
       ]
      },
      {
       "output_type": "stream",
       "stream": "stderr",
       "text": [
        "INFO:interface:stdout 2014-12-31T15:30:57.900952: 1DIAGNOSTIC,     9, -7.402733564377e-01, inf, 6.9952e+01, 4.9082e+00, \n"
       ]
      },
      {
       "output_type": "stream",
       "stream": "stderr",
       "text": [
        "INFO:interface:stdout 2014-12-31T15:31:02.821289: 1DIAGNOSTIC,    10, -7.444921135902e-01, 6.290070712566e-03, 7.4872e+01, 4.9203e+00, \n"
       ]
      },
      {
       "output_type": "stream",
       "stream": "stderr",
       "text": [
        "INFO:interface:stdout 2014-12-31T15:31:07.738558: 1DIAGNOSTIC,    11, -7.482813000679e-01, 5.026313010603e-03, 7.9789e+01, 4.9172e+00, \n"
       ]
      },
      {
       "output_type": "stream",
       "stream": "stderr",
       "text": [
        "INFO:interface:stdout 2014-12-31T15:31:12.636969: 1DIAGNOSTIC,    12, -7.513586282730e-01, 4.047450143844e-03, 8.4687e+01, 4.8983e+00, \n"
       ]
      },
      {
       "output_type": "stream",
       "stream": "stderr",
       "text": [
        "INFO:interface:stdout 2014-12-31T15:31:17.525490: 1DIAGNOSTIC,    13, -7.540307641029e-01, 3.267795313150e-03, 8.9576e+01, 4.8885e+00, \n"
       ]
      },
      {
       "output_type": "stream",
       "stream": "stderr",
       "text": [
        "INFO:interface:stdout 2014-12-31T15:31:22.427787: 1DIAGNOSTIC,    14, -7.559865713120e-01, 2.623396459967e-03, 9.4478e+01, 4.9022e+00, \n"
       ]
      },
      {
       "output_type": "stream",
       "stream": "stderr",
       "text": [
        "INFO:interface:stdout 2014-12-31T15:31:27.332117: 1DIAGNOSTIC,    15, -7.574699521065e-01, 2.077628159896e-03, 9.9382e+01, 4.9043e+00, \n"
       ]
      },
      {
       "output_type": "stream",
       "stream": "stderr",
       "text": [
        "INFO:interface:stdout 2014-12-31T15:31:32.224604: 1DIAGNOSTIC,    16, -7.589529752731e-01, 1.629756530747e-03, 1.0427e+02, 4.8924e+00, \n"
       ]
      },
      {
       "output_type": "stream",
       "stream": "stderr",
       "text": [
        "INFO:interface:stdout 2014-12-31T15:31:37.123780: 1DIAGNOSTIC,    17, -7.602715492249e-01, 1.261202036403e-03, 1.0917e+02, 4.8991e+00, \n"
       ]
      },
      {
       "output_type": "stream",
       "stream": "stderr",
       "text": [
        "INFO:interface:stdout 2014-12-31T15:31:42.016146: 1DIAGNOSTIC,    18, -7.611171007156e-01, 9.761849651113e-04, 1.1407e+02, 4.8923e+00, \n"
       ]
      },
      {
       "output_type": "stream",
       "stream": "stderr",
       "text": [
        "INFO:interface:stdout 2014-12-31T15:31:46.882280: 1DIAGNOSTIC,    19, -7.620930671692e-01, 7.663875003345e-04, 1.1893e+02, 4.8661e+00, \n"
       ]
      },
      {
       "output_type": "stream",
       "stream": "stderr",
       "text": [
        "INFO:interface:stdout 2014-12-31T15:31:51.798808: 1DIAGNOSTIC,    20, -7.626754045486e-01, 5.987625918351e-04, 1.2385e+02, 4.9165e+00, \n"
       ]
      },
      {
       "output_type": "stream",
       "stream": "stderr",
       "text": [
        "INFO:interface:stdout 2014-12-31T15:31:56.682656: 1DIAGNOSTIC,    21, -7.631304264069e-01, 4.689774068538e-04, 1.2873e+02, 4.8838e+00, \n"
       ]
      },
      {
       "output_type": "stream",
       "stream": "stderr",
       "text": [
        "INFO:interface:stdout 2014-12-31T15:32:01.558133: 1DIAGNOSTIC,    22, -7.635112404823e-01, 3.673178725876e-04, 1.3361e+02, 4.8754e+00, \n"
       ]
      },
      {
       "output_type": "stream",
       "stream": "stderr",
       "text": [
        "INFO:interface:stdout 2014-12-31T15:32:06.441153: 1DIAGNOSTIC,    23, -7.639600038528e-01, 2.920891565736e-04, 1.3849e+02, 4.8830e+00, \n"
       ]
      },
      {
       "output_type": "stream",
       "stream": "stderr",
       "text": [
        "INFO:interface:stdout 2014-12-31T15:32:11.320328: 1DIAGNOSTIC,    24, -7.642563581467e-01, 2.316056488780e-04, 1.4337e+02, 4.8791e+00, \n"
       ]
      },
      {
       "output_type": "stream",
       "stream": "stderr",
       "text": [
        "INFO:interface:stdout 2014-12-31T15:32:16.253866: 1DIAGNOSTIC,    25, -7.646329402924e-01, 1.825398358051e-04, 1.4830e+02, 4.9335e+00, \n"
       ]
      },
      {
       "output_type": "stream",
       "stream": "stderr",
       "text": [
        "INFO:interface:stdout 2014-12-31T15:32:21.138801: 1DIAGNOSTIC,    26, -7.647031545639e-01, 1.427643583156e-04, 1.5319e+02, 4.8849e+00, \n"
       ]
      },
      {
       "output_type": "stream",
       "stream": "stderr",
       "text": [
        "INFO:interface:stdout 2014-12-31T15:32:26.037037: 1DIAGNOSTIC,    27, -7.651693224907e-01, 1.178033562610e-04, 1.5809e+02, 4.8982e+00, \n"
       ]
      },
      {
       "output_type": "stream",
       "stream": "stderr",
       "text": [
        "INFO:interface:stdout 2014-12-31T15:32:30.936477: 1DIAGNOSTIC,    28, -7.652336359024e-01, 9.559452882968e-05, 1.6299e+02, 4.8993e+00, \n"
       ]
      },
      {
       "output_type": "stream",
       "stream": "stderr",
       "text": [
        "INFO:interface:stdout 2014-12-31T15:32:35.819008: 1DIAGNOSTIC,    29, -7.654766440392e-01, 8.188754873117e-05, 1.6787e+02, 4.8825e+00, \n"
       ]
      },
      {
       "output_type": "stream",
       "stream": "stderr",
       "text": [
        "INFO:interface:stdout 2014-12-31T15:32:40.758760: 1DIAGNOSTIC,    30, -7.655799984932e-01, 7.001627818681e-05, 1.7281e+02, 4.9397e+00, \n"
       ]
      },
      {
       "output_type": "stream",
       "stream": "stderr",
       "text": [
        "INFO:interface:stdout 2014-12-31T15:32:45.658573: 1DIAGNOSTIC,    31, -7.658946514130e-01, 6.172993744258e-05, 1.7771e+02, 4.8998e+00, \n"
       ]
      },
      {
       "output_type": "stream",
       "stream": "stderr",
       "text": [
        "INFO:interface:stdout 2014-12-31T15:32:50.559390: 1DIAGNOSTIC,    32, -7.658174037933e-01, 5.157105988474e-05, 1.8261e+02, 4.9008e+00, \n"
       ]
      },
      {
       "output_type": "stream",
       "stream": "stderr",
       "text": [
        "INFO:interface:stdout 2014-12-31T15:32:55.481179: 1DIAGNOSTIC,    33, -7.662502527237e-01, 4.734042886412e-05, 1.8753e+02, 4.9217e+00, \n"
       ]
      },
      {
       "output_type": "stream",
       "stream": "stderr",
       "text": [
        "INFO:interface:stdout 2014-12-31T15:33:00.370739: 1DIAGNOSTIC,    34, -7.660925984383e-01, 4.026485476061e-05, 1.9242e+02, 4.8895e+00, \n"
       ]
      },
      {
       "output_type": "stream",
       "stream": "stderr",
       "text": [
        "INFO:interface:stdout 2014-12-31T15:33:05.256535: 1DIAGNOSTIC,    35, -7.664171457291e-01, 3.749938332476e-05, 1.9731e+02, 4.8857e+00, \n"
       ]
      },
      {
       "output_type": "stream",
       "stream": "stderr",
       "text": [
        "INFO:interface:stdout 2014-12-31T15:33:10.138002: 1DIAGNOSTIC,    36, -7.660727500916e-01, 2.825625233527e-05, 2.0219e+02, 4.8814e+00, \n"
       ]
      },
      {
       "output_type": "stream",
       "stream": "stderr",
       "text": [
        "INFO:interface:stdout 2014-12-31T15:33:15.019969: 1DIAGNOSTIC,    37, -7.661814689636e-01, 2.286804192408e-05, 2.0707e+02, 4.8819e+00, \n"
       ]
      },
      {
       "output_type": "stream",
       "stream": "stderr",
       "text": [
        "INFO:interface:stdout 2014-12-31T15:33:19.907915: 1DIAGNOSTIC,    38, -7.662003636360e-01, 1.634350701352e-05, 2.1196e+02, 4.8879e+00, \n"
       ]
      },
      {
       "output_type": "stream",
       "stream": "stderr",
       "text": [
        "INFO:interface:stdout 2014-12-31T15:33:24.810934: 1DIAGNOSTIC,    39, -7.662664651871e-01, 1.156345206255e-05, 2.1686e+02, 4.9030e+00, \n"
       ]
      },
      {
       "output_type": "stream",
       "stream": "stderr",
       "text": [
        "INFO:interface:stdout 2014-12-31T15:33:29.748522: 1DIAGNOSTIC,    40, -7.660073041916e-01, 4.399534191180e-06, 2.2180e+02, 4.9375e+00, \n"
       ]
      },
      {
       "output_type": "stream",
       "stream": "stderr",
       "text": [
        "INFO:interface:stdout 2014-12-31T15:33:29.965013:  Elapsed time (stage 0): 2.2235e+02\n"
       ]
      },
      {
       "output_type": "stream",
       "stream": "stderr",
       "text": [
        "INFO:interface:stdout 2014-12-31T15:33:29.965013:\n"
       ]
      },
      {
       "output_type": "stream",
       "stream": "stderr",
       "text": [
        "INFO:interface:stdout 2014-12-31T15:33:29.992809:\n"
       ]
      },
      {
       "output_type": "stream",
       "stream": "stderr",
       "text": [
        "INFO:interface:stdout 2014-12-31T15:33:29.993315:Total elapsed time: 2.2238e+02\n"
       ]
      },
      {
       "metadata": {},
       "output_type": "pyout",
       "prompt_number": 24,
       "text": [
        "<networkx.classes.digraph.DiGraph at 0x1075bcd10>"
       ]
      }
     ],
     "prompt_number": 24
    },
    {
     "cell_type": "code",
     "collapsed": false,
     "input": [],
     "language": "python",
     "metadata": {},
     "outputs": []
    },
    {
     "cell_type": "code",
     "collapsed": false,
     "input": [],
     "language": "python",
     "metadata": {},
     "outputs": []
    }
   ],
   "metadata": {}
  }
 ]
}