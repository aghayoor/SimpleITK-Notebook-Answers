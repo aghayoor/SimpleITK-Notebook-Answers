{
 "metadata": {
  "name": "",
  "signature": "sha256:f01e23cadedd53cd21d72d527cab31615c0b8d00f793f283dd0501ca3e1c0bff"
 },
 "nbformat": 3,
 "nbformat_minor": 0,
 "worksheets": [
  {
   "cells": [
    {
     "cell_type": "markdown",
     "metadata": {},
     "source": [
      "Purpose\n",
      "=======\n",
      "\n",
      "The purpose of this pipeline is to complete all the pre-processing steps needed to turn diffusion-weighted images into FA images that will be used to build a template diffusion tensor atlas for fiber tracking.\n",
      "\n",
      "Inputs\n",
      "======\n",
      "The input to this pipeline is a list of subject IDs that is used to generate lists of the corresponding DWIs processed with automated quality control, T2s, and brain label images that are treated as brain masks.\n",
      " \n",
      "Pipeline Steps for CreateDWIWorkflow\n",
      "====================================\n",
      "{Fill this part later}"
     ]
    },
    {
     "cell_type": "code",
     "collapsed": false,
     "input": [
      "## Boiler plate code common to many notebooks.  See the TestFilesCommonCode.ipynb for details\n",
      "#from __future__ import print_function\n",
      "#%run TestFilesCommonCode.ipynb"
     ],
     "language": "python",
     "metadata": {},
     "outputs": [],
     "prompt_number": 1
    },
    {
     "cell_type": "code",
     "collapsed": false,
     "input": [
      "import os\n",
      "import glob\n",
      "import sys\n",
      "\n",
      "#\\/\\/\\/\\/\\/\\/\\/\\/\\/\\/\\/\\/\\/\\/\\/\\/\\/\\/\\/\\/\\/\\/\\/\\/\\/\\/\\/\\/\\/\\/\\/\\/\\/\\/\\/\\/\\/\\/\\/\\/\\/\\/\\/\n",
      "#####################################################################################\n",
      "#     Prepend the shell environment search paths\n",
      "PROGRAM_PATHS = '/scratch/NAMICExternalProjects/release/bin'\n",
      "PROGRAM_PATHS = PROGRAM_PATHS.split(':')\n",
      "PROGRAM_PATHS.extend(os.environ['PATH'].split(':'))\n",
      "os.environ['PATH'] = ':'.join(PROGRAM_PATHS)\n",
      "\n",
      "CUSTOM_ENVIRONMENT=dict()\n",
      "\n",
      "# Platform specific information\n",
      "#     Prepend the python search paths\n",
      "PYTHON_AUX_PATHS = '/scratch/NAMICExternalProjects/release/BRAINSTools/AutoWorkup'\n",
      "PYTHON_AUX_PATHS = PYTHON_AUX_PATHS.split(':')\n",
      "PYTHON_AUX_PATHS.extend(sys.path)\n",
      "sys.path = PYTHON_AUX_PATHS\n",
      "\n",
      "import SimpleITK as sitk\n",
      "import nipype\n",
      "from nipype.interfaces import ants\n",
      "from nipype.interfaces.base import CommandLine, CommandLineInputSpec, TraitedSpec, File, Directory\n",
      "from nipype.interfaces.base import traits, isdefined, BaseInterface\n",
      "from nipype.interfaces.utility import Merge, Split, Function, Rename, IdentityInterface\n",
      "import nipype.interfaces.io as nio   # Data i/oS\n",
      "import nipype.pipeline.engine as pe  # pypeline engine\n",
      "from nipype.interfaces.freesurfer import ReconAll\n",
      "from SEMTools import *"
     ],
     "language": "python",
     "metadata": {},
     "outputs": [],
     "prompt_number": 3
    },
    {
     "cell_type": "code",
     "collapsed": false,
     "input": [
      "WFname=\"DWIPrototype_only1Subject\"\n",
      "DWIWorkflow = pe.Workflow(name=WFname)\n",
      "BASE_DIR = os.path.join('/scratch/TESTS/IpythonNotebook', '1_DWI_Nipype_workflow')\n",
      "DWIWorkflow.base_dir = BASE_DIR\n",
      "\n",
      "inputsSpec = pe.Node(interface=IdentityInterface(fields=['T2Volume', 'DWIVolume','LabelMapVolume']), \n",
      "                                                  name='inputspec')\n",
      "\n",
      "inputsSpec.inputs.DWIVolume = '/Shared/johnsonhj/TrackOn/Experiments/20140203_DWIProcessing/VISUALLY_INSPECTED/HDNI_001/249903245/249903245_20110719_30/249903245_249903245_20110719_30_DWI_CONCAT_QCed_INSPECTED.nrrd'\n",
      "inputsSpec.inputs.T2Volume = '/Shared/sinapse/CACHE/20141124_TrackOn_base_Results/HDNI_001/249903245/249903245_20110719_30/TissueClassify/t2_average_BRAINSABC.nii.gz'\n",
      "inputsSpec.inputs.LabelMapVolume = '/Shared/sinapse/CACHE/20141124_TrackOn_base_Results/HDNI_001/249903245/249903245_20110719_30/TissueClassify/complete_brainlabels_seg.nii.gz'\n",
      "\n",
      "# Step0: remove the skull from the T2 volume\n",
      "def ExtractBRAINFromHead(RawScan, BrainLabels):\n",
      "    import os\n",
      "    import SimpleITK as sitk\n",
      "    # Remove skull from the head scan\n",
      "    assert os.path.exists(RawScan), \"File not found: %s\" % RawScan\n",
      "    assert os.path.exists(BrainLabels), \"File not found: %s\" % BrainLabels\n",
      "    headImage = sitk.ReadImage(RawScan)\n",
      "    labelsMap = sitk.ReadImage(BrainLabels)\n",
      "    label_mask = labelsMap>0\n",
      "    brainImage = sitk.Cast(headImage,sitk.sitkInt16) * sitk.Cast(label_mask,sitk.sitkInt16)\n",
      "    outputVolume = os.path.realpath('T2Stripped.nrrd')\n",
      "    sitk.WriteImage(brainImage, outputVolume)\n",
      "    return outputVolume\n",
      "\n",
      "ExtractBRAINFromHeadNode = pe.Node(interface=Function(function = ExtractBRAINFromHead, \n",
      "                                                      input_names=['RawScan','BrainLabels'],\n",
      "                                                      output_names=['outputVolume']), \n",
      "                                   name=\"ExtractBRAINFromHead\")\n",
      "\n",
      "DWIWorkflow.connect(inputsSpec, 'T2Volume', ExtractBRAINFromHeadNode, 'RawScan')\n",
      "DWIWorkflow.connect(inputsSpec, 'LabelMapVolume', ExtractBRAINFromHeadNode, 'BrainLabels')\n",
      "\n",
      "# Step1: extract B0 from DWI volume\n",
      "EXTRACT_B0 = pe.Node(interface=extractNrrdVectorIndex(),name=\"EXTRACT_B0\")\n",
      "EXTRACT_B0.inputs.vectorIndex = 0\n",
      "EXTRACT_B0.inputs.outputVolume = 'B0_Image.nrrd'\n",
      "DWIWorkflow.connect(inputsSpec,'DWIVolume',EXTRACT_B0,'inputVolume')\n",
      "\n",
      "# Step2: Register T2 to B0 space using BRAINSFit\n",
      "BFit_T2toB0 = pe.Node(interface=BRAINSFit(), name=\"BFit_T2toB0\")\n",
      "BFit_T2toB0.inputs.costMetric = \"MMI\"\n",
      "BFit_T2toB0.inputs.numberOfSamples = 100000\n",
      "BFit_T2toB0.inputs.numberOfIterations = [1500]\n",
      "BFit_T2toB0.inputs.numberOfHistogramBins = 50\n",
      "BFit_T2toB0.inputs.maximumStepLength = 0.2\n",
      "BFit_T2toB0.inputs.minimumStepLength = [0.00005]\n",
      "BFit_T2toB0.inputs.useRigid = True\n",
      "BFit_T2toB0.inputs.useAffine = True\n",
      "BFit_T2toB0.inputs.maskInferiorCutOffFromCenter = 65\n",
      "BFit_T2toB0.inputs.maskProcessingMode = \"ROIAUTO\"\n",
      "BFit_T2toB0.inputs.ROIAutoDilateSize = 13\n",
      "BFit_T2toB0.inputs.backgroundFillValue = 0.0\n",
      "BFit_T2toB0.inputs.initializeTransformMode = 'useCenterOfHeadAlign'\n",
      "\n",
      "BFit_T2toB0.inputs.strippedOutputTransform = \"T2ToB0_RigidTransform.h5\"\n",
      "#BFit_T2toB0.inputs.outputVolume = \"T2_in_B0Space_Output.nii.gz\"\n",
      "\n",
      "DWIWorkflow.connect(EXTRACT_B0, 'outputVolume', BFit_T2toB0, 'fixedVolume')\n",
      "DWIWorkflow.connect(ExtractBRAINFromHeadNode, 'outputVolume', BFit_T2toB0, 'movingVolume')\n",
      "\n",
      "# Step3: Use T_rigid to \"resampleInPlace\" T2 and label map images to B0 image space\n",
      "#------------\n",
      "def MakeResamplerInFileList(inputT2, inputLabelMap):\n",
      "    imagesList = [inputT2, inputLabelMap]\n",
      "    return imagesList\n",
      "    \n",
      "MakeResamplerInFilesListNode = pe.Node(Function(function=MakeResamplerInFileList,\n",
      "                                               input_names=['inputT2','inputLabelMap'],\n",
      "                                               output_names=['imagesList']),\n",
      "                                      name=\"MakeResamplerInFilesListNode\")\n",
      "\n",
      "DWIWorkflow.connect([(ExtractBRAINFromHeadNode,MakeResamplerInFilesListNode,[('outputVolume','inputT2')]),\n",
      "                     (inputsSpec,MakeResamplerInFilesListNode,[('LabelMapVolume','inputLabelMap')])])\n",
      "\n",
      "ResampleToB0Space = pe.MapNode(interface=BRAINSResample(), name=\"ResampleInPlaceToB0Space\",\n",
      "                               iterfield=['inputVolume','outputVolume'])\n",
      "ResampleToB0Space.inputs.interpolationMode = 'ResampleInPlace'\n",
      "ResampleToB0Space.inputs.outputVolume = ['T2toB0_RIP.nrrd','labelMapToB0_RIP.nrrd']\n",
      "ResampleToB0Space.inputs.pixelType = 'ushort'\n",
      "DWIWorkflow.connect(BFit_T2toB0,'strippedOutputTransform',ResampleToB0Space,'warpTransform')\n",
      "DWIWorkflow.connect(EXTRACT_B0,'outputVolume',ResampleToB0Space,'referenceVolume')\n",
      "DWIWorkflow.connect(MakeResamplerInFilesListNode,'imagesList',ResampleToB0Space,'inputVolume')\n",
      "\n",
      "# This function helps to pick desirable output from the outputVolume list\n",
      "def pickFromList(inlist,item):\n",
      "    return inlist[item]\n",
      "\n",
      "# Step4: Create registration mask from resampled label map image\n",
      "def CreateAntsRegistrationMask(brainLabels):\n",
      "    import os\n",
      "    import SimpleITK as sitk\n",
      "    assert os.path.exists(brainLabels), \"File not found: %s\" % brainLabels\n",
      "    labelsMap = sitk.ReadImage(brainLabels)\n",
      "    label_mask = labelsMap>0\n",
      "    # erode the label mask\n",
      "    erodeFilter = sitk.BinaryErodeImageFilter()\n",
      "    erodeFilter.SetKernelRadius(8)\n",
      "    eroded_mask = erodeFilter.Execute( label_mask )\n",
      "    # dilate the label mask\n",
      "    dilateFilter = sitk.BinaryDilateImageFilter()\n",
      "    dilateFilter.SetKernelRadius(8)\n",
      "    dilated_mask = dilateFilter.Execute( label_mask )\n",
      "    regMask = eroded_mask - dilated_mask\n",
      "    registrationMask = os.path.realpath('registrationMask.nrrd')\n",
      "    sitk.WriteImage(regMask, registrationMask)\n",
      "    return registrationMask\n",
      "    \n",
      "CreateRegistrationMask = pe.Node(interface=Function(function = CreateAntsRegistrationMask, \n",
      "                                                    input_names=['brainLabels'],\n",
      "                                                    output_names=['registrationMask']),\n",
      "                                 name=\"CreateAntsRegistrationMask\")\n",
      "\n",
      "DWIWorkflow.connect(ResampleToB0Space, ('outputVolume', pickFromList, 1), \n",
      "                    CreateRegistrationMask, 'brainLabels')\n",
      "\n",
      "# Step5: Save direction cosine for the resampled T2 image\n",
      "def Save_T2RIP_DC(inputVolume):\n",
      "    import os\n",
      "    import SimpleITK as sitk\n",
      "    assert os.path.exists(inputVolume), \"File not found: %s\" % inputVolume\n",
      "    t2 = sitk.ReadImage(inputVolume)\n",
      "    dc = t2.GetDirection()\n",
      "    return dc\n",
      "\n",
      "SaveT2RIPDC = pe.Node(interface=Function(function = Save_T2RIP_DC, \n",
      "                                         input_names=['inputVolume'],\n",
      "                                         output_names=['directionCosine']),\n",
      "                      name=\"Save_T2RIP_DC\")\n",
      "\n",
      "DWIWorkflow.connect(ResampleToB0Space, ('outputVolume', pickFromList, 0), \n",
      "                    SaveT2RIPDC, 'inputVolume')\n",
      "\n",
      "# Step6: Force DC to ID\n",
      "def MakeForceDCFilesList(inputB0, inputT2, inputLabelMap):\n",
      "    import os\n",
      "    assert os.path.exists(inputB0), \"File not found: %s\" % inputB0\n",
      "    assert os.path.exists(inputT2), \"File not found: %s\" % inputT2\n",
      "    assert os.path.exists(inputLabelMap), \"File not found: %s\" % inputLabelMap\n",
      "    imagesList = [inputB0, inputT2, inputLabelMap]\n",
      "    return imagesList\n",
      "    \n",
      "MakeForceDCFilesListNode = pe.Node(Function(function=MakeForceDCFilesList,\n",
      "                                             input_names=['inputB0','inputT2','inputLabelMap'],\n",
      "                                             output_names=['imagesList']),\n",
      "                                    name=\"MakeForceDCFilesListNode\")\n",
      "\n",
      "\n",
      "DWIWorkflow.connect([(EXTRACT_B0,MakeForceDCFilesListNode,[('outputVolume','inputB0')]),\n",
      "                     (ResampleToB0Space,MakeForceDCFilesListNode,[(('outputVolume', pickFromList, 0),'inputT2')]),\n",
      "                     (CreateRegistrationMask,MakeForceDCFilesListNode,[('registrationMask','inputLabelMap')])])\n",
      "\n",
      "def ForceDCtoID(inputVolume):\n",
      "    import os\n",
      "    import SimpleITK as sitk\n",
      "    inImage = sitk.ReadImage(inputVolume)\n",
      "    inImage.SetDirection((1.0, 0.0, 0.0, 0.0, 1.0, 0.0, 0.0, 0.0, 1.0))\n",
      "    outputVolume = os.path.realpath('IDDC_'+ os.path.basename(inputVolume))\n",
      "    sitk.WriteImage(inImage, outputVolume)\n",
      "    return outputVolume\n",
      "\n",
      "ForceDCtoIDNode = pe.MapNode(interface=Function(function = ForceDCtoID, \n",
      "                                                input_names=['inputVolume'],\n",
      "                                                output_names=['outputVolume']), \n",
      "                             name=\"ForceDCtoID\",\n",
      "                             iterfield=['inputVolume'])\n",
      "\n",
      "DWIWorkflow.connect(MakeForceDCFilesListNode, 'imagesList', ForceDCtoIDNode, 'inputVolume')\n",
      "\n",
      "# Step7: Run antsRegistration in one direction\n",
      "antsReg_B0ToTransformedT2 = pe.Node(interface=ants.Registration(), name=\"antsReg_B0ToTransformedT2\")\n",
      "antsReg_B0ToTransformedT2.inputs.dimension = 3\n",
      "antsReg_B0ToTransformedT2.inputs.transforms = [\"SyN\"]\n",
      "antsReg_B0ToTransformedT2.inputs.transform_parameters = [(0.25, 3.0, 0.0)]\n",
      "antsReg_B0ToTransformedT2.inputs.metric = ['MI']\n",
      "antsReg_B0ToTransformedT2.inputs.sampling_strategy = [None]\n",
      "antsReg_B0ToTransformedT2.inputs.sampling_percentage = [1.0]\n",
      "antsReg_B0ToTransformedT2.inputs.metric_weight = [1.0]\n",
      "antsReg_B0ToTransformedT2.inputs.radius_or_number_of_bins = [32]\n",
      "antsReg_B0ToTransformedT2.inputs.number_of_iterations = [[70, 50, 40]]\n",
      "antsReg_B0ToTransformedT2.inputs.convergence_threshold = [1e-6]\n",
      "antsReg_B0ToTransformedT2.inputs.convergence_window_size = [10]\n",
      "antsReg_B0ToTransformedT2.inputs.use_histogram_matching = [True]\n",
      "antsReg_B0ToTransformedT2.inputs.shrink_factors = [[3, 2, 1]]\n",
      "antsReg_B0ToTransformedT2.inputs.smoothing_sigmas = [[2, 1, 0]]\n",
      "antsReg_B0ToTransformedT2.inputs.sigma_units = [\"vox\"]\n",
      "antsReg_B0ToTransformedT2.inputs.use_estimate_learning_rate_once = [False]\n",
      "antsReg_B0ToTransformedT2.inputs.write_composite_transform = False\n",
      "antsReg_B0ToTransformedT2.inputs.collapse_output_transforms = False\n",
      "antsReg_B0ToTransformedT2.inputs.initialize_transforms_per_stage = False\n",
      "antsReg_B0ToTransformedT2.inputs.output_transform_prefix = 'Tsyn'\n",
      "antsReg_B0ToTransformedT2.inputs.winsorize_lower_quantile = 0.01\n",
      "antsReg_B0ToTransformedT2.inputs.winsorize_upper_quantile = 0.99\n",
      "antsReg_B0ToTransformedT2.inputs.args = '--float 1 --restrict-deformation 0x1x0'\n",
      "\n",
      "DWIWorkflow.connect(ForceDCtoIDNode, ('outputVolume', pickFromList, 1), antsReg_B0ToTransformedT2, 'fixed_image')\n",
      "DWIWorkflow.connect(ForceDCtoIDNode, ('outputVolume', pickFromList, 2), antsReg_B0ToTransformedT2, 'fixed_image_mask')\n",
      "DWIWorkflow.connect(ForceDCtoIDNode, ('outputVolume', pickFromList, 0), antsReg_B0ToTransformedT2, 'moving_image')\n",
      "\n",
      "DWIWorkflow.write_graph()\n",
      "DWIWorkflow.run()"
     ],
     "language": "python",
     "metadata": {},
     "outputs": [
      {
       "output_type": "stream",
       "stream": "stderr",
       "text": [
        "INFO:workflow:Converting dotfile: /scratch/TESTS/IpythonNotebook/1_DWI_Nipype_workflow/DWIPrototype_only1Subject/graph.dot to png format\n"
       ]
      },
      {
       "output_type": "stream",
       "stream": "stderr",
       "text": [
        "INFO:workflow:['check', 'execution', 'logging']\n"
       ]
      },
      {
       "output_type": "stream",
       "stream": "stderr",
       "text": [
        "INFO:workflow:Running serially.\n"
       ]
      },
      {
       "output_type": "stream",
       "stream": "stderr",
       "text": [
        "INFO:workflow:Executing node ExtractBRAINFromHead in dir: /scratch/TESTS/IpythonNotebook/1_DWI_Nipype_workflow/DWIPrototype_only1Subject/ExtractBRAINFromHead\n"
       ]
      },
      {
       "output_type": "stream",
       "stream": "stderr",
       "text": [
        "INFO:workflow:Collecting precomputed outputs\n"
       ]
      },
      {
       "output_type": "stream",
       "stream": "stderr",
       "text": [
        "INFO:workflow:Executing node EXTRACT_B0 in dir: /scratch/TESTS/IpythonNotebook/1_DWI_Nipype_workflow/DWIPrototype_only1Subject/EXTRACT_B0\n"
       ]
      },
      {
       "output_type": "stream",
       "stream": "stderr",
       "text": [
        "INFO:workflow:Collecting precomputed outputs\n"
       ]
      },
      {
       "output_type": "stream",
       "stream": "stderr",
       "text": [
        "INFO:workflow:Executing node MakeResamplerInFilesListNode in dir: /scratch/TESTS/IpythonNotebook/1_DWI_Nipype_workflow/DWIPrototype_only1Subject/MakeResamplerInFilesListNode\n"
       ]
      },
      {
       "output_type": "stream",
       "stream": "stderr",
       "text": [
        "INFO:workflow:Collecting precomputed outputs\n"
       ]
      },
      {
       "output_type": "stream",
       "stream": "stderr",
       "text": [
        "INFO:workflow:Executing node BFit_T2toB0 in dir: /scratch/TESTS/IpythonNotebook/1_DWI_Nipype_workflow/DWIPrototype_only1Subject/BFit_T2toB0\n"
       ]
      },
      {
       "output_type": "stream",
       "stream": "stderr",
       "text": [
        "INFO:workflow:Collecting precomputed outputs\n"
       ]
      },
      {
       "output_type": "stream",
       "stream": "stderr",
       "text": [
        "INFO:workflow:Executing node ResampleInPlaceToB0Space in dir: /scratch/TESTS/IpythonNotebook/1_DWI_Nipype_workflow/DWIPrototype_only1Subject/ResampleInPlaceToB0Space\n"
       ]
      },
      {
       "output_type": "stream",
       "stream": "stderr",
       "text": [
        "INFO:workflow:Executing node _ResampleInPlaceToB0Space0 in dir: /scratch/TESTS/IpythonNotebook/1_DWI_Nipype_workflow/DWIPrototype_only1Subject/ResampleInPlaceToB0Space/mapflow/_ResampleInPlaceToB0Space0\n"
       ]
      },
      {
       "output_type": "stream",
       "stream": "stderr",
       "text": [
        "INFO:workflow:Running:  BRAINSResample  --inputVolume /Volumes/scratch/TESTS/IpythonNotebook/1_DWI_Nipype_workflow/DWIPrototype_only1Subject/ExtractBRAINFromHead/T2Stripped.nrrd --interpolationMode ResampleInPlace --outputVolume T2toB0_RIP.nrrd --pixelType ushort --referenceVolume /Volumes/scratch/TESTS/IpythonNotebook/1_DWI_Nipype_workflow/DWIPrototype_only1Subject/EXTRACT_B0/B0_Image.nrrd --warpTransform /Volumes/scratch/TESTS/IpythonNotebook/1_DWI_Nipype_workflow/DWIPrototype_only1Subject/BFit_T2toB0/T2ToB0_RigidTransform.h5\n"
       ]
      },
      {
       "output_type": "stream",
       "stream": "stderr",
       "text": [
        "INFO:interface:stdout 2014-12-31T12:29:56.353187:=====================================================\n"
       ]
      },
      {
       "output_type": "stream",
       "stream": "stderr",
       "text": [
        "INFO:interface:stdout 2014-12-31T12:29:56.353187:Input Volume:     /Volumes/scratch/TESTS/IpythonNotebook/1_DWI_Nipype_workflow/DWIPrototype_only1Subject/ExtractBRAINFromHead/T2Stripped.nrrd\n"
       ]
      },
      {
       "output_type": "stream",
       "stream": "stderr",
       "text": [
        "INFO:interface:stdout 2014-12-31T12:29:56.353187:Reference Volume: /Volumes/scratch/TESTS/IpythonNotebook/1_DWI_Nipype_workflow/DWIPrototype_only1Subject/EXTRACT_B0/B0_Image.nrrd\n"
       ]
      },
      {
       "output_type": "stream",
       "stream": "stderr",
       "text": [
        "INFO:interface:stdout 2014-12-31T12:29:56.353187:Output Volume:    T2toB0_RIP.nrrd\n"
       ]
      },
      {
       "output_type": "stream",
       "stream": "stderr",
       "text": [
        "INFO:interface:stdout 2014-12-31T12:29:56.353187:Pixel Type:       ushort\n"
       ]
      },
      {
       "output_type": "stream",
       "stream": "stderr",
       "text": [
        "INFO:interface:stdout 2014-12-31T12:29:56.353187:Interpolation:    ResampleInPlace\n"
       ]
      },
      {
       "output_type": "stream",
       "stream": "stderr",
       "text": [
        "INFO:interface:stdout 2014-12-31T12:29:56.353187:Background Value: 0\n"
       ]
      },
      {
       "output_type": "stream",
       "stream": "stderr",
       "text": [
        "INFO:interface:stdout 2014-12-31T12:29:56.356943:Warp By Transform: /Volumes/scratch/TESTS/IpythonNotebook/1_DWI_Nipype_workflow/DWIPrototype_only1Subject/BFit_T2toB0/T2ToB0_RigidTransform.h5\n"
       ]
      },
      {
       "output_type": "stream",
       "stream": "stderr",
       "text": [
        "INFO:interface:stdout 2014-12-31T12:29:56.356943:=====================================================\n"
       ]
      },
      {
       "output_type": "stream",
       "stream": "stderr",
       "text": [
        "INFO:interface:stdout 2014-12-31T12:29:56.976628:Read ITK transform from file: /Volumes/scratch/TESTS/IpythonNotebook/1_DWI_Nipype_workflow/DWIPrototype_only1Subject/BFit_T2toB0/T2ToB0_RigidTransform.h5\n"
       ]
      },
      {
       "output_type": "stream",
       "stream": "stderr",
       "text": [
        "INFO:interface:stdout 2014-12-31T12:29:57.359254:HACK: 0  VersorRigid3DTransform\n"
       ]
      },
      {
       "output_type": "stream",
       "stream": "stderr",
       "text": [
        "INFO:workflow:Executing node _ResampleInPlaceToB0Space1 in dir: /scratch/TESTS/IpythonNotebook/1_DWI_Nipype_workflow/DWIPrototype_only1Subject/ResampleInPlaceToB0Space/mapflow/_ResampleInPlaceToB0Space1\n"
       ]
      },
      {
       "output_type": "stream",
       "stream": "stderr",
       "text": [
        "INFO:workflow:Running:  BRAINSResample  --inputVolume /Shared/sinapse/CACHE/20141124_TrackOn_base_Results/HDNI_001/249903245/249903245_20110719_30/TissueClassify/complete_brainlabels_seg.nii.gz --interpolationMode ResampleInPlace --outputVolume labelMapToB0_RIP.nrrd --pixelType ushort --referenceVolume /Volumes/scratch/TESTS/IpythonNotebook/1_DWI_Nipype_workflow/DWIPrototype_only1Subject/EXTRACT_B0/B0_Image.nrrd --warpTransform /Volumes/scratch/TESTS/IpythonNotebook/1_DWI_Nipype_workflow/DWIPrototype_only1Subject/BFit_T2toB0/T2ToB0_RigidTransform.h5\n"
       ]
      },
      {
       "output_type": "stream",
       "stream": "stderr",
       "text": [
        "INFO:interface:stdout 2014-12-31T12:29:57.904130:=====================================================\n"
       ]
      },
      {
       "output_type": "stream",
       "stream": "stderr",
       "text": [
        "INFO:interface:stdout 2014-12-31T12:29:57.904130:Input Volume:     /Shared/sinapse/CACHE/20141124_TrackOn_base_Results/HDNI_001/249903245/249903245_20110719_30/TissueClassify/complete_brainlabels_seg.nii.gz\n"
       ]
      },
      {
       "output_type": "stream",
       "stream": "stderr",
       "text": [
        "INFO:interface:stdout 2014-12-31T12:29:57.904130:Reference Volume: /Volumes/scratch/TESTS/IpythonNotebook/1_DWI_Nipype_workflow/DWIPrototype_only1Subject/EXTRACT_B0/B0_Image.nrrd\n"
       ]
      },
      {
       "output_type": "stream",
       "stream": "stderr",
       "text": [
        "INFO:interface:stdout 2014-12-31T12:29:57.904130:Output Volume:    labelMapToB0_RIP.nrrd\n"
       ]
      },
      {
       "output_type": "stream",
       "stream": "stderr",
       "text": [
        "INFO:interface:stdout 2014-12-31T12:29:57.904130:Pixel Type:       ushort\n"
       ]
      },
      {
       "output_type": "stream",
       "stream": "stderr",
       "text": [
        "INFO:interface:stdout 2014-12-31T12:29:57.904130:Interpolation:    ResampleInPlace\n"
       ]
      },
      {
       "output_type": "stream",
       "stream": "stderr",
       "text": [
        "INFO:interface:stdout 2014-12-31T12:29:57.904130:Background Value: 0\n"
       ]
      },
      {
       "output_type": "stream",
       "stream": "stderr",
       "text": [
        "INFO:interface:stdout 2014-12-31T12:29:57.908062:Warp By Transform: /Volumes/scratch/TESTS/IpythonNotebook/1_DWI_Nipype_workflow/DWIPrototype_only1Subject/BFit_T2toB0/T2ToB0_RigidTransform.h5\n"
       ]
      },
      {
       "output_type": "stream",
       "stream": "stderr",
       "text": [
        "INFO:interface:stdout 2014-12-31T12:29:57.908062:=====================================================\n"
       ]
      },
      {
       "output_type": "stream",
       "stream": "stderr",
       "text": [
        "INFO:interface:stdout 2014-12-31T12:29:58.073278:Read ITK transform from file: /Volumes/scratch/TESTS/IpythonNotebook/1_DWI_Nipype_workflow/DWIPrototype_only1Subject/BFit_T2toB0/T2ToB0_RigidTransform.h5\n"
       ]
      },
      {
       "output_type": "stream",
       "stream": "stderr",
       "text": [
        "INFO:interface:stdout 2014-12-31T12:29:58.081012:HACK: 0  VersorRigid3DTransform\n"
       ]
      },
      {
       "output_type": "stream",
       "stream": "stderr",
       "text": [
        "INFO:workflow:Executing node CreateAntsRegistrationMask in dir: /scratch/TESTS/IpythonNotebook/1_DWI_Nipype_workflow/DWIPrototype_only1Subject/CreateAntsRegistrationMask\n"
       ]
      },
      {
       "output_type": "stream",
       "stream": "stderr",
       "text": [
        "INFO:workflow:Executing node MakeForceDCFilesListNode in dir: /scratch/TESTS/IpythonNotebook/1_DWI_Nipype_workflow/DWIPrototype_only1Subject/MakeForceDCFilesListNode\n"
       ]
      },
      {
       "output_type": "stream",
       "stream": "stderr",
       "text": [
        "INFO:workflow:Executing node Save_T2RIP_DC in dir: /scratch/TESTS/IpythonNotebook/1_DWI_Nipype_workflow/DWIPrototype_only1Subject/Save_T2RIP_DC\n"
       ]
      },
      {
       "output_type": "stream",
       "stream": "stderr",
       "text": [
        "INFO:workflow:Executing node ForceDCtoID in dir: /scratch/TESTS/IpythonNotebook/1_DWI_Nipype_workflow/DWIPrototype_only1Subject/ForceDCtoID\n"
       ]
      },
      {
       "output_type": "stream",
       "stream": "stderr",
       "text": [
        "INFO:workflow:Executing node _ForceDCtoID0 in dir: /scratch/TESTS/IpythonNotebook/1_DWI_Nipype_workflow/DWIPrototype_only1Subject/ForceDCtoID/mapflow/_ForceDCtoID0\n"
       ]
      },
      {
       "output_type": "stream",
       "stream": "stderr",
       "text": [
        "INFO:workflow:Collecting precomputed outputs\n"
       ]
      },
      {
       "output_type": "stream",
       "stream": "stderr",
       "text": [
        "INFO:workflow:Executing node _ForceDCtoID1 in dir: /scratch/TESTS/IpythonNotebook/1_DWI_Nipype_workflow/DWIPrototype_only1Subject/ForceDCtoID/mapflow/_ForceDCtoID1\n"
       ]
      },
      {
       "output_type": "stream",
       "stream": "stderr",
       "text": [
        "INFO:workflow:Executing node _ForceDCtoID2 in dir: /scratch/TESTS/IpythonNotebook/1_DWI_Nipype_workflow/DWIPrototype_only1Subject/ForceDCtoID/mapflow/_ForceDCtoID2\n"
       ]
      },
      {
       "output_type": "stream",
       "stream": "stderr",
       "text": [
        "INFO:workflow:Executing node antsReg_B0ToTransformedT2 in dir: /scratch/TESTS/IpythonNotebook/1_DWI_Nipype_workflow/DWIPrototype_only1Subject/antsReg_B0ToTransformedT2\n"
       ]
      },
      {
       "output_type": "stream",
       "stream": "stderr",
       "text": [
        "INFO:workflow:Running: antsRegistration --float 1 --restrict-deformation 0x1x0 --collapse-output-transforms 0 --dimensionality 3 --masks /Volumes/scratch/TESTS/IpythonNotebook/1_DWI_Nipype_workflow/DWIPrototype_only1Subject/ForceDCtoID/mapflow/_ForceDCtoID2/IDDC_registrationMask.nrrd --initialize-transforms-per-stage 0 --interpolation Linear --output Tsyn --transform SyN[ 0.25, 3.0, 0.0 ] --metric MI[ /Volumes/scratch/TESTS/IpythonNotebook/1_DWI_Nipype_workflow/DWIPrototype_only1Subject/ForceDCtoID/mapflow/_ForceDCtoID1/IDDC_T2toB0_RIP.nrrd, /Volumes/scratch/TESTS/IpythonNotebook/1_DWI_Nipype_workflow/DWIPrototype_only1Subject/ForceDCtoID/mapflow/_ForceDCtoID0/IDDC_B0_Image.nrrd, 1, 32, None, 1 ] --convergence [ 70x50x40, 1e-06, 10 ] --smoothing-sigmas 2.0x1.0x0.0vox --shrink-factors 3x2x1 --use-estimate-learning-rate-once 0 --use-histogram-matching 1 --winsorize-image-intensities [ 0.01, 0.99 ]  --write-composite-transform 0\n"
       ]
      },
      {
       "output_type": "stream",
       "stream": "stderr",
       "text": [
        "INFO:interface:stdout 2014-12-31T12:30:04.854226:All_Command_lines_OK\n"
       ]
      },
      {
       "output_type": "stream",
       "stream": "stderr",
       "text": [
        "INFO:interface:stdout 2014-12-31T12:30:04.854226:Using single precision for computations.\n"
       ]
      },
      {
       "output_type": "stream",
       "stream": "stderr",
       "text": [
        "INFO:interface:stdout 2014-12-31T12:30:04.897606:  number of levels = 3\n"
       ]
      },
      {
       "output_type": "stream",
       "stream": "stderr",
       "text": [
        "INFO:interface:stdout 2014-12-31T12:30:04.897606:  fixed image: /Volumes/scratch/TESTS/IpythonNotebook/1_DWI_Nipype_workflow/DWIPrototype_only1Subject/ForceDCtoID/mapflow/_ForceDCtoID1/IDDC_T2toB0_RIP.nrrd\n"
       ]
      },
      {
       "output_type": "stream",
       "stream": "stderr",
       "text": [
        "INFO:interface:stdout 2014-12-31T12:30:04.897606:  moving image: /Volumes/scratch/TESTS/IpythonNotebook/1_DWI_Nipype_workflow/DWIPrototype_only1Subject/ForceDCtoID/mapflow/_ForceDCtoID0/IDDC_B0_Image.nrrd\n"
       ]
      },
      {
       "output_type": "stream",
       "stream": "stderr",
       "text": [
        "INFO:interface:stdout 2014-12-31T12:30:05.009760:Dimension = 3\n"
       ]
      },
      {
       "output_type": "stream",
       "stream": "stderr",
       "text": [
        "INFO:interface:stdout 2014-12-31T12:30:05.009760:Number of stages = 1\n"
       ]
      },
      {
       "output_type": "stream",
       "stream": "stderr",
       "text": [
        "INFO:interface:stdout 2014-12-31T12:30:05.009760:Use Histogram Matching true\n"
       ]
      },
      {
       "output_type": "stream",
       "stream": "stderr",
       "text": [
        "INFO:interface:stdout 2014-12-31T12:30:05.009760:Winsorize image intensities false\n"
       ]
      },
      {
       "output_type": "stream",
       "stream": "stderr",
       "text": [
        "INFO:interface:stdout 2014-12-31T12:30:05.009760:Lower quantile = 0\n"
       ]
      },
      {
       "output_type": "stream",
       "stream": "stderr",
       "text": [
        "INFO:interface:stdout 2014-12-31T12:30:05.009760:Upper quantile = 1\n"
       ]
      },
      {
       "output_type": "stream",
       "stream": "stderr",
       "text": [
        "INFO:interface:stdout 2014-12-31T12:30:05.009760:Stage 1 State\n"
       ]
      },
      {
       "output_type": "stream",
       "stream": "stderr",
       "text": [
        "INFO:interface:stdout 2014-12-31T12:30:05.012953:   Image metric = Mattes\n"
       ]
      },
      {
       "output_type": "stream",
       "stream": "stderr",
       "text": [
        "INFO:interface:stdout 2014-12-31T12:30:05.012953:     Fixed image = Image (0x7ffb506dc630)\n"
       ]
      },
      {
       "output_type": "stream",
       "stream": "stderr",
       "text": [
        "INFO:interface:stdout 2014-12-31T12:30:05.012953:  RTTI typeinfo:   itk::Image<float, 3u>\n"
       ]
      },
      {
       "output_type": "stream",
       "stream": "stderr",
       "text": [
        "INFO:interface:stdout 2014-12-31T12:30:05.012953:  Reference Count: 2\n"
       ]
      },
      {
       "output_type": "stream",
       "stream": "stderr",
       "text": [
        "INFO:interface:stdout 2014-12-31T12:30:05.012953:  Modified Time: 979\n"
       ]
      },
      {
       "output_type": "stream",
       "stream": "stderr",
       "text": [
        "INFO:interface:stdout 2014-12-31T12:30:05.012953:  Debug: Off\n"
       ]
      },
      {
       "output_type": "stream",
       "stream": "stderr",
       "text": [
        "INFO:interface:stdout 2014-12-31T12:30:05.012953:  Object Name: \n"
       ]
      },
      {
       "output_type": "stream",
       "stream": "stderr",
       "text": [
        "INFO:interface:stdout 2014-12-31T12:30:05.012953:  Observers: \n"
       ]
      },
      {
       "output_type": "stream",
       "stream": "stderr",
       "text": [
        "INFO:interface:stdout 2014-12-31T12:30:05.012953:    none\n"
       ]
      },
      {
       "output_type": "stream",
       "stream": "stderr",
       "text": [
        "INFO:interface:stdout 2014-12-31T12:30:05.012953:  Source: (none)\n"
       ]
      },
      {
       "output_type": "stream",
       "stream": "stderr",
       "text": [
        "INFO:interface:stdout 2014-12-31T12:30:05.012953:  Source output name: (none)\n"
       ]
      },
      {
       "output_type": "stream",
       "stream": "stderr",
       "text": [
        "INFO:interface:stdout 2014-12-31T12:30:05.012953:  Release Data: Off\n"
       ]
      },
      {
       "output_type": "stream",
       "stream": "stderr",
       "text": [
        "INFO:interface:stdout 2014-12-31T12:30:05.012953:  Data Released: False\n"
       ]
      },
      {
       "output_type": "stream",
       "stream": "stderr",
       "text": [
        "INFO:interface:stdout 2014-12-31T12:30:05.012953:  Global Release Data: Off\n"
       ]
      },
      {
       "output_type": "stream",
       "stream": "stderr",
       "text": [
        "INFO:interface:stdout 2014-12-31T12:30:05.012953:  PipelineMTime: 0\n"
       ]
      },
      {
       "output_type": "stream",
       "stream": "stderr",
       "text": [
        "INFO:interface:stdout 2014-12-31T12:30:05.012953:  UpdateMTime: 796\n"
       ]
      },
      {
       "output_type": "stream",
       "stream": "stderr",
       "text": [
        "INFO:interface:stdout 2014-12-31T12:30:05.012953:  RealTimeStamp: 0 seconds \n"
       ]
      },
      {
       "output_type": "stream",
       "stream": "stderr",
       "text": [
        "INFO:interface:stdout 2014-12-31T12:30:05.012953:  LargestPossibleRegion: \n"
       ]
      },
      {
       "output_type": "stream",
       "stream": "stderr",
       "text": [
        "INFO:interface:stdout 2014-12-31T12:30:05.012953:    Dimension: 3\n"
       ]
      },
      {
       "output_type": "stream",
       "stream": "stderr",
       "text": [
        "INFO:interface:stdout 2014-12-31T12:30:05.012953:    Index: [0, 0, 0]\n"
       ]
      },
      {
       "output_type": "stream",
       "stream": "stderr",
       "text": [
        "INFO:interface:stdout 2014-12-31T12:30:05.012953:    Size: [192, 228, 194]\n"
       ]
      },
      {
       "output_type": "stream",
       "stream": "stderr",
       "text": [
        "INFO:interface:stdout 2014-12-31T12:30:05.012953:  BufferedRegion: \n"
       ]
      },
      {
       "output_type": "stream",
       "stream": "stderr",
       "text": [
        "INFO:interface:stdout 2014-12-31T12:30:05.012953:    Dimension: 3\n"
       ]
      },
      {
       "output_type": "stream",
       "stream": "stderr",
       "text": [
        "INFO:interface:stdout 2014-12-31T12:30:05.012953:    Index: [0, 0, 0]\n"
       ]
      },
      {
       "output_type": "stream",
       "stream": "stderr",
       "text": [
        "INFO:interface:stdout 2014-12-31T12:30:05.012953:    Size: [192, 228, 194]\n"
       ]
      },
      {
       "output_type": "stream",
       "stream": "stderr",
       "text": [
        "INFO:interface:stdout 2014-12-31T12:30:05.012953:  RequestedRegion: \n"
       ]
      },
      {
       "output_type": "stream",
       "stream": "stderr",
       "text": [
        "INFO:interface:stdout 2014-12-31T12:30:05.012953:    Dimension: 3\n"
       ]
      },
      {
       "output_type": "stream",
       "stream": "stderr",
       "text": [
        "INFO:interface:stdout 2014-12-31T12:30:05.012953:    Index: [0, 0, 0]\n"
       ]
      },
      {
       "output_type": "stream",
       "stream": "stderr",
       "text": [
        "INFO:interface:stdout 2014-12-31T12:30:05.012953:    Size: [192, 228, 194]\n"
       ]
      },
      {
       "output_type": "stream",
       "stream": "stderr",
       "text": [
        "INFO:interface:stdout 2014-12-31T12:30:05.012953:  Spacing: [1, 1, 1]\n"
       ]
      },
      {
       "output_type": "stream",
       "stream": "stderr",
       "text": [
        "INFO:interface:stdout 2014-12-31T12:30:05.012953:  Origin: [-87.5977, -157.423, -34.0157]\n"
       ]
      },
      {
       "output_type": "stream",
       "stream": "stderr",
       "text": [
        "INFO:interface:stdout 2014-12-31T12:30:05.012953:  Direction: \n"
       ]
      },
      {
       "output_type": "stream",
       "stream": "stderr",
       "text": [
        "INFO:interface:stdout 2014-12-31T12:30:05.012953:1 0 0\n"
       ]
      },
      {
       "output_type": "stream",
       "stream": "stderr",
       "text": [
        "INFO:interface:stdout 2014-12-31T12:30:05.012953:0 1 0\n"
       ]
      },
      {
       "output_type": "stream",
       "stream": "stderr",
       "text": [
        "INFO:interface:stdout 2014-12-31T12:30:05.012953:0 0 1\n"
       ]
      },
      {
       "output_type": "stream",
       "stream": "stderr",
       "text": [
        "INFO:interface:stdout 2014-12-31T12:30:05.012953:\n"
       ]
      },
      {
       "output_type": "stream",
       "stream": "stderr",
       "text": [
        "INFO:interface:stdout 2014-12-31T12:30:05.012953:  IndexToPointMatrix: \n"
       ]
      },
      {
       "output_type": "stream",
       "stream": "stderr",
       "text": [
        "INFO:interface:stdout 2014-12-31T12:30:05.012953:1 0 0\n"
       ]
      },
      {
       "output_type": "stream",
       "stream": "stderr",
       "text": [
        "INFO:interface:stdout 2014-12-31T12:30:05.012953:0 1 0\n"
       ]
      },
      {
       "output_type": "stream",
       "stream": "stderr",
       "text": [
        "INFO:interface:stdout 2014-12-31T12:30:05.012953:0 0 1\n"
       ]
      },
      {
       "output_type": "stream",
       "stream": "stderr",
       "text": [
        "INFO:interface:stdout 2014-12-31T12:30:05.012953:\n"
       ]
      },
      {
       "output_type": "stream",
       "stream": "stderr",
       "text": [
        "INFO:interface:stdout 2014-12-31T12:30:05.012953:  PointToIndexMatrix: \n"
       ]
      },
      {
       "output_type": "stream",
       "stream": "stderr",
       "text": [
        "INFO:interface:stdout 2014-12-31T12:30:05.012953:1 0 0\n"
       ]
      },
      {
       "output_type": "stream",
       "stream": "stderr",
       "text": [
        "INFO:interface:stdout 2014-12-31T12:30:05.012953:0 1 0\n"
       ]
      },
      {
       "output_type": "stream",
       "stream": "stderr",
       "text": [
        "INFO:interface:stdout 2014-12-31T12:30:05.012953:0 0 1\n"
       ]
      },
      {
       "output_type": "stream",
       "stream": "stderr",
       "text": [
        "INFO:interface:stdout 2014-12-31T12:30:05.012953:\n"
       ]
      },
      {
       "output_type": "stream",
       "stream": "stderr",
       "text": [
        "INFO:interface:stdout 2014-12-31T12:30:05.012953:  Inverse Direction: \n"
       ]
      },
      {
       "output_type": "stream",
       "stream": "stderr",
       "text": [
        "INFO:interface:stdout 2014-12-31T12:30:05.012953:1 0 0\n"
       ]
      },
      {
       "output_type": "stream",
       "stream": "stderr",
       "text": [
        "INFO:interface:stdout 2014-12-31T12:30:05.012953:0 1 0\n"
       ]
      },
      {
       "output_type": "stream",
       "stream": "stderr",
       "text": [
        "INFO:interface:stdout 2014-12-31T12:30:05.012953:0 0 1\n"
       ]
      },
      {
       "output_type": "stream",
       "stream": "stderr",
       "text": [
        "INFO:interface:stdout 2014-12-31T12:30:05.012953:\n"
       ]
      },
      {
       "output_type": "stream",
       "stream": "stderr",
       "text": [
        "INFO:interface:stdout 2014-12-31T12:30:05.012953:  PixelContainer: \n"
       ]
      },
      {
       "output_type": "stream",
       "stream": "stderr",
       "text": [
        "INFO:interface:stdout 2014-12-31T12:30:05.012953:    ImportImageContainer (0x7ffb506dc950)\n"
       ]
      },
      {
       "output_type": "stream",
       "stream": "stderr",
       "text": [
        "INFO:interface:stdout 2014-12-31T12:30:05.012953:      RTTI typeinfo:   itk::ImportImageContainer<unsigned long, float>\n"
       ]
      },
      {
       "output_type": "stream",
       "stream": "stderr",
       "text": [
        "INFO:interface:stdout 2014-12-31T12:30:05.012953:      Reference Count: 1\n"
       ]
      },
      {
       "output_type": "stream",
       "stream": "stderr",
       "text": [
        "INFO:interface:stdout 2014-12-31T12:30:05.012953:      Modified Time: 793\n"
       ]
      },
      {
       "output_type": "stream",
       "stream": "stderr",
       "text": [
        "INFO:interface:stdout 2014-12-31T12:30:05.012953:      Debug: Off\n"
       ]
      },
      {
       "output_type": "stream",
       "stream": "stderr",
       "text": [
        "INFO:interface:stdout 2014-12-31T12:30:05.012953:      Object Name: \n"
       ]
      },
      {
       "output_type": "stream",
       "stream": "stderr",
       "text": [
        "INFO:interface:stdout 2014-12-31T12:30:05.012953:      Observers: \n"
       ]
      },
      {
       "output_type": "stream",
       "stream": "stderr",
       "text": [
        "INFO:interface:stdout 2014-12-31T12:30:05.012953:        none\n"
       ]
      },
      {
       "output_type": "stream",
       "stream": "stderr",
       "text": [
        "INFO:interface:stdout 2014-12-31T12:30:05.012953:      Pointer: 0x10fa19000\n"
       ]
      },
      {
       "output_type": "stream",
       "stream": "stderr",
       "text": [
        "INFO:interface:stdout 2014-12-31T12:30:05.012953:      Container manages memory: true\n"
       ]
      },
      {
       "output_type": "stream",
       "stream": "stderr",
       "text": [
        "INFO:interface:stdout 2014-12-31T12:30:05.012953:      Size: 8492544\n"
       ]
      },
      {
       "output_type": "stream",
       "stream": "stderr",
       "text": [
        "INFO:interface:stdout 2014-12-31T12:30:05.012953:      Capacity: 8492544\n"
       ]
      },
      {
       "output_type": "stream",
       "stream": "stderr",
       "text": [
        "INFO:interface:stdout 2014-12-31T12:30:05.012953:\n"
       ]
      },
      {
       "output_type": "stream",
       "stream": "stderr",
       "text": [
        "INFO:interface:stdout 2014-12-31T12:30:05.012953:     Moving image = Image (0x7ffb506dd4a0)\n"
       ]
      },
      {
       "output_type": "stream",
       "stream": "stderr",
       "text": [
        "INFO:interface:stdout 2014-12-31T12:30:05.012953:  RTTI typeinfo:   itk::Image<float, 3u>\n"
       ]
      },
      {
       "output_type": "stream",
       "stream": "stderr",
       "text": [
        "INFO:interface:stdout 2014-12-31T12:30:05.012953:  Reference Count: 2\n"
       ]
      },
      {
       "output_type": "stream",
       "stream": "stderr",
       "text": [
        "INFO:interface:stdout 2014-12-31T12:30:05.012953:  Modified Time: 980\n"
       ]
      },
      {
       "output_type": "stream",
       "stream": "stderr",
       "text": [
        "INFO:interface:stdout 2014-12-31T12:30:05.012953:  Debug: Off\n"
       ]
      },
      {
       "output_type": "stream",
       "stream": "stderr",
       "text": [
        "INFO:interface:stdout 2014-12-31T12:30:05.012953:  Object Name: \n"
       ]
      },
      {
       "output_type": "stream",
       "stream": "stderr",
       "text": [
        "INFO:interface:stdout 2014-12-31T12:30:05.012953:  Observers: \n"
       ]
      },
      {
       "output_type": "stream",
       "stream": "stderr",
       "text": [
        "INFO:interface:stdout 2014-12-31T12:30:05.012953:    none\n"
       ]
      },
      {
       "output_type": "stream",
       "stream": "stderr",
       "text": [
        "INFO:interface:stdout 2014-12-31T12:30:05.012953:  Source: (none)\n"
       ]
      },
      {
       "output_type": "stream",
       "stream": "stderr",
       "text": [
        "INFO:interface:stdout 2014-12-31T12:30:05.012953:  Source output name: (none)\n"
       ]
      },
      {
       "output_type": "stream",
       "stream": "stderr",
       "text": [
        "INFO:interface:stdout 2014-12-31T12:30:05.012953:  Release Data: Off\n"
       ]
      },
      {
       "output_type": "stream",
       "stream": "stderr",
       "text": [
        "INFO:interface:stdout 2014-12-31T12:30:05.012953:  Data Released: False\n"
       ]
      },
      {
       "output_type": "stream",
       "stream": "stderr",
       "text": [
        "INFO:interface:stdout 2014-12-31T12:30:05.012953:  Global Release Data: Off\n"
       ]
      },
      {
       "output_type": "stream",
       "stream": "stderr",
       "text": [
        "INFO:interface:stdout 2014-12-31T12:30:05.012953:  PipelineMTime: 0\n"
       ]
      },
      {
       "output_type": "stream",
       "stream": "stderr",
       "text": [
        "INFO:interface:stdout 2014-12-31T12:30:05.012953:  UpdateMTime: 977\n"
       ]
      },
      {
       "output_type": "stream",
       "stream": "stderr",
       "text": [
        "INFO:interface:stdout 2014-12-31T12:30:05.012953:  RealTimeStamp: 0 seconds \n"
       ]
      },
      {
       "output_type": "stream",
       "stream": "stderr",
       "text": [
        "INFO:interface:stdout 2014-12-31T12:30:05.012953:  LargestPossibleRegion: \n"
       ]
      },
      {
       "output_type": "stream",
       "stream": "stderr",
       "text": [
        "INFO:interface:stdout 2014-12-31T12:30:05.012953:    Dimension: 3\n"
       ]
      },
      {
       "output_type": "stream",
       "stream": "stderr",
       "text": [
        "INFO:interface:stdout 2014-12-31T12:30:05.012953:    Index: [0, 0, 0]\n"
       ]
      },
      {
       "output_type": "stream",
       "stream": "stderr",
       "text": [
        "INFO:interface:stdout 2014-12-31T12:30:05.012953:    Size: [128, 96, 65]\n"
       ]
      },
      {
       "output_type": "stream",
       "stream": "stderr",
       "text": [
        "INFO:interface:stdout 2014-12-31T12:30:05.012953:  BufferedRegion: \n"
       ]
      },
      {
       "output_type": "stream",
       "stream": "stderr",
       "text": [
        "INFO:interface:stdout 2014-12-31T12:30:05.012953:    Dimension: 3\n"
       ]
      },
      {
       "output_type": "stream",
       "stream": "stderr",
       "text": [
        "INFO:interface:stdout 2014-12-31T12:30:05.012953:    Index: [0, 0, 0]\n"
       ]
      },
      {
       "output_type": "stream",
       "stream": "stderr",
       "text": [
        "INFO:interface:stdout 2014-12-31T12:30:05.012953:    Size: [128, 96, 65]\n"
       ]
      },
      {
       "output_type": "stream",
       "stream": "stderr",
       "text": [
        "INFO:interface:stdout 2014-12-31T12:30:05.012953:  RequestedRegion: \n"
       ]
      },
      {
       "output_type": "stream",
       "stream": "stderr",
       "text": [
        "INFO:interface:stdout 2014-12-31T12:30:05.012953:    Dimension: 3\n"
       ]
      },
      {
       "output_type": "stream",
       "stream": "stderr",
       "text": [
        "INFO:interface:stdout 2014-12-31T12:30:05.012953:    Index: [0, 0, 0]\n"
       ]
      },
      {
       "output_type": "stream",
       "stream": "stderr",
       "text": [
        "INFO:interface:stdout 2014-12-31T12:30:05.012953:    Size: [128, 96, 65]\n"
       ]
      },
      {
       "output_type": "stream",
       "stream": "stderr",
       "text": [
        "INFO:interface:stdout 2014-12-31T12:30:05.012953:  Spacing: [2, 2, 2]\n"
       ]
      },
      {
       "output_type": "stream",
       "stream": "stderr",
       "text": [
        "INFO:interface:stdout 2014-12-31T12:30:05.012953:  Origin: [-128, -96, -65]\n"
       ]
      },
      {
       "output_type": "stream",
       "stream": "stderr",
       "text": [
        "INFO:interface:stdout 2014-12-31T12:30:05.012953:  Direction: \n"
       ]
      },
      {
       "output_type": "stream",
       "stream": "stderr",
       "text": [
        "INFO:interface:stdout 2014-12-31T12:30:05.012953:1 0 0\n"
       ]
      },
      {
       "output_type": "stream",
       "stream": "stderr",
       "text": [
        "INFO:interface:stdout 2014-12-31T12:30:05.012953:0 1 0\n"
       ]
      },
      {
       "output_type": "stream",
       "stream": "stderr",
       "text": [
        "INFO:interface:stdout 2014-12-31T12:30:05.012953:0 0 1\n"
       ]
      },
      {
       "output_type": "stream",
       "stream": "stderr",
       "text": [
        "INFO:interface:stdout 2014-12-31T12:30:05.012953:\n"
       ]
      },
      {
       "output_type": "stream",
       "stream": "stderr",
       "text": [
        "INFO:interface:stdout 2014-12-31T12:30:05.012953:  IndexToPointMatrix: \n"
       ]
      },
      {
       "output_type": "stream",
       "stream": "stderr",
       "text": [
        "INFO:interface:stdout 2014-12-31T12:30:05.012953:2 0 0\n"
       ]
      },
      {
       "output_type": "stream",
       "stream": "stderr",
       "text": [
        "INFO:interface:stdout 2014-12-31T12:30:05.012953:0 2 0\n"
       ]
      },
      {
       "output_type": "stream",
       "stream": "stderr",
       "text": [
        "INFO:interface:stdout 2014-12-31T12:30:05.012953:0 0 2\n"
       ]
      },
      {
       "output_type": "stream",
       "stream": "stderr",
       "text": [
        "INFO:interface:stdout 2014-12-31T12:30:05.012953:\n"
       ]
      },
      {
       "output_type": "stream",
       "stream": "stderr",
       "text": [
        "INFO:interface:stdout 2014-12-31T12:30:05.012953:  PointToIndexMatrix: \n"
       ]
      },
      {
       "output_type": "stream",
       "stream": "stderr",
       "text": [
        "INFO:interface:stdout 2014-12-31T12:30:05.012953:0.5 0 0\n"
       ]
      },
      {
       "output_type": "stream",
       "stream": "stderr",
       "text": [
        "INFO:interface:stdout 2014-12-31T12:30:05.012953:0 0.5 0\n"
       ]
      },
      {
       "output_type": "stream",
       "stream": "stderr",
       "text": [
        "INFO:interface:stdout 2014-12-31T12:30:05.012953:0 0 0.5\n"
       ]
      },
      {
       "output_type": "stream",
       "stream": "stderr",
       "text": [
        "INFO:interface:stdout 2014-12-31T12:30:05.012953:\n"
       ]
      },
      {
       "output_type": "stream",
       "stream": "stderr",
       "text": [
        "INFO:interface:stdout 2014-12-31T12:30:05.012953:  Inverse Direction: \n"
       ]
      },
      {
       "output_type": "stream",
       "stream": "stderr",
       "text": [
        "INFO:interface:stdout 2014-12-31T12:30:05.012953:1 0 0\n"
       ]
      },
      {
       "output_type": "stream",
       "stream": "stderr",
       "text": [
        "INFO:interface:stdout 2014-12-31T12:30:05.012953:0 1 0\n"
       ]
      },
      {
       "output_type": "stream",
       "stream": "stderr",
       "text": [
        "INFO:interface:stdout 2014-12-31T12:30:05.012953:0 0 1\n"
       ]
      },
      {
       "output_type": "stream",
       "stream": "stderr",
       "text": [
        "INFO:interface:stdout 2014-12-31T12:30:05.012953:\n"
       ]
      },
      {
       "output_type": "stream",
       "stream": "stderr",
       "text": [
        "INFO:interface:stdout 2014-12-31T12:30:05.012953:  PixelContainer: \n"
       ]
      },
      {
       "output_type": "stream",
       "stream": "stderr",
       "text": [
        "INFO:interface:stdout 2014-12-31T12:30:05.012953:    ImportImageContainer (0x7ffb506dcdf0)\n"
       ]
      },
      {
       "output_type": "stream",
       "stream": "stderr",
       "text": [
        "INFO:interface:stdout 2014-12-31T12:30:05.012953:      RTTI typeinfo:   itk::ImportImageContainer<unsigned long, float>\n"
       ]
      },
      {
       "output_type": "stream",
       "stream": "stderr",
       "text": [
        "INFO:interface:stdout 2014-12-31T12:30:05.012953:      Reference Count: 1\n"
       ]
      },
      {
       "output_type": "stream",
       "stream": "stderr",
       "text": [
        "INFO:interface:stdout 2014-12-31T12:30:05.012953:      Modified Time: 974\n"
       ]
      },
      {
       "output_type": "stream",
       "stream": "stderr",
       "text": [
        "INFO:interface:stdout 2014-12-31T12:30:05.012953:      Debug: Off\n"
       ]
      },
      {
       "output_type": "stream",
       "stream": "stderr",
       "text": [
        "INFO:interface:stdout 2014-12-31T12:30:05.012953:      Object Name: \n"
       ]
      },
      {
       "output_type": "stream",
       "stream": "stderr",
       "text": [
        "INFO:interface:stdout 2014-12-31T12:30:05.012953:      Observers: \n"
       ]
      },
      {
       "output_type": "stream",
       "stream": "stderr",
       "text": [
        "INFO:interface:stdout 2014-12-31T12:30:05.012953:        none\n"
       ]
      },
      {
       "output_type": "stream",
       "stream": "stderr",
       "text": [
        "INFO:interface:stdout 2014-12-31T12:30:05.012953:      Pointer: 0x112ab2000\n"
       ]
      },
      {
       "output_type": "stream",
       "stream": "stderr",
       "text": [
        "INFO:interface:stdout 2014-12-31T12:30:05.012953:      Container manages memory: true\n"
       ]
      },
      {
       "output_type": "stream",
       "stream": "stderr",
       "text": [
        "INFO:interface:stdout 2014-12-31T12:30:05.012953:      Size: 798720\n"
       ]
      },
      {
       "output_type": "stream",
       "stream": "stderr",
       "text": [
        "INFO:interface:stdout 2014-12-31T12:30:05.012953:      Capacity: 798720\n"
       ]
      },
      {
       "output_type": "stream",
       "stream": "stderr",
       "text": [
        "INFO:interface:stdout 2014-12-31T12:30:05.012953:\n"
       ]
      },
      {
       "output_type": "stream",
       "stream": "stderr",
       "text": [
        "INFO:interface:stdout 2014-12-31T12:30:05.012953:     Weighting = 1\n"
       ]
      },
      {
       "output_type": "stream",
       "stream": "stderr",
       "text": [
        "INFO:interface:stdout 2014-12-31T12:30:05.012953:     Sampling strategy = none\n"
       ]
      },
      {
       "output_type": "stream",
       "stream": "stderr",
       "text": [
        "INFO:interface:stdout 2014-12-31T12:30:05.012953:     Number of bins = 32\n"
       ]
      },
      {
       "output_type": "stream",
       "stream": "stderr",
       "text": [
        "INFO:interface:stdout 2014-12-31T12:30:05.012953:     Radius = 4\n"
       ]
      },
      {
       "output_type": "stream",
       "stream": "stderr",
       "text": [
        "INFO:interface:stdout 2014-12-31T12:30:05.012953:     Sampling percentage  = 1\n"
       ]
      },
      {
       "output_type": "stream",
       "stream": "stderr",
       "text": [
        "INFO:interface:stdout 2014-12-31T12:30:05.012953:   Transform = SyN\n"
       ]
      },
      {
       "output_type": "stream",
       "stream": "stderr",
       "text": [
        "INFO:interface:stdout 2014-12-31T12:30:05.012953:     Gradient step = 0.25\n"
       ]
      },
      {
       "output_type": "stream",
       "stream": "stderr",
       "text": [
        "INFO:interface:stdout 2014-12-31T12:30:05.012953:     Update field sigma (voxel space) = 3\n"
       ]
      },
      {
       "output_type": "stream",
       "stream": "stderr",
       "text": [
        "INFO:interface:stdout 2014-12-31T12:30:05.012953:     Total field sigma (voxel space) = 0\n"
       ]
      },
      {
       "output_type": "stream",
       "stream": "stderr",
       "text": [
        "INFO:interface:stdout 2014-12-31T12:30:05.012953:     Update field time sigma = 0\n"
       ]
      },
      {
       "output_type": "stream",
       "stream": "stderr",
       "text": [
        "INFO:interface:stdout 2014-12-31T12:30:05.012953:     Total field time sigma  = 0\n"
       ]
      },
      {
       "output_type": "stream",
       "stream": "stderr",
       "text": [
        "INFO:interface:stdout 2014-12-31T12:30:05.012953:     Number of time indices = 0\n"
       ]
      },
      {
       "output_type": "stream",
       "stream": "stderr",
       "text": [
        "INFO:interface:stdout 2014-12-31T12:30:05.012953:     Number of time point samples = 0\n"
       ]
      },
      {
       "output_type": "stream",
       "stream": "stderr",
       "text": [
        "INFO:interface:stdout 2014-12-31T12:30:05.012953:Registration using 1 total stages.\n"
       ]
      },
      {
       "output_type": "stream",
       "stream": "stderr",
       "text": [
        "INFO:interface:stdout 2014-12-31T12:30:05.012953:\n"
       ]
      },
      {
       "output_type": "stream",
       "stream": "stderr",
       "text": [
        "INFO:interface:stdout 2014-12-31T12:30:05.012953:Stage 0\n"
       ]
      },
      {
       "output_type": "stream",
       "stream": "stderr",
       "text": [
        "INFO:interface:stdout 2014-12-31T12:30:05.012953:  iterations = 70x50x40\n"
       ]
      },
      {
       "output_type": "stream",
       "stream": "stderr",
       "text": [
        "INFO:interface:stdout 2014-12-31T12:30:05.012953:  convergence threshold = 1e-06\n"
       ]
      },
      {
       "output_type": "stream",
       "stream": "stderr",
       "text": [
        "INFO:interface:stdout 2014-12-31T12:30:05.012953:  convergence window size = 10\n"
       ]
      },
      {
       "output_type": "stream",
       "stream": "stderr",
       "text": [
        "INFO:interface:stdout 2014-12-31T12:30:05.012953:  number of levels = 3\n"
       ]
      },
      {
       "output_type": "stream",
       "stream": "stderr",
       "text": [
        "INFO:interface:stdout 2014-12-31T12:30:05.012953:  Shrink factors (level 1 out of 3): [3, 3, 3]\n"
       ]
      },
      {
       "output_type": "stream",
       "stream": "stderr",
       "text": [
        "INFO:interface:stdout 2014-12-31T12:30:05.012953:  Shrink factors (level 2 out of 3): [2, 2, 2]\n"
       ]
      },
      {
       "output_type": "stream",
       "stream": "stderr",
       "text": [
        "INFO:interface:stdout 2014-12-31T12:30:05.012953:  Shrink factors (level 3 out of 3): [1, 1, 1]\n"
       ]
      },
      {
       "output_type": "stream",
       "stream": "stderr",
       "text": [
        "INFO:interface:stdout 2014-12-31T12:30:05.012953:  smoothing sigmas per level: [2, 1, 0]\n"
       ]
      },
      {
       "output_type": "stream",
       "stream": "stderr",
       "text": [
        "INFO:interface:stdout 2014-12-31T12:30:05.012953:  using the Mattes MI metric (number of bins = 32, weight = 1)\n"
       ]
      },
      {
       "output_type": "stream",
       "stream": "stderr",
       "text": [
        "INFO:interface:stdout 2014-12-31T12:30:06.034789:  preprocessing:  histogram matching the images\n"
       ]
      },
      {
       "output_type": "stream",
       "stream": "stderr",
       "text": [
        "INFO:interface:stdout 2014-12-31T12:30:06.035642:  Using default NONE metricSamplingStrategy \n"
       ]
      },
      {
       "output_type": "stream",
       "stream": "stderr",
       "text": [
        "INFO:interface:stdout 2014-12-31T12:30:06.501739:\n"
       ]
      },
      {
       "output_type": "stream",
       "stream": "stderr",
       "text": [
        "INFO:interface:stdout 2014-12-31T12:30:06.501739:*** Running SyN registration (varianceForUpdateField = 3, varianceForTotalField = 0) ***\n"
       ]
      },
      {
       "output_type": "stream",
       "stream": "stderr",
       "text": [
        "INFO:interface:stdout 2014-12-31T12:30:06.501739:\n"
       ]
      },
      {
       "output_type": "stream",
       "stream": "stderr",
       "text": [
        "INFO:interface:stdout 2014-12-31T12:30:11.500980:XXDIAGNOSTIC,Iteration,metricValue,convergenceValue,ITERATION_TIME_INDEX,SINCE_LAST\n"
       ]
      },
      {
       "output_type": "stream",
       "stream": "stderr",
       "text": [
        "INFO:interface:stdout 2014-12-31T12:30:11.501757: 1DIAGNOSTIC,     1, -2.675600349903e-02, inf, 4.9993e+00, 4.9993e+00, \n"
       ]
      },
      {
       "output_type": "stream",
       "stream": "stderr",
       "text": [
        "INFO:interface:stdout 2014-12-31T12:30:13.446679: 1DIAGNOSTIC,     2, -2.673128247261e-02, inf, 6.9448e+00, 1.9455e+00, \n"
       ]
      },
      {
       "output_type": "stream",
       "stream": "stderr",
       "text": [
        "INFO:interface:stdout 2014-12-31T12:30:15.278846: 1DIAGNOSTIC,     3, -2.662078104913e-02, inf, 8.7770e+00, 1.8321e+00, \n"
       ]
      },
      {
       "output_type": "stream",
       "stream": "stderr",
       "text": [
        "INFO:interface:stdout 2014-12-31T12:30:17.184780: 1DIAGNOSTIC,     4, -2.629044838250e-02, inf, 1.0683e+01, 1.9058e+00, \n"
       ]
      },
      {
       "output_type": "stream",
       "stream": "stderr",
       "text": [
        "INFO:interface:stdout 2014-12-31T12:30:19.048299: 1DIAGNOSTIC,     5, -2.616796270013e-02, inf, 1.2546e+01, 1.8635e+00, \n"
       ]
      },
      {
       "output_type": "stream",
       "stream": "stderr",
       "text": [
        "INFO:interface:stdout 2014-12-31T12:30:20.886113: 1DIAGNOSTIC,     6, -2.627357840538e-02, inf, 1.4384e+01, 1.8377e+00, \n"
       ]
      },
      {
       "output_type": "stream",
       "stream": "stderr",
       "text": [
        "INFO:interface:stdout 2014-12-31T12:30:22.721053: 1DIAGNOSTIC,     7, -2.629189565778e-02, inf, 1.6219e+01, 1.8348e+00, \n"
       ]
      },
      {
       "output_type": "stream",
       "stream": "stderr",
       "text": [
        "INFO:interface:stdout 2014-12-31T12:30:24.613655: 1DIAGNOSTIC,     8, -2.618163451552e-02, inf, 1.8111e+01, 1.8926e+00, \n"
       ]
      },
      {
       "output_type": "stream",
       "stream": "stderr",
       "text": [
        "INFO:interface:stdout 2014-12-31T12:30:26.525479: 1DIAGNOSTIC,     9, -2.617007866502e-02, inf, 2.0023e+01, 1.9118e+00, \n"
       ]
      },
      {
       "output_type": "stream",
       "stream": "stderr",
       "text": [
        "INFO:interface:stdout 2014-12-31T12:30:28.374384: 1DIAGNOSTIC,    10, -2.611618489027e-02, -1.530984533019e-03, 2.1872e+01, 1.8488e+00, \n"
       ]
      },
      {
       "output_type": "stream",
       "stream": "stderr",
       "text": [
        "INFO:interface:stdout 2014-12-31T12:30:36.236467:Exception caught: \n"
       ]
      },
      {
       "output_type": "stream",
       "stream": "stderr",
       "text": [
        "INFO:interface:stdout 2014-12-31T12:30:36.236467:itk::ExceptionObject (0x7ffb51d00cf8)\n"
       ]
      },
      {
       "output_type": "stream",
       "stream": "stderr",
       "text": [
        "INFO:interface:stdout 2014-12-31T12:30:36.236467:Location: \"unknown\" \n"
       ]
      },
      {
       "output_type": "stream",
       "stream": "stderr",
       "text": [
        "INFO:interface:stdout 2014-12-31T12:30:36.238024:File: /scratch/NAMICExternalProjects/release/ITKv4/Modules/Core/Common/include/itkImageToImageFilter.hxx\n"
       ]
      },
      {
       "output_type": "stream",
       "stream": "stderr",
       "text": [
        "INFO:interface:stdout 2014-12-31T12:30:36.238024:Line: 248\n"
       ]
      },
      {
       "output_type": "stream",
       "stream": "stderr",
       "text": [
        "INFO:interface:stdout 2014-12-31T12:30:36.238024:Description: itk::ERROR: ImageToImageFilter(0x7ffb51d00470): Inputs do not occupy the same physical space! \n"
       ]
      },
      {
       "output_type": "stream",
       "stream": "stderr",
       "text": [
        "INFO:interface:stdout 2014-12-31T12:30:36.238024:InputImage Origin: [-8.7097727e+01, -1.5692278e+02, -3.3515674e+01], InputImage_1 Origin: [-8.7097725e+01, -1.5692278e+02, -3.3515675e+01]\n"
       ]
      },
      {
       "output_type": "stream",
       "stream": "stderr",
       "text": [
        "INFO:interface:stdout 2014-12-31T12:30:36.238024:\tTolerance: 2.0000000e-06\n"
       ]
      },
      {
       "output_type": "stream",
       "stream": "stderr",
       "text": [
        "INFO:interface:stdout 2014-12-31T12:30:36.238024:\n"
       ]
      },
      {
       "output_type": "stream",
       "stream": "stderr",
       "text": [
        "INFO:interface:stdout 2014-12-31T12:30:36.238024:\n"
       ]
      },
      {
       "output_type": "stream",
       "stream": "stderr",
       "text": [
        "INFO:interface:stdout 2014-12-31T12:30:36.238024:\n"
       ]
      },
      {
       "output_type": "stream",
       "stream": "stderr",
       "text": [
        "ERROR:workflow:['Node antsReg_B0ToTransformedT2 failed to run on host dendrite.psychiatry.uiowa.edu.']\n"
       ]
      },
      {
       "output_type": "stream",
       "stream": "stderr",
       "text": [
        "INFO:workflow:Saving crash info to /Volumes/scratch/Notebooks/SimpleITK-Notebook-Answers/crash-20141231-123036-aghayoor-antsReg_B0ToTransformedT2.pklz\n"
       ]
      },
      {
       "output_type": "stream",
       "stream": "stderr",
       "text": [
        "INFO:workflow:Traceback (most recent call last):\n",
        "  File \"/Volumes/scratch/Notebooks/sitkpy/lib/python2.7/site-packages/nipype/pipeline/plugins/linear.py\", line 38, in run\n",
        "    node.run(updatehash=updatehash)\n",
        "  File \"/Volumes/scratch/Notebooks/sitkpy/lib/python2.7/site-packages/nipype/pipeline/engine.py\", line 1424, in run\n",
        "    self._run_interface()\n",
        "  File \"/Volumes/scratch/Notebooks/sitkpy/lib/python2.7/site-packages/nipype/pipeline/engine.py\", line 1534, in _run_interface\n",
        "    self._result = self._run_command(execute)\n",
        "  File \"/Volumes/scratch/Notebooks/sitkpy/lib/python2.7/site-packages/nipype/pipeline/engine.py\", line 1660, in _run_command\n",
        "    result = self._interface.run()\n",
        "  File \"/Volumes/scratch/Notebooks/sitkpy/lib/python2.7/site-packages/nipype/interfaces/base.py\", line 998, in run\n",
        "    runtime = self._run_interface(runtime)\n",
        "  File \"/Volumes/scratch/Notebooks/sitkpy/lib/python2.7/site-packages/nipype/interfaces/base.py\", line 1447, in _run_interface\n",
        "    self.raise_exception(runtime)\n",
        "  File \"/Volumes/scratch/Notebooks/sitkpy/lib/python2.7/site-packages/nipype/interfaces/base.py\", line 1376, in raise_exception\n",
        "    raise RuntimeError(message)\n",
        "RuntimeError: Command:\n",
        "antsRegistration --float 1 --restrict-deformation 0x1x0 --collapse-output-transforms 0 --dimensionality 3 --masks /Volumes/scratch/TESTS/IpythonNotebook/1_DWI_Nipype_workflow/DWIPrototype_only1Subject/ForceDCtoID/mapflow/_ForceDCtoID2/IDDC_registrationMask.nrrd --initialize-transforms-per-stage 0 --interpolation Linear --output Tsyn --transform SyN[ 0.25, 3.0, 0.0 ] --metric MI[ /Volumes/scratch/TESTS/IpythonNotebook/1_DWI_Nipype_workflow/DWIPrototype_only1Subject/ForceDCtoID/mapflow/_ForceDCtoID1/IDDC_T2toB0_RIP.nrrd, /Volumes/scratch/TESTS/IpythonNotebook/1_DWI_Nipype_workflow/DWIPrototype_only1Subject/ForceDCtoID/mapflow/_ForceDCtoID0/IDDC_B0_Image.nrrd, 1, 32, None, 1 ] --convergence [ 70x50x40, 1e-06, 10 ] --smoothing-sigmas 2.0x1.0x0.0vox --shrink-factors 3x2x1 --use-estimate-learning-rate-once 0 --use-histogram-matching 1   --write-composite-transform 0\n",
        "Standard output:\n",
        "All_Command_lines_OK\n",
        "Using single precision for computations.\n",
        "  number of levels = 3\n",
        "  fixed image: /Volumes/scratch/TESTS/IpythonNotebook/1_DWI_Nipype_workflow/DWIPrototype_only1Subject/ForceDCtoID/mapflow/_ForceDCtoID1/IDDC_T2toB0_RIP.nrrd\n",
        "  moving image: /Volumes/scratch/TESTS/IpythonNotebook/1_DWI_Nipype_workflow/DWIPrototype_only1Subject/ForceDCtoID/mapflow/_ForceDCtoID0/IDDC_B0_Image.nrrd\n",
        "Dimension = 3\n",
        "Number of stages = 1\n",
        "Use Histogram Matching true\n",
        "Winsorize image intensities false\n",
        "Lower quantile = 0\n",
        "Upper quantile = 1\n",
        "Stage 1 State\n",
        "   Image metric = Mattes\n",
        "     Fixed image = Image (0x7ffb506dc630)\n",
        "  RTTI typeinfo:   itk::Image<float, 3u>\n",
        "  Reference Count: 2\n",
        "  Modified Time: 979\n",
        "  Debug: Off\n",
        "  Object Name: \n",
        "  Observers: \n",
        "    none\n",
        "  Source: (none)\n",
        "  Source output name: (none)\n",
        "  Release Data: Off\n",
        "  Data Released: False\n",
        "  Global Release Data: Off\n",
        "  PipelineMTime: 0\n",
        "  UpdateMTime: 796\n",
        "  RealTimeStamp: 0 seconds \n",
        "  LargestPossibleRegion: \n",
        "    Dimension: 3\n",
        "    Index: [0, 0, 0]\n",
        "    Size: [192, 228, 194]\n",
        "  BufferedRegion: \n",
        "    Dimension: 3\n",
        "    Index: [0, 0, 0]\n",
        "    Size: [192, 228, 194]\n",
        "  RequestedRegion: \n",
        "    Dimension: 3\n",
        "    Index: [0, 0, 0]\n",
        "    Size: [192, 228, 194]\n",
        "  Spacing: [1, 1, 1]\n",
        "  Origin: [-87.5977, -157.423, -34.0157]\n",
        "  Direction: \n",
        "1 0 0\n",
        "0 1 0\n",
        "0 0 1\n",
        "\n",
        "  IndexToPointMatrix: \n",
        "1 0 0\n",
        "0 1 0\n",
        "0 0 1\n",
        "\n",
        "  PointToIndexMatrix: \n",
        "1 0 0\n",
        "0 1 0\n",
        "0 0 1\n",
        "\n",
        "  Inverse Direction: \n",
        "1 0 0\n",
        "0 1 0\n",
        "0 0 1\n",
        "\n",
        "  PixelContainer: \n",
        "    ImportImageContainer (0x7ffb506dc950)\n",
        "      RTTI typeinfo:   itk::ImportImageContainer<unsigned long, float>\n",
        "      Reference Count: 1\n",
        "      Modified Time: 793\n",
        "      Debug: Off\n",
        "      Object Name: \n",
        "      Observers: \n",
        "        none\n",
        "      Pointer: 0x10fa19000\n",
        "      Container manages memory: true\n",
        "      Size: 8492544\n",
        "      Capacity: 8492544\n",
        "\n",
        "     Moving image = Image (0x7ffb506dd4a0)\n",
        "  RTTI typeinfo:   itk::Image<float, 3u>\n",
        "  Reference Count: 2\n",
        "  Modified Time: 980\n",
        "  Debug: Off\n",
        "  Object Name: \n",
        "  Observers: \n",
        "    none\n",
        "  Source: (none)\n",
        "  Source output name: (none)\n",
        "  Release Data: Off\n",
        "  Data Released: False\n",
        "  Global Release Data: Off\n",
        "  PipelineMTime: 0\n",
        "  UpdateMTime: 977\n",
        "  RealTimeStamp: 0 seconds \n",
        "  LargestPossibleRegion: \n",
        "    Dimension: 3\n",
        "    Index: [0, 0, 0]\n",
        "    Size: [128, 96, 65]\n",
        "  BufferedRegion: \n",
        "    Dimension: 3\n",
        "    Index: [0, 0, 0]\n",
        "    Size: [128, 96, 65]\n",
        "  RequestedRegion: \n",
        "    Dimension: 3\n",
        "    Index: [0, 0, 0]\n",
        "    Size: [128, 96, 65]\n",
        "  Spacing: [2, 2, 2]\n",
        "  Origin: [-128, -96, -65]\n",
        "  Direction: \n",
        "1 0 0\n",
        "0 1 0\n",
        "0 0 1\n",
        "\n",
        "  IndexToPointMatrix: \n",
        "2 0 0\n",
        "0 2 0\n",
        "0 0 2\n",
        "\n",
        "  PointToIndexMatrix: \n",
        "0.5 0 0\n",
        "0 0.5 0\n",
        "0 0 0.5\n",
        "\n",
        "  Inverse Direction: \n",
        "1 0 0\n",
        "0 1 0\n",
        "0 0 1\n",
        "\n",
        "  PixelContainer: \n",
        "    ImportImageContainer (0x7ffb506dcdf0)\n",
        "      RTTI typeinfo:   itk::ImportImageContainer<unsigned long, float>\n",
        "      Reference Count: 1\n",
        "      Modified Time: 974\n",
        "      Debug: Off\n",
        "      Object Name: \n",
        "      Observers: \n",
        "        none\n",
        "      Pointer: 0x112ab2000\n",
        "      Container manages memory: true\n",
        "      Size: 798720\n",
        "      Capacity: 798720\n",
        "\n",
        "     Weighting = 1\n",
        "     Sampling strategy = none\n",
        "     Number of bins = 32\n",
        "     Radius = 4\n",
        "     Sampling percentage  = 1\n",
        "   Transform = SyN\n",
        "     Gradient step = 0.25\n",
        "     Update field sigma (voxel space) = 3\n",
        "     Total field sigma (voxel space) = 0\n",
        "     Update field time sigma = 0\n",
        "     Total field time sigma  = 0\n",
        "     Number of time indices = 0\n",
        "     Number of time point samples = 0\n",
        "Registration using 1 total stages.\n",
        "\n",
        "Stage 0\n",
        "  iterations = 70x50x40\n",
        "  convergence threshold = 1e-06\n",
        "  convergence window size = 10\n",
        "  number of levels = 3\n",
        "  Shrink factors (level 1 out of 3): [3, 3, 3]\n",
        "  Shrink factors (level 2 out of 3): [2, 2, 2]\n",
        "  Shrink factors (level 3 out of 3): [1, 1, 1]\n",
        "  smoothing sigmas per level: [2, 1, 0]\n",
        "  using the Mattes MI metric (number of bins = 32, weight = 1)\n",
        "  preprocessing:  histogram matching the images\n",
        "  Using default NONE metricSamplingStrategy \n",
        "\n",
        "*** Running SyN registration (varianceForUpdateField = 3, varianceForTotalField = 0) ***\n",
        "\n",
        "XXDIAGNOSTIC,Iteration,metricValue,convergenceValue,ITERATION_TIME_INDEX,SINCE_LAST\n",
        " 1DIAGNOSTIC,     1, -2.675600349903e-02, inf, 4.9993e+00, 4.9993e+00, \n",
        " 1DIAGNOSTIC,     2, -2.673128247261e-02, inf, 6.9448e+00, 1.9455e+00, \n",
        " 1DIAGNOSTIC,     3, -2.662078104913e-02, inf, 8.7770e+00, 1.8321e+00, \n",
        " 1DIAGNOSTIC,     4, -2.629044838250e-02, inf, 1.0683e+01, 1.9058e+00, \n",
        " 1DIAGNOSTIC,     5, -2.616796270013e-02, inf, 1.2546e+01, 1.8635e+00, \n",
        " 1DIAGNOSTIC,     6, -2.627357840538e-02, inf, 1.4384e+01, 1.8377e+00, \n",
        " 1DIAGNOSTIC,     7, -2.629189565778e-02, inf, 1.6219e+01, 1.8348e+00, \n",
        " 1DIAGNOSTIC,     8, -2.618163451552e-02, inf, 1.8111e+01, 1.8926e+00, \n",
        " 1DIAGNOSTIC,     9, -2.617007866502e-02, inf, 2.0023e+01, 1.9118e+00, \n",
        " 1DIAGNOSTIC,    10, -2.611618489027e-02, -1.530984533019e-03, 2.1872e+01, 1.8488e+00, \n",
        "Exception caught: \n",
        "itk::ExceptionObject (0x7ffb51d00cf8)\n",
        "Location: \"unknown\" \n",
        "File: /scratch/NAMICExternalProjects/release/ITKv4/Modules/Core/Common/include/itkImageToImageFilter.hxx\n",
        "Line: 248\n",
        "Description: itk::ERROR: ImageToImageFilter(0x7ffb51d00470): Inputs do not occupy the same physical space! \n",
        "InputImage Origin: [-8.7097727e+01, -1.5692278e+02, -3.3515674e+01], InputImage_1 Origin: [-8.7097725e+01, -1.5692278e+02, -3.3515675e+01]\n",
        "\tTolerance: 2.0000000e-06\n",
        "\n",
        "\n",
        "\n",
        "Standard error:\n",
        "\n",
        "Return code: 1\n",
        "Interface Registration failed to run. \n",
        "\n"
       ]
      },
      {
       "output_type": "stream",
       "stream": "stderr",
       "text": [
        "INFO:workflow:***********************************\n"
       ]
      },
      {
       "output_type": "stream",
       "stream": "stderr",
       "text": [
        "ERROR:workflow:could not run node: DWIPrototype_only1Subject.antsReg_B0ToTransformedT2\n"
       ]
      },
      {
       "output_type": "stream",
       "stream": "stderr",
       "text": [
        "INFO:workflow:crashfile: /Volumes/scratch/Notebooks/SimpleITK-Notebook-Answers/crash-20141231-123036-aghayoor-antsReg_B0ToTransformedT2.pklz\n"
       ]
      },
      {
       "output_type": "stream",
       "stream": "stderr",
       "text": [
        "INFO:workflow:***********************************\n"
       ]
      },
      {
       "ename": "RuntimeError",
       "evalue": "Workflow did not execute cleanly. Check log for details",
       "output_type": "pyerr",
       "traceback": [
        "\u001b[0;31m---------------------------------------------------------------------------\u001b[0m\n\u001b[0;31mRuntimeError\u001b[0m                              Traceback (most recent call last)",
        "\u001b[0;32m<ipython-input-9-d02ab69f135d>\u001b[0m in \u001b[0;36m<module>\u001b[0;34m()\u001b[0m\n\u001b[1;32m    201\u001b[0m \u001b[0;34m\u001b[0m\u001b[0m\n\u001b[1;32m    202\u001b[0m \u001b[0mDWIWorkflow\u001b[0m\u001b[0;34m.\u001b[0m\u001b[0mwrite_graph\u001b[0m\u001b[0;34m(\u001b[0m\u001b[0;34m)\u001b[0m\u001b[0;34m\u001b[0m\u001b[0m\n\u001b[0;32m--> 203\u001b[0;31m \u001b[0mDWIWorkflow\u001b[0m\u001b[0;34m.\u001b[0m\u001b[0mrun\u001b[0m\u001b[0;34m(\u001b[0m\u001b[0;34m)\u001b[0m\u001b[0;34m\u001b[0m\u001b[0m\n\u001b[0m",
        "\u001b[0;32m/Volumes/scratch/Notebooks/sitkpy/lib/python2.7/site-packages/nipype/pipeline/engine.pyc\u001b[0m in \u001b[0;36mrun\u001b[0;34m(self, plugin, plugin_args, updatehash)\u001b[0m\n\u001b[1;32m    698\u001b[0m         \u001b[0;32mif\u001b[0m \u001b[0mstr2bool\u001b[0m\u001b[0;34m(\u001b[0m\u001b[0mself\u001b[0m\u001b[0;34m.\u001b[0m\u001b[0mconfig\u001b[0m\u001b[0;34m[\u001b[0m\u001b[0;34m'execution'\u001b[0m\u001b[0;34m]\u001b[0m\u001b[0;34m[\u001b[0m\u001b[0;34m'create_report'\u001b[0m\u001b[0;34m]\u001b[0m\u001b[0;34m)\u001b[0m\u001b[0;34m:\u001b[0m\u001b[0;34m\u001b[0m\u001b[0m\n\u001b[1;32m    699\u001b[0m             \u001b[0mself\u001b[0m\u001b[0;34m.\u001b[0m\u001b[0m_write_report_info\u001b[0m\u001b[0;34m(\u001b[0m\u001b[0mself\u001b[0m\u001b[0;34m.\u001b[0m\u001b[0mbase_dir\u001b[0m\u001b[0;34m,\u001b[0m \u001b[0mself\u001b[0m\u001b[0;34m.\u001b[0m\u001b[0mname\u001b[0m\u001b[0;34m,\u001b[0m \u001b[0mexecgraph\u001b[0m\u001b[0;34m)\u001b[0m\u001b[0;34m\u001b[0m\u001b[0m\n\u001b[0;32m--> 700\u001b[0;31m         \u001b[0mrunner\u001b[0m\u001b[0;34m.\u001b[0m\u001b[0mrun\u001b[0m\u001b[0;34m(\u001b[0m\u001b[0mexecgraph\u001b[0m\u001b[0;34m,\u001b[0m \u001b[0mupdatehash\u001b[0m\u001b[0;34m=\u001b[0m\u001b[0mupdatehash\u001b[0m\u001b[0;34m,\u001b[0m \u001b[0mconfig\u001b[0m\u001b[0;34m=\u001b[0m\u001b[0mself\u001b[0m\u001b[0;34m.\u001b[0m\u001b[0mconfig\u001b[0m\u001b[0;34m)\u001b[0m\u001b[0;34m\u001b[0m\u001b[0m\n\u001b[0m\u001b[1;32m    701\u001b[0m         \u001b[0mdatestr\u001b[0m \u001b[0;34m=\u001b[0m \u001b[0mdatetime\u001b[0m\u001b[0;34m.\u001b[0m\u001b[0mutcnow\u001b[0m\u001b[0;34m(\u001b[0m\u001b[0;34m)\u001b[0m\u001b[0;34m.\u001b[0m\u001b[0mstrftime\u001b[0m\u001b[0;34m(\u001b[0m\u001b[0;34m'%Y%m%dT%H%M%S'\u001b[0m\u001b[0;34m)\u001b[0m\u001b[0;34m\u001b[0m\u001b[0m\n\u001b[1;32m    702\u001b[0m         \u001b[0;32mif\u001b[0m \u001b[0mstr2bool\u001b[0m\u001b[0;34m(\u001b[0m\u001b[0mself\u001b[0m\u001b[0;34m.\u001b[0m\u001b[0mconfig\u001b[0m\u001b[0;34m[\u001b[0m\u001b[0;34m'execution'\u001b[0m\u001b[0;34m]\u001b[0m\u001b[0;34m[\u001b[0m\u001b[0;34m'write_provenance'\u001b[0m\u001b[0;34m]\u001b[0m\u001b[0;34m)\u001b[0m\u001b[0;34m:\u001b[0m\u001b[0;34m\u001b[0m\u001b[0m\n",
        "\u001b[0;32m/Volumes/scratch/Notebooks/sitkpy/lib/python2.7/site-packages/nipype/pipeline/plugins/linear.pyc\u001b[0m in \u001b[0;36mrun\u001b[0;34m(self, graph, config, updatehash)\u001b[0m\n\u001b[1;32m     54\u001b[0m                 \u001b[0;32mif\u001b[0m \u001b[0mself\u001b[0m\u001b[0;34m.\u001b[0m\u001b[0m_status_callback\u001b[0m\u001b[0;34m:\u001b[0m\u001b[0;34m\u001b[0m\u001b[0m\n\u001b[1;32m     55\u001b[0m                     \u001b[0mself\u001b[0m\u001b[0;34m.\u001b[0m\u001b[0m_status_callback\u001b[0m\u001b[0;34m(\u001b[0m\u001b[0mnode\u001b[0m\u001b[0;34m,\u001b[0m \u001b[0;34m'exception'\u001b[0m\u001b[0;34m)\u001b[0m\u001b[0;34m\u001b[0m\u001b[0m\n\u001b[0;32m---> 56\u001b[0;31m         \u001b[0mreport_nodes_not_run\u001b[0m\u001b[0;34m(\u001b[0m\u001b[0mnotrun\u001b[0m\u001b[0;34m)\u001b[0m\u001b[0;34m\u001b[0m\u001b[0m\n\u001b[0m\u001b[1;32m     57\u001b[0m \u001b[0;34m\u001b[0m\u001b[0m\n",
        "\u001b[0;32m/Volumes/scratch/Notebooks/sitkpy/lib/python2.7/site-packages/nipype/pipeline/plugins/base.pyc\u001b[0m in \u001b[0;36mreport_nodes_not_run\u001b[0;34m(notrun)\u001b[0m\n\u001b[1;32m     90\u001b[0m                 \u001b[0mlogger\u001b[0m\u001b[0;34m.\u001b[0m\u001b[0mdebug\u001b[0m\u001b[0;34m(\u001b[0m\u001b[0msubnode\u001b[0m\u001b[0;34m.\u001b[0m\u001b[0m_id\u001b[0m\u001b[0;34m)\u001b[0m\u001b[0;34m\u001b[0m\u001b[0m\n\u001b[1;32m     91\u001b[0m         \u001b[0mlogger\u001b[0m\u001b[0;34m.\u001b[0m\u001b[0minfo\u001b[0m\u001b[0;34m(\u001b[0m\u001b[0;34m\"***********************************\"\u001b[0m\u001b[0;34m)\u001b[0m\u001b[0;34m\u001b[0m\u001b[0m\n\u001b[0;32m---> 92\u001b[0;31m         raise RuntimeError(('Workflow did not execute cleanly. '\n\u001b[0m\u001b[1;32m     93\u001b[0m                             'Check log for details'))\n\u001b[1;32m     94\u001b[0m \u001b[0;34m\u001b[0m\u001b[0m\n",
        "\u001b[0;31mRuntimeError\u001b[0m: Workflow did not execute cleanly. Check log for details"
       ]
      }
     ],
     "prompt_number": 9
    },
    {
     "cell_type": "code",
     "collapsed": false,
     "input": [],
     "language": "python",
     "metadata": {},
     "outputs": []
    },
    {
     "cell_type": "code",
     "collapsed": false,
     "input": [],
     "language": "python",
     "metadata": {},
     "outputs": []
    }
   ],
   "metadata": {}
  }
 ]
}