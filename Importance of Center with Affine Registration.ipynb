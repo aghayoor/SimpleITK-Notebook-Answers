{
 "metadata": {
  "name": ""
 },
 "nbformat": 3,
 "nbformat_minor": 0,
 "worksheets": [
  {
   "cells": [
    {
     "cell_type": "markdown",
     "metadata": {},
     "source": [
      "## How important is it to have the Center parameter correctly set for affine Registration?\n",
      "\n",
      "In this notebook we will register an image, with a resampled version of itself miss aligned by a little translation and a bit of rotation. We then first solve for the translation. The we run an affine registration which has been initialized with the center of the affine at the center of the mass. We then run the optimization with a affine which has not been centered.\n",
      "\n",
      "The plots of the registration process reveal the addtional parameter distance the non-centered transform has to traverse."
     ]
    },
    {
     "cell_type": "code",
     "collapsed": false,
     "input": [
      "from __future__ import print_function\n",
      "import SimpleITK as sitk\n",
      "print(sitk.Version())\n",
      "\n",
      "# import convenient method for inline displaying from sitk to pylab \n",
      "from myshow import myshow\n",
      "\n",
      "import numpy as np\n",
      "\n",
      "import matplotlib.pyplot as plt\n",
      "%matplotlib inline  "
     ],
     "language": "python",
     "metadata": {},
     "outputs": [],
     "prompt_number": null
    },
    {
     "cell_type": "code",
     "collapsed": false,
     "input": [
      "ITK_DATA_ROOT = \"/Users/blowekamp/src/ITK/Examples/Data/\"\n",
      "fixed = sitk.ReadImage(ITK_DATA_ROOT+\"BrainProtonDensitySliceBorder20.png\", sitk.sitkFloat32)\n",
      "moving = sitk.ReadImage(ITK_DATA_ROOT+\"BrainProtonDensitySliceR10X13Y17.png\", sitk.sitkFloat32)\n",
      "myshow(fixed, title=\"fixed\")\n",
      "myshow(moving, title=\"moving\")"
     ],
     "language": "python",
     "metadata": {},
     "outputs": [],
     "prompt_number": null
    },
    {
     "cell_type": "code",
     "collapsed": false,
     "input": [
      "def cshow(fixed, moving, transform=sitk.Transform(), title=\"\"):\n",
      "    f = sitk.ResampleImageFilter()\n",
      "    f.SetTransform(transform)\n",
      "    f.SetReferenceImage(fixed)\n",
      "    print(f.GetTransform)\n",
      "    out = f.Execute(moving)\n",
      "    fixed = sitk.Cast(sitk.RescaleIntensity(fixed),sitk.sitkUInt8)\n",
      "    out = sitk.Cast(sitk.RescaleIntensity(out),sitk.sitkUInt8)\n",
      "    myshow(sitk.Compose(out, out, sitk.Maximum(out,fixed)), title=title)\n",
      "cshow(fixed,moving)"
     ],
     "language": "python",
     "metadata": {},
     "outputs": [],
     "prompt_number": null
    },
    {
     "cell_type": "code",
     "collapsed": false,
     "input": [
      "def command_iteration(method) :\n",
      "    print(\"{0} = {1} : {2}\".format(method.GetOptimizerIteration(),\n",
      "                                   method.GetMetricValue(),\n",
      "                                   method.GetOptimizerPosition()), end='\\n');\n",
      "    sys.stdout.flush();\n",
      "\n",
      "def command_save_start(method):\n",
      "        global cmd_values, cmd_positions\n",
      "        cmd_values = np.array([])\n",
      "        cmd_positions = np.ndarray(shape=(0,len(method.GetTransform().GetParameters())))\n",
      "    \n",
      "def command_save_iteration(method):\n",
      "    global cmd_values, cmd_positions\n",
      "    cmd_values = np.concatenate((cmd_values,[method.GetMetricValue()]))\n",
      "    cmd_positions = np.concatenate((cmd_positions,[method.GetOptimizerPosition()]),axis=0)\n",
      "    \n",
      "\n",
      "def my_plot(values, positions, figtitle=\"\"):\n",
      "    from matplotlib.font_manager import FontProperties\n",
      "    \n",
      "    fig, (ax0, ax1) = plt.subplots(nrows=2)\n",
      "    \n",
      "    \n",
      "    if figtitle != \"\":\n",
      "        fig.text(0.5, 0.95, figtitle,\n",
      "               horizontalalignment='center',\n",
      "               fontproperties=FontProperties(size=16))\n",
      "    ax0.plot(range(len(values)),values)\n",
      "    ax0.set_title('Metric Value')\n",
      "    ax0.set_xlabel('value')\n",
      "    ax0.set_ylabel('iteration #')\n",
      "\n",
      "    ax1.plot(positions[:,-1],positions[:,-2])\n",
      "    ax1.set_title('Position')\n",
      "    ax1.set_xlabel('x translation')\n",
      "    ax1.set_ylabel('y translation')\n",
      "\n",
      "    plt.tight_layout()\n",
      "    plt.show()\n",
      "    \n",
      "    "
     ],
     "language": "python",
     "metadata": {},
     "outputs": [],
     "prompt_number": null
    },
    {
     "cell_type": "code",
     "collapsed": false,
     "input": [
      "initialTransform = sitk.TranslationTransform(fixed.GetDimension())"
     ],
     "language": "python",
     "metadata": {},
     "outputs": [],
     "prompt_number": null
    },
    {
     "cell_type": "code",
     "collapsed": false,
     "input": [
      "tx = sitk.Transform(initialTransform)\n",
      "tx.SetFixedParameters(tx.GetFixedParameters()) # hack to force deep copy, as registion is done in place..\n",
      "R = sitk.ImageRegistrationMethod()\n",
      "R.SetMetricAsMeanSquares()\n",
      "R.SetOptimizerAsRegularStepGradientDescent(1.0,minStep=1e-3,numberOfIterations=1000,estimateLearningRate=R.Once)\n",
      "R.SetOptimizerScalesFromIndexShift()\n",
      "R.SetShrinkFactorsPerLevel([1])\n",
      "R.SetSmoothingSigmasPerLevel([1])\n",
      "R.SetTransform(tx)\n",
      "R.SetInterpolator(sitk.sitkLinear)"
     ],
     "language": "python",
     "metadata": {},
     "outputs": [],
     "prompt_number": null
    },
    {
     "cell_type": "code",
     "collapsed": false,
     "input": [
      "R.RemoveAllCommands()\n",
      "R.AddCommand( sitk.sitkIterationEvent, lambda: command_iteration(R) )\n",
      "R.AddCommand( sitk.sitkStartEvent, lambda: command_save_start(R))\n",
      "R.AddCommand( sitk.sitkIterationEvent, lambda: command_save_iteration(R))\n",
      "outTx = R.Execute(sitk.Cast(fixed,sitk.sitkFloat32), sitk.Cast(moving,sitk.sitkFloat32))\n",
      "\n",
      "print(\"-------\")\n",
      "print(tx)\n",
      "print(\"Optimizer stop condition: {0}\".format(R.GetOptimizerStopConditionDescription()))\n",
      "print(\" Iteration: {0}\".format(R.GetOptimizerIteration()))\n",
      "print(\" Metric value: {0}\".format(R.GetMetricValue()))"
     ],
     "language": "python",
     "metadata": {},
     "outputs": [],
     "prompt_number": null
    },
    {
     "cell_type": "code",
     "collapsed": false,
     "input": [
      "cshow(fixed,moving,tx)\n",
      "my_plot(cmd_values, cmd_positions, figtitle=\"Translation Registration\")"
     ],
     "language": "python",
     "metadata": {},
     "outputs": [],
     "prompt_number": null
    },
    {
     "cell_type": "code",
     "collapsed": false,
     "input": [
      "tx = sitk.CenteredTransformInitializer(fixed, moving, sitk.AffineTransform(fixed.GetDimension()))\n",
      "R.SetTransform(tx)\n",
      "\n",
      "affineOut = R.Execute(fixed,moving)\n",
      "print(\"-------\")\n",
      "print(affineOut)\n",
      "print(\"Optimizer stop condition: {0}\".format(R.GetOptimizerStopConditionDescription()))\n",
      "print(\" Iteration: {0}\".format(R.GetOptimizerIteration()))\n",
      "print(\" Metric value: {0}\".format(R.GetMetricValue()))"
     ],
     "language": "python",
     "metadata": {},
     "outputs": [],
     "prompt_number": null
    },
    {
     "cell_type": "code",
     "collapsed": false,
     "input": [
      "cshow(fixed,moving,affineOut)\n",
      "my_plot(cmd_values, cmd_positions, figtitle=\"Affine with Center at Mass\")"
     ],
     "language": "python",
     "metadata": {},
     "outputs": [],
     "prompt_number": null
    },
    {
     "cell_type": "code",
     "collapsed": false,
     "input": [
      "tx = sitk.AffineTransform(fixed.GetDimension())\n",
      "tx.SetTranslation(outTx.GetParameters())\n",
      "R.SetTransform(tx)\n",
      "\n",
      "affineOut = R.Execute(fixed,moving)\n",
      "print(\"-------\")\n",
      "print(affineOut)\n",
      "print(\"Optimizer stop condition: {0}\".format(R.GetOptimizerStopConditionDescription()))\n",
      "print(\" Iteration: {0}\".format(R.GetOptimizerIteration()))\n",
      "print(\" Metric value: {0}\".format(R.GetMetricValue()))"
     ],
     "language": "python",
     "metadata": {},
     "outputs": [],
     "prompt_number": null
    },
    {
     "cell_type": "code",
     "collapsed": false,
     "input": [
      "cshow(fixed,moving,affineOut)\n",
      "my_plot(cmd_values, cmd_positions, figtitle=\"Affine with Center at Origin\")"
     ],
     "language": "python",
     "metadata": {},
     "outputs": [],
     "prompt_number": null
    },
    {
     "cell_type": "markdown",
     "metadata": {},
     "source": [
      "### Without correctly setting the center the regisration does not readily converge.\n",
      "\n",
      "The translation position has to change along with the rotation, because the axis of rotaion is not aligned. The make the optimization space have a narrow \"trough\" that the optimizer has to follow."
     ]
    },
    {
     "cell_type": "code",
     "collapsed": false,
     "input": [],
     "language": "python",
     "metadata": {},
     "outputs": []
    }
   ],
   "metadata": {}
  }
 ]
}