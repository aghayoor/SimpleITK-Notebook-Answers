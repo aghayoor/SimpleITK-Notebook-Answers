{
 "metadata": {
  "name": ""
 },
 "nbformat": 3,
 "nbformat_minor": 0,
 "worksheets": [
  {
   "cells": [
    {
     "cell_type": "code",
     "collapsed": false,
     "input": [
      "import SimpleITK as sitk\n",
      "print sitk.Version()\n",
      "\n",
      "# import convenient method for inline displaying from sitk to pylab \n",
      "from myshow import myshow"
     ],
     "language": "python",
     "metadata": {},
     "outputs": [],
     "prompt_number": null
    },
    {
     "cell_type": "code",
     "collapsed": false,
     "input": [
      "ITK_DATA_ROOT = \"/scratch/blowekamp/build/ITK/ExternalData/Testing/Data/Input/\"\n",
      "img = sitk.ReadImage(ITK_DATA_ROOT+\"Spots.png\")\n",
      "myshow(img)"
     ],
     "language": "python",
     "metadata": {},
     "outputs": [],
     "prompt_number": null
    },
    {
     "cell_type": "code",
     "collapsed": false,
     "input": [
      "img = sitk.ConnectedComponent(img==0)\n",
      "myshow(sitk.LabelToRGB(img))\n",
      "myshow(sitk.LabelToRGB((img==5)*5))"
     ],
     "language": "python",
     "metadata": {},
     "outputs": [],
     "prompt_number": null
    },
    {
     "cell_type": "code",
     "collapsed": false,
     "input": [
      "help(sitk.BinaryErodeImageFilter)"
     ],
     "language": "python",
     "metadata": {},
     "outputs": [],
     "prompt_number": null
    },
    {
     "cell_type": "code",
     "collapsed": false,
     "input": [
      "erodeFilter = sitk.BinaryErodeImageFilter()\n",
      "erodeFilter.SetKernelRadius(8)\n",
      "erodeFilter.SetForegroundValue(5)\n",
      "out = erodeFilter.Execute(img)"
     ],
     "language": "python",
     "metadata": {},
     "outputs": [],
     "prompt_number": null
    },
    {
     "cell_type": "code",
     "collapsed": false,
     "input": [
      "myshow(sitk.LabelToRGB(out))"
     ],
     "language": "python",
     "metadata": {},
     "outputs": [],
     "prompt_number": null
    }
   ],
   "metadata": {}
  }
 ]
}