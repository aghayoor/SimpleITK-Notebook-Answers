{
 "cells": [
  {
   "cell_type": "code",
   "execution_count": 2,
   "metadata": {
    "collapsed": false
   },
   "outputs": [
    {
     "name": "stdout",
     "output_type": "stream",
     "text": [
      "SimpleITK Version: 0.9.1\n",
      "Compiled: Sep 28 2015 10:07:41\n",
      "\n"
     ]
    }
   ],
   "source": [
    "## Boiler plate code common to many notebooks.  See the TestFilesCommonCode.ipynb for details\n",
    "from __future__ import print_function\n",
    "%run TestFilesCommonCode.ipynb"
   ]
  },
  {
   "cell_type": "code",
   "execution_count": 3,
   "metadata": {
    "collapsed": true
   },
   "outputs": [],
   "source": [
    "import os\n",
    "import glob\n",
    "import sys\n",
    "\n",
    "#\\/\\/\\/\\/\\/\\/\\/\\/\\/\\/\\/\\/\\/\\/\\/\\/\\/\\/\\/\\/\\/\\/\\/\\/\\/\\/\\/\\/\\/\\/\\/\\/\\/\\/\\/\\/\\/\\/\\/\\/\\/\\/\\/\n",
    "#####################################################################################\n",
    "#     Prepend the shell environment search paths\n",
    "PROGRAM_PATHS = '/scratch/NAMICExternalProjects/release-20160523/bin'\n",
    "#PROGRAM_PATHS = '/scratch/BS/release-BSR/bin'\n",
    "PROGRAM_PATHS = PROGRAM_PATHS.split(':')\n",
    "PROGRAM_PATHS.extend(os.environ['PATH'].split(':'))\n",
    "os.environ['PATH'] = ':'.join(PROGRAM_PATHS)\n",
    "\n",
    "CUSTOM_ENVIRONMENT=dict()\n",
    "\n",
    "# Platform specific information\n",
    "#     Prepend the python search paths\n",
    "#PYTHON_AUX_PATHS = '/scratch/BS/BRAINSTools/AutoWorkup'\n",
    "PYTHON_AUX_PATHS = '/scratch/SuperResolution/BRAINSSuperResolution/HCPWorkflows/'\n",
    "PYTHON_AUX_PATHS = PYTHON_AUX_PATHS.split(':')\n",
    "PYTHON_AUX_PATHS.extend(sys.path)\n",
    "sys.path = PYTHON_AUX_PATHS\n",
    "\n",
    "import SimpleITK as sitk\n",
    "import nipype\n",
    "from nipype.interfaces.base import CommandLine, CommandLineInputSpec, TraitedSpec, File, Directory\n",
    "from nipype.interfaces.base import traits, isdefined, BaseInterface\n",
    "from nipype.interfaces.utility import Merge, Split, Function, Rename, IdentityInterface\n",
    "import nipype.interfaces.io as nio   # Data i/oS\n",
    "import nipype.pipeline.engine as pe  # pypeline engine\n",
    "from nipype.interfaces.freesurfer import ReconAll\n",
    "from nipype.interfaces.ants import DenoiseImage\n",
    "from nipype.interfaces.semtools import *"
   ]
  },
  {
   "cell_type": "code",
   "execution_count": 4,
   "metadata": {
    "collapsed": false
   },
   "outputs": [],
   "source": [
    "DWI_baseline = '/scratch/TESTS/IpythonNotebook/20160615_HCPWF/mainWF/Outputs_backup/SuperResolution/DWI_Baseline.nrrd'\n",
    "DWI_sr_nn = '/scratch/TESTS/IpythonNotebook/20160615_HCPWF/mainWF/Outputs_backup/SuperResolution/DWI_SR_NN.nrrd'\n",
    "DWI_sr_ifft = '/scratch/TESTS/IpythonNotebook/20160615_HCPWF/mainWF/Outputs_backup/SuperResolution/DWI_SR_IFFT.nrrd'\n",
    "DWI_sr_tv = '/scratch/TESTS/IpythonNotebook/20160615_HCPWF/mainWF/Outputs_backup/SuperResolution/DWI_SR_TV.nrrd'\n",
    "DWI_sr_wtv = '/scratch/TESTS/IpythonNotebook/20160615_HCPWF/mainWF/Outputs_backup/SuperResolution/DWI_SR_WTV.nrrd'\n",
    "DWI_brainMask = '/scratch/TESTS/IpythonNotebook/20160615_HCPWF/mainWF/Outputs_backup/DWIBrainMask.nrrd'"
   ]
  },
  {
   "cell_type": "code",
   "execution_count": 5,
   "metadata": {
    "collapsed": true
   },
   "outputs": [],
   "source": [
    "output_dir = '/scratch/TESTS/IpythonNotebook/20160615_HCPWF/3_DistImagesWF/distImages_test'"
   ]
  },
  {
   "cell_type": "code",
   "execution_count": 44,
   "metadata": {
    "collapsed": false
   },
   "outputs": [],
   "source": [
    "DWI_sr = DWI_sr_nn\n",
    "sr_name = 'NN'"
   ]
  },
  {
   "cell_type": "code",
   "execution_count": 8,
   "metadata": {
    "collapsed": false
   },
   "outputs": [],
   "source": [
    "# read DWI nrrd files\n",
    "from ReadWriteNrrdDWI import ReadNAMICDWIFromNrrd, WriteNAMICDWIToNrrd\n",
    "data_base,nrrd_header_base,bvecs_base,bvals_base,grad_idx_base = ReadNAMICDWIFromNrrd(DWI_baseline)\n",
    "data_sr,nrrd_header_sr,bvecs_sr,bvals_sr,grad_idx_sr = ReadNAMICDWIFromNrrd(DWI_sr)\n",
    "# compute tensorfits\n",
    "from dipy.core.gradients import gradient_table\n",
    "from dipy.reconst.dti import TensorModel\n",
    "# base tensorfit\n",
    "gtab_base = gradient_table(bvals_base, bvecs_base)\n",
    "ten_base = TensorModel(gtab_base)\n",
    "tenfit_base = ten_base.fit(data_base)\n",
    "# super-res reconstructed tensorfit\n",
    "gtab_sr = gradient_table(bvals_sr, bvecs_sr)\n",
    "ten_sr = TensorModel(gtab_sr)\n",
    "tenfit_sr = ten_base.fit(data_sr)"
   ]
  },
  {
   "cell_type": "code",
   "execution_count": 41,
   "metadata": {
    "collapsed": true
   },
   "outputs": [],
   "source": [
    "mask = sitk.ReadImage(DWI_brainMask)\n",
    "mask_data = sitk.GetArrayFromImage(mask)\n",
    "#maskf = sitk.Cast(mask, sitk.sitkFloat64)"
   ]
  },
  {
   "cell_type": "code",
   "execution_count": 61,
   "metadata": {
    "collapsed": true
   },
   "outputs": [],
   "source": [
    "## create RIS error arrays\n",
    "fa_distance_arr = abs(tenfit_base.fa-tenfit_sr.fa)\n",
    "md_distance_arr = abs(tenfit_base.md-tenfit_sr.md)\n",
    "rd_distance_arr = abs(tenfit_base.rd-tenfit_sr.rd)\n",
    "ad_distance_arr = abs(tenfit_base.ad-tenfit_sr.ad)"
   ]
  },
  {
   "cell_type": "code",
   "execution_count": 62,
   "metadata": {
    "collapsed": false
   },
   "outputs": [],
   "source": [
    "## mask out the background\n",
    "fa_distance_arr = np.transpose(fa_distance_arr,(2, 1, 0))\n",
    "md_distance_arr = np.transpose(md_distance_arr,(2, 1, 0))\n",
    "rd_distance_arr = np.transpose(rd_distance_arr,(2, 1, 0))\n",
    "ad_distance_arr = np.transpose(ad_distance_arr,(2, 1, 0))\n",
    "#\n",
    "fa_distance_arr = fa_distance_arr*mask_data\n",
    "md_distance_arr = md_distance_arr*mask_data\n",
    "rd_distance_arr = rd_distance_arr*mask_data\n",
    "ad_distance_arr = ad_distance_arr*mask_data\n",
    "## clip outliers by computing 95 percentiles\n",
    "p = 99.7\n",
    "np.clip(fa_distance_arr, fa_distance_arr.min(), np.percentile(fa_distance_arr,p), fa_distance_arr)\n",
    "np.clip(md_distance_arr, md_distance_arr.min(), np.percentile(md_distance_arr,p), md_distance_arr)\n",
    "np.clip(rd_distance_arr, rd_distance_arr.min(), np.percentile(rd_distance_arr,p), rd_distance_arr)\n",
    "np.clip(ad_distance_arr, ad_distance_arr.min(), np.percentile(ad_distance_arr,p), ad_distance_arr)\n",
    "## create RIS error images\n",
    "fa_distance_image = sitk.GetImageFromArray(fa_distance_arr)\n",
    "fa_distance_image.CopyInformation(mask)\n",
    "#\n",
    "md_distance_image = sitk.GetImageFromArray(md_distance_arr)\n",
    "md_distance_image.CopyInformation(mask)\n",
    "#\n",
    "rd_distance_image = sitk.GetImageFromArray(rd_distance_arr)\n",
    "rd_distance_image.CopyInformation(mask)\n",
    "#\n",
    "ad_distance_image = sitk.GetImageFromArray(ad_distance_arr)\n",
    "ad_distance_image.CopyInformation(mask)"
   ]
  },
  {
   "cell_type": "code",
   "execution_count": 63,
   "metadata": {
    "collapsed": false
   },
   "outputs": [
    {
     "data": {
      "image/png": "[encoded data removed]",
      "text/plain": [
       "<matplotlib.figure.Figure at 0x12d751f50>"
      ]
     },
     "metadata": {},
     "output_type": "display_data"
    },
    {
     "data": {
      "image/png": "[encoded data removed]",
      "text/plain": [
       "<matplotlib.figure.Figure at 0x12d751710>"
      ]
     },
     "metadata": {},
     "output_type": "display_data"
    },
    {
     "data": {
      "image/png": "[encoded data removed]",
      "text/plain": [
       "<matplotlib.figure.Figure at 0x12d6deed0>"
      ]
     },
     "metadata": {},
     "output_type": "display_data"
    },
    {
     "data": {
      "image/png": "[encoded data removed]",
      "text/plain": [
       "<matplotlib.figure.Figure at 0x132109a10>"
      ]
     },
     "metadata": {},
     "output_type": "display_data"
    }
   ],
   "source": [
    "myshow(fa_distance_image)\n",
    "myshow(md_distance_image)\n",
    "myshow(rd_distance_image)\n",
    "myshow(ad_distance_image)"
   ]
  },
  {
   "cell_type": "code",
   "execution_count": 64,
   "metadata": {
    "collapsed": true
   },
   "outputs": [],
   "source": [
    "fa_distance_image_fn = os.path.join(output_dir,sr_name + '_FA_distance.nrrd')\n",
    "md_distance_image_fn = os.path.join(output_dir,sr_name + '_MD_distance.nrrd')\n",
    "rd_distance_image_fn = os.path.join(output_dir,sr_name + '_RD_distance.nrrd')\n",
    "ad_distance_image_fn = os.path.join(output_dir,sr_name + '_AD_distance.nrrd')\n",
    "# frobenius_distance_image_fn = os.path.join(output_dir,sr_name + '_Frobenius_distance.nrrd')\n",
    "# logeuclid_distance_image_fn = os.path.join(output_dir,sr_name + '_Logeuclid_distance.nrrd')\n",
    "# reimann_distance_image_fn = os.path.join(output_dir,sr_name + '_Reimann_distance.nrrd')\n",
    "# kullback_distance_image_fn = os.path.join(output_dir,sr_name + '_Kullback_distance.nrrd')"
   ]
  },
  {
   "cell_type": "code",
   "execution_count": 65,
   "metadata": {
    "collapsed": false
   },
   "outputs": [],
   "source": [
    "## Write out the distance images\n",
    "sitk.WriteImage(fa_distance_image,fa_distance_image_fn)\n",
    "sitk.WriteImage(md_distance_image,md_distance_image_fn)\n",
    "sitk.WriteImage(rd_distance_image,rd_distance_image_fn)\n",
    "sitk.WriteImage(ad_distance_image,ad_distance_image_fn)\n",
    "# sitk.WriteImage(frobenius_distance_image,frobenius_distance_image_fn)\n",
    "# sitk.WriteImage(logeuclid_distance_image,logeuclid_distance_image_fn)\n",
    "# sitk.WriteImage(reimann_distance_image,reimann_distance_image_fn)\n",
    "# sitk.WriteImage(kullback_distance_image,kullback_distance_image_fn)"
   ]
  },
  {
   "cell_type": "code",
   "execution_count": 67,
   "metadata": {
    "collapsed": false
   },
   "outputs": [],
   "source": [
    "# # Do sum tests\n",
    "# statFilter = sitk.StatisticsImageFilter()\n",
    "# print('-----AD-------')\n",
    "# statFilter.Execute(fa_distance_image)\n",
    "# print(statFilter.GetMaximum())\n",
    "# print(statFilter.GetMinimum())\n",
    "# print(statFilter.GetMean())\n",
    "# print('-----MD-------')\n",
    "# statFilter.Execute(md_distance_image)\n",
    "# print(statFilter.GetMaximum())\n",
    "# print(statFilter.GetMinimum())\n",
    "# print(statFilter.GetMean())\n",
    "# print('-----RD-------')\n",
    "# statFilter.Execute(rd_distance_image)\n",
    "# print(statFilter.GetMaximum())\n",
    "# print(statFilter.GetMinimum())\n",
    "# print(statFilter.GetMean())\n",
    "# print('-----AD-------')\n",
    "# statFilter.Execute(ad_distance_image)\n",
    "# print(statFilter.GetMaximum())\n",
    "# print(statFilter.GetMinimum())\n",
    "# print(statFilter.GetMean())\n",
    "\n",
    "# ## NN_base images (using outlier of %95)\n",
    "# print('===================================')\n",
    "# fa_fn = '/scratch/TESTS/IpythonNotebook/20160615_HCPWF/mainWF/NN_dist_images/NN_FA_distance.nrrd'\n",
    "# md_fn = '/scratch/TESTS/IpythonNotebook/20160615_HCPWF/mainWF/NN_dist_images/NN_MD_distance.nrrd'\n",
    "# rd_fn = '/scratch/TESTS/IpythonNotebook/20160615_HCPWF/mainWF/NN_dist_images/NN_RD_distance.nrrd'\n",
    "# ad_fn = '/scratch/TESTS/IpythonNotebook/20160615_HCPWF/mainWF/NN_dist_images/NN_AD_distance.nrrd'\n",
    "# fa = sitk.ReadImage(fa_fn)\n",
    "# md = sitk.ReadImage(md_fn)\n",
    "# rd = sitk.ReadImage(rd_fn)\n",
    "# ad = sitk.ReadImage(ad_fn)\n",
    "# print('-----AD-------')\n",
    "# statFilter.Execute(fa)\n",
    "# print(statFilter.GetMaximum())\n",
    "# print(statFilter.GetMinimum())\n",
    "# print(statFilter.GetMean())\n",
    "# print('-----MD-------')\n",
    "# statFilter.Execute(md)\n",
    "# print(statFilter.GetMaximum())\n",
    "# print(statFilter.GetMinimum())\n",
    "# print(statFilter.GetMean())\n",
    "# print('-----RD-------')\n",
    "# statFilter.Execute(rd)\n",
    "# print(statFilter.GetMaximum())\n",
    "# print(statFilter.GetMinimum())\n",
    "# print(statFilter.GetMean())\n",
    "# print('-----AD-------')\n",
    "# statFilter.Execute(ad)\n",
    "# print(statFilter.GetMaximum())\n",
    "# print(statFilter.GetMinimum())\n",
    "# print(statFilter.GetMean())"
   ]
  },
  {
   "cell_type": "code",
   "execution_count": 73,
   "metadata": {
    "collapsed": false
   },
   "outputs": [],
   "source": [
    "### NOW work on tensor error images"
   ]
  },
  {
   "cell_type": "code",
   "execution_count": 221,
   "metadata": {
    "collapsed": false
   },
   "outputs": [
    {
     "name": "stdout",
     "output_type": "stream",
     "text": [
      "(145, 174, 145, 3, 3)\n",
      "(145, 174, 145, 3, 3)\n"
     ]
    }
   ],
   "source": [
    "print(tenfit_base.quadratic_form.shape)\n",
    "print(tenfit_sr.quadratic_form.shape)"
   ]
  },
  {
   "cell_type": "code",
   "execution_count": 222,
   "metadata": {
    "collapsed": false
   },
   "outputs": [
    {
     "name": "stdout",
     "output_type": "stream",
     "text": [
      "(15, 15, 15, 3, 3)\n",
      "(15, 15, 15, 3, 3)\n"
     ]
    }
   ],
   "source": [
    "test_tenfit_base = tenfit_base.quadratic_form[65:80,80:95,65:80]\n",
    "test_tenfit_sr = tenfit_sr.quadratic_form[65:80,80:95,65:80]\n",
    "print(test_tenfit_base.shape)\n",
    "print(test_tenfit_sr.shape)"
   ]
  },
  {
   "cell_type": "code",
   "execution_count": 223,
   "metadata": {
    "collapsed": true
   },
   "outputs": [],
   "source": [
    "from scipy.linalg import logm\n",
    "from scipy.linalg import eigvalsh # eigvalsh(A,B) is joint eigenvalues of A and B\n",
    "#########\n",
    "### distance functions ###\n",
    "# Frobenius distance\n",
    "def distance_euclid(A, B):\n",
    "    return np.linalg.norm(A - B, ord='fro')\n",
    "# Log-Euclidian distance\n",
    "def distance_logeuclid(A, B):\n",
    "    return distance_euclid(logm(A),logm(B))\n",
    "# Reimannian distance\n",
    "def distance_reimann(A, B):\n",
    "    return np.sqrt((np.log(eigvalsh(A,B))**2).sum())\n",
    "# Kullback-Leibler distance\n",
    "def distance_kullback(A, B):\n",
    "    dim = A.shape[0]\n",
    "    kl = np.sqrt( np.trace( np.dot(np.linalg.inv(A),B)+np.dot(np.linalg.inv(B),A) ) - 2*dim )\n",
    "    return 0.5*kl\n",
    "######### "
   ]
  },
  {
   "cell_type": "code",
   "execution_count": 224,
   "metadata": {
    "collapsed": false
   },
   "outputs": [
    {
     "name": "stdout",
     "output_type": "stream",
     "text": [
      "[15, 15, 15]\n"
     ]
    }
   ],
   "source": [
    "size = [test_tenfit_base.shape[0],test_tenfit_base.shape[1],test_tenfit_base.shape[2]]\n",
    "print(size)\n",
    "frobenius_distance_arr = np.empty(size, dtype=float)\n",
    "logeuclid_distance_arr = np.empty(size, dtype=float)\n",
    "reimann_distance_arr = np.empty(size, dtype=float)\n",
    "kullback_distance_arr = np.empty(size, dtype=float)"
   ]
  },
  {
   "cell_type": "code",
   "execution_count": 225,
   "metadata": {
    "collapsed": true
   },
   "outputs": [],
   "source": [
    "from itertools import product\n",
    "import time"
   ]
  },
  {
   "cell_type": "code",
   "execution_count": 252,
   "metadata": {
    "collapsed": false
   },
   "outputs": [
    {
     "name": "stdout",
     "output_type": "stream",
     "text": [
      "for loop took:  0.656296014786\n"
     ]
    }
   ],
   "source": [
    "t = time.time()\n",
    "for i, idx in enumerate(product(xrange(size[0]),xrange(size[1]),xrange(size[2]))):\n",
    "    #frobenius_distance_arr[idx] = distance_euclid(test_tenfit_base[idx], test_tenfit_sr[idx])\n",
    "    #logeuclid_distance_arr[idx] = distance_logeuclid(test_tenfit_base[idx], test_tenfit_sr[idx])\n",
    "    reimann_distance_arr[idx] = distance_reimann(test_tenfit_base[idx], test_tenfit_sr[idx])\n",
    "    #kullback_distance_arr[idx] = distance_kullback(test_tenfit_base[idx], test_tenfit_sr[idx])\n",
    "elapsed = time.time() - t\n",
    "print('for loop took: ', elapsed)"
   ]
  },
  {
   "cell_type": "code",
   "execution_count": 227,
   "metadata": {
    "collapsed": false
   },
   "outputs": [
    {
     "name": "stdout",
     "output_type": "stream",
     "text": [
      "for loop took:  0.744137048721\n"
     ]
    }
   ],
   "source": [
    "t = time.time()\n",
    "for i in xrange(size[0]):\n",
    "        for j in xrange(size[1]):\n",
    "            for k in xrange(size[2]):\n",
    "                frobenius_distance_arr[i,j,k] = distance_euclid(test_tenfit_base[i,j,k], test_tenfit_sr[i,j,k])\n",
    "                #logeuclid_distance_arr[i,j,k] = distance_logeuclid(test_tenfit_base[i,j,k], test_tenfit_sr[i,j,k])\n",
    "                reimann_distance_arr[i,j,k] = distance_reimann(test_tenfit_base[i,j,k], test_tenfit_sr[i,j,k])\n",
    "                kullback_distance_arr[i,j,k] = distance_kullback(test_tenfit_base[i,j,k], test_tenfit_sr[i,j,k])\n",
    "elapsed = time.time() - t\n",
    "print('for loop took: ', elapsed)"
   ]
  },
  {
   "cell_type": "code",
   "execution_count": 228,
   "metadata": {
    "collapsed": false
   },
   "outputs": [
    {
     "name": "stdout",
     "output_type": "stream",
     "text": [
      "for loop took:  0.66806602478\n"
     ]
    }
   ],
   "source": [
    "t = time.time()\n",
    "frobenius_distance_list = [distance_euclid(test_tenfit_base[idx], test_tenfit_sr[idx]) \n",
    "                           for i, idx in enumerate(product(xrange(size[0]),xrange(size[1]),xrange(size[2])))]\n",
    "#logeuclid_distance_list = [distance_logeuclid(test_tenfit_base[idx], test_tenfit_sr[idx]) \n",
    "#                           for i, idx in enumerate(product(xrange(size[0]),xrange(size[1]),xrange(size[2])))]\n",
    "reimann_distance_list = [distance_reimann(test_tenfit_base[idx], test_tenfit_sr[idx]) \n",
    "                         for i, idx in enumerate(product(xrange(size[0]),xrange(size[1]),xrange(size[2])))]\n",
    "kullback_distance_list = [distance_kullback(test_tenfit_base[idx], test_tenfit_sr[idx]) \n",
    "                          for i, idx in enumerate(product(xrange(size[0]),xrange(size[1]),xrange(size[2])))]\n",
    "#\n",
    "frobenius_distance_arr = np.array(frobenius_distance_list).reshape(size)\n",
    "logeuclid_distance_arr = np.array(logeuclid_distance_list).reshape(size)\n",
    "reimann_distance_arr = np.array(reimann_distance_list).reshape(size)\n",
    "kullback_distance_arr = np.array(kullback_distance_list).reshape(size)\n",
    "elapsed = time.time() - t\n",
    "print('for loop took: ', elapsed)"
   ]
  },
  {
   "cell_type": "code",
   "execution_count": 246,
   "metadata": {
    "collapsed": false
   },
   "outputs": [],
   "source": [
    "logeuclid_distance_arr = np.empty(size, dtype=float)\n",
    "logeuclid_distance_arr.fill(0)"
   ]
  },
  {
   "cell_type": "code",
   "execution_count": 249,
   "metadata": {
    "collapsed": false
   },
   "outputs": [
    {
     "name": "stdout",
     "output_type": "stream",
     "text": [
      "0.0\n"
     ]
    }
   ],
   "source": [
    "#print(logeuclid_distance_arr)\n",
    "print(np.min(logeuclid_distance_arr))"
   ]
  },
  {
   "cell_type": "code",
   "execution_count": null,
   "metadata": {
    "collapsed": true
   },
   "outputs": [],
   "source": []
  },
  {
   "cell_type": "code",
   "execution_count": null,
   "metadata": {
    "collapsed": true
   },
   "outputs": [],
   "source": []
  },
  {
   "cell_type": "code",
   "execution_count": null,
   "metadata": {
    "collapsed": true
   },
   "outputs": [],
   "source": []
  },
  {
   "cell_type": "code",
   "execution_count": 93,
   "metadata": {
    "collapsed": true
   },
   "outputs": [],
   "source": [
    "v_eunclid = np.vectorize(distance_euclid, excluded={4,5})"
   ]
  },
  {
   "cell_type": "code",
   "execution_count": 94,
   "metadata": {
    "collapsed": false
   },
   "outputs": [
    {
     "ename": "ValueError",
     "evalue": "Improper number of dimensions to norm.",
     "output_type": "error",
     "traceback": [
      "\u001b[0;31m---------------------------------------------------------------------------\u001b[0m",
      "\u001b[0;31mValueError\u001b[0m                                Traceback (most recent call last)",
      "\u001b[0;32m<ipython-input-94-e6520b9d0a45>\u001b[0m in \u001b[0;36m<module>\u001b[0;34m()\u001b[0m\n\u001b[0;32m----> 1\u001b[0;31m \u001b[0mout\u001b[0m \u001b[0;34m=\u001b[0m \u001b[0mv_eunclid\u001b[0m\u001b[0;34m(\u001b[0m\u001b[0mtenfit_base\u001b[0m\u001b[0;34m.\u001b[0m\u001b[0mquadratic_form\u001b[0m\u001b[0;34m,\u001b[0m\u001b[0mtenfit_sr\u001b[0m\u001b[0;34m.\u001b[0m\u001b[0mquadratic_form\u001b[0m\u001b[0;34m)\u001b[0m\u001b[0;34m\u001b[0m\u001b[0m\n\u001b[0m",
      "\u001b[0;32m/IPLlinux/raid0/homes/aghayoor/anaconda/lib/python2.7/site-packages/numpy/lib/function_base.pyc\u001b[0m in \u001b[0;36m__call__\u001b[0;34m(self, *args, **kwargs)\u001b[0m\n\u001b[1;32m   2216\u001b[0m             \u001b[0mvargs\u001b[0m\u001b[0;34m.\u001b[0m\u001b[0mextend\u001b[0m\u001b[0;34m(\u001b[0m\u001b[0;34m[\u001b[0m\u001b[0mkwargs\u001b[0m\u001b[0;34m[\u001b[0m\u001b[0m_n\u001b[0m\u001b[0;34m]\u001b[0m \u001b[0;32mfor\u001b[0m \u001b[0m_n\u001b[0m \u001b[0;32min\u001b[0m \u001b[0mnames\u001b[0m\u001b[0;34m]\u001b[0m\u001b[0;34m)\u001b[0m\u001b[0;34m\u001b[0m\u001b[0m\n\u001b[1;32m   2217\u001b[0m \u001b[0;34m\u001b[0m\u001b[0m\n\u001b[0;32m-> 2218\u001b[0;31m         \u001b[0;32mreturn\u001b[0m \u001b[0mself\u001b[0m\u001b[0;34m.\u001b[0m\u001b[0m_vectorize_call\u001b[0m\u001b[0;34m(\u001b[0m\u001b[0mfunc\u001b[0m\u001b[0;34m=\u001b[0m\u001b[0mfunc\u001b[0m\u001b[0;34m,\u001b[0m \u001b[0margs\u001b[0m\u001b[0;34m=\u001b[0m\u001b[0mvargs\u001b[0m\u001b[0;34m)\u001b[0m\u001b[0;34m\u001b[0m\u001b[0m\n\u001b[0m\u001b[1;32m   2219\u001b[0m \u001b[0;34m\u001b[0m\u001b[0m\n\u001b[1;32m   2220\u001b[0m     \u001b[0;32mdef\u001b[0m \u001b[0m_get_ufunc_and_otypes\u001b[0m\u001b[0;34m(\u001b[0m\u001b[0mself\u001b[0m\u001b[0;34m,\u001b[0m \u001b[0mfunc\u001b[0m\u001b[0;34m,\u001b[0m \u001b[0margs\u001b[0m\u001b[0;34m)\u001b[0m\u001b[0;34m:\u001b[0m\u001b[0;34m\u001b[0m\u001b[0m\n",
      "\u001b[0;32m/IPLlinux/raid0/homes/aghayoor/anaconda/lib/python2.7/site-packages/numpy/lib/function_base.pyc\u001b[0m in \u001b[0;36m_vectorize_call\u001b[0;34m(self, func, args)\u001b[0m\n\u001b[1;32m   2279\u001b[0m             \u001b[0m_res\u001b[0m \u001b[0;34m=\u001b[0m \u001b[0mfunc\u001b[0m\u001b[0;34m(\u001b[0m\u001b[0;34m)\u001b[0m\u001b[0;34m\u001b[0m\u001b[0m\n\u001b[1;32m   2280\u001b[0m         \u001b[0;32melse\u001b[0m\u001b[0;34m:\u001b[0m\u001b[0;34m\u001b[0m\u001b[0m\n\u001b[0;32m-> 2281\u001b[0;31m             \u001b[0mufunc\u001b[0m\u001b[0;34m,\u001b[0m \u001b[0motypes\u001b[0m \u001b[0;34m=\u001b[0m \u001b[0mself\u001b[0m\u001b[0;34m.\u001b[0m\u001b[0m_get_ufunc_and_otypes\u001b[0m\u001b[0;34m(\u001b[0m\u001b[0mfunc\u001b[0m\u001b[0;34m=\u001b[0m\u001b[0mfunc\u001b[0m\u001b[0;34m,\u001b[0m \u001b[0margs\u001b[0m\u001b[0;34m=\u001b[0m\u001b[0margs\u001b[0m\u001b[0;34m)\u001b[0m\u001b[0;34m\u001b[0m\u001b[0m\n\u001b[0m\u001b[1;32m   2282\u001b[0m \u001b[0;34m\u001b[0m\u001b[0m\n\u001b[1;32m   2283\u001b[0m             \u001b[0;31m# Convert args to object arrays first\u001b[0m\u001b[0;34m\u001b[0m\u001b[0;34m\u001b[0m\u001b[0m\n",
      "\u001b[0;32m/IPLlinux/raid0/homes/aghayoor/anaconda/lib/python2.7/site-packages/numpy/lib/function_base.pyc\u001b[0m in \u001b[0;36m_get_ufunc_and_otypes\u001b[0;34m(self, func, args)\u001b[0m\n\u001b[1;32m   2241\u001b[0m             \u001b[0;31m# arrays (the input values are not checked to ensure this)\u001b[0m\u001b[0;34m\u001b[0m\u001b[0;34m\u001b[0m\u001b[0m\n\u001b[1;32m   2242\u001b[0m             \u001b[0minputs\u001b[0m \u001b[0;34m=\u001b[0m \u001b[0;34m[\u001b[0m\u001b[0masarray\u001b[0m\u001b[0;34m(\u001b[0m\u001b[0m_a\u001b[0m\u001b[0;34m)\u001b[0m\u001b[0;34m.\u001b[0m\u001b[0mflat\u001b[0m\u001b[0;34m[\u001b[0m\u001b[0;36m0\u001b[0m\u001b[0;34m]\u001b[0m \u001b[0;32mfor\u001b[0m \u001b[0m_a\u001b[0m \u001b[0;32min\u001b[0m \u001b[0margs\u001b[0m\u001b[0;34m]\u001b[0m\u001b[0;34m\u001b[0m\u001b[0m\n\u001b[0;32m-> 2243\u001b[0;31m             \u001b[0moutputs\u001b[0m \u001b[0;34m=\u001b[0m \u001b[0mfunc\u001b[0m\u001b[0;34m(\u001b[0m\u001b[0;34m*\u001b[0m\u001b[0minputs\u001b[0m\u001b[0;34m)\u001b[0m\u001b[0;34m\u001b[0m\u001b[0m\n\u001b[0m\u001b[1;32m   2244\u001b[0m \u001b[0;34m\u001b[0m\u001b[0m\n\u001b[1;32m   2245\u001b[0m             \u001b[0;31m# Performance note: profiling indicates that -- for simple\u001b[0m\u001b[0;34m\u001b[0m\u001b[0;34m\u001b[0m\u001b[0m\n",
      "\u001b[0;32m/IPLlinux/raid0/homes/aghayoor/anaconda/lib/python2.7/site-packages/numpy/lib/function_base.pyc\u001b[0m in \u001b[0;36mfunc\u001b[0;34m(*vargs)\u001b[0m\n\u001b[1;32m   2211\u001b[0m                     \u001b[0mthe_args\u001b[0m\u001b[0;34m[\u001b[0m\u001b[0m_i\u001b[0m\u001b[0;34m]\u001b[0m \u001b[0;34m=\u001b[0m \u001b[0mvargs\u001b[0m\u001b[0;34m[\u001b[0m\u001b[0m_n\u001b[0m\u001b[0;34m]\u001b[0m\u001b[0;34m\u001b[0m\u001b[0m\n\u001b[1;32m   2212\u001b[0m                 \u001b[0mkwargs\u001b[0m\u001b[0;34m.\u001b[0m\u001b[0mupdate\u001b[0m\u001b[0;34m(\u001b[0m\u001b[0mzip\u001b[0m\u001b[0;34m(\u001b[0m\u001b[0mnames\u001b[0m\u001b[0;34m,\u001b[0m \u001b[0mvargs\u001b[0m\u001b[0;34m[\u001b[0m\u001b[0mlen\u001b[0m\u001b[0;34m(\u001b[0m\u001b[0minds\u001b[0m\u001b[0;34m)\u001b[0m\u001b[0;34m:\u001b[0m\u001b[0;34m]\u001b[0m\u001b[0;34m)\u001b[0m\u001b[0;34m)\u001b[0m\u001b[0;34m\u001b[0m\u001b[0m\n\u001b[0;32m-> 2213\u001b[0;31m                 \u001b[0;32mreturn\u001b[0m \u001b[0mself\u001b[0m\u001b[0;34m.\u001b[0m\u001b[0mpyfunc\u001b[0m\u001b[0;34m(\u001b[0m\u001b[0;34m*\u001b[0m\u001b[0mthe_args\u001b[0m\u001b[0;34m,\u001b[0m \u001b[0;34m**\u001b[0m\u001b[0mkwargs\u001b[0m\u001b[0;34m)\u001b[0m\u001b[0;34m\u001b[0m\u001b[0m\n\u001b[0m\u001b[1;32m   2214\u001b[0m \u001b[0;34m\u001b[0m\u001b[0m\n\u001b[1;32m   2215\u001b[0m             \u001b[0mvargs\u001b[0m \u001b[0;34m=\u001b[0m \u001b[0;34m[\u001b[0m\u001b[0margs\u001b[0m\u001b[0;34m[\u001b[0m\u001b[0m_i\u001b[0m\u001b[0;34m]\u001b[0m \u001b[0;32mfor\u001b[0m \u001b[0m_i\u001b[0m \u001b[0;32min\u001b[0m \u001b[0minds\u001b[0m\u001b[0;34m]\u001b[0m\u001b[0;34m\u001b[0m\u001b[0m\n",
      "\u001b[0;32m<ipython-input-80-49132dcdda1d>\u001b[0m in \u001b[0;36mdistance_euclid\u001b[0;34m(A, B)\u001b[0m\n\u001b[1;32m      1\u001b[0m \u001b[0;32mdef\u001b[0m \u001b[0mdistance_euclid\u001b[0m\u001b[0;34m(\u001b[0m\u001b[0mA\u001b[0m\u001b[0;34m,\u001b[0m \u001b[0mB\u001b[0m\u001b[0;34m)\u001b[0m\u001b[0;34m:\u001b[0m\u001b[0;34m\u001b[0m\u001b[0m\n\u001b[0;32m----> 2\u001b[0;31m     \u001b[0;32mreturn\u001b[0m \u001b[0mnp\u001b[0m\u001b[0;34m.\u001b[0m\u001b[0mlinalg\u001b[0m\u001b[0;34m.\u001b[0m\u001b[0mnorm\u001b[0m\u001b[0;34m(\u001b[0m\u001b[0mA\u001b[0m \u001b[0;34m-\u001b[0m \u001b[0mB\u001b[0m\u001b[0;34m,\u001b[0m \u001b[0mord\u001b[0m\u001b[0;34m=\u001b[0m\u001b[0;34m'fro'\u001b[0m\u001b[0;34m)\u001b[0m\u001b[0;34m\u001b[0m\u001b[0m\n\u001b[0m",
      "\u001b[0;32m/IPLlinux/raid0/homes/aghayoor/anaconda/lib/python2.7/site-packages/numpy/linalg/linalg.pyc\u001b[0m in \u001b[0;36mnorm\u001b[0;34m(x, ord, axis, keepdims)\u001b[0m\n\u001b[1;32m   2222\u001b[0m         \u001b[0;32mreturn\u001b[0m \u001b[0mret\u001b[0m\u001b[0;34m\u001b[0m\u001b[0m\n\u001b[1;32m   2223\u001b[0m     \u001b[0;32melse\u001b[0m\u001b[0;34m:\u001b[0m\u001b[0;34m\u001b[0m\u001b[0m\n\u001b[0;32m-> 2224\u001b[0;31m         \u001b[0;32mraise\u001b[0m \u001b[0mValueError\u001b[0m\u001b[0;34m(\u001b[0m\u001b[0;34m\"Improper number of dimensions to norm.\"\u001b[0m\u001b[0;34m)\u001b[0m\u001b[0;34m\u001b[0m\u001b[0m\n\u001b[0m\u001b[1;32m   2225\u001b[0m \u001b[0;34m\u001b[0m\u001b[0m\n\u001b[1;32m   2226\u001b[0m \u001b[0;34m\u001b[0m\u001b[0m\n",
      "\u001b[0;31mValueError\u001b[0m: Improper number of dimensions to norm."
     ]
    }
   ],
   "source": [
    "out = v_eunclid(tenfit_base.quadratic_form,tenfit_sr.quadratic_form)"
   ]
  },
  {
   "cell_type": "code",
   "execution_count": null,
   "metadata": {
    "collapsed": true
   },
   "outputs": [],
   "source": []
  },
  {
   "cell_type": "code",
   "execution_count": null,
   "metadata": {
    "collapsed": true
   },
   "outputs": [],
   "source": []
  },
  {
   "cell_type": "code",
   "execution_count": null,
   "metadata": {
    "collapsed": true
   },
   "outputs": [],
   "source": []
  },
  {
   "cell_type": "code",
   "execution_count": null,
   "metadata": {
    "collapsed": true
   },
   "outputs": [],
   "source": []
  },
  {
   "cell_type": "code",
   "execution_count": null,
   "metadata": {
    "collapsed": true
   },
   "outputs": [],
   "source": []
  },
  {
   "cell_type": "code",
   "execution_count": null,
   "metadata": {
    "collapsed": true
   },
   "outputs": [],
   "source": []
  },
  {
   "cell_type": "code",
   "execution_count": null,
   "metadata": {
    "collapsed": true
   },
   "outputs": [],
   "source": []
  },
  {
   "cell_type": "code",
   "execution_count": null,
   "metadata": {
    "collapsed": true
   },
   "outputs": [],
   "source": []
  }
 ],
 "metadata": {
  "kernelspec": {
   "display_name": "Python 2",
   "language": "python",
   "name": "python2"
  },
  "language_info": {
   "codemirror_mode": {
    "name": "ipython",
    "version": 2
   },
   "file_extension": ".py",
   "mimetype": "text/x-python",
   "name": "python",
   "nbconvert_exporter": "python",
   "pygments_lexer": "ipython2",
   "version": "2.7.11"
  }
 },
 "nbformat": 4,
 "nbformat_minor": 0
}
