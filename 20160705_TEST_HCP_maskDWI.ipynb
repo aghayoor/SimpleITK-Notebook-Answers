{
 "cells": [
  {
   "cell_type": "code",
   "execution_count": 1,
   "metadata": {
    "collapsed": false
   },
   "outputs": [
    {
     "name": "stdout",
     "output_type": "stream",
     "text": [
      "SimpleITK Version: 0.9.1\n",
      "Compiled: Sep 28 2015 10:07:41\n",
      "\n"
     ]
    }
   ],
   "source": [
    "## Boiler plate code common to many notebooks.  See the TestFilesCommonCode.ipynb for details\n",
    "from __future__ import print_function\n",
    "%run TestFilesCommonCode.ipynb"
   ]
  },
  {
   "cell_type": "code",
   "execution_count": 2,
   "metadata": {
    "collapsed": true
   },
   "outputs": [],
   "source": [
    "#dwi_fn='/scratch/TESTS/IpythonNotebook/20160615_HCPWF/mainWF/Outputs/DWI_Baseline.nrrd'\n",
    "dwi_fn='/scratch/TESTS/IpythonNotebook/20160615_HCPWF/mainWF/Outputs/DWI_corrected_alignedSpace.nrrd'\n",
    "\n",
    "t1_fn='/scratch/TESTS/IpythonNotebook/20160615_HCPWF/mainWF/HCPWorkflow_CACHE_105115/PreprocessingWorkflow_CACHE_105115/ResampleToAlignedDWIResolution/mapflow/_ResampleToAlignedDWIResolution0/StrippedT1_125.nrrd'\n",
    "t2_fn='/scratch/TESTS/IpythonNotebook/20160615_HCPWF/mainWF/HCPWorkflow_CACHE_105115/PreprocessingWorkflow_CACHE_105115/ResampleToAlignedDWIResolution/mapflow/_ResampleToAlignedDWIResolution1/StrippedT2_125.nrrd'\n",
    "\n",
    "label_fn='/scratch/TESTS/IpythonNotebook/20160615_HCPWF/mainWF/HCPWorkflow_CACHE_105115/PreprocessingWorkflow_CACHE_105115/ResampleToAlignedDWIResolution/mapflow/_ResampleToAlignedDWIResolution2/DWIBrainMask.nrrd'\n",
    "\n",
    "OutputDir='/scratch/TESTS/IpythonNotebook/20160615_HCPWF/2_SRWF/test_tune_parameters/outImageFiles'\n",
    "MatlabFilesDir='/scratch/TESTS/IpythonNotebook/20160615_HCPWF/2_SRWF/test_tune_parameters/matlabFiles'"
   ]
  },
  {
   "cell_type": "code",
   "execution_count": 3,
   "metadata": {
    "collapsed": true
   },
   "outputs": [],
   "source": [
    "import os\n",
    "import glob\n",
    "import sys\n",
    "\n",
    "#\\/\\/\\/\\/\\/\\/\\/\\/\\/\\/\\/\\/\\/\\/\\/\\/\\/\\/\\/\\/\\/\\/\\/\\/\\/\\/\\/\\/\\/\\/\\/\\/\\/\\/\\/\\/\\/\\/\\/\\/\\/\\/\\/\n",
    "#####################################################################################\n",
    "#     Prepend the shell environment search paths\n",
    "#PROGRAM_PATHS = '/scratch/NAMICExternalProjects/release_20150715/bin'\n",
    "PROGRAM_PATHS = '/scratch/BS/release-BSR/bin'\n",
    "PROGRAM_PATHS = PROGRAM_PATHS.split(':')\n",
    "PROGRAM_PATHS.extend(os.environ['PATH'].split(':'))\n",
    "os.environ['PATH'] = ':'.join(PROGRAM_PATHS)\n",
    "\n",
    "CUSTOM_ENVIRONMENT=dict()\n",
    "\n",
    "# Platform specific information\n",
    "#     Prepend the python search paths\n",
    "PYTHON_AUX_PATHS = '/scratch/BS/BRAINSTools/AutoWorkup'\n",
    "PYTHON_AUX_PATHS = PYTHON_AUX_PATHS.split(':')\n",
    "PYTHON_AUX_PATHS.extend(sys.path)\n",
    "sys.path = PYTHON_AUX_PATHS\n",
    "\n",
    "import SimpleITK as sitk\n",
    "import nipype\n",
    "from nipype.interfaces.base import CommandLine, CommandLineInputSpec, TraitedSpec, File, Directory\n",
    "from nipype.interfaces.base import traits, isdefined, BaseInterface\n",
    "from nipype.interfaces.utility import Merge, Split, Function, Rename, IdentityInterface\n",
    "import nipype.interfaces.io as nio   # Data i/oS\n",
    "import nipype.pipeline.engine as pe  # pypeline engine\n",
    "from nipype.interfaces.freesurfer import ReconAll\n",
    "from nipype.interfaces.ants import DenoiseImage\n",
    "from nipype.interfaces.semtools import *"
   ]
  },
  {
   "cell_type": "code",
   "execution_count": 4,
   "metadata": {
    "collapsed": true
   },
   "outputs": [],
   "source": [
    "# \n",
    "# READ/WRITE DWI scan using pynrrd\n",
    "#\n",
    "import nrrd\n",
    "from math import sqrt\n",
    "from collections import OrderedDict\n",
    "\n",
    "class nrrdDWIHeader:\n",
    "    \"\"\"A helper class for manipulating header information\n",
    "    from a nrrd DWI data set into a nibabel compliant\n",
    "    format\"\"\"\n",
    "    def __init__(self,pynrrdDataModel):\n",
    "        self.modality=None                      #Matches NRRD File\n",
    "        self.global_BValue=None                 #Matches NRRD File\n",
    "        self.gradientUnormalizedVectors=[None]  #Matches NRRD File\n",
    "\n",
    "        self.gradientIndex=-1\n",
    "        self.gradientBValues=[None]             #Computed\n",
    "        self.gradientVectors=[None]             #Computed\n",
    "        self._ConvertNrrdToNibabelDWIDataModel(pynrrdDataModel)\n",
    "\n",
    "    def Print(self):\n",
    "        print(\"global_BValue {0}\".format(self.global_BValue) )\n",
    "        print(\"modality {0}\".format(self.modality) )\n",
    "        print(\"gradientBValues {0}\".format(self.gradientBValues) )\n",
    "        print(\"gradientDirections {0}\".format(self.gradientUnormalizedVectors) )\n",
    "\n",
    "    def _getGradientStorageIndex(self,pynrrdDataModel):\n",
    "        \"\"\"The 4D index that has separate gradients.\n",
    "        all other directions are the spatial dimensions.\"\"\"\n",
    "        gradient_index=-1;\n",
    "        centerings=pynrrdDataModel['centerings']\n",
    "        numdwidims=len(centerings)\n",
    "        for test_index in range(0,numdwidims):\n",
    "            if centerings[test_index] not in ['cell']:\n",
    "                gradient_index=test_index\n",
    "        self.gradientIndex = gradient_index\n",
    "\n",
    "    def _ExtractGlobalBValue(self, pyNrrdKVUnknownMetaData):\n",
    "        globalBValueString=pyNrrdKVUnknownMetaData.get(u'DWMRI_b-value','0').lstrip().rstrip()\n",
    "        self.global_BValue=float( globalBValueString )\n",
    "\n",
    "    def _ExtractUnormalizedBValues(self,pyNrrdKVUnknownMetaData,pynrrdDataModel):\n",
    "        \"\"\"Unnormalized data values from the nrrd files, where the\n",
    "        magnitude is reflective of the scale relative to the global_BValue\"\"\"\n",
    "        self._getGradientStorageIndex(pynrrdDataModel)\n",
    "        numGradients = pynrrdDataModel[u'sizes'][self.gradientIndex]\n",
    "        self.gradientUnormalizedVectors= np.array( [ [ None, None, None ] for x in range(0,numGradients) ] )\n",
    "        gvec_Fields=pyNrrdKVUnknownMetaData.copy() #Clone so we can remove items\n",
    "        for k,v in gvec_Fields.iteritems():\n",
    "            if k.startswith(\"DWMRI_gradient_\"):\n",
    "                index=int(k.split('_')[2])\n",
    "                self.gradientUnormalizedVectors[index,:]=np.array([ float(x) for x in v.rstrip().lstrip().split() ],\n",
    "                                                    copy=True, order='C', ndmin=1)\n",
    "                pyNrrdKVUnknownMetaData.pop(k)\n",
    "\n",
    "\n",
    "    def _ExtractDWIModality(self,pyNrrdKVUnknownMetaData):\n",
    "        self.modality=pyNrrdKVUnknownMetaData.get(\"modality\",\"UNKNOWN\").lstrip().rstrip()\n",
    "\n",
    "    def _ComputeNormalizedBvecBVals(self,pyNrrdKVUnknownMetaData,pynrrdDataModel):\n",
    "        self._ExtractGlobalBValue(pyNrrdKVUnknownMetaData)\n",
    "        self._ExtractUnormalizedBValues(pyNrrdKVUnknownMetaData,pynrrdDataModel)\n",
    "        self._ComputeNormalizedGradientsAndBValues()\n",
    "\n",
    "    def _ComputeNormalizedGradientsAndBValues(self):\n",
    "        \"\"\"Following conventions of NRRD format, expand\n",
    "        to normalized vectors and estimate BValues\n",
    "        :return: void\n",
    "        \"\"\"\n",
    "        numGradients=len( self.gradientUnormalizedVectors )\n",
    "\n",
    "        self.gradientVectors = np.array(self.gradientUnormalizedVectors)\n",
    "        self.gradientBValues = np.array( [ self.global_BValue ] * numGradients )\n",
    "        for index in range(0,numGradients):\n",
    "            gv = self.gradientUnormalizedVectors[index]\n",
    "            norm=np.linalg.norm(gv)\n",
    "            if norm < 1e-2:\n",
    "                self.gradientVectors[index] = gv * 0.0\n",
    "                self.gradientBValues[index] = 0.0\n",
    "            elif ( abs( 1.0-norm ) > 1e-4 ): # Avoid rescaling if norm is almost one\n",
    "                self.gradientVectors[index] = gv/norm\n",
    "                b_i = self.global_BValue * (norm**2) # norm = sqrt(b_i/b_max)\n",
    "                self.gradientBValues[index] = float(\"{0:.1f}\".format(b_i))  \n",
    "\n",
    "    def _ConvertNrrdToNibabelDWIDataModel(self, pynrrdDataModel):\n",
    "        pyNrrdKVUnknownMetaData=pynrrdDataModel['keyvaluepairs']\n",
    "        self._ExtractDWIModality(pyNrrdKVUnknownMetaData)\n",
    "        self._ExtractGlobalBValue(pyNrrdKVUnknownMetaData)\n",
    "        self._ComputeNormalizedBvecBVals(pyNrrdKVUnknownMetaData,pynrrdDataModel)\n",
    "\n",
    "def ReadNAMICDWIFromNrrd(filename):\n",
    "    nrrd_dwi_data,nrrd_dwi_header=nrrd.read(filename)\n",
    "    nibabelDataModelDWI=nrrdDWIHeader(nrrd_dwi_header)\n",
    "    nrrd_dwi_bvec=nibabelDataModelDWI.gradientVectors\n",
    "    nrrd_dwi_bval=nibabelDataModelDWI.gradientBValues\n",
    "    gradient_index=nibabelDataModelDWI.gradientIndex\n",
    "    return (nrrd_dwi_data, nrrd_dwi_header, nrrd_dwi_bvec, nrrd_dwi_bval, gradient_index)\n",
    "\n",
    "def WriteNAMICDWIToNrrd(filename, data, bvecs, bvals, options=None):\n",
    "    \"\"\"\n",
    "    :param filename: The filename to write to disk\n",
    "    :param data: The numpy 4d file to be written\n",
    "    :param bvecs: The bvecs values to be written\n",
    "    :param bvals: The bvals to be written\n",
    "    :param options: Optional parameters to be written to the nrrd header\n",
    "    :return:\n",
    "    \"\"\"\n",
    "    keyvaluePairDict=OrderedDict()\n",
    "    if options is not None:\n",
    "        keyvaluePairDict=OrderedDict( options.get( 'keyvaluepairs',OrderedDict() ))\n",
    "\n",
    "    ## First remove all existing bval/bvec fields from dictionary\n",
    "    keyvaluePairDict.pop('modality',None)\n",
    "\n",
    "    for k,v in keyvaluePairDict.iteritems():\n",
    "        if k.startswith('DWMRI_'):\n",
    "            keyvaluePairDict.pop(k, None)\n",
    "\n",
    "    keyvaluePairDict[u'modality']=u'DWMRI'\n",
    "    maxBvalue = max(bvals)\n",
    "    keybval=u'DWMRI_b-value'\n",
    "    keyvaluePairDict[keybval]=maxBvalue\n",
    "\n",
    "    numGradients = len(bvecs)\n",
    "    for index in range(0,numGradients):\n",
    "        this_scale = sqrt(bvals[index] / maxBvalue)\n",
    "        this_vec = [ x * this_scale for x in bvecs[index]]\n",
    "        #print(bvecs[index],this_vec)\n",
    "\n",
    "        keyvec=u'DWMRI_gradient_{:04d}'.format(index)\n",
    "        # convert gradient vector value to string (only for consistency with input)\n",
    "        vec_string= lambda this_vec: u''.join(nrrd._convert_to_reproducible_floatingpoint(x)+'  ' for x in this_vec).rstrip()\n",
    "        keyvaluePairDict[keyvec]=vec_string(this_vec)\n",
    "    options['keyvaluepairs']=keyvaluePairDict\n",
    "    options['encoding']='gzip' # Always use gzip compression for DWI data\n",
    "    nrrd.write(filename,data,options)"
   ]
  },
  {
   "cell_type": "markdown",
   "metadata": {},
   "source": [
    "# Mask dwi_b0 image"
   ]
  },
  {
   "cell_type": "code",
   "execution_count": 5,
   "metadata": {
    "collapsed": true
   },
   "outputs": [],
   "source": [
    "def MaskDWIComponents(inputDWI,mask_fn):\n",
    "    assert os.path.exists(inputDWI), \"File not found: %s\" % inputDWI\n",
    "    assert os.path.exists(mask_fn), \"File not found: %s\" % mask_fn\n",
    "    mask_img = sitk.ReadImage(mask_fn)\n",
    "    mask_data = sitk.GetArrayFromImage(mask_img)    \n",
    "    dwi_data,dwi_header,bvecs,bvals,gradient_index = ReadNAMICDWIFromNrrd(inputDWI)\n",
    "    numOfComponents = dwi_data.shape[gradient_index]\n",
    "    for idx in range(numOfComponents):\n",
    "        dwi_3d = dwi_data[idx,:,:,:]\n",
    "        #dwi_3d = np.squeeze( dwi_data.take((idx,), axis=gradient_index) )\n",
    "        dwi_3d = np.transpose(dwi_3d,(2, 1, 0))\n",
    "        dwi_3d = dwi_3d*mask_data\n",
    "        dwi_3d = np.transpose(dwi_3d,(2, 1, 0))\n",
    "        dwi_data[idx,:,:,:] = dwi_3d\n",
    "    outMaskedDWIFilename = os.path.join(OutputDir, 'DWI_masked.nrrd')\n",
    "    # write corrected nrrd file to disk\n",
    "    WriteNAMICDWIToNrrd(outMaskedDWIFilename,dwi_data,bvecs,bvals,dwi_header)\n",
    "    assert os.path.isfile(outMaskedDWIFilename), \"Masked DWI file is not found: %s\" % outMaskedDWIFilename\n",
    "    #return outNormalizedDWIFilename"
   ]
  },
  {
   "cell_type": "code",
   "execution_count": 7,
   "metadata": {
    "collapsed": false
   },
   "outputs": [],
   "source": [
    "MaskDWIComponents(dwi_fn,label_fn)"
   ]
  },
  {
   "cell_type": "code",
   "execution_count": null,
   "metadata": {
    "collapsed": true
   },
   "outputs": [],
   "source": []
  },
  {
   "cell_type": "code",
   "execution_count": null,
   "metadata": {
    "collapsed": true
   },
   "outputs": [],
   "source": []
  },
  {
   "cell_type": "code",
   "execution_count": null,
   "metadata": {
    "collapsed": true
   },
   "outputs": [],
   "source": []
  },
  {
   "cell_type": "code",
   "execution_count": null,
   "metadata": {
    "collapsed": true
   },
   "outputs": [],
   "source": []
  },
  {
   "cell_type": "code",
   "execution_count": null,
   "metadata": {
    "collapsed": true
   },
   "outputs": [],
   "source": [
    "# Experiments ------"
   ]
  },
  {
   "cell_type": "code",
   "execution_count": 9,
   "metadata": {
    "collapsed": false
   },
   "outputs": [],
   "source": [
    "dwi_data,dwi_header,bvecs,bvals,gradient_index = ReadNAMICDWIFromNrrd(dwi_fn)"
   ]
  },
  {
   "cell_type": "code",
   "execution_count": 10,
   "metadata": {
    "collapsed": false
   },
   "outputs": [
    {
     "name": "stdout",
     "output_type": "stream",
     "text": [
      "0\n"
     ]
    }
   ],
   "source": [
    "print(gradient_index)"
   ]
  },
  {
   "cell_type": "code",
   "execution_count": 26,
   "metadata": {
    "collapsed": false
   },
   "outputs": [],
   "source": [
    "if gradient_index != 0:\n",
    "    raise ValueError('Program expects a gradient index of zero for HCP data, but gradient index is {0}'.format(gradient_index))"
   ]
  },
  {
   "cell_type": "code",
   "execution_count": 11,
   "metadata": {
    "collapsed": false
   },
   "outputs": [
    {
     "name": "stdout",
     "output_type": "stream",
     "text": [
      "(108, 145, 174, 145)\n",
      "108\n"
     ]
    }
   ],
   "source": [
    "print(dwi_data.shape)\n",
    "print(dwi_data.shape[gradient_index])"
   ]
  },
  {
   "cell_type": "code",
   "execution_count": 12,
   "metadata": {
    "collapsed": true
   },
   "outputs": [],
   "source": [
    "# Now extract b0 component of the 4D DWI array"
   ]
  },
  {
   "cell_type": "code",
   "execution_count": 22,
   "metadata": {
    "collapsed": false
   },
   "outputs": [],
   "source": [
    "# idx=0\n",
    "# dwi_b0 = np.squeeze( dwi_data.take((idx,), axis=gradient_index) )\n",
    "# print(dwi_b0.shape)\n",
    "# dwi_b0 = np.transpose(dwi_b0,(2, 1, 0))\n",
    "# dwi_b0_img = sitk.GetImageFromArray(dwi_b0)\n",
    "# myshow(dwi_b0_img)"
   ]
  },
  {
   "cell_type": "code",
   "execution_count": 23,
   "metadata": {
    "collapsed": false
   },
   "outputs": [
    {
     "name": "stdout",
     "output_type": "stream",
     "text": [
      "(145, 174, 145)\n"
     ]
    }
   ],
   "source": [
    "# Now extract b0 component of the 4D DWI array\n",
    "dwi_b0 = dwi_data[0,:,:,:]\n",
    "print(dwi_b0.shape)"
   ]
  },
  {
   "cell_type": "markdown",
   "metadata": {},
   "source": [
    "To convert the above numpy array to a b0 image, we need careful attention to the order of index and dimensions.\n",
    "\n",
    "ITK's Image class does not have a bracket operator. It has a GetPixel which takes an ITK Index object as an argument, which is an array ordered as (x,y,z). This is the convention that SimpleITK's Image class uses for the GetPixel method as well.\n",
    "\n",
    "While in numpy, an array is indexed in the opposite order (z,y,x)."
   ]
  },
  {
   "cell_type": "code",
   "execution_count": null,
   "metadata": {
    "collapsed": true
   },
   "outputs": [],
   "source": [
    "dwi_b0 = np.transpose(dwi_b0,(2, 1, 0))"
   ]
  },
  {
   "cell_type": "code",
   "execution_count": null,
   "metadata": {
    "collapsed": false
   },
   "outputs": [],
   "source": [
    "mask_img = sitk.ReadImage(label_fn)\n",
    "myshow(mask_img)\n",
    "mask_data = sitk.GetArrayFromImage(mask_img)\n",
    "print(mask_data.shape)"
   ]
  },
  {
   "cell_type": "code",
   "execution_count": null,
   "metadata": {
    "collapsed": true
   },
   "outputs": [],
   "source": [
    "masked_dwi_b0 = dwi_b0*mask_data"
   ]
  },
  {
   "cell_type": "code",
   "execution_count": null,
   "metadata": {
    "collapsed": false
   },
   "outputs": [],
   "source": [
    "dwi_b0_img = sitk.GetImageFromArray(masked_dwi_b0)\n",
    "myshow(dwi_b0_img)"
   ]
  },
  {
   "cell_type": "code",
   "execution_count": null,
   "metadata": {
    "collapsed": false
   },
   "outputs": [],
   "source": [
    "masked_dwi_b0 = np.transpose(masked_dwi_b0,(2, 1, 0))\n",
    "dwi_b0_img = sitk.GetImageFromArray(masked_dwi_b0)\n",
    "myshow(dwi_b0_img)"
   ]
  }
 ],
 "metadata": {
  "kernelspec": {
   "display_name": "Python 2",
   "language": "python",
   "name": "python2"
  },
  "language_info": {
   "codemirror_mode": {
    "name": "ipython",
    "version": 2
   },
   "file_extension": ".py",
   "mimetype": "text/x-python",
   "name": "python",
   "nbconvert_exporter": "python",
   "pygments_lexer": "ipython2",
   "version": "2.7.11"
  }
 },
 "nbformat": 4,
 "nbformat_minor": 0
}
