{
 "metadata": {
  "name": ""
 },
 "nbformat": 3,
 "nbformat_minor": 0,
 "worksheets": [
  {
   "cells": [
    {
     "cell_type": "markdown",
     "metadata": {},
     "source": [
      "# What is the order of a CompositeTransform applies it Transform?\n",
      "# What are the implications of the \"Center\" transform parameter for Optimization?\n",
      "\n",
      "To answer these questions we will render a basic 2D image with an interacive slicer to apply a rotation transform under different conditions. The answer is at the end."
     ]
    },
    {
     "cell_type": "code",
     "collapsed": false,
     "input": [
      "## Boiler plate code common to many notebooks.  See the TestFilesCommonCode.ipynb for details\n",
      "from __future__ import print_function\n",
      "%run TestFilesCommonCode.ipynb"
     ],
     "language": "python",
     "metadata": {},
     "outputs": [],
     "prompt_number": null
    },
    {
     "cell_type": "code",
     "collapsed": false,
     "input": [
      "img = sitk.ReadImage(fdata(\"cthead1.png\"))\n",
      "myshow(img, title=\"Input Image\")"
     ],
     "language": "python",
     "metadata": {},
     "outputs": [],
     "prompt_number": null
    },
    {
     "cell_type": "code",
     "collapsed": false,
     "input": [
      "def callback(transform, angle, fixed, moving, title):\n",
      "    \"\"\"A call back method to resample an image with a active 2D Euler Transform\"\"\"\n",
      "    # Here we use the old SimpleITK 0.8 transform inferface which will work with composites too\n",
      "    p = list(transform.GetParameters()) \n",
      "    p[0] = angle \n",
      "    transform.SetParameters(p)\n",
      "    resampler = sitk.ResampleImageFilter()\n",
      "    resampler.SetTransform(transform)\n",
      "    resampler.SetReferenceImage(fixed)\n",
      "    resampledMoving = resampler.Execute(moving)\n",
      "    \n",
      "    myshow(sitk.Compose(resampledMoving, resampledMoving, sitk.Maximum(resampledMoving,fixed)), title=title)"
     ],
     "language": "python",
     "metadata": {},
     "outputs": [],
     "prompt_number": null
    },
    {
     "cell_type": "code",
     "collapsed": false,
     "input": [
      "tx = sitk.Euler2DTransform()\n",
      "\n",
      "interact(lambda **kwargs: callback(transform=tx, fixed=img, moving=img, title=\"Origin Center Of Rotation\", **kwargs),             \n",
      "             angle=widgets.FloatSliderWidget(min=-pi, max=pi, step=.02, value=0.0)\n",
      "             )"
     ],
     "language": "python",
     "metadata": {},
     "outputs": [],
     "prompt_number": null
    },
    {
     "cell_type": "markdown",
     "metadata": {},
     "source": [
      "The Above interaction is default state of a EulerTransform where the rotaion occours around the image's origin."
     ]
    },
    {
     "cell_type": "code",
     "collapsed": false,
     "input": [
      "tx2 = sitk.Euler2DTransform(sitk.CenteredTransformInitializer(img,img,sitk.Euler2DTransform()) )\n",
      "    \n",
      "interact(lambda **kwargs: callback(tx2, fixed=img, moving=img, title=\"Mass Center Of Rotation\", **kwargs),\n",
      "                 angle=widgets.FloatSliderWidget(min=-pi, max=pi, step=.02, value=0.0) )"
     ],
     "language": "python",
     "metadata": {},
     "outputs": [],
     "prompt_number": null
    },
    {
     "cell_type": "code",
     "collapsed": false,
     "input": [
      "# here we create a fixed and moving image resampled onto a larger image size,\n",
      "# and move the fixed image (shown in blue) to about the center of the new space\n",
      "fixed = sitk.Image(img)\n",
      "moving = sitk.Image(img)\n",
      "f = sitk.ResampleImageFilter()\n",
      "f.SetReferenceImage(fixed)\n",
      "f.SetSize([512]*2)\n",
      "moving = f.Execute(moving)\n",
      "\n",
      "fixed.SetOrigin([40,40])\n",
      "fixed = f.Execute(fixed)\n",
      "title=\"ImageTitle\"\n",
      "myshow(sitk.Compose(moving, moving, sitk.Maximum(moving,fixed)), title=title)"
     ],
     "language": "python",
     "metadata": {},
     "outputs": [],
     "prompt_number": null
    },
    {
     "cell_type": "code",
     "collapsed": false,
     "input": [
      "# Case 1:\n",
      "# Here we form a composite transform with the first transform solving the alignment\n",
      "# The second transform is an identity\n",
      "ctx1 = sitk.Euler2DTransform()\n",
      "ctx1.SetCenter([45.8801,48.03]) # This parameter has no effect\n",
      "ctx1.SetTranslation([-40,-40]) # This is the correct solution\n",
      "\n",
      "ctx2 = sitk.Euler2DTransform()\n",
      "#ctx2.SetCenter([45.8801+40, 48.03+40])\n",
      "\n",
      "ctx = sitk.Transform(ctx1)\n",
      "ctx.AddTransform(ctx2)\n",
      "\n",
      "\n",
      "interact(lambda **kwargs: callback(ctx, fixed=fixed, moving=moving, title=\"TX2 Transform\", **kwargs),\n",
      "             angle=widgets.FloatSliderWidget(min=-pi, max=pi, step=.01, value=0.0) )"
     ],
     "language": "python",
     "metadata": {},
     "outputs": [],
     "prompt_number": null
    },
    {
     "cell_type": "code",
     "collapsed": false,
     "input": [
      "# Case 2:\n",
      "# Here the first transform is only part of the solution.\n",
      "# Propagating the center, make the moving image rotate around that point in the fixed image domain.\n",
      "ctx1=sitk.Euler2DTransform(sitk.CenteredTransformInitializer(fixed,moving,sitk.Euler2DTransform()) )\n",
      "ctx1.SetTranslation([-20,-20])\n",
      "\n",
      "invTx = sitk.Transform(ctx1)\n",
      "invTx.SetInverse()\n",
      "\n",
      "ctx2 = sitk.Euler2DTransform()\n",
      "ctx2.SetTranslation([-20,-20])\n",
      "ctx2.SetCenter(ctx1.GetCenter())\n",
      "\n",
      "# This is not the correct center\n",
      "#ctx2.SetCenter(invTx.TransformPoint(ctx1.GetCenter()))\n",
      "\n",
      "ctx = sitk.Transform(ctx1)\n",
      "ctx.AddTransform(ctx2)\n",
      "\n",
      "\n",
      "interact(lambda **kwargs: callback(ctx, fixed=fixed, moving=moving, title=\"TX2 Transform\", **kwargs),\n",
      "             angle=widgets.FloatSliderWidget(min=-pi, max=pi, step=.01, value=0.0) )"
     ],
     "language": "python",
     "metadata": {},
     "outputs": [],
     "prompt_number": null
    },
    {
     "cell_type": "code",
     "collapsed": false,
     "input": [
      "# Case 3:\n",
      "# This demonstrate the behavior of Case 2 is consistent\n",
      "# with resampling the first transform then applying the\n",
      "# second transfrom the the resampled image.\n",
      "ctx1=sitk.Euler2DTransform(sitk.CenteredTransformInitializer(fixed,moving,sitk.Euler2DTransform()) )\n",
      "ctx1.SetTranslation([-20,-20])\n",
      "\n",
      "\n",
      "f = sitk.ResampleImageFilter()\n",
      "f.SetReferenceImage(fixed)\n",
      "f.SetTransform(ctx1)\n",
      "resampledMoving = f.Execute(moving)\n",
      "\n",
      "invTx = sitk.Transform(ctx1)\n",
      "invTx.SetInverse()\n",
      "\n",
      "\n",
      "myshow(sitk.Compose(resampledMoving, resampledMoving, sitk.Maximum(resampledMoving,fixed)), title=\"Resampled\")\n",
      "\n",
      "\n",
      "ctx2 = sitk.Euler2DTransform()\n",
      "ctx2.SetTranslation([-20,-20])\n",
      "ctx2.SetCenter(ctx1.GetCenter())\n",
      "#ctx2.SetCenter(invTx.TransformPoint(ctx1.GetCenter()))\n",
      "\n",
      "\n",
      "interact(lambda **kwargs: callback(ctx2, fixed=fixed, moving=resampledMoving, title=\"Resampled Moving with Transform\", **kwargs),\n",
      "             angle=widgets.FloatSliderWidget(min=-pi, max=pi, step=.01, value=0.0) )"
     ],
     "language": "python",
     "metadata": {},
     "outputs": [],
     "prompt_number": null
    },
    {
     "cell_type": "markdown",
     "metadata": {},
     "source": [
      "For a Composite transformed defined as $\\phi=T_0(T_1(\\mathbf{x}))$ where $\\phi:\\Omega_{fixed}\\rightarrow \\Omega_{moving}$ then if $\\mathbf{C}$ such that $\\mathbf{C} \\in \\Omega_{fixed}$ is the correct center initialization for $T_0$, then the correct center initialization for $T_1$ is still $\\mathbf{C}$, as it is set in the in the domain of the transforms."
     ]
    }
   ],
   "metadata": {}
  }
 ]
}