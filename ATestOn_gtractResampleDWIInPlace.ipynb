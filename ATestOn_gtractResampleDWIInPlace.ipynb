{
 "cells": [
  {
   "cell_type": "code",
   "execution_count": 1,
   "metadata": {
    "collapsed": false
   },
   "outputs": [
    {
     "name": "stdout",
     "output_type": "stream",
     "text": [
      "SimpleITK Version: 0.9.1\n",
      "Compiled: Sep 28 2015 10:07:41\n",
      "\n"
     ]
    }
   ],
   "source": [
    "## Boiler plate code common to many notebooks.  See the TestFilesCommonCode.ipynb for details\n",
    "from __future__ import print_function\n",
    "%run TestFilesCommonCode.ipynb"
   ]
  },
  {
   "cell_type": "code",
   "execution_count": 13,
   "metadata": {
    "collapsed": false
   },
   "outputs": [],
   "source": [
    "import os\n",
    "import glob\n",
    "import sys\n",
    "\n",
    "#\\/\\/\\/\\/\\/\\/\\/\\/\\/\\/\\/\\/\\/\\/\\/\\/\\/\\/\\/\\/\\/\\/\\/\\/\\/\\/\\/\\/\\/\\/\\/\\/\\/\\/\\/\\/\\/\\/\\/\\/\\/\\/\\/\n",
    "#####################################################################################\n",
    "#     Prepend the shell environment search paths\n",
    "#PROGRAM_PATHS = '/scratch/NAMICExternalProjects/release_20150715/bin'\n",
    "PROGRAM_PATHS = '/scratch/BS/release-20160519/bin'\n",
    "PROGRAM_PATHS = PROGRAM_PATHS.split(':')\n",
    "PROGRAM_PATHS.extend(os.environ['PATH'].split(':'))\n",
    "os.environ['PATH'] = ':'.join(PROGRAM_PATHS)\n",
    "\n",
    "CUSTOM_ENVIRONMENT=dict()\n",
    "\n",
    "# Platform specific information\n",
    "#     Prepend the python search paths\n",
    "PYTHON_AUX_PATHS = '/scratch/BS/BRAINSTools/AutoWorkup'\n",
    "PYTHON_AUX_PATHS = PYTHON_AUX_PATHS.split(':')\n",
    "PYTHON_AUX_PATHS.extend(sys.path)\n",
    "sys.path = PYTHON_AUX_PATHS\n",
    "\n",
    "import SimpleITK as sitk\n",
    "import nipype\n",
    "from nipype.interfaces.base import CommandLine, CommandLineInputSpec, TraitedSpec, File, Directory\n",
    "from nipype.interfaces.base import traits, isdefined, BaseInterface\n",
    "from nipype.interfaces.utility import Merge, Split, Function, Rename, IdentityInterface\n",
    "import nipype.interfaces.io as nio   # Data i/oS\n",
    "import nipype.pipeline.engine as pe  # pypeline engine\n",
    "from nipype.interfaces.freesurfer import ReconAll\n",
    "from nipype.interfaces.ants import DenoiseImage\n",
    "from SEMTools import *"
   ]
  },
  {
   "cell_type": "code",
   "execution_count": 14,
   "metadata": {
    "collapsed": false
   },
   "outputs": [],
   "source": [
    "#DWI_scan = '/Shared/johnsonhj/TrackOn/Experiments/20140203_DWIProcessing/VISUALLY_INSPECTED/HDNI_003/823955340/823955340_20080609_30/823955340_823955340_20080609_30_DWI_CONCAT_QCed_INSPECTED.nrrd'\n",
    "DWI_scan = '/Shared/johnsonhj/HDNI/ReferenceData/HCP_DATA/105115/T1w/Diffusion/data.nrrd'\n",
    "DWI=sitk.ReadImage(DWI_scan)"
   ]
  },
  {
   "cell_type": "code",
   "execution_count": 19,
   "metadata": {
    "collapsed": false
   },
   "outputs": [
    {
     "name": "stdout",
     "output_type": "stream",
     "text": [
      "(1.0, 0.0, 0.0, 0.0, 1.0, 0.0, 0.0, 0.0, 1.0)\n"
     ]
    }
   ],
   "source": [
    "print(DWI.GetDirection())"
   ]
  },
  {
   "cell_type": "code",
   "execution_count": 15,
   "metadata": {
    "collapsed": false
   },
   "outputs": [],
   "source": [
    "rigTx = sitk.VersorRigid3DTransform()\n",
    "rigTx.SetRotation([0,0,1],180)\n",
    "sitk.WriteTransform(rigTx,'/scratch/TESTS/tmp/rigTx.h5')\n",
    "#print(rigTx)"
   ]
  },
  {
   "cell_type": "code",
   "execution_count": 16,
   "metadata": {
    "collapsed": false
   },
   "outputs": [],
   "source": [
    "#def GetTransfromInverse(inputTransform):\n",
    "#    import SimpleITK as sitk\n",
    "#    inverseTransform = sitk.VersorRigid3DTransform()\n",
    "#    inverseTransform.SetFixedParameters(inputTransform.GetFixedParameters())\n",
    "#    inverseTransform.SetParameters(inputTransform.GetParameters())\n",
    "#    inverseTransform.SetInverse()\n",
    "#    return inverseTransform"
   ]
  },
  {
   "cell_type": "code",
   "execution_count": 17,
   "metadata": {
    "collapsed": false
   },
   "outputs": [],
   "source": [
    "#invTx = GetTransfromInverse(rigTx)\n",
    "#sitk.WriteTransform(invTx,'/scratch/TESTS/tmp/inverseRigTx.h5')\n",
    "#print(invTx)"
   ]
  },
  {
   "cell_type": "code",
   "execution_count": 18,
   "metadata": {
    "collapsed": false
   },
   "outputs": [
    {
     "name": "stderr",
     "output_type": "stream",
     "text": [
      "INFO:interface:stdout 2016-05-20T13:29:25.771632:=====================================================\n",
      "INFO:interface:stdout 2016-05-20T13:29:25.771632:DWI Image: /Shared/johnsonhj/HDNI/ReferenceData/HCP_DATA/105115/T1w/Diffusion/data.nrrd\n",
      "INFO:interface:stdout 2016-05-20T13:29:25.771632:Input Transform: /scratch/TESTS/tmp/rigTx.h5\n",
      "INFO:interface:stdout 2016-05-20T13:29:25.771632:warpDWI Transform: \n",
      "INFO:interface:stdout 2016-05-20T13:29:25.771632:Output Image: /scratch/TESTS/tmp/rotatedDWI.nrrd\n",
      "INFO:interface:stdout 2016-05-20T13:29:25.771632:Debug Level: 0\n",
      "INFO:interface:stdout 2016-05-20T13:29:25.771632:Image Output Size: 0,0,0\n",
      "INFO:interface:stdout 2016-05-20T13:29:25.771632:=====================================================\n",
      "INFO:interface:stdout 2016-05-20T13:29:39.410710:Read Image\n",
      "INFO:interface:stdout 2016-05-20T13:29:39.432620:Read ITK transform from file: /scratch/TESTS/tmp/rigTx.h5\n",
      "INFO:interface:stdout 2016-05-20T13:29:39.966860:HACK: 0  VersorRigid3DTransform\n",
      "INFO:interface:stdout 2016-05-20T13:29:40.513708:Rigid transform matrix: -0.59846 -0.801153 0\n",
      "INFO:interface:stdout 2016-05-20T13:29:40.513708:0.801153 -0.59846 0\n",
      "INFO:interface:stdout 2016-05-20T13:29:40.513708:0 0 1\n",
      "INFO:interface:stdout 2016-05-20T13:29:40.513708:\n",
      "INFO:interface:stdout 2016-05-20T13:29:40.650652:Input DWI Image Origin: ( 154.807, -3.30223, -72 )\n",
      "INFO:interface:stdout 2016-05-20T13:29:40.650652:Input DWI Image Size: 145 174 145\n",
      "INFO:interface:stdout 2016-05-20T13:29:40.650652: \n",
      "INFO:interface:stdout 2016-05-20T13:29:40.650652:Output DWI Image Origin: ( 154.807, -3.30223, -72 )\n",
      "INFO:interface:stdout 2016-05-20T13:29:40.650652:Output DWI Image Size: 145 174 145\n"
     ]
    },
    {
     "data": {
      "text/plain": [
       "<nipype.interfaces.base.InterfaceResult at 0x1192b6a10>"
      ]
     },
     "execution_count": 18,
     "metadata": {},
     "output_type": "execute_result"
    }
   ],
   "source": [
    "gtRIP=gtractResampleDWIInPlace()\n",
    "gtRIP.inputs.inputVolume = DWI_scan\n",
    "gtRIP.inputs.inputTransform = '/scratch/TESTS/tmp/rigTx.h5'\n",
    "gtRIP.inputs.outputVolume = '/scratch/TESTS/tmp/rotatedDWI.nrrd'\n",
    "gtRIP.run()"
   ]
  },
  {
   "cell_type": "code",
   "execution_count": 61,
   "metadata": {
    "collapsed": false
   },
   "outputs": [],
   "source": [
    "#gtRIP2=gtractResampleDWIInPlace()\n",
    "#gtRIP2.inputs.inputVolume = gtRIP.inputs.outputVolume\n",
    "#gtRIP2.inputs.inputTransform = '/scratch/TESTS/tmp/inverseRigTx.h5'\n",
    "#gtRIP2.inputs.outputVolume = '/scratch/TESTS/tmp/restoredDWI.nrrd'\n",
    "#gtRIP2.run()"
   ]
  },
  {
   "cell_type": "code",
   "execution_count": 64,
   "metadata": {
    "collapsed": false
   },
   "outputs": [
    {
     "data": {
      "text/plain": [
       "<nipype.interfaces.base.InterfaceResult at 0x116f47890>"
      ]
     },
     "execution_count": 64,
     "metadata": {},
     "output_type": "execute_result"
    }
   ],
   "source": [
    "DTIEstim=dtiestim()\n",
    "DTIEstim.inputs.method = 'wls'\n",
    "DTIEstim.inputs.tensor_output = '/scratch/TESTS/tmp/original_DTI.nrrd'\n",
    "DTIEstim.inputs.dwi_image = DWI_scan\n",
    "DTIEstim.run()"
   ]
  },
  {
   "cell_type": "code",
   "execution_count": 65,
   "metadata": {
    "collapsed": false
   },
   "outputs": [
    {
     "data": {
      "text/plain": [
       "<nipype.interfaces.base.InterfaceResult at 0x116f47a90>"
      ]
     },
     "execution_count": 65,
     "metadata": {},
     "output_type": "execute_result"
    }
   ],
   "source": [
    "DTIEstim2=dtiestim()\n",
    "DTIEstim2.inputs.method = 'wls'\n",
    "DTIEstim2.inputs.tensor_output = '/scratch/TESTS/tmp/rotated_DTI.nrrd'\n",
    "DTIEstim2.inputs.dwi_image = gtRIP.inputs.outputVolume\n",
    "DTIEstim2.run()"
   ]
  },
  {
   "cell_type": "code",
   "execution_count": null,
   "metadata": {
    "collapsed": false
   },
   "outputs": [],
   "source": []
  }
 ],
 "metadata": {
  "kernelspec": {
   "display_name": "Python 2",
   "language": "python",
   "name": "python2"
  },
  "language_info": {
   "codemirror_mode": {
    "name": "ipython",
    "version": 2
   },
   "file_extension": ".py",
   "mimetype": "text/x-python",
   "name": "python",
   "nbconvert_exporter": "python",
   "pygments_lexer": "ipython2",
   "version": "2.7.10"
  }
 },
 "nbformat": 4,
 "nbformat_minor": 0
}
