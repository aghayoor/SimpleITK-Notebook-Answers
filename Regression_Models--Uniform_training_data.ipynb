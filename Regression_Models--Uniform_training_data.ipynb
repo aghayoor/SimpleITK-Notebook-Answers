{
 "cells": [
  {
   "cell_type": "markdown",
   "metadata": {},
   "source": [
    "The input data spreadsheets:\n",
    "\n",
    "\"training_data.csv\":\n",
    "There are 6950 training subjects. We are interested in predicting INBGR from the 62 IQMs. We are going to test random forest regression.\n",
    "\n",
    "training_data.csv was generated from step1: Invicro_generate_training_dataset.ipynb"
   ]
  },
  {
   "cell_type": "code",
   "execution_count": 111,
   "metadata": {},
   "outputs": [],
   "source": [
    "import pandas as pd  \n",
    "import numpy as np\n",
    "import matplotlib.pyplot as plt  \n",
    "import seaborn as seabornInstance \n",
    "from sklearn.model_selection import train_test_split \n",
    "from sklearn.linear_model import LinearRegression\n",
    "from sklearn.linear_model import Lasso\n",
    "from sklearn.ensemble import RandomForestRegressor\n",
    "from sklearn import metrics\n",
    "%matplotlib inline"
   ]
  },
  {
   "cell_type": "code",
   "execution_count": 112,
   "metadata": {},
   "outputs": [
    {
     "data": {
      "text/plain": [
       "(6950, 76)"
      ]
     },
     "execution_count": 112,
     "metadata": {},
     "output_type": "execute_result"
    }
   ],
   "source": [
    "csv_fn='./training_data.csv'\n",
    "training_df = pd.read_csv(csv_fn)\n",
    "training_df.shape"
   ]
  },
  {
   "cell_type": "code",
   "execution_count": 113,
   "metadata": {},
   "outputs": [
    {
     "data": {
      "text/plain": [
       "<matplotlib.axes._subplots.AxesSubplot at 0x1a234ffe50>"
      ]
     },
     "execution_count": 113,
     "metadata": {},
     "output_type": "execute_result"
    },
    {
     "data": {
      "image/png": "[encoded data removed]",
      "text/plain": [
       "<Figure size 1080x720 with 1 Axes>"
      ]
     },
     "metadata": {
      "needs_background": "light"
     },
     "output_type": "display_data"
    }
   ],
   "source": [
    "# check the disribution of INBGR\n",
    "inbgr_mean = np.mean(training_df['INBGR'].values)\n",
    "zeros = (training_df['INBGR'] == 0).astype(int).sum(axis=0)\n",
    "ones = (training_df['INBGR'] == 1).astype(int).sum(axis=0)\n",
    "twos = (training_df['INBGR'] == 2).astype(int).sum(axis=0)\n",
    "threes = (training_df['INBGR'] == 3).astype(int).sum(axis=0)\n",
    "total = zeros + ones + twos + threes\n",
    "\n",
    "plt.figure(figsize=(15,10))\n",
    "plt.tight_layout()\n",
    "plt.title('Average of INBGR: {:1.3f}'.format(inbgr_mean))\n",
    "plt.text(1,5,\"Zero:{}  One:{}  Two:{}   Three:{} ; TOTAL:{}\".format(zeros,ones,twos,threes,total), style='italic',\n",
    "        bbox={'facecolor': 'red', 'alpha': 0.5, 'pad': 10})\n",
    "\n",
    "## plot kde\n",
    "plt.ylabel('pdf')\n",
    "seabornInstance.distplot(training_df['INBGR'])\n",
    "\n",
    "## plot histogram\n",
    "#plt.ylabel('histogram')\n",
    "#seabornInstance.distplot(training_df['INBGR'], hist=True, kde=False)"
   ]
  },
  {
   "cell_type": "markdown",
   "metadata": {},
   "source": [
    "# Extract a subset of data with uniform distribution"
   ]
  },
  {
   "cell_type": "code",
   "execution_count": 114,
   "metadata": {},
   "outputs": [
    {
     "data": {
      "text/plain": [
       "(176, 76)"
      ]
     },
     "execution_count": 114,
     "metadata": {},
     "output_type": "execute_result"
    }
   ],
   "source": [
    "df0 = training_df[training_df['INBGR']==0]\n",
    "df1 = training_df[training_df['INBGR']==1]\n",
    "df2 = training_df[training_df['INBGR']==2]\n",
    "df3 = training_df[training_df['INBGR']==3]\n",
    "#\n",
    "n=df3.shape[0]\n",
    "df0sample = df0.sample(n)\n",
    "df1sample = df1.sample(n)\n",
    "df2sample = df2.sample(n)\n",
    "\n",
    "training_df_uni = pd.concat([df0sample, df1sample, df2sample, df3])\n",
    "training_df_uni.shape"
   ]
  },
  {
   "cell_type": "code",
   "execution_count": 115,
   "metadata": {},
   "outputs": [
    {
     "data": {
      "text/html": [
       "<div>\n",
       "<style scoped>\n",
       "    .dataframe tbody tr th:only-of-type {\n",
       "        vertical-align: middle;\n",
       "    }\n",
       "\n",
       "    .dataframe tbody tr th {\n",
       "        vertical-align: top;\n",
       "    }\n",
       "\n",
       "    .dataframe thead th {\n",
       "        text-align: right;\n",
       "    }\n",
       "</style>\n",
       "<table border=\"1\" class=\"dataframe\">\n",
       "  <thead>\n",
       "    <tr style=\"text-align: right;\">\n",
       "      <th></th>\n",
       "      <th>cjv</th>\n",
       "      <th>cnr</th>\n",
       "      <th>efc</th>\n",
       "      <th>fber</th>\n",
       "      <th>fwhm_avg</th>\n",
       "      <th>fwhm_x</th>\n",
       "      <th>fwhm_y</th>\n",
       "      <th>fwhm_z</th>\n",
       "      <th>icvs_csf</th>\n",
       "      <th>icvs_gm</th>\n",
       "      <th>...</th>\n",
       "      <th>INFLOW</th>\n",
       "      <th>OUTFLOW</th>\n",
       "      <th>INOTHER</th>\n",
       "      <th>OUTOTHER</th>\n",
       "      <th>WRAP</th>\n",
       "      <th>HEADCOVER</th>\n",
       "      <th>INHOMOGEN</th>\n",
       "      <th>IPMOTION</th>\n",
       "      <th>MARKER</th>\n",
       "      <th>PASS</th>\n",
       "    </tr>\n",
       "  </thead>\n",
       "  <tbody>\n",
       "    <tr>\n",
       "      <th>count</th>\n",
       "      <td>176.000000</td>\n",
       "      <td>176.000000</td>\n",
       "      <td>176.000000</td>\n",
       "      <td>176.000000</td>\n",
       "      <td>176.000000</td>\n",
       "      <td>176.000000</td>\n",
       "      <td>176.000000</td>\n",
       "      <td>176.000000</td>\n",
       "      <td>176.000000</td>\n",
       "      <td>176.000000</td>\n",
       "      <td>...</td>\n",
       "      <td>176.000000</td>\n",
       "      <td>176.000000</td>\n",
       "      <td>176.000000</td>\n",
       "      <td>176.000000</td>\n",
       "      <td>176.000000</td>\n",
       "      <td>176.000000</td>\n",
       "      <td>176.000000</td>\n",
       "      <td>176.0</td>\n",
       "      <td>176.000000</td>\n",
       "      <td>176.000000</td>\n",
       "    </tr>\n",
       "    <tr>\n",
       "      <th>mean</th>\n",
       "      <td>0.513112</td>\n",
       "      <td>2.565567</td>\n",
       "      <td>0.619263</td>\n",
       "      <td>676.713451</td>\n",
       "      <td>3.284136</td>\n",
       "      <td>3.049095</td>\n",
       "      <td>3.560878</td>\n",
       "      <td>3.242433</td>\n",
       "      <td>0.247735</td>\n",
       "      <td>0.375548</td>\n",
       "      <td>...</td>\n",
       "      <td>1.301136</td>\n",
       "      <td>1.534091</td>\n",
       "      <td>0.107955</td>\n",
       "      <td>0.130682</td>\n",
       "      <td>0.414773</td>\n",
       "      <td>-0.022727</td>\n",
       "      <td>0.965909</td>\n",
       "      <td>-4.0</td>\n",
       "      <td>0.284091</td>\n",
       "      <td>0.687500</td>\n",
       "    </tr>\n",
       "    <tr>\n",
       "      <th>std</th>\n",
       "      <td>0.087037</td>\n",
       "      <td>0.452868</td>\n",
       "      <td>0.040512</td>\n",
       "      <td>3552.720376</td>\n",
       "      <td>0.522591</td>\n",
       "      <td>0.266710</td>\n",
       "      <td>0.729615</td>\n",
       "      <td>0.636602</td>\n",
       "      <td>0.025286</td>\n",
       "      <td>0.024187</td>\n",
       "      <td>...</td>\n",
       "      <td>1.149011</td>\n",
       "      <td>1.013609</td>\n",
       "      <td>0.420536</td>\n",
       "      <td>0.523692</td>\n",
       "      <td>0.559191</td>\n",
       "      <td>0.149458</td>\n",
       "      <td>0.211058</td>\n",
       "      <td>0.0</td>\n",
       "      <td>0.700186</td>\n",
       "      <td>0.464835</td>\n",
       "    </tr>\n",
       "    <tr>\n",
       "      <th>min</th>\n",
       "      <td>0.347812</td>\n",
       "      <td>1.071164</td>\n",
       "      <td>0.512326</td>\n",
       "      <td>5.847160</td>\n",
       "      <td>2.291860</td>\n",
       "      <td>2.391556</td>\n",
       "      <td>2.298952</td>\n",
       "      <td>2.121056</td>\n",
       "      <td>0.202592</td>\n",
       "      <td>0.310859</td>\n",
       "      <td>...</td>\n",
       "      <td>-1.000000</td>\n",
       "      <td>-1.000000</td>\n",
       "      <td>0.000000</td>\n",
       "      <td>-1.000000</td>\n",
       "      <td>0.000000</td>\n",
       "      <td>-1.000000</td>\n",
       "      <td>0.000000</td>\n",
       "      <td>-4.0</td>\n",
       "      <td>0.000000</td>\n",
       "      <td>0.000000</td>\n",
       "    </tr>\n",
       "    <tr>\n",
       "      <th>25%</th>\n",
       "      <td>0.460411</td>\n",
       "      <td>2.359443</td>\n",
       "      <td>0.595031</td>\n",
       "      <td>39.360237</td>\n",
       "      <td>2.787245</td>\n",
       "      <td>2.851912</td>\n",
       "      <td>2.901734</td>\n",
       "      <td>2.641586</td>\n",
       "      <td>0.230271</td>\n",
       "      <td>0.358193</td>\n",
       "      <td>...</td>\n",
       "      <td>0.000000</td>\n",
       "      <td>1.000000</td>\n",
       "      <td>0.000000</td>\n",
       "      <td>0.000000</td>\n",
       "      <td>0.000000</td>\n",
       "      <td>0.000000</td>\n",
       "      <td>1.000000</td>\n",
       "      <td>-4.0</td>\n",
       "      <td>0.000000</td>\n",
       "      <td>0.000000</td>\n",
       "    </tr>\n",
       "    <tr>\n",
       "      <th>50%</th>\n",
       "      <td>0.497904</td>\n",
       "      <td>2.599567</td>\n",
       "      <td>0.619052</td>\n",
       "      <td>75.322590</td>\n",
       "      <td>3.374255</td>\n",
       "      <td>3.038586</td>\n",
       "      <td>3.716628</td>\n",
       "      <td>3.326421</td>\n",
       "      <td>0.244080</td>\n",
       "      <td>0.372260</td>\n",
       "      <td>...</td>\n",
       "      <td>1.000000</td>\n",
       "      <td>1.000000</td>\n",
       "      <td>0.000000</td>\n",
       "      <td>0.000000</td>\n",
       "      <td>0.000000</td>\n",
       "      <td>0.000000</td>\n",
       "      <td>1.000000</td>\n",
       "      <td>-4.0</td>\n",
       "      <td>0.000000</td>\n",
       "      <td>1.000000</td>\n",
       "    </tr>\n",
       "    <tr>\n",
       "      <th>75%</th>\n",
       "      <td>0.544850</td>\n",
       "      <td>2.812247</td>\n",
       "      <td>0.643867</td>\n",
       "      <td>128.777866</td>\n",
       "      <td>3.658801</td>\n",
       "      <td>3.208932</td>\n",
       "      <td>4.080273</td>\n",
       "      <td>3.714825</td>\n",
       "      <td>0.263874</td>\n",
       "      <td>0.389083</td>\n",
       "      <td>...</td>\n",
       "      <td>2.000000</td>\n",
       "      <td>2.000000</td>\n",
       "      <td>0.000000</td>\n",
       "      <td>0.000000</td>\n",
       "      <td>1.000000</td>\n",
       "      <td>0.000000</td>\n",
       "      <td>1.000000</td>\n",
       "      <td>-4.0</td>\n",
       "      <td>0.000000</td>\n",
       "      <td>1.000000</td>\n",
       "    </tr>\n",
       "    <tr>\n",
       "      <th>max</th>\n",
       "      <td>0.816544</td>\n",
       "      <td>3.943875</td>\n",
       "      <td>0.750093</td>\n",
       "      <td>34102.753906</td>\n",
       "      <td>6.040375</td>\n",
       "      <td>4.048335</td>\n",
       "      <td>7.947968</td>\n",
       "      <td>6.124821</td>\n",
       "      <td>0.399365</td>\n",
       "      <td>0.487902</td>\n",
       "      <td>...</td>\n",
       "      <td>3.000000</td>\n",
       "      <td>3.000000</td>\n",
       "      <td>3.000000</td>\n",
       "      <td>3.000000</td>\n",
       "      <td>2.000000</td>\n",
       "      <td>0.000000</td>\n",
       "      <td>2.000000</td>\n",
       "      <td>-4.0</td>\n",
       "      <td>2.000000</td>\n",
       "      <td>1.000000</td>\n",
       "    </tr>\n",
       "  </tbody>\n",
       "</table>\n",
       "<p>8 rows × 74 columns</p>\n",
       "</div>"
      ],
      "text/plain": [
       "              cjv         cnr         efc          fber    fwhm_avg  \\\n",
       "count  176.000000  176.000000  176.000000    176.000000  176.000000   \n",
       "mean     0.513112    2.565567    0.619263    676.713451    3.284136   \n",
       "std      0.087037    0.452868    0.040512   3552.720376    0.522591   \n",
       "min      0.347812    1.071164    0.512326      5.847160    2.291860   \n",
       "25%      0.460411    2.359443    0.595031     39.360237    2.787245   \n",
       "50%      0.497904    2.599567    0.619052     75.322590    3.374255   \n",
       "75%      0.544850    2.812247    0.643867    128.777866    3.658801   \n",
       "max      0.816544    3.943875    0.750093  34102.753906    6.040375   \n",
       "\n",
       "           fwhm_x      fwhm_y      fwhm_z    icvs_csf     icvs_gm  ...  \\\n",
       "count  176.000000  176.000000  176.000000  176.000000  176.000000  ...   \n",
       "mean     3.049095    3.560878    3.242433    0.247735    0.375548  ...   \n",
       "std      0.266710    0.729615    0.636602    0.025286    0.024187  ...   \n",
       "min      2.391556    2.298952    2.121056    0.202592    0.310859  ...   \n",
       "25%      2.851912    2.901734    2.641586    0.230271    0.358193  ...   \n",
       "50%      3.038586    3.716628    3.326421    0.244080    0.372260  ...   \n",
       "75%      3.208932    4.080273    3.714825    0.263874    0.389083  ...   \n",
       "max      4.048335    7.947968    6.124821    0.399365    0.487902  ...   \n",
       "\n",
       "           INFLOW     OUTFLOW     INOTHER    OUTOTHER        WRAP   HEADCOVER  \\\n",
       "count  176.000000  176.000000  176.000000  176.000000  176.000000  176.000000   \n",
       "mean     1.301136    1.534091    0.107955    0.130682    0.414773   -0.022727   \n",
       "std      1.149011    1.013609    0.420536    0.523692    0.559191    0.149458   \n",
       "min     -1.000000   -1.000000    0.000000   -1.000000    0.000000   -1.000000   \n",
       "25%      0.000000    1.000000    0.000000    0.000000    0.000000    0.000000   \n",
       "50%      1.000000    1.000000    0.000000    0.000000    0.000000    0.000000   \n",
       "75%      2.000000    2.000000    0.000000    0.000000    1.000000    0.000000   \n",
       "max      3.000000    3.000000    3.000000    3.000000    2.000000    0.000000   \n",
       "\n",
       "        INHOMOGEN  IPMOTION      MARKER        PASS  \n",
       "count  176.000000     176.0  176.000000  176.000000  \n",
       "mean     0.965909      -4.0    0.284091    0.687500  \n",
       "std      0.211058       0.0    0.700186    0.464835  \n",
       "min      0.000000      -4.0    0.000000    0.000000  \n",
       "25%      1.000000      -4.0    0.000000    0.000000  \n",
       "50%      1.000000      -4.0    0.000000    1.000000  \n",
       "75%      1.000000      -4.0    0.000000    1.000000  \n",
       "max      2.000000      -4.0    2.000000    1.000000  \n",
       "\n",
       "[8 rows x 74 columns]"
      ]
     },
     "execution_count": 115,
     "metadata": {},
     "output_type": "execute_result"
    }
   ],
   "source": [
    "training_df_uni.describe()"
   ]
  },
  {
   "cell_type": "code",
   "execution_count": 116,
   "metadata": {},
   "outputs": [
    {
     "data": {
      "text/plain": [
       "<matplotlib.axes._subplots.AxesSubplot at 0x1a23c18450>"
      ]
     },
     "execution_count": 116,
     "metadata": {},
     "output_type": "execute_result"
    },
    {
     "data": {
      "image/png": "[encoded data removed]",
      "text/plain": [
       "<Figure size 1080x720 with 1 Axes>"
      ]
     },
     "metadata": {
      "needs_background": "light"
     },
     "output_type": "display_data"
    }
   ],
   "source": [
    "# check the disribution of INBGR\n",
    "inbgr_mean = np.mean(training_df_uni['INBGR'].values)\n",
    "zeros = (training_df_uni['INBGR'] == 0).astype(int).sum(axis=0)\n",
    "ones = (training_df_uni['INBGR'] == 1).astype(int).sum(axis=0)\n",
    "twos = (training_df_uni['INBGR'] == 2).astype(int).sum(axis=0)\n",
    "threes = (training_df_uni['INBGR'] == 3).astype(int).sum(axis=0)\n",
    "total = zeros + ones + twos + threes\n",
    "\n",
    "plt.figure(figsize=(15,10))\n",
    "plt.tight_layout()\n",
    "plt.title('Average of INBGR: {:1.3f}'.format(inbgr_mean))\n",
    "plt.text(2.7,0.55,\"Zero:{}  One:{}  Two:{}   Three:{} ; TOTAL:{}\".format(zeros,ones,twos,threes,total), style='italic',\n",
    "        bbox={'facecolor': 'red', 'alpha': 0.5, 'pad': 10})\n",
    "\n",
    "## plot kde\n",
    "plt.ylabel('pdf')\n",
    "seabornInstance.distplot(training_df_uni['INBGR'])\n",
    "\n",
    "## plot histogram\n",
    "#plt.ylabel('histogram')\n",
    "#seabornInstance.distplot(training_df_uniform['INBGR'], hist=True, kde=False)"
   ]
  },
  {
   "cell_type": "code",
   "execution_count": 117,
   "metadata": {},
   "outputs": [
    {
     "data": {
      "image/png": "[encoded data removed]",
      "text/plain": [
       "<Figure size 432x288 with 1 Axes>"
      ]
     },
     "metadata": {
      "needs_background": "light"
     },
     "output_type": "display_data"
    }
   ],
   "source": [
    "# Check how each mriqc measure is related to INBGR or eachother\n",
    "xlabel = 'qi_2'\n",
    "ylabel = 'INBGR'\n",
    "title = xlabel + ' vs ' + ylabel\n",
    "training_df_uni.plot(x=xlabel, y=ylabel, style='o')  \n",
    "plt.title(title)\n",
    "plt.xlabel(xlabel)  \n",
    "plt.ylabel(ylabel)  \n",
    "plt.show()"
   ]
  },
  {
   "cell_type": "markdown",
   "metadata": {},
   "source": [
    "# Set test/training data"
   ]
  },
  {
   "cell_type": "code",
   "execution_count": 118,
   "metadata": {
    "scrolled": true
   },
   "outputs": [
    {
     "name": "stdout",
     "output_type": "stream",
     "text": [
      "[[0, 'Series'], [1, 'SeriesDescription'], [2, 'cjv'], [3, 'cnr'], [4, 'efc'], [5, 'fber'], [6, 'fwhm_avg'], [7, 'fwhm_x'], [8, 'fwhm_y'], [9, 'fwhm_z'], [10, 'icvs_csf'], [11, 'icvs_gm'], [12, 'icvs_wm'], [13, 'inu_med'], [14, 'inu_range'], [15, 'qi_1'], [16, 'qi_2'], [17, 'rpve_csf'], [18, 'rpve_gm'], [19, 'rpve_wm'], [20, 'snr_csf'], [21, 'snr_gm'], [22, 'snr_total'], [23, 'snr_wm'], [24, 'snrd_csf'], [25, 'snrd_gm'], [26, 'snrd_total'], [27, 'snrd_wm'], [28, 'summary_bg_k'], [29, 'summary_bg_mad'], [30, 'summary_bg_mean'], [31, 'summary_bg_median'], [32, 'summary_bg_n'], [33, 'summary_bg_p05'], [34, 'summary_bg_p95'], [35, 'summary_bg_stdv'], [36, 'summary_csf_k'], [37, 'summary_csf_mad'], [38, 'summary_csf_mean'], [39, 'summary_csf_median'], [40, 'summary_csf_n'], [41, 'summary_csf_p05'], [42, 'summary_csf_p95'], [43, 'summary_csf_stdv'], [44, 'summary_gm_k'], [45, 'summary_gm_mad'], [46, 'summary_gm_mean'], [47, 'summary_gm_median'], [48, 'summary_gm_n'], [49, 'summary_gm_p05'], [50, 'summary_gm_p95'], [51, 'summary_gm_stdv'], [52, 'summary_wm_k'], [53, 'summary_wm_mad'], [54, 'summary_wm_mean'], [55, 'summary_wm_median'], [56, 'summary_wm_n'], [57, 'summary_wm_p05'], [58, 'summary_wm_p95'], [59, 'summary_wm_stdv'], [60, 'tpm_overlap_csf'], [61, 'tpm_overlap_gm'], [62, 'tpm_overlap_wm'], [63, 'wm2max'], [64, 'INBGR'], [65, 'OUTBGR'], [66, 'INFLOW'], [67, 'OUTFLOW'], [68, 'INOTHER'], [69, 'OUTOTHER'], [70, 'WRAP'], [71, 'HEADCOVER'], [72, 'INHOMOGEN'], [73, 'IPMOTION'], [74, 'MARKER'], [75, 'PASS']]\n"
     ]
    }
   ],
   "source": [
    "headerlist = training_df_uni.columns.values.tolist()\n",
    "# print headers to find the index of the columns of interest\n",
    "print ([list((i, headerlist[i])) for i in range(len(headerlist))])"
   ]
  },
  {
   "cell_type": "markdown",
   "metadata": {},
   "source": [
    "# Train on uniformly distributed dataset\n",
    "# Test on the whole dataset"
   ]
  },
  {
   "cell_type": "code",
   "execution_count": 119,
   "metadata": {},
   "outputs": [],
   "source": [
    "predictors = headerlist[2:64]\n",
    "\n",
    "X_train = training_df_uni[predictors].values\n",
    "y_train = training_df_uni['INBGR'].values\n",
    "\n",
    "X_test = training_df[predictors].values\n",
    "y_test = training_df['INBGR'].values"
   ]
  },
  {
   "cell_type": "code",
   "execution_count": 120,
   "metadata": {},
   "outputs": [
    {
     "name": "stdout",
     "output_type": "stream",
     "text": [
      "(176, 62)\n",
      "(6950, 62)\n",
      "(176,)\n",
      "(6950,)\n",
      "44\n"
     ]
    }
   ],
   "source": [
    "print(X_train.shape)\n",
    "print(X_test.shape)\n",
    "print(y_train.shape)\n",
    "print(y_test.shape)\n",
    "threes = (y_train == 3).astype(int).sum(axis=0)\n",
    "print(threes)"
   ]
  },
  {
   "cell_type": "markdown",
   "metadata": {},
   "source": [
    "# Multivariate Linear Regression"
   ]
  },
  {
   "cell_type": "code",
   "execution_count": 121,
   "metadata": {},
   "outputs": [
    {
     "data": {
      "text/html": [
       "<div>\n",
       "<style scoped>\n",
       "    .dataframe tbody tr th:only-of-type {\n",
       "        vertical-align: middle;\n",
       "    }\n",
       "\n",
       "    .dataframe tbody tr th {\n",
       "        vertical-align: top;\n",
       "    }\n",
       "\n",
       "    .dataframe thead th {\n",
       "        text-align: right;\n",
       "    }\n",
       "</style>\n",
       "<table border=\"1\" class=\"dataframe\">\n",
       "  <thead>\n",
       "    <tr style=\"text-align: right;\">\n",
       "      <th></th>\n",
       "      <th>Actual</th>\n",
       "      <th>Predicted</th>\n",
       "    </tr>\n",
       "  </thead>\n",
       "  <tbody>\n",
       "    <tr>\n",
       "      <th>0</th>\n",
       "      <td>0.0</td>\n",
       "      <td>0.746587</td>\n",
       "    </tr>\n",
       "    <tr>\n",
       "      <th>1</th>\n",
       "      <td>0.0</td>\n",
       "      <td>1.126812</td>\n",
       "    </tr>\n",
       "    <tr>\n",
       "      <th>2</th>\n",
       "      <td>0.0</td>\n",
       "      <td>0.993943</td>\n",
       "    </tr>\n",
       "    <tr>\n",
       "      <th>3</th>\n",
       "      <td>0.0</td>\n",
       "      <td>0.936738</td>\n",
       "    </tr>\n",
       "    <tr>\n",
       "      <th>4</th>\n",
       "      <td>0.0</td>\n",
       "      <td>1.891630</td>\n",
       "    </tr>\n",
       "    <tr>\n",
       "      <th>...</th>\n",
       "      <td>...</td>\n",
       "      <td>...</td>\n",
       "    </tr>\n",
       "    <tr>\n",
       "      <th>6945</th>\n",
       "      <td>2.0</td>\n",
       "      <td>1.003014</td>\n",
       "    </tr>\n",
       "    <tr>\n",
       "      <th>6946</th>\n",
       "      <td>1.0</td>\n",
       "      <td>4.098326</td>\n",
       "    </tr>\n",
       "    <tr>\n",
       "      <th>6947</th>\n",
       "      <td>1.0</td>\n",
       "      <td>3.190312</td>\n",
       "    </tr>\n",
       "    <tr>\n",
       "      <th>6948</th>\n",
       "      <td>0.0</td>\n",
       "      <td>0.498657</td>\n",
       "    </tr>\n",
       "    <tr>\n",
       "      <th>6949</th>\n",
       "      <td>0.0</td>\n",
       "      <td>0.420618</td>\n",
       "    </tr>\n",
       "  </tbody>\n",
       "</table>\n",
       "<p>6950 rows × 2 columns</p>\n",
       "</div>"
      ],
      "text/plain": [
       "      Actual  Predicted\n",
       "0        0.0   0.746587\n",
       "1        0.0   1.126812\n",
       "2        0.0   0.993943\n",
       "3        0.0   0.936738\n",
       "4        0.0   1.891630\n",
       "...      ...        ...\n",
       "6945     2.0   1.003014\n",
       "6946     1.0   4.098326\n",
       "6947     1.0   3.190312\n",
       "6948     0.0   0.498657\n",
       "6949     0.0   0.420618\n",
       "\n",
       "[6950 rows x 2 columns]"
      ]
     },
     "execution_count": 121,
     "metadata": {},
     "output_type": "execute_result"
    }
   ],
   "source": [
    "#training the algorithm\n",
    "lm_model = LinearRegression()  \n",
    "lm_model.fit(X_train, y_train)\n",
    "\n",
    "y_pred_lm = lm_model.predict(X_test)\n",
    "# Comparison between Actual and Predicted value\n",
    "df = pd.DataFrame({'Actual': y_test, 'Predicted': y_pred_lm})\n",
    "df"
   ]
  },
  {
   "cell_type": "code",
   "execution_count": 122,
   "metadata": {},
   "outputs": [
    {
     "data": {
      "image/png": "[encoded data removed]",
      "text/plain": [
       "<Figure size 720x576 with 1 Axes>"
      ]
     },
     "metadata": {
      "needs_background": "light"
     },
     "output_type": "display_data"
    }
   ],
   "source": [
    "# plot some actual vs predicted samples\n",
    "df1 = df.head(50)\n",
    "df1.plot(kind='bar',figsize=(10,8))\n",
    "plt.grid(which='major', linestyle='-', linewidth='0.5', color='green')\n",
    "plt.grid(which='minor', linestyle=':', linewidth='0.5', color='black')\n",
    "plt.show()"
   ]
  },
  {
   "cell_type": "code",
   "execution_count": 123,
   "metadata": {},
   "outputs": [
    {
     "data": {
      "text/html": [
       "<div>\n",
       "<style scoped>\n",
       "    .dataframe tbody tr th:only-of-type {\n",
       "        vertical-align: middle;\n",
       "    }\n",
       "\n",
       "    .dataframe tbody tr th {\n",
       "        vertical-align: top;\n",
       "    }\n",
       "\n",
       "    .dataframe thead th {\n",
       "        text-align: right;\n",
       "    }\n",
       "</style>\n",
       "<table border=\"1\" class=\"dataframe\">\n",
       "  <thead>\n",
       "    <tr style=\"text-align: right;\">\n",
       "      <th></th>\n",
       "      <th>Coefficient</th>\n",
       "    </tr>\n",
       "  </thead>\n",
       "  <tbody>\n",
       "    <tr>\n",
       "      <th>qi_1</th>\n",
       "      <td>-6.160168e+01</td>\n",
       "    </tr>\n",
       "    <tr>\n",
       "      <th>icvs_csf</th>\n",
       "      <td>2.045689e+01</td>\n",
       "    </tr>\n",
       "    <tr>\n",
       "      <th>icvs_gm</th>\n",
       "      <td>-1.623882e+01</td>\n",
       "    </tr>\n",
       "    <tr>\n",
       "      <th>tpm_overlap_csf</th>\n",
       "      <td>1.453187e+01</td>\n",
       "    </tr>\n",
       "    <tr>\n",
       "      <th>qi_2</th>\n",
       "      <td>1.108487e+01</td>\n",
       "    </tr>\n",
       "    <tr>\n",
       "      <th>...</th>\n",
       "      <td>...</td>\n",
       "    </tr>\n",
       "    <tr>\n",
       "      <th>summary_csf_n</th>\n",
       "      <td>-2.389751e-05</td>\n",
       "    </tr>\n",
       "    <tr>\n",
       "      <th>fber</th>\n",
       "      <td>-1.746847e-05</td>\n",
       "    </tr>\n",
       "    <tr>\n",
       "      <th>summary_wm_n</th>\n",
       "      <td>-1.032285e-05</td>\n",
       "    </tr>\n",
       "    <tr>\n",
       "      <th>summary_gm_n</th>\n",
       "      <td>-3.241596e-07</td>\n",
       "    </tr>\n",
       "    <tr>\n",
       "      <th>summary_bg_n</th>\n",
       "      <td>6.370855e-08</td>\n",
       "    </tr>\n",
       "  </tbody>\n",
       "</table>\n",
       "<p>62 rows × 1 columns</p>\n",
       "</div>"
      ],
      "text/plain": [
       "                  Coefficient\n",
       "qi_1            -6.160168e+01\n",
       "icvs_csf         2.045689e+01\n",
       "icvs_gm         -1.623882e+01\n",
       "tpm_overlap_csf  1.453187e+01\n",
       "qi_2             1.108487e+01\n",
       "...                       ...\n",
       "summary_csf_n   -2.389751e-05\n",
       "fber            -1.746847e-05\n",
       "summary_wm_n    -1.032285e-05\n",
       "summary_gm_n    -3.241596e-07\n",
       "summary_bg_n     6.370855e-08\n",
       "\n",
       "[62 rows x 1 columns]"
      ]
     },
     "execution_count": 123,
     "metadata": {},
     "output_type": "execute_result"
    }
   ],
   "source": [
    "# Find linear regression coefficient for each predictor\n",
    "coeff_df = pd.DataFrame(lm_model.coef_, training_df[predictors].columns, columns=['Coefficient'])\n",
    "\n",
    "#pd.set_option('display.max_rows', None)\n",
    "#display(coeff_df)\n",
    "\n",
    "# sort values based on coef\n",
    "#coeff_df.sort_values(by=['Coefficient'])\n",
    "\n",
    "# sort values based on absolute value of coef\n",
    "coeff_df_sorted = coeff_df.reindex(coeff_df.Coefficient.abs().sort_values(ascending=False).index)\n",
    "coeff_df_sorted"
   ]
  },
  {
   "cell_type": "code",
   "execution_count": 124,
   "metadata": {},
   "outputs": [
    {
     "name": "stderr",
     "output_type": "stream",
     "text": [
      "No handles with labels found to put in legend.\n"
     ]
    },
    {
     "data": {
      "image/png": "[encoded data removed]",
      "text/plain": [
       "<Figure size 432x288 with 1 Axes>"
      ]
     },
     "metadata": {
      "needs_background": "light"
     },
     "output_type": "display_data"
    }
   ],
   "source": [
    "coeffs = pd.Series(coeff_df_sorted['Coefficient'],index=coeff_df_sorted.index)\n",
    "coeffs1 = coeffs.head(15)\n",
    "# Creating a bar plot\n",
    "seabornInstance.barplot(x=coeffs1, y=coeffs1.index)\n",
    "# Add labels to your graph\n",
    "plt.xlabel('Coeficients')\n",
    "plt.ylabel('Features')\n",
    "plt.title(\"Visualizing Features with Large Coeficients for Linear Regression\")\n",
    "plt.legend()\n",
    "plt.show()"
   ]
  },
  {
   "cell_type": "code",
   "execution_count": 125,
   "metadata": {},
   "outputs": [
    {
     "name": "stdout",
     "output_type": "stream",
     "text": [
      "Mean Absolute Error: 0.7464594186805913\n",
      "Mean Squared Error: 1.3208690626634256\n",
      "Root Mean Squared Error: 1.1492906780546972\n"
     ]
    }
   ],
   "source": [
    "print('Mean Absolute Error:', metrics.mean_absolute_error(y_test, y_pred_lm))  \n",
    "print('Mean Squared Error:', metrics.mean_squared_error(y_test, y_pred_lm))\n",
    "print('Root Mean Squared Error:', np.sqrt(metrics.mean_squared_error(y_test, y_pred_lm)))"
   ]
  },
  {
   "cell_type": "code",
   "execution_count": 126,
   "metadata": {},
   "outputs": [
    {
     "name": "stdout",
     "output_type": "stream",
     "text": [
      "R-squared: -2.3086725259404135\n"
     ]
    }
   ],
   "source": [
    "r_squared_lm = metrics.r2_score(y_test, y_pred_lm)\n",
    "print('R-squared:', r_squared_lm)  "
   ]
  },
  {
   "cell_type": "code",
   "execution_count": 127,
   "metadata": {},
   "outputs": [
    {
     "data": {
      "image/png": "[encoded data removed]",
      "text/plain": [
       "<Figure size 432x288 with 1 Axes>"
      ]
     },
     "metadata": {
      "needs_background": "light"
     },
     "output_type": "display_data"
    }
   ],
   "source": [
    "plt.scatter(y_test, y_pred_lm)\n",
    "plt.xlabel('Actual values')\n",
    "plt.ylabel('Predicted values')\n",
    "plt.title('Multivariate Linear Regression | R-squared: {:1.3f}'.format(r_squared_lm))\n",
    "\n",
    "plt.plot(np.unique(y_test), np.poly1d(np.polyfit(y_test, y_pred_lm, 1))(np.unique(y_test)), color='red')\n",
    "\n",
    "plt.show()"
   ]
  },
  {
   "cell_type": "markdown",
   "metadata": {},
   "source": [
    "# GLM"
   ]
  },
  {
   "cell_type": "markdown",
   "metadata": {},
   "source": [
    "# Modeled with poison regression"
   ]
  },
  {
   "cell_type": "code",
   "execution_count": 128,
   "metadata": {},
   "outputs": [
    {
     "name": "stdout",
     "output_type": "stream",
     "text": [
      "                 Generalized Linear Model Regression Results                  \n",
      "==============================================================================\n",
      "Dep. Variable:                      y   No. Observations:                  176\n",
      "Model:                            GLM   Df Residuals:                      117\n",
      "Model Family:                 Poisson   Df Model:                           58\n",
      "Link Function:                    log   Scale:                          1.0000\n",
      "Method:                          IRLS   Log-Likelihood:                -201.77\n",
      "Date:                Tue, 21 Jul 2020   Deviance:                       68.902\n",
      "Time:                        16:50:20   Pearson chi2:                     56.1\n",
      "No. Iterations:                     8                                         \n",
      "Covariance Type:            nonrobust                                         \n",
      "==============================================================================\n",
      "                 coef    std err          z      P>|z|      [0.025      0.975]\n",
      "------------------------------------------------------------------------------\n",
      "x1            -1.6568      6.852     -0.242      0.809     -15.087      11.773\n",
      "x2             1.7070      1.342      1.272      0.204      -0.924       4.338\n",
      "x3             3.9737      5.582      0.712      0.477      -6.966      14.914\n",
      "x4            -0.0003      0.000     -0.748      0.454      -0.001       0.000\n",
      "x5             0.2484      0.220      1.129      0.259      -0.183       0.680\n",
      "x6             0.2924      0.985      0.297      0.767      -1.638       2.223\n",
      "x7             0.4361      0.644      0.678      0.498      -0.825       1.698\n",
      "x8             0.0099      0.822      0.012      0.990      -1.601       1.621\n",
      "x9          2348.7818   4108.506      0.572      0.568   -5703.741    1.04e+04\n",
      "x10         2316.8753   4107.539      0.564      0.573   -5733.753    1.04e+04\n",
      "x11         2327.4871   4107.883      0.567      0.571   -5723.816    1.04e+04\n",
      "x12           -0.7643      1.234     -0.619      0.536      -3.183       1.655\n",
      "x13            0.0264      1.458      0.018      0.986      -2.832       2.885\n",
      "x14          -79.3648     70.093     -1.132      0.258    -216.744      58.014\n",
      "x15           -9.9912     26.809     -0.373      0.709     -62.537      42.554\n",
      "x16            0.1349      0.133      1.013      0.311      -0.126       0.396\n",
      "x17           -0.2303      0.195     -1.179      0.238      -0.613       0.153\n",
      "x18            0.0170      0.130      0.130      0.896      -0.238       0.272\n",
      "x19           -0.4210      0.668     -0.630      0.529      -1.731       0.889\n",
      "x20           -0.1601      0.304     -0.526      0.599      -0.756       0.436\n",
      "x21           -0.2512      0.213     -1.180      0.238      -0.668       0.166\n",
      "x22           -0.1725      0.140     -1.228      0.219      -0.448       0.103\n",
      "x23            0.0671      0.266      0.253      0.801      -0.453       0.588\n",
      "x24           -0.1711      0.319     -0.537      0.591      -0.795       0.453\n",
      "x25            0.0009      0.027      0.033      0.973      -0.053       0.055\n",
      "x26            0.1068      0.134      0.797      0.426      -0.156       0.370\n",
      "x27           -0.0003      0.000     -0.927      0.354      -0.001       0.000\n",
      "x28            0.0138      0.045      0.307      0.759      -0.075       0.102\n",
      "x29            0.0607      0.188      0.323      0.747      -0.308       0.430\n",
      "x30           -0.0615      0.124     -0.498      0.619      -0.304       0.181\n",
      "x31         1.299e-07   1.87e-07      0.694      0.488   -2.37e-07    4.97e-07\n",
      "x32            0.0080      0.057      0.141      0.888      -0.104       0.120\n",
      "x33           -0.0156      0.024     -0.656      0.512      -0.062       0.031\n",
      "x34            0.0421      0.043      0.984      0.325      -0.042       0.126\n",
      "x35            0.0066      0.017      0.381      0.704      -0.027       0.041\n",
      "x36           -0.0066      0.009     -0.713      0.476      -0.025       0.012\n",
      "x37           -0.0215      0.025     -0.873      0.383      -0.070       0.027\n",
      "x38            0.0218      0.022      1.003      0.316      -0.021       0.064\n",
      "x39        -1.341e-05   1.19e-05     -1.128      0.259   -3.67e-05    9.89e-06\n",
      "x40            0.0003      0.009      0.035      0.972      -0.017       0.017\n",
      "x41            0.0009      0.001      0.700      0.484      -0.002       0.003\n",
      "x42            0.0005      0.008      0.067      0.947      -0.015       0.016\n",
      "x43            0.8287      0.584      1.419      0.156      -0.316       1.973\n",
      "x44            0.0434      0.075      0.576      0.565      -0.104       0.191\n",
      "x45           -0.0151      0.108     -0.141      0.888      -0.226       0.196\n",
      "x46            0.0441      0.077      0.573      0.567      -0.107       0.195\n",
      "x47         6.953e-06   2.55e-05      0.273      0.785   -4.31e-05     5.7e-05\n",
      "x48           -0.0196      0.041     -0.478      0.633      -0.100       0.061\n",
      "x49            0.0172      0.035      0.492      0.622      -0.051       0.086\n",
      "x50           -0.0887      0.158     -0.561      0.575      -0.399       0.221\n",
      "x51            0.0170      0.083      0.206      0.837      -0.145       0.179\n",
      "x52           -0.0180      0.041     -0.443      0.658      -0.098       0.062\n",
      "x53           -0.0196      0.100     -0.196      0.845      -0.216       0.177\n",
      "x54           -2.3419      4.114     -0.569      0.569     -10.406       5.722\n",
      "x55        -8.398e-06   7.85e-06     -1.070      0.285   -2.38e-05    6.98e-06\n",
      "x56            0.0004      0.037      0.011      0.991      -0.071       0.072\n",
      "x57            0.0111      0.011      1.023      0.306      -0.010       0.032\n",
      "x58           -0.0082      0.049     -0.166      0.868      -0.105       0.089\n",
      "x59           12.0355     10.807      1.114      0.265      -9.147      33.218\n",
      "x60            7.2186     10.062      0.717      0.473     -12.502      26.939\n",
      "x61           -4.6522      6.416     -0.725      0.468     -17.227       7.922\n",
      "x62           -1.3193      2.342     -0.563      0.573      -5.909       3.270\n",
      "==============================================================================\n"
     ]
    }
   ],
   "source": [
    "import statsmodels.api as sm\n",
    "glm_model = sm.GLM(y_train, X_train, family=sm.families.Poisson())\n",
    "glm_results = glm_model.fit()\n",
    "print(glm_results.summary())"
   ]
  },
  {
   "cell_type": "code",
   "execution_count": 129,
   "metadata": {},
   "outputs": [
    {
     "data": {
      "text/html": [
       "<div>\n",
       "<style scoped>\n",
       "    .dataframe tbody tr th:only-of-type {\n",
       "        vertical-align: middle;\n",
       "    }\n",
       "\n",
       "    .dataframe tbody tr th {\n",
       "        vertical-align: top;\n",
       "    }\n",
       "\n",
       "    .dataframe thead th {\n",
       "        text-align: right;\n",
       "    }\n",
       "</style>\n",
       "<table border=\"1\" class=\"dataframe\">\n",
       "  <thead>\n",
       "    <tr style=\"text-align: right;\">\n",
       "      <th></th>\n",
       "      <th>Actual</th>\n",
       "      <th>Predicted</th>\n",
       "    </tr>\n",
       "  </thead>\n",
       "  <tbody>\n",
       "    <tr>\n",
       "      <th>0</th>\n",
       "      <td>0.0</td>\n",
       "      <td>0.559462</td>\n",
       "    </tr>\n",
       "    <tr>\n",
       "      <th>1</th>\n",
       "      <td>0.0</td>\n",
       "      <td>0.834016</td>\n",
       "    </tr>\n",
       "    <tr>\n",
       "      <th>2</th>\n",
       "      <td>0.0</td>\n",
       "      <td>0.686092</td>\n",
       "    </tr>\n",
       "    <tr>\n",
       "      <th>3</th>\n",
       "      <td>0.0</td>\n",
       "      <td>0.589749</td>\n",
       "    </tr>\n",
       "    <tr>\n",
       "      <th>4</th>\n",
       "      <td>0.0</td>\n",
       "      <td>1.730365</td>\n",
       "    </tr>\n",
       "    <tr>\n",
       "      <th>...</th>\n",
       "      <td>...</td>\n",
       "      <td>...</td>\n",
       "    </tr>\n",
       "    <tr>\n",
       "      <th>6945</th>\n",
       "      <td>2.0</td>\n",
       "      <td>1.489836</td>\n",
       "    </tr>\n",
       "    <tr>\n",
       "      <th>6946</th>\n",
       "      <td>1.0</td>\n",
       "      <td>13.507602</td>\n",
       "    </tr>\n",
       "    <tr>\n",
       "      <th>6947</th>\n",
       "      <td>1.0</td>\n",
       "      <td>8.939749</td>\n",
       "    </tr>\n",
       "    <tr>\n",
       "      <th>6948</th>\n",
       "      <td>0.0</td>\n",
       "      <td>0.424772</td>\n",
       "    </tr>\n",
       "    <tr>\n",
       "      <th>6949</th>\n",
       "      <td>0.0</td>\n",
       "      <td>0.485359</td>\n",
       "    </tr>\n",
       "  </tbody>\n",
       "</table>\n",
       "<p>6950 rows × 2 columns</p>\n",
       "</div>"
      ],
      "text/plain": [
       "      Actual  Predicted\n",
       "0        0.0   0.559462\n",
       "1        0.0   0.834016\n",
       "2        0.0   0.686092\n",
       "3        0.0   0.589749\n",
       "4        0.0   1.730365\n",
       "...      ...        ...\n",
       "6945     2.0   1.489836\n",
       "6946     1.0  13.507602\n",
       "6947     1.0   8.939749\n",
       "6948     0.0   0.424772\n",
       "6949     0.0   0.485359\n",
       "\n",
       "[6950 rows x 2 columns]"
      ]
     },
     "execution_count": 129,
     "metadata": {},
     "output_type": "execute_result"
    }
   ],
   "source": [
    "y_pred_glm = glm_results.predict(X_test)\n",
    "# Comparison between Actual and Predicted value\n",
    "df = pd.DataFrame({'Actual': y_test, 'Predicted': y_pred_glm})\n",
    "df"
   ]
  },
  {
   "cell_type": "code",
   "execution_count": 130,
   "metadata": {},
   "outputs": [
    {
     "data": {
      "image/png": "[encoded data removed]",
      "text/plain": [
       "<Figure size 720x576 with 1 Axes>"
      ]
     },
     "metadata": {
      "needs_background": "light"
     },
     "output_type": "display_data"
    }
   ],
   "source": [
    "# plot some actual vs predicted samples\n",
    "df1 = df.head(50)\n",
    "df1.plot(kind='bar',figsize=(10,8))\n",
    "plt.grid(which='major', linestyle='-', linewidth='0.5', color='green')\n",
    "plt.grid(which='minor', linestyle=':', linewidth='0.5', color='black')\n",
    "plt.show()"
   ]
  },
  {
   "cell_type": "code",
   "execution_count": 131,
   "metadata": {},
   "outputs": [
    {
     "data": {
      "text/html": [
       "<div>\n",
       "<style scoped>\n",
       "    .dataframe tbody tr th:only-of-type {\n",
       "        vertical-align: middle;\n",
       "    }\n",
       "\n",
       "    .dataframe tbody tr th {\n",
       "        vertical-align: top;\n",
       "    }\n",
       "\n",
       "    .dataframe thead th {\n",
       "        text-align: right;\n",
       "    }\n",
       "</style>\n",
       "<table border=\"1\" class=\"dataframe\">\n",
       "  <thead>\n",
       "    <tr style=\"text-align: right;\">\n",
       "      <th></th>\n",
       "      <th>Coefficient</th>\n",
       "    </tr>\n",
       "  </thead>\n",
       "  <tbody>\n",
       "    <tr>\n",
       "      <th>icvs_csf</th>\n",
       "      <td>2.348782e+03</td>\n",
       "    </tr>\n",
       "    <tr>\n",
       "      <th>icvs_wm</th>\n",
       "      <td>2.327487e+03</td>\n",
       "    </tr>\n",
       "    <tr>\n",
       "      <th>icvs_gm</th>\n",
       "      <td>2.316875e+03</td>\n",
       "    </tr>\n",
       "    <tr>\n",
       "      <th>qi_1</th>\n",
       "      <td>-7.936480e+01</td>\n",
       "    </tr>\n",
       "    <tr>\n",
       "      <th>tpm_overlap_csf</th>\n",
       "      <td>1.203552e+01</td>\n",
       "    </tr>\n",
       "    <tr>\n",
       "      <th>...</th>\n",
       "      <td>...</td>\n",
       "    </tr>\n",
       "    <tr>\n",
       "      <th>fber</th>\n",
       "      <td>-2.502717e-04</td>\n",
       "    </tr>\n",
       "    <tr>\n",
       "      <th>summary_csf_n</th>\n",
       "      <td>-1.341108e-05</td>\n",
       "    </tr>\n",
       "    <tr>\n",
       "      <th>summary_wm_n</th>\n",
       "      <td>-8.398190e-06</td>\n",
       "    </tr>\n",
       "    <tr>\n",
       "      <th>summary_gm_n</th>\n",
       "      <td>6.953047e-06</td>\n",
       "    </tr>\n",
       "    <tr>\n",
       "      <th>summary_bg_n</th>\n",
       "      <td>1.299457e-07</td>\n",
       "    </tr>\n",
       "  </tbody>\n",
       "</table>\n",
       "<p>62 rows × 1 columns</p>\n",
       "</div>"
      ],
      "text/plain": [
       "                  Coefficient\n",
       "icvs_csf         2.348782e+03\n",
       "icvs_wm          2.327487e+03\n",
       "icvs_gm          2.316875e+03\n",
       "qi_1            -7.936480e+01\n",
       "tpm_overlap_csf  1.203552e+01\n",
       "...                       ...\n",
       "fber            -2.502717e-04\n",
       "summary_csf_n   -1.341108e-05\n",
       "summary_wm_n    -8.398190e-06\n",
       "summary_gm_n     6.953047e-06\n",
       "summary_bg_n     1.299457e-07\n",
       "\n",
       "[62 rows x 1 columns]"
      ]
     },
     "execution_count": 131,
     "metadata": {},
     "output_type": "execute_result"
    }
   ],
   "source": [
    "# Find linear regression coefficient for each predictor\n",
    "coeff_df = pd.DataFrame(glm_results.params, training_df[predictors].columns, columns=['Coefficient'])\n",
    "\n",
    "#pd.set_option('display.max_rows', None)\n",
    "#display(coeff_df)\n",
    "\n",
    "# sort values based on coef\n",
    "#coeff_df.sort_values(by=['Coefficient'])\n",
    "\n",
    "# sort values based on absolute value of coef\n",
    "coeff_df_sorted = coeff_df.reindex(coeff_df.Coefficient.abs().sort_values(ascending=False).index)\n",
    "coeff_df_sorted"
   ]
  },
  {
   "cell_type": "code",
   "execution_count": 132,
   "metadata": {},
   "outputs": [
    {
     "name": "stderr",
     "output_type": "stream",
     "text": [
      "No handles with labels found to put in legend.\n"
     ]
    },
    {
     "data": {
      "image/png": "[encoded data removed]",
      "text/plain": [
       "<Figure size 432x288 with 1 Axes>"
      ]
     },
     "metadata": {
      "needs_background": "light"
     },
     "output_type": "display_data"
    }
   ],
   "source": [
    "coeffs = pd.Series(coeff_df_sorted['Coefficient'],index=coeff_df_sorted.index)\n",
    "coeffs1 = coeffs.head(15)\n",
    "# Creating a bar plot\n",
    "seabornInstance.barplot(x=coeffs1, y=coeffs1.index)\n",
    "# Add labels to your graph\n",
    "plt.xlabel('Coeficients')\n",
    "plt.ylabel('Features')\n",
    "plt.title(\"Visualizing Features with Large Coeficients for GLM\")\n",
    "plt.legend()\n",
    "plt.show()"
   ]
  },
  {
   "cell_type": "code",
   "execution_count": 133,
   "metadata": {},
   "outputs": [
    {
     "name": "stdout",
     "output_type": "stream",
     "text": [
      "Mean Absolute Error: 0.9265085877493\n",
      "Mean Squared Error: 82.37743267716125\n",
      "Root Mean Squared Error: 9.076201445382383\n"
     ]
    }
   ],
   "source": [
    "print('Mean Absolute Error:', metrics.mean_absolute_error(y_test, y_pred_glm))  \n",
    "print('Mean Squared Error:', metrics.mean_squared_error(y_test, y_pred_glm))  \n",
    "print('Root Mean Squared Error:', np.sqrt(metrics.mean_squared_error(y_test, y_pred_glm)))"
   ]
  },
  {
   "cell_type": "code",
   "execution_count": 134,
   "metadata": {},
   "outputs": [
    {
     "name": "stdout",
     "output_type": "stream",
     "text": [
      "R-squared: -205.34895309519504\n"
     ]
    }
   ],
   "source": [
    "r_squared_glm = metrics.r2_score(y_test, y_pred_glm)\n",
    "print('R-squared:', r_squared_glm)"
   ]
  },
  {
   "cell_type": "code",
   "execution_count": 135,
   "metadata": {},
   "outputs": [
    {
     "data": {
      "image/png": "[encoded data removed]",
      "text/plain": [
       "<Figure size 432x288 with 1 Axes>"
      ]
     },
     "metadata": {
      "needs_background": "light"
     },
     "output_type": "display_data"
    }
   ],
   "source": [
    "plt.scatter(y_test, y_pred_glm)\n",
    "plt.xlabel('Actual values')\n",
    "plt.ylabel('Predicted values')\n",
    "plt.title('GLM Regression | R-squared: {:1.3f}'.format(r_squared_glm))\n",
    "\n",
    "plt.plot(np.unique(y_test), np.poly1d(np.polyfit(y_test, y_pred_glm, 1))(np.unique(y_test)), color='red')\n",
    "\n",
    "plt.show()"
   ]
  },
  {
   "cell_type": "markdown",
   "metadata": {},
   "source": [
    "# Random Forest Regression With Default Parameters"
   ]
  },
  {
   "cell_type": "code",
   "execution_count": 136,
   "metadata": {},
   "outputs": [
    {
     "data": {
      "text/plain": [
       "RandomForestRegressor(bootstrap=True, ccp_alpha=0.0, criterion='mse',\n",
       "                      max_depth=None, max_features='auto', max_leaf_nodes=None,\n",
       "                      max_samples=None, min_impurity_decrease=0.0,\n",
       "                      min_impurity_split=None, min_samples_leaf=1,\n",
       "                      min_samples_split=2, min_weight_fraction_leaf=0.0,\n",
       "                      n_estimators=100, n_jobs=None, oob_score=False,\n",
       "                      random_state=0, verbose=0, warm_start=False)"
      ]
     },
     "execution_count": 136,
     "metadata": {},
     "output_type": "execute_result"
    }
   ],
   "source": [
    "# Set the regressor\n",
    "# setting the random_state makes the results reproducible\n",
    "rfr = RandomForestRegressor(n_estimators=100, random_state=0)\n",
    "\n",
    "#Train the model using the training sets y_pred=clf.predict(X_test)\n",
    "rfr.fit(X_train,y_train)"
   ]
  },
  {
   "cell_type": "code",
   "execution_count": 137,
   "metadata": {},
   "outputs": [
    {
     "data": {
      "text/html": [
       "<div>\n",
       "<style scoped>\n",
       "    .dataframe tbody tr th:only-of-type {\n",
       "        vertical-align: middle;\n",
       "    }\n",
       "\n",
       "    .dataframe tbody tr th {\n",
       "        vertical-align: top;\n",
       "    }\n",
       "\n",
       "    .dataframe thead th {\n",
       "        text-align: right;\n",
       "    }\n",
       "</style>\n",
       "<table border=\"1\" class=\"dataframe\">\n",
       "  <thead>\n",
       "    <tr style=\"text-align: right;\">\n",
       "      <th></th>\n",
       "      <th>Actual</th>\n",
       "      <th>RF Predicted</th>\n",
       "    </tr>\n",
       "  </thead>\n",
       "  <tbody>\n",
       "    <tr>\n",
       "      <th>0</th>\n",
       "      <td>0.0</td>\n",
       "      <td>0.43</td>\n",
       "    </tr>\n",
       "    <tr>\n",
       "      <th>1</th>\n",
       "      <td>0.0</td>\n",
       "      <td>0.60</td>\n",
       "    </tr>\n",
       "    <tr>\n",
       "      <th>2</th>\n",
       "      <td>0.0</td>\n",
       "      <td>0.81</td>\n",
       "    </tr>\n",
       "    <tr>\n",
       "      <th>3</th>\n",
       "      <td>0.0</td>\n",
       "      <td>0.62</td>\n",
       "    </tr>\n",
       "    <tr>\n",
       "      <th>4</th>\n",
       "      <td>0.0</td>\n",
       "      <td>0.89</td>\n",
       "    </tr>\n",
       "    <tr>\n",
       "      <th>...</th>\n",
       "      <td>...</td>\n",
       "      <td>...</td>\n",
       "    </tr>\n",
       "    <tr>\n",
       "      <th>6945</th>\n",
       "      <td>2.0</td>\n",
       "      <td>1.76</td>\n",
       "    </tr>\n",
       "    <tr>\n",
       "      <th>6946</th>\n",
       "      <td>1.0</td>\n",
       "      <td>0.99</td>\n",
       "    </tr>\n",
       "    <tr>\n",
       "      <th>6947</th>\n",
       "      <td>1.0</td>\n",
       "      <td>0.77</td>\n",
       "    </tr>\n",
       "    <tr>\n",
       "      <th>6948</th>\n",
       "      <td>0.0</td>\n",
       "      <td>0.36</td>\n",
       "    </tr>\n",
       "    <tr>\n",
       "      <th>6949</th>\n",
       "      <td>0.0</td>\n",
       "      <td>0.53</td>\n",
       "    </tr>\n",
       "  </tbody>\n",
       "</table>\n",
       "<p>6950 rows × 2 columns</p>\n",
       "</div>"
      ],
      "text/plain": [
       "      Actual  RF Predicted\n",
       "0        0.0          0.43\n",
       "1        0.0          0.60\n",
       "2        0.0          0.81\n",
       "3        0.0          0.62\n",
       "4        0.0          0.89\n",
       "...      ...           ...\n",
       "6945     2.0          1.76\n",
       "6946     1.0          0.99\n",
       "6947     1.0          0.77\n",
       "6948     0.0          0.36\n",
       "6949     0.0          0.53\n",
       "\n",
       "[6950 rows x 2 columns]"
      ]
     },
     "execution_count": 137,
     "metadata": {},
     "output_type": "execute_result"
    }
   ],
   "source": [
    "y_pred_rf = rfr.predict(X_test)\n",
    "# Comparison between Actual and Predicted value\n",
    "df = pd.DataFrame({'Actual': y_test, 'RF Predicted': y_pred_rf})\n",
    "df"
   ]
  },
  {
   "cell_type": "code",
   "execution_count": 138,
   "metadata": {},
   "outputs": [
    {
     "data": {
      "image/png": "[encoded data removed]",
      "text/plain": [
       "<Figure size 720x576 with 1 Axes>"
      ]
     },
     "metadata": {
      "needs_background": "light"
     },
     "output_type": "display_data"
    }
   ],
   "source": [
    "df1 = df.head(50)\n",
    "df1.plot(kind='bar',figsize=(10,8))\n",
    "plt.grid(which='major', linestyle='-', linewidth='0.5', color='green')\n",
    "plt.grid(which='minor', linestyle=':', linewidth='0.5', color='black')\n",
    "plt.show()"
   ]
  },
  {
   "cell_type": "code",
   "execution_count": 139,
   "metadata": {},
   "outputs": [
    {
     "data": {
      "text/plain": [
       "summary_wm_p95        0.413333\n",
       "summary_wm_mean       0.050345\n",
       "icvs_csf              0.048368\n",
       "summary_csf_p95       0.048333\n",
       "summary_csf_median    0.039824\n",
       "                        ...   \n",
       "snrd_gm               0.002477\n",
       "cjv                   0.002294\n",
       "snrd_wm               0.002158\n",
       "summary_bg_mad        0.001664\n",
       "snrd_total            0.001320\n",
       "Length: 62, dtype: float64"
      ]
     },
     "execution_count": 139,
     "metadata": {},
     "output_type": "execute_result"
    }
   ],
   "source": [
    "feature_imp = pd.Series(rfr.feature_importances_,index=training_df[predictors].columns).sort_values(ascending=False)\n",
    "feature_imp"
   ]
  },
  {
   "cell_type": "code",
   "execution_count": 140,
   "metadata": {},
   "outputs": [
    {
     "name": "stderr",
     "output_type": "stream",
     "text": [
      "No handles with labels found to put in legend.\n"
     ]
    },
    {
     "data": {
      "image/png": "[encoded data removed]",
      "text/plain": [
       "<Figure size 432x288 with 1 Axes>"
      ]
     },
     "metadata": {
      "needs_background": "light"
     },
     "output_type": "display_data"
    }
   ],
   "source": [
    "feature_imp1 = feature_imp.head(10)\n",
    "# Creating a bar plot\n",
    "seabornInstance.barplot(x=feature_imp1, y=feature_imp1.index)\n",
    "# Add labels to your graph\n",
    "plt.xlabel('Feature Importance Score')\n",
    "plt.ylabel('Features')\n",
    "plt.title(\"Visualizing Important Features for Random Forest Regressor\")\n",
    "plt.legend()\n",
    "plt.show()"
   ]
  },
  {
   "cell_type": "code",
   "execution_count": 141,
   "metadata": {},
   "outputs": [
    {
     "name": "stdout",
     "output_type": "stream",
     "text": [
      "Mean Absolute Error: 0.6713064748201438\n",
      "Mean Squared Error: 0.6529421007194244\n",
      "Root Mean Squared Error: 0.8080483282078024\n"
     ]
    }
   ],
   "source": [
    "print('Mean Absolute Error:', metrics.mean_absolute_error(y_test, y_pred_rf))  \n",
    "print('Mean Squared Error:', metrics.mean_squared_error(y_test, y_pred_rf))  \n",
    "print('Root Mean Squared Error:', np.sqrt(metrics.mean_squared_error(y_test, y_pred_rf)))"
   ]
  },
  {
   "cell_type": "code",
   "execution_count": 142,
   "metadata": {},
   "outputs": [
    {
     "data": {
      "text/plain": [
       "-0.6355683169109609"
      ]
     },
     "execution_count": 142,
     "metadata": {},
     "output_type": "execute_result"
    }
   ],
   "source": [
    "# the score function returns r-squared\n",
    "rfr.score(X_test,y_test)"
   ]
  },
  {
   "cell_type": "code",
   "execution_count": 143,
   "metadata": {},
   "outputs": [
    {
     "name": "stdout",
     "output_type": "stream",
     "text": [
      "R-squared: -0.6355683169109609\n"
     ]
    }
   ],
   "source": [
    "# r-squared could be calculated by metrics as well\n",
    "r_squared_rf = metrics.r2_score(y_test, y_pred_rf)\n",
    "print('R-squared:', r_squared_rf)  "
   ]
  },
  {
   "cell_type": "code",
   "execution_count": 144,
   "metadata": {},
   "outputs": [
    {
     "data": {
      "image/png": "[encoded data removed]",
      "text/plain": [
       "<Figure size 432x288 with 1 Axes>"
      ]
     },
     "metadata": {
      "needs_background": "light"
     },
     "output_type": "display_data"
    }
   ],
   "source": [
    "plt.scatter(y_test, y_pred_rf)\n",
    "plt.xlabel('Actual values')\n",
    "plt.ylabel('Predicted values')\n",
    "plt.title('Random Forest Regression | R-squared: {:1.3f}'.format(r_squared_rf))\n",
    "\n",
    "plt.plot(np.unique(y_test), np.poly1d(np.polyfit(y_test, y_pred_rf, 1))(np.unique(y_test)), color='red')\n",
    "\n",
    "plt.show()"
   ]
  },
  {
   "cell_type": "code",
   "execution_count": 145,
   "metadata": {
    "scrolled": true
   },
   "outputs": [
    {
     "data": {
      "text/plain": [
       "<matplotlib.axes._subplots.AxesSubplot at 0x1a27dc0190>"
      ]
     },
     "execution_count": 145,
     "metadata": {},
     "output_type": "execute_result"
    },
    {
     "data": {
      "image/png": "[encoded data removed]",
      "text/plain": [
       "<Figure size 1080x720 with 1 Axes>"
      ]
     },
     "metadata": {
      "needs_background": "light"
     },
     "output_type": "display_data"
    }
   ],
   "source": [
    "y_pred_mean = np.mean(y_pred_rf)\n",
    "plt.figure(figsize=(15,10))\n",
    "plt.tight_layout()\n",
    "plt.title('Average of response: {:1.3f}'.format(y_pred_mean))\n",
    "\n",
    "## plot kde\n",
    "plt.ylabel('pdf')\n",
    "seabornInstance.distplot(y_pred_rf)\n",
    "\n",
    "## plot histogram\n",
    "#plt.ylabel('histogram')\n",
    "#seabornInstance.distplot(y_pred_rf, hist=True, kde=False)"
   ]
  }
 ],
 "metadata": {
  "kernelspec": {
   "display_name": "Python 3",
   "language": "python",
   "name": "python3"
  },
  "language_info": {
   "codemirror_mode": {
    "name": "ipython",
    "version": 3
   },
   "file_extension": ".py",
   "mimetype": "text/x-python",
   "name": "python",
   "nbconvert_exporter": "python",
   "pygments_lexer": "ipython3",
   "version": "3.7.6"
  }
 },
 "nbformat": 4,
 "nbformat_minor": 1
}
