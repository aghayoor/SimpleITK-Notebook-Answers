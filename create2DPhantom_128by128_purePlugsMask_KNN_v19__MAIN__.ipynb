{
 "cells": [
  {
   "cell_type": "code",
   "execution_count": 4,
   "metadata": {
    "collapsed": false
   },
   "outputs": [
    {
     "name": "stdout",
     "output_type": "stream",
     "text": [
      "SimpleITK Version: 0.9.1\n",
      "Compiled: Sep 28 2015 10:07:41\n",
      "\n"
     ]
    }
   ],
   "source": [
    "## Boiler plate code common to many notebooks.  See the TestFilesCommonCode.ipynb for details\n",
    "from __future__ import print_function\n",
    "%run TestFilesCommonCode.ipynb"
   ]
  },
  {
   "cell_type": "code",
   "execution_count": 5,
   "metadata": {
    "collapsed": true
   },
   "outputs": [],
   "source": [
    "import scipy.io\n",
    "import numpy as np\n",
    "from itertools import product\n",
    "from sklearn.neighbors import KNeighborsClassifier"
   ]
  },
  {
   "cell_type": "code",
   "execution_count": 6,
   "metadata": {
    "collapsed": true
   },
   "outputs": [],
   "source": [
    "OUT_DIR='/raid0/homes/aghayoor/Desktop/phantom'\n",
    "write_to_disk=False\n",
    "verbose=False"
   ]
  },
  {
   "cell_type": "code",
   "execution_count": 7,
   "metadata": {
    "collapsed": false
   },
   "outputs": [],
   "source": [
    "def CreateFirstModality(write):\n",
    "    t1=sitk.Image(128,128,sitk.sitkUInt8)\n",
    "    #\n",
    "    t1_arr=sitk.GetArrayFromImage(t1)\n",
    "    t1_arr[12:67,43:122]=50 # tissue A or c\n",
    "    t1_arr[67:80,85:122]=50 # tissue A or C\n",
    "    t1_arr[12:25,43:55]=0\n",
    "    t1_arr[54:60,112:122]=0\n",
    "    t1_arr[46:55,52:77]=250 # B\n",
    "    t1_arr[55:65,67:77]=250 # B\n",
    "    t1_arr[65:119,8:85]=250 # tissue B\n",
    "    t1_arr[100:123,65:123]=0\n",
    "    t1_arr[87:100,73:123]=0\n",
    "    t1_arr[65:79,32:38]=0\n",
    "    t1_arr[100:107,8:21]=0\n",
    "    t1_arr[108:119,41:48]=0\n",
    "    t1_arr[114:119,0:31]=0\n",
    "    #\n",
    "    t1=sitk.GetImageFromArray(t1_arr)\n",
    "    if write:\n",
    "        sitk.WriteImage(t1,os.path.join(OUT_DIR,'t1.nii.gz'))\n",
    "        scipy.io.savemat(os.path.join(OUT_DIR,'t1.mat'), mdict={'t1': t1_arr})\n",
    "    return t1\n",
    "\n",
    "def CreatSecondModality(write):\n",
    "    t2=sitk.Image(128,128,sitk.sitkUInt8)\n",
    "    #\n",
    "    t2_arr=sitk.GetArrayFromImage(t2)    \n",
    "    t2_arr[12:67,43:122]=200 # tissue A or c\n",
    "    t2_arr[67:80,85:122]=200 # tissue A or C\n",
    "    t2_arr[12:25,43:55]=0\n",
    "    t2_arr[46:55,52:77]=100 # B\n",
    "    t2_arr[55:65,67:77]=100 # B\n",
    "    t2_arr[65:119,8:85]=100 # tissue B\n",
    "    t2_arr[100:123,65:123]=0\n",
    "    t2_arr[87:100,73:123]=0\n",
    "    t2_arr[65:79,32:38]=0\n",
    "    t2_arr[100:107,8:21]=0\n",
    "    t2_arr[108:119,41:48]=0\n",
    "    t2_arr[114:119,0:31]=0\n",
    "    t2_arr[31:80,85:122]=150 # tissue C\n",
    "    t2_arr[31:53,85:107]=200 # tissue A\n",
    "    t2_arr[54:60,112:122]=0\n",
    "    #\n",
    "    t2=sitk.GetImageFromArray(t2_arr)\n",
    "    if write:\n",
    "        sitk.WriteImage(t2,os.path.join(OUT_DIR,'t2.nii.gz'))\n",
    "        scipy.io.savemat(os.path.join(OUT_DIR,'t2.mat'), mdict={'t2': t2_arr})\n",
    "    return t2\n",
    "\n",
    "def CreateWholeOneMask(size):\n",
    "    onemask = sitk.Image(size,sitk.sitkUInt8)\n",
    "    onemask_arr = sitk.GetArrayFromImage(onemask)\n",
    "    onemask_arr.fill(1)\n",
    "    onemask = sitk.GetImageFromArray(onemask_arr)\n",
    "    return onemask\n",
    "\n",
    "def DownsampleSecondModality(t2, factor, write):\n",
    "    t2_lr = sitk.Shrink(t2,[factor,factor])\n",
    "    if write:\n",
    "        sitk.WriteImage(t2_lr,os.path.join(OUT_DIR,'t2_lr.nii.gz'))\n",
    "        t2_lr_arr=sitk.GetArrayFromImage(t2_lr)\n",
    "        scipy.io.savemat(os.path.join(OUT_DIR,'t2_lr.mat'), mdict={'t2_lr': t2_lr_arr})\n",
    "    return t2_lr\n",
    "\n",
    "def UpsampleSecondModality(t_lr, f, write):\n",
    "    factor=np.array([f, f])\n",
    "    filt=sitk.ResampleImageFilter()\n",
    "    outSpacing=t_lr.GetSpacing()/factor\n",
    "    outSize=t_lr.GetSize()*factor\n",
    "    filt.SetInterpolator(sitk.sitkLinear)\n",
    "    filt.SetOutputSpacing(outSpacing)\n",
    "    filt.SetSize(outSize)\n",
    "    t_up = filt.Execute(t_lr)\n",
    "    if write:\n",
    "        sitk.WriteImage(t_up,os.path.join(OUT_DIR,'t2_up.nii.gz'))\n",
    "        t_up_arr=sitk.GetArrayFromImage(t_up)\n",
    "        scipy.io.savemat(os.path.join(OUT_DIR,'t2_up.mat'), mdict={'t2_up': t_up_arr})\n",
    "    return t_up\n",
    "\n",
    "def ResampleImageToRefImage(t_in, t_ref):\n",
    "    filt=sitk.ResampleImageFilter()\n",
    "    filt.SetInterpolator(sitk.sitkLinear)\n",
    "    filt.SetReferenceImage(t_ref)\n",
    "    t_out = filt.Execute(t_in)\n",
    "    return t_out\n",
    "\n",
    "def CreatePurePlugsMask(t1,t2_lr,write,verbose):\n",
    "    #################\n",
    "    def isPurePlug(idx, t2_lr, t1):\n",
    "        hspc=np.array(t2_lr.GetSpacing())\n",
    "        lspc=np.array(t1.GetSpacing())\n",
    "        factor=hspc/lspc\n",
    "        hResSize = t1.GetSize()\n",
    "        # continues index\n",
    "        cidx=np.array([float(i) for i in idx])\n",
    "        if verbose:\n",
    "            print('----------------------------')\n",
    "            print(\"index: {0}\".format(cidx)) # <-----\n",
    "        p = t2_lr.TransformContinuousIndexToPhysicalPoint(cidx)\n",
    "        if verbose:\n",
    "            print(p)\n",
    "        #\n",
    "        isInside = True\n",
    "        t1_sampleValues=[]\n",
    "        #\n",
    "        margin=0.05     \n",
    "        begin_i=cidx[0]-0.5+margin; end_i=cidx[0]+0.5-margin+0.001; \n",
    "        if factor[0] == 1:\n",
    "            step_i=(1-2*margin)/(factor[0])\n",
    "        else:\n",
    "            step_i=(1-2*margin)/(factor[0]-1)\n",
    "        begin_j=cidx[1]-0.5+margin; end_j=cidx[1]+0.5-margin+0.001; \n",
    "        if factor[1] == 1:\n",
    "            step_j=(1-2*margin)/(factor[1])\n",
    "        else:\n",
    "            step_j=(1-2*margin)/(factor[1]-1)\n",
    "        #\n",
    "        for iss in np.arange(begin_i,end_i,step_i):\n",
    "            for jss in np.arange(begin_j,end_j,step_j):\n",
    "                cssidx=[iss, jss]\n",
    "                #\n",
    "                if verbose:\n",
    "                    print(\"continus subsample: {0}\".format(cssidx)) # <-----\n",
    "                #\n",
    "                p = t2_lr.TransformContinuousIndexToPhysicalPoint(cssidx)\n",
    "                #\n",
    "                if verbose:\n",
    "                    print(\"point: {0}\".format(p)) # <-----\n",
    "                #\n",
    "                newidx = t1.TransformPhysicalPointToIndex(p)\n",
    "                #\n",
    "                if verbose:\n",
    "                    print(\"newidx: {0}\".format(newidx)) # <-----\n",
    "                #\n",
    "                if any( newidx[i] < 0 or newidx[i] >= hResSize[i] for i in range(len(newidx))):\n",
    "                    isInside = False\n",
    "                    #\n",
    "                    if verbose:\n",
    "                        print(\"is not inside\") # <-----\n",
    "                    #\n",
    "                    break\n",
    "                else:\n",
    "                    t1_value = t1[newidx]\n",
    "                    t1_sampleValues.append(t1_value)\n",
    "            else:\n",
    "                continue\n",
    "            break\n",
    "\n",
    "        ispure = False\n",
    "        if isInside:\n",
    "            #\n",
    "            if verbose:\n",
    "                print(\"sample values: \") # <-----\n",
    "                print(t1_sampleValues) # <-----\n",
    "            #\n",
    "            t1_arr = np.array(t1_sampleValues)\n",
    "            # check to see wether the variance is zero\n",
    "            # In this case, surely we have a pure plug\n",
    "            var_t1 = np.var(t1_arr)\n",
    "            #\n",
    "            if verbose:\n",
    "                print(\"var: {0}\".format(var_t1)) # <-----\n",
    "            #\n",
    "            if var_t1 == 0: # it means that the std in at least one image is zero \n",
    "                ispure = True\n",
    "            else:\n",
    "                ispure = False\n",
    "        #\n",
    "        if verbose:\n",
    "            print(\"Is pure: {0}\".format(ispure)) # <-----\n",
    "        #\n",
    "        return ispure\n",
    "    #################\n",
    "    purePlugsMask = sitk.Image(t2_lr.GetSize(),sitk.sitkUInt8)\n",
    "    purePlugsMask.CopyInformation(t2_lr)\n",
    "    t2_lr_size = t2_lr.GetSize()\n",
    "    for i in range(0,t2_lr_size[0]):\n",
    "          for j in range(0,t2_lr_size[1]):\n",
    "                idx=[i,j]\n",
    "                if( isPurePlug(idx,t2_lr,t1) ):\n",
    "                    purePlugsMask[idx] = 1\n",
    "                else:\n",
    "                    purePlugsMask[idx] = 0\n",
    "    if write:\n",
    "        sitk.WriteImage(purePlugsMask,os.path.join(OUT_DIR,'pureplugs_mask.nii.gz'))\n",
    "    return purePlugsMask"
   ]
  },
  {
   "cell_type": "code",
   "execution_count": 8,
   "metadata": {
    "collapsed": false
   },
   "outputs": [
    {
     "data": {
      "image/png": "[encoded data removed]",
      "text/plain": [
       "<matplotlib.figure.Figure at 0x123c985d0>"
      ]
     },
     "metadata": {},
     "output_type": "display_data"
    },
    {
     "data": {
      "image/png": "[encoded data removed]",
      "text/plain": [
       "<matplotlib.figure.Figure at 0x123c98510>"
      ]
     },
     "metadata": {},
     "output_type": "display_data"
    },
    {
     "data": {
      "image/png": "[encoded data removed]",
      "text/plain": [
       "<matplotlib.figure.Figure at 0x123d3aad0>"
      ]
     },
     "metadata": {},
     "output_type": "display_data"
    }
   ],
   "source": [
    "t1 = CreateFirstModality(write_to_disk)\n",
    "t2 = CreatSecondModality(write_to_disk)\n",
    "myshow(sitk.LabelToRGB(t1))\n",
    "myshow(sitk.LabelToRGB(t2))\n",
    "#\n",
    "# segemntation baseline\n",
    "seg_mask=(t2==200)*1+(t2==150)*3+(t2==100)*2\n",
    "myshow(sitk.LabelToRGB(seg_mask))"
   ]
  },
  {
   "cell_type": "code",
   "execution_count": 9,
   "metadata": {
    "collapsed": true
   },
   "outputs": [],
   "source": [
    "#\n",
    "#\n",
    "# KNN\n",
    "#\n",
    "#"
   ]
  },
  {
   "cell_type": "code",
   "execution_count": 13,
   "metadata": {
    "collapsed": true
   },
   "outputs": [],
   "source": [
    "def AppendTrainingSamples(t1,t2_lr,mask,sample_num,trainSampleSet,trainLabels):\n",
    "    count_b=0; count_1=0; count_2=0; count_3=0\n",
    "    while( count_b < sample_num or count_1 < sample_num or count_2 < sample_num or count_3 < sample_num):\n",
    "        index = np.random.randint(t1.GetSize()[0],size=(1,2))\n",
    "        idx = [index[0,0].item(),index[0,1].item()]\n",
    "        t1_value = t1[idx]\n",
    "        p = t1.TransformIndexToPhysicalPoint(idx)\n",
    "        t2_lr_idx = t2_lr.TransformPhysicalPointToIndex(p)\n",
    "        if any( t2_lr_idx[i] < 0 or t2_lr_idx[i] >= t2_lr.GetSize()[i] for i in range(len(t2_lr_idx))):\n",
    "            continue\n",
    "        t2_lr_value = t2_lr[t2_lr_idx]\n",
    "        isPure = mask[t2_lr_idx]\n",
    "        if (not isPure):\n",
    "            continue\n",
    "        if (t2_lr_value == 0):\n",
    "            if count_b >= sample_num:\n",
    "                continue\n",
    "            label=0\n",
    "            count_b += 1\n",
    "        elif (t2_lr_value == 200):\n",
    "            if count_1 >= sample_num:\n",
    "                continue\n",
    "            label=1\n",
    "            count_1 += 1\n",
    "        elif (t2_lr_value == 100):\n",
    "            if count_2 >= sample_num:\n",
    "                continue\n",
    "            label=2\n",
    "            count_2 += 1\n",
    "        elif (t2_lr_value == 150):\n",
    "            if count_3 >= sample_num:\n",
    "                continue\n",
    "            label=3\n",
    "            count_3 += 1\n",
    "        else:\n",
    "            raise ValueError('ERROR!!! invalid lable {0}'.format(t2_lr_value))\n",
    "        trainSampleSet.append([t1_value,t2_lr_value])\n",
    "        trainLabels.append(label)\n",
    "    #print(count_b)\n",
    "    #print(count_1)\n",
    "    #print(count_2)\n",
    "    #print(count_3)\n",
    "\n",
    "def RunKNN(t1,t2_lr,mask,n_neighbors,sample_num_pure,sample_num_nonpure):\n",
    "    weights='distance'\n",
    "    algorithm='kd_tree'\n",
    "    neigh = KNeighborsClassifier(n_neighbors=n_neighbors, weights=weights, algorithm=algorithm)\n",
    "    #\n",
    "    trainSampleSet=[]\n",
    "    trainLabels=[]\n",
    "    AppendTrainingSamples(t1,t2_lr,mask,sample_num_pure,trainSampleSet,trainLabels)\n",
    "    if sample_num_nonpure > 0:\n",
    "        AppendTrainingSamples(t1,t2_lr,(1-mask),sample_num_nonpure,trainSampleSet,trainLabels)\n",
    "    print(trainSampleSet)\n",
    "    print(trainLabels)\n",
    "    neigh.fit(trainSampleSet, trainLabels)\n",
    "    #\n",
    "    out_seg = sitk.Image(t1.GetSize(),sitk.sitkUInt8)\n",
    "    notdefined_samples = sitk.Image(t1.GetSize(),sitk.sitkUInt8)\n",
    "    for i in range(0,t1.GetSize()[0]):\n",
    "        for j in range(0,t1.GetSize()[1]):\n",
    "            idx=[i,j]\n",
    "            t1_value=t1[idx]\n",
    "            p = t1.TransformIndexToPhysicalPoint(idx)\n",
    "            t2_lr_idx = t2_lr.TransformPhysicalPointToIndex(p)\n",
    "            if any( t2_lr_idx[i] < 0 or t2_lr_idx[i] >= t2_lr.GetSize()[i] for i in range(len(t2_lr_idx))):\n",
    "                out_seg[idx]=0\n",
    "                continue\n",
    "            t2_lr_value = t2_lr[t2_lr_idx]\n",
    "            testSample = [[t1_value,t2_lr_value]]\n",
    "            #notdefined = not ( (t1_value==50 and t2_lr_value==200) or \n",
    "            #            (t1_value==250 and t2_lr_value==100) or\n",
    "            #            (t1_value==50 and t2_lr_value==150) or\n",
    "            #            (t1_value==0 and t2_lr_value==0) )\n",
    "            #notdefined_samples[idx] = notdefined\n",
    "            out_seg[idx] = neigh.predict(testSample).item()\n",
    "    return out_seg, notdefined_samples"
   ]
  },
  {
   "cell_type": "code",
   "execution_count": 14,
   "metadata": {
    "collapsed": false
   },
   "outputs": [
    {
     "name": "stdout",
     "output_type": "stream",
     "text": [
      "-----\n",
      "9\n",
      "[[0L, 0L], [50L, 200L], [50L, 200L], [0L, 0L], [0L, 0L], [50L, 200L], [50L, 200L], [0L, 0L], [0L, 0L], [50L, 150L], [0L, 0L], [250L, 100L], [250L, 100L], [250L, 100L], [0L, 0L], [0L, 0L], [0L, 0L], [0L, 0L], [250L, 100L], [250L, 100L], [0L, 0L], [0L, 0L], [0L, 0L], [0L, 0L], [0L, 0L], [250L, 100L], [0L, 0L], [0L, 0L], [50L, 200L], [0L, 0L], [0L, 0L], [250L, 100L], [50L, 200L], [50L, 150L], [50L, 200L], [250L, 100L], [50L, 200L], [0L, 0L], [50L, 200L], [50L, 150L], [250L, 100L], [250L, 100L], [250L, 100L], [50L, 150L], [250L, 100L], [50L, 150L], [50L, 200L], [50L, 200L], [250L, 100L], [250L, 100L], [50L, 150L], [250L, 100L], [250L, 100L], [50L, 150L], [250L, 100L], [250L, 100L], [50L, 200L], [250L, 100L], [50L, 200L], [50L, 200L], [50L, 200L], [50L, 150L], [250L, 100L], [50L, 200L], [50L, 200L], [50L, 200L], [50L, 200L], [50L, 200L], [50L, 150L], [50L, 150L], [50L, 150L], [50L, 150L], [50L, 150L], [50L, 150L], [50L, 150L], [50L, 150L], [50L, 150L], [50L, 150L], [50L, 150L], [50L, 150L], [250L, 100L], [50L, 0L], [50L, 150L], [0L, 0L], [50L, 200L], [250L, 150L], [50L, 200L], [250L, 100L], [50L, 200L], [0L, 0L], [0L, 0L], [50L, 0L], [0L, 0L], [0L, 0L], [0L, 0L], [0L, 0L], [0L, 0L], [250L, 100L], [250L, 100L], [50L, 150L], [250L, 100L], [250L, 100L], [50L, 200L], [50L, 150L], [0L, 200L], [250L, 100L], [250L, 100L], [250L, 100L], [0L, 100L], [50L, 200L], [0L, 200L], [250L, 200L], [0L, 200L], [50L, 200L], [50L, 150L], [50L, 150L], [250L, 150L], [50L, 150L], [50L, 150L], [50L, 150L]]\n",
      "[0, 1, 1, 0, 0, 1, 1, 0, 0, 3, 0, 2, 2, 2, 0, 0, 0, 0, 2, 2, 0, 0, 0, 0, 0, 2, 0, 0, 1, 0, 0, 2, 1, 3, 1, 2, 1, 0, 1, 3, 2, 2, 2, 3, 2, 3, 1, 1, 2, 2, 3, 2, 2, 3, 2, 2, 1, 2, 1, 1, 1, 3, 2, 1, 1, 1, 1, 1, 3, 3, 3, 3, 3, 3, 3, 3, 3, 3, 3, 3, 2, 0, 3, 0, 1, 3, 1, 2, 1, 0, 0, 0, 0, 0, 0, 0, 0, 2, 2, 3, 2, 2, 1, 3, 1, 2, 2, 2, 2, 1, 1, 1, 1, 1, 3, 3, 3, 3, 3, 3]\n",
      "1193.0\n",
      "[[250L, 100L], [0L, 0L], [0L, 0L], [0L, 0L], [0L, 0L], [0L, 0L], [0L, 0L], [50L, 150L], [0L, 0L], [250L, 100L], [50L, 200L], [0L, 0L], [0L, 0L], [0L, 0L], [50L, 200L], [50L, 200L], [0L, 0L], [250L, 100L], [0L, 0L], [0L, 0L], [0L, 0L], [0L, 0L], [250L, 100L], [250L, 100L], [0L, 0L], [50L, 150L], [250L, 100L], [250L, 100L], [50L, 200L], [0L, 0L], [0L, 0L], [50L, 150L], [250L, 100L], [250L, 100L], [250L, 100L], [250L, 100L], [250L, 100L], [250L, 100L], [50L, 200L], [0L, 0L], [0L, 0L], [250L, 100L], [0L, 0L], [0L, 0L], [0L, 0L], [0L, 0L], [250L, 100L], [250L, 100L], [0L, 0L], [0L, 0L], [0L, 0L], [250L, 100L], [0L, 0L], [0L, 0L], [0L, 0L], [250L, 100L], [50L, 200L], [50L, 200L], [50L, 200L], [250L, 100L], [50L, 200L], [250L, 100L], [250L, 100L], [250L, 100L], [250L, 100L], [50L, 200L], [250L, 100L], [50L, 200L], [250L, 100L], [250L, 100L], [50L, 150L], [50L, 200L], [250L, 100L], [50L, 200L], [50L, 200L], [250L, 100L], [250L, 100L], [250L, 100L], [50L, 200L], [50L, 200L], [50L, 200L], [50L, 150L], [50L, 150L], [50L, 200L], [50L, 200L], [50L, 200L], [50L, 150L], [50L, 200L], [50L, 200L], [50L, 150L], [50L, 150L], [50L, 200L], [50L, 200L], [50L, 150L], [50L, 150L], [50L, 200L], [50L, 150L], [50L, 150L], [50L, 200L], [50L, 200L], [50L, 200L], [50L, 200L], [50L, 200L], [50L, 150L], [50L, 150L], [50L, 150L], [50L, 150L], [50L, 150L], [50L, 150L], [50L, 150L], [50L, 150L], [50L, 150L], [50L, 150L], [50L, 150L], [50L, 150L], [50L, 150L], [50L, 150L], [50L, 150L], [50L, 150L], [50L, 150L]]\n",
      "[2, 0, 0, 0, 0, 0, 0, 3, 0, 2, 1, 0, 0, 0, 1, 1, 0, 2, 0, 0, 0, 0, 2, 2, 0, 3, 2, 2, 1, 0, 0, 3, 2, 2, 2, 2, 2, 2, 1, 0, 0, 2, 0, 0, 0, 0, 2, 2, 0, 0, 0, 2, 0, 0, 0, 2, 1, 1, 1, 2, 1, 2, 2, 2, 2, 1, 2, 1, 2, 2, 3, 1, 2, 1, 1, 2, 2, 2, 1, 1, 1, 3, 3, 1, 1, 1, 3, 1, 1, 3, 3, 1, 1, 3, 3, 1, 3, 3, 1, 1, 1, 1, 1, 3, 3, 3, 3, 3, 3, 3, 3, 3, 3, 3, 3, 3, 3, 3, 3, 3]\n",
      "1043.0\n",
      "3736.0\n"
     ]
    },
    {
     "data": {
      "image/png": "[encoded data removed]",
      "text/plain": [
       "<matplotlib.figure.Figure at 0x1258e5c90>"
      ]
     },
     "metadata": {},
     "output_type": "display_data"
    },
    {
     "data": {
      "image/png": "[encoded data removed]",
      "text/plain": [
       "<matplotlib.figure.Figure at 0x123ebac10>"
      ]
     },
     "metadata": {},
     "output_type": "display_data"
    },
    {
     "data": {
      "image/png": "[encoded data removed]",
      "text/plain": [
       "<matplotlib.figure.Figure at 0x124d88fd0>"
      ]
     },
     "metadata": {},
     "output_type": "display_data"
    },
    {
     "data": {
      "image/png": "[encoded data removed]",
      "text/plain": [
       "<matplotlib.figure.Figure at 0x1249a4650>"
      ]
     },
     "metadata": {},
     "output_type": "display_data"
    },
    {
     "data": {
      "image/png": "[encoded data removed]",
      "text/plain": [
       "<matplotlib.figure.Figure at 0x125ccfc50>"
      ]
     },
     "metadata": {},
     "output_type": "display_data"
    },
    {
     "data": {
      "image/png": "[encoded data removed]",
      "text/plain": [
       "<matplotlib.figure.Figure at 0x124d88e10>"
      ]
     },
     "metadata": {},
     "output_type": "display_data"
    },
    {
     "data": {
      "image/png": "[encoded data removed]",
      "text/plain": [
       "<matplotlib.figure.Figure at 0x124ef3f10>"
      ]
     },
     "metadata": {},
     "output_type": "display_data"
    }
   ],
   "source": [
    "#verbose=True\n",
    "n_neighbors=20\n",
    "statsList=[]\n",
    "total=128*128\n",
    "for dfactor in xrange(1,11):\n",
    "    print('-----')\n",
    "    print(dfactor)\n",
    "    if dfactor == 1: # verifid by experiments, here we save time\n",
    "        statsList.append([dfactor,0.0,0.0,0.0])\n",
    "        continue\n",
    "    t2_lr = DownsampleSecondModality(t2, dfactor, write_to_disk)\n",
    "    if verbose:\n",
    "        myshow(sitk.LabelToRGB(t2_lr))\n",
    "    #\n",
    "    purePlugsMask = CreatePurePlugsMask(t1, t2_lr, write_to_disk, False)\n",
    "    if verbose:\n",
    "        myshow(purePlugsMask)\n",
    "    #\n",
    "    # First run without using pureplugsmask\n",
    "    #onemask = CreateWholeOneMask(t2_lr.GetSize())\n",
    "    out_seg1, notdefined_samples = RunKNN(t1,t2_lr,purePlugsMask,n_neighbors,20,10)\n",
    "    #\n",
    "    #stats_n=sitk.StatisticsImageFilter()\n",
    "    #stats_n.Execute(notdefined_samples)\n",
    "    #notdefinedcount=stats_n.GetSum()\n",
    "    #print(notdefinedcount)\n",
    "    #\n",
    "    if verbose:\n",
    "        myshow(sitk.LabelToRGB(out_seg1))\n",
    "    diff1=abs(seg_mask-out_seg1)>0\n",
    "    if verbose:\n",
    "        myshow(diff1)\n",
    "    stats1=sitk.StatisticsImageFilter()\n",
    "    stats1.Execute(diff1)\n",
    "    error_old=stats1.GetSum()\n",
    "    print(error_old)\n",
    "    #\n",
    "    ## Now run using pureplugsmask\n",
    "    out_seg2, notdefined_samples = RunKNN(t1,t2_lr,purePlugsMask,n_neighbors,30,0)\n",
    "    #\n",
    "    #stats_n=sitk.StatisticsImageFilter()\n",
    "    #stats_n.Execute(notdefined_samples)\n",
    "    #notdefinedcount=stats_n.GetSum()\n",
    "    #\n",
    "    if verbose:\n",
    "        myshow(sitk.LabelToRGB(out_seg2))\n",
    "    diff2=abs(seg_mask-out_seg2)>0\n",
    "    if verbose:\n",
    "        myshow(diff2)\n",
    "    stats2=sitk.StatisticsImageFilter()\n",
    "    stats2.Execute(diff2)\n",
    "    error_new=stats2.GetSum()\n",
    "    print(error_new)\n",
    "    #\n",
    "    seg_nn = UpsampleSecondModality(t2_lr, dfactor, write_to_disk)\n",
    "    seg_nn = ResampleImageToRefImage(seg_nn,t2)\n",
    "    seg_mask_nn=(seg_nn==200)*1+(seg_nn==150)*3+(seg_nn==100)*2\n",
    "    diff_nn=abs(seg_mask-seg_mask_nn)>0\n",
    "    if verbose:\n",
    "        myshow(diff_nn)\n",
    "    stats_nn=sitk.StatisticsImageFilter()\n",
    "    stats_nn.Execute(diff_nn)\n",
    "    error_nn=stats_nn.GetSum()\n",
    "    print(error_nn)\n",
    "    #statsList.append([dfactor,(error_old/total)*100,(error_new/total)*100,(notdefinedcount/total)*100])\n",
    "    statsList.append([dfactor,(error_old/total)*100,(error_new/total)*100,(error_nn/total)*100])"
   ]
  },
  {
   "cell_type": "code",
   "execution_count": 9,
   "metadata": {
    "collapsed": true
   },
   "outputs": [],
   "source": [
    "def writeOutputFile(filename,dataList):\n",
    "    import csv\n",
    "    with open(filename, 'w') as lf:\n",
    "        #headerdata = [['#factor','old_method','new_method','nearest_neighbor']]\n",
    "        wr = csv.writer(lf, delimiter=',')\n",
    "        #wr.writerows(headerdata)\n",
    "        wr.writerows(dataList)\n",
    "        \n",
    "csv_fn = os.path.join(OUT_DIR,'stats.csv')\n",
    "#writeOutputFile(csv_fn,statsList)\n",
    "\n",
    "### then read an plot the stats.csv in matlab"
   ]
  },
  {
   "cell_type": "code",
   "execution_count": 52,
   "metadata": {
    "collapsed": true
   },
   "outputs": [],
   "source": [
    "# sitk.WriteImage(diff2,os.path.join(OUT_DIR,'diff2.nii.gz'))\n",
    "\n",
    "# sitk.WriteImage(diff2,os.path.join(OUT_DIR,'diff1.nii.gz'))\n",
    "\n",
    "# sitk.WriteImage(diff2,os.path.join(OUT_DIR,'notdefined_samples.nii.gz'))\n",
    "\n",
    "# sitk.WriteImage(seg_mask,os.path.join(OUT_DIR,'seg_mask.nii.gz'))"
   ]
  },
  {
   "cell_type": "code",
   "execution_count": 15,
   "metadata": {
    "collapsed": true
   },
   "outputs": [],
   "source": []
  },
  {
   "cell_type": "code",
   "execution_count": 16,
   "metadata": {
    "collapsed": true
   },
   "outputs": [],
   "source": []
  },
  {
   "cell_type": "code",
   "execution_count": 17,
   "metadata": {
    "collapsed": true
   },
   "outputs": [],
   "source": []
  },
  {
   "cell_type": "code",
   "execution_count": null,
   "metadata": {
    "collapsed": true
   },
   "outputs": [],
   "source": []
  },
  {
   "cell_type": "code",
   "execution_count": null,
   "metadata": {
    "collapsed": true
   },
   "outputs": [],
   "source": []
  },
  {
   "cell_type": "code",
   "execution_count": 66,
   "metadata": {
    "collapsed": true
   },
   "outputs": [],
   "source": [
    "import pandas as pd\n",
    "from ggplot import *"
   ]
  },
  {
   "cell_type": "code",
   "execution_count": 184,
   "metadata": {
    "collapsed": true
   },
   "outputs": [],
   "source": [
    "pure=False"
   ]
  },
  {
   "cell_type": "code",
   "execution_count": 185,
   "metadata": {
    "collapsed": true
   },
   "outputs": [],
   "source": [
    "if pure:\n",
    "    t=[[250L, 100L], [0L, 0L], [0L, 0L], [0L, 0L], [0L, 0L], [0L, 0L], [0L, 0L], [50L, 150L], [0L, 0L], [250L, 100L], [50L, 200L], [0L, 0L], [0L, 0L], [0L, 0L], [50L, 200L], [50L, 200L], [0L, 0L], [250L, 100L], [0L, 0L], [0L, 0L], [0L, 0L], [0L, 0L], [250L, 100L], [250L, 100L], [0L, 0L], [50L, 150L], [250L, 100L], [250L, 100L], [50L, 200L], [0L, 0L], [0L, 0L], [50L, 150L], [250L, 100L], [250L, 100L], [250L, 100L], [250L, 100L], [250L, 100L], [250L, 100L], [50L, 200L], [0L, 0L], [0L, 0L], [250L, 100L], [0L, 0L], [0L, 0L], [0L, 0L], [0L, 0L], [250L, 100L], [250L, 100L], [0L, 0L], [0L, 0L], [0L, 0L], [250L, 100L], [0L, 0L], [0L, 0L], [0L, 0L], [250L, 100L], [50L, 200L], [50L, 200L], [50L, 200L], [250L, 100L], [50L, 200L], [250L, 100L], [250L, 100L], [250L, 100L], [250L, 100L], [50L, 200L], [250L, 100L], [50L, 200L], [250L, 100L], [250L, 100L], [50L, 150L], [50L, 200L], [250L, 100L], [50L, 200L], [50L, 200L], [250L, 100L], [250L, 100L], [250L, 100L], [50L, 200L], [50L, 200L], [50L, 200L], [50L, 150L], [50L, 150L], [50L, 200L], [50L, 200L], [50L, 200L], [50L, 150L], [50L, 200L], [50L, 200L], [50L, 150L], [50L, 150L], [50L, 200L], [50L, 200L], [50L, 150L], [50L, 150L], [50L, 200L], [50L, 150L], [50L, 150L], [50L, 200L], [50L, 200L], [50L, 200L], [50L, 200L], [50L, 200L], [50L, 150L], [50L, 150L], [50L, 150L], [50L, 150L], [50L, 150L], [50L, 150L], [50L, 150L], [50L, 150L], [50L, 150L], [50L, 150L], [50L, 150L], [50L, 150L], [50L, 150L], [50L, 150L], [50L, 150L], [50L, 150L], [50L, 150L]]\n",
    "    label=[2, 0, 0, 0, 0, 0, 0, 3, 0, 2, 1, 0, 0, 0, 1, 1, 0, 2, 0, 0, 0, 0, 2, 2, 0, 3, 2, 2, 1, 0, 0, 3, 2, 2, 2, 2, 2, 2, 1, 0, 0, 2, 0, 0, 0, 0, 2, 2, 0, 0, 0, 2, 0, 0, 0, 2, 1, 1, 1, 2, 1, 2, 2, 2, 2, 1, 2, 1, 2, 2, 3, 1, 2, 1, 1, 2, 2, 2, 1, 1, 1, 3, 3, 1, 1, 1, 3, 1, 1, 3, 3, 1, 1, 3, 3, 1, 3, 3, 1, 1, 1, 1, 1, 3, 3, 3, 3, 3, 3, 3, 3, 3, 3, 3, 3, 3, 3, 3, 3, 3]\n",
    "else:\n",
    "    t=[[0L, 0L], [50L, 200L], [50L, 200L], [0L, 0L], [0L, 0L], [50L, 200L], [50L, 200L], [0L, 0L], [0L, 0L], [50L, 150L], [0L, 0L], [250L, 100L], [250L, 100L], [250L, 100L], [0L, 0L], [0L, 0L], [0L, 0L], [0L, 0L], [250L, 100L], [250L, 100L], [0L, 0L], [0L, 0L], [0L, 0L], [0L, 0L], [0L, 0L], [250L, 100L], [0L, 0L], [0L, 0L], [50L, 200L], [0L, 0L], [0L, 0L], [250L, 100L], [50L, 200L], [50L, 150L], [50L, 200L], [250L, 100L], [50L, 200L], [0L, 0L], [50L, 200L], [50L, 150L], [250L, 100L], [250L, 100L], [250L, 100L], [50L, 150L], [250L, 100L], [50L, 150L], [50L, 200L], [50L, 200L], [250L, 100L], [250L, 100L], [50L, 150L], [250L, 100L], [250L, 100L], [50L, 150L], [250L, 100L], [250L, 100L], [50L, 200L], [250L, 100L], [50L, 200L], [50L, 200L], [50L, 200L], [50L, 150L], [250L, 100L], [50L, 200L], [50L, 200L], [50L, 200L], [50L, 200L], [50L, 200L], [50L, 150L], [50L, 150L], [50L, 150L], [50L, 150L], [50L, 150L], [50L, 150L], [50L, 150L], [50L, 150L], [50L, 150L], [50L, 150L], [50L, 150L], [50L, 150L], [250L, 100L], [50L, 0L], [50L, 150L], [0L, 0L], [50L, 200L], [250L, 150L], [50L, 200L], [250L, 100L], [50L, 200L], [0L, 0L], [0L, 0L], [50L, 0L], [0L, 0L], [0L, 0L], [0L, 0L], [0L, 0L], [0L, 0L], [250L, 100L], [250L, 100L], [50L, 150L], [250L, 100L], [250L, 100L], [50L, 200L], [50L, 150L], [0L, 200L], [250L, 100L], [250L, 100L], [250L, 100L], [0L, 100L], [50L, 200L], [0L, 200L], [250L, 200L], [0L, 200L], [50L, 200L], [50L, 150L], [50L, 150L], [250L, 150L], [50L, 150L], [50L, 150L], [50L, 150L]]\n",
    "    label=[0, 1, 1, 0, 0, 1, 1, 0, 0, 3, 0, 2, 2, 2, 0, 0, 0, 0, 2, 2, 0, 0, 0, 0, 0, 2, 0, 0, 1, 0, 0, 2, 1, 3, 1, 2, 1, 0, 1, 3, 2, 2, 2, 3, 2, 3, 1, 1, 2, 2, 3, 2, 2, 3, 2, 2, 1, 2, 1, 1, 1, 3, 2, 1, 1, 1, 1, 1, 3, 3, 3, 3, 3, 3, 3, 3, 3, 3, 3, 3, 2, 0, 3, 0, 1, 3, 1, 2, 1, 0, 0, 0, 0, 0, 0, 0, 0, 2, 2, 3, 2, 2, 1, 3, 1, 2, 2, 2, 2, 1, 1, 1, 1, 1, 3, 3, 3, 3, 3, 3]"
   ]
  },
  {
   "cell_type": "code",
   "execution_count": 186,
   "metadata": {
    "collapsed": false
   },
   "outputs": [],
   "source": [
    "#mask1=(np.asarray(label)==3)\n",
    "#t=np.asarray(t)[mask1]\n",
    "#print(t)"
   ]
  },
  {
   "cell_type": "code",
   "execution_count": 187,
   "metadata": {
    "collapsed": false
   },
   "outputs": [],
   "source": [
    "x=[item[0] for item in t]\n",
    "y=[item[1] for item in t]"
   ]
  },
  {
   "cell_type": "code",
   "execution_count": 188,
   "metadata": {
    "collapsed": false
   },
   "outputs": [],
   "source": [
    "xy = np.transpose([x, y])\n",
    "#xy"
   ]
  },
  {
   "cell_type": "code",
   "execution_count": 189,
   "metadata": {
    "collapsed": false
   },
   "outputs": [],
   "source": [
    "DF = pd.DataFrame(xy)\n",
    "DF.rename(columns = lambda x: str(x), inplace=True)\n",
    "DF.rename(columns={\"0\": \"X\"}, inplace=True) # rename a dfcolumn   \n",
    "DF.rename(columns={\"1\": \"Y\"}, inplace=True) # rename a dfcolumn\n",
    "DF['Class'] = label\n",
    "#DF"
   ]
  },
  {
   "cell_type": "code",
   "execution_count": 190,
   "metadata": {
    "collapsed": false
   },
   "outputs": [
    {
     "data": {
      "image/png": "[encoded data removed]",
      "text/plain": [
       "<matplotlib.figure.Figure at 0x12e79ec50>"
      ]
     },
     "metadata": {},
     "output_type": "display_data"
    },
    {
     "data": {
      "text/plain": [
       "<ggplot: (317854573)>"
      ]
     },
     "execution_count": 190,
     "metadata": {},
     "output_type": "execute_result"
    }
   ],
   "source": [
    "ggplot(DF, aes(x = 'X', y ='Y', color='Class')) + \\\n",
    "    geom_point(alpha=1, size=100) + \\\n",
    "    labs(x='1st Modality', y='2nd Modality', title='Feature Space') + \\\n",
    "    xlim(-50,300) + \\\n",
    "    ylim(-50,250) + \\\n",
    "    theme(axis_title=element_text(size=25),axis_text=element_text(size=18),title=element_text(size=25))"
   ]
  },
  {
   "cell_type": "code",
   "execution_count": null,
   "metadata": {
    "collapsed": true
   },
   "outputs": [],
   "source": []
  },
  {
   "cell_type": "code",
   "execution_count": null,
   "metadata": {
    "collapsed": true
   },
   "outputs": [],
   "source": []
  },
  {
   "cell_type": "code",
   "execution_count": null,
   "metadata": {
    "collapsed": true
   },
   "outputs": [],
   "source": []
  }
 ],
 "metadata": {
  "kernelspec": {
   "display_name": "Python 2",
   "language": "python",
   "name": "python2"
  },
  "language_info": {
   "codemirror_mode": {
    "name": "ipython",
    "version": 2
   },
   "file_extension": ".py",
   "mimetype": "text/x-python",
   "name": "python",
   "nbconvert_exporter": "python",
   "pygments_lexer": "ipython2",
   "version": "2.7.11"
  }
 },
 "nbformat": 4,
 "nbformat_minor": 0
}
