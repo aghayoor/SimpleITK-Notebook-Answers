{
 "metadata": {
  "name": ""
 },
 "nbformat": 3,
 "nbformat_minor": 0,
 "worksheets": [
  {
   "cells": [
    {
     "cell_type": "code",
     "collapsed": false,
     "input": [
      "## Boiler plate code common to many notebooks.  See the TestFilesCommonCode.ipynb for details\n",
      "from __future__ import print_function\n",
      "%run TestFilesCommonCode.ipynb"
     ],
     "language": "python",
     "metadata": {},
     "outputs": [],
     "prompt_number": null
    },
    {
     "cell_type": "code",
     "collapsed": false,
     "input": [
      "fixedImageFilename = fdata('ITK/Modules/Registration/RegistrationMethodsv4/test/Input/r16slice_rigid.nii.gz')\n",
      "movingImageFilename = fdata('ITK/Modules/Registration/RegistrationMethodsv4/test/Input/r64slice.nii.gz')\n",
      "fixed = sitk.ReadImage(fixedImageFilename,sitk.sitkFloat32)\n",
      "moving = sitk.ReadImage(movingImageFilename, sitk.sitkFloat32)\n",
      "myshow3d(fixed, xslices=[], yslices=[], zslices=[], title=\"fixed\")\n",
      "myshow3d(moving, xslices=[], yslices=[], zslices=[], title=\"moving\")"
     ],
     "language": "python",
     "metadata": {},
     "outputs": [],
     "prompt_number": null
    },
    {
     "cell_type": "code",
     "collapsed": false,
     "input": [
      "cshow(fixed,moving)"
     ],
     "language": "python",
     "metadata": {},
     "outputs": [],
     "prompt_number": null
    },
    {
     "cell_type": "code",
     "collapsed": false,
     "input": [
      "# Set the first stage\n",
      "tx1 = sitk.AffineTransform(fixed.GetDimension())"
     ],
     "language": "python",
     "metadata": {},
     "outputs": [],
     "prompt_number": null
    },
    {
     "cell_type": "code",
     "collapsed": false,
     "input": [
      "ctx = sitk.Transform(tx1) # Set composite transform\n",
      "                          # This composite transform is update at each stage\n",
      "                          # and finally will be considered as the output of \n",
      "                          # the registration process since the InPlace is TRUE.\n",
      "ctx.SetFixedParameters(ctx.GetFixedParameters()) # hack to force deep copy, as registion is done in place..\n",
      "# Set the registration filter\n",
      "R = sitk.ImageRegistrationMethod()\n",
      "R.SetMetricAsJointHistogramMutualInformation()\n",
      "R.SetOptimizerAsGradientDescent(learningRate=1.0,\n",
      "                                numberOfIterations=100,\n",
      "                                convergenceMinimumValue = 1e-6,\n",
      "                                convergenceWindowSize = 10,\n",
      "                                estimateLearningRate = R.Once,\n",
      "                                maximumStepSizeInPhysicalUnits = 1.0)\n",
      "R.SetOptimizerScalesFromPhysicalShift()\n",
      "R.SetShrinkFactorsPerLevel([1])\n",
      "R.SetSmoothingSigmasPerLevel([0])\n",
      "R.SetInitialTransform(ctx)\n",
      "R.SetInterpolator(sitk.sitkLinear)\n",
      "R.SetMetricSamplingPercentage(0.5)\n",
      "R.SetMetricSamplingStrategy(R.RANDOM)"
     ],
     "language": "python",
     "metadata": {},
     "outputs": [],
     "prompt_number": null
    },
    {
     "cell_type": "code",
     "collapsed": false,
     "input": [
      "R.RemoveAllCommands()\n",
      "R.AddCommand( sitk.sitkIterationEvent, lambda: command_iteration(R) )\n",
      "affineOut = R.Execute(fixed,moving)\n",
      "\n",
      "print(\"-------\")\n",
      "print(affineOut)\n",
      "print(\"Optimizer stop condition: {0}\".format(R.GetOptimizerStopConditionDescription()))\n",
      "print(\" Iteration: {0}\".format(R.GetOptimizerIteration()))\n",
      "print(\" Metric value: {0}\".format(R.GetMetricValue()))"
     ],
     "language": "python",
     "metadata": {},
     "outputs": [],
     "prompt_number": null
    },
    {
     "cell_type": "code",
     "collapsed": false,
     "input": [
      "cshow(fixed,moving,ctx)"
     ],
     "language": "python",
     "metadata": {},
     "outputs": [],
     "prompt_number": null
    },
    {
     "cell_type": "code",
     "collapsed": false,
     "input": [
      "# Define the second stage as BSpline transform\n",
      "BSplineOrder=3\n",
      "# Set fixed parameters of the BSpline transform using transform initializer\n",
      "transfromDomainMeshSize=[8-BSplineOrder, 8-BSplineOrder, 8-BSplineOrder]\n",
      "tx2 = sitk.BSplineTransformInitializer(fixed, transfromDomainMeshSize, BSplineOrder )"
     ],
     "language": "python",
     "metadata": {},
     "outputs": [],
     "prompt_number": null
    },
    {
     "cell_type": "code",
     "collapsed": false,
     "input": [
      "ctx.AddTransform(tx2)\n",
      "ctx.SetFixedParameters(ctx.GetFixedParameters())\n",
      "R.SetInitialTransform(ctx)\n",
      "R.SetOptimizerAsLBFGSB(gradientConvergenceTolerance=1e-7,\n",
      "                       maximumNumberOfIterations=1500,\n",
      "                       maximumNumberOfCorrections=20,\n",
      "                       maximumNumberOfFunctionEvaluations=1000,\n",
      "                       costFunctionConvergenceFactor=1e+9)\n",
      "\n",
      "R.RemoveAllCommands()\n",
      "R.AddCommand( sitk.sitkIterationEvent, lambda: command_iteration_BSpline(R) )\n",
      "BSplineOut = R.Execute(fixed,moving)\n",
      "\n",
      "print(\"-------\")\n",
      "print(BSplineOut)\n",
      "print(\"Optimizer stop condition: {0}\".format(R.GetOptimizerStopConditionDescription()))\n",
      "print(\" Iteration: {0}\".format(R.GetOptimizerIteration()))\n",
      "print(\" Metric value: {0}\".format(R.GetMetricValue()))"
     ],
     "language": "python",
     "metadata": {},
     "outputs": [],
     "prompt_number": null
    },
    {
     "cell_type": "code",
     "collapsed": false,
     "input": [
      "cshow(fixed,moving,ctx)"
     ],
     "language": "python",
     "metadata": {},
     "outputs": [],
     "prompt_number": null
    },
    {
     "cell_type": "code",
     "collapsed": false,
     "input": [
      "rescaled_fixed, deformed_rescaled_moving = prepare_resampled_values( fixed, moving, ctx)\n",
      "ck = sitk.CheckerBoardImageFilter()\n",
      "ckOutput = ck.Execute(rescaled_fixed, deformed_rescaled_moving)\n",
      "myshow(ckOutput, title=\"checkerboard image\")"
     ],
     "language": "python",
     "metadata": {},
     "outputs": [],
     "prompt_number": null
    },
    {
     "cell_type": "code",
     "collapsed": false,
     "input": [],
     "language": "python",
     "metadata": {},
     "outputs": []
    }
   ],
   "metadata": {}
  }
 ]
}