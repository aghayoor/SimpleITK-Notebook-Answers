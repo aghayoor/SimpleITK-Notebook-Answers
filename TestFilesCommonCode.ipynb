{
 "cells": [
  {
   "cell_type": "code",
   "execution_count": 1,
   "metadata": {
    "collapsed": false
   },
   "outputs": [
    {
     "name": "stdout",
     "output_type": "stream",
     "text": [
      "SimpleITK Version: 0.9.1\n",
      "Compiled: Sep 28 2015 10:07:41\n",
      "\n"
     ]
    }
   ],
   "source": [
    "from __future__ import print_function\n",
    "\n",
    "import SimpleITK as sitk\n",
    "print(sitk.Version())\n",
    "\n",
    "# import convenient method for inline displaying from sitk to pylab \n",
    "from myshow import myshow3d\n",
    "from myshow import myshow\n",
    "\n",
    "from ipywidgets import widgets\n",
    "from ipywidgets import interact, interactive\n",
    "from math import pi\n",
    "\n",
    "import numpy as np\n",
    "import os\n",
    "import sys\n",
    "\n",
    "import matplotlib.pyplot as plt\n",
    "%matplotlib inline\n",
    "\n",
    "# Download data to work on\n",
    "from downloaddata import fetch_midas_data as fdata\n",
    "\n",
    "import tempfile"
   ]
  },
  {
   "cell_type": "code",
   "execution_count": 2,
   "metadata": {
    "collapsed": false
   },
   "outputs": [],
   "source": [
    "def prepare_resampled_values(fixed,moving,transform):\n",
    "    \"\"\" Resample moving into space of fixed, and then rescale the\n",
    "    intensity values of both to fit in a UInt8 data type.\n",
    "    \"\"\"\n",
    "    f = sitk.ResampleImageFilter()\n",
    "    f.SetTransform(transform)\n",
    "    f.SetReferenceImage(fixed)\n",
    "    print(f.GetTransform)\n",
    "    deformed_moving = f.Execute(moving)\n",
    "    fixed = sitk.Cast(sitk.RescaleIntensity(fixed),sitk.sitkUInt8)\n",
    "    deformed_moving = sitk.Cast(sitk.RescaleIntensity(deformed_moving),sitk.sitkUInt8)\n",
    "    return fixed, deformed_moving\n",
    "\n",
    "def cshow(fixed, moving, transform=sitk.Transform(), title=\"\"):\n",
    "    \"\"\"Show a single center slice inline in the notebooks of the rescaled images.\n",
    "    \"\"\"\n",
    "    rescaled_fixed, deformed_rescaled_moving = prepare_resampled_values( fixed, moving, transform)\n",
    "    myshow(sitk.Compose(deformed_rescaled_moving, deformed_rescaled_moving, sitk.Maximum(deformed_rescaled_moving,rescaled_fixed)), title=title)\n",
    "\n",
    "def cshow3d(fixed, moving, transform=sitk.Transform(), title=\"\"):\n",
    "    \"\"\"Show a tile of slices inline in the notebooks.\n",
    "    \"\"\"\n",
    "    rescaled_fixed, deformed_rescaled_moving = prepare_resampled_values( fixed, moving, transform)\n",
    "    myshow3d(sitk.Compose(deformed_rescaled_moving, deformed_rescaled_moving, sitk.Maximum(deformed_rescaled_moving,rescaled_fixed)), zslices=range(0, deformed_rescaled_moving.GetSize()[2],5), dpi=8,title=title)"
   ]
  },
  {
   "cell_type": "code",
   "execution_count": 3,
   "metadata": {
    "collapsed": false
   },
   "outputs": [],
   "source": [
    "def command_iteration(method) :\n",
    "    print(\"{0} = {1} : {2}\".format(method.GetOptimizerIteration(),\n",
    "                                   method.GetMetricValue(),\n",
    "                                   method.GetOptimizerPosition()))\n",
    "    sys.stdout.flush()\n",
    "\n",
    "def command_iteration_bsplineAndDisplacment(method) :\n",
    "    print(\"{0} = {1}\".format(method.GetOptimizerIteration(),\n",
    "                                   method.GetMetricValue()))\n",
    "    sys.stdout.flush()\n",
    "    \n",
    "def command_save_start(method):\n",
    "        global cmd_values, cmd_positions\n",
    "        cmd_values = np.array([])\n",
    "        cmd_positions = np.ndarray(shape=(0,len(method.GetInitialTransform().GetParameters())))\n",
    "    \n",
    "def command_save_iteration(method):\n",
    "    global cmd_values, cmd_positions\n",
    "    cmd_values = np.concatenate((cmd_values,[method.GetMetricValue()]))\n",
    "    cmd_positions = np.concatenate((cmd_positions,[method.GetOptimizerPosition()]),axis=0)\n",
    "    \n",
    "\n",
    "def plot2DTranslation(values, positions, figtitle=\"\"):\n",
    "    from matplotlib.font_manager import FontProperties\n",
    "    \n",
    "    fig, (ax0, ax1) = plt.subplots(nrows=2)\n",
    "    \n",
    "    \n",
    "    if figtitle != \"\":\n",
    "        fig.text(0.5, 0.95, figtitle,\n",
    "               horizontalalignment='center',\n",
    "               fontproperties=FontProperties(size=16))\n",
    "    ax0.plot(range(len(values)),values)\n",
    "    ax0.set_title('Metric Value')\n",
    "    ax0.set_xlabel('value')\n",
    "    ax0.set_ylabel('iteration #')\n",
    "\n",
    "    ax1.plot(positions[:,-1],positions[:,-2])\n",
    "    ax1.set_title('Position')\n",
    "    ax1.set_xlabel('x translation')\n",
    "    ax1.set_ylabel('y translation')\n",
    "\n",
    "    plt.tight_layout()\n",
    "    plt.show()"
   ]
  },
  {
   "cell_type": "code",
   "execution_count": 4,
   "metadata": {
    "collapsed": false
   },
   "outputs": [],
   "source": [
    "def return_my_name(imgFile,prefix=\"None\",suffix=\".png\") :\n",
    "    fileName = tempfile.NamedTemporaryFile(prefix=prefix,suffix=suffix,delete=False)\n",
    "    sitk.WriteImage(imgFile,fileName.name)\n",
    "    return fileName.name\n",
    "    \n",
    "\n",
    "def run_test_driver(baseline, test, numberOfPixelsTolerance, radiusTolerance, intensityTolerance):\n",
    "    TEST_DRIVER_ROOT = \"/Users/aghayoor/WorkSpace/SimpleITK_DIRS/SITK/release/ITK-prefix/bin\"\n",
    "    TEST_DRIVER = TEST_DRIVER_ROOT+\"/itkTestDriver\"\n",
    "    file1 = return_my_name(baseline,\"base\",\".nii.gz\")\n",
    "    file2 = return_my_name(test,\"test\",\".nii.gz\")\n",
    "    !$TEST_DRIVER --no-process \\\n",
    "    --compareNumberOfPixelsTolerance $numberOfPixelsTolerance \\\n",
    "    --compareRadiusTolerance $radiusTolerance \\\n",
    "    --compareIntensityTolerance $intensityTolerance \\\n",
    "    --compare $file1 $file2\n",
    "    print(\"Exit code: \".format(_exit_code))\n",
    "    return _exit_code\n",
    " \n",
    "\n",
    "def compare_with_baseline(fixed, moving, baseline, transform=sitk.Transform(),\n",
    "                          numberOfPixelsTolerance=0,\n",
    "                          radiusTolerance=0,\n",
    "                          intensityTolerance=0):\n",
    "    f = sitk.ResampleImageFilter()\n",
    "    f.SetTransform(transform)\n",
    "    f.SetReferenceImage(fixed)\n",
    "    out = f.Execute(moving)\n",
    "    ret = run_test_driver(baseline, out, numberOfPixelsTolerance, radiusTolerance, intensityTolerance)\n",
    "    if ret:\n",
    "        print(\"Test failed. \")\n",
    "        #diff = baseline-out\n",
    "        #myshow3d(diff, zslices=[out.GetSize()[2]/2], dpi=10,title=title)\n",
    "    else:\n",
    "        print(\"Test passed. \")\n"
   ]
  }
 ],
 "metadata": {
  "kernelspec": {
   "display_name": "Python 2",
   "language": "python",
   "name": "python2"
  },
  "language_info": {
   "codemirror_mode": {
    "name": "ipython",
    "version": 2
   },
   "file_extension": ".py",
   "mimetype": "text/x-python",
   "name": "python",
   "nbconvert_exporter": "python",
   "pygments_lexer": "ipython2",
   "version": "2.7.10"
  }
 },
 "nbformat": 4,
 "nbformat_minor": 0
}
