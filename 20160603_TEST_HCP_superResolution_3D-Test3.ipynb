{
 "cells": [
  {
   "cell_type": "code",
   "execution_count": 1,
   "metadata": {
    "collapsed": false
   },
   "outputs": [
    {
     "name": "stdout",
     "output_type": "stream",
     "text": [
      "SimpleITK Version: 0.9.1\n",
      "Compiled: Sep 28 2015 10:07:41\n",
      "\n"
     ]
    }
   ],
   "source": [
    "## Boiler plate code common to many notebooks.  See the TestFilesCommonCode.ipynb for details\n",
    "from __future__ import print_function\n",
    "%run TestFilesCommonCode.ipynb"
   ]
  },
  {
   "cell_type": "code",
   "execution_count": 2,
   "metadata": {
    "collapsed": true
   },
   "outputs": [],
   "source": [
    "input_hcp_dwi='/scratch/TESTS/IpythonNotebook/20160615_HCPWF/mainWF/Outputs/DWI_Baseline.nrrd'\n",
    "\n",
    "input_hcp_t1='/scratch/TESTS/IpythonNotebook/20160615_HCPWF/mainWF/HCPWorkflow_CACHE_105115/PreprocessingWorkflow_CACHE_105115/ResampleToAlignedDWIResolution/mapflow/_ResampleToAlignedDWIResolution0/StrippedT1_125.nrrd'\n",
    "input_hcp_t2='/scratch/TESTS/IpythonNotebook/20160615_HCPWF/mainWF/HCPWorkflow_CACHE_105115/PreprocessingWorkflow_CACHE_105115/ResampleToAlignedDWIResolution/mapflow/_ResampleToAlignedDWIResolution1/StrippedT2_125.nrrd'\n",
    "\n",
    "input_hcp_brainmask='/scratch/TESTS/IpythonNotebook/20160615_HCPWF/mainWF/HCPWorkflow_CACHE_105115/PreprocessingWorkflow_CACHE_105115/ResampleToAlignedDWIResolution/mapflow/_ResampleToAlignedDWIResolution2/DWIBrainMask.nrrd'\n",
    "\n",
    "OutputDir='/scratch/TESTS/IpythonNotebook/20160615_HCPWF/2_SRWF/test_tune_parameters/outImageFiles'\n",
    "MatlabFilesDir='/scratch/TESTS/IpythonNotebook/20160615_HCPWF/2_SRWF/test_tune_parameters/matlabFiles'"
   ]
  },
  {
   "cell_type": "code",
   "execution_count": 3,
   "metadata": {
    "collapsed": true
   },
   "outputs": [],
   "source": [
    "import os\n",
    "import glob\n",
    "import sys\n",
    "\n",
    "#\\/\\/\\/\\/\\/\\/\\/\\/\\/\\/\\/\\/\\/\\/\\/\\/\\/\\/\\/\\/\\/\\/\\/\\/\\/\\/\\/\\/\\/\\/\\/\\/\\/\\/\\/\\/\\/\\/\\/\\/\\/\\/\\/\n",
    "#####################################################################################\n",
    "#     Prepend the shell environment search paths\n",
    "#PROGRAM_PATHS = '/scratch/NAMICExternalProjects/release_20150715/bin'\n",
    "PROGRAM_PATHS = '/scratch/BS/release-BSR2/bin'\n",
    "PROGRAM_PATHS = PROGRAM_PATHS.split(':')\n",
    "PROGRAM_PATHS.extend(os.environ['PATH'].split(':'))\n",
    "os.environ['PATH'] = ':'.join(PROGRAM_PATHS)\n",
    "\n",
    "CUSTOM_ENVIRONMENT=dict()\n",
    "\n",
    "# Platform specific information\n",
    "#     Prepend the python search paths\n",
    "PYTHON_AUX_PATHS = '/scratch/BS/BRAINSTools/AutoWorkup'\n",
    "PYTHON_AUX_PATHS = PYTHON_AUX_PATHS.split(':')\n",
    "PYTHON_AUX_PATHS.extend(sys.path)\n",
    "sys.path = PYTHON_AUX_PATHS\n",
    "\n",
    "import SimpleITK as sitk\n",
    "import nipype\n",
    "from nipype.interfaces.base import CommandLine, CommandLineInputSpec, TraitedSpec, File, Directory\n",
    "from nipype.interfaces.base import traits, isdefined, BaseInterface\n",
    "from nipype.interfaces.utility import Merge, Split, Function, Rename, IdentityInterface\n",
    "import nipype.interfaces.io as nio   # Data i/oS\n",
    "import nipype.pipeline.engine as pe  # pypeline engine\n",
    "from nipype.interfaces.freesurfer import ReconAll\n",
    "from nipype.interfaces.ants import DenoiseImage\n",
    "from nipype.interfaces.semtools import *"
   ]
  },
  {
   "cell_type": "code",
   "execution_count": 4,
   "metadata": {
    "collapsed": true
   },
   "outputs": [],
   "source": [
    "# \n",
    "# READ input DWI scan using pynrrd\n",
    "#\n",
    "import nrrd\n",
    "\n",
    "class nrrdDWIHeader:\n",
    "    \"\"\"A helper class for manipulating header information\n",
    "    from a nrrd DWI data set into a nibabel compliant\n",
    "    format\"\"\"\n",
    "    def __init__(self,pynrrdDataModel):\n",
    "        self.modality=None                      #Matches NRRD File\n",
    "        self.global_BValue=None                 #Matches NRRD File\n",
    "        self.gradientUnormalizedVectors=[None]  #Matches NRRD File\n",
    "\n",
    "        self.gradientIndex=-1\n",
    "        self.gradientBValues=[None]             #Computed\n",
    "        self.gradientVectors=[None]             #Computed\n",
    "        self._ConvertNrrdToNibabelDWIDataModel(pynrrdDataModel)\n",
    "\n",
    "    def Print(self):\n",
    "        print(\"global_BValue {0}\".format(self.global_BValue) )\n",
    "        print(\"modality {0}\".format(self.modality) )\n",
    "        print(\"gradientBValues {0}\".format(self.gradientBValues) )\n",
    "        print(\"gradientDirections {0}\".format(self.gradientUnormalizedVectors) )\n",
    "\n",
    "    def _getGradientStorageIndex(self,pynrrdDataModel):\n",
    "        \"\"\"The 4D index that has separate gradients.\n",
    "        all other directions are the spatial dimensions.\"\"\"\n",
    "        gradient_index=-1;\n",
    "        centerings=pynrrdDataModel['centerings']\n",
    "        numdwidims=len(centerings)\n",
    "        for test_index in range(0,numdwidims):\n",
    "            if centerings[test_index] not in ['cell']:\n",
    "                gradient_index=test_index\n",
    "        self.gradientIndex = gradient_index\n",
    "\n",
    "    def _ExtractGlobalBValue(self, pyNrrdKVUnknownMetaData):\n",
    "        globalBValueString=pyNrrdKVUnknownMetaData.get(u'DWMRI_b-value','0').lstrip().rstrip()\n",
    "        self.global_BValue=float( globalBValueString )\n",
    "\n",
    "    def _ExtractUnormalizedBValues(self,pyNrrdKVUnknownMetaData,pynrrdDataModel):\n",
    "        \"\"\"Unnormalized data values from the nrrd files, where the\n",
    "        magnitude is reflective of the scale relative to the global_BValue\"\"\"\n",
    "        self._getGradientStorageIndex(pynrrdDataModel)\n",
    "        numGradients = pynrrdDataModel[u'sizes'][self.gradientIndex]\n",
    "        self.gradientUnormalizedVectors= np.array( [ [ None, None, None ] for x in range(0,numGradients) ] )\n",
    "        gvec_Fields=pyNrrdKVUnknownMetaData.copy() #Clone so we can remove items\n",
    "        for k,v in gvec_Fields.iteritems():\n",
    "            if k.startswith(\"DWMRI_gradient_\"):\n",
    "                index=int(k.split('_')[2])\n",
    "                self.gradientUnormalizedVectors[index,:]=np.array([ float(x) for x in v.rstrip().lstrip().split() ],\n",
    "                                                    copy=True, order='C', ndmin=1)\n",
    "                pyNrrdKVUnknownMetaData.pop(k)\n",
    "\n",
    "\n",
    "    def _ExtractDWIModality(self,pyNrrdKVUnknownMetaData):\n",
    "        self.modality=pyNrrdKVUnknownMetaData.get(\"modality\",\"UNKNOWN\").lstrip().rstrip()\n",
    "\n",
    "    def _ComputeNormalizedBvecBVals(self,pyNrrdKVUnknownMetaData,pynrrdDataModel):\n",
    "        self._ExtractGlobalBValue(pyNrrdKVUnknownMetaData)\n",
    "        self._ExtractUnormalizedBValues(pyNrrdKVUnknownMetaData,pynrrdDataModel)\n",
    "        self._ComputeNormalizedGradientsAndBValues()\n",
    "\n",
    "    def _ComputeNormalizedGradientsAndBValues(self):\n",
    "        \"\"\"Following conventions of NRRD format, expand\n",
    "        to normalized vectors and estimate BValues\n",
    "        :return: void\n",
    "        \"\"\"\n",
    "        numGradients=len( self.gradientUnormalizedVectors )\n",
    "\n",
    "        self.gradientVectors = np.array(self.gradientUnormalizedVectors)\n",
    "        self.gradientBValues = np.array( [ self.global_BValue ] * numGradients )\n",
    "        for index in range(0,numGradients):\n",
    "            gv = self.gradientUnormalizedVectors[index]\n",
    "            norm=np.linalg.norm(gv)\n",
    "            if norm < 1e-2:\n",
    "                self.gradientVectors[index] = gv * 0.0\n",
    "                self.gradientBValues[index] = 0.0\n",
    "            elif ( abs( 1.0-norm ) > 1e-4 ): # Avoid rescaling if norm is almost one\n",
    "                self.gradientVectors[index] = gv/norm\n",
    "                b_i = self.global_BValue * (norm**2) # norm = sqrt(b_i/b_max)\n",
    "                self.gradientBValues[index] = float(\"{0:.1f}\".format(b_i))\n",
    "\n",
    "    def _ConvertNrrdToNibabelDWIDataModel(self, pynrrdDataModel):\n",
    "        pyNrrdKVUnknownMetaData=pynrrdDataModel['keyvaluepairs']\n",
    "        self._ExtractDWIModality(pyNrrdKVUnknownMetaData)\n",
    "        self._ExtractGlobalBValue(pyNrrdKVUnknownMetaData)\n",
    "        self._ComputeNormalizedBvecBVals(pyNrrdKVUnknownMetaData,pynrrdDataModel)\n",
    "\n",
    "def ReadNAMICDWIFromNrrd(filename):\n",
    "    nrrd_dwi_data,nrrd_dwi_header=nrrd.read(filename)\n",
    "    nibabelDataModelDWI=nrrdDWIHeader(nrrd_dwi_header)\n",
    "    nrrd_dwi_bvec=nibabelDataModelDWI.gradientVectors\n",
    "    nrrd_dwi_bval=nibabelDataModelDWI.gradientBValues\n",
    "    gradient_index=nibabelDataModelDWI.gradientIndex\n",
    "    return (nrrd_dwi_data, nrrd_dwi_header, nrrd_dwi_bvec, nrrd_dwi_bval, gradient_index)"
   ]
  },
  {
   "cell_type": "markdown",
   "metadata": {},
   "source": [
    "# Create edge map image from T1/T2 based on masked quantile"
   ]
  },
  {
   "cell_type": "code",
   "execution_count": 10,
   "metadata": {
    "collapsed": true
   },
   "outputs": [],
   "source": [
    "oldmethod = False"
   ]
  },
  {
   "cell_type": "code",
   "execution_count": 11,
   "metadata": {
    "collapsed": false
   },
   "outputs": [
    {
     "name": "stdout",
     "output_type": "stream",
     "text": [
      "Reading image: /scratch/TESTS/IpythonNotebook/20160615_HCPWF/mainWF/HCPWorkflow_CACHE_105115/PreprocessingWorkflow_CACHE_105115/ResampleToAlignedDWIResolution/mapflow/_ResampleToAlignedDWIResolution0/StrippedT1_125.nrrd\n",
      "Reading image: /scratch/TESTS/IpythonNotebook/20160615_HCPWF/mainWF/HCPWorkflow_CACHE_105115/PreprocessingWorkflow_CACHE_105115/ResampleToAlignedDWIResolution/mapflow/_ResampleToAlignedDWIResolution1/StrippedT2_125.nrrd\n",
      "Generating maximum gradient image...\n",
      "[LowerQuantile UpperQuantile] = [0.25 0.999]\n",
      "[minOutputRange maxOutputRange] [1 100]\n",
      "Generating maximum gradient image took 0.165555 s.\n"
     ]
    }
   ],
   "source": [
    "mgi_fn = os.path.join(OutputDir,'mgi.nrrd') # Maximum gradient image\n",
    "edgemap_fn = os.path.join(OutputDir,'edgeMap.nrrd') # Maximum gradient image\n",
    "BRIANSToolsPath = \"/scratch/BS/release-BSR2/bin\"\n",
    "\n",
    "if(not oldmethod):\n",
    "    !{BRIANSToolsPath}/GenerateEdgeMapImage \\\n",
    "    --inputMRVolumes {input_hcp_t1},{input_hcp_t2} \\\n",
    "    --inputMask {input_hcp_brainmask} \\\n",
    "    --outputEdgeMap {edgemap_fn} \\\n",
    "    --outputMaximumGradientImage {mgi_fn} \\\n",
    "    --minimumOutputRange 1 \\\n",
    "    --maximumOutputRange 100 \\\n",
    "    --lowerPercentileMatching 0.25 \\\n",
    "    --upperPercentileMatching 0.999\n",
    "else:\n",
    "    MGI = GenerateSummedGradientImage() # Maximum Gradient Image\n",
    "    MGI.inputs.inputVolume1 = input_hcp_t1\n",
    "    MGI.inputs.inputVolume2 = input_hcp_t2\n",
    "    MGI.inputs.MaximumGradient = True\n",
    "    MGI.inputs.outputFileName = mgi_fn\n",
    "    print(MGI.cmdline)\n",
    "    MGI.run()"
   ]
  },
  {
   "cell_type": "code",
   "execution_count": null,
   "metadata": {
    "collapsed": false
   },
   "outputs": [],
   "source": [
    "mgi = sitk.ReadImage(mgi_fn)\n",
    "\n",
    "totalStats = sitk.StatisticsImageFilter()\n",
    "totalStats.Execute(mgi)\n",
    "print(totalStats.GetMaximum())\n",
    "print(totalStats.GetMinimum())\n",
    "\n",
    "myshow(mgi)"
   ]
  },
  {
   "cell_type": "code",
   "execution_count": null,
   "metadata": {
    "collapsed": false
   },
   "outputs": [],
   "source": [
    "if(not oldmethod):\n",
    "    edgemap = sitk.ReadImage(edgemap_fn)\n",
    "    totalStats = sitk.StatisticsImageFilter()\n",
    "    totalStats.Execute(edgemap)\n",
    "    print(totalStats.GetMaximum())\n",
    "    print(totalStats.GetMinimum())\n",
    "    myshow(edgemap)\n",
    "else:\n",
    "    mgi = sitk.Cast(mgi,sitk.sitkFloat32)\n",
    "    # compute 1/mgi\n",
    "    div = sitk.DivideImageFilter()\n",
    "    edgemap = div.Execute(1.0,mgi)\n",
    "    totalStats = sitk.StatisticsImageFilter()\n",
    "    totalStats.Execute(edgemap)\n",
    "    print(totalStats.GetMaximum())\n",
    "    print(totalStats.GetMinimum())\n",
    "    myshow(edgemap)"
   ]
  },
  {
   "cell_type": "code",
   "execution_count": null,
   "metadata": {
    "collapsed": false
   },
   "outputs": [],
   "source": [
    "edge_arr = sitk.GetArrayFromImage(edgemap)\n",
    "\n",
    "import scipy.io\n",
    "scipy.io.savemat(os.path.join(MatlabFilesDir,'edgemask_tmp.mat'), mdict={'edgemask': edge_arr})"
   ]
  },
  {
   "cell_type": "code",
   "execution_count": null,
   "metadata": {
    "collapsed": true
   },
   "outputs": [],
   "source": []
  },
  {
   "cell_type": "code",
   "execution_count": null,
   "metadata": {
    "collapsed": true
   },
   "outputs": [],
   "source": []
  },
  {
   "cell_type": "code",
   "execution_count": null,
   "metadata": {
    "collapsed": false
   },
   "outputs": [],
   "source": [
    "mgi_smooth = sitk.SmoothingRecursiveGaussian(mgi,1.25)\n",
    "myshow(mgi_smooth)"
   ]
  },
  {
   "cell_type": "code",
   "execution_count": null,
   "metadata": {
    "collapsed": false
   },
   "outputs": [],
   "source": [
    "div = sitk.DivideImageFilter()\n",
    "edgemap_s = div.Execute(1.0,mgi_smooth)\n",
    "myshow(edgemap_s)\n",
    "\n",
    "totalStats = sitk.StatisticsImageFilter()\n",
    "totalStats.Execute(edgemap_s)\n",
    "print(totalStats.GetMaximum())\n",
    "print(totalStats.GetMinimum())\n",
    "print(totalStats.GetMean())\n",
    "\n",
    "edge_smooth_arr = sitk.GetArrayFromImage(edgemap_s)\n",
    "\n",
    "print(edge_smooth_arr.dtype)\n",
    "print(edge_smooth_arr.shape)\n",
    "print(np.amax(edge_smooth_arr))\n",
    "print(np.amin(edge_smooth_arr))\n",
    "print(np.mean(edge_smooth_arr))\n",
    "\n",
    "edge_smooth_arr = np.clip(edge_smooth_arr,np.amin(edge_smooth_arr),1.0)\n",
    "\n",
    "print(\"-----\")\n",
    "print(edge_smooth_arr.dtype)\n",
    "print(edge_smooth_arr.shape)\n",
    "print(np.amax(edge_smooth_arr))\n",
    "print(np.amin(edge_smooth_arr))\n",
    "print(np.mean(edge_smooth_arr))\n",
    "\n",
    "scipy.io.savemat(os.path.join(MatlabFilesDir,'edgemask_tmp_s.mat'), mdict={'edgemask': edge_smooth_arr})"
   ]
  },
  {
   "cell_type": "code",
   "execution_count": null,
   "metadata": {
    "collapsed": true
   },
   "outputs": [],
   "source": []
  },
  {
   "cell_type": "code",
   "execution_count": null,
   "metadata": {
    "collapsed": true
   },
   "outputs": [],
   "source": []
  },
  {
   "cell_type": "code",
   "execution_count": null,
   "metadata": {
    "collapsed": false
   },
   "outputs": [],
   "source": [
    "edgemap_smooth = sitk.SmoothingRecursiveGaussian(edgemap,2)\n",
    "myshow(edgemap_smooth)\n",
    "\n",
    "totalStats = sitk.StatisticsImageFilter()\n",
    "totalStats.Execute(edgemap_smooth)\n",
    "print(totalStats.GetMaximum())\n",
    "print(totalStats.GetMinimum())\n",
    "print(totalStats.GetMean())\n",
    "\n",
    "'''\n",
    "def NormalizeBetweenZeroAndOne(image):\n",
    "    image_double = sitk.Cast(image, sitk.sitkFloat32)\n",
    "    # new range\n",
    "    newMax=1.0\n",
    "    newMin=0\n",
    "    # Find old range\n",
    "    totalStats = sitk.StatisticsImageFilter()\n",
    "    totalStats.Execute(image_double)\n",
    "    oldMax=totalStats.GetMaximum()\n",
    "    oldMin=totalStats.GetMinimum()\n",
    "    f=(newMax-newMin)/(oldMax-oldMin)\n",
    "    Normalized_image = (image_double-oldMin)*f+newMin\n",
    "    return Normalized_image\n",
    "\n",
    "edgemap_smooth = NormalizeBetweenZeroAndOne(edgemap_smooth)\n",
    "'''\n",
    "\n",
    "edge_smooth_arr = sitk.GetArrayFromImage(edgemap_smooth)\n",
    "\n",
    "print(edge_smooth_arr.dtype)\n",
    "print(edge_smooth_arr.shape)\n",
    "print(np.amax(edge_smooth_arr))\n",
    "print(np.amin(edge_smooth_arr))\n",
    "print(np.mean(edge_smooth_arr))\n",
    "\n",
    "edge_smooth_arr = np.clip(edge_smooth_arr,np.amin(edge_smooth_arr),1.0)\n",
    "\n",
    "print(\"-----\")\n",
    "print(edge_smooth_arr.dtype)\n",
    "print(edge_smooth_arr.shape)\n",
    "print(np.amax(edge_smooth_arr))\n",
    "print(np.amin(edge_smooth_arr))\n",
    "print(np.mean(edge_smooth_arr))"
   ]
  },
  {
   "cell_type": "code",
   "execution_count": null,
   "metadata": {
    "collapsed": true
   },
   "outputs": [],
   "source": [
    "scipy.io.savemat(os.path.join(MatlabFilesDir,'edgemask_Q75_Sig2.mat'), mdict={'edgemask': edge_smooth_arr})"
   ]
  },
  {
   "cell_type": "markdown",
   "metadata": {},
   "source": [
    "# Create edge map image from T1/T2 based on traditional method"
   ]
  },
  {
   "cell_type": "code",
   "execution_count": null,
   "metadata": {
    "collapsed": false
   },
   "outputs": [],
   "source": [
    "MGI = GenerateSummedGradientImage() # Maximum Gradient Image\n",
    "MGI.inputs.inputVolume1 = input_hcp_t1\n",
    "MGI.inputs.inputVolume2 = input_hcp_t2\n",
    "MGI.inputs.MaximumGradient = True\n",
    "MGI.inputs.outputFileName = os.path.join(OutputDir,'MaximumGradientImage.nii.gz')\n",
    "print(MGI.cmdline)\n",
    "MGI.run()"
   ]
  },
  {
   "cell_type": "code",
   "execution_count": null,
   "metadata": {
    "collapsed": false
   },
   "outputs": [],
   "source": [
    "mgi = sitk.ReadImage(MGI.inputs.outputFileName)\n",
    "myshow(mgi)\n",
    "\n",
    "totalStats = sitk.StatisticsImageFilter()\n",
    "totalStats.Execute(mgi)\n",
    "print(totalStats.GetMaximum())\n",
    "print(totalStats.GetMinimum())"
   ]
  },
  {
   "cell_type": "code",
   "execution_count": null,
   "metadata": {
    "collapsed": false
   },
   "outputs": [],
   "source": [
    "mgi = sitk.Cast(mgi,sitk.sitkFloat32)\n",
    "div = sitk.DivideImageFilter()\n",
    "edgeMask = div.Execute(1.0,mgi)\n",
    "myshow(edgeMask)\n",
    "\n",
    "totalStats = sitk.StatisticsImageFilter()\n",
    "totalStats.Execute(edgeMask)\n",
    "print(totalStats.GetMaximum())\n",
    "print(totalStats.GetMinimum())"
   ]
  },
  {
   "cell_type": "code",
   "execution_count": null,
   "metadata": {
    "collapsed": false
   },
   "outputs": [],
   "source": [
    "sitk.WriteImage(edgeMask,os.path.join(OutputDir,'edgeMask.nii.gz'))"
   ]
  },
  {
   "cell_type": "code",
   "execution_count": null,
   "metadata": {
    "collapsed": true
   },
   "outputs": [],
   "source": [
    "edge_arr2 = sitk.GetArrayFromImage(edgeMask)\n",
    "\n",
    "import scipy.io\n",
    "scipy.io.savemat(os.path.join(MatlabFilesDir,'edgemask_old.mat'), mdict={'edgemask': edge_arr2})"
   ]
  },
  {
   "cell_type": "markdown",
   "metadata": {},
   "source": [
    "# Extract dwi_b0 image"
   ]
  },
  {
   "cell_type": "code",
   "execution_count": null,
   "metadata": {
    "collapsed": true
   },
   "outputs": [],
   "source": [
    "dwi_data,dwi_header,bvecs,bvals,gradient_index = ReadNAMICDWIFromNrrd(input_hcp_dwi)"
   ]
  },
  {
   "cell_type": "code",
   "execution_count": null,
   "metadata": {
    "collapsed": false
   },
   "outputs": [],
   "source": [
    "print(gradient_index)"
   ]
  },
  {
   "cell_type": "code",
   "execution_count": null,
   "metadata": {
    "collapsed": false
   },
   "outputs": [],
   "source": [
    "print(dwi_data.shape)\n",
    "print(dwi_data.shape[gradient_index])"
   ]
  },
  {
   "cell_type": "code",
   "execution_count": null,
   "metadata": {
    "collapsed": false
   },
   "outputs": [],
   "source": [
    "print(dwi_header)"
   ]
  },
  {
   "cell_type": "code",
   "execution_count": null,
   "metadata": {
    "collapsed": false
   },
   "outputs": [],
   "source": [
    "# Now extract b0 component of the 4D DWI array\n",
    "dwi_b0 = dwi_data[:,:,:,0]\n",
    "print(dwi_b0.shape)"
   ]
  },
  {
   "cell_type": "markdown",
   "metadata": {},
   "source": [
    "To convert the above numpy array to a b0 image, we need careful attention to the order of index and dimensions.\n",
    "\n",
    "ITK's Image class does not have a bracket operator. It has a GetPixel which takes an ITK Index object as an argument, which is an array ordered as (x,y,z). This is the convention that SimpleITK's Image class uses for the GetPixel method as well.\n",
    "\n",
    "While in numpy, an array is indexed in the opposite order (z,y,x)."
   ]
  },
  {
   "cell_type": "code",
   "execution_count": null,
   "metadata": {
    "collapsed": true
   },
   "outputs": [],
   "source": [
    "dwi_b0 = np.transpose(dwi_b0,(2, 1, 0))"
   ]
  },
  {
   "cell_type": "code",
   "execution_count": null,
   "metadata": {
    "collapsed": false
   },
   "outputs": [],
   "source": [
    "print(dwi_b0.dtype)\n",
    "print(dwi_b0.shape)\n",
    "print(np.amax(dwi_b0))\n",
    "print(np.amin(dwi_b0))\n",
    "print(np.mean(dwi_b0))"
   ]
  },
  {
   "cell_type": "code",
   "execution_count": null,
   "metadata": {
    "collapsed": false
   },
   "outputs": [],
   "source": [
    "dwi_b0_img = sitk.GetImageFromArray(dwi_b0)\n",
    "print(dwi_b0_img.GetSize())\n",
    "myshow(dwi_b0_img)"
   ]
  },
  {
   "cell_type": "code",
   "execution_count": null,
   "metadata": {
    "collapsed": false
   },
   "outputs": [],
   "source": [
    "# First read input DWI to get direction and origin\n",
    "in_dwi = sitk.ReadImage(input_hcp_dwi)\n",
    "\n",
    "dwi_b0_img = sitk.GetImageFromArray(dwi_b0)\n",
    "dwi_b0_img.SetOrigin(in_dwi.GetOrigin())\n",
    "dwi_b0_img.SetDirection(in_dwi.GetDirection())\n",
    "dwi_b0_img.SetSpacing(in_dwi.GetSpacing())\n",
    "\n",
    "print(dwi_b0_img.GetSize())\n",
    "myshow(dwi_b0_img)\n",
    "sitk.WriteImage(dwi_b0_img,os.path.join(OutputDir,'dwi_b0_normalized.nrrd'))"
   ]
  },
  {
   "cell_type": "code",
   "execution_count": null,
   "metadata": {
    "collapsed": false
   },
   "outputs": [],
   "source": [
    "# Write the normalized array to a matlab file\n",
    "#\n",
    "scipy.io.savemat(os.path.join(MatlabFilesDir,'dwi_b0.mat'), mdict={'inputImage': dwi_b0})"
   ]
  },
  {
   "cell_type": "markdown",
   "metadata": {},
   "source": [
    "# Extract dwi_b0 image in a traditional way"
   ]
  },
  {
   "cell_type": "code",
   "execution_count": null,
   "metadata": {
    "collapsed": false
   },
   "outputs": [],
   "source": [
    "dwi_fn='/scratch/TESTS/IpythonNotebook/20160615_HCPWF/mainWF/Outputs/DWI_corrected_alignedSpace.nrrd'\n",
    "\n",
    "# Now we read dwi image and extract its b0\n",
    "myExtracter = extractNrrdVectorIndex()\n",
    "myExtracter.inputs.inputVolume = dwi_fn\n",
    "myExtracter.inputs.vectorIndex = 0\n",
    "myExtracter.inputs.outputVolume = os.path.join(OutputDir,'dwi_b0_extracted.nrrd')\n",
    "print(myExtracter.cmdline)\n",
    "myExtracter.run()"
   ]
  },
  {
   "cell_type": "code",
   "execution_count": null,
   "metadata": {
    "collapsed": false
   },
   "outputs": [],
   "source": [
    "dwi_b0 = sitk.ReadImage(myExtracter.inputs.outputVolume)\n",
    "myshow(dwi_b0)"
   ]
  },
  {
   "cell_type": "code",
   "execution_count": null,
   "metadata": {
    "collapsed": true
   },
   "outputs": [],
   "source": [
    "def NormalizeBetweenZeroAndOne(image):\n",
    "    image_double = sitk.Cast(image, sitk.sitkFloat32)\n",
    "    # new range\n",
    "    newMax=1.0\n",
    "    newMin=0\n",
    "    # Find old range\n",
    "    totalStats = sitk.StatisticsImageFilter()\n",
    "    totalStats.Execute(image_double)\n",
    "    oldMax=totalStats.GetMaximum()\n",
    "    oldMin=totalStats.GetMinimum()\n",
    "    f=(newMax-newMin)/(oldMax-oldMin)\n",
    "    Normalized_image = (image_double-oldMin)*f+newMin\n",
    "    return Normalized_image"
   ]
  },
  {
   "cell_type": "code",
   "execution_count": null,
   "metadata": {
    "collapsed": true
   },
   "outputs": [],
   "source": [
    "# Now normalize dwi_b0 to have values between 0 and 1\n",
    "dwi_b0 = NormalizeBetweenZeroAndOne(dwi_b0)\n",
    "dwi_im_arr = sitk.GetArrayFromImage(dwi_b0)\n",
    "\n",
    "import scipy.io\n",
    "scipy.io.savemat(os.path.join(MatlabFilesDir,'dwib0_traditionalway.mat'), mdict={'inputImage': dwi_im_arr})"
   ]
  },
  {
   "cell_type": "code",
   "execution_count": null,
   "metadata": {
    "collapsed": true
   },
   "outputs": [],
   "source": []
  },
  {
   "cell_type": "code",
   "execution_count": null,
   "metadata": {
    "collapsed": true
   },
   "outputs": [],
   "source": []
  },
  {
   "cell_type": "code",
   "execution_count": null,
   "metadata": {
    "collapsed": true
   },
   "outputs": [],
   "source": []
  },
  {
   "cell_type": "code",
   "execution_count": null,
   "metadata": {
    "collapsed": true
   },
   "outputs": [],
   "source": []
  },
  {
   "cell_type": "code",
   "execution_count": null,
   "metadata": {
    "collapsed": true
   },
   "outputs": [],
   "source": []
  },
  {
   "cell_type": "code",
   "execution_count": null,
   "metadata": {
    "collapsed": true
   },
   "outputs": [],
   "source": []
  },
  {
   "cell_type": "code",
   "execution_count": null,
   "metadata": {
    "collapsed": true
   },
   "outputs": [],
   "source": []
  },
  {
   "cell_type": "code",
   "execution_count": null,
   "metadata": {
    "collapsed": true
   },
   "outputs": [],
   "source": []
  },
  {
   "cell_type": "code",
   "execution_count": null,
   "metadata": {
    "collapsed": true
   },
   "outputs": [],
   "source": []
  },
  {
   "cell_type": "code",
   "execution_count": null,
   "metadata": {
    "collapsed": true
   },
   "outputs": [],
   "source": []
  },
  {
   "cell_type": "code",
   "execution_count": null,
   "metadata": {
    "collapsed": true
   },
   "outputs": [],
   "source": []
  },
  {
   "cell_type": "code",
   "execution_count": null,
   "metadata": {
    "collapsed": true
   },
   "outputs": [],
   "source": []
  },
  {
   "cell_type": "code",
   "execution_count": null,
   "metadata": {
    "collapsed": true
   },
   "outputs": [],
   "source": []
  },
  {
   "cell_type": "code",
   "execution_count": null,
   "metadata": {
    "collapsed": true
   },
   "outputs": [],
   "source": [
    "# Normalize array between zero and one\n",
    "def NormalizeBetweenZeroAndOne(arr):   \n",
    "    newMax = 1.0\n",
    "    newMin = 0.0\n",
    "    #\n",
    "    oldMax = float(np.amax(arr))\n",
    "    oldMin = float(np.amin(arr))\n",
    "    #\n",
    "    f=(newMax-newMin)/(oldMax-oldMin)\n",
    "    normalized_arr = (arr-oldMin)*f+newMin\n",
    "    return normalized_arr\n",
    "\n",
    "dwi_b0_normalized = NormalizeBetweenZeroAndOne(dwi_b0)"
   ]
  },
  {
   "cell_type": "code",
   "execution_count": null,
   "metadata": {
    "collapsed": false
   },
   "outputs": [],
   "source": [
    "'''\n",
    "print(dwi_b0_normalized.dtype)\n",
    "print(dwi_b0_normalized.shape)\n",
    "print(np.amax(dwi_b0_normalized))\n",
    "print(np.amin(dwi_b0_normalized))\n",
    "print(np.mean(dwi_b0_normalized))\n",
    "'''"
   ]
  },
  {
   "cell_type": "code",
   "execution_count": null,
   "metadata": {
    "collapsed": true
   },
   "outputs": [],
   "source": [
    "# Write the normalized array to a matlab file\n",
    "#\n",
    "scipy.io.savemat(os.path.join(MatlabFilesDir,'dwi_b0.mat'), mdict={'inputImage': dwi_b0_normalized})"
   ]
  },
  {
   "cell_type": "markdown",
   "metadata": {},
   "source": [
    "Note that if you want to write the extracted b0 image to disk, you need to get correct \"origin\", \"spacing\" and \"direction cosign\" from the input DWI data."
   ]
  },
  {
   "cell_type": "code",
   "execution_count": null,
   "metadata": {
    "collapsed": false
   },
   "outputs": [],
   "source": [
    "# Show b0 image\n",
    "'''\n",
    "# First read input DWI to get direction and origin\n",
    "in_dwi = sitk.ReadImage(input_hcp_dwi)\n",
    "\n",
    "dwi_b0_img = sitk.GetImageFromArray(dwi_b0)\n",
    "dwi_b0_img.SetOrigin(in_dwi.GetOrigin())\n",
    "dwi_b0_img.SetDirection(in_dwi.GetDirection())\n",
    "dwi_b0_img.SetSpacing(in_dwi.GetSpacing())\n",
    "\n",
    "print(dwi_b0_img.GetSize())\n",
    "myshow(dwi_b0_img)\n",
    "sitk.WriteImage(dwi_b0_img,os.path.join(OutputDir,'dwi_b0.nrrd'))\n",
    "'''"
   ]
  },
  {
   "cell_type": "markdown",
   "metadata": {},
   "source": [
    "Also, note that after permutation of dwi_data, now dipy can be used to create the correct tensor model for DWI data. Following runs a test and shows the FA image.\n",
    "\n",
    "This step is not needed for the purpose of this ticket; however, it will be needed when we are going to compute distance images from the HCP baseline data and the reconstructed images."
   ]
  },
  {
   "cell_type": "code",
   "execution_count": null,
   "metadata": {
    "collapsed": false
   },
   "outputs": [],
   "source": [
    "# Compute tensorfit\n",
    "'''\n",
    "from dipy.core.gradients import gradient_table\n",
    "gtab = gradient_table(bvals, bvecs)\n",
    "\n",
    "from dipy.reconst.dti import TensorModel\n",
    "ten = TensorModel(gtab)\n",
    "tenfit = ten.fit(dwi_data)\n",
    "'''"
   ]
  },
  {
   "cell_type": "code",
   "execution_count": null,
   "metadata": {
    "collapsed": false
   },
   "outputs": [],
   "source": [
    "# Show FA image\n",
    "'''\n",
    "fa = tenfit.fa\n",
    "fa = np.transpose(fa,(2, 1, 0)) # the reason is inconsistency between index order in numpy and ITK\n",
    "\n",
    "FA = sitk.GetImageFromArray(fa)\n",
    "FA.SetOrigin(in_dwi.GetOrigin())\n",
    "FA.SetDirection(in_dwi.GetDirection())\n",
    "FA.SetSpacing(in_dwi.GetSpacing())\n",
    "\n",
    "maskf64 = sitk.Cast(brainmask, sitk.sitkFloat64)\n",
    "FA = sitk.Multiply(FA,maskf64)\n",
    "\n",
    "myshow(FA)\n",
    "sitk.WriteImage(FA,os.path.join(OutputDir,'FA.nrrd'))\n",
    "'''"
   ]
  },
  {
   "cell_type": "markdown",
   "metadata": {},
   "source": [
    "# Run 3D SuperResolution from Matlab on Each component"
   ]
  },
  {
   "cell_type": "code",
   "execution_count": null,
   "metadata": {
    "collapsed": true
   },
   "outputs": [],
   "source": []
  }
 ],
 "metadata": {
  "kernelspec": {
   "display_name": "Python 2",
   "language": "python",
   "name": "python2"
  },
  "language_info": {
   "codemirror_mode": {
    "name": "ipython",
    "version": 2
   },
   "file_extension": ".py",
   "mimetype": "text/x-python",
   "name": "python",
   "nbconvert_exporter": "python",
   "pygments_lexer": "ipython2",
   "version": "2.7.11"
  }
 },
 "nbformat": 4,
 "nbformat_minor": 0
}
